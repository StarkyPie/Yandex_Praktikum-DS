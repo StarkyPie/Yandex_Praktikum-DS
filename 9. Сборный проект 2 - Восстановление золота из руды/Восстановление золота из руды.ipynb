{
 "cells": [
  {
   "cell_type": "markdown",
   "metadata": {
    "toc": true
   },
   "source": [
    "<h1>Содержание<span class=\"tocSkip\"></span></h1>\n",
    "<div class=\"toc\"><ul class=\"toc-item\"><li><span><a href=\"#Подготовка-данных\" data-toc-modified-id=\"Подготовка-данных-1\"><span class=\"toc-item-num\">1&nbsp;&nbsp;</span>Подготовка данных</a></span><ul class=\"toc-item\"><li><span><a href=\"#Обзор-данных\" data-toc-modified-id=\"Обзор-данных-1.1\"><span class=\"toc-item-num\">1.1&nbsp;&nbsp;</span>Обзор данных</a></span></li><li><span><a href=\"#Проверка,-что-эффективность-обогащения-рассчитана-правильно\" data-toc-modified-id=\"Проверка,-что-эффективность-обогащения-рассчитана-правильно-1.2\"><span class=\"toc-item-num\">1.2&nbsp;&nbsp;</span>Проверка, что эффективность обогащения рассчитана правильно</a></span></li><li><span><a href=\"#Проанализируем-признаки,-недоступные-в-тестовой-выборке\" data-toc-modified-id=\"Проанализируем-признаки,-недоступные-в-тестовой-выборке-1.3\"><span class=\"toc-item-num\">1.3&nbsp;&nbsp;</span>Проанализируем признаки, недоступные в тестовой выборке</a></span></li><li><span><a href=\"#Предобработка-данных\" data-toc-modified-id=\"Предобработка-данных-1.4\"><span class=\"toc-item-num\">1.4&nbsp;&nbsp;</span>Предобработка данных</a></span></li></ul></li><li><span><a href=\"#Анализ-данных\" data-toc-modified-id=\"Анализ-данных-2\"><span class=\"toc-item-num\">2&nbsp;&nbsp;</span>Анализ данных</a></span><ul class=\"toc-item\"><li><span><a href=\"#Посмотрим,-как-меняется-концентрация-металлов-(Au,-Ag,-Pb)-на-различных-этапах-очистки.\" data-toc-modified-id=\"Посмотрим,-как-меняется-концентрация-металлов-(Au,-Ag,-Pb)-на-различных-этапах-очистки.-2.1\"><span class=\"toc-item-num\">2.1&nbsp;&nbsp;</span>Посмотрим, как меняется концентрация металлов (Au, Ag, Pb) на различных этапах очистки.</a></span></li><li><span><a href=\"#Сравним-распределения-размеров-гранул-сырья-на-обучающей-и-тестовой-выборках\" data-toc-modified-id=\"Сравним-распределения-размеров-гранул-сырья-на-обучающей-и-тестовой-выборках-2.2\"><span class=\"toc-item-num\">2.2&nbsp;&nbsp;</span>Сравним распределения размеров гранул сырья на обучающей и тестовой выборках</a></span></li><li><span><a href=\"#Исследуем-суммарную-концентрацию-всех-веществ-на-разных-стадиях\" data-toc-modified-id=\"Исследуем-суммарную-концентрацию-всех-веществ-на-разных-стадиях-2.3\"><span class=\"toc-item-num\">2.3&nbsp;&nbsp;</span>Исследуем суммарную концентрацию всех веществ на разных стадиях</a></span></li></ul></li><li><span><a href=\"#Модель\" data-toc-modified-id=\"Модель-3\"><span class=\"toc-item-num\">3&nbsp;&nbsp;</span>Модель</a></span><ul class=\"toc-item\"><li><span><a href=\"#Функция-для-вычисления-итоговой-sMAPE\" data-toc-modified-id=\"Функция-для-вычисления-итоговой-sMAPE-3.1\"><span class=\"toc-item-num\">3.1&nbsp;&nbsp;</span>Функция для вычисления итоговой sMAPE</a></span></li><li><span><a href=\"#Обучим-разные-модели-и-оценим-их-качество-кросс-валидацией\" data-toc-modified-id=\"Обучим-разные-модели-и-оценим-их-качество-кросс-валидацией-3.2\"><span class=\"toc-item-num\">3.2&nbsp;&nbsp;</span>Обучим разные модели и оценим их качество кросс-валидацией</a></span></li></ul></li><li><span><a href=\"#Общий-вывод\" data-toc-modified-id=\"Общий-вывод-4\"><span class=\"toc-item-num\">4&nbsp;&nbsp;</span>Общий вывод</a></span></li><li><span><a href=\"#Чек-лист-готовности-проекта\" data-toc-modified-id=\"Чек-лист-готовности-проекта-5\"><span class=\"toc-item-num\">5&nbsp;&nbsp;</span>Чек-лист готовности проекта</a></span></li></ul></div>"
   ]
  },
  {
   "cell_type": "markdown",
   "metadata": {},
   "source": [
    "# Восстановление золота из руды"
   ]
  },
  {
   "cell_type": "markdown",
   "metadata": {},
   "source": [
    "Подготовьте прототип модели машинного обучения для «Цифры». Компания разрабатывает решения для эффективной работы промышленных предприятий.\n",
    "\n",
    "Модель должна предсказать коэффициент восстановления золота из золотосодержащей руды. Используйте данные с параметрами добычи и очистки. \n",
    "\n",
    "Модель поможет оптимизировать производство, чтобы не запускать предприятие с убыточными характеристиками.\n",
    "\n",
    "**Цель исследования** - выполнить следующие задачи:\n",
    "\n",
    "1. Подготовить данные;\n",
    "2. Провести исследовательский анализ данных;\n",
    "3. Построить и обучить модель.\n",
    "\n",
    "**Ход исследования** \n",
    "\n",
    "Данные находятся в трёх файлах: `gold_recovery_train_new.csv`, `gold_recovery_test_new.csv`, `gold_recovery_full_new.csv`. В нашем распоряжении сырые данные: их просто выгрузили из хранилища. Прежде чем приступить к построению модели, проверим их на корректность.\n",
    "\n",
    "После подготовки данных займёмся анализом, а после построим модели.\n",
    "\n",
    "**Описание данных**\n",
    "\n",
    "Технологический процесс\n",
    "\n",
    "* Rougher feed — исходное сырье\n",
    "* Rougher additions (или reagent additions) — флотационные реагенты: Xanthate, Sulphate, Depressant\n",
    "* Xanthate — ксантогенат (промотер, или активатор флотации);\n",
    "* Sulphate — сульфат (на данном производстве сульфид натрия);\n",
    "* Depressant — депрессант (силикат натрия).\n",
    "* Rougher process (англ. «грубый процесс») — флотация\n",
    "* Rougher tails — отвальные хвосты\n",
    "* Float banks — флотационная установка\n",
    "* Cleaner process — очистка\n",
    "* Rougher Au — черновой концентрат золота\n",
    "* Final Au — финальный концентрат золота\n",
    "\n",
    "Параметры этапов\n",
    "\n",
    "* air amount — объём воздуха\n",
    "* fluid levels — уровень жидкости\n",
    "* feed size — размер гранул сырья\n",
    "* feed rate — скорость подачи\n",
    "\n",
    "**Наименование признаков должно быть такое:**\n",
    "\n",
    "[этап].[тип_параметра].[название_параметра]\n",
    "\n",
    "Пример: rougher.input.feed_ag\n",
    "\n",
    "Возможные значения для блока [этап]:\n",
    "* rougher — флотация\n",
    "* primary_cleaner — первичная очистка\n",
    "* secondary_cleaner — вторичная очистка\n",
    "* final — финальные характеристики\n",
    "\n",
    "Возможные значения для блока [тип_параметра]:\n",
    "* input — параметры сырья\n",
    "* output — параметры продукта\n",
    "* state — параметры, характеризующие текущее состояние этапа\n",
    "* calculation — расчётные характеристики\n"
   ]
  },
  {
   "cell_type": "markdown",
   "metadata": {},
   "source": [
    "## Подготовка данных"
   ]
  },
  {
   "cell_type": "markdown",
   "metadata": {},
   "source": [
    "### Обзор данных"
   ]
  },
  {
   "cell_type": "code",
   "execution_count": 1,
   "metadata": {},
   "outputs": [],
   "source": [
    "#подключим необходимые библиотеки\n",
    "import pandas as pd\n",
    "import matplotlib.pyplot as plt\n",
    "import numpy as np\n",
    "import seaborn as sns\n",
    "from sklearn.tree import DecisionTreeRegressor\n",
    "from sklearn.ensemble import RandomForestRegressor\n",
    "from sklearn.linear_model import LinearRegression\n",
    "from sklearn.metrics import r2_score\n",
    "from sklearn.metrics import mean_absolute_error\n",
    "from sklearn.metrics import make_scorer\n",
    "from sklearn.preprocessing import StandardScaler\n",
    "from sklearn.model_selection import cross_val_score\n",
    "from sklearn.pipeline import make_pipeline\n"
   ]
  },
  {
   "cell_type": "code",
   "execution_count": 2,
   "metadata": {},
   "outputs": [],
   "source": [
    "#прочитаем файлы\n",
    "g_train = pd.read_csv('/datasets/gold_recovery_train_new.csv')\n",
    "g_test = pd.read_csv('/datasets/gold_recovery_test_new.csv')\n",
    "g_full = pd.read_csv('/datasets/gold_recovery_full_new.csv')"
   ]
  },
  {
   "cell_type": "code",
   "execution_count": 3,
   "metadata": {},
   "outputs": [
    {
     "data": {
      "text/html": [
       "<div>\n",
       "<style scoped>\n",
       "    .dataframe tbody tr th:only-of-type {\n",
       "        vertical-align: middle;\n",
       "    }\n",
       "\n",
       "    .dataframe tbody tr th {\n",
       "        vertical-align: top;\n",
       "    }\n",
       "\n",
       "    .dataframe thead th {\n",
       "        text-align: right;\n",
       "    }\n",
       "</style>\n",
       "<table border=\"1\" class=\"dataframe\">\n",
       "  <thead>\n",
       "    <tr style=\"text-align: right;\">\n",
       "      <th></th>\n",
       "      <th>date</th>\n",
       "      <th>final.output.concentrate_ag</th>\n",
       "      <th>final.output.concentrate_pb</th>\n",
       "      <th>final.output.concentrate_sol</th>\n",
       "      <th>final.output.concentrate_au</th>\n",
       "      <th>final.output.recovery</th>\n",
       "      <th>final.output.tail_ag</th>\n",
       "      <th>final.output.tail_pb</th>\n",
       "      <th>final.output.tail_sol</th>\n",
       "      <th>final.output.tail_au</th>\n",
       "      <th>...</th>\n",
       "      <th>secondary_cleaner.state.floatbank4_a_air</th>\n",
       "      <th>secondary_cleaner.state.floatbank4_a_level</th>\n",
       "      <th>secondary_cleaner.state.floatbank4_b_air</th>\n",
       "      <th>secondary_cleaner.state.floatbank4_b_level</th>\n",
       "      <th>secondary_cleaner.state.floatbank5_a_air</th>\n",
       "      <th>secondary_cleaner.state.floatbank5_a_level</th>\n",
       "      <th>secondary_cleaner.state.floatbank5_b_air</th>\n",
       "      <th>secondary_cleaner.state.floatbank5_b_level</th>\n",
       "      <th>secondary_cleaner.state.floatbank6_a_air</th>\n",
       "      <th>secondary_cleaner.state.floatbank6_a_level</th>\n",
       "    </tr>\n",
       "  </thead>\n",
       "  <tbody>\n",
       "    <tr>\n",
       "      <th>0</th>\n",
       "      <td>2016-01-15 00:00:00</td>\n",
       "      <td>6.055403</td>\n",
       "      <td>9.889648</td>\n",
       "      <td>5.507324</td>\n",
       "      <td>42.192020</td>\n",
       "      <td>70.541216</td>\n",
       "      <td>10.411962</td>\n",
       "      <td>0.895447</td>\n",
       "      <td>16.904297</td>\n",
       "      <td>2.143149</td>\n",
       "      <td>...</td>\n",
       "      <td>14.016835</td>\n",
       "      <td>-502.488007</td>\n",
       "      <td>12.099931</td>\n",
       "      <td>-504.715942</td>\n",
       "      <td>9.925633</td>\n",
       "      <td>-498.310211</td>\n",
       "      <td>8.079666</td>\n",
       "      <td>-500.470978</td>\n",
       "      <td>14.151341</td>\n",
       "      <td>-605.841980</td>\n",
       "    </tr>\n",
       "    <tr>\n",
       "      <th>1</th>\n",
       "      <td>2016-01-15 01:00:00</td>\n",
       "      <td>6.029369</td>\n",
       "      <td>9.968944</td>\n",
       "      <td>5.257781</td>\n",
       "      <td>42.701629</td>\n",
       "      <td>69.266198</td>\n",
       "      <td>10.462676</td>\n",
       "      <td>0.927452</td>\n",
       "      <td>16.634514</td>\n",
       "      <td>2.224930</td>\n",
       "      <td>...</td>\n",
       "      <td>13.992281</td>\n",
       "      <td>-505.503262</td>\n",
       "      <td>11.950531</td>\n",
       "      <td>-501.331529</td>\n",
       "      <td>10.039245</td>\n",
       "      <td>-500.169983</td>\n",
       "      <td>7.984757</td>\n",
       "      <td>-500.582168</td>\n",
       "      <td>13.998353</td>\n",
       "      <td>-599.787184</td>\n",
       "    </tr>\n",
       "    <tr>\n",
       "      <th>2</th>\n",
       "      <td>2016-01-15 02:00:00</td>\n",
       "      <td>6.055926</td>\n",
       "      <td>10.213995</td>\n",
       "      <td>5.383759</td>\n",
       "      <td>42.657501</td>\n",
       "      <td>68.116445</td>\n",
       "      <td>10.507046</td>\n",
       "      <td>0.953716</td>\n",
       "      <td>16.208849</td>\n",
       "      <td>2.257889</td>\n",
       "      <td>...</td>\n",
       "      <td>14.015015</td>\n",
       "      <td>-502.520901</td>\n",
       "      <td>11.912783</td>\n",
       "      <td>-501.133383</td>\n",
       "      <td>10.070913</td>\n",
       "      <td>-500.129135</td>\n",
       "      <td>8.013877</td>\n",
       "      <td>-500.517572</td>\n",
       "      <td>14.028663</td>\n",
       "      <td>-601.427363</td>\n",
       "    </tr>\n",
       "    <tr>\n",
       "      <th>3</th>\n",
       "      <td>2016-01-15 03:00:00</td>\n",
       "      <td>6.047977</td>\n",
       "      <td>9.977019</td>\n",
       "      <td>4.858634</td>\n",
       "      <td>42.689819</td>\n",
       "      <td>68.347543</td>\n",
       "      <td>10.422762</td>\n",
       "      <td>0.883763</td>\n",
       "      <td>16.532835</td>\n",
       "      <td>2.146849</td>\n",
       "      <td>...</td>\n",
       "      <td>14.036510</td>\n",
       "      <td>-500.857308</td>\n",
       "      <td>11.999550</td>\n",
       "      <td>-501.193686</td>\n",
       "      <td>9.970366</td>\n",
       "      <td>-499.201640</td>\n",
       "      <td>7.977324</td>\n",
       "      <td>-500.255908</td>\n",
       "      <td>14.005551</td>\n",
       "      <td>-599.996129</td>\n",
       "    </tr>\n",
       "    <tr>\n",
       "      <th>4</th>\n",
       "      <td>2016-01-15 04:00:00</td>\n",
       "      <td>6.148599</td>\n",
       "      <td>10.142511</td>\n",
       "      <td>4.939416</td>\n",
       "      <td>42.774141</td>\n",
       "      <td>66.927016</td>\n",
       "      <td>10.360302</td>\n",
       "      <td>0.792826</td>\n",
       "      <td>16.525686</td>\n",
       "      <td>2.055292</td>\n",
       "      <td>...</td>\n",
       "      <td>14.027298</td>\n",
       "      <td>-499.838632</td>\n",
       "      <td>11.953070</td>\n",
       "      <td>-501.053894</td>\n",
       "      <td>9.925709</td>\n",
       "      <td>-501.686727</td>\n",
       "      <td>7.894242</td>\n",
       "      <td>-500.356035</td>\n",
       "      <td>13.996647</td>\n",
       "      <td>-601.496691</td>\n",
       "    </tr>\n",
       "  </tbody>\n",
       "</table>\n",
       "<p>5 rows × 87 columns</p>\n",
       "</div>"
      ],
      "text/plain": [
       "                  date  final.output.concentrate_ag  \\\n",
       "0  2016-01-15 00:00:00                     6.055403   \n",
       "1  2016-01-15 01:00:00                     6.029369   \n",
       "2  2016-01-15 02:00:00                     6.055926   \n",
       "3  2016-01-15 03:00:00                     6.047977   \n",
       "4  2016-01-15 04:00:00                     6.148599   \n",
       "\n",
       "   final.output.concentrate_pb  final.output.concentrate_sol  \\\n",
       "0                     9.889648                      5.507324   \n",
       "1                     9.968944                      5.257781   \n",
       "2                    10.213995                      5.383759   \n",
       "3                     9.977019                      4.858634   \n",
       "4                    10.142511                      4.939416   \n",
       "\n",
       "   final.output.concentrate_au  final.output.recovery  final.output.tail_ag  \\\n",
       "0                    42.192020              70.541216             10.411962   \n",
       "1                    42.701629              69.266198             10.462676   \n",
       "2                    42.657501              68.116445             10.507046   \n",
       "3                    42.689819              68.347543             10.422762   \n",
       "4                    42.774141              66.927016             10.360302   \n",
       "\n",
       "   final.output.tail_pb  final.output.tail_sol  final.output.tail_au  ...  \\\n",
       "0              0.895447              16.904297              2.143149  ...   \n",
       "1              0.927452              16.634514              2.224930  ...   \n",
       "2              0.953716              16.208849              2.257889  ...   \n",
       "3              0.883763              16.532835              2.146849  ...   \n",
       "4              0.792826              16.525686              2.055292  ...   \n",
       "\n",
       "   secondary_cleaner.state.floatbank4_a_air  \\\n",
       "0                                 14.016835   \n",
       "1                                 13.992281   \n",
       "2                                 14.015015   \n",
       "3                                 14.036510   \n",
       "4                                 14.027298   \n",
       "\n",
       "   secondary_cleaner.state.floatbank4_a_level  \\\n",
       "0                                 -502.488007   \n",
       "1                                 -505.503262   \n",
       "2                                 -502.520901   \n",
       "3                                 -500.857308   \n",
       "4                                 -499.838632   \n",
       "\n",
       "   secondary_cleaner.state.floatbank4_b_air  \\\n",
       "0                                 12.099931   \n",
       "1                                 11.950531   \n",
       "2                                 11.912783   \n",
       "3                                 11.999550   \n",
       "4                                 11.953070   \n",
       "\n",
       "   secondary_cleaner.state.floatbank4_b_level  \\\n",
       "0                                 -504.715942   \n",
       "1                                 -501.331529   \n",
       "2                                 -501.133383   \n",
       "3                                 -501.193686   \n",
       "4                                 -501.053894   \n",
       "\n",
       "   secondary_cleaner.state.floatbank5_a_air  \\\n",
       "0                                  9.925633   \n",
       "1                                 10.039245   \n",
       "2                                 10.070913   \n",
       "3                                  9.970366   \n",
       "4                                  9.925709   \n",
       "\n",
       "   secondary_cleaner.state.floatbank5_a_level  \\\n",
       "0                                 -498.310211   \n",
       "1                                 -500.169983   \n",
       "2                                 -500.129135   \n",
       "3                                 -499.201640   \n",
       "4                                 -501.686727   \n",
       "\n",
       "   secondary_cleaner.state.floatbank5_b_air  \\\n",
       "0                                  8.079666   \n",
       "1                                  7.984757   \n",
       "2                                  8.013877   \n",
       "3                                  7.977324   \n",
       "4                                  7.894242   \n",
       "\n",
       "   secondary_cleaner.state.floatbank5_b_level  \\\n",
       "0                                 -500.470978   \n",
       "1                                 -500.582168   \n",
       "2                                 -500.517572   \n",
       "3                                 -500.255908   \n",
       "4                                 -500.356035   \n",
       "\n",
       "   secondary_cleaner.state.floatbank6_a_air  \\\n",
       "0                                 14.151341   \n",
       "1                                 13.998353   \n",
       "2                                 14.028663   \n",
       "3                                 14.005551   \n",
       "4                                 13.996647   \n",
       "\n",
       "   secondary_cleaner.state.floatbank6_a_level  \n",
       "0                                 -605.841980  \n",
       "1                                 -599.787184  \n",
       "2                                 -601.427363  \n",
       "3                                 -599.996129  \n",
       "4                                 -601.496691  \n",
       "\n",
       "[5 rows x 87 columns]"
      ]
     },
     "execution_count": 3,
     "metadata": {},
     "output_type": "execute_result"
    }
   ],
   "source": [
    "#выведем первые 5 строк таблиц\n",
    "g_train.head()"
   ]
  },
  {
   "cell_type": "code",
   "execution_count": 4,
   "metadata": {},
   "outputs": [
    {
     "data": {
      "text/html": [
       "<div>\n",
       "<style scoped>\n",
       "    .dataframe tbody tr th:only-of-type {\n",
       "        vertical-align: middle;\n",
       "    }\n",
       "\n",
       "    .dataframe tbody tr th {\n",
       "        vertical-align: top;\n",
       "    }\n",
       "\n",
       "    .dataframe thead th {\n",
       "        text-align: right;\n",
       "    }\n",
       "</style>\n",
       "<table border=\"1\" class=\"dataframe\">\n",
       "  <thead>\n",
       "    <tr style=\"text-align: right;\">\n",
       "      <th></th>\n",
       "      <th>date</th>\n",
       "      <th>primary_cleaner.input.sulfate</th>\n",
       "      <th>primary_cleaner.input.depressant</th>\n",
       "      <th>primary_cleaner.input.feed_size</th>\n",
       "      <th>primary_cleaner.input.xanthate</th>\n",
       "      <th>primary_cleaner.state.floatbank8_a_air</th>\n",
       "      <th>primary_cleaner.state.floatbank8_a_level</th>\n",
       "      <th>primary_cleaner.state.floatbank8_b_air</th>\n",
       "      <th>primary_cleaner.state.floatbank8_b_level</th>\n",
       "      <th>primary_cleaner.state.floatbank8_c_air</th>\n",
       "      <th>...</th>\n",
       "      <th>secondary_cleaner.state.floatbank4_a_air</th>\n",
       "      <th>secondary_cleaner.state.floatbank4_a_level</th>\n",
       "      <th>secondary_cleaner.state.floatbank4_b_air</th>\n",
       "      <th>secondary_cleaner.state.floatbank4_b_level</th>\n",
       "      <th>secondary_cleaner.state.floatbank5_a_air</th>\n",
       "      <th>secondary_cleaner.state.floatbank5_a_level</th>\n",
       "      <th>secondary_cleaner.state.floatbank5_b_air</th>\n",
       "      <th>secondary_cleaner.state.floatbank5_b_level</th>\n",
       "      <th>secondary_cleaner.state.floatbank6_a_air</th>\n",
       "      <th>secondary_cleaner.state.floatbank6_a_level</th>\n",
       "    </tr>\n",
       "  </thead>\n",
       "  <tbody>\n",
       "    <tr>\n",
       "      <th>0</th>\n",
       "      <td>2016-09-01 00:59:59</td>\n",
       "      <td>210.800909</td>\n",
       "      <td>14.993118</td>\n",
       "      <td>8.080000</td>\n",
       "      <td>1.005021</td>\n",
       "      <td>1398.981301</td>\n",
       "      <td>-500.225577</td>\n",
       "      <td>1399.144926</td>\n",
       "      <td>-499.919735</td>\n",
       "      <td>1400.102998</td>\n",
       "      <td>...</td>\n",
       "      <td>12.023554</td>\n",
       "      <td>-497.795834</td>\n",
       "      <td>8.016656</td>\n",
       "      <td>-501.289139</td>\n",
       "      <td>7.946562</td>\n",
       "      <td>-432.317850</td>\n",
       "      <td>4.872511</td>\n",
       "      <td>-500.037437</td>\n",
       "      <td>26.705889</td>\n",
       "      <td>-499.709414</td>\n",
       "    </tr>\n",
       "    <tr>\n",
       "      <th>1</th>\n",
       "      <td>2016-09-01 01:59:59</td>\n",
       "      <td>215.392455</td>\n",
       "      <td>14.987471</td>\n",
       "      <td>8.080000</td>\n",
       "      <td>0.990469</td>\n",
       "      <td>1398.777912</td>\n",
       "      <td>-500.057435</td>\n",
       "      <td>1398.055362</td>\n",
       "      <td>-499.778182</td>\n",
       "      <td>1396.151033</td>\n",
       "      <td>...</td>\n",
       "      <td>12.058140</td>\n",
       "      <td>-498.695773</td>\n",
       "      <td>8.130979</td>\n",
       "      <td>-499.634209</td>\n",
       "      <td>7.958270</td>\n",
       "      <td>-525.839648</td>\n",
       "      <td>4.878850</td>\n",
       "      <td>-500.162375</td>\n",
       "      <td>25.019940</td>\n",
       "      <td>-499.819438</td>\n",
       "    </tr>\n",
       "    <tr>\n",
       "      <th>2</th>\n",
       "      <td>2016-09-01 02:59:59</td>\n",
       "      <td>215.259946</td>\n",
       "      <td>12.884934</td>\n",
       "      <td>7.786667</td>\n",
       "      <td>0.996043</td>\n",
       "      <td>1398.493666</td>\n",
       "      <td>-500.868360</td>\n",
       "      <td>1398.860436</td>\n",
       "      <td>-499.764529</td>\n",
       "      <td>1398.075709</td>\n",
       "      <td>...</td>\n",
       "      <td>11.962366</td>\n",
       "      <td>-498.767484</td>\n",
       "      <td>8.096893</td>\n",
       "      <td>-500.827423</td>\n",
       "      <td>8.071056</td>\n",
       "      <td>-500.801673</td>\n",
       "      <td>4.905125</td>\n",
       "      <td>-499.828510</td>\n",
       "      <td>24.994862</td>\n",
       "      <td>-500.622559</td>\n",
       "    </tr>\n",
       "    <tr>\n",
       "      <th>3</th>\n",
       "      <td>2016-09-01 03:59:59</td>\n",
       "      <td>215.336236</td>\n",
       "      <td>12.006805</td>\n",
       "      <td>7.640000</td>\n",
       "      <td>0.863514</td>\n",
       "      <td>1399.618111</td>\n",
       "      <td>-498.863574</td>\n",
       "      <td>1397.440120</td>\n",
       "      <td>-499.211024</td>\n",
       "      <td>1400.129303</td>\n",
       "      <td>...</td>\n",
       "      <td>12.033091</td>\n",
       "      <td>-498.350935</td>\n",
       "      <td>8.074946</td>\n",
       "      <td>-499.474407</td>\n",
       "      <td>7.897085</td>\n",
       "      <td>-500.868509</td>\n",
       "      <td>4.931400</td>\n",
       "      <td>-499.963623</td>\n",
       "      <td>24.948919</td>\n",
       "      <td>-498.709987</td>\n",
       "    </tr>\n",
       "    <tr>\n",
       "      <th>4</th>\n",
       "      <td>2016-09-01 04:59:59</td>\n",
       "      <td>199.099327</td>\n",
       "      <td>10.682530</td>\n",
       "      <td>7.530000</td>\n",
       "      <td>0.805575</td>\n",
       "      <td>1401.268123</td>\n",
       "      <td>-500.808305</td>\n",
       "      <td>1398.128818</td>\n",
       "      <td>-499.504543</td>\n",
       "      <td>1402.172226</td>\n",
       "      <td>...</td>\n",
       "      <td>12.025367</td>\n",
       "      <td>-500.786497</td>\n",
       "      <td>8.054678</td>\n",
       "      <td>-500.397500</td>\n",
       "      <td>8.107890</td>\n",
       "      <td>-509.526725</td>\n",
       "      <td>4.957674</td>\n",
       "      <td>-500.360026</td>\n",
       "      <td>25.003331</td>\n",
       "      <td>-500.856333</td>\n",
       "    </tr>\n",
       "  </tbody>\n",
       "</table>\n",
       "<p>5 rows × 53 columns</p>\n",
       "</div>"
      ],
      "text/plain": [
       "                  date  primary_cleaner.input.sulfate  \\\n",
       "0  2016-09-01 00:59:59                     210.800909   \n",
       "1  2016-09-01 01:59:59                     215.392455   \n",
       "2  2016-09-01 02:59:59                     215.259946   \n",
       "3  2016-09-01 03:59:59                     215.336236   \n",
       "4  2016-09-01 04:59:59                     199.099327   \n",
       "\n",
       "   primary_cleaner.input.depressant  primary_cleaner.input.feed_size  \\\n",
       "0                         14.993118                         8.080000   \n",
       "1                         14.987471                         8.080000   \n",
       "2                         12.884934                         7.786667   \n",
       "3                         12.006805                         7.640000   \n",
       "4                         10.682530                         7.530000   \n",
       "\n",
       "   primary_cleaner.input.xanthate  primary_cleaner.state.floatbank8_a_air  \\\n",
       "0                        1.005021                             1398.981301   \n",
       "1                        0.990469                             1398.777912   \n",
       "2                        0.996043                             1398.493666   \n",
       "3                        0.863514                             1399.618111   \n",
       "4                        0.805575                             1401.268123   \n",
       "\n",
       "   primary_cleaner.state.floatbank8_a_level  \\\n",
       "0                               -500.225577   \n",
       "1                               -500.057435   \n",
       "2                               -500.868360   \n",
       "3                               -498.863574   \n",
       "4                               -500.808305   \n",
       "\n",
       "   primary_cleaner.state.floatbank8_b_air  \\\n",
       "0                             1399.144926   \n",
       "1                             1398.055362   \n",
       "2                             1398.860436   \n",
       "3                             1397.440120   \n",
       "4                             1398.128818   \n",
       "\n",
       "   primary_cleaner.state.floatbank8_b_level  \\\n",
       "0                               -499.919735   \n",
       "1                               -499.778182   \n",
       "2                               -499.764529   \n",
       "3                               -499.211024   \n",
       "4                               -499.504543   \n",
       "\n",
       "   primary_cleaner.state.floatbank8_c_air  ...  \\\n",
       "0                             1400.102998  ...   \n",
       "1                             1396.151033  ...   \n",
       "2                             1398.075709  ...   \n",
       "3                             1400.129303  ...   \n",
       "4                             1402.172226  ...   \n",
       "\n",
       "   secondary_cleaner.state.floatbank4_a_air  \\\n",
       "0                                 12.023554   \n",
       "1                                 12.058140   \n",
       "2                                 11.962366   \n",
       "3                                 12.033091   \n",
       "4                                 12.025367   \n",
       "\n",
       "   secondary_cleaner.state.floatbank4_a_level  \\\n",
       "0                                 -497.795834   \n",
       "1                                 -498.695773   \n",
       "2                                 -498.767484   \n",
       "3                                 -498.350935   \n",
       "4                                 -500.786497   \n",
       "\n",
       "   secondary_cleaner.state.floatbank4_b_air  \\\n",
       "0                                  8.016656   \n",
       "1                                  8.130979   \n",
       "2                                  8.096893   \n",
       "3                                  8.074946   \n",
       "4                                  8.054678   \n",
       "\n",
       "   secondary_cleaner.state.floatbank4_b_level  \\\n",
       "0                                 -501.289139   \n",
       "1                                 -499.634209   \n",
       "2                                 -500.827423   \n",
       "3                                 -499.474407   \n",
       "4                                 -500.397500   \n",
       "\n",
       "   secondary_cleaner.state.floatbank5_a_air  \\\n",
       "0                                  7.946562   \n",
       "1                                  7.958270   \n",
       "2                                  8.071056   \n",
       "3                                  7.897085   \n",
       "4                                  8.107890   \n",
       "\n",
       "   secondary_cleaner.state.floatbank5_a_level  \\\n",
       "0                                 -432.317850   \n",
       "1                                 -525.839648   \n",
       "2                                 -500.801673   \n",
       "3                                 -500.868509   \n",
       "4                                 -509.526725   \n",
       "\n",
       "   secondary_cleaner.state.floatbank5_b_air  \\\n",
       "0                                  4.872511   \n",
       "1                                  4.878850   \n",
       "2                                  4.905125   \n",
       "3                                  4.931400   \n",
       "4                                  4.957674   \n",
       "\n",
       "   secondary_cleaner.state.floatbank5_b_level  \\\n",
       "0                                 -500.037437   \n",
       "1                                 -500.162375   \n",
       "2                                 -499.828510   \n",
       "3                                 -499.963623   \n",
       "4                                 -500.360026   \n",
       "\n",
       "   secondary_cleaner.state.floatbank6_a_air  \\\n",
       "0                                 26.705889   \n",
       "1                                 25.019940   \n",
       "2                                 24.994862   \n",
       "3                                 24.948919   \n",
       "4                                 25.003331   \n",
       "\n",
       "   secondary_cleaner.state.floatbank6_a_level  \n",
       "0                                 -499.709414  \n",
       "1                                 -499.819438  \n",
       "2                                 -500.622559  \n",
       "3                                 -498.709987  \n",
       "4                                 -500.856333  \n",
       "\n",
       "[5 rows x 53 columns]"
      ]
     },
     "execution_count": 4,
     "metadata": {},
     "output_type": "execute_result"
    }
   ],
   "source": [
    "g_test.head()"
   ]
  },
  {
   "cell_type": "code",
   "execution_count": 5,
   "metadata": {
    "scrolled": false
   },
   "outputs": [
    {
     "data": {
      "text/html": [
       "<div>\n",
       "<style scoped>\n",
       "    .dataframe tbody tr th:only-of-type {\n",
       "        vertical-align: middle;\n",
       "    }\n",
       "\n",
       "    .dataframe tbody tr th {\n",
       "        vertical-align: top;\n",
       "    }\n",
       "\n",
       "    .dataframe thead th {\n",
       "        text-align: right;\n",
       "    }\n",
       "</style>\n",
       "<table border=\"1\" class=\"dataframe\">\n",
       "  <thead>\n",
       "    <tr style=\"text-align: right;\">\n",
       "      <th></th>\n",
       "      <th>date</th>\n",
       "      <th>final.output.concentrate_ag</th>\n",
       "      <th>final.output.concentrate_pb</th>\n",
       "      <th>final.output.concentrate_sol</th>\n",
       "      <th>final.output.concentrate_au</th>\n",
       "      <th>final.output.recovery</th>\n",
       "      <th>final.output.tail_ag</th>\n",
       "      <th>final.output.tail_pb</th>\n",
       "      <th>final.output.tail_sol</th>\n",
       "      <th>final.output.tail_au</th>\n",
       "      <th>...</th>\n",
       "      <th>secondary_cleaner.state.floatbank4_a_air</th>\n",
       "      <th>secondary_cleaner.state.floatbank4_a_level</th>\n",
       "      <th>secondary_cleaner.state.floatbank4_b_air</th>\n",
       "      <th>secondary_cleaner.state.floatbank4_b_level</th>\n",
       "      <th>secondary_cleaner.state.floatbank5_a_air</th>\n",
       "      <th>secondary_cleaner.state.floatbank5_a_level</th>\n",
       "      <th>secondary_cleaner.state.floatbank5_b_air</th>\n",
       "      <th>secondary_cleaner.state.floatbank5_b_level</th>\n",
       "      <th>secondary_cleaner.state.floatbank6_a_air</th>\n",
       "      <th>secondary_cleaner.state.floatbank6_a_level</th>\n",
       "    </tr>\n",
       "  </thead>\n",
       "  <tbody>\n",
       "    <tr>\n",
       "      <th>0</th>\n",
       "      <td>2016-01-15 00:00:00</td>\n",
       "      <td>6.055403</td>\n",
       "      <td>9.889648</td>\n",
       "      <td>5.507324</td>\n",
       "      <td>42.192020</td>\n",
       "      <td>70.541216</td>\n",
       "      <td>10.411962</td>\n",
       "      <td>0.895447</td>\n",
       "      <td>16.904297</td>\n",
       "      <td>2.143149</td>\n",
       "      <td>...</td>\n",
       "      <td>14.016835</td>\n",
       "      <td>-502.488007</td>\n",
       "      <td>12.099931</td>\n",
       "      <td>-504.715942</td>\n",
       "      <td>9.925633</td>\n",
       "      <td>-498.310211</td>\n",
       "      <td>8.079666</td>\n",
       "      <td>-500.470978</td>\n",
       "      <td>14.151341</td>\n",
       "      <td>-605.841980</td>\n",
       "    </tr>\n",
       "    <tr>\n",
       "      <th>1</th>\n",
       "      <td>2016-01-15 01:00:00</td>\n",
       "      <td>6.029369</td>\n",
       "      <td>9.968944</td>\n",
       "      <td>5.257781</td>\n",
       "      <td>42.701629</td>\n",
       "      <td>69.266198</td>\n",
       "      <td>10.462676</td>\n",
       "      <td>0.927452</td>\n",
       "      <td>16.634514</td>\n",
       "      <td>2.224930</td>\n",
       "      <td>...</td>\n",
       "      <td>13.992281</td>\n",
       "      <td>-505.503262</td>\n",
       "      <td>11.950531</td>\n",
       "      <td>-501.331529</td>\n",
       "      <td>10.039245</td>\n",
       "      <td>-500.169983</td>\n",
       "      <td>7.984757</td>\n",
       "      <td>-500.582168</td>\n",
       "      <td>13.998353</td>\n",
       "      <td>-599.787184</td>\n",
       "    </tr>\n",
       "    <tr>\n",
       "      <th>2</th>\n",
       "      <td>2016-01-15 02:00:00</td>\n",
       "      <td>6.055926</td>\n",
       "      <td>10.213995</td>\n",
       "      <td>5.383759</td>\n",
       "      <td>42.657501</td>\n",
       "      <td>68.116445</td>\n",
       "      <td>10.507046</td>\n",
       "      <td>0.953716</td>\n",
       "      <td>16.208849</td>\n",
       "      <td>2.257889</td>\n",
       "      <td>...</td>\n",
       "      <td>14.015015</td>\n",
       "      <td>-502.520901</td>\n",
       "      <td>11.912783</td>\n",
       "      <td>-501.133383</td>\n",
       "      <td>10.070913</td>\n",
       "      <td>-500.129135</td>\n",
       "      <td>8.013877</td>\n",
       "      <td>-500.517572</td>\n",
       "      <td>14.028663</td>\n",
       "      <td>-601.427363</td>\n",
       "    </tr>\n",
       "    <tr>\n",
       "      <th>3</th>\n",
       "      <td>2016-01-15 03:00:00</td>\n",
       "      <td>6.047977</td>\n",
       "      <td>9.977019</td>\n",
       "      <td>4.858634</td>\n",
       "      <td>42.689819</td>\n",
       "      <td>68.347543</td>\n",
       "      <td>10.422762</td>\n",
       "      <td>0.883763</td>\n",
       "      <td>16.532835</td>\n",
       "      <td>2.146849</td>\n",
       "      <td>...</td>\n",
       "      <td>14.036510</td>\n",
       "      <td>-500.857308</td>\n",
       "      <td>11.999550</td>\n",
       "      <td>-501.193686</td>\n",
       "      <td>9.970366</td>\n",
       "      <td>-499.201640</td>\n",
       "      <td>7.977324</td>\n",
       "      <td>-500.255908</td>\n",
       "      <td>14.005551</td>\n",
       "      <td>-599.996129</td>\n",
       "    </tr>\n",
       "    <tr>\n",
       "      <th>4</th>\n",
       "      <td>2016-01-15 04:00:00</td>\n",
       "      <td>6.148599</td>\n",
       "      <td>10.142511</td>\n",
       "      <td>4.939416</td>\n",
       "      <td>42.774141</td>\n",
       "      <td>66.927016</td>\n",
       "      <td>10.360302</td>\n",
       "      <td>0.792826</td>\n",
       "      <td>16.525686</td>\n",
       "      <td>2.055292</td>\n",
       "      <td>...</td>\n",
       "      <td>14.027298</td>\n",
       "      <td>-499.838632</td>\n",
       "      <td>11.953070</td>\n",
       "      <td>-501.053894</td>\n",
       "      <td>9.925709</td>\n",
       "      <td>-501.686727</td>\n",
       "      <td>7.894242</td>\n",
       "      <td>-500.356035</td>\n",
       "      <td>13.996647</td>\n",
       "      <td>-601.496691</td>\n",
       "    </tr>\n",
       "  </tbody>\n",
       "</table>\n",
       "<p>5 rows × 87 columns</p>\n",
       "</div>"
      ],
      "text/plain": [
       "                  date  final.output.concentrate_ag  \\\n",
       "0  2016-01-15 00:00:00                     6.055403   \n",
       "1  2016-01-15 01:00:00                     6.029369   \n",
       "2  2016-01-15 02:00:00                     6.055926   \n",
       "3  2016-01-15 03:00:00                     6.047977   \n",
       "4  2016-01-15 04:00:00                     6.148599   \n",
       "\n",
       "   final.output.concentrate_pb  final.output.concentrate_sol  \\\n",
       "0                     9.889648                      5.507324   \n",
       "1                     9.968944                      5.257781   \n",
       "2                    10.213995                      5.383759   \n",
       "3                     9.977019                      4.858634   \n",
       "4                    10.142511                      4.939416   \n",
       "\n",
       "   final.output.concentrate_au  final.output.recovery  final.output.tail_ag  \\\n",
       "0                    42.192020              70.541216             10.411962   \n",
       "1                    42.701629              69.266198             10.462676   \n",
       "2                    42.657501              68.116445             10.507046   \n",
       "3                    42.689819              68.347543             10.422762   \n",
       "4                    42.774141              66.927016             10.360302   \n",
       "\n",
       "   final.output.tail_pb  final.output.tail_sol  final.output.tail_au  ...  \\\n",
       "0              0.895447              16.904297              2.143149  ...   \n",
       "1              0.927452              16.634514              2.224930  ...   \n",
       "2              0.953716              16.208849              2.257889  ...   \n",
       "3              0.883763              16.532835              2.146849  ...   \n",
       "4              0.792826              16.525686              2.055292  ...   \n",
       "\n",
       "   secondary_cleaner.state.floatbank4_a_air  \\\n",
       "0                                 14.016835   \n",
       "1                                 13.992281   \n",
       "2                                 14.015015   \n",
       "3                                 14.036510   \n",
       "4                                 14.027298   \n",
       "\n",
       "   secondary_cleaner.state.floatbank4_a_level  \\\n",
       "0                                 -502.488007   \n",
       "1                                 -505.503262   \n",
       "2                                 -502.520901   \n",
       "3                                 -500.857308   \n",
       "4                                 -499.838632   \n",
       "\n",
       "   secondary_cleaner.state.floatbank4_b_air  \\\n",
       "0                                 12.099931   \n",
       "1                                 11.950531   \n",
       "2                                 11.912783   \n",
       "3                                 11.999550   \n",
       "4                                 11.953070   \n",
       "\n",
       "   secondary_cleaner.state.floatbank4_b_level  \\\n",
       "0                                 -504.715942   \n",
       "1                                 -501.331529   \n",
       "2                                 -501.133383   \n",
       "3                                 -501.193686   \n",
       "4                                 -501.053894   \n",
       "\n",
       "   secondary_cleaner.state.floatbank5_a_air  \\\n",
       "0                                  9.925633   \n",
       "1                                 10.039245   \n",
       "2                                 10.070913   \n",
       "3                                  9.970366   \n",
       "4                                  9.925709   \n",
       "\n",
       "   secondary_cleaner.state.floatbank5_a_level  \\\n",
       "0                                 -498.310211   \n",
       "1                                 -500.169983   \n",
       "2                                 -500.129135   \n",
       "3                                 -499.201640   \n",
       "4                                 -501.686727   \n",
       "\n",
       "   secondary_cleaner.state.floatbank5_b_air  \\\n",
       "0                                  8.079666   \n",
       "1                                  7.984757   \n",
       "2                                  8.013877   \n",
       "3                                  7.977324   \n",
       "4                                  7.894242   \n",
       "\n",
       "   secondary_cleaner.state.floatbank5_b_level  \\\n",
       "0                                 -500.470978   \n",
       "1                                 -500.582168   \n",
       "2                                 -500.517572   \n",
       "3                                 -500.255908   \n",
       "4                                 -500.356035   \n",
       "\n",
       "   secondary_cleaner.state.floatbank6_a_air  \\\n",
       "0                                 14.151341   \n",
       "1                                 13.998353   \n",
       "2                                 14.028663   \n",
       "3                                 14.005551   \n",
       "4                                 13.996647   \n",
       "\n",
       "   secondary_cleaner.state.floatbank6_a_level  \n",
       "0                                 -605.841980  \n",
       "1                                 -599.787184  \n",
       "2                                 -601.427363  \n",
       "3                                 -599.996129  \n",
       "4                                 -601.496691  \n",
       "\n",
       "[5 rows x 87 columns]"
      ]
     },
     "execution_count": 5,
     "metadata": {},
     "output_type": "execute_result"
    }
   ],
   "source": [
    "g_full.head()"
   ]
  },
  {
   "cell_type": "markdown",
   "metadata": {},
   "source": [
    "**Видим, что в тестовой не все столбцы. Надо будет с этим разобраться**"
   ]
  },
  {
   "cell_type": "code",
   "execution_count": 6,
   "metadata": {
    "scrolled": true
   },
   "outputs": [
    {
     "name": "stdout",
     "output_type": "stream",
     "text": [
      "<class 'pandas.core.frame.DataFrame'>\n",
      "RangeIndex: 14149 entries, 0 to 14148\n",
      "Data columns (total 87 columns):\n",
      " #   Column                                              Non-Null Count  Dtype  \n",
      "---  ------                                              --------------  -----  \n",
      " 0   date                                                14149 non-null  object \n",
      " 1   final.output.concentrate_ag                         14148 non-null  float64\n",
      " 2   final.output.concentrate_pb                         14148 non-null  float64\n",
      " 3   final.output.concentrate_sol                        13938 non-null  float64\n",
      " 4   final.output.concentrate_au                         14149 non-null  float64\n",
      " 5   final.output.recovery                               14149 non-null  float64\n",
      " 6   final.output.tail_ag                                14149 non-null  float64\n",
      " 7   final.output.tail_pb                                14049 non-null  float64\n",
      " 8   final.output.tail_sol                               14144 non-null  float64\n",
      " 9   final.output.tail_au                                14149 non-null  float64\n",
      " 10  primary_cleaner.input.sulfate                       14129 non-null  float64\n",
      " 11  primary_cleaner.input.depressant                    14117 non-null  float64\n",
      " 12  primary_cleaner.input.feed_size                     14149 non-null  float64\n",
      " 13  primary_cleaner.input.xanthate                      14049 non-null  float64\n",
      " 14  primary_cleaner.output.concentrate_ag               14149 non-null  float64\n",
      " 15  primary_cleaner.output.concentrate_pb               14063 non-null  float64\n",
      " 16  primary_cleaner.output.concentrate_sol              13863 non-null  float64\n",
      " 17  primary_cleaner.output.concentrate_au               14149 non-null  float64\n",
      " 18  primary_cleaner.output.tail_ag                      14148 non-null  float64\n",
      " 19  primary_cleaner.output.tail_pb                      14134 non-null  float64\n",
      " 20  primary_cleaner.output.tail_sol                     14103 non-null  float64\n",
      " 21  primary_cleaner.output.tail_au                      14149 non-null  float64\n",
      " 22  primary_cleaner.state.floatbank8_a_air              14145 non-null  float64\n",
      " 23  primary_cleaner.state.floatbank8_a_level            14148 non-null  float64\n",
      " 24  primary_cleaner.state.floatbank8_b_air              14145 non-null  float64\n",
      " 25  primary_cleaner.state.floatbank8_b_level            14148 non-null  float64\n",
      " 26  primary_cleaner.state.floatbank8_c_air              14147 non-null  float64\n",
      " 27  primary_cleaner.state.floatbank8_c_level            14148 non-null  float64\n",
      " 28  primary_cleaner.state.floatbank8_d_air              14146 non-null  float64\n",
      " 29  primary_cleaner.state.floatbank8_d_level            14148 non-null  float64\n",
      " 30  rougher.calculation.sulfate_to_au_concentrate       14148 non-null  float64\n",
      " 31  rougher.calculation.floatbank10_sulfate_to_au_feed  14148 non-null  float64\n",
      " 32  rougher.calculation.floatbank11_sulfate_to_au_feed  14148 non-null  float64\n",
      " 33  rougher.calculation.au_pb_ratio                     14149 non-null  float64\n",
      " 34  rougher.input.feed_ag                               14149 non-null  float64\n",
      " 35  rougher.input.feed_pb                               14049 non-null  float64\n",
      " 36  rougher.input.feed_rate                             14141 non-null  float64\n",
      " 37  rougher.input.feed_size                             14005 non-null  float64\n",
      " 38  rougher.input.feed_sol                              14071 non-null  float64\n",
      " 39  rougher.input.feed_au                               14149 non-null  float64\n",
      " 40  rougher.input.floatbank10_sulfate                   14120 non-null  float64\n",
      " 41  rougher.input.floatbank10_xanthate                  14141 non-null  float64\n",
      " 42  rougher.input.floatbank11_sulfate                   14113 non-null  float64\n",
      " 43  rougher.input.floatbank11_xanthate                  13721 non-null  float64\n",
      " 44  rougher.output.concentrate_ag                       14149 non-null  float64\n",
      " 45  rougher.output.concentrate_pb                       14149 non-null  float64\n",
      " 46  rougher.output.concentrate_sol                      14127 non-null  float64\n",
      " 47  rougher.output.concentrate_au                       14149 non-null  float64\n",
      " 48  rougher.output.recovery                             14149 non-null  float64\n",
      " 49  rougher.output.tail_ag                              14148 non-null  float64\n",
      " 50  rougher.output.tail_pb                              14149 non-null  float64\n",
      " 51  rougher.output.tail_sol                             14149 non-null  float64\n",
      " 52  rougher.output.tail_au                              14149 non-null  float64\n",
      " 53  rougher.state.floatbank10_a_air                     14148 non-null  float64\n",
      " 54  rougher.state.floatbank10_a_level                   14148 non-null  float64\n",
      " 55  rougher.state.floatbank10_b_air                     14148 non-null  float64\n",
      " 56  rougher.state.floatbank10_b_level                   14148 non-null  float64\n",
      " 57  rougher.state.floatbank10_c_air                     14148 non-null  float64\n",
      " 58  rougher.state.floatbank10_c_level                   14148 non-null  float64\n",
      " 59  rougher.state.floatbank10_d_air                     14149 non-null  float64\n",
      " 60  rougher.state.floatbank10_d_level                   14149 non-null  float64\n",
      " 61  rougher.state.floatbank10_e_air                     13713 non-null  float64\n",
      " 62  rougher.state.floatbank10_e_level                   14149 non-null  float64\n",
      " 63  rougher.state.floatbank10_f_air                     14149 non-null  float64\n",
      " 64  rougher.state.floatbank10_f_level                   14149 non-null  float64\n",
      " 65  secondary_cleaner.output.tail_ag                    14147 non-null  float64\n",
      " 66  secondary_cleaner.output.tail_pb                    14139 non-null  float64\n",
      " 67  secondary_cleaner.output.tail_sol                   12544 non-null  float64\n",
      " 68  secondary_cleaner.output.tail_au                    14149 non-null  float64\n",
      " 69  secondary_cleaner.state.floatbank2_a_air            13932 non-null  float64\n",
      " 70  secondary_cleaner.state.floatbank2_a_level          14148 non-null  float64\n",
      " 71  secondary_cleaner.state.floatbank2_b_air            14128 non-null  float64\n",
      " 72  secondary_cleaner.state.floatbank2_b_level          14148 non-null  float64\n",
      " 73  secondary_cleaner.state.floatbank3_a_air            14145 non-null  float64\n",
      " 74  secondary_cleaner.state.floatbank3_a_level          14148 non-null  float64\n",
      " 75  secondary_cleaner.state.floatbank3_b_air            14148 non-null  float64\n",
      " 76  secondary_cleaner.state.floatbank3_b_level          14148 non-null  float64\n",
      " 77  secondary_cleaner.state.floatbank4_a_air            14143 non-null  float64\n",
      " 78  secondary_cleaner.state.floatbank4_a_level          14148 non-null  float64\n",
      " 79  secondary_cleaner.state.floatbank4_b_air            14148 non-null  float64\n",
      " 80  secondary_cleaner.state.floatbank4_b_level          14148 non-null  float64\n",
      " 81  secondary_cleaner.state.floatbank5_a_air            14148 non-null  float64\n",
      " 82  secondary_cleaner.state.floatbank5_a_level          14148 non-null  float64\n",
      " 83  secondary_cleaner.state.floatbank5_b_air            14148 non-null  float64\n",
      " 84  secondary_cleaner.state.floatbank5_b_level          14148 non-null  float64\n",
      " 85  secondary_cleaner.state.floatbank6_a_air            14147 non-null  float64\n",
      " 86  secondary_cleaner.state.floatbank6_a_level          14148 non-null  float64\n",
      "dtypes: float64(86), object(1)\n",
      "memory usage: 9.4+ MB\n"
     ]
    }
   ],
   "source": [
    "#выведем общую информацию таблиц\n",
    "g_train.info()"
   ]
  },
  {
   "cell_type": "code",
   "execution_count": 7,
   "metadata": {
    "scrolled": true
   },
   "outputs": [
    {
     "name": "stdout",
     "output_type": "stream",
     "text": [
      "<class 'pandas.core.frame.DataFrame'>\n",
      "RangeIndex: 5290 entries, 0 to 5289\n",
      "Data columns (total 53 columns):\n",
      " #   Column                                      Non-Null Count  Dtype  \n",
      "---  ------                                      --------------  -----  \n",
      " 0   date                                        5290 non-null   object \n",
      " 1   primary_cleaner.input.sulfate               5286 non-null   float64\n",
      " 2   primary_cleaner.input.depressant            5285 non-null   float64\n",
      " 3   primary_cleaner.input.feed_size             5290 non-null   float64\n",
      " 4   primary_cleaner.input.xanthate              5286 non-null   float64\n",
      " 5   primary_cleaner.state.floatbank8_a_air      5290 non-null   float64\n",
      " 6   primary_cleaner.state.floatbank8_a_level    5290 non-null   float64\n",
      " 7   primary_cleaner.state.floatbank8_b_air      5290 non-null   float64\n",
      " 8   primary_cleaner.state.floatbank8_b_level    5290 non-null   float64\n",
      " 9   primary_cleaner.state.floatbank8_c_air      5290 non-null   float64\n",
      " 10  primary_cleaner.state.floatbank8_c_level    5290 non-null   float64\n",
      " 11  primary_cleaner.state.floatbank8_d_air      5290 non-null   float64\n",
      " 12  primary_cleaner.state.floatbank8_d_level    5290 non-null   float64\n",
      " 13  rougher.input.feed_ag                       5290 non-null   float64\n",
      " 14  rougher.input.feed_pb                       5290 non-null   float64\n",
      " 15  rougher.input.feed_rate                     5287 non-null   float64\n",
      " 16  rougher.input.feed_size                     5289 non-null   float64\n",
      " 17  rougher.input.feed_sol                      5269 non-null   float64\n",
      " 18  rougher.input.feed_au                       5290 non-null   float64\n",
      " 19  rougher.input.floatbank10_sulfate           5285 non-null   float64\n",
      " 20  rougher.input.floatbank10_xanthate          5290 non-null   float64\n",
      " 21  rougher.input.floatbank11_sulfate           5282 non-null   float64\n",
      " 22  rougher.input.floatbank11_xanthate          5265 non-null   float64\n",
      " 23  rougher.state.floatbank10_a_air             5290 non-null   float64\n",
      " 24  rougher.state.floatbank10_a_level           5290 non-null   float64\n",
      " 25  rougher.state.floatbank10_b_air             5290 non-null   float64\n",
      " 26  rougher.state.floatbank10_b_level           5290 non-null   float64\n",
      " 27  rougher.state.floatbank10_c_air             5290 non-null   float64\n",
      " 28  rougher.state.floatbank10_c_level           5290 non-null   float64\n",
      " 29  rougher.state.floatbank10_d_air             5290 non-null   float64\n",
      " 30  rougher.state.floatbank10_d_level           5290 non-null   float64\n",
      " 31  rougher.state.floatbank10_e_air             5290 non-null   float64\n",
      " 32  rougher.state.floatbank10_e_level           5290 non-null   float64\n",
      " 33  rougher.state.floatbank10_f_air             5290 non-null   float64\n",
      " 34  rougher.state.floatbank10_f_level           5290 non-null   float64\n",
      " 35  secondary_cleaner.state.floatbank2_a_air    5287 non-null   float64\n",
      " 36  secondary_cleaner.state.floatbank2_a_level  5290 non-null   float64\n",
      " 37  secondary_cleaner.state.floatbank2_b_air    5288 non-null   float64\n",
      " 38  secondary_cleaner.state.floatbank2_b_level  5290 non-null   float64\n",
      " 39  secondary_cleaner.state.floatbank3_a_air    5281 non-null   float64\n",
      " 40  secondary_cleaner.state.floatbank3_a_level  5290 non-null   float64\n",
      " 41  secondary_cleaner.state.floatbank3_b_air    5290 non-null   float64\n",
      " 42  secondary_cleaner.state.floatbank3_b_level  5290 non-null   float64\n",
      " 43  secondary_cleaner.state.floatbank4_a_air    5290 non-null   float64\n",
      " 44  secondary_cleaner.state.floatbank4_a_level  5290 non-null   float64\n",
      " 45  secondary_cleaner.state.floatbank4_b_air    5290 non-null   float64\n",
      " 46  secondary_cleaner.state.floatbank4_b_level  5290 non-null   float64\n",
      " 47  secondary_cleaner.state.floatbank5_a_air    5290 non-null   float64\n",
      " 48  secondary_cleaner.state.floatbank5_a_level  5290 non-null   float64\n",
      " 49  secondary_cleaner.state.floatbank5_b_air    5290 non-null   float64\n",
      " 50  secondary_cleaner.state.floatbank5_b_level  5290 non-null   float64\n",
      " 51  secondary_cleaner.state.floatbank6_a_air    5290 non-null   float64\n",
      " 52  secondary_cleaner.state.floatbank6_a_level  5290 non-null   float64\n",
      "dtypes: float64(52), object(1)\n",
      "memory usage: 2.1+ MB\n"
     ]
    }
   ],
   "source": [
    "g_test.info()"
   ]
  },
  {
   "cell_type": "code",
   "execution_count": 8,
   "metadata": {
    "scrolled": true
   },
   "outputs": [
    {
     "name": "stdout",
     "output_type": "stream",
     "text": [
      "<class 'pandas.core.frame.DataFrame'>\n",
      "RangeIndex: 19439 entries, 0 to 19438\n",
      "Data columns (total 87 columns):\n",
      " #   Column                                              Non-Null Count  Dtype  \n",
      "---  ------                                              --------------  -----  \n",
      " 0   date                                                19439 non-null  object \n",
      " 1   final.output.concentrate_ag                         19438 non-null  float64\n",
      " 2   final.output.concentrate_pb                         19438 non-null  float64\n",
      " 3   final.output.concentrate_sol                        19228 non-null  float64\n",
      " 4   final.output.concentrate_au                         19439 non-null  float64\n",
      " 5   final.output.recovery                               19439 non-null  float64\n",
      " 6   final.output.tail_ag                                19438 non-null  float64\n",
      " 7   final.output.tail_pb                                19338 non-null  float64\n",
      " 8   final.output.tail_sol                               19433 non-null  float64\n",
      " 9   final.output.tail_au                                19439 non-null  float64\n",
      " 10  primary_cleaner.input.sulfate                       19415 non-null  float64\n",
      " 11  primary_cleaner.input.depressant                    19402 non-null  float64\n",
      " 12  primary_cleaner.input.feed_size                     19439 non-null  float64\n",
      " 13  primary_cleaner.input.xanthate                      19335 non-null  float64\n",
      " 14  primary_cleaner.output.concentrate_ag               19439 non-null  float64\n",
      " 15  primary_cleaner.output.concentrate_pb               19323 non-null  float64\n",
      " 16  primary_cleaner.output.concentrate_sol              19069 non-null  float64\n",
      " 17  primary_cleaner.output.concentrate_au               19439 non-null  float64\n",
      " 18  primary_cleaner.output.tail_ag                      19435 non-null  float64\n",
      " 19  primary_cleaner.output.tail_pb                      19418 non-null  float64\n",
      " 20  primary_cleaner.output.tail_sol                     19377 non-null  float64\n",
      " 21  primary_cleaner.output.tail_au                      19439 non-null  float64\n",
      " 22  primary_cleaner.state.floatbank8_a_air              19435 non-null  float64\n",
      " 23  primary_cleaner.state.floatbank8_a_level            19438 non-null  float64\n",
      " 24  primary_cleaner.state.floatbank8_b_air              19435 non-null  float64\n",
      " 25  primary_cleaner.state.floatbank8_b_level            19438 non-null  float64\n",
      " 26  primary_cleaner.state.floatbank8_c_air              19437 non-null  float64\n",
      " 27  primary_cleaner.state.floatbank8_c_level            19438 non-null  float64\n",
      " 28  primary_cleaner.state.floatbank8_d_air              19436 non-null  float64\n",
      " 29  primary_cleaner.state.floatbank8_d_level            19438 non-null  float64\n",
      " 30  rougher.calculation.sulfate_to_au_concentrate       19437 non-null  float64\n",
      " 31  rougher.calculation.floatbank10_sulfate_to_au_feed  19437 non-null  float64\n",
      " 32  rougher.calculation.floatbank11_sulfate_to_au_feed  19437 non-null  float64\n",
      " 33  rougher.calculation.au_pb_ratio                     19439 non-null  float64\n",
      " 34  rougher.input.feed_ag                               19439 non-null  float64\n",
      " 35  rougher.input.feed_pb                               19339 non-null  float64\n",
      " 36  rougher.input.feed_rate                             19428 non-null  float64\n",
      " 37  rougher.input.feed_size                             19294 non-null  float64\n",
      " 38  rougher.input.feed_sol                              19340 non-null  float64\n",
      " 39  rougher.input.feed_au                               19439 non-null  float64\n",
      " 40  rougher.input.floatbank10_sulfate                   19405 non-null  float64\n",
      " 41  rougher.input.floatbank10_xanthate                  19431 non-null  float64\n",
      " 42  rougher.input.floatbank11_sulfate                   19395 non-null  float64\n",
      " 43  rougher.input.floatbank11_xanthate                  18986 non-null  float64\n",
      " 44  rougher.output.concentrate_ag                       19439 non-null  float64\n",
      " 45  rougher.output.concentrate_pb                       19439 non-null  float64\n",
      " 46  rougher.output.concentrate_sol                      19416 non-null  float64\n",
      " 47  rougher.output.concentrate_au                       19439 non-null  float64\n",
      " 48  rougher.output.recovery                             19439 non-null  float64\n",
      " 49  rougher.output.tail_ag                              19438 non-null  float64\n",
      " 50  rougher.output.tail_pb                              19439 non-null  float64\n",
      " 51  rougher.output.tail_sol                             19439 non-null  float64\n",
      " 52  rougher.output.tail_au                              19439 non-null  float64\n",
      " 53  rougher.state.floatbank10_a_air                     19438 non-null  float64\n",
      " 54  rougher.state.floatbank10_a_level                   19438 non-null  float64\n",
      " 55  rougher.state.floatbank10_b_air                     19438 non-null  float64\n",
      " 56  rougher.state.floatbank10_b_level                   19438 non-null  float64\n",
      " 57  rougher.state.floatbank10_c_air                     19438 non-null  float64\n",
      " 58  rougher.state.floatbank10_c_level                   19438 non-null  float64\n",
      " 59  rougher.state.floatbank10_d_air                     19439 non-null  float64\n",
      " 60  rougher.state.floatbank10_d_level                   19439 non-null  float64\n",
      " 61  rougher.state.floatbank10_e_air                     19003 non-null  float64\n",
      " 62  rougher.state.floatbank10_e_level                   19439 non-null  float64\n",
      " 63  rougher.state.floatbank10_f_air                     19439 non-null  float64\n",
      " 64  rougher.state.floatbank10_f_level                   19439 non-null  float64\n",
      " 65  secondary_cleaner.output.tail_ag                    19437 non-null  float64\n",
      " 66  secondary_cleaner.output.tail_pb                    19427 non-null  float64\n",
      " 67  secondary_cleaner.output.tail_sol                   17691 non-null  float64\n",
      " 68  secondary_cleaner.output.tail_au                    19439 non-null  float64\n",
      " 69  secondary_cleaner.state.floatbank2_a_air            19219 non-null  float64\n",
      " 70  secondary_cleaner.state.floatbank2_a_level          19438 non-null  float64\n",
      " 71  secondary_cleaner.state.floatbank2_b_air            19416 non-null  float64\n",
      " 72  secondary_cleaner.state.floatbank2_b_level          19438 non-null  float64\n",
      " 73  secondary_cleaner.state.floatbank3_a_air            19426 non-null  float64\n",
      " 74  secondary_cleaner.state.floatbank3_a_level          19438 non-null  float64\n",
      " 75  secondary_cleaner.state.floatbank3_b_air            19438 non-null  float64\n",
      " 76  secondary_cleaner.state.floatbank3_b_level          19438 non-null  float64\n",
      " 77  secondary_cleaner.state.floatbank4_a_air            19433 non-null  float64\n",
      " 78  secondary_cleaner.state.floatbank4_a_level          19438 non-null  float64\n",
      " 79  secondary_cleaner.state.floatbank4_b_air            19438 non-null  float64\n",
      " 80  secondary_cleaner.state.floatbank4_b_level          19438 non-null  float64\n",
      " 81  secondary_cleaner.state.floatbank5_a_air            19438 non-null  float64\n",
      " 82  secondary_cleaner.state.floatbank5_a_level          19438 non-null  float64\n",
      " 83  secondary_cleaner.state.floatbank5_b_air            19438 non-null  float64\n",
      " 84  secondary_cleaner.state.floatbank5_b_level          19438 non-null  float64\n",
      " 85  secondary_cleaner.state.floatbank6_a_air            19437 non-null  float64\n",
      " 86  secondary_cleaner.state.floatbank6_a_level          19438 non-null  float64\n",
      "dtypes: float64(86), object(1)\n",
      "memory usage: 12.9+ MB\n"
     ]
    }
   ],
   "source": [
    "g_full.info()"
   ]
  },
  {
   "cell_type": "code",
   "execution_count": 9,
   "metadata": {},
   "outputs": [
    {
     "data": {
      "text/html": [
       "<div>\n",
       "<style scoped>\n",
       "    .dataframe tbody tr th:only-of-type {\n",
       "        vertical-align: middle;\n",
       "    }\n",
       "\n",
       "    .dataframe tbody tr th {\n",
       "        vertical-align: top;\n",
       "    }\n",
       "\n",
       "    .dataframe thead th {\n",
       "        text-align: right;\n",
       "    }\n",
       "</style>\n",
       "<table border=\"1\" class=\"dataframe\">\n",
       "  <thead>\n",
       "    <tr style=\"text-align: right;\">\n",
       "      <th></th>\n",
       "      <th>final.output.concentrate_ag</th>\n",
       "      <th>final.output.concentrate_pb</th>\n",
       "      <th>final.output.concentrate_sol</th>\n",
       "      <th>final.output.concentrate_au</th>\n",
       "      <th>final.output.recovery</th>\n",
       "      <th>final.output.tail_ag</th>\n",
       "      <th>final.output.tail_pb</th>\n",
       "      <th>final.output.tail_sol</th>\n",
       "      <th>final.output.tail_au</th>\n",
       "      <th>primary_cleaner.input.sulfate</th>\n",
       "      <th>...</th>\n",
       "      <th>secondary_cleaner.state.floatbank4_a_air</th>\n",
       "      <th>secondary_cleaner.state.floatbank4_a_level</th>\n",
       "      <th>secondary_cleaner.state.floatbank4_b_air</th>\n",
       "      <th>secondary_cleaner.state.floatbank4_b_level</th>\n",
       "      <th>secondary_cleaner.state.floatbank5_a_air</th>\n",
       "      <th>secondary_cleaner.state.floatbank5_a_level</th>\n",
       "      <th>secondary_cleaner.state.floatbank5_b_air</th>\n",
       "      <th>secondary_cleaner.state.floatbank5_b_level</th>\n",
       "      <th>secondary_cleaner.state.floatbank6_a_air</th>\n",
       "      <th>secondary_cleaner.state.floatbank6_a_level</th>\n",
       "    </tr>\n",
       "  </thead>\n",
       "  <tbody>\n",
       "    <tr>\n",
       "      <th>count</th>\n",
       "      <td>14148.000000</td>\n",
       "      <td>14148.000000</td>\n",
       "      <td>13938.000000</td>\n",
       "      <td>14149.000000</td>\n",
       "      <td>14149.000000</td>\n",
       "      <td>14149.000000</td>\n",
       "      <td>14049.000000</td>\n",
       "      <td>14144.000000</td>\n",
       "      <td>14149.000000</td>\n",
       "      <td>14129.000000</td>\n",
       "      <td>...</td>\n",
       "      <td>14143.000000</td>\n",
       "      <td>14148.000000</td>\n",
       "      <td>14148.000000</td>\n",
       "      <td>14148.000000</td>\n",
       "      <td>14148.000000</td>\n",
       "      <td>14148.000000</td>\n",
       "      <td>14148.000000</td>\n",
       "      <td>14148.000000</td>\n",
       "      <td>14147.000000</td>\n",
       "      <td>14148.000000</td>\n",
       "    </tr>\n",
       "    <tr>\n",
       "      <th>mean</th>\n",
       "      <td>5.142034</td>\n",
       "      <td>10.132960</td>\n",
       "      <td>9.202849</td>\n",
       "      <td>44.003792</td>\n",
       "      <td>66.518832</td>\n",
       "      <td>9.607035</td>\n",
       "      <td>2.597298</td>\n",
       "      <td>10.512122</td>\n",
       "      <td>2.918421</td>\n",
       "      <td>133.320659</td>\n",
       "      <td>...</td>\n",
       "      <td>19.985454</td>\n",
       "      <td>-478.696836</td>\n",
       "      <td>15.487065</td>\n",
       "      <td>-460.229416</td>\n",
       "      <td>16.775136</td>\n",
       "      <td>-483.956022</td>\n",
       "      <td>13.064590</td>\n",
       "      <td>-483.966564</td>\n",
       "      <td>19.577539</td>\n",
       "      <td>-506.798480</td>\n",
       "    </tr>\n",
       "    <tr>\n",
       "      <th>std</th>\n",
       "      <td>1.369586</td>\n",
       "      <td>1.654930</td>\n",
       "      <td>2.790516</td>\n",
       "      <td>4.905261</td>\n",
       "      <td>10.295402</td>\n",
       "      <td>2.319069</td>\n",
       "      <td>0.971843</td>\n",
       "      <td>3.003617</td>\n",
       "      <td>0.903712</td>\n",
       "      <td>39.431659</td>\n",
       "      <td>...</td>\n",
       "      <td>5.657723</td>\n",
       "      <td>50.736021</td>\n",
       "      <td>5.255655</td>\n",
       "      <td>58.843586</td>\n",
       "      <td>5.831906</td>\n",
       "      <td>37.892788</td>\n",
       "      <td>5.765617</td>\n",
       "      <td>39.207913</td>\n",
       "      <td>5.764417</td>\n",
       "      <td>37.079249</td>\n",
       "    </tr>\n",
       "    <tr>\n",
       "      <th>min</th>\n",
       "      <td>0.000000</td>\n",
       "      <td>0.000000</td>\n",
       "      <td>0.000000</td>\n",
       "      <td>0.000000</td>\n",
       "      <td>0.000000</td>\n",
       "      <td>0.000000</td>\n",
       "      <td>0.000000</td>\n",
       "      <td>0.000000</td>\n",
       "      <td>0.000000</td>\n",
       "      <td>0.003112</td>\n",
       "      <td>...</td>\n",
       "      <td>0.000000</td>\n",
       "      <td>-799.709069</td>\n",
       "      <td>0.000000</td>\n",
       "      <td>-799.889113</td>\n",
       "      <td>-0.372054</td>\n",
       "      <td>-797.142475</td>\n",
       "      <td>0.646208</td>\n",
       "      <td>-800.006180</td>\n",
       "      <td>0.195324</td>\n",
       "      <td>-809.398668</td>\n",
       "    </tr>\n",
       "    <tr>\n",
       "      <th>25%</th>\n",
       "      <td>4.211620</td>\n",
       "      <td>9.297355</td>\n",
       "      <td>7.484645</td>\n",
       "      <td>43.276111</td>\n",
       "      <td>62.545817</td>\n",
       "      <td>7.997429</td>\n",
       "      <td>1.905973</td>\n",
       "      <td>8.811324</td>\n",
       "      <td>2.368607</td>\n",
       "      <td>107.006651</td>\n",
       "      <td>...</td>\n",
       "      <td>14.990775</td>\n",
       "      <td>-500.628656</td>\n",
       "      <td>11.894558</td>\n",
       "      <td>-500.149000</td>\n",
       "      <td>11.083980</td>\n",
       "      <td>-500.363177</td>\n",
       "      <td>8.994405</td>\n",
       "      <td>-500.105994</td>\n",
       "      <td>14.989304</td>\n",
       "      <td>-500.745104</td>\n",
       "    </tr>\n",
       "    <tr>\n",
       "      <th>50%</th>\n",
       "      <td>4.994652</td>\n",
       "      <td>10.297144</td>\n",
       "      <td>8.845462</td>\n",
       "      <td>44.872436</td>\n",
       "      <td>67.432775</td>\n",
       "      <td>9.480270</td>\n",
       "      <td>2.592022</td>\n",
       "      <td>10.514621</td>\n",
       "      <td>2.851025</td>\n",
       "      <td>133.018328</td>\n",
       "      <td>...</td>\n",
       "      <td>20.001789</td>\n",
       "      <td>-499.681450</td>\n",
       "      <td>14.975536</td>\n",
       "      <td>-499.388738</td>\n",
       "      <td>17.932223</td>\n",
       "      <td>-499.702452</td>\n",
       "      <td>11.997547</td>\n",
       "      <td>-499.914556</td>\n",
       "      <td>19.984175</td>\n",
       "      <td>-500.061431</td>\n",
       "    </tr>\n",
       "    <tr>\n",
       "      <th>75%</th>\n",
       "      <td>5.859540</td>\n",
       "      <td>11.170603</td>\n",
       "      <td>10.487508</td>\n",
       "      <td>46.166425</td>\n",
       "      <td>72.346428</td>\n",
       "      <td>11.003707</td>\n",
       "      <td>3.241723</td>\n",
       "      <td>11.933009</td>\n",
       "      <td>3.434764</td>\n",
       "      <td>159.825396</td>\n",
       "      <td>...</td>\n",
       "      <td>24.990826</td>\n",
       "      <td>-477.472413</td>\n",
       "      <td>20.059375</td>\n",
       "      <td>-400.039008</td>\n",
       "      <td>21.346550</td>\n",
       "      <td>-487.712108</td>\n",
       "      <td>17.982903</td>\n",
       "      <td>-453.186936</td>\n",
       "      <td>24.991623</td>\n",
       "      <td>-499.536466</td>\n",
       "    </tr>\n",
       "    <tr>\n",
       "      <th>max</th>\n",
       "      <td>16.001945</td>\n",
       "      <td>17.031899</td>\n",
       "      <td>18.124851</td>\n",
       "      <td>52.756638</td>\n",
       "      <td>100.000000</td>\n",
       "      <td>19.552149</td>\n",
       "      <td>5.639565</td>\n",
       "      <td>22.317730</td>\n",
       "      <td>8.197408</td>\n",
       "      <td>250.127834</td>\n",
       "      <td>...</td>\n",
       "      <td>30.115735</td>\n",
       "      <td>-245.239184</td>\n",
       "      <td>24.007913</td>\n",
       "      <td>-145.071088</td>\n",
       "      <td>43.709931</td>\n",
       "      <td>-275.073125</td>\n",
       "      <td>27.926001</td>\n",
       "      <td>-157.396071</td>\n",
       "      <td>32.188906</td>\n",
       "      <td>-104.427459</td>\n",
       "    </tr>\n",
       "  </tbody>\n",
       "</table>\n",
       "<p>8 rows × 86 columns</p>\n",
       "</div>"
      ],
      "text/plain": [
       "       final.output.concentrate_ag  final.output.concentrate_pb  \\\n",
       "count                 14148.000000                 14148.000000   \n",
       "mean                      5.142034                    10.132960   \n",
       "std                       1.369586                     1.654930   \n",
       "min                       0.000000                     0.000000   \n",
       "25%                       4.211620                     9.297355   \n",
       "50%                       4.994652                    10.297144   \n",
       "75%                       5.859540                    11.170603   \n",
       "max                      16.001945                    17.031899   \n",
       "\n",
       "       final.output.concentrate_sol  final.output.concentrate_au  \\\n",
       "count                  13938.000000                 14149.000000   \n",
       "mean                       9.202849                    44.003792   \n",
       "std                        2.790516                     4.905261   \n",
       "min                        0.000000                     0.000000   \n",
       "25%                        7.484645                    43.276111   \n",
       "50%                        8.845462                    44.872436   \n",
       "75%                       10.487508                    46.166425   \n",
       "max                       18.124851                    52.756638   \n",
       "\n",
       "       final.output.recovery  final.output.tail_ag  final.output.tail_pb  \\\n",
       "count           14149.000000          14149.000000          14049.000000   \n",
       "mean               66.518832              9.607035              2.597298   \n",
       "std                10.295402              2.319069              0.971843   \n",
       "min                 0.000000              0.000000              0.000000   \n",
       "25%                62.545817              7.997429              1.905973   \n",
       "50%                67.432775              9.480270              2.592022   \n",
       "75%                72.346428             11.003707              3.241723   \n",
       "max               100.000000             19.552149              5.639565   \n",
       "\n",
       "       final.output.tail_sol  final.output.tail_au  \\\n",
       "count           14144.000000          14149.000000   \n",
       "mean               10.512122              2.918421   \n",
       "std                 3.003617              0.903712   \n",
       "min                 0.000000              0.000000   \n",
       "25%                 8.811324              2.368607   \n",
       "50%                10.514621              2.851025   \n",
       "75%                11.933009              3.434764   \n",
       "max                22.317730              8.197408   \n",
       "\n",
       "       primary_cleaner.input.sulfate  ...  \\\n",
       "count                   14129.000000  ...   \n",
       "mean                      133.320659  ...   \n",
       "std                        39.431659  ...   \n",
       "min                         0.003112  ...   \n",
       "25%                       107.006651  ...   \n",
       "50%                       133.018328  ...   \n",
       "75%                       159.825396  ...   \n",
       "max                       250.127834  ...   \n",
       "\n",
       "       secondary_cleaner.state.floatbank4_a_air  \\\n",
       "count                              14143.000000   \n",
       "mean                                  19.985454   \n",
       "std                                    5.657723   \n",
       "min                                    0.000000   \n",
       "25%                                   14.990775   \n",
       "50%                                   20.001789   \n",
       "75%                                   24.990826   \n",
       "max                                   30.115735   \n",
       "\n",
       "       secondary_cleaner.state.floatbank4_a_level  \\\n",
       "count                                14148.000000   \n",
       "mean                                  -478.696836   \n",
       "std                                     50.736021   \n",
       "min                                   -799.709069   \n",
       "25%                                   -500.628656   \n",
       "50%                                   -499.681450   \n",
       "75%                                   -477.472413   \n",
       "max                                   -245.239184   \n",
       "\n",
       "       secondary_cleaner.state.floatbank4_b_air  \\\n",
       "count                              14148.000000   \n",
       "mean                                  15.487065   \n",
       "std                                    5.255655   \n",
       "min                                    0.000000   \n",
       "25%                                   11.894558   \n",
       "50%                                   14.975536   \n",
       "75%                                   20.059375   \n",
       "max                                   24.007913   \n",
       "\n",
       "       secondary_cleaner.state.floatbank4_b_level  \\\n",
       "count                                14148.000000   \n",
       "mean                                  -460.229416   \n",
       "std                                     58.843586   \n",
       "min                                   -799.889113   \n",
       "25%                                   -500.149000   \n",
       "50%                                   -499.388738   \n",
       "75%                                   -400.039008   \n",
       "max                                   -145.071088   \n",
       "\n",
       "       secondary_cleaner.state.floatbank5_a_air  \\\n",
       "count                              14148.000000   \n",
       "mean                                  16.775136   \n",
       "std                                    5.831906   \n",
       "min                                   -0.372054   \n",
       "25%                                   11.083980   \n",
       "50%                                   17.932223   \n",
       "75%                                   21.346550   \n",
       "max                                   43.709931   \n",
       "\n",
       "       secondary_cleaner.state.floatbank5_a_level  \\\n",
       "count                                14148.000000   \n",
       "mean                                  -483.956022   \n",
       "std                                     37.892788   \n",
       "min                                   -797.142475   \n",
       "25%                                   -500.363177   \n",
       "50%                                   -499.702452   \n",
       "75%                                   -487.712108   \n",
       "max                                   -275.073125   \n",
       "\n",
       "       secondary_cleaner.state.floatbank5_b_air  \\\n",
       "count                              14148.000000   \n",
       "mean                                  13.064590   \n",
       "std                                    5.765617   \n",
       "min                                    0.646208   \n",
       "25%                                    8.994405   \n",
       "50%                                   11.997547   \n",
       "75%                                   17.982903   \n",
       "max                                   27.926001   \n",
       "\n",
       "       secondary_cleaner.state.floatbank5_b_level  \\\n",
       "count                                14148.000000   \n",
       "mean                                  -483.966564   \n",
       "std                                     39.207913   \n",
       "min                                   -800.006180   \n",
       "25%                                   -500.105994   \n",
       "50%                                   -499.914556   \n",
       "75%                                   -453.186936   \n",
       "max                                   -157.396071   \n",
       "\n",
       "       secondary_cleaner.state.floatbank6_a_air  \\\n",
       "count                              14147.000000   \n",
       "mean                                  19.577539   \n",
       "std                                    5.764417   \n",
       "min                                    0.195324   \n",
       "25%                                   14.989304   \n",
       "50%                                   19.984175   \n",
       "75%                                   24.991623   \n",
       "max                                   32.188906   \n",
       "\n",
       "       secondary_cleaner.state.floatbank6_a_level  \n",
       "count                                14148.000000  \n",
       "mean                                  -506.798480  \n",
       "std                                     37.079249  \n",
       "min                                   -809.398668  \n",
       "25%                                   -500.745104  \n",
       "50%                                   -500.061431  \n",
       "75%                                   -499.536466  \n",
       "max                                   -104.427459  \n",
       "\n",
       "[8 rows x 86 columns]"
      ]
     },
     "execution_count": 9,
     "metadata": {},
     "output_type": "execute_result"
    }
   ],
   "source": [
    "#оценим данные в таблицах методом describe\n",
    "g_train.describe()"
   ]
  },
  {
   "cell_type": "code",
   "execution_count": 10,
   "metadata": {},
   "outputs": [
    {
     "data": {
      "text/html": [
       "<div>\n",
       "<style scoped>\n",
       "    .dataframe tbody tr th:only-of-type {\n",
       "        vertical-align: middle;\n",
       "    }\n",
       "\n",
       "    .dataframe tbody tr th {\n",
       "        vertical-align: top;\n",
       "    }\n",
       "\n",
       "    .dataframe thead th {\n",
       "        text-align: right;\n",
       "    }\n",
       "</style>\n",
       "<table border=\"1\" class=\"dataframe\">\n",
       "  <thead>\n",
       "    <tr style=\"text-align: right;\">\n",
       "      <th></th>\n",
       "      <th>primary_cleaner.input.sulfate</th>\n",
       "      <th>primary_cleaner.input.depressant</th>\n",
       "      <th>primary_cleaner.input.feed_size</th>\n",
       "      <th>primary_cleaner.input.xanthate</th>\n",
       "      <th>primary_cleaner.state.floatbank8_a_air</th>\n",
       "      <th>primary_cleaner.state.floatbank8_a_level</th>\n",
       "      <th>primary_cleaner.state.floatbank8_b_air</th>\n",
       "      <th>primary_cleaner.state.floatbank8_b_level</th>\n",
       "      <th>primary_cleaner.state.floatbank8_c_air</th>\n",
       "      <th>primary_cleaner.state.floatbank8_c_level</th>\n",
       "      <th>...</th>\n",
       "      <th>secondary_cleaner.state.floatbank4_a_air</th>\n",
       "      <th>secondary_cleaner.state.floatbank4_a_level</th>\n",
       "      <th>secondary_cleaner.state.floatbank4_b_air</th>\n",
       "      <th>secondary_cleaner.state.floatbank4_b_level</th>\n",
       "      <th>secondary_cleaner.state.floatbank5_a_air</th>\n",
       "      <th>secondary_cleaner.state.floatbank5_a_level</th>\n",
       "      <th>secondary_cleaner.state.floatbank5_b_air</th>\n",
       "      <th>secondary_cleaner.state.floatbank5_b_level</th>\n",
       "      <th>secondary_cleaner.state.floatbank6_a_air</th>\n",
       "      <th>secondary_cleaner.state.floatbank6_a_level</th>\n",
       "    </tr>\n",
       "  </thead>\n",
       "  <tbody>\n",
       "    <tr>\n",
       "      <th>count</th>\n",
       "      <td>5286.000000</td>\n",
       "      <td>5285.000000</td>\n",
       "      <td>5290.000000</td>\n",
       "      <td>5286.000000</td>\n",
       "      <td>5.290000e+03</td>\n",
       "      <td>5290.000000</td>\n",
       "      <td>5.290000e+03</td>\n",
       "      <td>5290.000000</td>\n",
       "      <td>5.290000e+03</td>\n",
       "      <td>5290.000000</td>\n",
       "      <td>...</td>\n",
       "      <td>5.290000e+03</td>\n",
       "      <td>5290.000000</td>\n",
       "      <td>5.290000e+03</td>\n",
       "      <td>5290.000000</td>\n",
       "      <td>5290.000000</td>\n",
       "      <td>5290.000000</td>\n",
       "      <td>5290.000000</td>\n",
       "      <td>5290.000000</td>\n",
       "      <td>5290.000000</td>\n",
       "      <td>5290.000000</td>\n",
       "    </tr>\n",
       "    <tr>\n",
       "      <th>mean</th>\n",
       "      <td>174.839652</td>\n",
       "      <td>8.683596</td>\n",
       "      <td>7.266339</td>\n",
       "      <td>1.383803</td>\n",
       "      <td>1.539494e+03</td>\n",
       "      <td>-497.665883</td>\n",
       "      <td>1.545174e+03</td>\n",
       "      <td>-500.273098</td>\n",
       "      <td>1.527272e+03</td>\n",
       "      <td>-498.330680</td>\n",
       "      <td>...</td>\n",
       "      <td>1.632007e+01</td>\n",
       "      <td>-505.144570</td>\n",
       "      <td>1.373544e+01</td>\n",
       "      <td>-463.349858</td>\n",
       "      <td>12.804186</td>\n",
       "      <td>-501.329122</td>\n",
       "      <td>9.881145</td>\n",
       "      <td>-495.663398</td>\n",
       "      <td>17.304935</td>\n",
       "      <td>-501.793193</td>\n",
       "    </tr>\n",
       "    <tr>\n",
       "      <th>std</th>\n",
       "      <td>43.027080</td>\n",
       "      <td>3.072050</td>\n",
       "      <td>0.610219</td>\n",
       "      <td>0.643474</td>\n",
       "      <td>1.167979e+02</td>\n",
       "      <td>19.952431</td>\n",
       "      <td>1.222246e+02</td>\n",
       "      <td>32.968307</td>\n",
       "      <td>1.225380e+02</td>\n",
       "      <td>21.964876</td>\n",
       "      <td>...</td>\n",
       "      <td>3.493583e+00</td>\n",
       "      <td>31.427337</td>\n",
       "      <td>3.430484e+00</td>\n",
       "      <td>86.189107</td>\n",
       "      <td>3.026591</td>\n",
       "      <td>17.951495</td>\n",
       "      <td>2.868205</td>\n",
       "      <td>34.535007</td>\n",
       "      <td>4.536544</td>\n",
       "      <td>39.044215</td>\n",
       "    </tr>\n",
       "    <tr>\n",
       "      <th>min</th>\n",
       "      <td>2.566156</td>\n",
       "      <td>0.003839</td>\n",
       "      <td>5.650000</td>\n",
       "      <td>0.004984</td>\n",
       "      <td>5.445860e-32</td>\n",
       "      <td>-795.316337</td>\n",
       "      <td>6.647490e-32</td>\n",
       "      <td>-799.997015</td>\n",
       "      <td>4.033736e-32</td>\n",
       "      <td>-799.960571</td>\n",
       "      <td>...</td>\n",
       "      <td>1.079872e-16</td>\n",
       "      <td>-799.798523</td>\n",
       "      <td>2.489718e-17</td>\n",
       "      <td>-800.836914</td>\n",
       "      <td>0.069227</td>\n",
       "      <td>-797.323986</td>\n",
       "      <td>0.528083</td>\n",
       "      <td>-800.220337</td>\n",
       "      <td>-0.079426</td>\n",
       "      <td>-809.741464</td>\n",
       "    </tr>\n",
       "    <tr>\n",
       "      <th>25%</th>\n",
       "      <td>147.121401</td>\n",
       "      <td>6.489555</td>\n",
       "      <td>6.890000</td>\n",
       "      <td>0.907623</td>\n",
       "      <td>1.498936e+03</td>\n",
       "      <td>-500.357298</td>\n",
       "      <td>1.498971e+03</td>\n",
       "      <td>-500.703002</td>\n",
       "      <td>1.473230e+03</td>\n",
       "      <td>-501.018117</td>\n",
       "      <td>...</td>\n",
       "      <td>1.403618e+01</td>\n",
       "      <td>-500.868258</td>\n",
       "      <td>1.202862e+01</td>\n",
       "      <td>-500.323028</td>\n",
       "      <td>10.914838</td>\n",
       "      <td>-500.726841</td>\n",
       "      <td>8.036719</td>\n",
       "      <td>-500.194668</td>\n",
       "      <td>13.997317</td>\n",
       "      <td>-500.690984</td>\n",
       "    </tr>\n",
       "    <tr>\n",
       "      <th>50%</th>\n",
       "      <td>177.828489</td>\n",
       "      <td>8.052207</td>\n",
       "      <td>7.250000</td>\n",
       "      <td>1.197610</td>\n",
       "      <td>1.585129e+03</td>\n",
       "      <td>-499.969164</td>\n",
       "      <td>1.595622e+03</td>\n",
       "      <td>-500.028514</td>\n",
       "      <td>1.549595e+03</td>\n",
       "      <td>-500.017711</td>\n",
       "      <td>...</td>\n",
       "      <td>1.700847e+01</td>\n",
       "      <td>-500.115727</td>\n",
       "      <td>1.496486e+01</td>\n",
       "      <td>-499.576513</td>\n",
       "      <td>12.954182</td>\n",
       "      <td>-499.990332</td>\n",
       "      <td>10.004301</td>\n",
       "      <td>-499.990535</td>\n",
       "      <td>16.014935</td>\n",
       "      <td>-500.007126</td>\n",
       "    </tr>\n",
       "    <tr>\n",
       "      <th>75%</th>\n",
       "      <td>208.125438</td>\n",
       "      <td>10.027764</td>\n",
       "      <td>7.600000</td>\n",
       "      <td>1.797819</td>\n",
       "      <td>1.602077e+03</td>\n",
       "      <td>-499.568951</td>\n",
       "      <td>1.602324e+03</td>\n",
       "      <td>-499.293257</td>\n",
       "      <td>1.601144e+03</td>\n",
       "      <td>-498.994130</td>\n",
       "      <td>...</td>\n",
       "      <td>1.803862e+01</td>\n",
       "      <td>-499.404224</td>\n",
       "      <td>1.596213e+01</td>\n",
       "      <td>-400.933805</td>\n",
       "      <td>15.097528</td>\n",
       "      <td>-499.283191</td>\n",
       "      <td>11.997467</td>\n",
       "      <td>-499.719913</td>\n",
       "      <td>21.020013</td>\n",
       "      <td>-499.373018</td>\n",
       "    </tr>\n",
       "    <tr>\n",
       "      <th>max</th>\n",
       "      <td>265.983123</td>\n",
       "      <td>40.000000</td>\n",
       "      <td>15.500000</td>\n",
       "      <td>4.102454</td>\n",
       "      <td>2.103104e+03</td>\n",
       "      <td>-57.195404</td>\n",
       "      <td>1.813084e+03</td>\n",
       "      <td>-142.527229</td>\n",
       "      <td>1.715054e+03</td>\n",
       "      <td>-150.937035</td>\n",
       "      <td>...</td>\n",
       "      <td>3.005180e+01</td>\n",
       "      <td>-401.565212</td>\n",
       "      <td>3.126971e+01</td>\n",
       "      <td>-6.506986</td>\n",
       "      <td>25.258848</td>\n",
       "      <td>-244.483566</td>\n",
       "      <td>14.086866</td>\n",
       "      <td>-137.740004</td>\n",
       "      <td>26.705889</td>\n",
       "      <td>-123.307487</td>\n",
       "    </tr>\n",
       "  </tbody>\n",
       "</table>\n",
       "<p>8 rows × 52 columns</p>\n",
       "</div>"
      ],
      "text/plain": [
       "       primary_cleaner.input.sulfate  primary_cleaner.input.depressant  \\\n",
       "count                    5286.000000                       5285.000000   \n",
       "mean                      174.839652                          8.683596   \n",
       "std                        43.027080                          3.072050   \n",
       "min                         2.566156                          0.003839   \n",
       "25%                       147.121401                          6.489555   \n",
       "50%                       177.828489                          8.052207   \n",
       "75%                       208.125438                         10.027764   \n",
       "max                       265.983123                         40.000000   \n",
       "\n",
       "       primary_cleaner.input.feed_size  primary_cleaner.input.xanthate  \\\n",
       "count                      5290.000000                     5286.000000   \n",
       "mean                          7.266339                        1.383803   \n",
       "std                           0.610219                        0.643474   \n",
       "min                           5.650000                        0.004984   \n",
       "25%                           6.890000                        0.907623   \n",
       "50%                           7.250000                        1.197610   \n",
       "75%                           7.600000                        1.797819   \n",
       "max                          15.500000                        4.102454   \n",
       "\n",
       "       primary_cleaner.state.floatbank8_a_air  \\\n",
       "count                            5.290000e+03   \n",
       "mean                             1.539494e+03   \n",
       "std                              1.167979e+02   \n",
       "min                              5.445860e-32   \n",
       "25%                              1.498936e+03   \n",
       "50%                              1.585129e+03   \n",
       "75%                              1.602077e+03   \n",
       "max                              2.103104e+03   \n",
       "\n",
       "       primary_cleaner.state.floatbank8_a_level  \\\n",
       "count                               5290.000000   \n",
       "mean                                -497.665883   \n",
       "std                                   19.952431   \n",
       "min                                 -795.316337   \n",
       "25%                                 -500.357298   \n",
       "50%                                 -499.969164   \n",
       "75%                                 -499.568951   \n",
       "max                                  -57.195404   \n",
       "\n",
       "       primary_cleaner.state.floatbank8_b_air  \\\n",
       "count                            5.290000e+03   \n",
       "mean                             1.545174e+03   \n",
       "std                              1.222246e+02   \n",
       "min                              6.647490e-32   \n",
       "25%                              1.498971e+03   \n",
       "50%                              1.595622e+03   \n",
       "75%                              1.602324e+03   \n",
       "max                              1.813084e+03   \n",
       "\n",
       "       primary_cleaner.state.floatbank8_b_level  \\\n",
       "count                               5290.000000   \n",
       "mean                                -500.273098   \n",
       "std                                   32.968307   \n",
       "min                                 -799.997015   \n",
       "25%                                 -500.703002   \n",
       "50%                                 -500.028514   \n",
       "75%                                 -499.293257   \n",
       "max                                 -142.527229   \n",
       "\n",
       "       primary_cleaner.state.floatbank8_c_air  \\\n",
       "count                            5.290000e+03   \n",
       "mean                             1.527272e+03   \n",
       "std                              1.225380e+02   \n",
       "min                              4.033736e-32   \n",
       "25%                              1.473230e+03   \n",
       "50%                              1.549595e+03   \n",
       "75%                              1.601144e+03   \n",
       "max                              1.715054e+03   \n",
       "\n",
       "       primary_cleaner.state.floatbank8_c_level  ...  \\\n",
       "count                               5290.000000  ...   \n",
       "mean                                -498.330680  ...   \n",
       "std                                   21.964876  ...   \n",
       "min                                 -799.960571  ...   \n",
       "25%                                 -501.018117  ...   \n",
       "50%                                 -500.017711  ...   \n",
       "75%                                 -498.994130  ...   \n",
       "max                                 -150.937035  ...   \n",
       "\n",
       "       secondary_cleaner.state.floatbank4_a_air  \\\n",
       "count                              5.290000e+03   \n",
       "mean                               1.632007e+01   \n",
       "std                                3.493583e+00   \n",
       "min                                1.079872e-16   \n",
       "25%                                1.403618e+01   \n",
       "50%                                1.700847e+01   \n",
       "75%                                1.803862e+01   \n",
       "max                                3.005180e+01   \n",
       "\n",
       "       secondary_cleaner.state.floatbank4_a_level  \\\n",
       "count                                 5290.000000   \n",
       "mean                                  -505.144570   \n",
       "std                                     31.427337   \n",
       "min                                   -799.798523   \n",
       "25%                                   -500.868258   \n",
       "50%                                   -500.115727   \n",
       "75%                                   -499.404224   \n",
       "max                                   -401.565212   \n",
       "\n",
       "       secondary_cleaner.state.floatbank4_b_air  \\\n",
       "count                              5.290000e+03   \n",
       "mean                               1.373544e+01   \n",
       "std                                3.430484e+00   \n",
       "min                                2.489718e-17   \n",
       "25%                                1.202862e+01   \n",
       "50%                                1.496486e+01   \n",
       "75%                                1.596213e+01   \n",
       "max                                3.126971e+01   \n",
       "\n",
       "       secondary_cleaner.state.floatbank4_b_level  \\\n",
       "count                                 5290.000000   \n",
       "mean                                  -463.349858   \n",
       "std                                     86.189107   \n",
       "min                                   -800.836914   \n",
       "25%                                   -500.323028   \n",
       "50%                                   -499.576513   \n",
       "75%                                   -400.933805   \n",
       "max                                     -6.506986   \n",
       "\n",
       "       secondary_cleaner.state.floatbank5_a_air  \\\n",
       "count                               5290.000000   \n",
       "mean                                  12.804186   \n",
       "std                                    3.026591   \n",
       "min                                    0.069227   \n",
       "25%                                   10.914838   \n",
       "50%                                   12.954182   \n",
       "75%                                   15.097528   \n",
       "max                                   25.258848   \n",
       "\n",
       "       secondary_cleaner.state.floatbank5_a_level  \\\n",
       "count                                 5290.000000   \n",
       "mean                                  -501.329122   \n",
       "std                                     17.951495   \n",
       "min                                   -797.323986   \n",
       "25%                                   -500.726841   \n",
       "50%                                   -499.990332   \n",
       "75%                                   -499.283191   \n",
       "max                                   -244.483566   \n",
       "\n",
       "       secondary_cleaner.state.floatbank5_b_air  \\\n",
       "count                               5290.000000   \n",
       "mean                                   9.881145   \n",
       "std                                    2.868205   \n",
       "min                                    0.528083   \n",
       "25%                                    8.036719   \n",
       "50%                                   10.004301   \n",
       "75%                                   11.997467   \n",
       "max                                   14.086866   \n",
       "\n",
       "       secondary_cleaner.state.floatbank5_b_level  \\\n",
       "count                                 5290.000000   \n",
       "mean                                  -495.663398   \n",
       "std                                     34.535007   \n",
       "min                                   -800.220337   \n",
       "25%                                   -500.194668   \n",
       "50%                                   -499.990535   \n",
       "75%                                   -499.719913   \n",
       "max                                   -137.740004   \n",
       "\n",
       "       secondary_cleaner.state.floatbank6_a_air  \\\n",
       "count                               5290.000000   \n",
       "mean                                  17.304935   \n",
       "std                                    4.536544   \n",
       "min                                   -0.079426   \n",
       "25%                                   13.997317   \n",
       "50%                                   16.014935   \n",
       "75%                                   21.020013   \n",
       "max                                   26.705889   \n",
       "\n",
       "       secondary_cleaner.state.floatbank6_a_level  \n",
       "count                                 5290.000000  \n",
       "mean                                  -501.793193  \n",
       "std                                     39.044215  \n",
       "min                                   -809.741464  \n",
       "25%                                   -500.690984  \n",
       "50%                                   -500.007126  \n",
       "75%                                   -499.373018  \n",
       "max                                   -123.307487  \n",
       "\n",
       "[8 rows x 52 columns]"
      ]
     },
     "execution_count": 10,
     "metadata": {},
     "output_type": "execute_result"
    }
   ],
   "source": [
    "g_test.describe()"
   ]
  },
  {
   "cell_type": "code",
   "execution_count": 11,
   "metadata": {},
   "outputs": [
    {
     "data": {
      "text/html": [
       "<div>\n",
       "<style scoped>\n",
       "    .dataframe tbody tr th:only-of-type {\n",
       "        vertical-align: middle;\n",
       "    }\n",
       "\n",
       "    .dataframe tbody tr th {\n",
       "        vertical-align: top;\n",
       "    }\n",
       "\n",
       "    .dataframe thead th {\n",
       "        text-align: right;\n",
       "    }\n",
       "</style>\n",
       "<table border=\"1\" class=\"dataframe\">\n",
       "  <thead>\n",
       "    <tr style=\"text-align: right;\">\n",
       "      <th></th>\n",
       "      <th>final.output.concentrate_ag</th>\n",
       "      <th>final.output.concentrate_pb</th>\n",
       "      <th>final.output.concentrate_sol</th>\n",
       "      <th>final.output.concentrate_au</th>\n",
       "      <th>final.output.recovery</th>\n",
       "      <th>final.output.tail_ag</th>\n",
       "      <th>final.output.tail_pb</th>\n",
       "      <th>final.output.tail_sol</th>\n",
       "      <th>final.output.tail_au</th>\n",
       "      <th>primary_cleaner.input.sulfate</th>\n",
       "      <th>...</th>\n",
       "      <th>secondary_cleaner.state.floatbank4_a_air</th>\n",
       "      <th>secondary_cleaner.state.floatbank4_a_level</th>\n",
       "      <th>secondary_cleaner.state.floatbank4_b_air</th>\n",
       "      <th>secondary_cleaner.state.floatbank4_b_level</th>\n",
       "      <th>secondary_cleaner.state.floatbank5_a_air</th>\n",
       "      <th>secondary_cleaner.state.floatbank5_a_level</th>\n",
       "      <th>secondary_cleaner.state.floatbank5_b_air</th>\n",
       "      <th>secondary_cleaner.state.floatbank5_b_level</th>\n",
       "      <th>secondary_cleaner.state.floatbank6_a_air</th>\n",
       "      <th>secondary_cleaner.state.floatbank6_a_level</th>\n",
       "    </tr>\n",
       "  </thead>\n",
       "  <tbody>\n",
       "    <tr>\n",
       "      <th>count</th>\n",
       "      <td>19438.000000</td>\n",
       "      <td>19438.000000</td>\n",
       "      <td>19228.000000</td>\n",
       "      <td>19439.000000</td>\n",
       "      <td>19439.000000</td>\n",
       "      <td>19438.000000</td>\n",
       "      <td>19338.000000</td>\n",
       "      <td>19433.000000</td>\n",
       "      <td>19439.000000</td>\n",
       "      <td>19415.000000</td>\n",
       "      <td>...</td>\n",
       "      <td>19433.000000</td>\n",
       "      <td>19438.000000</td>\n",
       "      <td>19438.000000</td>\n",
       "      <td>19438.000000</td>\n",
       "      <td>19438.000000</td>\n",
       "      <td>19438.000000</td>\n",
       "      <td>19438.000000</td>\n",
       "      <td>19438.000000</td>\n",
       "      <td>19437.000000</td>\n",
       "      <td>19438.000000</td>\n",
       "    </tr>\n",
       "    <tr>\n",
       "      <th>mean</th>\n",
       "      <td>5.168470</td>\n",
       "      <td>9.978895</td>\n",
       "      <td>9.501224</td>\n",
       "      <td>44.076513</td>\n",
       "      <td>67.050208</td>\n",
       "      <td>9.688589</td>\n",
       "      <td>2.705795</td>\n",
       "      <td>10.583728</td>\n",
       "      <td>3.042467</td>\n",
       "      <td>144.624774</td>\n",
       "      <td>...</td>\n",
       "      <td>18.987674</td>\n",
       "      <td>-485.894516</td>\n",
       "      <td>15.010366</td>\n",
       "      <td>-461.078636</td>\n",
       "      <td>15.694452</td>\n",
       "      <td>-488.684065</td>\n",
       "      <td>12.198224</td>\n",
       "      <td>-487.149827</td>\n",
       "      <td>18.959024</td>\n",
       "      <td>-505.436305</td>\n",
       "    </tr>\n",
       "    <tr>\n",
       "      <th>std</th>\n",
       "      <td>1.372348</td>\n",
       "      <td>1.669240</td>\n",
       "      <td>2.787537</td>\n",
       "      <td>5.129784</td>\n",
       "      <td>10.125840</td>\n",
       "      <td>2.328642</td>\n",
       "      <td>0.949077</td>\n",
       "      <td>2.868782</td>\n",
       "      <td>0.922808</td>\n",
       "      <td>44.464071</td>\n",
       "      <td>...</td>\n",
       "      <td>5.411058</td>\n",
       "      <td>47.758570</td>\n",
       "      <td>4.890228</td>\n",
       "      <td>67.405524</td>\n",
       "      <td>5.510974</td>\n",
       "      <td>34.533396</td>\n",
       "      <td>5.333024</td>\n",
       "      <td>38.347312</td>\n",
       "      <td>5.550498</td>\n",
       "      <td>37.689057</td>\n",
       "    </tr>\n",
       "    <tr>\n",
       "      <th>min</th>\n",
       "      <td>0.000000</td>\n",
       "      <td>0.000000</td>\n",
       "      <td>0.000000</td>\n",
       "      <td>0.000000</td>\n",
       "      <td>0.000000</td>\n",
       "      <td>0.000000</td>\n",
       "      <td>0.000000</td>\n",
       "      <td>0.000000</td>\n",
       "      <td>0.000000</td>\n",
       "      <td>0.003112</td>\n",
       "      <td>...</td>\n",
       "      <td>0.000000</td>\n",
       "      <td>-799.798523</td>\n",
       "      <td>0.000000</td>\n",
       "      <td>-800.836914</td>\n",
       "      <td>-0.372054</td>\n",
       "      <td>-797.323986</td>\n",
       "      <td>0.528083</td>\n",
       "      <td>-800.220337</td>\n",
       "      <td>-0.079426</td>\n",
       "      <td>-809.741464</td>\n",
       "    </tr>\n",
       "    <tr>\n",
       "      <th>25%</th>\n",
       "      <td>4.251240</td>\n",
       "      <td>9.137262</td>\n",
       "      <td>7.722820</td>\n",
       "      <td>43.402215</td>\n",
       "      <td>63.299712</td>\n",
       "      <td>8.062878</td>\n",
       "      <td>2.040119</td>\n",
       "      <td>8.938947</td>\n",
       "      <td>2.461138</td>\n",
       "      <td>114.107029</td>\n",
       "      <td>...</td>\n",
       "      <td>14.975734</td>\n",
       "      <td>-500.704892</td>\n",
       "      <td>11.940294</td>\n",
       "      <td>-500.187742</td>\n",
       "      <td>10.988606</td>\n",
       "      <td>-500.458467</td>\n",
       "      <td>8.971105</td>\n",
       "      <td>-500.129462</td>\n",
       "      <td>14.983037</td>\n",
       "      <td>-500.728067</td>\n",
       "    </tr>\n",
       "    <tr>\n",
       "      <th>50%</th>\n",
       "      <td>5.066094</td>\n",
       "      <td>10.102433</td>\n",
       "      <td>9.218961</td>\n",
       "      <td>45.011244</td>\n",
       "      <td>68.172738</td>\n",
       "      <td>9.743623</td>\n",
       "      <td>2.748730</td>\n",
       "      <td>10.622456</td>\n",
       "      <td>2.984909</td>\n",
       "      <td>143.232103</td>\n",
       "      <td>...</td>\n",
       "      <td>18.017481</td>\n",
       "      <td>-499.837793</td>\n",
       "      <td>14.971014</td>\n",
       "      <td>-499.459786</td>\n",
       "      <td>15.000036</td>\n",
       "      <td>-499.802605</td>\n",
       "      <td>11.019433</td>\n",
       "      <td>-499.935317</td>\n",
       "      <td>19.960541</td>\n",
       "      <td>-500.048400</td>\n",
       "    </tr>\n",
       "    <tr>\n",
       "      <th>75%</th>\n",
       "      <td>5.895527</td>\n",
       "      <td>11.035769</td>\n",
       "      <td>10.947813</td>\n",
       "      <td>46.275313</td>\n",
       "      <td>72.686642</td>\n",
       "      <td>11.134294</td>\n",
       "      <td>3.333216</td>\n",
       "      <td>12.104271</td>\n",
       "      <td>3.571351</td>\n",
       "      <td>175.075656</td>\n",
       "      <td>...</td>\n",
       "      <td>23.012470</td>\n",
       "      <td>-498.249730</td>\n",
       "      <td>19.034162</td>\n",
       "      <td>-400.118106</td>\n",
       "      <td>18.026190</td>\n",
       "      <td>-498.384187</td>\n",
       "      <td>14.019088</td>\n",
       "      <td>-499.436708</td>\n",
       "      <td>24.003170</td>\n",
       "      <td>-499.495378</td>\n",
       "    </tr>\n",
       "    <tr>\n",
       "      <th>max</th>\n",
       "      <td>16.001945</td>\n",
       "      <td>17.031899</td>\n",
       "      <td>19.615720</td>\n",
       "      <td>52.756638</td>\n",
       "      <td>100.000000</td>\n",
       "      <td>19.552149</td>\n",
       "      <td>5.804178</td>\n",
       "      <td>22.317730</td>\n",
       "      <td>8.245022</td>\n",
       "      <td>265.983123</td>\n",
       "      <td>...</td>\n",
       "      <td>30.115735</td>\n",
       "      <td>-245.239184</td>\n",
       "      <td>31.269706</td>\n",
       "      <td>-6.506986</td>\n",
       "      <td>43.709931</td>\n",
       "      <td>-244.483566</td>\n",
       "      <td>27.926001</td>\n",
       "      <td>-137.740004</td>\n",
       "      <td>32.188906</td>\n",
       "      <td>-104.427459</td>\n",
       "    </tr>\n",
       "  </tbody>\n",
       "</table>\n",
       "<p>8 rows × 86 columns</p>\n",
       "</div>"
      ],
      "text/plain": [
       "       final.output.concentrate_ag  final.output.concentrate_pb  \\\n",
       "count                 19438.000000                 19438.000000   \n",
       "mean                      5.168470                     9.978895   \n",
       "std                       1.372348                     1.669240   \n",
       "min                       0.000000                     0.000000   \n",
       "25%                       4.251240                     9.137262   \n",
       "50%                       5.066094                    10.102433   \n",
       "75%                       5.895527                    11.035769   \n",
       "max                      16.001945                    17.031899   \n",
       "\n",
       "       final.output.concentrate_sol  final.output.concentrate_au  \\\n",
       "count                  19228.000000                 19439.000000   \n",
       "mean                       9.501224                    44.076513   \n",
       "std                        2.787537                     5.129784   \n",
       "min                        0.000000                     0.000000   \n",
       "25%                        7.722820                    43.402215   \n",
       "50%                        9.218961                    45.011244   \n",
       "75%                       10.947813                    46.275313   \n",
       "max                       19.615720                    52.756638   \n",
       "\n",
       "       final.output.recovery  final.output.tail_ag  final.output.tail_pb  \\\n",
       "count           19439.000000          19438.000000          19338.000000   \n",
       "mean               67.050208              9.688589              2.705795   \n",
       "std                10.125840              2.328642              0.949077   \n",
       "min                 0.000000              0.000000              0.000000   \n",
       "25%                63.299712              8.062878              2.040119   \n",
       "50%                68.172738              9.743623              2.748730   \n",
       "75%                72.686642             11.134294              3.333216   \n",
       "max               100.000000             19.552149              5.804178   \n",
       "\n",
       "       final.output.tail_sol  final.output.tail_au  \\\n",
       "count           19433.000000          19439.000000   \n",
       "mean               10.583728              3.042467   \n",
       "std                 2.868782              0.922808   \n",
       "min                 0.000000              0.000000   \n",
       "25%                 8.938947              2.461138   \n",
       "50%                10.622456              2.984909   \n",
       "75%                12.104271              3.571351   \n",
       "max                22.317730              8.245022   \n",
       "\n",
       "       primary_cleaner.input.sulfate  ...  \\\n",
       "count                   19415.000000  ...   \n",
       "mean                      144.624774  ...   \n",
       "std                        44.464071  ...   \n",
       "min                         0.003112  ...   \n",
       "25%                       114.107029  ...   \n",
       "50%                       143.232103  ...   \n",
       "75%                       175.075656  ...   \n",
       "max                       265.983123  ...   \n",
       "\n",
       "       secondary_cleaner.state.floatbank4_a_air  \\\n",
       "count                              19433.000000   \n",
       "mean                                  18.987674   \n",
       "std                                    5.411058   \n",
       "min                                    0.000000   \n",
       "25%                                   14.975734   \n",
       "50%                                   18.017481   \n",
       "75%                                   23.012470   \n",
       "max                                   30.115735   \n",
       "\n",
       "       secondary_cleaner.state.floatbank4_a_level  \\\n",
       "count                                19438.000000   \n",
       "mean                                  -485.894516   \n",
       "std                                     47.758570   \n",
       "min                                   -799.798523   \n",
       "25%                                   -500.704892   \n",
       "50%                                   -499.837793   \n",
       "75%                                   -498.249730   \n",
       "max                                   -245.239184   \n",
       "\n",
       "       secondary_cleaner.state.floatbank4_b_air  \\\n",
       "count                              19438.000000   \n",
       "mean                                  15.010366   \n",
       "std                                    4.890228   \n",
       "min                                    0.000000   \n",
       "25%                                   11.940294   \n",
       "50%                                   14.971014   \n",
       "75%                                   19.034162   \n",
       "max                                   31.269706   \n",
       "\n",
       "       secondary_cleaner.state.floatbank4_b_level  \\\n",
       "count                                19438.000000   \n",
       "mean                                  -461.078636   \n",
       "std                                     67.405524   \n",
       "min                                   -800.836914   \n",
       "25%                                   -500.187742   \n",
       "50%                                   -499.459786   \n",
       "75%                                   -400.118106   \n",
       "max                                     -6.506986   \n",
       "\n",
       "       secondary_cleaner.state.floatbank5_a_air  \\\n",
       "count                              19438.000000   \n",
       "mean                                  15.694452   \n",
       "std                                    5.510974   \n",
       "min                                   -0.372054   \n",
       "25%                                   10.988606   \n",
       "50%                                   15.000036   \n",
       "75%                                   18.026190   \n",
       "max                                   43.709931   \n",
       "\n",
       "       secondary_cleaner.state.floatbank5_a_level  \\\n",
       "count                                19438.000000   \n",
       "mean                                  -488.684065   \n",
       "std                                     34.533396   \n",
       "min                                   -797.323986   \n",
       "25%                                   -500.458467   \n",
       "50%                                   -499.802605   \n",
       "75%                                   -498.384187   \n",
       "max                                   -244.483566   \n",
       "\n",
       "       secondary_cleaner.state.floatbank5_b_air  \\\n",
       "count                              19438.000000   \n",
       "mean                                  12.198224   \n",
       "std                                    5.333024   \n",
       "min                                    0.528083   \n",
       "25%                                    8.971105   \n",
       "50%                                   11.019433   \n",
       "75%                                   14.019088   \n",
       "max                                   27.926001   \n",
       "\n",
       "       secondary_cleaner.state.floatbank5_b_level  \\\n",
       "count                                19438.000000   \n",
       "mean                                  -487.149827   \n",
       "std                                     38.347312   \n",
       "min                                   -800.220337   \n",
       "25%                                   -500.129462   \n",
       "50%                                   -499.935317   \n",
       "75%                                   -499.436708   \n",
       "max                                   -137.740004   \n",
       "\n",
       "       secondary_cleaner.state.floatbank6_a_air  \\\n",
       "count                              19437.000000   \n",
       "mean                                  18.959024   \n",
       "std                                    5.550498   \n",
       "min                                   -0.079426   \n",
       "25%                                   14.983037   \n",
       "50%                                   19.960541   \n",
       "75%                                   24.003170   \n",
       "max                                   32.188906   \n",
       "\n",
       "       secondary_cleaner.state.floatbank6_a_level  \n",
       "count                                19438.000000  \n",
       "mean                                  -505.436305  \n",
       "std                                     37.689057  \n",
       "min                                   -809.741464  \n",
       "25%                                   -500.728067  \n",
       "50%                                   -500.048400  \n",
       "75%                                   -499.495378  \n",
       "max                                   -104.427459  \n",
       "\n",
       "[8 rows x 86 columns]"
      ]
     },
     "execution_count": 11,
     "metadata": {},
     "output_type": "execute_result"
    }
   ],
   "source": [
    "g_full.describe()"
   ]
  },
  {
   "cell_type": "code",
   "execution_count": 12,
   "metadata": {},
   "outputs": [
    {
     "data": {
      "text/html": [
       "<style  type=\"text/css\" >\n",
       "#T_fbbc9_row0_col0,#T_fbbc9_row1_col0,#T_fbbc9_row2_col0,#T_fbbc9_row4_col0,#T_fbbc9_row5_col0,#T_fbbc9_row6_col0,#T_fbbc9_row8_col0,#T_fbbc9_row9_col0,#T_fbbc9_row10_col0,#T_fbbc9_row11_col0,#T_fbbc9_row12_col0,#T_fbbc9_row14_col0,#T_fbbc9_row17_col0,#T_fbbc9_row18_col0,#T_fbbc9_row19_col0,#T_fbbc9_row20_col0,#T_fbbc9_row21_col0,#T_fbbc9_row22_col0,#T_fbbc9_row23_col0,#T_fbbc9_row24_col0,#T_fbbc9_row25_col0,#T_fbbc9_row26_col0,#T_fbbc9_row27_col0,#T_fbbc9_row28_col0,#T_fbbc9_row29_col0,#T_fbbc9_row30_col0,#T_fbbc9_row31_col0,#T_fbbc9_row32_col0,#T_fbbc9_row33_col0,#T_fbbc9_row34_col0,#T_fbbc9_row36_col0,#T_fbbc9_row39_col0,#T_fbbc9_row40_col0,#T_fbbc9_row41_col0,#T_fbbc9_row42_col0,#T_fbbc9_row44_col0,#T_fbbc9_row45_col0,#T_fbbc9_row46_col0,#T_fbbc9_row47_col0,#T_fbbc9_row48_col0,#T_fbbc9_row49_col0,#T_fbbc9_row50_col0,#T_fbbc9_row51_col0,#T_fbbc9_row52_col0,#T_fbbc9_row53_col0,#T_fbbc9_row54_col0,#T_fbbc9_row55_col0,#T_fbbc9_row56_col0,#T_fbbc9_row57_col0,#T_fbbc9_row58_col0,#T_fbbc9_row59_col0,#T_fbbc9_row60_col0,#T_fbbc9_row62_col0,#T_fbbc9_row63_col0,#T_fbbc9_row64_col0,#T_fbbc9_row65_col0,#T_fbbc9_row66_col0,#T_fbbc9_row68_col0,#T_fbbc9_row70_col0,#T_fbbc9_row71_col0,#T_fbbc9_row72_col0,#T_fbbc9_row73_col0,#T_fbbc9_row74_col0,#T_fbbc9_row75_col0,#T_fbbc9_row76_col0,#T_fbbc9_row77_col0,#T_fbbc9_row78_col0,#T_fbbc9_row79_col0,#T_fbbc9_row80_col0,#T_fbbc9_row81_col0,#T_fbbc9_row82_col0,#T_fbbc9_row83_col0,#T_fbbc9_row84_col0,#T_fbbc9_row85_col0,#T_fbbc9_row86_col0{\n",
       "            background-color:  #3b4cc0;\n",
       "            color:  #f1f1f1;\n",
       "        }#T_fbbc9_row3_col0,#T_fbbc9_row7_col0,#T_fbbc9_row13_col0,#T_fbbc9_row15_col0,#T_fbbc9_row35_col0,#T_fbbc9_row37_col0,#T_fbbc9_row38_col0{\n",
       "            background-color:  #5673e0;\n",
       "            color:  #000000;\n",
       "        }#T_fbbc9_row16_col0,#T_fbbc9_row69_col0{\n",
       "            background-color:  #7597f6;\n",
       "            color:  #000000;\n",
       "        }#T_fbbc9_row43_col0,#T_fbbc9_row61_col0{\n",
       "            background-color:  #94b6ff;\n",
       "            color:  #000000;\n",
       "        }#T_fbbc9_row67_col0{\n",
       "            background-color:  #b40426;\n",
       "            color:  #f1f1f1;\n",
       "        }</style><table id=\"T_fbbc9_\" ><thead>    <tr>        <th class=\"blank level0\" ></th>        <th class=\"col_heading level0 col0\" >0</th>    </tr></thead><tbody>\n",
       "                <tr>\n",
       "                        <th id=\"T_fbbc9_level0_row0\" class=\"row_heading level0 row0\" >date</th>\n",
       "                        <td id=\"T_fbbc9_row0_col0\" class=\"data row0 col0\" >0.000000</td>\n",
       "            </tr>\n",
       "            <tr>\n",
       "                        <th id=\"T_fbbc9_level0_row1\" class=\"row_heading level0 row1\" >final.output.concentrate_ag</th>\n",
       "                        <td id=\"T_fbbc9_row1_col0\" class=\"data row1 col0\" >0.000000</td>\n",
       "            </tr>\n",
       "            <tr>\n",
       "                        <th id=\"T_fbbc9_level0_row2\" class=\"row_heading level0 row2\" >final.output.concentrate_pb</th>\n",
       "                        <td id=\"T_fbbc9_row2_col0\" class=\"data row2 col0\" >0.000000</td>\n",
       "            </tr>\n",
       "            <tr>\n",
       "                        <th id=\"T_fbbc9_level0_row3\" class=\"row_heading level0 row3\" >final.output.concentrate_sol</th>\n",
       "                        <td id=\"T_fbbc9_row3_col0\" class=\"data row3 col0\" >1.000000</td>\n",
       "            </tr>\n",
       "            <tr>\n",
       "                        <th id=\"T_fbbc9_level0_row4\" class=\"row_heading level0 row4\" >final.output.concentrate_au</th>\n",
       "                        <td id=\"T_fbbc9_row4_col0\" class=\"data row4 col0\" >0.000000</td>\n",
       "            </tr>\n",
       "            <tr>\n",
       "                        <th id=\"T_fbbc9_level0_row5\" class=\"row_heading level0 row5\" >final.output.recovery</th>\n",
       "                        <td id=\"T_fbbc9_row5_col0\" class=\"data row5 col0\" >0.000000</td>\n",
       "            </tr>\n",
       "            <tr>\n",
       "                        <th id=\"T_fbbc9_level0_row6\" class=\"row_heading level0 row6\" >final.output.tail_ag</th>\n",
       "                        <td id=\"T_fbbc9_row6_col0\" class=\"data row6 col0\" >0.000000</td>\n",
       "            </tr>\n",
       "            <tr>\n",
       "                        <th id=\"T_fbbc9_level0_row7\" class=\"row_heading level0 row7\" >final.output.tail_pb</th>\n",
       "                        <td id=\"T_fbbc9_row7_col0\" class=\"data row7 col0\" >1.000000</td>\n",
       "            </tr>\n",
       "            <tr>\n",
       "                        <th id=\"T_fbbc9_level0_row8\" class=\"row_heading level0 row8\" >final.output.tail_sol</th>\n",
       "                        <td id=\"T_fbbc9_row8_col0\" class=\"data row8 col0\" >0.000000</td>\n",
       "            </tr>\n",
       "            <tr>\n",
       "                        <th id=\"T_fbbc9_level0_row9\" class=\"row_heading level0 row9\" >final.output.tail_au</th>\n",
       "                        <td id=\"T_fbbc9_row9_col0\" class=\"data row9 col0\" >0.000000</td>\n",
       "            </tr>\n",
       "            <tr>\n",
       "                        <th id=\"T_fbbc9_level0_row10\" class=\"row_heading level0 row10\" >primary_cleaner.input.sulfate</th>\n",
       "                        <td id=\"T_fbbc9_row10_col0\" class=\"data row10 col0\" >0.000000</td>\n",
       "            </tr>\n",
       "            <tr>\n",
       "                        <th id=\"T_fbbc9_level0_row11\" class=\"row_heading level0 row11\" >primary_cleaner.input.depressant</th>\n",
       "                        <td id=\"T_fbbc9_row11_col0\" class=\"data row11 col0\" >0.000000</td>\n",
       "            </tr>\n",
       "            <tr>\n",
       "                        <th id=\"T_fbbc9_level0_row12\" class=\"row_heading level0 row12\" >primary_cleaner.input.feed_size</th>\n",
       "                        <td id=\"T_fbbc9_row12_col0\" class=\"data row12 col0\" >0.000000</td>\n",
       "            </tr>\n",
       "            <tr>\n",
       "                        <th id=\"T_fbbc9_level0_row13\" class=\"row_heading level0 row13\" >primary_cleaner.input.xanthate</th>\n",
       "                        <td id=\"T_fbbc9_row13_col0\" class=\"data row13 col0\" >1.000000</td>\n",
       "            </tr>\n",
       "            <tr>\n",
       "                        <th id=\"T_fbbc9_level0_row14\" class=\"row_heading level0 row14\" >primary_cleaner.output.concentrate_ag</th>\n",
       "                        <td id=\"T_fbbc9_row14_col0\" class=\"data row14 col0\" >0.000000</td>\n",
       "            </tr>\n",
       "            <tr>\n",
       "                        <th id=\"T_fbbc9_level0_row15\" class=\"row_heading level0 row15\" >primary_cleaner.output.concentrate_pb</th>\n",
       "                        <td id=\"T_fbbc9_row15_col0\" class=\"data row15 col0\" >1.000000</td>\n",
       "            </tr>\n",
       "            <tr>\n",
       "                        <th id=\"T_fbbc9_level0_row16\" class=\"row_heading level0 row16\" >primary_cleaner.output.concentrate_sol</th>\n",
       "                        <td id=\"T_fbbc9_row16_col0\" class=\"data row16 col0\" >2.000000</td>\n",
       "            </tr>\n",
       "            <tr>\n",
       "                        <th id=\"T_fbbc9_level0_row17\" class=\"row_heading level0 row17\" >primary_cleaner.output.concentrate_au</th>\n",
       "                        <td id=\"T_fbbc9_row17_col0\" class=\"data row17 col0\" >0.000000</td>\n",
       "            </tr>\n",
       "            <tr>\n",
       "                        <th id=\"T_fbbc9_level0_row18\" class=\"row_heading level0 row18\" >primary_cleaner.output.tail_ag</th>\n",
       "                        <td id=\"T_fbbc9_row18_col0\" class=\"data row18 col0\" >0.000000</td>\n",
       "            </tr>\n",
       "            <tr>\n",
       "                        <th id=\"T_fbbc9_level0_row19\" class=\"row_heading level0 row19\" >primary_cleaner.output.tail_pb</th>\n",
       "                        <td id=\"T_fbbc9_row19_col0\" class=\"data row19 col0\" >0.000000</td>\n",
       "            </tr>\n",
       "            <tr>\n",
       "                        <th id=\"T_fbbc9_level0_row20\" class=\"row_heading level0 row20\" >primary_cleaner.output.tail_sol</th>\n",
       "                        <td id=\"T_fbbc9_row20_col0\" class=\"data row20 col0\" >0.000000</td>\n",
       "            </tr>\n",
       "            <tr>\n",
       "                        <th id=\"T_fbbc9_level0_row21\" class=\"row_heading level0 row21\" >primary_cleaner.output.tail_au</th>\n",
       "                        <td id=\"T_fbbc9_row21_col0\" class=\"data row21 col0\" >0.000000</td>\n",
       "            </tr>\n",
       "            <tr>\n",
       "                        <th id=\"T_fbbc9_level0_row22\" class=\"row_heading level0 row22\" >primary_cleaner.state.floatbank8_a_air</th>\n",
       "                        <td id=\"T_fbbc9_row22_col0\" class=\"data row22 col0\" >0.000000</td>\n",
       "            </tr>\n",
       "            <tr>\n",
       "                        <th id=\"T_fbbc9_level0_row23\" class=\"row_heading level0 row23\" >primary_cleaner.state.floatbank8_a_level</th>\n",
       "                        <td id=\"T_fbbc9_row23_col0\" class=\"data row23 col0\" >0.000000</td>\n",
       "            </tr>\n",
       "            <tr>\n",
       "                        <th id=\"T_fbbc9_level0_row24\" class=\"row_heading level0 row24\" >primary_cleaner.state.floatbank8_b_air</th>\n",
       "                        <td id=\"T_fbbc9_row24_col0\" class=\"data row24 col0\" >0.000000</td>\n",
       "            </tr>\n",
       "            <tr>\n",
       "                        <th id=\"T_fbbc9_level0_row25\" class=\"row_heading level0 row25\" >primary_cleaner.state.floatbank8_b_level</th>\n",
       "                        <td id=\"T_fbbc9_row25_col0\" class=\"data row25 col0\" >0.000000</td>\n",
       "            </tr>\n",
       "            <tr>\n",
       "                        <th id=\"T_fbbc9_level0_row26\" class=\"row_heading level0 row26\" >primary_cleaner.state.floatbank8_c_air</th>\n",
       "                        <td id=\"T_fbbc9_row26_col0\" class=\"data row26 col0\" >0.000000</td>\n",
       "            </tr>\n",
       "            <tr>\n",
       "                        <th id=\"T_fbbc9_level0_row27\" class=\"row_heading level0 row27\" >primary_cleaner.state.floatbank8_c_level</th>\n",
       "                        <td id=\"T_fbbc9_row27_col0\" class=\"data row27 col0\" >0.000000</td>\n",
       "            </tr>\n",
       "            <tr>\n",
       "                        <th id=\"T_fbbc9_level0_row28\" class=\"row_heading level0 row28\" >primary_cleaner.state.floatbank8_d_air</th>\n",
       "                        <td id=\"T_fbbc9_row28_col0\" class=\"data row28 col0\" >0.000000</td>\n",
       "            </tr>\n",
       "            <tr>\n",
       "                        <th id=\"T_fbbc9_level0_row29\" class=\"row_heading level0 row29\" >primary_cleaner.state.floatbank8_d_level</th>\n",
       "                        <td id=\"T_fbbc9_row29_col0\" class=\"data row29 col0\" >0.000000</td>\n",
       "            </tr>\n",
       "            <tr>\n",
       "                        <th id=\"T_fbbc9_level0_row30\" class=\"row_heading level0 row30\" >rougher.calculation.sulfate_to_au_concentrate</th>\n",
       "                        <td id=\"T_fbbc9_row30_col0\" class=\"data row30 col0\" >0.000000</td>\n",
       "            </tr>\n",
       "            <tr>\n",
       "                        <th id=\"T_fbbc9_level0_row31\" class=\"row_heading level0 row31\" >rougher.calculation.floatbank10_sulfate_to_au_feed</th>\n",
       "                        <td id=\"T_fbbc9_row31_col0\" class=\"data row31 col0\" >0.000000</td>\n",
       "            </tr>\n",
       "            <tr>\n",
       "                        <th id=\"T_fbbc9_level0_row32\" class=\"row_heading level0 row32\" >rougher.calculation.floatbank11_sulfate_to_au_feed</th>\n",
       "                        <td id=\"T_fbbc9_row32_col0\" class=\"data row32 col0\" >0.000000</td>\n",
       "            </tr>\n",
       "            <tr>\n",
       "                        <th id=\"T_fbbc9_level0_row33\" class=\"row_heading level0 row33\" >rougher.calculation.au_pb_ratio</th>\n",
       "                        <td id=\"T_fbbc9_row33_col0\" class=\"data row33 col0\" >0.000000</td>\n",
       "            </tr>\n",
       "            <tr>\n",
       "                        <th id=\"T_fbbc9_level0_row34\" class=\"row_heading level0 row34\" >rougher.input.feed_ag</th>\n",
       "                        <td id=\"T_fbbc9_row34_col0\" class=\"data row34 col0\" >0.000000</td>\n",
       "            </tr>\n",
       "            <tr>\n",
       "                        <th id=\"T_fbbc9_level0_row35\" class=\"row_heading level0 row35\" >rougher.input.feed_pb</th>\n",
       "                        <td id=\"T_fbbc9_row35_col0\" class=\"data row35 col0\" >1.000000</td>\n",
       "            </tr>\n",
       "            <tr>\n",
       "                        <th id=\"T_fbbc9_level0_row36\" class=\"row_heading level0 row36\" >rougher.input.feed_rate</th>\n",
       "                        <td id=\"T_fbbc9_row36_col0\" class=\"data row36 col0\" >0.000000</td>\n",
       "            </tr>\n",
       "            <tr>\n",
       "                        <th id=\"T_fbbc9_level0_row37\" class=\"row_heading level0 row37\" >rougher.input.feed_size</th>\n",
       "                        <td id=\"T_fbbc9_row37_col0\" class=\"data row37 col0\" >1.000000</td>\n",
       "            </tr>\n",
       "            <tr>\n",
       "                        <th id=\"T_fbbc9_level0_row38\" class=\"row_heading level0 row38\" >rougher.input.feed_sol</th>\n",
       "                        <td id=\"T_fbbc9_row38_col0\" class=\"data row38 col0\" >1.000000</td>\n",
       "            </tr>\n",
       "            <tr>\n",
       "                        <th id=\"T_fbbc9_level0_row39\" class=\"row_heading level0 row39\" >rougher.input.feed_au</th>\n",
       "                        <td id=\"T_fbbc9_row39_col0\" class=\"data row39 col0\" >0.000000</td>\n",
       "            </tr>\n",
       "            <tr>\n",
       "                        <th id=\"T_fbbc9_level0_row40\" class=\"row_heading level0 row40\" >rougher.input.floatbank10_sulfate</th>\n",
       "                        <td id=\"T_fbbc9_row40_col0\" class=\"data row40 col0\" >0.000000</td>\n",
       "            </tr>\n",
       "            <tr>\n",
       "                        <th id=\"T_fbbc9_level0_row41\" class=\"row_heading level0 row41\" >rougher.input.floatbank10_xanthate</th>\n",
       "                        <td id=\"T_fbbc9_row41_col0\" class=\"data row41 col0\" >0.000000</td>\n",
       "            </tr>\n",
       "            <tr>\n",
       "                        <th id=\"T_fbbc9_level0_row42\" class=\"row_heading level0 row42\" >rougher.input.floatbank11_sulfate</th>\n",
       "                        <td id=\"T_fbbc9_row42_col0\" class=\"data row42 col0\" >0.000000</td>\n",
       "            </tr>\n",
       "            <tr>\n",
       "                        <th id=\"T_fbbc9_level0_row43\" class=\"row_heading level0 row43\" >rougher.input.floatbank11_xanthate</th>\n",
       "                        <td id=\"T_fbbc9_row43_col0\" class=\"data row43 col0\" >3.000000</td>\n",
       "            </tr>\n",
       "            <tr>\n",
       "                        <th id=\"T_fbbc9_level0_row44\" class=\"row_heading level0 row44\" >rougher.output.concentrate_ag</th>\n",
       "                        <td id=\"T_fbbc9_row44_col0\" class=\"data row44 col0\" >0.000000</td>\n",
       "            </tr>\n",
       "            <tr>\n",
       "                        <th id=\"T_fbbc9_level0_row45\" class=\"row_heading level0 row45\" >rougher.output.concentrate_pb</th>\n",
       "                        <td id=\"T_fbbc9_row45_col0\" class=\"data row45 col0\" >0.000000</td>\n",
       "            </tr>\n",
       "            <tr>\n",
       "                        <th id=\"T_fbbc9_level0_row46\" class=\"row_heading level0 row46\" >rougher.output.concentrate_sol</th>\n",
       "                        <td id=\"T_fbbc9_row46_col0\" class=\"data row46 col0\" >0.000000</td>\n",
       "            </tr>\n",
       "            <tr>\n",
       "                        <th id=\"T_fbbc9_level0_row47\" class=\"row_heading level0 row47\" >rougher.output.concentrate_au</th>\n",
       "                        <td id=\"T_fbbc9_row47_col0\" class=\"data row47 col0\" >0.000000</td>\n",
       "            </tr>\n",
       "            <tr>\n",
       "                        <th id=\"T_fbbc9_level0_row48\" class=\"row_heading level0 row48\" >rougher.output.recovery</th>\n",
       "                        <td id=\"T_fbbc9_row48_col0\" class=\"data row48 col0\" >0.000000</td>\n",
       "            </tr>\n",
       "            <tr>\n",
       "                        <th id=\"T_fbbc9_level0_row49\" class=\"row_heading level0 row49\" >rougher.output.tail_ag</th>\n",
       "                        <td id=\"T_fbbc9_row49_col0\" class=\"data row49 col0\" >0.000000</td>\n",
       "            </tr>\n",
       "            <tr>\n",
       "                        <th id=\"T_fbbc9_level0_row50\" class=\"row_heading level0 row50\" >rougher.output.tail_pb</th>\n",
       "                        <td id=\"T_fbbc9_row50_col0\" class=\"data row50 col0\" >0.000000</td>\n",
       "            </tr>\n",
       "            <tr>\n",
       "                        <th id=\"T_fbbc9_level0_row51\" class=\"row_heading level0 row51\" >rougher.output.tail_sol</th>\n",
       "                        <td id=\"T_fbbc9_row51_col0\" class=\"data row51 col0\" >0.000000</td>\n",
       "            </tr>\n",
       "            <tr>\n",
       "                        <th id=\"T_fbbc9_level0_row52\" class=\"row_heading level0 row52\" >rougher.output.tail_au</th>\n",
       "                        <td id=\"T_fbbc9_row52_col0\" class=\"data row52 col0\" >0.000000</td>\n",
       "            </tr>\n",
       "            <tr>\n",
       "                        <th id=\"T_fbbc9_level0_row53\" class=\"row_heading level0 row53\" >rougher.state.floatbank10_a_air</th>\n",
       "                        <td id=\"T_fbbc9_row53_col0\" class=\"data row53 col0\" >0.000000</td>\n",
       "            </tr>\n",
       "            <tr>\n",
       "                        <th id=\"T_fbbc9_level0_row54\" class=\"row_heading level0 row54\" >rougher.state.floatbank10_a_level</th>\n",
       "                        <td id=\"T_fbbc9_row54_col0\" class=\"data row54 col0\" >0.000000</td>\n",
       "            </tr>\n",
       "            <tr>\n",
       "                        <th id=\"T_fbbc9_level0_row55\" class=\"row_heading level0 row55\" >rougher.state.floatbank10_b_air</th>\n",
       "                        <td id=\"T_fbbc9_row55_col0\" class=\"data row55 col0\" >0.000000</td>\n",
       "            </tr>\n",
       "            <tr>\n",
       "                        <th id=\"T_fbbc9_level0_row56\" class=\"row_heading level0 row56\" >rougher.state.floatbank10_b_level</th>\n",
       "                        <td id=\"T_fbbc9_row56_col0\" class=\"data row56 col0\" >0.000000</td>\n",
       "            </tr>\n",
       "            <tr>\n",
       "                        <th id=\"T_fbbc9_level0_row57\" class=\"row_heading level0 row57\" >rougher.state.floatbank10_c_air</th>\n",
       "                        <td id=\"T_fbbc9_row57_col0\" class=\"data row57 col0\" >0.000000</td>\n",
       "            </tr>\n",
       "            <tr>\n",
       "                        <th id=\"T_fbbc9_level0_row58\" class=\"row_heading level0 row58\" >rougher.state.floatbank10_c_level</th>\n",
       "                        <td id=\"T_fbbc9_row58_col0\" class=\"data row58 col0\" >0.000000</td>\n",
       "            </tr>\n",
       "            <tr>\n",
       "                        <th id=\"T_fbbc9_level0_row59\" class=\"row_heading level0 row59\" >rougher.state.floatbank10_d_air</th>\n",
       "                        <td id=\"T_fbbc9_row59_col0\" class=\"data row59 col0\" >0.000000</td>\n",
       "            </tr>\n",
       "            <tr>\n",
       "                        <th id=\"T_fbbc9_level0_row60\" class=\"row_heading level0 row60\" >rougher.state.floatbank10_d_level</th>\n",
       "                        <td id=\"T_fbbc9_row60_col0\" class=\"data row60 col0\" >0.000000</td>\n",
       "            </tr>\n",
       "            <tr>\n",
       "                        <th id=\"T_fbbc9_level0_row61\" class=\"row_heading level0 row61\" >rougher.state.floatbank10_e_air</th>\n",
       "                        <td id=\"T_fbbc9_row61_col0\" class=\"data row61 col0\" >3.000000</td>\n",
       "            </tr>\n",
       "            <tr>\n",
       "                        <th id=\"T_fbbc9_level0_row62\" class=\"row_heading level0 row62\" >rougher.state.floatbank10_e_level</th>\n",
       "                        <td id=\"T_fbbc9_row62_col0\" class=\"data row62 col0\" >0.000000</td>\n",
       "            </tr>\n",
       "            <tr>\n",
       "                        <th id=\"T_fbbc9_level0_row63\" class=\"row_heading level0 row63\" >rougher.state.floatbank10_f_air</th>\n",
       "                        <td id=\"T_fbbc9_row63_col0\" class=\"data row63 col0\" >0.000000</td>\n",
       "            </tr>\n",
       "            <tr>\n",
       "                        <th id=\"T_fbbc9_level0_row64\" class=\"row_heading level0 row64\" >rougher.state.floatbank10_f_level</th>\n",
       "                        <td id=\"T_fbbc9_row64_col0\" class=\"data row64 col0\" >0.000000</td>\n",
       "            </tr>\n",
       "            <tr>\n",
       "                        <th id=\"T_fbbc9_level0_row65\" class=\"row_heading level0 row65\" >secondary_cleaner.output.tail_ag</th>\n",
       "                        <td id=\"T_fbbc9_row65_col0\" class=\"data row65 col0\" >0.000000</td>\n",
       "            </tr>\n",
       "            <tr>\n",
       "                        <th id=\"T_fbbc9_level0_row66\" class=\"row_heading level0 row66\" >secondary_cleaner.output.tail_pb</th>\n",
       "                        <td id=\"T_fbbc9_row66_col0\" class=\"data row66 col0\" >0.000000</td>\n",
       "            </tr>\n",
       "            <tr>\n",
       "                        <th id=\"T_fbbc9_level0_row67\" class=\"row_heading level0 row67\" >secondary_cleaner.output.tail_sol</th>\n",
       "                        <td id=\"T_fbbc9_row67_col0\" class=\"data row67 col0\" >11.000000</td>\n",
       "            </tr>\n",
       "            <tr>\n",
       "                        <th id=\"T_fbbc9_level0_row68\" class=\"row_heading level0 row68\" >secondary_cleaner.output.tail_au</th>\n",
       "                        <td id=\"T_fbbc9_row68_col0\" class=\"data row68 col0\" >0.000000</td>\n",
       "            </tr>\n",
       "            <tr>\n",
       "                        <th id=\"T_fbbc9_level0_row69\" class=\"row_heading level0 row69\" >secondary_cleaner.state.floatbank2_a_air</th>\n",
       "                        <td id=\"T_fbbc9_row69_col0\" class=\"data row69 col0\" >2.000000</td>\n",
       "            </tr>\n",
       "            <tr>\n",
       "                        <th id=\"T_fbbc9_level0_row70\" class=\"row_heading level0 row70\" >secondary_cleaner.state.floatbank2_a_level</th>\n",
       "                        <td id=\"T_fbbc9_row70_col0\" class=\"data row70 col0\" >0.000000</td>\n",
       "            </tr>\n",
       "            <tr>\n",
       "                        <th id=\"T_fbbc9_level0_row71\" class=\"row_heading level0 row71\" >secondary_cleaner.state.floatbank2_b_air</th>\n",
       "                        <td id=\"T_fbbc9_row71_col0\" class=\"data row71 col0\" >0.000000</td>\n",
       "            </tr>\n",
       "            <tr>\n",
       "                        <th id=\"T_fbbc9_level0_row72\" class=\"row_heading level0 row72\" >secondary_cleaner.state.floatbank2_b_level</th>\n",
       "                        <td id=\"T_fbbc9_row72_col0\" class=\"data row72 col0\" >0.000000</td>\n",
       "            </tr>\n",
       "            <tr>\n",
       "                        <th id=\"T_fbbc9_level0_row73\" class=\"row_heading level0 row73\" >secondary_cleaner.state.floatbank3_a_air</th>\n",
       "                        <td id=\"T_fbbc9_row73_col0\" class=\"data row73 col0\" >0.000000</td>\n",
       "            </tr>\n",
       "            <tr>\n",
       "                        <th id=\"T_fbbc9_level0_row74\" class=\"row_heading level0 row74\" >secondary_cleaner.state.floatbank3_a_level</th>\n",
       "                        <td id=\"T_fbbc9_row74_col0\" class=\"data row74 col0\" >0.000000</td>\n",
       "            </tr>\n",
       "            <tr>\n",
       "                        <th id=\"T_fbbc9_level0_row75\" class=\"row_heading level0 row75\" >secondary_cleaner.state.floatbank3_b_air</th>\n",
       "                        <td id=\"T_fbbc9_row75_col0\" class=\"data row75 col0\" >0.000000</td>\n",
       "            </tr>\n",
       "            <tr>\n",
       "                        <th id=\"T_fbbc9_level0_row76\" class=\"row_heading level0 row76\" >secondary_cleaner.state.floatbank3_b_level</th>\n",
       "                        <td id=\"T_fbbc9_row76_col0\" class=\"data row76 col0\" >0.000000</td>\n",
       "            </tr>\n",
       "            <tr>\n",
       "                        <th id=\"T_fbbc9_level0_row77\" class=\"row_heading level0 row77\" >secondary_cleaner.state.floatbank4_a_air</th>\n",
       "                        <td id=\"T_fbbc9_row77_col0\" class=\"data row77 col0\" >0.000000</td>\n",
       "            </tr>\n",
       "            <tr>\n",
       "                        <th id=\"T_fbbc9_level0_row78\" class=\"row_heading level0 row78\" >secondary_cleaner.state.floatbank4_a_level</th>\n",
       "                        <td id=\"T_fbbc9_row78_col0\" class=\"data row78 col0\" >0.000000</td>\n",
       "            </tr>\n",
       "            <tr>\n",
       "                        <th id=\"T_fbbc9_level0_row79\" class=\"row_heading level0 row79\" >secondary_cleaner.state.floatbank4_b_air</th>\n",
       "                        <td id=\"T_fbbc9_row79_col0\" class=\"data row79 col0\" >0.000000</td>\n",
       "            </tr>\n",
       "            <tr>\n",
       "                        <th id=\"T_fbbc9_level0_row80\" class=\"row_heading level0 row80\" >secondary_cleaner.state.floatbank4_b_level</th>\n",
       "                        <td id=\"T_fbbc9_row80_col0\" class=\"data row80 col0\" >0.000000</td>\n",
       "            </tr>\n",
       "            <tr>\n",
       "                        <th id=\"T_fbbc9_level0_row81\" class=\"row_heading level0 row81\" >secondary_cleaner.state.floatbank5_a_air</th>\n",
       "                        <td id=\"T_fbbc9_row81_col0\" class=\"data row81 col0\" >0.000000</td>\n",
       "            </tr>\n",
       "            <tr>\n",
       "                        <th id=\"T_fbbc9_level0_row82\" class=\"row_heading level0 row82\" >secondary_cleaner.state.floatbank5_a_level</th>\n",
       "                        <td id=\"T_fbbc9_row82_col0\" class=\"data row82 col0\" >0.000000</td>\n",
       "            </tr>\n",
       "            <tr>\n",
       "                        <th id=\"T_fbbc9_level0_row83\" class=\"row_heading level0 row83\" >secondary_cleaner.state.floatbank5_b_air</th>\n",
       "                        <td id=\"T_fbbc9_row83_col0\" class=\"data row83 col0\" >0.000000</td>\n",
       "            </tr>\n",
       "            <tr>\n",
       "                        <th id=\"T_fbbc9_level0_row84\" class=\"row_heading level0 row84\" >secondary_cleaner.state.floatbank5_b_level</th>\n",
       "                        <td id=\"T_fbbc9_row84_col0\" class=\"data row84 col0\" >0.000000</td>\n",
       "            </tr>\n",
       "            <tr>\n",
       "                        <th id=\"T_fbbc9_level0_row85\" class=\"row_heading level0 row85\" >secondary_cleaner.state.floatbank6_a_air</th>\n",
       "                        <td id=\"T_fbbc9_row85_col0\" class=\"data row85 col0\" >0.000000</td>\n",
       "            </tr>\n",
       "            <tr>\n",
       "                        <th id=\"T_fbbc9_level0_row86\" class=\"row_heading level0 row86\" >secondary_cleaner.state.floatbank6_a_level</th>\n",
       "                        <td id=\"T_fbbc9_row86_col0\" class=\"data row86 col0\" >0.000000</td>\n",
       "            </tr>\n",
       "    </tbody></table>"
      ],
      "text/plain": [
       "<pandas.io.formats.style.Styler at 0x7feed6fd0fa0>"
      ]
     },
     "execution_count": 12,
     "metadata": {},
     "output_type": "execute_result"
    }
   ],
   "source": [
    "#проверим колличество пропусков в %\n",
    "pd.DataFrame(round(g_train.isna().mean()*100,)).style.background_gradient('coolwarm')"
   ]
  },
  {
   "cell_type": "code",
   "execution_count": 13,
   "metadata": {
    "scrolled": true
   },
   "outputs": [
    {
     "data": {
      "text/html": [
       "<style  type=\"text/css\" >\n",
       "#T_38a1a_row0_col0,#T_38a1a_row1_col0,#T_38a1a_row2_col0,#T_38a1a_row3_col0,#T_38a1a_row4_col0,#T_38a1a_row5_col0,#T_38a1a_row6_col0,#T_38a1a_row7_col0,#T_38a1a_row8_col0,#T_38a1a_row9_col0,#T_38a1a_row10_col0,#T_38a1a_row11_col0,#T_38a1a_row12_col0,#T_38a1a_row13_col0,#T_38a1a_row14_col0,#T_38a1a_row15_col0,#T_38a1a_row16_col0,#T_38a1a_row17_col0,#T_38a1a_row18_col0,#T_38a1a_row19_col0,#T_38a1a_row20_col0,#T_38a1a_row21_col0,#T_38a1a_row22_col0,#T_38a1a_row23_col0,#T_38a1a_row24_col0,#T_38a1a_row25_col0,#T_38a1a_row26_col0,#T_38a1a_row27_col0,#T_38a1a_row28_col0,#T_38a1a_row29_col0,#T_38a1a_row30_col0,#T_38a1a_row31_col0,#T_38a1a_row32_col0,#T_38a1a_row33_col0,#T_38a1a_row34_col0,#T_38a1a_row35_col0,#T_38a1a_row36_col0,#T_38a1a_row37_col0,#T_38a1a_row38_col0,#T_38a1a_row39_col0,#T_38a1a_row40_col0,#T_38a1a_row41_col0,#T_38a1a_row42_col0,#T_38a1a_row43_col0,#T_38a1a_row44_col0,#T_38a1a_row45_col0,#T_38a1a_row46_col0,#T_38a1a_row47_col0,#T_38a1a_row48_col0,#T_38a1a_row49_col0,#T_38a1a_row50_col0,#T_38a1a_row51_col0,#T_38a1a_row52_col0{\n",
       "            background-color:  #3b4cc0;\n",
       "            color:  #f1f1f1;\n",
       "        }</style><table id=\"T_38a1a_\" ><thead>    <tr>        <th class=\"blank level0\" ></th>        <th class=\"col_heading level0 col0\" >0</th>    </tr></thead><tbody>\n",
       "                <tr>\n",
       "                        <th id=\"T_38a1a_level0_row0\" class=\"row_heading level0 row0\" >date</th>\n",
       "                        <td id=\"T_38a1a_row0_col0\" class=\"data row0 col0\" >0.000000</td>\n",
       "            </tr>\n",
       "            <tr>\n",
       "                        <th id=\"T_38a1a_level0_row1\" class=\"row_heading level0 row1\" >primary_cleaner.input.sulfate</th>\n",
       "                        <td id=\"T_38a1a_row1_col0\" class=\"data row1 col0\" >0.000000</td>\n",
       "            </tr>\n",
       "            <tr>\n",
       "                        <th id=\"T_38a1a_level0_row2\" class=\"row_heading level0 row2\" >primary_cleaner.input.depressant</th>\n",
       "                        <td id=\"T_38a1a_row2_col0\" class=\"data row2 col0\" >0.000000</td>\n",
       "            </tr>\n",
       "            <tr>\n",
       "                        <th id=\"T_38a1a_level0_row3\" class=\"row_heading level0 row3\" >primary_cleaner.input.feed_size</th>\n",
       "                        <td id=\"T_38a1a_row3_col0\" class=\"data row3 col0\" >0.000000</td>\n",
       "            </tr>\n",
       "            <tr>\n",
       "                        <th id=\"T_38a1a_level0_row4\" class=\"row_heading level0 row4\" >primary_cleaner.input.xanthate</th>\n",
       "                        <td id=\"T_38a1a_row4_col0\" class=\"data row4 col0\" >0.000000</td>\n",
       "            </tr>\n",
       "            <tr>\n",
       "                        <th id=\"T_38a1a_level0_row5\" class=\"row_heading level0 row5\" >primary_cleaner.state.floatbank8_a_air</th>\n",
       "                        <td id=\"T_38a1a_row5_col0\" class=\"data row5 col0\" >0.000000</td>\n",
       "            </tr>\n",
       "            <tr>\n",
       "                        <th id=\"T_38a1a_level0_row6\" class=\"row_heading level0 row6\" >primary_cleaner.state.floatbank8_a_level</th>\n",
       "                        <td id=\"T_38a1a_row6_col0\" class=\"data row6 col0\" >0.000000</td>\n",
       "            </tr>\n",
       "            <tr>\n",
       "                        <th id=\"T_38a1a_level0_row7\" class=\"row_heading level0 row7\" >primary_cleaner.state.floatbank8_b_air</th>\n",
       "                        <td id=\"T_38a1a_row7_col0\" class=\"data row7 col0\" >0.000000</td>\n",
       "            </tr>\n",
       "            <tr>\n",
       "                        <th id=\"T_38a1a_level0_row8\" class=\"row_heading level0 row8\" >primary_cleaner.state.floatbank8_b_level</th>\n",
       "                        <td id=\"T_38a1a_row8_col0\" class=\"data row8 col0\" >0.000000</td>\n",
       "            </tr>\n",
       "            <tr>\n",
       "                        <th id=\"T_38a1a_level0_row9\" class=\"row_heading level0 row9\" >primary_cleaner.state.floatbank8_c_air</th>\n",
       "                        <td id=\"T_38a1a_row9_col0\" class=\"data row9 col0\" >0.000000</td>\n",
       "            </tr>\n",
       "            <tr>\n",
       "                        <th id=\"T_38a1a_level0_row10\" class=\"row_heading level0 row10\" >primary_cleaner.state.floatbank8_c_level</th>\n",
       "                        <td id=\"T_38a1a_row10_col0\" class=\"data row10 col0\" >0.000000</td>\n",
       "            </tr>\n",
       "            <tr>\n",
       "                        <th id=\"T_38a1a_level0_row11\" class=\"row_heading level0 row11\" >primary_cleaner.state.floatbank8_d_air</th>\n",
       "                        <td id=\"T_38a1a_row11_col0\" class=\"data row11 col0\" >0.000000</td>\n",
       "            </tr>\n",
       "            <tr>\n",
       "                        <th id=\"T_38a1a_level0_row12\" class=\"row_heading level0 row12\" >primary_cleaner.state.floatbank8_d_level</th>\n",
       "                        <td id=\"T_38a1a_row12_col0\" class=\"data row12 col0\" >0.000000</td>\n",
       "            </tr>\n",
       "            <tr>\n",
       "                        <th id=\"T_38a1a_level0_row13\" class=\"row_heading level0 row13\" >rougher.input.feed_ag</th>\n",
       "                        <td id=\"T_38a1a_row13_col0\" class=\"data row13 col0\" >0.000000</td>\n",
       "            </tr>\n",
       "            <tr>\n",
       "                        <th id=\"T_38a1a_level0_row14\" class=\"row_heading level0 row14\" >rougher.input.feed_pb</th>\n",
       "                        <td id=\"T_38a1a_row14_col0\" class=\"data row14 col0\" >0.000000</td>\n",
       "            </tr>\n",
       "            <tr>\n",
       "                        <th id=\"T_38a1a_level0_row15\" class=\"row_heading level0 row15\" >rougher.input.feed_rate</th>\n",
       "                        <td id=\"T_38a1a_row15_col0\" class=\"data row15 col0\" >0.000000</td>\n",
       "            </tr>\n",
       "            <tr>\n",
       "                        <th id=\"T_38a1a_level0_row16\" class=\"row_heading level0 row16\" >rougher.input.feed_size</th>\n",
       "                        <td id=\"T_38a1a_row16_col0\" class=\"data row16 col0\" >0.000000</td>\n",
       "            </tr>\n",
       "            <tr>\n",
       "                        <th id=\"T_38a1a_level0_row17\" class=\"row_heading level0 row17\" >rougher.input.feed_sol</th>\n",
       "                        <td id=\"T_38a1a_row17_col0\" class=\"data row17 col0\" >0.000000</td>\n",
       "            </tr>\n",
       "            <tr>\n",
       "                        <th id=\"T_38a1a_level0_row18\" class=\"row_heading level0 row18\" >rougher.input.feed_au</th>\n",
       "                        <td id=\"T_38a1a_row18_col0\" class=\"data row18 col0\" >0.000000</td>\n",
       "            </tr>\n",
       "            <tr>\n",
       "                        <th id=\"T_38a1a_level0_row19\" class=\"row_heading level0 row19\" >rougher.input.floatbank10_sulfate</th>\n",
       "                        <td id=\"T_38a1a_row19_col0\" class=\"data row19 col0\" >0.000000</td>\n",
       "            </tr>\n",
       "            <tr>\n",
       "                        <th id=\"T_38a1a_level0_row20\" class=\"row_heading level0 row20\" >rougher.input.floatbank10_xanthate</th>\n",
       "                        <td id=\"T_38a1a_row20_col0\" class=\"data row20 col0\" >0.000000</td>\n",
       "            </tr>\n",
       "            <tr>\n",
       "                        <th id=\"T_38a1a_level0_row21\" class=\"row_heading level0 row21\" >rougher.input.floatbank11_sulfate</th>\n",
       "                        <td id=\"T_38a1a_row21_col0\" class=\"data row21 col0\" >0.000000</td>\n",
       "            </tr>\n",
       "            <tr>\n",
       "                        <th id=\"T_38a1a_level0_row22\" class=\"row_heading level0 row22\" >rougher.input.floatbank11_xanthate</th>\n",
       "                        <td id=\"T_38a1a_row22_col0\" class=\"data row22 col0\" >0.000000</td>\n",
       "            </tr>\n",
       "            <tr>\n",
       "                        <th id=\"T_38a1a_level0_row23\" class=\"row_heading level0 row23\" >rougher.state.floatbank10_a_air</th>\n",
       "                        <td id=\"T_38a1a_row23_col0\" class=\"data row23 col0\" >0.000000</td>\n",
       "            </tr>\n",
       "            <tr>\n",
       "                        <th id=\"T_38a1a_level0_row24\" class=\"row_heading level0 row24\" >rougher.state.floatbank10_a_level</th>\n",
       "                        <td id=\"T_38a1a_row24_col0\" class=\"data row24 col0\" >0.000000</td>\n",
       "            </tr>\n",
       "            <tr>\n",
       "                        <th id=\"T_38a1a_level0_row25\" class=\"row_heading level0 row25\" >rougher.state.floatbank10_b_air</th>\n",
       "                        <td id=\"T_38a1a_row25_col0\" class=\"data row25 col0\" >0.000000</td>\n",
       "            </tr>\n",
       "            <tr>\n",
       "                        <th id=\"T_38a1a_level0_row26\" class=\"row_heading level0 row26\" >rougher.state.floatbank10_b_level</th>\n",
       "                        <td id=\"T_38a1a_row26_col0\" class=\"data row26 col0\" >0.000000</td>\n",
       "            </tr>\n",
       "            <tr>\n",
       "                        <th id=\"T_38a1a_level0_row27\" class=\"row_heading level0 row27\" >rougher.state.floatbank10_c_air</th>\n",
       "                        <td id=\"T_38a1a_row27_col0\" class=\"data row27 col0\" >0.000000</td>\n",
       "            </tr>\n",
       "            <tr>\n",
       "                        <th id=\"T_38a1a_level0_row28\" class=\"row_heading level0 row28\" >rougher.state.floatbank10_c_level</th>\n",
       "                        <td id=\"T_38a1a_row28_col0\" class=\"data row28 col0\" >0.000000</td>\n",
       "            </tr>\n",
       "            <tr>\n",
       "                        <th id=\"T_38a1a_level0_row29\" class=\"row_heading level0 row29\" >rougher.state.floatbank10_d_air</th>\n",
       "                        <td id=\"T_38a1a_row29_col0\" class=\"data row29 col0\" >0.000000</td>\n",
       "            </tr>\n",
       "            <tr>\n",
       "                        <th id=\"T_38a1a_level0_row30\" class=\"row_heading level0 row30\" >rougher.state.floatbank10_d_level</th>\n",
       "                        <td id=\"T_38a1a_row30_col0\" class=\"data row30 col0\" >0.000000</td>\n",
       "            </tr>\n",
       "            <tr>\n",
       "                        <th id=\"T_38a1a_level0_row31\" class=\"row_heading level0 row31\" >rougher.state.floatbank10_e_air</th>\n",
       "                        <td id=\"T_38a1a_row31_col0\" class=\"data row31 col0\" >0.000000</td>\n",
       "            </tr>\n",
       "            <tr>\n",
       "                        <th id=\"T_38a1a_level0_row32\" class=\"row_heading level0 row32\" >rougher.state.floatbank10_e_level</th>\n",
       "                        <td id=\"T_38a1a_row32_col0\" class=\"data row32 col0\" >0.000000</td>\n",
       "            </tr>\n",
       "            <tr>\n",
       "                        <th id=\"T_38a1a_level0_row33\" class=\"row_heading level0 row33\" >rougher.state.floatbank10_f_air</th>\n",
       "                        <td id=\"T_38a1a_row33_col0\" class=\"data row33 col0\" >0.000000</td>\n",
       "            </tr>\n",
       "            <tr>\n",
       "                        <th id=\"T_38a1a_level0_row34\" class=\"row_heading level0 row34\" >rougher.state.floatbank10_f_level</th>\n",
       "                        <td id=\"T_38a1a_row34_col0\" class=\"data row34 col0\" >0.000000</td>\n",
       "            </tr>\n",
       "            <tr>\n",
       "                        <th id=\"T_38a1a_level0_row35\" class=\"row_heading level0 row35\" >secondary_cleaner.state.floatbank2_a_air</th>\n",
       "                        <td id=\"T_38a1a_row35_col0\" class=\"data row35 col0\" >0.000000</td>\n",
       "            </tr>\n",
       "            <tr>\n",
       "                        <th id=\"T_38a1a_level0_row36\" class=\"row_heading level0 row36\" >secondary_cleaner.state.floatbank2_a_level</th>\n",
       "                        <td id=\"T_38a1a_row36_col0\" class=\"data row36 col0\" >0.000000</td>\n",
       "            </tr>\n",
       "            <tr>\n",
       "                        <th id=\"T_38a1a_level0_row37\" class=\"row_heading level0 row37\" >secondary_cleaner.state.floatbank2_b_air</th>\n",
       "                        <td id=\"T_38a1a_row37_col0\" class=\"data row37 col0\" >0.000000</td>\n",
       "            </tr>\n",
       "            <tr>\n",
       "                        <th id=\"T_38a1a_level0_row38\" class=\"row_heading level0 row38\" >secondary_cleaner.state.floatbank2_b_level</th>\n",
       "                        <td id=\"T_38a1a_row38_col0\" class=\"data row38 col0\" >0.000000</td>\n",
       "            </tr>\n",
       "            <tr>\n",
       "                        <th id=\"T_38a1a_level0_row39\" class=\"row_heading level0 row39\" >secondary_cleaner.state.floatbank3_a_air</th>\n",
       "                        <td id=\"T_38a1a_row39_col0\" class=\"data row39 col0\" >0.000000</td>\n",
       "            </tr>\n",
       "            <tr>\n",
       "                        <th id=\"T_38a1a_level0_row40\" class=\"row_heading level0 row40\" >secondary_cleaner.state.floatbank3_a_level</th>\n",
       "                        <td id=\"T_38a1a_row40_col0\" class=\"data row40 col0\" >0.000000</td>\n",
       "            </tr>\n",
       "            <tr>\n",
       "                        <th id=\"T_38a1a_level0_row41\" class=\"row_heading level0 row41\" >secondary_cleaner.state.floatbank3_b_air</th>\n",
       "                        <td id=\"T_38a1a_row41_col0\" class=\"data row41 col0\" >0.000000</td>\n",
       "            </tr>\n",
       "            <tr>\n",
       "                        <th id=\"T_38a1a_level0_row42\" class=\"row_heading level0 row42\" >secondary_cleaner.state.floatbank3_b_level</th>\n",
       "                        <td id=\"T_38a1a_row42_col0\" class=\"data row42 col0\" >0.000000</td>\n",
       "            </tr>\n",
       "            <tr>\n",
       "                        <th id=\"T_38a1a_level0_row43\" class=\"row_heading level0 row43\" >secondary_cleaner.state.floatbank4_a_air</th>\n",
       "                        <td id=\"T_38a1a_row43_col0\" class=\"data row43 col0\" >0.000000</td>\n",
       "            </tr>\n",
       "            <tr>\n",
       "                        <th id=\"T_38a1a_level0_row44\" class=\"row_heading level0 row44\" >secondary_cleaner.state.floatbank4_a_level</th>\n",
       "                        <td id=\"T_38a1a_row44_col0\" class=\"data row44 col0\" >0.000000</td>\n",
       "            </tr>\n",
       "            <tr>\n",
       "                        <th id=\"T_38a1a_level0_row45\" class=\"row_heading level0 row45\" >secondary_cleaner.state.floatbank4_b_air</th>\n",
       "                        <td id=\"T_38a1a_row45_col0\" class=\"data row45 col0\" >0.000000</td>\n",
       "            </tr>\n",
       "            <tr>\n",
       "                        <th id=\"T_38a1a_level0_row46\" class=\"row_heading level0 row46\" >secondary_cleaner.state.floatbank4_b_level</th>\n",
       "                        <td id=\"T_38a1a_row46_col0\" class=\"data row46 col0\" >0.000000</td>\n",
       "            </tr>\n",
       "            <tr>\n",
       "                        <th id=\"T_38a1a_level0_row47\" class=\"row_heading level0 row47\" >secondary_cleaner.state.floatbank5_a_air</th>\n",
       "                        <td id=\"T_38a1a_row47_col0\" class=\"data row47 col0\" >0.000000</td>\n",
       "            </tr>\n",
       "            <tr>\n",
       "                        <th id=\"T_38a1a_level0_row48\" class=\"row_heading level0 row48\" >secondary_cleaner.state.floatbank5_a_level</th>\n",
       "                        <td id=\"T_38a1a_row48_col0\" class=\"data row48 col0\" >0.000000</td>\n",
       "            </tr>\n",
       "            <tr>\n",
       "                        <th id=\"T_38a1a_level0_row49\" class=\"row_heading level0 row49\" >secondary_cleaner.state.floatbank5_b_air</th>\n",
       "                        <td id=\"T_38a1a_row49_col0\" class=\"data row49 col0\" >0.000000</td>\n",
       "            </tr>\n",
       "            <tr>\n",
       "                        <th id=\"T_38a1a_level0_row50\" class=\"row_heading level0 row50\" >secondary_cleaner.state.floatbank5_b_level</th>\n",
       "                        <td id=\"T_38a1a_row50_col0\" class=\"data row50 col0\" >0.000000</td>\n",
       "            </tr>\n",
       "            <tr>\n",
       "                        <th id=\"T_38a1a_level0_row51\" class=\"row_heading level0 row51\" >secondary_cleaner.state.floatbank6_a_air</th>\n",
       "                        <td id=\"T_38a1a_row51_col0\" class=\"data row51 col0\" >0.000000</td>\n",
       "            </tr>\n",
       "            <tr>\n",
       "                        <th id=\"T_38a1a_level0_row52\" class=\"row_heading level0 row52\" >secondary_cleaner.state.floatbank6_a_level</th>\n",
       "                        <td id=\"T_38a1a_row52_col0\" class=\"data row52 col0\" >0.000000</td>\n",
       "            </tr>\n",
       "    </tbody></table>"
      ],
      "text/plain": [
       "<pandas.io.formats.style.Styler at 0x7feed6fb2cd0>"
      ]
     },
     "execution_count": 13,
     "metadata": {},
     "output_type": "execute_result"
    }
   ],
   "source": [
    "pd.DataFrame(round(g_test.isna().mean()*100,)).style.background_gradient('coolwarm')"
   ]
  },
  {
   "cell_type": "code",
   "execution_count": 14,
   "metadata": {},
   "outputs": [
    {
     "data": {
      "text/html": [
       "<style  type=\"text/css\" >\n",
       "#T_762b4_row0_col0,#T_762b4_row1_col0,#T_762b4_row2_col0,#T_762b4_row4_col0,#T_762b4_row5_col0,#T_762b4_row6_col0,#T_762b4_row8_col0,#T_762b4_row9_col0,#T_762b4_row10_col0,#T_762b4_row11_col0,#T_762b4_row12_col0,#T_762b4_row14_col0,#T_762b4_row17_col0,#T_762b4_row18_col0,#T_762b4_row19_col0,#T_762b4_row20_col0,#T_762b4_row21_col0,#T_762b4_row22_col0,#T_762b4_row23_col0,#T_762b4_row24_col0,#T_762b4_row25_col0,#T_762b4_row26_col0,#T_762b4_row27_col0,#T_762b4_row28_col0,#T_762b4_row29_col0,#T_762b4_row30_col0,#T_762b4_row31_col0,#T_762b4_row32_col0,#T_762b4_row33_col0,#T_762b4_row34_col0,#T_762b4_row36_col0,#T_762b4_row39_col0,#T_762b4_row40_col0,#T_762b4_row41_col0,#T_762b4_row42_col0,#T_762b4_row44_col0,#T_762b4_row45_col0,#T_762b4_row46_col0,#T_762b4_row47_col0,#T_762b4_row48_col0,#T_762b4_row49_col0,#T_762b4_row50_col0,#T_762b4_row51_col0,#T_762b4_row52_col0,#T_762b4_row53_col0,#T_762b4_row54_col0,#T_762b4_row55_col0,#T_762b4_row56_col0,#T_762b4_row57_col0,#T_762b4_row58_col0,#T_762b4_row59_col0,#T_762b4_row60_col0,#T_762b4_row62_col0,#T_762b4_row63_col0,#T_762b4_row64_col0,#T_762b4_row65_col0,#T_762b4_row66_col0,#T_762b4_row68_col0,#T_762b4_row70_col0,#T_762b4_row71_col0,#T_762b4_row72_col0,#T_762b4_row73_col0,#T_762b4_row74_col0,#T_762b4_row75_col0,#T_762b4_row76_col0,#T_762b4_row77_col0,#T_762b4_row78_col0,#T_762b4_row79_col0,#T_762b4_row80_col0,#T_762b4_row81_col0,#T_762b4_row82_col0,#T_762b4_row83_col0,#T_762b4_row84_col0,#T_762b4_row85_col0,#T_762b4_row86_col0{\n",
       "            background-color:  #3b4cc0;\n",
       "            color:  #f1f1f1;\n",
       "        }#T_762b4_row3_col0,#T_762b4_row7_col0,#T_762b4_row13_col0,#T_762b4_row15_col0,#T_762b4_row35_col0,#T_762b4_row37_col0,#T_762b4_row38_col0,#T_762b4_row69_col0{\n",
       "            background-color:  #5d7ce6;\n",
       "            color:  #000000;\n",
       "        }#T_762b4_row16_col0,#T_762b4_row43_col0,#T_762b4_row61_col0{\n",
       "            background-color:  #82a6fb;\n",
       "            color:  #000000;\n",
       "        }#T_762b4_row67_col0{\n",
       "            background-color:  #b40426;\n",
       "            color:  #f1f1f1;\n",
       "        }</style><table id=\"T_762b4_\" ><thead>    <tr>        <th class=\"blank level0\" ></th>        <th class=\"col_heading level0 col0\" >0</th>    </tr></thead><tbody>\n",
       "                <tr>\n",
       "                        <th id=\"T_762b4_level0_row0\" class=\"row_heading level0 row0\" >date</th>\n",
       "                        <td id=\"T_762b4_row0_col0\" class=\"data row0 col0\" >0.000000</td>\n",
       "            </tr>\n",
       "            <tr>\n",
       "                        <th id=\"T_762b4_level0_row1\" class=\"row_heading level0 row1\" >final.output.concentrate_ag</th>\n",
       "                        <td id=\"T_762b4_row1_col0\" class=\"data row1 col0\" >0.000000</td>\n",
       "            </tr>\n",
       "            <tr>\n",
       "                        <th id=\"T_762b4_level0_row2\" class=\"row_heading level0 row2\" >final.output.concentrate_pb</th>\n",
       "                        <td id=\"T_762b4_row2_col0\" class=\"data row2 col0\" >0.000000</td>\n",
       "            </tr>\n",
       "            <tr>\n",
       "                        <th id=\"T_762b4_level0_row3\" class=\"row_heading level0 row3\" >final.output.concentrate_sol</th>\n",
       "                        <td id=\"T_762b4_row3_col0\" class=\"data row3 col0\" >1.000000</td>\n",
       "            </tr>\n",
       "            <tr>\n",
       "                        <th id=\"T_762b4_level0_row4\" class=\"row_heading level0 row4\" >final.output.concentrate_au</th>\n",
       "                        <td id=\"T_762b4_row4_col0\" class=\"data row4 col0\" >0.000000</td>\n",
       "            </tr>\n",
       "            <tr>\n",
       "                        <th id=\"T_762b4_level0_row5\" class=\"row_heading level0 row5\" >final.output.recovery</th>\n",
       "                        <td id=\"T_762b4_row5_col0\" class=\"data row5 col0\" >0.000000</td>\n",
       "            </tr>\n",
       "            <tr>\n",
       "                        <th id=\"T_762b4_level0_row6\" class=\"row_heading level0 row6\" >final.output.tail_ag</th>\n",
       "                        <td id=\"T_762b4_row6_col0\" class=\"data row6 col0\" >0.000000</td>\n",
       "            </tr>\n",
       "            <tr>\n",
       "                        <th id=\"T_762b4_level0_row7\" class=\"row_heading level0 row7\" >final.output.tail_pb</th>\n",
       "                        <td id=\"T_762b4_row7_col0\" class=\"data row7 col0\" >1.000000</td>\n",
       "            </tr>\n",
       "            <tr>\n",
       "                        <th id=\"T_762b4_level0_row8\" class=\"row_heading level0 row8\" >final.output.tail_sol</th>\n",
       "                        <td id=\"T_762b4_row8_col0\" class=\"data row8 col0\" >0.000000</td>\n",
       "            </tr>\n",
       "            <tr>\n",
       "                        <th id=\"T_762b4_level0_row9\" class=\"row_heading level0 row9\" >final.output.tail_au</th>\n",
       "                        <td id=\"T_762b4_row9_col0\" class=\"data row9 col0\" >0.000000</td>\n",
       "            </tr>\n",
       "            <tr>\n",
       "                        <th id=\"T_762b4_level0_row10\" class=\"row_heading level0 row10\" >primary_cleaner.input.sulfate</th>\n",
       "                        <td id=\"T_762b4_row10_col0\" class=\"data row10 col0\" >0.000000</td>\n",
       "            </tr>\n",
       "            <tr>\n",
       "                        <th id=\"T_762b4_level0_row11\" class=\"row_heading level0 row11\" >primary_cleaner.input.depressant</th>\n",
       "                        <td id=\"T_762b4_row11_col0\" class=\"data row11 col0\" >0.000000</td>\n",
       "            </tr>\n",
       "            <tr>\n",
       "                        <th id=\"T_762b4_level0_row12\" class=\"row_heading level0 row12\" >primary_cleaner.input.feed_size</th>\n",
       "                        <td id=\"T_762b4_row12_col0\" class=\"data row12 col0\" >0.000000</td>\n",
       "            </tr>\n",
       "            <tr>\n",
       "                        <th id=\"T_762b4_level0_row13\" class=\"row_heading level0 row13\" >primary_cleaner.input.xanthate</th>\n",
       "                        <td id=\"T_762b4_row13_col0\" class=\"data row13 col0\" >1.000000</td>\n",
       "            </tr>\n",
       "            <tr>\n",
       "                        <th id=\"T_762b4_level0_row14\" class=\"row_heading level0 row14\" >primary_cleaner.output.concentrate_ag</th>\n",
       "                        <td id=\"T_762b4_row14_col0\" class=\"data row14 col0\" >0.000000</td>\n",
       "            </tr>\n",
       "            <tr>\n",
       "                        <th id=\"T_762b4_level0_row15\" class=\"row_heading level0 row15\" >primary_cleaner.output.concentrate_pb</th>\n",
       "                        <td id=\"T_762b4_row15_col0\" class=\"data row15 col0\" >1.000000</td>\n",
       "            </tr>\n",
       "            <tr>\n",
       "                        <th id=\"T_762b4_level0_row16\" class=\"row_heading level0 row16\" >primary_cleaner.output.concentrate_sol</th>\n",
       "                        <td id=\"T_762b4_row16_col0\" class=\"data row16 col0\" >2.000000</td>\n",
       "            </tr>\n",
       "            <tr>\n",
       "                        <th id=\"T_762b4_level0_row17\" class=\"row_heading level0 row17\" >primary_cleaner.output.concentrate_au</th>\n",
       "                        <td id=\"T_762b4_row17_col0\" class=\"data row17 col0\" >0.000000</td>\n",
       "            </tr>\n",
       "            <tr>\n",
       "                        <th id=\"T_762b4_level0_row18\" class=\"row_heading level0 row18\" >primary_cleaner.output.tail_ag</th>\n",
       "                        <td id=\"T_762b4_row18_col0\" class=\"data row18 col0\" >0.000000</td>\n",
       "            </tr>\n",
       "            <tr>\n",
       "                        <th id=\"T_762b4_level0_row19\" class=\"row_heading level0 row19\" >primary_cleaner.output.tail_pb</th>\n",
       "                        <td id=\"T_762b4_row19_col0\" class=\"data row19 col0\" >0.000000</td>\n",
       "            </tr>\n",
       "            <tr>\n",
       "                        <th id=\"T_762b4_level0_row20\" class=\"row_heading level0 row20\" >primary_cleaner.output.tail_sol</th>\n",
       "                        <td id=\"T_762b4_row20_col0\" class=\"data row20 col0\" >0.000000</td>\n",
       "            </tr>\n",
       "            <tr>\n",
       "                        <th id=\"T_762b4_level0_row21\" class=\"row_heading level0 row21\" >primary_cleaner.output.tail_au</th>\n",
       "                        <td id=\"T_762b4_row21_col0\" class=\"data row21 col0\" >0.000000</td>\n",
       "            </tr>\n",
       "            <tr>\n",
       "                        <th id=\"T_762b4_level0_row22\" class=\"row_heading level0 row22\" >primary_cleaner.state.floatbank8_a_air</th>\n",
       "                        <td id=\"T_762b4_row22_col0\" class=\"data row22 col0\" >0.000000</td>\n",
       "            </tr>\n",
       "            <tr>\n",
       "                        <th id=\"T_762b4_level0_row23\" class=\"row_heading level0 row23\" >primary_cleaner.state.floatbank8_a_level</th>\n",
       "                        <td id=\"T_762b4_row23_col0\" class=\"data row23 col0\" >0.000000</td>\n",
       "            </tr>\n",
       "            <tr>\n",
       "                        <th id=\"T_762b4_level0_row24\" class=\"row_heading level0 row24\" >primary_cleaner.state.floatbank8_b_air</th>\n",
       "                        <td id=\"T_762b4_row24_col0\" class=\"data row24 col0\" >0.000000</td>\n",
       "            </tr>\n",
       "            <tr>\n",
       "                        <th id=\"T_762b4_level0_row25\" class=\"row_heading level0 row25\" >primary_cleaner.state.floatbank8_b_level</th>\n",
       "                        <td id=\"T_762b4_row25_col0\" class=\"data row25 col0\" >0.000000</td>\n",
       "            </tr>\n",
       "            <tr>\n",
       "                        <th id=\"T_762b4_level0_row26\" class=\"row_heading level0 row26\" >primary_cleaner.state.floatbank8_c_air</th>\n",
       "                        <td id=\"T_762b4_row26_col0\" class=\"data row26 col0\" >0.000000</td>\n",
       "            </tr>\n",
       "            <tr>\n",
       "                        <th id=\"T_762b4_level0_row27\" class=\"row_heading level0 row27\" >primary_cleaner.state.floatbank8_c_level</th>\n",
       "                        <td id=\"T_762b4_row27_col0\" class=\"data row27 col0\" >0.000000</td>\n",
       "            </tr>\n",
       "            <tr>\n",
       "                        <th id=\"T_762b4_level0_row28\" class=\"row_heading level0 row28\" >primary_cleaner.state.floatbank8_d_air</th>\n",
       "                        <td id=\"T_762b4_row28_col0\" class=\"data row28 col0\" >0.000000</td>\n",
       "            </tr>\n",
       "            <tr>\n",
       "                        <th id=\"T_762b4_level0_row29\" class=\"row_heading level0 row29\" >primary_cleaner.state.floatbank8_d_level</th>\n",
       "                        <td id=\"T_762b4_row29_col0\" class=\"data row29 col0\" >0.000000</td>\n",
       "            </tr>\n",
       "            <tr>\n",
       "                        <th id=\"T_762b4_level0_row30\" class=\"row_heading level0 row30\" >rougher.calculation.sulfate_to_au_concentrate</th>\n",
       "                        <td id=\"T_762b4_row30_col0\" class=\"data row30 col0\" >0.000000</td>\n",
       "            </tr>\n",
       "            <tr>\n",
       "                        <th id=\"T_762b4_level0_row31\" class=\"row_heading level0 row31\" >rougher.calculation.floatbank10_sulfate_to_au_feed</th>\n",
       "                        <td id=\"T_762b4_row31_col0\" class=\"data row31 col0\" >0.000000</td>\n",
       "            </tr>\n",
       "            <tr>\n",
       "                        <th id=\"T_762b4_level0_row32\" class=\"row_heading level0 row32\" >rougher.calculation.floatbank11_sulfate_to_au_feed</th>\n",
       "                        <td id=\"T_762b4_row32_col0\" class=\"data row32 col0\" >0.000000</td>\n",
       "            </tr>\n",
       "            <tr>\n",
       "                        <th id=\"T_762b4_level0_row33\" class=\"row_heading level0 row33\" >rougher.calculation.au_pb_ratio</th>\n",
       "                        <td id=\"T_762b4_row33_col0\" class=\"data row33 col0\" >0.000000</td>\n",
       "            </tr>\n",
       "            <tr>\n",
       "                        <th id=\"T_762b4_level0_row34\" class=\"row_heading level0 row34\" >rougher.input.feed_ag</th>\n",
       "                        <td id=\"T_762b4_row34_col0\" class=\"data row34 col0\" >0.000000</td>\n",
       "            </tr>\n",
       "            <tr>\n",
       "                        <th id=\"T_762b4_level0_row35\" class=\"row_heading level0 row35\" >rougher.input.feed_pb</th>\n",
       "                        <td id=\"T_762b4_row35_col0\" class=\"data row35 col0\" >1.000000</td>\n",
       "            </tr>\n",
       "            <tr>\n",
       "                        <th id=\"T_762b4_level0_row36\" class=\"row_heading level0 row36\" >rougher.input.feed_rate</th>\n",
       "                        <td id=\"T_762b4_row36_col0\" class=\"data row36 col0\" >0.000000</td>\n",
       "            </tr>\n",
       "            <tr>\n",
       "                        <th id=\"T_762b4_level0_row37\" class=\"row_heading level0 row37\" >rougher.input.feed_size</th>\n",
       "                        <td id=\"T_762b4_row37_col0\" class=\"data row37 col0\" >1.000000</td>\n",
       "            </tr>\n",
       "            <tr>\n",
       "                        <th id=\"T_762b4_level0_row38\" class=\"row_heading level0 row38\" >rougher.input.feed_sol</th>\n",
       "                        <td id=\"T_762b4_row38_col0\" class=\"data row38 col0\" >1.000000</td>\n",
       "            </tr>\n",
       "            <tr>\n",
       "                        <th id=\"T_762b4_level0_row39\" class=\"row_heading level0 row39\" >rougher.input.feed_au</th>\n",
       "                        <td id=\"T_762b4_row39_col0\" class=\"data row39 col0\" >0.000000</td>\n",
       "            </tr>\n",
       "            <tr>\n",
       "                        <th id=\"T_762b4_level0_row40\" class=\"row_heading level0 row40\" >rougher.input.floatbank10_sulfate</th>\n",
       "                        <td id=\"T_762b4_row40_col0\" class=\"data row40 col0\" >0.000000</td>\n",
       "            </tr>\n",
       "            <tr>\n",
       "                        <th id=\"T_762b4_level0_row41\" class=\"row_heading level0 row41\" >rougher.input.floatbank10_xanthate</th>\n",
       "                        <td id=\"T_762b4_row41_col0\" class=\"data row41 col0\" >0.000000</td>\n",
       "            </tr>\n",
       "            <tr>\n",
       "                        <th id=\"T_762b4_level0_row42\" class=\"row_heading level0 row42\" >rougher.input.floatbank11_sulfate</th>\n",
       "                        <td id=\"T_762b4_row42_col0\" class=\"data row42 col0\" >0.000000</td>\n",
       "            </tr>\n",
       "            <tr>\n",
       "                        <th id=\"T_762b4_level0_row43\" class=\"row_heading level0 row43\" >rougher.input.floatbank11_xanthate</th>\n",
       "                        <td id=\"T_762b4_row43_col0\" class=\"data row43 col0\" >2.000000</td>\n",
       "            </tr>\n",
       "            <tr>\n",
       "                        <th id=\"T_762b4_level0_row44\" class=\"row_heading level0 row44\" >rougher.output.concentrate_ag</th>\n",
       "                        <td id=\"T_762b4_row44_col0\" class=\"data row44 col0\" >0.000000</td>\n",
       "            </tr>\n",
       "            <tr>\n",
       "                        <th id=\"T_762b4_level0_row45\" class=\"row_heading level0 row45\" >rougher.output.concentrate_pb</th>\n",
       "                        <td id=\"T_762b4_row45_col0\" class=\"data row45 col0\" >0.000000</td>\n",
       "            </tr>\n",
       "            <tr>\n",
       "                        <th id=\"T_762b4_level0_row46\" class=\"row_heading level0 row46\" >rougher.output.concentrate_sol</th>\n",
       "                        <td id=\"T_762b4_row46_col0\" class=\"data row46 col0\" >0.000000</td>\n",
       "            </tr>\n",
       "            <tr>\n",
       "                        <th id=\"T_762b4_level0_row47\" class=\"row_heading level0 row47\" >rougher.output.concentrate_au</th>\n",
       "                        <td id=\"T_762b4_row47_col0\" class=\"data row47 col0\" >0.000000</td>\n",
       "            </tr>\n",
       "            <tr>\n",
       "                        <th id=\"T_762b4_level0_row48\" class=\"row_heading level0 row48\" >rougher.output.recovery</th>\n",
       "                        <td id=\"T_762b4_row48_col0\" class=\"data row48 col0\" >0.000000</td>\n",
       "            </tr>\n",
       "            <tr>\n",
       "                        <th id=\"T_762b4_level0_row49\" class=\"row_heading level0 row49\" >rougher.output.tail_ag</th>\n",
       "                        <td id=\"T_762b4_row49_col0\" class=\"data row49 col0\" >0.000000</td>\n",
       "            </tr>\n",
       "            <tr>\n",
       "                        <th id=\"T_762b4_level0_row50\" class=\"row_heading level0 row50\" >rougher.output.tail_pb</th>\n",
       "                        <td id=\"T_762b4_row50_col0\" class=\"data row50 col0\" >0.000000</td>\n",
       "            </tr>\n",
       "            <tr>\n",
       "                        <th id=\"T_762b4_level0_row51\" class=\"row_heading level0 row51\" >rougher.output.tail_sol</th>\n",
       "                        <td id=\"T_762b4_row51_col0\" class=\"data row51 col0\" >0.000000</td>\n",
       "            </tr>\n",
       "            <tr>\n",
       "                        <th id=\"T_762b4_level0_row52\" class=\"row_heading level0 row52\" >rougher.output.tail_au</th>\n",
       "                        <td id=\"T_762b4_row52_col0\" class=\"data row52 col0\" >0.000000</td>\n",
       "            </tr>\n",
       "            <tr>\n",
       "                        <th id=\"T_762b4_level0_row53\" class=\"row_heading level0 row53\" >rougher.state.floatbank10_a_air</th>\n",
       "                        <td id=\"T_762b4_row53_col0\" class=\"data row53 col0\" >0.000000</td>\n",
       "            </tr>\n",
       "            <tr>\n",
       "                        <th id=\"T_762b4_level0_row54\" class=\"row_heading level0 row54\" >rougher.state.floatbank10_a_level</th>\n",
       "                        <td id=\"T_762b4_row54_col0\" class=\"data row54 col0\" >0.000000</td>\n",
       "            </tr>\n",
       "            <tr>\n",
       "                        <th id=\"T_762b4_level0_row55\" class=\"row_heading level0 row55\" >rougher.state.floatbank10_b_air</th>\n",
       "                        <td id=\"T_762b4_row55_col0\" class=\"data row55 col0\" >0.000000</td>\n",
       "            </tr>\n",
       "            <tr>\n",
       "                        <th id=\"T_762b4_level0_row56\" class=\"row_heading level0 row56\" >rougher.state.floatbank10_b_level</th>\n",
       "                        <td id=\"T_762b4_row56_col0\" class=\"data row56 col0\" >0.000000</td>\n",
       "            </tr>\n",
       "            <tr>\n",
       "                        <th id=\"T_762b4_level0_row57\" class=\"row_heading level0 row57\" >rougher.state.floatbank10_c_air</th>\n",
       "                        <td id=\"T_762b4_row57_col0\" class=\"data row57 col0\" >0.000000</td>\n",
       "            </tr>\n",
       "            <tr>\n",
       "                        <th id=\"T_762b4_level0_row58\" class=\"row_heading level0 row58\" >rougher.state.floatbank10_c_level</th>\n",
       "                        <td id=\"T_762b4_row58_col0\" class=\"data row58 col0\" >0.000000</td>\n",
       "            </tr>\n",
       "            <tr>\n",
       "                        <th id=\"T_762b4_level0_row59\" class=\"row_heading level0 row59\" >rougher.state.floatbank10_d_air</th>\n",
       "                        <td id=\"T_762b4_row59_col0\" class=\"data row59 col0\" >0.000000</td>\n",
       "            </tr>\n",
       "            <tr>\n",
       "                        <th id=\"T_762b4_level0_row60\" class=\"row_heading level0 row60\" >rougher.state.floatbank10_d_level</th>\n",
       "                        <td id=\"T_762b4_row60_col0\" class=\"data row60 col0\" >0.000000</td>\n",
       "            </tr>\n",
       "            <tr>\n",
       "                        <th id=\"T_762b4_level0_row61\" class=\"row_heading level0 row61\" >rougher.state.floatbank10_e_air</th>\n",
       "                        <td id=\"T_762b4_row61_col0\" class=\"data row61 col0\" >2.000000</td>\n",
       "            </tr>\n",
       "            <tr>\n",
       "                        <th id=\"T_762b4_level0_row62\" class=\"row_heading level0 row62\" >rougher.state.floatbank10_e_level</th>\n",
       "                        <td id=\"T_762b4_row62_col0\" class=\"data row62 col0\" >0.000000</td>\n",
       "            </tr>\n",
       "            <tr>\n",
       "                        <th id=\"T_762b4_level0_row63\" class=\"row_heading level0 row63\" >rougher.state.floatbank10_f_air</th>\n",
       "                        <td id=\"T_762b4_row63_col0\" class=\"data row63 col0\" >0.000000</td>\n",
       "            </tr>\n",
       "            <tr>\n",
       "                        <th id=\"T_762b4_level0_row64\" class=\"row_heading level0 row64\" >rougher.state.floatbank10_f_level</th>\n",
       "                        <td id=\"T_762b4_row64_col0\" class=\"data row64 col0\" >0.000000</td>\n",
       "            </tr>\n",
       "            <tr>\n",
       "                        <th id=\"T_762b4_level0_row65\" class=\"row_heading level0 row65\" >secondary_cleaner.output.tail_ag</th>\n",
       "                        <td id=\"T_762b4_row65_col0\" class=\"data row65 col0\" >0.000000</td>\n",
       "            </tr>\n",
       "            <tr>\n",
       "                        <th id=\"T_762b4_level0_row66\" class=\"row_heading level0 row66\" >secondary_cleaner.output.tail_pb</th>\n",
       "                        <td id=\"T_762b4_row66_col0\" class=\"data row66 col0\" >0.000000</td>\n",
       "            </tr>\n",
       "            <tr>\n",
       "                        <th id=\"T_762b4_level0_row67\" class=\"row_heading level0 row67\" >secondary_cleaner.output.tail_sol</th>\n",
       "                        <td id=\"T_762b4_row67_col0\" class=\"data row67 col0\" >9.000000</td>\n",
       "            </tr>\n",
       "            <tr>\n",
       "                        <th id=\"T_762b4_level0_row68\" class=\"row_heading level0 row68\" >secondary_cleaner.output.tail_au</th>\n",
       "                        <td id=\"T_762b4_row68_col0\" class=\"data row68 col0\" >0.000000</td>\n",
       "            </tr>\n",
       "            <tr>\n",
       "                        <th id=\"T_762b4_level0_row69\" class=\"row_heading level0 row69\" >secondary_cleaner.state.floatbank2_a_air</th>\n",
       "                        <td id=\"T_762b4_row69_col0\" class=\"data row69 col0\" >1.000000</td>\n",
       "            </tr>\n",
       "            <tr>\n",
       "                        <th id=\"T_762b4_level0_row70\" class=\"row_heading level0 row70\" >secondary_cleaner.state.floatbank2_a_level</th>\n",
       "                        <td id=\"T_762b4_row70_col0\" class=\"data row70 col0\" >0.000000</td>\n",
       "            </tr>\n",
       "            <tr>\n",
       "                        <th id=\"T_762b4_level0_row71\" class=\"row_heading level0 row71\" >secondary_cleaner.state.floatbank2_b_air</th>\n",
       "                        <td id=\"T_762b4_row71_col0\" class=\"data row71 col0\" >0.000000</td>\n",
       "            </tr>\n",
       "            <tr>\n",
       "                        <th id=\"T_762b4_level0_row72\" class=\"row_heading level0 row72\" >secondary_cleaner.state.floatbank2_b_level</th>\n",
       "                        <td id=\"T_762b4_row72_col0\" class=\"data row72 col0\" >0.000000</td>\n",
       "            </tr>\n",
       "            <tr>\n",
       "                        <th id=\"T_762b4_level0_row73\" class=\"row_heading level0 row73\" >secondary_cleaner.state.floatbank3_a_air</th>\n",
       "                        <td id=\"T_762b4_row73_col0\" class=\"data row73 col0\" >0.000000</td>\n",
       "            </tr>\n",
       "            <tr>\n",
       "                        <th id=\"T_762b4_level0_row74\" class=\"row_heading level0 row74\" >secondary_cleaner.state.floatbank3_a_level</th>\n",
       "                        <td id=\"T_762b4_row74_col0\" class=\"data row74 col0\" >0.000000</td>\n",
       "            </tr>\n",
       "            <tr>\n",
       "                        <th id=\"T_762b4_level0_row75\" class=\"row_heading level0 row75\" >secondary_cleaner.state.floatbank3_b_air</th>\n",
       "                        <td id=\"T_762b4_row75_col0\" class=\"data row75 col0\" >0.000000</td>\n",
       "            </tr>\n",
       "            <tr>\n",
       "                        <th id=\"T_762b4_level0_row76\" class=\"row_heading level0 row76\" >secondary_cleaner.state.floatbank3_b_level</th>\n",
       "                        <td id=\"T_762b4_row76_col0\" class=\"data row76 col0\" >0.000000</td>\n",
       "            </tr>\n",
       "            <tr>\n",
       "                        <th id=\"T_762b4_level0_row77\" class=\"row_heading level0 row77\" >secondary_cleaner.state.floatbank4_a_air</th>\n",
       "                        <td id=\"T_762b4_row77_col0\" class=\"data row77 col0\" >0.000000</td>\n",
       "            </tr>\n",
       "            <tr>\n",
       "                        <th id=\"T_762b4_level0_row78\" class=\"row_heading level0 row78\" >secondary_cleaner.state.floatbank4_a_level</th>\n",
       "                        <td id=\"T_762b4_row78_col0\" class=\"data row78 col0\" >0.000000</td>\n",
       "            </tr>\n",
       "            <tr>\n",
       "                        <th id=\"T_762b4_level0_row79\" class=\"row_heading level0 row79\" >secondary_cleaner.state.floatbank4_b_air</th>\n",
       "                        <td id=\"T_762b4_row79_col0\" class=\"data row79 col0\" >0.000000</td>\n",
       "            </tr>\n",
       "            <tr>\n",
       "                        <th id=\"T_762b4_level0_row80\" class=\"row_heading level0 row80\" >secondary_cleaner.state.floatbank4_b_level</th>\n",
       "                        <td id=\"T_762b4_row80_col0\" class=\"data row80 col0\" >0.000000</td>\n",
       "            </tr>\n",
       "            <tr>\n",
       "                        <th id=\"T_762b4_level0_row81\" class=\"row_heading level0 row81\" >secondary_cleaner.state.floatbank5_a_air</th>\n",
       "                        <td id=\"T_762b4_row81_col0\" class=\"data row81 col0\" >0.000000</td>\n",
       "            </tr>\n",
       "            <tr>\n",
       "                        <th id=\"T_762b4_level0_row82\" class=\"row_heading level0 row82\" >secondary_cleaner.state.floatbank5_a_level</th>\n",
       "                        <td id=\"T_762b4_row82_col0\" class=\"data row82 col0\" >0.000000</td>\n",
       "            </tr>\n",
       "            <tr>\n",
       "                        <th id=\"T_762b4_level0_row83\" class=\"row_heading level0 row83\" >secondary_cleaner.state.floatbank5_b_air</th>\n",
       "                        <td id=\"T_762b4_row83_col0\" class=\"data row83 col0\" >0.000000</td>\n",
       "            </tr>\n",
       "            <tr>\n",
       "                        <th id=\"T_762b4_level0_row84\" class=\"row_heading level0 row84\" >secondary_cleaner.state.floatbank5_b_level</th>\n",
       "                        <td id=\"T_762b4_row84_col0\" class=\"data row84 col0\" >0.000000</td>\n",
       "            </tr>\n",
       "            <tr>\n",
       "                        <th id=\"T_762b4_level0_row85\" class=\"row_heading level0 row85\" >secondary_cleaner.state.floatbank6_a_air</th>\n",
       "                        <td id=\"T_762b4_row85_col0\" class=\"data row85 col0\" >0.000000</td>\n",
       "            </tr>\n",
       "            <tr>\n",
       "                        <th id=\"T_762b4_level0_row86\" class=\"row_heading level0 row86\" >secondary_cleaner.state.floatbank6_a_level</th>\n",
       "                        <td id=\"T_762b4_row86_col0\" class=\"data row86 col0\" >0.000000</td>\n",
       "            </tr>\n",
       "    </tbody></table>"
      ],
      "text/plain": [
       "<pandas.io.formats.style.Styler at 0x7feed7843460>"
      ]
     },
     "execution_count": 14,
     "metadata": {},
     "output_type": "execute_result"
    }
   ],
   "source": [
    "pd.DataFrame(round(g_full.isna().mean()*100,)).style.background_gradient('coolwarm')"
   ]
  },
  {
   "cell_type": "markdown",
   "metadata": {},
   "source": [
    "Видим, что в тестовой выборке пропусков мало или нету совсем. В обучающей и полной есть столбцы, в которых прощуенно от 1 до 3% - это малый процент данных, значит можно их будет дальше спокойно удалить. \n",
    "\n",
    "В столбце **secondary_cleaner.output.tail_sol** пропущенно довольно много. В обучающей 11%, а в полной 9%. Дальше с этим надо будет что-то решить."
   ]
  },
  {
   "cell_type": "code",
   "execution_count": 15,
   "metadata": {},
   "outputs": [
    {
     "data": {
      "text/plain": [
       "date                                          14149\n",
       "final.output.concentrate_ag                   14064\n",
       "final.output.concentrate_pb                   14050\n",
       "final.output.concentrate_sol                  13853\n",
       "final.output.concentrate_au                   14065\n",
       "                                              ...  \n",
       "secondary_cleaner.state.floatbank5_a_level    14148\n",
       "secondary_cleaner.state.floatbank5_b_air      14148\n",
       "secondary_cleaner.state.floatbank5_b_level    14148\n",
       "secondary_cleaner.state.floatbank6_a_air      14147\n",
       "secondary_cleaner.state.floatbank6_a_level    14148\n",
       "Length: 87, dtype: int64"
      ]
     },
     "execution_count": 15,
     "metadata": {},
     "output_type": "execute_result"
    }
   ],
   "source": [
    "#кол-во уникальных значений в таблицах\n",
    "g_train.nunique()"
   ]
  },
  {
   "cell_type": "code",
   "execution_count": 16,
   "metadata": {
    "scrolled": true
   },
   "outputs": [
    {
     "data": {
      "text/plain": [
       "date                                          5290\n",
       "primary_cleaner.input.sulfate                 5286\n",
       "primary_cleaner.input.depressant              5285\n",
       "primary_cleaner.input.feed_size               1537\n",
       "primary_cleaner.input.xanthate                5286\n",
       "primary_cleaner.state.floatbank8_a_air        5290\n",
       "primary_cleaner.state.floatbank8_a_level      5290\n",
       "primary_cleaner.state.floatbank8_b_air        5290\n",
       "primary_cleaner.state.floatbank8_b_level      5290\n",
       "primary_cleaner.state.floatbank8_c_air        5290\n",
       "primary_cleaner.state.floatbank8_c_level      5290\n",
       "primary_cleaner.state.floatbank8_d_air        5290\n",
       "primary_cleaner.state.floatbank8_d_level      5290\n",
       "rougher.input.feed_ag                         5283\n",
       "rougher.input.feed_pb                         5282\n",
       "rougher.input.feed_rate                       5287\n",
       "rougher.input.feed_size                       5289\n",
       "rougher.input.feed_sol                        5260\n",
       "rougher.input.feed_au                         5283\n",
       "rougher.input.floatbank10_sulfate             5285\n",
       "rougher.input.floatbank10_xanthate            5290\n",
       "rougher.input.floatbank11_sulfate             5282\n",
       "rougher.input.floatbank11_xanthate            5265\n",
       "rougher.state.floatbank10_a_air               5290\n",
       "rougher.state.floatbank10_a_level             5290\n",
       "rougher.state.floatbank10_b_air               5290\n",
       "rougher.state.floatbank10_b_level             5290\n",
       "rougher.state.floatbank10_c_air               5290\n",
       "rougher.state.floatbank10_c_level             5290\n",
       "rougher.state.floatbank10_d_air               5290\n",
       "rougher.state.floatbank10_d_level             5290\n",
       "rougher.state.floatbank10_e_air               5290\n",
       "rougher.state.floatbank10_e_level             5290\n",
       "rougher.state.floatbank10_f_air               5290\n",
       "rougher.state.floatbank10_f_level             5290\n",
       "secondary_cleaner.state.floatbank2_a_air      5287\n",
       "secondary_cleaner.state.floatbank2_a_level    5290\n",
       "secondary_cleaner.state.floatbank2_b_air      5288\n",
       "secondary_cleaner.state.floatbank2_b_level    5290\n",
       "secondary_cleaner.state.floatbank3_a_air      5212\n",
       "secondary_cleaner.state.floatbank3_a_level    5290\n",
       "secondary_cleaner.state.floatbank3_b_air      5173\n",
       "secondary_cleaner.state.floatbank3_b_level    5290\n",
       "secondary_cleaner.state.floatbank4_a_air      5280\n",
       "secondary_cleaner.state.floatbank4_a_level    5290\n",
       "secondary_cleaner.state.floatbank4_b_air      5270\n",
       "secondary_cleaner.state.floatbank4_b_level    5290\n",
       "secondary_cleaner.state.floatbank5_a_air      5290\n",
       "secondary_cleaner.state.floatbank5_a_level    5290\n",
       "secondary_cleaner.state.floatbank5_b_air      5290\n",
       "secondary_cleaner.state.floatbank5_b_level    5290\n",
       "secondary_cleaner.state.floatbank6_a_air      5290\n",
       "secondary_cleaner.state.floatbank6_a_level    5290\n",
       "dtype: int64"
      ]
     },
     "execution_count": 16,
     "metadata": {},
     "output_type": "execute_result"
    }
   ],
   "source": [
    "g_test.nunique()"
   ]
  },
  {
   "cell_type": "code",
   "execution_count": 17,
   "metadata": {},
   "outputs": [
    {
     "data": {
      "text/plain": [
       "date                                          19439\n",
       "final.output.concentrate_ag                   19307\n",
       "final.output.concentrate_pb                   19276\n",
       "final.output.concentrate_sol                  19093\n",
       "final.output.concentrate_au                   19308\n",
       "                                              ...  \n",
       "secondary_cleaner.state.floatbank5_a_level    19438\n",
       "secondary_cleaner.state.floatbank5_b_air      19438\n",
       "secondary_cleaner.state.floatbank5_b_level    19438\n",
       "secondary_cleaner.state.floatbank6_a_air      19437\n",
       "secondary_cleaner.state.floatbank6_a_level    19438\n",
       "Length: 87, dtype: int64"
      ]
     },
     "execution_count": 17,
     "metadata": {},
     "output_type": "execute_result"
    }
   ],
   "source": [
    "g_full.nunique()"
   ]
  },
  {
   "cell_type": "markdown",
   "metadata": {},
   "source": [
    "Проведя обзор данных мы выяснили следующее:\n",
    "\n",
    "* В тестовых данных не все столбцы\n",
    "* Присутствуют пропуски в обучающих и полных данных\n",
    "* Не все значения уникальны"
   ]
  },
  {
   "cell_type": "markdown",
   "metadata": {},
   "source": [
    "### Проверка, что эффективность обогащения рассчитана правильно"
   ]
  },
  {
   "attachments": {
    "image.png": {
     "image/png": "[encoded data removed]"
    }
   },
   "cell_type": "markdown",
   "metadata": {},
   "source": [
    "Эффективность обогащения рассчитывается по формуле\n",
    "\n",
    "![image.png](attachment:image.png)\n",
    "где:\n",
    "* C — доля золота в концентрате после флотации/очистки;\n",
    "* F — доля золота в сырье/концентрате до флотации/очистки;\n",
    "* T — доля золота в отвальных хвостах после флотации/очистки.\n",
    "Для прогноза коэффициента нужно найти долю золота в концентратах и хвостах. Причём важен не только финальный продукт, но и черновой концентрат."
   ]
  },
  {
   "cell_type": "code",
   "execution_count": 18,
   "metadata": {},
   "outputs": [],
   "source": [
    "#создадим нужные переменные для формулы рассчёта эффективности обогащения\n",
    "c = g_train['rougher.output.concentrate_au']\n",
    "f = g_train['rougher.input.feed_au']\n",
    "t = g_train['rougher.output.tail_au']"
   ]
  },
  {
   "cell_type": "code",
   "execution_count": 19,
   "metadata": {},
   "outputs": [
    {
     "name": "stdout",
     "output_type": "stream",
     "text": [
      "Средняя абсолютная ошибка: 9.73512347450521e-15\n"
     ]
    }
   ],
   "source": [
    "#формула эффективности обогащения\n",
    "recovery = (c*(f-t)) / (f*(c-t))*100\n",
    "\n",
    "#посчитаем MAE\n",
    "mae = mean_absolute_error(g_train['rougher.output.recovery'], recovery)\n",
    "print('Средняя абсолютная ошибка:', mae)"
   ]
  },
  {
   "cell_type": "markdown",
   "metadata": {},
   "source": [
    "MAE между нашими расчётами и значением признака = 9.7. Значение не слишком идеальное, но можно считать, что расчёты верны."
   ]
  },
  {
   "cell_type": "markdown",
   "metadata": {},
   "source": [
    "### Проанализируем признаки, недоступные в тестовой выборке"
   ]
  },
  {
   "cell_type": "code",
   "execution_count": 20,
   "metadata": {},
   "outputs": [
    {
     "name": "stdout",
     "output_type": "stream",
     "text": [
      "final.output.concentrate_ag\n",
      "final.output.concentrate_pb\n",
      "final.output.concentrate_sol\n",
      "final.output.concentrate_au\n",
      "final.output.recovery\n",
      "final.output.tail_ag\n",
      "final.output.tail_pb\n",
      "final.output.tail_sol\n",
      "final.output.tail_au\n",
      "primary_cleaner.output.concentrate_ag\n",
      "primary_cleaner.output.concentrate_pb\n",
      "primary_cleaner.output.concentrate_sol\n",
      "primary_cleaner.output.concentrate_au\n",
      "primary_cleaner.output.tail_ag\n",
      "primary_cleaner.output.tail_pb\n",
      "primary_cleaner.output.tail_sol\n",
      "primary_cleaner.output.tail_au\n",
      "rougher.calculation.sulfate_to_au_concentrate\n",
      "rougher.calculation.floatbank10_sulfate_to_au_feed\n",
      "rougher.calculation.floatbank11_sulfate_to_au_feed\n",
      "rougher.calculation.au_pb_ratio\n",
      "rougher.output.concentrate_ag\n",
      "rougher.output.concentrate_pb\n",
      "rougher.output.concentrate_sol\n",
      "rougher.output.concentrate_au\n",
      "rougher.output.recovery\n",
      "rougher.output.tail_ag\n",
      "rougher.output.tail_pb\n",
      "rougher.output.tail_sol\n",
      "rougher.output.tail_au\n",
      "secondary_cleaner.output.tail_ag\n",
      "secondary_cleaner.output.tail_pb\n",
      "secondary_cleaner.output.tail_sol\n",
      "secondary_cleaner.output.tail_au\n",
      "Общее количество отличающихся столбцов:  34\n"
     ]
    }
   ],
   "source": [
    "#подробнее рассмотрим, какие признаки отсутствуют в тестовой выборке\n",
    "train_col = g_train.columns\n",
    "test_col = g_test.columns\n",
    "count = 0\n",
    "for t in range(len(train_col)):\n",
    "    if train_col[t] not in test_col:\n",
    "        tc = train_col[t]\n",
    "        count += 1\n",
    "        print(tc)\n",
    "print('Общее количество отличающихся столбцов: ', count)"
   ]
  },
  {
   "cell_type": "markdown",
   "metadata": {},
   "source": [
    "**Вывод**\n",
    "\n",
    "Мы видим, что в тестовой выборке отсутствуют следующие признаки: 1) final.output; 2) primary_cleaner.output; 3) rougher.calculation; 4) rougher.output; 5) secondary_cleaner.output.\n",
    "\n",
    "Пропущенные признаки описывают технологический процесс, а именно: 1) на каком этапе обработки продукт; 2) параметр продукта; 3) расчётные характеристики"
   ]
  },
  {
   "cell_type": "markdown",
   "metadata": {},
   "source": [
    "### Предобработка данных"
   ]
  },
  {
   "cell_type": "markdown",
   "metadata": {},
   "source": [
    "Поскольку в тестовых данных нам не достаёт признаков, то с помощью метода merge мы добавим необходимые признаки из полных данных."
   ]
  },
  {
   "cell_type": "code",
   "execution_count": 21,
   "metadata": {
    "scrolled": true
   },
   "outputs": [
    {
     "name": "stdout",
     "output_type": "stream",
     "text": [
      "<class 'pandas.core.frame.DataFrame'>\n",
      "Int64Index: 5290 entries, 0 to 5289\n",
      "Data columns (total 55 columns):\n",
      " #   Column                                      Non-Null Count  Dtype  \n",
      "---  ------                                      --------------  -----  \n",
      " 0   date                                        5290 non-null   object \n",
      " 1   primary_cleaner.input.sulfate               5286 non-null   float64\n",
      " 2   primary_cleaner.input.depressant            5285 non-null   float64\n",
      " 3   primary_cleaner.input.feed_size             5290 non-null   float64\n",
      " 4   primary_cleaner.input.xanthate              5286 non-null   float64\n",
      " 5   primary_cleaner.state.floatbank8_a_air      5290 non-null   float64\n",
      " 6   primary_cleaner.state.floatbank8_a_level    5290 non-null   float64\n",
      " 7   primary_cleaner.state.floatbank8_b_air      5290 non-null   float64\n",
      " 8   primary_cleaner.state.floatbank8_b_level    5290 non-null   float64\n",
      " 9   primary_cleaner.state.floatbank8_c_air      5290 non-null   float64\n",
      " 10  primary_cleaner.state.floatbank8_c_level    5290 non-null   float64\n",
      " 11  primary_cleaner.state.floatbank8_d_air      5290 non-null   float64\n",
      " 12  primary_cleaner.state.floatbank8_d_level    5290 non-null   float64\n",
      " 13  rougher.input.feed_ag                       5290 non-null   float64\n",
      " 14  rougher.input.feed_pb                       5290 non-null   float64\n",
      " 15  rougher.input.feed_rate                     5287 non-null   float64\n",
      " 16  rougher.input.feed_size                     5289 non-null   float64\n",
      " 17  rougher.input.feed_sol                      5269 non-null   float64\n",
      " 18  rougher.input.feed_au                       5290 non-null   float64\n",
      " 19  rougher.input.floatbank10_sulfate           5285 non-null   float64\n",
      " 20  rougher.input.floatbank10_xanthate          5290 non-null   float64\n",
      " 21  rougher.input.floatbank11_sulfate           5282 non-null   float64\n",
      " 22  rougher.input.floatbank11_xanthate          5265 non-null   float64\n",
      " 23  rougher.state.floatbank10_a_air             5290 non-null   float64\n",
      " 24  rougher.state.floatbank10_a_level           5290 non-null   float64\n",
      " 25  rougher.state.floatbank10_b_air             5290 non-null   float64\n",
      " 26  rougher.state.floatbank10_b_level           5290 non-null   float64\n",
      " 27  rougher.state.floatbank10_c_air             5290 non-null   float64\n",
      " 28  rougher.state.floatbank10_c_level           5290 non-null   float64\n",
      " 29  rougher.state.floatbank10_d_air             5290 non-null   float64\n",
      " 30  rougher.state.floatbank10_d_level           5290 non-null   float64\n",
      " 31  rougher.state.floatbank10_e_air             5290 non-null   float64\n",
      " 32  rougher.state.floatbank10_e_level           5290 non-null   float64\n",
      " 33  rougher.state.floatbank10_f_air             5290 non-null   float64\n",
      " 34  rougher.state.floatbank10_f_level           5290 non-null   float64\n",
      " 35  secondary_cleaner.state.floatbank2_a_air    5287 non-null   float64\n",
      " 36  secondary_cleaner.state.floatbank2_a_level  5290 non-null   float64\n",
      " 37  secondary_cleaner.state.floatbank2_b_air    5288 non-null   float64\n",
      " 38  secondary_cleaner.state.floatbank2_b_level  5290 non-null   float64\n",
      " 39  secondary_cleaner.state.floatbank3_a_air    5281 non-null   float64\n",
      " 40  secondary_cleaner.state.floatbank3_a_level  5290 non-null   float64\n",
      " 41  secondary_cleaner.state.floatbank3_b_air    5290 non-null   float64\n",
      " 42  secondary_cleaner.state.floatbank3_b_level  5290 non-null   float64\n",
      " 43  secondary_cleaner.state.floatbank4_a_air    5290 non-null   float64\n",
      " 44  secondary_cleaner.state.floatbank4_a_level  5290 non-null   float64\n",
      " 45  secondary_cleaner.state.floatbank4_b_air    5290 non-null   float64\n",
      " 46  secondary_cleaner.state.floatbank4_b_level  5290 non-null   float64\n",
      " 47  secondary_cleaner.state.floatbank5_a_air    5290 non-null   float64\n",
      " 48  secondary_cleaner.state.floatbank5_a_level  5290 non-null   float64\n",
      " 49  secondary_cleaner.state.floatbank5_b_air    5290 non-null   float64\n",
      " 50  secondary_cleaner.state.floatbank5_b_level  5290 non-null   float64\n",
      " 51  secondary_cleaner.state.floatbank6_a_air    5290 non-null   float64\n",
      " 52  secondary_cleaner.state.floatbank6_a_level  5290 non-null   float64\n",
      " 53  rougher.output.recovery                     5290 non-null   float64\n",
      " 54  final.output.recovery                       5290 non-null   float64\n",
      "dtypes: float64(54), object(1)\n",
      "memory usage: 2.3+ MB\n"
     ]
    }
   ],
   "source": [
    "#возьмём недостающие признаки в тестовой из полных данных\n",
    "g_test_new = g_test.merge(\n",
    "    g_full[['rougher.output.recovery', 'final.output.recovery', 'date']], how='inner', left_on='date', right_on='date')\n",
    "\n",
    "g_test_new.info()\n",
    "\n",
    "#удалим из обучающей столбцы, которых нет в тестовой\n",
    "g_train = g_train[g_test_new.columns]"
   ]
  },
  {
   "cell_type": "markdown",
   "metadata": {},
   "source": [
    "Мы помним, что больше всего пропусков было в признаке secondary_cleaner.output.tail_sol. В остальный признаках было пропущено не очень много значений. \n",
    "\n",
    "С помощью метода ffill мы заполним пропущенные значения. Метод использует предыдущее не пропущенное значение, чтобы заполнить пропуск\n",
    "\n",
    "**P.S. пока не буду удалять эту часть вывода.**\n",
    "Из условий задачи можно сделать вывод, что secondary_cleaner.output.tail_sol не пригодится в построении модели, раз так, то можно спокойной удалить пропуски, поскольку мы не знаем, какими значениями их можно было бы заполнить. Поскольку в остальных признаках не много пропусков (от 1% до 3%), то их тоже удалим."
   ]
  },
  {
   "cell_type": "code",
   "execution_count": 22,
   "metadata": {},
   "outputs": [
    {
     "name": "stdout",
     "output_type": "stream",
     "text": [
      "Размер обучающей выборки: (14149, 55)\n",
      "Размер тестовой выборки: (5290, 55)\n"
     ]
    }
   ],
   "source": [
    "#удалим пропущенные значения\n",
    "#g_train.dropna(inplace=True)\n",
    "#g_test_new.dropna(inplace=True)\n",
    "\n",
    "#используем метод ffill для заполнения пропусков\n",
    "g_train.fillna(method='ffill', inplace=True)\n",
    "g_test_new.fillna(method='ffill', inplace=True)\n",
    "\n",
    "print('Размер обучающей выборки:', g_train.shape)\n",
    "print('Размер тестовой выборки:', g_test_new.shape)"
   ]
  },
  {
   "cell_type": "code",
   "execution_count": 23,
   "metadata": {},
   "outputs": [
    {
     "data": {
      "text/plain": [
       "0"
      ]
     },
     "metadata": {},
     "output_type": "display_data"
    },
    {
     "data": {
      "text/plain": [
       "0"
      ]
     },
     "metadata": {},
     "output_type": "display_data"
    },
    {
     "data": {
      "text/plain": [
       "0"
      ]
     },
     "metadata": {},
     "output_type": "display_data"
    }
   ],
   "source": [
    "#проверим наличие дубликатов\n",
    "display(g_train.duplicated().sum(), g_test_new.duplicated().sum(), g_full.duplicated().sum())"
   ]
  },
  {
   "cell_type": "markdown",
   "metadata": {},
   "source": [
    "**Выводы**\n",
    "\n",
    "При подготовке данных мы выполнили следующее:\n",
    "\n",
    "1. Выяснили, что эффективность обогащения рассчитана правильно\n",
    "2. Проанализировали отсутствующие признаки в тестовых данных\n",
    "3. Вернули отсутствующие признаки в тестовые данные (взяли их из полных данных)\n",
    "4. Убрали пропущенные значения из тестовых и обучающих данных\n",
    "5. Узнали, что дубликаты отсутствуют\n",
    "\n",
    "Можно приступать к анализу данных"
   ]
  },
  {
   "cell_type": "markdown",
   "metadata": {},
   "source": [
    "## Анализ данных"
   ]
  },
  {
   "cell_type": "markdown",
   "metadata": {},
   "source": [
    "### Посмотрим, как меняется концентрация металлов (Au, Ag, Pb) на различных этапах очистки."
   ]
  },
  {
   "cell_type": "code",
   "execution_count": 24,
   "metadata": {},
   "outputs": [],
   "source": [
    "def metal_concentrate(rougher, primary, final, rougher_feed):\n",
    "    plt.hist(g_full[rougher], bins=150, alpha=0.5, color='blue')\n",
    "    plt.hist(g_full[primary], bins=150, alpha=0.5, color='green')\n",
    "    plt.hist(g_full[final], bins=150, alpha=0.5, color='red')\n",
    "    plt.hist(g_full[rougher_feed], bins=150, alpha=0.5, color='yellow')"
   ]
  },
  {
   "cell_type": "code",
   "execution_count": 25,
   "metadata": {},
   "outputs": [
    {
     "data": {
      "image/png": "[encoded data removed]",
      "text/plain": [
       "<Figure size 720x504 with 1 Axes>"
      ]
     },
     "metadata": {
      "needs_background": "light"
     },
     "output_type": "display_data"
    }
   ],
   "source": [
    "#концентрация золота на разных этапах очистки\n",
    "plt.figure(figsize=(10,7))\n",
    "\n",
    "metal_concentrate(\n",
    "    'rougher.output.concentrate_au', \n",
    "    'primary_cleaner.output.concentrate_au', \n",
    "    'final.output.concentrate_au', \n",
    "    'rougher.input.feed_au')\n",
    "\n",
    "plt.xlim(0, 53)\n",
    "plt.ylim(0, 1500)\n",
    "plt.xlabel('Концентрация золота на разных этапах очистки')\n",
    "plt.ylabel('Результат')\n",
    "plt.title('Изменение концентрации золота в зависимости от этапа очистки')\n",
    "\n",
    "plt.show()"
   ]
  },
  {
   "cell_type": "markdown",
   "metadata": {},
   "source": [
    "Мы видим, что концентрация золота увеличивается с каждым этапом очистки. Это хорошо"
   ]
  },
  {
   "cell_type": "code",
   "execution_count": 26,
   "metadata": {},
   "outputs": [
    {
     "data": {
      "image/png": "[encoded data removed]",
      "text/plain": [
       "<Figure size 720x504 with 1 Axes>"
      ]
     },
     "metadata": {
      "needs_background": "light"
     },
     "output_type": "display_data"
    }
   ],
   "source": [
    "#концентрация серебра на разных этапах очистки\n",
    "plt.figure(figsize=(10,7))\n",
    "\n",
    "metal_concentrate('rougher.output.concentrate_ag', \n",
    "                  'primary_cleaner.output.concentrate_ag', \n",
    "                  'final.output.concentrate_ag', \n",
    "                  'rougher.input.feed_ag')\n",
    "\n",
    "plt.xlim(0, 30)\n",
    "plt.ylim(0, 750)\n",
    "plt.xlabel('Концентрация серебра на разных этапах очистки')\n",
    "plt.ylabel('Результат')\n",
    "plt.title('Изменение концентрации серебра в зависимости от этапа очистки')\n",
    "\n",
    "plt.show()"
   ]
  },
  {
   "cell_type": "markdown",
   "metadata": {},
   "source": [
    "Видим, что концентрация серебра понижается с каждым этапом очистки."
   ]
  },
  {
   "cell_type": "code",
   "execution_count": 27,
   "metadata": {},
   "outputs": [
    {
     "data": {
      "image/png": "[encoded data removed]",
      "text/plain": [
       "<Figure size 720x504 with 1 Axes>"
      ]
     },
     "metadata": {
      "needs_background": "light"
     },
     "output_type": "display_data"
    }
   ],
   "source": [
    "#концентрация свинца на разных этапах очистки\n",
    "plt.figure(figsize=(10,7))\n",
    "\n",
    "metal_concentrate(\n",
    "    'rougher.output.concentrate_pb', \n",
    "    'primary_cleaner.output.concentrate_pb', \n",
    "    'final.output.concentrate_pb', \n",
    "    'rougher.input.feed_ag')\n",
    "\n",
    "plt.xlim(0, 30)\n",
    "plt.ylim(0, 750)\n",
    "plt.xlabel('Концентрация свинца на разных этапах очистки')\n",
    "plt.ylabel('Результат')\n",
    "plt.title('Изменение концентрации свинца в зависимости от этапа очистки')\n",
    "\n",
    "plt.show()"
   ]
  },
  {
   "cell_type": "markdown",
   "metadata": {},
   "source": [
    "После этапа флотации концентрация свинца увеличилась, а на финальном этапе просто усреднилась.\n",
    "\n",
    "Можно сделать вывод, что очистка лучше всего влияет на золото. Ещё можно заметить, что на всех графика в 0 виден большой выброс"
   ]
  },
  {
   "cell_type": "markdown",
   "metadata": {},
   "source": [
    "###  Сравним распределения размеров гранул сырья на обучающей и тестовой выборках"
   ]
  },
  {
   "cell_type": "code",
   "execution_count": 28,
   "metadata": {},
   "outputs": [
    {
     "data": {
      "image/png": "[encoded data removed]",
      "text/plain": [
       "<Figure size 720x504 with 1 Axes>"
      ]
     },
     "metadata": {
      "needs_background": "light"
     },
     "output_type": "display_data"
    }
   ],
   "source": [
    "plt.figure(figsize=[10,7])\n",
    "\n",
    "sns.kdeplot(g_train['rougher.input.feed_size'], shade=True)\n",
    "sns.kdeplot(g_test_new['rougher.input.feed_size'], shade=True)\n",
    "\n",
    "plt.xlabel('Размер гранул сырья')\n",
    "plt.ylabel('Плотность')\n",
    "plt.title('Распределение размеров гранул сырья')\n",
    "\n",
    "plt.show()"
   ]
  },
  {
   "cell_type": "markdown",
   "metadata": {},
   "source": [
    "Распределение размеров гранул сырья на этапе флотации схоже на обучающих и тестовых данных. Теперь проверим распределение на этапе первичной очистки."
   ]
  },
  {
   "cell_type": "code",
   "execution_count": 30,
   "metadata": {},
   "outputs": [
    {
     "data": {
      "image/png": "[encoded data removed]",
      "text/plain": [
       "<Figure size 720x504 with 1 Axes>"
      ]
     },
     "metadata": {
      "needs_background": "light"
     },
     "output_type": "display_data"
    }
   ],
   "source": [
    "plt.figure(figsize=[10,7])\n",
    "\n",
    "sns.kdeplot(g_train['primary_cleaner.input.feed_size'], shade=True)\n",
    "sns.kdeplot(g_test_new['primary_cleaner.input.feed_size'], shade=True)\n",
    "\n",
    "plt.xlabel('Размер гранул сырья')\n",
    "plt.ylabel('Плотность')\n",
    "plt.title('Распределение размеров гранул сырья на этапе первичной очистки')\n",
    "\n",
    "plt.show()"
   ]
  },
  {
   "cell_type": "markdown",
   "metadata": {},
   "source": [
    "Размер гранул сырья на этапе первичной очистки имеет нормальное рапсределение на тестовых и обучающих данных.\n",
    "\n",
    "Поскольку в обоих случаях у нас нормальное распределение, то можно сделать вывод, что эти признаки не исказят результат нашей модели."
   ]
  },
  {
   "cell_type": "markdown",
   "metadata": {},
   "source": [
    "### Исследуем суммарную концентрацию всех веществ на разных стадиях"
   ]
  },
  {
   "cell_type": "code",
   "execution_count": 32,
   "metadata": {},
   "outputs": [],
   "source": [
    "#просуммируем все концентрации разных веществ\n",
    "rou_out_sum = (\n",
    "    g_full['rougher.output.concentrate_ag'] + \n",
    "    g_full['rougher.output.concentrate_pb'] + \n",
    "    g_full['rougher.output.concentrate_sol'] +\n",
    "    g_full['rougher.output.concentrate_au']\n",
    ")\n",
    "\n",
    "rou_in_sum = (\n",
    "    g_full['rougher.input.feed_ag'] + \n",
    "    g_full['rougher.input.feed_pb'] +\n",
    "    g_full['rougher.input.feed_sol'] +\n",
    "    g_full['rougher.input.feed_au']\n",
    ")\n",
    "\n",
    "fin_sum = (\n",
    "    g_full['final.output.concentrate_ag'] +\n",
    "    g_full['final.output.concentrate_pb'] +\n",
    "    g_full['final.output.concentrate_sol'] +\n",
    "    g_full['final.output.concentrate_au']\n",
    ")"
   ]
  },
  {
   "cell_type": "code",
   "execution_count": 33,
   "metadata": {},
   "outputs": [
    {
     "data": {
      "image/png": "[encoded data removed]",
      "text/plain": [
       "<Figure size 720x504 with 1 Axes>"
      ]
     },
     "metadata": {
      "needs_background": "light"
     },
     "output_type": "display_data"
    }
   ],
   "source": [
    "plt.figure(figsize=[10,7])\n",
    "\n",
    "plt.hist(rou_out_sum, bins=150, alpha=0.5, color='r')\n",
    "plt.hist(rou_in_sum, bins=150, alpha=0.5, color='g')\n",
    "plt.hist(fin_sum, bins=150, alpha=0.5, color='b')\n",
    "\n",
    "plt.xlim([0, 100])\n",
    "plt.ylim([0, 1700])\n",
    "plt.xlabel('Суммарная концентрация')\n",
    "plt.ylabel('Результат')\n",
    "plt.title('Суммарная концентрация всех веществ на разных стадиях')\n",
    "\n",
    "plt.show()"
   ]
  },
  {
   "cell_type": "code",
   "execution_count": 34,
   "metadata": {},
   "outputs": [],
   "source": [
    "#чтобы аномалии нам не мешались при обучении модели, то удалим их из обучющих данных\n",
    "g_train = g_train.replace(0, np.nan).dropna()"
   ]
  },
  {
   "cell_type": "markdown",
   "metadata": {},
   "source": [
    "В нуле мы видим небольшой столбец околонулевых значений. Можно с уверенностью сказать, что это аномалии. Удалим их и заново построим график.\n",
    "\n",
    "Можно сказать, что на финальной стадии все значения усредняются"
   ]
  },
  {
   "cell_type": "code",
   "execution_count": 35,
   "metadata": {},
   "outputs": [
    {
     "data": {
      "image/png": "[encoded data removed]",
      "text/plain": [
       "<Figure size 720x504 with 1 Axes>"
      ]
     },
     "metadata": {
      "needs_background": "light"
     },
     "output_type": "display_data"
    }
   ],
   "source": [
    "#заменим нулевые значения на nan, а после удалим их\n",
    "rou_out_sum = rou_out_sum.replace(0, np.nan).dropna()\n",
    "rou_in_sum = rou_in_sum.replace(0, np.nan).dropna()\n",
    "fin_sum = fin_sum.replace(0, np.nan).dropna()\n",
    "\n",
    "plt.figure(figsize=[10,7])\n",
    "\n",
    "plt.hist(rou_out_sum, bins=150, alpha=0.5, color='r')\n",
    "plt.hist(rou_in_sum, bins=150, alpha=0.5, color='g')\n",
    "plt.hist(fin_sum, bins=150, alpha=0.5, color='b')\n",
    "\n",
    "plt.xlim([0, 100])\n",
    "plt.ylim([0, 1700])\n",
    "plt.xlabel('Суммарная концентрация')\n",
    "plt.ylabel('Результат')\n",
    "plt.title('Суммарная концентрация всех веществ на разных стадиях')\n",
    "\n",
    "plt.show()"
   ]
  },
  {
   "cell_type": "markdown",
   "metadata": {},
   "source": [
    "Видим, что осталось немного значений в 0, но это просто небольшое количество данных, которые немного больше 0."
   ]
  },
  {
   "cell_type": "code",
   "execution_count": 36,
   "metadata": {},
   "outputs": [],
   "source": [
    "#не будем чистить тестовые данные\n",
    "#g_test_new = g_test_new.replace(0, np.nan).dropna()"
   ]
  },
  {
   "cell_type": "markdown",
   "metadata": {},
   "source": [
    "**Выводы**\n",
    "\n",
    "В ходе анализа мы:\n",
    "\n",
    "* Посмотрели как меняется концентрация металлов на разных этапах очистки\n",
    "* Узнали размер гранул сырья\n",
    "* Изучили суммарную концентрацию веществ на разных стадиях очистки"
   ]
  },
  {
   "cell_type": "markdown",
   "metadata": {},
   "source": [
    "## Модель"
   ]
  },
  {
   "cell_type": "markdown",
   "metadata": {},
   "source": [
    "### Функция для вычисления итоговой sMAPE"
   ]
  },
  {
   "cell_type": "code",
   "execution_count": 37,
   "metadata": {},
   "outputs": [],
   "source": [
    "#напишем функцию для sMAPE и итоговой sMAPE\n",
    "def smape(target, pred):\n",
    "    return ((1 / len(target)) * (abs(target - pred)) / ((abs(target) + abs(pred)) / 2)).sum() * 100\n",
    "\n",
    "def total_smape(rougher, final):\n",
    "    return 0.25 * rougher + 0.75 * final"
   ]
  },
  {
   "cell_type": "markdown",
   "metadata": {},
   "source": [
    "### Обучим разные модели и оценим их качество кросс-валидацией"
   ]
  },
  {
   "cell_type": "code",
   "execution_count": 38,
   "metadata": {},
   "outputs": [],
   "source": [
    "#удалим столбец дата из наших данных\n",
    "g_train = g_train.drop(['date'], axis=1)\n",
    "g_test_new = g_test_new.drop(['date'], axis=1)"
   ]
  },
  {
   "cell_type": "code",
   "execution_count": 39,
   "metadata": {},
   "outputs": [],
   "source": [
    "#подготовим признаки\n",
    "features_train = g_train.drop(['rougher.output.recovery', 'final.output.recovery'], axis=1)\n",
    "features_test = g_test_new.drop(['rougher.output.recovery', 'final.output.recovery'], axis=1)\n",
    "\n",
    "target_train_r = g_train['rougher.output.recovery']\n",
    "target_test_r = g_test_new['rougher.output.recovery']\n",
    "\n",
    "target_train_f = g_train['final.output.recovery']\n",
    "target_test_f = g_test_new['final.output.recovery']"
   ]
  },
  {
   "cell_type": "code",
   "execution_count": 40,
   "metadata": {},
   "outputs": [],
   "source": [
    "#масштабирование\n",
    "#scaler = StandardScaler()\n",
    "#scaler.fit(features_train)\n",
    "#features_train = scaler.transform(features_train)\n",
    "#features_test = scaler.transform(features_test)"
   ]
  },
  {
   "cell_type": "markdown",
   "metadata": {},
   "source": [
    "Рассмотрим три модели: дерево решений, случайный лес и линейную регрессию. \n",
    "\n",
    "Подберём к ним лучшие гиперпараметры"
   ]
  },
  {
   "cell_type": "code",
   "execution_count": 41,
   "metadata": {},
   "outputs": [],
   "source": [
    "#линейная регрессия\n",
    "def reg(features, target):\n",
    "    best_reg = None    \n",
    "    best_smape = 0\n",
    "    pipe = make_pipeline(StandardScaler(), LinearRegression())\n",
    "    scores = cross_val_score(pipe, features, target, cv=5, scoring=make_scorer(smape))\n",
    "    final_score = sum(scores) / len(scores)\n",
    "    if final_score > best_smape:\n",
    "        best_reg = pipe\n",
    "        best_smape = final_score\n",
    "    return best_reg, best_smape"
   ]
  },
  {
   "cell_type": "code",
   "execution_count": 42,
   "metadata": {},
   "outputs": [
    {
     "name": "stdout",
     "output_type": "stream",
     "text": [
      "Линейная регрессия для признака rougher.output.recovery: \n",
      "Средняя sMAPE модели: 7.201953460972137\n",
      "CPU times: user 697 ms, sys: 918 ms, total: 1.62 s\n",
      "Wall time: 1.59 s\n"
     ]
    }
   ],
   "source": [
    "%%time\n",
    "best_reg1, best_smape = reg(features_train, target_train_r)\n",
    "print('Линейная регрессия для признака rougher.output.recovery:', \n",
    "      '\\nСредняя sMAPE модели:', best_smape)"
   ]
  },
  {
   "cell_type": "code",
   "execution_count": 43,
   "metadata": {},
   "outputs": [
    {
     "name": "stdout",
     "output_type": "stream",
     "text": [
      "Линейная регрессия для признака final.output.recovery: \n",
      "Средняя sMAPE модели: 10.948044600179767\n",
      "CPU times: user 574 ms, sys: 791 ms, total: 1.36 s\n",
      "Wall time: 1.24 s\n"
     ]
    }
   ],
   "source": [
    "%%time\n",
    "best_reg2, best_smape = reg(features_train, target_train_f)\n",
    "print('Линейная регрессия для признака final.output.recovery:', \n",
    "      '\\nСредняя sMAPE модели:', best_smape)"
   ]
  },
  {
   "cell_type": "code",
   "execution_count": 44,
   "metadata": {},
   "outputs": [],
   "source": [
    "#дерево решений \n",
    "def tree(features, target):\n",
    "    best_smape = 0\n",
    "    best_depth = None\n",
    "    best_tree = None\n",
    "    for depth in range(1, 15, 2):\n",
    "        pipe = make_pipeline(StandardScaler(), DecisionTreeRegressor(random_state=42, max_depth=depth))\n",
    "        scores = cross_val_score(pipe, features, target, cv=5, scoring=make_scorer(smape))\n",
    "        final_score = sum(scores) / len(scores)\n",
    "        if final_score > best_smape:\n",
    "            best_smape = final_score\n",
    "            best_depth = depth\n",
    "            best_tree = pipe\n",
    "    return best_smape, best_depth, best_tree            \n",
    "    "
   ]
  },
  {
   "cell_type": "code",
   "execution_count": 45,
   "metadata": {},
   "outputs": [
    {
     "name": "stdout",
     "output_type": "stream",
     "text": [
      "Дерево решений для признака rougher.output.recovery: \n",
      "Лучшая глубина: 13 , \n",
      "Средняя sMAPE модели: 9.472276220585176\n",
      "CPU times: user 11.8 s, sys: 56.7 ms, total: 11.8 s\n",
      "Wall time: 11.8 s\n"
     ]
    }
   ],
   "source": [
    "%%time\n",
    "best_smape, best_depth, best_tree1 = tree(features_train, target_train_r)\n",
    "print('Дерево решений для признака rougher.output.recovery:', \n",
    "      '\\nЛучшая глубина:', best_depth, ', ' \n",
    "      '\\nСредняя sMAPE модели:', best_smape)"
   ]
  },
  {
   "cell_type": "code",
   "execution_count": 46,
   "metadata": {},
   "outputs": [
    {
     "name": "stdout",
     "output_type": "stream",
     "text": [
      "Дерево решений для признака final.output.recovery: \n",
      "Лучшая глубина: 13 , \n",
      "Средняя sMAPE модели: 14.542337969721956\n",
      "CPU times: user 11.9 s, sys: 79 ms, total: 12 s\n",
      "Wall time: 12 s\n"
     ]
    }
   ],
   "source": [
    "%%time\n",
    "best_smape, best_depth, best_tree2 = tree(features_train, target_train_f)\n",
    "print('Дерево решений для признака final.output.recovery:', \n",
    "      '\\nЛучшая глубина:', best_depth, ', ' \n",
    "      '\\nСредняя sMAPE модели:', best_smape)"
   ]
  },
  {
   "cell_type": "code",
   "execution_count": 47,
   "metadata": {},
   "outputs": [],
   "source": [
    "#случайный лес\n",
    "def forest(features, target):\n",
    "    best_smape = 0\n",
    "    best_depth = None\n",
    "    best_forest = None\n",
    "    best_est = None\n",
    "    for depth in range(1, 15, 2): \n",
    "        for est in range(1, 20, 2):\n",
    "            pipe = make_pipeline(\n",
    "                StandardScaler(), \n",
    "                RandomForestRegressor(random_state=42, max_depth=depth, n_estimators=est))\n",
    "            \n",
    "            scores = cross_val_score(pipe, features, target, cv=5, scoring=make_scorer(smape))\n",
    "            final_score = sum(scores) / len(scores)\n",
    "            if final_score > best_smape:\n",
    "                best_smape = final_score\n",
    "                best_depth = depth\n",
    "                best_est = est\n",
    "                best_forest = pipe\n",
    "                \n",
    "    return best_smape, best_depth, best_est, best_forest "
   ]
  },
  {
   "cell_type": "code",
   "execution_count": 48,
   "metadata": {},
   "outputs": [
    {
     "name": "stdout",
     "output_type": "stream",
     "text": [
      "Случайный лес для признака rougher.output.recovery: \n",
      "Лучшая глубина: 9 , \n",
      "Лучшее дерево: 1 , \n",
      "Средняя sMAPE модели: 10.056331845510908\n",
      "CPU times: user 11min 19s, sys: 2.24 s, total: 11min 22s\n",
      "Wall time: 11min 22s\n"
     ]
    }
   ],
   "source": [
    "%%time\n",
    "best_smape, best_depth, best_est, best_forest1 = forest(features_train, target_train_r)\n",
    "print('Случайный лес для признака rougher.output.recovery:', \n",
    "      '\\nЛучшая глубина:', best_depth, ', ' \n",
    "      '\\nЛучшее дерево:', best_est, ', '\n",
    "      '\\nСредняя sMAPE модели:', best_smape)"
   ]
  },
  {
   "cell_type": "code",
   "execution_count": 49,
   "metadata": {},
   "outputs": [
    {
     "name": "stdout",
     "output_type": "stream",
     "text": [
      "Случайный лес для признака final.output.recovery: \n",
      "Лучшая глубина: 13 , \n",
      "Лучшее дерево: 1 , \n",
      "Средняя sMAPE модели: 14.625415291328546\n",
      "CPU times: user 11min 35s, sys: 3.07 s, total: 11min 38s\n",
      "Wall time: 11min 38s\n"
     ]
    }
   ],
   "source": [
    "%%time\n",
    "best_smape, best_depth, best_est, best_forest2 = forest(features_train, target_train_f)\n",
    "print('Случайный лес для признака final.output.recovery:', \n",
    "      '\\nЛучшая глубина:', best_depth, ', ' \n",
    "      '\\nЛучшее дерево:', best_est, ', '\n",
    "      '\\nСредняя sMAPE модели:', best_smape)"
   ]
  },
  {
   "cell_type": "markdown",
   "metadata": {},
   "source": [
    "**Случайный лес показал худший результат. Линейная регрессия сработала быстро и с лучшим результатом. Хоть дерево решений и второй результат, но линейная регрессия чуточку лучше. Остановимся на линейной регрессии**"
   ]
  },
  {
   "cell_type": "code",
   "execution_count": 50,
   "metadata": {},
   "outputs": [],
   "source": [
    "#лучшая модель леса для признака rougher.output.recovery\n",
    "#model_r = best_forest1\n",
    "model_r = best_reg1\n",
    "\n",
    "#лучшая модель леса для признака final.output.recovery\n",
    "#model_f = best_forest2\n",
    "model_f = best_reg2"
   ]
  },
  {
   "cell_type": "markdown",
   "metadata": {},
   "source": [
    "Получим предсказание на лучшей модели, затем рассчитаем smape_rough и smape_final, а после получим итоговое sMAPE"
   ]
  },
  {
   "cell_type": "code",
   "execution_count": 51,
   "metadata": {},
   "outputs": [
    {
     "name": "stdout",
     "output_type": "stream",
     "text": [
      "sMAPE для rougher.output.recovery: 8.598065773134234\n"
     ]
    }
   ],
   "source": [
    "#получим предсказание и найдём smape rougher\n",
    "model_r.fit(features_train, target_train_r)\n",
    "r_predict = model_r.predict(features_test)\n",
    "\n",
    "smape_rougher = smape(target_test_r, r_predict)\n",
    "print('sMAPE для rougher.output.recovery:', smape_rougher)"
   ]
  },
  {
   "cell_type": "code",
   "execution_count": 52,
   "metadata": {},
   "outputs": [
    {
     "name": "stdout",
     "output_type": "stream",
     "text": [
      "sMAPE для final.output.recovery: 10.00458728400107\n"
     ]
    }
   ],
   "source": [
    "#получим предсказание и найдём smape final\n",
    "model_f.fit(features_train, target_train_f)\n",
    "f_predict = model_f.predict(features_test)\n",
    "\n",
    "smape_final = smape(target_test_f, f_predict)\n",
    "print('sMAPE для final.output.recovery:', smape_final)"
   ]
  },
  {
   "cell_type": "code",
   "execution_count": 53,
   "metadata": {},
   "outputs": [
    {
     "name": "stdout",
     "output_type": "stream",
     "text": [
      "Итоговое sMAPE: 9.652956906284363\n"
     ]
    }
   ],
   "source": [
    "grand_smape = total_smape(smape_rougher, smape_final)\n",
    "print('Итоговое sMAPE:', grand_smape)"
   ]
  },
  {
   "cell_type": "markdown",
   "metadata": {},
   "source": [
    "Создадим константную модель и сравним наш итоговый результат с ней"
   ]
  },
  {
   "cell_type": "code",
   "execution_count": 54,
   "metadata": {},
   "outputs": [
    {
     "name": "stdout",
     "output_type": "stream",
     "text": [
      "9.437345213050548\n"
     ]
    }
   ],
   "source": [
    "rougher_median = pd.Series(target_train_r.median(), index=target_test_r.index)\n",
    "final_median = pd.Series(target_train_f.median(), index=target_test_f.index)\n",
    "\n",
    "const_smape = (0.25 * smape(target_test_r, rougher_median)) + (0.75 * smape(target_test_f, final_median))\n",
    "print(const_smape)"
   ]
  },
  {
   "cell_type": "markdown",
   "metadata": {},
   "source": [
    "**Выводы**\n",
    "\n",
    "Мы проделали следующее:\n",
    "* Написали функцию для вычисления sMAPE\n",
    "* Подготовили признаки и провели масштабирование\n",
    "* Построили три модели: дерево решений, случайный лес и линейная регрессия\n",
    "* Лучшей моделью оказалась линейная регрессия\n",
    "* На лучшей модели рассчитали итоговый sMAPE (sMAPE ≈ 9.7)\n",
    "* Сравнили итоговый sMAPE с sMAPE константной модели (sMAPE константной модели ≈ 9.4)\n",
    "\n"
   ]
  },
  {
   "cell_type": "markdown",
   "metadata": {},
   "source": [
    "## Общий вывод"
   ]
  },
  {
   "cell_type": "markdown",
   "metadata": {},
   "source": [
    "В ходе работы мы:\n",
    "\n",
    "1. Изучили данные комании «Цифра».\n",
    "2. Проверили, что эффективность обогащения рассчитана правильно\n",
    "3. Изучили признаки, недоступные в тестовой выборке\n",
    "4. Провели небольшую предобработку данных\n",
    "5. Провели анализ данных\n",
    "6. Посмотрели как меняется концентрация металлов на разных этапах очистки\n",
    "7. Узнали размер гранул сырья\n",
    "8. Изучили суммарную концентрацию веществ на разных стадиях очистки\n",
    "9. Написали функцию для вычисления sMAPE\n",
    "10. Обучили модели и рассчитали итоговый sMAPE\n",
    "\n",
    "Нам были предоставленные 3 файла с данными: обучающие, тестовые и полные. Данные были сырые: их просто выгрузили из хранилища. \n",
    "\n",
    "После изучения данных мы рассчитали эффективность обогащения. MAE между нашими расчётами и значением признака = 9.7. Значение не идеальное, но можно считать, что расчёты верны. \n",
    "\n",
    "**Итог**\n",
    "\n",
    "После построения моделей мы выяснили, что линейная регрессия - лучшая модель. sMAPE линейной регрессии ≈ 9.7. sMAPE константной модели ≈ 9.4. sMAPE модели проигрывает константе ≈ 0.3 пункта. Разница не очень критичная, но всё же. Можно сказать, что модель почти адекватна\n",
    "\n",
    "Предположения, которые могли бы уменьшить наш итоговый sMAPE:\n",
    "* Иначе обработать пропуски в данных\n",
    "* Использовать дополнительные модели к существующим\n",
    "* Подобрать другие гиперпараметры"
   ]
  }
 ],
 "metadata": {
  "ExecuteTimeLog": [
   {
    "duration": 1527,
    "start_time": "2022-12-11T15:16:55.083Z"
   },
   {
    "duration": 2115,
    "start_time": "2022-12-11T15:16:56.612Z"
   },
   {
    "duration": 25,
    "start_time": "2022-12-11T15:17:12.327Z"
   },
   {
    "duration": 22,
    "start_time": "2022-12-11T18:22:31.291Z"
   },
   {
    "duration": 21,
    "start_time": "2022-12-11T18:23:03.463Z"
   },
   {
    "duration": 18,
    "start_time": "2022-12-11T18:24:24.908Z"
   },
   {
    "duration": 18,
    "start_time": "2022-12-11T18:24:28.471Z"
   },
   {
    "duration": 726,
    "start_time": "2022-12-11T18:25:28.070Z"
   },
   {
    "duration": 21,
    "start_time": "2022-12-11T18:25:30.220Z"
   },
   {
    "duration": 22,
    "start_time": "2022-12-11T18:25:36.878Z"
   },
   {
    "duration": 23,
    "start_time": "2022-12-11T18:25:43.008Z"
   },
   {
    "duration": 22,
    "start_time": "2022-12-11T18:25:45.311Z"
   },
   {
    "duration": 16,
    "start_time": "2022-12-11T18:25:54.256Z"
   },
   {
    "duration": 15,
    "start_time": "2022-12-11T18:26:17.051Z"
   },
   {
    "duration": 18,
    "start_time": "2022-12-11T18:27:53.621Z"
   },
   {
    "duration": 1505,
    "start_time": "2022-12-11T20:18:27.884Z"
   },
   {
    "duration": 2754,
    "start_time": "2022-12-11T20:18:29.390Z"
   },
   {
    "duration": 22,
    "start_time": "2022-12-11T20:18:32.146Z"
   },
   {
    "duration": 27,
    "start_time": "2022-12-11T20:18:32.170Z"
   },
   {
    "duration": 26,
    "start_time": "2022-12-11T20:18:32.199Z"
   },
   {
    "duration": 45,
    "start_time": "2022-12-11T20:18:32.227Z"
   },
   {
    "duration": 33,
    "start_time": "2022-12-11T20:18:32.273Z"
   },
   {
    "duration": 34,
    "start_time": "2022-12-11T20:18:32.308Z"
   },
   {
    "duration": 59,
    "start_time": "2022-12-11T20:18:35.615Z"
   },
   {
    "duration": 14,
    "start_time": "2022-12-11T20:19:08.523Z"
   },
   {
    "duration": 21,
    "start_time": "2022-12-11T20:19:20.174Z"
   },
   {
    "duration": 267,
    "start_time": "2022-12-11T20:26:49.687Z"
   },
   {
    "duration": 126,
    "start_time": "2022-12-11T20:27:03.022Z"
   },
   {
    "duration": 270,
    "start_time": "2022-12-11T20:27:11.956Z"
   },
   {
    "duration": 111,
    "start_time": "2022-12-11T20:47:30.933Z"
   },
   {
    "duration": 26,
    "start_time": "2022-12-11T20:48:05.368Z"
   },
   {
    "duration": 77,
    "start_time": "2022-12-11T20:48:25.439Z"
   },
   {
    "duration": 199,
    "start_time": "2022-12-11T20:49:13.036Z"
   },
   {
    "duration": 44,
    "start_time": "2022-12-12T08:12:29.439Z"
   },
   {
    "duration": 1568,
    "start_time": "2022-12-12T08:12:34.334Z"
   },
   {
    "duration": 2725,
    "start_time": "2022-12-12T08:12:35.904Z"
   },
   {
    "duration": 23,
    "start_time": "2022-12-12T08:12:38.630Z"
   },
   {
    "duration": 17,
    "start_time": "2022-12-12T08:12:38.655Z"
   },
   {
    "duration": 26,
    "start_time": "2022-12-12T08:12:38.673Z"
   },
   {
    "duration": 22,
    "start_time": "2022-12-12T08:12:38.700Z"
   },
   {
    "duration": 11,
    "start_time": "2022-12-12T08:12:38.724Z"
   },
   {
    "duration": 15,
    "start_time": "2022-12-12T08:12:38.736Z"
   },
   {
    "duration": 232,
    "start_time": "2022-12-12T08:12:38.753Z"
   },
   {
    "duration": 124,
    "start_time": "2022-12-12T08:12:38.987Z"
   },
   {
    "duration": 229,
    "start_time": "2022-12-12T08:12:39.113Z"
   },
   {
    "duration": 58,
    "start_time": "2022-12-12T08:12:39.343Z"
   },
   {
    "duration": 15,
    "start_time": "2022-12-12T08:12:39.402Z"
   },
   {
    "duration": 46,
    "start_time": "2022-12-12T08:12:39.418Z"
   },
   {
    "duration": 101,
    "start_time": "2022-12-12T08:12:39.465Z"
   },
   {
    "duration": 31,
    "start_time": "2022-12-12T08:12:39.568Z"
   },
   {
    "duration": 79,
    "start_time": "2022-12-12T08:12:39.601Z"
   },
   {
    "duration": 218,
    "start_time": "2022-12-12T08:12:39.682Z"
   },
   {
    "duration": 3,
    "start_time": "2022-12-12T08:12:43.846Z"
   },
   {
    "duration": 11,
    "start_time": "2022-12-12T08:12:44.734Z"
   },
   {
    "duration": 7,
    "start_time": "2022-12-12T08:15:07.587Z"
   },
   {
    "duration": 7,
    "start_time": "2022-12-12T08:15:22.923Z"
   },
   {
    "duration": 9,
    "start_time": "2022-12-12T08:15:32.461Z"
   },
   {
    "duration": 6,
    "start_time": "2022-12-12T08:16:45.187Z"
   },
   {
    "duration": 4,
    "start_time": "2022-12-12T08:19:41.170Z"
   },
   {
    "duration": 6,
    "start_time": "2022-12-12T08:19:47.498Z"
   },
   {
    "duration": 3,
    "start_time": "2022-12-12T08:19:50.465Z"
   },
   {
    "duration": 636,
    "start_time": "2022-12-12T08:19:50.470Z"
   },
   {
    "duration": 22,
    "start_time": "2022-12-12T08:19:51.108Z"
   },
   {
    "duration": 23,
    "start_time": "2022-12-12T08:19:51.131Z"
   },
   {
    "duration": 42,
    "start_time": "2022-12-12T08:19:51.156Z"
   },
   {
    "duration": 17,
    "start_time": "2022-12-12T08:19:51.200Z"
   },
   {
    "duration": 14,
    "start_time": "2022-12-12T08:19:51.218Z"
   },
   {
    "duration": 17,
    "start_time": "2022-12-12T08:19:51.234Z"
   },
   {
    "duration": 233,
    "start_time": "2022-12-12T08:19:51.253Z"
   },
   {
    "duration": 113,
    "start_time": "2022-12-12T08:19:51.487Z"
   },
   {
    "duration": 224,
    "start_time": "2022-12-12T08:19:51.602Z"
   },
   {
    "duration": 19,
    "start_time": "2022-12-12T08:19:51.827Z"
   },
   {
    "duration": 12,
    "start_time": "2022-12-12T08:19:51.847Z"
   },
   {
    "duration": 42,
    "start_time": "2022-12-12T08:19:51.861Z"
   },
   {
    "duration": 109,
    "start_time": "2022-12-12T08:19:51.905Z"
   },
   {
    "duration": 25,
    "start_time": "2022-12-12T08:19:52.015Z"
   },
   {
    "duration": 96,
    "start_time": "2022-12-12T08:19:52.041Z"
   },
   {
    "duration": 201,
    "start_time": "2022-12-12T08:19:52.139Z"
   },
   {
    "duration": 3,
    "start_time": "2022-12-12T08:19:59.809Z"
   },
   {
    "duration": 6,
    "start_time": "2022-12-12T08:20:00.610Z"
   },
   {
    "duration": 3,
    "start_time": "2022-12-12T08:22:12.201Z"
   },
   {
    "duration": 7,
    "start_time": "2022-12-12T08:22:12.512Z"
   },
   {
    "duration": 7,
    "start_time": "2022-12-12T08:22:21.210Z"
   },
   {
    "duration": 6,
    "start_time": "2022-12-12T08:25:53.118Z"
   },
   {
    "duration": 6,
    "start_time": "2022-12-12T08:29:47.877Z"
   },
   {
    "duration": 95,
    "start_time": "2022-12-12T08:30:24.778Z"
   },
   {
    "duration": 3,
    "start_time": "2022-12-12T08:55:05.784Z"
   },
   {
    "duration": 9,
    "start_time": "2022-12-12T08:59:23.558Z"
   },
   {
    "duration": 9,
    "start_time": "2022-12-12T09:06:41.203Z"
   },
   {
    "duration": 4,
    "start_time": "2022-12-12T09:06:48.101Z"
   },
   {
    "duration": 8,
    "start_time": "2022-12-12T09:07:00.753Z"
   },
   {
    "duration": 11,
    "start_time": "2022-12-12T09:07:05.822Z"
   },
   {
    "duration": 10,
    "start_time": "2022-12-12T09:07:58.048Z"
   },
   {
    "duration": 12,
    "start_time": "2022-12-12T09:08:04.823Z"
   },
   {
    "duration": 61,
    "start_time": "2022-12-12T09:17:35.211Z"
   },
   {
    "duration": 11,
    "start_time": "2022-12-12T09:18:00.470Z"
   },
   {
    "duration": 43,
    "start_time": "2022-12-12T09:18:41.901Z"
   },
   {
    "duration": 48,
    "start_time": "2022-12-12T09:19:30.491Z"
   },
   {
    "duration": 3,
    "start_time": "2022-12-12T09:19:39.475Z"
   },
   {
    "duration": 4,
    "start_time": "2022-12-12T09:19:43.990Z"
   },
   {
    "duration": 10,
    "start_time": "2022-12-12T09:20:47.247Z"
   },
   {
    "duration": 6,
    "start_time": "2022-12-12T09:20:59.970Z"
   },
   {
    "duration": 6,
    "start_time": "2022-12-12T09:21:07.219Z"
   },
   {
    "duration": 7,
    "start_time": "2022-12-12T09:22:02.562Z"
   },
   {
    "duration": 7,
    "start_time": "2022-12-12T09:22:31.990Z"
   },
   {
    "duration": 9,
    "start_time": "2022-12-12T09:23:32.353Z"
   },
   {
    "duration": 8,
    "start_time": "2022-12-12T11:48:16.161Z"
   },
   {
    "duration": 4,
    "start_time": "2022-12-12T11:48:19.967Z"
   },
   {
    "duration": 24,
    "start_time": "2022-12-12T11:48:23.033Z"
   },
   {
    "duration": 4,
    "start_time": "2022-12-12T11:48:30.055Z"
   },
   {
    "duration": 21,
    "start_time": "2022-12-12T11:48:48.024Z"
   },
   {
    "duration": 46,
    "start_time": "2022-12-12T11:49:01.641Z"
   },
   {
    "duration": 54,
    "start_time": "2022-12-12T11:49:58.258Z"
   },
   {
    "duration": 43,
    "start_time": "2022-12-12T11:50:42.119Z"
   },
   {
    "duration": 38,
    "start_time": "2022-12-12T11:50:45.446Z"
   },
   {
    "duration": 48,
    "start_time": "2022-12-12T11:50:56.272Z"
   },
   {
    "duration": 39,
    "start_time": "2022-12-12T11:51:03.151Z"
   },
   {
    "duration": 38,
    "start_time": "2022-12-12T11:51:12.059Z"
   },
   {
    "duration": 42,
    "start_time": "2022-12-12T11:51:15.798Z"
   },
   {
    "duration": 4,
    "start_time": "2022-12-12T11:51:18.005Z"
   },
   {
    "duration": 46,
    "start_time": "2022-12-12T11:51:19.702Z"
   },
   {
    "duration": 42,
    "start_time": "2022-12-12T11:52:29.047Z"
   },
   {
    "duration": 42,
    "start_time": "2022-12-12T11:52:33.093Z"
   },
   {
    "duration": 281,
    "start_time": "2022-12-12T11:52:37.846Z"
   },
   {
    "duration": 4,
    "start_time": "2022-12-12T11:52:58.813Z"
   },
   {
    "duration": 3,
    "start_time": "2022-12-12T11:53:06.999Z"
   },
   {
    "duration": 257,
    "start_time": "2022-12-12T11:53:25.710Z"
   },
   {
    "duration": 45,
    "start_time": "2022-12-12T11:53:43.176Z"
   },
   {
    "duration": 268,
    "start_time": "2022-12-12T11:54:13.533Z"
   },
   {
    "duration": 261,
    "start_time": "2022-12-12T11:54:35.045Z"
   },
   {
    "duration": 276,
    "start_time": "2022-12-12T11:55:07.707Z"
   },
   {
    "duration": 260,
    "start_time": "2022-12-12T11:55:12.018Z"
   },
   {
    "duration": 263,
    "start_time": "2022-12-12T11:55:37.659Z"
   },
   {
    "duration": 262,
    "start_time": "2022-12-12T11:55:43.916Z"
   },
   {
    "duration": 287,
    "start_time": "2022-12-12T11:55:48.866Z"
   },
   {
    "duration": 345,
    "start_time": "2022-12-12T12:04:23.990Z"
   },
   {
    "duration": 304,
    "start_time": "2022-12-12T12:04:28.863Z"
   },
   {
    "duration": 29,
    "start_time": "2022-12-12T12:04:44.183Z"
   },
   {
    "duration": 21,
    "start_time": "2022-12-12T12:21:31.934Z"
   },
   {
    "duration": 278,
    "start_time": "2022-12-12T12:21:33.588Z"
   },
   {
    "duration": 261,
    "start_time": "2022-12-12T12:22:40.503Z"
   },
   {
    "duration": 1040,
    "start_time": "2022-12-12T12:22:46.195Z"
   },
   {
    "duration": 279,
    "start_time": "2022-12-12T12:23:11.012Z"
   },
   {
    "duration": 1013,
    "start_time": "2022-12-12T12:23:24.963Z"
   },
   {
    "duration": 260,
    "start_time": "2022-12-12T12:23:30.651Z"
   },
   {
    "duration": 6,
    "start_time": "2022-12-12T12:23:41.331Z"
   },
   {
    "duration": 17,
    "start_time": "2022-12-12T12:25:53.945Z"
   },
   {
    "duration": 306,
    "start_time": "2022-12-12T12:26:07.441Z"
   },
   {
    "duration": 300,
    "start_time": "2022-12-12T12:27:58.260Z"
   },
   {
    "duration": 9,
    "start_time": "2022-12-12T12:32:34.296Z"
   },
   {
    "duration": 3,
    "start_time": "2022-12-12T12:32:37.512Z"
   },
   {
    "duration": 6,
    "start_time": "2022-12-12T12:32:37.992Z"
   },
   {
    "duration": 2,
    "start_time": "2022-12-12T12:32:40.888Z"
   },
   {
    "duration": 6,
    "start_time": "2022-12-12T12:32:41.312Z"
   },
   {
    "duration": 3,
    "start_time": "2022-12-12T12:32:49.482Z"
   },
   {
    "duration": 6,
    "start_time": "2022-12-12T12:32:49.760Z"
   },
   {
    "duration": 284,
    "start_time": "2022-12-12T12:34:26.382Z"
   },
   {
    "duration": 39,
    "start_time": "2022-12-12T12:43:37.665Z"
   },
   {
    "duration": 9,
    "start_time": "2022-12-12T12:43:45.382Z"
   },
   {
    "duration": 8,
    "start_time": "2022-12-12T12:43:53.977Z"
   },
   {
    "duration": 4,
    "start_time": "2022-12-12T12:45:33.546Z"
   },
   {
    "duration": 7,
    "start_time": "2022-12-12T12:45:34.955Z"
   },
   {
    "duration": 5,
    "start_time": "2022-12-12T12:45:38.723Z"
   },
   {
    "duration": 676,
    "start_time": "2022-12-12T12:45:38.730Z"
   },
   {
    "duration": 18,
    "start_time": "2022-12-12T12:45:39.409Z"
   },
   {
    "duration": 21,
    "start_time": "2022-12-12T12:45:39.429Z"
   },
   {
    "duration": 20,
    "start_time": "2022-12-12T12:45:39.452Z"
   },
   {
    "duration": 36,
    "start_time": "2022-12-12T12:45:39.474Z"
   },
   {
    "duration": 12,
    "start_time": "2022-12-12T12:45:39.511Z"
   },
   {
    "duration": 19,
    "start_time": "2022-12-12T12:45:39.524Z"
   },
   {
    "duration": 230,
    "start_time": "2022-12-12T12:45:39.545Z"
   },
   {
    "duration": 127,
    "start_time": "2022-12-12T12:45:39.777Z"
   },
   {
    "duration": 259,
    "start_time": "2022-12-12T12:45:39.907Z"
   },
   {
    "duration": 19,
    "start_time": "2022-12-12T12:45:40.167Z"
   },
   {
    "duration": 22,
    "start_time": "2022-12-12T12:45:40.188Z"
   },
   {
    "duration": 19,
    "start_time": "2022-12-12T12:45:40.211Z"
   },
   {
    "duration": 127,
    "start_time": "2022-12-12T12:45:40.232Z"
   },
   {
    "duration": 37,
    "start_time": "2022-12-12T12:45:40.361Z"
   },
   {
    "duration": 86,
    "start_time": "2022-12-12T12:45:40.400Z"
   },
   {
    "duration": 243,
    "start_time": "2022-12-12T12:45:40.487Z"
   },
   {
    "duration": 4,
    "start_time": "2022-12-12T12:45:43.586Z"
   },
   {
    "duration": 6,
    "start_time": "2022-12-12T12:45:44.323Z"
   },
   {
    "duration": 3,
    "start_time": "2022-12-12T12:45:52.650Z"
   },
   {
    "duration": 7,
    "start_time": "2022-12-12T12:45:53.026Z"
   },
   {
    "duration": 10,
    "start_time": "2022-12-12T12:54:49.499Z"
   },
   {
    "duration": 18,
    "start_time": "2022-12-12T12:54:55.135Z"
   },
   {
    "duration": 57,
    "start_time": "2022-12-12T12:55:01.783Z"
   },
   {
    "duration": 89,
    "start_time": "2022-12-12T12:55:39.997Z"
   },
   {
    "duration": 149,
    "start_time": "2022-12-12T12:55:43.008Z"
   },
   {
    "duration": 16,
    "start_time": "2022-12-12T12:56:06.361Z"
   },
   {
    "duration": 29,
    "start_time": "2022-12-12T12:56:15.190Z"
   },
   {
    "duration": 92,
    "start_time": "2022-12-12T12:56:22.378Z"
   },
   {
    "duration": 23,
    "start_time": "2022-12-12T12:56:38.325Z"
   },
   {
    "duration": 16,
    "start_time": "2022-12-12T12:57:47.836Z"
   },
   {
    "duration": 17,
    "start_time": "2022-12-12T12:57:55.700Z"
   },
   {
    "duration": 18,
    "start_time": "2022-12-12T12:57:58.564Z"
   },
   {
    "duration": 4,
    "start_time": "2022-12-12T12:58:30.681Z"
   },
   {
    "duration": 676,
    "start_time": "2022-12-12T12:58:30.687Z"
   },
   {
    "duration": 35,
    "start_time": "2022-12-12T12:58:31.365Z"
   },
   {
    "duration": 28,
    "start_time": "2022-12-12T12:58:31.401Z"
   },
   {
    "duration": 28,
    "start_time": "2022-12-12T12:58:31.431Z"
   },
   {
    "duration": 30,
    "start_time": "2022-12-12T12:58:31.461Z"
   },
   {
    "duration": 14,
    "start_time": "2022-12-12T12:58:31.493Z"
   },
   {
    "duration": 19,
    "start_time": "2022-12-12T12:58:31.509Z"
   },
   {
    "duration": 245,
    "start_time": "2022-12-12T12:58:31.529Z"
   },
   {
    "duration": 137,
    "start_time": "2022-12-12T12:58:31.776Z"
   },
   {
    "duration": 288,
    "start_time": "2022-12-12T12:58:31.916Z"
   },
   {
    "duration": 21,
    "start_time": "2022-12-12T12:58:32.205Z"
   },
   {
    "duration": 16,
    "start_time": "2022-12-12T12:58:32.227Z"
   },
   {
    "duration": 27,
    "start_time": "2022-12-12T12:58:32.245Z"
   },
   {
    "duration": 119,
    "start_time": "2022-12-12T12:58:32.297Z"
   },
   {
    "duration": 28,
    "start_time": "2022-12-12T12:58:32.418Z"
   },
   {
    "duration": 104,
    "start_time": "2022-12-12T12:58:32.448Z"
   },
   {
    "duration": 226,
    "start_time": "2022-12-12T12:58:32.554Z"
   },
   {
    "duration": 3,
    "start_time": "2022-12-12T12:58:36.411Z"
   },
   {
    "duration": 8,
    "start_time": "2022-12-12T12:58:37.123Z"
   },
   {
    "duration": 7,
    "start_time": "2022-12-12T12:58:39.379Z"
   },
   {
    "duration": 332,
    "start_time": "2022-12-12T12:58:44.700Z"
   },
   {
    "duration": 17,
    "start_time": "2022-12-12T12:58:47.715Z"
   },
   {
    "duration": 5,
    "start_time": "2022-12-12T12:59:15.794Z"
   },
   {
    "duration": 6,
    "start_time": "2022-12-12T12:59:16.187Z"
   },
   {
    "duration": 13,
    "start_time": "2022-12-12T12:59:21.291Z"
   },
   {
    "duration": 4,
    "start_time": "2022-12-12T12:59:33.138Z"
   },
   {
    "duration": 701,
    "start_time": "2022-12-12T12:59:33.144Z"
   },
   {
    "duration": 19,
    "start_time": "2022-12-12T12:59:33.847Z"
   },
   {
    "duration": 43,
    "start_time": "2022-12-12T12:59:33.868Z"
   },
   {
    "duration": 42,
    "start_time": "2022-12-12T12:59:33.912Z"
   },
   {
    "duration": 37,
    "start_time": "2022-12-12T12:59:33.956Z"
   },
   {
    "duration": 30,
    "start_time": "2022-12-12T12:59:33.994Z"
   },
   {
    "duration": 26,
    "start_time": "2022-12-12T12:59:34.026Z"
   },
   {
    "duration": 212,
    "start_time": "2022-12-12T12:59:34.056Z"
   },
   {
    "duration": 129,
    "start_time": "2022-12-12T12:59:34.269Z"
   },
   {
    "duration": 231,
    "start_time": "2022-12-12T12:59:34.400Z"
   },
   {
    "duration": 26,
    "start_time": "2022-12-12T12:59:34.635Z"
   },
   {
    "duration": 38,
    "start_time": "2022-12-12T12:59:34.663Z"
   },
   {
    "duration": 24,
    "start_time": "2022-12-12T12:59:34.703Z"
   },
   {
    "duration": 149,
    "start_time": "2022-12-12T12:59:34.730Z"
   },
   {
    "duration": 35,
    "start_time": "2022-12-12T12:59:34.881Z"
   },
   {
    "duration": 92,
    "start_time": "2022-12-12T12:59:34.917Z"
   },
   {
    "duration": 225,
    "start_time": "2022-12-12T12:59:35.010Z"
   },
   {
    "duration": 3,
    "start_time": "2022-12-12T12:59:41.458Z"
   },
   {
    "duration": 7,
    "start_time": "2022-12-12T12:59:42.155Z"
   },
   {
    "duration": 9,
    "start_time": "2022-12-12T12:59:44.538Z"
   },
   {
    "duration": 285,
    "start_time": "2022-12-12T12:59:46.889Z"
   },
   {
    "duration": 23,
    "start_time": "2022-12-12T12:59:50.042Z"
   },
   {
    "duration": 4,
    "start_time": "2022-12-12T13:00:01.610Z"
   },
   {
    "duration": 7,
    "start_time": "2022-12-12T13:00:01.978Z"
   },
   {
    "duration": 5,
    "start_time": "2022-12-12T13:00:05.636Z"
   },
   {
    "duration": 670,
    "start_time": "2022-12-12T13:00:05.643Z"
   },
   {
    "duration": 19,
    "start_time": "2022-12-12T13:00:06.315Z"
   },
   {
    "duration": 24,
    "start_time": "2022-12-12T13:00:06.335Z"
   },
   {
    "duration": 20,
    "start_time": "2022-12-12T13:00:06.361Z"
   },
   {
    "duration": 17,
    "start_time": "2022-12-12T13:00:06.397Z"
   },
   {
    "duration": 12,
    "start_time": "2022-12-12T13:00:06.415Z"
   },
   {
    "duration": 17,
    "start_time": "2022-12-12T13:00:06.428Z"
   },
   {
    "duration": 245,
    "start_time": "2022-12-12T13:00:06.446Z"
   },
   {
    "duration": 130,
    "start_time": "2022-12-12T13:00:06.697Z"
   },
   {
    "duration": 265,
    "start_time": "2022-12-12T13:00:06.830Z"
   },
   {
    "duration": 21,
    "start_time": "2022-12-12T13:00:07.097Z"
   },
   {
    "duration": 16,
    "start_time": "2022-12-12T13:00:07.120Z"
   },
   {
    "duration": 20,
    "start_time": "2022-12-12T13:00:07.138Z"
   },
   {
    "duration": 159,
    "start_time": "2022-12-12T13:00:07.160Z"
   },
   {
    "duration": 29,
    "start_time": "2022-12-12T13:00:07.321Z"
   },
   {
    "duration": 103,
    "start_time": "2022-12-12T13:00:07.351Z"
   },
   {
    "duration": 226,
    "start_time": "2022-12-12T13:00:07.456Z"
   },
   {
    "duration": 3,
    "start_time": "2022-12-12T13:00:11.485Z"
   },
   {
    "duration": 7,
    "start_time": "2022-12-12T13:00:11.842Z"
   },
   {
    "duration": 7,
    "start_time": "2022-12-12T13:00:16.346Z"
   },
   {
    "duration": 266,
    "start_time": "2022-12-12T13:00:19.299Z"
   },
   {
    "duration": 18,
    "start_time": "2022-12-12T13:00:22.874Z"
   },
   {
    "duration": 509,
    "start_time": "2022-12-12T13:45:32.685Z"
   },
   {
    "duration": 421,
    "start_time": "2022-12-12T13:46:27.212Z"
   },
   {
    "duration": 440,
    "start_time": "2022-12-12T13:47:45.658Z"
   },
   {
    "duration": 522,
    "start_time": "2022-12-12T13:47:53.218Z"
   },
   {
    "duration": 458,
    "start_time": "2022-12-12T13:47:59.330Z"
   },
   {
    "duration": 434,
    "start_time": "2022-12-12T13:48:03.066Z"
   },
   {
    "duration": 554,
    "start_time": "2022-12-12T13:48:15.698Z"
   },
   {
    "duration": 420,
    "start_time": "2022-12-12T13:48:35.035Z"
   },
   {
    "duration": 438,
    "start_time": "2022-12-12T13:49:17.522Z"
   },
   {
    "duration": 565,
    "start_time": "2022-12-12T13:51:22.632Z"
   },
   {
    "duration": 570,
    "start_time": "2022-12-12T13:51:40.985Z"
   },
   {
    "duration": 4,
    "start_time": "2022-12-12T13:52:33.458Z"
   },
   {
    "duration": 526,
    "start_time": "2022-12-12T13:52:33.954Z"
   },
   {
    "duration": 3,
    "start_time": "2022-12-12T13:52:43.554Z"
   },
   {
    "duration": 615,
    "start_time": "2022-12-12T13:52:44.202Z"
   },
   {
    "duration": 3,
    "start_time": "2022-12-12T13:52:50.292Z"
   },
   {
    "duration": 439,
    "start_time": "2022-12-12T13:52:50.524Z"
   },
   {
    "duration": 561,
    "start_time": "2022-12-12T13:53:54.191Z"
   },
   {
    "duration": 468,
    "start_time": "2022-12-12T13:54:29.607Z"
   },
   {
    "duration": 572,
    "start_time": "2022-12-12T13:54:57.584Z"
   },
   {
    "duration": 472,
    "start_time": "2022-12-12T13:55:03.258Z"
   },
   {
    "duration": 524,
    "start_time": "2022-12-12T13:55:27.575Z"
   },
   {
    "duration": 622,
    "start_time": "2022-12-12T13:56:03.430Z"
   },
   {
    "duration": 446,
    "start_time": "2022-12-12T13:56:42.407Z"
   },
   {
    "duration": 451,
    "start_time": "2022-12-12T13:59:33.023Z"
   },
   {
    "duration": 574,
    "start_time": "2022-12-12T13:59:50.568Z"
   },
   {
    "duration": 485,
    "start_time": "2022-12-12T13:59:53.336Z"
   },
   {
    "duration": 561,
    "start_time": "2022-12-12T13:59:56.160Z"
   },
   {
    "duration": 4,
    "start_time": "2022-12-12T14:00:01.135Z"
   },
   {
    "duration": 488,
    "start_time": "2022-12-12T14:00:01.568Z"
   },
   {
    "duration": 491,
    "start_time": "2022-12-12T14:00:05.025Z"
   },
   {
    "duration": 587,
    "start_time": "2022-12-12T14:00:07.745Z"
   },
   {
    "duration": 604,
    "start_time": "2022-12-12T14:14:41.341Z"
   },
   {
    "duration": 720,
    "start_time": "2022-12-12T14:15:51.125Z"
   },
   {
    "duration": 535,
    "start_time": "2022-12-12T14:16:53.757Z"
   },
   {
    "duration": 602,
    "start_time": "2022-12-12T14:22:40.003Z"
   },
   {
    "duration": 755,
    "start_time": "2022-12-12T14:22:54.378Z"
   },
   {
    "duration": 578,
    "start_time": "2022-12-12T14:23:06.393Z"
   },
   {
    "duration": 660,
    "start_time": "2022-12-12T14:23:41.497Z"
   },
   {
    "duration": 541,
    "start_time": "2022-12-12T14:23:48.010Z"
   },
   {
    "duration": 665,
    "start_time": "2022-12-12T14:23:58.353Z"
   },
   {
    "duration": 328,
    "start_time": "2022-12-12T14:24:31.656Z"
   },
   {
    "duration": 1553,
    "start_time": "2022-12-12T14:24:37.817Z"
   },
   {
    "duration": 454,
    "start_time": "2022-12-12T14:24:44.505Z"
   },
   {
    "duration": 593,
    "start_time": "2022-12-12T14:24:49.937Z"
   },
   {
    "duration": 482,
    "start_time": "2022-12-12T14:25:02.841Z"
   },
   {
    "duration": 548,
    "start_time": "2022-12-12T14:25:06.728Z"
   },
   {
    "duration": 2104,
    "start_time": "2022-12-12T14:25:12.112Z"
   },
   {
    "duration": 635,
    "start_time": "2022-12-12T14:25:19.650Z"
   },
   {
    "duration": 553,
    "start_time": "2022-12-12T14:25:32.009Z"
   },
   {
    "duration": 657,
    "start_time": "2022-12-12T14:25:36.329Z"
   },
   {
    "duration": 473,
    "start_time": "2022-12-12T14:25:40.968Z"
   },
   {
    "duration": 440,
    "start_time": "2022-12-12T14:25:46.729Z"
   },
   {
    "duration": 567,
    "start_time": "2022-12-12T14:25:52.369Z"
   },
   {
    "duration": 419,
    "start_time": "2022-12-12T14:26:42.752Z"
   },
   {
    "duration": 424,
    "start_time": "2022-12-12T14:26:47.456Z"
   },
   {
    "duration": 557,
    "start_time": "2022-12-12T14:26:52.177Z"
   },
   {
    "duration": 441,
    "start_time": "2022-12-12T14:26:59.248Z"
   },
   {
    "duration": 414,
    "start_time": "2022-12-12T14:27:28.912Z"
   },
   {
    "duration": 538,
    "start_time": "2022-12-12T14:44:33.023Z"
   },
   {
    "duration": 453,
    "start_time": "2022-12-12T14:45:23.900Z"
   },
   {
    "duration": 415,
    "start_time": "2022-12-12T14:45:36.476Z"
   },
   {
    "duration": 562,
    "start_time": "2022-12-12T14:45:50.661Z"
   },
   {
    "duration": 462,
    "start_time": "2022-12-12T14:45:56.917Z"
   },
   {
    "duration": 640,
    "start_time": "2022-12-12T14:46:02.812Z"
   },
   {
    "duration": 525,
    "start_time": "2022-12-12T14:46:11.172Z"
   },
   {
    "duration": 453,
    "start_time": "2022-12-12T14:46:18.734Z"
   },
   {
    "duration": 482,
    "start_time": "2022-12-12T14:51:26.587Z"
   },
   {
    "duration": 427,
    "start_time": "2022-12-12T14:51:36.003Z"
   },
   {
    "duration": 442,
    "start_time": "2022-12-12T14:54:55.743Z"
   },
   {
    "duration": 245,
    "start_time": "2022-12-12T14:55:14.687Z"
   },
   {
    "duration": 401,
    "start_time": "2022-12-12T14:55:28.561Z"
   },
   {
    "duration": 411,
    "start_time": "2022-12-12T14:55:46.064Z"
   },
   {
    "duration": 613,
    "start_time": "2022-12-12T14:56:14.471Z"
   },
   {
    "duration": 442,
    "start_time": "2022-12-12T14:56:19.663Z"
   },
   {
    "duration": 433,
    "start_time": "2022-12-12T14:56:33.847Z"
   },
   {
    "duration": 564,
    "start_time": "2022-12-12T14:57:02.374Z"
   },
   {
    "duration": 335,
    "start_time": "2022-12-12T14:57:53.166Z"
   },
   {
    "duration": 442,
    "start_time": "2022-12-12T14:58:04.810Z"
   },
   {
    "duration": 593,
    "start_time": "2022-12-12T14:58:14.639Z"
   },
   {
    "duration": 493,
    "start_time": "2022-12-12T14:58:34.593Z"
   },
   {
    "duration": 400,
    "start_time": "2022-12-12T14:58:45.663Z"
   },
   {
    "duration": 586,
    "start_time": "2022-12-12T14:58:50.158Z"
   },
   {
    "duration": 412,
    "start_time": "2022-12-12T14:58:57.030Z"
   },
   {
    "duration": 400,
    "start_time": "2022-12-12T14:59:01.047Z"
   },
   {
    "duration": 578,
    "start_time": "2022-12-12T14:59:04.855Z"
   },
   {
    "duration": 4,
    "start_time": "2022-12-12T15:00:32.429Z"
   },
   {
    "duration": 474,
    "start_time": "2022-12-12T15:00:34.460Z"
   },
   {
    "duration": 535,
    "start_time": "2022-12-12T15:00:39.128Z"
   },
   {
    "duration": 441,
    "start_time": "2022-12-12T15:00:42.208Z"
   },
   {
    "duration": 161,
    "start_time": "2022-12-12T15:09:30.959Z"
   },
   {
    "duration": 159,
    "start_time": "2022-12-12T15:09:38.031Z"
   },
   {
    "duration": 10,
    "start_time": "2022-12-13T12:03:06.910Z"
   },
   {
    "duration": 68,
    "start_time": "2022-12-13T12:11:03.473Z"
   },
   {
    "duration": 1601,
    "start_time": "2022-12-13T12:11:07.519Z"
   },
   {
    "duration": 2381,
    "start_time": "2022-12-13T12:11:09.121Z"
   },
   {
    "duration": 42,
    "start_time": "2022-12-13T12:11:11.503Z"
   },
   {
    "duration": 20,
    "start_time": "2022-12-13T12:11:11.548Z"
   },
   {
    "duration": 28,
    "start_time": "2022-12-13T12:11:11.570Z"
   },
   {
    "duration": 24,
    "start_time": "2022-12-13T12:11:11.600Z"
   },
   {
    "duration": 22,
    "start_time": "2022-12-13T12:11:11.630Z"
   },
   {
    "duration": 20,
    "start_time": "2022-12-13T12:11:11.654Z"
   },
   {
    "duration": 279,
    "start_time": "2022-12-13T12:11:11.676Z"
   },
   {
    "duration": 132,
    "start_time": "2022-12-13T12:11:11.958Z"
   },
   {
    "duration": 274,
    "start_time": "2022-12-13T12:11:12.091Z"
   },
   {
    "duration": 85,
    "start_time": "2022-12-13T12:11:12.367Z"
   },
   {
    "duration": 17,
    "start_time": "2022-12-13T12:11:12.454Z"
   },
   {
    "duration": 22,
    "start_time": "2022-12-13T12:11:12.472Z"
   },
   {
    "duration": 150,
    "start_time": "2022-12-13T12:11:12.495Z"
   },
   {
    "duration": 27,
    "start_time": "2022-12-13T12:11:12.647Z"
   },
   {
    "duration": 109,
    "start_time": "2022-12-13T12:11:12.676Z"
   },
   {
    "duration": 3,
    "start_time": "2022-12-13T12:11:12.787Z"
   },
   {
    "duration": 26,
    "start_time": "2022-12-13T12:11:12.791Z"
   },
   {
    "duration": 21,
    "start_time": "2022-12-13T12:11:12.826Z"
   },
   {
    "duration": 343,
    "start_time": "2022-12-13T12:11:12.850Z"
   },
   {
    "duration": 30,
    "start_time": "2022-12-13T12:11:13.195Z"
   },
   {
    "duration": 218,
    "start_time": "2022-12-13T12:11:13.227Z"
   },
   {
    "duration": 4,
    "start_time": "2022-12-13T12:11:13.447Z"
   },
   {
    "duration": 654,
    "start_time": "2022-12-13T12:11:13.453Z"
   },
   {
    "duration": 604,
    "start_time": "2022-12-13T12:11:14.109Z"
   },
   {
    "duration": 571,
    "start_time": "2022-12-13T12:11:14.729Z"
   },
   {
    "duration": 640,
    "start_time": "2022-12-13T12:11:15.303Z"
   },
   {
    "duration": 499,
    "start_time": "2022-12-13T12:11:15.945Z"
   },
   {
    "duration": 1517,
    "start_time": "2022-12-13T12:11:16.446Z"
   },
   {
    "duration": 7,
    "start_time": "2022-12-13T12:11:32.233Z"
   },
   {
    "duration": 728,
    "start_time": "2022-12-13T12:12:45.149Z"
   },
   {
    "duration": 659,
    "start_time": "2022-12-13T12:13:10.501Z"
   },
   {
    "duration": 790,
    "start_time": "2022-12-13T12:13:26.303Z"
   },
   {
    "duration": 668,
    "start_time": "2022-12-13T12:14:11.967Z"
   },
   {
    "duration": 542,
    "start_time": "2022-12-13T12:14:17.142Z"
   },
   {
    "duration": 702,
    "start_time": "2022-12-13T12:14:30.819Z"
   },
   {
    "duration": 615,
    "start_time": "2022-12-13T12:14:38.358Z"
   },
   {
    "duration": 542,
    "start_time": "2022-12-13T12:15:49.640Z"
   },
   {
    "duration": 12,
    "start_time": "2022-12-13T12:46:52.132Z"
   },
   {
    "duration": 659,
    "start_time": "2022-12-13T12:47:08.388Z"
   },
   {
    "duration": 14310,
    "start_time": "2022-12-13T12:48:41.133Z"
   },
   {
    "duration": 633,
    "start_time": "2022-12-13T12:49:07.740Z"
   },
   {
    "duration": 616,
    "start_time": "2022-12-13T12:50:53.181Z"
   },
   {
    "duration": 7,
    "start_time": "2022-12-13T12:51:04.188Z"
   },
   {
    "duration": 578,
    "start_time": "2022-12-13T12:51:05.533Z"
   },
   {
    "duration": 15,
    "start_time": "2022-12-13T12:51:08.839Z"
   },
   {
    "duration": 0,
    "start_time": "2022-12-13T12:51:46.237Z"
   },
   {
    "duration": 0,
    "start_time": "2022-12-13T12:51:46.239Z"
   },
   {
    "duration": 7,
    "start_time": "2022-12-13T12:51:51.638Z"
   },
   {
    "duration": 763,
    "start_time": "2022-12-13T12:51:51.646Z"
   },
   {
    "duration": 36,
    "start_time": "2022-12-13T12:51:52.411Z"
   },
   {
    "duration": 32,
    "start_time": "2022-12-13T12:51:52.450Z"
   },
   {
    "duration": 38,
    "start_time": "2022-12-13T12:51:52.484Z"
   },
   {
    "duration": 44,
    "start_time": "2022-12-13T12:51:52.524Z"
   },
   {
    "duration": 16,
    "start_time": "2022-12-13T12:51:52.570Z"
   },
   {
    "duration": 28,
    "start_time": "2022-12-13T12:51:52.588Z"
   },
   {
    "duration": 243,
    "start_time": "2022-12-13T12:51:52.620Z"
   },
   {
    "duration": 148,
    "start_time": "2022-12-13T12:51:52.865Z"
   },
   {
    "duration": 262,
    "start_time": "2022-12-13T12:51:53.015Z"
   },
   {
    "duration": 20,
    "start_time": "2022-12-13T12:51:53.279Z"
   },
   {
    "duration": 24,
    "start_time": "2022-12-13T12:51:53.314Z"
   },
   {
    "duration": 28,
    "start_time": "2022-12-13T12:51:53.340Z"
   },
   {
    "duration": 130,
    "start_time": "2022-12-13T12:51:53.370Z"
   },
   {
    "duration": 42,
    "start_time": "2022-12-13T12:51:53.501Z"
   },
   {
    "duration": 103,
    "start_time": "2022-12-13T12:51:53.544Z"
   },
   {
    "duration": 3,
    "start_time": "2022-12-13T12:51:53.649Z"
   },
   {
    "duration": 19,
    "start_time": "2022-12-13T12:51:53.653Z"
   },
   {
    "duration": 15,
    "start_time": "2022-12-13T12:51:53.673Z"
   },
   {
    "duration": 319,
    "start_time": "2022-12-13T12:51:53.690Z"
   },
   {
    "duration": 23,
    "start_time": "2022-12-13T12:51:54.010Z"
   },
   {
    "duration": 208,
    "start_time": "2022-12-13T12:51:54.037Z"
   },
   {
    "duration": 4,
    "start_time": "2022-12-13T12:51:54.248Z"
   },
   {
    "duration": 591,
    "start_time": "2022-12-13T12:51:54.253Z"
   },
   {
    "duration": 575,
    "start_time": "2022-12-13T12:51:54.846Z"
   },
   {
    "duration": 552,
    "start_time": "2022-12-13T12:51:55.423Z"
   },
   {
    "duration": 1070,
    "start_time": "2022-12-13T12:51:55.977Z"
   },
   {
    "duration": 484,
    "start_time": "2022-12-13T12:51:57.049Z"
   },
   {
    "duration": 7,
    "start_time": "2022-12-13T12:52:01.166Z"
   },
   {
    "duration": 569,
    "start_time": "2022-12-13T12:52:01.867Z"
   },
   {
    "duration": 20,
    "start_time": "2022-12-13T12:52:14.735Z"
   },
   {
    "duration": 0,
    "start_time": "2022-12-13T12:52:33.846Z"
   },
   {
    "duration": 0,
    "start_time": "2022-12-13T12:52:33.848Z"
   },
   {
    "duration": 9,
    "start_time": "2022-12-13T12:52:36.196Z"
   },
   {
    "duration": 837,
    "start_time": "2022-12-13T12:52:38.267Z"
   },
   {
    "duration": 12,
    "start_time": "2022-12-13T12:52:47.465Z"
   },
   {
    "duration": 1097,
    "start_time": "2022-12-13T12:53:00.795Z"
   },
   {
    "duration": 16,
    "start_time": "2022-12-13T12:53:05.370Z"
   },
   {
    "duration": 3,
    "start_time": "2022-12-13T12:53:43.098Z"
   },
   {
    "duration": 245,
    "start_time": "2022-12-13T12:53:46.075Z"
   },
   {
    "duration": 13,
    "start_time": "2022-12-13T12:53:53.932Z"
   },
   {
    "duration": 579,
    "start_time": "2022-12-13T12:53:56.133Z"
   },
   {
    "duration": 8,
    "start_time": "2022-12-13T12:54:03.658Z"
   },
   {
    "duration": 604,
    "start_time": "2022-12-13T12:54:04.100Z"
   },
   {
    "duration": 4,
    "start_time": "2022-12-13T12:54:19.475Z"
   },
   {
    "duration": 647,
    "start_time": "2022-12-13T12:54:19.481Z"
   },
   {
    "duration": 22,
    "start_time": "2022-12-13T12:54:20.131Z"
   },
   {
    "duration": 29,
    "start_time": "2022-12-13T12:54:20.155Z"
   },
   {
    "duration": 28,
    "start_time": "2022-12-13T12:54:20.186Z"
   },
   {
    "duration": 31,
    "start_time": "2022-12-13T12:54:20.216Z"
   },
   {
    "duration": 26,
    "start_time": "2022-12-13T12:54:20.250Z"
   },
   {
    "duration": 32,
    "start_time": "2022-12-13T12:54:20.278Z"
   },
   {
    "duration": 298,
    "start_time": "2022-12-13T12:54:20.313Z"
   },
   {
    "duration": 138,
    "start_time": "2022-12-13T12:54:20.613Z"
   },
   {
    "duration": 265,
    "start_time": "2022-12-13T12:54:20.753Z"
   },
   {
    "duration": 26,
    "start_time": "2022-12-13T12:54:21.020Z"
   },
   {
    "duration": 23,
    "start_time": "2022-12-13T12:54:21.048Z"
   },
   {
    "duration": 48,
    "start_time": "2022-12-13T12:54:21.073Z"
   },
   {
    "duration": 112,
    "start_time": "2022-12-13T12:54:21.123Z"
   },
   {
    "duration": 28,
    "start_time": "2022-12-13T12:54:21.237Z"
   },
   {
    "duration": 109,
    "start_time": "2022-12-13T12:54:21.267Z"
   },
   {
    "duration": 3,
    "start_time": "2022-12-13T12:54:21.377Z"
   },
   {
    "duration": 11,
    "start_time": "2022-12-13T12:54:21.381Z"
   },
   {
    "duration": 27,
    "start_time": "2022-12-13T12:54:21.393Z"
   },
   {
    "duration": 317,
    "start_time": "2022-12-13T12:54:21.425Z"
   },
   {
    "duration": 19,
    "start_time": "2022-12-13T12:54:21.744Z"
   },
   {
    "duration": 215,
    "start_time": "2022-12-13T12:54:21.765Z"
   },
   {
    "duration": 4,
    "start_time": "2022-12-13T12:54:21.982Z"
   },
   {
    "duration": 544,
    "start_time": "2022-12-13T12:54:21.988Z"
   },
   {
    "duration": 534,
    "start_time": "2022-12-13T12:54:22.534Z"
   },
   {
    "duration": 507,
    "start_time": "2022-12-13T12:54:23.069Z"
   },
   {
    "duration": 1638,
    "start_time": "2022-12-13T12:54:23.578Z"
   },
   {
    "duration": 451,
    "start_time": "2022-12-13T12:54:25.220Z"
   },
   {
    "duration": 7,
    "start_time": "2022-12-13T12:54:25.673Z"
   },
   {
    "duration": 603,
    "start_time": "2022-12-13T12:54:30.368Z"
   },
   {
    "duration": 15,
    "start_time": "2022-12-13T12:55:25.414Z"
   },
   {
    "duration": 716,
    "start_time": "2022-12-13T12:55:25.924Z"
   },
   {
    "duration": 5,
    "start_time": "2022-12-13T12:56:04.489Z"
   },
   {
    "duration": 6,
    "start_time": "2022-12-13T12:56:13.448Z"
   },
   {
    "duration": 7,
    "start_time": "2022-12-13T12:56:43.592Z"
   },
   {
    "duration": 21,
    "start_time": "2022-12-13T12:57:00.251Z"
   },
   {
    "duration": 6,
    "start_time": "2022-12-13T12:57:05.666Z"
   },
   {
    "duration": 9,
    "start_time": "2022-12-13T12:57:09.527Z"
   },
   {
    "duration": 10,
    "start_time": "2022-12-13T12:57:12.517Z"
   },
   {
    "duration": 19,
    "start_time": "2022-12-13T12:57:30.674Z"
   },
   {
    "duration": 6,
    "start_time": "2022-12-13T12:57:36.153Z"
   },
   {
    "duration": 6,
    "start_time": "2022-12-13T12:57:39.133Z"
   },
   {
    "duration": 13,
    "start_time": "2022-12-13T12:58:19.786Z"
   },
   {
    "duration": 6,
    "start_time": "2022-12-13T12:58:25.634Z"
   },
   {
    "duration": 6,
    "start_time": "2022-12-13T12:59:07.933Z"
   },
   {
    "duration": 6,
    "start_time": "2022-12-13T12:59:10.497Z"
   },
   {
    "duration": 7,
    "start_time": "2022-12-13T12:59:14.440Z"
   },
   {
    "duration": 203,
    "start_time": "2022-12-13T12:59:21.060Z"
   },
   {
    "duration": 16,
    "start_time": "2022-12-13T12:59:32.033Z"
   },
   {
    "duration": 6,
    "start_time": "2022-12-13T12:59:47.567Z"
   },
   {
    "duration": 7,
    "start_time": "2022-12-13T12:59:55.344Z"
   },
   {
    "duration": 8,
    "start_time": "2022-12-13T13:00:03.925Z"
   },
   {
    "duration": 70,
    "start_time": "2022-12-13T13:00:47.728Z"
   },
   {
    "duration": 11,
    "start_time": "2022-12-13T13:01:00.314Z"
   },
   {
    "duration": 6,
    "start_time": "2022-12-13T13:01:09.400Z"
   },
   {
    "duration": 7,
    "start_time": "2022-12-13T13:01:19.024Z"
   },
   {
    "duration": 7,
    "start_time": "2022-12-13T13:01:22.519Z"
   },
   {
    "duration": 527,
    "start_time": "2022-12-13T13:01:25.438Z"
   },
   {
    "duration": 4,
    "start_time": "2022-12-13T13:01:43.339Z"
   },
   {
    "duration": 4,
    "start_time": "2022-12-13T13:01:46.122Z"
   },
   {
    "duration": 675,
    "start_time": "2022-12-13T13:01:49.097Z"
   },
   {
    "duration": 9,
    "start_time": "2022-12-13T13:01:53.794Z"
   },
   {
    "duration": 563,
    "start_time": "2022-12-13T13:01:55.114Z"
   },
   {
    "duration": 17,
    "start_time": "2022-12-13T13:03:15.543Z"
   },
   {
    "duration": 4,
    "start_time": "2022-12-13T13:03:18.497Z"
   },
   {
    "duration": 748,
    "start_time": "2022-12-13T13:03:18.504Z"
   },
   {
    "duration": 23,
    "start_time": "2022-12-13T13:03:19.254Z"
   },
   {
    "duration": 38,
    "start_time": "2022-12-13T13:03:19.278Z"
   },
   {
    "duration": 23,
    "start_time": "2022-12-13T13:03:19.319Z"
   },
   {
    "duration": 20,
    "start_time": "2022-12-13T13:03:19.344Z"
   },
   {
    "duration": 13,
    "start_time": "2022-12-13T13:03:19.366Z"
   },
   {
    "duration": 52,
    "start_time": "2022-12-13T13:03:19.380Z"
   },
   {
    "duration": 245,
    "start_time": "2022-12-13T13:03:19.436Z"
   },
   {
    "duration": 124,
    "start_time": "2022-12-13T13:03:19.682Z"
   },
   {
    "duration": 278,
    "start_time": "2022-12-13T13:03:19.812Z"
   },
   {
    "duration": 37,
    "start_time": "2022-12-13T13:03:20.092Z"
   },
   {
    "duration": 18,
    "start_time": "2022-12-13T13:03:20.131Z"
   },
   {
    "duration": 22,
    "start_time": "2022-12-13T13:03:20.151Z"
   },
   {
    "duration": 164,
    "start_time": "2022-12-13T13:03:20.174Z"
   },
   {
    "duration": 38,
    "start_time": "2022-12-13T13:03:20.341Z"
   },
   {
    "duration": 127,
    "start_time": "2022-12-13T13:03:20.381Z"
   },
   {
    "duration": 4,
    "start_time": "2022-12-13T13:03:20.513Z"
   },
   {
    "duration": 31,
    "start_time": "2022-12-13T13:03:20.521Z"
   },
   {
    "duration": 11,
    "start_time": "2022-12-13T13:03:20.554Z"
   },
   {
    "duration": 324,
    "start_time": "2022-12-13T13:03:20.567Z"
   },
   {
    "duration": 18,
    "start_time": "2022-12-13T13:03:25.361Z"
   },
   {
    "duration": 17,
    "start_time": "2022-12-13T13:03:29.065Z"
   },
   {
    "duration": 263,
    "start_time": "2022-12-13T13:03:31.140Z"
   },
   {
    "duration": 239,
    "start_time": "2022-12-13T13:03:47.224Z"
   },
   {
    "duration": 22,
    "start_time": "2022-12-13T13:03:54.422Z"
   },
   {
    "duration": 191,
    "start_time": "2022-12-13T13:03:55.497Z"
   },
   {
    "duration": 175,
    "start_time": "2022-12-13T13:04:05.041Z"
   },
   {
    "duration": 7,
    "start_time": "2022-12-13T13:04:13.200Z"
   },
   {
    "duration": 722,
    "start_time": "2022-12-13T13:04:14.534Z"
   },
   {
    "duration": 17,
    "start_time": "2022-12-13T13:04:23.722Z"
   },
   {
    "duration": 10,
    "start_time": "2022-12-13T13:04:34.079Z"
   },
   {
    "duration": 4,
    "start_time": "2022-12-13T13:04:39.855Z"
   },
   {
    "duration": 549,
    "start_time": "2022-12-13T13:04:42.318Z"
   },
   {
    "duration": 14,
    "start_time": "2022-12-13T13:04:46.477Z"
   },
   {
    "duration": 525,
    "start_time": "2022-12-13T13:04:48.086Z"
   },
   {
    "duration": 3,
    "start_time": "2022-12-13T13:05:43.203Z"
   },
   {
    "duration": 668,
    "start_time": "2022-12-13T13:05:46.342Z"
   },
   {
    "duration": 4,
    "start_time": "2022-12-13T13:06:02.131Z"
   },
   {
    "duration": 526,
    "start_time": "2022-12-13T13:06:04.317Z"
   },
   {
    "duration": 4,
    "start_time": "2022-12-13T13:06:08.031Z"
   },
   {
    "duration": 493,
    "start_time": "2022-12-13T13:06:10.832Z"
   },
   {
    "duration": 6,
    "start_time": "2022-12-13T13:06:16.253Z"
   },
   {
    "duration": 4,
    "start_time": "2022-12-13T13:06:18.763Z"
   },
   {
    "duration": 624,
    "start_time": "2022-12-13T13:06:20.796Z"
   },
   {
    "duration": 5,
    "start_time": "2022-12-13T13:07:24.279Z"
   },
   {
    "duration": 497,
    "start_time": "2022-12-13T13:07:30.823Z"
   },
   {
    "duration": 621,
    "start_time": "2022-12-13T13:07:52.961Z"
   },
   {
    "duration": 7,
    "start_time": "2022-12-13T13:08:19.293Z"
   },
   {
    "duration": 7,
    "start_time": "2022-12-13T13:09:35.544Z"
   },
   {
    "duration": 511,
    "start_time": "2022-12-13T13:09:36.878Z"
   },
   {
    "duration": 545,
    "start_time": "2022-12-13T13:09:40.709Z"
   },
   {
    "duration": 16,
    "start_time": "2022-12-13T13:13:13.789Z"
   },
   {
    "duration": 30,
    "start_time": "2022-12-13T13:13:21.854Z"
   },
   {
    "duration": 21,
    "start_time": "2022-12-13T13:13:54.505Z"
   },
   {
    "duration": 19,
    "start_time": "2022-12-13T13:13:56.628Z"
   },
   {
    "duration": 3,
    "start_time": "2022-12-13T14:00:00.639Z"
   },
   {
    "duration": 8,
    "start_time": "2022-12-13T14:12:13.750Z"
   },
   {
    "duration": 30,
    "start_time": "2022-12-13T14:40:08.212Z"
   },
   {
    "duration": 29,
    "start_time": "2022-12-13T14:40:11.419Z"
   },
   {
    "duration": 30,
    "start_time": "2022-12-13T14:40:15.126Z"
   },
   {
    "duration": 4,
    "start_time": "2022-12-13T14:40:25.927Z"
   },
   {
    "duration": 641,
    "start_time": "2022-12-13T14:40:25.933Z"
   },
   {
    "duration": 20,
    "start_time": "2022-12-13T14:40:26.575Z"
   },
   {
    "duration": 30,
    "start_time": "2022-12-13T14:40:26.605Z"
   },
   {
    "duration": 28,
    "start_time": "2022-12-13T14:40:26.636Z"
   },
   {
    "duration": 19,
    "start_time": "2022-12-13T14:40:26.666Z"
   },
   {
    "duration": 11,
    "start_time": "2022-12-13T14:40:26.687Z"
   },
   {
    "duration": 23,
    "start_time": "2022-12-13T14:40:26.700Z"
   },
   {
    "duration": 240,
    "start_time": "2022-12-13T14:40:26.726Z"
   },
   {
    "duration": 137,
    "start_time": "2022-12-13T14:40:26.969Z"
   },
   {
    "duration": 246,
    "start_time": "2022-12-13T14:40:27.112Z"
   },
   {
    "duration": 21,
    "start_time": "2022-12-13T14:40:27.359Z"
   },
   {
    "duration": 33,
    "start_time": "2022-12-13T14:40:27.382Z"
   },
   {
    "duration": 22,
    "start_time": "2022-12-13T14:40:27.417Z"
   },
   {
    "duration": 124,
    "start_time": "2022-12-13T14:40:27.441Z"
   },
   {
    "duration": 27,
    "start_time": "2022-12-13T14:40:27.567Z"
   },
   {
    "duration": 99,
    "start_time": "2022-12-13T14:40:27.596Z"
   },
   {
    "duration": 4,
    "start_time": "2022-12-13T14:40:27.696Z"
   },
   {
    "duration": 15,
    "start_time": "2022-12-13T14:40:27.702Z"
   },
   {
    "duration": 8,
    "start_time": "2022-12-13T14:40:27.719Z"
   },
   {
    "duration": 287,
    "start_time": "2022-12-13T14:40:27.729Z"
   },
   {
    "duration": 18,
    "start_time": "2022-12-13T14:40:28.017Z"
   },
   {
    "duration": 322,
    "start_time": "2022-12-13T14:40:28.037Z"
   },
   {
    "duration": 3,
    "start_time": "2022-12-13T14:40:28.362Z"
   },
   {
    "duration": 491,
    "start_time": "2022-12-13T14:40:28.367Z"
   },
   {
    "duration": 493,
    "start_time": "2022-12-13T14:40:28.860Z"
   },
   {
    "duration": 602,
    "start_time": "2022-12-13T14:40:29.354Z"
   },
   {
    "duration": 525,
    "start_time": "2022-12-13T14:40:29.957Z"
   },
   {
    "duration": 430,
    "start_time": "2022-12-13T14:40:30.484Z"
   },
   {
    "duration": 7,
    "start_time": "2022-12-13T14:40:30.916Z"
   },
   {
    "duration": 653,
    "start_time": "2022-12-13T14:40:30.925Z"
   },
   {
    "duration": 473,
    "start_time": "2022-12-13T14:40:31.580Z"
   },
   {
    "duration": 22,
    "start_time": "2022-12-13T14:40:32.054Z"
   },
   {
    "duration": 32,
    "start_time": "2022-12-13T14:40:35.277Z"
   },
   {
    "duration": 29,
    "start_time": "2022-12-13T14:41:02.695Z"
   },
   {
    "duration": 462,
    "start_time": "2022-12-13T14:41:07.797Z"
   },
   {
    "duration": 30,
    "start_time": "2022-12-13T14:41:26.730Z"
   },
   {
    "duration": 32,
    "start_time": "2022-12-13T14:41:34.378Z"
   },
   {
    "duration": 1345,
    "start_time": "2022-12-13T14:42:01.707Z"
   },
   {
    "duration": 709,
    "start_time": "2022-12-13T14:42:03.054Z"
   },
   {
    "duration": 25,
    "start_time": "2022-12-13T14:42:03.765Z"
   },
   {
    "duration": 32,
    "start_time": "2022-12-13T14:42:03.792Z"
   },
   {
    "duration": 35,
    "start_time": "2022-12-13T14:42:03.828Z"
   },
   {
    "duration": 20,
    "start_time": "2022-12-13T14:42:03.865Z"
   },
   {
    "duration": 35,
    "start_time": "2022-12-13T14:42:03.887Z"
   },
   {
    "duration": 19,
    "start_time": "2022-12-13T14:42:03.925Z"
   },
   {
    "duration": 251,
    "start_time": "2022-12-13T14:42:03.946Z"
   },
   {
    "duration": 134,
    "start_time": "2022-12-13T14:42:04.199Z"
   },
   {
    "duration": 259,
    "start_time": "2022-12-13T14:42:04.334Z"
   },
   {
    "duration": 79,
    "start_time": "2022-12-13T14:42:04.595Z"
   },
   {
    "duration": 22,
    "start_time": "2022-12-13T14:42:04.677Z"
   },
   {
    "duration": 25,
    "start_time": "2022-12-13T14:42:04.712Z"
   },
   {
    "duration": 128,
    "start_time": "2022-12-13T14:42:04.739Z"
   },
   {
    "duration": 30,
    "start_time": "2022-12-13T14:42:04.869Z"
   },
   {
    "duration": 102,
    "start_time": "2022-12-13T14:42:04.913Z"
   },
   {
    "duration": 3,
    "start_time": "2022-12-13T14:42:05.017Z"
   },
   {
    "duration": 15,
    "start_time": "2022-12-13T14:42:05.022Z"
   },
   {
    "duration": 8,
    "start_time": "2022-12-13T14:42:05.038Z"
   },
   {
    "duration": 301,
    "start_time": "2022-12-13T14:42:05.048Z"
   },
   {
    "duration": 18,
    "start_time": "2022-12-13T14:42:05.352Z"
   },
   {
    "duration": 213,
    "start_time": "2022-12-13T14:42:05.372Z"
   },
   {
    "duration": 3,
    "start_time": "2022-12-13T14:42:05.587Z"
   },
   {
    "duration": 642,
    "start_time": "2022-12-13T14:42:05.592Z"
   },
   {
    "duration": 539,
    "start_time": "2022-12-13T14:42:06.236Z"
   },
   {
    "duration": 572,
    "start_time": "2022-12-13T14:42:06.777Z"
   },
   {
    "duration": 630,
    "start_time": "2022-12-13T14:42:07.350Z"
   },
   {
    "duration": 457,
    "start_time": "2022-12-13T14:42:07.981Z"
   },
   {
    "duration": 7,
    "start_time": "2022-12-13T14:42:08.440Z"
   },
   {
    "duration": 520,
    "start_time": "2022-12-13T14:42:08.449Z"
   },
   {
    "duration": 645,
    "start_time": "2022-12-13T14:42:08.970Z"
   },
   {
    "duration": 23,
    "start_time": "2022-12-13T14:42:09.617Z"
   },
   {
    "duration": 28,
    "start_time": "2022-12-13T14:42:14.456Z"
   },
   {
    "duration": 29,
    "start_time": "2022-12-13T14:44:50.757Z"
   },
   {
    "duration": 29,
    "start_time": "2022-12-13T14:45:03.040Z"
   },
   {
    "duration": 30,
    "start_time": "2022-12-13T14:45:10.120Z"
   },
   {
    "duration": 108,
    "start_time": "2022-12-13T14:45:14.742Z"
   },
   {
    "duration": 14,
    "start_time": "2022-12-13T14:45:17.792Z"
   },
   {
    "duration": 29,
    "start_time": "2022-12-13T14:45:20.100Z"
   },
   {
    "duration": 25,
    "start_time": "2022-12-13T14:45:42.987Z"
   },
   {
    "duration": 13,
    "start_time": "2022-12-13T14:45:45.201Z"
   },
   {
    "duration": 27,
    "start_time": "2022-12-13T14:46:00.454Z"
   },
   {
    "duration": 4,
    "start_time": "2022-12-13T14:46:04.239Z"
   },
   {
    "duration": 708,
    "start_time": "2022-12-13T14:46:04.245Z"
   },
   {
    "duration": 23,
    "start_time": "2022-12-13T14:46:04.955Z"
   },
   {
    "duration": 38,
    "start_time": "2022-12-13T14:46:04.980Z"
   },
   {
    "duration": 38,
    "start_time": "2022-12-13T14:46:05.020Z"
   },
   {
    "duration": 38,
    "start_time": "2022-12-13T14:46:05.059Z"
   },
   {
    "duration": 12,
    "start_time": "2022-12-13T14:46:05.099Z"
   },
   {
    "duration": 23,
    "start_time": "2022-12-13T14:46:05.116Z"
   },
   {
    "duration": 230,
    "start_time": "2022-12-13T14:46:05.142Z"
   },
   {
    "duration": 133,
    "start_time": "2022-12-13T14:46:05.374Z"
   },
   {
    "duration": 259,
    "start_time": "2022-12-13T14:46:05.508Z"
   },
   {
    "duration": 19,
    "start_time": "2022-12-13T14:46:05.769Z"
   },
   {
    "duration": 30,
    "start_time": "2022-12-13T14:46:05.789Z"
   },
   {
    "duration": 27,
    "start_time": "2022-12-13T14:46:05.821Z"
   },
   {
    "duration": 129,
    "start_time": "2022-12-13T14:46:05.850Z"
   },
   {
    "duration": 33,
    "start_time": "2022-12-13T14:46:05.981Z"
   },
   {
    "duration": 85,
    "start_time": "2022-12-13T14:46:06.017Z"
   },
   {
    "duration": 4,
    "start_time": "2022-12-13T14:46:06.112Z"
   },
   {
    "duration": 17,
    "start_time": "2022-12-13T14:46:06.117Z"
   },
   {
    "duration": 10,
    "start_time": "2022-12-13T14:46:06.136Z"
   },
   {
    "duration": 319,
    "start_time": "2022-12-13T14:46:06.148Z"
   },
   {
    "duration": 18,
    "start_time": "2022-12-13T14:46:06.469Z"
   },
   {
    "duration": 202,
    "start_time": "2022-12-13T14:46:06.489Z"
   },
   {
    "duration": 3,
    "start_time": "2022-12-13T14:46:06.695Z"
   },
   {
    "duration": 521,
    "start_time": "2022-12-13T14:46:06.700Z"
   },
   {
    "duration": 611,
    "start_time": "2022-12-13T14:46:07.222Z"
   },
   {
    "duration": 522,
    "start_time": "2022-12-13T14:46:07.835Z"
   },
   {
    "duration": 483,
    "start_time": "2022-12-13T14:46:08.358Z"
   },
   {
    "duration": 570,
    "start_time": "2022-12-13T14:46:08.843Z"
   },
   {
    "duration": 8,
    "start_time": "2022-12-13T14:46:09.415Z"
   },
   {
    "duration": 504,
    "start_time": "2022-12-13T14:46:09.425Z"
   },
   {
    "duration": 724,
    "start_time": "2022-12-13T14:46:09.932Z"
   },
   {
    "duration": 27,
    "start_time": "2022-12-13T14:46:14.330Z"
   },
   {
    "duration": 9,
    "start_time": "2022-12-13T14:46:17.094Z"
   },
   {
    "duration": 11,
    "start_time": "2022-12-13T14:46:28.605Z"
   },
   {
    "duration": 4,
    "start_time": "2022-12-13T14:46:31.811Z"
   },
   {
    "duration": 664,
    "start_time": "2022-12-13T14:46:31.818Z"
   },
   {
    "duration": 21,
    "start_time": "2022-12-13T14:46:32.484Z"
   },
   {
    "duration": 24,
    "start_time": "2022-12-13T14:46:32.506Z"
   },
   {
    "duration": 25,
    "start_time": "2022-12-13T14:46:32.533Z"
   },
   {
    "duration": 23,
    "start_time": "2022-12-13T14:46:32.560Z"
   },
   {
    "duration": 31,
    "start_time": "2022-12-13T14:46:32.585Z"
   },
   {
    "duration": 21,
    "start_time": "2022-12-13T14:46:32.618Z"
   },
   {
    "duration": 246,
    "start_time": "2022-12-13T14:46:32.640Z"
   },
   {
    "duration": 154,
    "start_time": "2022-12-13T14:46:32.888Z"
   },
   {
    "duration": 255,
    "start_time": "2022-12-13T14:46:33.044Z"
   },
   {
    "duration": 33,
    "start_time": "2022-12-13T14:46:33.301Z"
   },
   {
    "duration": 16,
    "start_time": "2022-12-13T14:46:33.335Z"
   },
   {
    "duration": 22,
    "start_time": "2022-12-13T14:46:33.353Z"
   },
   {
    "duration": 132,
    "start_time": "2022-12-13T14:46:33.376Z"
   },
   {
    "duration": 41,
    "start_time": "2022-12-13T14:46:33.510Z"
   },
   {
    "duration": 113,
    "start_time": "2022-12-13T14:46:33.553Z"
   },
   {
    "duration": 3,
    "start_time": "2022-12-13T14:46:33.668Z"
   },
   {
    "duration": 13,
    "start_time": "2022-12-13T14:46:33.672Z"
   },
   {
    "duration": 12,
    "start_time": "2022-12-13T14:46:33.687Z"
   },
   {
    "duration": 335,
    "start_time": "2022-12-13T14:46:33.701Z"
   },
   {
    "duration": 18,
    "start_time": "2022-12-13T14:46:34.038Z"
   },
   {
    "duration": 202,
    "start_time": "2022-12-13T14:46:34.057Z"
   },
   {
    "duration": 3,
    "start_time": "2022-12-13T14:46:34.261Z"
   },
   {
    "duration": 542,
    "start_time": "2022-12-13T14:46:34.266Z"
   },
   {
    "duration": 502,
    "start_time": "2022-12-13T14:46:34.812Z"
   },
   {
    "duration": 725,
    "start_time": "2022-12-13T14:46:35.316Z"
   },
   {
    "duration": 505,
    "start_time": "2022-12-13T14:46:36.043Z"
   },
   {
    "duration": 498,
    "start_time": "2022-12-13T14:46:36.550Z"
   },
   {
    "duration": 6,
    "start_time": "2022-12-13T14:46:37.050Z"
   },
   {
    "duration": 633,
    "start_time": "2022-12-13T14:46:37.058Z"
   },
   {
    "duration": 490,
    "start_time": "2022-12-13T14:46:37.692Z"
   },
   {
    "duration": 25,
    "start_time": "2022-12-13T14:46:43.409Z"
   },
   {
    "duration": 30,
    "start_time": "2022-12-13T14:46:45.445Z"
   },
   {
    "duration": 22,
    "start_time": "2022-12-13T14:47:17.018Z"
   },
   {
    "duration": 31,
    "start_time": "2022-12-13T14:47:21.584Z"
   },
   {
    "duration": 26,
    "start_time": "2022-12-13T14:47:42.948Z"
   },
   {
    "duration": 15,
    "start_time": "2022-12-13T14:47:57.138Z"
   },
   {
    "duration": 31,
    "start_time": "2022-12-13T14:48:13.234Z"
   },
   {
    "duration": 10,
    "start_time": "2022-12-13T14:48:34.420Z"
   },
   {
    "duration": 19,
    "start_time": "2022-12-13T14:49:23.107Z"
   },
   {
    "duration": 14,
    "start_time": "2022-12-13T14:49:26.052Z"
   },
   {
    "duration": 14,
    "start_time": "2022-12-13T14:49:41.137Z"
   },
   {
    "duration": 13,
    "start_time": "2022-12-13T14:49:43.172Z"
   },
   {
    "duration": 5,
    "start_time": "2022-12-13T14:49:46.908Z"
   },
   {
    "duration": 678,
    "start_time": "2022-12-13T14:49:46.915Z"
   },
   {
    "duration": 23,
    "start_time": "2022-12-13T14:49:47.595Z"
   },
   {
    "duration": 30,
    "start_time": "2022-12-13T14:49:47.620Z"
   },
   {
    "duration": 26,
    "start_time": "2022-12-13T14:49:47.652Z"
   },
   {
    "duration": 20,
    "start_time": "2022-12-13T14:49:47.679Z"
   },
   {
    "duration": 24,
    "start_time": "2022-12-13T14:49:47.714Z"
   },
   {
    "duration": 16,
    "start_time": "2022-12-13T14:49:47.740Z"
   },
   {
    "duration": 253,
    "start_time": "2022-12-13T14:49:47.758Z"
   },
   {
    "duration": 141,
    "start_time": "2022-12-13T14:49:48.014Z"
   },
   {
    "duration": 267,
    "start_time": "2022-12-13T14:49:48.156Z"
   },
   {
    "duration": 23,
    "start_time": "2022-12-13T14:49:48.425Z"
   },
   {
    "duration": 16,
    "start_time": "2022-12-13T14:49:48.449Z"
   },
   {
    "duration": 20,
    "start_time": "2022-12-13T14:49:48.468Z"
   },
   {
    "duration": 133,
    "start_time": "2022-12-13T14:49:48.514Z"
   },
   {
    "duration": 27,
    "start_time": "2022-12-13T14:49:48.648Z"
   },
   {
    "duration": 109,
    "start_time": "2022-12-13T14:49:48.676Z"
   },
   {
    "duration": 3,
    "start_time": "2022-12-13T14:49:48.787Z"
   },
   {
    "duration": 15,
    "start_time": "2022-12-13T14:49:48.791Z"
   },
   {
    "duration": 10,
    "start_time": "2022-12-13T14:49:48.814Z"
   },
   {
    "duration": 352,
    "start_time": "2022-12-13T14:49:48.827Z"
   },
   {
    "duration": 20,
    "start_time": "2022-12-13T14:49:49.181Z"
   },
   {
    "duration": 213,
    "start_time": "2022-12-13T14:49:49.203Z"
   },
   {
    "duration": 4,
    "start_time": "2022-12-13T14:49:49.418Z"
   },
   {
    "duration": 643,
    "start_time": "2022-12-13T14:49:49.425Z"
   },
   {
    "duration": 562,
    "start_time": "2022-12-13T14:49:50.069Z"
   },
   {
    "duration": 521,
    "start_time": "2022-12-13T14:49:50.634Z"
   },
   {
    "duration": 633,
    "start_time": "2022-12-13T14:49:51.157Z"
   },
   {
    "duration": 465,
    "start_time": "2022-12-13T14:49:51.792Z"
   },
   {
    "duration": 7,
    "start_time": "2022-12-13T14:49:52.259Z"
   },
   {
    "duration": 696,
    "start_time": "2022-12-13T14:49:52.268Z"
   },
   {
    "duration": 533,
    "start_time": "2022-12-13T14:49:52.966Z"
   },
   {
    "duration": 27,
    "start_time": "2022-12-13T14:49:53.501Z"
   },
   {
    "duration": 7,
    "start_time": "2022-12-13T14:49:57.167Z"
   },
   {
    "duration": 3,
    "start_time": "2022-12-13T15:14:58.484Z"
   },
   {
    "duration": 8,
    "start_time": "2022-12-13T15:27:39.588Z"
   },
   {
    "duration": 11,
    "start_time": "2022-12-13T15:27:51.230Z"
   },
   {
    "duration": 10,
    "start_time": "2022-12-13T15:27:53.807Z"
   },
   {
    "duration": 11,
    "start_time": "2022-12-13T15:28:36.959Z"
   },
   {
    "duration": 7,
    "start_time": "2022-12-13T15:28:41.631Z"
   },
   {
    "duration": 0,
    "start_time": "2022-12-13T15:31:30.079Z"
   },
   {
    "duration": 13556,
    "start_time": "2022-12-13T15:31:32.989Z"
   },
   {
    "duration": 7,
    "start_time": "2022-12-13T15:31:49.263Z"
   },
   {
    "duration": 3191,
    "start_time": "2022-12-13T15:31:49.874Z"
   },
   {
    "duration": 3117,
    "start_time": "2022-12-13T15:32:20.458Z"
   },
   {
    "duration": 802,
    "start_time": "2022-12-13T15:33:29.533Z"
   },
   {
    "duration": 834,
    "start_time": "2022-12-13T15:33:37.099Z"
   },
   {
    "duration": 3,
    "start_time": "2022-12-13T15:33:45.463Z"
   },
   {
    "duration": 797,
    "start_time": "2022-12-13T15:33:47.575Z"
   },
   {
    "duration": 815,
    "start_time": "2022-12-13T15:34:19.061Z"
   },
   {
    "duration": 850,
    "start_time": "2022-12-13T15:34:36.054Z"
   },
   {
    "duration": 820,
    "start_time": "2022-12-13T15:35:08.399Z"
   },
   {
    "duration": 830,
    "start_time": "2022-12-13T15:35:18.999Z"
   },
   {
    "duration": 3,
    "start_time": "2022-12-13T15:35:27.126Z"
   },
   {
    "duration": 807,
    "start_time": "2022-12-13T15:35:29.500Z"
   },
   {
    "duration": 4,
    "start_time": "2022-12-13T15:37:08.157Z"
   },
   {
    "duration": 840,
    "start_time": "2022-12-13T15:37:09.917Z"
   },
   {
    "duration": 3,
    "start_time": "2022-12-13T15:38:05.550Z"
   },
   {
    "duration": 840,
    "start_time": "2022-12-13T15:38:08.635Z"
   },
   {
    "duration": 811,
    "start_time": "2022-12-13T15:38:13.148Z"
   },
   {
    "duration": 803,
    "start_time": "2022-12-13T15:38:16.195Z"
   },
   {
    "duration": 72,
    "start_time": "2022-12-13T15:39:23.075Z"
   },
   {
    "duration": 3,
    "start_time": "2022-12-13T15:39:46.918Z"
   },
   {
    "duration": 812,
    "start_time": "2022-12-13T15:39:49.423Z"
   },
   {
    "duration": 802,
    "start_time": "2022-12-13T15:39:52.029Z"
   },
   {
    "duration": 809,
    "start_time": "2022-12-13T15:39:54.134Z"
   },
   {
    "duration": 3,
    "start_time": "2022-12-13T15:40:32.213Z"
   },
   {
    "duration": 820,
    "start_time": "2022-12-13T15:40:34.568Z"
   },
   {
    "duration": 802,
    "start_time": "2022-12-13T15:40:37.244Z"
   },
   {
    "duration": 3,
    "start_time": "2022-12-13T15:42:25.796Z"
   },
   {
    "duration": 783,
    "start_time": "2022-12-13T15:42:28.260Z"
   },
   {
    "duration": 793,
    "start_time": "2022-12-13T15:42:30.805Z"
   },
   {
    "duration": 818,
    "start_time": "2022-12-13T15:42:33.328Z"
   },
   {
    "duration": 22,
    "start_time": "2022-12-13T15:46:09.311Z"
   },
   {
    "duration": 3121,
    "start_time": "2022-12-13T15:46:13.305Z"
   },
   {
    "duration": 3083,
    "start_time": "2022-12-13T15:46:18.478Z"
   },
   {
    "duration": 809,
    "start_time": "2022-12-13T15:46:27.556Z"
   },
   {
    "duration": 3,
    "start_time": "2022-12-13T16:10:57.899Z"
   },
   {
    "duration": 72,
    "start_time": "2022-12-13T16:33:11.504Z"
   },
   {
    "duration": 55955,
    "start_time": "2022-12-13T16:33:58.537Z"
   },
   {
    "duration": 72,
    "start_time": "2022-12-13T16:37:13.470Z"
   },
   {
    "duration": 83,
    "start_time": "2022-12-13T16:37:30.094Z"
   },
   {
    "duration": 246440,
    "start_time": "2022-12-13T16:38:34.486Z"
   },
   {
    "duration": 143123,
    "start_time": "2022-12-13T16:42:43.622Z"
   },
   {
    "duration": 3188,
    "start_time": "2022-12-13T16:45:41.371Z"
   },
   {
    "duration": 144255,
    "start_time": "2022-12-13T16:46:21.947Z"
   },
   {
    "duration": 11347,
    "start_time": "2022-12-13T16:50:18.721Z"
   },
   {
    "duration": 8891,
    "start_time": "2022-12-13T16:50:32.322Z"
   },
   {
    "duration": 8841,
    "start_time": "2022-12-13T16:51:56.801Z"
   },
   {
    "duration": 4,
    "start_time": "2022-12-13T16:52:09.321Z"
   },
   {
    "duration": 640,
    "start_time": "2022-12-13T16:52:09.327Z"
   },
   {
    "duration": 20,
    "start_time": "2022-12-13T16:52:09.970Z"
   },
   {
    "duration": 33,
    "start_time": "2022-12-13T16:52:09.991Z"
   },
   {
    "duration": 21,
    "start_time": "2022-12-13T16:52:10.026Z"
   },
   {
    "duration": 20,
    "start_time": "2022-12-13T16:52:10.049Z"
   },
   {
    "duration": 12,
    "start_time": "2022-12-13T16:52:10.070Z"
   },
   {
    "duration": 43,
    "start_time": "2022-12-13T16:52:10.084Z"
   },
   {
    "duration": 273,
    "start_time": "2022-12-13T16:52:10.128Z"
   },
   {
    "duration": 139,
    "start_time": "2022-12-13T16:52:10.403Z"
   },
   {
    "duration": 268,
    "start_time": "2022-12-13T16:52:10.545Z"
   },
   {
    "duration": 20,
    "start_time": "2022-12-13T16:52:10.814Z"
   },
   {
    "duration": 15,
    "start_time": "2022-12-13T16:52:10.835Z"
   },
   {
    "duration": 25,
    "start_time": "2022-12-13T16:52:10.852Z"
   },
   {
    "duration": 135,
    "start_time": "2022-12-13T16:52:10.879Z"
   },
   {
    "duration": 26,
    "start_time": "2022-12-13T16:52:11.015Z"
   },
   {
    "duration": 94,
    "start_time": "2022-12-13T16:52:11.042Z"
   },
   {
    "duration": 4,
    "start_time": "2022-12-13T16:52:11.137Z"
   },
   {
    "duration": 9,
    "start_time": "2022-12-13T16:52:11.143Z"
   },
   {
    "duration": 10,
    "start_time": "2022-12-13T16:52:11.153Z"
   },
   {
    "duration": 276,
    "start_time": "2022-12-13T16:52:11.165Z"
   },
   {
    "duration": 18,
    "start_time": "2022-12-13T16:52:11.442Z"
   },
   {
    "duration": 195,
    "start_time": "2022-12-13T16:52:11.461Z"
   },
   {
    "duration": 4,
    "start_time": "2022-12-13T16:52:11.658Z"
   },
   {
    "duration": 534,
    "start_time": "2022-12-13T16:52:11.664Z"
   },
   {
    "duration": 622,
    "start_time": "2022-12-13T16:52:12.200Z"
   },
   {
    "duration": 500,
    "start_time": "2022-12-13T16:52:12.824Z"
   },
   {
    "duration": 575,
    "start_time": "2022-12-13T16:52:13.326Z"
   },
   {
    "duration": 431,
    "start_time": "2022-12-13T16:52:13.904Z"
   },
   {
    "duration": 7,
    "start_time": "2022-12-13T16:52:14.336Z"
   },
   {
    "duration": 522,
    "start_time": "2022-12-13T16:52:14.344Z"
   },
   {
    "duration": 661,
    "start_time": "2022-12-13T16:52:14.867Z"
   },
   {
    "duration": 22,
    "start_time": "2022-12-13T16:52:15.530Z"
   },
   {
    "duration": 3,
    "start_time": "2022-12-13T16:52:15.554Z"
   },
   {
    "duration": 10,
    "start_time": "2022-12-13T16:52:15.558Z"
   },
   {
    "duration": 9,
    "start_time": "2022-12-13T16:52:15.570Z"
   },
   {
    "duration": 45,
    "start_time": "2022-12-13T16:52:15.580Z"
   },
   {
    "duration": 8782,
    "start_time": "2022-12-13T16:52:21.192Z"
   },
   {
    "duration": 95,
    "start_time": "2022-12-13T16:53:30.120Z"
   },
   {
    "duration": 92,
    "start_time": "2022-12-13T16:53:32.465Z"
   },
   {
    "duration": 3012,
    "start_time": "2022-12-13T16:53:36.367Z"
   },
   {
    "duration": 6259,
    "start_time": "2022-12-13T16:53:52.329Z"
   },
   {
    "duration": 6035,
    "start_time": "2022-12-13T16:54:06.760Z"
   },
   {
    "duration": 222055,
    "start_time": "2022-12-13T16:54:49.996Z"
   },
   {
    "duration": 207015,
    "start_time": "2022-12-13T16:58:56.270Z"
   },
   {
    "duration": 4,
    "start_time": "2022-12-13T20:34:31.432Z"
   },
   {
    "duration": 45,
    "start_time": "2022-12-13T20:42:27.728Z"
   },
   {
    "duration": 1488,
    "start_time": "2022-12-13T20:42:32.840Z"
   },
   {
    "duration": 2917,
    "start_time": "2022-12-13T20:42:34.329Z"
   },
   {
    "duration": 25,
    "start_time": "2022-12-13T20:42:37.247Z"
   },
   {
    "duration": 19,
    "start_time": "2022-12-13T20:42:37.274Z"
   },
   {
    "duration": 24,
    "start_time": "2022-12-13T20:42:37.295Z"
   },
   {
    "duration": 17,
    "start_time": "2022-12-13T20:42:37.320Z"
   },
   {
    "duration": 11,
    "start_time": "2022-12-13T20:42:37.338Z"
   },
   {
    "duration": 14,
    "start_time": "2022-12-13T20:42:37.351Z"
   },
   {
    "duration": 263,
    "start_time": "2022-12-13T20:42:37.366Z"
   },
   {
    "duration": 133,
    "start_time": "2022-12-13T20:42:37.631Z"
   },
   {
    "duration": 247,
    "start_time": "2022-12-13T20:42:37.766Z"
   },
   {
    "duration": 51,
    "start_time": "2022-12-13T20:42:38.015Z"
   },
   {
    "duration": 13,
    "start_time": "2022-12-13T20:42:38.068Z"
   },
   {
    "duration": 24,
    "start_time": "2022-12-13T20:42:38.098Z"
   },
   {
    "duration": 114,
    "start_time": "2022-12-13T20:42:38.124Z"
   },
   {
    "duration": 26,
    "start_time": "2022-12-13T20:42:38.240Z"
   },
   {
    "duration": 110,
    "start_time": "2022-12-13T20:42:38.267Z"
   },
   {
    "duration": 3,
    "start_time": "2022-12-13T20:42:38.378Z"
   },
   {
    "duration": 15,
    "start_time": "2022-12-13T20:42:38.382Z"
   },
   {
    "duration": 24,
    "start_time": "2022-12-13T20:42:38.400Z"
   },
   {
    "duration": 316,
    "start_time": "2022-12-13T20:42:38.425Z"
   },
   {
    "duration": 17,
    "start_time": "2022-12-13T20:42:38.743Z"
   },
   {
    "duration": 210,
    "start_time": "2022-12-13T20:42:38.761Z"
   },
   {
    "duration": 4,
    "start_time": "2022-12-13T20:42:38.972Z"
   },
   {
    "duration": 590,
    "start_time": "2022-12-13T20:42:38.977Z"
   },
   {
    "duration": 508,
    "start_time": "2022-12-13T20:42:39.568Z"
   },
   {
    "duration": 477,
    "start_time": "2022-12-13T20:42:40.078Z"
   },
   {
    "duration": 568,
    "start_time": "2022-12-13T20:42:40.557Z"
   },
   {
    "duration": 420,
    "start_time": "2022-12-13T20:42:41.126Z"
   },
   {
    "duration": 7,
    "start_time": "2022-12-13T20:42:41.548Z"
   },
   {
    "duration": 494,
    "start_time": "2022-12-13T20:42:41.557Z"
   },
   {
    "duration": 612,
    "start_time": "2022-12-13T20:42:42.053Z"
   },
   {
    "duration": 30,
    "start_time": "2022-12-13T20:42:42.667Z"
   },
   {
    "duration": 3,
    "start_time": "2022-12-13T20:42:42.700Z"
   },
   {
    "duration": 17,
    "start_time": "2022-12-13T20:42:42.705Z"
   },
   {
    "duration": 11,
    "start_time": "2022-12-13T20:42:42.723Z"
   },
   {
    "duration": 23,
    "start_time": "2022-12-13T20:42:47.223Z"
   },
   {
    "duration": 50,
    "start_time": "2022-12-14T05:51:24.771Z"
   },
   {
    "duration": 1578,
    "start_time": "2022-12-14T05:51:28.134Z"
   },
   {
    "duration": 2836,
    "start_time": "2022-12-14T05:51:29.714Z"
   },
   {
    "duration": 28,
    "start_time": "2022-12-14T05:51:32.552Z"
   },
   {
    "duration": 25,
    "start_time": "2022-12-14T05:51:32.582Z"
   },
   {
    "duration": 42,
    "start_time": "2022-12-14T05:51:32.609Z"
   },
   {
    "duration": 26,
    "start_time": "2022-12-14T05:51:32.654Z"
   },
   {
    "duration": 20,
    "start_time": "2022-12-14T05:51:32.697Z"
   },
   {
    "duration": 20,
    "start_time": "2022-12-14T05:51:32.720Z"
   },
   {
    "duration": 310,
    "start_time": "2022-12-14T05:51:32.743Z"
   },
   {
    "duration": 146,
    "start_time": "2022-12-14T05:51:33.056Z"
   },
   {
    "duration": 310,
    "start_time": "2022-12-14T05:51:33.204Z"
   },
   {
    "duration": 61,
    "start_time": "2022-12-14T05:51:33.516Z"
   },
   {
    "duration": 31,
    "start_time": "2022-12-14T05:51:33.579Z"
   },
   {
    "duration": 22,
    "start_time": "2022-12-14T05:51:33.613Z"
   },
   {
    "duration": 146,
    "start_time": "2022-12-14T05:51:33.637Z"
   },
   {
    "duration": 44,
    "start_time": "2022-12-14T05:51:33.785Z"
   },
   {
    "duration": 114,
    "start_time": "2022-12-14T05:51:33.831Z"
   },
   {
    "duration": 4,
    "start_time": "2022-12-14T05:51:33.947Z"
   },
   {
    "duration": 18,
    "start_time": "2022-12-14T05:51:33.953Z"
   },
   {
    "duration": 12,
    "start_time": "2022-12-14T05:51:33.973Z"
   },
   {
    "duration": 388,
    "start_time": "2022-12-14T05:51:33.998Z"
   },
   {
    "duration": 21,
    "start_time": "2022-12-14T05:51:34.388Z"
   },
   {
    "duration": 334,
    "start_time": "2022-12-14T05:51:34.411Z"
   },
   {
    "duration": 4,
    "start_time": "2022-12-14T05:51:34.747Z"
   },
   {
    "duration": 687,
    "start_time": "2022-12-14T05:51:34.753Z"
   },
   {
    "duration": 710,
    "start_time": "2022-12-14T05:51:35.442Z"
   },
   {
    "duration": 592,
    "start_time": "2022-12-14T05:51:36.154Z"
   },
   {
    "duration": 612,
    "start_time": "2022-12-14T05:51:36.750Z"
   },
   {
    "duration": 488,
    "start_time": "2022-12-14T05:51:37.364Z"
   },
   {
    "duration": 7,
    "start_time": "2022-12-14T05:51:37.854Z"
   },
   {
    "duration": 638,
    "start_time": "2022-12-14T05:51:37.863Z"
   },
   {
    "duration": 569,
    "start_time": "2022-12-14T05:51:38.503Z"
   },
   {
    "duration": 35,
    "start_time": "2022-12-14T05:51:39.074Z"
   },
   {
    "duration": 4,
    "start_time": "2022-12-14T05:51:39.110Z"
   },
   {
    "duration": 9,
    "start_time": "2022-12-14T05:51:39.115Z"
   },
   {
    "duration": 11,
    "start_time": "2022-12-14T05:51:44.715Z"
   },
   {
    "duration": 14,
    "start_time": "2022-12-14T05:51:55.643Z"
   },
   {
    "duration": 13,
    "start_time": "2022-12-14T05:52:05.512Z"
   },
   {
    "duration": 13,
    "start_time": "2022-12-14T05:52:12.009Z"
   },
   {
    "duration": 9,
    "start_time": "2022-12-14T05:52:20.617Z"
   },
   {
    "duration": 24,
    "start_time": "2022-12-14T05:52:25.114Z"
   },
   {
    "duration": 74,
    "start_time": "2022-12-14T06:01:22.204Z"
   },
   {
    "duration": 5,
    "start_time": "2022-12-14T06:01:45.734Z"
   },
   {
    "duration": 3,
    "start_time": "2022-12-14T06:01:53.102Z"
   },
   {
    "duration": 3,
    "start_time": "2022-12-14T06:13:45.805Z"
   },
   {
    "duration": 10,
    "start_time": "2022-12-14T06:19:24.618Z"
   },
   {
    "duration": 4,
    "start_time": "2022-12-14T06:19:50.241Z"
   },
   {
    "duration": 10,
    "start_time": "2022-12-14T06:20:08.604Z"
   },
   {
    "duration": 25,
    "start_time": "2022-12-14T06:20:37.265Z"
   },
   {
    "duration": 24,
    "start_time": "2022-12-14T06:21:14.868Z"
   },
   {
    "duration": 32,
    "start_time": "2022-12-14T06:21:23.001Z"
   },
   {
    "duration": 26,
    "start_time": "2022-12-14T06:22:21.417Z"
   },
   {
    "duration": 5289,
    "start_time": "2022-12-14T06:22:32.064Z"
   },
   {
    "duration": 5308,
    "start_time": "2022-12-14T06:23:44.113Z"
   },
   {
    "duration": 5277,
    "start_time": "2022-12-14T06:23:53.959Z"
   },
   {
    "duration": 5410,
    "start_time": "2022-12-14T06:24:33.543Z"
   },
   {
    "duration": 5427,
    "start_time": "2022-12-14T06:24:45.502Z"
   },
   {
    "duration": 11,
    "start_time": "2022-12-14T06:26:00.821Z"
   },
   {
    "duration": 62,
    "start_time": "2022-12-14T06:26:10.266Z"
   },
   {
    "duration": 47,
    "start_time": "2022-12-14T06:26:35.799Z"
   },
   {
    "duration": 48,
    "start_time": "2022-12-14T06:26:48.958Z"
   },
   {
    "duration": 53,
    "start_time": "2022-12-14T06:26:59.127Z"
   },
   {
    "duration": 25874,
    "start_time": "2022-12-14T06:27:15.219Z"
   },
   {
    "duration": 48,
    "start_time": "2022-12-14T06:31:05.045Z"
   },
   {
    "duration": 49,
    "start_time": "2022-12-14T06:31:10.021Z"
   },
   {
    "duration": 49,
    "start_time": "2022-12-14T06:31:14.735Z"
   },
   {
    "duration": 53,
    "start_time": "2022-12-14T06:31:19.301Z"
   },
   {
    "duration": 7056,
    "start_time": "2022-12-14T06:31:33.221Z"
   },
   {
    "duration": 3461,
    "start_time": "2022-12-14T06:32:05.137Z"
   },
   {
    "duration": 871,
    "start_time": "2022-12-14T06:32:10.650Z"
   },
   {
    "duration": 12,
    "start_time": "2022-12-14T06:33:53.139Z"
   },
   {
    "duration": 13,
    "start_time": "2022-12-14T06:34:01.964Z"
   },
   {
    "duration": 1412,
    "start_time": "2022-12-14T06:34:14.205Z"
   },
   {
    "duration": 1433,
    "start_time": "2022-12-14T06:34:25.525Z"
   },
   {
    "duration": 13306,
    "start_time": "2022-12-14T06:34:32.314Z"
   },
   {
    "duration": 13680,
    "start_time": "2022-12-14T06:35:15.646Z"
   },
   {
    "duration": 6,
    "start_time": "2022-12-14T06:38:32.203Z"
   },
   {
    "duration": 13337,
    "start_time": "2022-12-14T06:38:55.145Z"
   },
   {
    "duration": 13271,
    "start_time": "2022-12-14T06:39:26.035Z"
   },
   {
    "duration": 13449,
    "start_time": "2022-12-14T06:39:52.267Z"
   },
   {
    "duration": 13293,
    "start_time": "2022-12-14T06:41:19.682Z"
   },
   {
    "duration": 3,
    "start_time": "2022-12-14T06:41:52.889Z"
   },
   {
    "duration": 13270,
    "start_time": "2022-12-14T06:42:55.473Z"
   },
   {
    "duration": 13544,
    "start_time": "2022-12-14T06:43:26.417Z"
   },
   {
    "duration": 13310,
    "start_time": "2022-12-14T06:45:35.663Z"
   },
   {
    "duration": 88,
    "start_time": "2022-12-14T06:48:33.347Z"
   },
   {
    "duration": 5,
    "start_time": "2022-12-14T06:48:38.484Z"
   },
   {
    "duration": 315541,
    "start_time": "2022-12-14T06:48:57.692Z"
   },
   {
    "duration": 13597,
    "start_time": "2022-12-14T06:54:18.435Z"
   },
   {
    "duration": 13519,
    "start_time": "2022-12-14T06:54:39.003Z"
   },
   {
    "duration": 786144,
    "start_time": "2022-12-14T07:06:05.288Z"
   },
   {
    "duration": 0,
    "start_time": "2022-12-14T07:19:11.436Z"
   },
   {
    "duration": 9,
    "start_time": "2022-12-14T07:19:16.727Z"
   },
   {
    "duration": 3,
    "start_time": "2022-12-14T07:19:19.693Z"
   },
   {
    "duration": 3,
    "start_time": "2022-12-14T07:45:35.635Z"
   },
   {
    "duration": 12428,
    "start_time": "2022-12-14T07:45:36.794Z"
   },
   {
    "duration": 15,
    "start_time": "2022-12-14T07:46:09.056Z"
   },
   {
    "duration": 4,
    "start_time": "2022-12-14T07:46:37.223Z"
   },
   {
    "duration": 2661,
    "start_time": "2022-12-14T07:46:38.536Z"
   },
   {
    "duration": 1539,
    "start_time": "2022-12-14T07:46:48.763Z"
   },
   {
    "duration": 1485,
    "start_time": "2022-12-14T07:47:41.919Z"
   },
   {
    "duration": 1801,
    "start_time": "2022-12-14T07:48:55.402Z"
   },
   {
    "duration": 1698,
    "start_time": "2022-12-14T07:49:06.197Z"
   },
   {
    "duration": 1682,
    "start_time": "2022-12-14T07:50:04.918Z"
   },
   {
    "duration": 1301,
    "start_time": "2022-12-14T07:50:11.299Z"
   },
   {
    "duration": 1690,
    "start_time": "2022-12-14T07:50:14.609Z"
   },
   {
    "duration": 3,
    "start_time": "2022-12-14T07:50:58.660Z"
   },
   {
    "duration": 41679,
    "start_time": "2022-12-14T08:31:45.042Z"
   },
   {
    "duration": 219,
    "start_time": "2022-12-14T08:32:52.502Z"
   },
   {
    "duration": 71786,
    "start_time": "2022-12-14T08:33:02.601Z"
   },
   {
    "duration": 0,
    "start_time": "2022-12-14T08:34:14.395Z"
   },
   {
    "duration": 7865,
    "start_time": "2022-12-14T08:34:18.501Z"
   },
   {
    "duration": 263905,
    "start_time": "2022-12-14T08:34:40.984Z"
   },
   {
    "duration": 3161,
    "start_time": "2022-12-14T08:41:56.963Z"
   },
   {
    "duration": 3175,
    "start_time": "2022-12-14T08:42:05.931Z"
   },
   {
    "duration": 750087,
    "start_time": "2022-12-14T08:42:27.226Z"
   },
   {
    "duration": 12714,
    "start_time": "2022-12-14T09:08:17.495Z"
   },
   {
    "duration": 1251,
    "start_time": "2022-12-14T09:10:32.847Z"
   },
   {
    "duration": 1497,
    "start_time": "2022-12-14T09:10:35.503Z"
   },
   {
    "duration": 13423,
    "start_time": "2022-12-14T09:10:48.413Z"
   },
   {
    "duration": 12974,
    "start_time": "2022-12-14T09:11:13.076Z"
   },
   {
    "duration": 6,
    "start_time": "2022-12-14T09:12:46.135Z"
   },
   {
    "duration": 746885,
    "start_time": "2022-12-14T09:13:02.518Z"
   },
   {
    "duration": 776982,
    "start_time": "2022-12-14T09:25:29.406Z"
   },
   {
    "duration": 4,
    "start_time": "2022-12-14T09:41:48.836Z"
   },
   {
    "duration": 6,
    "start_time": "2022-12-14T09:44:25.722Z"
   },
   {
    "duration": 2,
    "start_time": "2022-12-14T09:45:03.748Z"
   },
   {
    "duration": 2,
    "start_time": "2022-12-14T09:45:12.651Z"
   },
   {
    "duration": 8733,
    "start_time": "2022-12-14T09:53:59.048Z"
   },
   {
    "duration": 0,
    "start_time": "2022-12-14T09:54:34.663Z"
   },
   {
    "duration": 8298,
    "start_time": "2022-12-14T09:54:36.098Z"
   },
   {
    "duration": 8790,
    "start_time": "2022-12-14T09:54:53.111Z"
   },
   {
    "duration": 8453,
    "start_time": "2022-12-14T09:55:11.495Z"
   },
   {
    "duration": 8994,
    "start_time": "2022-12-14T09:57:48.070Z"
   },
   {
    "duration": 8257,
    "start_time": "2022-12-14T09:58:07.501Z"
   },
   {
    "duration": 8558,
    "start_time": "2022-12-14T09:58:20.454Z"
   },
   {
    "duration": 8719,
    "start_time": "2022-12-14T10:01:14.100Z"
   },
   {
    "duration": 8428,
    "start_time": "2022-12-14T10:04:40.546Z"
   },
   {
    "duration": 8595,
    "start_time": "2022-12-14T10:05:01.867Z"
   },
   {
    "duration": 9123,
    "start_time": "2022-12-14T10:05:11.867Z"
   },
   {
    "duration": 4,
    "start_time": "2022-12-14T10:06:57.153Z"
   },
   {
    "duration": 10,
    "start_time": "2022-12-14T10:11:37.223Z"
   },
   {
    "duration": 5,
    "start_time": "2022-12-14T10:12:10.488Z"
   },
   {
    "duration": 8,
    "start_time": "2022-12-14T10:12:22.063Z"
   },
   {
    "duration": 9,
    "start_time": "2022-12-14T10:14:02.007Z"
   },
   {
    "duration": 8,
    "start_time": "2022-12-14T10:14:04.343Z"
   },
   {
    "duration": 15,
    "start_time": "2022-12-14T10:14:47.374Z"
   },
   {
    "duration": 10,
    "start_time": "2022-12-14T10:14:52.784Z"
   },
   {
    "duration": 10,
    "start_time": "2022-12-14T10:15:01.648Z"
   },
   {
    "duration": 9,
    "start_time": "2022-12-14T10:15:04.864Z"
   },
   {
    "duration": 9,
    "start_time": "2022-12-14T10:15:19.950Z"
   },
   {
    "duration": 9,
    "start_time": "2022-12-14T10:15:24.067Z"
   },
   {
    "duration": 10,
    "start_time": "2022-12-14T10:21:53.820Z"
   },
   {
    "duration": 9,
    "start_time": "2022-12-14T10:22:21.371Z"
   },
   {
    "duration": 10,
    "start_time": "2022-12-14T10:23:30.318Z"
   },
   {
    "duration": 9,
    "start_time": "2022-12-14T10:25:30.359Z"
   },
   {
    "duration": 3,
    "start_time": "2022-12-14T10:25:46.450Z"
   },
   {
    "duration": 812,
    "start_time": "2022-12-14T10:25:57.149Z"
   },
   {
    "duration": 749,
    "start_time": "2022-12-14T10:26:00.519Z"
   },
   {
    "duration": 784,
    "start_time": "2022-12-14T10:26:07.652Z"
   },
   {
    "duration": 757,
    "start_time": "2022-12-14T10:26:10.323Z"
   },
   {
    "duration": 4,
    "start_time": "2022-12-14T10:26:13.683Z"
   },
   {
    "duration": 10,
    "start_time": "2022-12-14T10:26:17.660Z"
   },
   {
    "duration": 2,
    "start_time": "2022-12-14T10:26:57.368Z"
   },
   {
    "duration": 9438,
    "start_time": "2022-12-14T10:27:01.155Z"
   },
   {
    "duration": 9672,
    "start_time": "2022-12-14T10:27:12.627Z"
   },
   {
    "duration": 4,
    "start_time": "2022-12-14T10:27:24.739Z"
   },
   {
    "duration": 10,
    "start_time": "2022-12-14T10:27:27.035Z"
   },
   {
    "duration": 10,
    "start_time": "2022-12-14T10:28:55.445Z"
   },
   {
    "duration": 4,
    "start_time": "2022-12-14T10:29:18.544Z"
   },
   {
    "duration": 7,
    "start_time": "2022-12-14T10:29:24.038Z"
   },
   {
    "duration": 8,
    "start_time": "2022-12-14T10:29:28.114Z"
   },
   {
    "duration": 8,
    "start_time": "2022-12-14T10:31:00.822Z"
   },
   {
    "duration": 3,
    "start_time": "2022-12-14T10:31:32.862Z"
   },
   {
    "duration": 4,
    "start_time": "2022-12-14T10:31:35.245Z"
   },
   {
    "duration": 9,
    "start_time": "2022-12-14T10:33:01.302Z"
   },
   {
    "duration": 11,
    "start_time": "2022-12-14T10:33:14.830Z"
   },
   {
    "duration": 13,
    "start_time": "2022-12-14T10:36:00.236Z"
   },
   {
    "duration": 9,
    "start_time": "2022-12-14T10:38:35.101Z"
   },
   {
    "duration": 8,
    "start_time": "2022-12-14T10:38:57.594Z"
   },
   {
    "duration": 12,
    "start_time": "2022-12-14T10:39:17.611Z"
   },
   {
    "duration": 10,
    "start_time": "2022-12-14T10:39:22.628Z"
   },
   {
    "duration": 11,
    "start_time": "2022-12-14T10:39:28.434Z"
   },
   {
    "duration": 4,
    "start_time": "2022-12-14T10:43:35.160Z"
   },
   {
    "duration": 651,
    "start_time": "2022-12-14T10:43:35.167Z"
   },
   {
    "duration": 22,
    "start_time": "2022-12-14T10:43:35.820Z"
   },
   {
    "duration": 34,
    "start_time": "2022-12-14T10:43:35.843Z"
   },
   {
    "duration": 35,
    "start_time": "2022-12-14T10:43:35.881Z"
   },
   {
    "duration": 29,
    "start_time": "2022-12-14T10:43:35.918Z"
   },
   {
    "duration": 17,
    "start_time": "2022-12-14T10:43:35.950Z"
   },
   {
    "duration": 41,
    "start_time": "2022-12-14T10:43:35.970Z"
   },
   {
    "duration": 287,
    "start_time": "2022-12-14T10:43:36.014Z"
   },
   {
    "duration": 136,
    "start_time": "2022-12-14T10:43:36.303Z"
   },
   {
    "duration": 251,
    "start_time": "2022-12-14T10:43:36.442Z"
   },
   {
    "duration": 20,
    "start_time": "2022-12-14T10:43:36.697Z"
   },
   {
    "duration": 15,
    "start_time": "2022-12-14T10:43:36.719Z"
   },
   {
    "duration": 22,
    "start_time": "2022-12-14T10:43:36.735Z"
   },
   {
    "duration": 149,
    "start_time": "2022-12-14T10:43:36.759Z"
   },
   {
    "duration": 28,
    "start_time": "2022-12-14T10:43:36.909Z"
   },
   {
    "duration": 99,
    "start_time": "2022-12-14T10:43:36.939Z"
   },
   {
    "duration": 3,
    "start_time": "2022-12-14T10:43:37.040Z"
   },
   {
    "duration": 10,
    "start_time": "2022-12-14T10:43:37.044Z"
   },
   {
    "duration": 12,
    "start_time": "2022-12-14T10:43:37.055Z"
   },
   {
    "duration": 8688,
    "start_time": "2022-12-14T10:43:56.598Z"
   },
   {
    "duration": 9,
    "start_time": "2022-12-14T10:44:14.510Z"
   },
   {
    "duration": 18,
    "start_time": "2022-12-14T10:45:07.334Z"
   },
   {
    "duration": 16,
    "start_time": "2022-12-14T10:45:32.734Z"
   },
   {
    "duration": 8,
    "start_time": "2022-12-14T10:45:51.749Z"
   },
   {
    "duration": 8,
    "start_time": "2022-12-14T10:46:00.271Z"
   },
   {
    "duration": 3,
    "start_time": "2022-12-14T10:46:02.781Z"
   },
   {
    "duration": 8,
    "start_time": "2022-12-14T10:46:03.190Z"
   },
   {
    "duration": 7,
    "start_time": "2022-12-14T10:46:08.220Z"
   },
   {
    "duration": 22,
    "start_time": "2022-12-14T10:46:13.389Z"
   },
   {
    "duration": 16,
    "start_time": "2022-12-14T10:47:12.283Z"
   },
   {
    "duration": 22,
    "start_time": "2022-12-14T10:47:25.950Z"
   },
   {
    "duration": 11,
    "start_time": "2022-12-14T10:47:30.898Z"
   },
   {
    "duration": 19,
    "start_time": "2022-12-14T10:47:36.146Z"
   },
   {
    "duration": 56,
    "start_time": "2022-12-14T10:48:25.978Z"
   },
   {
    "duration": 36,
    "start_time": "2022-12-14T10:48:30.988Z"
   },
   {
    "duration": 34,
    "start_time": "2022-12-14T10:48:38.185Z"
   },
   {
    "duration": 283,
    "start_time": "2022-12-14T10:52:35.290Z"
   },
   {
    "duration": 261,
    "start_time": "2022-12-14T11:15:14.105Z"
   },
   {
    "duration": 289,
    "start_time": "2022-12-14T11:16:37.173Z"
   },
   {
    "duration": 30,
    "start_time": "2022-12-14T11:16:48.588Z"
   },
   {
    "duration": 60,
    "start_time": "2022-12-14T11:16:59.604Z"
   },
   {
    "duration": 289,
    "start_time": "2022-12-14T11:17:17.262Z"
   },
   {
    "duration": 258,
    "start_time": "2022-12-14T11:17:28.062Z"
   },
   {
    "duration": 14,
    "start_time": "2022-12-14T11:17:41.458Z"
   },
   {
    "duration": 15,
    "start_time": "2022-12-14T11:17:54.613Z"
   },
   {
    "duration": 16,
    "start_time": "2022-12-14T11:19:10.468Z"
   },
   {
    "duration": 13,
    "start_time": "2022-12-14T11:20:34.363Z"
   },
   {
    "duration": 11,
    "start_time": "2022-12-14T11:20:46.560Z"
   },
   {
    "duration": 14,
    "start_time": "2022-12-14T11:20:55.052Z"
   },
   {
    "duration": 16,
    "start_time": "2022-12-14T11:21:07.902Z"
   },
   {
    "duration": 14,
    "start_time": "2022-12-14T11:21:21.815Z"
   },
   {
    "duration": 11,
    "start_time": "2022-12-14T11:21:45.772Z"
   },
   {
    "duration": 15,
    "start_time": "2022-12-14T11:21:53.812Z"
   },
   {
    "duration": 296,
    "start_time": "2022-12-14T11:21:59.956Z"
   },
   {
    "duration": 12,
    "start_time": "2022-12-14T11:22:18.707Z"
   },
   {
    "duration": 14,
    "start_time": "2022-12-14T11:22:40.395Z"
   },
   {
    "duration": 13,
    "start_time": "2022-12-14T11:23:22.575Z"
   },
   {
    "duration": 4,
    "start_time": "2022-12-14T11:23:44.802Z"
   },
   {
    "duration": 636,
    "start_time": "2022-12-14T11:23:44.808Z"
   },
   {
    "duration": 20,
    "start_time": "2022-12-14T11:23:45.445Z"
   },
   {
    "duration": 33,
    "start_time": "2022-12-14T11:23:45.466Z"
   },
   {
    "duration": 29,
    "start_time": "2022-12-14T11:23:45.501Z"
   },
   {
    "duration": 23,
    "start_time": "2022-12-14T11:23:45.532Z"
   },
   {
    "duration": 13,
    "start_time": "2022-12-14T11:23:45.557Z"
   },
   {
    "duration": 31,
    "start_time": "2022-12-14T11:23:45.572Z"
   },
   {
    "duration": 244,
    "start_time": "2022-12-14T11:23:45.605Z"
   },
   {
    "duration": 139,
    "start_time": "2022-12-14T11:23:45.851Z"
   },
   {
    "duration": 291,
    "start_time": "2022-12-14T11:23:45.993Z"
   },
   {
    "duration": 31,
    "start_time": "2022-12-14T11:23:46.286Z"
   },
   {
    "duration": 16,
    "start_time": "2022-12-14T11:23:46.319Z"
   },
   {
    "duration": 20,
    "start_time": "2022-12-14T11:23:46.337Z"
   },
   {
    "duration": 127,
    "start_time": "2022-12-14T11:23:46.358Z"
   },
   {
    "duration": 30,
    "start_time": "2022-12-14T11:23:46.487Z"
   },
   {
    "duration": 97,
    "start_time": "2022-12-14T11:23:46.519Z"
   },
   {
    "duration": 2,
    "start_time": "2022-12-14T11:23:46.617Z"
   },
   {
    "duration": 21,
    "start_time": "2022-12-14T11:23:46.621Z"
   },
   {
    "duration": 8,
    "start_time": "2022-12-14T11:23:46.644Z"
   },
   {
    "duration": 13,
    "start_time": "2022-12-14T11:23:51.564Z"
   },
   {
    "duration": 16,
    "start_time": "2022-12-14T11:24:44.746Z"
   },
   {
    "duration": 18,
    "start_time": "2022-12-14T11:25:24.194Z"
   },
   {
    "duration": 16,
    "start_time": "2022-12-14T11:25:40.539Z"
   },
   {
    "duration": 167,
    "start_time": "2022-12-14T11:25:43.197Z"
   },
   {
    "duration": 3,
    "start_time": "2022-12-14T11:25:46.789Z"
   },
   {
    "duration": 780,
    "start_time": "2022-12-14T11:25:47.316Z"
   },
   {
    "duration": 533,
    "start_time": "2022-12-14T11:26:37.382Z"
   },
   {
    "duration": 463,
    "start_time": "2022-12-14T11:26:45.659Z"
   },
   {
    "duration": 464,
    "start_time": "2022-12-14T11:26:57.360Z"
   },
   {
    "duration": 567,
    "start_time": "2022-12-14T11:27:00.529Z"
   },
   {
    "duration": 490,
    "start_time": "2022-12-14T11:27:06.321Z"
   },
   {
    "duration": 18,
    "start_time": "2022-12-14T11:27:22.314Z"
   },
   {
    "duration": 3,
    "start_time": "2022-12-14T11:27:24.890Z"
   },
   {
    "duration": 6,
    "start_time": "2022-12-14T11:27:27.763Z"
   },
   {
    "duration": 7,
    "start_time": "2022-12-14T11:27:28.171Z"
   },
   {
    "duration": 9,
    "start_time": "2022-12-14T11:27:35.102Z"
   },
   {
    "duration": 7,
    "start_time": "2022-12-14T11:27:42.002Z"
   },
   {
    "duration": 16,
    "start_time": "2022-12-14T11:27:44.558Z"
   },
   {
    "duration": 4,
    "start_time": "2022-12-14T11:27:46.710Z"
   },
   {
    "duration": 1087,
    "start_time": "2022-12-14T11:27:47.211Z"
   },
   {
    "duration": 1324,
    "start_time": "2022-12-14T11:27:52.478Z"
   },
   {
    "duration": 7,
    "start_time": "2022-12-14T11:28:04.148Z"
   },
   {
    "duration": 10,
    "start_time": "2022-12-14T11:28:17.088Z"
   },
   {
    "duration": 7,
    "start_time": "2022-12-14T11:28:22.337Z"
   },
   {
    "duration": 4,
    "start_time": "2022-12-14T11:28:32.844Z"
   },
   {
    "duration": 9826,
    "start_time": "2022-12-14T11:28:33.275Z"
   },
   {
    "duration": 26,
    "start_time": "2022-12-14T11:29:32.729Z"
   },
   {
    "duration": 13,
    "start_time": "2022-12-14T11:29:49.552Z"
   },
   {
    "duration": 153,
    "start_time": "2022-12-14T11:29:50.156Z"
   },
   {
    "duration": 24,
    "start_time": "2022-12-14T11:30:08.161Z"
   },
   {
    "duration": 24,
    "start_time": "2022-12-14T11:30:45.672Z"
   },
   {
    "duration": 13,
    "start_time": "2022-12-14T11:30:59.474Z"
   },
   {
    "duration": 12,
    "start_time": "2022-12-14T11:31:12.252Z"
   },
   {
    "duration": 3,
    "start_time": "2022-12-14T11:31:27.391Z"
   },
   {
    "duration": 633,
    "start_time": "2022-12-14T11:31:27.396Z"
   },
   {
    "duration": 20,
    "start_time": "2022-12-14T11:31:28.031Z"
   },
   {
    "duration": 22,
    "start_time": "2022-12-14T11:31:28.053Z"
   },
   {
    "duration": 31,
    "start_time": "2022-12-14T11:31:28.079Z"
   },
   {
    "duration": 33,
    "start_time": "2022-12-14T11:31:28.112Z"
   },
   {
    "duration": 13,
    "start_time": "2022-12-14T11:31:28.147Z"
   },
   {
    "duration": 19,
    "start_time": "2022-12-14T11:31:28.162Z"
   },
   {
    "duration": 234,
    "start_time": "2022-12-14T11:31:28.197Z"
   },
   {
    "duration": 128,
    "start_time": "2022-12-14T11:31:28.433Z"
   },
   {
    "duration": 261,
    "start_time": "2022-12-14T11:31:28.563Z"
   },
   {
    "duration": 20,
    "start_time": "2022-12-14T11:31:28.826Z"
   },
   {
    "duration": 16,
    "start_time": "2022-12-14T11:31:28.848Z"
   },
   {
    "duration": 45,
    "start_time": "2022-12-14T11:31:28.866Z"
   },
   {
    "duration": 122,
    "start_time": "2022-12-14T11:31:28.913Z"
   },
   {
    "duration": 27,
    "start_time": "2022-12-14T11:31:29.037Z"
   },
   {
    "duration": 107,
    "start_time": "2022-12-14T11:31:29.065Z"
   },
   {
    "duration": 3,
    "start_time": "2022-12-14T11:31:29.174Z"
   },
   {
    "duration": 18,
    "start_time": "2022-12-14T11:31:29.178Z"
   },
   {
    "duration": 7,
    "start_time": "2022-12-14T11:31:29.198Z"
   },
   {
    "duration": 18,
    "start_time": "2022-12-14T11:31:31.750Z"
   },
   {
    "duration": 17,
    "start_time": "2022-12-14T11:31:49.138Z"
   },
   {
    "duration": 185,
    "start_time": "2022-12-14T11:31:50.803Z"
   },
   {
    "duration": 4,
    "start_time": "2022-12-14T11:31:54.157Z"
   },
   {
    "duration": 885,
    "start_time": "2022-12-14T11:31:54.659Z"
   },
   {
    "duration": 621,
    "start_time": "2022-12-14T11:32:00.002Z"
   },
   {
    "duration": 440,
    "start_time": "2022-12-14T11:32:02.849Z"
   },
   {
    "duration": 19,
    "start_time": "2022-12-14T11:32:12.296Z"
   },
   {
    "duration": 3,
    "start_time": "2022-12-14T11:32:16.081Z"
   },
   {
    "duration": 8,
    "start_time": "2022-12-14T11:32:20.160Z"
   },
   {
    "duration": 50,
    "start_time": "2022-12-14T11:32:22.097Z"
   },
   {
    "duration": 6,
    "start_time": "2022-12-14T11:32:28.770Z"
   },
   {
    "duration": 7,
    "start_time": "2022-12-14T11:32:31.169Z"
   },
   {
    "duration": 20,
    "start_time": "2022-12-14T11:32:31.953Z"
   },
   {
    "duration": 3,
    "start_time": "2022-12-14T11:32:33.882Z"
   },
   {
    "duration": 1270,
    "start_time": "2022-12-14T11:32:34.328Z"
   },
   {
    "duration": 9,
    "start_time": "2022-12-14T11:33:04.926Z"
   },
   {
    "duration": 8,
    "start_time": "2022-12-14T11:33:25.175Z"
   },
   {
    "duration": 4,
    "start_time": "2022-12-14T11:33:27.278Z"
   },
   {
    "duration": 1293,
    "start_time": "2022-12-14T11:33:28.006Z"
   },
   {
    "duration": 17,
    "start_time": "2022-12-14T11:33:31.702Z"
   },
   {
    "duration": 4,
    "start_time": "2022-12-14T11:33:32.822Z"
   },
   {
    "duration": 1171,
    "start_time": "2022-12-14T11:33:33.230Z"
   },
   {
    "duration": 10,
    "start_time": "2022-12-14T11:34:11.524Z"
   },
   {
    "duration": 28,
    "start_time": "2022-12-14T11:34:26.790Z"
   },
   {
    "duration": 4,
    "start_time": "2022-12-14T11:35:13.565Z"
   },
   {
    "duration": 627,
    "start_time": "2022-12-14T11:35:13.572Z"
   },
   {
    "duration": 21,
    "start_time": "2022-12-14T11:35:14.201Z"
   },
   {
    "duration": 22,
    "start_time": "2022-12-14T11:35:14.224Z"
   },
   {
    "duration": 21,
    "start_time": "2022-12-14T11:35:14.248Z"
   },
   {
    "duration": 35,
    "start_time": "2022-12-14T11:35:14.271Z"
   },
   {
    "duration": 13,
    "start_time": "2022-12-14T11:35:14.307Z"
   },
   {
    "duration": 17,
    "start_time": "2022-12-14T11:35:14.322Z"
   },
   {
    "duration": 243,
    "start_time": "2022-12-14T11:35:14.341Z"
   },
   {
    "duration": 129,
    "start_time": "2022-12-14T11:35:14.585Z"
   },
   {
    "duration": 251,
    "start_time": "2022-12-14T11:35:14.717Z"
   },
   {
    "duration": 27,
    "start_time": "2022-12-14T11:35:14.970Z"
   },
   {
    "duration": 15,
    "start_time": "2022-12-14T11:35:14.999Z"
   },
   {
    "duration": 47,
    "start_time": "2022-12-14T11:35:15.016Z"
   },
   {
    "duration": 111,
    "start_time": "2022-12-14T11:35:15.065Z"
   },
   {
    "duration": 34,
    "start_time": "2022-12-14T11:35:15.178Z"
   },
   {
    "duration": 91,
    "start_time": "2022-12-14T11:35:15.214Z"
   },
   {
    "duration": 3,
    "start_time": "2022-12-14T11:35:15.307Z"
   },
   {
    "duration": 20,
    "start_time": "2022-12-14T11:35:15.312Z"
   },
   {
    "duration": 13,
    "start_time": "2022-12-14T11:35:15.334Z"
   },
   {
    "duration": 15,
    "start_time": "2022-12-14T11:35:23.425Z"
   },
   {
    "duration": 7,
    "start_time": "2022-12-14T11:36:44.137Z"
   },
   {
    "duration": 18,
    "start_time": "2022-12-14T11:37:03.846Z"
   },
   {
    "duration": 17,
    "start_time": "2022-12-14T11:37:10.686Z"
   },
   {
    "duration": 19,
    "start_time": "2022-12-14T11:37:22.244Z"
   },
   {
    "duration": 19,
    "start_time": "2022-12-14T11:37:27.863Z"
   },
   {
    "duration": 15,
    "start_time": "2022-12-14T11:37:31.446Z"
   },
   {
    "duration": 172,
    "start_time": "2022-12-14T11:37:33.146Z"
   },
   {
    "duration": 4,
    "start_time": "2022-12-14T11:37:35.158Z"
   },
   {
    "duration": 19,
    "start_time": "2022-12-14T11:37:44.629Z"
   },
   {
    "duration": 4,
    "start_time": "2022-12-14T11:37:49.973Z"
   },
   {
    "duration": 7,
    "start_time": "2022-12-14T11:37:52.033Z"
   },
   {
    "duration": 7,
    "start_time": "2022-12-14T11:37:54.153Z"
   },
   {
    "duration": 17,
    "start_time": "2022-12-14T11:37:55.999Z"
   },
   {
    "duration": 3,
    "start_time": "2022-12-14T11:37:56.766Z"
   },
   {
    "duration": 1110,
    "start_time": "2022-12-14T11:37:58.391Z"
   },
   {
    "duration": 24,
    "start_time": "2022-12-14T11:38:16.205Z"
   },
   {
    "duration": 28,
    "start_time": "2022-12-14T11:38:21.773Z"
   },
   {
    "duration": 4,
    "start_time": "2022-12-14T11:38:31.227Z"
   },
   {
    "duration": 766,
    "start_time": "2022-12-14T11:38:31.234Z"
   },
   {
    "duration": 22,
    "start_time": "2022-12-14T11:38:32.002Z"
   },
   {
    "duration": 30,
    "start_time": "2022-12-14T11:38:32.026Z"
   },
   {
    "duration": 20,
    "start_time": "2022-12-14T11:38:32.059Z"
   },
   {
    "duration": 31,
    "start_time": "2022-12-14T11:38:32.081Z"
   },
   {
    "duration": 12,
    "start_time": "2022-12-14T11:38:32.113Z"
   },
   {
    "duration": 17,
    "start_time": "2022-12-14T11:38:32.126Z"
   },
   {
    "duration": 247,
    "start_time": "2022-12-14T11:38:32.145Z"
   },
   {
    "duration": 125,
    "start_time": "2022-12-14T11:38:32.397Z"
   },
   {
    "duration": 249,
    "start_time": "2022-12-14T11:38:32.524Z"
   },
   {
    "duration": 28,
    "start_time": "2022-12-14T11:38:32.775Z"
   },
   {
    "duration": 16,
    "start_time": "2022-12-14T11:38:32.805Z"
   },
   {
    "duration": 22,
    "start_time": "2022-12-14T11:38:32.823Z"
   },
   {
    "duration": 132,
    "start_time": "2022-12-14T11:38:32.847Z"
   },
   {
    "duration": 36,
    "start_time": "2022-12-14T11:38:32.981Z"
   },
   {
    "duration": 94,
    "start_time": "2022-12-14T11:38:33.019Z"
   },
   {
    "duration": 3,
    "start_time": "2022-12-14T11:38:33.115Z"
   },
   {
    "duration": 16,
    "start_time": "2022-12-14T11:38:33.119Z"
   },
   {
    "duration": 8,
    "start_time": "2022-12-14T11:38:33.136Z"
   },
   {
    "duration": 24,
    "start_time": "2022-12-14T11:38:35.429Z"
   },
   {
    "duration": 19,
    "start_time": "2022-12-14T11:38:46.004Z"
   },
   {
    "duration": 19,
    "start_time": "2022-12-14T11:38:50.516Z"
   },
   {
    "duration": 20,
    "start_time": "2022-12-14T11:39:34.260Z"
   },
   {
    "duration": 17,
    "start_time": "2022-12-14T11:39:39.897Z"
   },
   {
    "duration": 177,
    "start_time": "2022-12-14T11:39:40.864Z"
   },
   {
    "duration": 4,
    "start_time": "2022-12-14T11:39:50.532Z"
   },
   {
    "duration": 8,
    "start_time": "2022-12-14T11:39:53.725Z"
   },
   {
    "duration": 3,
    "start_time": "2022-12-14T11:39:55.577Z"
   },
   {
    "duration": 152,
    "start_time": "2022-12-14T11:39:55.789Z"
   },
   {
    "duration": 7,
    "start_time": "2022-12-14T11:40:00.054Z"
   },
   {
    "duration": 8,
    "start_time": "2022-12-14T11:40:00.622Z"
   },
   {
    "duration": 18,
    "start_time": "2022-12-14T11:40:02.709Z"
   },
   {
    "duration": 4,
    "start_time": "2022-12-14T11:40:04.741Z"
   },
   {
    "duration": 956,
    "start_time": "2022-12-14T11:40:05.043Z"
   },
   {
    "duration": 4,
    "start_time": "2022-12-14T11:40:08.589Z"
   },
   {
    "duration": 10431,
    "start_time": "2022-12-14T11:40:08.854Z"
   },
   {
    "duration": 4,
    "start_time": "2022-12-14T11:40:57.939Z"
   },
   {
    "duration": 10873,
    "start_time": "2022-12-14T11:40:58.395Z"
   },
   {
    "duration": 3,
    "start_time": "2022-12-14T11:41:33.095Z"
   },
   {
    "duration": 1015,
    "start_time": "2022-12-14T11:41:33.486Z"
   },
   {
    "duration": 1198,
    "start_time": "2022-12-14T11:41:34.503Z"
   },
   {
    "duration": 10814,
    "start_time": "2022-12-14T11:41:42.414Z"
   },
   {
    "duration": 3,
    "start_time": "2022-12-14T11:42:35.002Z"
   },
   {
    "duration": 562,
    "start_time": "2022-12-14T11:42:37.997Z"
   },
   {
    "duration": 7315,
    "start_time": "2022-12-14T11:42:41.773Z"
   },
   {
    "duration": 5,
    "start_time": "2022-12-14T11:42:51.901Z"
   },
   {
    "duration": 8,
    "start_time": "2022-12-14T11:42:53.477Z"
   },
   {
    "duration": 4,
    "start_time": "2022-12-14T11:43:02.364Z"
   },
   {
    "duration": 644130,
    "start_time": "2022-12-14T11:43:04.549Z"
   },
   {
    "duration": 635916,
    "start_time": "2022-12-14T11:53:48.681Z"
   },
   {
    "duration": 3,
    "start_time": "2022-12-14T12:09:55.824Z"
   },
   {
    "duration": 8238,
    "start_time": "2022-12-14T12:09:58.708Z"
   },
   {
    "duration": 7720,
    "start_time": "2022-12-14T12:10:09.479Z"
   },
   {
    "duration": 4,
    "start_time": "2022-12-14T12:10:24.435Z"
   },
   {
    "duration": 10,
    "start_time": "2022-12-14T12:10:25.815Z"
   },
   {
    "duration": 4,
    "start_time": "2022-12-14T12:10:59.039Z"
   },
   {
    "duration": 523,
    "start_time": "2022-12-14T12:10:59.298Z"
   },
   {
    "duration": 622,
    "start_time": "2022-12-14T12:11:49.241Z"
   },
   {
    "duration": 642,
    "start_time": "2022-12-14T12:12:00.025Z"
   },
   {
    "duration": 7,
    "start_time": "2022-12-14T12:12:15.953Z"
   },
   {
    "duration": 836,
    "start_time": "2022-12-14T12:12:16.712Z"
   },
   {
    "duration": 705,
    "start_time": "2022-12-14T12:12:23.043Z"
   },
   {
    "duration": 930,
    "start_time": "2022-12-14T12:12:35.825Z"
   },
   {
    "duration": 672,
    "start_time": "2022-12-14T12:12:47.224Z"
   },
   {
    "duration": 834,
    "start_time": "2022-12-14T12:12:53.440Z"
   },
   {
    "duration": 484,
    "start_time": "2022-12-14T12:13:06.705Z"
   },
   {
    "duration": 466,
    "start_time": "2022-12-14T12:13:09.236Z"
   },
   {
    "duration": 7,
    "start_time": "2022-12-14T12:13:51.320Z"
   },
   {
    "duration": 672,
    "start_time": "2022-12-14T12:13:53.415Z"
   },
   {
    "duration": 690,
    "start_time": "2022-12-14T12:14:02.207Z"
   },
   {
    "duration": 865,
    "start_time": "2022-12-14T12:14:06.176Z"
   },
   {
    "duration": 700,
    "start_time": "2022-12-14T12:14:10.664Z"
   },
   {
    "duration": 636,
    "start_time": "2022-12-14T12:14:17.247Z"
   },
   {
    "duration": 840,
    "start_time": "2022-12-14T12:14:29.727Z"
   },
   {
    "duration": 859,
    "start_time": "2022-12-14T12:15:44.873Z"
   },
   {
    "duration": 25,
    "start_time": "2022-12-14T12:15:58.479Z"
   },
   {
    "duration": 5,
    "start_time": "2022-12-14T12:16:07.971Z"
   },
   {
    "duration": 587,
    "start_time": "2022-12-14T12:16:07.978Z"
   },
   {
    "duration": 18,
    "start_time": "2022-12-14T12:16:08.567Z"
   },
   {
    "duration": 29,
    "start_time": "2022-12-14T12:16:08.597Z"
   },
   {
    "duration": 19,
    "start_time": "2022-12-14T12:16:08.629Z"
   },
   {
    "duration": 16,
    "start_time": "2022-12-14T12:16:08.649Z"
   },
   {
    "duration": 37,
    "start_time": "2022-12-14T12:16:08.666Z"
   },
   {
    "duration": 24,
    "start_time": "2022-12-14T12:16:08.705Z"
   },
   {
    "duration": 241,
    "start_time": "2022-12-14T12:16:08.731Z"
   },
   {
    "duration": 126,
    "start_time": "2022-12-14T12:16:08.974Z"
   },
   {
    "duration": 243,
    "start_time": "2022-12-14T12:16:09.102Z"
   },
   {
    "duration": 19,
    "start_time": "2022-12-14T12:16:09.347Z"
   },
   {
    "duration": 30,
    "start_time": "2022-12-14T12:16:09.368Z"
   },
   {
    "duration": 22,
    "start_time": "2022-12-14T12:16:09.399Z"
   },
   {
    "duration": 115,
    "start_time": "2022-12-14T12:16:09.422Z"
   },
   {
    "duration": 25,
    "start_time": "2022-12-14T12:16:09.539Z"
   },
   {
    "duration": 96,
    "start_time": "2022-12-14T12:16:09.566Z"
   },
   {
    "duration": 3,
    "start_time": "2022-12-14T12:16:09.664Z"
   },
   {
    "duration": 14,
    "start_time": "2022-12-14T12:16:09.668Z"
   },
   {
    "duration": 17,
    "start_time": "2022-12-14T12:16:09.684Z"
   },
   {
    "duration": 19,
    "start_time": "2022-12-14T12:16:12.218Z"
   },
   {
    "duration": 20,
    "start_time": "2022-12-14T12:17:07.477Z"
   },
   {
    "duration": 15,
    "start_time": "2022-12-14T12:17:15.497Z"
   },
   {
    "duration": 250,
    "start_time": "2022-12-14T12:17:16.036Z"
   },
   {
    "duration": 4,
    "start_time": "2022-12-14T12:17:18.935Z"
   },
   {
    "duration": 833,
    "start_time": "2022-12-14T12:17:19.234Z"
   },
   {
    "duration": 738,
    "start_time": "2022-12-14T12:17:22.265Z"
   },
   {
    "duration": 837,
    "start_time": "2022-12-14T12:17:29.000Z"
   },
   {
    "duration": 519,
    "start_time": "2022-12-14T12:17:35.568Z"
   },
   {
    "duration": 430,
    "start_time": "2022-12-14T12:17:38.409Z"
   },
   {
    "duration": 7,
    "start_time": "2022-12-14T12:17:55.105Z"
   },
   {
    "duration": 967,
    "start_time": "2022-12-14T12:17:55.392Z"
   },
   {
    "duration": 842,
    "start_time": "2022-12-14T12:17:58.296Z"
   },
   {
    "duration": 20,
    "start_time": "2022-12-14T12:18:08.344Z"
   },
   {
    "duration": 3,
    "start_time": "2022-12-14T12:18:11.933Z"
   },
   {
    "duration": 7,
    "start_time": "2022-12-14T12:18:13.865Z"
   },
   {
    "duration": 8,
    "start_time": "2022-12-14T12:18:14.272Z"
   },
   {
    "duration": 22,
    "start_time": "2022-12-14T12:18:15.896Z"
   },
   {
    "duration": 5,
    "start_time": "2022-12-14T12:18:17.895Z"
   },
   {
    "duration": 1432,
    "start_time": "2022-12-14T12:18:18.368Z"
   },
   {
    "duration": 1381,
    "start_time": "2022-12-14T12:18:20.816Z"
   },
   {
    "duration": 8,
    "start_time": "2022-12-14T12:18:26.343Z"
   },
   {
    "duration": 10127,
    "start_time": "2022-12-14T12:18:26.743Z"
   },
   {
    "duration": 10797,
    "start_time": "2022-12-14T12:18:51.088Z"
   },
   {
    "duration": 6,
    "start_time": "2022-12-14T12:19:07.771Z"
   },
   {
    "duration": 9,
    "start_time": "2022-12-14T12:19:24.839Z"
   },
   {
    "duration": 1029,
    "start_time": "2022-12-14T12:19:39.272Z"
   },
   {
    "duration": 3,
    "start_time": "2022-12-14T12:19:45.255Z"
   },
   {
    "duration": 260,
    "start_time": "2022-12-14T12:19:47.943Z"
   },
   {
    "duration": 78,
    "start_time": "2022-12-14T12:19:49.319Z"
   },
   {
    "duration": 4,
    "start_time": "2022-12-14T12:19:50.635Z"
   },
   {
    "duration": 9,
    "start_time": "2022-12-14T12:19:53.536Z"
   },
   {
    "duration": 11,
    "start_time": "2022-12-14T12:20:00.262Z"
   },
   {
    "duration": 5,
    "start_time": "2022-12-14T12:20:12.976Z"
   },
   {
    "duration": 16,
    "start_time": "2022-12-14T12:20:13.680Z"
   },
   {
    "duration": 4,
    "start_time": "2022-12-14T12:20:19.609Z"
   },
   {
    "duration": 639,
    "start_time": "2022-12-14T12:20:19.616Z"
   },
   {
    "duration": 22,
    "start_time": "2022-12-14T12:20:20.257Z"
   },
   {
    "duration": 58,
    "start_time": "2022-12-14T12:20:20.281Z"
   },
   {
    "duration": 31,
    "start_time": "2022-12-14T12:20:20.342Z"
   },
   {
    "duration": 38,
    "start_time": "2022-12-14T12:20:20.374Z"
   },
   {
    "duration": 13,
    "start_time": "2022-12-14T12:20:20.415Z"
   },
   {
    "duration": 23,
    "start_time": "2022-12-14T12:20:20.430Z"
   },
   {
    "duration": 227,
    "start_time": "2022-12-14T12:20:20.455Z"
   },
   {
    "duration": 127,
    "start_time": "2022-12-14T12:20:20.684Z"
   },
   {
    "duration": 247,
    "start_time": "2022-12-14T12:20:20.814Z"
   },
   {
    "duration": 36,
    "start_time": "2022-12-14T12:20:21.062Z"
   },
   {
    "duration": 17,
    "start_time": "2022-12-14T12:20:21.099Z"
   },
   {
    "duration": 22,
    "start_time": "2022-12-14T12:20:21.118Z"
   },
   {
    "duration": 136,
    "start_time": "2022-12-14T12:20:21.142Z"
   },
   {
    "duration": 35,
    "start_time": "2022-12-14T12:20:21.280Z"
   },
   {
    "duration": 95,
    "start_time": "2022-12-14T12:20:21.317Z"
   },
   {
    "duration": 3,
    "start_time": "2022-12-14T12:20:21.413Z"
   },
   {
    "duration": 15,
    "start_time": "2022-12-14T12:20:21.418Z"
   },
   {
    "duration": 12,
    "start_time": "2022-12-14T12:20:21.435Z"
   },
   {
    "duration": 18,
    "start_time": "2022-12-14T12:20:21.448Z"
   },
   {
    "duration": 35,
    "start_time": "2022-12-14T12:20:21.468Z"
   },
   {
    "duration": 193,
    "start_time": "2022-12-14T12:20:21.504Z"
   },
   {
    "duration": 3,
    "start_time": "2022-12-14T12:20:21.699Z"
   },
   {
    "duration": 713,
    "start_time": "2022-12-14T12:20:21.704Z"
   },
   {
    "duration": 828,
    "start_time": "2022-12-14T12:20:22.418Z"
   },
   {
    "duration": 662,
    "start_time": "2022-12-14T12:20:23.248Z"
   },
   {
    "duration": 643,
    "start_time": "2022-12-14T12:20:23.912Z"
   },
   {
    "duration": 477,
    "start_time": "2022-12-14T12:20:24.559Z"
   },
   {
    "duration": 7,
    "start_time": "2022-12-14T12:20:25.038Z"
   },
   {
    "duration": 813,
    "start_time": "2022-12-14T12:20:25.047Z"
   },
   {
    "duration": 788,
    "start_time": "2022-12-14T12:20:25.861Z"
   },
   {
    "duration": 3,
    "start_time": "2022-12-14T12:20:34.075Z"
   },
   {
    "duration": 7,
    "start_time": "2022-12-14T12:20:34.902Z"
   },
   {
    "duration": 7,
    "start_time": "2022-12-14T12:20:36.374Z"
   },
   {
    "duration": 24,
    "start_time": "2022-12-14T12:20:36.943Z"
   },
   {
    "duration": 4,
    "start_time": "2022-12-14T12:20:37.487Z"
   },
   {
    "duration": 946,
    "start_time": "2022-12-14T12:20:42.456Z"
   },
   {
    "duration": 1184,
    "start_time": "2022-12-14T12:20:43.712Z"
   },
   {
    "duration": 4,
    "start_time": "2022-12-14T12:20:46.398Z"
   },
   {
    "duration": 10919,
    "start_time": "2022-12-14T12:20:47.151Z"
   },
   {
    "duration": 10439,
    "start_time": "2022-12-14T12:20:58.072Z"
   },
   {
    "duration": 3,
    "start_time": "2022-12-14T12:21:14.071Z"
   },
   {
    "duration": 411,
    "start_time": "2022-12-14T12:21:15.086Z"
   },
   {
    "duration": 132,
    "start_time": "2022-12-14T12:21:16.463Z"
   },
   {
    "duration": 4,
    "start_time": "2022-12-14T12:21:17.512Z"
   },
   {
    "duration": 11,
    "start_time": "2022-12-14T12:21:19.896Z"
   },
   {
    "duration": 14,
    "start_time": "2022-12-14T12:21:25.105Z"
   },
   {
    "duration": 162,
    "start_time": "2022-12-14T12:21:40.535Z"
   },
   {
    "duration": 139,
    "start_time": "2022-12-14T12:21:41.558Z"
   },
   {
    "duration": 3,
    "start_time": "2022-12-14T12:21:45.215Z"
   },
   {
    "duration": 39,
    "start_time": "2022-12-14T12:21:46.967Z"
   },
   {
    "duration": 26,
    "start_time": "2022-12-14T12:21:47.482Z"
   },
   {
    "duration": 3,
    "start_time": "2022-12-14T12:21:47.974Z"
   },
   {
    "duration": 10,
    "start_time": "2022-12-14T12:21:48.783Z"
   },
   {
    "duration": 4,
    "start_time": "2022-12-14T12:21:55.036Z"
   },
   {
    "duration": 905,
    "start_time": "2022-12-14T12:21:55.598Z"
   },
   {
    "duration": 1392,
    "start_time": "2022-12-14T12:21:57.207Z"
   },
   {
    "duration": 3,
    "start_time": "2022-12-14T12:22:03.096Z"
   },
   {
    "duration": 73,
    "start_time": "2022-12-14T12:22:03.833Z"
   },
   {
    "duration": 71,
    "start_time": "2022-12-14T12:22:04.434Z"
   },
   {
    "duration": 13,
    "start_time": "2022-12-14T12:22:09.118Z"
   },
   {
    "duration": 3,
    "start_time": "2022-12-14T12:22:11.921Z"
   },
   {
    "duration": 7,
    "start_time": "2022-12-14T12:22:13.998Z"
   },
   {
    "duration": 17,
    "start_time": "2022-12-14T12:22:14.633Z"
   },
   {
    "duration": 5,
    "start_time": "2022-12-14T12:22:16.363Z"
   },
   {
    "duration": 671,
    "start_time": "2022-12-14T12:22:16.633Z"
   },
   {
    "duration": 977,
    "start_time": "2022-12-14T12:22:18.222Z"
   },
   {
    "duration": 2,
    "start_time": "2022-12-14T12:22:23.608Z"
   },
   {
    "duration": 184,
    "start_time": "2022-12-14T12:22:24.316Z"
   },
   {
    "duration": 124,
    "start_time": "2022-12-14T12:22:25.078Z"
   },
   {
    "duration": 3,
    "start_time": "2022-12-14T12:22:26.958Z"
   },
   {
    "duration": 10,
    "start_time": "2022-12-14T12:22:27.870Z"
   },
   {
    "duration": 4,
    "start_time": "2022-12-14T12:22:35.535Z"
   },
   {
    "duration": 597665,
    "start_time": "2022-12-14T12:22:36.095Z"
   },
   {
    "duration": 608908,
    "start_time": "2022-12-14T12:32:33.762Z"
   },
   {
    "duration": 2,
    "start_time": "2022-12-14T12:42:50.725Z"
   },
   {
    "duration": 6656,
    "start_time": "2022-12-14T12:42:51.926Z"
   },
   {
    "duration": 7164,
    "start_time": "2022-12-14T12:43:00.502Z"
   },
   {
    "duration": 3,
    "start_time": "2022-12-14T12:43:08.677Z"
   },
   {
    "duration": 9,
    "start_time": "2022-12-14T12:43:10.405Z"
   },
   {
    "duration": 8,
    "start_time": "2022-12-14T12:43:12.845Z"
   },
   {
    "duration": 2,
    "start_time": "2022-12-14T12:43:16.501Z"
   },
   {
    "duration": 6861,
    "start_time": "2022-12-14T12:43:17.197Z"
   },
   {
    "duration": 7486,
    "start_time": "2022-12-14T12:43:24.060Z"
   },
   {
    "duration": 3,
    "start_time": "2022-12-14T12:43:31.549Z"
   },
   {
    "duration": 13,
    "start_time": "2022-12-14T12:43:31.553Z"
   },
   {
    "duration": 9,
    "start_time": "2022-12-14T12:44:08.893Z"
   },
   {
    "duration": 7,
    "start_time": "2022-12-14T12:45:48.667Z"
   },
   {
    "duration": 18,
    "start_time": "2022-12-14T12:45:49.587Z"
   },
   {
    "duration": 8,
    "start_time": "2022-12-14T12:45:54.708Z"
   },
   {
    "duration": 6754,
    "start_time": "2022-12-14T12:45:57.356Z"
   },
   {
    "duration": 6987,
    "start_time": "2022-12-14T12:46:06.140Z"
   },
   {
    "duration": 3,
    "start_time": "2022-12-14T12:46:31.652Z"
   },
   {
    "duration": 8,
    "start_time": "2022-12-14T12:46:32.963Z"
   },
   {
    "duration": 14,
    "start_time": "2022-12-14T12:49:33.232Z"
   },
   {
    "duration": 10,
    "start_time": "2022-12-14T12:49:39.864Z"
   },
   {
    "duration": 12,
    "start_time": "2022-12-14T12:49:46.408Z"
   },
   {
    "duration": 9,
    "start_time": "2022-12-14T12:49:49.889Z"
   },
   {
    "duration": 8,
    "start_time": "2022-12-14T12:50:03.825Z"
   },
   {
    "duration": 8,
    "start_time": "2022-12-14T12:50:12.337Z"
   },
   {
    "duration": 9,
    "start_time": "2022-12-14T12:50:15.864Z"
   },
   {
    "duration": 1285,
    "start_time": "2022-12-14T14:02:08.609Z"
   },
   {
    "duration": 669,
    "start_time": "2022-12-14T14:02:10.709Z"
   },
   {
    "duration": 24,
    "start_time": "2022-12-14T14:02:12.393Z"
   },
   {
    "duration": 21,
    "start_time": "2022-12-14T14:02:13.769Z"
   },
   {
    "duration": 20,
    "start_time": "2022-12-14T14:02:14.049Z"
   },
   {
    "duration": 18,
    "start_time": "2022-12-14T14:02:14.544Z"
   },
   {
    "duration": 14,
    "start_time": "2022-12-14T14:02:16.377Z"
   },
   {
    "duration": 18,
    "start_time": "2022-12-14T14:02:16.576Z"
   },
   {
    "duration": 238,
    "start_time": "2022-12-14T14:02:16.769Z"
   },
   {
    "duration": 138,
    "start_time": "2022-12-14T14:02:18.857Z"
   },
   {
    "duration": 253,
    "start_time": "2022-12-14T14:02:19.050Z"
   },
   {
    "duration": 56,
    "start_time": "2022-12-14T14:02:19.305Z"
   },
   {
    "duration": 14,
    "start_time": "2022-12-14T14:02:19.455Z"
   },
   {
    "duration": 20,
    "start_time": "2022-12-14T14:02:19.656Z"
   },
   {
    "duration": 111,
    "start_time": "2022-12-14T14:02:23.415Z"
   },
   {
    "duration": 26,
    "start_time": "2022-12-14T14:02:23.943Z"
   },
   {
    "duration": 91,
    "start_time": "2022-12-14T14:02:26.215Z"
   },
   {
    "duration": 3,
    "start_time": "2022-12-14T14:02:29.223Z"
   },
   {
    "duration": 6,
    "start_time": "2022-12-14T14:02:29.567Z"
   },
   {
    "duration": 8,
    "start_time": "2022-12-14T14:02:30.844Z"
   },
   {
    "duration": 19,
    "start_time": "2022-12-14T14:02:35.770Z"
   },
   {
    "duration": 16,
    "start_time": "2022-12-14T14:02:39.455Z"
   },
   {
    "duration": 182,
    "start_time": "2022-12-14T14:02:41.600Z"
   },
   {
    "duration": 3,
    "start_time": "2022-12-14T14:02:45.084Z"
   },
   {
    "duration": 913,
    "start_time": "2022-12-14T14:02:45.400Z"
   },
   {
    "duration": 699,
    "start_time": "2022-12-14T14:02:48.423Z"
   },
   {
    "duration": 804,
    "start_time": "2022-12-14T14:02:57.519Z"
   },
   {
    "duration": 554,
    "start_time": "2022-12-14T14:03:01.617Z"
   },
   {
    "duration": 602,
    "start_time": "2022-12-14T14:03:04.144Z"
   },
   {
    "duration": 7,
    "start_time": "2022-12-14T14:03:07.664Z"
   },
   {
    "duration": 672,
    "start_time": "2022-12-14T14:03:09.440Z"
   },
   {
    "duration": 791,
    "start_time": "2022-12-14T14:03:12.902Z"
   },
   {
    "duration": 18,
    "start_time": "2022-12-14T14:03:16.647Z"
   },
   {
    "duration": 3,
    "start_time": "2022-12-14T14:03:18.296Z"
   },
   {
    "duration": 6,
    "start_time": "2022-12-14T14:03:19.727Z"
   },
   {
    "duration": 7,
    "start_time": "2022-12-14T14:03:21.711Z"
   },
   {
    "duration": 18,
    "start_time": "2022-12-14T14:03:22.510Z"
   },
   {
    "duration": 4,
    "start_time": "2022-12-14T14:03:23.238Z"
   },
   {
    "duration": 1323,
    "start_time": "2022-12-14T14:03:24.983Z"
   },
   {
    "duration": 1513,
    "start_time": "2022-12-14T14:03:26.991Z"
   },
   {
    "duration": 4,
    "start_time": "2022-12-14T14:03:34.522Z"
   },
   {
    "duration": 9902,
    "start_time": "2022-12-14T14:03:34.934Z"
   },
   {
    "duration": 9745,
    "start_time": "2022-12-14T14:03:48.670Z"
   },
   {
    "duration": 3,
    "start_time": "2022-12-14T14:04:21.409Z"
   },
   {
    "duration": 1389,
    "start_time": "2022-12-14T14:04:22.310Z"
   },
   {
    "duration": 1155,
    "start_time": "2022-12-14T14:04:25.544Z"
   },
   {
    "duration": 4,
    "start_time": "2022-12-14T14:05:03.759Z"
   },
   {
    "duration": 1342,
    "start_time": "2022-12-14T14:05:04.253Z"
   },
   {
    "duration": 1232,
    "start_time": "2022-12-14T14:05:06.078Z"
   },
   {
    "duration": 5,
    "start_time": "2022-12-14T14:05:12.280Z"
   },
   {
    "duration": 1196,
    "start_time": "2022-12-14T14:05:12.510Z"
   },
   {
    "duration": 1198,
    "start_time": "2022-12-14T14:05:14.701Z"
   },
   {
    "duration": 3,
    "start_time": "2022-12-14T14:05:25.862Z"
   },
   {
    "duration": 9932,
    "start_time": "2022-12-14T14:05:26.229Z"
   },
   {
    "duration": 9863,
    "start_time": "2022-12-14T14:05:36.164Z"
   },
   {
    "duration": 4,
    "start_time": "2022-12-14T14:05:47.493Z"
   },
   {
    "duration": 1069,
    "start_time": "2022-12-14T14:05:48.141Z"
   },
   {
    "duration": 1291,
    "start_time": "2022-12-14T14:05:49.909Z"
   },
   {
    "duration": 1303,
    "start_time": "2022-12-14T14:06:02.892Z"
   },
   {
    "duration": 660,
    "start_time": "2022-12-14T14:06:04.197Z"
   },
   {
    "duration": 45,
    "start_time": "2022-12-14T14:06:04.859Z"
   },
   {
    "duration": 21,
    "start_time": "2022-12-14T14:06:04.907Z"
   },
   {
    "duration": 21,
    "start_time": "2022-12-14T14:06:04.930Z"
   },
   {
    "duration": 45,
    "start_time": "2022-12-14T14:06:04.953Z"
   },
   {
    "duration": 14,
    "start_time": "2022-12-14T14:06:04.999Z"
   },
   {
    "duration": 23,
    "start_time": "2022-12-14T14:06:05.014Z"
   },
   {
    "duration": 264,
    "start_time": "2022-12-14T14:06:05.038Z"
   },
   {
    "duration": 222,
    "start_time": "2022-12-14T14:06:05.304Z"
   },
   {
    "duration": 248,
    "start_time": "2022-12-14T14:06:05.528Z"
   },
   {
    "duration": 63,
    "start_time": "2022-12-14T14:06:05.778Z"
   },
   {
    "duration": 16,
    "start_time": "2022-12-14T14:06:05.842Z"
   },
   {
    "duration": 65,
    "start_time": "2022-12-14T14:06:05.860Z"
   },
   {
    "duration": 120,
    "start_time": "2022-12-14T14:06:05.926Z"
   },
   {
    "duration": 27,
    "start_time": "2022-12-14T14:06:06.047Z"
   },
   {
    "duration": 106,
    "start_time": "2022-12-14T14:06:06.075Z"
   },
   {
    "duration": 13,
    "start_time": "2022-12-14T14:06:06.183Z"
   },
   {
    "duration": 22,
    "start_time": "2022-12-14T14:06:06.198Z"
   },
   {
    "duration": 44,
    "start_time": "2022-12-14T14:06:06.222Z"
   },
   {
    "duration": 44,
    "start_time": "2022-12-14T14:06:06.268Z"
   },
   {
    "duration": 20,
    "start_time": "2022-12-14T14:06:06.314Z"
   },
   {
    "duration": 200,
    "start_time": "2022-12-14T14:06:06.336Z"
   },
   {
    "duration": 3,
    "start_time": "2022-12-14T14:06:06.538Z"
   },
   {
    "duration": 791,
    "start_time": "2022-12-14T14:06:06.543Z"
   },
   {
    "duration": 689,
    "start_time": "2022-12-14T14:06:07.335Z"
   },
   {
    "duration": 829,
    "start_time": "2022-12-14T14:06:08.026Z"
   },
   {
    "duration": 514,
    "start_time": "2022-12-14T14:06:08.858Z"
   },
   {
    "duration": 583,
    "start_time": "2022-12-14T14:06:09.374Z"
   },
   {
    "duration": 7,
    "start_time": "2022-12-14T14:06:09.959Z"
   },
   {
    "duration": 736,
    "start_time": "2022-12-14T14:06:09.968Z"
   },
   {
    "duration": 814,
    "start_time": "2022-12-14T14:06:10.706Z"
   },
   {
    "duration": 18,
    "start_time": "2022-12-14T14:06:11.522Z"
   },
   {
    "duration": 3,
    "start_time": "2022-12-14T14:06:11.542Z"
   },
   {
    "duration": 9,
    "start_time": "2022-12-14T14:06:11.546Z"
   },
   {
    "duration": 11,
    "start_time": "2022-12-14T14:06:11.556Z"
   },
   {
    "duration": 39,
    "start_time": "2022-12-14T14:06:11.568Z"
   },
   {
    "duration": 5,
    "start_time": "2022-12-14T14:06:14.672Z"
   },
   {
    "duration": 1202,
    "start_time": "2022-12-14T14:06:16.496Z"
   },
   {
    "duration": 1380,
    "start_time": "2022-12-14T14:06:18.416Z"
   },
   {
    "duration": 4,
    "start_time": "2022-12-14T14:06:22.601Z"
   },
   {
    "duration": 9593,
    "start_time": "2022-12-14T14:06:22.936Z"
   },
   {
    "duration": 9885,
    "start_time": "2022-12-14T14:06:34.417Z"
   },
   {
    "duration": 4,
    "start_time": "2022-12-14T14:06:49.596Z"
   },
   {
    "duration": 9636,
    "start_time": "2022-12-14T14:06:49.904Z"
   },
   {
    "duration": 10037,
    "start_time": "2022-12-14T14:06:59.542Z"
   },
   {
    "duration": 4,
    "start_time": "2022-12-14T14:07:19.575Z"
   },
   {
    "duration": 9810,
    "start_time": "2022-12-14T14:07:20.048Z"
   },
   {
    "duration": 10113,
    "start_time": "2022-12-14T14:07:29.860Z"
   },
   {
    "duration": 4,
    "start_time": "2022-12-14T14:07:48.624Z"
   },
   {
    "duration": 584748,
    "start_time": "2022-12-14T14:07:49.431Z"
   },
   {
    "duration": 612809,
    "start_time": "2022-12-14T14:17:34.181Z"
   },
   {
    "duration": 3,
    "start_time": "2022-12-14T14:28:20.200Z"
   },
   {
    "duration": 326,
    "start_time": "2022-12-14T14:28:24.166Z"
   },
   {
    "duration": 408,
    "start_time": "2022-12-14T14:28:28.949Z"
   },
   {
    "duration": 3,
    "start_time": "2022-12-14T14:28:33.213Z"
   },
   {
    "duration": 8,
    "start_time": "2022-12-14T14:28:34.549Z"
   },
   {
    "duration": 9,
    "start_time": "2022-12-14T14:28:36.949Z"
   },
   {
    "duration": 4,
    "start_time": "2022-12-14T14:28:51.890Z"
   },
   {
    "duration": 119,
    "start_time": "2022-12-14T14:28:55.485Z"
   },
   {
    "duration": 368,
    "start_time": "2022-12-14T14:28:57.957Z"
   },
   {
    "duration": 3,
    "start_time": "2022-12-14T14:29:08.938Z"
   },
   {
    "duration": 185,
    "start_time": "2022-12-14T14:29:11.715Z"
   },
   {
    "duration": 162,
    "start_time": "2022-12-14T14:29:12.635Z"
   },
   {
    "duration": 3,
    "start_time": "2022-12-14T14:29:13.763Z"
   },
   {
    "duration": 8,
    "start_time": "2022-12-14T14:29:16.875Z"
   },
   {
    "duration": 331,
    "start_time": "2022-12-14T14:31:30.305Z"
   },
   {
    "duration": 153,
    "start_time": "2022-12-14T14:31:38.145Z"
   },
   {
    "duration": 2,
    "start_time": "2022-12-14T14:31:58.884Z"
   },
   {
    "duration": 235,
    "start_time": "2022-12-14T14:32:00.163Z"
   },
   {
    "duration": 211,
    "start_time": "2022-12-14T14:32:01.187Z"
   },
   {
    "duration": 3,
    "start_time": "2022-12-14T14:32:02.276Z"
   },
   {
    "duration": 8,
    "start_time": "2022-12-14T14:32:04.572Z"
   },
   {
    "duration": 125,
    "start_time": "2022-12-14T14:34:24.577Z"
   },
   {
    "duration": 89,
    "start_time": "2022-12-14T14:34:30.017Z"
   },
   {
    "duration": 4,
    "start_time": "2022-12-14T14:34:33.160Z"
   },
   {
    "duration": 3,
    "start_time": "2022-12-14T14:34:44.418Z"
   },
   {
    "duration": 174,
    "start_time": "2022-12-14T14:34:45.227Z"
   },
   {
    "duration": 136,
    "start_time": "2022-12-14T14:34:45.660Z"
   },
   {
    "duration": 3,
    "start_time": "2022-12-14T14:34:47.771Z"
   },
   {
    "duration": 9,
    "start_time": "2022-12-14T14:34:48.915Z"
   },
   {
    "duration": 5,
    "start_time": "2022-12-14T14:35:55.824Z"
   },
   {
    "duration": 38838,
    "start_time": "2022-12-14T14:36:55.151Z"
   },
   {
    "duration": 9576,
    "start_time": "2022-12-14T14:37:51.177Z"
   },
   {
    "duration": 10038,
    "start_time": "2022-12-14T14:38:04.922Z"
   },
   {
    "duration": 10178,
    "start_time": "2022-12-14T14:38:25.512Z"
   },
   {
    "duration": 9816,
    "start_time": "2022-12-14T14:38:46.312Z"
   },
   {
    "duration": 5,
    "start_time": "2022-12-14T17:39:48.616Z"
   },
   {
    "duration": 5,
    "start_time": "2022-12-14T17:39:51.987Z"
   },
   {
    "duration": 33,
    "start_time": "2022-12-14T17:40:04.117Z"
   },
   {
    "duration": 27,
    "start_time": "2022-12-14T17:40:20.354Z"
   },
   {
    "duration": 12,
    "start_time": "2022-12-14T17:41:41.522Z"
   },
   {
    "duration": 44,
    "start_time": "2022-12-14T19:43:12.308Z"
   },
   {
    "duration": 1552,
    "start_time": "2022-12-14T19:43:15.522Z"
   },
   {
    "duration": 2517,
    "start_time": "2022-12-14T19:43:17.075Z"
   },
   {
    "duration": 22,
    "start_time": "2022-12-14T19:43:19.594Z"
   },
   {
    "duration": 18,
    "start_time": "2022-12-14T19:43:19.618Z"
   },
   {
    "duration": 24,
    "start_time": "2022-12-14T19:43:19.638Z"
   },
   {
    "duration": 17,
    "start_time": "2022-12-14T19:43:19.663Z"
   },
   {
    "duration": 19,
    "start_time": "2022-12-14T19:43:19.681Z"
   },
   {
    "duration": 22,
    "start_time": "2022-12-14T19:43:19.701Z"
   },
   {
    "duration": 225,
    "start_time": "2022-12-14T19:43:19.725Z"
   },
   {
    "duration": 120,
    "start_time": "2022-12-14T19:43:19.951Z"
   },
   {
    "duration": 226,
    "start_time": "2022-12-14T19:43:20.073Z"
   },
   {
    "duration": 57,
    "start_time": "2022-12-14T19:43:20.300Z"
   },
   {
    "duration": 12,
    "start_time": "2022-12-14T19:43:20.359Z"
   },
   {
    "duration": 18,
    "start_time": "2022-12-14T19:43:20.373Z"
   },
   {
    "duration": 122,
    "start_time": "2022-12-14T19:43:20.393Z"
   },
   {
    "duration": 25,
    "start_time": "2022-12-14T19:43:20.517Z"
   },
   {
    "duration": 102,
    "start_time": "2022-12-14T19:43:20.544Z"
   },
   {
    "duration": 3,
    "start_time": "2022-12-14T19:43:20.647Z"
   },
   {
    "duration": 13,
    "start_time": "2022-12-14T19:43:20.651Z"
   },
   {
    "duration": 13,
    "start_time": "2022-12-14T19:43:20.665Z"
   },
   {
    "duration": 25,
    "start_time": "2022-12-14T19:43:23.464Z"
   },
   {
    "duration": 77,
    "start_time": "2022-12-14T20:03:52.584Z"
   },
   {
    "duration": 16,
    "start_time": "2022-12-14T20:04:04.888Z"
   },
   {
    "duration": 3,
    "start_time": "2022-12-14T20:07:06.689Z"
   },
   {
    "duration": 661,
    "start_time": "2022-12-14T20:07:06.694Z"
   },
   {
    "duration": 18,
    "start_time": "2022-12-14T20:07:07.357Z"
   },
   {
    "duration": 22,
    "start_time": "2022-12-14T20:07:07.377Z"
   },
   {
    "duration": 28,
    "start_time": "2022-12-14T20:07:07.401Z"
   },
   {
    "duration": 18,
    "start_time": "2022-12-14T20:07:07.430Z"
   },
   {
    "duration": 20,
    "start_time": "2022-12-14T20:07:07.450Z"
   },
   {
    "duration": 16,
    "start_time": "2022-12-14T20:07:07.472Z"
   },
   {
    "duration": 225,
    "start_time": "2022-12-14T20:07:07.489Z"
   },
   {
    "duration": 116,
    "start_time": "2022-12-14T20:07:07.716Z"
   },
   {
    "duration": 279,
    "start_time": "2022-12-14T20:07:07.834Z"
   },
   {
    "duration": 19,
    "start_time": "2022-12-14T20:07:08.114Z"
   },
   {
    "duration": 12,
    "start_time": "2022-12-14T20:07:08.135Z"
   },
   {
    "duration": 19,
    "start_time": "2022-12-14T20:07:08.149Z"
   },
   {
    "duration": 129,
    "start_time": "2022-12-14T20:07:08.170Z"
   },
   {
    "duration": 29,
    "start_time": "2022-12-14T20:07:08.301Z"
   },
   {
    "duration": 92,
    "start_time": "2022-12-14T20:07:08.332Z"
   },
   {
    "duration": 3,
    "start_time": "2022-12-14T20:07:08.425Z"
   },
   {
    "duration": 13,
    "start_time": "2022-12-14T20:07:08.430Z"
   },
   {
    "duration": 8,
    "start_time": "2022-12-14T20:07:08.444Z"
   },
   {
    "duration": 14,
    "start_time": "2022-12-14T20:07:12.340Z"
   },
   {
    "duration": 40,
    "start_time": "2022-12-14T20:07:23.155Z"
   },
   {
    "duration": 13,
    "start_time": "2022-12-14T20:07:37.440Z"
   },
   {
    "duration": 13,
    "start_time": "2022-12-14T20:08:38.333Z"
   },
   {
    "duration": 15,
    "start_time": "2022-12-14T20:10:47.662Z"
   },
   {
    "duration": 13,
    "start_time": "2022-12-14T20:13:43.036Z"
   },
   {
    "duration": 13,
    "start_time": "2022-12-14T20:14:22.124Z"
   },
   {
    "duration": 40,
    "start_time": "2022-12-14T20:14:53.663Z"
   },
   {
    "duration": 685,
    "start_time": "2022-12-14T20:15:09.656Z"
   },
   {
    "duration": 15,
    "start_time": "2022-12-14T20:15:20.454Z"
   },
   {
    "duration": 14,
    "start_time": "2022-12-14T20:15:27.026Z"
   },
   {
    "duration": 13,
    "start_time": "2022-12-14T20:15:47.050Z"
   },
   {
    "duration": 26,
    "start_time": "2022-12-14T20:15:55.403Z"
   },
   {
    "duration": 13,
    "start_time": "2022-12-14T20:16:27.574Z"
   },
   {
    "duration": 14,
    "start_time": "2022-12-14T20:16:35.422Z"
   },
   {
    "duration": 19,
    "start_time": "2022-12-14T20:16:48.980Z"
   },
   {
    "duration": 9,
    "start_time": "2022-12-14T20:17:10.075Z"
   },
   {
    "duration": 21,
    "start_time": "2022-12-14T20:17:19.856Z"
   },
   {
    "duration": 27,
    "start_time": "2022-12-14T20:18:08.371Z"
   },
   {
    "duration": 25,
    "start_time": "2022-12-14T20:18:25.305Z"
   },
   {
    "duration": 20,
    "start_time": "2022-12-14T20:18:29.283Z"
   },
   {
    "duration": 20,
    "start_time": "2022-12-14T20:18:44.870Z"
   },
   {
    "duration": 18,
    "start_time": "2022-12-14T20:18:48.204Z"
   },
   {
    "duration": 19,
    "start_time": "2022-12-14T20:19:00.279Z"
   },
   {
    "duration": 29,
    "start_time": "2022-12-14T20:19:32.465Z"
   },
   {
    "duration": 33,
    "start_time": "2022-12-14T20:19:54.796Z"
   },
   {
    "duration": 17,
    "start_time": "2022-12-14T20:21:02.295Z"
   },
   {
    "duration": 12,
    "start_time": "2022-12-14T20:22:46.867Z"
   },
   {
    "duration": 14,
    "start_time": "2022-12-14T20:22:56.075Z"
   },
   {
    "duration": 11,
    "start_time": "2022-12-14T20:23:10.896Z"
   },
   {
    "duration": 12,
    "start_time": "2022-12-14T20:23:31.964Z"
   },
   {
    "duration": 15,
    "start_time": "2022-12-14T20:23:38.049Z"
   },
   {
    "duration": 5,
    "start_time": "2022-12-14T20:23:57.375Z"
   },
   {
    "duration": 11,
    "start_time": "2022-12-14T20:25:11.722Z"
   },
   {
    "duration": 11,
    "start_time": "2022-12-14T20:25:31.196Z"
   },
   {
    "duration": 44,
    "start_time": "2022-12-14T20:25:42.428Z"
   },
   {
    "duration": 11,
    "start_time": "2022-12-14T20:25:45.708Z"
   },
   {
    "duration": 10,
    "start_time": "2022-12-14T20:25:53.044Z"
   },
   {
    "duration": 9963,
    "start_time": "2022-12-14T20:26:00.303Z"
   },
   {
    "duration": 10,
    "start_time": "2022-12-14T20:27:03.931Z"
   },
   {
    "duration": 20,
    "start_time": "2022-12-14T20:27:11.931Z"
   },
   {
    "duration": 24,
    "start_time": "2022-12-14T20:27:16.935Z"
   },
   {
    "duration": 6,
    "start_time": "2022-12-14T20:27:22.485Z"
   },
   {
    "duration": 7,
    "start_time": "2022-12-14T20:27:43.810Z"
   },
   {
    "duration": 5,
    "start_time": "2022-12-14T20:28:09.566Z"
   },
   {
    "duration": 5,
    "start_time": "2022-12-14T20:28:13.871Z"
   },
   {
    "duration": 12,
    "start_time": "2022-12-14T20:28:25.976Z"
   },
   {
    "duration": 12,
    "start_time": "2022-12-14T20:29:37.280Z"
   },
   {
    "duration": 20,
    "start_time": "2022-12-14T20:30:09.553Z"
   },
   {
    "duration": 13,
    "start_time": "2022-12-14T20:31:26.928Z"
   },
   {
    "duration": 655,
    "start_time": "2022-12-14T20:32:14.294Z"
   },
   {
    "duration": 13,
    "start_time": "2022-12-14T20:32:26.464Z"
   },
   {
    "duration": 19,
    "start_time": "2022-12-14T20:32:31.649Z"
   },
   {
    "duration": 15,
    "start_time": "2022-12-14T20:33:10.303Z"
   },
   {
    "duration": 14,
    "start_time": "2022-12-14T20:33:15.515Z"
   },
   {
    "duration": 12,
    "start_time": "2022-12-14T20:33:25.922Z"
   },
   {
    "duration": 10,
    "start_time": "2022-12-14T20:38:15.154Z"
   },
   {
    "duration": 4,
    "start_time": "2022-12-14T20:38:34.373Z"
   },
   {
    "duration": 47,
    "start_time": "2022-12-14T20:38:40.784Z"
   },
   {
    "duration": 17,
    "start_time": "2022-12-14T20:38:45.915Z"
   },
   {
    "duration": 6,
    "start_time": "2022-12-14T20:38:52.910Z"
   },
   {
    "duration": 7,
    "start_time": "2022-12-14T20:39:02.470Z"
   },
   {
    "duration": 7,
    "start_time": "2022-12-14T20:39:17.673Z"
   },
   {
    "duration": 8,
    "start_time": "2022-12-14T20:39:23.350Z"
   },
   {
    "duration": 5,
    "start_time": "2022-12-14T20:39:40.980Z"
   },
   {
    "duration": 5,
    "start_time": "2022-12-14T20:39:43.729Z"
   },
   {
    "duration": 5,
    "start_time": "2022-12-14T20:39:48.253Z"
   },
   {
    "duration": 11,
    "start_time": "2022-12-14T20:39:52.428Z"
   },
   {
    "duration": 26,
    "start_time": "2022-12-14T20:40:03.006Z"
   },
   {
    "duration": 25,
    "start_time": "2022-12-14T20:40:21.075Z"
   },
   {
    "duration": 11,
    "start_time": "2022-12-14T20:40:23.770Z"
   },
   {
    "duration": 20,
    "start_time": "2022-12-14T20:43:15.461Z"
   },
   {
    "duration": 18,
    "start_time": "2022-12-14T20:43:23.859Z"
   },
   {
    "duration": 22,
    "start_time": "2022-12-14T20:43:31.780Z"
   },
   {
    "duration": 19,
    "start_time": "2022-12-14T20:43:38.543Z"
   },
   {
    "duration": 17,
    "start_time": "2022-12-14T20:43:43.033Z"
   },
   {
    "duration": 21,
    "start_time": "2022-12-14T20:43:47.169Z"
   },
   {
    "duration": 18,
    "start_time": "2022-12-14T20:43:51.582Z"
   },
   {
    "duration": 12,
    "start_time": "2022-12-14T20:46:56.692Z"
   },
   {
    "duration": 47,
    "start_time": "2022-12-14T20:47:09.374Z"
   },
   {
    "duration": 14,
    "start_time": "2022-12-14T20:47:16.272Z"
   },
   {
    "duration": 14,
    "start_time": "2022-12-14T20:47:24.793Z"
   },
   {
    "duration": 21,
    "start_time": "2022-12-14T20:47:34.836Z"
   },
   {
    "duration": 10,
    "start_time": "2022-12-14T20:47:37.709Z"
   },
   {
    "duration": 11,
    "start_time": "2022-12-14T20:47:58.912Z"
   },
   {
    "duration": 27,
    "start_time": "2022-12-14T20:48:06.255Z"
   },
   {
    "duration": 41,
    "start_time": "2022-12-14T20:49:02.125Z"
   },
   {
    "duration": 40,
    "start_time": "2022-12-14T20:49:14.794Z"
   },
   {
    "duration": 13,
    "start_time": "2022-12-14T20:49:21.413Z"
   },
   {
    "duration": 15,
    "start_time": "2022-12-14T20:49:26.570Z"
   },
   {
    "duration": 34,
    "start_time": "2022-12-14T20:50:24.418Z"
   },
   {
    "duration": 15,
    "start_time": "2022-12-14T20:50:30.788Z"
   },
   {
    "duration": 14,
    "start_time": "2022-12-14T20:50:39.953Z"
   },
   {
    "duration": 14,
    "start_time": "2022-12-14T20:50:43.195Z"
   },
   {
    "duration": 14,
    "start_time": "2022-12-14T20:50:47.445Z"
   },
   {
    "duration": 13,
    "start_time": "2022-12-14T20:50:52.426Z"
   },
   {
    "duration": 16,
    "start_time": "2022-12-14T20:50:55.620Z"
   },
   {
    "duration": 16,
    "start_time": "2022-12-14T20:50:58.654Z"
   },
   {
    "duration": 24,
    "start_time": "2022-12-14T20:51:12.320Z"
   },
   {
    "duration": 24,
    "start_time": "2022-12-14T20:51:28.927Z"
   },
   {
    "duration": 24,
    "start_time": "2022-12-14T20:53:22.738Z"
   },
   {
    "duration": 4,
    "start_time": "2022-12-14T20:53:26.566Z"
   },
   {
    "duration": 665,
    "start_time": "2022-12-14T20:53:26.573Z"
   },
   {
    "duration": 18,
    "start_time": "2022-12-14T20:53:27.240Z"
   },
   {
    "duration": 28,
    "start_time": "2022-12-14T20:53:27.259Z"
   },
   {
    "duration": 31,
    "start_time": "2022-12-14T20:53:27.289Z"
   },
   {
    "duration": 34,
    "start_time": "2022-12-14T20:53:27.321Z"
   },
   {
    "duration": 11,
    "start_time": "2022-12-14T20:53:27.356Z"
   },
   {
    "duration": 17,
    "start_time": "2022-12-14T20:53:27.369Z"
   },
   {
    "duration": 206,
    "start_time": "2022-12-14T20:53:27.388Z"
   },
   {
    "duration": 122,
    "start_time": "2022-12-14T20:53:27.595Z"
   },
   {
    "duration": 225,
    "start_time": "2022-12-14T20:53:27.721Z"
   },
   {
    "duration": 18,
    "start_time": "2022-12-14T20:53:27.948Z"
   },
   {
    "duration": 15,
    "start_time": "2022-12-14T20:53:27.967Z"
   },
   {
    "duration": 18,
    "start_time": "2022-12-14T20:53:27.983Z"
   },
   {
    "duration": 107,
    "start_time": "2022-12-14T20:53:28.021Z"
   },
   {
    "duration": 24,
    "start_time": "2022-12-14T20:53:28.129Z"
   },
   {
    "duration": 95,
    "start_time": "2022-12-14T20:53:28.154Z"
   },
   {
    "duration": 3,
    "start_time": "2022-12-14T20:53:28.250Z"
   },
   {
    "duration": 13,
    "start_time": "2022-12-14T20:53:28.255Z"
   },
   {
    "duration": 10,
    "start_time": "2022-12-14T20:53:28.269Z"
   },
   {
    "duration": 22,
    "start_time": "2022-12-14T20:53:32.275Z"
   },
   {
    "duration": 26,
    "start_time": "2022-12-14T20:53:41.859Z"
   },
   {
    "duration": 20,
    "start_time": "2022-12-14T20:53:47.296Z"
   },
   {
    "duration": 27,
    "start_time": "2022-12-14T20:53:49.897Z"
   },
   {
    "duration": 23,
    "start_time": "2022-12-14T20:54:16.813Z"
   },
   {
    "duration": 14,
    "start_time": "2022-12-14T20:55:53.488Z"
   },
   {
    "duration": 24,
    "start_time": "2022-12-14T21:05:18.794Z"
   },
   {
    "duration": 25,
    "start_time": "2022-12-14T21:05:29.830Z"
   },
   {
    "duration": 4,
    "start_time": "2022-12-14T21:13:03.036Z"
   },
   {
    "duration": 4,
    "start_time": "2022-12-14T21:32:30.627Z"
   },
   {
    "duration": 735,
    "start_time": "2022-12-14T21:32:30.632Z"
   },
   {
    "duration": 19,
    "start_time": "2022-12-14T21:32:31.369Z"
   },
   {
    "duration": 110,
    "start_time": "2022-12-14T21:32:31.389Z"
   },
   {
    "duration": 44,
    "start_time": "2022-12-14T21:32:31.502Z"
   },
   {
    "duration": 21,
    "start_time": "2022-12-14T21:32:31.548Z"
   },
   {
    "duration": 38,
    "start_time": "2022-12-14T21:32:31.570Z"
   },
   {
    "duration": 38,
    "start_time": "2022-12-14T21:32:31.610Z"
   },
   {
    "duration": 218,
    "start_time": "2022-12-14T21:32:31.650Z"
   },
   {
    "duration": 123,
    "start_time": "2022-12-14T21:32:31.870Z"
   },
   {
    "duration": 237,
    "start_time": "2022-12-14T21:32:31.995Z"
   },
   {
    "duration": 20,
    "start_time": "2022-12-14T21:32:32.234Z"
   },
   {
    "duration": 15,
    "start_time": "2022-12-14T21:32:32.255Z"
   },
   {
    "duration": 53,
    "start_time": "2022-12-14T21:32:32.271Z"
   },
   {
    "duration": 160,
    "start_time": "2022-12-14T21:32:32.325Z"
   },
   {
    "duration": 25,
    "start_time": "2022-12-14T21:32:32.486Z"
   },
   {
    "duration": 91,
    "start_time": "2022-12-14T21:32:32.512Z"
   },
   {
    "duration": 3,
    "start_time": "2022-12-14T21:32:32.605Z"
   },
   {
    "duration": 15,
    "start_time": "2022-12-14T21:32:32.609Z"
   },
   {
    "duration": 9,
    "start_time": "2022-12-14T21:32:32.626Z"
   },
   {
    "duration": 29,
    "start_time": "2022-12-14T21:32:32.637Z"
   },
   {
    "duration": 16,
    "start_time": "2022-12-14T21:32:56.441Z"
   },
   {
    "duration": 191,
    "start_time": "2022-12-14T21:33:14.284Z"
   },
   {
    "duration": 3,
    "start_time": "2022-12-14T21:40:22.674Z"
   },
   {
    "duration": 13,
    "start_time": "2022-12-14T21:40:25.777Z"
   },
   {
    "duration": 3,
    "start_time": "2022-12-14T21:40:44.087Z"
   },
   {
    "duration": 952,
    "start_time": "2022-12-14T21:40:44.818Z"
   },
   {
    "duration": 820,
    "start_time": "2022-12-14T21:42:08.022Z"
   },
   {
    "duration": 4,
    "start_time": "2022-12-14T21:44:25.887Z"
   },
   {
    "duration": 921,
    "start_time": "2022-12-14T21:44:26.444Z"
   },
   {
    "duration": 907,
    "start_time": "2022-12-14T21:44:29.788Z"
   },
   {
    "duration": 770,
    "start_time": "2022-12-14T21:44:59.229Z"
   },
   {
    "duration": 54,
    "start_time": "2022-12-14T21:48:41.016Z"
   },
   {
    "duration": 3408,
    "start_time": "2022-12-14T21:50:29.971Z"
   },
   {
    "duration": 3535,
    "start_time": "2022-12-14T21:50:57.993Z"
   },
   {
    "duration": 3400,
    "start_time": "2022-12-14T21:51:19.072Z"
   },
   {
    "duration": 372,
    "start_time": "2022-12-14T21:52:31.672Z"
   },
   {
    "duration": 3381,
    "start_time": "2022-12-14T21:52:37.714Z"
   },
   {
    "duration": 3415,
    "start_time": "2022-12-14T21:55:17.429Z"
   },
   {
    "duration": 3425,
    "start_time": "2022-12-14T21:55:33.188Z"
   },
   {
    "duration": 3416,
    "start_time": "2022-12-14T21:56:24.076Z"
   },
   {
    "duration": 3324,
    "start_time": "2022-12-14T21:58:38.473Z"
   },
   {
    "duration": 3336,
    "start_time": "2022-12-14T21:58:46.674Z"
   },
   {
    "duration": 326,
    "start_time": "2022-12-14T21:59:06.249Z"
   },
   {
    "duration": 320,
    "start_time": "2022-12-14T21:59:14.456Z"
   },
   {
    "duration": 452,
    "start_time": "2022-12-14T21:59:23.421Z"
   },
   {
    "duration": 347,
    "start_time": "2022-12-14T21:59:48.770Z"
   },
   {
    "duration": 384,
    "start_time": "2022-12-14T22:00:41.204Z"
   },
   {
    "duration": 3325,
    "start_time": "2022-12-14T22:01:18.386Z"
   },
   {
    "duration": 363,
    "start_time": "2022-12-14T22:01:29.624Z"
   },
   {
    "duration": 320,
    "start_time": "2022-12-14T22:01:38.558Z"
   },
   {
    "duration": 381,
    "start_time": "2022-12-14T22:01:45.303Z"
   },
   {
    "duration": 4,
    "start_time": "2022-12-14T22:02:03.638Z"
   },
   {
    "duration": 407,
    "start_time": "2022-12-14T22:02:08.195Z"
   },
   {
    "duration": 411,
    "start_time": "2022-12-14T22:02:15.080Z"
   },
   {
    "duration": 338,
    "start_time": "2022-12-14T22:02:26.168Z"
   },
   {
    "duration": 325,
    "start_time": "2022-12-14T22:02:33.969Z"
   },
   {
    "duration": 363,
    "start_time": "2022-12-14T22:03:44.373Z"
   },
   {
    "duration": 386,
    "start_time": "2022-12-14T22:05:20.596Z"
   },
   {
    "duration": 2,
    "start_time": "2022-12-14T22:06:05.768Z"
   },
   {
    "duration": 589,
    "start_time": "2022-12-14T22:07:33.444Z"
   },
   {
    "duration": 331,
    "start_time": "2022-12-14T22:07:41.966Z"
   },
   {
    "duration": 328,
    "start_time": "2022-12-14T22:08:13.461Z"
   },
   {
    "duration": 331,
    "start_time": "2022-12-14T22:08:18.651Z"
   },
   {
    "duration": 375,
    "start_time": "2022-12-14T22:08:56.016Z"
   },
   {
    "duration": 390,
    "start_time": "2022-12-14T22:09:00.780Z"
   },
   {
    "duration": 389,
    "start_time": "2022-12-14T22:09:09.181Z"
   },
   {
    "duration": 354,
    "start_time": "2022-12-14T22:10:16.347Z"
   },
   {
    "duration": 2,
    "start_time": "2022-12-14T22:11:18.921Z"
   },
   {
    "duration": 1560,
    "start_time": "2022-12-15T07:51:10.907Z"
   },
   {
    "duration": 2433,
    "start_time": "2022-12-15T07:51:12.469Z"
   },
   {
    "duration": 23,
    "start_time": "2022-12-15T07:51:14.904Z"
   },
   {
    "duration": 20,
    "start_time": "2022-12-15T07:51:14.928Z"
   },
   {
    "duration": 27,
    "start_time": "2022-12-15T07:51:14.950Z"
   },
   {
    "duration": 22,
    "start_time": "2022-12-15T07:51:14.979Z"
   },
   {
    "duration": 36,
    "start_time": "2022-12-15T07:51:15.002Z"
   },
   {
    "duration": 39,
    "start_time": "2022-12-15T07:51:15.040Z"
   },
   {
    "duration": 251,
    "start_time": "2022-12-15T07:51:15.081Z"
   },
   {
    "duration": 127,
    "start_time": "2022-12-15T07:51:15.334Z"
   },
   {
    "duration": 230,
    "start_time": "2022-12-15T07:51:15.463Z"
   },
   {
    "duration": 54,
    "start_time": "2022-12-15T07:51:15.695Z"
   },
   {
    "duration": 15,
    "start_time": "2022-12-15T07:51:15.750Z"
   },
   {
    "duration": 19,
    "start_time": "2022-12-15T07:51:15.766Z"
   },
   {
    "duration": 125,
    "start_time": "2022-12-15T07:51:15.787Z"
   },
   {
    "duration": 30,
    "start_time": "2022-12-15T07:51:15.913Z"
   },
   {
    "duration": 91,
    "start_time": "2022-12-15T07:51:15.945Z"
   },
   {
    "duration": 3,
    "start_time": "2022-12-15T07:51:16.038Z"
   },
   {
    "duration": 19,
    "start_time": "2022-12-15T07:51:16.043Z"
   },
   {
    "duration": 14,
    "start_time": "2022-12-15T07:51:16.064Z"
   },
   {
    "duration": 38,
    "start_time": "2022-12-15T07:51:16.080Z"
   },
   {
    "duration": 12,
    "start_time": "2022-12-15T07:51:16.120Z"
   },
   {
    "duration": 194,
    "start_time": "2022-12-15T07:51:16.134Z"
   },
   {
    "duration": 4,
    "start_time": "2022-12-15T07:51:16.329Z"
   },
   {
    "duration": 913,
    "start_time": "2022-12-15T07:51:16.335Z"
   },
   {
    "duration": 905,
    "start_time": "2022-12-15T07:51:17.250Z"
   },
   {
    "duration": 827,
    "start_time": "2022-12-15T07:51:18.157Z"
   },
   {
    "duration": 396,
    "start_time": "2022-12-15T07:51:18.988Z"
   },
   {
    "duration": 2,
    "start_time": "2022-12-15T07:51:19.386Z"
   },
   {
    "duration": 514,
    "start_time": "2022-12-15T07:51:19.389Z"
   },
   {
    "duration": 3,
    "start_time": "2022-12-15T07:51:19.904Z"
   },
   {
    "duration": 5,
    "start_time": "2022-12-15T07:57:24.951Z"
   },
   {
    "duration": 113,
    "start_time": "2022-12-15T07:57:28.359Z"
   },
   {
    "duration": 639,
    "start_time": "2022-12-15T07:57:49.260Z"
   },
   {
    "duration": 788,
    "start_time": "2022-12-15T07:59:37.099Z"
   },
   {
    "duration": 741,
    "start_time": "2022-12-15T07:59:50.131Z"
   },
   {
    "duration": 888,
    "start_time": "2022-12-15T08:00:25.106Z"
   },
   {
    "duration": 850,
    "start_time": "2022-12-15T08:00:35.234Z"
   },
   {
    "duration": 854,
    "start_time": "2022-12-15T08:00:42.627Z"
   },
   {
    "duration": 641,
    "start_time": "2022-12-15T08:03:11.921Z"
   },
   {
    "duration": 17,
    "start_time": "2022-12-15T08:26:34.784Z"
   },
   {
    "duration": 15,
    "start_time": "2022-12-15T08:26:51.934Z"
   },
   {
    "duration": 6,
    "start_time": "2022-12-15T08:27:04.971Z"
   },
   {
    "duration": 174,
    "start_time": "2022-12-15T08:27:20.199Z"
   },
   {
    "duration": 751,
    "start_time": "2022-12-15T08:27:47.244Z"
   },
   {
    "duration": 1597,
    "start_time": "2022-12-15T10:43:26.602Z"
   },
   {
    "duration": 2615,
    "start_time": "2022-12-15T10:43:28.201Z"
   },
   {
    "duration": 31,
    "start_time": "2022-12-15T10:43:30.818Z"
   },
   {
    "duration": 29,
    "start_time": "2022-12-15T10:43:30.851Z"
   },
   {
    "duration": 57,
    "start_time": "2022-12-15T10:43:30.881Z"
   },
   {
    "duration": 78,
    "start_time": "2022-12-15T10:43:30.939Z"
   },
   {
    "duration": 25,
    "start_time": "2022-12-15T10:43:31.018Z"
   },
   {
    "duration": 31,
    "start_time": "2022-12-15T10:43:31.045Z"
   },
   {
    "duration": 240,
    "start_time": "2022-12-15T10:43:31.078Z"
   },
   {
    "duration": 136,
    "start_time": "2022-12-15T10:43:31.322Z"
   },
   {
    "duration": 256,
    "start_time": "2022-12-15T10:43:31.460Z"
   },
   {
    "duration": 56,
    "start_time": "2022-12-15T10:43:31.720Z"
   },
   {
    "duration": 13,
    "start_time": "2022-12-15T10:43:31.777Z"
   },
   {
    "duration": 43,
    "start_time": "2022-12-15T10:43:31.792Z"
   },
   {
    "duration": 124,
    "start_time": "2022-12-15T10:43:31.837Z"
   },
   {
    "duration": 23,
    "start_time": "2022-12-15T10:43:31.962Z"
   },
   {
    "duration": 100,
    "start_time": "2022-12-15T10:43:31.986Z"
   },
   {
    "duration": 3,
    "start_time": "2022-12-15T10:43:32.087Z"
   },
   {
    "duration": 16,
    "start_time": "2022-12-15T10:43:32.092Z"
   },
   {
    "duration": 30,
    "start_time": "2022-12-15T10:43:32.110Z"
   },
   {
    "duration": 51,
    "start_time": "2022-12-15T10:43:32.142Z"
   },
   {
    "duration": 23,
    "start_time": "2022-12-15T10:43:32.195Z"
   },
   {
    "duration": 201,
    "start_time": "2022-12-15T10:43:32.220Z"
   },
   {
    "duration": 6,
    "start_time": "2022-12-15T10:43:32.423Z"
   },
   {
    "duration": 1030,
    "start_time": "2022-12-15T10:43:32.431Z"
   },
   {
    "duration": 1000,
    "start_time": "2022-12-15T10:43:33.463Z"
   },
   {
    "duration": 906,
    "start_time": "2022-12-15T10:43:34.465Z"
   },
   {
    "duration": 423,
    "start_time": "2022-12-15T10:43:35.375Z"
   },
   {
    "duration": 3,
    "start_time": "2022-12-15T10:43:35.799Z"
   },
   {
    "duration": 525,
    "start_time": "2022-12-15T10:43:35.803Z"
   },
   {
    "duration": 3,
    "start_time": "2022-12-15T10:43:36.330Z"
   },
   {
    "duration": 18,
    "start_time": "2022-12-15T10:43:36.335Z"
   },
   {
    "duration": 678,
    "start_time": "2022-12-15T10:43:36.354Z"
   },
   {
    "duration": 12,
    "start_time": "2022-12-15T10:43:55.151Z"
   },
   {
    "duration": 790,
    "start_time": "2022-12-15T10:43:57.777Z"
   },
   {
    "duration": 4,
    "start_time": "2022-12-15T10:44:04.818Z"
   },
   {
    "duration": 4,
    "start_time": "2022-12-15T10:45:02.607Z"
   },
   {
    "duration": 4,
    "start_time": "2022-12-15T10:47:40.742Z"
   },
   {
    "duration": 147,
    "start_time": "2022-12-15T10:47:44.424Z"
   },
   {
    "duration": 3,
    "start_time": "2022-12-15T10:47:55.336Z"
   },
   {
    "duration": 7,
    "start_time": "2022-12-15T10:47:58.415Z"
   },
   {
    "duration": 8,
    "start_time": "2022-12-15T10:47:58.783Z"
   },
   {
    "duration": 18,
    "start_time": "2022-12-15T10:47:59.776Z"
   },
   {
    "duration": 4,
    "start_time": "2022-12-15T10:48:02.648Z"
   },
   {
    "duration": 1409,
    "start_time": "2022-12-15T10:48:04.643Z"
   },
   {
    "duration": 4,
    "start_time": "2022-12-15T10:49:09.037Z"
   },
   {
    "duration": 1298,
    "start_time": "2022-12-15T10:49:53.125Z"
   },
   {
    "duration": 4,
    "start_time": "2022-12-15T10:50:09.844Z"
   },
   {
    "duration": 1349,
    "start_time": "2022-12-15T10:50:11.277Z"
   },
   {
    "duration": 4,
    "start_time": "2022-12-15T10:52:36.084Z"
   },
   {
    "duration": 4,
    "start_time": "2022-12-15T10:52:44.351Z"
   },
   {
    "duration": 3,
    "start_time": "2022-12-15T10:52:57.836Z"
   },
   {
    "duration": 4,
    "start_time": "2022-12-15T10:53:34.956Z"
   },
   {
    "duration": 63,
    "start_time": "2022-12-15T10:53:37.620Z"
   },
   {
    "duration": 3,
    "start_time": "2022-12-15T10:53:49.836Z"
   },
   {
    "duration": 4,
    "start_time": "2022-12-15T10:54:02.547Z"
   },
   {
    "duration": 73,
    "start_time": "2022-12-15T10:54:05.508Z"
   },
   {
    "duration": 3,
    "start_time": "2022-12-15T10:55:03.163Z"
   },
   {
    "duration": 75,
    "start_time": "2022-12-15T10:55:05.819Z"
   },
   {
    "duration": 5,
    "start_time": "2022-12-15T10:55:25.635Z"
   },
   {
    "duration": 4,
    "start_time": "2022-12-15T10:55:58.474Z"
   },
   {
    "duration": 1012,
    "start_time": "2022-12-15T10:56:01.233Z"
   },
   {
    "duration": 4,
    "start_time": "2022-12-15T10:56:13.386Z"
   },
   {
    "duration": 1261,
    "start_time": "2022-12-15T10:56:18.667Z"
   },
   {
    "duration": 3,
    "start_time": "2022-12-15T10:56:35.946Z"
   },
   {
    "duration": 77,
    "start_time": "2022-12-15T10:56:36.994Z"
   },
   {
    "duration": 5,
    "start_time": "2022-12-15T10:56:44.841Z"
   },
   {
    "duration": 1330,
    "start_time": "2022-12-15T10:56:46.603Z"
   },
   {
    "duration": 1171,
    "start_time": "2022-12-15T10:56:59.059Z"
   },
   {
    "duration": 10,
    "start_time": "2022-12-15T10:57:55.937Z"
   },
   {
    "duration": 1081,
    "start_time": "2022-12-15T10:58:07.442Z"
   },
   {
    "duration": 1318,
    "start_time": "2022-12-15T10:58:18.009Z"
   },
   {
    "duration": 958,
    "start_time": "2022-12-15T10:58:36.874Z"
   },
   {
    "duration": 1232,
    "start_time": "2022-12-15T10:58:52.689Z"
   },
   {
    "duration": 52,
    "start_time": "2022-12-15T10:58:58.689Z"
   },
   {
    "duration": 1102,
    "start_time": "2022-12-15T10:59:04.721Z"
   },
   {
    "duration": 1202,
    "start_time": "2022-12-15T11:02:36.224Z"
   },
   {
    "duration": 1513,
    "start_time": "2022-12-15T11:02:47.608Z"
   },
   {
    "duration": 1585,
    "start_time": "2022-12-15T11:03:33.641Z"
   },
   {
    "duration": 1132,
    "start_time": "2022-12-15T11:03:38.695Z"
   },
   {
    "duration": 841,
    "start_time": "2022-12-15T11:03:52.183Z"
   },
   {
    "duration": 1240,
    "start_time": "2022-12-15T11:03:59.583Z"
   },
   {
    "duration": 4,
    "start_time": "2022-12-15T11:04:38.758Z"
   },
   {
    "duration": 1392,
    "start_time": "2022-12-15T11:04:45.135Z"
   },
   {
    "duration": 1064,
    "start_time": "2022-12-15T11:05:16.264Z"
   },
   {
    "duration": 1099,
    "start_time": "2022-12-15T11:05:26.423Z"
   },
   {
    "duration": 1104,
    "start_time": "2022-12-15T11:05:29.623Z"
   },
   {
    "duration": 3,
    "start_time": "2022-12-15T11:06:08.829Z"
   },
   {
    "duration": 4,
    "start_time": "2022-12-15T11:07:07.199Z"
   },
   {
    "duration": 1462,
    "start_time": "2022-12-15T11:07:07.263Z"
   },
   {
    "duration": 4,
    "start_time": "2022-12-15T11:07:11.294Z"
   },
   {
    "duration": 1403,
    "start_time": "2022-12-15T11:10:03.520Z"
   },
   {
    "duration": 1675,
    "start_time": "2022-12-15T11:10:24.248Z"
   },
   {
    "duration": 4,
    "start_time": "2022-12-15T11:19:09.462Z"
   },
   {
    "duration": 354,
    "start_time": "2022-12-15T11:19:10.028Z"
   },
   {
    "duration": 5,
    "start_time": "2022-12-15T11:19:25.266Z"
   },
   {
    "duration": 334,
    "start_time": "2022-12-15T11:19:25.717Z"
   },
   {
    "duration": 4,
    "start_time": "2022-12-15T11:19:34.291Z"
   },
   {
    "duration": 3,
    "start_time": "2022-12-15T11:19:42.162Z"
   },
   {
    "duration": 10205,
    "start_time": "2022-12-15T11:19:42.572Z"
   },
   {
    "duration": 10310,
    "start_time": "2022-12-15T11:19:59.907Z"
   },
   {
    "duration": 10261,
    "start_time": "2022-12-15T11:20:13.523Z"
   },
   {
    "duration": 4,
    "start_time": "2022-12-15T11:21:28.017Z"
   },
   {
    "duration": 5,
    "start_time": "2022-12-15T11:21:42.832Z"
   },
   {
    "duration": 2747,
    "start_time": "2022-12-15T11:22:05.068Z"
   },
   {
    "duration": 5,
    "start_time": "2022-12-15T11:22:21.881Z"
   },
   {
    "duration": 3366,
    "start_time": "2022-12-15T11:22:21.887Z"
   },
   {
    "duration": 4941,
    "start_time": "2022-12-15T11:22:25.254Z"
   },
   {
    "duration": 5,
    "start_time": "2022-12-15T11:22:34.416Z"
   },
   {
    "duration": 603805,
    "start_time": "2022-12-15T11:22:34.811Z"
   },
   {
    "duration": 626244,
    "start_time": "2022-12-15T11:32:38.618Z"
   },
   {
    "duration": 3,
    "start_time": "2022-12-15T11:49:49.769Z"
   },
   {
    "duration": 178,
    "start_time": "2022-12-15T11:49:52.944Z"
   },
   {
    "duration": 1431,
    "start_time": "2022-12-15T11:50:24.808Z"
   },
   {
    "duration": 1304,
    "start_time": "2022-12-15T11:50:28.935Z"
   },
   {
    "duration": 3,
    "start_time": "2022-12-15T11:50:35.753Z"
   },
   {
    "duration": 48,
    "start_time": "2022-12-15T11:50:38.376Z"
   },
   {
    "duration": 4,
    "start_time": "2022-12-15T11:51:03.663Z"
   },
   {
    "duration": 720,
    "start_time": "2022-12-15T11:51:03.669Z"
   },
   {
    "duration": 20,
    "start_time": "2022-12-15T11:51:04.390Z"
   },
   {
    "duration": 27,
    "start_time": "2022-12-15T11:51:04.420Z"
   },
   {
    "duration": 21,
    "start_time": "2022-12-15T11:51:04.450Z"
   },
   {
    "duration": 24,
    "start_time": "2022-12-15T11:51:04.473Z"
   },
   {
    "duration": 39,
    "start_time": "2022-12-15T11:51:04.498Z"
   },
   {
    "duration": 26,
    "start_time": "2022-12-15T11:51:04.539Z"
   },
   {
    "duration": 231,
    "start_time": "2022-12-15T11:51:04.567Z"
   },
   {
    "duration": 133,
    "start_time": "2022-12-15T11:51:04.800Z"
   },
   {
    "duration": 248,
    "start_time": "2022-12-15T11:51:04.937Z"
   },
   {
    "duration": 20,
    "start_time": "2022-12-15T11:51:05.187Z"
   },
   {
    "duration": 24,
    "start_time": "2022-12-15T11:51:05.208Z"
   },
   {
    "duration": 25,
    "start_time": "2022-12-15T11:51:05.234Z"
   },
   {
    "duration": 129,
    "start_time": "2022-12-15T11:51:05.261Z"
   },
   {
    "duration": 36,
    "start_time": "2022-12-15T11:51:05.392Z"
   },
   {
    "duration": 109,
    "start_time": "2022-12-15T11:51:05.430Z"
   },
   {
    "duration": 3,
    "start_time": "2022-12-15T11:51:05.541Z"
   },
   {
    "duration": 18,
    "start_time": "2022-12-15T11:51:05.547Z"
   },
   {
    "duration": 18,
    "start_time": "2022-12-15T11:51:05.568Z"
   },
   {
    "duration": 41,
    "start_time": "2022-12-15T11:51:05.588Z"
   },
   {
    "duration": 14,
    "start_time": "2022-12-15T11:51:05.631Z"
   },
   {
    "duration": 200,
    "start_time": "2022-12-15T11:51:05.647Z"
   },
   {
    "duration": 3,
    "start_time": "2022-12-15T11:51:05.849Z"
   },
   {
    "duration": 986,
    "start_time": "2022-12-15T11:51:05.854Z"
   },
   {
    "duration": 989,
    "start_time": "2022-12-15T11:51:06.841Z"
   },
   {
    "duration": 885,
    "start_time": "2022-12-15T11:51:07.832Z"
   },
   {
    "duration": 388,
    "start_time": "2022-12-15T11:51:08.720Z"
   },
   {
    "duration": 8,
    "start_time": "2022-12-15T11:51:09.121Z"
   },
   {
    "duration": 405,
    "start_time": "2022-12-15T11:51:09.135Z"
   },
   {
    "duration": 3,
    "start_time": "2022-12-15T11:51:09.541Z"
   },
   {
    "duration": 23,
    "start_time": "2022-12-15T11:51:09.545Z"
   },
   {
    "duration": 831,
    "start_time": "2022-12-15T11:51:09.570Z"
   },
   {
    "duration": 22,
    "start_time": "2022-12-15T11:51:10.404Z"
   },
   {
    "duration": 653,
    "start_time": "2022-12-15T11:51:10.428Z"
   },
   {
    "duration": 2,
    "start_time": "2022-12-15T11:51:11.083Z"
   },
   {
    "duration": 68,
    "start_time": "2022-12-15T11:51:11.086Z"
   },
   {
    "duration": 41,
    "start_time": "2022-12-15T11:51:11.155Z"
   },
   {
    "duration": 33,
    "start_time": "2022-12-15T11:51:11.198Z"
   },
   {
    "duration": 43,
    "start_time": "2022-12-15T11:51:11.232Z"
   },
   {
    "duration": 14,
    "start_time": "2022-12-15T11:51:26.318Z"
   },
   {
    "duration": 1672,
    "start_time": "2022-12-15T11:51:28.256Z"
   },
   {
    "duration": 1455,
    "start_time": "2022-12-15T11:51:30.871Z"
   },
   {
    "duration": 3,
    "start_time": "2022-12-15T11:52:04.567Z"
   },
   {
    "duration": 77,
    "start_time": "2022-12-15T11:52:10.448Z"
   },
   {
    "duration": 7,
    "start_time": "2022-12-15T11:56:11.858Z"
   },
   {
    "duration": 9,
    "start_time": "2022-12-15T11:56:18.981Z"
   },
   {
    "duration": 16,
    "start_time": "2022-12-15T11:56:21.596Z"
   },
   {
    "duration": 4,
    "start_time": "2022-12-15T11:56:24.500Z"
   },
   {
    "duration": 1125,
    "start_time": "2022-12-15T11:56:26.198Z"
   },
   {
    "duration": 935,
    "start_time": "2022-12-15T11:56:29.587Z"
   },
   {
    "duration": 2,
    "start_time": "2022-12-15T11:56:40.413Z"
   },
   {
    "duration": 146,
    "start_time": "2022-12-15T11:56:41.477Z"
   },
   {
    "duration": 206,
    "start_time": "2022-12-15T11:56:44.716Z"
   },
   {
    "duration": 4,
    "start_time": "2022-12-15T11:56:46.293Z"
   },
   {
    "duration": 8,
    "start_time": "2022-12-15T11:56:49.372Z"
   },
   {
    "duration": 4,
    "start_time": "2022-12-15T11:58:34.022Z"
   },
   {
    "duration": 713,
    "start_time": "2022-12-15T11:58:34.029Z"
   },
   {
    "duration": 18,
    "start_time": "2022-12-15T11:58:34.744Z"
   },
   {
    "duration": 53,
    "start_time": "2022-12-15T11:58:34.764Z"
   },
   {
    "duration": 35,
    "start_time": "2022-12-15T11:58:34.819Z"
   },
   {
    "duration": 155,
    "start_time": "2022-12-15T11:58:34.855Z"
   },
   {
    "duration": 15,
    "start_time": "2022-12-15T11:58:35.012Z"
   },
   {
    "duration": 51,
    "start_time": "2022-12-15T11:58:35.028Z"
   },
   {
    "duration": 267,
    "start_time": "2022-12-15T11:58:35.081Z"
   },
   {
    "duration": 157,
    "start_time": "2022-12-15T11:58:35.350Z"
   },
   {
    "duration": 265,
    "start_time": "2022-12-15T11:58:35.509Z"
   },
   {
    "duration": 18,
    "start_time": "2022-12-15T11:58:35.775Z"
   },
   {
    "duration": 13,
    "start_time": "2022-12-15T11:58:35.795Z"
   },
   {
    "duration": 53,
    "start_time": "2022-12-15T11:58:35.809Z"
   },
   {
    "duration": 166,
    "start_time": "2022-12-15T11:58:35.863Z"
   },
   {
    "duration": 26,
    "start_time": "2022-12-15T11:58:36.030Z"
   },
   {
    "duration": 136,
    "start_time": "2022-12-15T11:58:36.057Z"
   },
   {
    "duration": 3,
    "start_time": "2022-12-15T11:58:36.195Z"
   },
   {
    "duration": 44,
    "start_time": "2022-12-15T11:58:36.199Z"
   },
   {
    "duration": 29,
    "start_time": "2022-12-15T11:58:36.244Z"
   },
   {
    "duration": 49,
    "start_time": "2022-12-15T11:58:36.274Z"
   },
   {
    "duration": 22,
    "start_time": "2022-12-15T11:58:36.324Z"
   },
   {
    "duration": 193,
    "start_time": "2022-12-15T11:58:36.348Z"
   },
   {
    "duration": 3,
    "start_time": "2022-12-15T11:58:36.543Z"
   },
   {
    "duration": 839,
    "start_time": "2022-12-15T11:58:36.547Z"
   },
   {
    "duration": 1020,
    "start_time": "2022-12-15T11:58:37.388Z"
   },
   {
    "duration": 962,
    "start_time": "2022-12-15T11:58:38.409Z"
   },
   {
    "duration": 420,
    "start_time": "2022-12-15T11:58:39.372Z"
   },
   {
    "duration": 3,
    "start_time": "2022-12-15T11:58:39.795Z"
   },
   {
    "duration": 422,
    "start_time": "2022-12-15T11:58:39.799Z"
   },
   {
    "duration": 2,
    "start_time": "2022-12-15T11:58:40.223Z"
   },
   {
    "duration": 42,
    "start_time": "2022-12-15T11:58:40.227Z"
   },
   {
    "duration": 671,
    "start_time": "2022-12-15T11:58:40.270Z"
   },
   {
    "duration": 14,
    "start_time": "2022-12-15T11:58:40.942Z"
   },
   {
    "duration": 811,
    "start_time": "2022-12-15T11:58:40.958Z"
   },
   {
    "duration": 3,
    "start_time": "2022-12-15T11:58:41.771Z"
   },
   {
    "duration": 13,
    "start_time": "2022-12-15T11:58:41.776Z"
   },
   {
    "duration": 10,
    "start_time": "2022-12-15T11:58:41.791Z"
   },
   {
    "duration": 9,
    "start_time": "2022-12-15T11:58:41.802Z"
   },
   {
    "duration": 22,
    "start_time": "2022-12-15T11:58:41.813Z"
   },
   {
    "duration": 3,
    "start_time": "2022-12-15T11:58:41.837Z"
   },
   {
    "duration": 981,
    "start_time": "2022-12-15T11:58:41.841Z"
   },
   {
    "duration": 1100,
    "start_time": "2022-12-15T11:58:42.824Z"
   },
   {
    "duration": 2,
    "start_time": "2022-12-15T11:59:04.947Z"
   },
   {
    "duration": 179,
    "start_time": "2022-12-15T11:59:06.645Z"
   },
   {
    "duration": 11,
    "start_time": "2022-12-15T11:59:57.129Z"
   },
   {
    "duration": 15,
    "start_time": "2022-12-15T12:00:25.457Z"
   },
   {
    "duration": 7,
    "start_time": "2022-12-15T12:00:33.113Z"
   },
   {
    "duration": 21,
    "start_time": "2022-12-15T12:00:49.809Z"
   },
   {
    "duration": 9,
    "start_time": "2022-12-15T12:00:58.169Z"
   },
   {
    "duration": 10,
    "start_time": "2022-12-15T12:01:12.433Z"
   },
   {
    "duration": 12,
    "start_time": "2022-12-15T12:01:19.273Z"
   },
   {
    "duration": 26,
    "start_time": "2022-12-15T12:01:30.835Z"
   },
   {
    "duration": 14,
    "start_time": "2022-12-15T12:01:36.636Z"
   },
   {
    "duration": 12,
    "start_time": "2022-12-15T12:02:18.481Z"
   },
   {
    "duration": 3,
    "start_time": "2022-12-15T12:02:22.987Z"
   },
   {
    "duration": 656,
    "start_time": "2022-12-15T12:02:22.992Z"
   },
   {
    "duration": 20,
    "start_time": "2022-12-15T12:02:23.649Z"
   },
   {
    "duration": 18,
    "start_time": "2022-12-15T12:02:23.670Z"
   },
   {
    "duration": 48,
    "start_time": "2022-12-15T12:02:23.690Z"
   },
   {
    "duration": 27,
    "start_time": "2022-12-15T12:02:23.739Z"
   },
   {
    "duration": 11,
    "start_time": "2022-12-15T12:02:23.768Z"
   },
   {
    "duration": 19,
    "start_time": "2022-12-15T12:02:23.780Z"
   },
   {
    "duration": 224,
    "start_time": "2022-12-15T12:02:23.800Z"
   },
   {
    "duration": 121,
    "start_time": "2022-12-15T12:02:24.025Z"
   },
   {
    "duration": 235,
    "start_time": "2022-12-15T12:02:24.149Z"
   },
   {
    "duration": 24,
    "start_time": "2022-12-15T12:02:24.385Z"
   },
   {
    "duration": 23,
    "start_time": "2022-12-15T12:02:24.410Z"
   },
   {
    "duration": 20,
    "start_time": "2022-12-15T12:02:24.435Z"
   },
   {
    "duration": 127,
    "start_time": "2022-12-15T12:02:24.456Z"
   },
   {
    "duration": 25,
    "start_time": "2022-12-15T12:02:24.585Z"
   },
   {
    "duration": 90,
    "start_time": "2022-12-15T12:02:24.611Z"
   },
   {
    "duration": 3,
    "start_time": "2022-12-15T12:02:24.703Z"
   },
   {
    "duration": 18,
    "start_time": "2022-12-15T12:02:24.707Z"
   },
   {
    "duration": 14,
    "start_time": "2022-12-15T12:02:24.726Z"
   },
   {
    "duration": 25,
    "start_time": "2022-12-15T12:02:24.742Z"
   },
   {
    "duration": 12,
    "start_time": "2022-12-15T12:02:33.536Z"
   },
   {
    "duration": 12,
    "start_time": "2022-12-15T12:02:45.103Z"
   },
   {
    "duration": 13,
    "start_time": "2022-12-15T12:02:47.945Z"
   },
   {
    "duration": 5,
    "start_time": "2022-12-15T12:03:00.242Z"
   },
   {
    "duration": 681,
    "start_time": "2022-12-15T12:03:00.249Z"
   },
   {
    "duration": 19,
    "start_time": "2022-12-15T12:03:00.932Z"
   },
   {
    "duration": 56,
    "start_time": "2022-12-15T12:03:00.952Z"
   },
   {
    "duration": 87,
    "start_time": "2022-12-15T12:03:01.010Z"
   },
   {
    "duration": 33,
    "start_time": "2022-12-15T12:03:01.098Z"
   },
   {
    "duration": 22,
    "start_time": "2022-12-15T12:03:01.133Z"
   },
   {
    "duration": 47,
    "start_time": "2022-12-15T12:03:01.157Z"
   },
   {
    "duration": 262,
    "start_time": "2022-12-15T12:03:01.206Z"
   },
   {
    "duration": 147,
    "start_time": "2022-12-15T12:03:01.470Z"
   },
   {
    "duration": 239,
    "start_time": "2022-12-15T12:03:01.622Z"
   },
   {
    "duration": 19,
    "start_time": "2022-12-15T12:03:01.862Z"
   },
   {
    "duration": 16,
    "start_time": "2022-12-15T12:03:01.882Z"
   },
   {
    "duration": 38,
    "start_time": "2022-12-15T12:03:01.899Z"
   },
   {
    "duration": 124,
    "start_time": "2022-12-15T12:03:01.939Z"
   },
   {
    "duration": 28,
    "start_time": "2022-12-15T12:03:02.064Z"
   },
   {
    "duration": 95,
    "start_time": "2022-12-15T12:03:02.093Z"
   },
   {
    "duration": 3,
    "start_time": "2022-12-15T12:03:02.189Z"
   },
   {
    "duration": 14,
    "start_time": "2022-12-15T12:03:02.193Z"
   },
   {
    "duration": 13,
    "start_time": "2022-12-15T12:03:02.209Z"
   },
   {
    "duration": 24,
    "start_time": "2022-12-15T12:03:02.224Z"
   },
   {
    "duration": 8,
    "start_time": "2022-12-15T12:03:21.368Z"
   },
   {
    "duration": 12,
    "start_time": "2022-12-15T12:03:35.392Z"
   },
   {
    "duration": 13,
    "start_time": "2022-12-15T12:03:39.215Z"
   },
   {
    "duration": 3,
    "start_time": "2022-12-15T12:03:46.074Z"
   },
   {
    "duration": 673,
    "start_time": "2022-12-15T12:03:46.079Z"
   },
   {
    "duration": 22,
    "start_time": "2022-12-15T12:03:46.754Z"
   },
   {
    "duration": 24,
    "start_time": "2022-12-15T12:03:46.777Z"
   },
   {
    "duration": 36,
    "start_time": "2022-12-15T12:03:46.803Z"
   },
   {
    "duration": 19,
    "start_time": "2022-12-15T12:03:46.840Z"
   },
   {
    "duration": 11,
    "start_time": "2022-12-15T12:03:46.860Z"
   },
   {
    "duration": 27,
    "start_time": "2022-12-15T12:03:46.873Z"
   },
   {
    "duration": 235,
    "start_time": "2022-12-15T12:03:46.902Z"
   },
   {
    "duration": 126,
    "start_time": "2022-12-15T12:03:47.138Z"
   },
   {
    "duration": 252,
    "start_time": "2022-12-15T12:03:47.266Z"
   },
   {
    "duration": 22,
    "start_time": "2022-12-15T12:03:47.519Z"
   },
   {
    "duration": 22,
    "start_time": "2022-12-15T12:03:47.542Z"
   },
   {
    "duration": 31,
    "start_time": "2022-12-15T12:03:47.566Z"
   },
   {
    "duration": 127,
    "start_time": "2022-12-15T12:03:47.599Z"
   },
   {
    "duration": 27,
    "start_time": "2022-12-15T12:03:47.727Z"
   },
   {
    "duration": 101,
    "start_time": "2022-12-15T12:03:47.756Z"
   },
   {
    "duration": 2,
    "start_time": "2022-12-15T12:03:47.859Z"
   },
   {
    "duration": 10,
    "start_time": "2022-12-15T12:03:47.863Z"
   },
   {
    "duration": 7,
    "start_time": "2022-12-15T12:03:47.875Z"
   },
   {
    "duration": 47,
    "start_time": "2022-12-15T12:03:47.883Z"
   },
   {
    "duration": 14,
    "start_time": "2022-12-15T12:03:51.833Z"
   },
   {
    "duration": 17,
    "start_time": "2022-12-15T12:04:04.767Z"
   },
   {
    "duration": 15,
    "start_time": "2022-12-15T12:04:32.040Z"
   },
   {
    "duration": 17,
    "start_time": "2022-12-15T12:04:41.055Z"
   },
   {
    "duration": 17,
    "start_time": "2022-12-15T12:04:45.095Z"
   },
   {
    "duration": 17,
    "start_time": "2022-12-15T12:04:47.519Z"
   },
   {
    "duration": 20,
    "start_time": "2022-12-15T12:04:51.487Z"
   },
   {
    "duration": 12,
    "start_time": "2022-12-15T12:05:00.287Z"
   },
   {
    "duration": 14,
    "start_time": "2022-12-15T12:05:02.231Z"
   },
   {
    "duration": 3,
    "start_time": "2022-12-15T12:05:05.218Z"
   },
   {
    "duration": 696,
    "start_time": "2022-12-15T12:05:05.223Z"
   },
   {
    "duration": 20,
    "start_time": "2022-12-15T12:05:05.921Z"
   },
   {
    "duration": 24,
    "start_time": "2022-12-15T12:05:05.943Z"
   },
   {
    "duration": 19,
    "start_time": "2022-12-15T12:05:05.970Z"
   },
   {
    "duration": 30,
    "start_time": "2022-12-15T12:05:05.991Z"
   },
   {
    "duration": 12,
    "start_time": "2022-12-15T12:05:06.022Z"
   },
   {
    "duration": 15,
    "start_time": "2022-12-15T12:05:06.035Z"
   },
   {
    "duration": 235,
    "start_time": "2022-12-15T12:05:06.052Z"
   },
   {
    "duration": 127,
    "start_time": "2022-12-15T12:05:06.289Z"
   },
   {
    "duration": 234,
    "start_time": "2022-12-15T12:05:06.422Z"
   },
   {
    "duration": 18,
    "start_time": "2022-12-15T12:05:06.657Z"
   },
   {
    "duration": 13,
    "start_time": "2022-12-15T12:05:06.676Z"
   },
   {
    "duration": 37,
    "start_time": "2022-12-15T12:05:06.691Z"
   },
   {
    "duration": 112,
    "start_time": "2022-12-15T12:05:06.729Z"
   },
   {
    "duration": 27,
    "start_time": "2022-12-15T12:05:06.842Z"
   },
   {
    "duration": 95,
    "start_time": "2022-12-15T12:05:06.871Z"
   },
   {
    "duration": 3,
    "start_time": "2022-12-15T12:05:06.967Z"
   },
   {
    "duration": 25,
    "start_time": "2022-12-15T12:05:06.971Z"
   },
   {
    "duration": 11,
    "start_time": "2022-12-15T12:05:06.997Z"
   },
   {
    "duration": 24,
    "start_time": "2022-12-15T12:05:07.010Z"
   },
   {
    "duration": 9,
    "start_time": "2022-12-15T12:05:13.335Z"
   },
   {
    "duration": 9,
    "start_time": "2022-12-15T12:05:18.171Z"
   },
   {
    "duration": 12,
    "start_time": "2022-12-15T12:05:35.783Z"
   },
   {
    "duration": 14,
    "start_time": "2022-12-15T12:05:39.225Z"
   },
   {
    "duration": 1389,
    "start_time": "2022-12-15T12:06:02.073Z"
   },
   {
    "duration": 685,
    "start_time": "2022-12-15T12:06:03.464Z"
   },
   {
    "duration": 23,
    "start_time": "2022-12-15T12:06:04.151Z"
   },
   {
    "duration": 22,
    "start_time": "2022-12-15T12:06:04.176Z"
   },
   {
    "duration": 37,
    "start_time": "2022-12-15T12:06:04.199Z"
   },
   {
    "duration": 31,
    "start_time": "2022-12-15T12:06:04.238Z"
   },
   {
    "duration": 13,
    "start_time": "2022-12-15T12:06:04.272Z"
   },
   {
    "duration": 26,
    "start_time": "2022-12-15T12:06:04.287Z"
   },
   {
    "duration": 289,
    "start_time": "2022-12-15T12:06:04.320Z"
   },
   {
    "duration": 132,
    "start_time": "2022-12-15T12:06:04.612Z"
   },
   {
    "duration": 241,
    "start_time": "2022-12-15T12:06:04.745Z"
   },
   {
    "duration": 72,
    "start_time": "2022-12-15T12:06:04.988Z"
   },
   {
    "duration": 21,
    "start_time": "2022-12-15T12:06:05.062Z"
   },
   {
    "duration": 58,
    "start_time": "2022-12-15T12:06:05.085Z"
   },
   {
    "duration": 129,
    "start_time": "2022-12-15T12:06:05.144Z"
   },
   {
    "duration": 31,
    "start_time": "2022-12-15T12:06:05.275Z"
   },
   {
    "duration": 94,
    "start_time": "2022-12-15T12:06:05.308Z"
   },
   {
    "duration": 3,
    "start_time": "2022-12-15T12:06:05.404Z"
   },
   {
    "duration": 33,
    "start_time": "2022-12-15T12:06:05.409Z"
   },
   {
    "duration": 48,
    "start_time": "2022-12-15T12:06:05.443Z"
   },
   {
    "duration": 73,
    "start_time": "2022-12-15T12:06:05.493Z"
   },
   {
    "duration": 9,
    "start_time": "2022-12-15T12:06:12.855Z"
   },
   {
    "duration": 14,
    "start_time": "2022-12-15T12:06:18.425Z"
   },
   {
    "duration": 11,
    "start_time": "2022-12-15T12:08:11.654Z"
   },
   {
    "duration": 3,
    "start_time": "2022-12-15T13:59:49.165Z"
   },
   {
    "duration": 694,
    "start_time": "2022-12-15T13:59:49.171Z"
   },
   {
    "duration": 20,
    "start_time": "2022-12-15T13:59:49.867Z"
   },
   {
    "duration": 21,
    "start_time": "2022-12-15T13:59:49.888Z"
   },
   {
    "duration": 26,
    "start_time": "2022-12-15T13:59:49.911Z"
   },
   {
    "duration": 14,
    "start_time": "2022-12-15T13:59:49.939Z"
   },
   {
    "duration": 10,
    "start_time": "2022-12-15T13:59:49.955Z"
   },
   {
    "duration": 16,
    "start_time": "2022-12-15T13:59:49.966Z"
   },
   {
    "duration": 238,
    "start_time": "2022-12-15T13:59:49.984Z"
   },
   {
    "duration": 123,
    "start_time": "2022-12-15T13:59:50.224Z"
   },
   {
    "duration": 302,
    "start_time": "2022-12-15T13:59:50.350Z"
   },
   {
    "duration": 19,
    "start_time": "2022-12-15T13:59:50.654Z"
   },
   {
    "duration": 13,
    "start_time": "2022-12-15T13:59:50.674Z"
   },
   {
    "duration": 37,
    "start_time": "2022-12-15T13:59:50.688Z"
   },
   {
    "duration": 111,
    "start_time": "2022-12-15T13:59:50.727Z"
   },
   {
    "duration": 26,
    "start_time": "2022-12-15T13:59:50.839Z"
   },
   {
    "duration": 97,
    "start_time": "2022-12-15T13:59:50.866Z"
   },
   {
    "duration": 2,
    "start_time": "2022-12-15T13:59:50.965Z"
   },
   {
    "duration": 15,
    "start_time": "2022-12-15T13:59:50.969Z"
   },
   {
    "duration": 22,
    "start_time": "2022-12-15T13:59:50.985Z"
   },
   {
    "duration": 29,
    "start_time": "2022-12-15T13:59:51.009Z"
   },
   {
    "duration": 15,
    "start_time": "2022-12-15T14:00:22.731Z"
   },
   {
    "duration": 12,
    "start_time": "2022-12-15T14:00:34.035Z"
   },
   {
    "duration": 13,
    "start_time": "2022-12-15T14:00:52.396Z"
   },
   {
    "duration": 3,
    "start_time": "2022-12-15T14:01:03.526Z"
   },
   {
    "duration": 7,
    "start_time": "2022-12-15T14:01:05.587Z"
   },
   {
    "duration": 7,
    "start_time": "2022-12-15T14:01:05.996Z"
   },
   {
    "duration": 19,
    "start_time": "2022-12-15T14:01:06.731Z"
   },
   {
    "duration": 3,
    "start_time": "2022-12-15T14:01:09.811Z"
   },
   {
    "duration": 1261,
    "start_time": "2022-12-15T14:01:11.655Z"
   },
   {
    "duration": 4,
    "start_time": "2022-12-15T14:01:31.866Z"
   },
   {
    "duration": 1064,
    "start_time": "2022-12-15T14:01:32.763Z"
   },
   {
    "duration": 1287,
    "start_time": "2022-12-15T14:01:35.539Z"
   },
   {
    "duration": 4,
    "start_time": "2022-12-15T14:01:39.108Z"
   },
   {
    "duration": 11435,
    "start_time": "2022-12-15T14:01:39.522Z"
   },
   {
    "duration": 11652,
    "start_time": "2022-12-15T14:01:54.883Z"
   },
   {
    "duration": 2,
    "start_time": "2022-12-15T14:02:10.299Z"
   },
   {
    "duration": 125,
    "start_time": "2022-12-15T14:02:12.203Z"
   },
   {
    "duration": 139,
    "start_time": "2022-12-15T14:02:13.586Z"
   },
   {
    "duration": 4,
    "start_time": "2022-12-15T14:02:15.834Z"
   },
   {
    "duration": 8,
    "start_time": "2022-12-15T14:02:18.261Z"
   },
   {
    "duration": 4,
    "start_time": "2022-12-15T14:08:38.896Z"
   },
   {
    "duration": 3,
    "start_time": "2022-12-15T14:09:59.413Z"
   },
   {
    "duration": 368,
    "start_time": "2022-12-15T14:10:25.063Z"
   },
   {
    "duration": 293,
    "start_time": "2022-12-15T14:10:26.031Z"
   },
   {
    "duration": 10,
    "start_time": "2022-12-15T14:12:00.389Z"
   },
   {
    "duration": 8,
    "start_time": "2022-12-15T14:12:24.524Z"
   },
   {
    "duration": 8,
    "start_time": "2022-12-15T14:12:26.628Z"
   },
   {
    "duration": 3,
    "start_time": "2022-12-15T14:12:45.293Z"
   },
   {
    "duration": 3,
    "start_time": "2022-12-15T14:12:53.142Z"
   },
   {
    "duration": 3,
    "start_time": "2022-12-15T14:13:01.435Z"
   },
   {
    "duration": 152,
    "start_time": "2022-12-15T14:13:03.470Z"
   },
   {
    "duration": 164,
    "start_time": "2022-12-15T14:13:04.262Z"
   },
   {
    "duration": 9,
    "start_time": "2022-12-15T14:13:05.021Z"
   },
   {
    "duration": 9,
    "start_time": "2022-12-15T14:13:10.171Z"
   },
   {
    "duration": 8,
    "start_time": "2022-12-15T14:13:16.204Z"
   },
   {
    "duration": 8,
    "start_time": "2022-12-15T14:13:18.163Z"
   },
   {
    "duration": 4,
    "start_time": "2022-12-15T14:13:31.216Z"
   },
   {
    "duration": 3,
    "start_time": "2022-12-15T14:13:37.565Z"
   },
   {
    "duration": 100,
    "start_time": "2022-12-15T14:13:39.326Z"
   },
   {
    "duration": 90,
    "start_time": "2022-12-15T14:13:39.932Z"
   },
   {
    "duration": 3,
    "start_time": "2022-12-15T14:13:40.669Z"
   },
   {
    "duration": 3,
    "start_time": "2022-12-15T14:13:50.635Z"
   },
   {
    "duration": 8,
    "start_time": "2022-12-15T14:13:52.693Z"
   },
   {
    "duration": 8,
    "start_time": "2022-12-15T14:13:55.046Z"
   },
   {
    "duration": 9,
    "start_time": "2022-12-15T14:13:58.515Z"
   },
   {
    "duration": 35,
    "start_time": "2022-12-15T14:14:01.294Z"
   },
   {
    "duration": 224,
    "start_time": "2022-12-15T14:14:01.597Z"
   },
   {
    "duration": 10,
    "start_time": "2022-12-15T14:14:02.069Z"
   },
   {
    "duration": 9,
    "start_time": "2022-12-15T14:14:07.947Z"
   },
   {
    "duration": 3,
    "start_time": "2022-12-15T14:14:13.757Z"
   },
   {
    "duration": 69,
    "start_time": "2022-12-15T14:14:14.959Z"
   },
   {
    "duration": 105,
    "start_time": "2022-12-15T14:14:15.525Z"
   },
   {
    "duration": 9,
    "start_time": "2022-12-15T14:14:18.037Z"
   },
   {
    "duration": 3,
    "start_time": "2022-12-15T14:14:28.604Z"
   },
   {
    "duration": 79,
    "start_time": "2022-12-15T14:14:42.548Z"
   },
   {
    "duration": 89,
    "start_time": "2022-12-15T14:14:43.133Z"
   },
   {
    "duration": 3,
    "start_time": "2022-12-15T14:14:43.677Z"
   },
   {
    "duration": 3,
    "start_time": "2022-12-15T14:15:24.922Z"
   },
   {
    "duration": 8,
    "start_time": "2022-12-15T14:15:27.693Z"
   },
   {
    "duration": 179,
    "start_time": "2022-12-15T14:15:35.548Z"
   },
   {
    "duration": 181,
    "start_time": "2022-12-15T14:15:35.845Z"
   },
   {
    "duration": 10,
    "start_time": "2022-12-15T14:15:36.573Z"
   },
   {
    "duration": 3,
    "start_time": "2022-12-15T14:15:38.605Z"
   },
   {
    "duration": 3,
    "start_time": "2022-12-15T14:15:41.005Z"
   },
   {
    "duration": 3,
    "start_time": "2022-12-15T14:15:42.589Z"
   },
   {
    "duration": 3,
    "start_time": "2022-12-15T14:16:04.722Z"
   },
   {
    "duration": 194,
    "start_time": "2022-12-15T14:16:17.927Z"
   },
   {
    "duration": 105,
    "start_time": "2022-12-15T14:16:18.822Z"
   },
   {
    "duration": 3,
    "start_time": "2022-12-15T14:16:27.869Z"
   },
   {
    "duration": 5,
    "start_time": "2022-12-15T14:17:49.299Z"
   },
   {
    "duration": 5,
    "start_time": "2022-12-15T14:18:52.531Z"
   },
   {
    "duration": 1358,
    "start_time": "2022-12-15T14:18:55.005Z"
   },
   {
    "duration": 4,
    "start_time": "2022-12-15T14:19:07.821Z"
   },
   {
    "duration": 1581,
    "start_time": "2022-12-15T14:19:10.045Z"
   },
   {
    "duration": 1497,
    "start_time": "2022-12-15T14:19:15.825Z"
   },
   {
    "duration": 3,
    "start_time": "2022-12-15T14:19:21.709Z"
   },
   {
    "duration": 159,
    "start_time": "2022-12-15T14:19:22.965Z"
   },
   {
    "duration": 108,
    "start_time": "2022-12-15T14:19:24.222Z"
   },
   {
    "duration": 3,
    "start_time": "2022-12-15T14:19:26.725Z"
   },
   {
    "duration": 11,
    "start_time": "2022-12-15T14:19:35.637Z"
   },
   {
    "duration": 4,
    "start_time": "2022-12-15T14:20:53.744Z"
   },
   {
    "duration": 11676,
    "start_time": "2022-12-15T14:20:56.724Z"
   },
   {
    "duration": 12013,
    "start_time": "2022-12-15T14:21:11.004Z"
   },
   {
    "duration": 5,
    "start_time": "2022-12-15T14:22:15.874Z"
   },
   {
    "duration": 1358,
    "start_time": "2022-12-15T14:23:23.696Z"
   },
   {
    "duration": 679,
    "start_time": "2022-12-15T14:23:25.056Z"
   },
   {
    "duration": 33,
    "start_time": "2022-12-15T14:23:25.737Z"
   },
   {
    "duration": 28,
    "start_time": "2022-12-15T14:23:25.772Z"
   },
   {
    "duration": 50,
    "start_time": "2022-12-15T14:23:25.802Z"
   },
   {
    "duration": 27,
    "start_time": "2022-12-15T14:23:25.854Z"
   },
   {
    "duration": 16,
    "start_time": "2022-12-15T14:23:25.883Z"
   },
   {
    "duration": 37,
    "start_time": "2022-12-15T14:23:25.901Z"
   },
   {
    "duration": 237,
    "start_time": "2022-12-15T14:23:25.939Z"
   },
   {
    "duration": 126,
    "start_time": "2022-12-15T14:23:26.179Z"
   },
   {
    "duration": 230,
    "start_time": "2022-12-15T14:23:26.307Z"
   },
   {
    "duration": 54,
    "start_time": "2022-12-15T14:23:26.538Z"
   },
   {
    "duration": 29,
    "start_time": "2022-12-15T14:23:26.594Z"
   },
   {
    "duration": 26,
    "start_time": "2022-12-15T14:23:26.624Z"
   },
   {
    "duration": 111,
    "start_time": "2022-12-15T14:23:26.651Z"
   },
   {
    "duration": 27,
    "start_time": "2022-12-15T14:23:26.763Z"
   },
   {
    "duration": 99,
    "start_time": "2022-12-15T14:23:26.791Z"
   },
   {
    "duration": 3,
    "start_time": "2022-12-15T14:23:26.892Z"
   },
   {
    "duration": 11,
    "start_time": "2022-12-15T14:23:26.896Z"
   },
   {
    "duration": 27,
    "start_time": "2022-12-15T14:23:26.908Z"
   },
   {
    "duration": 27,
    "start_time": "2022-12-15T14:23:26.936Z"
   },
   {
    "duration": 11,
    "start_time": "2022-12-15T14:23:26.964Z"
   },
   {
    "duration": 196,
    "start_time": "2022-12-15T14:23:26.977Z"
   },
   {
    "duration": 3,
    "start_time": "2022-12-15T14:23:27.174Z"
   },
   {
    "duration": 865,
    "start_time": "2022-12-15T14:23:27.179Z"
   },
   {
    "duration": 925,
    "start_time": "2022-12-15T14:23:28.045Z"
   },
   {
    "duration": 799,
    "start_time": "2022-12-15T14:23:28.971Z"
   },
   {
    "duration": 430,
    "start_time": "2022-12-15T14:23:29.773Z"
   },
   {
    "duration": 3,
    "start_time": "2022-12-15T14:23:30.206Z"
   },
   {
    "duration": 606,
    "start_time": "2022-12-15T14:23:30.211Z"
   },
   {
    "duration": 2,
    "start_time": "2022-12-15T14:23:30.819Z"
   },
   {
    "duration": 38,
    "start_time": "2022-12-15T14:23:30.823Z"
   },
   {
    "duration": 673,
    "start_time": "2022-12-15T14:23:30.863Z"
   },
   {
    "duration": 17,
    "start_time": "2022-12-15T14:23:31.538Z"
   },
   {
    "duration": 732,
    "start_time": "2022-12-15T14:23:31.557Z"
   },
   {
    "duration": 2,
    "start_time": "2022-12-15T14:23:32.291Z"
   },
   {
    "duration": 20,
    "start_time": "2022-12-15T14:23:32.294Z"
   },
   {
    "duration": 23,
    "start_time": "2022-12-15T14:23:32.315Z"
   },
   {
    "duration": 16,
    "start_time": "2022-12-15T14:23:32.339Z"
   },
   {
    "duration": 14,
    "start_time": "2022-12-15T14:23:32.356Z"
   },
   {
    "duration": 4,
    "start_time": "2022-12-15T14:23:45.670Z"
   },
   {
    "duration": 1599,
    "start_time": "2022-12-15T14:23:47.127Z"
   },
   {
    "duration": 1328,
    "start_time": "2022-12-15T14:23:50.495Z"
   },
   {
    "duration": 4,
    "start_time": "2022-12-15T14:23:56.805Z"
   },
   {
    "duration": 11833,
    "start_time": "2022-12-15T14:23:57.389Z"
   },
   {
    "duration": 11963,
    "start_time": "2022-12-15T14:24:11.717Z"
   },
   {
    "duration": 5,
    "start_time": "2022-12-15T14:24:26.812Z"
   },
   {
    "duration": 682351,
    "start_time": "2022-12-15T14:24:27.797Z"
   },
   {
    "duration": 698844,
    "start_time": "2022-12-15T14:35:50.151Z"
   },
   {
    "duration": 3,
    "start_time": "2022-12-15T14:48:34.357Z"
   },
   {
    "duration": 219,
    "start_time": "2022-12-15T14:48:37.204Z"
   },
   {
    "duration": 184,
    "start_time": "2022-12-15T14:48:38.141Z"
   },
   {
    "duration": 3,
    "start_time": "2022-12-15T14:48:40.821Z"
   },
   {
    "duration": 9,
    "start_time": "2022-12-15T14:48:43.636Z"
   }
  ],
  "kernelspec": {
   "display_name": "Python 3 (ipykernel)",
   "language": "python",
   "name": "python3"
  },
  "language_info": {
   "codemirror_mode": {
    "name": "ipython",
    "version": 3
   },
   "file_extension": ".py",
   "mimetype": "text/x-python",
   "name": "python",
   "nbconvert_exporter": "python",
   "pygments_lexer": "ipython3",
   "version": "3.9.12"
  },
  "toc": {
   "base_numbering": 1,
   "nav_menu": {},
   "number_sections": true,
   "sideBar": true,
   "skip_h1_title": true,
   "title_cell": "Содержание",
   "title_sidebar": "Contents",
   "toc_cell": true,
   "toc_position": {
    "height": "calc(100% - 180px)",
    "left": "10px",
    "top": "150px",
    "width": "228.062px"
   },
   "toc_section_display": true,
   "toc_window_display": true
  }
 },
 "nbformat": 4,
 "nbformat_minor": 2
}
