{
 "cells": [
  {
   "cell_type": "markdown",
   "metadata": {},
   "source": [
    "# Температура плавления стали"
   ]
  },
  {
   "cell_type": "markdown",
   "metadata": {},
   "source": [
    "Чтобы оптимизировать производственные расходы, металлургический комбинат ООО «Так закаляем сталь» решил уменьшить потребление электроэнергии на этапе обработки стали. Вам предстоит построить модель, которая предскажет температуру стали.\n",
    "\n",
    "**Описание этапа обработки**\n",
    "\n",
    "Сталь обрабатывают в металлическом ковше вместимостью около 100 тонн. Чтобы ковш выдерживал высокие температуры, изнутри его облицовывают огнеупорным кирпичом. Расплавленную сталь заливают в ковш и подогревают до нужной температуры графитовыми электродами. Они установлены в крышке ковша. \n",
    "\n",
    "Из сплава выводится сера (десульфурация), добавлением примесей корректируется химический состав и отбираются пробы. Сталь легируют — изменяют её состав — подавая куски сплава из бункера для сыпучих материалов или проволоку через специальный трайб-аппарат (англ. tribe, «масса»).\n",
    "\n",
    "Перед тем как первый раз ввести легирующие добавки, измеряют температуру стали и производят её химический анализ. Потом температуру на несколько минут повышают, добавляют легирующие материалы и продувают сплав инертным газом. Затем его перемешивают и снова проводят измерения. Такой цикл повторяется до достижения целевого химического состава и оптимальной температуры плавки.\n",
    "\n",
    "Тогда расплавленная сталь отправляется на доводку металла или поступает в машину непрерывной разливки. Оттуда готовый продукт выходит в виде заготовок-слябов (англ. *slab*, «плита»).\n",
    "\n",
    "**Описание данных**\n",
    "\n",
    "Данные состоят из файлов, полученных из разных источников:\n",
    "\n",
    "- `data_arc_new.csv` — данные об электродах;\n",
    "- `data_bulk_new.csv` — данные о подаче сыпучих материалов (объём);\n",
    "- `data_bulk_time_new.csv` *—* данные о подаче сыпучих материалов (время);\n",
    "- `data_gas_new.csv` — данные о продувке сплава газом;\n",
    "- `data_temp_new.csv` — результаты измерения температуры;\n",
    "- `data_wire_new.csv` — данные о проволочных материалах (объём);\n",
    "- `data_wire_time_new.csv` — данные о проволочных материалах (время).\n",
    "\n",
    "Во всех файлах столбец `key` содержит номер партии. В файлах может быть несколько строк с одинаковым значением `key`: они соответствуют разным итерациям обработки."
   ]
  },
  {
   "cell_type": "markdown",
   "metadata": {},
   "source": [
    "## Изучение данных"
   ]
  },
  {
   "cell_type": "code",
   "execution_count": 1,
   "metadata": {},
   "outputs": [
    {
     "name": "stdout",
     "output_type": "stream",
     "text": [
      "Collecting shap\n",
      "  Downloading shap-0.41.0-cp39-cp39-manylinux_2_12_x86_64.manylinux2010_x86_64.whl (572 kB)\n",
      "\u001b[K     |████████████████████████████████| 572 kB 2.6 MB/s eta 0:00:01\n",
      "\u001b[?25hCollecting cloudpickle\n",
      "  Downloading cloudpickle-2.2.1-py3-none-any.whl (25 kB)\n",
      "Requirement already satisfied: pandas in /opt/conda/lib/python3.9/site-packages (from shap) (1.2.4)\n",
      "Requirement already satisfied: scipy in /opt/conda/lib/python3.9/site-packages (from shap) (1.9.1)\n",
      "Requirement already satisfied: packaging>20.9 in /opt/conda/lib/python3.9/site-packages (from shap) (21.3)\n",
      "Requirement already satisfied: numba in /opt/conda/lib/python3.9/site-packages (from shap) (0.56.0)\n",
      "Requirement already satisfied: tqdm>4.25.0 in /opt/conda/lib/python3.9/site-packages (from shap) (4.61.2)\n",
      "Collecting slicer==0.0.7\n",
      "  Downloading slicer-0.0.7-py3-none-any.whl (14 kB)\n",
      "Requirement already satisfied: scikit-learn in /opt/conda/lib/python3.9/site-packages (from shap) (0.24.1)\n",
      "Requirement already satisfied: numpy in /opt/conda/lib/python3.9/site-packages (from shap) (1.21.1)\n",
      "Requirement already satisfied: pyparsing!=3.0.5,>=2.0.2 in /opt/conda/lib/python3.9/site-packages (from packaging>20.9->shap) (2.4.7)\n",
      "Requirement already satisfied: llvmlite<0.40,>=0.39.0dev0 in /opt/conda/lib/python3.9/site-packages (from numba->shap) (0.39.0)\n",
      "Requirement already satisfied: setuptools in /opt/conda/lib/python3.9/site-packages (from numba->shap) (49.6.0.post20210108)\n",
      "Requirement already satisfied: python-dateutil>=2.7.3 in /opt/conda/lib/python3.9/site-packages (from pandas->shap) (2.8.1)\n",
      "Requirement already satisfied: pytz>=2017.3 in /opt/conda/lib/python3.9/site-packages (from pandas->shap) (2021.1)\n",
      "Requirement already satisfied: six>=1.5 in /opt/conda/lib/python3.9/site-packages (from python-dateutil>=2.7.3->pandas->shap) (1.16.0)\n",
      "Requirement already satisfied: threadpoolctl>=2.0.0 in /opt/conda/lib/python3.9/site-packages (from scikit-learn->shap) (3.1.0)\n",
      "Requirement already satisfied: joblib>=0.11 in /opt/conda/lib/python3.9/site-packages (from scikit-learn->shap) (1.1.0)\n",
      "Installing collected packages: slicer, cloudpickle, shap\n",
      "Successfully installed cloudpickle-2.2.1 shap-0.41.0 slicer-0.0.7\n"
     ]
    }
   ],
   "source": [
    "#импортируем необходимые библиотеки\n",
    "import pandas as pd\n",
    "import numpy as np\n",
    "import matplotlib.pyplot as plt\n",
    "import seaborn as sns\n",
    "import warnings\n",
    "warnings.filterwarnings('ignore')\n",
    "\n",
    "!pip install shap\n",
    "import shap\n",
    "\n",
    "from sklearn.model_selection import train_test_split, cross_val_score, GridSearchCV\n",
    "from sklearn.linear_model import LinearRegression\n",
    "from sklearn.ensemble import RandomForestRegressor\n",
    "from catboost import CatBoostRegressor\n",
    "from lightgbm import LGBMRegressor\n",
    "from sklearn.dummy import DummyRegressor\n",
    "from sklearn.metrics import mean_absolute_error"
   ]
  },
  {
   "cell_type": "markdown",
   "metadata": {},
   "source": [
    "### Данные об электродах"
   ]
  },
  {
   "cell_type": "code",
   "execution_count": 2,
   "metadata": {
    "scrolled": true
   },
   "outputs": [
    {
     "data": {
      "text/html": [
       "<div>\n",
       "<style scoped>\n",
       "    .dataframe tbody tr th:only-of-type {\n",
       "        vertical-align: middle;\n",
       "    }\n",
       "\n",
       "    .dataframe tbody tr th {\n",
       "        vertical-align: top;\n",
       "    }\n",
       "\n",
       "    .dataframe thead th {\n",
       "        text-align: right;\n",
       "    }\n",
       "</style>\n",
       "<table border=\"1\" class=\"dataframe\">\n",
       "  <thead>\n",
       "    <tr style=\"text-align: right;\">\n",
       "      <th></th>\n",
       "      <th>key</th>\n",
       "      <th>Начало нагрева дугой</th>\n",
       "      <th>Конец нагрева дугой</th>\n",
       "      <th>Активная мощность</th>\n",
       "      <th>Реактивная мощность</th>\n",
       "    </tr>\n",
       "  </thead>\n",
       "  <tbody>\n",
       "    <tr>\n",
       "      <th>0</th>\n",
       "      <td>1</td>\n",
       "      <td>2019-05-03 11:02:14</td>\n",
       "      <td>2019-05-03 11:06:02</td>\n",
       "      <td>0.305130</td>\n",
       "      <td>0.211253</td>\n",
       "    </tr>\n",
       "    <tr>\n",
       "      <th>1</th>\n",
       "      <td>1</td>\n",
       "      <td>2019-05-03 11:07:28</td>\n",
       "      <td>2019-05-03 11:10:33</td>\n",
       "      <td>0.765658</td>\n",
       "      <td>0.477438</td>\n",
       "    </tr>\n",
       "    <tr>\n",
       "      <th>2</th>\n",
       "      <td>1</td>\n",
       "      <td>2019-05-03 11:11:44</td>\n",
       "      <td>2019-05-03 11:14:36</td>\n",
       "      <td>0.580313</td>\n",
       "      <td>0.430460</td>\n",
       "    </tr>\n",
       "    <tr>\n",
       "      <th>3</th>\n",
       "      <td>1</td>\n",
       "      <td>2019-05-03 11:18:14</td>\n",
       "      <td>2019-05-03 11:24:19</td>\n",
       "      <td>0.518496</td>\n",
       "      <td>0.379979</td>\n",
       "    </tr>\n",
       "    <tr>\n",
       "      <th>4</th>\n",
       "      <td>1</td>\n",
       "      <td>2019-05-03 11:26:09</td>\n",
       "      <td>2019-05-03 11:28:37</td>\n",
       "      <td>0.867133</td>\n",
       "      <td>0.643691</td>\n",
       "    </tr>\n",
       "  </tbody>\n",
       "</table>\n",
       "</div>"
      ],
      "text/plain": [
       "   key Начало нагрева дугой  Конец нагрева дугой  Активная мощность  \\\n",
       "0    1  2019-05-03 11:02:14  2019-05-03 11:06:02           0.305130   \n",
       "1    1  2019-05-03 11:07:28  2019-05-03 11:10:33           0.765658   \n",
       "2    1  2019-05-03 11:11:44  2019-05-03 11:14:36           0.580313   \n",
       "3    1  2019-05-03 11:18:14  2019-05-03 11:24:19           0.518496   \n",
       "4    1  2019-05-03 11:26:09  2019-05-03 11:28:37           0.867133   \n",
       "\n",
       "   Реактивная мощность  \n",
       "0             0.211253  \n",
       "1             0.477438  \n",
       "2             0.430460  \n",
       "3             0.379979  \n",
       "4             0.643691  "
      ]
     },
     "execution_count": 2,
     "metadata": {},
     "output_type": "execute_result"
    }
   ],
   "source": [
    "data_arc = pd.read_csv('/datasets/data_arc_new.csv')\n",
    "data_arc.head()"
   ]
  },
  {
   "cell_type": "code",
   "execution_count": 3,
   "metadata": {},
   "outputs": [
    {
     "name": "stdout",
     "output_type": "stream",
     "text": [
      "<class 'pandas.core.frame.DataFrame'>\n",
      "RangeIndex: 14876 entries, 0 to 14875\n",
      "Data columns (total 5 columns):\n",
      " #   Column                Non-Null Count  Dtype  \n",
      "---  ------                --------------  -----  \n",
      " 0   key                   14876 non-null  int64  \n",
      " 1   Начало нагрева дугой  14876 non-null  object \n",
      " 2   Конец нагрева дугой   14876 non-null  object \n",
      " 3   Активная мощность     14876 non-null  float64\n",
      " 4   Реактивная мощность   14876 non-null  float64\n",
      "dtypes: float64(2), int64(1), object(2)\n",
      "memory usage: 581.2+ KB\n"
     ]
    }
   ],
   "source": [
    "data_arc.info()"
   ]
  },
  {
   "cell_type": "code",
   "execution_count": 4,
   "metadata": {},
   "outputs": [
    {
     "data": {
      "text/html": [
       "<div>\n",
       "<style scoped>\n",
       "    .dataframe tbody tr th:only-of-type {\n",
       "        vertical-align: middle;\n",
       "    }\n",
       "\n",
       "    .dataframe tbody tr th {\n",
       "        vertical-align: top;\n",
       "    }\n",
       "\n",
       "    .dataframe thead th {\n",
       "        text-align: right;\n",
       "    }\n",
       "</style>\n",
       "<table border=\"1\" class=\"dataframe\">\n",
       "  <thead>\n",
       "    <tr style=\"text-align: right;\">\n",
       "      <th></th>\n",
       "      <th>key</th>\n",
       "      <th>Активная мощность</th>\n",
       "      <th>Реактивная мощность</th>\n",
       "    </tr>\n",
       "  </thead>\n",
       "  <tbody>\n",
       "    <tr>\n",
       "      <th>count</th>\n",
       "      <td>14876.000000</td>\n",
       "      <td>14876.000000</td>\n",
       "      <td>14876.000000</td>\n",
       "    </tr>\n",
       "    <tr>\n",
       "      <th>mean</th>\n",
       "      <td>1615.220422</td>\n",
       "      <td>0.662752</td>\n",
       "      <td>0.438986</td>\n",
       "    </tr>\n",
       "    <tr>\n",
       "      <th>std</th>\n",
       "      <td>934.571502</td>\n",
       "      <td>0.258885</td>\n",
       "      <td>5.873485</td>\n",
       "    </tr>\n",
       "    <tr>\n",
       "      <th>min</th>\n",
       "      <td>1.000000</td>\n",
       "      <td>0.223120</td>\n",
       "      <td>-715.479924</td>\n",
       "    </tr>\n",
       "    <tr>\n",
       "      <th>25%</th>\n",
       "      <td>806.000000</td>\n",
       "      <td>0.467115</td>\n",
       "      <td>0.337175</td>\n",
       "    </tr>\n",
       "    <tr>\n",
       "      <th>50%</th>\n",
       "      <td>1617.000000</td>\n",
       "      <td>0.599587</td>\n",
       "      <td>0.441639</td>\n",
       "    </tr>\n",
       "    <tr>\n",
       "      <th>75%</th>\n",
       "      <td>2429.000000</td>\n",
       "      <td>0.830070</td>\n",
       "      <td>0.608201</td>\n",
       "    </tr>\n",
       "    <tr>\n",
       "      <th>max</th>\n",
       "      <td>3241.000000</td>\n",
       "      <td>1.463773</td>\n",
       "      <td>1.270284</td>\n",
       "    </tr>\n",
       "  </tbody>\n",
       "</table>\n",
       "</div>"
      ],
      "text/plain": [
       "                key  Активная мощность  Реактивная мощность\n",
       "count  14876.000000       14876.000000         14876.000000\n",
       "mean    1615.220422           0.662752             0.438986\n",
       "std      934.571502           0.258885             5.873485\n",
       "min        1.000000           0.223120          -715.479924\n",
       "25%      806.000000           0.467115             0.337175\n",
       "50%     1617.000000           0.599587             0.441639\n",
       "75%     2429.000000           0.830070             0.608201\n",
       "max     3241.000000           1.463773             1.270284"
      ]
     },
     "execution_count": 4,
     "metadata": {},
     "output_type": "execute_result"
    }
   ],
   "source": [
    "data_arc.describe()"
   ]
  },
  {
   "cell_type": "markdown",
   "metadata": {},
   "source": [
    "Видим значение реактивной мощности сильно ниже 0. Скорее всего, что это выброс. Посмотрим сколько значений меньше 0"
   ]
  },
  {
   "cell_type": "code",
   "execution_count": 5,
   "metadata": {},
   "outputs": [
    {
     "data": {
      "text/html": [
       "<div>\n",
       "<style scoped>\n",
       "    .dataframe tbody tr th:only-of-type {\n",
       "        vertical-align: middle;\n",
       "    }\n",
       "\n",
       "    .dataframe tbody tr th {\n",
       "        vertical-align: top;\n",
       "    }\n",
       "\n",
       "    .dataframe thead th {\n",
       "        text-align: right;\n",
       "    }\n",
       "</style>\n",
       "<table border=\"1\" class=\"dataframe\">\n",
       "  <thead>\n",
       "    <tr style=\"text-align: right;\">\n",
       "      <th></th>\n",
       "      <th>key</th>\n",
       "      <th>Начало нагрева дугой</th>\n",
       "      <th>Конец нагрева дугой</th>\n",
       "      <th>Активная мощность</th>\n",
       "      <th>Реактивная мощность</th>\n",
       "    </tr>\n",
       "  </thead>\n",
       "  <tbody>\n",
       "    <tr>\n",
       "      <th>9780</th>\n",
       "      <td>2116</td>\n",
       "      <td>2019-07-28 02:22:08</td>\n",
       "      <td>2019-07-28 02:23:57</td>\n",
       "      <td>0.705344</td>\n",
       "      <td>-715.479924</td>\n",
       "    </tr>\n",
       "  </tbody>\n",
       "</table>\n",
       "</div>"
      ],
      "text/plain": [
       "       key Начало нагрева дугой  Конец нагрева дугой  Активная мощность  \\\n",
       "9780  2116  2019-07-28 02:22:08  2019-07-28 02:23:57           0.705344   \n",
       "\n",
       "      Реактивная мощность  \n",
       "9780          -715.479924  "
      ]
     },
     "execution_count": 5,
     "metadata": {},
     "output_type": "execute_result"
    }
   ],
   "source": [
    "data_arc.loc[data_arc['Реактивная мощность'] < 0]"
   ]
  },
  {
   "cell_type": "markdown",
   "metadata": {},
   "source": [
    "Имеем всего одно аномальное значение, значит можем смело его удалить"
   ]
  },
  {
   "cell_type": "code",
   "execution_count": 6,
   "metadata": {},
   "outputs": [],
   "source": [
    "data_arc = data_arc[data_arc['Реактивная мощность'] > 0]"
   ]
  },
  {
   "cell_type": "code",
   "execution_count": 7,
   "metadata": {},
   "outputs": [
    {
     "data": {
      "image/png": "[encoded data removed]",
      "text/plain": [
       "<Figure size 1008x504 with 1 Axes>"
      ]
     },
     "metadata": {
      "needs_background": "light"
     },
     "output_type": "display_data"
    },
    {
     "data": {
      "image/png": "[encoded data removed]",
      "text/plain": [
       "<Figure size 1008x504 with 1 Axes>"
      ]
     },
     "metadata": {
      "needs_background": "light"
     },
     "output_type": "display_data"
    }
   ],
   "source": [
    "#построим графики по активной и реактивной мощности\n",
    "data_arc['Активная мощность'].hist(bins=100, figsize=(14, 7))\n",
    "plt.title('Распределение активной мощности')\n",
    "plt.show()\n",
    "data_arc['Реактивная мощность'].hist(bins=100, figsize=(14, 7))\n",
    "plt.title('Распределение реактивной мощности')\n",
    "plt.show()"
   ]
  },
  {
   "cell_type": "markdown",
   "metadata": {},
   "source": [
    "В сети сказано следующее:\n",
    "\n",
    "**Фактически, активная мощность определяет скорость полезного потребления энергии. Реактивная мощность — мощность определяемая электромагнитными полями, образующимися в процессе работы приборов. Реактивная мощность, как правило, является «вредной» или «паразитной». Реактивная мощность определяется характером нагрузки.**\n",
    "\n",
    "Можно сказать, что мощности связаны между собой. Построим по ним график зависимости и взглянем на их корреляцию"
   ]
  },
  {
   "cell_type": "code",
   "execution_count": 8,
   "metadata": {},
   "outputs": [
    {
     "data": {
      "image/png": "[encoded data removed]",
      "text/plain": [
       "<Figure size 864x360 with 1 Axes>"
      ]
     },
     "metadata": {
      "needs_background": "light"
     },
     "output_type": "display_data"
    },
    {
     "name": "stdout",
     "output_type": "stream",
     "text": [
      "Коэффициент корреляции: 0.9663734456187294\n"
     ]
    }
   ],
   "source": [
    "data_arc.plot(x='Активная мощность', y='Реактивная мощность', figsize=(12, 5), \n",
    "              kind='scatter', title='Зависимость мощностей', alpha=0.03)\n",
    "plt.show()\n",
    "print('Коэффициент корреляции:',data_arc['Реактивная мощность'].corr(data_arc['Активная мощность']))"
   ]
  },
  {
   "cell_type": "markdown",
   "metadata": {},
   "source": [
    "По графику видно следующее:\n",
    "\n",
    "* сделав график более прозрачным, мы увидели область данных с самой высокой частотой\n",
    "* чем ниже активная мощность, тем ближе к ней реактивная. С увеличением появляется небольшой разброс\n",
    "* по коэффициенту корреляции можно сказать, что активная и реактивная мощность полностью связаны друг с другом"
   ]
  },
  {
   "cell_type": "code",
   "execution_count": 9,
   "metadata": {},
   "outputs": [
    {
     "data": {
      "text/plain": [
       "0           1\n",
       "1           1\n",
       "2           1\n",
       "3           1\n",
       "4           1\n",
       "         ... \n",
       "14873    3241\n",
       "14874    3241\n",
       "14871    3241\n",
       "14872    3241\n",
       "14875    3241\n",
       "Name: key, Length: 14875, dtype: int64"
      ]
     },
     "execution_count": 9,
     "metadata": {},
     "output_type": "execute_result"
    }
   ],
   "source": [
    "data_arc['key'].sort_values()"
   ]
  },
  {
   "cell_type": "code",
   "execution_count": 10,
   "metadata": {},
   "outputs": [
    {
     "data": {
      "text/plain": [
       "3214"
      ]
     },
     "execution_count": 10,
     "metadata": {},
     "output_type": "execute_result"
    }
   ],
   "source": [
    "#посмотрим на количество уникальных партий\n",
    "data_arc['key'].nunique()"
   ]
  },
  {
   "cell_type": "code",
   "execution_count": 11,
   "metadata": {},
   "outputs": [
    {
     "data": {
      "text/plain": [
       "0"
      ]
     },
     "execution_count": 11,
     "metadata": {},
     "output_type": "execute_result"
    }
   ],
   "source": [
    "#проверим наличие явных дубликатов в таблице\n",
    "data_arc.duplicated().sum()"
   ]
  },
  {
   "cell_type": "code",
   "execution_count": 12,
   "metadata": {},
   "outputs": [
    {
     "data": {
      "text/plain": [
       "key                     0\n",
       "Начало нагрева дугой    0\n",
       "Конец нагрева дугой     0\n",
       "Активная мощность       0\n",
       "Реактивная мощность     0\n",
       "dtype: int64"
      ]
     },
     "execution_count": 12,
     "metadata": {},
     "output_type": "execute_result"
    }
   ],
   "source": [
    "#выведем количество пропущенных значений для каждого столбца\n",
    "data_arc.isna().sum()"
   ]
  },
  {
   "cell_type": "markdown",
   "metadata": {},
   "source": [
    "### Данные о подаче сыпучих материалов (объём)"
   ]
  },
  {
   "cell_type": "code",
   "execution_count": 13,
   "metadata": {},
   "outputs": [
    {
     "data": {
      "text/html": [
       "<div>\n",
       "<style scoped>\n",
       "    .dataframe tbody tr th:only-of-type {\n",
       "        vertical-align: middle;\n",
       "    }\n",
       "\n",
       "    .dataframe tbody tr th {\n",
       "        vertical-align: top;\n",
       "    }\n",
       "\n",
       "    .dataframe thead th {\n",
       "        text-align: right;\n",
       "    }\n",
       "</style>\n",
       "<table border=\"1\" class=\"dataframe\">\n",
       "  <thead>\n",
       "    <tr style=\"text-align: right;\">\n",
       "      <th></th>\n",
       "      <th>key</th>\n",
       "      <th>Bulk 1</th>\n",
       "      <th>Bulk 2</th>\n",
       "      <th>Bulk 3</th>\n",
       "      <th>Bulk 4</th>\n",
       "      <th>Bulk 5</th>\n",
       "      <th>Bulk 6</th>\n",
       "      <th>Bulk 7</th>\n",
       "      <th>Bulk 8</th>\n",
       "      <th>Bulk 9</th>\n",
       "      <th>Bulk 10</th>\n",
       "      <th>Bulk 11</th>\n",
       "      <th>Bulk 12</th>\n",
       "      <th>Bulk 13</th>\n",
       "      <th>Bulk 14</th>\n",
       "      <th>Bulk 15</th>\n",
       "    </tr>\n",
       "  </thead>\n",
       "  <tbody>\n",
       "    <tr>\n",
       "      <th>0</th>\n",
       "      <td>1</td>\n",
       "      <td>NaN</td>\n",
       "      <td>NaN</td>\n",
       "      <td>NaN</td>\n",
       "      <td>43.0</td>\n",
       "      <td>NaN</td>\n",
       "      <td>NaN</td>\n",
       "      <td>NaN</td>\n",
       "      <td>NaN</td>\n",
       "      <td>NaN</td>\n",
       "      <td>NaN</td>\n",
       "      <td>NaN</td>\n",
       "      <td>206.0</td>\n",
       "      <td>NaN</td>\n",
       "      <td>150.0</td>\n",
       "      <td>154.0</td>\n",
       "    </tr>\n",
       "    <tr>\n",
       "      <th>1</th>\n",
       "      <td>2</td>\n",
       "      <td>NaN</td>\n",
       "      <td>NaN</td>\n",
       "      <td>NaN</td>\n",
       "      <td>73.0</td>\n",
       "      <td>NaN</td>\n",
       "      <td>NaN</td>\n",
       "      <td>NaN</td>\n",
       "      <td>NaN</td>\n",
       "      <td>NaN</td>\n",
       "      <td>NaN</td>\n",
       "      <td>NaN</td>\n",
       "      <td>206.0</td>\n",
       "      <td>NaN</td>\n",
       "      <td>149.0</td>\n",
       "      <td>154.0</td>\n",
       "    </tr>\n",
       "    <tr>\n",
       "      <th>2</th>\n",
       "      <td>3</td>\n",
       "      <td>NaN</td>\n",
       "      <td>NaN</td>\n",
       "      <td>NaN</td>\n",
       "      <td>34.0</td>\n",
       "      <td>NaN</td>\n",
       "      <td>NaN</td>\n",
       "      <td>NaN</td>\n",
       "      <td>NaN</td>\n",
       "      <td>NaN</td>\n",
       "      <td>NaN</td>\n",
       "      <td>NaN</td>\n",
       "      <td>205.0</td>\n",
       "      <td>NaN</td>\n",
       "      <td>152.0</td>\n",
       "      <td>153.0</td>\n",
       "    </tr>\n",
       "    <tr>\n",
       "      <th>3</th>\n",
       "      <td>4</td>\n",
       "      <td>NaN</td>\n",
       "      <td>NaN</td>\n",
       "      <td>NaN</td>\n",
       "      <td>81.0</td>\n",
       "      <td>NaN</td>\n",
       "      <td>NaN</td>\n",
       "      <td>NaN</td>\n",
       "      <td>NaN</td>\n",
       "      <td>NaN</td>\n",
       "      <td>NaN</td>\n",
       "      <td>NaN</td>\n",
       "      <td>207.0</td>\n",
       "      <td>NaN</td>\n",
       "      <td>153.0</td>\n",
       "      <td>154.0</td>\n",
       "    </tr>\n",
       "    <tr>\n",
       "      <th>4</th>\n",
       "      <td>5</td>\n",
       "      <td>NaN</td>\n",
       "      <td>NaN</td>\n",
       "      <td>NaN</td>\n",
       "      <td>78.0</td>\n",
       "      <td>NaN</td>\n",
       "      <td>NaN</td>\n",
       "      <td>NaN</td>\n",
       "      <td>NaN</td>\n",
       "      <td>NaN</td>\n",
       "      <td>NaN</td>\n",
       "      <td>NaN</td>\n",
       "      <td>203.0</td>\n",
       "      <td>NaN</td>\n",
       "      <td>151.0</td>\n",
       "      <td>152.0</td>\n",
       "    </tr>\n",
       "  </tbody>\n",
       "</table>\n",
       "</div>"
      ],
      "text/plain": [
       "   key  Bulk 1  Bulk 2  Bulk 3  Bulk 4  Bulk 5  Bulk 6  Bulk 7  Bulk 8  \\\n",
       "0    1     NaN     NaN     NaN    43.0     NaN     NaN     NaN     NaN   \n",
       "1    2     NaN     NaN     NaN    73.0     NaN     NaN     NaN     NaN   \n",
       "2    3     NaN     NaN     NaN    34.0     NaN     NaN     NaN     NaN   \n",
       "3    4     NaN     NaN     NaN    81.0     NaN     NaN     NaN     NaN   \n",
       "4    5     NaN     NaN     NaN    78.0     NaN     NaN     NaN     NaN   \n",
       "\n",
       "   Bulk 9  Bulk 10  Bulk 11  Bulk 12  Bulk 13  Bulk 14  Bulk 15  \n",
       "0     NaN      NaN      NaN    206.0      NaN    150.0    154.0  \n",
       "1     NaN      NaN      NaN    206.0      NaN    149.0    154.0  \n",
       "2     NaN      NaN      NaN    205.0      NaN    152.0    153.0  \n",
       "3     NaN      NaN      NaN    207.0      NaN    153.0    154.0  \n",
       "4     NaN      NaN      NaN    203.0      NaN    151.0    152.0  "
      ]
     },
     "execution_count": 13,
     "metadata": {},
     "output_type": "execute_result"
    }
   ],
   "source": [
    "data_bulk = pd.read_csv('/datasets/data_bulk_new.csv')\n",
    "data_bulk.head()"
   ]
  },
  {
   "cell_type": "code",
   "execution_count": 14,
   "metadata": {},
   "outputs": [
    {
     "name": "stdout",
     "output_type": "stream",
     "text": [
      "<class 'pandas.core.frame.DataFrame'>\n",
      "RangeIndex: 3129 entries, 0 to 3128\n",
      "Data columns (total 16 columns):\n",
      " #   Column   Non-Null Count  Dtype  \n",
      "---  ------   --------------  -----  \n",
      " 0   key      3129 non-null   int64  \n",
      " 1   Bulk 1   252 non-null    float64\n",
      " 2   Bulk 2   22 non-null     float64\n",
      " 3   Bulk 3   1298 non-null   float64\n",
      " 4   Bulk 4   1014 non-null   float64\n",
      " 5   Bulk 5   77 non-null     float64\n",
      " 6   Bulk 6   576 non-null    float64\n",
      " 7   Bulk 7   25 non-null     float64\n",
      " 8   Bulk 8   1 non-null      float64\n",
      " 9   Bulk 9   19 non-null     float64\n",
      " 10  Bulk 10  176 non-null    float64\n",
      " 11  Bulk 11  177 non-null    float64\n",
      " 12  Bulk 12  2450 non-null   float64\n",
      " 13  Bulk 13  18 non-null     float64\n",
      " 14  Bulk 14  2806 non-null   float64\n",
      " 15  Bulk 15  2248 non-null   float64\n",
      "dtypes: float64(15), int64(1)\n",
      "memory usage: 391.2 KB\n"
     ]
    }
   ],
   "source": [
    "data_bulk.info()"
   ]
  },
  {
   "cell_type": "code",
   "execution_count": 15,
   "metadata": {},
   "outputs": [
    {
     "data": {
      "text/html": [
       "<div>\n",
       "<style scoped>\n",
       "    .dataframe tbody tr th:only-of-type {\n",
       "        vertical-align: middle;\n",
       "    }\n",
       "\n",
       "    .dataframe tbody tr th {\n",
       "        vertical-align: top;\n",
       "    }\n",
       "\n",
       "    .dataframe thead th {\n",
       "        text-align: right;\n",
       "    }\n",
       "</style>\n",
       "<table border=\"1\" class=\"dataframe\">\n",
       "  <thead>\n",
       "    <tr style=\"text-align: right;\">\n",
       "      <th></th>\n",
       "      <th>key</th>\n",
       "      <th>Bulk 1</th>\n",
       "      <th>Bulk 2</th>\n",
       "      <th>Bulk 3</th>\n",
       "      <th>Bulk 4</th>\n",
       "      <th>Bulk 5</th>\n",
       "      <th>Bulk 6</th>\n",
       "      <th>Bulk 7</th>\n",
       "      <th>Bulk 8</th>\n",
       "      <th>Bulk 9</th>\n",
       "      <th>Bulk 10</th>\n",
       "      <th>Bulk 11</th>\n",
       "      <th>Bulk 12</th>\n",
       "      <th>Bulk 13</th>\n",
       "      <th>Bulk 14</th>\n",
       "      <th>Bulk 15</th>\n",
       "    </tr>\n",
       "  </thead>\n",
       "  <tbody>\n",
       "    <tr>\n",
       "      <th>count</th>\n",
       "      <td>3129.000000</td>\n",
       "      <td>252.000000</td>\n",
       "      <td>22.000000</td>\n",
       "      <td>1298.000000</td>\n",
       "      <td>1014.000000</td>\n",
       "      <td>77.000000</td>\n",
       "      <td>576.000000</td>\n",
       "      <td>25.000000</td>\n",
       "      <td>1.0</td>\n",
       "      <td>19.000000</td>\n",
       "      <td>176.000000</td>\n",
       "      <td>177.000000</td>\n",
       "      <td>2450.000000</td>\n",
       "      <td>18.000000</td>\n",
       "      <td>2806.000000</td>\n",
       "      <td>2248.000000</td>\n",
       "    </tr>\n",
       "    <tr>\n",
       "      <th>mean</th>\n",
       "      <td>1624.383509</td>\n",
       "      <td>39.242063</td>\n",
       "      <td>253.045455</td>\n",
       "      <td>113.879045</td>\n",
       "      <td>104.394477</td>\n",
       "      <td>107.025974</td>\n",
       "      <td>118.925347</td>\n",
       "      <td>305.600000</td>\n",
       "      <td>49.0</td>\n",
       "      <td>76.315789</td>\n",
       "      <td>83.284091</td>\n",
       "      <td>76.819209</td>\n",
       "      <td>260.471020</td>\n",
       "      <td>181.111111</td>\n",
       "      <td>170.284747</td>\n",
       "      <td>160.513345</td>\n",
       "    </tr>\n",
       "    <tr>\n",
       "      <th>std</th>\n",
       "      <td>933.337642</td>\n",
       "      <td>18.277654</td>\n",
       "      <td>21.180578</td>\n",
       "      <td>75.483494</td>\n",
       "      <td>48.184126</td>\n",
       "      <td>81.790646</td>\n",
       "      <td>72.057776</td>\n",
       "      <td>191.022904</td>\n",
       "      <td>NaN</td>\n",
       "      <td>21.720581</td>\n",
       "      <td>26.060347</td>\n",
       "      <td>59.655365</td>\n",
       "      <td>120.649269</td>\n",
       "      <td>46.088009</td>\n",
       "      <td>65.868652</td>\n",
       "      <td>51.765319</td>\n",
       "    </tr>\n",
       "    <tr>\n",
       "      <th>min</th>\n",
       "      <td>1.000000</td>\n",
       "      <td>10.000000</td>\n",
       "      <td>228.000000</td>\n",
       "      <td>6.000000</td>\n",
       "      <td>12.000000</td>\n",
       "      <td>11.000000</td>\n",
       "      <td>17.000000</td>\n",
       "      <td>47.000000</td>\n",
       "      <td>49.0</td>\n",
       "      <td>63.000000</td>\n",
       "      <td>24.000000</td>\n",
       "      <td>8.000000</td>\n",
       "      <td>53.000000</td>\n",
       "      <td>151.000000</td>\n",
       "      <td>16.000000</td>\n",
       "      <td>1.000000</td>\n",
       "    </tr>\n",
       "    <tr>\n",
       "      <th>25%</th>\n",
       "      <td>816.000000</td>\n",
       "      <td>27.000000</td>\n",
       "      <td>242.000000</td>\n",
       "      <td>58.000000</td>\n",
       "      <td>72.000000</td>\n",
       "      <td>70.000000</td>\n",
       "      <td>69.750000</td>\n",
       "      <td>155.000000</td>\n",
       "      <td>49.0</td>\n",
       "      <td>66.000000</td>\n",
       "      <td>64.000000</td>\n",
       "      <td>25.000000</td>\n",
       "      <td>204.000000</td>\n",
       "      <td>153.250000</td>\n",
       "      <td>119.000000</td>\n",
       "      <td>105.000000</td>\n",
       "    </tr>\n",
       "    <tr>\n",
       "      <th>50%</th>\n",
       "      <td>1622.000000</td>\n",
       "      <td>31.000000</td>\n",
       "      <td>251.500000</td>\n",
       "      <td>97.500000</td>\n",
       "      <td>102.000000</td>\n",
       "      <td>86.000000</td>\n",
       "      <td>100.000000</td>\n",
       "      <td>298.000000</td>\n",
       "      <td>49.0</td>\n",
       "      <td>68.000000</td>\n",
       "      <td>86.500000</td>\n",
       "      <td>64.000000</td>\n",
       "      <td>208.000000</td>\n",
       "      <td>155.500000</td>\n",
       "      <td>151.000000</td>\n",
       "      <td>160.000000</td>\n",
       "    </tr>\n",
       "    <tr>\n",
       "      <th>75%</th>\n",
       "      <td>2431.000000</td>\n",
       "      <td>46.000000</td>\n",
       "      <td>257.750000</td>\n",
       "      <td>152.000000</td>\n",
       "      <td>133.000000</td>\n",
       "      <td>132.000000</td>\n",
       "      <td>157.000000</td>\n",
       "      <td>406.000000</td>\n",
       "      <td>49.0</td>\n",
       "      <td>70.500000</td>\n",
       "      <td>102.000000</td>\n",
       "      <td>106.000000</td>\n",
       "      <td>316.000000</td>\n",
       "      <td>203.500000</td>\n",
       "      <td>205.750000</td>\n",
       "      <td>205.000000</td>\n",
       "    </tr>\n",
       "    <tr>\n",
       "      <th>max</th>\n",
       "      <td>3241.000000</td>\n",
       "      <td>185.000000</td>\n",
       "      <td>325.000000</td>\n",
       "      <td>454.000000</td>\n",
       "      <td>281.000000</td>\n",
       "      <td>603.000000</td>\n",
       "      <td>503.000000</td>\n",
       "      <td>772.000000</td>\n",
       "      <td>49.0</td>\n",
       "      <td>147.000000</td>\n",
       "      <td>159.000000</td>\n",
       "      <td>313.000000</td>\n",
       "      <td>1849.000000</td>\n",
       "      <td>305.000000</td>\n",
       "      <td>636.000000</td>\n",
       "      <td>405.000000</td>\n",
       "    </tr>\n",
       "  </tbody>\n",
       "</table>\n",
       "</div>"
      ],
      "text/plain": [
       "               key      Bulk 1      Bulk 2       Bulk 3       Bulk 4  \\\n",
       "count  3129.000000  252.000000   22.000000  1298.000000  1014.000000   \n",
       "mean   1624.383509   39.242063  253.045455   113.879045   104.394477   \n",
       "std     933.337642   18.277654   21.180578    75.483494    48.184126   \n",
       "min       1.000000   10.000000  228.000000     6.000000    12.000000   \n",
       "25%     816.000000   27.000000  242.000000    58.000000    72.000000   \n",
       "50%    1622.000000   31.000000  251.500000    97.500000   102.000000   \n",
       "75%    2431.000000   46.000000  257.750000   152.000000   133.000000   \n",
       "max    3241.000000  185.000000  325.000000   454.000000   281.000000   \n",
       "\n",
       "           Bulk 5      Bulk 6      Bulk 7  Bulk 8      Bulk 9     Bulk 10  \\\n",
       "count   77.000000  576.000000   25.000000     1.0   19.000000  176.000000   \n",
       "mean   107.025974  118.925347  305.600000    49.0   76.315789   83.284091   \n",
       "std     81.790646   72.057776  191.022904     NaN   21.720581   26.060347   \n",
       "min     11.000000   17.000000   47.000000    49.0   63.000000   24.000000   \n",
       "25%     70.000000   69.750000  155.000000    49.0   66.000000   64.000000   \n",
       "50%     86.000000  100.000000  298.000000    49.0   68.000000   86.500000   \n",
       "75%    132.000000  157.000000  406.000000    49.0   70.500000  102.000000   \n",
       "max    603.000000  503.000000  772.000000    49.0  147.000000  159.000000   \n",
       "\n",
       "          Bulk 11      Bulk 12     Bulk 13      Bulk 14      Bulk 15  \n",
       "count  177.000000  2450.000000   18.000000  2806.000000  2248.000000  \n",
       "mean    76.819209   260.471020  181.111111   170.284747   160.513345  \n",
       "std     59.655365   120.649269   46.088009    65.868652    51.765319  \n",
       "min      8.000000    53.000000  151.000000    16.000000     1.000000  \n",
       "25%     25.000000   204.000000  153.250000   119.000000   105.000000  \n",
       "50%     64.000000   208.000000  155.500000   151.000000   160.000000  \n",
       "75%    106.000000   316.000000  203.500000   205.750000   205.000000  \n",
       "max    313.000000  1849.000000  305.000000   636.000000   405.000000  "
      ]
     },
     "execution_count": 15,
     "metadata": {},
     "output_type": "execute_result"
    }
   ],
   "source": [
    "data_bulk.describe()"
   ]
  },
  {
   "cell_type": "code",
   "execution_count": 16,
   "metadata": {
    "scrolled": true
   },
   "outputs": [
    {
     "name": "stdout",
     "output_type": "stream",
     "text": [
      "key\n",
      "[   1    2    3 ... 3239 3240 3241]\n",
      "Bulk 1\n",
      "[ 10.  16.  19.  21.  22.  24.  26.  27.  28.  29.  30.  31.  32.  33.\n",
      "  34.  36.  37.  38.  39.  41.  43.  44.  46.  47.  48.  50.  51.  52.\n",
      "  54.  58.  60.  62.  63.  65.  67.  69.  73.  74.  75.  78.  83.  90.\n",
      "  92.  94. 104. 118. 185.  nan]\n",
      "Bulk 2\n",
      "[228. 232. 233. 236. 242. 246. 247. 248. 249. 254. 257. 258. 270. 282.\n",
      " 325.  nan]\n",
      "Bulk 3\n",
      "[  6.  17.  18.  19.  20.  21.  22.  23.  24.  25.  26.  27.  28.  29.\n",
      "  30.  31.  32.  34.  36.  37.  38.  39.  40.  41.  42.  43.  44.  45.\n",
      "  46.  47.  48.  49.  50.  51.  52.  53.  54.  55.  56.  57.  58.  59.\n",
      "  60.  61.  62.  63.  64.  65.  66.  67.  68.  69.  70.  71.  72.  73.\n",
      "  74.  75.  76.  77.  78.  79.  80.  81.  82.  83.  84.  85.  86.  87.\n",
      "  88.  89.  90.  91.  92.  93.  94.  95.  96.  97.  98.  99. 100. 101.\n",
      " 102. 103. 104. 105. 106. 107. 108. 109. 110. 111. 112. 113. 114. 115.\n",
      " 116. 117. 118. 119. 120. 121. 122. 123. 124. 125. 126. 127. 128. 129.\n",
      " 130. 131. 132. 133. 134. 135. 136. 137. 138. 139. 140. 141. 142. 143.\n",
      " 144. 145. 146. 147. 148. 149. 150. 151. 152. 153. 154. 155. 156. 157.\n",
      " 158. 159. 162. 163. 164. 165. 166. 167. 168. 169. 170. 171. 172. 173.\n",
      " 174. 175. 176. 177. 178. 180. 181. 182. 183. 184. 185. 186. 187. 188.\n",
      " 189. 190. 191. 193. 194. 196. 197. 198. 199. 200. 201. 202. 203. 204.\n",
      " 206. 207. 208. 209. 210. 211. 212. 213. 214. 215. 220. 221. 222. 224.\n",
      " 225. 226. 227. 230. 231. 232. 234. 235. 236. 237. 239. 240. 242. 243.\n",
      " 244. 245. 246. 248. 249. 250. 251. 252. 255. 256. 258. 259. 260. 261.\n",
      " 262. 263. 264. 265. 266. 267. 268. 269. 270. 272. 278. 280. 282. 284.\n",
      " 285. 286. 289. 290. 291. 292. 294. 295. 297. 298. 300. 301. 302. 303.\n",
      " 304. 305. 308. 310. 315. 316. 323. 324. 334. 335. 341. 342. 343. 349.\n",
      " 352. 353. 354. 356. 358. 372. 379. 395. 405. 421. 445. 454.  nan]\n",
      "Bulk 4\n",
      "[ 12.  13.  16.  17.  19.  20.  21.  22.  23.  24.  25.  26.  27.  28.\n",
      "  30.  31.  32.  33.  34.  36.  37.  38.  39.  40.  41.  42.  43.  44.\n",
      "  45.  46.  47.  48.  49.  50.  51.  52.  53.  54.  55.  56.  57.  58.\n",
      "  59.  60.  61.  62.  63.  64.  65.  66.  67.  68.  69.  70.  71.  72.\n",
      "  73.  74.  75.  76.  77.  78.  79.  80.  81.  82.  83.  84.  85.  86.\n",
      "  87.  88.  89.  90.  91.  92.  93.  94.  95.  96.  97.  98.  99. 100.\n",
      " 101. 102. 103. 104. 105. 106. 107. 108. 109. 110. 111. 112. 113. 114.\n",
      " 115. 116. 117. 118. 119. 120. 121. 122. 123. 124. 125. 126. 127. 128.\n",
      " 129. 130. 131. 132. 133. 134. 135. 136. 137. 138. 139. 140. 141. 142.\n",
      " 143. 144. 145. 146. 147. 148. 149. 150. 151. 152. 153. 154. 155. 156.\n",
      " 157. 158. 159. 160. 161. 162. 163. 164. 165. 166. 167. 168. 170. 171.\n",
      " 172. 174. 175. 176. 177. 179. 180. 181. 182. 184. 185. 186. 188. 189.\n",
      " 190. 192. 193. 194. 195. 196. 198. 199. 200. 201. 202. 203. 205. 206.\n",
      " 208. 212. 214. 218. 220. 221. 222. 223. 224. 228. 231. 233. 238. 239.\n",
      " 241. 242. 243. 255. 256. 258. 265. 271. 276. 281.  nan]\n",
      "Bulk 5\n",
      "[ 11.  18.  19.  22.  23.  28.  31.  33.  34.  42.  43.  50.  54.  61.\n",
      "  62.  70.  72.  73.  74.  77.  78.  79.  82.  83.  84.  86.  88.  90.\n",
      "  94. 102. 103. 104. 112. 120. 121. 122. 124. 128. 132. 136. 142. 144.\n",
      " 146. 148. 160. 180. 182. 184. 189. 197. 234. 242. 256. 293. 603.  nan]\n",
      "Bulk 6\n",
      "[ 17.  23.  24.  25.  26.  27.  28.  30.  32.  34.  36.  37.  38.  40.\n",
      "  42.  43.  44.  45.  46.  47.  48.  49.  50.  51.  53.  54.  55.  56.\n",
      "  57.  58.  59.  60.  61.  62.  63.  64.  65.  66.  67.  68.  69.  70.\n",
      "  71.  72.  73.  74.  75.  76.  77.  78.  79.  80.  81.  82.  83.  84.\n",
      "  85.  86.  87.  88.  89.  90.  91.  92.  93.  94.  95.  96.  97.  98.\n",
      "  99. 100. 101. 102. 103. 104. 105. 106. 107. 108. 109. 110. 111. 112.\n",
      " 114. 115. 116. 117. 118. 120. 121. 123. 124. 125. 126. 127. 128. 130.\n",
      " 131. 132. 134. 135. 136. 137. 138. 139. 140. 141. 142. 143. 144. 145.\n",
      " 146. 149. 150. 151. 152. 153. 155. 156. 157. 158. 159. 160. 162. 163.\n",
      " 164. 165. 166. 167. 168. 170. 172. 173. 174. 175. 176. 177. 178. 179.\n",
      " 180. 181. 182. 184. 185. 186. 187. 189. 190. 193. 194. 195. 196. 198.\n",
      " 202. 203. 204. 206. 208. 211. 212. 215. 218. 219. 220. 224. 226. 230.\n",
      " 231. 232. 234. 236. 240. 247. 250. 252. 254. 255. 261. 262. 264. 265.\n",
      " 266. 271. 272. 278. 280. 283. 284. 285. 288. 294. 295. 297. 321. 325.\n",
      " 326. 330. 350. 357. 359. 407. 414. 498. 503.  nan]\n",
      "Bulk 7\n",
      "[ 47.  50.  54.  75.  92. 108. 155. 178. 208. 250. 252. 296. 298. 306.\n",
      " 340. 352. 392. 405. 406. 462. 506. 507. 553. 576. 772.  nan]\n",
      "Bulk 8\n",
      "[49. nan]\n",
      "Bulk 9\n",
      "[ 63.  65.  66.  68.  70.  71.  74. 108. 111. 147.  nan]\n",
      "Bulk 10\n",
      "[ 24.  26.  28.  30.  32.  34.  36.  38.  45.  46.  47.  49.  50.  52.\n",
      "  54.  55.  56.  57.  58.  59.  61.  62.  63.  64.  65.  67.  68.  70.\n",
      "  72.  73.  75.  76.  77.  79.  80.  81.  82.  83.  84.  85.  86.  87.\n",
      "  88.  89.  90.  91.  92.  93.  95.  96.  97.  98.  99. 100. 101. 102.\n",
      " 103. 104. 105. 106. 107. 108. 110. 111. 113. 114. 115. 117. 118. 122.\n",
      " 124. 125. 126. 128. 147. 154. 159.  nan]\n",
      "Bulk 11\n",
      "[  8.  14.  16.  17.  18.  19.  20.  21.  22.  23.  24.  25.  26.  28.\n",
      "  29.  31.  32.  34.  37.  38.  39.  40.  41.  42.  43.  46.  47.  48.\n",
      "  49.  50.  51.  53.  54.  56.  58.  62.  64.  66.  67.  68.  69.  71.\n",
      "  72.  74.  76.  81.  82.  83.  84.  87.  88.  89.  90.  91.  93.  94.\n",
      "  95.  96.  97.  98. 100. 102. 103. 104. 106. 107. 114. 120. 124. 126.\n",
      " 128. 131. 133. 136. 139. 140. 144. 146. 148. 151. 152. 154. 156. 158.\n",
      " 162. 172. 174. 176. 178. 185. 188. 198. 200. 204. 205. 206. 211. 225.\n",
      " 226. 242. 313.  nan]\n",
      "Bulk 12\n",
      "[  53.   54.   55.   56.   58.   88.  102.  103.  104.  105.  106.  107.\n",
      "  108.  109.  110.  111.  115.  116.  123.  124.  125.  126.  127.  128.\n",
      "  129.  135.  136.  137.  138.  139.  143.  145.  152.  153.  154.  155.\n",
      "  156.  157.  158.  159.  160.  162.  165.  166.  167.  168.  170.  173.\n",
      "  174.  175.  176.  177.  178.  180.  181.  182.  183.  184.  185.  186.\n",
      "  187.  188.  189.  191.  192.  195.  201.  202.  203.  204.  205.  206.\n",
      "  207.  208.  209.  210.  211.  212.  213.  214.  215.  216.  217.  219.\n",
      "  220.  221.  222.  223.  224.  225.  226.  227.  228.  229.  230.  232.\n",
      "  233.  234.  235.  236.  238.  239.  240.  242.  244.  247.  248.  250.\n",
      "  252.  253.  254.  255.  256.  257.  258.  259.  260.  261.  262.  263.\n",
      "  264.  265.  266.  267.  268.  270.  271.  272.  273.  274.  275.  276.\n",
      "  277.  279.  280.  281.  282.  283.  284.  285.  286.  289.  290.  291.\n",
      "  296.  301.  302.  303.  304.  305.  306.  307.  308.  309.  310.  311.\n",
      "  312.  313.  314.  316.  319.  321.  322.  325.  329.  330.  331.  332.\n",
      "  333.  334.  335.  337.  338.  340.  342.  343.  345.  346.  349.  351.\n",
      "  352.  356.  358.  359.  360.  361.  362.  363.  364.  366.  368.  369.\n",
      "  370.  371.  372.  373.  375.  377.  378.  379.  380.  381.  382.  383.\n",
      "  385.  387.  388.  390.  391.  392.  393.  394.  395.  397.  399.  401.\n",
      "  402.  404.  406.  407.  408.  409.  410.  411.  412.  413.  414.  415.\n",
      "  416.  417.  418.  419.  420.  421.  422.  423.  424.  425.  428.  430.\n",
      "  431.  432.  433.  434.  435.  436.  437.  439.  440.  441.  443.  444.\n",
      "  445.  446.  447.  452.  453.  456.  457.  458.  459.  460.  461.  462.\n",
      "  463.  464.  465.  466.  467.  468.  469.  470.  473.  474.  475.  478.\n",
      "  479.  481.  483.  484.  496.  501.  507.  508.  509.  510.  511.  512.\n",
      "  513.  514.  515.  516.  517.  518.  519.  520.  521.  522.  528.  542.\n",
      "  550.  558.  561.  562.  563.  564.  567.  570.  572.  583.  586.  597.\n",
      "  609.  616.  618.  620.  622.  624.  647.  666.  667.  668.  669.  671.\n",
      "  685.  733.  774.  775.  833.  853. 1849.   nan]\n",
      "Bulk 13\n",
      "[151. 152. 153. 154. 155. 156. 157. 159. 202. 204. 206. 214. 278. 305.\n",
      "  nan]\n",
      "Bulk 14\n",
      "[ 16.  18.  24.  29.  48.  52.  64.  68.  69.  72.  76.  78.  80.  82.\n",
      "  83.  84.  85.  86.  88.  89.  90.  91.  92.  93.  94.  95.  96.  97.\n",
      "  98.  99. 100. 101. 102. 103. 104. 105. 106. 107. 108. 109. 110. 111.\n",
      " 112. 113. 114. 115. 116. 117. 118. 119. 120. 121. 122. 123. 124. 125.\n",
      " 126. 127. 128. 129. 130. 131. 132. 133. 134. 135. 136. 137. 138. 139.\n",
      " 140. 141. 142. 143. 144. 145. 146. 147. 148. 149. 150. 151. 152. 153.\n",
      " 154. 155. 156. 157. 158. 159. 160. 161. 162. 163. 164. 165. 166. 167.\n",
      " 168. 169. 170. 171. 173. 174. 176. 177. 178. 179. 180. 181. 182. 183.\n",
      " 184. 185. 186. 187. 188. 189. 190. 191. 192. 193. 194. 195. 196. 197.\n",
      " 198. 199. 200. 201. 202. 203. 204. 205. 206. 207. 208. 209. 210. 211.\n",
      " 212. 213. 214. 215. 216. 217. 218. 219. 220. 221. 222. 223. 224. 225.\n",
      " 226. 227. 228. 229. 230. 231. 232. 233. 234. 235. 236. 237. 238. 239.\n",
      " 240. 241. 242. 243. 244. 245. 246. 247. 248. 249. 250. 251. 252. 253.\n",
      " 254. 255. 256. 257. 258. 259. 260. 261. 262. 263. 264. 265. 266. 267.\n",
      " 268. 269. 270. 271. 272. 274. 275. 276. 277. 278. 279. 280. 281. 282.\n",
      " 283. 284. 286. 288. 289. 290. 291. 292. 294. 295. 296. 297. 298. 299.\n",
      " 300. 301. 302. 303. 304. 305. 306. 307. 308. 309. 310. 311. 312. 313.\n",
      " 315. 316. 317. 320. 321. 324. 325. 327. 330. 333. 336. 337. 342. 347.\n",
      " 348. 349. 351. 352. 353. 354. 356. 366. 371. 375. 376. 379. 385. 389.\n",
      " 390. 398. 400. 401. 402. 403. 405. 406. 407. 417. 428. 446. 450. 452.\n",
      " 504. 552. 601. 636.  nan]\n",
      "Bulk 15\n",
      "[  1.  10.  44.  50.  51.  52.  53.  54.  55.  56.  58.  59.  63.  64.\n",
      "  65.  69.  70.  72.  73.  74.  75.  85.  86.  87.  88.  99. 100. 101.\n",
      " 102. 103. 104. 105. 106. 107. 108. 109. 110. 111. 112. 113. 114. 115.\n",
      " 116. 117. 118. 123. 124. 125. 126. 127. 128. 134. 136. 137. 145. 147.\n",
      " 148. 149. 150. 151. 152. 153. 154. 155. 156. 157. 158. 159. 160. 161.\n",
      " 163. 164. 166. 167. 168. 169. 170. 171. 172. 174. 175. 176. 177. 178.\n",
      " 179. 181. 183. 185. 186. 187. 188. 189. 190. 191. 192. 193. 194. 196.\n",
      " 197. 198. 199. 200. 201. 202. 203. 204. 205. 206. 207. 208. 209. 210.\n",
      " 211. 212. 213. 214. 215. 216. 217. 218. 219. 220. 221. 222. 223. 224.\n",
      " 225. 226. 227. 228. 229. 230. 231. 232. 233. 234. 235. 236. 237. 238.\n",
      " 239. 240. 246. 251. 258. 260. 261. 262. 264. 266. 290. 295. 320. 322.\n",
      " 337. 405.  nan]\n"
     ]
    }
   ],
   "source": [
    "#посмотрим на уникальные значения столбцов\n",
    "for i in data_bulk.columns:\n",
    "    print(i)\n",
    "    print(data_bulk[i].sort_values().unique())"
   ]
  },
  {
   "cell_type": "markdown",
   "metadata": {},
   "source": [
    "Перед нами различные сыпучие материалы, которые добавляют для легирования стали. Судя по данным в разные партии добавляют разные материалы. Больше всего было добавлено мтаериалов под номерами **3, 4, 12, 14, 15**. Материал под номером 8 добавили только один раз. Ещё можно заметить, что не во все партии добавляли материалы, ибо количество партий у нас 3241, а материалы добавили только в 3129."
   ]
  },
  {
   "cell_type": "code",
   "execution_count": 17,
   "metadata": {
    "scrolled": false
   },
   "outputs": [
    {
     "data": {
      "image/png": "[encoded data removed]",
      "text/plain": [
       "<Figure size 1080x144 with 1 Axes>"
      ]
     },
     "metadata": {
      "needs_background": "light"
     },
     "output_type": "display_data"
    },
    {
     "data": {
      "image/png": "[encoded data removed]",
      "text/plain": [
       "<Figure size 1080x144 with 1 Axes>"
      ]
     },
     "metadata": {
      "needs_background": "light"
     },
     "output_type": "display_data"
    },
    {
     "data": {
      "image/png": "[encoded data removed]",
      "text/plain": [
       "<Figure size 1080x144 with 1 Axes>"
      ]
     },
     "metadata": {
      "needs_background": "light"
     },
     "output_type": "display_data"
    },
    {
     "data": {
      "image/png": "[encoded data removed]",
      "text/plain": [
       "<Figure size 1080x144 with 1 Axes>"
      ]
     },
     "metadata": {
      "needs_background": "light"
     },
     "output_type": "display_data"
    },
    {
     "data": {
      "image/png": "[encoded data removed]",
      "text/plain": [
       "<Figure size 1080x144 with 1 Axes>"
      ]
     },
     "metadata": {
      "needs_background": "light"
     },
     "output_type": "display_data"
    },
    {
     "data": {
      "image/png": "[encoded data removed]",
      "text/plain": [
       "<Figure size 1080x144 with 1 Axes>"
      ]
     },
     "metadata": {
      "needs_background": "light"
     },
     "output_type": "display_data"
    },
    {
     "data": {
      "image/png": "[encoded data removed]",
      "text/plain": [
       "<Figure size 1080x144 with 1 Axes>"
      ]
     },
     "metadata": {
      "needs_background": "light"
     },
     "output_type": "display_data"
    },
    {
     "data": {
      "image/png": "[encoded data removed]",
      "text/plain": [
       "<Figure size 1080x144 with 1 Axes>"
      ]
     },
     "metadata": {
      "needs_background": "light"
     },
     "output_type": "display_data"
    },
    {
     "data": {
      "image/png": "[encoded data removed]",
      "text/plain": [
       "<Figure size 1080x144 with 1 Axes>"
      ]
     },
     "metadata": {
      "needs_background": "light"
     },
     "output_type": "display_data"
    },
    {
     "data": {
      "image/png": "[encoded data removed]",
      "text/plain": [
       "<Figure size 1080x144 with 1 Axes>"
      ]
     },
     "metadata": {
      "needs_background": "light"
     },
     "output_type": "display_data"
    },
    {
     "data": {
      "image/png": "[encoded data removed]",
      "text/plain": [
       "<Figure size 1080x144 with 1 Axes>"
      ]
     },
     "metadata": {
      "needs_background": "light"
     },
     "output_type": "display_data"
    },
    {
     "data": {
      "image/png": "[encoded data removed]",
      "text/plain": [
       "<Figure size 1080x144 with 1 Axes>"
      ]
     },
     "metadata": {
      "needs_background": "light"
     },
     "output_type": "display_data"
    },
    {
     "data": {
      "image/png": "[encoded data removed]",
      "text/plain": [
       "<Figure size 1080x144 with 1 Axes>"
      ]
     },
     "metadata": {
      "needs_background": "light"
     },
     "output_type": "display_data"
    },
    {
     "data": {
      "image/png": "[encoded data removed]",
      "text/plain": [
       "<Figure size 1080x144 with 1 Axes>"
      ]
     },
     "metadata": {
      "needs_background": "light"
     },
     "output_type": "display_data"
    },
    {
     "data": {
      "image/png": "[encoded data removed]",
      "text/plain": [
       "<Figure size 1080x144 with 1 Axes>"
      ]
     },
     "metadata": {
      "needs_background": "light"
     },
     "output_type": "display_data"
    }
   ],
   "source": [
    "#посмотрим на распределение материалов   \n",
    "for i in data_bulk.columns[1:]:   \n",
    "    plt.figure(figsize=(15, 2))\n",
    "    sns.boxplot(data_bulk[i])\n",
    "    plt.tight_layout()\n",
    "    plt.show()"
   ]
  },
  {
   "cell_type": "markdown",
   "metadata": {},
   "source": [
    "Почти на всех графиках виден сильный выброс справа. Предполагаю, что их пока можно не трогать. Есть вероятность, что это некая особенность процесса."
   ]
  },
  {
   "cell_type": "markdown",
   "metadata": {},
   "source": [
    "### Данные о подаче сыпучих материалов (время)"
   ]
  },
  {
   "cell_type": "code",
   "execution_count": 18,
   "metadata": {},
   "outputs": [
    {
     "data": {
      "text/html": [
       "<div>\n",
       "<style scoped>\n",
       "    .dataframe tbody tr th:only-of-type {\n",
       "        vertical-align: middle;\n",
       "    }\n",
       "\n",
       "    .dataframe tbody tr th {\n",
       "        vertical-align: top;\n",
       "    }\n",
       "\n",
       "    .dataframe thead th {\n",
       "        text-align: right;\n",
       "    }\n",
       "</style>\n",
       "<table border=\"1\" class=\"dataframe\">\n",
       "  <thead>\n",
       "    <tr style=\"text-align: right;\">\n",
       "      <th></th>\n",
       "      <th>key</th>\n",
       "      <th>Bulk 1</th>\n",
       "      <th>Bulk 2</th>\n",
       "      <th>Bulk 3</th>\n",
       "      <th>Bulk 4</th>\n",
       "      <th>Bulk 5</th>\n",
       "      <th>Bulk 6</th>\n",
       "      <th>Bulk 7</th>\n",
       "      <th>Bulk 8</th>\n",
       "      <th>Bulk 9</th>\n",
       "      <th>Bulk 10</th>\n",
       "      <th>Bulk 11</th>\n",
       "      <th>Bulk 12</th>\n",
       "      <th>Bulk 13</th>\n",
       "      <th>Bulk 14</th>\n",
       "      <th>Bulk 15</th>\n",
       "    </tr>\n",
       "  </thead>\n",
       "  <tbody>\n",
       "    <tr>\n",
       "      <th>0</th>\n",
       "      <td>1</td>\n",
       "      <td>NaN</td>\n",
       "      <td>NaN</td>\n",
       "      <td>NaN</td>\n",
       "      <td>2019-05-03 11:28:48</td>\n",
       "      <td>NaN</td>\n",
       "      <td>NaN</td>\n",
       "      <td>NaN</td>\n",
       "      <td>NaN</td>\n",
       "      <td>NaN</td>\n",
       "      <td>NaN</td>\n",
       "      <td>NaN</td>\n",
       "      <td>2019-05-03 11:24:31</td>\n",
       "      <td>NaN</td>\n",
       "      <td>2019-05-03 11:14:50</td>\n",
       "      <td>2019-05-03 11:10:43</td>\n",
       "    </tr>\n",
       "    <tr>\n",
       "      <th>1</th>\n",
       "      <td>2</td>\n",
       "      <td>NaN</td>\n",
       "      <td>NaN</td>\n",
       "      <td>NaN</td>\n",
       "      <td>2019-05-03 11:36:50</td>\n",
       "      <td>NaN</td>\n",
       "      <td>NaN</td>\n",
       "      <td>NaN</td>\n",
       "      <td>NaN</td>\n",
       "      <td>NaN</td>\n",
       "      <td>NaN</td>\n",
       "      <td>NaN</td>\n",
       "      <td>2019-05-03 11:53:30</td>\n",
       "      <td>NaN</td>\n",
       "      <td>2019-05-03 11:48:37</td>\n",
       "      <td>2019-05-03 11:44:39</td>\n",
       "    </tr>\n",
       "    <tr>\n",
       "      <th>2</th>\n",
       "      <td>3</td>\n",
       "      <td>NaN</td>\n",
       "      <td>NaN</td>\n",
       "      <td>NaN</td>\n",
       "      <td>2019-05-03 12:32:39</td>\n",
       "      <td>NaN</td>\n",
       "      <td>NaN</td>\n",
       "      <td>NaN</td>\n",
       "      <td>NaN</td>\n",
       "      <td>NaN</td>\n",
       "      <td>NaN</td>\n",
       "      <td>NaN</td>\n",
       "      <td>2019-05-03 12:27:13</td>\n",
       "      <td>NaN</td>\n",
       "      <td>2019-05-03 12:21:01</td>\n",
       "      <td>2019-05-03 12:16:16</td>\n",
       "    </tr>\n",
       "    <tr>\n",
       "      <th>3</th>\n",
       "      <td>4</td>\n",
       "      <td>NaN</td>\n",
       "      <td>NaN</td>\n",
       "      <td>NaN</td>\n",
       "      <td>2019-05-03 12:43:22</td>\n",
       "      <td>NaN</td>\n",
       "      <td>NaN</td>\n",
       "      <td>NaN</td>\n",
       "      <td>NaN</td>\n",
       "      <td>NaN</td>\n",
       "      <td>NaN</td>\n",
       "      <td>NaN</td>\n",
       "      <td>2019-05-03 12:58:00</td>\n",
       "      <td>NaN</td>\n",
       "      <td>2019-05-03 12:51:11</td>\n",
       "      <td>2019-05-03 12:46:36</td>\n",
       "    </tr>\n",
       "    <tr>\n",
       "      <th>4</th>\n",
       "      <td>5</td>\n",
       "      <td>NaN</td>\n",
       "      <td>NaN</td>\n",
       "      <td>NaN</td>\n",
       "      <td>2019-05-03 13:30:47</td>\n",
       "      <td>NaN</td>\n",
       "      <td>NaN</td>\n",
       "      <td>NaN</td>\n",
       "      <td>NaN</td>\n",
       "      <td>NaN</td>\n",
       "      <td>NaN</td>\n",
       "      <td>NaN</td>\n",
       "      <td>2019-05-03 13:30:47</td>\n",
       "      <td>NaN</td>\n",
       "      <td>2019-05-03 13:34:12</td>\n",
       "      <td>2019-05-03 13:30:47</td>\n",
       "    </tr>\n",
       "  </tbody>\n",
       "</table>\n",
       "</div>"
      ],
      "text/plain": [
       "   key Bulk 1 Bulk 2 Bulk 3               Bulk 4 Bulk 5 Bulk 6 Bulk 7 Bulk 8  \\\n",
       "0    1    NaN    NaN    NaN  2019-05-03 11:28:48    NaN    NaN    NaN    NaN   \n",
       "1    2    NaN    NaN    NaN  2019-05-03 11:36:50    NaN    NaN    NaN    NaN   \n",
       "2    3    NaN    NaN    NaN  2019-05-03 12:32:39    NaN    NaN    NaN    NaN   \n",
       "3    4    NaN    NaN    NaN  2019-05-03 12:43:22    NaN    NaN    NaN    NaN   \n",
       "4    5    NaN    NaN    NaN  2019-05-03 13:30:47    NaN    NaN    NaN    NaN   \n",
       "\n",
       "  Bulk 9 Bulk 10 Bulk 11              Bulk 12 Bulk 13              Bulk 14  \\\n",
       "0    NaN     NaN     NaN  2019-05-03 11:24:31     NaN  2019-05-03 11:14:50   \n",
       "1    NaN     NaN     NaN  2019-05-03 11:53:30     NaN  2019-05-03 11:48:37   \n",
       "2    NaN     NaN     NaN  2019-05-03 12:27:13     NaN  2019-05-03 12:21:01   \n",
       "3    NaN     NaN     NaN  2019-05-03 12:58:00     NaN  2019-05-03 12:51:11   \n",
       "4    NaN     NaN     NaN  2019-05-03 13:30:47     NaN  2019-05-03 13:34:12   \n",
       "\n",
       "               Bulk 15  \n",
       "0  2019-05-03 11:10:43  \n",
       "1  2019-05-03 11:44:39  \n",
       "2  2019-05-03 12:16:16  \n",
       "3  2019-05-03 12:46:36  \n",
       "4  2019-05-03 13:30:47  "
      ]
     },
     "execution_count": 18,
     "metadata": {},
     "output_type": "execute_result"
    }
   ],
   "source": [
    "data_bulk_time = pd.read_csv('/datasets/data_bulk_time_new.csv')\n",
    "data_bulk_time.head()"
   ]
  },
  {
   "cell_type": "code",
   "execution_count": 19,
   "metadata": {},
   "outputs": [
    {
     "name": "stdout",
     "output_type": "stream",
     "text": [
      "<class 'pandas.core.frame.DataFrame'>\n",
      "RangeIndex: 3129 entries, 0 to 3128\n",
      "Data columns (total 16 columns):\n",
      " #   Column   Non-Null Count  Dtype \n",
      "---  ------   --------------  ----- \n",
      " 0   key      3129 non-null   int64 \n",
      " 1   Bulk 1   252 non-null    object\n",
      " 2   Bulk 2   22 non-null     object\n",
      " 3   Bulk 3   1298 non-null   object\n",
      " 4   Bulk 4   1014 non-null   object\n",
      " 5   Bulk 5   77 non-null     object\n",
      " 6   Bulk 6   576 non-null    object\n",
      " 7   Bulk 7   25 non-null     object\n",
      " 8   Bulk 8   1 non-null      object\n",
      " 9   Bulk 9   19 non-null     object\n",
      " 10  Bulk 10  176 non-null    object\n",
      " 11  Bulk 11  177 non-null    object\n",
      " 12  Bulk 12  2450 non-null   object\n",
      " 13  Bulk 13  18 non-null     object\n",
      " 14  Bulk 14  2806 non-null   object\n",
      " 15  Bulk 15  2248 non-null   object\n",
      "dtypes: int64(1), object(15)\n",
      "memory usage: 391.2+ KB\n"
     ]
    }
   ],
   "source": [
    "data_bulk_time.info()"
   ]
  },
  {
   "cell_type": "markdown",
   "metadata": {},
   "source": [
    "Значения полностью соответствуют таблице data_bulk. Есть предположение, что эта таблица не пригодится в дальнейшем. Вот совсем не вижу использования для неё."
   ]
  },
  {
   "cell_type": "markdown",
   "metadata": {},
   "source": [
    "### Данные о продувке сплава газом"
   ]
  },
  {
   "cell_type": "code",
   "execution_count": 20,
   "metadata": {},
   "outputs": [
    {
     "data": {
      "text/html": [
       "<div>\n",
       "<style scoped>\n",
       "    .dataframe tbody tr th:only-of-type {\n",
       "        vertical-align: middle;\n",
       "    }\n",
       "\n",
       "    .dataframe tbody tr th {\n",
       "        vertical-align: top;\n",
       "    }\n",
       "\n",
       "    .dataframe thead th {\n",
       "        text-align: right;\n",
       "    }\n",
       "</style>\n",
       "<table border=\"1\" class=\"dataframe\">\n",
       "  <thead>\n",
       "    <tr style=\"text-align: right;\">\n",
       "      <th></th>\n",
       "      <th>key</th>\n",
       "      <th>Газ 1</th>\n",
       "    </tr>\n",
       "  </thead>\n",
       "  <tbody>\n",
       "    <tr>\n",
       "      <th>0</th>\n",
       "      <td>1</td>\n",
       "      <td>29.749986</td>\n",
       "    </tr>\n",
       "    <tr>\n",
       "      <th>1</th>\n",
       "      <td>2</td>\n",
       "      <td>12.555561</td>\n",
       "    </tr>\n",
       "    <tr>\n",
       "      <th>2</th>\n",
       "      <td>3</td>\n",
       "      <td>28.554793</td>\n",
       "    </tr>\n",
       "    <tr>\n",
       "      <th>3</th>\n",
       "      <td>4</td>\n",
       "      <td>18.841219</td>\n",
       "    </tr>\n",
       "    <tr>\n",
       "      <th>4</th>\n",
       "      <td>5</td>\n",
       "      <td>5.413692</td>\n",
       "    </tr>\n",
       "  </tbody>\n",
       "</table>\n",
       "</div>"
      ],
      "text/plain": [
       "   key      Газ 1\n",
       "0    1  29.749986\n",
       "1    2  12.555561\n",
       "2    3  28.554793\n",
       "3    4  18.841219\n",
       "4    5   5.413692"
      ]
     },
     "execution_count": 20,
     "metadata": {},
     "output_type": "execute_result"
    }
   ],
   "source": [
    "data_gas = pd.read_csv('/datasets/data_gas_new.csv')\n",
    "data_gas.head()"
   ]
  },
  {
   "cell_type": "code",
   "execution_count": 21,
   "metadata": {
    "scrolled": true
   },
   "outputs": [
    {
     "name": "stdout",
     "output_type": "stream",
     "text": [
      "<class 'pandas.core.frame.DataFrame'>\n",
      "RangeIndex: 3239 entries, 0 to 3238\n",
      "Data columns (total 2 columns):\n",
      " #   Column  Non-Null Count  Dtype  \n",
      "---  ------  --------------  -----  \n",
      " 0   key     3239 non-null   int64  \n",
      " 1   Газ 1   3239 non-null   float64\n",
      "dtypes: float64(1), int64(1)\n",
      "memory usage: 50.7 KB\n"
     ]
    }
   ],
   "source": [
    "data_gas.info()"
   ]
  },
  {
   "cell_type": "code",
   "execution_count": 22,
   "metadata": {
    "scrolled": true
   },
   "outputs": [
    {
     "data": {
      "text/html": [
       "<div>\n",
       "<style scoped>\n",
       "    .dataframe tbody tr th:only-of-type {\n",
       "        vertical-align: middle;\n",
       "    }\n",
       "\n",
       "    .dataframe tbody tr th {\n",
       "        vertical-align: top;\n",
       "    }\n",
       "\n",
       "    .dataframe thead th {\n",
       "        text-align: right;\n",
       "    }\n",
       "</style>\n",
       "<table border=\"1\" class=\"dataframe\">\n",
       "  <thead>\n",
       "    <tr style=\"text-align: right;\">\n",
       "      <th></th>\n",
       "      <th>key</th>\n",
       "      <th>Газ 1</th>\n",
       "    </tr>\n",
       "  </thead>\n",
       "  <tbody>\n",
       "    <tr>\n",
       "      <th>count</th>\n",
       "      <td>3239.000000</td>\n",
       "      <td>3239.000000</td>\n",
       "    </tr>\n",
       "    <tr>\n",
       "      <th>mean</th>\n",
       "      <td>1621.861377</td>\n",
       "      <td>11.002062</td>\n",
       "    </tr>\n",
       "    <tr>\n",
       "      <th>std</th>\n",
       "      <td>935.386334</td>\n",
       "      <td>6.220327</td>\n",
       "    </tr>\n",
       "    <tr>\n",
       "      <th>min</th>\n",
       "      <td>1.000000</td>\n",
       "      <td>0.008399</td>\n",
       "    </tr>\n",
       "    <tr>\n",
       "      <th>25%</th>\n",
       "      <td>812.500000</td>\n",
       "      <td>7.043089</td>\n",
       "    </tr>\n",
       "    <tr>\n",
       "      <th>50%</th>\n",
       "      <td>1622.000000</td>\n",
       "      <td>9.836267</td>\n",
       "    </tr>\n",
       "    <tr>\n",
       "      <th>75%</th>\n",
       "      <td>2431.500000</td>\n",
       "      <td>13.769915</td>\n",
       "    </tr>\n",
       "    <tr>\n",
       "      <th>max</th>\n",
       "      <td>3241.000000</td>\n",
       "      <td>77.995040</td>\n",
       "    </tr>\n",
       "  </tbody>\n",
       "</table>\n",
       "</div>"
      ],
      "text/plain": [
       "               key        Газ 1\n",
       "count  3239.000000  3239.000000\n",
       "mean   1621.861377    11.002062\n",
       "std     935.386334     6.220327\n",
       "min       1.000000     0.008399\n",
       "25%     812.500000     7.043089\n",
       "50%    1622.000000     9.836267\n",
       "75%    2431.500000    13.769915\n",
       "max    3241.000000    77.995040"
      ]
     },
     "execution_count": 22,
     "metadata": {},
     "output_type": "execute_result"
    }
   ],
   "source": [
    "data_gas.describe()"
   ]
  },
  {
   "cell_type": "code",
   "execution_count": 23,
   "metadata": {},
   "outputs": [
    {
     "data": {
      "text/plain": [
       "3239"
      ]
     },
     "execution_count": 23,
     "metadata": {},
     "output_type": "execute_result"
    }
   ],
   "source": [
    "#посмотрим на кол-во уникальных партий\n",
    "data_gas['key'].nunique()"
   ]
  },
  {
   "cell_type": "markdown",
   "metadata": {},
   "source": [
    "Какие-то две партии не подвергались обработке газом"
   ]
  },
  {
   "cell_type": "code",
   "execution_count": 24,
   "metadata": {},
   "outputs": [
    {
     "data": {
      "image/png": "[encoded data removed]",
      "text/plain": [
       "<Figure size 864x504 with 1 Axes>"
      ]
     },
     "metadata": {
      "needs_background": "light"
     },
     "output_type": "display_data"
    }
   ],
   "source": [
    "#построим график по газу\n",
    "data_gas['Газ 1'].hist(bins=100, figsize=(12, 7))\n",
    "plt.title('Распределение газа')\n",
    "plt.show()"
   ]
  },
  {
   "cell_type": "markdown",
   "metadata": {},
   "source": [
    "Видно небольшое количество выбросов, не хочу их сейчас удалять, ибо они могут быть связаны с процессом обработки."
   ]
  },
  {
   "cell_type": "markdown",
   "metadata": {},
   "source": [
    "### Результаты измерения температуры"
   ]
  },
  {
   "cell_type": "code",
   "execution_count": 25,
   "metadata": {},
   "outputs": [
    {
     "data": {
      "text/html": [
       "<div>\n",
       "<style scoped>\n",
       "    .dataframe tbody tr th:only-of-type {\n",
       "        vertical-align: middle;\n",
       "    }\n",
       "\n",
       "    .dataframe tbody tr th {\n",
       "        vertical-align: top;\n",
       "    }\n",
       "\n",
       "    .dataframe thead th {\n",
       "        text-align: right;\n",
       "    }\n",
       "</style>\n",
       "<table border=\"1\" class=\"dataframe\">\n",
       "  <thead>\n",
       "    <tr style=\"text-align: right;\">\n",
       "      <th></th>\n",
       "      <th>key</th>\n",
       "      <th>Время замера</th>\n",
       "      <th>Температура</th>\n",
       "    </tr>\n",
       "  </thead>\n",
       "  <tbody>\n",
       "    <tr>\n",
       "      <th>0</th>\n",
       "      <td>1</td>\n",
       "      <td>2019-05-03 11:02:04</td>\n",
       "      <td>1571.0</td>\n",
       "    </tr>\n",
       "    <tr>\n",
       "      <th>1</th>\n",
       "      <td>1</td>\n",
       "      <td>2019-05-03 11:07:18</td>\n",
       "      <td>1604.0</td>\n",
       "    </tr>\n",
       "    <tr>\n",
       "      <th>2</th>\n",
       "      <td>1</td>\n",
       "      <td>2019-05-03 11:11:34</td>\n",
       "      <td>1618.0</td>\n",
       "    </tr>\n",
       "    <tr>\n",
       "      <th>3</th>\n",
       "      <td>1</td>\n",
       "      <td>2019-05-03 11:18:04</td>\n",
       "      <td>1601.0</td>\n",
       "    </tr>\n",
       "    <tr>\n",
       "      <th>4</th>\n",
       "      <td>1</td>\n",
       "      <td>2019-05-03 11:25:59</td>\n",
       "      <td>1606.0</td>\n",
       "    </tr>\n",
       "  </tbody>\n",
       "</table>\n",
       "</div>"
      ],
      "text/plain": [
       "   key         Время замера  Температура\n",
       "0    1  2019-05-03 11:02:04       1571.0\n",
       "1    1  2019-05-03 11:07:18       1604.0\n",
       "2    1  2019-05-03 11:11:34       1618.0\n",
       "3    1  2019-05-03 11:18:04       1601.0\n",
       "4    1  2019-05-03 11:25:59       1606.0"
      ]
     },
     "execution_count": 25,
     "metadata": {},
     "output_type": "execute_result"
    }
   ],
   "source": [
    "data_temp = pd.read_csv('/datasets/data_temp_new.csv')\n",
    "data_temp.head()"
   ]
  },
  {
   "cell_type": "code",
   "execution_count": 26,
   "metadata": {
    "scrolled": true
   },
   "outputs": [
    {
     "name": "stdout",
     "output_type": "stream",
     "text": [
      "<class 'pandas.core.frame.DataFrame'>\n",
      "RangeIndex: 18092 entries, 0 to 18091\n",
      "Data columns (total 3 columns):\n",
      " #   Column        Non-Null Count  Dtype  \n",
      "---  ------        --------------  -----  \n",
      " 0   key           18092 non-null  int64  \n",
      " 1   Время замера  18092 non-null  object \n",
      " 2   Температура   14665 non-null  float64\n",
      "dtypes: float64(1), int64(1), object(1)\n",
      "memory usage: 424.2+ KB\n"
     ]
    }
   ],
   "source": [
    "data_temp.info()"
   ]
  },
  {
   "cell_type": "code",
   "execution_count": 27,
   "metadata": {},
   "outputs": [
    {
     "data": {
      "text/html": [
       "<div>\n",
       "<style scoped>\n",
       "    .dataframe tbody tr th:only-of-type {\n",
       "        vertical-align: middle;\n",
       "    }\n",
       "\n",
       "    .dataframe tbody tr th {\n",
       "        vertical-align: top;\n",
       "    }\n",
       "\n",
       "    .dataframe thead th {\n",
       "        text-align: right;\n",
       "    }\n",
       "</style>\n",
       "<table border=\"1\" class=\"dataframe\">\n",
       "  <thead>\n",
       "    <tr style=\"text-align: right;\">\n",
       "      <th></th>\n",
       "      <th>key</th>\n",
       "      <th>Температура</th>\n",
       "    </tr>\n",
       "  </thead>\n",
       "  <tbody>\n",
       "    <tr>\n",
       "      <th>count</th>\n",
       "      <td>18092.000000</td>\n",
       "      <td>14665.000000</td>\n",
       "    </tr>\n",
       "    <tr>\n",
       "      <th>mean</th>\n",
       "      <td>1616.460977</td>\n",
       "      <td>1590.722741</td>\n",
       "    </tr>\n",
       "    <tr>\n",
       "      <th>std</th>\n",
       "      <td>934.641385</td>\n",
       "      <td>20.394381</td>\n",
       "    </tr>\n",
       "    <tr>\n",
       "      <th>min</th>\n",
       "      <td>1.000000</td>\n",
       "      <td>1191.000000</td>\n",
       "    </tr>\n",
       "    <tr>\n",
       "      <th>25%</th>\n",
       "      <td>807.750000</td>\n",
       "      <td>1580.000000</td>\n",
       "    </tr>\n",
       "    <tr>\n",
       "      <th>50%</th>\n",
       "      <td>1618.000000</td>\n",
       "      <td>1590.000000</td>\n",
       "    </tr>\n",
       "    <tr>\n",
       "      <th>75%</th>\n",
       "      <td>2429.000000</td>\n",
       "      <td>1599.000000</td>\n",
       "    </tr>\n",
       "    <tr>\n",
       "      <th>max</th>\n",
       "      <td>3241.000000</td>\n",
       "      <td>1705.000000</td>\n",
       "    </tr>\n",
       "  </tbody>\n",
       "</table>\n",
       "</div>"
      ],
      "text/plain": [
       "                key   Температура\n",
       "count  18092.000000  14665.000000\n",
       "mean    1616.460977   1590.722741\n",
       "std      934.641385     20.394381\n",
       "min        1.000000   1191.000000\n",
       "25%      807.750000   1580.000000\n",
       "50%     1618.000000   1590.000000\n",
       "75%     2429.000000   1599.000000\n",
       "max     3241.000000   1705.000000"
      ]
     },
     "execution_count": 27,
     "metadata": {},
     "output_type": "execute_result"
    }
   ],
   "source": [
    "data_temp.describe()"
   ]
  },
  {
   "cell_type": "code",
   "execution_count": 28,
   "metadata": {},
   "outputs": [
    {
     "data": {
      "text/plain": [
       "3216"
      ]
     },
     "execution_count": 28,
     "metadata": {},
     "output_type": "execute_result"
    }
   ],
   "source": [
    "#посмотрим на кол-во уникальных партий\n",
    "data_temp['key'].nunique()"
   ]
  },
  {
   "cell_type": "code",
   "execution_count": 29,
   "metadata": {},
   "outputs": [
    {
     "data": {
      "image/png": "[encoded data removed]",
      "text/plain": [
       "<Figure size 864x504 with 1 Axes>"
      ]
     },
     "metadata": {
      "needs_background": "light"
     },
     "output_type": "display_data"
    }
   ],
   "source": [
    "#построим график по температуре\n",
    "data_temp['Температура'].hist(bins=75, figsize=(12, 7))\n",
    "plt.title('Распределение температуры')\n",
    "plt.show()"
   ]
  },
  {
   "cell_type": "code",
   "execution_count": 30,
   "metadata": {},
   "outputs": [
    {
     "data": {
      "image/png": "[encoded data removed]",
      "text/plain": [
       "<Figure size 1080x288 with 1 Axes>"
      ]
     },
     "metadata": {
      "needs_background": "light"
     },
     "output_type": "display_data"
    }
   ],
   "source": [
    "#поскольку не особо видно выбросы, то построим ещё один график\n",
    "plt.figure(figsize=(15, 4))\n",
    "sns.boxplot(data_temp['Температура'])\n",
    "plt.tight_layout()\n",
    "plt.show()"
   ]
  },
  {
   "cell_type": "markdown",
   "metadata": {},
   "source": [
    "Исходя из задания можно сделать вывод, что это одна из самых главных таблиц. Температура точно будет главным признаком. На этапе предобработки нужно будет грамотно поработать с этой таблицей. Есть несколько мыслей, что можно будет сгруппировать данные по партиям и посмотреть на поведение температуры"
   ]
  },
  {
   "cell_type": "markdown",
   "metadata": {},
   "source": [
    "### Данные о проволочных материалах (объём)"
   ]
  },
  {
   "cell_type": "code",
   "execution_count": 31,
   "metadata": {
    "scrolled": true
   },
   "outputs": [
    {
     "data": {
      "text/html": [
       "<div>\n",
       "<style scoped>\n",
       "    .dataframe tbody tr th:only-of-type {\n",
       "        vertical-align: middle;\n",
       "    }\n",
       "\n",
       "    .dataframe tbody tr th {\n",
       "        vertical-align: top;\n",
       "    }\n",
       "\n",
       "    .dataframe thead th {\n",
       "        text-align: right;\n",
       "    }\n",
       "</style>\n",
       "<table border=\"1\" class=\"dataframe\">\n",
       "  <thead>\n",
       "    <tr style=\"text-align: right;\">\n",
       "      <th></th>\n",
       "      <th>key</th>\n",
       "      <th>Wire 1</th>\n",
       "      <th>Wire 2</th>\n",
       "      <th>Wire 3</th>\n",
       "      <th>Wire 4</th>\n",
       "      <th>Wire 5</th>\n",
       "      <th>Wire 6</th>\n",
       "      <th>Wire 7</th>\n",
       "      <th>Wire 8</th>\n",
       "      <th>Wire 9</th>\n",
       "    </tr>\n",
       "  </thead>\n",
       "  <tbody>\n",
       "    <tr>\n",
       "      <th>0</th>\n",
       "      <td>1</td>\n",
       "      <td>60.059998</td>\n",
       "      <td>NaN</td>\n",
       "      <td>NaN</td>\n",
       "      <td>NaN</td>\n",
       "      <td>NaN</td>\n",
       "      <td>NaN</td>\n",
       "      <td>NaN</td>\n",
       "      <td>NaN</td>\n",
       "      <td>NaN</td>\n",
       "    </tr>\n",
       "    <tr>\n",
       "      <th>1</th>\n",
       "      <td>2</td>\n",
       "      <td>96.052315</td>\n",
       "      <td>NaN</td>\n",
       "      <td>NaN</td>\n",
       "      <td>NaN</td>\n",
       "      <td>NaN</td>\n",
       "      <td>NaN</td>\n",
       "      <td>NaN</td>\n",
       "      <td>NaN</td>\n",
       "      <td>NaN</td>\n",
       "    </tr>\n",
       "    <tr>\n",
       "      <th>2</th>\n",
       "      <td>3</td>\n",
       "      <td>91.160157</td>\n",
       "      <td>NaN</td>\n",
       "      <td>NaN</td>\n",
       "      <td>NaN</td>\n",
       "      <td>NaN</td>\n",
       "      <td>NaN</td>\n",
       "      <td>NaN</td>\n",
       "      <td>NaN</td>\n",
       "      <td>NaN</td>\n",
       "    </tr>\n",
       "    <tr>\n",
       "      <th>3</th>\n",
       "      <td>4</td>\n",
       "      <td>89.063515</td>\n",
       "      <td>NaN</td>\n",
       "      <td>NaN</td>\n",
       "      <td>NaN</td>\n",
       "      <td>NaN</td>\n",
       "      <td>NaN</td>\n",
       "      <td>NaN</td>\n",
       "      <td>NaN</td>\n",
       "      <td>NaN</td>\n",
       "    </tr>\n",
       "    <tr>\n",
       "      <th>4</th>\n",
       "      <td>5</td>\n",
       "      <td>89.238236</td>\n",
       "      <td>9.11456</td>\n",
       "      <td>NaN</td>\n",
       "      <td>NaN</td>\n",
       "      <td>NaN</td>\n",
       "      <td>NaN</td>\n",
       "      <td>NaN</td>\n",
       "      <td>NaN</td>\n",
       "      <td>NaN</td>\n",
       "    </tr>\n",
       "  </tbody>\n",
       "</table>\n",
       "</div>"
      ],
      "text/plain": [
       "   key     Wire 1   Wire 2  Wire 3  Wire 4  Wire 5  Wire 6  Wire 7  Wire 8  \\\n",
       "0    1  60.059998      NaN     NaN     NaN     NaN     NaN     NaN     NaN   \n",
       "1    2  96.052315      NaN     NaN     NaN     NaN     NaN     NaN     NaN   \n",
       "2    3  91.160157      NaN     NaN     NaN     NaN     NaN     NaN     NaN   \n",
       "3    4  89.063515      NaN     NaN     NaN     NaN     NaN     NaN     NaN   \n",
       "4    5  89.238236  9.11456     NaN     NaN     NaN     NaN     NaN     NaN   \n",
       "\n",
       "   Wire 9  \n",
       "0     NaN  \n",
       "1     NaN  \n",
       "2     NaN  \n",
       "3     NaN  \n",
       "4     NaN  "
      ]
     },
     "execution_count": 31,
     "metadata": {},
     "output_type": "execute_result"
    }
   ],
   "source": [
    "data_wire = pd.read_csv('/datasets/data_wire_new.csv')\n",
    "data_wire.head()"
   ]
  },
  {
   "cell_type": "code",
   "execution_count": 32,
   "metadata": {},
   "outputs": [
    {
     "name": "stdout",
     "output_type": "stream",
     "text": [
      "<class 'pandas.core.frame.DataFrame'>\n",
      "RangeIndex: 3081 entries, 0 to 3080\n",
      "Data columns (total 10 columns):\n",
      " #   Column  Non-Null Count  Dtype  \n",
      "---  ------  --------------  -----  \n",
      " 0   key     3081 non-null   int64  \n",
      " 1   Wire 1  3055 non-null   float64\n",
      " 2   Wire 2  1079 non-null   float64\n",
      " 3   Wire 3  63 non-null     float64\n",
      " 4   Wire 4  14 non-null     float64\n",
      " 5   Wire 5  1 non-null      float64\n",
      " 6   Wire 6  73 non-null     float64\n",
      " 7   Wire 7  11 non-null     float64\n",
      " 8   Wire 8  19 non-null     float64\n",
      " 9   Wire 9  29 non-null     float64\n",
      "dtypes: float64(9), int64(1)\n",
      "memory usage: 240.8 KB\n"
     ]
    }
   ],
   "source": [
    "data_wire.info()"
   ]
  },
  {
   "cell_type": "code",
   "execution_count": 33,
   "metadata": {},
   "outputs": [
    {
     "data": {
      "text/html": [
       "<div>\n",
       "<style scoped>\n",
       "    .dataframe tbody tr th:only-of-type {\n",
       "        vertical-align: middle;\n",
       "    }\n",
       "\n",
       "    .dataframe tbody tr th {\n",
       "        vertical-align: top;\n",
       "    }\n",
       "\n",
       "    .dataframe thead th {\n",
       "        text-align: right;\n",
       "    }\n",
       "</style>\n",
       "<table border=\"1\" class=\"dataframe\">\n",
       "  <thead>\n",
       "    <tr style=\"text-align: right;\">\n",
       "      <th></th>\n",
       "      <th>key</th>\n",
       "      <th>Wire 1</th>\n",
       "      <th>Wire 2</th>\n",
       "      <th>Wire 3</th>\n",
       "      <th>Wire 4</th>\n",
       "      <th>Wire 5</th>\n",
       "      <th>Wire 6</th>\n",
       "      <th>Wire 7</th>\n",
       "      <th>Wire 8</th>\n",
       "      <th>Wire 9</th>\n",
       "    </tr>\n",
       "  </thead>\n",
       "  <tbody>\n",
       "    <tr>\n",
       "      <th>count</th>\n",
       "      <td>3081.000000</td>\n",
       "      <td>3055.000000</td>\n",
       "      <td>1079.000000</td>\n",
       "      <td>63.000000</td>\n",
       "      <td>14.000000</td>\n",
       "      <td>1.000</td>\n",
       "      <td>73.000000</td>\n",
       "      <td>11.000000</td>\n",
       "      <td>19.000000</td>\n",
       "      <td>29.000000</td>\n",
       "    </tr>\n",
       "    <tr>\n",
       "      <th>mean</th>\n",
       "      <td>1623.426485</td>\n",
       "      <td>100.895853</td>\n",
       "      <td>50.577323</td>\n",
       "      <td>189.482681</td>\n",
       "      <td>57.442841</td>\n",
       "      <td>15.132</td>\n",
       "      <td>48.016974</td>\n",
       "      <td>10.039007</td>\n",
       "      <td>53.625193</td>\n",
       "      <td>34.155752</td>\n",
       "    </tr>\n",
       "    <tr>\n",
       "      <th>std</th>\n",
       "      <td>932.996726</td>\n",
       "      <td>42.012518</td>\n",
       "      <td>39.320216</td>\n",
       "      <td>99.513444</td>\n",
       "      <td>28.824667</td>\n",
       "      <td>NaN</td>\n",
       "      <td>33.919845</td>\n",
       "      <td>8.610584</td>\n",
       "      <td>16.881728</td>\n",
       "      <td>19.931616</td>\n",
       "    </tr>\n",
       "    <tr>\n",
       "      <th>min</th>\n",
       "      <td>1.000000</td>\n",
       "      <td>1.918800</td>\n",
       "      <td>0.030160</td>\n",
       "      <td>0.144144</td>\n",
       "      <td>24.148801</td>\n",
       "      <td>15.132</td>\n",
       "      <td>0.034320</td>\n",
       "      <td>0.234208</td>\n",
       "      <td>45.076721</td>\n",
       "      <td>4.622800</td>\n",
       "    </tr>\n",
       "    <tr>\n",
       "      <th>25%</th>\n",
       "      <td>823.000000</td>\n",
       "      <td>72.115684</td>\n",
       "      <td>20.193680</td>\n",
       "      <td>95.135044</td>\n",
       "      <td>40.807002</td>\n",
       "      <td>15.132</td>\n",
       "      <td>25.053600</td>\n",
       "      <td>6.762756</td>\n",
       "      <td>46.094879</td>\n",
       "      <td>22.058401</td>\n",
       "    </tr>\n",
       "    <tr>\n",
       "      <th>50%</th>\n",
       "      <td>1619.000000</td>\n",
       "      <td>100.158234</td>\n",
       "      <td>40.142956</td>\n",
       "      <td>235.194977</td>\n",
       "      <td>45.234282</td>\n",
       "      <td>15.132</td>\n",
       "      <td>42.076324</td>\n",
       "      <td>9.017009</td>\n",
       "      <td>46.279999</td>\n",
       "      <td>30.066399</td>\n",
       "    </tr>\n",
       "    <tr>\n",
       "      <th>75%</th>\n",
       "      <td>2434.000000</td>\n",
       "      <td>126.060483</td>\n",
       "      <td>70.227558</td>\n",
       "      <td>276.252014</td>\n",
       "      <td>76.124619</td>\n",
       "      <td>15.132</td>\n",
       "      <td>64.212723</td>\n",
       "      <td>11.886057</td>\n",
       "      <td>48.089603</td>\n",
       "      <td>43.862003</td>\n",
       "    </tr>\n",
       "    <tr>\n",
       "      <th>max</th>\n",
       "      <td>3241.000000</td>\n",
       "      <td>330.314424</td>\n",
       "      <td>282.780152</td>\n",
       "      <td>385.008668</td>\n",
       "      <td>113.231044</td>\n",
       "      <td>15.132</td>\n",
       "      <td>180.454575</td>\n",
       "      <td>32.847674</td>\n",
       "      <td>102.762401</td>\n",
       "      <td>90.053604</td>\n",
       "    </tr>\n",
       "  </tbody>\n",
       "</table>\n",
       "</div>"
      ],
      "text/plain": [
       "               key       Wire 1       Wire 2      Wire 3      Wire 4  Wire 5  \\\n",
       "count  3081.000000  3055.000000  1079.000000   63.000000   14.000000   1.000   \n",
       "mean   1623.426485   100.895853    50.577323  189.482681   57.442841  15.132   \n",
       "std     932.996726    42.012518    39.320216   99.513444   28.824667     NaN   \n",
       "min       1.000000     1.918800     0.030160    0.144144   24.148801  15.132   \n",
       "25%     823.000000    72.115684    20.193680   95.135044   40.807002  15.132   \n",
       "50%    1619.000000   100.158234    40.142956  235.194977   45.234282  15.132   \n",
       "75%    2434.000000   126.060483    70.227558  276.252014   76.124619  15.132   \n",
       "max    3241.000000   330.314424   282.780152  385.008668  113.231044  15.132   \n",
       "\n",
       "           Wire 6     Wire 7      Wire 8     Wire 9  \n",
       "count   73.000000  11.000000   19.000000  29.000000  \n",
       "mean    48.016974  10.039007   53.625193  34.155752  \n",
       "std     33.919845   8.610584   16.881728  19.931616  \n",
       "min      0.034320   0.234208   45.076721   4.622800  \n",
       "25%     25.053600   6.762756   46.094879  22.058401  \n",
       "50%     42.076324   9.017009   46.279999  30.066399  \n",
       "75%     64.212723  11.886057   48.089603  43.862003  \n",
       "max    180.454575  32.847674  102.762401  90.053604  "
      ]
     },
     "execution_count": 33,
     "metadata": {},
     "output_type": "execute_result"
    }
   ],
   "source": [
    "data_wire.describe()"
   ]
  },
  {
   "cell_type": "code",
   "execution_count": 34,
   "metadata": {},
   "outputs": [
    {
     "data": {
      "text/plain": [
       "3081"
      ]
     },
     "execution_count": 34,
     "metadata": {},
     "output_type": "execute_result"
    }
   ],
   "source": [
    "#посмотрим на кол-во уникальных партий\n",
    "data_wire['key'].nunique()"
   ]
  },
  {
   "cell_type": "code",
   "execution_count": 35,
   "metadata": {},
   "outputs": [
    {
     "data": {
      "image/png": "[encoded data removed]",
      "text/plain": [
       "<Figure size 1080x144 with 1 Axes>"
      ]
     },
     "metadata": {
      "needs_background": "light"
     },
     "output_type": "display_data"
    },
    {
     "data": {
      "image/png": "[encoded data removed]",
      "text/plain": [
       "<Figure size 1080x144 with 1 Axes>"
      ]
     },
     "metadata": {
      "needs_background": "light"
     },
     "output_type": "display_data"
    },
    {
     "data": {
      "image/png": "[encoded data removed]",
      "text/plain": [
       "<Figure size 1080x144 with 1 Axes>"
      ]
     },
     "metadata": {
      "needs_background": "light"
     },
     "output_type": "display_data"
    },
    {
     "data": {
      "image/png": "[encoded data removed]",
      "text/plain": [
       "<Figure size 1080x144 with 1 Axes>"
      ]
     },
     "metadata": {
      "needs_background": "light"
     },
     "output_type": "display_data"
    },
    {
     "data": {
      "image/png": "[encoded data removed]",
      "text/plain": [
       "<Figure size 1080x144 with 1 Axes>"
      ]
     },
     "metadata": {
      "needs_background": "light"
     },
     "output_type": "display_data"
    },
    {
     "data": {
      "image/png": "[encoded data removed]",
      "text/plain": [
       "<Figure size 1080x144 with 1 Axes>"
      ]
     },
     "metadata": {
      "needs_background": "light"
     },
     "output_type": "display_data"
    },
    {
     "data": {
      "image/png": "[encoded data removed]",
      "text/plain": [
       "<Figure size 1080x144 with 1 Axes>"
      ]
     },
     "metadata": {
      "needs_background": "light"
     },
     "output_type": "display_data"
    },
    {
     "data": {
      "image/png": "[encoded data removed]",
      "text/plain": [
       "<Figure size 1080x144 with 1 Axes>"
      ]
     },
     "metadata": {
      "needs_background": "light"
     },
     "output_type": "display_data"
    },
    {
     "data": {
      "image/png": "[encoded data removed]",
      "text/plain": [
       "<Figure size 1080x144 with 1 Axes>"
      ]
     },
     "metadata": {
      "needs_background": "light"
     },
     "output_type": "display_data"
    }
   ],
   "source": [
    "#посмотрим на распределение проволочных материалов \n",
    "for i in data_wire.columns[1:]:   \n",
    "    plt.figure(figsize=(15, 2))\n",
    "    sns.boxplot(data_wire[i])\n",
    "    plt.tight_layout()\n",
    "    plt.show()"
   ]
  },
  {
   "cell_type": "markdown",
   "metadata": {},
   "source": [
    "Больше всего в сплав добавляли проволочные материалы под номером 1 и 2, остальные толком не использовались. Как и с сыпучими материалами почти на каждом графике есть сильный выброс справа. Вполне возможно, что это связано."
   ]
  },
  {
   "cell_type": "markdown",
   "metadata": {},
   "source": [
    "### Данные о проволочных материалах (время)"
   ]
  },
  {
   "cell_type": "code",
   "execution_count": 36,
   "metadata": {
    "scrolled": true
   },
   "outputs": [
    {
     "data": {
      "text/html": [
       "<div>\n",
       "<style scoped>\n",
       "    .dataframe tbody tr th:only-of-type {\n",
       "        vertical-align: middle;\n",
       "    }\n",
       "\n",
       "    .dataframe tbody tr th {\n",
       "        vertical-align: top;\n",
       "    }\n",
       "\n",
       "    .dataframe thead th {\n",
       "        text-align: right;\n",
       "    }\n",
       "</style>\n",
       "<table border=\"1\" class=\"dataframe\">\n",
       "  <thead>\n",
       "    <tr style=\"text-align: right;\">\n",
       "      <th></th>\n",
       "      <th>key</th>\n",
       "      <th>Wire 1</th>\n",
       "      <th>Wire 2</th>\n",
       "      <th>Wire 3</th>\n",
       "      <th>Wire 4</th>\n",
       "      <th>Wire 5</th>\n",
       "      <th>Wire 6</th>\n",
       "      <th>Wire 7</th>\n",
       "      <th>Wire 8</th>\n",
       "      <th>Wire 9</th>\n",
       "    </tr>\n",
       "  </thead>\n",
       "  <tbody>\n",
       "    <tr>\n",
       "      <th>0</th>\n",
       "      <td>1</td>\n",
       "      <td>2019-05-03 11:06:19</td>\n",
       "      <td>NaN</td>\n",
       "      <td>NaN</td>\n",
       "      <td>NaN</td>\n",
       "      <td>NaN</td>\n",
       "      <td>NaN</td>\n",
       "      <td>NaN</td>\n",
       "      <td>NaN</td>\n",
       "      <td>NaN</td>\n",
       "    </tr>\n",
       "    <tr>\n",
       "      <th>1</th>\n",
       "      <td>2</td>\n",
       "      <td>2019-05-03 11:36:50</td>\n",
       "      <td>NaN</td>\n",
       "      <td>NaN</td>\n",
       "      <td>NaN</td>\n",
       "      <td>NaN</td>\n",
       "      <td>NaN</td>\n",
       "      <td>NaN</td>\n",
       "      <td>NaN</td>\n",
       "      <td>NaN</td>\n",
       "    </tr>\n",
       "    <tr>\n",
       "      <th>2</th>\n",
       "      <td>3</td>\n",
       "      <td>2019-05-03 12:11:46</td>\n",
       "      <td>NaN</td>\n",
       "      <td>NaN</td>\n",
       "      <td>NaN</td>\n",
       "      <td>NaN</td>\n",
       "      <td>NaN</td>\n",
       "      <td>NaN</td>\n",
       "      <td>NaN</td>\n",
       "      <td>NaN</td>\n",
       "    </tr>\n",
       "    <tr>\n",
       "      <th>3</th>\n",
       "      <td>4</td>\n",
       "      <td>2019-05-03 12:43:22</td>\n",
       "      <td>NaN</td>\n",
       "      <td>NaN</td>\n",
       "      <td>NaN</td>\n",
       "      <td>NaN</td>\n",
       "      <td>NaN</td>\n",
       "      <td>NaN</td>\n",
       "      <td>NaN</td>\n",
       "      <td>NaN</td>\n",
       "    </tr>\n",
       "    <tr>\n",
       "      <th>4</th>\n",
       "      <td>5</td>\n",
       "      <td>2019-05-03 13:20:44</td>\n",
       "      <td>2019-05-03 13:15:34</td>\n",
       "      <td>NaN</td>\n",
       "      <td>NaN</td>\n",
       "      <td>NaN</td>\n",
       "      <td>NaN</td>\n",
       "      <td>NaN</td>\n",
       "      <td>NaN</td>\n",
       "      <td>NaN</td>\n",
       "    </tr>\n",
       "  </tbody>\n",
       "</table>\n",
       "</div>"
      ],
      "text/plain": [
       "   key               Wire 1               Wire 2 Wire 3 Wire 4 Wire 5 Wire 6  \\\n",
       "0    1  2019-05-03 11:06:19                  NaN    NaN    NaN    NaN    NaN   \n",
       "1    2  2019-05-03 11:36:50                  NaN    NaN    NaN    NaN    NaN   \n",
       "2    3  2019-05-03 12:11:46                  NaN    NaN    NaN    NaN    NaN   \n",
       "3    4  2019-05-03 12:43:22                  NaN    NaN    NaN    NaN    NaN   \n",
       "4    5  2019-05-03 13:20:44  2019-05-03 13:15:34    NaN    NaN    NaN    NaN   \n",
       "\n",
       "  Wire 7 Wire 8 Wire 9  \n",
       "0    NaN    NaN    NaN  \n",
       "1    NaN    NaN    NaN  \n",
       "2    NaN    NaN    NaN  \n",
       "3    NaN    NaN    NaN  \n",
       "4    NaN    NaN    NaN  "
      ]
     },
     "execution_count": 36,
     "metadata": {},
     "output_type": "execute_result"
    }
   ],
   "source": [
    "data_wire_time = pd.read_csv('/datasets/data_wire_time_new.csv')\n",
    "data_wire_time.head()"
   ]
  },
  {
   "cell_type": "code",
   "execution_count": 37,
   "metadata": {},
   "outputs": [
    {
     "name": "stdout",
     "output_type": "stream",
     "text": [
      "<class 'pandas.core.frame.DataFrame'>\n",
      "RangeIndex: 3081 entries, 0 to 3080\n",
      "Data columns (total 10 columns):\n",
      " #   Column  Non-Null Count  Dtype \n",
      "---  ------  --------------  ----- \n",
      " 0   key     3081 non-null   int64 \n",
      " 1   Wire 1  3055 non-null   object\n",
      " 2   Wire 2  1079 non-null   object\n",
      " 3   Wire 3  63 non-null     object\n",
      " 4   Wire 4  14 non-null     object\n",
      " 5   Wire 5  1 non-null      object\n",
      " 6   Wire 6  73 non-null     object\n",
      " 7   Wire 7  11 non-null     object\n",
      " 8   Wire 8  19 non-null     object\n",
      " 9   Wire 9  29 non-null     object\n",
      "dtypes: int64(1), object(9)\n",
      "memory usage: 240.8+ KB\n"
     ]
    }
   ],
   "source": [
    "data_wire_time.info()"
   ]
  },
  {
   "cell_type": "markdown",
   "metadata": {},
   "source": [
    "Как и с data_bulk_time я очень сомневаюсь, что эта таблица пригодится нам в исследовании. Возможно я ошибаюсь, но я совсем не вижу использования для неё."
   ]
  },
  {
   "cell_type": "markdown",
   "metadata": {},
   "source": [
    "# Вывод по первому шагу"
   ]
  },
  {
   "cell_type": "markdown",
   "metadata": {},
   "source": [
    "При первичном осмотре мы выяснили:\n",
    "* В таблицах разное количество номеров партии\n",
    "* Активная и реактивная мощность имеют прямю связь\n",
    "* Дата приведена к неправильному типу\n",
    "* В некоторых данных имеются аномальные значения\n",
    "* Некоторые таблицы могут нам не пригодиться в дальнейшем (уточнить)\n",
    "* Некоторые сыпучие и проволочные материалы толком и не используют."
   ]
  },
  {
   "cell_type": "markdown",
   "metadata": {},
   "source": [
    "# План работы\n",
    "\n",
    "1. Изучить данные. Просмотреть общую информацию и построить графики, чтобы взглянуть на распределение данных.(Готово)\n",
    "2. Провести предобработку данных. Обработать обнаруженные выбросы, привести дату к нужному формату.\n",
    "3. Подготовить признаки. Температура будет точно главным признаком.  Создать единую таблицу.\n",
    "4. Построить модели. Попробовать минимум 3 модели с подбором гипперпараметров.\n",
    "5. Оценить эффективность моделей.\n",
    "6. Итоговый вывод."
   ]
  },
  {
   "cell_type": "markdown",
   "metadata": {},
   "source": [
    "## Предобработка данных"
   ]
  },
  {
   "cell_type": "markdown",
   "metadata": {},
   "source": [
    "### Работа с дубликатами, пропусками, выбросами и типом данных"
   ]
  },
  {
   "cell_type": "code",
   "execution_count": 38,
   "metadata": {},
   "outputs": [
    {
     "data": {
      "text/plain": [
       "0"
      ]
     },
     "metadata": {},
     "output_type": "display_data"
    },
    {
     "data": {
      "text/plain": [
       "0"
      ]
     },
     "metadata": {},
     "output_type": "display_data"
    },
    {
     "data": {
      "text/plain": [
       "0"
      ]
     },
     "metadata": {},
     "output_type": "display_data"
    },
    {
     "data": {
      "text/plain": [
       "0"
      ]
     },
     "execution_count": 38,
     "metadata": {},
     "output_type": "execute_result"
    }
   ],
   "source": [
    "#проверим наличие явных дубликатов для оставшихся таблиц, с которыми будем работать\n",
    "display(data_bulk.duplicated().sum())\n",
    "display(data_gas.duplicated().sum())\n",
    "display(data_temp.duplicated().sum())\n",
    "data_wire.duplicated().sum()"
   ]
  },
  {
   "cell_type": "markdown",
   "metadata": {},
   "source": [
    "Поскольку таблицу data_arc мы проверили ещё на первом шаге, то можно спокойно сказать, что дубликаты отсутствуют\n",
    "\n",
    "Теперь взглянем на пропуски:\n",
    "\n",
    "* data_arc мы рассмотрели на первом этапе - пропусков нет\n",
    "* В data_bulk и data_wire по первичному анализу было видно большое кол-во NaN. Мы знаем, что сыпучие и проволочные материалы используются далеко не все. В дальнейшем заменим на 0.\n",
    "\n",
    "Проверим пропуски в таблице data_gas и data_temp"
   ]
  },
  {
   "cell_type": "code",
   "execution_count": 39,
   "metadata": {},
   "outputs": [
    {
     "name": "stdout",
     "output_type": "stream",
     "text": [
      "Пропуски в данных о продувке сплава газом\n"
     ]
    },
    {
     "data": {
      "text/plain": [
       "key      0\n",
       "Газ 1    0\n",
       "dtype: int64"
      ]
     },
     "metadata": {},
     "output_type": "display_data"
    },
    {
     "name": "stdout",
     "output_type": "stream",
     "text": [
      "Пропуски в результатах измерения температуры\n"
     ]
    },
    {
     "data": {
      "text/plain": [
       "key                0\n",
       "Время замера       0\n",
       "Температура     3427\n",
       "dtype: int64"
      ]
     },
     "execution_count": 39,
     "metadata": {},
     "output_type": "execute_result"
    }
   ],
   "source": [
    "print('Пропуски в данных о продувке сплава газом')\n",
    "display(data_gas.isna().sum())\n",
    "print('Пропуски в результатах измерения температуры')\n",
    "data_temp.isna().sum()"
   ]
  },
  {
   "cell_type": "markdown",
   "metadata": {},
   "source": [
    "В таблице data_gas пропуски отсутствуют, а вот в data_temp присутствуют. Поскольку мы выяснили, что конечная температура будет нашим главным признаком, то надо получше рассмотреть эти пропуски.\n",
    "\n",
    "Для начала удалим аномальные выбросы в data_temp. В data_arc мы удалили аномальные выбросы ещё на первом этапе."
   ]
  },
  {
   "cell_type": "code",
   "execution_count": 40,
   "metadata": {},
   "outputs": [
    {
     "data": {
      "text/html": [
       "<div>\n",
       "<style scoped>\n",
       "    .dataframe tbody tr th:only-of-type {\n",
       "        vertical-align: middle;\n",
       "    }\n",
       "\n",
       "    .dataframe tbody tr th {\n",
       "        vertical-align: top;\n",
       "    }\n",
       "\n",
       "    .dataframe thead th {\n",
       "        text-align: right;\n",
       "    }\n",
       "</style>\n",
       "<table border=\"1\" class=\"dataframe\">\n",
       "  <thead>\n",
       "    <tr style=\"text-align: right;\">\n",
       "      <th></th>\n",
       "      <th>key</th>\n",
       "      <th>Время замера</th>\n",
       "      <th>Температура</th>\n",
       "    </tr>\n",
       "  </thead>\n",
       "  <tbody>\n",
       "    <tr>\n",
       "      <th>4883</th>\n",
       "      <td>867</td>\n",
       "      <td>2019-06-06 08:03:39</td>\n",
       "      <td>1191.0</td>\n",
       "    </tr>\n",
       "    <tr>\n",
       "      <th>6784</th>\n",
       "      <td>1214</td>\n",
       "      <td>2019-06-18 08:01:03</td>\n",
       "      <td>1208.0</td>\n",
       "    </tr>\n",
       "    <tr>\n",
       "      <th>9050</th>\n",
       "      <td>1619</td>\n",
       "      <td>2019-07-03 02:34:41</td>\n",
       "      <td>1218.0</td>\n",
       "    </tr>\n",
       "    <tr>\n",
       "      <th>11495</th>\n",
       "      <td>2052</td>\n",
       "      <td>2019-07-25 08:49:15</td>\n",
       "      <td>1227.0</td>\n",
       "    </tr>\n",
       "    <tr>\n",
       "      <th>14283</th>\n",
       "      <td>2561</td>\n",
       "      <td>2019-08-12 18:49:29</td>\n",
       "      <td>1204.0</td>\n",
       "    </tr>\n",
       "  </tbody>\n",
       "</table>\n",
       "</div>"
      ],
      "text/plain": [
       "        key         Время замера  Температура\n",
       "4883    867  2019-06-06 08:03:39       1191.0\n",
       "6784   1214  2019-06-18 08:01:03       1208.0\n",
       "9050   1619  2019-07-03 02:34:41       1218.0\n",
       "11495  2052  2019-07-25 08:49:15       1227.0\n",
       "14283  2561  2019-08-12 18:49:29       1204.0"
      ]
     },
     "execution_count": 40,
     "metadata": {},
     "output_type": "execute_result"
    }
   ],
   "source": [
    "#взглянем на кол-во выбросов с температурой меньше 1400 градусов\n",
    "data_temp.query('Температура < 1400')"
   ]
  },
  {
   "cell_type": "code",
   "execution_count": 41,
   "metadata": {},
   "outputs": [
    {
     "data": {
      "text/html": [
       "<div>\n",
       "<style scoped>\n",
       "    .dataframe tbody tr th:only-of-type {\n",
       "        vertical-align: middle;\n",
       "    }\n",
       "\n",
       "    .dataframe tbody tr th {\n",
       "        vertical-align: top;\n",
       "    }\n",
       "\n",
       "    .dataframe thead th {\n",
       "        text-align: right;\n",
       "    }\n",
       "</style>\n",
       "<table border=\"1\" class=\"dataframe\">\n",
       "  <thead>\n",
       "    <tr style=\"text-align: right;\">\n",
       "      <th></th>\n",
       "      <th>key</th>\n",
       "      <th>Время замера</th>\n",
       "      <th>Температура</th>\n",
       "    </tr>\n",
       "  </thead>\n",
       "  <tbody>\n",
       "  </tbody>\n",
       "</table>\n",
       "</div>"
      ],
      "text/plain": [
       "Empty DataFrame\n",
       "Columns: [key, Время замера, Температура]\n",
       "Index: []"
      ]
     },
     "execution_count": 41,
     "metadata": {},
     "output_type": "execute_result"
    }
   ],
   "source": [
    "#удалим выбросы\n",
    "data_temp = data_temp.query('Температура > 1400')\n",
    "data_temp.query('Температура < 1400')"
   ]
  },
  {
   "cell_type": "code",
   "execution_count": 42,
   "metadata": {},
   "outputs": [
    {
     "data": {
      "text/plain": [
       "key             0\n",
       "Время замера    0\n",
       "Температура     0\n",
       "dtype: int64"
      ]
     },
     "execution_count": 42,
     "metadata": {},
     "output_type": "execute_result"
    }
   ],
   "source": [
    "#за счёт условия ещё исчезли и все строки с отсутствующей температурой\n",
    "data_temp.isna().sum()"
   ]
  },
  {
   "cell_type": "markdown",
   "metadata": {},
   "source": [
    "С пропусками и выбросами в температуре разобрались. Продолжим работать с этой таблицей чуть дальше."
   ]
  },
  {
   "cell_type": "code",
   "execution_count": 43,
   "metadata": {},
   "outputs": [],
   "source": [
    "#изменим тип столбцов с object на datetime во всех нужных таблицах\n",
    "data_arc['Начало нагрева дугой'] = pd.to_datetime(\n",
    "    data_arc['Начало нагрева дугой'], format='%Y-%m-%dT%H:%M:%S')\n",
    "\n",
    "data_arc['Конец нагрева дугой'] = pd.to_datetime(\n",
    "    data_arc['Конец нагрева дугой'], format='%Y-%m-%dT%H:%M:%S')\n",
    "\n",
    "data_temp['Время замера'] = pd.to_datetime(\n",
    "    data_temp['Время замера'], format='%Y-%m-%dT%H:%M:%S')"
   ]
  },
  {
   "cell_type": "markdown",
   "metadata": {},
   "source": [
    "### Подготовка главного признака"
   ]
  },
  {
   "cell_type": "markdown",
   "metadata": {},
   "source": [
    "Нужно отобрать лишь те партии, где есть минимум две записи по температуре."
   ]
  },
  {
   "cell_type": "code",
   "execution_count": 44,
   "metadata": {},
   "outputs": [
    {
     "data": {
      "text/plain": [
       "1     740\n",
       "5     689\n",
       "6     579\n",
       "4     394\n",
       "7     389\n",
       "8     151\n",
       "3     136\n",
       "9      66\n",
       "2      33\n",
       "10     21\n",
       "11      7\n",
       "12      3\n",
       "14      2\n",
       "16      2\n",
       "13      2\n",
       "17      1\n",
       "Name: Температура, dtype: int64"
      ]
     },
     "execution_count": 44,
     "metadata": {},
     "output_type": "execute_result"
    }
   ],
   "source": [
    "#сгруппируем данные по партиям и посмотрим в скольких из них только один замер температуры\n",
    "data_temp_x = data_temp.groupby('key')['Температура'].count().reset_index()\n",
    "data_temp_x['Температура'].value_counts()"
   ]
  },
  {
   "cell_type": "code",
   "execution_count": 45,
   "metadata": {},
   "outputs": [
    {
     "data": {
      "text/plain": [
       "192      195\n",
       "276      279\n",
       "2477    2500\n",
       "2478    2501\n",
       "2479    2502\n",
       "        ... \n",
       "3210    3237\n",
       "3211    3238\n",
       "3212    3239\n",
       "3213    3240\n",
       "3214    3241\n",
       "Name: key, Length: 740, dtype: int64"
      ]
     },
     "execution_count": 45,
     "metadata": {},
     "output_type": "execute_result"
    }
   ],
   "source": [
    "#выбираем партии с одним замером\n",
    "data_temp_y = data_temp_x.query('Температура == 1')['key']\n",
    "data_temp_y"
   ]
  },
  {
   "cell_type": "code",
   "execution_count": 46,
   "metadata": {},
   "outputs": [
    {
     "data": {
      "text/plain": [
       "Series([], Name: key, dtype: int64)"
      ]
     },
     "execution_count": 46,
     "metadata": {},
     "output_type": "execute_result"
    }
   ],
   "source": [
    "#убираем партии с одним замером\n",
    "data_temp = data_temp.query('key not in @data_temp_y')\n",
    "data_temp.query('Температура == 1')['key']"
   ]
  },
  {
   "cell_type": "code",
   "execution_count": 47,
   "metadata": {
    "scrolled": false
   },
   "outputs": [
    {
     "data": {
      "text/html": [
       "<div>\n",
       "<style scoped>\n",
       "    .dataframe tbody tr th:only-of-type {\n",
       "        vertical-align: middle;\n",
       "    }\n",
       "\n",
       "    .dataframe tbody tr th {\n",
       "        vertical-align: top;\n",
       "    }\n",
       "\n",
       "    .dataframe thead th {\n",
       "        text-align: right;\n",
       "    }\n",
       "</style>\n",
       "<table border=\"1\" class=\"dataframe\">\n",
       "  <thead>\n",
       "    <tr style=\"text-align: right;\">\n",
       "      <th></th>\n",
       "      <th>key</th>\n",
       "      <th>max</th>\n",
       "      <th>min</th>\n",
       "    </tr>\n",
       "  </thead>\n",
       "  <tbody>\n",
       "    <tr>\n",
       "      <th>0</th>\n",
       "      <td>1</td>\n",
       "      <td>2019-05-03 11:30:38</td>\n",
       "      <td>2019-05-03 11:02:04</td>\n",
       "    </tr>\n",
       "    <tr>\n",
       "      <th>1</th>\n",
       "      <td>2</td>\n",
       "      <td>2019-05-03 11:55:09</td>\n",
       "      <td>2019-05-03 11:34:04</td>\n",
       "    </tr>\n",
       "    <tr>\n",
       "      <th>2</th>\n",
       "      <td>3</td>\n",
       "      <td>2019-05-03 12:35:57</td>\n",
       "      <td>2019-05-03 12:06:44</td>\n",
       "    </tr>\n",
       "    <tr>\n",
       "      <th>3</th>\n",
       "      <td>4</td>\n",
       "      <td>2019-05-03 12:59:47</td>\n",
       "      <td>2019-05-03 12:39:27</td>\n",
       "    </tr>\n",
       "    <tr>\n",
       "      <th>4</th>\n",
       "      <td>5</td>\n",
       "      <td>2019-05-03 13:36:39</td>\n",
       "      <td>2019-05-03 13:11:03</td>\n",
       "    </tr>\n",
       "    <tr>\n",
       "      <th>...</th>\n",
       "      <td>...</td>\n",
       "      <td>...</td>\n",
       "      <td>...</td>\n",
       "    </tr>\n",
       "    <tr>\n",
       "      <th>2470</th>\n",
       "      <td>2495</td>\n",
       "      <td>2019-08-10 11:50:47</td>\n",
       "      <td>2019-08-10 11:27:47</td>\n",
       "    </tr>\n",
       "    <tr>\n",
       "      <th>2471</th>\n",
       "      <td>2496</td>\n",
       "      <td>2019-08-10 12:25:13</td>\n",
       "      <td>2019-08-10 11:56:48</td>\n",
       "    </tr>\n",
       "    <tr>\n",
       "      <th>2472</th>\n",
       "      <td>2497</td>\n",
       "      <td>2019-08-10 12:53:28</td>\n",
       "      <td>2019-08-10 12:37:26</td>\n",
       "    </tr>\n",
       "    <tr>\n",
       "      <th>2473</th>\n",
       "      <td>2498</td>\n",
       "      <td>2019-08-10 13:23:31</td>\n",
       "      <td>2019-08-10 12:58:11</td>\n",
       "    </tr>\n",
       "    <tr>\n",
       "      <th>2474</th>\n",
       "      <td>2499</td>\n",
       "      <td>2019-08-10 13:58:58</td>\n",
       "      <td>2019-08-10 13:33:21</td>\n",
       "    </tr>\n",
       "  </tbody>\n",
       "</table>\n",
       "<p>2475 rows × 3 columns</p>\n",
       "</div>"
      ],
      "text/plain": [
       "       key                 max                 min\n",
       "0        1 2019-05-03 11:30:38 2019-05-03 11:02:04\n",
       "1        2 2019-05-03 11:55:09 2019-05-03 11:34:04\n",
       "2        3 2019-05-03 12:35:57 2019-05-03 12:06:44\n",
       "3        4 2019-05-03 12:59:47 2019-05-03 12:39:27\n",
       "4        5 2019-05-03 13:36:39 2019-05-03 13:11:03\n",
       "...    ...                 ...                 ...\n",
       "2470  2495 2019-08-10 11:50:47 2019-08-10 11:27:47\n",
       "2471  2496 2019-08-10 12:25:13 2019-08-10 11:56:48\n",
       "2472  2497 2019-08-10 12:53:28 2019-08-10 12:37:26\n",
       "2473  2498 2019-08-10 13:23:31 2019-08-10 12:58:11\n",
       "2474  2499 2019-08-10 13:58:58 2019-08-10 13:33:21\n",
       "\n",
       "[2475 rows x 3 columns]"
      ]
     },
     "execution_count": 47,
     "metadata": {},
     "output_type": "execute_result"
    }
   ],
   "source": [
    "#теперь найдём время первого и последнего замера температуры\n",
    "data_temp_time_minmax = pd.pivot_table(data_temp,\n",
    "                                       index='key',\n",
    "                                       values='Время замера',\n",
    "                                       aggfunc={'Время замера': [min, max]}).reset_index()\n",
    "data_temp_time_minmax"
   ]
  },
  {
   "cell_type": "code",
   "execution_count": 48,
   "metadata": {},
   "outputs": [
    {
     "data": {
      "text/html": [
       "<div>\n",
       "<style scoped>\n",
       "    .dataframe tbody tr th:only-of-type {\n",
       "        vertical-align: middle;\n",
       "    }\n",
       "\n",
       "    .dataframe tbody tr th {\n",
       "        vertical-align: top;\n",
       "    }\n",
       "\n",
       "    .dataframe thead th {\n",
       "        text-align: right;\n",
       "    }\n",
       "</style>\n",
       "<table border=\"1\" class=\"dataframe\">\n",
       "  <thead>\n",
       "    <tr style=\"text-align: right;\">\n",
       "      <th></th>\n",
       "      <th>key</th>\n",
       "      <th>first_temp</th>\n",
       "      <th>last_temp</th>\n",
       "    </tr>\n",
       "  </thead>\n",
       "  <tbody>\n",
       "    <tr>\n",
       "      <th>0</th>\n",
       "      <td>1</td>\n",
       "      <td>1571.0</td>\n",
       "      <td>1613.0</td>\n",
       "    </tr>\n",
       "    <tr>\n",
       "      <th>1</th>\n",
       "      <td>2</td>\n",
       "      <td>1581.0</td>\n",
       "      <td>1602.0</td>\n",
       "    </tr>\n",
       "    <tr>\n",
       "      <th>2</th>\n",
       "      <td>3</td>\n",
       "      <td>1596.0</td>\n",
       "      <td>1599.0</td>\n",
       "    </tr>\n",
       "    <tr>\n",
       "      <th>3</th>\n",
       "      <td>4</td>\n",
       "      <td>1601.0</td>\n",
       "      <td>1625.0</td>\n",
       "    </tr>\n",
       "    <tr>\n",
       "      <th>4</th>\n",
       "      <td>5</td>\n",
       "      <td>1576.0</td>\n",
       "      <td>1602.0</td>\n",
       "    </tr>\n",
       "    <tr>\n",
       "      <th>...</th>\n",
       "      <td>...</td>\n",
       "      <td>...</td>\n",
       "      <td>...</td>\n",
       "    </tr>\n",
       "    <tr>\n",
       "      <th>2470</th>\n",
       "      <td>2495</td>\n",
       "      <td>1570.0</td>\n",
       "      <td>1591.0</td>\n",
       "    </tr>\n",
       "    <tr>\n",
       "      <th>2471</th>\n",
       "      <td>2496</td>\n",
       "      <td>1554.0</td>\n",
       "      <td>1591.0</td>\n",
       "    </tr>\n",
       "    <tr>\n",
       "      <th>2472</th>\n",
       "      <td>2497</td>\n",
       "      <td>1571.0</td>\n",
       "      <td>1589.0</td>\n",
       "    </tr>\n",
       "    <tr>\n",
       "      <th>2473</th>\n",
       "      <td>2498</td>\n",
       "      <td>1591.0</td>\n",
       "      <td>1594.0</td>\n",
       "    </tr>\n",
       "    <tr>\n",
       "      <th>2474</th>\n",
       "      <td>2499</td>\n",
       "      <td>1569.0</td>\n",
       "      <td>1603.0</td>\n",
       "    </tr>\n",
       "  </tbody>\n",
       "</table>\n",
       "<p>2475 rows × 3 columns</p>\n",
       "</div>"
      ],
      "text/plain": [
       "       key  first_temp  last_temp\n",
       "0        1      1571.0     1613.0\n",
       "1        2      1581.0     1602.0\n",
       "2        3      1596.0     1599.0\n",
       "3        4      1601.0     1625.0\n",
       "4        5      1576.0     1602.0\n",
       "...    ...         ...        ...\n",
       "2470  2495      1570.0     1591.0\n",
       "2471  2496      1554.0     1591.0\n",
       "2472  2497      1571.0     1589.0\n",
       "2473  2498      1591.0     1594.0\n",
       "2474  2499      1569.0     1603.0\n",
       "\n",
       "[2475 rows x 3 columns]"
      ]
     },
     "execution_count": 48,
     "metadata": {},
     "output_type": "execute_result"
    }
   ],
   "source": [
    "#переведём первое и последнее время в списки\n",
    "first_time = data_temp_time_minmax['min'].tolist()\n",
    "last_time = data_temp_time_minmax['max'].tolist()\n",
    "\n",
    "#в таблице data_temp с помощью срезов отберём нужное время \n",
    "data_temp_first = data_temp.query('`Время замера` in @first_time')\n",
    "\n",
    "data_temp_last = data_temp.query('`Время замера` in @last_time')\n",
    "\n",
    "#теперь соберём таблицу с первой и последней температурой\n",
    "data_temp_main = (data_temp_first.merge(data_temp_last, on='key')\n",
    "                                 .drop(['Время замера_x', 'Время замера_y'], axis=1)\n",
    "                                 .rename(columns={'Температура_x' : 'first_temp', 'Температура_y' : 'last_temp'}))\n",
    "data_temp_main"
   ]
  },
  {
   "cell_type": "markdown",
   "metadata": {},
   "source": [
    "Можно смело сказать, что целевой признак подготовлен. Теперь можно приступить к подготовке остальных признаков. \n"
   ]
  },
  {
   "cell_type": "markdown",
   "metadata": {},
   "source": [
    "### Подготовка признаков для главной таблицы"
   ]
  },
  {
   "cell_type": "markdown",
   "metadata": {},
   "source": [
    "Для начала рассчитаем сколько времени прошло с первого до последнего замера температуры"
   ]
  },
  {
   "cell_type": "code",
   "execution_count": 49,
   "metadata": {},
   "outputs": [
    {
     "data": {
      "text/html": [
       "<div>\n",
       "<style scoped>\n",
       "    .dataframe tbody tr th:only-of-type {\n",
       "        vertical-align: middle;\n",
       "    }\n",
       "\n",
       "    .dataframe tbody tr th {\n",
       "        vertical-align: top;\n",
       "    }\n",
       "\n",
       "    .dataframe thead th {\n",
       "        text-align: right;\n",
       "    }\n",
       "</style>\n",
       "<table border=\"1\" class=\"dataframe\">\n",
       "  <thead>\n",
       "    <tr style=\"text-align: right;\">\n",
       "      <th></th>\n",
       "      <th>key</th>\n",
       "      <th>total_time_heating</th>\n",
       "    </tr>\n",
       "  </thead>\n",
       "  <tbody>\n",
       "    <tr>\n",
       "      <th>0</th>\n",
       "      <td>1</td>\n",
       "      <td>28</td>\n",
       "    </tr>\n",
       "    <tr>\n",
       "      <th>1</th>\n",
       "      <td>2</td>\n",
       "      <td>21</td>\n",
       "    </tr>\n",
       "    <tr>\n",
       "      <th>2</th>\n",
       "      <td>3</td>\n",
       "      <td>29</td>\n",
       "    </tr>\n",
       "    <tr>\n",
       "      <th>3</th>\n",
       "      <td>4</td>\n",
       "      <td>20</td>\n",
       "    </tr>\n",
       "    <tr>\n",
       "      <th>4</th>\n",
       "      <td>5</td>\n",
       "      <td>25</td>\n",
       "    </tr>\n",
       "  </tbody>\n",
       "</table>\n",
       "</div>"
      ],
      "text/plain": [
       "   key  total_time_heating\n",
       "0    1                  28\n",
       "1    2                  21\n",
       "2    3                  29\n",
       "3    4                  20\n",
       "4    5                  25"
      ]
     },
     "execution_count": 49,
     "metadata": {},
     "output_type": "execute_result"
    }
   ],
   "source": [
    "data_temp_time_minmax['total_time_heating'] = (data_temp_time_minmax['max'] - data_temp_time_minmax['min']).astype('int64')\n",
    "data_temp_time_minmax['total_time_heating'] = pd.to_datetime(data_temp_time_minmax['total_time_heating']).dt.minute\n",
    "data_temp_time_minmax = data_temp_time_minmax.drop(['max', 'min'], axis=1)\n",
    "data_temp_time_minmax.head()"
   ]
  },
  {
   "cell_type": "markdown",
   "metadata": {},
   "source": [
    "Теперь найдём сколько времени нагревали дугой каждую партию"
   ]
  },
  {
   "cell_type": "code",
   "execution_count": 50,
   "metadata": {},
   "outputs": [
    {
     "data": {
      "text/html": [
       "<div>\n",
       "<style scoped>\n",
       "    .dataframe tbody tr th:only-of-type {\n",
       "        vertical-align: middle;\n",
       "    }\n",
       "\n",
       "    .dataframe tbody tr th {\n",
       "        vertical-align: top;\n",
       "    }\n",
       "\n",
       "    .dataframe thead th {\n",
       "        text-align: right;\n",
       "    }\n",
       "</style>\n",
       "<table border=\"1\" class=\"dataframe\">\n",
       "  <thead>\n",
       "    <tr style=\"text-align: right;\">\n",
       "      <th></th>\n",
       "      <th>key</th>\n",
       "      <th>arc_heating_time</th>\n",
       "    </tr>\n",
       "  </thead>\n",
       "  <tbody>\n",
       "    <tr>\n",
       "      <th>0</th>\n",
       "      <td>1</td>\n",
       "      <td>18</td>\n",
       "    </tr>\n",
       "    <tr>\n",
       "      <th>1</th>\n",
       "      <td>2</td>\n",
       "      <td>13</td>\n",
       "    </tr>\n",
       "    <tr>\n",
       "      <th>2</th>\n",
       "      <td>3</td>\n",
       "      <td>10</td>\n",
       "    </tr>\n",
       "    <tr>\n",
       "      <th>3</th>\n",
       "      <td>4</td>\n",
       "      <td>12</td>\n",
       "    </tr>\n",
       "    <tr>\n",
       "      <th>4</th>\n",
       "      <td>5</td>\n",
       "      <td>14</td>\n",
       "    </tr>\n",
       "  </tbody>\n",
       "</table>\n",
       "</div>"
      ],
      "text/plain": [
       "   key  arc_heating_time\n",
       "0    1                18\n",
       "1    2                13\n",
       "2    3                10\n",
       "3    4                12\n",
       "4    5                14"
      ]
     },
     "execution_count": 50,
     "metadata": {},
     "output_type": "execute_result"
    }
   ],
   "source": [
    "data_arc_time = data_arc\n",
    "data_arc_time['arc_heating_time'] = data_arc['Конец нагрева дугой'] - data_arc['Начало нагрева дугой']\n",
    "data_arc_time = pd.pivot_table(data_arc_time,\n",
    "                               index='key',\n",
    "                               values='arc_heating_time',\n",
    "                               aggfunc=sum).reset_index()\n",
    "#аналогично коду выше\n",
    "data_arc_time['arc_heating_time'] = data_arc_time['arc_heating_time'].astype('int64')\n",
    "data_arc_time['arc_heating_time'] = pd.to_datetime(data_arc_time['arc_heating_time']).dt.minute\n",
    "data_arc_time.head()"
   ]
  },
  {
   "cell_type": "markdown",
   "metadata": {},
   "source": [
    "Заказчик сообщил информацию, что нам может пригодиться полная мощность. Попробуем её получить. Но снача разберёмся, что она из себя представляет. \n",
    "\n",
    "Полная мощность — величина, равная произведению действующих значений периодического электрического тока $I$ в цепи и напряжения \n",
    "$U$ на её зажимах $S = U * I$ связана с активной и реактивной мощностями соотношением:\n",
    "$$ S = \\sqrt {P^2 + Q^2} $$\n",
    "где $P$ - активная мощность, $Q$ - реактивная мощность"
   ]
  },
  {
   "cell_type": "code",
   "execution_count": 51,
   "metadata": {},
   "outputs": [
    {
     "data": {
      "text/html": [
       "<div>\n",
       "<style scoped>\n",
       "    .dataframe tbody tr th:only-of-type {\n",
       "        vertical-align: middle;\n",
       "    }\n",
       "\n",
       "    .dataframe tbody tr th {\n",
       "        vertical-align: top;\n",
       "    }\n",
       "\n",
       "    .dataframe thead th {\n",
       "        text-align: right;\n",
       "    }\n",
       "</style>\n",
       "<table border=\"1\" class=\"dataframe\">\n",
       "  <thead>\n",
       "    <tr style=\"text-align: right;\">\n",
       "      <th></th>\n",
       "      <th>key</th>\n",
       "      <th>Начало нагрева дугой</th>\n",
       "      <th>Конец нагрева дугой</th>\n",
       "      <th>Активная мощность</th>\n",
       "      <th>Реактивная мощность</th>\n",
       "      <th>arc_heating_time</th>\n",
       "      <th>Полная мощность</th>\n",
       "    </tr>\n",
       "  </thead>\n",
       "  <tbody>\n",
       "    <tr>\n",
       "      <th>0</th>\n",
       "      <td>1</td>\n",
       "      <td>2019-05-03 11:02:14</td>\n",
       "      <td>2019-05-03 11:06:02</td>\n",
       "      <td>0.305130</td>\n",
       "      <td>0.211253</td>\n",
       "      <td>0 days 00:03:48</td>\n",
       "      <td>0.371123</td>\n",
       "    </tr>\n",
       "    <tr>\n",
       "      <th>1</th>\n",
       "      <td>1</td>\n",
       "      <td>2019-05-03 11:07:28</td>\n",
       "      <td>2019-05-03 11:10:33</td>\n",
       "      <td>0.765658</td>\n",
       "      <td>0.477438</td>\n",
       "      <td>0 days 00:03:05</td>\n",
       "      <td>0.902319</td>\n",
       "    </tr>\n",
       "    <tr>\n",
       "      <th>2</th>\n",
       "      <td>1</td>\n",
       "      <td>2019-05-03 11:11:44</td>\n",
       "      <td>2019-05-03 11:14:36</td>\n",
       "      <td>0.580313</td>\n",
       "      <td>0.430460</td>\n",
       "      <td>0 days 00:02:52</td>\n",
       "      <td>0.722536</td>\n",
       "    </tr>\n",
       "    <tr>\n",
       "      <th>3</th>\n",
       "      <td>1</td>\n",
       "      <td>2019-05-03 11:18:14</td>\n",
       "      <td>2019-05-03 11:24:19</td>\n",
       "      <td>0.518496</td>\n",
       "      <td>0.379979</td>\n",
       "      <td>0 days 00:06:05</td>\n",
       "      <td>0.642824</td>\n",
       "    </tr>\n",
       "    <tr>\n",
       "      <th>4</th>\n",
       "      <td>1</td>\n",
       "      <td>2019-05-03 11:26:09</td>\n",
       "      <td>2019-05-03 11:28:37</td>\n",
       "      <td>0.867133</td>\n",
       "      <td>0.643691</td>\n",
       "      <td>0 days 00:02:28</td>\n",
       "      <td>1.079934</td>\n",
       "    </tr>\n",
       "  </tbody>\n",
       "</table>\n",
       "</div>"
      ],
      "text/plain": [
       "   key Начало нагрева дугой Конец нагрева дугой  Активная мощность  \\\n",
       "0    1  2019-05-03 11:02:14 2019-05-03 11:06:02           0.305130   \n",
       "1    1  2019-05-03 11:07:28 2019-05-03 11:10:33           0.765658   \n",
       "2    1  2019-05-03 11:11:44 2019-05-03 11:14:36           0.580313   \n",
       "3    1  2019-05-03 11:18:14 2019-05-03 11:24:19           0.518496   \n",
       "4    1  2019-05-03 11:26:09 2019-05-03 11:28:37           0.867133   \n",
       "\n",
       "   Реактивная мощность arc_heating_time  Полная мощность  \n",
       "0             0.211253  0 days 00:03:48         0.371123  \n",
       "1             0.477438  0 days 00:03:05         0.902319  \n",
       "2             0.430460  0 days 00:02:52         0.722536  \n",
       "3             0.379979  0 days 00:06:05         0.642824  \n",
       "4             0.643691  0 days 00:02:28         1.079934  "
      ]
     },
     "execution_count": 51,
     "metadata": {},
     "output_type": "execute_result"
    }
   ],
   "source": [
    "#создадим столбец с расчётом полной мощности\n",
    "data_arc['Полная мощность'] = np.sqrt(data_arc['Активная мощность']**2 + data_arc['Реактивная мощность']**2)\n",
    "data_arc.head()"
   ]
  },
  {
   "cell_type": "code",
   "execution_count": 52,
   "metadata": {},
   "outputs": [
    {
     "data": {
      "text/html": [
       "<div>\n",
       "<style scoped>\n",
       "    .dataframe tbody tr th:only-of-type {\n",
       "        vertical-align: middle;\n",
       "    }\n",
       "\n",
       "    .dataframe tbody tr th {\n",
       "        vertical-align: top;\n",
       "    }\n",
       "\n",
       "    .dataframe thead th {\n",
       "        text-align: right;\n",
       "    }\n",
       "</style>\n",
       "<table border=\"1\" class=\"dataframe\">\n",
       "  <thead>\n",
       "    <tr style=\"text-align: right;\">\n",
       "      <th></th>\n",
       "      <th>key</th>\n",
       "      <th>Активная мощность</th>\n",
       "      <th>Полная мощность</th>\n",
       "      <th>Реактивная мощность</th>\n",
       "    </tr>\n",
       "  </thead>\n",
       "  <tbody>\n",
       "    <tr>\n",
       "      <th>0</th>\n",
       "      <td>1</td>\n",
       "      <td>3.036730</td>\n",
       "      <td>3.718736</td>\n",
       "      <td>2.142821</td>\n",
       "    </tr>\n",
       "    <tr>\n",
       "      <th>1</th>\n",
       "      <td>2</td>\n",
       "      <td>2.139408</td>\n",
       "      <td>2.588349</td>\n",
       "      <td>1.453357</td>\n",
       "    </tr>\n",
       "    <tr>\n",
       "      <th>2</th>\n",
       "      <td>3</td>\n",
       "      <td>4.063641</td>\n",
       "      <td>5.019223</td>\n",
       "      <td>2.937457</td>\n",
       "    </tr>\n",
       "    <tr>\n",
       "      <th>3</th>\n",
       "      <td>4</td>\n",
       "      <td>2.706489</td>\n",
       "      <td>3.400038</td>\n",
       "      <td>2.056992</td>\n",
       "    </tr>\n",
       "    <tr>\n",
       "      <th>4</th>\n",
       "      <td>5</td>\n",
       "      <td>2.252950</td>\n",
       "      <td>2.816980</td>\n",
       "      <td>1.687991</td>\n",
       "    </tr>\n",
       "    <tr>\n",
       "      <th>...</th>\n",
       "      <td>...</td>\n",
       "      <td>...</td>\n",
       "      <td>...</td>\n",
       "      <td>...</td>\n",
       "    </tr>\n",
       "    <tr>\n",
       "      <th>3209</th>\n",
       "      <td>3237</td>\n",
       "      <td>2.541872</td>\n",
       "      <td>3.250657</td>\n",
       "      <td>2.025417</td>\n",
       "    </tr>\n",
       "    <tr>\n",
       "      <th>3210</th>\n",
       "      <td>3238</td>\n",
       "      <td>1.374821</td>\n",
       "      <td>1.723937</td>\n",
       "      <td>1.038103</td>\n",
       "    </tr>\n",
       "    <tr>\n",
       "      <th>3211</th>\n",
       "      <td>3239</td>\n",
       "      <td>4.848005</td>\n",
       "      <td>6.014480</td>\n",
       "      <td>3.541541</td>\n",
       "    </tr>\n",
       "    <tr>\n",
       "      <th>3212</th>\n",
       "      <td>3240</td>\n",
       "      <td>3.317679</td>\n",
       "      <td>4.082920</td>\n",
       "      <td>2.373552</td>\n",
       "    </tr>\n",
       "    <tr>\n",
       "      <th>3213</th>\n",
       "      <td>3241</td>\n",
       "      <td>3.045283</td>\n",
       "      <td>3.722880</td>\n",
       "      <td>2.140011</td>\n",
       "    </tr>\n",
       "  </tbody>\n",
       "</table>\n",
       "<p>3214 rows × 4 columns</p>\n",
       "</div>"
      ],
      "text/plain": [
       "       key  Активная мощность  Полная мощность  Реактивная мощность\n",
       "0        1           3.036730         3.718736             2.142821\n",
       "1        2           2.139408         2.588349             1.453357\n",
       "2        3           4.063641         5.019223             2.937457\n",
       "3        4           2.706489         3.400038             2.056992\n",
       "4        5           2.252950         2.816980             1.687991\n",
       "...    ...                ...              ...                  ...\n",
       "3209  3237           2.541872         3.250657             2.025417\n",
       "3210  3238           1.374821         1.723937             1.038103\n",
       "3211  3239           4.848005         6.014480             3.541541\n",
       "3212  3240           3.317679         4.082920             2.373552\n",
       "3213  3241           3.045283         3.722880             2.140011\n",
       "\n",
       "[3214 rows x 4 columns]"
      ]
     },
     "execution_count": 52,
     "metadata": {},
     "output_type": "execute_result"
    }
   ],
   "source": [
    "#подготовим таблицу для дальнейшего объединения\n",
    "data_arc_power = pd.pivot_table(data_arc,\n",
    "                                index='key',\n",
    "                                values=['Активная мощность', 'Реактивная мощность', 'Полная мощность'],\n",
    "                                aggfunc=sum).reset_index()\n",
    "data_arc_power"
   ]
  },
  {
   "cell_type": "markdown",
   "metadata": {},
   "source": [
    "Полную мощность для каждой партии мы получили.  Теперь можно подготовить сыпучие и проволочные материалы. Заказчик сообщил, что столбцы с небольшим кол-ом материала можно обеденить в один."
   ]
  },
  {
   "cell_type": "code",
   "execution_count": 53,
   "metadata": {},
   "outputs": [
    {
     "name": "stdout",
     "output_type": "stream",
     "text": [
      "<class 'pandas.core.frame.DataFrame'>\n",
      "RangeIndex: 3129 entries, 0 to 3128\n",
      "Data columns (total 16 columns):\n",
      " #   Column   Non-Null Count  Dtype  \n",
      "---  ------   --------------  -----  \n",
      " 0   key      3129 non-null   int64  \n",
      " 1   Bulk 1   252 non-null    float64\n",
      " 2   Bulk 2   22 non-null     float64\n",
      " 3   Bulk 3   1298 non-null   float64\n",
      " 4   Bulk 4   1014 non-null   float64\n",
      " 5   Bulk 5   77 non-null     float64\n",
      " 6   Bulk 6   576 non-null    float64\n",
      " 7   Bulk 7   25 non-null     float64\n",
      " 8   Bulk 8   1 non-null      float64\n",
      " 9   Bulk 9   19 non-null     float64\n",
      " 10  Bulk 10  176 non-null    float64\n",
      " 11  Bulk 11  177 non-null    float64\n",
      " 12  Bulk 12  2450 non-null   float64\n",
      " 13  Bulk 13  18 non-null     float64\n",
      " 14  Bulk 14  2806 non-null   float64\n",
      " 15  Bulk 15  2248 non-null   float64\n",
      "dtypes: float64(15), int64(1)\n",
      "memory usage: 391.2 KB\n"
     ]
    }
   ],
   "source": [
    "#вспомним таблицу\n",
    "data_bulk.info()"
   ]
  },
  {
   "cell_type": "code",
   "execution_count": 54,
   "metadata": {},
   "outputs": [
    {
     "data": {
      "text/html": [
       "<div>\n",
       "<style scoped>\n",
       "    .dataframe tbody tr th:only-of-type {\n",
       "        vertical-align: middle;\n",
       "    }\n",
       "\n",
       "    .dataframe tbody tr th {\n",
       "        vertical-align: top;\n",
       "    }\n",
       "\n",
       "    .dataframe thead th {\n",
       "        text-align: right;\n",
       "    }\n",
       "</style>\n",
       "<table border=\"1\" class=\"dataframe\">\n",
       "  <thead>\n",
       "    <tr style=\"text-align: right;\">\n",
       "      <th></th>\n",
       "      <th>key</th>\n",
       "      <th>Bulk 3</th>\n",
       "      <th>Bulk 4</th>\n",
       "      <th>Bulk 12</th>\n",
       "      <th>Bulk 14</th>\n",
       "      <th>Bulk 15</th>\n",
       "      <th>bulk_another</th>\n",
       "    </tr>\n",
       "  </thead>\n",
       "  <tbody>\n",
       "    <tr>\n",
       "      <th>0</th>\n",
       "      <td>1</td>\n",
       "      <td>0.0</td>\n",
       "      <td>43.0</td>\n",
       "      <td>206.0</td>\n",
       "      <td>150.0</td>\n",
       "      <td>154.0</td>\n",
       "      <td>0.0</td>\n",
       "    </tr>\n",
       "    <tr>\n",
       "      <th>1</th>\n",
       "      <td>2</td>\n",
       "      <td>0.0</td>\n",
       "      <td>73.0</td>\n",
       "      <td>206.0</td>\n",
       "      <td>149.0</td>\n",
       "      <td>154.0</td>\n",
       "      <td>0.0</td>\n",
       "    </tr>\n",
       "    <tr>\n",
       "      <th>2</th>\n",
       "      <td>3</td>\n",
       "      <td>0.0</td>\n",
       "      <td>34.0</td>\n",
       "      <td>205.0</td>\n",
       "      <td>152.0</td>\n",
       "      <td>153.0</td>\n",
       "      <td>0.0</td>\n",
       "    </tr>\n",
       "    <tr>\n",
       "      <th>3</th>\n",
       "      <td>4</td>\n",
       "      <td>0.0</td>\n",
       "      <td>81.0</td>\n",
       "      <td>207.0</td>\n",
       "      <td>153.0</td>\n",
       "      <td>154.0</td>\n",
       "      <td>0.0</td>\n",
       "    </tr>\n",
       "    <tr>\n",
       "      <th>4</th>\n",
       "      <td>5</td>\n",
       "      <td>0.0</td>\n",
       "      <td>78.0</td>\n",
       "      <td>203.0</td>\n",
       "      <td>151.0</td>\n",
       "      <td>152.0</td>\n",
       "      <td>0.0</td>\n",
       "    </tr>\n",
       "  </tbody>\n",
       "</table>\n",
       "</div>"
      ],
      "text/plain": [
       "   key  Bulk 3  Bulk 4  Bulk 12  Bulk 14  Bulk 15  bulk_another\n",
       "0    1     0.0    43.0    206.0    150.0    154.0           0.0\n",
       "1    2     0.0    73.0    206.0    149.0    154.0           0.0\n",
       "2    3     0.0    34.0    205.0    152.0    153.0           0.0\n",
       "3    4     0.0    81.0    207.0    153.0    154.0           0.0\n",
       "4    5     0.0    78.0    203.0    151.0    152.0           0.0"
      ]
     },
     "execution_count": 54,
     "metadata": {},
     "output_type": "execute_result"
    }
   ],
   "source": [
    "#убирём пропуски\n",
    "data_bulk = data_bulk.fillna(0)\n",
    "\n",
    "#столбцы, где меньше 1000 значений объединим в один\n",
    "data_bulk['bulk_another'] = data_bulk[['Bulk 1', 'Bulk 2', 'Bulk 5', 'Bulk 7', 'Bulk 6', \n",
    "                                       'Bulk 8', 'Bulk 9', 'Bulk 10', 'Bulk 10', 'Bulk 11', 'Bulk 13']].sum(axis=1)\n",
    "#оставляем нужные столбцы\n",
    "data_bulk_main = data_bulk[['key', 'Bulk 3', 'Bulk 4', 'Bulk 12', 'Bulk 14', 'Bulk 15', 'bulk_another']]\n",
    "data_bulk_main.head()"
   ]
  },
  {
   "cell_type": "code",
   "execution_count": 55,
   "metadata": {},
   "outputs": [
    {
     "name": "stdout",
     "output_type": "stream",
     "text": [
      "<class 'pandas.core.frame.DataFrame'>\n",
      "RangeIndex: 3081 entries, 0 to 3080\n",
      "Data columns (total 10 columns):\n",
      " #   Column  Non-Null Count  Dtype  \n",
      "---  ------  --------------  -----  \n",
      " 0   key     3081 non-null   int64  \n",
      " 1   Wire 1  3055 non-null   float64\n",
      " 2   Wire 2  1079 non-null   float64\n",
      " 3   Wire 3  63 non-null     float64\n",
      " 4   Wire 4  14 non-null     float64\n",
      " 5   Wire 5  1 non-null      float64\n",
      " 6   Wire 6  73 non-null     float64\n",
      " 7   Wire 7  11 non-null     float64\n",
      " 8   Wire 8  19 non-null     float64\n",
      " 9   Wire 9  29 non-null     float64\n",
      "dtypes: float64(9), int64(1)\n",
      "memory usage: 240.8 KB\n"
     ]
    }
   ],
   "source": [
    "#вспомним таблицу\n",
    "data_wire.info()"
   ]
  },
  {
   "cell_type": "code",
   "execution_count": 56,
   "metadata": {},
   "outputs": [
    {
     "data": {
      "text/html": [
       "<div>\n",
       "<style scoped>\n",
       "    .dataframe tbody tr th:only-of-type {\n",
       "        vertical-align: middle;\n",
       "    }\n",
       "\n",
       "    .dataframe tbody tr th {\n",
       "        vertical-align: top;\n",
       "    }\n",
       "\n",
       "    .dataframe thead th {\n",
       "        text-align: right;\n",
       "    }\n",
       "</style>\n",
       "<table border=\"1\" class=\"dataframe\">\n",
       "  <thead>\n",
       "    <tr style=\"text-align: right;\">\n",
       "      <th></th>\n",
       "      <th>key</th>\n",
       "      <th>Wire 1</th>\n",
       "      <th>wire_another</th>\n",
       "    </tr>\n",
       "  </thead>\n",
       "  <tbody>\n",
       "    <tr>\n",
       "      <th>0</th>\n",
       "      <td>1</td>\n",
       "      <td>60.059998</td>\n",
       "      <td>0.00000</td>\n",
       "    </tr>\n",
       "    <tr>\n",
       "      <th>1</th>\n",
       "      <td>2</td>\n",
       "      <td>96.052315</td>\n",
       "      <td>0.00000</td>\n",
       "    </tr>\n",
       "    <tr>\n",
       "      <th>2</th>\n",
       "      <td>3</td>\n",
       "      <td>91.160157</td>\n",
       "      <td>0.00000</td>\n",
       "    </tr>\n",
       "    <tr>\n",
       "      <th>3</th>\n",
       "      <td>4</td>\n",
       "      <td>89.063515</td>\n",
       "      <td>0.00000</td>\n",
       "    </tr>\n",
       "    <tr>\n",
       "      <th>4</th>\n",
       "      <td>5</td>\n",
       "      <td>89.238236</td>\n",
       "      <td>9.11456</td>\n",
       "    </tr>\n",
       "  </tbody>\n",
       "</table>\n",
       "</div>"
      ],
      "text/plain": [
       "   key     Wire 1  wire_another\n",
       "0    1  60.059998       0.00000\n",
       "1    2  96.052315       0.00000\n",
       "2    3  91.160157       0.00000\n",
       "3    4  89.063515       0.00000\n",
       "4    5  89.238236       9.11456"
      ]
     },
     "execution_count": 56,
     "metadata": {},
     "output_type": "execute_result"
    }
   ],
   "source": [
    "#убирём пропуски\n",
    "data_wire = data_wire.fillna(0)\n",
    "\n",
    "#Объединим все столбцы, кроме wire 1\n",
    "data_wire['wire_another'] = data_wire[['Wire 2', 'Wire 3', 'Wire 4', 'Wire 5', 'Wire 6', 'Wire 7', \n",
    "                                       'Wire 8', 'Wire 9']].sum(axis=1)\n",
    "#оставляем нужные столбцы\n",
    "data_wire_main = data_wire[['key', 'Wire 1', 'wire_another']]\n",
    "data_wire_main.head()"
   ]
  },
  {
   "cell_type": "markdown",
   "metadata": {},
   "source": [
    "Мы подготовили признаки. Можно переходить к созданию главной таблицы. Если с результатами моделей будет что-то не то, то можно будет вернуться к этому этапу и попробовать подготовить ещё признаки."
   ]
  },
  {
   "cell_type": "markdown",
   "metadata": {},
   "source": [
    "### Создание главной таблицы"
   ]
  },
  {
   "cell_type": "code",
   "execution_count": 57,
   "metadata": {},
   "outputs": [
    {
     "data": {
      "text/html": [
       "<div>\n",
       "<style scoped>\n",
       "    .dataframe tbody tr th:only-of-type {\n",
       "        vertical-align: middle;\n",
       "    }\n",
       "\n",
       "    .dataframe tbody tr th {\n",
       "        vertical-align: top;\n",
       "    }\n",
       "\n",
       "    .dataframe thead th {\n",
       "        text-align: right;\n",
       "    }\n",
       "</style>\n",
       "<table border=\"1\" class=\"dataframe\">\n",
       "  <thead>\n",
       "    <tr style=\"text-align: right;\">\n",
       "      <th></th>\n",
       "      <th>key</th>\n",
       "      <th>first_temp</th>\n",
       "      <th>last_temp</th>\n",
       "      <th>total_time_heating</th>\n",
       "      <th>Активная мощность</th>\n",
       "      <th>Полная мощность</th>\n",
       "      <th>Реактивная мощность</th>\n",
       "      <th>arc_heating_time</th>\n",
       "      <th>Газ 1</th>\n",
       "      <th>Bulk 3</th>\n",
       "      <th>Bulk 4</th>\n",
       "      <th>Bulk 12</th>\n",
       "      <th>Bulk 14</th>\n",
       "      <th>Bulk 15</th>\n",
       "      <th>bulk_another</th>\n",
       "      <th>Wire 1</th>\n",
       "      <th>wire_another</th>\n",
       "    </tr>\n",
       "  </thead>\n",
       "  <tbody>\n",
       "    <tr>\n",
       "      <th>0</th>\n",
       "      <td>1</td>\n",
       "      <td>1571.0</td>\n",
       "      <td>1613.0</td>\n",
       "      <td>28</td>\n",
       "      <td>3.036730</td>\n",
       "      <td>3.718736</td>\n",
       "      <td>2.142821</td>\n",
       "      <td>18</td>\n",
       "      <td>29.749986</td>\n",
       "      <td>0.0</td>\n",
       "      <td>43.0</td>\n",
       "      <td>206.0</td>\n",
       "      <td>150.0</td>\n",
       "      <td>154.0</td>\n",
       "      <td>0.0</td>\n",
       "      <td>60.059998</td>\n",
       "      <td>0.00000</td>\n",
       "    </tr>\n",
       "    <tr>\n",
       "      <th>1</th>\n",
       "      <td>2</td>\n",
       "      <td>1581.0</td>\n",
       "      <td>1602.0</td>\n",
       "      <td>21</td>\n",
       "      <td>2.139408</td>\n",
       "      <td>2.588349</td>\n",
       "      <td>1.453357</td>\n",
       "      <td>13</td>\n",
       "      <td>12.555561</td>\n",
       "      <td>0.0</td>\n",
       "      <td>73.0</td>\n",
       "      <td>206.0</td>\n",
       "      <td>149.0</td>\n",
       "      <td>154.0</td>\n",
       "      <td>0.0</td>\n",
       "      <td>96.052315</td>\n",
       "      <td>0.00000</td>\n",
       "    </tr>\n",
       "    <tr>\n",
       "      <th>2</th>\n",
       "      <td>3</td>\n",
       "      <td>1596.0</td>\n",
       "      <td>1599.0</td>\n",
       "      <td>29</td>\n",
       "      <td>4.063641</td>\n",
       "      <td>5.019223</td>\n",
       "      <td>2.937457</td>\n",
       "      <td>10</td>\n",
       "      <td>28.554793</td>\n",
       "      <td>0.0</td>\n",
       "      <td>34.0</td>\n",
       "      <td>205.0</td>\n",
       "      <td>152.0</td>\n",
       "      <td>153.0</td>\n",
       "      <td>0.0</td>\n",
       "      <td>91.160157</td>\n",
       "      <td>0.00000</td>\n",
       "    </tr>\n",
       "    <tr>\n",
       "      <th>3</th>\n",
       "      <td>4</td>\n",
       "      <td>1601.0</td>\n",
       "      <td>1625.0</td>\n",
       "      <td>20</td>\n",
       "      <td>2.706489</td>\n",
       "      <td>3.400038</td>\n",
       "      <td>2.056992</td>\n",
       "      <td>12</td>\n",
       "      <td>18.841219</td>\n",
       "      <td>0.0</td>\n",
       "      <td>81.0</td>\n",
       "      <td>207.0</td>\n",
       "      <td>153.0</td>\n",
       "      <td>154.0</td>\n",
       "      <td>0.0</td>\n",
       "      <td>89.063515</td>\n",
       "      <td>0.00000</td>\n",
       "    </tr>\n",
       "    <tr>\n",
       "      <th>4</th>\n",
       "      <td>5</td>\n",
       "      <td>1576.0</td>\n",
       "      <td>1602.0</td>\n",
       "      <td>25</td>\n",
       "      <td>2.252950</td>\n",
       "      <td>2.816980</td>\n",
       "      <td>1.687991</td>\n",
       "      <td>14</td>\n",
       "      <td>5.413692</td>\n",
       "      <td>0.0</td>\n",
       "      <td>78.0</td>\n",
       "      <td>203.0</td>\n",
       "      <td>151.0</td>\n",
       "      <td>152.0</td>\n",
       "      <td>0.0</td>\n",
       "      <td>89.238236</td>\n",
       "      <td>9.11456</td>\n",
       "    </tr>\n",
       "  </tbody>\n",
       "</table>\n",
       "</div>"
      ],
      "text/plain": [
       "   key  first_temp  last_temp  total_time_heating  Активная мощность  \\\n",
       "0    1      1571.0     1613.0                  28           3.036730   \n",
       "1    2      1581.0     1602.0                  21           2.139408   \n",
       "2    3      1596.0     1599.0                  29           4.063641   \n",
       "3    4      1601.0     1625.0                  20           2.706489   \n",
       "4    5      1576.0     1602.0                  25           2.252950   \n",
       "\n",
       "   Полная мощность  Реактивная мощность  arc_heating_time      Газ 1  Bulk 3  \\\n",
       "0         3.718736             2.142821                18  29.749986     0.0   \n",
       "1         2.588349             1.453357                13  12.555561     0.0   \n",
       "2         5.019223             2.937457                10  28.554793     0.0   \n",
       "3         3.400038             2.056992                12  18.841219     0.0   \n",
       "4         2.816980             1.687991                14   5.413692     0.0   \n",
       "\n",
       "   Bulk 4  Bulk 12  Bulk 14  Bulk 15  bulk_another     Wire 1  wire_another  \n",
       "0    43.0    206.0    150.0    154.0           0.0  60.059998       0.00000  \n",
       "1    73.0    206.0    149.0    154.0           0.0  96.052315       0.00000  \n",
       "2    34.0    205.0    152.0    153.0           0.0  91.160157       0.00000  \n",
       "3    81.0    207.0    153.0    154.0           0.0  89.063515       0.00000  \n",
       "4    78.0    203.0    151.0    152.0           0.0  89.238236       9.11456  "
      ]
     },
     "execution_count": 57,
     "metadata": {},
     "output_type": "execute_result"
    }
   ],
   "source": [
    "data_main = data_temp_main\n",
    "\n",
    "#добавляем время между замерами температуры\n",
    "data_main = data_main.merge(data_temp_time_minmax, on='key')\n",
    "\n",
    "#добавляем мощность\n",
    "data_main = data_main.merge(data_arc_power, on='key')\n",
    "\n",
    "#добавляем суммарное время нагрева дугой\n",
    "data_main = data_main.merge(data_arc_time, on='key')\n",
    "\n",
    "#добавляем газ\n",
    "data_main = data_main.merge(data_gas, on='key')\n",
    "\n",
    "#добавляем сыпучие и проволочные материалы\n",
    "data_main = data_main.merge(data_bulk_main, on='key')\n",
    "data_main = data_main.merge(data_wire_main, on='key')\n",
    "\n",
    "data_main.head()"
   ]
  },
  {
   "cell_type": "code",
   "execution_count": 58,
   "metadata": {},
   "outputs": [
    {
     "data": {
      "text/html": [
       "<div>\n",
       "<style scoped>\n",
       "    .dataframe tbody tr th:only-of-type {\n",
       "        vertical-align: middle;\n",
       "    }\n",
       "\n",
       "    .dataframe tbody tr th {\n",
       "        vertical-align: top;\n",
       "    }\n",
       "\n",
       "    .dataframe thead th {\n",
       "        text-align: right;\n",
       "    }\n",
       "</style>\n",
       "<table border=\"1\" class=\"dataframe\">\n",
       "  <thead>\n",
       "    <tr style=\"text-align: right;\">\n",
       "      <th></th>\n",
       "      <th>key</th>\n",
       "      <th>first_temp</th>\n",
       "      <th>last_temp</th>\n",
       "      <th>total_time_heating</th>\n",
       "      <th>active_power</th>\n",
       "      <th>full_power</th>\n",
       "      <th>reactive_power</th>\n",
       "      <th>arc_heating_time</th>\n",
       "      <th>gas</th>\n",
       "      <th>bulk_3</th>\n",
       "      <th>bulk_4</th>\n",
       "      <th>bulk_12</th>\n",
       "      <th>bulk_14</th>\n",
       "      <th>bulk_15</th>\n",
       "      <th>bulk_another</th>\n",
       "      <th>wire</th>\n",
       "      <th>wire_another</th>\n",
       "    </tr>\n",
       "  </thead>\n",
       "  <tbody>\n",
       "    <tr>\n",
       "      <th>0</th>\n",
       "      <td>1</td>\n",
       "      <td>1571.0</td>\n",
       "      <td>1613.0</td>\n",
       "      <td>28</td>\n",
       "      <td>3.03673</td>\n",
       "      <td>3.718736</td>\n",
       "      <td>2.142821</td>\n",
       "      <td>18</td>\n",
       "      <td>29.749986</td>\n",
       "      <td>0.0</td>\n",
       "      <td>43.0</td>\n",
       "      <td>206.0</td>\n",
       "      <td>150.0</td>\n",
       "      <td>154.0</td>\n",
       "      <td>0.0</td>\n",
       "      <td>60.059998</td>\n",
       "      <td>0.0</td>\n",
       "    </tr>\n",
       "  </tbody>\n",
       "</table>\n",
       "</div>"
      ],
      "text/plain": [
       "   key  first_temp  last_temp  total_time_heating  active_power  full_power  \\\n",
       "0    1      1571.0     1613.0                  28       3.03673    3.718736   \n",
       "\n",
       "   reactive_power  arc_heating_time        gas  bulk_3  bulk_4  bulk_12  \\\n",
       "0        2.142821                18  29.749986     0.0    43.0    206.0   \n",
       "\n",
       "   bulk_14  bulk_15  bulk_another       wire  wire_another  \n",
       "0    150.0    154.0           0.0  60.059998           0.0  "
      ]
     },
     "execution_count": 58,
     "metadata": {},
     "output_type": "execute_result"
    }
   ],
   "source": [
    "#приведём названия столбцов к хорошему стилю\n",
    "data_main = data_main.rename(columns= {'Активная мощность' : 'active_power',\n",
    "                                       'Полная мощность' : 'full_power',\n",
    "                                       'Реактивная мощность' : 'reactive_power',\n",
    "                                       'Газ 1' : 'gas',\n",
    "                                       'Bulk 3' : 'bulk_3',\n",
    "                                       'Bulk 4' : 'bulk_4',\n",
    "                                       'Bulk 12' : 'bulk_12',\n",
    "                                       'Bulk 14' : 'bulk_14',\n",
    "                                       'Bulk 15' : 'bulk_15',\n",
    "                                       'Wire 1' : 'wire'})\n",
    "data_main.head(1)"
   ]
  },
  {
   "cell_type": "code",
   "execution_count": 59,
   "metadata": {},
   "outputs": [
    {
     "name": "stdout",
     "output_type": "stream",
     "text": [
      "<class 'pandas.core.frame.DataFrame'>\n",
      "Int64Index: 2329 entries, 0 to 2328\n",
      "Data columns (total 17 columns):\n",
      " #   Column              Non-Null Count  Dtype  \n",
      "---  ------              --------------  -----  \n",
      " 0   key                 2329 non-null   int64  \n",
      " 1   first_temp          2329 non-null   float64\n",
      " 2   last_temp           2329 non-null   float64\n",
      " 3   total_time_heating  2329 non-null   int64  \n",
      " 4   active_power        2329 non-null   float64\n",
      " 5   full_power          2329 non-null   float64\n",
      " 6   reactive_power      2329 non-null   float64\n",
      " 7   arc_heating_time    2329 non-null   int64  \n",
      " 8   gas                 2329 non-null   float64\n",
      " 9   bulk_3              2329 non-null   float64\n",
      " 10  bulk_4              2329 non-null   float64\n",
      " 11  bulk_12             2329 non-null   float64\n",
      " 12  bulk_14             2329 non-null   float64\n",
      " 13  bulk_15             2329 non-null   float64\n",
      " 14  bulk_another        2329 non-null   float64\n",
      " 15  wire                2329 non-null   float64\n",
      " 16  wire_another        2329 non-null   float64\n",
      "dtypes: float64(14), int64(3)\n",
      "memory usage: 327.5 KB\n"
     ]
    }
   ],
   "source": [
    "data_main.info()"
   ]
  },
  {
   "cell_type": "code",
   "execution_count": 60,
   "metadata": {},
   "outputs": [],
   "source": [
    "#переведём температуру в int\n",
    "data_main['first_temp'] = data_main['first_temp'].astype('int')\n",
    "data_main['last_temp'] = data_main['last_temp'].astype('int')"
   ]
  },
  {
   "cell_type": "markdown",
   "metadata": {},
   "source": [
    "Проверим признаки на мультиколлинеарность"
   ]
  },
  {
   "cell_type": "code",
   "execution_count": 61,
   "metadata": {},
   "outputs": [
    {
     "data": {
      "text/html": [
       "<div>\n",
       "<style scoped>\n",
       "    .dataframe tbody tr th:only-of-type {\n",
       "        vertical-align: middle;\n",
       "    }\n",
       "\n",
       "    .dataframe tbody tr th {\n",
       "        vertical-align: top;\n",
       "    }\n",
       "\n",
       "    .dataframe thead th {\n",
       "        text-align: right;\n",
       "    }\n",
       "</style>\n",
       "<table border=\"1\" class=\"dataframe\">\n",
       "  <thead>\n",
       "    <tr style=\"text-align: right;\">\n",
       "      <th></th>\n",
       "      <th>key</th>\n",
       "      <th>first_temp</th>\n",
       "      <th>last_temp</th>\n",
       "      <th>total_time_heating</th>\n",
       "      <th>active_power</th>\n",
       "      <th>full_power</th>\n",
       "      <th>reactive_power</th>\n",
       "      <th>arc_heating_time</th>\n",
       "      <th>gas</th>\n",
       "      <th>bulk_3</th>\n",
       "      <th>bulk_4</th>\n",
       "      <th>bulk_12</th>\n",
       "      <th>bulk_14</th>\n",
       "      <th>bulk_15</th>\n",
       "      <th>bulk_another</th>\n",
       "      <th>wire</th>\n",
       "      <th>wire_another</th>\n",
       "    </tr>\n",
       "  </thead>\n",
       "  <tbody>\n",
       "    <tr>\n",
       "      <th>key</th>\n",
       "      <td>1.000000</td>\n",
       "      <td>-0.015911</td>\n",
       "      <td>-0.097242</td>\n",
       "      <td>-0.057591</td>\n",
       "      <td>-0.023422</td>\n",
       "      <td>-0.022668</td>\n",
       "      <td>-0.021349</td>\n",
       "      <td>-0.035915</td>\n",
       "      <td>-0.043486</td>\n",
       "      <td>-0.007271</td>\n",
       "      <td>-0.026147</td>\n",
       "      <td>0.025958</td>\n",
       "      <td>-0.110275</td>\n",
       "      <td>-0.045531</td>\n",
       "      <td>0.048811</td>\n",
       "      <td>-0.013564</td>\n",
       "      <td>0.015770</td>\n",
       "    </tr>\n",
       "    <tr>\n",
       "      <th>first_temp</th>\n",
       "      <td>-0.015911</td>\n",
       "      <td>1.000000</td>\n",
       "      <td>0.301320</td>\n",
       "      <td>0.106072</td>\n",
       "      <td>-0.154657</td>\n",
       "      <td>-0.154205</td>\n",
       "      <td>-0.152598</td>\n",
       "      <td>-0.390813</td>\n",
       "      <td>0.036047</td>\n",
       "      <td>-0.113925</td>\n",
       "      <td>0.164936</td>\n",
       "      <td>-0.080115</td>\n",
       "      <td>-0.181076</td>\n",
       "      <td>-0.063041</td>\n",
       "      <td>0.000865</td>\n",
       "      <td>0.262598</td>\n",
       "      <td>-0.062219</td>\n",
       "    </tr>\n",
       "    <tr>\n",
       "      <th>last_temp</th>\n",
       "      <td>-0.097242</td>\n",
       "      <td>0.301320</td>\n",
       "      <td>1.000000</td>\n",
       "      <td>0.057178</td>\n",
       "      <td>0.177339</td>\n",
       "      <td>0.175668</td>\n",
       "      <td>0.171878</td>\n",
       "      <td>0.279832</td>\n",
       "      <td>0.059160</td>\n",
       "      <td>-0.035977</td>\n",
       "      <td>0.187970</td>\n",
       "      <td>0.267424</td>\n",
       "      <td>0.114617</td>\n",
       "      <td>0.266414</td>\n",
       "      <td>-0.178539</td>\n",
       "      <td>0.317575</td>\n",
       "      <td>-0.202401</td>\n",
       "    </tr>\n",
       "    <tr>\n",
       "      <th>total_time_heating</th>\n",
       "      <td>-0.057591</td>\n",
       "      <td>0.106072</td>\n",
       "      <td>0.057178</td>\n",
       "      <td>1.000000</td>\n",
       "      <td>0.207443</td>\n",
       "      <td>0.206715</td>\n",
       "      <td>0.204380</td>\n",
       "      <td>0.154746</td>\n",
       "      <td>0.154238</td>\n",
       "      <td>0.050554</td>\n",
       "      <td>0.058841</td>\n",
       "      <td>0.091296</td>\n",
       "      <td>0.103885</td>\n",
       "      <td>0.013384</td>\n",
       "      <td>0.001110</td>\n",
       "      <td>0.198141</td>\n",
       "      <td>0.027602</td>\n",
       "    </tr>\n",
       "    <tr>\n",
       "      <th>active_power</th>\n",
       "      <td>-0.023422</td>\n",
       "      <td>-0.154657</td>\n",
       "      <td>0.177339</td>\n",
       "      <td>0.207443</td>\n",
       "      <td>1.000000</td>\n",
       "      <td>0.999030</td>\n",
       "      <td>0.992424</td>\n",
       "      <td>0.699960</td>\n",
       "      <td>0.370985</td>\n",
       "      <td>0.103241</td>\n",
       "      <td>0.005563</td>\n",
       "      <td>0.286073</td>\n",
       "      <td>0.300046</td>\n",
       "      <td>0.169845</td>\n",
       "      <td>0.212230</td>\n",
       "      <td>0.137923</td>\n",
       "      <td>0.095562</td>\n",
       "    </tr>\n",
       "    <tr>\n",
       "      <th>full_power</th>\n",
       "      <td>-0.022668</td>\n",
       "      <td>-0.154205</td>\n",
       "      <td>0.175668</td>\n",
       "      <td>0.206715</td>\n",
       "      <td>0.999030</td>\n",
       "      <td>1.000000</td>\n",
       "      <td>0.996868</td>\n",
       "      <td>0.698684</td>\n",
       "      <td>0.370555</td>\n",
       "      <td>0.102638</td>\n",
       "      <td>0.005236</td>\n",
       "      <td>0.286423</td>\n",
       "      <td>0.299090</td>\n",
       "      <td>0.169506</td>\n",
       "      <td>0.210940</td>\n",
       "      <td>0.138347</td>\n",
       "      <td>0.095489</td>\n",
       "    </tr>\n",
       "    <tr>\n",
       "      <th>reactive_power</th>\n",
       "      <td>-0.021349</td>\n",
       "      <td>-0.152598</td>\n",
       "      <td>0.171878</td>\n",
       "      <td>0.204380</td>\n",
       "      <td>0.992424</td>\n",
       "      <td>0.996868</td>\n",
       "      <td>1.000000</td>\n",
       "      <td>0.692912</td>\n",
       "      <td>0.367954</td>\n",
       "      <td>0.100949</td>\n",
       "      <td>0.004647</td>\n",
       "      <td>0.285721</td>\n",
       "      <td>0.295930</td>\n",
       "      <td>0.168109</td>\n",
       "      <td>0.207726</td>\n",
       "      <td>0.138365</td>\n",
       "      <td>0.094874</td>\n",
       "    </tr>\n",
       "    <tr>\n",
       "      <th>arc_heating_time</th>\n",
       "      <td>-0.035915</td>\n",
       "      <td>-0.390813</td>\n",
       "      <td>0.279832</td>\n",
       "      <td>0.154746</td>\n",
       "      <td>0.699960</td>\n",
       "      <td>0.698684</td>\n",
       "      <td>0.692912</td>\n",
       "      <td>1.000000</td>\n",
       "      <td>0.388528</td>\n",
       "      <td>0.099178</td>\n",
       "      <td>-0.025482</td>\n",
       "      <td>0.461371</td>\n",
       "      <td>0.465321</td>\n",
       "      <td>0.296405</td>\n",
       "      <td>0.163371</td>\n",
       "      <td>0.047240</td>\n",
       "      <td>0.072691</td>\n",
       "    </tr>\n",
       "    <tr>\n",
       "      <th>gas</th>\n",
       "      <td>-0.043486</td>\n",
       "      <td>0.036047</td>\n",
       "      <td>0.059160</td>\n",
       "      <td>0.154238</td>\n",
       "      <td>0.370985</td>\n",
       "      <td>0.370555</td>\n",
       "      <td>0.367954</td>\n",
       "      <td>0.388528</td>\n",
       "      <td>1.000000</td>\n",
       "      <td>0.059628</td>\n",
       "      <td>0.017578</td>\n",
       "      <td>0.217332</td>\n",
       "      <td>0.268889</td>\n",
       "      <td>0.043624</td>\n",
       "      <td>0.263353</td>\n",
       "      <td>0.117313</td>\n",
       "      <td>0.175348</td>\n",
       "    </tr>\n",
       "    <tr>\n",
       "      <th>bulk_3</th>\n",
       "      <td>-0.007271</td>\n",
       "      <td>-0.113925</td>\n",
       "      <td>-0.035977</td>\n",
       "      <td>0.050554</td>\n",
       "      <td>0.103241</td>\n",
       "      <td>0.102638</td>\n",
       "      <td>0.100949</td>\n",
       "      <td>0.099178</td>\n",
       "      <td>0.059628</td>\n",
       "      <td>1.000000</td>\n",
       "      <td>-0.295431</td>\n",
       "      <td>0.018371</td>\n",
       "      <td>0.010772</td>\n",
       "      <td>-0.012860</td>\n",
       "      <td>-0.025460</td>\n",
       "      <td>0.039637</td>\n",
       "      <td>0.066848</td>\n",
       "    </tr>\n",
       "    <tr>\n",
       "      <th>bulk_4</th>\n",
       "      <td>-0.026147</td>\n",
       "      <td>0.164936</td>\n",
       "      <td>0.187970</td>\n",
       "      <td>0.058841</td>\n",
       "      <td>0.005563</td>\n",
       "      <td>0.005236</td>\n",
       "      <td>0.004647</td>\n",
       "      <td>-0.025482</td>\n",
       "      <td>0.017578</td>\n",
       "      <td>-0.295431</td>\n",
       "      <td>1.000000</td>\n",
       "      <td>0.105791</td>\n",
       "      <td>-0.090602</td>\n",
       "      <td>0.101514</td>\n",
       "      <td>-0.178970</td>\n",
       "      <td>0.297591</td>\n",
       "      <td>-0.207868</td>\n",
       "    </tr>\n",
       "    <tr>\n",
       "      <th>bulk_12</th>\n",
       "      <td>0.025958</td>\n",
       "      <td>-0.080115</td>\n",
       "      <td>0.267424</td>\n",
       "      <td>0.091296</td>\n",
       "      <td>0.286073</td>\n",
       "      <td>0.286423</td>\n",
       "      <td>0.285721</td>\n",
       "      <td>0.461371</td>\n",
       "      <td>0.217332</td>\n",
       "      <td>0.018371</td>\n",
       "      <td>0.105791</td>\n",
       "      <td>1.000000</td>\n",
       "      <td>0.481541</td>\n",
       "      <td>0.614479</td>\n",
       "      <td>-0.059986</td>\n",
       "      <td>0.170167</td>\n",
       "      <td>-0.159838</td>\n",
       "    </tr>\n",
       "    <tr>\n",
       "      <th>bulk_14</th>\n",
       "      <td>-0.110275</td>\n",
       "      <td>-0.181076</td>\n",
       "      <td>0.114617</td>\n",
       "      <td>0.103885</td>\n",
       "      <td>0.300046</td>\n",
       "      <td>0.299090</td>\n",
       "      <td>0.295930</td>\n",
       "      <td>0.465321</td>\n",
       "      <td>0.268889</td>\n",
       "      <td>0.010772</td>\n",
       "      <td>-0.090602</td>\n",
       "      <td>0.481541</td>\n",
       "      <td>1.000000</td>\n",
       "      <td>0.265354</td>\n",
       "      <td>0.052381</td>\n",
       "      <td>-0.053835</td>\n",
       "      <td>0.003720</td>\n",
       "    </tr>\n",
       "    <tr>\n",
       "      <th>bulk_15</th>\n",
       "      <td>-0.045531</td>\n",
       "      <td>-0.063041</td>\n",
       "      <td>0.266414</td>\n",
       "      <td>0.013384</td>\n",
       "      <td>0.169845</td>\n",
       "      <td>0.169506</td>\n",
       "      <td>0.168109</td>\n",
       "      <td>0.296405</td>\n",
       "      <td>0.043624</td>\n",
       "      <td>-0.012860</td>\n",
       "      <td>0.101514</td>\n",
       "      <td>0.614479</td>\n",
       "      <td>0.265354</td>\n",
       "      <td>1.000000</td>\n",
       "      <td>-0.123164</td>\n",
       "      <td>0.118437</td>\n",
       "      <td>-0.158654</td>\n",
       "    </tr>\n",
       "    <tr>\n",
       "      <th>bulk_another</th>\n",
       "      <td>0.048811</td>\n",
       "      <td>0.000865</td>\n",
       "      <td>-0.178539</td>\n",
       "      <td>0.001110</td>\n",
       "      <td>0.212230</td>\n",
       "      <td>0.210940</td>\n",
       "      <td>0.207726</td>\n",
       "      <td>0.163371</td>\n",
       "      <td>0.263353</td>\n",
       "      <td>-0.025460</td>\n",
       "      <td>-0.178970</td>\n",
       "      <td>-0.059986</td>\n",
       "      <td>0.052381</td>\n",
       "      <td>-0.123164</td>\n",
       "      <td>1.000000</td>\n",
       "      <td>-0.213777</td>\n",
       "      <td>0.193786</td>\n",
       "    </tr>\n",
       "    <tr>\n",
       "      <th>wire</th>\n",
       "      <td>-0.013564</td>\n",
       "      <td>0.262598</td>\n",
       "      <td>0.317575</td>\n",
       "      <td>0.198141</td>\n",
       "      <td>0.137923</td>\n",
       "      <td>0.138347</td>\n",
       "      <td>0.138365</td>\n",
       "      <td>0.047240</td>\n",
       "      <td>0.117313</td>\n",
       "      <td>0.039637</td>\n",
       "      <td>0.297591</td>\n",
       "      <td>0.170167</td>\n",
       "      <td>-0.053835</td>\n",
       "      <td>0.118437</td>\n",
       "      <td>-0.213777</td>\n",
       "      <td>1.000000</td>\n",
       "      <td>-0.058784</td>\n",
       "    </tr>\n",
       "    <tr>\n",
       "      <th>wire_another</th>\n",
       "      <td>0.015770</td>\n",
       "      <td>-0.062219</td>\n",
       "      <td>-0.202401</td>\n",
       "      <td>0.027602</td>\n",
       "      <td>0.095562</td>\n",
       "      <td>0.095489</td>\n",
       "      <td>0.094874</td>\n",
       "      <td>0.072691</td>\n",
       "      <td>0.175348</td>\n",
       "      <td>0.066848</td>\n",
       "      <td>-0.207868</td>\n",
       "      <td>-0.159838</td>\n",
       "      <td>0.003720</td>\n",
       "      <td>-0.158654</td>\n",
       "      <td>0.193786</td>\n",
       "      <td>-0.058784</td>\n",
       "      <td>1.000000</td>\n",
       "    </tr>\n",
       "  </tbody>\n",
       "</table>\n",
       "</div>"
      ],
      "text/plain": [
       "                         key  first_temp  last_temp  total_time_heating  \\\n",
       "key                 1.000000   -0.015911  -0.097242           -0.057591   \n",
       "first_temp         -0.015911    1.000000   0.301320            0.106072   \n",
       "last_temp          -0.097242    0.301320   1.000000            0.057178   \n",
       "total_time_heating -0.057591    0.106072   0.057178            1.000000   \n",
       "active_power       -0.023422   -0.154657   0.177339            0.207443   \n",
       "full_power         -0.022668   -0.154205   0.175668            0.206715   \n",
       "reactive_power     -0.021349   -0.152598   0.171878            0.204380   \n",
       "arc_heating_time   -0.035915   -0.390813   0.279832            0.154746   \n",
       "gas                -0.043486    0.036047   0.059160            0.154238   \n",
       "bulk_3             -0.007271   -0.113925  -0.035977            0.050554   \n",
       "bulk_4             -0.026147    0.164936   0.187970            0.058841   \n",
       "bulk_12             0.025958   -0.080115   0.267424            0.091296   \n",
       "bulk_14            -0.110275   -0.181076   0.114617            0.103885   \n",
       "bulk_15            -0.045531   -0.063041   0.266414            0.013384   \n",
       "bulk_another        0.048811    0.000865  -0.178539            0.001110   \n",
       "wire               -0.013564    0.262598   0.317575            0.198141   \n",
       "wire_another        0.015770   -0.062219  -0.202401            0.027602   \n",
       "\n",
       "                    active_power  full_power  reactive_power  \\\n",
       "key                    -0.023422   -0.022668       -0.021349   \n",
       "first_temp             -0.154657   -0.154205       -0.152598   \n",
       "last_temp               0.177339    0.175668        0.171878   \n",
       "total_time_heating      0.207443    0.206715        0.204380   \n",
       "active_power            1.000000    0.999030        0.992424   \n",
       "full_power              0.999030    1.000000        0.996868   \n",
       "reactive_power          0.992424    0.996868        1.000000   \n",
       "arc_heating_time        0.699960    0.698684        0.692912   \n",
       "gas                     0.370985    0.370555        0.367954   \n",
       "bulk_3                  0.103241    0.102638        0.100949   \n",
       "bulk_4                  0.005563    0.005236        0.004647   \n",
       "bulk_12                 0.286073    0.286423        0.285721   \n",
       "bulk_14                 0.300046    0.299090        0.295930   \n",
       "bulk_15                 0.169845    0.169506        0.168109   \n",
       "bulk_another            0.212230    0.210940        0.207726   \n",
       "wire                    0.137923    0.138347        0.138365   \n",
       "wire_another            0.095562    0.095489        0.094874   \n",
       "\n",
       "                    arc_heating_time       gas    bulk_3    bulk_4   bulk_12  \\\n",
       "key                        -0.035915 -0.043486 -0.007271 -0.026147  0.025958   \n",
       "first_temp                 -0.390813  0.036047 -0.113925  0.164936 -0.080115   \n",
       "last_temp                   0.279832  0.059160 -0.035977  0.187970  0.267424   \n",
       "total_time_heating          0.154746  0.154238  0.050554  0.058841  0.091296   \n",
       "active_power                0.699960  0.370985  0.103241  0.005563  0.286073   \n",
       "full_power                  0.698684  0.370555  0.102638  0.005236  0.286423   \n",
       "reactive_power              0.692912  0.367954  0.100949  0.004647  0.285721   \n",
       "arc_heating_time            1.000000  0.388528  0.099178 -0.025482  0.461371   \n",
       "gas                         0.388528  1.000000  0.059628  0.017578  0.217332   \n",
       "bulk_3                      0.099178  0.059628  1.000000 -0.295431  0.018371   \n",
       "bulk_4                     -0.025482  0.017578 -0.295431  1.000000  0.105791   \n",
       "bulk_12                     0.461371  0.217332  0.018371  0.105791  1.000000   \n",
       "bulk_14                     0.465321  0.268889  0.010772 -0.090602  0.481541   \n",
       "bulk_15                     0.296405  0.043624 -0.012860  0.101514  0.614479   \n",
       "bulk_another                0.163371  0.263353 -0.025460 -0.178970 -0.059986   \n",
       "wire                        0.047240  0.117313  0.039637  0.297591  0.170167   \n",
       "wire_another                0.072691  0.175348  0.066848 -0.207868 -0.159838   \n",
       "\n",
       "                     bulk_14   bulk_15  bulk_another      wire  wire_another  \n",
       "key                -0.110275 -0.045531      0.048811 -0.013564      0.015770  \n",
       "first_temp         -0.181076 -0.063041      0.000865  0.262598     -0.062219  \n",
       "last_temp           0.114617  0.266414     -0.178539  0.317575     -0.202401  \n",
       "total_time_heating  0.103885  0.013384      0.001110  0.198141      0.027602  \n",
       "active_power        0.300046  0.169845      0.212230  0.137923      0.095562  \n",
       "full_power          0.299090  0.169506      0.210940  0.138347      0.095489  \n",
       "reactive_power      0.295930  0.168109      0.207726  0.138365      0.094874  \n",
       "arc_heating_time    0.465321  0.296405      0.163371  0.047240      0.072691  \n",
       "gas                 0.268889  0.043624      0.263353  0.117313      0.175348  \n",
       "bulk_3              0.010772 -0.012860     -0.025460  0.039637      0.066848  \n",
       "bulk_4             -0.090602  0.101514     -0.178970  0.297591     -0.207868  \n",
       "bulk_12             0.481541  0.614479     -0.059986  0.170167     -0.159838  \n",
       "bulk_14             1.000000  0.265354      0.052381 -0.053835      0.003720  \n",
       "bulk_15             0.265354  1.000000     -0.123164  0.118437     -0.158654  \n",
       "bulk_another        0.052381 -0.123164      1.000000 -0.213777      0.193786  \n",
       "wire               -0.053835  0.118437     -0.213777  1.000000     -0.058784  \n",
       "wire_another        0.003720 -0.158654      0.193786 -0.058784      1.000000  "
      ]
     },
     "metadata": {},
     "output_type": "display_data"
    },
    {
     "data": {
      "image/png": "[encoded data removed]",
      "text/plain": [
       "<Figure size 1152x864 with 2 Axes>"
      ]
     },
     "metadata": {
      "needs_background": "light"
     },
     "output_type": "display_data"
    }
   ],
   "source": [
    "plt.figure(figsize=(16, 12))\n",
    "\n",
    "data_main_corr = data_main.corr()\n",
    "display(data_main_corr)\n",
    "\n",
    "sns.heatmap(data_main_corr, annot=True, linewidths=0.1,)\n",
    "plt.title('Таблица корреляции', size=20);"
   ]
  },
  {
   "cell_type": "markdown",
   "metadata": {},
   "source": [
    "Из таблицы видно, что на последнюю температуру сильнее всего влияет:\n",
    "* начальная температура\n",
    "* время нагрева дугой\n",
    "* мощность\n",
    "* сыпучие материалы под номерами 4, 12, 14, 15\n",
    "* проволочные материалы (wire)\n",
    "\n",
    "На последнюю температуру не влияют:\n",
    "\n",
    "* газ\n",
    "* сыпучий материал под номером 3 и остальные(bulk_another)\n",
    "* остальные проволочные материалы (wire_another)\n",
    "* время между замерами температуры"
   ]
  },
  {
   "cell_type": "markdown",
   "metadata": {},
   "source": [
    "Из таблицы видно, что активная, реактивная и полная мощность почти полностью дублируют себя. Оставим полную мощность, а остальные удалим. Ещё удалим признак key, ибо он не является бизнес-фактором."
   ]
  },
  {
   "cell_type": "code",
   "execution_count": 62,
   "metadata": {},
   "outputs": [],
   "source": [
    "data_main = data_main.drop(['key' ,'active_power', 'reactive_power'], axis=1)"
   ]
  },
  {
   "cell_type": "markdown",
   "metadata": {},
   "source": [
    "# Вывод по второму шагу"
   ]
  },
  {
   "cell_type": "markdown",
   "metadata": {},
   "source": [
    "В ходе второго этапа мы:\n",
    "\n",
    "* обработали аномальные выбросы и пропуски\n",
    "* привели названия столбцов в нужный стиль\n",
    "* подготовили главный признак - последняя температура\n",
    "* рассчитали время между замерами температуры\n",
    "* рассчитали полную мощность по формуле\n",
    "* создали основную для обучения таблицу\n",
    "* выяснили какие признаки влияют на температуру, а какие не особо влияют\n",
    "* удалили из основной таблицы признаки активной и реактивной мощности, ибо по таблице корреляции видно, что они практически идентичны"
   ]
  },
  {
   "cell_type": "markdown",
   "metadata": {},
   "source": [
    "## Обучение моделей"
   ]
  },
  {
   "cell_type": "markdown",
   "metadata": {},
   "source": [
    "### Подготовим выборки"
   ]
  },
  {
   "cell_type": "code",
   "execution_count": 65,
   "metadata": {},
   "outputs": [
    {
     "name": "stdout",
     "output_type": "stream",
     "text": [
      "Размер обучающей выборки: 1746 \n",
      "Размер тестовой выборки: 583\n"
     ]
    }
   ],
   "source": [
    "#зададим random_state\n",
    "r_state = 80523\n",
    "\n",
    "features = data_main.drop(['last_temp'], axis=1)\n",
    "target = data_main['last_temp']\n",
    "\n",
    "features_train, features_test, target_train, target_test = train_test_split(\n",
    "    features, target, train_size=0.75, random_state=r_state)\n",
    "\n",
    "print('Размер обучающей выборки:', features_train.shape[0],'\\n'\n",
    "      'Размер тестовой выборки:', features_test.shape[0])"
   ]
  },
  {
   "cell_type": "markdown",
   "metadata": {},
   "source": [
    "Приступим к обучению моделей. Использовать будем следующие модели: линейная регрессия, случайный лес, LightGBM, CatBoost"
   ]
  },
  {
   "cell_type": "markdown",
   "metadata": {},
   "source": [
    "### Линейная регрессия"
   ]
  },
  {
   "cell_type": "code",
   "execution_count": 67,
   "metadata": {},
   "outputs": [
    {
     "name": "stdout",
     "output_type": "stream",
     "text": [
      "Результаты кросс-валидации на модели линейной регрессии [-6.53933761 -6.30755084 -6.45947793 -6.02402894 -6.0715859 ]\n",
      "Усреднённый MAE: 6.280396244979819\n",
      "\n",
      "CPU times: user 59.9 ms, sys: 24 ms, total: 83.9 ms\n",
      "Wall time: 32 ms\n"
     ]
    }
   ],
   "source": [
    "%%time\n",
    "lin = LinearRegression()\n",
    "lin_scores = cross_val_score(lin, features_train, target_train, cv=5, scoring='neg_mean_absolute_error')\n",
    "lin_score = sum(lin_scores) / len(lin_scores) * -1\n",
    "print('Результаты кросс-валидации на модели линейной регрессии', lin_scores)\n",
    "print('Усреднённый MAE:', lin_score)\n",
    "print('')"
   ]
  },
  {
   "cell_type": "markdown",
   "metadata": {},
   "source": [
    "### Случайный лес"
   ]
  },
  {
   "cell_type": "code",
   "execution_count": 68,
   "metadata": {
    "scrolled": true
   },
   "outputs": [
    {
     "name": "stdout",
     "output_type": "stream",
     "text": [
      "Результаты кросс-валидации на модели случайного леса: [-6.43023865 -6.25485791 -6.54305712 -5.93562898 -6.33181413] \n",
      "Лучшая глубина: 1 , \n",
      "Лучшее дерево: 70 , \n",
      "Усреднённый MAE: 7.59985342099805\n",
      "CPU times: user 1min 38s, sys: 364 ms, total: 1min 38s\n",
      "Wall time: 1min 38s\n"
     ]
    }
   ],
   "source": [
    "%%time\n",
    "best_forest_mae = 0\n",
    "best_depth = None\n",
    "best_forest = None\n",
    "best_est = None\n",
    "for depth in range(1, 15, 2): \n",
    "    for est in range(50, 120, 10):\n",
    "        forest = RandomForestRegressor(random_state=r_state, max_depth=depth, n_estimators=est)\n",
    "        for_scores = cross_val_score(forest, features_train, target_train, cv=5, scoring='neg_mean_absolute_error')\n",
    "        for_score = sum(for_scores) / len(for_scores) * -1\n",
    "        if for_score > best_forest_mae:\n",
    "            best_forest_mae = for_score\n",
    "            best_depth = depth\n",
    "            best_est = est\n",
    "            best_forest = forest\n",
    "\n",
    "print('Результаты кросс-валидации на модели случайного леса:', for_scores, \n",
    "      '\\nЛучшая глубина:', best_depth, ', ' \n",
    "      '\\nЛучшее дерево:', best_est, ', '\n",
    "      '\\nУсреднённый MAE:', best_forest_mae)"
   ]
  },
  {
   "cell_type": "markdown",
   "metadata": {},
   "source": [
    "Очень странно рассчитывается MAE таким способом. Ради интереса хочу проверить результат через GridSearch"
   ]
  },
  {
   "cell_type": "code",
   "execution_count": 69,
   "metadata": {},
   "outputs": [
    {
     "name": "stdout",
     "output_type": "stream",
     "text": [
      "RandomForestRegressor(max_depth=15, n_estimators=120, random_state=80523)\n",
      "{'max_depth': 15, 'min_samples_leaf': 1, 'n_estimators': 120, 'random_state': 80523}\n",
      "\n",
      "Усреднённый MAE: 6.290128158922118\n",
      "\n",
      "CPU times: user 57.3 s, sys: 148 ms, total: 57.5 s\n",
      "Wall time: 57.7 s\n"
     ]
    }
   ],
   "source": [
    "%%time\n",
    "model = RandomForestRegressor()\n",
    "hyperparams = [{'max_depth' : [5, 10, 15],\n",
    "                'n_estimators' : [30, 60, 120], \n",
    "                'random_state' : [r_state],\n",
    "                'min_samples_leaf' : [1, 2, 4]}]\n",
    "\n",
    "grid_forest = GridSearchCV(model, hyperparams, cv=5, scoring='neg_mean_absolute_error', n_jobs=-1, verbose=0)\n",
    "grid_forest.fit(features_train, target_train)\n",
    "forest_best_params = grid_forest.best_params_\n",
    "\n",
    "print(grid_forest.best_estimator_)\n",
    "print(forest_best_params)\n",
    "print('')\n",
    "print('Усреднённый MAE:', (grid_forest.best_score_)*-1)\n",
    "print('')"
   ]
  },
  {
   "cell_type": "markdown",
   "metadata": {},
   "source": [
    "### LightGBM"
   ]
  },
  {
   "cell_type": "code",
   "execution_count": 70,
   "metadata": {},
   "outputs": [
    {
     "name": "stdout",
     "output_type": "stream",
     "text": [
      "LGBMRegressor(learning_rate=0.05, random_state=80523)\n",
      "{'class_weight': None, 'learning_rate': 0.05, 'num_leaves': 31, 'random_state': 80523}\n",
      "\n",
      "Усреднённый MAE: 6.120851424009937\n",
      "\n",
      "CPU times: user 32.6 s, sys: 650 ms, total: 33.2 s\n",
      "Wall time: 33.5 s\n"
     ]
    }
   ],
   "source": [
    "%%time\n",
    "model_lgbm = LGBMRegressor()\n",
    "hyperparams = [{'num_leaves' : [10, 31, 50], \n",
    "                'learning_rate' : [0.05, 0.1, 0.2],\n",
    "                'class_weight' : ['balanced', None],\n",
    "                'random_state' : [r_state]}]\n",
    "\n",
    "grid_lgbm = GridSearchCV(model_lgbm, hyperparams, cv=5, scoring='neg_mean_absolute_error', n_jobs=-1, verbose=0)\n",
    "grid_lgbm.fit(features_train, target_train)\n",
    "lgbm_best_params = grid_lgbm.best_params_\n",
    "\n",
    "print(grid_lgbm.best_estimator_)\n",
    "print(lgbm_best_params)\n",
    "print('')\n",
    "print('Усреднённый MAE:', (grid_lgbm.best_score_)*-1)\n",
    "print('')"
   ]
  },
  {
   "cell_type": "markdown",
   "metadata": {},
   "source": [
    "### CatBoost"
   ]
  },
  {
   "cell_type": "code",
   "execution_count": 71,
   "metadata": {},
   "outputs": [
    {
     "name": "stdout",
     "output_type": "stream",
     "text": [
      "Усреднённый MAE: 6.110364290839013\n",
      "CPU times: user 13.4 s, sys: 527 ms, total: 13.9 s\n",
      "Wall time: 21.6 s\n"
     ]
    }
   ],
   "source": [
    "%%time\n",
    "model_cat = CatBoostRegressor(random_state=r_state, learning_rate=0.01, depth=6, verbose=0)\n",
    "cat_cv = cross_val_score(model_cat, \n",
    "                         features_train, \n",
    "                         target_train,\n",
    "                         cv=5,\n",
    "                         scoring='neg_mean_absolute_error')\n",
    "val_score = cat_cv.mean() * -1\n",
    "\n",
    "model_cat\n",
    "\n",
    "print('Усреднённый MAE:', val_score)"
   ]
  },
  {
   "cell_type": "markdown",
   "metadata": {},
   "source": [
    "### Анализ моделей"
   ]
  },
  {
   "cell_type": "markdown",
   "metadata": {},
   "source": [
    "Создадим таблицу для удобного сравнения моделей"
   ]
  },
  {
   "cell_type": "code",
   "execution_count": 72,
   "metadata": {},
   "outputs": [],
   "source": [
    "learning_time = [0.32, 57.3, 33.5, 21.6]\n",
    "mae_data = [lin_score, (grid_forest.best_score_)*-1, (grid_lgbm.best_score_)*-1, val_score]"
   ]
  },
  {
   "cell_type": "code",
   "execution_count": 73,
   "metadata": {},
   "outputs": [
    {
     "data": {
      "text/html": [
       "<div>\n",
       "<style scoped>\n",
       "    .dataframe tbody tr th:only-of-type {\n",
       "        vertical-align: middle;\n",
       "    }\n",
       "\n",
       "    .dataframe tbody tr th {\n",
       "        vertical-align: top;\n",
       "    }\n",
       "\n",
       "    .dataframe thead th {\n",
       "        text-align: right;\n",
       "    }\n",
       "</style>\n",
       "<table border=\"1\" class=\"dataframe\">\n",
       "  <thead>\n",
       "    <tr style=\"text-align: right;\">\n",
       "      <th></th>\n",
       "      <th>Linear</th>\n",
       "      <th>RandomForest</th>\n",
       "      <th>LightGBM</th>\n",
       "      <th>CatBoost</th>\n",
       "    </tr>\n",
       "  </thead>\n",
       "  <tbody>\n",
       "    <tr>\n",
       "      <th>Learning Time</th>\n",
       "      <td>0.32</td>\n",
       "      <td>57.30</td>\n",
       "      <td>33.50</td>\n",
       "      <td>21.60</td>\n",
       "    </tr>\n",
       "    <tr>\n",
       "      <th>MAE</th>\n",
       "      <td>6.28</td>\n",
       "      <td>6.29</td>\n",
       "      <td>6.12</td>\n",
       "      <td>6.11</td>\n",
       "    </tr>\n",
       "  </tbody>\n",
       "</table>\n",
       "</div>"
      ],
      "text/plain": [
       "               Linear  RandomForest  LightGBM  CatBoost\n",
       "Learning Time    0.32         57.30     33.50     21.60\n",
       "MAE              6.28          6.29      6.12      6.11"
      ]
     },
     "execution_count": 73,
     "metadata": {},
     "output_type": "execute_result"
    }
   ],
   "source": [
    "data_final = pd.DataFrame(data=[learning_time, mae_data], \n",
    "                          columns=['Linear', 'RandomForest', 'LightGBM', 'CatBoost'], \n",
    "                          index=['Learning Time', 'MAE']).round(2)\n",
    "data_final"
   ]
  },
  {
   "cell_type": "markdown",
   "metadata": {},
   "source": [
    "# Вывод по третьему шагу"
   ]
  },
  {
   "cell_type": "markdown",
   "metadata": {},
   "source": [
    "Обучив модели мы выяснили:\n",
    "\n",
    "* CatBoost и LightGBM показали лучший результат MAE (6.11 и 6.12)\n",
    "* Линейная регрессия обучается быстрее всех\n",
    "* Дольше всех обучается случайный лес\n",
    "* Случайный лес показал результат близкий к линейной регрессии, но время обучения гораздо выше\n",
    "* Все модели успешно прошли минимальный порог MAE в 6.8\n",
    "* LightGBM приоритетная модель"
   ]
  },
  {
   "cell_type": "markdown",
   "metadata": {},
   "source": [
    "## Тестирование лучшей модели"
   ]
  },
  {
   "cell_type": "markdown",
   "metadata": {},
   "source": [
    "Проведём тестирование на модели LightGBM"
   ]
  },
  {
   "cell_type": "code",
   "execution_count": 75,
   "metadata": {},
   "outputs": [
    {
     "name": "stdout",
     "output_type": "stream",
     "text": [
      "MAE на обучающей выборке = 6.279675007727212\n",
      "CPU times: user 17.6 ms, sys: 3.85 ms, total: 21.5 ms\n",
      "Wall time: 8.69 ms\n"
     ]
    }
   ],
   "source": [
    "%%time\n",
    "best_model_lgbm = grid_lgbm.best_estimator_\n",
    "predictions = best_model_lgbm.predict(features_test)\n",
    "test_mae = mean_absolute_error(predictions, target_test)\n",
    "print('MAE на обучающей выборке =', test_mae)"
   ]
  },
  {
   "cell_type": "markdown",
   "metadata": {},
   "source": [
    "Хоть значение MAE и немного больше, чем при кросс-валидации, но порог в 6.8 модель спокойно перешла.\n",
    "\n",
    "Сравним результат нашей модели с моделью DummyRegressor. Так мы проверим нашу модель на адекватность. Этот регрессор полезен в качестве простого базиса для сравнения с другими (реальными)регрессорами."
   ]
  },
  {
   "cell_type": "code",
   "execution_count": 76,
   "metadata": {},
   "outputs": [
    {
     "name": "stdout",
     "output_type": "stream",
     "text": [
      "MAE обучающей выборки на dummy модели: 7.964702825899549\n",
      "MAE тестовой выборки на dummy модели: 8.385775671517742\n"
     ]
    }
   ],
   "source": [
    "dummy = DummyRegressor(strategy='mean')\n",
    "dummy.fit(features_train, target_train)\n",
    "predict_train = dummy.predict(features_train)\n",
    "train_mae = mean_absolute_error(predict_train, target_train)\n",
    "print('MAE обучающей выборки на dummy модели:', train_mae)\n",
    "\n",
    "predict_test = dummy.predict(features_test)\n",
    "test_mae = mean_absolute_error(predict_test, target_test)\n",
    "print('MAE тестовой выборки на dummy модели:', test_mae)"
   ]
  },
  {
   "cell_type": "markdown",
   "metadata": {},
   "source": [
    "Прекрасно видно, что результат нашей модели лучше. Проверка на адекватность пройдена."
   ]
  },
  {
   "cell_type": "markdown",
   "metadata": {},
   "source": [
    "### Анализ важности факторов"
   ]
  },
  {
   "cell_type": "code",
   "execution_count": 77,
   "metadata": {
    "scrolled": false
   },
   "outputs": [
    {
     "data": {
      "image/png": "[encoded data removed]",
      "text/plain": [
       "<Figure size 576x482.4 with 2 Axes>"
      ]
     },
     "metadata": {
      "needs_background": "light"
     },
     "output_type": "display_data"
    }
   ],
   "source": [
    "shap_test = shap.TreeExplainer(best_model_lgbm).shap_values(features_train)\n",
    "shap.summary_plot(shap_test, features_train,\n",
    "                      max_display=15, auto_size_plot=True, plot_type='violin')"
   ]
  },
  {
   "cell_type": "markdown",
   "metadata": {},
   "source": [
    "Из графика можно сделать следующие выводы:\n",
    "\n",
    "* Чем больше время работы дуги, тем сильнее это влияет на температуру \n",
    "* Большинство значений начальной температуры повышают значение целевого признака\n",
    "* Чем меньше начальная температура и время нагрева, тем меньше это влияет на целевой признак\n",
    "* Разные сыпучие материалы дают разное влияние на целевой признак. Самый стабильный материал bulk_15(чем их больше, тем выше вероятность повышения температуры). А bulk_12 почти всегда влияет на повышение целевого признака.\n",
    "* Чем выше объём газа, тем меньше целевой признак\n",
    "* Чем меньше времени прошло с первого до последнего замера температуры, тем выше вероятность повышения целевого признака\n",
    "* Полная мощность почти всегда влияет на вероятность повышения температуры\n",
    "* Повышение проволочных материалов могжет повысить и понизить целевой признак "
   ]
  },
  {
   "cell_type": "code",
   "execution_count": 79,
   "metadata": {},
   "outputs": [
    {
     "data": {
      "image/png": "[encoded data removed]",
      "text/plain": [
       "<Figure size 576x576 with 3 Axes>"
      ]
     },
     "metadata": {},
     "output_type": "display_data"
    }
   ],
   "source": [
    "explainer = shap.TreeExplainer(best_model_lgbm)\n",
    "shap_values = explainer(features_train)\n",
    "shap.plots.waterfall(shap_values[0], max_display=15)"
   ]
  },
  {
   "cell_type": "markdown",
   "metadata": {},
   "source": [
    "Если рассматривать важность признаков на одном объекте, то видно, что часть выводов с графика выше оказались верны. Только в этом примере получилось так, что полная мощность слегка понижает целевой признак"
   ]
  },
  {
   "cell_type": "markdown",
   "metadata": {},
   "source": [
    "# Вывод по четвёртому шагу"
   ]
  },
  {
   "cell_type": "markdown",
   "metadata": {},
   "source": [
    "Мы проверили модель LightGBM на тестовой выборке и получили значение MAE = 6.27, что ниже пороговой MAE = 6.8. Построили Dummy модель и убедились в адекватности нашей модели (MAE dummy модели = 7.96). Ещё мы провели анализ важности факторов и нашли интересные особенности. Уверен, что если ещё поработать с признаками и моделями, то значение MAE можно снизить прилично ниже."
   ]
  },
  {
   "cell_type": "markdown",
   "metadata": {},
   "source": [
    "### Список признаков, используемых для обучения лучшей модели и описание их предобработки"
   ]
  },
  {
   "cell_type": "markdown",
   "metadata": {},
   "source": [
    "* **first_temp** - начальная температура. Получена по времени первого замера температуры.\n",
    "* **last_temp** - последняя температура. Наш целевой признак, который получен по времени последнего замера температуры.\n",
    "* **total_time_heating** - время, которое прошло с первого до последнего замера температуры.\n",
    "* **full_power** - полная мощность, полученная с помощью формулы $ S = \\sqrt {P^2 + Q^2} $, где $P$ - активная мощность, $Q$ - реактивная мощность.\n",
    "* **arc_heating_time** - общее время нагрева дуги. Из конечного времени вычли начальное.\n",
    "* **gas** - объём газа. Никак не обрабатывался.\n",
    "* **bulk 3, 4, 12, 14, 15** - сыпучие материалы. Эти столбцы никак не обрабатывались.\n",
    "* **bulk_another** - сыпучие материалы. Столбцы, где было не так много значений, мы объёдинили в один.\n",
    "* **wire** - проволочные материалы. Столбец никак не обрабатывался.\n",
    "* **wire_another** - проволочные материалы. Столбцы, где было не так много значений, мы объёдинили в один."
   ]
  },
  {
   "cell_type": "markdown",
   "metadata": {},
   "source": [
    "### Гиперпараметры лучшей  модели, включая random_state\n",
    "\n",
    "У модели LightGBM мы подбирали следующие гиперпараметры : **'class_weight': None, 'learning_rate': 0.05, 'num_leaves': 31, 'random_state': 80523**. Остальные гиперпараметры имеют значение по умолчанию."
   ]
  },
  {
   "cell_type": "markdown",
   "metadata": {},
   "source": [
    "# Итоговый вывод"
   ]
  },
  {
   "cell_type": "markdown",
   "metadata": {},
   "source": [
    "Нашей целью было помочь металлургическому комбинату ООО «Так закаляем сталь» уменьшить потребление электроэнергии на этапе обработки стали. Мы построили модель, которая предсказывает температуру стали.\n",
    "\n",
    "В ходе работы мы выполнили следующее:\n",
    "\n",
    "1. Изучили данные, предоставленные нам ООО «Так закаляем сталь»\n",
    "2. Предобработали данные, подготовили признаки и собрали основную для обучения таблицу.\n",
    "3. Обучили 4 модели: линейная регрессия, случайный лес, LightGBM, CatBoost. Провели анализ моделей.\n",
    "4. Протестировали лучшую модель.\n",
    "\n",
    "Выяснили, что на конечную температуру сильнее всего влияет начальная температура и время нагрева дугой.\n",
    "\n",
    "Лучшая и рекомендованная модель - LightGBM. Её MAE на тестовой выборке составил 6.27. С задачей мы справились и перешли порог MAE в 6.8. Значение можно ещё снизить, но в этом нету особой необходимости, ибо при температурах 1500 - 1600 градусов, изменение погрешности ошибки на 1-2 градуса ничего не принесёт."
   ]
  }
 ],
 "metadata": {
  "ExecuteTimeLog": [
   {
    "duration": 1403,
    "start_time": "2023-05-11T07:14:12.221Z"
   },
   {
    "duration": 399,
    "start_time": "2023-05-11T08:18:44.305Z"
   },
   {
    "duration": 220,
    "start_time": "2023-05-11T08:21:01.175Z"
   },
   {
    "duration": 12,
    "start_time": "2023-05-11T08:28:10.267Z"
   },
   {
    "duration": 7,
    "start_time": "2023-05-11T08:28:18.705Z"
   },
   {
    "duration": 4,
    "start_time": "2023-05-11T13:57:22.751Z"
   },
   {
    "duration": 14,
    "start_time": "2023-05-11T13:57:38.717Z"
   },
   {
    "duration": 59,
    "start_time": "2023-05-11T13:58:00.611Z"
   },
   {
    "duration": 16,
    "start_time": "2023-05-11T13:58:02.294Z"
   },
   {
    "duration": 29,
    "start_time": "2023-05-11T13:58:02.485Z"
   },
   {
    "duration": 12,
    "start_time": "2023-05-11T13:58:02.798Z"
   },
   {
    "duration": 6,
    "start_time": "2023-05-11T13:58:03.111Z"
   },
   {
    "duration": 644,
    "start_time": "2023-05-11T13:58:03.288Z"
   },
   {
    "duration": 239,
    "start_time": "2023-05-11T13:58:03.960Z"
   },
   {
    "duration": 7,
    "start_time": "2023-05-11T13:58:08.790Z"
   },
   {
    "duration": 6,
    "start_time": "2023-05-11T13:58:09.423Z"
   },
   {
    "duration": 17,
    "start_time": "2023-05-11T13:58:09.887Z"
   },
   {
    "duration": 9,
    "start_time": "2023-05-11T13:58:12.054Z"
   },
   {
    "duration": 14,
    "start_time": "2023-05-11T13:58:22.040Z"
   },
   {
    "duration": 3,
    "start_time": "2023-05-11T14:04:34.820Z"
   },
   {
    "duration": 12,
    "start_time": "2023-05-11T14:04:35.685Z"
   },
   {
    "duration": 4,
    "start_time": "2023-05-11T14:04:45.074Z"
   },
   {
    "duration": 124,
    "start_time": "2023-05-11T14:04:49.056Z"
   },
   {
    "duration": 3,
    "start_time": "2023-05-11T14:04:58.450Z"
   },
   {
    "duration": 11,
    "start_time": "2023-05-11T14:04:59.402Z"
   },
   {
    "duration": 4,
    "start_time": "2023-05-11T14:05:11.354Z"
   },
   {
    "duration": 13,
    "start_time": "2023-05-11T14:05:12.290Z"
   },
   {
    "duration": 4,
    "start_time": "2023-05-11T14:06:11.730Z"
   },
   {
    "duration": 12,
    "start_time": "2023-05-11T14:06:12.210Z"
   },
   {
    "duration": 3,
    "start_time": "2023-05-11T14:06:39.826Z"
   },
   {
    "duration": 13,
    "start_time": "2023-05-11T14:06:40.233Z"
   },
   {
    "duration": 253,
    "start_time": "2023-05-11T14:06:48.385Z"
   },
   {
    "duration": 11,
    "start_time": "2023-05-11T14:06:48.721Z"
   },
   {
    "duration": 3,
    "start_time": "2023-05-11T14:06:56.802Z"
   },
   {
    "duration": 4,
    "start_time": "2023-05-11T14:06:57.097Z"
   },
   {
    "duration": 17,
    "start_time": "2023-05-11T14:07:12.289Z"
   },
   {
    "duration": 4,
    "start_time": "2023-05-11T14:07:20.233Z"
   },
   {
    "duration": 4,
    "start_time": "2023-05-11T14:07:20.633Z"
   },
   {
    "duration": 3,
    "start_time": "2023-05-11T14:07:36.706Z"
   },
   {
    "duration": 20,
    "start_time": "2023-05-11T14:07:37.064Z"
   },
   {
    "duration": 3,
    "start_time": "2023-05-11T14:07:43.553Z"
   },
   {
    "duration": 5060,
    "start_time": "2023-05-11T14:07:43.896Z"
   },
   {
    "duration": 3,
    "start_time": "2023-05-11T14:07:56.857Z"
   },
   {
    "duration": 3683,
    "start_time": "2023-05-11T14:07:57.513Z"
   },
   {
    "duration": 4,
    "start_time": "2023-05-11T14:08:39.331Z"
   },
   {
    "duration": 14,
    "start_time": "2023-05-11T14:08:39.937Z"
   },
   {
    "duration": 11,
    "start_time": "2023-05-11T14:10:15.742Z"
   },
   {
    "duration": 7,
    "start_time": "2023-05-11T14:10:20.168Z"
   },
   {
    "duration": 70,
    "start_time": "2023-05-11T14:10:20.187Z"
   },
   {
    "duration": 23,
    "start_time": "2023-05-11T14:10:20.259Z"
   },
   {
    "duration": 27,
    "start_time": "2023-05-11T14:10:20.285Z"
   },
   {
    "duration": 13,
    "start_time": "2023-05-11T14:10:20.315Z"
   },
   {
    "duration": 22,
    "start_time": "2023-05-11T14:10:20.330Z"
   },
   {
    "duration": 733,
    "start_time": "2023-05-11T14:10:20.355Z"
   },
   {
    "duration": 236,
    "start_time": "2023-05-11T14:10:21.090Z"
   },
   {
    "duration": 6,
    "start_time": "2023-05-11T14:10:21.328Z"
   },
   {
    "duration": 65,
    "start_time": "2023-05-11T14:10:21.336Z"
   },
   {
    "duration": 48,
    "start_time": "2023-05-11T14:10:21.403Z"
   },
   {
    "duration": 8,
    "start_time": "2023-05-11T14:10:21.453Z"
   },
   {
    "duration": 157,
    "start_time": "2023-05-11T14:10:21.463Z"
   },
   {
    "duration": 13,
    "start_time": "2023-05-11T14:10:21.622Z"
   },
   {
    "duration": 83,
    "start_time": "2023-05-11T14:10:21.640Z"
   },
   {
    "duration": 32,
    "start_time": "2023-05-11T14:10:21.726Z"
   },
   {
    "duration": 3412,
    "start_time": "2023-05-11T14:10:21.771Z"
   },
   {
    "duration": 164,
    "start_time": "2023-05-11T14:10:25.186Z"
   },
   {
    "duration": 14,
    "start_time": "2023-05-11T14:10:25.352Z"
   },
   {
    "duration": 135,
    "start_time": "2023-05-11T14:10:25.368Z"
   },
   {
    "duration": 12,
    "start_time": "2023-05-11T14:10:25.505Z"
   },
   {
    "duration": 35,
    "start_time": "2023-05-11T14:10:25.519Z"
   },
   {
    "duration": 28,
    "start_time": "2023-05-11T14:10:25.556Z"
   },
   {
    "duration": 313,
    "start_time": "2023-05-11T14:10:25.586Z"
   },
   {
    "duration": 157,
    "start_time": "2023-05-11T14:10:25.901Z"
   },
   {
    "duration": 20,
    "start_time": "2023-05-11T14:10:26.060Z"
   },
   {
    "duration": 56,
    "start_time": "2023-05-11T14:10:26.083Z"
   },
   {
    "duration": 23,
    "start_time": "2023-05-11T14:10:26.142Z"
   },
   {
    "duration": 318,
    "start_time": "2023-05-11T14:10:26.167Z"
   },
   {
    "duration": 220,
    "start_time": "2023-05-11T14:10:26.487Z"
   },
   {
    "duration": 98,
    "start_time": "2023-05-11T14:10:26.709Z"
   },
   {
    "duration": 11,
    "start_time": "2023-05-11T14:10:26.809Z"
   },
   {
    "duration": 37,
    "start_time": "2023-05-11T14:10:26.822Z"
   },
   {
    "duration": 5,
    "start_time": "2023-05-11T14:10:26.861Z"
   },
   {
    "duration": 2216,
    "start_time": "2023-05-11T14:10:26.867Z"
   },
   {
    "duration": 129,
    "start_time": "2023-05-11T14:10:29.086Z"
   },
   {
    "duration": 13,
    "start_time": "2023-05-11T14:10:29.217Z"
   },
   {
    "duration": 25,
    "start_time": "2023-05-11T14:10:30.878Z"
   },
   {
    "duration": 4,
    "start_time": "2023-05-11T14:16:30.560Z"
   },
   {
    "duration": 7,
    "start_time": "2023-05-11T14:16:39.981Z"
   },
   {
    "duration": 3,
    "start_time": "2023-05-11T14:16:49.114Z"
   },
   {
    "duration": 12,
    "start_time": "2023-05-11T14:16:50.098Z"
   },
   {
    "duration": 11,
    "start_time": "2023-05-11T14:17:03.387Z"
   },
   {
    "duration": 15,
    "start_time": "2023-05-11T14:17:14.405Z"
   },
   {
    "duration": 26,
    "start_time": "2023-05-11T14:23:46.415Z"
   },
   {
    "duration": 425,
    "start_time": "2023-05-11T14:23:56.344Z"
   },
   {
    "duration": 419,
    "start_time": "2023-05-11T14:24:07.380Z"
   },
   {
    "duration": 22,
    "start_time": "2023-05-11T14:24:10.785Z"
   },
   {
    "duration": 7,
    "start_time": "2023-05-11T14:24:43.798Z"
   },
   {
    "duration": 9,
    "start_time": "2023-05-11T14:24:51.471Z"
   },
   {
    "duration": 9,
    "start_time": "2023-05-11T14:24:55.694Z"
   },
   {
    "duration": 9,
    "start_time": "2023-05-11T14:32:45.487Z"
   },
   {
    "duration": 20,
    "start_time": "2023-05-11T14:33:18.728Z"
   },
   {
    "duration": 15,
    "start_time": "2023-05-11T14:36:13.050Z"
   },
   {
    "duration": 15,
    "start_time": "2023-05-11T14:36:31.494Z"
   },
   {
    "duration": 14,
    "start_time": "2023-05-11T14:41:26.176Z"
   },
   {
    "duration": 11,
    "start_time": "2023-05-11T14:41:52.804Z"
   },
   {
    "duration": 12,
    "start_time": "2023-05-11T14:41:57.620Z"
   },
   {
    "duration": 19,
    "start_time": "2023-05-11T14:42:06.149Z"
   },
   {
    "duration": 14,
    "start_time": "2023-05-11T14:42:13.819Z"
   },
   {
    "duration": 10,
    "start_time": "2023-05-11T14:43:36.475Z"
   },
   {
    "duration": 15,
    "start_time": "2023-05-11T14:43:45.403Z"
   },
   {
    "duration": 17,
    "start_time": "2023-05-11T14:43:52.003Z"
   },
   {
    "duration": 12,
    "start_time": "2023-05-11T14:44:00.843Z"
   },
   {
    "duration": 41,
    "start_time": "2023-05-11T14:44:16.946Z"
   },
   {
    "duration": 39,
    "start_time": "2023-05-11T14:44:22.251Z"
   },
   {
    "duration": 18,
    "start_time": "2023-05-11T14:44:28.885Z"
   },
   {
    "duration": 10,
    "start_time": "2023-05-11T14:44:39.019Z"
   },
   {
    "duration": 21,
    "start_time": "2023-05-11T14:45:04.138Z"
   },
   {
    "duration": 7,
    "start_time": "2023-05-11T14:45:16.218Z"
   },
   {
    "duration": 18,
    "start_time": "2023-05-11T14:47:31.371Z"
   },
   {
    "duration": 14,
    "start_time": "2023-05-11T14:47:41.192Z"
   },
   {
    "duration": 1434,
    "start_time": "2023-05-11T21:45:25.609Z"
   },
   {
    "duration": 115,
    "start_time": "2023-05-11T21:45:27.045Z"
   },
   {
    "duration": 14,
    "start_time": "2023-05-11T21:45:27.162Z"
   },
   {
    "duration": 27,
    "start_time": "2023-05-11T21:45:27.179Z"
   },
   {
    "duration": 11,
    "start_time": "2023-05-11T21:45:27.209Z"
   },
   {
    "duration": 5,
    "start_time": "2023-05-11T21:45:27.222Z"
   },
   {
    "duration": 698,
    "start_time": "2023-05-11T21:45:27.228Z"
   },
   {
    "duration": 243,
    "start_time": "2023-05-11T21:45:27.928Z"
   },
   {
    "duration": 11,
    "start_time": "2023-05-11T21:45:28.173Z"
   },
   {
    "duration": 8,
    "start_time": "2023-05-11T21:45:28.185Z"
   },
   {
    "duration": 18,
    "start_time": "2023-05-11T21:45:28.194Z"
   },
   {
    "duration": 8,
    "start_time": "2023-05-11T21:45:28.214Z"
   },
   {
    "duration": 84,
    "start_time": "2023-05-11T21:45:28.223Z"
   },
   {
    "duration": 11,
    "start_time": "2023-05-11T21:45:28.310Z"
   },
   {
    "duration": 65,
    "start_time": "2023-05-11T21:45:28.323Z"
   },
   {
    "duration": 33,
    "start_time": "2023-05-11T21:45:28.394Z"
   },
   {
    "duration": 3180,
    "start_time": "2023-05-11T21:45:28.429Z"
   },
   {
    "duration": 154,
    "start_time": "2023-05-11T21:45:31.610Z"
   },
   {
    "duration": 18,
    "start_time": "2023-05-11T21:45:31.766Z"
   },
   {
    "duration": 81,
    "start_time": "2023-05-11T21:45:31.791Z"
   },
   {
    "duration": 20,
    "start_time": "2023-05-11T21:45:31.874Z"
   },
   {
    "duration": 19,
    "start_time": "2023-05-11T21:45:31.897Z"
   },
   {
    "duration": 6,
    "start_time": "2023-05-11T21:45:31.917Z"
   },
   {
    "duration": 400,
    "start_time": "2023-05-11T21:45:31.925Z"
   },
   {
    "duration": 81,
    "start_time": "2023-05-11T21:45:32.326Z"
   },
   {
    "duration": 12,
    "start_time": "2023-05-11T21:45:32.409Z"
   },
   {
    "duration": 18,
    "start_time": "2023-05-11T21:45:32.422Z"
   },
   {
    "duration": 4,
    "start_time": "2023-05-11T21:45:32.442Z"
   },
   {
    "duration": 255,
    "start_time": "2023-05-11T21:45:32.447Z"
   },
   {
    "duration": 208,
    "start_time": "2023-05-11T21:45:32.705Z"
   },
   {
    "duration": 75,
    "start_time": "2023-05-11T21:45:32.915Z"
   },
   {
    "duration": 16,
    "start_time": "2023-05-11T21:45:32.994Z"
   },
   {
    "duration": 37,
    "start_time": "2023-05-11T21:45:33.011Z"
   },
   {
    "duration": 4,
    "start_time": "2023-05-11T21:45:33.049Z"
   },
   {
    "duration": 1937,
    "start_time": "2023-05-11T21:45:33.054Z"
   },
   {
    "duration": 71,
    "start_time": "2023-05-11T21:45:34.997Z"
   },
   {
    "duration": 24,
    "start_time": "2023-05-11T21:45:35.069Z"
   },
   {
    "duration": 33,
    "start_time": "2023-05-11T21:45:35.095Z"
   },
   {
    "duration": 18,
    "start_time": "2023-05-11T21:45:37.387Z"
   },
   {
    "duration": 11,
    "start_time": "2023-05-11T21:45:41.616Z"
   },
   {
    "duration": 13,
    "start_time": "2023-05-11T21:45:44.031Z"
   },
   {
    "duration": 10,
    "start_time": "2023-05-11T21:45:53.436Z"
   },
   {
    "duration": 16,
    "start_time": "2023-05-11T21:45:58.267Z"
   },
   {
    "duration": 51,
    "start_time": "2023-05-11T21:46:14.378Z"
   },
   {
    "duration": 22,
    "start_time": "2023-05-11T21:46:18.671Z"
   },
   {
    "duration": 19,
    "start_time": "2023-05-11T21:46:21.574Z"
   },
   {
    "duration": 14,
    "start_time": "2023-05-11T21:46:44.987Z"
   },
   {
    "duration": 11,
    "start_time": "2023-05-11T21:46:57.026Z"
   },
   {
    "duration": 11,
    "start_time": "2023-05-11T21:47:04.725Z"
   },
   {
    "duration": 26,
    "start_time": "2023-05-11T21:47:10.774Z"
   },
   {
    "duration": 11,
    "start_time": "2023-05-11T21:47:26.150Z"
   },
   {
    "duration": 12,
    "start_time": "2023-05-11T21:47:46.440Z"
   },
   {
    "duration": 12,
    "start_time": "2023-05-11T22:00:53.551Z"
   },
   {
    "duration": 12,
    "start_time": "2023-05-11T22:01:42.541Z"
   },
   {
    "duration": 114,
    "start_time": "2023-05-11T22:01:47.754Z"
   },
   {
    "duration": 18,
    "start_time": "2023-05-11T22:01:51.073Z"
   },
   {
    "duration": 11,
    "start_time": "2023-05-11T22:01:56.702Z"
   },
   {
    "duration": 9,
    "start_time": "2023-05-11T22:01:57.005Z"
   },
   {
    "duration": 1500,
    "start_time": "2023-05-12T07:11:32.261Z"
   },
   {
    "duration": 202,
    "start_time": "2023-05-12T07:11:33.764Z"
   },
   {
    "duration": 16,
    "start_time": "2023-05-12T07:11:33.968Z"
   },
   {
    "duration": 20,
    "start_time": "2023-05-12T07:11:33.986Z"
   },
   {
    "duration": 11,
    "start_time": "2023-05-12T07:11:34.007Z"
   },
   {
    "duration": 5,
    "start_time": "2023-05-12T07:11:34.020Z"
   },
   {
    "duration": 639,
    "start_time": "2023-05-12T07:11:34.026Z"
   },
   {
    "duration": 249,
    "start_time": "2023-05-12T07:11:34.666Z"
   },
   {
    "duration": 7,
    "start_time": "2023-05-12T07:11:34.916Z"
   },
   {
    "duration": 13,
    "start_time": "2023-05-12T07:11:34.926Z"
   },
   {
    "duration": 21,
    "start_time": "2023-05-12T07:11:34.941Z"
   },
   {
    "duration": 8,
    "start_time": "2023-05-12T07:11:34.965Z"
   },
   {
    "duration": 128,
    "start_time": "2023-05-12T07:11:34.974Z"
   },
   {
    "duration": 13,
    "start_time": "2023-05-12T07:11:35.103Z"
   },
   {
    "duration": 111,
    "start_time": "2023-05-12T07:11:35.119Z"
   },
   {
    "duration": 30,
    "start_time": "2023-05-12T07:11:35.232Z"
   },
   {
    "duration": 3463,
    "start_time": "2023-05-12T07:11:35.265Z"
   },
   {
    "duration": 126,
    "start_time": "2023-05-12T07:11:38.730Z"
   },
   {
    "duration": 14,
    "start_time": "2023-05-12T07:11:38.858Z"
   },
   {
    "duration": 120,
    "start_time": "2023-05-12T07:11:38.875Z"
   },
   {
    "duration": 12,
    "start_time": "2023-05-12T07:11:38.996Z"
   },
   {
    "duration": 43,
    "start_time": "2023-05-12T07:11:39.009Z"
   },
   {
    "duration": 13,
    "start_time": "2023-05-12T07:11:39.054Z"
   },
   {
    "duration": 408,
    "start_time": "2023-05-12T07:11:39.069Z"
   },
   {
    "duration": 150,
    "start_time": "2023-05-12T07:11:39.479Z"
   },
   {
    "duration": 14,
    "start_time": "2023-05-12T07:11:39.630Z"
   },
   {
    "duration": 41,
    "start_time": "2023-05-12T07:11:39.646Z"
   },
   {
    "duration": 22,
    "start_time": "2023-05-12T07:11:39.691Z"
   },
   {
    "duration": 266,
    "start_time": "2023-05-12T07:11:39.714Z"
   },
   {
    "duration": 242,
    "start_time": "2023-05-12T07:11:39.982Z"
   },
   {
    "duration": 97,
    "start_time": "2023-05-12T07:11:40.226Z"
   },
   {
    "duration": 12,
    "start_time": "2023-05-12T07:11:40.325Z"
   },
   {
    "duration": 62,
    "start_time": "2023-05-12T07:11:40.339Z"
   },
   {
    "duration": 5,
    "start_time": "2023-05-12T07:11:40.403Z"
   },
   {
    "duration": 1897,
    "start_time": "2023-05-12T07:11:40.410Z"
   },
   {
    "duration": 131,
    "start_time": "2023-05-12T07:11:42.308Z"
   },
   {
    "duration": 14,
    "start_time": "2023-05-12T07:11:42.441Z"
   },
   {
    "duration": 43,
    "start_time": "2023-05-12T07:11:42.457Z"
   },
   {
    "duration": 41,
    "start_time": "2023-05-12T07:11:42.501Z"
   },
   {
    "duration": 25,
    "start_time": "2023-05-12T07:11:42.544Z"
   },
   {
    "duration": 30,
    "start_time": "2023-05-12T07:11:42.571Z"
   },
   {
    "duration": 5,
    "start_time": "2023-05-12T07:11:56.586Z"
   },
   {
    "duration": 6,
    "start_time": "2023-05-12T07:12:08.371Z"
   },
   {
    "duration": 8,
    "start_time": "2023-05-12T07:12:14.434Z"
   },
   {
    "duration": 8,
    "start_time": "2023-05-12T07:12:31.042Z"
   },
   {
    "duration": 12,
    "start_time": "2023-05-12T07:12:40.698Z"
   },
   {
    "duration": 6,
    "start_time": "2023-05-12T07:13:15.826Z"
   },
   {
    "duration": 112,
    "start_time": "2023-05-12T07:13:34.361Z"
   },
   {
    "duration": 8,
    "start_time": "2023-05-12T07:13:45.121Z"
   },
   {
    "duration": 11,
    "start_time": "2023-05-12T07:14:11.424Z"
   },
   {
    "duration": 11,
    "start_time": "2023-05-12T07:14:19.501Z"
   },
   {
    "duration": 9,
    "start_time": "2023-05-12T07:14:30.389Z"
   },
   {
    "duration": 1408,
    "start_time": "2023-05-12T07:14:37.263Z"
   },
   {
    "duration": 7,
    "start_time": "2023-05-12T07:14:47.033Z"
   },
   {
    "duration": 9,
    "start_time": "2023-05-12T07:15:03.417Z"
   },
   {
    "duration": 11,
    "start_time": "2023-05-12T07:16:16.328Z"
   },
   {
    "duration": 8,
    "start_time": "2023-05-12T07:16:34.008Z"
   },
   {
    "duration": 12,
    "start_time": "2023-05-12T07:16:36.183Z"
   },
   {
    "duration": 121,
    "start_time": "2023-05-12T07:16:57.439Z"
   },
   {
    "duration": 10,
    "start_time": "2023-05-12T07:17:02.607Z"
   },
   {
    "duration": 11,
    "start_time": "2023-05-12T07:17:11.135Z"
   },
   {
    "duration": 8,
    "start_time": "2023-05-12T07:17:17.495Z"
   },
   {
    "duration": 15,
    "start_time": "2023-05-12T07:17:35.615Z"
   },
   {
    "duration": 9,
    "start_time": "2023-05-12T07:17:47.090Z"
   },
   {
    "duration": 9,
    "start_time": "2023-05-12T07:20:25.814Z"
   },
   {
    "duration": 12,
    "start_time": "2023-05-12T12:58:08.937Z"
   },
   {
    "duration": 8,
    "start_time": "2023-05-12T12:58:15.928Z"
   },
   {
    "duration": 10,
    "start_time": "2023-05-12T12:58:20.540Z"
   },
   {
    "duration": 9,
    "start_time": "2023-05-12T12:58:21.100Z"
   },
   {
    "duration": 12,
    "start_time": "2023-05-12T12:58:23.845Z"
   },
   {
    "duration": 8,
    "start_time": "2023-05-12T12:58:24.157Z"
   },
   {
    "duration": 15,
    "start_time": "2023-05-12T13:34:17.510Z"
   },
   {
    "duration": 19,
    "start_time": "2023-05-12T13:43:24.986Z"
   },
   {
    "duration": 15,
    "start_time": "2023-05-12T14:05:33.229Z"
   },
   {
    "duration": 13,
    "start_time": "2023-05-12T14:05:47.887Z"
   },
   {
    "duration": 19,
    "start_time": "2023-05-12T14:05:54.532Z"
   },
   {
    "duration": 23,
    "start_time": "2023-05-12T14:06:16.886Z"
   },
   {
    "duration": 25,
    "start_time": "2023-05-12T14:06:25.228Z"
   },
   {
    "duration": 16,
    "start_time": "2023-05-12T14:06:50.721Z"
   },
   {
    "duration": 19,
    "start_time": "2023-05-12T14:06:53.580Z"
   },
   {
    "duration": 18,
    "start_time": "2023-05-12T14:06:57.518Z"
   },
   {
    "duration": 13,
    "start_time": "2023-05-12T14:07:26.719Z"
   },
   {
    "duration": 7,
    "start_time": "2023-05-12T14:07:35.731Z"
   },
   {
    "duration": 20,
    "start_time": "2023-05-12T14:22:43.992Z"
   },
   {
    "duration": 10,
    "start_time": "2023-05-12T14:23:08.602Z"
   },
   {
    "duration": 16,
    "start_time": "2023-05-12T14:25:08.844Z"
   },
   {
    "duration": 7,
    "start_time": "2023-05-12T14:25:59.741Z"
   },
   {
    "duration": 20,
    "start_time": "2023-05-12T14:26:15.786Z"
   },
   {
    "duration": 16,
    "start_time": "2023-05-12T14:26:25.714Z"
   },
   {
    "duration": 18,
    "start_time": "2023-05-12T14:26:49.652Z"
   },
   {
    "duration": 16,
    "start_time": "2023-05-12T14:27:49.130Z"
   },
   {
    "duration": 17,
    "start_time": "2023-05-12T14:28:02.143Z"
   },
   {
    "duration": 15,
    "start_time": "2023-05-12T14:28:19.858Z"
   },
   {
    "duration": 17,
    "start_time": "2023-05-12T14:28:32.675Z"
   },
   {
    "duration": 18,
    "start_time": "2023-05-12T14:31:25.750Z"
   },
   {
    "duration": 15,
    "start_time": "2023-05-12T14:35:21.212Z"
   },
   {
    "duration": 22,
    "start_time": "2023-05-12T14:35:29.356Z"
   },
   {
    "duration": 89,
    "start_time": "2023-05-12T14:35:42.156Z"
   },
   {
    "duration": 20,
    "start_time": "2023-05-12T14:35:54.598Z"
   },
   {
    "duration": 21,
    "start_time": "2023-05-12T14:36:36.917Z"
   },
   {
    "duration": 25,
    "start_time": "2023-05-12T14:36:45.404Z"
   },
   {
    "duration": 18,
    "start_time": "2023-05-12T14:37:29.418Z"
   },
   {
    "duration": 13,
    "start_time": "2023-05-12T14:38:07.248Z"
   },
   {
    "duration": 9,
    "start_time": "2023-05-12T14:38:11.790Z"
   },
   {
    "duration": 127,
    "start_time": "2023-05-12T14:38:31.351Z"
   },
   {
    "duration": 24,
    "start_time": "2023-05-12T14:38:44.811Z"
   },
   {
    "duration": 24,
    "start_time": "2023-05-12T14:39:11.238Z"
   },
   {
    "duration": 12,
    "start_time": "2023-05-12T14:42:48.245Z"
   },
   {
    "duration": 53,
    "start_time": "2023-05-12T14:43:55.000Z"
   },
   {
    "duration": 1307,
    "start_time": "2023-05-12T14:44:10.397Z"
   },
   {
    "duration": 23,
    "start_time": "2023-05-12T14:45:38.503Z"
   },
   {
    "duration": 1305,
    "start_time": "2023-05-12T14:46:16.337Z"
   },
   {
    "duration": 1180,
    "start_time": "2023-05-12T14:47:37.235Z"
   },
   {
    "duration": 14,
    "start_time": "2023-05-12T14:49:17.792Z"
   },
   {
    "duration": 17,
    "start_time": "2023-05-12T14:49:20.961Z"
   },
   {
    "duration": 70,
    "start_time": "2023-05-12T14:49:48.177Z"
   },
   {
    "duration": 1896,
    "start_time": "2023-05-12T14:50:09.410Z"
   },
   {
    "duration": 1462,
    "start_time": "2023-05-12T14:50:13.488Z"
   },
   {
    "duration": 33,
    "start_time": "2023-05-12T15:03:38.545Z"
   },
   {
    "duration": 27,
    "start_time": "2023-05-12T15:03:51.109Z"
   },
   {
    "duration": 24,
    "start_time": "2023-05-12T15:04:38.810Z"
   },
   {
    "duration": 24,
    "start_time": "2023-05-12T15:04:54.210Z"
   },
   {
    "duration": 26,
    "start_time": "2023-05-12T15:04:58.704Z"
   },
   {
    "duration": 24,
    "start_time": "2023-05-12T15:05:03.535Z"
   },
   {
    "duration": 31,
    "start_time": "2023-05-12T15:05:08.211Z"
   },
   {
    "duration": 23,
    "start_time": "2023-05-12T15:05:16.542Z"
   },
   {
    "duration": 22,
    "start_time": "2023-05-12T15:05:25.628Z"
   },
   {
    "duration": 22,
    "start_time": "2023-05-12T15:05:29.886Z"
   },
   {
    "duration": 29,
    "start_time": "2023-05-12T15:16:47.791Z"
   },
   {
    "duration": 377,
    "start_time": "2023-05-12T15:22:39.491Z"
   },
   {
    "duration": 465,
    "start_time": "2023-05-12T15:24:09.959Z"
   },
   {
    "duration": 443,
    "start_time": "2023-05-12T15:25:27.787Z"
   },
   {
    "duration": 754,
    "start_time": "2023-05-12T15:25:31.135Z"
   },
   {
    "duration": 664,
    "start_time": "2023-05-12T15:25:48.462Z"
   },
   {
    "duration": 15,
    "start_time": "2023-05-12T15:26:35.424Z"
   },
   {
    "duration": 12,
    "start_time": "2023-05-12T15:26:46.695Z"
   },
   {
    "duration": 339,
    "start_time": "2023-05-12T15:26:51.157Z"
   },
   {
    "duration": 8,
    "start_time": "2023-05-12T15:27:44.017Z"
   },
   {
    "duration": 14,
    "start_time": "2023-05-12T15:27:49.391Z"
   },
   {
    "duration": 6,
    "start_time": "2023-05-12T15:27:59.608Z"
   },
   {
    "duration": 10,
    "start_time": "2023-05-12T15:28:15.627Z"
   },
   {
    "duration": 9,
    "start_time": "2023-05-12T15:31:19.267Z"
   },
   {
    "duration": 7,
    "start_time": "2023-05-12T15:31:23.051Z"
   },
   {
    "duration": 7,
    "start_time": "2023-05-12T15:31:27.745Z"
   },
   {
    "duration": 10,
    "start_time": "2023-05-12T15:31:30.215Z"
   },
   {
    "duration": 10,
    "start_time": "2023-05-12T15:31:39.846Z"
   },
   {
    "duration": 11,
    "start_time": "2023-05-12T15:31:54.627Z"
   },
   {
    "duration": 7,
    "start_time": "2023-05-12T15:32:00.224Z"
   },
   {
    "duration": 9,
    "start_time": "2023-05-12T15:32:08.488Z"
   },
   {
    "duration": 7,
    "start_time": "2023-05-12T15:32:21.623Z"
   },
   {
    "duration": 6,
    "start_time": "2023-05-12T15:32:51.691Z"
   },
   {
    "duration": 47,
    "start_time": "2023-05-12T15:33:14.723Z"
   },
   {
    "duration": 23,
    "start_time": "2023-05-12T15:33:22.519Z"
   },
   {
    "duration": 11,
    "start_time": "2023-05-12T15:33:25.739Z"
   },
   {
    "duration": 6,
    "start_time": "2023-05-12T15:33:28.759Z"
   },
   {
    "duration": 11,
    "start_time": "2023-05-12T15:33:31.227Z"
   },
   {
    "duration": 4,
    "start_time": "2023-05-12T15:34:20.291Z"
   },
   {
    "duration": 59,
    "start_time": "2023-05-12T15:34:20.297Z"
   },
   {
    "duration": 12,
    "start_time": "2023-05-12T15:34:20.357Z"
   },
   {
    "duration": 26,
    "start_time": "2023-05-12T15:34:20.372Z"
   },
   {
    "duration": 8,
    "start_time": "2023-05-12T15:34:20.400Z"
   },
   {
    "duration": 10,
    "start_time": "2023-05-12T15:34:20.410Z"
   },
   {
    "duration": 527,
    "start_time": "2023-05-12T15:34:20.422Z"
   },
   {
    "duration": 196,
    "start_time": "2023-05-12T15:34:20.951Z"
   },
   {
    "duration": 6,
    "start_time": "2023-05-12T15:34:21.148Z"
   },
   {
    "duration": 10,
    "start_time": "2023-05-12T15:34:21.156Z"
   },
   {
    "duration": 34,
    "start_time": "2023-05-12T15:34:21.168Z"
   },
   {
    "duration": 7,
    "start_time": "2023-05-12T15:34:21.204Z"
   },
   {
    "duration": 40,
    "start_time": "2023-05-12T15:34:21.213Z"
   },
   {
    "duration": 99,
    "start_time": "2023-05-12T15:34:21.254Z"
   },
   {
    "duration": 66,
    "start_time": "2023-05-12T15:34:21.354Z"
   },
   {
    "duration": 35,
    "start_time": "2023-05-12T15:34:21.421Z"
   },
   {
    "duration": 3147,
    "start_time": "2023-05-12T15:34:21.458Z"
   },
   {
    "duration": 48,
    "start_time": "2023-05-12T15:34:24.607Z"
   },
   {
    "duration": 19,
    "start_time": "2023-05-12T15:34:24.657Z"
   },
   {
    "duration": 51,
    "start_time": "2023-05-12T15:34:24.678Z"
   },
   {
    "duration": 14,
    "start_time": "2023-05-12T15:34:24.732Z"
   },
   {
    "duration": 21,
    "start_time": "2023-05-12T15:34:24.748Z"
   },
   {
    "duration": 5,
    "start_time": "2023-05-12T15:34:24.771Z"
   },
   {
    "duration": 277,
    "start_time": "2023-05-12T15:34:24.778Z"
   },
   {
    "duration": 32,
    "start_time": "2023-05-12T15:34:25.058Z"
   },
   {
    "duration": 12,
    "start_time": "2023-05-12T15:34:25.092Z"
   },
   {
    "duration": 15,
    "start_time": "2023-05-12T15:34:25.106Z"
   },
   {
    "duration": 4,
    "start_time": "2023-05-12T15:34:25.125Z"
   },
   {
    "duration": 256,
    "start_time": "2023-05-12T15:34:25.131Z"
   },
   {
    "duration": 233,
    "start_time": "2023-05-12T15:34:25.389Z"
   },
   {
    "duration": 37,
    "start_time": "2023-05-12T15:34:25.624Z"
   },
   {
    "duration": 9,
    "start_time": "2023-05-12T15:34:25.663Z"
   },
   {
    "duration": 53,
    "start_time": "2023-05-12T15:34:25.674Z"
   },
   {
    "duration": 5,
    "start_time": "2023-05-12T15:34:25.728Z"
   },
   {
    "duration": 2066,
    "start_time": "2023-05-12T15:34:25.734Z"
   },
   {
    "duration": 37,
    "start_time": "2023-05-12T15:34:27.802Z"
   },
   {
    "duration": 12,
    "start_time": "2023-05-12T15:34:27.841Z"
   },
   {
    "duration": 21,
    "start_time": "2023-05-12T15:34:27.854Z"
   },
   {
    "duration": 28,
    "start_time": "2023-05-12T15:34:27.876Z"
   },
   {
    "duration": 13,
    "start_time": "2023-05-12T15:34:27.906Z"
   },
   {
    "duration": 13,
    "start_time": "2023-05-12T15:34:27.921Z"
   },
   {
    "duration": 14,
    "start_time": "2023-05-12T15:34:27.935Z"
   },
   {
    "duration": 17,
    "start_time": "2023-05-12T15:34:27.950Z"
   },
   {
    "duration": 10,
    "start_time": "2023-05-12T15:34:32.311Z"
   },
   {
    "duration": 8,
    "start_time": "2023-05-12T15:34:33.727Z"
   },
   {
    "duration": 12,
    "start_time": "2023-05-12T15:34:36.025Z"
   },
   {
    "duration": 12,
    "start_time": "2023-05-12T15:34:36.435Z"
   },
   {
    "duration": 14,
    "start_time": "2023-05-12T15:35:32.826Z"
   },
   {
    "duration": 15,
    "start_time": "2023-05-12T15:36:27.712Z"
   },
   {
    "duration": 14,
    "start_time": "2023-05-12T15:36:39.119Z"
   },
   {
    "duration": 10,
    "start_time": "2023-05-12T15:36:46.323Z"
   },
   {
    "duration": 331,
    "start_time": "2023-05-12T15:36:55.607Z"
   },
   {
    "duration": 10,
    "start_time": "2023-05-12T15:43:33.899Z"
   },
   {
    "duration": 299,
    "start_time": "2023-05-12T15:45:37.971Z"
   },
   {
    "duration": 9,
    "start_time": "2023-05-12T15:45:55.192Z"
   },
   {
    "duration": 1017,
    "start_time": "2023-05-12T15:46:19.442Z"
   },
   {
    "duration": 989,
    "start_time": "2023-05-12T15:46:28.993Z"
   },
   {
    "duration": 8,
    "start_time": "2023-05-12T15:46:42.495Z"
   },
   {
    "duration": 8,
    "start_time": "2023-05-12T15:46:48.299Z"
   },
   {
    "duration": 7,
    "start_time": "2023-05-12T15:47:00.343Z"
   },
   {
    "duration": 7,
    "start_time": "2023-05-12T15:47:13.243Z"
   },
   {
    "duration": 9,
    "start_time": "2023-05-12T15:47:19.947Z"
   },
   {
    "duration": 10,
    "start_time": "2023-05-12T15:47:28.539Z"
   },
   {
    "duration": 11,
    "start_time": "2023-05-12T15:47:43.747Z"
   },
   {
    "duration": 8,
    "start_time": "2023-05-12T15:47:47.338Z"
   },
   {
    "duration": 9,
    "start_time": "2023-05-12T15:48:24.149Z"
   },
   {
    "duration": 1315,
    "start_time": "2023-05-12T15:48:28.435Z"
   },
   {
    "duration": 7,
    "start_time": "2023-05-12T15:48:31.619Z"
   },
   {
    "duration": 7,
    "start_time": "2023-05-12T15:48:35.689Z"
   },
   {
    "duration": 9,
    "start_time": "2023-05-12T15:49:00.012Z"
   },
   {
    "duration": 52,
    "start_time": "2023-05-12T15:49:08.791Z"
   },
   {
    "duration": 10,
    "start_time": "2023-05-12T15:49:14.119Z"
   },
   {
    "duration": 1135,
    "start_time": "2023-05-12T15:49:21.737Z"
   },
   {
    "duration": 7,
    "start_time": "2023-05-12T15:49:26.910Z"
   },
   {
    "duration": 7,
    "start_time": "2023-05-12T15:49:31.108Z"
   },
   {
    "duration": 7,
    "start_time": "2023-05-12T15:49:36.239Z"
   },
   {
    "duration": 13,
    "start_time": "2023-05-12T15:49:57.387Z"
   },
   {
    "duration": 17,
    "start_time": "2023-05-12T15:50:20.760Z"
   },
   {
    "duration": 16,
    "start_time": "2023-05-12T15:50:26.492Z"
   },
   {
    "duration": 8,
    "start_time": "2023-05-12T15:50:37.651Z"
   },
   {
    "duration": 8,
    "start_time": "2023-05-12T15:50:39.799Z"
   },
   {
    "duration": 13,
    "start_time": "2023-05-12T15:50:45.707Z"
   },
   {
    "duration": 15,
    "start_time": "2023-05-12T15:50:53.135Z"
   },
   {
    "duration": 14,
    "start_time": "2023-05-12T15:50:58.411Z"
   },
   {
    "duration": 14,
    "start_time": "2023-05-12T15:51:08.257Z"
   },
   {
    "duration": 16,
    "start_time": "2023-05-12T15:51:13.387Z"
   },
   {
    "duration": 17,
    "start_time": "2023-05-12T15:51:19.999Z"
   },
   {
    "duration": 14,
    "start_time": "2023-05-12T15:51:24.086Z"
   },
   {
    "duration": 10,
    "start_time": "2023-05-12T15:51:35.852Z"
   },
   {
    "duration": 8,
    "start_time": "2023-05-12T15:51:56.256Z"
   },
   {
    "duration": 9,
    "start_time": "2023-05-12T15:52:06.437Z"
   },
   {
    "duration": 14,
    "start_time": "2023-05-12T15:52:43.360Z"
   },
   {
    "duration": 11,
    "start_time": "2023-05-12T15:52:56.432Z"
   },
   {
    "duration": 14,
    "start_time": "2023-05-12T15:53:01.598Z"
   },
   {
    "duration": 9,
    "start_time": "2023-05-12T15:53:18.815Z"
   },
   {
    "duration": 17,
    "start_time": "2023-05-12T15:53:24.382Z"
   },
   {
    "duration": 10,
    "start_time": "2023-05-12T15:53:32.335Z"
   },
   {
    "duration": 15,
    "start_time": "2023-05-12T15:53:38.811Z"
   },
   {
    "duration": 27,
    "start_time": "2023-05-12T15:54:26.752Z"
   },
   {
    "duration": 14,
    "start_time": "2023-05-12T15:54:38.423Z"
   },
   {
    "duration": 13,
    "start_time": "2023-05-12T15:54:47.499Z"
   },
   {
    "duration": 17,
    "start_time": "2023-05-12T15:54:56.812Z"
   },
   {
    "duration": 16,
    "start_time": "2023-05-12T15:55:26.846Z"
   },
   {
    "duration": 15,
    "start_time": "2023-05-12T15:55:32.422Z"
   },
   {
    "duration": 16,
    "start_time": "2023-05-12T15:55:43.407Z"
   },
   {
    "duration": 14,
    "start_time": "2023-05-12T15:55:48.303Z"
   },
   {
    "duration": 14,
    "start_time": "2023-05-12T15:56:06.158Z"
   },
   {
    "duration": 14,
    "start_time": "2023-05-12T15:56:15.211Z"
   },
   {
    "duration": 11,
    "start_time": "2023-05-12T15:56:18.103Z"
   },
   {
    "duration": 14,
    "start_time": "2023-05-12T15:56:21.019Z"
   },
   {
    "duration": 10,
    "start_time": "2023-05-12T15:56:32.991Z"
   },
   {
    "duration": 14,
    "start_time": "2023-05-12T15:56:44.207Z"
   },
   {
    "duration": 10,
    "start_time": "2023-05-12T15:57:07.345Z"
   },
   {
    "duration": 10,
    "start_time": "2023-05-12T15:57:14.014Z"
   },
   {
    "duration": 9,
    "start_time": "2023-05-12T15:57:24.901Z"
   },
   {
    "duration": 10,
    "start_time": "2023-05-12T15:57:30.149Z"
   },
   {
    "duration": 13,
    "start_time": "2023-05-12T15:57:34.819Z"
   },
   {
    "duration": 12,
    "start_time": "2023-05-12T15:57:45.037Z"
   },
   {
    "duration": 12,
    "start_time": "2023-05-12T15:58:36.412Z"
   },
   {
    "duration": 11,
    "start_time": "2023-05-12T15:58:45.645Z"
   },
   {
    "duration": 12,
    "start_time": "2023-05-12T15:58:56.712Z"
   },
   {
    "duration": 12,
    "start_time": "2023-05-12T15:59:07.828Z"
   },
   {
    "duration": 7,
    "start_time": "2023-05-12T16:00:21.332Z"
   },
   {
    "duration": 18,
    "start_time": "2023-05-12T16:00:37.191Z"
   },
   {
    "duration": 16,
    "start_time": "2023-05-12T16:02:15.621Z"
   },
   {
    "duration": 24,
    "start_time": "2023-05-12T16:02:53.587Z"
   },
   {
    "duration": 10,
    "start_time": "2023-05-12T16:04:00.953Z"
   },
   {
    "duration": 3,
    "start_time": "2023-05-12T16:04:05.144Z"
   },
   {
    "duration": 60,
    "start_time": "2023-05-12T16:04:05.153Z"
   },
   {
    "duration": 10,
    "start_time": "2023-05-12T16:04:05.215Z"
   },
   {
    "duration": 16,
    "start_time": "2023-05-12T16:04:05.226Z"
   },
   {
    "duration": 8,
    "start_time": "2023-05-12T16:04:05.243Z"
   },
   {
    "duration": 9,
    "start_time": "2023-05-12T16:04:05.253Z"
   },
   {
    "duration": 530,
    "start_time": "2023-05-12T16:04:05.263Z"
   },
   {
    "duration": 182,
    "start_time": "2023-05-12T16:04:05.797Z"
   },
   {
    "duration": 17,
    "start_time": "2023-05-12T16:04:05.981Z"
   },
   {
    "duration": 4,
    "start_time": "2023-05-12T16:04:05.999Z"
   },
   {
    "duration": 18,
    "start_time": "2023-05-12T16:04:06.004Z"
   },
   {
    "duration": 6,
    "start_time": "2023-05-12T16:04:06.023Z"
   },
   {
    "duration": 38,
    "start_time": "2023-05-12T16:04:06.031Z"
   },
   {
    "duration": 26,
    "start_time": "2023-05-12T16:04:06.071Z"
   },
   {
    "duration": 159,
    "start_time": "2023-05-12T16:04:06.100Z"
   },
   {
    "duration": 39,
    "start_time": "2023-05-12T16:04:06.261Z"
   },
   {
    "duration": 3025,
    "start_time": "2023-05-12T16:04:06.301Z"
   },
   {
    "duration": 46,
    "start_time": "2023-05-12T16:04:09.397Z"
   },
   {
    "duration": 12,
    "start_time": "2023-05-12T16:04:09.444Z"
   },
   {
    "duration": 46,
    "start_time": "2023-05-12T16:04:09.457Z"
   },
   {
    "duration": 9,
    "start_time": "2023-05-12T16:04:09.505Z"
   },
   {
    "duration": 46,
    "start_time": "2023-05-12T16:04:09.516Z"
   },
   {
    "duration": 5,
    "start_time": "2023-05-12T16:04:09.563Z"
   },
   {
    "duration": 234,
    "start_time": "2023-05-12T16:04:09.569Z"
   },
   {
    "duration": 31,
    "start_time": "2023-05-12T16:04:09.805Z"
   },
   {
    "duration": 10,
    "start_time": "2023-05-12T16:04:09.837Z"
   },
   {
    "duration": 19,
    "start_time": "2023-05-12T16:04:09.848Z"
   },
   {
    "duration": 4,
    "start_time": "2023-05-12T16:04:09.868Z"
   },
   {
    "duration": 222,
    "start_time": "2023-05-12T16:04:09.874Z"
   },
   {
    "duration": 215,
    "start_time": "2023-05-12T16:04:10.097Z"
   },
   {
    "duration": 30,
    "start_time": "2023-05-12T16:04:10.313Z"
   },
   {
    "duration": 11,
    "start_time": "2023-05-12T16:04:10.344Z"
   },
   {
    "duration": 36,
    "start_time": "2023-05-12T16:04:10.356Z"
   },
   {
    "duration": 4,
    "start_time": "2023-05-12T16:04:10.397Z"
   },
   {
    "duration": 1819,
    "start_time": "2023-05-12T16:04:10.402Z"
   },
   {
    "duration": 86,
    "start_time": "2023-05-12T16:04:12.223Z"
   },
   {
    "duration": 11,
    "start_time": "2023-05-12T16:04:12.311Z"
   },
   {
    "duration": 26,
    "start_time": "2023-05-12T16:04:12.323Z"
   },
   {
    "duration": 21,
    "start_time": "2023-05-12T16:04:12.350Z"
   },
   {
    "duration": 26,
    "start_time": "2023-05-12T16:04:12.372Z"
   },
   {
    "duration": 10,
    "start_time": "2023-05-12T16:04:12.399Z"
   },
   {
    "duration": 6,
    "start_time": "2023-05-12T16:04:14.711Z"
   },
   {
    "duration": 10,
    "start_time": "2023-05-12T16:04:16.199Z"
   },
   {
    "duration": 18,
    "start_time": "2023-05-12T16:04:49.811Z"
   },
   {
    "duration": 7,
    "start_time": "2023-05-12T16:04:51.446Z"
   },
   {
    "duration": 18,
    "start_time": "2023-05-12T16:05:21.342Z"
   },
   {
    "duration": 101,
    "start_time": "2023-05-12T16:05:31.617Z"
   },
   {
    "duration": 17,
    "start_time": "2023-05-12T16:05:33.919Z"
   },
   {
    "duration": 3,
    "start_time": "2023-05-12T16:06:35.726Z"
   },
   {
    "duration": 76,
    "start_time": "2023-05-12T16:06:35.731Z"
   },
   {
    "duration": 11,
    "start_time": "2023-05-12T16:06:35.809Z"
   },
   {
    "duration": 46,
    "start_time": "2023-05-12T16:06:35.821Z"
   },
   {
    "duration": 8,
    "start_time": "2023-05-12T16:06:35.868Z"
   },
   {
    "duration": 28,
    "start_time": "2023-05-12T16:06:35.877Z"
   },
   {
    "duration": 506,
    "start_time": "2023-05-12T16:06:35.907Z"
   },
   {
    "duration": 180,
    "start_time": "2023-05-12T16:06:36.415Z"
   },
   {
    "duration": 5,
    "start_time": "2023-05-12T16:06:36.597Z"
   },
   {
    "duration": 25,
    "start_time": "2023-05-12T16:06:36.605Z"
   },
   {
    "duration": 23,
    "start_time": "2023-05-12T16:06:36.631Z"
   },
   {
    "duration": 9,
    "start_time": "2023-05-12T16:06:36.656Z"
   },
   {
    "duration": 55,
    "start_time": "2023-05-12T16:06:36.666Z"
   },
   {
    "duration": 13,
    "start_time": "2023-05-12T16:06:36.722Z"
   },
   {
    "duration": 75,
    "start_time": "2023-05-12T16:06:36.738Z"
   },
   {
    "duration": 34,
    "start_time": "2023-05-12T16:06:36.815Z"
   },
   {
    "duration": 3149,
    "start_time": "2023-05-12T16:06:36.851Z"
   },
   {
    "duration": 58,
    "start_time": "2023-05-12T16:06:40.002Z"
   },
   {
    "duration": 12,
    "start_time": "2023-05-12T16:06:40.062Z"
   },
   {
    "duration": 61,
    "start_time": "2023-05-12T16:06:40.075Z"
   },
   {
    "duration": 10,
    "start_time": "2023-05-12T16:06:40.138Z"
   },
   {
    "duration": 47,
    "start_time": "2023-05-12T16:06:40.150Z"
   },
   {
    "duration": 12,
    "start_time": "2023-05-12T16:06:40.199Z"
   },
   {
    "duration": 363,
    "start_time": "2023-05-12T16:06:40.212Z"
   },
   {
    "duration": 32,
    "start_time": "2023-05-12T16:06:40.576Z"
   },
   {
    "duration": 9,
    "start_time": "2023-05-12T16:06:40.609Z"
   },
   {
    "duration": 22,
    "start_time": "2023-05-12T16:06:40.620Z"
   },
   {
    "duration": 16,
    "start_time": "2023-05-12T16:06:40.645Z"
   },
   {
    "duration": 231,
    "start_time": "2023-05-12T16:06:40.662Z"
   },
   {
    "duration": 223,
    "start_time": "2023-05-12T16:06:40.895Z"
   },
   {
    "duration": 38,
    "start_time": "2023-05-12T16:06:41.119Z"
   },
   {
    "duration": 11,
    "start_time": "2023-05-12T16:06:41.159Z"
   },
   {
    "duration": 76,
    "start_time": "2023-05-12T16:06:41.171Z"
   },
   {
    "duration": 4,
    "start_time": "2023-05-12T16:06:41.249Z"
   },
   {
    "duration": 1943,
    "start_time": "2023-05-12T16:06:41.254Z"
   },
   {
    "duration": 39,
    "start_time": "2023-05-12T16:06:43.200Z"
   },
   {
    "duration": 11,
    "start_time": "2023-05-12T16:06:43.240Z"
   },
   {
    "duration": 37,
    "start_time": "2023-05-12T16:06:43.253Z"
   },
   {
    "duration": 46,
    "start_time": "2023-05-12T16:06:43.291Z"
   },
   {
    "duration": 22,
    "start_time": "2023-05-12T16:06:43.339Z"
   },
   {
    "duration": 40,
    "start_time": "2023-05-12T16:06:43.363Z"
   },
   {
    "duration": 23,
    "start_time": "2023-05-12T16:06:43.405Z"
   },
   {
    "duration": 39,
    "start_time": "2023-05-12T16:06:43.429Z"
   },
   {
    "duration": 73,
    "start_time": "2023-05-12T16:06:43.469Z"
   },
   {
    "duration": 11,
    "start_time": "2023-05-12T16:06:46.090Z"
   },
   {
    "duration": 9,
    "start_time": "2023-05-12T16:07:01.936Z"
   },
   {
    "duration": 18,
    "start_time": "2023-05-12T16:07:34.922Z"
   },
   {
    "duration": 7,
    "start_time": "2023-05-12T16:07:45.620Z"
   },
   {
    "duration": 16,
    "start_time": "2023-05-12T16:08:12.390Z"
   },
   {
    "duration": 12,
    "start_time": "2023-05-12T16:08:26.083Z"
   },
   {
    "duration": 11,
    "start_time": "2023-05-12T16:09:21.899Z"
   },
   {
    "duration": 10,
    "start_time": "2023-05-12T16:09:27.205Z"
   },
   {
    "duration": 11,
    "start_time": "2023-05-12T16:09:35.602Z"
   },
   {
    "duration": 11,
    "start_time": "2023-05-12T16:09:39.759Z"
   },
   {
    "duration": 12,
    "start_time": "2023-05-12T16:10:38.442Z"
   },
   {
    "duration": 3,
    "start_time": "2023-05-12T16:10:42.341Z"
   },
   {
    "duration": 55,
    "start_time": "2023-05-12T16:10:42.351Z"
   },
   {
    "duration": 13,
    "start_time": "2023-05-12T16:10:42.409Z"
   },
   {
    "duration": 33,
    "start_time": "2023-05-12T16:10:42.423Z"
   },
   {
    "duration": 8,
    "start_time": "2023-05-12T16:10:42.458Z"
   },
   {
    "duration": 11,
    "start_time": "2023-05-12T16:10:42.468Z"
   },
   {
    "duration": 503,
    "start_time": "2023-05-12T16:10:42.480Z"
   },
   {
    "duration": 185,
    "start_time": "2023-05-12T16:10:42.984Z"
   },
   {
    "duration": 5,
    "start_time": "2023-05-12T16:10:43.171Z"
   },
   {
    "duration": 6,
    "start_time": "2023-05-12T16:10:43.177Z"
   },
   {
    "duration": 21,
    "start_time": "2023-05-12T16:10:43.184Z"
   },
   {
    "duration": 7,
    "start_time": "2023-05-12T16:10:43.207Z"
   },
   {
    "duration": 38,
    "start_time": "2023-05-12T16:10:43.215Z"
   },
   {
    "duration": 9,
    "start_time": "2023-05-12T16:10:43.255Z"
   },
   {
    "duration": 55,
    "start_time": "2023-05-12T16:10:43.267Z"
   },
   {
    "duration": 28,
    "start_time": "2023-05-12T16:10:43.324Z"
   },
   {
    "duration": 3145,
    "start_time": "2023-05-12T16:10:43.354Z"
   },
   {
    "duration": 50,
    "start_time": "2023-05-12T16:10:46.501Z"
   },
   {
    "duration": 14,
    "start_time": "2023-05-12T16:10:46.554Z"
   },
   {
    "duration": 81,
    "start_time": "2023-05-12T16:10:46.570Z"
   },
   {
    "duration": 12,
    "start_time": "2023-05-12T16:10:46.653Z"
   },
   {
    "duration": 30,
    "start_time": "2023-05-12T16:10:46.667Z"
   },
   {
    "duration": 12,
    "start_time": "2023-05-12T16:10:46.699Z"
   },
   {
    "duration": 361,
    "start_time": "2023-05-12T16:10:46.713Z"
   },
   {
    "duration": 31,
    "start_time": "2023-05-12T16:10:47.076Z"
   },
   {
    "duration": 10,
    "start_time": "2023-05-12T16:10:47.108Z"
   },
   {
    "duration": 16,
    "start_time": "2023-05-12T16:10:47.120Z"
   },
   {
    "duration": 4,
    "start_time": "2023-05-12T16:10:47.137Z"
   },
   {
    "duration": 226,
    "start_time": "2023-05-12T16:10:47.142Z"
   },
   {
    "duration": 239,
    "start_time": "2023-05-12T16:10:47.370Z"
   },
   {
    "duration": 39,
    "start_time": "2023-05-12T16:10:47.610Z"
   },
   {
    "duration": 9,
    "start_time": "2023-05-12T16:10:47.651Z"
   },
   {
    "duration": 31,
    "start_time": "2023-05-12T16:10:47.661Z"
   },
   {
    "duration": 4,
    "start_time": "2023-05-12T16:10:47.693Z"
   },
   {
    "duration": 1820,
    "start_time": "2023-05-12T16:10:47.699Z"
   },
   {
    "duration": 87,
    "start_time": "2023-05-12T16:10:49.521Z"
   },
   {
    "duration": 10,
    "start_time": "2023-05-12T16:10:49.609Z"
   },
   {
    "duration": 20,
    "start_time": "2023-05-12T16:10:49.621Z"
   },
   {
    "duration": 9,
    "start_time": "2023-05-12T16:10:49.643Z"
   },
   {
    "duration": 11,
    "start_time": "2023-05-12T16:10:49.654Z"
   },
   {
    "duration": 40,
    "start_time": "2023-05-12T16:10:49.667Z"
   },
   {
    "duration": 7,
    "start_time": "2023-05-12T16:10:49.711Z"
   },
   {
    "duration": 16,
    "start_time": "2023-05-12T16:10:49.719Z"
   },
   {
    "duration": 8,
    "start_time": "2023-05-12T16:10:49.736Z"
   },
   {
    "duration": 10,
    "start_time": "2023-05-12T16:10:49.745Z"
   },
   {
    "duration": 43,
    "start_time": "2023-05-12T16:10:49.757Z"
   },
   {
    "duration": 11,
    "start_time": "2023-05-12T16:10:54.691Z"
   },
   {
    "duration": 10,
    "start_time": "2023-05-12T16:10:55.410Z"
   },
   {
    "duration": 14,
    "start_time": "2023-05-12T16:11:01.734Z"
   },
   {
    "duration": 11,
    "start_time": "2023-05-12T16:11:13.822Z"
   },
   {
    "duration": 6,
    "start_time": "2023-05-12T16:11:19.038Z"
   },
   {
    "duration": 10,
    "start_time": "2023-05-12T16:11:30.422Z"
   },
   {
    "duration": 7,
    "start_time": "2023-05-12T16:11:56.129Z"
   },
   {
    "duration": 1123,
    "start_time": "2023-05-12T16:12:09.895Z"
   },
   {
    "duration": 57,
    "start_time": "2023-05-12T16:12:11.020Z"
   },
   {
    "duration": 13,
    "start_time": "2023-05-12T16:12:11.078Z"
   },
   {
    "duration": 18,
    "start_time": "2023-05-12T16:12:11.092Z"
   },
   {
    "duration": 9,
    "start_time": "2023-05-12T16:12:11.112Z"
   },
   {
    "duration": 4,
    "start_time": "2023-05-12T16:12:11.122Z"
   },
   {
    "duration": 516,
    "start_time": "2023-05-12T16:12:11.127Z"
   },
   {
    "duration": 185,
    "start_time": "2023-05-12T16:12:11.645Z"
   },
   {
    "duration": 7,
    "start_time": "2023-05-12T16:12:11.832Z"
   },
   {
    "duration": 10,
    "start_time": "2023-05-12T16:12:11.841Z"
   },
   {
    "duration": 15,
    "start_time": "2023-05-12T16:12:11.853Z"
   },
   {
    "duration": 29,
    "start_time": "2023-05-12T16:12:11.870Z"
   },
   {
    "duration": 34,
    "start_time": "2023-05-12T16:12:11.901Z"
   },
   {
    "duration": 10,
    "start_time": "2023-05-12T16:12:11.939Z"
   },
   {
    "duration": 50,
    "start_time": "2023-05-12T16:12:11.951Z"
   },
   {
    "duration": 24,
    "start_time": "2023-05-12T16:12:12.002Z"
   },
   {
    "duration": 3071,
    "start_time": "2023-05-12T16:12:12.028Z"
   },
   {
    "duration": 47,
    "start_time": "2023-05-12T16:12:15.100Z"
   },
   {
    "duration": 12,
    "start_time": "2023-05-12T16:12:15.148Z"
   },
   {
    "duration": 46,
    "start_time": "2023-05-12T16:12:15.162Z"
   },
   {
    "duration": 10,
    "start_time": "2023-05-12T16:12:15.210Z"
   },
   {
    "duration": 24,
    "start_time": "2023-05-12T16:12:15.222Z"
   },
   {
    "duration": 4,
    "start_time": "2023-05-12T16:12:15.248Z"
   },
   {
    "duration": 351,
    "start_time": "2023-05-12T16:12:15.254Z"
   },
   {
    "duration": 32,
    "start_time": "2023-05-12T16:12:15.607Z"
   },
   {
    "duration": 11,
    "start_time": "2023-05-12T16:12:15.640Z"
   },
   {
    "duration": 15,
    "start_time": "2023-05-12T16:12:15.653Z"
   },
   {
    "duration": 4,
    "start_time": "2023-05-12T16:12:15.669Z"
   },
   {
    "duration": 227,
    "start_time": "2023-05-12T16:12:15.675Z"
   },
   {
    "duration": 211,
    "start_time": "2023-05-12T16:12:15.903Z"
   },
   {
    "duration": 36,
    "start_time": "2023-05-12T16:12:16.116Z"
   },
   {
    "duration": 10,
    "start_time": "2023-05-12T16:12:16.153Z"
   },
   {
    "duration": 35,
    "start_time": "2023-05-12T16:12:16.164Z"
   },
   {
    "duration": 4,
    "start_time": "2023-05-12T16:12:16.201Z"
   },
   {
    "duration": 1811,
    "start_time": "2023-05-12T16:12:16.207Z"
   },
   {
    "duration": 87,
    "start_time": "2023-05-12T16:12:18.020Z"
   },
   {
    "duration": 12,
    "start_time": "2023-05-12T16:12:18.108Z"
   },
   {
    "duration": 31,
    "start_time": "2023-05-12T16:12:18.121Z"
   },
   {
    "duration": 9,
    "start_time": "2023-05-12T16:12:18.153Z"
   },
   {
    "duration": 14,
    "start_time": "2023-05-12T16:12:18.164Z"
   },
   {
    "duration": 9,
    "start_time": "2023-05-12T16:12:18.199Z"
   },
   {
    "duration": 13,
    "start_time": "2023-05-12T16:12:18.209Z"
   },
   {
    "duration": 33,
    "start_time": "2023-05-12T16:12:18.224Z"
   },
   {
    "duration": 45,
    "start_time": "2023-05-12T16:12:18.259Z"
   },
   {
    "duration": 19,
    "start_time": "2023-05-12T16:12:18.306Z"
   },
   {
    "duration": 10,
    "start_time": "2023-05-12T16:12:23.418Z"
   },
   {
    "duration": 13,
    "start_time": "2023-05-12T16:12:26.046Z"
   },
   {
    "duration": 9,
    "start_time": "2023-05-12T16:14:03.757Z"
   },
   {
    "duration": 13,
    "start_time": "2023-05-12T16:14:29.741Z"
   },
   {
    "duration": 22,
    "start_time": "2023-05-12T16:14:41.418Z"
   },
   {
    "duration": 14,
    "start_time": "2023-05-12T16:16:06.316Z"
   },
   {
    "duration": 7,
    "start_time": "2023-05-12T16:16:29.146Z"
   },
   {
    "duration": 7,
    "start_time": "2023-05-12T16:16:33.383Z"
   },
   {
    "duration": 8,
    "start_time": "2023-05-12T16:16:45.356Z"
   },
   {
    "duration": 17,
    "start_time": "2023-05-12T16:16:56.694Z"
   },
   {
    "duration": 18,
    "start_time": "2023-05-12T16:19:20.415Z"
   },
   {
    "duration": 109,
    "start_time": "2023-05-12T16:21:16.825Z"
   },
   {
    "duration": 982,
    "start_time": "2023-05-12T16:21:34.626Z"
   },
   {
    "duration": 34,
    "start_time": "2023-05-12T16:25:28.496Z"
   },
   {
    "duration": 45,
    "start_time": "2023-05-12T16:25:38.617Z"
   },
   {
    "duration": 955,
    "start_time": "2023-05-12T16:25:47.591Z"
   },
   {
    "duration": 1022,
    "start_time": "2023-05-12T16:25:59.593Z"
   },
   {
    "duration": 3,
    "start_time": "2023-05-12T16:26:24.933Z"
   },
   {
    "duration": 10,
    "start_time": "2023-05-12T16:26:28.710Z"
   },
   {
    "duration": 3,
    "start_time": "2023-05-12T16:26:32.670Z"
   },
   {
    "duration": 41,
    "start_time": "2023-05-12T16:26:45.775Z"
   },
   {
    "duration": 368,
    "start_time": "2023-05-12T16:26:56.741Z"
   },
   {
    "duration": 1173,
    "start_time": "2023-05-12T16:27:17.621Z"
   },
   {
    "duration": 45,
    "start_time": "2023-05-12T16:27:28.354Z"
   },
   {
    "duration": 9,
    "start_time": "2023-05-12T16:27:46.381Z"
   },
   {
    "duration": 28,
    "start_time": "2023-05-12T16:28:02.133Z"
   },
   {
    "duration": 13,
    "start_time": "2023-05-12T16:28:15.682Z"
   },
   {
    "duration": 11,
    "start_time": "2023-05-12T16:29:39.724Z"
   },
   {
    "duration": 1214,
    "start_time": "2023-05-12T16:29:57.775Z"
   },
   {
    "duration": 58,
    "start_time": "2023-05-12T16:29:58.991Z"
   },
   {
    "duration": 13,
    "start_time": "2023-05-12T16:29:59.051Z"
   },
   {
    "duration": 30,
    "start_time": "2023-05-12T16:29:59.066Z"
   },
   {
    "duration": 9,
    "start_time": "2023-05-12T16:29:59.098Z"
   },
   {
    "duration": 4,
    "start_time": "2023-05-12T16:29:59.109Z"
   },
   {
    "duration": 577,
    "start_time": "2023-05-12T16:29:59.115Z"
   },
   {
    "duration": 195,
    "start_time": "2023-05-12T16:29:59.693Z"
   },
   {
    "duration": 8,
    "start_time": "2023-05-12T16:29:59.890Z"
   },
   {
    "duration": 4,
    "start_time": "2023-05-12T16:29:59.900Z"
   },
   {
    "duration": 26,
    "start_time": "2023-05-12T16:29:59.906Z"
   },
   {
    "duration": 10,
    "start_time": "2023-05-12T16:29:59.933Z"
   },
   {
    "duration": 36,
    "start_time": "2023-05-12T16:29:59.944Z"
   },
   {
    "duration": 16,
    "start_time": "2023-05-12T16:29:59.981Z"
   },
   {
    "duration": 47,
    "start_time": "2023-05-12T16:29:59.998Z"
   },
   {
    "duration": 27,
    "start_time": "2023-05-12T16:30:00.047Z"
   },
   {
    "duration": 3123,
    "start_time": "2023-05-12T16:30:00.076Z"
   },
   {
    "duration": 47,
    "start_time": "2023-05-12T16:30:03.200Z"
   },
   {
    "duration": 11,
    "start_time": "2023-05-12T16:30:03.249Z"
   },
   {
    "duration": 60,
    "start_time": "2023-05-12T16:30:03.261Z"
   },
   {
    "duration": 10,
    "start_time": "2023-05-12T16:30:03.322Z"
   },
   {
    "duration": 44,
    "start_time": "2023-05-12T16:30:03.333Z"
   },
   {
    "duration": 7,
    "start_time": "2023-05-12T16:30:03.378Z"
   },
   {
    "duration": 335,
    "start_time": "2023-05-12T16:30:03.386Z"
   },
   {
    "duration": 32,
    "start_time": "2023-05-12T16:30:03.723Z"
   },
   {
    "duration": 11,
    "start_time": "2023-05-12T16:30:03.757Z"
   },
   {
    "duration": 41,
    "start_time": "2023-05-12T16:30:03.770Z"
   },
   {
    "duration": 5,
    "start_time": "2023-05-12T16:30:03.814Z"
   },
   {
    "duration": 223,
    "start_time": "2023-05-12T16:30:03.820Z"
   },
   {
    "duration": 183,
    "start_time": "2023-05-12T16:30:04.045Z"
   },
   {
    "duration": 36,
    "start_time": "2023-05-12T16:30:04.229Z"
   },
   {
    "duration": 37,
    "start_time": "2023-05-12T16:30:04.266Z"
   },
   {
    "duration": 46,
    "start_time": "2023-05-12T16:30:04.305Z"
   },
   {
    "duration": 6,
    "start_time": "2023-05-12T16:30:04.352Z"
   },
   {
    "duration": 1938,
    "start_time": "2023-05-12T16:30:04.359Z"
   },
   {
    "duration": 39,
    "start_time": "2023-05-12T16:30:06.299Z"
   },
   {
    "duration": 11,
    "start_time": "2023-05-12T16:30:06.340Z"
   },
   {
    "duration": 33,
    "start_time": "2023-05-12T16:30:06.353Z"
   },
   {
    "duration": 26,
    "start_time": "2023-05-12T16:30:06.387Z"
   },
   {
    "duration": 9,
    "start_time": "2023-05-12T16:30:06.415Z"
   },
   {
    "duration": 11,
    "start_time": "2023-05-12T16:30:06.426Z"
   },
   {
    "duration": 23,
    "start_time": "2023-05-12T16:30:06.438Z"
   },
   {
    "duration": 23,
    "start_time": "2023-05-12T16:30:06.463Z"
   },
   {
    "duration": 14,
    "start_time": "2023-05-12T16:30:06.488Z"
   },
   {
    "duration": 13,
    "start_time": "2023-05-12T16:30:06.503Z"
   },
   {
    "duration": 22,
    "start_time": "2023-05-12T16:30:06.518Z"
   },
   {
    "duration": 107,
    "start_time": "2023-05-12T16:30:29.373Z"
   },
   {
    "duration": 20,
    "start_time": "2023-05-12T16:30:34.057Z"
   },
   {
    "duration": 53,
    "start_time": "2023-05-12T16:31:01.075Z"
   },
   {
    "duration": 982,
    "start_time": "2023-05-12T16:31:16.842Z"
   },
   {
    "duration": 933,
    "start_time": "2023-05-12T16:31:38.194Z"
   },
   {
    "duration": 3,
    "start_time": "2023-05-12T16:34:03.216Z"
   },
   {
    "duration": 15,
    "start_time": "2023-05-12T16:34:08.326Z"
   },
   {
    "duration": 327,
    "start_time": "2023-05-12T16:34:46.716Z"
   },
   {
    "duration": 377,
    "start_time": "2023-05-12T16:35:04.978Z"
   },
   {
    "duration": 370,
    "start_time": "2023-05-12T16:35:10.937Z"
   },
   {
    "duration": 20,
    "start_time": "2023-05-12T16:35:24.984Z"
   },
   {
    "duration": 35,
    "start_time": "2023-05-12T16:35:36.225Z"
   },
   {
    "duration": 32,
    "start_time": "2023-05-12T16:35:41.825Z"
   },
   {
    "duration": 37,
    "start_time": "2023-05-12T16:38:12.677Z"
   },
   {
    "duration": 30,
    "start_time": "2023-05-12T16:38:25.632Z"
   },
   {
    "duration": 32,
    "start_time": "2023-05-12T16:38:35.615Z"
   },
   {
    "duration": 27,
    "start_time": "2023-05-12T16:38:45.193Z"
   },
   {
    "duration": 33,
    "start_time": "2023-05-12T16:38:53.846Z"
   },
   {
    "duration": 35,
    "start_time": "2023-05-12T16:39:31.622Z"
   },
   {
    "duration": 12,
    "start_time": "2023-05-12T16:39:53.279Z"
   },
   {
    "duration": 19,
    "start_time": "2023-05-12T16:39:58.622Z"
   },
   {
    "duration": 18,
    "start_time": "2023-05-12T16:40:08.406Z"
   },
   {
    "duration": 17,
    "start_time": "2023-05-12T16:40:44.974Z"
   },
   {
    "duration": 41,
    "start_time": "2023-05-12T16:42:01.285Z"
   },
   {
    "duration": 26,
    "start_time": "2023-05-12T16:42:34.437Z"
   },
   {
    "duration": 87,
    "start_time": "2023-05-12T16:42:40.474Z"
   },
   {
    "duration": 37,
    "start_time": "2023-05-12T16:42:54.620Z"
   },
   {
    "duration": 38,
    "start_time": "2023-05-12T16:43:39.813Z"
   },
   {
    "duration": 36,
    "start_time": "2023-05-12T16:43:42.421Z"
   },
   {
    "duration": 36,
    "start_time": "2023-05-12T16:43:49.643Z"
   },
   {
    "duration": 42,
    "start_time": "2023-05-12T16:43:52.089Z"
   },
   {
    "duration": 32,
    "start_time": "2023-05-12T16:44:11.694Z"
   },
   {
    "duration": 33,
    "start_time": "2023-05-12T16:44:48.170Z"
   },
   {
    "duration": 47,
    "start_time": "2023-05-12T16:44:57.003Z"
   },
   {
    "duration": 31,
    "start_time": "2023-05-12T16:45:04.812Z"
   },
   {
    "duration": 25,
    "start_time": "2023-05-12T16:45:13.099Z"
   },
   {
    "duration": 36,
    "start_time": "2023-05-12T16:45:19.400Z"
   },
   {
    "duration": 1485,
    "start_time": "2023-05-12T16:45:58.974Z"
   },
   {
    "duration": 26,
    "start_time": "2023-05-12T16:46:13.081Z"
   },
   {
    "duration": 31,
    "start_time": "2023-05-12T16:46:18.185Z"
   },
   {
    "duration": 33,
    "start_time": "2023-05-12T16:47:18.306Z"
   },
   {
    "duration": 72,
    "start_time": "2023-05-12T16:47:24.764Z"
   },
   {
    "duration": 337,
    "start_time": "2023-05-12T16:47:32.962Z"
   },
   {
    "duration": 31,
    "start_time": "2023-05-12T16:47:36.099Z"
   },
   {
    "duration": 30,
    "start_time": "2023-05-12T16:47:56.778Z"
   },
   {
    "duration": 35,
    "start_time": "2023-05-12T16:48:12.882Z"
   },
   {
    "duration": 80,
    "start_time": "2023-05-12T16:49:27.714Z"
   },
   {
    "duration": 36,
    "start_time": "2023-05-12T16:49:39.257Z"
   },
   {
    "duration": 34,
    "start_time": "2023-05-12T16:50:36.020Z"
   },
   {
    "duration": 1200,
    "start_time": "2023-05-12T16:57:06.517Z"
   },
   {
    "duration": 60,
    "start_time": "2023-05-12T16:57:07.719Z"
   },
   {
    "duration": 12,
    "start_time": "2023-05-12T16:57:07.780Z"
   },
   {
    "duration": 19,
    "start_time": "2023-05-12T16:57:07.795Z"
   },
   {
    "duration": 11,
    "start_time": "2023-05-12T16:57:07.816Z"
   },
   {
    "duration": 6,
    "start_time": "2023-05-12T16:57:07.829Z"
   },
   {
    "duration": 550,
    "start_time": "2023-05-12T16:57:07.836Z"
   },
   {
    "duration": 193,
    "start_time": "2023-05-12T16:57:08.388Z"
   },
   {
    "duration": 15,
    "start_time": "2023-05-12T16:57:08.583Z"
   },
   {
    "duration": 10,
    "start_time": "2023-05-12T16:57:08.600Z"
   },
   {
    "duration": 30,
    "start_time": "2023-05-12T16:57:08.611Z"
   },
   {
    "duration": 15,
    "start_time": "2023-05-12T16:57:08.643Z"
   },
   {
    "duration": 44,
    "start_time": "2023-05-12T16:57:08.660Z"
   },
   {
    "duration": 9,
    "start_time": "2023-05-12T16:57:08.706Z"
   },
   {
    "duration": 58,
    "start_time": "2023-05-12T16:57:08.717Z"
   },
   {
    "duration": 32,
    "start_time": "2023-05-12T16:57:08.777Z"
   },
   {
    "duration": 3116,
    "start_time": "2023-05-12T16:57:08.811Z"
   },
   {
    "duration": 48,
    "start_time": "2023-05-12T16:57:11.928Z"
   },
   {
    "duration": 12,
    "start_time": "2023-05-12T16:57:11.977Z"
   },
   {
    "duration": 45,
    "start_time": "2023-05-12T16:57:11.991Z"
   },
   {
    "duration": 10,
    "start_time": "2023-05-12T16:57:12.037Z"
   },
   {
    "duration": 23,
    "start_time": "2023-05-12T16:57:12.048Z"
   },
   {
    "duration": 4,
    "start_time": "2023-05-12T16:57:12.073Z"
   },
   {
    "duration": 335,
    "start_time": "2023-05-12T16:57:12.079Z"
   },
   {
    "duration": 33,
    "start_time": "2023-05-12T16:57:12.415Z"
   },
   {
    "duration": 12,
    "start_time": "2023-05-12T16:57:12.449Z"
   },
   {
    "duration": 15,
    "start_time": "2023-05-12T16:57:12.462Z"
   },
   {
    "duration": 20,
    "start_time": "2023-05-12T16:57:12.479Z"
   },
   {
    "duration": 214,
    "start_time": "2023-05-12T16:57:12.501Z"
   },
   {
    "duration": 199,
    "start_time": "2023-05-12T16:57:12.717Z"
   },
   {
    "duration": 25,
    "start_time": "2023-05-12T16:57:12.918Z"
   },
   {
    "duration": 11,
    "start_time": "2023-05-12T16:57:12.944Z"
   },
   {
    "duration": 47,
    "start_time": "2023-05-12T16:57:12.956Z"
   },
   {
    "duration": 4,
    "start_time": "2023-05-12T16:57:13.004Z"
   },
   {
    "duration": 1813,
    "start_time": "2023-05-12T16:57:13.009Z"
   },
   {
    "duration": 84,
    "start_time": "2023-05-12T16:57:14.823Z"
   },
   {
    "duration": 11,
    "start_time": "2023-05-12T16:57:14.908Z"
   },
   {
    "duration": 24,
    "start_time": "2023-05-12T16:57:14.921Z"
   },
   {
    "duration": 9,
    "start_time": "2023-05-12T16:57:14.947Z"
   },
   {
    "duration": 11,
    "start_time": "2023-05-12T16:57:14.957Z"
   },
   {
    "duration": 10,
    "start_time": "2023-05-12T16:57:14.997Z"
   },
   {
    "duration": 35,
    "start_time": "2023-05-12T16:57:15.008Z"
   },
   {
    "duration": 34,
    "start_time": "2023-05-12T16:57:15.044Z"
   },
   {
    "duration": 18,
    "start_time": "2023-05-12T16:57:15.080Z"
   },
   {
    "duration": 9,
    "start_time": "2023-05-12T16:57:15.099Z"
   },
   {
    "duration": 27,
    "start_time": "2023-05-12T16:57:15.109Z"
   },
   {
    "duration": 21,
    "start_time": "2023-05-12T16:57:20.778Z"
   },
   {
    "duration": 127,
    "start_time": "2023-05-12T16:57:26.178Z"
   },
   {
    "duration": 47,
    "start_time": "2023-05-12T16:57:46.039Z"
   },
   {
    "duration": 1037,
    "start_time": "2023-05-12T16:58:02.574Z"
   },
   {
    "duration": 1107,
    "start_time": "2023-05-12T16:58:31.626Z"
   },
   {
    "duration": 34,
    "start_time": "2023-05-12T16:58:40.701Z"
   },
   {
    "duration": 80,
    "start_time": "2023-05-12T17:00:14.287Z"
   },
   {
    "duration": 40,
    "start_time": "2023-05-12T17:00:18.300Z"
   },
   {
    "duration": 35,
    "start_time": "2023-05-12T17:01:00.420Z"
   },
   {
    "duration": 1331,
    "start_time": "2023-05-14T14:45:37.553Z"
   },
   {
    "duration": 92,
    "start_time": "2023-05-14T14:45:38.889Z"
   },
   {
    "duration": 14,
    "start_time": "2023-05-14T14:45:38.984Z"
   },
   {
    "duration": 29,
    "start_time": "2023-05-14T14:45:39.001Z"
   },
   {
    "duration": 9,
    "start_time": "2023-05-14T14:45:39.031Z"
   },
   {
    "duration": 4,
    "start_time": "2023-05-14T14:45:39.042Z"
   },
   {
    "duration": 592,
    "start_time": "2023-05-14T14:45:39.048Z"
   },
   {
    "duration": 218,
    "start_time": "2023-05-14T14:45:39.642Z"
   },
   {
    "duration": 6,
    "start_time": "2023-05-14T14:45:39.861Z"
   },
   {
    "duration": 21,
    "start_time": "2023-05-14T14:45:39.869Z"
   },
   {
    "duration": 15,
    "start_time": "2023-05-14T14:45:39.891Z"
   },
   {
    "duration": 7,
    "start_time": "2023-05-14T14:45:39.908Z"
   },
   {
    "duration": 79,
    "start_time": "2023-05-14T14:45:39.917Z"
   },
   {
    "duration": 12,
    "start_time": "2023-05-14T14:45:39.998Z"
   },
   {
    "duration": 61,
    "start_time": "2023-05-14T14:45:40.012Z"
   },
   {
    "duration": 34,
    "start_time": "2023-05-14T14:45:40.074Z"
   },
   {
    "duration": 3184,
    "start_time": "2023-05-14T14:45:40.111Z"
   },
   {
    "duration": 123,
    "start_time": "2023-05-14T14:45:43.297Z"
   },
   {
    "duration": 11,
    "start_time": "2023-05-14T14:45:43.422Z"
   },
   {
    "duration": 72,
    "start_time": "2023-05-14T14:45:43.434Z"
   },
   {
    "duration": 10,
    "start_time": "2023-05-14T14:45:43.507Z"
   },
   {
    "duration": 19,
    "start_time": "2023-05-14T14:45:43.519Z"
   },
   {
    "duration": 5,
    "start_time": "2023-05-14T14:45:43.540Z"
   },
   {
    "duration": 376,
    "start_time": "2023-05-14T14:45:43.547Z"
   },
   {
    "duration": 91,
    "start_time": "2023-05-14T14:45:43.924Z"
   },
   {
    "duration": 13,
    "start_time": "2023-05-14T14:45:44.019Z"
   },
   {
    "duration": 30,
    "start_time": "2023-05-14T14:45:44.034Z"
   },
   {
    "duration": 5,
    "start_time": "2023-05-14T14:45:44.069Z"
   },
   {
    "duration": 309,
    "start_time": "2023-05-14T14:45:44.081Z"
   },
   {
    "duration": 220,
    "start_time": "2023-05-14T14:45:44.392Z"
   },
   {
    "duration": 66,
    "start_time": "2023-05-14T14:45:44.614Z"
   },
   {
    "duration": 12,
    "start_time": "2023-05-14T14:45:44.681Z"
   },
   {
    "duration": 43,
    "start_time": "2023-05-14T14:45:44.694Z"
   },
   {
    "duration": 4,
    "start_time": "2023-05-14T14:45:44.739Z"
   },
   {
    "duration": 1932,
    "start_time": "2023-05-14T14:45:44.744Z"
   },
   {
    "duration": 71,
    "start_time": "2023-05-14T14:45:46.686Z"
   },
   {
    "duration": 10,
    "start_time": "2023-05-14T14:45:46.758Z"
   },
   {
    "duration": 24,
    "start_time": "2023-05-14T14:45:46.770Z"
   },
   {
    "duration": 11,
    "start_time": "2023-05-14T14:45:46.795Z"
   },
   {
    "duration": 10,
    "start_time": "2023-05-14T14:45:46.807Z"
   },
   {
    "duration": 13,
    "start_time": "2023-05-14T14:45:46.819Z"
   },
   {
    "duration": 8,
    "start_time": "2023-05-14T14:45:46.834Z"
   },
   {
    "duration": 17,
    "start_time": "2023-05-14T14:45:46.888Z"
   },
   {
    "duration": 7,
    "start_time": "2023-05-14T14:45:46.907Z"
   },
   {
    "duration": 8,
    "start_time": "2023-05-14T14:45:46.915Z"
   },
   {
    "duration": 12,
    "start_time": "2023-05-14T14:45:46.924Z"
   },
   {
    "duration": 18,
    "start_time": "2023-05-14T14:45:46.937Z"
   },
   {
    "duration": 38,
    "start_time": "2023-05-14T14:45:46.982Z"
   },
   {
    "duration": 95,
    "start_time": "2023-05-14T14:59:13.171Z"
   },
   {
    "duration": 5,
    "start_time": "2023-05-14T14:59:52.945Z"
   },
   {
    "duration": 18,
    "start_time": "2023-05-14T15:00:43.575Z"
   },
   {
    "duration": 12,
    "start_time": "2023-05-14T15:01:18.439Z"
   },
   {
    "duration": 13,
    "start_time": "2023-05-14T15:05:28.972Z"
   },
   {
    "duration": 9,
    "start_time": "2023-05-14T15:05:50.863Z"
   },
   {
    "duration": 12,
    "start_time": "2023-05-14T15:06:04.958Z"
   },
   {
    "duration": 15,
    "start_time": "2023-05-14T15:06:08.512Z"
   },
   {
    "duration": 11,
    "start_time": "2023-05-14T15:06:14.315Z"
   },
   {
    "duration": 10,
    "start_time": "2023-05-14T15:06:36.519Z"
   },
   {
    "duration": 10,
    "start_time": "2023-05-14T15:06:38.715Z"
   },
   {
    "duration": 10,
    "start_time": "2023-05-14T15:06:57.197Z"
   },
   {
    "duration": 11,
    "start_time": "2023-05-14T15:07:01.830Z"
   },
   {
    "duration": 8,
    "start_time": "2023-05-14T15:07:05.941Z"
   },
   {
    "duration": 1254,
    "start_time": "2023-05-14T15:07:19.479Z"
   },
   {
    "duration": 58,
    "start_time": "2023-05-14T15:07:20.735Z"
   },
   {
    "duration": 15,
    "start_time": "2023-05-14T15:07:20.795Z"
   },
   {
    "duration": 18,
    "start_time": "2023-05-14T15:07:20.812Z"
   },
   {
    "duration": 10,
    "start_time": "2023-05-14T15:07:20.831Z"
   },
   {
    "duration": 5,
    "start_time": "2023-05-14T15:07:20.842Z"
   },
   {
    "duration": 596,
    "start_time": "2023-05-14T15:07:20.848Z"
   },
   {
    "duration": 242,
    "start_time": "2023-05-14T15:07:21.445Z"
   },
   {
    "duration": 8,
    "start_time": "2023-05-14T15:07:21.689Z"
   },
   {
    "duration": 45,
    "start_time": "2023-05-14T15:07:21.700Z"
   },
   {
    "duration": 41,
    "start_time": "2023-05-14T15:07:21.747Z"
   },
   {
    "duration": 9,
    "start_time": "2023-05-14T15:07:21.790Z"
   },
   {
    "duration": 36,
    "start_time": "2023-05-14T15:07:21.801Z"
   },
   {
    "duration": 11,
    "start_time": "2023-05-14T15:07:21.839Z"
   },
   {
    "duration": 64,
    "start_time": "2023-05-14T15:07:21.852Z"
   },
   {
    "duration": 25,
    "start_time": "2023-05-14T15:07:21.918Z"
   },
   {
    "duration": 3158,
    "start_time": "2023-05-14T15:07:21.945Z"
   },
   {
    "duration": 44,
    "start_time": "2023-05-14T15:07:25.105Z"
   },
   {
    "duration": 15,
    "start_time": "2023-05-14T15:07:25.150Z"
   },
   {
    "duration": 53,
    "start_time": "2023-05-14T15:07:25.167Z"
   },
   {
    "duration": 10,
    "start_time": "2023-05-14T15:07:25.222Z"
   },
   {
    "duration": 25,
    "start_time": "2023-05-14T15:07:25.235Z"
   },
   {
    "duration": 5,
    "start_time": "2023-05-14T15:07:25.262Z"
   },
   {
    "duration": 365,
    "start_time": "2023-05-14T15:07:25.268Z"
   },
   {
    "duration": 37,
    "start_time": "2023-05-14T15:07:25.635Z"
   },
   {
    "duration": 24,
    "start_time": "2023-05-14T15:07:25.674Z"
   },
   {
    "duration": 15,
    "start_time": "2023-05-14T15:07:25.700Z"
   },
   {
    "duration": 4,
    "start_time": "2023-05-14T15:07:25.718Z"
   },
   {
    "duration": 235,
    "start_time": "2023-05-14T15:07:25.723Z"
   },
   {
    "duration": 242,
    "start_time": "2023-05-14T15:07:25.960Z"
   },
   {
    "duration": 32,
    "start_time": "2023-05-14T15:07:26.204Z"
   },
   {
    "duration": 12,
    "start_time": "2023-05-14T15:07:26.237Z"
   },
   {
    "duration": 50,
    "start_time": "2023-05-14T15:07:26.251Z"
   },
   {
    "duration": 5,
    "start_time": "2023-05-14T15:07:26.303Z"
   },
   {
    "duration": 1969,
    "start_time": "2023-05-14T15:07:26.309Z"
   },
   {
    "duration": 37,
    "start_time": "2023-05-14T15:07:28.283Z"
   },
   {
    "duration": 12,
    "start_time": "2023-05-14T15:07:28.321Z"
   },
   {
    "duration": 26,
    "start_time": "2023-05-14T15:07:28.335Z"
   },
   {
    "duration": 26,
    "start_time": "2023-05-14T15:07:28.363Z"
   },
   {
    "duration": 12,
    "start_time": "2023-05-14T15:07:28.390Z"
   },
   {
    "duration": 13,
    "start_time": "2023-05-14T15:07:28.403Z"
   },
   {
    "duration": 8,
    "start_time": "2023-05-14T15:07:28.418Z"
   },
   {
    "duration": 15,
    "start_time": "2023-05-14T15:07:28.428Z"
   },
   {
    "duration": 13,
    "start_time": "2023-05-14T15:07:28.444Z"
   },
   {
    "duration": 17,
    "start_time": "2023-05-14T15:07:28.474Z"
   },
   {
    "duration": 12,
    "start_time": "2023-05-14T15:07:28.493Z"
   },
   {
    "duration": 19,
    "start_time": "2023-05-14T15:07:28.507Z"
   },
   {
    "duration": 59,
    "start_time": "2023-05-14T15:07:28.528Z"
   },
   {
    "duration": 14,
    "start_time": "2023-05-14T15:08:07.586Z"
   },
   {
    "duration": 18,
    "start_time": "2023-05-14T15:08:09.611Z"
   },
   {
    "duration": 23,
    "start_time": "2023-05-14T15:08:29.425Z"
   },
   {
    "duration": 15,
    "start_time": "2023-05-14T15:08:40.288Z"
   },
   {
    "duration": 14,
    "start_time": "2023-05-14T15:08:51.589Z"
   },
   {
    "duration": 20,
    "start_time": "2023-05-14T15:15:36.706Z"
   },
   {
    "duration": 19,
    "start_time": "2023-05-14T15:16:31.013Z"
   },
   {
    "duration": 13,
    "start_time": "2023-05-14T15:16:35.007Z"
   },
   {
    "duration": 14,
    "start_time": "2023-05-14T15:21:53.115Z"
   },
   {
    "duration": 35,
    "start_time": "2023-05-14T15:23:23.268Z"
   },
   {
    "duration": 11,
    "start_time": "2023-05-14T15:23:26.426Z"
   },
   {
    "duration": 7,
    "start_time": "2023-05-14T15:26:31.327Z"
   },
   {
    "duration": 35,
    "start_time": "2023-05-14T15:26:36.379Z"
   },
   {
    "duration": 32,
    "start_time": "2023-05-14T15:27:15.901Z"
   },
   {
    "duration": 1346,
    "start_time": "2023-05-14T15:29:29.448Z"
   },
   {
    "duration": 6,
    "start_time": "2023-05-14T15:29:43.039Z"
   },
   {
    "duration": 19,
    "start_time": "2023-05-14T15:31:03.917Z"
   },
   {
    "duration": 26,
    "start_time": "2023-05-14T15:31:14.225Z"
   },
   {
    "duration": 14,
    "start_time": "2023-05-14T15:31:43.847Z"
   },
   {
    "duration": 31,
    "start_time": "2023-05-14T15:32:07.522Z"
   },
   {
    "duration": 21,
    "start_time": "2023-05-14T15:32:15.420Z"
   },
   {
    "duration": 20,
    "start_time": "2023-05-14T15:32:28.922Z"
   },
   {
    "duration": 15,
    "start_time": "2023-05-14T15:32:32.618Z"
   },
   {
    "duration": 12,
    "start_time": "2023-05-14T15:33:22.506Z"
   },
   {
    "duration": 16,
    "start_time": "2023-05-14T15:36:57.204Z"
   },
   {
    "duration": 3,
    "start_time": "2023-05-14T15:39:40.254Z"
   },
   {
    "duration": 10,
    "start_time": "2023-05-14T15:41:33.006Z"
   },
   {
    "duration": 12,
    "start_time": "2023-05-14T15:41:46.127Z"
   },
   {
    "duration": 10,
    "start_time": "2023-05-14T15:42:51.223Z"
   },
   {
    "duration": 13,
    "start_time": "2023-05-14T15:45:29.803Z"
   },
   {
    "duration": 6,
    "start_time": "2023-05-14T15:46:57.315Z"
   },
   {
    "duration": 22,
    "start_time": "2023-05-14T15:47:01.693Z"
   },
   {
    "duration": 9,
    "start_time": "2023-05-14T15:47:48.888Z"
   },
   {
    "duration": 14,
    "start_time": "2023-05-14T15:51:09.760Z"
   },
   {
    "duration": 31,
    "start_time": "2023-05-14T15:51:26.546Z"
   },
   {
    "duration": 48,
    "start_time": "2023-05-14T16:00:59.499Z"
   },
   {
    "duration": 8,
    "start_time": "2023-05-14T16:01:06.394Z"
   },
   {
    "duration": 20,
    "start_time": "2023-05-14T16:01:14.927Z"
   },
   {
    "duration": 15,
    "start_time": "2023-05-14T16:01:23.137Z"
   },
   {
    "duration": 15,
    "start_time": "2023-05-14T16:02:15.316Z"
   },
   {
    "duration": 11,
    "start_time": "2023-05-14T16:02:39.641Z"
   },
   {
    "duration": 4,
    "start_time": "2023-05-14T16:04:21.797Z"
   },
   {
    "duration": 11,
    "start_time": "2023-05-14T16:04:30.021Z"
   },
   {
    "duration": 15,
    "start_time": "2023-05-14T16:06:15.756Z"
   },
   {
    "duration": 23,
    "start_time": "2023-05-14T16:06:21.116Z"
   },
   {
    "duration": 22,
    "start_time": "2023-05-14T16:06:32.466Z"
   },
   {
    "duration": 20,
    "start_time": "2023-05-14T16:06:36.731Z"
   },
   {
    "duration": 14,
    "start_time": "2023-05-14T16:06:45.408Z"
   },
   {
    "duration": 12,
    "start_time": "2023-05-14T16:06:52.523Z"
   },
   {
    "duration": 14,
    "start_time": "2023-05-14T16:06:56.049Z"
   },
   {
    "duration": 20,
    "start_time": "2023-05-14T16:22:55.751Z"
   },
   {
    "duration": 1411,
    "start_time": "2023-05-14T16:23:52.110Z"
   },
   {
    "duration": 1513,
    "start_time": "2023-05-14T16:23:58.806Z"
   },
   {
    "duration": 1516,
    "start_time": "2023-05-14T16:24:45.243Z"
   },
   {
    "duration": 1503,
    "start_time": "2023-05-14T16:24:53.217Z"
   },
   {
    "duration": 460,
    "start_time": "2023-05-14T16:24:57.315Z"
   },
   {
    "duration": 1459,
    "start_time": "2023-05-14T16:25:02.591Z"
   },
   {
    "duration": 1521,
    "start_time": "2023-05-14T16:25:13.226Z"
   },
   {
    "duration": 1496,
    "start_time": "2023-05-14T16:25:35.212Z"
   },
   {
    "duration": 1563,
    "start_time": "2023-05-14T16:26:31.644Z"
   },
   {
    "duration": 491,
    "start_time": "2023-05-14T16:26:54.424Z"
   },
   {
    "duration": 1553,
    "start_time": "2023-05-14T16:26:59.929Z"
   },
   {
    "duration": 1536,
    "start_time": "2023-05-14T16:27:08.924Z"
   },
   {
    "duration": 1595,
    "start_time": "2023-05-14T16:27:13.834Z"
   },
   {
    "duration": 1518,
    "start_time": "2023-05-14T16:27:32.702Z"
   },
   {
    "duration": 1537,
    "start_time": "2023-05-14T16:27:38.676Z"
   },
   {
    "duration": 1543,
    "start_time": "2023-05-14T16:27:47.073Z"
   },
   {
    "duration": 1478,
    "start_time": "2023-05-14T16:27:51.825Z"
   },
   {
    "duration": 1692,
    "start_time": "2023-05-14T16:28:00.232Z"
   },
   {
    "duration": 1581,
    "start_time": "2023-05-14T16:28:11.059Z"
   },
   {
    "duration": 1480,
    "start_time": "2023-05-14T16:28:15.611Z"
   },
   {
    "duration": 1511,
    "start_time": "2023-05-14T16:28:37.205Z"
   },
   {
    "duration": 1571,
    "start_time": "2023-05-14T16:28:53.807Z"
   },
   {
    "duration": 1704,
    "start_time": "2023-05-14T16:29:02.629Z"
   },
   {
    "duration": 1490,
    "start_time": "2023-05-14T16:29:45.909Z"
   },
   {
    "duration": 5,
    "start_time": "2023-05-14T16:45:48.309Z"
   },
   {
    "duration": 13,
    "start_time": "2023-05-14T16:45:58.426Z"
   },
   {
    "duration": 13,
    "start_time": "2023-05-14T16:46:12.117Z"
   },
   {
    "duration": 3,
    "start_time": "2023-05-14T16:46:17.518Z"
   },
   {
    "duration": 46,
    "start_time": "2023-05-14T16:46:17.523Z"
   },
   {
    "duration": 14,
    "start_time": "2023-05-14T16:46:17.570Z"
   },
   {
    "duration": 17,
    "start_time": "2023-05-14T16:46:17.588Z"
   },
   {
    "duration": 12,
    "start_time": "2023-05-14T16:46:17.606Z"
   },
   {
    "duration": 4,
    "start_time": "2023-05-14T16:46:17.620Z"
   },
   {
    "duration": 535,
    "start_time": "2023-05-14T16:46:17.628Z"
   },
   {
    "duration": 191,
    "start_time": "2023-05-14T16:46:18.164Z"
   },
   {
    "duration": 19,
    "start_time": "2023-05-14T16:46:18.358Z"
   },
   {
    "duration": 9,
    "start_time": "2023-05-14T16:46:18.380Z"
   },
   {
    "duration": 18,
    "start_time": "2023-05-14T16:46:18.390Z"
   },
   {
    "duration": 8,
    "start_time": "2023-05-14T16:46:18.409Z"
   },
   {
    "duration": 32,
    "start_time": "2023-05-14T16:46:18.418Z"
   },
   {
    "duration": 34,
    "start_time": "2023-05-14T16:46:18.451Z"
   },
   {
    "duration": 50,
    "start_time": "2023-05-14T16:46:18.488Z"
   },
   {
    "duration": 45,
    "start_time": "2023-05-14T16:46:18.540Z"
   },
   {
    "duration": 3122,
    "start_time": "2023-05-14T16:46:18.587Z"
   },
   {
    "duration": 41,
    "start_time": "2023-05-14T16:46:21.710Z"
   },
   {
    "duration": 12,
    "start_time": "2023-05-14T16:46:21.753Z"
   },
   {
    "duration": 44,
    "start_time": "2023-05-14T16:46:21.766Z"
   },
   {
    "duration": 14,
    "start_time": "2023-05-14T16:46:21.812Z"
   },
   {
    "duration": 17,
    "start_time": "2023-05-14T16:46:21.828Z"
   },
   {
    "duration": 9,
    "start_time": "2023-05-14T16:46:21.847Z"
   },
   {
    "duration": 394,
    "start_time": "2023-05-14T16:46:21.858Z"
   },
   {
    "duration": 38,
    "start_time": "2023-05-14T16:46:22.254Z"
   },
   {
    "duration": 12,
    "start_time": "2023-05-14T16:46:22.294Z"
   },
   {
    "duration": 16,
    "start_time": "2023-05-14T16:46:22.307Z"
   },
   {
    "duration": 11,
    "start_time": "2023-05-14T16:46:22.326Z"
   },
   {
    "duration": 258,
    "start_time": "2023-05-14T16:46:22.339Z"
   },
   {
    "duration": 222,
    "start_time": "2023-05-14T16:46:22.599Z"
   },
   {
    "duration": 33,
    "start_time": "2023-05-14T16:46:22.823Z"
   },
   {
    "duration": 10,
    "start_time": "2023-05-14T16:46:22.857Z"
   },
   {
    "duration": 58,
    "start_time": "2023-05-14T16:46:22.868Z"
   },
   {
    "duration": 5,
    "start_time": "2023-05-14T16:46:22.928Z"
   },
   {
    "duration": 1943,
    "start_time": "2023-05-14T16:46:22.935Z"
   },
   {
    "duration": 33,
    "start_time": "2023-05-14T16:46:24.879Z"
   },
   {
    "duration": 10,
    "start_time": "2023-05-14T16:46:24.913Z"
   },
   {
    "duration": 18,
    "start_time": "2023-05-14T16:46:24.925Z"
   },
   {
    "duration": 10,
    "start_time": "2023-05-14T16:46:24.944Z"
   },
   {
    "duration": 29,
    "start_time": "2023-05-14T16:46:24.956Z"
   },
   {
    "duration": 9,
    "start_time": "2023-05-14T16:46:24.987Z"
   },
   {
    "duration": 6,
    "start_time": "2023-05-14T16:46:24.997Z"
   },
   {
    "duration": 18,
    "start_time": "2023-05-14T16:46:25.005Z"
   },
   {
    "duration": 8,
    "start_time": "2023-05-14T16:46:25.025Z"
   },
   {
    "duration": 7,
    "start_time": "2023-05-14T16:46:25.035Z"
   },
   {
    "duration": 42,
    "start_time": "2023-05-14T16:46:25.043Z"
   },
   {
    "duration": 25,
    "start_time": "2023-05-14T16:46:25.087Z"
   },
   {
    "duration": 35,
    "start_time": "2023-05-14T16:46:25.116Z"
   },
   {
    "duration": 42,
    "start_time": "2023-05-14T16:46:25.153Z"
   },
   {
    "duration": 18,
    "start_time": "2023-05-14T16:46:25.196Z"
   },
   {
    "duration": 11,
    "start_time": "2023-05-14T16:46:25.216Z"
   },
   {
    "duration": 16,
    "start_time": "2023-05-14T16:46:25.229Z"
   },
   {
    "duration": 41,
    "start_time": "2023-05-14T16:46:25.251Z"
   },
   {
    "duration": 12,
    "start_time": "2023-05-14T16:46:25.293Z"
   },
   {
    "duration": 27,
    "start_time": "2023-05-14T16:46:25.306Z"
   },
   {
    "duration": 16,
    "start_time": "2023-05-14T16:46:25.335Z"
   },
   {
    "duration": 36,
    "start_time": "2023-05-14T16:46:25.352Z"
   },
   {
    "duration": 4,
    "start_time": "2023-05-14T16:46:25.390Z"
   },
   {
    "duration": 1586,
    "start_time": "2023-05-14T16:46:25.396Z"
   },
   {
    "duration": 5,
    "start_time": "2023-05-14T16:46:46.827Z"
   },
   {
    "duration": 25,
    "start_time": "2023-05-14T16:46:53.104Z"
   },
   {
    "duration": 50,
    "start_time": "2023-05-15T09:54:47.773Z"
   },
   {
    "duration": 1470,
    "start_time": "2023-05-15T09:54:51.335Z"
   },
   {
    "duration": 117,
    "start_time": "2023-05-15T09:54:52.808Z"
   },
   {
    "duration": 18,
    "start_time": "2023-05-15T09:54:52.929Z"
   },
   {
    "duration": 25,
    "start_time": "2023-05-15T09:54:52.950Z"
   },
   {
    "duration": 17,
    "start_time": "2023-05-15T09:54:52.990Z"
   },
   {
    "duration": 18,
    "start_time": "2023-05-15T09:54:53.008Z"
   },
   {
    "duration": 729,
    "start_time": "2023-05-15T09:54:53.028Z"
   },
   {
    "duration": 263,
    "start_time": "2023-05-15T09:54:53.759Z"
   },
   {
    "duration": 9,
    "start_time": "2023-05-15T09:54:54.024Z"
   },
   {
    "duration": 20,
    "start_time": "2023-05-15T09:54:54.036Z"
   },
   {
    "duration": 29,
    "start_time": "2023-05-15T09:54:54.057Z"
   },
   {
    "duration": 14,
    "start_time": "2023-05-15T09:54:54.088Z"
   },
   {
    "duration": 84,
    "start_time": "2023-05-15T09:54:54.106Z"
   },
   {
    "duration": 18,
    "start_time": "2023-05-15T09:54:54.193Z"
   },
   {
    "duration": 82,
    "start_time": "2023-05-15T09:54:54.213Z"
   },
   {
    "duration": 40,
    "start_time": "2023-05-15T09:54:54.303Z"
   },
   {
    "duration": 3363,
    "start_time": "2023-05-15T09:54:54.345Z"
   },
   {
    "duration": 124,
    "start_time": "2023-05-15T09:54:57.710Z"
   },
   {
    "duration": 13,
    "start_time": "2023-05-15T09:54:57.836Z"
   },
   {
    "duration": 62,
    "start_time": "2023-05-15T09:54:57.851Z"
   },
   {
    "duration": 11,
    "start_time": "2023-05-15T09:54:57.916Z"
   },
   {
    "duration": 29,
    "start_time": "2023-05-15T09:54:57.929Z"
   },
   {
    "duration": 7,
    "start_time": "2023-05-15T09:54:57.960Z"
   },
   {
    "duration": 381,
    "start_time": "2023-05-15T09:54:57.969Z"
   },
   {
    "duration": 69,
    "start_time": "2023-05-15T09:54:58.353Z"
   },
   {
    "duration": 15,
    "start_time": "2023-05-15T09:54:58.424Z"
   },
   {
    "duration": 24,
    "start_time": "2023-05-15T09:54:58.441Z"
   },
   {
    "duration": 6,
    "start_time": "2023-05-15T09:54:58.470Z"
   },
   {
    "duration": 267,
    "start_time": "2023-05-15T09:54:58.478Z"
   },
   {
    "duration": 260,
    "start_time": "2023-05-15T09:54:58.747Z"
   },
   {
    "duration": 69,
    "start_time": "2023-05-15T09:54:59.008Z"
   },
   {
    "duration": 12,
    "start_time": "2023-05-15T09:54:59.079Z"
   },
   {
    "duration": 48,
    "start_time": "2023-05-15T09:54:59.093Z"
   },
   {
    "duration": 5,
    "start_time": "2023-05-15T09:54:59.143Z"
   },
   {
    "duration": 2062,
    "start_time": "2023-05-15T09:54:59.150Z"
   },
   {
    "duration": 73,
    "start_time": "2023-05-15T09:55:01.215Z"
   },
   {
    "duration": 14,
    "start_time": "2023-05-15T09:55:01.290Z"
   },
   {
    "duration": 44,
    "start_time": "2023-05-15T09:55:01.305Z"
   },
   {
    "duration": 31,
    "start_time": "2023-05-15T09:55:01.351Z"
   },
   {
    "duration": 99,
    "start_time": "2023-05-15T09:55:01.384Z"
   },
   {
    "duration": 224,
    "start_time": "2023-05-15T09:55:01.485Z"
   },
   {
    "duration": 64,
    "start_time": "2023-05-15T09:55:01.711Z"
   },
   {
    "duration": 91,
    "start_time": "2023-05-15T09:55:01.778Z"
   },
   {
    "duration": 36,
    "start_time": "2023-05-15T09:55:01.871Z"
   },
   {
    "duration": 65,
    "start_time": "2023-05-15T09:55:01.909Z"
   },
   {
    "duration": 19,
    "start_time": "2023-05-15T09:55:04.918Z"
   },
   {
    "duration": 13,
    "start_time": "2023-05-15T09:55:19.457Z"
   },
   {
    "duration": 12,
    "start_time": "2023-05-15T09:55:23.719Z"
   },
   {
    "duration": 12,
    "start_time": "2023-05-15T09:55:27.631Z"
   },
   {
    "duration": 12,
    "start_time": "2023-05-15T09:55:43.366Z"
   },
   {
    "duration": 25,
    "start_time": "2023-05-15T09:55:56.269Z"
   },
   {
    "duration": 41,
    "start_time": "2023-05-15T09:56:00.099Z"
   },
   {
    "duration": 12,
    "start_time": "2023-05-15T09:56:05.218Z"
   },
   {
    "duration": 21,
    "start_time": "2023-05-15T09:56:07.986Z"
   },
   {
    "duration": 13,
    "start_time": "2023-05-15T09:56:10.162Z"
   },
   {
    "duration": 18,
    "start_time": "2023-05-15T09:56:13.939Z"
   },
   {
    "duration": 11,
    "start_time": "2023-05-15T09:56:16.138Z"
   },
   {
    "duration": 15,
    "start_time": "2023-05-15T09:56:17.666Z"
   },
   {
    "duration": 34,
    "start_time": "2023-05-15T09:56:19.655Z"
   },
   {
    "duration": 17,
    "start_time": "2023-05-15T09:56:22.312Z"
   },
   {
    "duration": 12,
    "start_time": "2023-05-15T09:56:24.297Z"
   },
   {
    "duration": 5,
    "start_time": "2023-05-15T09:56:26.400Z"
   },
   {
    "duration": 1627,
    "start_time": "2023-05-15T09:56:27.595Z"
   },
   {
    "duration": 5,
    "start_time": "2023-05-15T09:56:33.563Z"
   },
   {
    "duration": 484,
    "start_time": "2023-05-15T10:41:16.916Z"
   },
   {
    "duration": 13,
    "start_time": "2023-05-15T10:41:37.288Z"
   },
   {
    "duration": 12,
    "start_time": "2023-05-15T10:41:45.048Z"
   },
   {
    "duration": 145,
    "start_time": "2023-05-15T10:41:50.641Z"
   },
   {
    "duration": 8,
    "start_time": "2023-05-15T10:41:58.124Z"
   },
   {
    "duration": 9,
    "start_time": "2023-05-15T10:42:05.720Z"
   },
   {
    "duration": 356,
    "start_time": "2023-05-15T10:54:09.995Z"
   },
   {
    "duration": 5,
    "start_time": "2023-05-15T10:54:45.274Z"
   },
   {
    "duration": 88,
    "start_time": "2023-05-15T10:54:51.701Z"
   },
   {
    "duration": 43,
    "start_time": "2023-05-15T10:55:38.976Z"
   },
   {
    "duration": 73,
    "start_time": "2023-05-15T10:56:21.721Z"
   },
   {
    "duration": 108,
    "start_time": "2023-05-15T10:56:34.481Z"
   },
   {
    "duration": 555,
    "start_time": "2023-05-15T10:58:02.864Z"
   },
   {
    "duration": 36,
    "start_time": "2023-05-15T10:58:15.273Z"
   },
   {
    "duration": 107,
    "start_time": "2023-05-15T10:58:21.184Z"
   },
   {
    "duration": 34,
    "start_time": "2023-05-15T10:59:33.415Z"
   },
   {
    "duration": 102,
    "start_time": "2023-05-15T11:02:17.182Z"
   },
   {
    "duration": 94,
    "start_time": "2023-05-15T11:02:23.302Z"
   },
   {
    "duration": 73,
    "start_time": "2023-05-15T11:02:32.918Z"
   },
   {
    "duration": 60,
    "start_time": "2023-05-15T11:03:57.528Z"
   },
   {
    "duration": 35,
    "start_time": "2023-05-15T11:05:50.749Z"
   },
   {
    "duration": 79,
    "start_time": "2023-05-15T11:05:55.411Z"
   },
   {
    "duration": 52,
    "start_time": "2023-05-15T11:36:18.837Z"
   },
   {
    "duration": 221,
    "start_time": "2023-05-15T11:39:51.267Z"
   },
   {
    "duration": 43,
    "start_time": "2023-05-15T11:40:04.555Z"
   },
   {
    "duration": 133,
    "start_time": "2023-05-15T11:41:52.258Z"
   },
   {
    "duration": 90,
    "start_time": "2023-05-15T11:42:00.625Z"
   },
   {
    "duration": 100,
    "start_time": "2023-05-15T11:42:05.689Z"
   },
   {
    "duration": 102,
    "start_time": "2023-05-15T11:42:42.094Z"
   },
   {
    "duration": 16,
    "start_time": "2023-05-15T12:28:59.298Z"
   },
   {
    "duration": 4,
    "start_time": "2023-05-15T12:29:40.235Z"
   },
   {
    "duration": 179,
    "start_time": "2023-05-15T12:29:50.509Z"
   },
   {
    "duration": 64,
    "start_time": "2023-05-15T12:29:57.137Z"
   },
   {
    "duration": 13,
    "start_time": "2023-05-15T12:30:09.218Z"
   },
   {
    "duration": 39,
    "start_time": "2023-05-15T12:30:14.850Z"
   },
   {
    "duration": 13,
    "start_time": "2023-05-15T12:30:25.265Z"
   },
   {
    "duration": 239,
    "start_time": "2023-05-15T12:41:53.828Z"
   },
   {
    "duration": 10034,
    "start_time": "2023-05-15T12:42:01.165Z"
   },
   {
    "duration": 314613,
    "start_time": "2023-05-15T12:43:01.891Z"
   },
   {
    "duration": 314504,
    "start_time": "2023-05-15T13:07:04.285Z"
   },
   {
    "duration": 4,
    "start_time": "2023-05-15T13:19:39.152Z"
   },
   {
    "duration": 5,
    "start_time": "2023-05-15T13:19:49.551Z"
   },
   {
    "duration": 13,
    "start_time": "2023-05-15T13:19:55.089Z"
   },
   {
    "duration": 17,
    "start_time": "2023-05-15T13:20:11.681Z"
   },
   {
    "duration": 10,
    "start_time": "2023-05-15T13:20:20.655Z"
   },
   {
    "duration": 1470,
    "start_time": "2023-05-15T13:20:26.391Z"
   },
   {
    "duration": 227,
    "start_time": "2023-05-15T13:20:34.255Z"
   },
   {
    "duration": 13,
    "start_time": "2023-05-15T13:20:38.176Z"
   },
   {
    "duration": 19,
    "start_time": "2023-05-15T13:20:51.736Z"
   },
   {
    "duration": 13,
    "start_time": "2023-05-15T13:20:56.928Z"
   },
   {
    "duration": 11,
    "start_time": "2023-05-15T13:21:01.527Z"
   },
   {
    "duration": 10,
    "start_time": "2023-05-15T13:21:06.223Z"
   },
   {
    "duration": 16,
    "start_time": "2023-05-15T13:21:12.035Z"
   },
   {
    "duration": 11,
    "start_time": "2023-05-15T13:21:17.424Z"
   },
   {
    "duration": 14,
    "start_time": "2023-05-15T13:21:20.793Z"
   },
   {
    "duration": 11,
    "start_time": "2023-05-15T13:21:23.639Z"
   },
   {
    "duration": 12,
    "start_time": "2023-05-15T13:21:27.318Z"
   },
   {
    "duration": 13,
    "start_time": "2023-05-15T13:21:31.551Z"
   },
   {
    "duration": 11,
    "start_time": "2023-05-15T13:21:36.023Z"
   },
   {
    "duration": 12,
    "start_time": "2023-05-15T13:21:39.678Z"
   },
   {
    "duration": 12,
    "start_time": "2023-05-15T13:21:44.631Z"
   },
   {
    "duration": 10,
    "start_time": "2023-05-15T13:21:47.735Z"
   },
   {
    "duration": 12,
    "start_time": "2023-05-15T13:22:16.342Z"
   },
   {
    "duration": 11,
    "start_time": "2023-05-15T13:22:30.742Z"
   },
   {
    "duration": 34,
    "start_time": "2023-05-15T13:22:35.125Z"
   },
   {
    "duration": 32,
    "start_time": "2023-05-15T13:22:43.783Z"
   },
   {
    "duration": 30,
    "start_time": "2023-05-15T13:22:54.919Z"
   },
   {
    "duration": 10,
    "start_time": "2023-05-15T13:22:59.185Z"
   },
   {
    "duration": 12,
    "start_time": "2023-05-15T13:24:21.277Z"
   },
   {
    "duration": 6,
    "start_time": "2023-05-15T13:24:38.441Z"
   },
   {
    "duration": 71,
    "start_time": "2023-05-15T13:24:38.456Z"
   },
   {
    "duration": 14,
    "start_time": "2023-05-15T13:24:38.529Z"
   },
   {
    "duration": 45,
    "start_time": "2023-05-15T13:24:38.544Z"
   },
   {
    "duration": 11,
    "start_time": "2023-05-15T13:24:38.591Z"
   },
   {
    "duration": 5,
    "start_time": "2023-05-15T13:24:38.606Z"
   },
   {
    "duration": 759,
    "start_time": "2023-05-15T13:24:38.614Z"
   },
   {
    "duration": 238,
    "start_time": "2023-05-15T13:24:39.374Z"
   },
   {
    "duration": 6,
    "start_time": "2023-05-15T13:24:39.614Z"
   },
   {
    "duration": 6,
    "start_time": "2023-05-15T13:24:39.622Z"
   },
   {
    "duration": 19,
    "start_time": "2023-05-15T13:24:39.630Z"
   },
   {
    "duration": 38,
    "start_time": "2023-05-15T13:24:39.651Z"
   },
   {
    "duration": 43,
    "start_time": "2023-05-15T13:24:39.691Z"
   },
   {
    "duration": 14,
    "start_time": "2023-05-15T13:24:39.736Z"
   },
   {
    "duration": 61,
    "start_time": "2023-05-15T13:24:39.754Z"
   },
   {
    "duration": 29,
    "start_time": "2023-05-15T13:24:39.816Z"
   },
   {
    "duration": 3278,
    "start_time": "2023-05-15T13:24:39.848Z"
   },
   {
    "duration": 47,
    "start_time": "2023-05-15T13:24:43.128Z"
   },
   {
    "duration": 22,
    "start_time": "2023-05-15T13:24:43.177Z"
   },
   {
    "duration": 64,
    "start_time": "2023-05-15T13:24:43.201Z"
   },
   {
    "duration": 11,
    "start_time": "2023-05-15T13:24:43.267Z"
   },
   {
    "duration": 22,
    "start_time": "2023-05-15T13:24:43.280Z"
   },
   {
    "duration": 6,
    "start_time": "2023-05-15T13:24:43.304Z"
   },
   {
    "duration": 306,
    "start_time": "2023-05-15T13:24:43.312Z"
   },
   {
    "duration": 33,
    "start_time": "2023-05-15T13:24:43.620Z"
   },
   {
    "duration": 13,
    "start_time": "2023-05-15T13:24:43.655Z"
   },
   {
    "duration": 30,
    "start_time": "2023-05-15T13:24:43.670Z"
   },
   {
    "duration": 6,
    "start_time": "2023-05-15T13:24:43.702Z"
   },
   {
    "duration": 363,
    "start_time": "2023-05-15T13:24:43.709Z"
   },
   {
    "duration": 242,
    "start_time": "2023-05-15T13:24:44.074Z"
   },
   {
    "duration": 38,
    "start_time": "2023-05-15T13:24:44.318Z"
   },
   {
    "duration": 12,
    "start_time": "2023-05-15T13:24:44.358Z"
   },
   {
    "duration": 43,
    "start_time": "2023-05-15T13:24:44.372Z"
   },
   {
    "duration": 5,
    "start_time": "2023-05-15T13:24:44.417Z"
   },
   {
    "duration": 1876,
    "start_time": "2023-05-15T13:24:44.423Z"
   },
   {
    "duration": 39,
    "start_time": "2023-05-15T13:24:46.301Z"
   },
   {
    "duration": 13,
    "start_time": "2023-05-15T13:24:46.342Z"
   },
   {
    "duration": 40,
    "start_time": "2023-05-15T13:24:46.357Z"
   },
   {
    "duration": 12,
    "start_time": "2023-05-15T13:24:46.399Z"
   },
   {
    "duration": 11,
    "start_time": "2023-05-15T13:24:52.496Z"
   },
   {
    "duration": 12,
    "start_time": "2023-05-15T13:25:08.844Z"
   },
   {
    "duration": 12,
    "start_time": "2023-05-15T13:25:27.226Z"
   },
   {
    "duration": 15,
    "start_time": "2023-05-15T13:25:36.622Z"
   },
   {
    "duration": 12,
    "start_time": "2023-05-15T13:25:47.832Z"
   },
   {
    "duration": 11,
    "start_time": "2023-05-15T13:25:50.817Z"
   },
   {
    "duration": 10,
    "start_time": "2023-05-15T13:25:58.433Z"
   },
   {
    "duration": 7,
    "start_time": "2023-05-15T13:26:03.641Z"
   },
   {
    "duration": 15,
    "start_time": "2023-05-15T13:26:04.897Z"
   },
   {
    "duration": 12,
    "start_time": "2023-05-15T13:26:06.736Z"
   },
   {
    "duration": 12,
    "start_time": "2023-05-15T13:26:09.978Z"
   },
   {
    "duration": 12,
    "start_time": "2023-05-15T13:26:12.952Z"
   },
   {
    "duration": 12,
    "start_time": "2023-05-15T13:26:17.230Z"
   },
   {
    "duration": 10,
    "start_time": "2023-05-15T13:26:24.200Z"
   },
   {
    "duration": 5,
    "start_time": "2023-05-15T13:26:57.278Z"
   },
   {
    "duration": 59,
    "start_time": "2023-05-15T13:26:57.285Z"
   },
   {
    "duration": 14,
    "start_time": "2023-05-15T13:26:57.346Z"
   },
   {
    "duration": 29,
    "start_time": "2023-05-15T13:26:57.363Z"
   },
   {
    "duration": 10,
    "start_time": "2023-05-15T13:26:57.393Z"
   },
   {
    "duration": 7,
    "start_time": "2023-05-15T13:26:57.404Z"
   },
   {
    "duration": 748,
    "start_time": "2023-05-15T13:26:57.412Z"
   },
   {
    "duration": 247,
    "start_time": "2023-05-15T13:26:58.162Z"
   },
   {
    "duration": 7,
    "start_time": "2023-05-15T13:26:58.411Z"
   },
   {
    "duration": 15,
    "start_time": "2023-05-15T13:26:58.421Z"
   },
   {
    "duration": 26,
    "start_time": "2023-05-15T13:26:58.438Z"
   },
   {
    "duration": 23,
    "start_time": "2023-05-15T13:26:58.466Z"
   },
   {
    "duration": 45,
    "start_time": "2023-05-15T13:26:58.491Z"
   },
   {
    "duration": 13,
    "start_time": "2023-05-15T13:26:58.538Z"
   },
   {
    "duration": 74,
    "start_time": "2023-05-15T13:26:58.553Z"
   },
   {
    "duration": 29,
    "start_time": "2023-05-15T13:26:58.628Z"
   },
   {
    "duration": 3264,
    "start_time": "2023-05-15T13:26:58.659Z"
   },
   {
    "duration": 48,
    "start_time": "2023-05-15T13:27:01.925Z"
   },
   {
    "duration": 18,
    "start_time": "2023-05-15T13:27:01.975Z"
   },
   {
    "duration": 75,
    "start_time": "2023-05-15T13:27:01.995Z"
   },
   {
    "duration": 12,
    "start_time": "2023-05-15T13:27:02.072Z"
   },
   {
    "duration": 42,
    "start_time": "2023-05-15T13:27:02.086Z"
   },
   {
    "duration": 24,
    "start_time": "2023-05-15T13:27:02.130Z"
   },
   {
    "duration": 295,
    "start_time": "2023-05-15T13:27:02.156Z"
   },
   {
    "duration": 39,
    "start_time": "2023-05-15T13:27:02.452Z"
   },
   {
    "duration": 14,
    "start_time": "2023-05-15T13:27:02.493Z"
   },
   {
    "duration": 25,
    "start_time": "2023-05-15T13:27:02.509Z"
   },
   {
    "duration": 13,
    "start_time": "2023-05-15T13:27:02.538Z"
   },
   {
    "duration": 267,
    "start_time": "2023-05-15T13:27:02.553Z"
   },
   {
    "duration": 295,
    "start_time": "2023-05-15T13:27:02.822Z"
   },
   {
    "duration": 39,
    "start_time": "2023-05-15T13:27:03.119Z"
   },
   {
    "duration": 13,
    "start_time": "2023-05-15T13:27:03.160Z"
   },
   {
    "duration": 43,
    "start_time": "2023-05-15T13:27:03.174Z"
   },
   {
    "duration": 5,
    "start_time": "2023-05-15T13:27:03.219Z"
   },
   {
    "duration": 2075,
    "start_time": "2023-05-15T13:27:03.226Z"
   },
   {
    "duration": 40,
    "start_time": "2023-05-15T13:27:05.303Z"
   },
   {
    "duration": 14,
    "start_time": "2023-05-15T13:27:05.344Z"
   },
   {
    "duration": 33,
    "start_time": "2023-05-15T13:27:05.360Z"
   },
   {
    "duration": 13,
    "start_time": "2023-05-15T13:27:05.395Z"
   },
   {
    "duration": 11,
    "start_time": "2023-05-15T13:27:05.410Z"
   },
   {
    "duration": 18,
    "start_time": "2023-05-15T13:27:05.423Z"
   },
   {
    "duration": 15,
    "start_time": "2023-05-15T13:27:05.443Z"
   },
   {
    "duration": 41,
    "start_time": "2023-05-15T13:27:05.460Z"
   },
   {
    "duration": 17,
    "start_time": "2023-05-15T13:27:05.503Z"
   },
   {
    "duration": 17,
    "start_time": "2023-05-15T13:27:05.522Z"
   },
   {
    "duration": 32,
    "start_time": "2023-05-15T13:27:05.541Z"
   },
   {
    "duration": 24,
    "start_time": "2023-05-15T13:27:05.575Z"
   },
   {
    "duration": 92,
    "start_time": "2023-05-15T13:27:05.601Z"
   },
   {
    "duration": 42,
    "start_time": "2023-05-15T13:27:05.695Z"
   },
   {
    "duration": 21,
    "start_time": "2023-05-15T13:27:05.739Z"
   },
   {
    "duration": 13,
    "start_time": "2023-05-15T13:27:05.761Z"
   },
   {
    "duration": 21,
    "start_time": "2023-05-15T13:27:05.776Z"
   },
   {
    "duration": 11,
    "start_time": "2023-05-15T13:27:05.799Z"
   },
   {
    "duration": 16,
    "start_time": "2023-05-15T13:27:05.812Z"
   },
   {
    "duration": 33,
    "start_time": "2023-05-15T13:27:05.830Z"
   },
   {
    "duration": 18,
    "start_time": "2023-05-15T13:27:05.887Z"
   },
   {
    "duration": 13,
    "start_time": "2023-05-15T13:27:05.907Z"
   },
   {
    "duration": 4,
    "start_time": "2023-05-15T13:27:05.922Z"
   },
   {
    "duration": 1838,
    "start_time": "2023-05-15T13:27:05.928Z"
   },
   {
    "duration": 5,
    "start_time": "2023-05-15T13:27:07.768Z"
   },
   {
    "duration": 18,
    "start_time": "2023-05-15T13:27:07.775Z"
   },
   {
    "duration": 72,
    "start_time": "2023-05-15T13:27:10.616Z"
   },
   {
    "duration": 319076,
    "start_time": "2023-05-15T13:27:15.219Z"
   },
   {
    "duration": 59085,
    "start_time": "2023-05-15T13:43:33.988Z"
   },
   {
    "duration": 58981,
    "start_time": "2023-05-15T13:45:38.636Z"
   },
   {
    "duration": 59162,
    "start_time": "2023-05-15T13:47:15.226Z"
   },
   {
    "duration": 58701,
    "start_time": "2023-05-15T13:48:21.043Z"
   },
   {
    "duration": 323248,
    "start_time": "2023-05-15T13:52:28.415Z"
   },
   {
    "duration": 14,
    "start_time": "2023-05-15T14:05:01.617Z"
   },
   {
    "duration": 12,
    "start_time": "2023-05-15T14:05:15.836Z"
   },
   {
    "duration": 4,
    "start_time": "2023-05-15T14:05:28.001Z"
   },
   {
    "duration": 4,
    "start_time": "2023-05-15T14:05:37.241Z"
   },
   {
    "duration": 6828,
    "start_time": "2023-05-15T14:05:58.776Z"
   },
   {
    "duration": 175528,
    "start_time": "2023-05-15T14:06:38.673Z"
   },
   {
    "duration": 99566,
    "start_time": "2023-05-15T14:10:57.934Z"
   },
   {
    "duration": 23439,
    "start_time": "2023-05-15T14:19:13.391Z"
   },
   {
    "duration": 22803,
    "start_time": "2023-05-15T14:20:00.299Z"
   },
   {
    "duration": 22213,
    "start_time": "2023-05-15T14:20:42.433Z"
   },
   {
    "duration": 56229,
    "start_time": "2023-05-15T14:21:05.400Z"
   },
   {
    "duration": 27381,
    "start_time": "2023-05-15T14:22:07.761Z"
   },
   {
    "duration": 6,
    "start_time": "2023-05-15T14:31:30.397Z"
   },
   {
    "duration": 146,
    "start_time": "2023-05-15T14:53:34.473Z"
   },
   {
    "duration": 4335,
    "start_time": "2023-05-15T14:54:23.273Z"
   },
   {
    "duration": 16,
    "start_time": "2023-05-15T14:55:51.327Z"
   },
   {
    "duration": 7,
    "start_time": "2023-05-15T15:00:59.046Z"
   },
   {
    "duration": 12,
    "start_time": "2023-05-15T15:12:25.841Z"
   },
   {
    "duration": 65,
    "start_time": "2023-05-15T15:12:39.209Z"
   },
   {
    "duration": 73,
    "start_time": "2023-05-15T15:13:20.489Z"
   },
   {
    "duration": 13,
    "start_time": "2023-05-15T15:19:11.894Z"
   },
   {
    "duration": 5283,
    "start_time": "2023-05-15T15:20:06.150Z"
   },
   {
    "duration": 11,
    "start_time": "2023-05-15T15:48:52.297Z"
   },
   {
    "duration": 83,
    "start_time": "2023-05-15T15:50:44.933Z"
   },
   {
    "duration": 3,
    "start_time": "2023-05-15T15:50:56.163Z"
   },
   {
    "duration": 13,
    "start_time": "2023-05-15T15:50:57.445Z"
   },
   {
    "duration": 4,
    "start_time": "2023-05-15T15:51:10.228Z"
   },
   {
    "duration": 14,
    "start_time": "2023-05-15T15:51:11.303Z"
   },
   {
    "duration": 6,
    "start_time": "2023-05-15T15:51:19.301Z"
   },
   {
    "duration": 14,
    "start_time": "2023-05-15T15:51:20.103Z"
   },
   {
    "duration": 3,
    "start_time": "2023-05-15T15:51:43.345Z"
   },
   {
    "duration": 31,
    "start_time": "2023-05-15T15:51:44.268Z"
   },
   {
    "duration": 20,
    "start_time": "2023-05-15T15:51:54.220Z"
   },
   {
    "duration": 4,
    "start_time": "2023-05-15T15:52:22.427Z"
   },
   {
    "duration": 21,
    "start_time": "2023-05-15T15:52:22.619Z"
   },
   {
    "duration": 18,
    "start_time": "2023-05-15T16:06:27.815Z"
   },
   {
    "duration": 14,
    "start_time": "2023-05-15T16:06:42.548Z"
   },
   {
    "duration": 1864,
    "start_time": "2023-05-15T16:06:49.940Z"
   },
   {
    "duration": 3203,
    "start_time": "2023-05-15T16:06:57.476Z"
   },
   {
    "duration": 2413,
    "start_time": "2023-05-15T16:08:35.107Z"
   },
   {
    "duration": 1130,
    "start_time": "2023-05-15T16:11:28.329Z"
   },
   {
    "duration": 2382,
    "start_time": "2023-05-15T16:11:39.057Z"
   },
   {
    "duration": 5,
    "start_time": "2023-05-15T16:22:38.004Z"
   },
   {
    "duration": 15,
    "start_time": "2023-05-15T16:22:46.432Z"
   },
   {
    "duration": 73,
    "start_time": "2023-05-15T16:24:03.856Z"
   },
   {
    "duration": 10,
    "start_time": "2023-05-15T16:24:07.499Z"
   },
   {
    "duration": 18,
    "start_time": "2023-05-15T16:24:28.608Z"
   },
   {
    "duration": 29,
    "start_time": "2023-05-15T16:25:00.373Z"
   },
   {
    "duration": 27,
    "start_time": "2023-05-15T16:25:22.595Z"
   },
   {
    "duration": 30,
    "start_time": "2023-05-15T16:25:39.401Z"
   },
   {
    "duration": 22,
    "start_time": "2023-05-15T16:26:04.827Z"
   },
   {
    "duration": 31,
    "start_time": "2023-05-15T16:26:09.272Z"
   },
   {
    "duration": 29,
    "start_time": "2023-05-15T16:26:46.322Z"
   },
   {
    "duration": 32,
    "start_time": "2023-05-15T16:27:15.302Z"
   },
   {
    "duration": 15,
    "start_time": "2023-05-15T16:27:26.121Z"
   },
   {
    "duration": 13,
    "start_time": "2023-05-15T16:27:29.775Z"
   },
   {
    "duration": 21,
    "start_time": "2023-05-15T16:28:11.533Z"
   },
   {
    "duration": 37,
    "start_time": "2023-05-15T16:28:26.293Z"
   },
   {
    "duration": 14,
    "start_time": "2023-05-15T16:29:38.000Z"
   },
   {
    "duration": 91,
    "start_time": "2023-05-15T16:29:49.771Z"
   },
   {
    "duration": 29,
    "start_time": "2023-05-15T16:29:56.073Z"
   },
   {
    "duration": 20,
    "start_time": "2023-05-15T16:30:10.894Z"
   },
   {
    "duration": 69,
    "start_time": "2023-05-15T16:31:21.824Z"
   },
   {
    "duration": 31,
    "start_time": "2023-05-15T16:31:24.767Z"
   },
   {
    "duration": 28,
    "start_time": "2023-05-15T16:31:30.609Z"
   },
   {
    "duration": 15,
    "start_time": "2023-05-15T16:32:11.135Z"
   },
   {
    "duration": 29,
    "start_time": "2023-05-15T16:34:41.630Z"
   },
   {
    "duration": 18,
    "start_time": "2023-05-15T16:35:04.342Z"
   },
   {
    "duration": 22,
    "start_time": "2023-05-15T16:36:54.469Z"
   },
   {
    "duration": 22,
    "start_time": "2023-05-15T16:37:01.502Z"
   },
   {
    "duration": 19,
    "start_time": "2023-05-15T16:37:05.133Z"
   },
   {
    "duration": 20,
    "start_time": "2023-05-15T16:37:29.124Z"
   },
   {
    "duration": 15,
    "start_time": "2023-05-15T16:37:33.853Z"
   },
   {
    "duration": 16,
    "start_time": "2023-05-15T16:37:42.532Z"
   },
   {
    "duration": 16,
    "start_time": "2023-05-15T16:37:47.628Z"
   },
   {
    "duration": 24,
    "start_time": "2023-05-15T16:37:53.054Z"
   },
   {
    "duration": 16,
    "start_time": "2023-05-15T16:37:56.664Z"
   },
   {
    "duration": 26,
    "start_time": "2023-05-15T16:39:03.211Z"
   },
   {
    "duration": 20,
    "start_time": "2023-05-15T16:39:13.339Z"
   },
   {
    "duration": 9,
    "start_time": "2023-05-15T16:39:30.043Z"
   },
   {
    "duration": 20,
    "start_time": "2023-05-15T16:39:40.171Z"
   },
   {
    "duration": 14,
    "start_time": "2023-05-15T16:41:43.505Z"
   },
   {
    "duration": 43,
    "start_time": "2023-05-15T16:42:07.961Z"
   },
   {
    "duration": 18,
    "start_time": "2023-05-15T16:42:22.638Z"
   },
   {
    "duration": 15,
    "start_time": "2023-05-15T16:42:25.134Z"
   },
   {
    "duration": 6,
    "start_time": "2023-05-15T16:42:29.505Z"
   },
   {
    "duration": 14,
    "start_time": "2023-05-15T16:42:30.758Z"
   },
   {
    "duration": 2171,
    "start_time": "2023-05-15T16:42:33.078Z"
   },
   {
    "duration": 10,
    "start_time": "2023-05-15T16:43:52.023Z"
   },
   {
    "duration": 181,
    "start_time": "2023-05-15T16:43:54.938Z"
   },
   {
    "duration": 26363,
    "start_time": "2023-05-15T16:44:02.421Z"
   },
   {
    "duration": 389548,
    "start_time": "2023-05-15T16:44:38.964Z"
   },
   {
    "duration": 1220286,
    "start_time": "2023-05-15T16:51:12.831Z"
   },
   {
    "duration": 51,
    "start_time": "2023-05-15T17:11:42.567Z"
   },
   {
    "duration": 93,
    "start_time": "2023-05-15T17:11:44.516Z"
   },
   {
    "duration": 75536,
    "start_time": "2023-05-15T17:11:48.921Z"
   },
   {
    "duration": 5994,
    "start_time": "2023-05-15T17:14:10.216Z"
   },
   {
    "duration": 95049,
    "start_time": "2023-05-15T17:14:29.741Z"
   },
   {
    "duration": 10,
    "start_time": "2023-05-15T17:16:04.794Z"
   },
   {
    "duration": 6,
    "start_time": "2023-05-15T17:16:34.553Z"
   },
   {
    "duration": 12,
    "start_time": "2023-05-15T17:16:48.633Z"
   },
   {
    "duration": 3432,
    "start_time": "2023-05-15T17:17:04.330Z"
   },
   {
    "duration": 7,
    "start_time": "2023-05-15T17:18:17.849Z"
   },
   {
    "duration": 14,
    "start_time": "2023-05-15T17:18:28.907Z"
   },
   {
    "duration": 18,
    "start_time": "2023-05-15T17:18:35.345Z"
   },
   {
    "duration": 17,
    "start_time": "2023-05-15T17:19:12.131Z"
   },
   {
    "duration": 14,
    "start_time": "2023-05-15T17:19:38.207Z"
   },
   {
    "duration": 493,
    "start_time": "2023-05-15T17:20:18.032Z"
   },
   {
    "duration": 377,
    "start_time": "2023-05-15T17:20:25.482Z"
   },
   {
    "duration": 384,
    "start_time": "2023-05-15T17:20:34.246Z"
   },
   {
    "duration": 543,
    "start_time": "2023-05-15T17:20:40.144Z"
   },
   {
    "duration": 409,
    "start_time": "2023-05-15T17:22:44.904Z"
   },
   {
    "duration": 410,
    "start_time": "2023-05-15T17:22:53.037Z"
   },
   {
    "duration": 424,
    "start_time": "2023-05-15T17:22:57.204Z"
   },
   {
    "duration": 397,
    "start_time": "2023-05-15T17:24:47.420Z"
   },
   {
    "duration": 473,
    "start_time": "2023-05-15T17:25:03.728Z"
   },
   {
    "duration": 452,
    "start_time": "2023-05-15T17:25:16.053Z"
   },
   {
    "duration": 488,
    "start_time": "2023-05-15T17:25:40.277Z"
   },
   {
    "duration": 1357,
    "start_time": "2023-05-15T17:25:51.111Z"
   },
   {
    "duration": 26,
    "start_time": "2023-05-15T17:26:01.743Z"
   },
   {
    "duration": 14,
    "start_time": "2023-05-15T17:26:05.343Z"
   },
   {
    "duration": 422,
    "start_time": "2023-05-15T17:26:38.620Z"
   },
   {
    "duration": 502,
    "start_time": "2023-05-15T17:26:56.918Z"
   },
   {
    "duration": 985,
    "start_time": "2023-05-15T17:27:09.446Z"
   },
   {
    "duration": 26,
    "start_time": "2023-05-15T17:27:14.258Z"
   },
   {
    "duration": 13,
    "start_time": "2023-05-15T17:27:17.347Z"
   },
   {
    "duration": 498,
    "start_time": "2023-05-15T17:27:22.660Z"
   },
   {
    "duration": 41,
    "start_time": "2023-05-15T17:28:21.901Z"
   },
   {
    "duration": 14,
    "start_time": "2023-05-15T17:28:31.430Z"
   },
   {
    "duration": 5,
    "start_time": "2023-05-15T17:28:37.318Z"
   },
   {
    "duration": 2422,
    "start_time": "2023-05-15T17:28:39.915Z"
   },
   {
    "duration": 18,
    "start_time": "2023-05-15T17:28:49.485Z"
   },
   {
    "duration": 2093,
    "start_time": "2023-05-15T17:28:52.759Z"
   },
   {
    "duration": 5,
    "start_time": "2023-05-15T17:29:20.716Z"
   },
   {
    "duration": 9,
    "start_time": "2023-05-15T17:29:23.677Z"
   },
   {
    "duration": 44,
    "start_time": "2023-05-15T17:29:26.766Z"
   },
   {
    "duration": 111200,
    "start_time": "2023-05-15T17:29:35.863Z"
   },
   {
    "duration": 65497,
    "start_time": "2023-05-15T17:31:38.031Z"
   },
   {
    "duration": 20764,
    "start_time": "2023-05-15T17:33:45.092Z"
   },
   {
    "duration": 161493,
    "start_time": "2023-05-15T17:34:10.008Z"
   },
   {
    "duration": 4,
    "start_time": "2023-05-15T17:38:01.726Z"
   },
   {
    "duration": 14,
    "start_time": "2023-05-15T17:38:03.758Z"
   },
   {
    "duration": 4781,
    "start_time": "2023-05-15T17:48:36.013Z"
   },
   {
    "duration": 11,
    "start_time": "2023-05-15T17:48:47.023Z"
   },
   {
    "duration": 4986,
    "start_time": "2023-05-15T17:48:54.217Z"
   },
   {
    "duration": 2317,
    "start_time": "2023-05-15T17:56:52.518Z"
   },
   {
    "duration": 3,
    "start_time": "2023-05-15T19:23:17.095Z"
   },
   {
    "duration": 49,
    "start_time": "2023-05-15T19:36:43.287Z"
   },
   {
    "duration": 6479,
    "start_time": "2023-05-15T19:36:52.374Z"
   },
   {
    "duration": 2409,
    "start_time": "2023-05-15T19:37:11.935Z"
   },
   {
    "duration": 102,
    "start_time": "2023-05-15T19:37:14.347Z"
   },
   {
    "duration": 14,
    "start_time": "2023-05-15T19:37:14.451Z"
   },
   {
    "duration": 22,
    "start_time": "2023-05-15T19:37:14.466Z"
   },
   {
    "duration": 29,
    "start_time": "2023-05-15T19:37:14.491Z"
   },
   {
    "duration": 19,
    "start_time": "2023-05-15T19:37:14.521Z"
   },
   {
    "duration": 584,
    "start_time": "2023-05-15T19:37:14.541Z"
   },
   {
    "duration": 239,
    "start_time": "2023-05-15T19:37:15.127Z"
   },
   {
    "duration": 6,
    "start_time": "2023-05-15T19:37:15.368Z"
   },
   {
    "duration": 18,
    "start_time": "2023-05-15T19:37:15.376Z"
   },
   {
    "duration": 27,
    "start_time": "2023-05-15T19:37:15.395Z"
   },
   {
    "duration": 27,
    "start_time": "2023-05-15T19:37:15.424Z"
   },
   {
    "duration": 178,
    "start_time": "2023-05-15T19:37:15.453Z"
   },
   {
    "duration": 10,
    "start_time": "2023-05-15T19:37:15.635Z"
   },
   {
    "duration": 88,
    "start_time": "2023-05-15T19:37:15.646Z"
   },
   {
    "duration": 27,
    "start_time": "2023-05-15T19:37:15.735Z"
   },
   {
    "duration": 3185,
    "start_time": "2023-05-15T19:37:15.764Z"
   },
   {
    "duration": 141,
    "start_time": "2023-05-15T19:37:18.951Z"
   },
   {
    "duration": 12,
    "start_time": "2023-05-15T19:37:19.094Z"
   },
   {
    "duration": 147,
    "start_time": "2023-05-15T19:37:19.107Z"
   },
   {
    "duration": 10,
    "start_time": "2023-05-15T19:37:19.256Z"
   },
   {
    "duration": 43,
    "start_time": "2023-05-15T19:37:19.267Z"
   },
   {
    "duration": 17,
    "start_time": "2023-05-15T19:37:19.311Z"
   },
   {
    "duration": 348,
    "start_time": "2023-05-15T19:37:19.329Z"
   },
   {
    "duration": 248,
    "start_time": "2023-05-15T19:37:19.679Z"
   },
   {
    "duration": 11,
    "start_time": "2023-05-15T19:37:19.929Z"
   },
   {
    "duration": 28,
    "start_time": "2023-05-15T19:37:19.941Z"
   },
   {
    "duration": 21,
    "start_time": "2023-05-15T19:37:19.971Z"
   },
   {
    "duration": 256,
    "start_time": "2023-05-15T19:37:19.994Z"
   },
   {
    "duration": 206,
    "start_time": "2023-05-15T19:37:20.252Z"
   },
   {
    "duration": 68,
    "start_time": "2023-05-15T19:37:20.460Z"
   },
   {
    "duration": 11,
    "start_time": "2023-05-15T19:37:20.529Z"
   },
   {
    "duration": 72,
    "start_time": "2023-05-15T19:37:20.542Z"
   },
   {
    "duration": 8,
    "start_time": "2023-05-15T19:37:20.616Z"
   },
   {
    "duration": 2024,
    "start_time": "2023-05-15T19:37:20.625Z"
   },
   {
    "duration": 117,
    "start_time": "2023-05-15T19:37:22.650Z"
   },
   {
    "duration": 12,
    "start_time": "2023-05-15T19:37:22.768Z"
   },
   {
    "duration": 50,
    "start_time": "2023-05-15T19:37:22.782Z"
   },
   {
    "duration": 28,
    "start_time": "2023-05-15T19:37:22.833Z"
   },
   {
    "duration": 46,
    "start_time": "2023-05-15T19:37:22.862Z"
   },
   {
    "duration": 43,
    "start_time": "2023-05-15T19:37:22.913Z"
   },
   {
    "duration": 46,
    "start_time": "2023-05-15T19:37:22.958Z"
   },
   {
    "duration": 39,
    "start_time": "2023-05-15T19:37:23.006Z"
   },
   {
    "duration": 62,
    "start_time": "2023-05-15T19:37:23.047Z"
   },
   {
    "duration": 42,
    "start_time": "2023-05-15T19:37:23.111Z"
   },
   {
    "duration": 58,
    "start_time": "2023-05-15T19:37:23.154Z"
   },
   {
    "duration": 38,
    "start_time": "2023-05-15T19:37:23.214Z"
   },
   {
    "duration": 87,
    "start_time": "2023-05-15T19:37:23.254Z"
   },
   {
    "duration": 14,
    "start_time": "2023-05-15T19:37:23.343Z"
   },
   {
    "duration": 385,
    "start_time": "2023-05-15T19:37:23.358Z"
   },
   {
    "duration": 13,
    "start_time": "2023-05-15T19:37:23.744Z"
   },
   {
    "duration": 56,
    "start_time": "2023-05-15T19:37:23.758Z"
   },
   {
    "duration": 36,
    "start_time": "2023-05-15T19:37:23.816Z"
   },
   {
    "duration": 51,
    "start_time": "2023-05-15T19:37:23.853Z"
   },
   {
    "duration": 31,
    "start_time": "2023-05-15T19:37:23.906Z"
   },
   {
    "duration": 40,
    "start_time": "2023-05-15T19:37:23.939Z"
   },
   {
    "duration": 64,
    "start_time": "2023-05-15T19:37:23.981Z"
   },
   {
    "duration": 20,
    "start_time": "2023-05-15T19:37:24.047Z"
   },
   {
    "duration": 37,
    "start_time": "2023-05-15T19:37:24.069Z"
   },
   {
    "duration": 24,
    "start_time": "2023-05-15T19:37:24.108Z"
   },
   {
    "duration": 2018,
    "start_time": "2023-05-15T19:37:24.133Z"
   },
   {
    "duration": 4,
    "start_time": "2023-05-15T19:37:26.153Z"
   },
   {
    "duration": 24,
    "start_time": "2023-05-15T19:37:26.159Z"
   },
   {
    "duration": 192,
    "start_time": "2023-05-15T19:37:33.743Z"
   },
   {
    "duration": 17942,
    "start_time": "2023-05-15T19:37:48.440Z"
   },
   {
    "duration": 3789,
    "start_time": "2023-05-15T19:38:21.699Z"
   },
   {
    "duration": 6,
    "start_time": "2023-05-15T19:38:29.076Z"
   },
   {
    "duration": 1754,
    "start_time": "2023-05-15T19:38:33.400Z"
   },
   {
    "duration": 2234,
    "start_time": "2023-05-15T19:38:43.790Z"
   },
   {
    "duration": 2464,
    "start_time": "2023-05-15T19:38:58.853Z"
   },
   {
    "duration": 2044,
    "start_time": "2023-05-15T19:39:16.486Z"
   },
   {
    "duration": 3015,
    "start_time": "2023-05-15T19:43:39.848Z"
   },
   {
    "duration": 12,
    "start_time": "2023-05-15T19:44:32.184Z"
   },
   {
    "duration": 12,
    "start_time": "2023-05-15T19:44:47.950Z"
   },
   {
    "duration": 3086,
    "start_time": "2023-05-15T19:45:27.333Z"
   },
   {
    "duration": 2809,
    "start_time": "2023-05-15T19:45:37.099Z"
   },
   {
    "duration": 2874,
    "start_time": "2023-05-15T19:45:44.419Z"
   },
   {
    "duration": 13,
    "start_time": "2023-05-15T19:45:53.483Z"
   },
   {
    "duration": 14,
    "start_time": "2023-05-15T19:46:23.188Z"
   },
   {
    "duration": 12,
    "start_time": "2023-05-15T19:46:28.319Z"
   },
   {
    "duration": 11,
    "start_time": "2023-05-15T19:46:38.623Z"
   },
   {
    "duration": 11,
    "start_time": "2023-05-15T19:46:44.497Z"
   },
   {
    "duration": 12,
    "start_time": "2023-05-15T19:46:48.782Z"
   },
   {
    "duration": 13,
    "start_time": "2023-05-15T19:46:56.500Z"
   },
   {
    "duration": 14,
    "start_time": "2023-05-15T19:48:49.585Z"
   },
   {
    "duration": 12,
    "start_time": "2023-05-15T19:48:53.966Z"
   },
   {
    "duration": 3145,
    "start_time": "2023-05-15T19:48:59.241Z"
   },
   {
    "duration": 12,
    "start_time": "2023-05-15T19:49:05.486Z"
   },
   {
    "duration": 2805,
    "start_time": "2023-05-15T19:49:09.242Z"
   },
   {
    "duration": 18,
    "start_time": "2023-05-15T19:49:57.094Z"
   },
   {
    "duration": 19,
    "start_time": "2023-05-15T19:50:05.613Z"
   },
   {
    "duration": 15,
    "start_time": "2023-05-15T19:50:20.767Z"
   },
   {
    "duration": 18,
    "start_time": "2023-05-15T19:52:14.766Z"
   },
   {
    "duration": 14,
    "start_time": "2023-05-15T19:52:19.093Z"
   },
   {
    "duration": 14,
    "start_time": "2023-05-15T19:54:40.428Z"
   },
   {
    "duration": 14,
    "start_time": "2023-05-15T19:55:18.570Z"
   },
   {
    "duration": 1156,
    "start_time": "2023-05-15T19:55:47.301Z"
   },
   {
    "duration": 1245,
    "start_time": "2023-05-15T19:55:54.592Z"
   },
   {
    "duration": 1261,
    "start_time": "2023-05-15T19:55:59.990Z"
   },
   {
    "duration": 1170,
    "start_time": "2023-05-15T19:56:15.630Z"
   },
   {
    "duration": 2357,
    "start_time": "2023-05-15T19:58:12.637Z"
   },
   {
    "duration": 1411,
    "start_time": "2023-05-15T19:58:23.180Z"
   },
   {
    "duration": 1229,
    "start_time": "2023-05-15T19:58:30.233Z"
   },
   {
    "duration": 1440,
    "start_time": "2023-05-15T20:00:57.621Z"
   },
   {
    "duration": 1526,
    "start_time": "2023-05-15T20:01:02.770Z"
   },
   {
    "duration": 1561,
    "start_time": "2023-05-15T20:02:00.953Z"
   },
   {
    "duration": 2586,
    "start_time": "2023-05-15T20:02:07.343Z"
   },
   {
    "duration": 3151,
    "start_time": "2023-05-15T20:02:40.823Z"
   },
   {
    "duration": 2621,
    "start_time": "2023-05-15T20:02:54.703Z"
   },
   {
    "duration": 2297,
    "start_time": "2023-05-15T20:03:37.241Z"
   },
   {
    "duration": 2266,
    "start_time": "2023-05-15T20:03:56.264Z"
   },
   {
    "duration": 2373,
    "start_time": "2023-05-15T20:04:07.657Z"
   },
   {
    "duration": 2798,
    "start_time": "2023-05-15T20:04:44.033Z"
   },
   {
    "duration": 92,
    "start_time": "2023-05-15T20:09:29.349Z"
   },
   {
    "duration": 2340,
    "start_time": "2023-05-15T20:09:35.791Z"
   },
   {
    "duration": 2381,
    "start_time": "2023-05-15T20:14:34.351Z"
   },
   {
    "duration": 2986,
    "start_time": "2023-05-15T20:14:42.393Z"
   },
   {
    "duration": 3134,
    "start_time": "2023-05-15T20:16:04.660Z"
   },
   {
    "duration": 2820,
    "start_time": "2023-05-15T20:16:26.631Z"
   },
   {
    "duration": 2507,
    "start_time": "2023-05-15T20:16:57.528Z"
   },
   {
    "duration": 2831,
    "start_time": "2023-05-15T20:17:10.010Z"
   },
   {
    "duration": 932,
    "start_time": "2023-05-15T21:07:48.446Z"
   },
   {
    "duration": 1184,
    "start_time": "2023-05-15T21:07:54.455Z"
   },
   {
    "duration": 3015,
    "start_time": "2023-05-15T21:08:05.919Z"
   },
   {
    "duration": 3101,
    "start_time": "2023-05-15T21:21:26.552Z"
   },
   {
    "duration": 671,
    "start_time": "2023-05-15T21:21:55.535Z"
   },
   {
    "duration": 2972,
    "start_time": "2023-05-15T21:22:04.521Z"
   },
   {
    "duration": 5090,
    "start_time": "2023-05-15T22:03:23.176Z"
   },
   {
    "duration": 56,
    "start_time": "2023-05-15T22:03:28.267Z"
   },
   {
    "duration": 12,
    "start_time": "2023-05-15T22:03:28.324Z"
   },
   {
    "duration": 18,
    "start_time": "2023-05-15T22:03:28.338Z"
   },
   {
    "duration": 11,
    "start_time": "2023-05-15T22:03:28.357Z"
   },
   {
    "duration": 26,
    "start_time": "2023-05-15T22:03:28.369Z"
   },
   {
    "duration": 497,
    "start_time": "2023-05-15T22:03:28.396Z"
   },
   {
    "duration": 207,
    "start_time": "2023-05-15T22:03:28.895Z"
   },
   {
    "duration": 5,
    "start_time": "2023-05-15T22:03:29.104Z"
   },
   {
    "duration": 28,
    "start_time": "2023-05-15T22:03:29.111Z"
   },
   {
    "duration": 14,
    "start_time": "2023-05-15T22:03:29.141Z"
   },
   {
    "duration": 6,
    "start_time": "2023-05-15T22:03:29.157Z"
   },
   {
    "duration": 29,
    "start_time": "2023-05-15T22:03:29.164Z"
   },
   {
    "duration": 9,
    "start_time": "2023-05-15T22:03:29.195Z"
   },
   {
    "duration": 52,
    "start_time": "2023-05-15T22:03:29.205Z"
   },
   {
    "duration": 27,
    "start_time": "2023-05-15T22:03:29.259Z"
   },
   {
    "duration": 3142,
    "start_time": "2023-05-15T22:03:29.288Z"
   },
   {
    "duration": 47,
    "start_time": "2023-05-15T22:03:32.432Z"
   },
   {
    "duration": 11,
    "start_time": "2023-05-15T22:03:32.481Z"
   },
   {
    "duration": 68,
    "start_time": "2023-05-15T22:03:32.494Z"
   },
   {
    "duration": 10,
    "start_time": "2023-05-15T22:03:32.563Z"
   },
   {
    "duration": 61,
    "start_time": "2023-05-15T22:03:32.574Z"
   },
   {
    "duration": 29,
    "start_time": "2023-05-15T22:03:32.637Z"
   },
   {
    "duration": 277,
    "start_time": "2023-05-15T22:03:32.668Z"
   },
   {
    "duration": 33,
    "start_time": "2023-05-15T22:03:32.947Z"
   },
   {
    "duration": 10,
    "start_time": "2023-05-15T22:03:32.982Z"
   },
   {
    "duration": 20,
    "start_time": "2023-05-15T22:03:32.994Z"
   },
   {
    "duration": 5,
    "start_time": "2023-05-15T22:03:33.026Z"
   },
   {
    "duration": 242,
    "start_time": "2023-05-15T22:03:33.032Z"
   },
   {
    "duration": 257,
    "start_time": "2023-05-15T22:03:33.276Z"
   },
   {
    "duration": 34,
    "start_time": "2023-05-15T22:03:33.535Z"
   },
   {
    "duration": 9,
    "start_time": "2023-05-15T22:03:33.570Z"
   },
   {
    "duration": 31,
    "start_time": "2023-05-15T22:03:33.581Z"
   },
   {
    "duration": 3,
    "start_time": "2023-05-15T22:03:33.614Z"
   },
   {
    "duration": 1902,
    "start_time": "2023-05-15T22:03:33.624Z"
   },
   {
    "duration": 38,
    "start_time": "2023-05-15T22:03:35.528Z"
   },
   {
    "duration": 11,
    "start_time": "2023-05-15T22:03:35.567Z"
   },
   {
    "duration": 22,
    "start_time": "2023-05-15T22:03:35.579Z"
   },
   {
    "duration": 9,
    "start_time": "2023-05-15T22:03:35.603Z"
   },
   {
    "duration": 18,
    "start_time": "2023-05-15T22:03:35.614Z"
   },
   {
    "duration": 18,
    "start_time": "2023-05-15T22:03:35.633Z"
   },
   {
    "duration": 6,
    "start_time": "2023-05-15T22:03:35.653Z"
   },
   {
    "duration": 24,
    "start_time": "2023-05-15T22:03:35.661Z"
   },
   {
    "duration": 7,
    "start_time": "2023-05-15T22:03:35.687Z"
   },
   {
    "duration": 7,
    "start_time": "2023-05-15T22:03:35.695Z"
   },
   {
    "duration": 27,
    "start_time": "2023-05-15T22:03:35.704Z"
   },
   {
    "duration": 17,
    "start_time": "2023-05-15T22:03:35.733Z"
   },
   {
    "duration": 35,
    "start_time": "2023-05-15T22:03:35.752Z"
   },
   {
    "duration": 10,
    "start_time": "2023-05-15T22:03:35.788Z"
   },
   {
    "duration": 328,
    "start_time": "2023-05-15T22:03:35.800Z"
   },
   {
    "duration": 12,
    "start_time": "2023-05-15T22:03:36.130Z"
   },
   {
    "duration": 17,
    "start_time": "2023-05-15T22:03:36.143Z"
   },
   {
    "duration": 9,
    "start_time": "2023-05-15T22:03:36.162Z"
   },
   {
    "duration": 14,
    "start_time": "2023-05-15T22:03:36.173Z"
   },
   {
    "duration": 43,
    "start_time": "2023-05-15T22:03:36.189Z"
   },
   {
    "duration": 13,
    "start_time": "2023-05-15T22:03:36.234Z"
   },
   {
    "duration": 40,
    "start_time": "2023-05-15T22:03:36.249Z"
   },
   {
    "duration": 14,
    "start_time": "2023-05-15T22:03:36.290Z"
   },
   {
    "duration": 26,
    "start_time": "2023-05-15T22:03:36.305Z"
   },
   {
    "duration": 6,
    "start_time": "2023-05-15T22:03:36.332Z"
   },
   {
    "duration": 1668,
    "start_time": "2023-05-15T22:03:36.339Z"
   },
   {
    "duration": 5,
    "start_time": "2023-05-15T22:03:38.009Z"
   },
   {
    "duration": 8,
    "start_time": "2023-05-15T22:03:38.024Z"
   },
   {
    "duration": 208,
    "start_time": "2023-05-15T22:03:38.033Z"
   },
   {
    "duration": 97763,
    "start_time": "2023-05-15T22:03:38.244Z"
   },
   {
    "duration": 55059,
    "start_time": "2023-05-15T22:05:16.009Z"
   },
   {
    "duration": 29969,
    "start_time": "2023-05-15T22:06:11.070Z"
   },
   {
    "duration": 17559,
    "start_time": "2023-05-15T22:06:41.041Z"
   },
   {
    "duration": 2,
    "start_time": "2023-05-15T22:06:58.602Z"
   },
   {
    "duration": 13,
    "start_time": "2023-05-15T22:06:58.606Z"
   },
   {
    "duration": 5,
    "start_time": "2023-05-15T22:06:58.621Z"
   },
   {
    "duration": 3492,
    "start_time": "2023-05-15T22:06:58.627Z"
   },
   {
    "duration": 6,
    "start_time": "2023-05-15T22:07:02.120Z"
   },
   {
    "duration": 2903,
    "start_time": "2023-05-15T22:07:02.128Z"
   },
   {
    "duration": 2600,
    "start_time": "2023-05-15T22:07:05.033Z"
   },
   {
    "duration": 3,
    "start_time": "2023-05-15T22:11:59.758Z"
   },
   {
    "duration": 13,
    "start_time": "2023-05-15T22:11:59.992Z"
   },
   {
    "duration": 7121,
    "start_time": "2023-05-16T10:46:11.268Z"
   },
   {
    "duration": 66,
    "start_time": "2023-05-16T10:46:18.392Z"
   },
   {
    "duration": 18,
    "start_time": "2023-05-16T10:46:18.463Z"
   },
   {
    "duration": 23,
    "start_time": "2023-05-16T10:46:18.484Z"
   },
   {
    "duration": 42,
    "start_time": "2023-05-16T10:46:18.509Z"
   },
   {
    "duration": 9,
    "start_time": "2023-05-16T10:46:18.554Z"
   },
   {
    "duration": 661,
    "start_time": "2023-05-16T10:46:18.565Z"
   },
   {
    "duration": 223,
    "start_time": "2023-05-16T10:46:19.227Z"
   },
   {
    "duration": 12,
    "start_time": "2023-05-16T10:46:19.456Z"
   },
   {
    "duration": 6,
    "start_time": "2023-05-16T10:46:19.471Z"
   },
   {
    "duration": 16,
    "start_time": "2023-05-16T10:46:19.479Z"
   },
   {
    "duration": 7,
    "start_time": "2023-05-16T10:46:19.497Z"
   },
   {
    "duration": 58,
    "start_time": "2023-05-16T10:46:19.506Z"
   },
   {
    "duration": 16,
    "start_time": "2023-05-16T10:46:19.565Z"
   },
   {
    "duration": 91,
    "start_time": "2023-05-16T10:46:19.584Z"
   },
   {
    "duration": 38,
    "start_time": "2023-05-16T10:46:19.677Z"
   },
   {
    "duration": 3537,
    "start_time": "2023-05-16T10:46:19.763Z"
   },
   {
    "duration": 69,
    "start_time": "2023-05-16T10:46:23.302Z"
   },
   {
    "duration": 19,
    "start_time": "2023-05-16T10:46:23.374Z"
   },
   {
    "duration": 43,
    "start_time": "2023-05-16T10:46:23.395Z"
   },
   {
    "duration": 11,
    "start_time": "2023-05-16T10:46:23.440Z"
   },
   {
    "duration": 32,
    "start_time": "2023-05-16T10:46:23.454Z"
   },
   {
    "duration": 11,
    "start_time": "2023-05-16T10:46:23.488Z"
   },
   {
    "duration": 316,
    "start_time": "2023-05-16T10:46:23.502Z"
   },
   {
    "duration": 46,
    "start_time": "2023-05-16T10:46:25.868Z"
   },
   {
    "duration": 13,
    "start_time": "2023-05-16T10:46:26.516Z"
   },
   {
    "duration": 24,
    "start_time": "2023-05-16T10:46:26.694Z"
   },
   {
    "duration": 10,
    "start_time": "2023-05-16T10:46:26.862Z"
   },
   {
    "duration": 275,
    "start_time": "2023-05-16T10:46:27.090Z"
   },
   {
    "duration": 242,
    "start_time": "2023-05-16T10:46:27.459Z"
   },
   {
    "duration": 38,
    "start_time": "2023-05-16T10:46:28.296Z"
   },
   {
    "duration": 13,
    "start_time": "2023-05-16T10:46:28.513Z"
   },
   {
    "duration": 62,
    "start_time": "2023-05-16T10:46:28.859Z"
   },
   {
    "duration": 10,
    "start_time": "2023-05-16T10:46:29.061Z"
   },
   {
    "duration": 2268,
    "start_time": "2023-05-16T10:46:29.716Z"
   },
   {
    "duration": 40,
    "start_time": "2023-05-16T10:46:31.986Z"
   },
   {
    "duration": 12,
    "start_time": "2023-05-16T10:46:32.028Z"
   },
   {
    "duration": 24,
    "start_time": "2023-05-16T10:46:36.092Z"
   },
   {
    "duration": 14,
    "start_time": "2023-05-16T10:46:36.815Z"
   },
   {
    "duration": 11,
    "start_time": "2023-05-16T10:46:37.806Z"
   },
   {
    "duration": 18,
    "start_time": "2023-05-16T10:46:38.050Z"
   },
   {
    "duration": 11,
    "start_time": "2023-05-16T10:46:38.652Z"
   },
   {
    "duration": 15,
    "start_time": "2023-05-16T10:46:39.702Z"
   },
   {
    "duration": 13,
    "start_time": "2023-05-16T10:46:40.855Z"
   },
   {
    "duration": 9,
    "start_time": "2023-05-16T10:46:41.311Z"
   },
   {
    "duration": 14,
    "start_time": "2023-05-16T10:46:41.791Z"
   },
   {
    "duration": 30,
    "start_time": "2023-05-16T10:46:42.023Z"
   },
   {
    "duration": 48,
    "start_time": "2023-05-16T10:46:42.250Z"
   },
   {
    "duration": 17,
    "start_time": "2023-05-16T10:51:53.063Z"
   },
   {
    "duration": 483,
    "start_time": "2023-05-16T10:51:54.323Z"
   },
   {
    "duration": 24,
    "start_time": "2023-05-16T10:52:35.357Z"
   },
   {
    "duration": 24,
    "start_time": "2023-05-16T10:52:38.495Z"
   },
   {
    "duration": 12,
    "start_time": "2023-05-16T10:53:21.795Z"
   },
   {
    "duration": 28,
    "start_time": "2023-05-16T10:53:23.553Z"
   },
   {
    "duration": 32,
    "start_time": "2023-05-16T10:54:23.746Z"
   },
   {
    "duration": 21,
    "start_time": "2023-05-16T10:54:24.266Z"
   },
   {
    "duration": 65,
    "start_time": "2023-05-16T10:54:55.866Z"
   },
   {
    "duration": 17,
    "start_time": "2023-05-16T10:55:22.825Z"
   },
   {
    "duration": 14,
    "start_time": "2023-05-16T10:55:23.502Z"
   },
   {
    "duration": 6,
    "start_time": "2023-05-16T10:56:09.587Z"
   },
   {
    "duration": 2154,
    "start_time": "2023-05-16T10:56:11.024Z"
   },
   {
    "duration": 5,
    "start_time": "2023-05-16T10:56:16.313Z"
   },
   {
    "duration": 8,
    "start_time": "2023-05-16T10:57:18.509Z"
   },
   {
    "duration": 211,
    "start_time": "2023-05-16T10:57:35.268Z"
   },
   {
    "duration": 10974,
    "start_time": "2023-05-17T07:54:44.676Z"
   },
   {
    "duration": 106,
    "start_time": "2023-05-17T07:54:55.652Z"
   },
   {
    "duration": 13,
    "start_time": "2023-05-17T07:54:55.760Z"
   },
   {
    "duration": 31,
    "start_time": "2023-05-17T07:54:55.775Z"
   },
   {
    "duration": 27,
    "start_time": "2023-05-17T07:54:55.807Z"
   },
   {
    "duration": 10,
    "start_time": "2023-05-17T07:54:55.836Z"
   },
   {
    "duration": 648,
    "start_time": "2023-05-17T07:54:55.848Z"
   },
   {
    "duration": 219,
    "start_time": "2023-05-17T07:54:56.498Z"
   },
   {
    "duration": 7,
    "start_time": "2023-05-17T07:54:56.719Z"
   },
   {
    "duration": 20,
    "start_time": "2023-05-17T07:54:56.729Z"
   },
   {
    "duration": 18,
    "start_time": "2023-05-17T07:54:56.751Z"
   },
   {
    "duration": 9,
    "start_time": "2023-05-17T07:54:56.771Z"
   },
   {
    "duration": 134,
    "start_time": "2023-05-17T07:54:56.781Z"
   },
   {
    "duration": 11,
    "start_time": "2023-05-17T07:54:56.917Z"
   },
   {
    "duration": 53,
    "start_time": "2023-05-17T07:54:56.930Z"
   },
   {
    "duration": 27,
    "start_time": "2023-05-17T07:54:56.985Z"
   },
   {
    "duration": 3350,
    "start_time": "2023-05-17T07:54:57.014Z"
   },
   {
    "duration": 109,
    "start_time": "2023-05-17T07:55:00.366Z"
   },
   {
    "duration": 14,
    "start_time": "2023-05-17T07:55:00.477Z"
   },
   {
    "duration": 126,
    "start_time": "2023-05-17T07:55:00.493Z"
   },
   {
    "duration": 11,
    "start_time": "2023-05-17T07:55:00.621Z"
   },
   {
    "duration": 27,
    "start_time": "2023-05-17T07:55:00.634Z"
   },
   {
    "duration": 40,
    "start_time": "2023-05-17T07:55:00.663Z"
   },
   {
    "duration": 305,
    "start_time": "2023-05-17T07:55:00.705Z"
   },
   {
    "duration": 120,
    "start_time": "2023-05-17T07:55:01.012Z"
   },
   {
    "duration": 12,
    "start_time": "2023-05-17T07:55:01.134Z"
   },
   {
    "duration": 62,
    "start_time": "2023-05-17T07:55:01.148Z"
   },
   {
    "duration": 77,
    "start_time": "2023-05-17T07:55:01.214Z"
   },
   {
    "duration": 267,
    "start_time": "2023-05-17T07:55:01.292Z"
   },
   {
    "duration": 233,
    "start_time": "2023-05-17T07:55:01.561Z"
   },
   {
    "duration": 74,
    "start_time": "2023-05-17T07:55:01.796Z"
   },
   {
    "duration": 13,
    "start_time": "2023-05-17T07:55:01.872Z"
   },
   {
    "duration": 81,
    "start_time": "2023-05-17T07:55:01.887Z"
   },
   {
    "duration": 46,
    "start_time": "2023-05-17T07:55:01.970Z"
   },
   {
    "duration": 2229,
    "start_time": "2023-05-17T07:55:02.019Z"
   },
   {
    "duration": 116,
    "start_time": "2023-05-17T07:55:04.249Z"
   },
   {
    "duration": 11,
    "start_time": "2023-05-17T07:55:04.367Z"
   },
   {
    "duration": 36,
    "start_time": "2023-05-17T07:55:04.380Z"
   },
   {
    "duration": 12,
    "start_time": "2023-05-17T07:55:04.418Z"
   },
   {
    "duration": 20,
    "start_time": "2023-05-17T07:55:04.445Z"
   },
   {
    "duration": 15,
    "start_time": "2023-05-17T07:55:04.467Z"
   },
   {
    "duration": 9,
    "start_time": "2023-05-17T07:55:04.484Z"
   },
   {
    "duration": 28,
    "start_time": "2023-05-17T07:55:04.495Z"
   },
   {
    "duration": 22,
    "start_time": "2023-05-17T07:55:04.525Z"
   },
   {
    "duration": 24,
    "start_time": "2023-05-17T07:55:04.548Z"
   },
   {
    "duration": 19,
    "start_time": "2023-05-17T07:55:04.574Z"
   },
   {
    "duration": 24,
    "start_time": "2023-05-17T07:55:04.596Z"
   },
   {
    "duration": 44,
    "start_time": "2023-05-17T07:55:04.622Z"
   },
   {
    "duration": 12,
    "start_time": "2023-05-17T07:55:04.667Z"
   },
   {
    "duration": 341,
    "start_time": "2023-05-17T07:55:04.680Z"
   },
   {
    "duration": 24,
    "start_time": "2023-05-17T07:55:05.023Z"
   },
   {
    "duration": 21,
    "start_time": "2023-05-17T07:55:05.049Z"
   },
   {
    "duration": 15,
    "start_time": "2023-05-17T07:55:05.072Z"
   },
   {
    "duration": 23,
    "start_time": "2023-05-17T07:55:05.089Z"
   },
   {
    "duration": 35,
    "start_time": "2023-05-17T07:55:05.113Z"
   },
   {
    "duration": 21,
    "start_time": "2023-05-17T07:55:05.150Z"
   },
   {
    "duration": 40,
    "start_time": "2023-05-17T07:55:05.173Z"
   },
   {
    "duration": 47,
    "start_time": "2023-05-17T07:55:05.215Z"
   },
   {
    "duration": 12,
    "start_time": "2023-05-17T07:55:05.263Z"
   },
   {
    "duration": 151,
    "start_time": "2023-05-17T07:55:05.277Z"
   },
   {
    "duration": 2016,
    "start_time": "2023-05-17T07:55:05.430Z"
   },
   {
    "duration": 5,
    "start_time": "2023-05-17T07:55:07.448Z"
   },
   {
    "duration": 14,
    "start_time": "2023-05-17T07:55:07.455Z"
   },
   {
    "duration": 171,
    "start_time": "2023-05-17T07:56:54.189Z"
   },
   {
    "duration": 9,
    "start_time": "2023-05-17T07:57:05.237Z"
   },
   {
    "duration": 45,
    "start_time": "2023-05-17T07:57:07.101Z"
   },
   {
    "duration": 102,
    "start_time": "2023-05-17T07:57:10.645Z"
   },
   {
    "duration": 98845,
    "start_time": "2023-05-17T07:57:24.585Z"
   },
   {
    "duration": 57719,
    "start_time": "2023-05-17T07:59:03.432Z"
   },
   {
    "duration": 33498,
    "start_time": "2023-05-17T08:00:01.153Z"
   },
   {
    "duration": 21622,
    "start_time": "2023-05-17T08:00:34.655Z"
   },
   {
    "duration": 3,
    "start_time": "2023-05-17T08:07:46.586Z"
   },
   {
    "duration": 14,
    "start_time": "2023-05-17T08:07:47.106Z"
   },
   {
    "duration": 4379,
    "start_time": "2023-05-17T08:08:26.602Z"
   },
   {
    "duration": 13,
    "start_time": "2023-05-17T08:08:42.857Z"
   },
   {
    "duration": 9,
    "start_time": "2023-05-17T08:09:18.044Z"
   },
   {
    "duration": 4237,
    "start_time": "2023-05-17T08:09:31.581Z"
   },
   {
    "duration": 2831,
    "start_time": "2023-05-17T08:09:44.941Z"
   },
   {
    "duration": 3752,
    "start_time": "2023-05-17T08:09:49.724Z"
   }
  ],
  "kernelspec": {
   "display_name": "Python 3 (ipykernel)",
   "language": "python",
   "name": "python3"
  },
  "language_info": {
   "codemirror_mode": {
    "name": "ipython",
    "version": 3
   },
   "file_extension": ".py",
   "mimetype": "text/x-python",
   "name": "python",
   "nbconvert_exporter": "python",
   "pygments_lexer": "ipython3",
   "version": "3.9.12"
  },
  "toc": {
   "base_numbering": 1,
   "nav_menu": {},
   "number_sections": true,
   "sideBar": true,
   "skip_h1_title": true,
   "title_cell": "Table of Contents",
   "title_sidebar": "Contents",
   "toc_cell": false,
   "toc_position": {},
   "toc_section_display": true,
   "toc_window_display": true
  }
 },
 "nbformat": 4,
 "nbformat_minor": 2
}
