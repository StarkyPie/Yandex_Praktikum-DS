{
 "cells": [
  {
   "cell_type": "markdown",
   "metadata": {
    "toc": true
   },
   "source": [
    "<h1>Содержание<span class=\"tocSkip\"></span></h1>\n",
    "<div class=\"toc\"><ul class=\"toc-item\"><li><span><a href=\"#Подготовка-данных\" data-toc-modified-id=\"Подготовка-данных-1\"><span class=\"toc-item-num\">1&nbsp;&nbsp;</span>Подготовка данных</a></span><ul class=\"toc-item\"><li><span><a href=\"#Обзор-данных\" data-toc-modified-id=\"Обзор-данных-1.1\"><span class=\"toc-item-num\">1.1&nbsp;&nbsp;</span>Обзор данных</a></span></li><li><span><a href=\"#Предобработка-данных\" data-toc-modified-id=\"Предобработка-данных-1.2\"><span class=\"toc-item-num\">1.2&nbsp;&nbsp;</span>Предобработка данных</a></span><ul class=\"toc-item\"><li><span><a href=\"#Изучим-пропущенные-значения\" data-toc-modified-id=\"Изучим-пропущенные-значения-1.2.1\"><span class=\"toc-item-num\">1.2.1&nbsp;&nbsp;</span>Изучим пропущенные значения</a></span></li><li><span><a href=\"#Проверка-на-дубликаты\" data-toc-modified-id=\"Проверка-на-дубликаты-1.2.2\"><span class=\"toc-item-num\">1.2.2&nbsp;&nbsp;</span>Проверка на дубликаты</a></span></li></ul></li><li><span><a href=\"#Подготовим-данные-для-обучения\" data-toc-modified-id=\"Подготовим-данные-для-обучения-1.3\"><span class=\"toc-item-num\">1.3&nbsp;&nbsp;</span>Подготовим данные для обучения</a></span></li><li><span><a href=\"#Разделим-данные-на-выборки\" data-toc-modified-id=\"Разделим-данные-на-выборки-1.4\"><span class=\"toc-item-num\">1.4&nbsp;&nbsp;</span>Разделим данные на выборки</a></span></li><li><span><a href=\"#Масштабирование-признаков\" data-toc-modified-id=\"Масштабирование-признаков-1.5\"><span class=\"toc-item-num\">1.5&nbsp;&nbsp;</span>Масштабирование признаков</a></span></li></ul></li><li><span><a href=\"#Исследование-задачи\" data-toc-modified-id=\"Исследование-задачи-2\"><span class=\"toc-item-num\">2&nbsp;&nbsp;</span>Исследование задачи</a></span><ul class=\"toc-item\"><li><span><a href=\"#Обучение-моделей\" data-toc-modified-id=\"Обучение-моделей-2.1\"><span class=\"toc-item-num\">2.1&nbsp;&nbsp;</span>Обучение моделей</a></span></li><li><span><a href=\"#Проверка-моделей-на-адекватность\" data-toc-modified-id=\"Проверка-моделей-на-адекватность-2.2\"><span class=\"toc-item-num\">2.2&nbsp;&nbsp;</span>Проверка моделей на адекватность</a></span></li></ul></li><li><span><a href=\"#Борьба-с-дисбалансом\" data-toc-modified-id=\"Борьба-с-дисбалансом-3\"><span class=\"toc-item-num\">3&nbsp;&nbsp;</span>Борьба с дисбалансом</a></span><ul class=\"toc-item\"><li><span><a href=\"#Взвешивание-классов\" data-toc-modified-id=\"Взвешивание-классов-3.1\"><span class=\"toc-item-num\">3.1&nbsp;&nbsp;</span>Взвешивание классов</a></span></li><li><span><a href=\"#Увеличение-выборки\" data-toc-modified-id=\"Увеличение-выборки-3.2\"><span class=\"toc-item-num\">3.2&nbsp;&nbsp;</span>Увеличение выборки</a></span></li><li><span><a href=\"#Уменьшение-выборки\" data-toc-modified-id=\"Уменьшение-выборки-3.3\"><span class=\"toc-item-num\">3.3&nbsp;&nbsp;</span>Уменьшение выборки</a></span></li><li><span><a href=\"#Поиск-лучших-моделей\" data-toc-modified-id=\"Поиск-лучших-моделей-3.4\"><span class=\"toc-item-num\">3.4&nbsp;&nbsp;</span>Поиск лучших моделей</a></span></li></ul></li><li><span><a href=\"#Тестирование-модели\" data-toc-modified-id=\"Тестирование-модели-4\"><span class=\"toc-item-num\">4&nbsp;&nbsp;</span>Тестирование модели</a></span></li><li><span><a href=\"#Итоговый-вывод\" data-toc-modified-id=\"Итоговый-вывод-5\"><span class=\"toc-item-num\">5&nbsp;&nbsp;</span>Итоговый вывод</a></span></li><li><span><a href=\"#Чек-лист-готовности-проекта\" data-toc-modified-id=\"Чек-лист-готовности-проекта-6\"><span class=\"toc-item-num\">6&nbsp;&nbsp;</span>Чек-лист готовности проекта</a></span></li><li><span><a href=\"#Общий-вывод-по-проекту\" data-toc-modified-id=\"Общий-вывод-по-проекту-7\"><span class=\"toc-item-num\">7&nbsp;&nbsp;</span><b>Общий вывод по проекту</b></a></span></li></ul></div>"
   ]
  },
  {
   "cell_type": "markdown",
   "metadata": {},
   "source": [
    "# Отток клиентов"
   ]
  },
  {
   "cell_type": "markdown",
   "metadata": {},
   "source": [
    "Из «Бета-Банка» стали уходить клиенты. Каждый месяц. Немного, но заметно. Банковские маркетологи посчитали: сохранять текущих клиентов дешевле, чем привлекать новых.\n",
    "\n",
    "Нужно спрогнозировать, уйдёт клиент из банка в ближайшее время или нет. Вам предоставлены исторические данные о поведении клиентов и расторжении договоров с банком. \n",
    "\n",
    "Постройте модель с предельно большим значением *F1*-меры. Чтобы сдать проект успешно, нужно довести метрику до 0.59. Проверьте *F1*-меру на тестовой выборке самостоятельно.\n",
    "\n",
    "Дополнительно измеряйте *AUC-ROC*, сравнивайте её значение с *F1*-мерой.\n",
    "\n",
    "Источник данных: [https://www.kaggle.com/barelydedicated/bank-customer-churn-modeling](https://www.kaggle.com/barelydedicated/bank-customer-churn-modeling)\n",
    "\n",
    "**Цель исследования** - выполнить следующие задачи:\n",
    "1. Изучить и обработать данные.\n",
    "2. Исследовать баланс классов и обучить модель без учёта дисбаланса.\n",
    "3. Улучшить качество модели, учитывая дисбаланс классов.\n",
    "4. Провести финальное тестирование.\n",
    "\n",
    "**Ход исследования**\n",
    "\n",
    "Данные мы получим из файла `/datasets/Churn.csv`. О качестве данных нам ничего не известно. Значит перед исследовательской работой понадбится обзор данных. Проверим общую информацию, затем проведём предобработку, чтобы исправить самые критичные ошибки.\n",
    "\n",
    "Исследования пройдёт в 5 этапов:\n",
    "\n",
    "1. Обзор данных.\n",
    "2. Предобработка данных.\n",
    "3. Исследовать модели.\n",
    "4. Улучшить модели.\n",
    "5. Финальное тестирование."
   ]
  },
  {
   "cell_type": "markdown",
   "metadata": {},
   "source": [
    "## Подготовка данных"
   ]
  },
  {
   "cell_type": "markdown",
   "metadata": {},
   "source": [
    "### Обзор данных"
   ]
  },
  {
   "cell_type": "code",
   "execution_count": 1,
   "metadata": {},
   "outputs": [],
   "source": [
    "#импортируем необходимые библиотеки\n",
    "#подключим pandas\n",
    "import pandas as pd\n",
    "#подключим numpy\n",
    "import numpy as np\n",
    "#подключим matplotlib\n",
    "import matplotlib.pyplot as plt \n",
    "#подключим классификацю деревом решений\n",
    "from sklearn.tree import DecisionTreeClassifier\n",
    "#вычисление доли правильных ответов\n",
    "from sklearn.metrics import accuracy_score\n",
    "#разделение на выборки\n",
    "from sklearn.model_selection import train_test_split\n",
    "#инициализация модели случайного леса\n",
    "from sklearn.ensemble import RandomForestClassifier\n",
    "#инициализация модели логистической регрессии\n",
    "from sklearn.linear_model import LogisticRegression\n",
    "#вычесление точности \n",
    "from sklearn.metrics import precision_score\n",
    "#вычесление полноты\n",
    "from sklearn.metrics import recall_score\n",
    "#вычесление f-меры\n",
    "from sklearn.metrics import f1_score\n",
    "#масштабирование признаков\n",
    "from sklearn.preprocessing import StandardScaler \n",
    "#AUC-ROC\n",
    "from sklearn.metrics import roc_auc_score\n",
    "#ROC-кривая\n",
    "from sklearn.metrics import roc_curve\n",
    "#перемешка данных\n",
    "from sklearn.utils import shuffle"
   ]
  },
  {
   "cell_type": "code",
   "execution_count": 2,
   "metadata": {},
   "outputs": [],
   "source": [
    "#прочитаем csv файл\n",
    "data = pd.read_csv('/datasets/Churn.csv')"
   ]
  },
  {
   "cell_type": "code",
   "execution_count": 3,
   "metadata": {},
   "outputs": [
    {
     "data": {
      "text/html": [
       "<div>\n",
       "<style scoped>\n",
       "    .dataframe tbody tr th:only-of-type {\n",
       "        vertical-align: middle;\n",
       "    }\n",
       "\n",
       "    .dataframe tbody tr th {\n",
       "        vertical-align: top;\n",
       "    }\n",
       "\n",
       "    .dataframe thead th {\n",
       "        text-align: right;\n",
       "    }\n",
       "</style>\n",
       "<table border=\"1\" class=\"dataframe\">\n",
       "  <thead>\n",
       "    <tr style=\"text-align: right;\">\n",
       "      <th></th>\n",
       "      <th>RowNumber</th>\n",
       "      <th>CustomerId</th>\n",
       "      <th>Surname</th>\n",
       "      <th>CreditScore</th>\n",
       "      <th>Geography</th>\n",
       "      <th>Gender</th>\n",
       "      <th>Age</th>\n",
       "      <th>Tenure</th>\n",
       "      <th>Balance</th>\n",
       "      <th>NumOfProducts</th>\n",
       "      <th>HasCrCard</th>\n",
       "      <th>IsActiveMember</th>\n",
       "      <th>EstimatedSalary</th>\n",
       "      <th>Exited</th>\n",
       "    </tr>\n",
       "  </thead>\n",
       "  <tbody>\n",
       "    <tr>\n",
       "      <th>0</th>\n",
       "      <td>1</td>\n",
       "      <td>15634602</td>\n",
       "      <td>Hargrave</td>\n",
       "      <td>619</td>\n",
       "      <td>France</td>\n",
       "      <td>Female</td>\n",
       "      <td>42</td>\n",
       "      <td>2.0</td>\n",
       "      <td>0.00</td>\n",
       "      <td>1</td>\n",
       "      <td>1</td>\n",
       "      <td>1</td>\n",
       "      <td>101348.88</td>\n",
       "      <td>1</td>\n",
       "    </tr>\n",
       "    <tr>\n",
       "      <th>1</th>\n",
       "      <td>2</td>\n",
       "      <td>15647311</td>\n",
       "      <td>Hill</td>\n",
       "      <td>608</td>\n",
       "      <td>Spain</td>\n",
       "      <td>Female</td>\n",
       "      <td>41</td>\n",
       "      <td>1.0</td>\n",
       "      <td>83807.86</td>\n",
       "      <td>1</td>\n",
       "      <td>0</td>\n",
       "      <td>1</td>\n",
       "      <td>112542.58</td>\n",
       "      <td>0</td>\n",
       "    </tr>\n",
       "    <tr>\n",
       "      <th>2</th>\n",
       "      <td>3</td>\n",
       "      <td>15619304</td>\n",
       "      <td>Onio</td>\n",
       "      <td>502</td>\n",
       "      <td>France</td>\n",
       "      <td>Female</td>\n",
       "      <td>42</td>\n",
       "      <td>8.0</td>\n",
       "      <td>159660.80</td>\n",
       "      <td>3</td>\n",
       "      <td>1</td>\n",
       "      <td>0</td>\n",
       "      <td>113931.57</td>\n",
       "      <td>1</td>\n",
       "    </tr>\n",
       "    <tr>\n",
       "      <th>3</th>\n",
       "      <td>4</td>\n",
       "      <td>15701354</td>\n",
       "      <td>Boni</td>\n",
       "      <td>699</td>\n",
       "      <td>France</td>\n",
       "      <td>Female</td>\n",
       "      <td>39</td>\n",
       "      <td>1.0</td>\n",
       "      <td>0.00</td>\n",
       "      <td>2</td>\n",
       "      <td>0</td>\n",
       "      <td>0</td>\n",
       "      <td>93826.63</td>\n",
       "      <td>0</td>\n",
       "    </tr>\n",
       "    <tr>\n",
       "      <th>4</th>\n",
       "      <td>5</td>\n",
       "      <td>15737888</td>\n",
       "      <td>Mitchell</td>\n",
       "      <td>850</td>\n",
       "      <td>Spain</td>\n",
       "      <td>Female</td>\n",
       "      <td>43</td>\n",
       "      <td>2.0</td>\n",
       "      <td>125510.82</td>\n",
       "      <td>1</td>\n",
       "      <td>1</td>\n",
       "      <td>1</td>\n",
       "      <td>79084.10</td>\n",
       "      <td>0</td>\n",
       "    </tr>\n",
       "    <tr>\n",
       "      <th>5</th>\n",
       "      <td>6</td>\n",
       "      <td>15574012</td>\n",
       "      <td>Chu</td>\n",
       "      <td>645</td>\n",
       "      <td>Spain</td>\n",
       "      <td>Male</td>\n",
       "      <td>44</td>\n",
       "      <td>8.0</td>\n",
       "      <td>113755.78</td>\n",
       "      <td>2</td>\n",
       "      <td>1</td>\n",
       "      <td>0</td>\n",
       "      <td>149756.71</td>\n",
       "      <td>1</td>\n",
       "    </tr>\n",
       "    <tr>\n",
       "      <th>6</th>\n",
       "      <td>7</td>\n",
       "      <td>15592531</td>\n",
       "      <td>Bartlett</td>\n",
       "      <td>822</td>\n",
       "      <td>France</td>\n",
       "      <td>Male</td>\n",
       "      <td>50</td>\n",
       "      <td>7.0</td>\n",
       "      <td>0.00</td>\n",
       "      <td>2</td>\n",
       "      <td>1</td>\n",
       "      <td>1</td>\n",
       "      <td>10062.80</td>\n",
       "      <td>0</td>\n",
       "    </tr>\n",
       "    <tr>\n",
       "      <th>7</th>\n",
       "      <td>8</td>\n",
       "      <td>15656148</td>\n",
       "      <td>Obinna</td>\n",
       "      <td>376</td>\n",
       "      <td>Germany</td>\n",
       "      <td>Female</td>\n",
       "      <td>29</td>\n",
       "      <td>4.0</td>\n",
       "      <td>115046.74</td>\n",
       "      <td>4</td>\n",
       "      <td>1</td>\n",
       "      <td>0</td>\n",
       "      <td>119346.88</td>\n",
       "      <td>1</td>\n",
       "    </tr>\n",
       "    <tr>\n",
       "      <th>8</th>\n",
       "      <td>9</td>\n",
       "      <td>15792365</td>\n",
       "      <td>He</td>\n",
       "      <td>501</td>\n",
       "      <td>France</td>\n",
       "      <td>Male</td>\n",
       "      <td>44</td>\n",
       "      <td>4.0</td>\n",
       "      <td>142051.07</td>\n",
       "      <td>2</td>\n",
       "      <td>0</td>\n",
       "      <td>1</td>\n",
       "      <td>74940.50</td>\n",
       "      <td>0</td>\n",
       "    </tr>\n",
       "    <tr>\n",
       "      <th>9</th>\n",
       "      <td>10</td>\n",
       "      <td>15592389</td>\n",
       "      <td>H?</td>\n",
       "      <td>684</td>\n",
       "      <td>France</td>\n",
       "      <td>Male</td>\n",
       "      <td>27</td>\n",
       "      <td>2.0</td>\n",
       "      <td>134603.88</td>\n",
       "      <td>1</td>\n",
       "      <td>1</td>\n",
       "      <td>1</td>\n",
       "      <td>71725.73</td>\n",
       "      <td>0</td>\n",
       "    </tr>\n",
       "  </tbody>\n",
       "</table>\n",
       "</div>"
      ],
      "text/plain": [
       "   RowNumber  CustomerId   Surname  CreditScore Geography  Gender  Age  \\\n",
       "0          1    15634602  Hargrave          619    France  Female   42   \n",
       "1          2    15647311      Hill          608     Spain  Female   41   \n",
       "2          3    15619304      Onio          502    France  Female   42   \n",
       "3          4    15701354      Boni          699    France  Female   39   \n",
       "4          5    15737888  Mitchell          850     Spain  Female   43   \n",
       "5          6    15574012       Chu          645     Spain    Male   44   \n",
       "6          7    15592531  Bartlett          822    France    Male   50   \n",
       "7          8    15656148    Obinna          376   Germany  Female   29   \n",
       "8          9    15792365        He          501    France    Male   44   \n",
       "9         10    15592389        H?          684    France    Male   27   \n",
       "\n",
       "   Tenure    Balance  NumOfProducts  HasCrCard  IsActiveMember  \\\n",
       "0     2.0       0.00              1          1               1   \n",
       "1     1.0   83807.86              1          0               1   \n",
       "2     8.0  159660.80              3          1               0   \n",
       "3     1.0       0.00              2          0               0   \n",
       "4     2.0  125510.82              1          1               1   \n",
       "5     8.0  113755.78              2          1               0   \n",
       "6     7.0       0.00              2          1               1   \n",
       "7     4.0  115046.74              4          1               0   \n",
       "8     4.0  142051.07              2          0               1   \n",
       "9     2.0  134603.88              1          1               1   \n",
       "\n",
       "   EstimatedSalary  Exited  \n",
       "0        101348.88       1  \n",
       "1        112542.58       0  \n",
       "2        113931.57       1  \n",
       "3         93826.63       0  \n",
       "4         79084.10       0  \n",
       "5        149756.71       1  \n",
       "6         10062.80       0  \n",
       "7        119346.88       1  \n",
       "8         74940.50       0  \n",
       "9         71725.73       0  "
      ]
     },
     "execution_count": 3,
     "metadata": {},
     "output_type": "execute_result"
    }
   ],
   "source": [
    "#выведем первые 10 строк таблицы\n",
    "data.head(10)"
   ]
  },
  {
   "cell_type": "code",
   "execution_count": 4,
   "metadata": {},
   "outputs": [
    {
     "name": "stdout",
     "output_type": "stream",
     "text": [
      "<class 'pandas.core.frame.DataFrame'>\n",
      "RangeIndex: 10000 entries, 0 to 9999\n",
      "Data columns (total 14 columns):\n",
      " #   Column           Non-Null Count  Dtype  \n",
      "---  ------           --------------  -----  \n",
      " 0   RowNumber        10000 non-null  int64  \n",
      " 1   CustomerId       10000 non-null  int64  \n",
      " 2   Surname          10000 non-null  object \n",
      " 3   CreditScore      10000 non-null  int64  \n",
      " 4   Geography        10000 non-null  object \n",
      " 5   Gender           10000 non-null  object \n",
      " 6   Age              10000 non-null  int64  \n",
      " 7   Tenure           9091 non-null   float64\n",
      " 8   Balance          10000 non-null  float64\n",
      " 9   NumOfProducts    10000 non-null  int64  \n",
      " 10  HasCrCard        10000 non-null  int64  \n",
      " 11  IsActiveMember   10000 non-null  int64  \n",
      " 12  EstimatedSalary  10000 non-null  float64\n",
      " 13  Exited           10000 non-null  int64  \n",
      "dtypes: float64(3), int64(8), object(3)\n",
      "memory usage: 1.1+ MB\n"
     ]
    }
   ],
   "source": [
    "#выведем основную информацию о таблице методом info()\n",
    "data.info()"
   ]
  },
  {
   "cell_type": "code",
   "execution_count": 5,
   "metadata": {},
   "outputs": [
    {
     "data": {
      "text/html": [
       "<div>\n",
       "<style scoped>\n",
       "    .dataframe tbody tr th:only-of-type {\n",
       "        vertical-align: middle;\n",
       "    }\n",
       "\n",
       "    .dataframe tbody tr th {\n",
       "        vertical-align: top;\n",
       "    }\n",
       "\n",
       "    .dataframe thead th {\n",
       "        text-align: right;\n",
       "    }\n",
       "</style>\n",
       "<table border=\"1\" class=\"dataframe\">\n",
       "  <thead>\n",
       "    <tr style=\"text-align: right;\">\n",
       "      <th></th>\n",
       "      <th>RowNumber</th>\n",
       "      <th>CustomerId</th>\n",
       "      <th>CreditScore</th>\n",
       "      <th>Age</th>\n",
       "      <th>Tenure</th>\n",
       "      <th>Balance</th>\n",
       "      <th>NumOfProducts</th>\n",
       "      <th>HasCrCard</th>\n",
       "      <th>IsActiveMember</th>\n",
       "      <th>EstimatedSalary</th>\n",
       "      <th>Exited</th>\n",
       "    </tr>\n",
       "  </thead>\n",
       "  <tbody>\n",
       "    <tr>\n",
       "      <th>count</th>\n",
       "      <td>10000.00000</td>\n",
       "      <td>1.000000e+04</td>\n",
       "      <td>10000.000000</td>\n",
       "      <td>10000.000000</td>\n",
       "      <td>9091.000000</td>\n",
       "      <td>10000.000000</td>\n",
       "      <td>10000.000000</td>\n",
       "      <td>10000.00000</td>\n",
       "      <td>10000.000000</td>\n",
       "      <td>10000.000000</td>\n",
       "      <td>10000.000000</td>\n",
       "    </tr>\n",
       "    <tr>\n",
       "      <th>mean</th>\n",
       "      <td>5000.50000</td>\n",
       "      <td>1.569094e+07</td>\n",
       "      <td>650.528800</td>\n",
       "      <td>38.921800</td>\n",
       "      <td>4.997690</td>\n",
       "      <td>76485.889288</td>\n",
       "      <td>1.530200</td>\n",
       "      <td>0.70550</td>\n",
       "      <td>0.515100</td>\n",
       "      <td>100090.239881</td>\n",
       "      <td>0.203700</td>\n",
       "    </tr>\n",
       "    <tr>\n",
       "      <th>std</th>\n",
       "      <td>2886.89568</td>\n",
       "      <td>7.193619e+04</td>\n",
       "      <td>96.653299</td>\n",
       "      <td>10.487806</td>\n",
       "      <td>2.894723</td>\n",
       "      <td>62397.405202</td>\n",
       "      <td>0.581654</td>\n",
       "      <td>0.45584</td>\n",
       "      <td>0.499797</td>\n",
       "      <td>57510.492818</td>\n",
       "      <td>0.402769</td>\n",
       "    </tr>\n",
       "    <tr>\n",
       "      <th>min</th>\n",
       "      <td>1.00000</td>\n",
       "      <td>1.556570e+07</td>\n",
       "      <td>350.000000</td>\n",
       "      <td>18.000000</td>\n",
       "      <td>0.000000</td>\n",
       "      <td>0.000000</td>\n",
       "      <td>1.000000</td>\n",
       "      <td>0.00000</td>\n",
       "      <td>0.000000</td>\n",
       "      <td>11.580000</td>\n",
       "      <td>0.000000</td>\n",
       "    </tr>\n",
       "    <tr>\n",
       "      <th>25%</th>\n",
       "      <td>2500.75000</td>\n",
       "      <td>1.562853e+07</td>\n",
       "      <td>584.000000</td>\n",
       "      <td>32.000000</td>\n",
       "      <td>2.000000</td>\n",
       "      <td>0.000000</td>\n",
       "      <td>1.000000</td>\n",
       "      <td>0.00000</td>\n",
       "      <td>0.000000</td>\n",
       "      <td>51002.110000</td>\n",
       "      <td>0.000000</td>\n",
       "    </tr>\n",
       "    <tr>\n",
       "      <th>50%</th>\n",
       "      <td>5000.50000</td>\n",
       "      <td>1.569074e+07</td>\n",
       "      <td>652.000000</td>\n",
       "      <td>37.000000</td>\n",
       "      <td>5.000000</td>\n",
       "      <td>97198.540000</td>\n",
       "      <td>1.000000</td>\n",
       "      <td>1.00000</td>\n",
       "      <td>1.000000</td>\n",
       "      <td>100193.915000</td>\n",
       "      <td>0.000000</td>\n",
       "    </tr>\n",
       "    <tr>\n",
       "      <th>75%</th>\n",
       "      <td>7500.25000</td>\n",
       "      <td>1.575323e+07</td>\n",
       "      <td>718.000000</td>\n",
       "      <td>44.000000</td>\n",
       "      <td>7.000000</td>\n",
       "      <td>127644.240000</td>\n",
       "      <td>2.000000</td>\n",
       "      <td>1.00000</td>\n",
       "      <td>1.000000</td>\n",
       "      <td>149388.247500</td>\n",
       "      <td>0.000000</td>\n",
       "    </tr>\n",
       "    <tr>\n",
       "      <th>max</th>\n",
       "      <td>10000.00000</td>\n",
       "      <td>1.581569e+07</td>\n",
       "      <td>850.000000</td>\n",
       "      <td>92.000000</td>\n",
       "      <td>10.000000</td>\n",
       "      <td>250898.090000</td>\n",
       "      <td>4.000000</td>\n",
       "      <td>1.00000</td>\n",
       "      <td>1.000000</td>\n",
       "      <td>199992.480000</td>\n",
       "      <td>1.000000</td>\n",
       "    </tr>\n",
       "  </tbody>\n",
       "</table>\n",
       "</div>"
      ],
      "text/plain": [
       "         RowNumber    CustomerId   CreditScore           Age       Tenure  \\\n",
       "count  10000.00000  1.000000e+04  10000.000000  10000.000000  9091.000000   \n",
       "mean    5000.50000  1.569094e+07    650.528800     38.921800     4.997690   \n",
       "std     2886.89568  7.193619e+04     96.653299     10.487806     2.894723   \n",
       "min        1.00000  1.556570e+07    350.000000     18.000000     0.000000   \n",
       "25%     2500.75000  1.562853e+07    584.000000     32.000000     2.000000   \n",
       "50%     5000.50000  1.569074e+07    652.000000     37.000000     5.000000   \n",
       "75%     7500.25000  1.575323e+07    718.000000     44.000000     7.000000   \n",
       "max    10000.00000  1.581569e+07    850.000000     92.000000    10.000000   \n",
       "\n",
       "             Balance  NumOfProducts    HasCrCard  IsActiveMember  \\\n",
       "count   10000.000000   10000.000000  10000.00000    10000.000000   \n",
       "mean    76485.889288       1.530200      0.70550        0.515100   \n",
       "std     62397.405202       0.581654      0.45584        0.499797   \n",
       "min         0.000000       1.000000      0.00000        0.000000   \n",
       "25%         0.000000       1.000000      0.00000        0.000000   \n",
       "50%     97198.540000       1.000000      1.00000        1.000000   \n",
       "75%    127644.240000       2.000000      1.00000        1.000000   \n",
       "max    250898.090000       4.000000      1.00000        1.000000   \n",
       "\n",
       "       EstimatedSalary        Exited  \n",
       "count     10000.000000  10000.000000  \n",
       "mean     100090.239881      0.203700  \n",
       "std       57510.492818      0.402769  \n",
       "min          11.580000      0.000000  \n",
       "25%       51002.110000      0.000000  \n",
       "50%      100193.915000      0.000000  \n",
       "75%      149388.247500      0.000000  \n",
       "max      199992.480000      1.000000  "
      ]
     },
     "execution_count": 5,
     "metadata": {},
     "output_type": "execute_result"
    }
   ],
   "source": [
    "#оценим данные в таблице методом describe\n",
    "data.describe()"
   ]
  },
  {
   "cell_type": "markdown",
   "metadata": {},
   "source": [
    "**Выводы**\n",
    "\n",
    "Каждый объект таблицы - данные о клиенте банка. Часть столбцов описывает личную информацию клиента: фамилия, возраст, страна проживания. Другие столбцы описывают банковскую информацию: сколько лет человек является клиентом, баланс на счету, кол-ва продукции банка, наличие кредитной карты, активен ли клиент, возможный заработок клиента.\n",
    "\n",
    "Мы видим, что в данных присутствуют пропуски, а значит их нужно убрать. \n",
    "\n",
    "Exited - факт ухода клиента. Признак является категорильным, а значит перед нами задача классификации."
   ]
  },
  {
   "cell_type": "markdown",
   "metadata": {},
   "source": [
    "### Предобработка данных"
   ]
  },
  {
   "cell_type": "markdown",
   "metadata": {},
   "source": [
    "#### Изучим пропущенные значения"
   ]
  },
  {
   "cell_type": "code",
   "execution_count": 6,
   "metadata": {},
   "outputs": [
    {
     "data": {
      "text/html": [
       "<style  type=\"text/css\" >\n",
       "#T_1f36c_row0_col0,#T_1f36c_row1_col0,#T_1f36c_row2_col0,#T_1f36c_row3_col0,#T_1f36c_row4_col0,#T_1f36c_row5_col0,#T_1f36c_row6_col0,#T_1f36c_row8_col0,#T_1f36c_row9_col0,#T_1f36c_row10_col0,#T_1f36c_row11_col0,#T_1f36c_row12_col0,#T_1f36c_row13_col0{\n",
       "            background-color:  #3b4cc0;\n",
       "            color:  #f1f1f1;\n",
       "        }#T_1f36c_row7_col0{\n",
       "            background-color:  #b40426;\n",
       "            color:  #f1f1f1;\n",
       "        }</style><table id=\"T_1f36c_\" ><thead>    <tr>        <th class=\"blank level0\" ></th>        <th class=\"col_heading level0 col0\" >0</th>    </tr></thead><tbody>\n",
       "                <tr>\n",
       "                        <th id=\"T_1f36c_level0_row0\" class=\"row_heading level0 row0\" >RowNumber</th>\n",
       "                        <td id=\"T_1f36c_row0_col0\" class=\"data row0 col0\" >0.000000</td>\n",
       "            </tr>\n",
       "            <tr>\n",
       "                        <th id=\"T_1f36c_level0_row1\" class=\"row_heading level0 row1\" >CustomerId</th>\n",
       "                        <td id=\"T_1f36c_row1_col0\" class=\"data row1 col0\" >0.000000</td>\n",
       "            </tr>\n",
       "            <tr>\n",
       "                        <th id=\"T_1f36c_level0_row2\" class=\"row_heading level0 row2\" >Surname</th>\n",
       "                        <td id=\"T_1f36c_row2_col0\" class=\"data row2 col0\" >0.000000</td>\n",
       "            </tr>\n",
       "            <tr>\n",
       "                        <th id=\"T_1f36c_level0_row3\" class=\"row_heading level0 row3\" >CreditScore</th>\n",
       "                        <td id=\"T_1f36c_row3_col0\" class=\"data row3 col0\" >0.000000</td>\n",
       "            </tr>\n",
       "            <tr>\n",
       "                        <th id=\"T_1f36c_level0_row4\" class=\"row_heading level0 row4\" >Geography</th>\n",
       "                        <td id=\"T_1f36c_row4_col0\" class=\"data row4 col0\" >0.000000</td>\n",
       "            </tr>\n",
       "            <tr>\n",
       "                        <th id=\"T_1f36c_level0_row5\" class=\"row_heading level0 row5\" >Gender</th>\n",
       "                        <td id=\"T_1f36c_row5_col0\" class=\"data row5 col0\" >0.000000</td>\n",
       "            </tr>\n",
       "            <tr>\n",
       "                        <th id=\"T_1f36c_level0_row6\" class=\"row_heading level0 row6\" >Age</th>\n",
       "                        <td id=\"T_1f36c_row6_col0\" class=\"data row6 col0\" >0.000000</td>\n",
       "            </tr>\n",
       "            <tr>\n",
       "                        <th id=\"T_1f36c_level0_row7\" class=\"row_heading level0 row7\" >Tenure</th>\n",
       "                        <td id=\"T_1f36c_row7_col0\" class=\"data row7 col0\" >9.000000</td>\n",
       "            </tr>\n",
       "            <tr>\n",
       "                        <th id=\"T_1f36c_level0_row8\" class=\"row_heading level0 row8\" >Balance</th>\n",
       "                        <td id=\"T_1f36c_row8_col0\" class=\"data row8 col0\" >0.000000</td>\n",
       "            </tr>\n",
       "            <tr>\n",
       "                        <th id=\"T_1f36c_level0_row9\" class=\"row_heading level0 row9\" >NumOfProducts</th>\n",
       "                        <td id=\"T_1f36c_row9_col0\" class=\"data row9 col0\" >0.000000</td>\n",
       "            </tr>\n",
       "            <tr>\n",
       "                        <th id=\"T_1f36c_level0_row10\" class=\"row_heading level0 row10\" >HasCrCard</th>\n",
       "                        <td id=\"T_1f36c_row10_col0\" class=\"data row10 col0\" >0.000000</td>\n",
       "            </tr>\n",
       "            <tr>\n",
       "                        <th id=\"T_1f36c_level0_row11\" class=\"row_heading level0 row11\" >IsActiveMember</th>\n",
       "                        <td id=\"T_1f36c_row11_col0\" class=\"data row11 col0\" >0.000000</td>\n",
       "            </tr>\n",
       "            <tr>\n",
       "                        <th id=\"T_1f36c_level0_row12\" class=\"row_heading level0 row12\" >EstimatedSalary</th>\n",
       "                        <td id=\"T_1f36c_row12_col0\" class=\"data row12 col0\" >0.000000</td>\n",
       "            </tr>\n",
       "            <tr>\n",
       "                        <th id=\"T_1f36c_level0_row13\" class=\"row_heading level0 row13\" >Exited</th>\n",
       "                        <td id=\"T_1f36c_row13_col0\" class=\"data row13 col0\" >0.000000</td>\n",
       "            </tr>\n",
       "    </tbody></table>"
      ],
      "text/plain": [
       "<pandas.io.formats.style.Styler at 0x7f6426747d30>"
      ]
     },
     "execution_count": 6,
     "metadata": {},
     "output_type": "execute_result"
    }
   ],
   "source": [
    "#проверим колличество пропусков в %\n",
    "pd.DataFrame(round(data.isna().mean()*100,)).style.background_gradient('coolwarm')"
   ]
  },
  {
   "cell_type": "markdown",
   "metadata": {},
   "source": [
    "В столбце Tenure пропуски составляют 9% от всех значений. В других столбцах пропуски отсутствуют. Узнать сколько лет человек является клиентом банка мы не можем, а значит заполним пропуски нейтральными значениями. Хоть эти пропуски можно удалить, но делать этого не будем, поскольку пропуски только в одном столбце. Удаление этих объектов может сильнее повлиять на качество наших моделей, нежели заполнение признаков одного столбца на нейтральные значения."
   ]
  },
  {
   "cell_type": "code",
   "execution_count": 7,
   "metadata": {},
   "outputs": [],
   "source": [
    "#заполнение пропусков нейтральными значениями\n",
    "data['Tenure'] = data['Tenure'].fillna(-1)"
   ]
  },
  {
   "cell_type": "markdown",
   "metadata": {},
   "source": [
    "#### Проверка на дубликаты"
   ]
  },
  {
   "cell_type": "code",
   "execution_count": 8,
   "metadata": {},
   "outputs": [
    {
     "data": {
      "text/plain": [
       "0"
      ]
     },
     "execution_count": 8,
     "metadata": {},
     "output_type": "execute_result"
    }
   ],
   "source": [
    "#проверим наличие дубликатов\n",
    "data.duplicated().sum()"
   ]
  },
  {
   "cell_type": "markdown",
   "metadata": {},
   "source": [
    "Дубликаты не обнаружены. Проверим уникальные названия категориальных признаков"
   ]
  },
  {
   "cell_type": "code",
   "execution_count": 9,
   "metadata": {},
   "outputs": [
    {
     "data": {
      "text/plain": [
       "array(['France', 'Spain', 'Germany'], dtype=object)"
      ]
     },
     "execution_count": 9,
     "metadata": {},
     "output_type": "execute_result"
    }
   ],
   "source": [
    "#выведем уникальные названия стран\n",
    "data['Geography'].unique()"
   ]
  },
  {
   "cell_type": "code",
   "execution_count": 10,
   "metadata": {},
   "outputs": [
    {
     "data": {
      "text/plain": [
       "array(['Female', 'Male'], dtype=object)"
      ]
     },
     "execution_count": 10,
     "metadata": {},
     "output_type": "execute_result"
    }
   ],
   "source": [
    "#выведем уникальные названия пола\n",
    "data['Gender'].unique()"
   ]
  },
  {
   "cell_type": "code",
   "execution_count": 11,
   "metadata": {},
   "outputs": [
    {
     "data": {
      "text/plain": [
       "2932"
      ]
     },
     "execution_count": 11,
     "metadata": {},
     "output_type": "execute_result"
    }
   ],
   "source": [
    "#посмотрим кол-во уникальных названий фамилий\n",
    "data['Surname'].value_counts().count()"
   ]
  },
  {
   "cell_type": "markdown",
   "metadata": {},
   "source": [
    "**Выводы**\n",
    "\n",
    "Пропуски в столбце Tenure мы заполнили нейтральными значениями. Никаких дубликатов не обнаружили. Можно было слегка изменить названия столбцов, но для нашей задачи это роли не играет. Типы данных тоже соответствуют нужным."
   ]
  },
  {
   "cell_type": "markdown",
   "metadata": {},
   "source": [
    "### Подготовим данные для обучения"
   ]
  },
  {
   "cell_type": "markdown",
   "metadata": {},
   "source": [
    "Для подготовки данных воспользуемся методом OHE, ибо этот метод подходит для всех наших моделей (дерево решений, случайный лес, логистическая регрессия).\n",
    "\n",
    "Для начала есть смысл удалить три следующих столбца: RowNumber, CustomerId, Surname. В этих столбцах хранятся категорильные признаки (индекс объекта, id клиента и фамилия). Если мы применим метод OHE ко всей таблице, то из-за этих 3х столбцов, общее количество столбцов увеличится многократно, что перегрузит наши данные. Ещё эти три столбца никак не повлияют на обучение наших моделей, а значит их можно спокойно удалить."
   ]
  },
  {
   "cell_type": "code",
   "execution_count": 12,
   "metadata": {},
   "outputs": [],
   "source": [
    "#удалим столбцы\n",
    "data_drop = data.drop(['RowNumber', 'CustomerId', 'Surname'], axis=1)"
   ]
  },
  {
   "cell_type": "code",
   "execution_count": 13,
   "metadata": {},
   "outputs": [
    {
     "data": {
      "text/html": [
       "<div>\n",
       "<style scoped>\n",
       "    .dataframe tbody tr th:only-of-type {\n",
       "        vertical-align: middle;\n",
       "    }\n",
       "\n",
       "    .dataframe tbody tr th {\n",
       "        vertical-align: top;\n",
       "    }\n",
       "\n",
       "    .dataframe thead th {\n",
       "        text-align: right;\n",
       "    }\n",
       "</style>\n",
       "<table border=\"1\" class=\"dataframe\">\n",
       "  <thead>\n",
       "    <tr style=\"text-align: right;\">\n",
       "      <th></th>\n",
       "      <th>CreditScore</th>\n",
       "      <th>Age</th>\n",
       "      <th>Tenure</th>\n",
       "      <th>Balance</th>\n",
       "      <th>NumOfProducts</th>\n",
       "      <th>HasCrCard</th>\n",
       "      <th>IsActiveMember</th>\n",
       "      <th>EstimatedSalary</th>\n",
       "      <th>Exited</th>\n",
       "      <th>Geography_Germany</th>\n",
       "      <th>Geography_Spain</th>\n",
       "      <th>Gender_Male</th>\n",
       "    </tr>\n",
       "  </thead>\n",
       "  <tbody>\n",
       "    <tr>\n",
       "      <th>0</th>\n",
       "      <td>619</td>\n",
       "      <td>42</td>\n",
       "      <td>2.0</td>\n",
       "      <td>0.00</td>\n",
       "      <td>1</td>\n",
       "      <td>1</td>\n",
       "      <td>1</td>\n",
       "      <td>101348.88</td>\n",
       "      <td>1</td>\n",
       "      <td>0</td>\n",
       "      <td>0</td>\n",
       "      <td>0</td>\n",
       "    </tr>\n",
       "    <tr>\n",
       "      <th>1</th>\n",
       "      <td>608</td>\n",
       "      <td>41</td>\n",
       "      <td>1.0</td>\n",
       "      <td>83807.86</td>\n",
       "      <td>1</td>\n",
       "      <td>0</td>\n",
       "      <td>1</td>\n",
       "      <td>112542.58</td>\n",
       "      <td>0</td>\n",
       "      <td>0</td>\n",
       "      <td>1</td>\n",
       "      <td>0</td>\n",
       "    </tr>\n",
       "    <tr>\n",
       "      <th>2</th>\n",
       "      <td>502</td>\n",
       "      <td>42</td>\n",
       "      <td>8.0</td>\n",
       "      <td>159660.80</td>\n",
       "      <td>3</td>\n",
       "      <td>1</td>\n",
       "      <td>0</td>\n",
       "      <td>113931.57</td>\n",
       "      <td>1</td>\n",
       "      <td>0</td>\n",
       "      <td>0</td>\n",
       "      <td>0</td>\n",
       "    </tr>\n",
       "    <tr>\n",
       "      <th>3</th>\n",
       "      <td>699</td>\n",
       "      <td>39</td>\n",
       "      <td>1.0</td>\n",
       "      <td>0.00</td>\n",
       "      <td>2</td>\n",
       "      <td>0</td>\n",
       "      <td>0</td>\n",
       "      <td>93826.63</td>\n",
       "      <td>0</td>\n",
       "      <td>0</td>\n",
       "      <td>0</td>\n",
       "      <td>0</td>\n",
       "    </tr>\n",
       "    <tr>\n",
       "      <th>4</th>\n",
       "      <td>850</td>\n",
       "      <td>43</td>\n",
       "      <td>2.0</td>\n",
       "      <td>125510.82</td>\n",
       "      <td>1</td>\n",
       "      <td>1</td>\n",
       "      <td>1</td>\n",
       "      <td>79084.10</td>\n",
       "      <td>0</td>\n",
       "      <td>0</td>\n",
       "      <td>1</td>\n",
       "      <td>0</td>\n",
       "    </tr>\n",
       "  </tbody>\n",
       "</table>\n",
       "</div>"
      ],
      "text/plain": [
       "   CreditScore  Age  Tenure    Balance  NumOfProducts  HasCrCard  \\\n",
       "0          619   42     2.0       0.00              1          1   \n",
       "1          608   41     1.0   83807.86              1          0   \n",
       "2          502   42     8.0  159660.80              3          1   \n",
       "3          699   39     1.0       0.00              2          0   \n",
       "4          850   43     2.0  125510.82              1          1   \n",
       "\n",
       "   IsActiveMember  EstimatedSalary  Exited  Geography_Germany  \\\n",
       "0               1        101348.88       1                  0   \n",
       "1               1        112542.58       0                  0   \n",
       "2               0        113931.57       1                  0   \n",
       "3               0         93826.63       0                  0   \n",
       "4               1         79084.10       0                  0   \n",
       "\n",
       "   Geography_Spain  Gender_Male  \n",
       "0                0            0  \n",
       "1                1            0  \n",
       "2                0            0  \n",
       "3                0            0  \n",
       "4                1            0  "
      ]
     },
     "metadata": {},
     "output_type": "display_data"
    },
    {
     "data": {
      "text/plain": [
       "(10000, 12)"
      ]
     },
     "execution_count": 13,
     "metadata": {},
     "output_type": "execute_result"
    }
   ],
   "source": [
    "#применим метод ohe и получим данные для обучения\n",
    "data_ohe = pd.get_dummies(data_drop, drop_first=True)\n",
    "display(data_ohe.head())\n",
    "\n",
    "#проверим размер\n",
    "data_ohe.shape"
   ]
  },
  {
   "cell_type": "markdown",
   "metadata": {},
   "source": [
    "**Вывод** \n",
    "\n",
    "Получили таблицу с 12 столбцами. Чтобы не попасть в дамми-ловушку при использовании метода OHE, мы без сожаления удалили часть столбцов, которые создал этот метод. Восстановить удалённые столбцы можно по оставшимся. "
   ]
  },
  {
   "cell_type": "markdown",
   "metadata": {},
   "source": [
    "### Разделим данные на выборки"
   ]
  },
  {
   "cell_type": "code",
   "execution_count": 14,
   "metadata": {},
   "outputs": [
    {
     "name": "stdout",
     "output_type": "stream",
     "text": [
      "Размер обучающей выборки: 6000 \n",
      "Размер валидационной выборки: 2000 \n",
      "Размер тестовой выборки: 2000\n"
     ]
    }
   ],
   "source": [
    "#составим таблицы признаков и целевого признака\n",
    "features = data_ohe.drop(['Exited'], axis=1)\n",
    "target = data_ohe['Exited']\n",
    "\n",
    "#разобьём данные на три выборки: обучающую, валидационную и тестовую\n",
    "features_train, features_valid, target_train, target_valid = train_test_split(\n",
    "    features, target, train_size=0.6, random_state=46)\n",
    "\n",
    "features_valid, features_test, target_valid, target_test = train_test_split(\n",
    "    features_valid, target_valid, test_size=0.5, random_state=46)\n",
    "\n",
    "print('Размер обучающей выборки:', features_train.shape[0],'\\n'\n",
    "      'Размер валидационной выборки:', features_valid.shape[0],'\\n'\n",
    "      'Размер тестовой выборки:', features_test.shape[0])"
   ]
  },
  {
   "cell_type": "markdown",
   "metadata": {},
   "source": [
    "### Масштабирование признаков"
   ]
  },
  {
   "cell_type": "code",
   "execution_count": 15,
   "metadata": {},
   "outputs": [],
   "source": [
    "#убираем предупреждение SettingWithCopy\n",
    "pd.options.mode.chained_assignment = None\n",
    "\n",
    "#в переменную передаём все численные признаки\n",
    "numeric = ['CreditScore', 'Age', 'Tenure', 'Balance', 'NumOfProducts', 'EstimatedSalary']\n",
    "\n",
    "scaler = StandardScaler()\n",
    "scaler.fit(features_train[numeric])\n",
    "#сохраним преобразованные обучающую, валидационную и тестовые выборки\n",
    "features_train[numeric] = scaler.transform(features_train[numeric])\n",
    "features_valid[numeric] = scaler.transform(features_valid[numeric])\n",
    "features_test[numeric] = scaler.transform(features_test[numeric])\n"
   ]
  },
  {
   "cell_type": "markdown",
   "metadata": {},
   "source": [
    "**Выводы**\n",
    "\n",
    "Мы изучили и предобработали данные. Поняли, что перед нами задача классификации. Подготовили данные методом OHE, разбили данные на три выборки и преобразовали эти три выборки методом scaler.\n",
    "\n",
    "Теперь можно приступить к обучению моделей."
   ]
  },
  {
   "cell_type": "markdown",
   "metadata": {},
   "source": [
    "## Исследование задачи"
   ]
  },
  {
   "cell_type": "markdown",
   "metadata": {},
   "source": [
    "### Обучение моделей"
   ]
  },
  {
   "cell_type": "code",
   "execution_count": 16,
   "metadata": {},
   "outputs": [
    {
     "name": "stdout",
     "output_type": "stream",
     "text": [
      " Accuracy: \n",
      " Дерево решений: 0.7925 \n",
      " Случайный лес: 0.869 \n",
      " Логистическая регрессия: 0.8125\n"
     ]
    }
   ],
   "source": [
    "#Обучим наши модели\n",
    "model_tree = DecisionTreeClassifier(random_state=42)\n",
    "result_tree = (model_tree\n",
    "                .fit(features_train, target_train)\n",
    "                .score(features_valid, target_valid))\n",
    "    \n",
    "model_forest = RandomForestClassifier(random_state=42, n_estimators=100)\n",
    "result_forest = (model_forest\n",
    "                 .fit(features_train, target_train)\n",
    "                 .score(features_valid, target_valid))\n",
    "    \n",
    "model_reg = LogisticRegression(random_state=42, solver='liblinear')\n",
    "result_reg = (model_reg\n",
    "                .fit(features_train, target_train)\n",
    "                .score(features_valid, target_valid))\n",
    "print(f' Accuracy: \\n Дерево решений: {result_tree} \\n Случайный лес: {result_forest} \\n Логистическая регрессия: {result_reg}')    "
   ]
  },
  {
   "cell_type": "markdown",
   "metadata": {},
   "source": [
    "На первый взгляд кажется, что модели обучились неплохо, но не всё так очевидно. Проверим модели на адекватность."
   ]
  },
  {
   "cell_type": "markdown",
   "metadata": {},
   "source": [
    "### Проверка моделей на адекватность"
   ]
  },
  {
   "cell_type": "markdown",
   "metadata": {},
   "source": [
    "Сначала узнаем распределение классов в целевом признаке."
   ]
  },
  {
   "cell_type": "code",
   "execution_count": 17,
   "metadata": {},
   "outputs": [
    {
     "name": "stdout",
     "output_type": "stream",
     "text": [
      "0    0.7975\n",
      "1    0.2025\n",
      "Name: Exited, dtype: float64\n"
     ]
    },
    {
     "data": {
      "image/png": "[encoded data removed]",
      "text/plain": [
       "<Figure size 144x144 with 1 Axes>"
      ]
     },
     "metadata": {
      "needs_background": "light"
     },
     "output_type": "display_data"
    }
   ],
   "source": [
    "#посчитаем и графически отобразим частоту классов в целевом признаке обучающей выборки\n",
    "class_frequency = target_train.value_counts(normalize=True)\n",
    "print(class_frequency)\n",
    "class_frequency.plot(kind='bar', figsize=(2, 2))\n",
    "plt.show()"
   ]
  },
  {
   "cell_type": "code",
   "execution_count": 18,
   "metadata": {},
   "outputs": [
    {
     "name": "stdout",
     "output_type": "stream",
     "text": [
      "0    0.795\n",
      "1    0.205\n",
      "Name: Exited, dtype: float64\n"
     ]
    },
    {
     "data": {
      "image/png": "[encoded data removed]",
      "text/plain": [
       "<Figure size 144x144 with 1 Axes>"
      ]
     },
     "metadata": {
      "needs_background": "light"
     },
     "output_type": "display_data"
    }
   ],
   "source": [
    "#посчитаем и графически отобразим частоту классов в целевом признаке валидационной выборки\n",
    "class_frequency = target_valid.value_counts(normalize=True)\n",
    "print(class_frequency)\n",
    "class_frequency.plot(kind='bar', figsize=(2, 2))\n",
    "plt.show()"
   ]
  },
  {
   "cell_type": "markdown",
   "metadata": {},
   "source": [
    "Мы наблюдаем сильный дисбаланс классов в обучающей и валидационной выборке. В тестовой будет тоже самое.\n",
    "\n",
    "Посмотрим частоту классов в результатах предсказаний наших моделей."
   ]
  },
  {
   "cell_type": "code",
   "execution_count": 19,
   "metadata": {},
   "outputs": [
    {
     "name": "stdout",
     "output_type": "stream",
     "text": [
      " Частота классов: \n",
      " Дерево решений: 0    0.7865\n",
      "1    0.2135\n",
      "dtype: float64 \n",
      " Случайный лес: 0    0.878\n",
      "1    0.122\n",
      "dtype: float64 \n",
      " Логистическая регрессия: 0    0.9355\n",
      "1    0.0645\n",
      "dtype: float64\n"
     ]
    }
   ],
   "source": [
    "#посмотрим баланс классов в наших моделях\n",
    "tree_freq = pd.Series(model_tree\n",
    "                        .predict(features_valid)).value_counts(normalize=True)\n",
    "    \n",
    "forest_freq = pd.Series(model_forest\n",
    "                        .predict(features_valid)).value_counts(normalize=True)\n",
    "    \n",
    "reg_freq = pd.Series(model_reg\n",
    "                     .predict(features_valid)).value_counts(normalize=True)\n",
    "print(f' Частота классов: \\n Дерево решений: {tree_freq} \\n Случайный лес: {forest_freq} \\n Логистическая регрессия: {reg_freq}') "
   ]
  },
  {
   "cell_type": "markdown",
   "metadata": {},
   "source": [
    "Видим, что все три модели чаще всего дают ответ 0. Логистическая регрессия даёт ответ 0 почти в 100% случаев.  "
   ]
  },
  {
   "cell_type": "markdown",
   "metadata": {},
   "source": [
    "Оценим модели по следующим метрикам:\n",
    "\n",
    "1. Отношение числа правильных ответов к размеру тестовой выборки называется accuracy (англ. «правильность»)\n",
    "2. Точность (англ. precision) показывает, какая доля клиентов, отмеченных моделью как 'уход клиента', действительно является уходом клиента (ответ 1).\n",
    "3. Полнота (англ. recall) выявляет, какую часть 'ушедших' объектов выделила модель.\n",
    "4. F-мера представляет собой гармоническое среднее между точностью и полнотой.\n",
    "\n",
    "Поскольку значение accuracy мы уже получили, то посчитаем только precision, recall и f-меру для всех моделей.\n"
   ]
  },
  {
   "cell_type": "code",
   "execution_count": 20,
   "metadata": {},
   "outputs": [
    {
     "name": "stdout",
     "output_type": "stream",
     "text": [
      "Precision = 0.49414519906323184\n",
      "Recall = 0.5146341463414634\n",
      "F-мера = 0.5041816009557946\n"
     ]
    }
   ],
   "source": [
    "#посчитаем точность, полноту, f-меру для дерева решений\n",
    "predictions_tree = model_tree.predict(features_valid)\n",
    "\n",
    "print('Precision =', precision_score(target_valid, predictions_tree))\n",
    "print('Recall =', recall_score(target_valid, predictions_tree))\n",
    "print('F-мера =', f1_score(target_valid, predictions_tree))"
   ]
  },
  {
   "cell_type": "code",
   "execution_count": 21,
   "metadata": {},
   "outputs": [
    {
     "name": "stdout",
     "output_type": "stream",
     "text": [
      "Precision = 0.8032786885245902\n",
      "Recall = 0.47804878048780486\n",
      "F-мера = 0.599388379204893\n"
     ]
    }
   ],
   "source": [
    "#посчитаем точность, полноту, f-меру для случайного леса\n",
    "predictions_forest = model_forest.predict(features_valid)\n",
    "\n",
    "print('Precision =', precision_score(target_valid, predictions_forest))\n",
    "print('Recall =', recall_score(target_valid, predictions_forest))\n",
    "print('F-мера =', f1_score(target_valid, predictions_forest))"
   ]
  },
  {
   "cell_type": "code",
   "execution_count": 22,
   "metadata": {},
   "outputs": [
    {
     "name": "stdout",
     "output_type": "stream",
     "text": [
      "Precision = 0.6356589147286822\n",
      "Recall = 0.2\n",
      "F-мера = 0.3042671614100186\n"
     ]
    }
   ],
   "source": [
    "#посчитаем точность, полноту, f-меру для логистической регрессии\n",
    "predictions_reg = model_reg.predict(features_valid)\n",
    "\n",
    "print('Precision =', precision_score(target_valid, predictions_reg))\n",
    "print('Recall =', recall_score(target_valid, predictions_reg))\n",
    "print('F-мера =', f1_score(target_valid, predictions_reg))"
   ]
  },
  {
   "cell_type": "markdown",
   "metadata": {},
   "source": [
    "Лучше всех себя показывает случайный лес с f-мерой в 0.59, а вот логистическая регрессия показала худший результат с f-мерой в 0.3.\n",
    "\n",
    "Теперь посторим ROC-кривую и рассчитаем AUC-ROC для наших моделей.\n",
    "\n",
    "ROC-кривая, или кривая ошибок. Чем график выше, тем больше значение TPR и лучше качество модели. Чтобы выявить, как сильно наша модель отличается от случайной, посчитаем площадь под ROC-кривой — AUC-ROC."
   ]
  },
  {
   "cell_type": "code",
   "execution_count": 23,
   "metadata": {},
   "outputs": [
    {
     "name": "stdout",
     "output_type": "stream",
     "text": [
      "AUC-ROC дерева решений: 0.6893925448688449\n",
      "AUC-ROC случайного леса: 0.865208620954134\n",
      "AUC-ROC логистической регрессии: 0.7783218285013039\n"
     ]
    },
    {
     "data": {
      "image/png": "[encoded data removed]",
      "text/plain": [
       "<Figure size 576x360 with 1 Axes>"
      ]
     },
     "metadata": {
      "needs_background": "light"
     },
     "output_type": "display_data"
    }
   ],
   "source": [
    "#roc кривая для всех моделей\n",
    "#кривая и для дерева\n",
    "plt.figure(figsize=(8,5))\n",
    "\n",
    "probabilities_valid = model_tree.predict_proba(features_valid)\n",
    "probabilities_one_valid = probabilities_valid[:, 1]\n",
    "fpr, tpr, thresholds = roc_curve(target_valid, probabilities_one_valid)\n",
    "auc_roc = roc_auc_score(target_valid, probabilities_one_valid)\n",
    "print('AUC-ROC дерева решений:', auc_roc)\n",
    "plt.plot(fpr, tpr, label='Дерево решений')\n",
    "\n",
    "#кривая для леса\n",
    "probabilities_valid = model_forest.predict_proba(features_valid)\n",
    "probabilities_one_valid = probabilities_valid[:, 1]\n",
    "fpr, tpr, thresholds = roc_curve(target_valid, probabilities_one_valid)\n",
    "auc_roc = roc_auc_score(target_valid, probabilities_one_valid)\n",
    "print('AUC-ROC случайного леса:', auc_roc)\n",
    "plt.plot(fpr, tpr, label='Случайный лес')\n",
    "\n",
    "#кривая для логистической регрессии\n",
    "probabilities_valid = model_reg.predict_proba(features_valid)\n",
    "probabilities_one_valid = probabilities_valid[:, 1]\n",
    "fpr, tpr, thresholds = roc_curve(target_valid, probabilities_one_valid)\n",
    "auc_roc = roc_auc_score(target_valid, probabilities_one_valid)\n",
    "print('AUC-ROC логистической регрессии:', auc_roc)\n",
    "\n",
    "plt.plot(fpr, tpr, label='логистическая регрессия')\n",
    "plt.plot([0, 1], [0, 1], linestyle='--')\n",
    "plt.xlim([0.0, 1.0])\n",
    "plt.ylim([0.0, 1.0])\n",
    "plt.xlabel('False Positive Rate')\n",
    "plt.ylabel('True Positive Rate')\n",
    "plt.legend(loc='lower right')\n",
    "plt.title('ROC-кривая')\n",
    "plt.show()"
   ]
  },
  {
   "cell_type": "markdown",
   "metadata": {},
   "source": [
    "**Выводы** \n",
    "\n",
    "Мы обучили три модели: дерево решений, случайный лес и логистическая регрессия. Узнали, что классы распределены следующим образом: 0 ≈ 80%, 1 ≈ 20%. По полученным данным мы делаем вывод, что f-мера и AUC-ROC лучше всех у модели случайного леса (f-мера ≈ 0.60, AUC-ROC ≈ 0.87) \n",
    "\n",
    "Теперь мы займёмся балансировкой классов, чтобы получить более точное предсказание. "
   ]
  },
  {
   "cell_type": "markdown",
   "metadata": {},
   "source": [
    "## Борьба с дисбалансом"
   ]
  },
  {
   "cell_type": "markdown",
   "metadata": {},
   "source": [
    "Чтобы увеличить качество модели при дисбалансе классов, опробуем следующие техники: \n",
    "* взвешивание классов \n",
    "* upsampling \n",
    "* downsampling"
   ]
  },
  {
   "cell_type": "markdown",
   "metadata": {},
   "source": [
    "### Взвешивание классов"
   ]
  },
  {
   "cell_type": "code",
   "execution_count": 24,
   "metadata": {},
   "outputs": [
    {
     "name": "stdout",
     "output_type": "stream",
     "text": [
      "F-мера дерева решений = 0.4894409937888199\n",
      "F-мера случайного леса = 0.5745682888540032\n",
      "F-мера логистической регрессии = 0.5104895104895104\n"
     ]
    }
   ],
   "source": [
    "#взвешивание классов\n",
    "model_tree_bal = DecisionTreeClassifier(random_state=42, class_weight='balanced')\n",
    "model_tree_bal.fit(features_train, target_train)\n",
    "predicted = model_tree_bal.predict(features_valid)\n",
    "print('F-мера дерева решений =', f1_score(target_valid, predicted))\n",
    "\n",
    "model_forest_bal = RandomForestClassifier(random_state=42, n_estimators=100, class_weight='balanced')\n",
    "model_forest_bal.fit(features_train, target_train)\n",
    "predicted = model_forest_bal.predict(features_valid)\n",
    "print('F-мера случайного леса =', f1_score(target_valid, predicted))\n",
    "\n",
    "model_reg_bal = LogisticRegression(random_state=42, solver='liblinear', class_weight='balanced')\n",
    "model_reg_bal.fit(features_train, target_train)\n",
    "predicted = model_reg_bal.predict(features_valid)\n",
    "print('F-мера логистической регрессии =', f1_score(target_valid, predicted))"
   ]
  },
  {
   "cell_type": "code",
   "execution_count": 25,
   "metadata": {},
   "outputs": [
    {
     "name": "stdout",
     "output_type": "stream",
     "text": [
      "AUC-ROC дерева решений: 0.6779797514956282\n",
      "AUC-ROC случайного леса: 0.8614258321828501\n",
      "AUC-ROC логистической регрессии: 0.7801579996932044\n"
     ]
    },
    {
     "data": {
      "image/png": "[encoded data removed]",
      "text/plain": [
       "<Figure size 576x360 with 1 Axes>"
      ]
     },
     "metadata": {
      "needs_background": "light"
     },
     "output_type": "display_data"
    }
   ],
   "source": [
    "plt.figure(figsize=(8,5))\n",
    "\n",
    "probabilities_valid = model_tree_bal.predict_proba(features_valid)\n",
    "probabilities_one_valid = probabilities_valid[:, 1]\n",
    "fpr, tpr, thresholds = roc_curve(target_valid, probabilities_one_valid)\n",
    "auc_roc = roc_auc_score(target_valid, probabilities_one_valid)\n",
    "print('AUC-ROC дерева решений:', auc_roc)\n",
    "plt.plot(fpr, tpr, label='Дерево решений')\n",
    "\n",
    "#кривая для леса\n",
    "probabilities_valid = model_forest_bal.predict_proba(features_valid)\n",
    "probabilities_one_valid = probabilities_valid[:, 1]\n",
    "fpr, tpr, thresholds = roc_curve(target_valid, probabilities_one_valid)\n",
    "auc_roc = roc_auc_score(target_valid, probabilities_one_valid)\n",
    "print('AUC-ROC случайного леса:', auc_roc)\n",
    "plt.plot(fpr, tpr, label='Случайный лес')\n",
    "\n",
    "#кривая для логистической регрессии\n",
    "probabilities_valid = model_reg_bal.predict_proba(features_valid)\n",
    "probabilities_one_valid = probabilities_valid[:, 1]\n",
    "fpr, tpr, thresholds = roc_curve(target_valid, probabilities_one_valid)\n",
    "auc_roc = roc_auc_score(target_valid, probabilities_one_valid)\n",
    "print('AUC-ROC логистической регрессии:', auc_roc)\n",
    "\n",
    "plt.plot(fpr, tpr, label='логистическая регрессия')\n",
    "plt.plot([0, 1], [0, 1], linestyle='--')\n",
    "plt.xlim([0.0, 1.0])\n",
    "plt.ylim([0.0, 1.0])\n",
    "plt.xlabel('False Positive Rate')\n",
    "plt.ylabel('True Positive Rate')\n",
    "plt.legend(loc='lower right')\n",
    "plt.title('ROC-кривая')\n",
    "plt.show()"
   ]
  },
  {
   "cell_type": "markdown",
   "metadata": {},
   "source": [
    "F-мера упала у дерева решений и случайного леса, но выросла у логистической регрессии. AUC-ROC совсем немного увеличился у логистической регрессии и немного упал у остальных моделей.\n",
    "\n",
    "Теперь попробуем увеличить выборку"
   ]
  },
  {
   "cell_type": "markdown",
   "metadata": {},
   "source": [
    "### Увеличение выборки"
   ]
  },
  {
   "cell_type": "code",
   "execution_count": 28,
   "metadata": {},
   "outputs": [
    {
     "name": "stdout",
     "output_type": "stream",
     "text": [
      "1    0.503888\n",
      "0    0.496112\n",
      "Name: Exited, dtype: float64\n"
     ]
    }
   ],
   "source": [
    "#создадим функцию upsample\n",
    "def upsample(features, target, repeat):\n",
    "    features_zeros = features[target == 0]\n",
    "    features_ones = features[target == 1]\n",
    "    target_zeros = target[target == 0]\n",
    "    target_ones = target[target == 1]\n",
    "\n",
    "    features_upsampled = pd.concat([features_zeros] + [features_ones] * repeat)\n",
    "    target_upsampled = pd.concat([target_zeros] + [target_ones] * repeat)\n",
    "    \n",
    "    features_upsampled, target_upsampled = shuffle(\n",
    "        features_upsampled, target_upsampled, random_state=42)\n",
    "    \n",
    "    return features_upsampled, target_upsampled\n",
    "\n",
    "features_upsampled, target_upsampled = upsample(features_train, target_train, 4) \n",
    "print(target_upsampled.value_counts(normalize=True))"
   ]
  },
  {
   "cell_type": "markdown",
   "metadata": {},
   "source": [
    "Лучше всего получается результат, когда повторение = 4"
   ]
  },
  {
   "cell_type": "code",
   "execution_count": 29,
   "metadata": {},
   "outputs": [
    {
     "name": "stdout",
     "output_type": "stream",
     "text": [
      "F-мера дерева решений = 0.50187265917603\n",
      "F-мера случайного леса = 0.6153846153846154\n",
      "F-мера логистической регрессии = 0.5065047701647875\n"
     ]
    }
   ],
   "source": [
    "#обучим на новых данных наши модели\n",
    "model_tree_up = DecisionTreeClassifier(random_state=42)\n",
    "model_tree_up.fit(features_upsampled, target_upsampled)\n",
    "predicted = model_tree_up.predict(features_valid)\n",
    "print('F-мера дерева решений =', f1_score(target_valid, predicted))\n",
    "\n",
    "model_forest_up = RandomForestClassifier(random_state=42, n_estimators=100)\n",
    "model_forest_up.fit(features_upsampled, target_upsampled)\n",
    "predicted = model_forest_up.predict(features_valid)\n",
    "print('F-мера случайного леса =', f1_score(target_valid, predicted))\n",
    "\n",
    "model_reg_up = LogisticRegression(random_state=42, solver='liblinear')\n",
    "model_reg_up.fit(features_upsampled, target_upsampled)\n",
    "predicted = model_reg_up.predict(features_valid)\n",
    "print('F-мера логистической регрессии =', f1_score(target_valid, predicted))"
   ]
  },
  {
   "cell_type": "code",
   "execution_count": 30,
   "metadata": {},
   "outputs": [
    {
     "name": "stdout",
     "output_type": "stream",
     "text": [
      "AUC-ROC дерева решений: 0.6853735235465562\n",
      "AUC-ROC случайного леса: 0.8589400214756865\n",
      "AUC-ROC логистической регрессии: 0.7801518637827889\n"
     ]
    },
    {
     "data": {
      "image/png": "[encoded data removed]",
      "text/plain": [
       "<Figure size 576x360 with 1 Axes>"
      ]
     },
     "metadata": {
      "needs_background": "light"
     },
     "output_type": "display_data"
    }
   ],
   "source": [
    "plt.figure(figsize=(8,5))\n",
    "\n",
    "probabilities_valid = model_tree_up.predict_proba(features_valid)\n",
    "probabilities_one_valid = probabilities_valid[:, 1]\n",
    "fpr, tpr, thresholds = roc_curve(target_valid, probabilities_one_valid)\n",
    "auc_roc = roc_auc_score(target_valid, probabilities_one_valid)\n",
    "print('AUC-ROC дерева решений:', auc_roc)\n",
    "plt.plot(fpr, tpr, label='Дерево решений')\n",
    "\n",
    "#кривая для леса\n",
    "probabilities_valid = model_forest_up.predict_proba(features_valid)\n",
    "probabilities_one_valid = probabilities_valid[:, 1]\n",
    "fpr, tpr, thresholds = roc_curve(target_valid, probabilities_one_valid)\n",
    "auc_roc = roc_auc_score(target_valid, probabilities_one_valid)\n",
    "print('AUC-ROC случайного леса:', auc_roc)\n",
    "plt.plot(fpr, tpr, label='Случайный лес')\n",
    "\n",
    "#кривая для логистической регрессии\n",
    "probabilities_valid = model_reg_up.predict_proba(features_valid)\n",
    "probabilities_one_valid = probabilities_valid[:, 1]\n",
    "fpr, tpr, thresholds = roc_curve(target_valid, probabilities_one_valid)\n",
    "auc_roc = roc_auc_score(target_valid, probabilities_one_valid)\n",
    "print('AUC-ROC логистической регрессии:', auc_roc)\n",
    "\n",
    "plt.plot(fpr, tpr, label='логистическая регрессия')\n",
    "plt.plot([0, 1], [0, 1], linestyle='--')\n",
    "plt.xlim([0.0, 1.0])\n",
    "plt.ylim([0.0, 1.0])\n",
    "plt.xlabel('False Positive Rate')\n",
    "plt.ylabel('True Positive Rate')\n",
    "plt.legend(loc='lower right')\n",
    "plt.title('ROC-кривая')\n",
    "plt.show()"
   ]
  },
  {
   "cell_type": "markdown",
   "metadata": {},
   "source": [
    "F-мера сильно увеличилась у случайного леса и логистической регрессии, а у дерева решений осталась ± такой же. А вот AUC-ROC ± не изменился у всех моделей."
   ]
  },
  {
   "cell_type": "markdown",
   "metadata": {},
   "source": [
    "### Уменьшение выборки"
   ]
  },
  {
   "cell_type": "code",
   "execution_count": 31,
   "metadata": {},
   "outputs": [
    {
     "name": "stdout",
     "output_type": "stream",
     "text": [
      "1    0.50394\n",
      "0    0.49606\n",
      "Name: Exited, dtype: float64\n"
     ]
    }
   ],
   "source": [
    "#создадим функцию downsample\n",
    "def downsample(features, target, fraction):\n",
    "    features_zeros = features[target == 0]\n",
    "    features_ones = features[target == 1]\n",
    "    target_zeros = target[target == 0]\n",
    "    target_ones = target[target == 1]\n",
    "\n",
    "    features_downsampled = pd.concat(\n",
    "        [features_zeros.sample(frac=fraction, random_state=42)] + [features_ones])\n",
    "    target_downsampled = pd.concat(\n",
    "        [target_zeros.sample(frac=fraction, random_state=42)] + [target_ones])\n",
    "    \n",
    "    features_downsampled, target_downsampled = shuffle(\n",
    "        features_downsampled, target_downsampled, random_state=42)\n",
    "    \n",
    "    return features_downsampled, target_downsampled\n",
    "\n",
    "features_downsampled, target_downsampled = downsample(features_train, target_train, 0.25)\n",
    "print(target_downsampled.value_counts(normalize=True))"
   ]
  },
  {
   "cell_type": "markdown",
   "metadata": {},
   "source": [
    "Лучше всего получается результат, когда доля = 0.25"
   ]
  },
  {
   "cell_type": "code",
   "execution_count": 32,
   "metadata": {},
   "outputs": [
    {
     "name": "stdout",
     "output_type": "stream",
     "text": [
      "F-мера дерева решений = 0.5012919896640826\n",
      "F-мера случайного леса = 0.6000000000000001\n",
      "F-мера логистической регрессии = 0.504704875962361\n"
     ]
    }
   ],
   "source": [
    "#обучим на новых данных наши модели\n",
    "model_tree_down = DecisionTreeClassifier(random_state=42)\n",
    "model_tree_down.fit(features_downsampled, target_downsampled)\n",
    "predicted = model_tree_down.predict(features_valid)\n",
    "print('F-мера дерева решений =', f1_score(target_valid, predicted))\n",
    "\n",
    "model_forest_down = RandomForestClassifier(random_state=42, n_estimators=100)\n",
    "model_forest_down.fit(features_downsampled, target_downsampled)\n",
    "predicted = model_forest_down.predict(features_valid)\n",
    "print('F-мера случайного леса =', f1_score(target_valid, predicted))\n",
    "\n",
    "model_reg_down = LogisticRegression(random_state=42, solver='liblinear')\n",
    "model_reg_down.fit(features_downsampled, target_downsampled)\n",
    "predicted = model_reg_down.predict(features_valid)\n",
    "print('F-мера логистической регрессии =', f1_score(target_valid, predicted))"
   ]
  },
  {
   "cell_type": "code",
   "execution_count": 33,
   "metadata": {},
   "outputs": [
    {
     "name": "stdout",
     "output_type": "stream",
     "text": [
      "AUC-ROC дерева решений: 0.7102239607301734\n",
      "AUC-ROC случайного леса: 0.8594838165362786\n",
      "AUC-ROC логистической регрессии: 0.779894155545329\n"
     ]
    },
    {
     "data": {
      "image/png": "[encoded data removed]",
      "text/plain": [
       "<Figure size 576x360 with 1 Axes>"
      ]
     },
     "metadata": {
      "needs_background": "light"
     },
     "output_type": "display_data"
    }
   ],
   "source": [
    "plt.figure(figsize=(8,5))\n",
    "\n",
    "probabilities_valid = model_tree_down.predict_proba(features_valid)\n",
    "probabilities_one_valid = probabilities_valid[:, 1]\n",
    "fpr, tpr, thresholds = roc_curve(target_valid, probabilities_one_valid)\n",
    "auc_roc = roc_auc_score(target_valid, probabilities_one_valid)\n",
    "print('AUC-ROC дерева решений:', auc_roc)\n",
    "plt.plot(fpr, tpr, label='Дерево решений')\n",
    "\n",
    "#кривая для леса\n",
    "probabilities_valid = model_forest_down.predict_proba(features_valid)\n",
    "probabilities_one_valid = probabilities_valid[:, 1]\n",
    "fpr, tpr, thresholds = roc_curve(target_valid, probabilities_one_valid)\n",
    "auc_roc = roc_auc_score(target_valid, probabilities_one_valid)\n",
    "print('AUC-ROC случайного леса:', auc_roc)\n",
    "plt.plot(fpr, tpr, label='Случайный лес')\n",
    "\n",
    "#кривая для логистической регрессии\n",
    "probabilities_valid = model_reg_down.predict_proba(features_valid)\n",
    "probabilities_one_valid = probabilities_valid[:, 1]\n",
    "fpr, tpr, thresholds = roc_curve(target_valid, probabilities_one_valid)\n",
    "auc_roc = roc_auc_score(target_valid, probabilities_one_valid)\n",
    "print('AUC-ROC логистической регрессии:', auc_roc)\n",
    "\n",
    "plt.plot(fpr, tpr, label='логистическая регрессия')\n",
    "plt.plot([0, 1], [0, 1], linestyle='--')\n",
    "plt.xlim([0.0, 1.0])\n",
    "plt.ylim([0.0, 1.0])\n",
    "plt.xlabel('False Positive Rate')\n",
    "plt.ylabel('True Positive Rate')\n",
    "plt.legend(loc='lower right')\n",
    "plt.title('ROC-кривая')\n",
    "plt.show()"
   ]
  },
  {
   "cell_type": "markdown",
   "metadata": {},
   "source": [
    "F-мера увеличилась у леса и регрессии, а у дерева осталась ± такой же. AUC-ROC заметно вырос у дерева решений, а у остальных ± без изменений.\n",
    "\n",
    "**Выводы**\n",
    "\n",
    "Из всех 3х методов борьбы с дисбалансом лучшим решением оказалось увеличение выборки. При увеличении выборки модели леса и регрессии показали хороший рост f-меры, а дерево ± не изменилось.\n",
    "\n",
    "Теперь найдём модели с лучшим результатом"
   ]
  },
  {
   "cell_type": "markdown",
   "metadata": {},
   "source": [
    "### Поиск лучших моделей"
   ]
  },
  {
   "cell_type": "code",
   "execution_count": 242,
   "metadata": {},
   "outputs": [
    {
     "name": "stdout",
     "output_type": "stream",
     "text": [
      "Дерево решений: \n",
      "лучшая глубина: 7 , \n",
      "лучший критерий: gini , \n",
      "лучший разветвитель: random , \n",
      "Accuracy: 0.8155 , \n",
      "Precision: 0.5387523629489603 , \n",
      "Recall: 0.6951219512195121 , \n",
      "F-мера: 0.6070287539936102\n"
     ]
    }
   ],
   "source": [
    "#Дерево решений\n",
    "best_acc_tree = 0\n",
    "best_prec_tree = 0\n",
    "best_rec_tree = 0\n",
    "best_f1_tree = 0\n",
    "best_depth = None\n",
    "best_crit = ''\n",
    "best_split = ''\n",
    "best_model_tree = None\n",
    "for depth in range(1, 20):\n",
    "    for crit in {'gini', 'entropy'}:    \n",
    "        for split in {'best', 'random'}:\n",
    "            model_best_tree = DecisionTreeClassifier(random_state=42, max_depth=depth, criterion=crit, splitter=split)               \n",
    "            model_best_tree.fit(features_upsampled, target_upsampled)            \n",
    "            predictions = model_best_tree.predict(features_valid)        \n",
    "            accuracy_tree = accuracy_score(target_valid, predictions)\n",
    "            precision_tree = precision_score(target_valid, predictions)\n",
    "            recall_tree = recall_score(target_valid, predictions)\n",
    "            f1_tree = f1_score(target_valid, predictions)\n",
    "            if accuracy_tree > best_acc_tree:\n",
    "                best_acc_tree = accuracy_tree\n",
    "                best_prec_tree = precision_tree\n",
    "                best_rec_tree = recall_tree\n",
    "                best_f1_tree = f1_tree\n",
    "                best_depth = depth\n",
    "                best_crit = crit\n",
    "                best_split = split\n",
    "                best_model_tree = model_best_tree\n",
    "    \n",
    "print('Дерево решений:', \n",
    "      '\\nлучшая глубина:', best_depth, ', ' \n",
    "      '\\nлучший критерий:', best_crit, ', ' \n",
    "      '\\nлучший разветвитель:', best_split, ', '\n",
    "      '\\nAccuracy:', best_acc_tree, ', '\n",
    "      '\\nPrecision:', best_prec_tree, ', '\n",
    "      '\\nRecall:', best_rec_tree, ', '\n",
    "      '\\nF-мера:', best_f1_tree)"
   ]
  },
  {
   "cell_type": "code",
   "execution_count": 243,
   "metadata": {},
   "outputs": [
    {
     "name": "stdout",
     "output_type": "stream",
     "text": [
      "Случайный лес: \n",
      "лучшее количество деревьев: 80 , \n",
      "лучший критерий: entropy , \n",
      "Accuracy: 0.865 , \n",
      "Precision: 0.7108433734939759 , \n",
      "Recall: 0.5756097560975609 , \n",
      "F-мера: 0.6361185983827492\n"
     ]
    }
   ],
   "source": [
    "#Случайный лес\n",
    "best_acc_forest = 0\n",
    "best_prec_forest = 0\n",
    "best_rec_forest = 0\n",
    "best_f1_forest = 0\n",
    "best_est = None\n",
    "best_criter = ''\n",
    "best_model_forest = None\n",
    "for est in range(10, 120, 5):\n",
    "    for criter in {'gini', 'entropy'}:    \n",
    "        model_best_forest = RandomForestClassifier(random_state=42, n_estimators=est, criterion=criter)               \n",
    "        model_best_forest.fit(features_upsampled, target_upsampled)            \n",
    "        predictions = model_best_forest.predict(features_valid)        \n",
    "        accuracy_forest = accuracy_score(target_valid, predictions)\n",
    "        precision_forest = precision_score(target_valid, predictions)\n",
    "        recall_forest = recall_score(target_valid, predictions)\n",
    "        f1_forest = f1_score(target_valid, predictions)\n",
    "        if accuracy_forest > best_acc_forest:\n",
    "            best_acc_forest = accuracy_forest\n",
    "            best_prec_forest = precision_forest\n",
    "            best_rec_forest = recall_forest\n",
    "            best_f1_forest = f1_forest\n",
    "            best_est = est\n",
    "            best_criter = criter\n",
    "            best_model_forest = model_best_forest\n",
    "    \n",
    "print('Случайный лес:', \n",
    "      '\\nлучшее количество деревьев:', best_est, ', ' \n",
    "      '\\nлучший критерий:', best_criter, ', ' \n",
    "      '\\nAccuracy:', best_acc_forest, ', '\n",
    "      '\\nPrecision:', best_prec_forest, ', '\n",
    "      '\\nRecall:', best_rec_forest, ', '\n",
    "      '\\nF-мера:', best_f1_forest)"
   ]
  },
  {
   "cell_type": "code",
   "execution_count": 244,
   "metadata": {},
   "outputs": [
    {
     "name": "stdout",
     "output_type": "stream",
     "text": [
      "Логистическая регрессия: \n",
      "лучшая итерация: 50 , \n",
      "лучший алгоритм: lbfgs , \n",
      "Accuracy: 0.7155 , \n",
      "Precision: 0.39300134589502017 , \n",
      "Recall: 0.7121951219512195 , \n",
      "F-мера: 0.5065047701647875\n"
     ]
    }
   ],
   "source": [
    "#Логистическая регрессия\n",
    "best_acc_reg = 0\n",
    "best_prec_reg = 0\n",
    "best_rec_reg = 0\n",
    "best_f1_reg = 0\n",
    "best_it = None\n",
    "best_sol = ''\n",
    "best_model_reg = None\n",
    "for it in range(50, 200):\n",
    "    for sol in {'lbfgs', 'liblinear'}:    \n",
    "        model_best_reg = LogisticRegression(random_state=42, solver=sol, max_iter=it)               \n",
    "        model_best_reg.fit(features_upsampled, target_upsampled)            \n",
    "        predictions = model_best_reg.predict(features_valid)        \n",
    "        accuracy_reg = accuracy_score(target_valid, predictions)\n",
    "        precision_reg = precision_score(target_valid, predictions)\n",
    "        recall_reg = recall_score(target_valid, predictions)\n",
    "        f1_reg = f1_score(target_valid, predictions)\n",
    "        if accuracy_reg > best_acc_reg:\n",
    "            best_acc_reg = accuracy_reg\n",
    "            best_prec_reg = precision_reg\n",
    "            best_rec_reg = recall_reg\n",
    "            best_f1_reg = f1_reg\n",
    "            best_it = it\n",
    "            best_sol = sol\n",
    "            best_model_reg = model_best_reg\n",
    "    \n",
    "print('Логистическая регрессия:', \n",
    "      '\\nлучшая итерация:', best_it, ', ' \n",
    "      '\\nлучший алгоритм:', best_sol, ', ' \n",
    "      '\\nAccuracy:', best_acc_reg, ', '\n",
    "      '\\nPrecision:', best_prec_reg, ', '\n",
    "      '\\nRecall:', best_rec_reg, ', '\n",
    "      '\\nF-мера:', best_f1_reg)"
   ]
  },
  {
   "cell_type": "markdown",
   "metadata": {},
   "source": [
    "Теперь посторим ROC-кривую и рассчитаем AUC-ROC для наших лучших моделей."
   ]
  },
  {
   "cell_type": "code",
   "execution_count": 245,
   "metadata": {},
   "outputs": [
    {
     "name": "stdout",
     "output_type": "stream",
     "text": [
      "AUC-ROC дерева решений: 0.838989875747814\n",
      "AUC-ROC случайного леса: 0.8621506366007053\n",
      "AUC-ROC логистической регрессии: 0.7801564657156006\n"
     ]
    },
    {
     "data": {
      "image/png": "[encoded data removed]",
      "text/plain": [
       "<Figure size 576x360 with 1 Axes>"
      ]
     },
     "metadata": {
      "needs_background": "light"
     },
     "output_type": "display_data"
    }
   ],
   "source": [
    "#roc кривая для всех лучших моделей\n",
    "plt.figure(figsize=(8,5))\n",
    "\n",
    "#кривая для дерева\n",
    "probabilities_valid = best_model_tree.predict_proba(features_valid)\n",
    "probabilities_one_valid = probabilities_valid[:, 1]\n",
    "fpr, tpr, thresholds = roc_curve(target_valid, probabilities_one_valid)\n",
    "auc_roc = roc_auc_score(target_valid, probabilities_one_valid)\n",
    "print('AUC-ROC дерева решений:', auc_roc)\n",
    "plt.plot(fpr, tpr, label='Дерево решений')\n",
    "\n",
    "#кривая для леса\n",
    "probabilities_valid = best_model_forest.predict_proba(features_valid)\n",
    "probabilities_one_valid = probabilities_valid[:, 1]\n",
    "fpr, tpr, thresholds = roc_curve(target_valid, probabilities_one_valid)\n",
    "auc_roc = roc_auc_score(target_valid, probabilities_one_valid)\n",
    "print('AUC-ROC случайного леса:', auc_roc)\n",
    "plt.plot(fpr, tpr, label='Случайный лес')\n",
    "\n",
    "#кривая для логистической регрессии\n",
    "probabilities_valid = best_model_reg.predict_proba(features_valid)\n",
    "probabilities_one_valid = probabilities_valid[:, 1]\n",
    "fpr, tpr, thresholds = roc_curve(target_valid, probabilities_one_valid)\n",
    "auc_roc = roc_auc_score(target_valid, probabilities_one_valid)\n",
    "print('AUC-ROC логистической регрессии:', auc_roc)\n",
    "\n",
    "plt.plot(fpr, tpr, label='логистическая регрессия')\n",
    "plt.plot([0, 1], [0, 1], linestyle='--')\n",
    "plt.xlim([0.0, 1.0])\n",
    "plt.ylim([0.0, 1.0])\n",
    "plt.xlabel('False Positive Rate')\n",
    "plt.ylabel('True Positive Rate')\n",
    "plt.legend(loc='lower right')\n",
    "plt.title('ROC-кривая')\n",
    "plt.show()"
   ]
  },
  {
   "cell_type": "markdown",
   "metadata": {},
   "source": [
    "**Вывод** \n",
    "\n",
    "Теперь можно уверенно сказать, что дисбаланс классов повлиял на наши модели. Лучшим способом борьбы с дисбалансом стало увеличение выборки (upsampling). Лучшей моделью с увеличенной выборкой стал случайный лес, его f-мера была равна 0.61, что является неплохим резуьтатом.\n",
    "\n",
    "После мы провели ещё одно исследование, чтобы найти модели с лучшими гиперпараметрами на увеличенной выборке. Такой моделью стал случайный лес с результатом:\n",
    "* Лучшее дерево: 80\n",
    "* Лучший критерий: entropy\n",
    "* Accuracy: 0.865\n",
    "* Precision: 0.7108433734939759\n",
    "* Recall: 0.5756097560975609 \n",
    "* F-мера: 0.6361185983827492\n",
    "* AUC-ROC: 0.8621506366007053"
   ]
  },
  {
   "cell_type": "markdown",
   "metadata": {},
   "source": [
    "Теперь проверим как поведёт себя модель случайного леса на тестовой выборке"
   ]
  },
  {
   "cell_type": "markdown",
   "metadata": {},
   "source": [
    "## Тестирование модели"
   ]
  },
  {
   "cell_type": "code",
   "execution_count": 248,
   "metadata": {},
   "outputs": [
    {
     "name": "stdout",
     "output_type": "stream",
     "text": [
      "Accuracy лучшей модели случайного леса = 0.846\n",
      "Precision лучшей модели случайного леса = 0.6420765027322405\n",
      "Recall лучшей модели случайного леса = 0.5703883495145631\n",
      "F-мера лучшей модели случайного леса = 0.6041131105398458\n"
     ]
    }
   ],
   "source": [
    "#проведём тестирование модели случайного леса\n",
    "predictions_forest = best_model_forest.predict(features_test)\n",
    "\n",
    "print('Accuracy лучшей модели случайного леса =', accuracy_score(target_test, predictions_forest))\n",
    "print('Precision лучшей модели случайного леса =', precision_score(target_test, predictions_forest))\n",
    "print('Recall лучшей модели случайного леса =', recall_score(target_test, predictions_forest))\n",
    "print('F-мера лучшей модели случайного леса =', f1_score(target_test, predictions_forest))"
   ]
  },
  {
   "cell_type": "code",
   "execution_count": 249,
   "metadata": {},
   "outputs": [
    {
     "name": "stdout",
     "output_type": "stream",
     "text": [
      "AUC-ROC лучшей модели случайного леса: 0.8428145863392923\n"
     ]
    },
    {
     "data": {
      "image/png": "[encoded data removed]",
      "text/plain": [
       "<Figure size 576x360 with 1 Axes>"
      ]
     },
     "metadata": {
      "needs_background": "light"
     },
     "output_type": "display_data"
    }
   ],
   "source": [
    "probabilities_valid = best_model_forest.predict_proba(features_test)\n",
    "probabilities_one_valid = probabilities_valid[:, 1]\n",
    "fpr, tpr, thresholds = roc_curve(target_test, probabilities_one_valid)\n",
    "auc_roc = roc_auc_score(target_test, probabilities_one_valid)\n",
    "print('AUC-ROC лучшей модели случайного леса:', auc_roc)\n",
    "plt.figure(figsize=(8,5))\n",
    "plt.plot(fpr, tpr, label='Случайный лес')\n",
    "plt.plot([0, 1], [0, 1], linestyle='--')\n",
    "plt.xlim([0.0, 1.0])\n",
    "plt.ylim([0.0, 1.0])\n",
    "plt.xlabel('False Positive Rate')\n",
    "plt.ylabel('True Positive Rate')\n",
    "plt.legend(loc='lower right')\n",
    "plt.title('ROC-кривая')\n",
    "plt.show()"
   ]
  },
  {
   "cell_type": "code",
   "execution_count": 251,
   "metadata": {},
   "outputs": [
    {
     "name": "stdout",
     "output_type": "stream",
     "text": [
      "0.794\n"
     ]
    }
   ],
   "source": [
    "const_predictions = [0 for i, _ in enumerate(target_test)]\n",
    "print(accuracy_score(target_test, const_predictions))"
   ]
  },
  {
   "cell_type": "markdown",
   "metadata": {},
   "source": [
    "**Выводы**\n",
    "\n",
    "Можно сказать, что модель справилась с задачей. F-мера на тестовой выборке 0.604, что больше пороговой в 0.59. Но можно обратить внимание, что общие результаты на тестовой выборке слегка меньше, нежели на валидационной. \n",
    "\n",
    "Значение accuracy нашей лучшей модели на тестовой выборке выше accuracy константной модели, что говорит об адекватности нашей модели случайного леса."
   ]
  },
  {
   "cell_type": "markdown",
   "metadata": {},
   "source": [
    "## Итоговый вывод"
   ]
  },
  {
   "cell_type": "markdown",
   "metadata": {},
   "source": [
    "В ходе работы мы:\n",
    "\n",
    "1. Изучили данные «Бета-Банка»\n",
    "2. Избавились от пропусков в данных\n",
    "3. Подготовили данные для обучения\n",
    "4. Разбили данные на три выборки: обучающая, валидационная, тестовая\n",
    "5. Произвели масштабирование признаков\n",
    "6. Обучили модели с дисбалансными классами и проверили их на адекватность\n",
    "7. В борьбе с дисбалансом использовали три техники: взвешивание классов, увеличение выборки и уменьшение выборки\n",
    "8. Нашли модель с лучшими гиперпараметрами\n",
    "9. Провели тестирование на лучшей модели\n",
    "\n",
    "В изначальных данных наблюдался сильный дисбаланс классов (0 ≈ 80%, 1 ≈ 20%), из-за чего f-мера и AUC-ROC были довольно низкими. Лучшей техникой для балансировки стал upsampling. На новых данных модели показывали более высокий результат.\n",
    "\n",
    "Заметим, что AUC-ROC и F-мера случайного леса с дисбалансом(F-мера = 0.59, AUC-ROC = 0.86) и балансом (F-мера = 0.636, AUC-ROC = 0.86) очень схожи. Но балансировка классов очень помогла дереву решений и логистической регрессии. \n",
    "\n",
    "**В итоге**\n",
    "\n",
    "Лучшая модель - случайный лес с увеличенной выборкой. У этой модели наблюдались лучшие показатели f-меры и AUC-ROC. Модель признана адекватной, поскольку правильность константной модели 0.794, а у нашей модели 0.865. AUC-ROC константной модели 0.5, а у нас 0.86.\n",
    "\n",
    "Лучшие гиперпараметры и метрики модели:\n",
    "* Лучшее количество деревьев: 80 \n",
    "* Лучший критерий: entropy \n",
    "* Правильность: 0.865\n",
    "* Точность: 0.7108433734939759\n",
    "* Полнота: 0.5756097560975609\n",
    "* F-мера: 0.6361185983827492\n",
    "* AUC-ROC: 0.8621506366007053"
   ]
  }
 ],
 "metadata": {
  "ExecuteTimeLog": [
   {
    "duration": 1465,
    "start_time": "2022-11-22T11:00:01.448Z"
   },
   {
    "duration": 178,
    "start_time": "2022-11-22T11:03:13.733Z"
   },
   {
    "duration": 23,
    "start_time": "2022-11-22T11:03:39.348Z"
   },
   {
    "duration": 14,
    "start_time": "2022-11-22T11:36:57.195Z"
   },
   {
    "duration": 54,
    "start_time": "2022-11-22T11:37:24.332Z"
   },
   {
    "duration": 110,
    "start_time": "2022-11-22T13:04:10.715Z"
   },
   {
    "duration": 519,
    "start_time": "2022-11-22T13:04:20.991Z"
   },
   {
    "duration": 4,
    "start_time": "2022-11-22T13:12:38.527Z"
   },
   {
    "duration": 13,
    "start_time": "2022-11-22T13:14:08.750Z"
   },
   {
    "duration": 5,
    "start_time": "2022-11-22T13:17:06.401Z"
   },
   {
    "duration": 6,
    "start_time": "2022-11-22T13:17:55.836Z"
   },
   {
    "duration": 8,
    "start_time": "2022-11-22T13:51:52.242Z"
   },
   {
    "duration": 6,
    "start_time": "2022-11-22T13:51:57.564Z"
   },
   {
    "duration": 7,
    "start_time": "2022-11-22T13:52:03.937Z"
   },
   {
    "duration": 207,
    "start_time": "2022-11-22T14:12:55.366Z"
   },
   {
    "duration": 200,
    "start_time": "2022-11-22T14:13:03.344Z"
   },
   {
    "duration": 5,
    "start_time": "2022-11-22T14:14:17.318Z"
   },
   {
    "duration": 205,
    "start_time": "2022-11-22T14:14:20.870Z"
   },
   {
    "duration": 209,
    "start_time": "2022-11-22T14:14:25.528Z"
   },
   {
    "duration": 92,
    "start_time": "2022-11-22T14:14:45.496Z"
   },
   {
    "duration": 4,
    "start_time": "2022-11-22T14:14:49.884Z"
   },
   {
    "duration": 26,
    "start_time": "2022-11-22T14:14:51.688Z"
   },
   {
    "duration": 5,
    "start_time": "2022-11-22T14:30:41.108Z"
   },
   {
    "duration": 24,
    "start_time": "2022-11-22T14:30:43.661Z"
   },
   {
    "duration": 12,
    "start_time": "2022-11-22T14:31:04.662Z"
   },
   {
    "duration": 18,
    "start_time": "2022-11-22T14:31:22.348Z"
   },
   {
    "duration": 19,
    "start_time": "2022-11-22T14:31:43.325Z"
   },
   {
    "duration": 20,
    "start_time": "2022-11-22T14:31:54.709Z"
   },
   {
    "duration": 29,
    "start_time": "2022-11-22T14:32:09.044Z"
   },
   {
    "duration": 11,
    "start_time": "2022-11-22T14:44:47.284Z"
   },
   {
    "duration": 4,
    "start_time": "2022-11-22T14:45:48.148Z"
   },
   {
    "duration": 1112,
    "start_time": "2022-11-23T06:38:04.915Z"
   },
   {
    "duration": 164,
    "start_time": "2022-11-23T06:38:06.029Z"
   },
   {
    "duration": 21,
    "start_time": "2022-11-23T06:38:06.194Z"
   },
   {
    "duration": 12,
    "start_time": "2022-11-23T06:38:06.216Z"
   },
   {
    "duration": 40,
    "start_time": "2022-11-23T06:38:06.230Z"
   },
   {
    "duration": 502,
    "start_time": "2022-11-23T06:38:06.271Z"
   },
   {
    "duration": 4,
    "start_time": "2022-11-23T06:38:06.775Z"
   },
   {
    "duration": 26,
    "start_time": "2022-11-23T06:38:06.781Z"
   },
   {
    "duration": 4,
    "start_time": "2022-11-23T06:38:06.808Z"
   },
   {
    "duration": 7,
    "start_time": "2022-11-23T06:38:06.814Z"
   },
   {
    "duration": 9,
    "start_time": "2022-11-23T06:38:06.823Z"
   },
   {
    "duration": 7,
    "start_time": "2022-11-23T06:38:06.834Z"
   },
   {
    "duration": 23,
    "start_time": "2022-11-23T06:38:06.843Z"
   },
   {
    "duration": 37,
    "start_time": "2022-11-23T06:38:06.868Z"
   },
   {
    "duration": 9,
    "start_time": "2022-11-23T06:38:12.039Z"
   },
   {
    "duration": 26,
    "start_time": "2022-11-23T06:41:38.267Z"
   },
   {
    "duration": 20,
    "start_time": "2022-11-23T06:41:55.194Z"
   },
   {
    "duration": 19,
    "start_time": "2022-11-23T06:42:07.107Z"
   },
   {
    "duration": 23,
    "start_time": "2022-11-23T06:43:04.840Z"
   },
   {
    "duration": 38,
    "start_time": "2022-11-23T06:43:23.226Z"
   },
   {
    "duration": 24,
    "start_time": "2022-11-23T06:56:56.066Z"
   },
   {
    "duration": 4,
    "start_time": "2022-11-23T07:43:21.839Z"
   },
   {
    "duration": 110,
    "start_time": "2022-11-23T07:43:42.939Z"
   },
   {
    "duration": 111,
    "start_time": "2022-11-23T07:44:04.429Z"
   },
   {
    "duration": 11,
    "start_time": "2022-11-23T07:44:38.670Z"
   },
   {
    "duration": 11,
    "start_time": "2022-11-23T07:44:52.207Z"
   },
   {
    "duration": 10,
    "start_time": "2022-11-23T07:46:11.059Z"
   },
   {
    "duration": 5,
    "start_time": "2022-11-23T07:46:25.770Z"
   },
   {
    "duration": 13,
    "start_time": "2022-11-23T07:46:45.516Z"
   },
   {
    "duration": 4,
    "start_time": "2022-11-23T07:47:07.235Z"
   },
   {
    "duration": 748,
    "start_time": "2022-11-23T07:47:09.115Z"
   },
   {
    "duration": 4,
    "start_time": "2022-11-23T07:47:14.950Z"
   },
   {
    "duration": 781,
    "start_time": "2022-11-23T07:47:16.346Z"
   },
   {
    "duration": 81,
    "start_time": "2022-11-23T07:47:32.418Z"
   },
   {
    "duration": 5,
    "start_time": "2022-11-23T07:47:43.162Z"
   },
   {
    "duration": 4,
    "start_time": "2022-11-23T07:48:26.187Z"
   },
   {
    "duration": 755,
    "start_time": "2022-11-23T07:48:26.708Z"
   },
   {
    "duration": 4,
    "start_time": "2022-11-23T07:48:31.569Z"
   },
   {
    "duration": 760,
    "start_time": "2022-11-23T07:48:33.746Z"
   },
   {
    "duration": 131,
    "start_time": "2022-11-23T07:51:36.648Z"
   },
   {
    "duration": 106,
    "start_time": "2022-11-23T07:51:46.678Z"
   },
   {
    "duration": 74,
    "start_time": "2022-11-23T07:52:29.887Z"
   },
   {
    "duration": 6,
    "start_time": "2022-11-23T07:52:35.032Z"
   },
   {
    "duration": 146,
    "start_time": "2022-11-23T07:52:41.452Z"
   },
   {
    "duration": 88,
    "start_time": "2022-11-23T07:58:23.047Z"
   },
   {
    "duration": 191,
    "start_time": "2022-11-23T07:59:15.360Z"
   },
   {
    "duration": 8,
    "start_time": "2022-11-23T08:36:01.082Z"
   },
   {
    "duration": 48,
    "start_time": "2022-11-23T08:36:11.793Z"
   },
   {
    "duration": 7,
    "start_time": "2022-11-23T08:37:15.176Z"
   },
   {
    "duration": 5,
    "start_time": "2022-11-23T08:37:21.488Z"
   },
   {
    "duration": 53,
    "start_time": "2022-11-23T08:37:22.104Z"
   },
   {
    "duration": 7,
    "start_time": "2022-11-23T08:38:36.177Z"
   },
   {
    "duration": 54,
    "start_time": "2022-11-23T08:38:37.000Z"
   },
   {
    "duration": 5,
    "start_time": "2022-11-23T08:39:00.620Z"
   },
   {
    "duration": 863,
    "start_time": "2022-11-23T08:39:01.048Z"
   },
   {
    "duration": 5,
    "start_time": "2022-11-23T08:40:50.091Z"
   },
   {
    "duration": 784,
    "start_time": "2022-11-23T08:40:51.783Z"
   },
   {
    "duration": 83,
    "start_time": "2022-11-23T08:42:00.582Z"
   },
   {
    "duration": 5,
    "start_time": "2022-11-23T08:42:16.182Z"
   },
   {
    "duration": 4,
    "start_time": "2022-11-23T08:42:42.426Z"
   },
   {
    "duration": 79,
    "start_time": "2022-11-23T08:44:21.556Z"
   },
   {
    "duration": 5,
    "start_time": "2022-11-23T08:45:19.957Z"
   },
   {
    "duration": 864,
    "start_time": "2022-11-23T08:45:22.765Z"
   },
   {
    "duration": 9,
    "start_time": "2022-11-23T08:57:24.256Z"
   },
   {
    "duration": 8,
    "start_time": "2022-11-23T09:07:05.299Z"
   },
   {
    "duration": 763,
    "start_time": "2022-11-23T11:13:52.655Z"
   },
   {
    "duration": 73,
    "start_time": "2022-11-23T11:15:55.356Z"
   },
   {
    "duration": 73,
    "start_time": "2022-11-23T11:16:21.569Z"
   },
   {
    "duration": 90,
    "start_time": "2022-11-23T11:16:34.785Z"
   },
   {
    "duration": 81,
    "start_time": "2022-11-23T11:16:49.584Z"
   },
   {
    "duration": 933,
    "start_time": "2022-11-23T11:16:51.773Z"
   },
   {
    "duration": 63,
    "start_time": "2022-11-23T11:17:04.071Z"
   },
   {
    "duration": 887,
    "start_time": "2022-11-23T11:17:08.718Z"
   },
   {
    "duration": 810,
    "start_time": "2022-11-23T11:42:54.496Z"
   },
   {
    "duration": 380,
    "start_time": "2022-11-23T11:43:09.230Z"
   },
   {
    "duration": 825,
    "start_time": "2022-11-23T11:43:14.982Z"
   },
   {
    "duration": 65,
    "start_time": "2022-11-23T11:50:44.740Z"
   },
   {
    "duration": 9,
    "start_time": "2022-11-23T11:52:41.420Z"
   },
   {
    "duration": 13,
    "start_time": "2022-11-23T11:55:08.195Z"
   },
   {
    "duration": 17,
    "start_time": "2022-11-23T11:55:54.578Z"
   },
   {
    "duration": 80,
    "start_time": "2022-11-23T11:57:08.396Z"
   },
   {
    "duration": 99,
    "start_time": "2022-11-23T11:58:12.128Z"
   },
   {
    "duration": 68,
    "start_time": "2022-11-23T12:46:59.848Z"
   },
   {
    "duration": 379,
    "start_time": "2022-11-23T12:49:53.846Z"
   },
   {
    "duration": 472,
    "start_time": "2022-11-23T12:50:28.623Z"
   },
   {
    "duration": 376,
    "start_time": "2022-11-23T12:55:17.661Z"
   },
   {
    "duration": 385,
    "start_time": "2022-11-23T12:55:46.892Z"
   },
   {
    "duration": 406,
    "start_time": "2022-11-23T12:56:01.513Z"
   },
   {
    "duration": 85,
    "start_time": "2022-11-23T12:56:11.511Z"
   },
   {
    "duration": 404,
    "start_time": "2022-11-23T12:56:17.037Z"
   },
   {
    "duration": 384,
    "start_time": "2022-11-23T12:56:25.727Z"
   },
   {
    "duration": 741,
    "start_time": "2022-11-23T12:56:51.692Z"
   },
   {
    "duration": 376,
    "start_time": "2022-11-23T12:56:57.386Z"
   },
   {
    "duration": 833,
    "start_time": "2022-11-23T12:57:08.871Z"
   },
   {
    "duration": 363,
    "start_time": "2022-11-23T12:57:13.767Z"
   },
   {
    "duration": 13,
    "start_time": "2022-11-23T12:57:19.068Z"
   },
   {
    "duration": 858,
    "start_time": "2022-11-23T12:57:26.451Z"
   },
   {
    "duration": 131,
    "start_time": "2022-11-23T12:57:30.479Z"
   },
   {
    "duration": 16,
    "start_time": "2022-11-23T12:57:33.403Z"
   },
   {
    "duration": 339,
    "start_time": "2022-11-23T12:57:36.683Z"
   },
   {
    "duration": 438,
    "start_time": "2022-11-23T12:58:19.717Z"
   },
   {
    "duration": 115,
    "start_time": "2022-11-23T12:58:47.434Z"
   },
   {
    "duration": 12,
    "start_time": "2022-11-23T12:59:06.354Z"
   },
   {
    "duration": 383,
    "start_time": "2022-11-23T12:59:20.874Z"
   },
   {
    "duration": 405,
    "start_time": "2022-11-23T12:59:28.174Z"
   },
   {
    "duration": 438,
    "start_time": "2022-11-23T12:59:45.102Z"
   },
   {
    "duration": 412,
    "start_time": "2022-11-23T12:59:51.899Z"
   },
   {
    "duration": 415,
    "start_time": "2022-11-23T12:59:56.427Z"
   },
   {
    "duration": 401,
    "start_time": "2022-11-23T13:00:04.506Z"
   },
   {
    "duration": 11,
    "start_time": "2022-11-23T13:20:40.439Z"
   },
   {
    "duration": 58,
    "start_time": "2022-11-23T13:20:41.478Z"
   },
   {
    "duration": 88,
    "start_time": "2022-11-23T13:20:42.422Z"
   },
   {
    "duration": 715,
    "start_time": "2022-11-23T13:21:05.591Z"
   },
   {
    "duration": 705,
    "start_time": "2022-11-23T13:21:13.722Z"
   },
   {
    "duration": 735,
    "start_time": "2022-11-23T13:21:19.071Z"
   },
   {
    "duration": 715,
    "start_time": "2022-11-23T13:21:26.910Z"
   },
   {
    "duration": 72,
    "start_time": "2022-11-23T13:21:32.446Z"
   },
   {
    "duration": 10,
    "start_time": "2022-11-23T13:21:35.694Z"
   },
   {
    "duration": 9,
    "start_time": "2022-11-23T13:34:19.551Z"
   },
   {
    "duration": 10,
    "start_time": "2022-11-23T13:34:32.361Z"
   },
   {
    "duration": 35,
    "start_time": "2022-11-23T13:34:44.202Z"
   },
   {
    "duration": 84,
    "start_time": "2022-11-23T13:35:53.551Z"
   },
   {
    "duration": 781,
    "start_time": "2022-11-23T13:35:57.880Z"
   },
   {
    "duration": 710,
    "start_time": "2022-11-23T13:36:54.423Z"
   },
   {
    "duration": 5,
    "start_time": "2022-11-23T14:02:13.718Z"
   },
   {
    "duration": 18,
    "start_time": "2022-11-23T14:09:09.165Z"
   },
   {
    "duration": 14,
    "start_time": "2022-11-23T14:09:18.805Z"
   },
   {
    "duration": 16,
    "start_time": "2022-11-23T14:09:23.366Z"
   },
   {
    "duration": 13,
    "start_time": "2022-11-23T14:09:27.812Z"
   },
   {
    "duration": 14,
    "start_time": "2022-11-23T14:10:53.080Z"
   },
   {
    "duration": 41,
    "start_time": "2022-11-23T14:13:48.603Z"
   },
   {
    "duration": 753,
    "start_time": "2022-11-23T14:14:18.870Z"
   },
   {
    "duration": 779,
    "start_time": "2022-11-23T14:14:55.132Z"
   },
   {
    "duration": 777,
    "start_time": "2022-11-23T14:16:01.339Z"
   },
   {
    "duration": 1106,
    "start_time": "2022-11-23T14:16:18.300Z"
   },
   {
    "duration": 13,
    "start_time": "2022-11-23T14:24:07.734Z"
   },
   {
    "duration": 12,
    "start_time": "2022-11-23T14:24:14.807Z"
   },
   {
    "duration": 14,
    "start_time": "2022-11-23T14:24:20.787Z"
   },
   {
    "duration": 14,
    "start_time": "2022-11-23T14:24:27.800Z"
   },
   {
    "duration": 13,
    "start_time": "2022-11-23T14:24:32.742Z"
   },
   {
    "duration": 12,
    "start_time": "2022-11-23T14:24:36.759Z"
   },
   {
    "duration": 13,
    "start_time": "2022-11-23T14:24:40.527Z"
   },
   {
    "duration": 13,
    "start_time": "2022-11-23T14:24:44.527Z"
   },
   {
    "duration": 13,
    "start_time": "2022-11-23T14:24:49.408Z"
   },
   {
    "duration": 12,
    "start_time": "2022-11-23T14:25:02.415Z"
   },
   {
    "duration": 14,
    "start_time": "2022-11-23T14:25:06.455Z"
   },
   {
    "duration": 14,
    "start_time": "2022-11-23T14:25:12.311Z"
   },
   {
    "duration": 13,
    "start_time": "2022-11-23T14:25:15.746Z"
   },
   {
    "duration": 392,
    "start_time": "2022-11-23T14:27:23.015Z"
   },
   {
    "duration": 13,
    "start_time": "2022-11-23T14:32:35.158Z"
   },
   {
    "duration": 1024,
    "start_time": "2022-11-23T14:32:40.189Z"
   },
   {
    "duration": 13,
    "start_time": "2022-11-23T14:32:57.596Z"
   },
   {
    "duration": 389,
    "start_time": "2022-11-23T14:33:00.973Z"
   },
   {
    "duration": 439,
    "start_time": "2022-11-23T14:37:41.706Z"
   },
   {
    "duration": 753,
    "start_time": "2022-11-23T14:41:48.056Z"
   },
   {
    "duration": 732,
    "start_time": "2022-11-23T14:41:53.968Z"
   },
   {
    "duration": 741,
    "start_time": "2022-11-23T14:42:11.008Z"
   },
   {
    "duration": 753,
    "start_time": "2022-11-23T14:42:21.537Z"
   },
   {
    "duration": 789,
    "start_time": "2022-11-23T14:42:37.304Z"
   },
   {
    "duration": 762,
    "start_time": "2022-11-23T14:42:53.512Z"
   },
   {
    "duration": 932,
    "start_time": "2022-11-23T14:45:01.815Z"
   },
   {
    "duration": 978,
    "start_time": "2022-11-23T14:45:49.615Z"
   },
   {
    "duration": 959,
    "start_time": "2022-11-23T14:54:14.019Z"
   },
   {
    "duration": 970,
    "start_time": "2022-11-23T14:54:25.940Z"
   },
   {
    "duration": 974,
    "start_time": "2022-11-23T14:55:20.692Z"
   },
   {
    "duration": 918,
    "start_time": "2022-11-23T14:57:03.315Z"
   },
   {
    "duration": 928,
    "start_time": "2022-11-23T14:57:10.564Z"
   },
   {
    "duration": 943,
    "start_time": "2022-11-23T14:57:20.098Z"
   },
   {
    "duration": 963,
    "start_time": "2022-11-23T14:57:26.954Z"
   },
   {
    "duration": 967,
    "start_time": "2022-11-23T14:57:37.810Z"
   },
   {
    "duration": 1061,
    "start_time": "2022-11-23T14:57:41.970Z"
   },
   {
    "duration": 1003,
    "start_time": "2022-11-23T14:59:26.209Z"
   },
   {
    "duration": 1334,
    "start_time": "2022-11-23T15:00:15.474Z"
   },
   {
    "duration": 1953,
    "start_time": "2022-11-23T15:00:22.401Z"
   },
   {
    "duration": 1396,
    "start_time": "2022-11-23T15:00:29.761Z"
   },
   {
    "duration": 9929,
    "start_time": "2022-11-23T15:00:40.729Z"
   },
   {
    "duration": 1463,
    "start_time": "2022-11-23T15:00:55.897Z"
   },
   {
    "duration": 22,
    "start_time": "2022-11-23T15:03:55.268Z"
   },
   {
    "duration": 1537,
    "start_time": "2022-11-23T15:04:18.336Z"
   },
   {
    "duration": 1899,
    "start_time": "2022-11-23T15:06:27.557Z"
   },
   {
    "duration": 1746,
    "start_time": "2022-11-23T15:06:53.574Z"
   },
   {
    "duration": 1749,
    "start_time": "2022-11-23T15:08:38.007Z"
   },
   {
    "duration": 1758,
    "start_time": "2022-11-23T15:10:15.796Z"
   },
   {
    "duration": 1803,
    "start_time": "2022-11-23T15:10:36.868Z"
   },
   {
    "duration": 1801,
    "start_time": "2022-11-23T15:10:57.106Z"
   },
   {
    "duration": 13,
    "start_time": "2022-11-23T15:16:55.996Z"
   },
   {
    "duration": 109584,
    "start_time": "2022-11-23T15:17:21.092Z"
   },
   {
    "duration": 14578,
    "start_time": "2022-11-23T15:19:18.144Z"
   },
   {
    "duration": 3111,
    "start_time": "2022-11-23T15:19:36.795Z"
   },
   {
    "duration": 3065,
    "start_time": "2022-11-23T15:19:57.443Z"
   },
   {
    "duration": 3099,
    "start_time": "2022-11-23T15:20:15.426Z"
   },
   {
    "duration": 2005,
    "start_time": "2022-11-23T15:20:37.145Z"
   },
   {
    "duration": 27236,
    "start_time": "2022-11-23T15:20:56.322Z"
   },
   {
    "duration": 73310,
    "start_time": "2022-11-23T15:26:47.295Z"
   },
   {
    "duration": 21,
    "start_time": "2022-11-23T15:30:40.167Z"
   },
   {
    "duration": 362,
    "start_time": "2022-11-23T15:31:09.310Z"
   },
   {
    "duration": 34,
    "start_time": "2022-11-23T15:46:33.181Z"
   },
   {
    "duration": 33,
    "start_time": "2022-11-23T15:47:45.018Z"
   },
   {
    "duration": 12,
    "start_time": "2022-11-23T15:47:59.777Z"
   },
   {
    "duration": 68,
    "start_time": "2022-11-23T15:48:07.037Z"
   },
   {
    "duration": 33,
    "start_time": "2022-11-23T15:48:13.845Z"
   },
   {
    "duration": 27756,
    "start_time": "2022-11-23T15:49:06.358Z"
   },
   {
    "duration": 28372,
    "start_time": "2022-11-23T15:50:44.259Z"
   },
   {
    "duration": 78946,
    "start_time": "2022-11-23T15:58:02.569Z"
   },
   {
    "duration": 40,
    "start_time": "2022-11-23T15:59:35.241Z"
   },
   {
    "duration": 27391,
    "start_time": "2022-11-23T16:00:09.595Z"
   },
   {
    "duration": 39,
    "start_time": "2022-11-23T16:01:27.024Z"
   },
   {
    "duration": 4,
    "start_time": "2022-11-23T16:01:33.715Z"
   },
   {
    "duration": 45,
    "start_time": "2022-11-23T16:01:33.721Z"
   },
   {
    "duration": 14,
    "start_time": "2022-11-23T16:01:33.768Z"
   },
   {
    "duration": 12,
    "start_time": "2022-11-23T16:01:33.784Z"
   },
   {
    "duration": 41,
    "start_time": "2022-11-23T16:01:33.798Z"
   },
   {
    "duration": 11,
    "start_time": "2022-11-23T16:01:33.841Z"
   },
   {
    "duration": 4,
    "start_time": "2022-11-23T16:01:33.854Z"
   },
   {
    "duration": 14,
    "start_time": "2022-11-23T16:01:33.860Z"
   },
   {
    "duration": 4,
    "start_time": "2022-11-23T16:01:33.875Z"
   },
   {
    "duration": 32,
    "start_time": "2022-11-23T16:01:33.880Z"
   },
   {
    "duration": 7,
    "start_time": "2022-11-23T16:01:33.914Z"
   },
   {
    "duration": 5,
    "start_time": "2022-11-23T16:01:33.923Z"
   },
   {
    "duration": 22,
    "start_time": "2022-11-23T16:01:33.929Z"
   },
   {
    "duration": 10,
    "start_time": "2022-11-23T16:01:33.953Z"
   },
   {
    "duration": 46,
    "start_time": "2022-11-23T16:01:33.964Z"
   },
   {
    "duration": 792,
    "start_time": "2022-11-23T16:01:34.012Z"
   },
   {
    "duration": 167,
    "start_time": "2022-11-23T16:01:34.811Z"
   },
   {
    "duration": 99,
    "start_time": "2022-11-23T16:01:34.979Z"
   },
   {
    "duration": 132,
    "start_time": "2022-11-23T16:01:35.080Z"
   },
   {
    "duration": 12,
    "start_time": "2022-11-23T16:01:35.304Z"
   },
   {
    "duration": 12,
    "start_time": "2022-11-23T16:01:41.057Z"
   },
   {
    "duration": 59,
    "start_time": "2022-11-23T16:01:43.890Z"
   },
   {
    "duration": 55,
    "start_time": "2022-11-23T16:02:09.155Z"
   },
   {
    "duration": 62,
    "start_time": "2022-11-23T16:02:15.344Z"
   },
   {
    "duration": 395,
    "start_time": "2022-11-23T16:02:18.540Z"
   },
   {
    "duration": 781,
    "start_time": "2022-11-23T16:02:22.429Z"
   },
   {
    "duration": 14,
    "start_time": "2022-11-23T16:02:27.007Z"
   },
   {
    "duration": 1075,
    "start_time": "2022-11-23T16:02:29.935Z"
   },
   {
    "duration": 12,
    "start_time": "2022-11-23T16:02:33.848Z"
   },
   {
    "duration": 429,
    "start_time": "2022-11-23T16:02:36.880Z"
   },
   {
    "duration": 1756,
    "start_time": "2022-11-23T16:02:48.887Z"
   },
   {
    "duration": 56,
    "start_time": "2022-11-23T16:03:04.392Z"
   },
   {
    "duration": 1836,
    "start_time": "2022-11-23T16:03:14.432Z"
   },
   {
    "duration": 29652,
    "start_time": "2022-11-23T16:03:19.695Z"
   },
   {
    "duration": 70407,
    "start_time": "2022-11-23T16:03:56.317Z"
   },
   {
    "duration": 395,
    "start_time": "2022-11-23T16:05:12.336Z"
   },
   {
    "duration": 48,
    "start_time": "2022-11-23T16:05:18.494Z"
   },
   {
    "duration": 173,
    "start_time": "2022-11-23T16:07:16.688Z"
   },
   {
    "duration": 51,
    "start_time": "2022-11-23T16:14:05.117Z"
   },
   {
    "duration": 191,
    "start_time": "2022-11-23T16:14:09.228Z"
   },
   {
    "duration": 11,
    "start_time": "2022-11-23T16:15:38.481Z"
   },
   {
    "duration": 5,
    "start_time": "2022-11-23T16:15:46.462Z"
   },
   {
    "duration": 1501,
    "start_time": "2022-11-24T06:01:40.034Z"
   },
   {
    "duration": 156,
    "start_time": "2022-11-24T06:01:41.538Z"
   },
   {
    "duration": 19,
    "start_time": "2022-11-24T06:01:41.695Z"
   },
   {
    "duration": 12,
    "start_time": "2022-11-24T06:01:41.717Z"
   },
   {
    "duration": 38,
    "start_time": "2022-11-24T06:01:41.730Z"
   },
   {
    "duration": 59,
    "start_time": "2022-11-24T06:01:41.769Z"
   },
   {
    "duration": 3,
    "start_time": "2022-11-24T06:01:41.830Z"
   },
   {
    "duration": 19,
    "start_time": "2022-11-24T06:01:41.835Z"
   },
   {
    "duration": 4,
    "start_time": "2022-11-24T06:01:41.856Z"
   },
   {
    "duration": 5,
    "start_time": "2022-11-24T06:01:41.862Z"
   },
   {
    "duration": 10,
    "start_time": "2022-11-24T06:01:41.869Z"
   },
   {
    "duration": 8,
    "start_time": "2022-11-24T06:01:41.881Z"
   },
   {
    "duration": 49,
    "start_time": "2022-11-24T06:01:41.891Z"
   },
   {
    "duration": 10,
    "start_time": "2022-11-24T06:01:41.941Z"
   },
   {
    "duration": 25,
    "start_time": "2022-11-24T06:01:41.953Z"
   },
   {
    "duration": 745,
    "start_time": "2022-11-24T06:01:41.980Z"
   },
   {
    "duration": 175,
    "start_time": "2022-11-24T06:01:42.726Z"
   },
   {
    "duration": 87,
    "start_time": "2022-11-24T06:01:42.903Z"
   },
   {
    "duration": 75,
    "start_time": "2022-11-24T06:01:42.991Z"
   },
   {
    "duration": 156,
    "start_time": "2022-11-24T06:01:43.067Z"
   },
   {
    "duration": 57,
    "start_time": "2022-11-24T06:01:43.224Z"
   },
   {
    "duration": 48,
    "start_time": "2022-11-24T06:01:43.282Z"
   },
   {
    "duration": 500,
    "start_time": "2022-11-24T06:01:43.332Z"
   },
   {
    "duration": 755,
    "start_time": "2022-11-24T06:01:43.833Z"
   },
   {
    "duration": 403,
    "start_time": "2022-11-24T06:01:51.236Z"
   },
   {
    "duration": 181,
    "start_time": "2022-11-24T06:10:10.232Z"
   },
   {
    "duration": 11,
    "start_time": "2022-11-24T06:10:20.073Z"
   },
   {
    "duration": 13,
    "start_time": "2022-11-24T06:10:25.152Z"
   },
   {
    "duration": 1024,
    "start_time": "2022-11-24T06:10:27.401Z"
   },
   {
    "duration": 387,
    "start_time": "2022-11-24T06:10:31.057Z"
   },
   {
    "duration": 16,
    "start_time": "2022-11-24T06:11:55.826Z"
   },
   {
    "duration": 397,
    "start_time": "2022-11-24T06:11:58.252Z"
   },
   {
    "duration": 340,
    "start_time": "2022-11-24T06:12:23.103Z"
   }
  ],
  "kernelspec": {
   "display_name": "Python 3 (ipykernel)",
   "language": "python",
   "name": "python3"
  },
  "language_info": {
   "codemirror_mode": {
    "name": "ipython",
    "version": 3
   },
   "file_extension": ".py",
   "mimetype": "text/x-python",
   "name": "python",
   "nbconvert_exporter": "python",
   "pygments_lexer": "ipython3",
   "version": "3.9.12"
  },
  "toc": {
   "base_numbering": 1,
   "nav_menu": {},
   "number_sections": true,
   "sideBar": true,
   "skip_h1_title": true,
   "title_cell": "Содержание",
   "title_sidebar": "Contents",
   "toc_cell": true,
   "toc_position": {},
   "toc_section_display": true,
   "toc_window_display": true
  }
 },
 "nbformat": 4,
 "nbformat_minor": 2
}
