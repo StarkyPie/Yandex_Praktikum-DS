{
 "cells": [
  {
   "cell_type": "markdown",
   "metadata": {},
   "source": [
    "# Рекомендация тарифов"
   ]
  },
  {
   "cell_type": "markdown",
   "metadata": {},
   "source": [
    "В вашем распоряжении данные о поведении клиентов, которые уже перешли на эти тарифы (из проекта курса «Статистический анализ данных»). Нужно построить модель для задачи классификации, которая выберет подходящий тариф. Предобработка данных не понадобится — вы её уже сделали.\n",
    "\n",
    "Постройте модель с максимально большим значением *accuracy*. Чтобы сдать проект успешно, нужно довести долю правильных ответов по крайней мере до 0.75. Проверьте *accuracy* на тестовой выборке самостоятельно.\n",
    "\n",
    "**Цель работы**\n",
    "\n",
    "Изучить модель дерева решений, случайного леса и логистической регресии. Выбрать лучшую модель с самым высоким качеством. Оценить адекватность моделей.\n",
    "\n",
    "**Ход работы**\n",
    "\n",
    "Данные мы получим из файла  `/datasets/users_behavior.csv`. Поскольку с данными раньше уже проводилась работа, то предобработку данных можно не делать. После изучения данных можно сразу приступить к работе с моделями.\n",
    "\n",
    "Работа пройдёт в пять этапов:\n",
    " 1. Обзор данных.\n",
    " 2. Разбить данные на выборки.\n",
    " 3. Исследование моделей.\n",
    " 4. Проверка моделей на тестовой выборке.\n",
    " 5. Проверка моделей на адекватность."
   ]
  },
  {
   "cell_type": "markdown",
   "metadata": {},
   "source": [
    "## Откройте и изучите файл"
   ]
  },
  {
   "cell_type": "code",
   "execution_count": 1,
   "metadata": {},
   "outputs": [],
   "source": [
    "#импортируем необходимые библиотеки\n",
    "#подключим pandas\n",
    "import pandas as pd\n",
    "#подключим классификацю деревом решений\n",
    "from sklearn.tree import DecisionTreeClassifier\n",
    "#вычисление доли правильных ответов\n",
    "from sklearn.metrics import accuracy_score\n",
    "#разделение на выборки\n",
    "from sklearn.model_selection import train_test_split\n",
    "#инициализация модели случайного леса\n",
    "from sklearn.ensemble import RandomForestClassifier\n",
    "#инициализация модели логистической регрессии\n",
    "from sklearn.linear_model import LogisticRegression\n",
    "#вычесление точности \n",
    "from sklearn.metrics import precision_score\n",
    "#вычесление полноты\n",
    "from sklearn.metrics import recall_score\n",
    "#вычесление f-меры\n",
    "from sklearn.metrics import f1_score"
   ]
  },
  {
   "cell_type": "code",
   "execution_count": 2,
   "metadata": {},
   "outputs": [],
   "source": [
    "#прочитаем файл csv\n",
    "data = pd.read_csv('/datasets/users_behavior.csv')"
   ]
  },
  {
   "cell_type": "code",
   "execution_count": 3,
   "metadata": {},
   "outputs": [
    {
     "data": {
      "text/html": [
       "<div>\n",
       "<style scoped>\n",
       "    .dataframe tbody tr th:only-of-type {\n",
       "        vertical-align: middle;\n",
       "    }\n",
       "\n",
       "    .dataframe tbody tr th {\n",
       "        vertical-align: top;\n",
       "    }\n",
       "\n",
       "    .dataframe thead th {\n",
       "        text-align: right;\n",
       "    }\n",
       "</style>\n",
       "<table border=\"1\" class=\"dataframe\">\n",
       "  <thead>\n",
       "    <tr style=\"text-align: right;\">\n",
       "      <th></th>\n",
       "      <th>calls</th>\n",
       "      <th>minutes</th>\n",
       "      <th>messages</th>\n",
       "      <th>mb_used</th>\n",
       "      <th>is_ultra</th>\n",
       "    </tr>\n",
       "  </thead>\n",
       "  <tbody>\n",
       "    <tr>\n",
       "      <th>0</th>\n",
       "      <td>40.0</td>\n",
       "      <td>311.90</td>\n",
       "      <td>83.0</td>\n",
       "      <td>19915.42</td>\n",
       "      <td>0</td>\n",
       "    </tr>\n",
       "    <tr>\n",
       "      <th>1</th>\n",
       "      <td>85.0</td>\n",
       "      <td>516.75</td>\n",
       "      <td>56.0</td>\n",
       "      <td>22696.96</td>\n",
       "      <td>0</td>\n",
       "    </tr>\n",
       "    <tr>\n",
       "      <th>2</th>\n",
       "      <td>77.0</td>\n",
       "      <td>467.66</td>\n",
       "      <td>86.0</td>\n",
       "      <td>21060.45</td>\n",
       "      <td>0</td>\n",
       "    </tr>\n",
       "    <tr>\n",
       "      <th>3</th>\n",
       "      <td>106.0</td>\n",
       "      <td>745.53</td>\n",
       "      <td>81.0</td>\n",
       "      <td>8437.39</td>\n",
       "      <td>1</td>\n",
       "    </tr>\n",
       "    <tr>\n",
       "      <th>4</th>\n",
       "      <td>66.0</td>\n",
       "      <td>418.74</td>\n",
       "      <td>1.0</td>\n",
       "      <td>14502.75</td>\n",
       "      <td>0</td>\n",
       "    </tr>\n",
       "    <tr>\n",
       "      <th>5</th>\n",
       "      <td>58.0</td>\n",
       "      <td>344.56</td>\n",
       "      <td>21.0</td>\n",
       "      <td>15823.37</td>\n",
       "      <td>0</td>\n",
       "    </tr>\n",
       "    <tr>\n",
       "      <th>6</th>\n",
       "      <td>57.0</td>\n",
       "      <td>431.64</td>\n",
       "      <td>20.0</td>\n",
       "      <td>3738.90</td>\n",
       "      <td>1</td>\n",
       "    </tr>\n",
       "    <tr>\n",
       "      <th>7</th>\n",
       "      <td>15.0</td>\n",
       "      <td>132.40</td>\n",
       "      <td>6.0</td>\n",
       "      <td>21911.60</td>\n",
       "      <td>0</td>\n",
       "    </tr>\n",
       "    <tr>\n",
       "      <th>8</th>\n",
       "      <td>7.0</td>\n",
       "      <td>43.39</td>\n",
       "      <td>3.0</td>\n",
       "      <td>2538.67</td>\n",
       "      <td>1</td>\n",
       "    </tr>\n",
       "    <tr>\n",
       "      <th>9</th>\n",
       "      <td>90.0</td>\n",
       "      <td>665.41</td>\n",
       "      <td>38.0</td>\n",
       "      <td>17358.61</td>\n",
       "      <td>0</td>\n",
       "    </tr>\n",
       "  </tbody>\n",
       "</table>\n",
       "</div>"
      ],
      "text/plain": [
       "   calls  minutes  messages   mb_used  is_ultra\n",
       "0   40.0   311.90      83.0  19915.42         0\n",
       "1   85.0   516.75      56.0  22696.96         0\n",
       "2   77.0   467.66      86.0  21060.45         0\n",
       "3  106.0   745.53      81.0   8437.39         1\n",
       "4   66.0   418.74       1.0  14502.75         0\n",
       "5   58.0   344.56      21.0  15823.37         0\n",
       "6   57.0   431.64      20.0   3738.90         1\n",
       "7   15.0   132.40       6.0  21911.60         0\n",
       "8    7.0    43.39       3.0   2538.67         1\n",
       "9   90.0   665.41      38.0  17358.61         0"
      ]
     },
     "execution_count": 3,
     "metadata": {},
     "output_type": "execute_result"
    }
   ],
   "source": [
    "#выведем первые 10 строк таблицы\n",
    "data.head(10)"
   ]
  },
  {
   "cell_type": "code",
   "execution_count": 4,
   "metadata": {},
   "outputs": [
    {
     "name": "stdout",
     "output_type": "stream",
     "text": [
      "<class 'pandas.core.frame.DataFrame'>\n",
      "RangeIndex: 3214 entries, 0 to 3213\n",
      "Data columns (total 5 columns):\n",
      " #   Column    Non-Null Count  Dtype  \n",
      "---  ------    --------------  -----  \n",
      " 0   calls     3214 non-null   float64\n",
      " 1   minutes   3214 non-null   float64\n",
      " 2   messages  3214 non-null   float64\n",
      " 3   mb_used   3214 non-null   float64\n",
      " 4   is_ultra  3214 non-null   int64  \n",
      "dtypes: float64(4), int64(1)\n",
      "memory usage: 125.7 KB\n"
     ]
    }
   ],
   "source": [
    "#выведем основную информацию о таблице методом info()\n",
    "data.info()"
   ]
  },
  {
   "cell_type": "code",
   "execution_count": 5,
   "metadata": {},
   "outputs": [
    {
     "data": {
      "text/html": [
       "<div>\n",
       "<style scoped>\n",
       "    .dataframe tbody tr th:only-of-type {\n",
       "        vertical-align: middle;\n",
       "    }\n",
       "\n",
       "    .dataframe tbody tr th {\n",
       "        vertical-align: top;\n",
       "    }\n",
       "\n",
       "    .dataframe thead th {\n",
       "        text-align: right;\n",
       "    }\n",
       "</style>\n",
       "<table border=\"1\" class=\"dataframe\">\n",
       "  <thead>\n",
       "    <tr style=\"text-align: right;\">\n",
       "      <th></th>\n",
       "      <th>calls</th>\n",
       "      <th>minutes</th>\n",
       "      <th>messages</th>\n",
       "      <th>mb_used</th>\n",
       "      <th>is_ultra</th>\n",
       "    </tr>\n",
       "  </thead>\n",
       "  <tbody>\n",
       "    <tr>\n",
       "      <th>count</th>\n",
       "      <td>3214.000000</td>\n",
       "      <td>3214.000000</td>\n",
       "      <td>3214.000000</td>\n",
       "      <td>3214.000000</td>\n",
       "      <td>3214.000000</td>\n",
       "    </tr>\n",
       "    <tr>\n",
       "      <th>mean</th>\n",
       "      <td>63.038892</td>\n",
       "      <td>438.208787</td>\n",
       "      <td>38.281269</td>\n",
       "      <td>17207.673836</td>\n",
       "      <td>0.306472</td>\n",
       "    </tr>\n",
       "    <tr>\n",
       "      <th>std</th>\n",
       "      <td>33.236368</td>\n",
       "      <td>234.569872</td>\n",
       "      <td>36.148326</td>\n",
       "      <td>7570.968246</td>\n",
       "      <td>0.461100</td>\n",
       "    </tr>\n",
       "    <tr>\n",
       "      <th>min</th>\n",
       "      <td>0.000000</td>\n",
       "      <td>0.000000</td>\n",
       "      <td>0.000000</td>\n",
       "      <td>0.000000</td>\n",
       "      <td>0.000000</td>\n",
       "    </tr>\n",
       "    <tr>\n",
       "      <th>25%</th>\n",
       "      <td>40.000000</td>\n",
       "      <td>274.575000</td>\n",
       "      <td>9.000000</td>\n",
       "      <td>12491.902500</td>\n",
       "      <td>0.000000</td>\n",
       "    </tr>\n",
       "    <tr>\n",
       "      <th>50%</th>\n",
       "      <td>62.000000</td>\n",
       "      <td>430.600000</td>\n",
       "      <td>30.000000</td>\n",
       "      <td>16943.235000</td>\n",
       "      <td>0.000000</td>\n",
       "    </tr>\n",
       "    <tr>\n",
       "      <th>75%</th>\n",
       "      <td>82.000000</td>\n",
       "      <td>571.927500</td>\n",
       "      <td>57.000000</td>\n",
       "      <td>21424.700000</td>\n",
       "      <td>1.000000</td>\n",
       "    </tr>\n",
       "    <tr>\n",
       "      <th>max</th>\n",
       "      <td>244.000000</td>\n",
       "      <td>1632.060000</td>\n",
       "      <td>224.000000</td>\n",
       "      <td>49745.730000</td>\n",
       "      <td>1.000000</td>\n",
       "    </tr>\n",
       "  </tbody>\n",
       "</table>\n",
       "</div>"
      ],
      "text/plain": [
       "             calls      minutes     messages       mb_used     is_ultra\n",
       "count  3214.000000  3214.000000  3214.000000   3214.000000  3214.000000\n",
       "mean     63.038892   438.208787    38.281269  17207.673836     0.306472\n",
       "std      33.236368   234.569872    36.148326   7570.968246     0.461100\n",
       "min       0.000000     0.000000     0.000000      0.000000     0.000000\n",
       "25%      40.000000   274.575000     9.000000  12491.902500     0.000000\n",
       "50%      62.000000   430.600000    30.000000  16943.235000     0.000000\n",
       "75%      82.000000   571.927500    57.000000  21424.700000     1.000000\n",
       "max     244.000000  1632.060000   224.000000  49745.730000     1.000000"
      ]
     },
     "execution_count": 5,
     "metadata": {},
     "output_type": "execute_result"
    }
   ],
   "source": [
    "#оценим данные в таблице методом describe\n",
    "data.describe()"
   ]
  },
  {
   "cell_type": "markdown",
   "metadata": {},
   "source": [
    "**Выводы**\n",
    "\n",
    "В каждой строке таблицы - информация о поведении одного пользователя за месяц. Колонки описывают следуюущю информацию: количество звонков, суммарная длительность звонков в минутах, количество sms-сообщений, израсходованный интернет-трафик в Мб и каким тарифом пользовался в течение месяца.\n",
    "\n",
    "Составим таблицы признаков и разделим данные на выборки."
   ]
  },
  {
   "cell_type": "markdown",
   "metadata": {},
   "source": [
    "## Разбейте данные на выборки"
   ]
  },
  {
   "cell_type": "code",
   "execution_count": 6,
   "metadata": {},
   "outputs": [
    {
     "name": "stdout",
     "output_type": "stream",
     "text": [
      "Размер обучающей выборки: 1928 \n",
      "Размер валидационной выборки: 643 \n",
      "Размер обучающей выборки: 643\n"
     ]
    }
   ],
   "source": [
    "#составим таблицы признаков и целевого признака\n",
    "features = data.drop(['is_ultra'], axis=1)\n",
    "target = data['is_ultra']\n",
    "\n",
    "#разобьём данные на три выборки: обучающую, валидационную и тестовую\n",
    "features_train, features_valid, target_train, target_valid = train_test_split(\n",
    "    features, target, train_size=0.6, random_state=46)\n",
    "\n",
    "features_valid, features_test, target_valid, target_test = train_test_split(\n",
    "    features_valid, target_valid, test_size=0.5, random_state=46)\n",
    "\n",
    "print('Размер обучающей выборки:', features_train.shape[0],'\\n'\n",
    "      'Размер валидационной выборки:', features_valid.shape[0],'\\n'\n",
    "      'Размер обучающей выборки:', features_test.shape[0])"
   ]
  },
  {
   "cell_type": "markdown",
   "metadata": {},
   "source": [
    "**Вывод**\n",
    "\n",
    "За целевой признак берём столбец is_ultra.\n",
    "\n",
    "Получили три набора данных с размерами: обучающая 60%, валидационная 20%, тестовая 20%. Теперь можем приступить к созданию моделей. Проверим три модели: дерево решений, случайный лес и логистическая регрессия."
   ]
  },
  {
   "cell_type": "markdown",
   "metadata": {},
   "source": [
    "## Исследуйте модели"
   ]
  },
  {
   "cell_type": "markdown",
   "metadata": {},
   "source": [
    "Для начала мы обучим модели на обучающей выборке и посчитаем качество на валидационной выборке. Тестовую мы оставим на потом."
   ]
  },
  {
   "cell_type": "markdown",
   "metadata": {},
   "source": [
    "### Модель дерева решений"
   ]
  },
  {
   "cell_type": "code",
   "execution_count": 7,
   "metadata": {},
   "outputs": [
    {
     "name": "stdout",
     "output_type": "stream",
     "text": [
      "Дерево решений: 0.7853810264385692 , лучшая глубина: 6 , лучший критерий: entropy , лучший разветвитель: best\n"
     ]
    }
   ],
   "source": [
    "#Дерево решений\n",
    "best_result1 = 0\n",
    "best_depth = None\n",
    "best_crit = ''\n",
    "best_split = ''\n",
    "best_model_tree = None\n",
    "for depth in range(1, 15):\n",
    "    for crit in {'gini', 'entropy'}:      #проверим модель на каждом критерии\n",
    "        for split in {'best', 'random'}:\n",
    "            #создадим модель дерева решений\n",
    "            model1 = DecisionTreeClassifier(random_state=42, max_depth=depth, criterion=crit, splitter=split)               \n",
    "            model1.fit(features_train, target_train)            #обучим модель на тренировочной выборке\n",
    "            predictions = model1.predict(features_valid)        #получим предсказания модели\n",
    "            result1 = accuracy_score(target_valid, predictions) #посчитаем качество модели на тестовой выборке\n",
    "            if result1 > best_result1:\n",
    "                best_result1 = result1   #получим результат с лучшей правильностью\n",
    "                best_depth = depth\n",
    "                best_crit = crit\n",
    "                best_split = split\n",
    "                best_model_tree = model1\n",
    "    \n",
    "print('Дерево решений:', best_result1, ', ' 'лучшая глубина:', best_depth, ', ' 'лучший критерий:', best_crit, ', ' 'лучший разветвитель:', best_split)"
   ]
  },
  {
   "cell_type": "markdown",
   "metadata": {},
   "source": [
    "### Модель случайного леса"
   ]
  },
  {
   "cell_type": "code",
   "execution_count": 8,
   "metadata": {},
   "outputs": [
    {
     "name": "stdout",
     "output_type": "stream",
     "text": [
      "Случайный лес: 0.7776049766718507 , лучшее дерево: 11 , лучший критерий: gini\n"
     ]
    }
   ],
   "source": [
    "#Случайный лес\n",
    "best_result2 = 0\n",
    "best_est = None\n",
    "best_criter = ''\n",
    "best_model_forest = None\n",
    "for est in range(1, 20):\n",
    "    for criter in {'gini', 'entropy'}:   #проверим модель на каждом критерии\n",
    "        model2 = RandomForestClassifier(random_state=42, n_estimators=est, criterion=criter) # создадим модель с заданным количеством деревьев\n",
    "        result2 = (model2\n",
    "                    .fit(features_train, target_train)\n",
    "                    .score(features_valid, target_valid))\n",
    "        if result2 > best_result2:\n",
    "            best_result2 = result2\n",
    "            best_est = est\n",
    "            best_criter = criter\n",
    "            best_model_forest = model2\n",
    "            \n",
    "print('Случайный лес:', best_result2, ', ' 'лучшее дерево:', best_est, ', ' 'лучший критерий:', best_criter)"
   ]
  },
  {
   "cell_type": "markdown",
   "metadata": {},
   "source": [
    "### Модель логистической регрессии"
   ]
  },
  {
   "cell_type": "code",
   "execution_count": 9,
   "metadata": {},
   "outputs": [
    {
     "name": "stdout",
     "output_type": "stream",
     "text": [
      "Логистическая регрессия: 0.7356143079315708 , лучшая итерация: 100 , лучший алгоритм: lbfgs\n"
     ]
    }
   ],
   "source": [
    "#Логистическая регрессия\n",
    "best_result3 = 0\n",
    "best_it = None\n",
    "best_sol = ''\n",
    "best_model_reg = None\n",
    "for it in range(100, 200):\n",
    "    for sol in {'lbfgs', 'liblinear'}:   #проверим алгоритм\n",
    "        model3 = LogisticRegression(random_state=42, solver=sol, max_iter=it) #создадим модель логистической регрессии\n",
    "        result3 = (model3\n",
    "                    .fit(features_train, target_train)\n",
    "                    .score(features_valid, target_valid))\n",
    "        if result3 > best_result3:\n",
    "            best_result3 = result3\n",
    "            best_it = it\n",
    "            best_sol = sol\n",
    "            best_model_reg = model3\n",
    "            \n",
    "print('Логистическая регрессия:', best_result3, ', ' 'лучшая итерация:', best_it, ', ' 'лучший алгоритм:', best_sol)"
   ]
  },
  {
   "cell_type": "markdown",
   "metadata": {},
   "source": [
    "**Вывод**\n",
    "\n",
    "По полученным результатам можно сделать следующие выводы:\n",
    "\n",
    "* Дерево решений получило самую большую правильность при глубине в 6 с критерием entropy\n",
    "* Случайный лес получил самую большую правильность на 11 дереве с критерием gini\n",
    "* Логистическая регрессия определила самую большую правильность на 100 итерации с алогритмом lbfgs\n",
    "\n",
    "Пока лучший ответ даёт дерево решений. Теперь проверим модели на тестовой выборке. "
   ]
  },
  {
   "cell_type": "markdown",
   "metadata": {},
   "source": [
    "## Проверьте модель на тестовой выборке"
   ]
  },
  {
   "cell_type": "code",
   "execution_count": 10,
   "metadata": {},
   "outputs": [
    {
     "name": "stdout",
     "output_type": "stream",
     "text": [
      "Accuracy лучшей модели дерева на тестовой выборке: 0.7931570762052877\n"
     ]
    }
   ],
   "source": [
    "#объединим обучащую и валидационную выборку\n",
    "features_full_train = pd.concat([features_train, features_valid])\n",
    "target_full_train = pd.concat([target_train, target_valid])\n",
    "\n",
    "#проверим дерево решений на тестовой выборке\n",
    "best_tree_test = (best_model_tree\n",
    "                  .fit(features_full_train, target_full_train)\n",
    "                  .score(features_test, target_test))\n",
    "print('Accuracy лучшей модели дерева на тестовой выборке:', best_tree_test)"
   ]
  },
  {
   "cell_type": "code",
   "execution_count": 11,
   "metadata": {},
   "outputs": [
    {
     "name": "stdout",
     "output_type": "stream",
     "text": [
      "Accuracy лучшей модели случайного леса на тестовой выборке: 0.7869362363919129\n"
     ]
    }
   ],
   "source": [
    "#проверим случайный лес на тестовой выборке\n",
    "best_forest_test = (best_model_forest\n",
    "                    .fit(features_full_train, target_full_train)\n",
    "                    .score(features_test, target_test))\n",
    "print('Accuracy лучшей модели случайного леса на тестовой выборке:', best_forest_test)"
   ]
  },
  {
   "cell_type": "code",
   "execution_count": 12,
   "metadata": {},
   "outputs": [
    {
     "name": "stdout",
     "output_type": "stream",
     "text": [
      "Accuracy лучшей модели логистической регрессии на тестовой выборке: 0.7231726283048211\n"
     ]
    }
   ],
   "source": [
    "#проверим логистическую регрессию на тестовой выборке\n",
    "best_reg_test = (best_model_reg\n",
    "                    .fit(features_full_train, target_full_train)\n",
    "                    .score(features_test, target_test))\n",
    "print('Accuracy лучшей модели логистической регрессии на тестовой выборке:', best_reg_test)"
   ]
  },
  {
   "cell_type": "markdown",
   "metadata": {},
   "source": [
    "**Выводы**\n",
    "\n",
    "Можно сказать, что не все модели показали хороший результат. Правильность модели дерева решений выросла на 0.8 пункта, а случайный лес вырос на 1 пункт. Логистическая регрессия показала меньший результат на 1.3 пункта. Лучше всех себя показало дерево решений и случайный лес. \n"
   ]
  },
  {
   "cell_type": "markdown",
   "metadata": {},
   "source": [
    "## (бонус) Проверьте модели на адекватность"
   ]
  },
  {
   "cell_type": "markdown",
   "metadata": {},
   "source": [
    "Оценить адекватность в задании можно по следующим метрикам:\n",
    "\n",
    "1. Отношение числа правильных ответов к размеру тестовой выборки называется accuracy (англ. «правильность»)\n",
    "2. Точность (англ. precision) показывает, какая доля тарифов, отмеченных моделью как 'Ультра', действительно являются ультра (ответ 1).\n",
    "3. Полнота (англ. recall) выявляет, какую часть 'Ультра' объектов выделила модель."
   ]
  },
  {
   "cell_type": "markdown",
   "metadata": {},
   "source": [
    "Поскольку значение accuracy мы уже получили, то посчитаем только precision и recall для всех моделей."
   ]
  },
  {
   "cell_type": "code",
   "execution_count": 13,
   "metadata": {},
   "outputs": [
    {
     "name": "stdout",
     "output_type": "stream",
     "text": [
      "Precision = 0.7241379310344828 Recall = 0.4540540540540541\n"
     ]
    }
   ],
   "source": [
    "#посчитаем точность и полноту для дерева решений\n",
    "predictions_tree = best_model_tree.predict(features_test)\n",
    "precision = precision_score(target_test, predictions_tree)\n",
    "recall = recall_score(target_test, predictions_tree)\n",
    "\n",
    "print('Precision =', precision, 'Recall =', recall)"
   ]
  },
  {
   "cell_type": "code",
   "execution_count": 14,
   "metadata": {},
   "outputs": [
    {
     "name": "stdout",
     "output_type": "stream",
     "text": [
      "Precision = 0.6304347826086957 Recall = 0.6270270270270271\n"
     ]
    }
   ],
   "source": [
    "#посчитаем точность и полноту для случайного леса\n",
    "predictions_forest = best_model_forest.predict(features_test)\n",
    "precision = precision_score(target_test, predictions_forest)\n",
    "recall = recall_score(target_test, predictions_forest)\n",
    "\n",
    "print('Precision =', precision, 'Recall =', recall)"
   ]
  },
  {
   "cell_type": "code",
   "execution_count": 15,
   "metadata": {},
   "outputs": [
    {
     "name": "stdout",
     "output_type": "stream",
     "text": [
      "Precision = 0.7058823529411765 Recall = 0.06486486486486487\n"
     ]
    }
   ],
   "source": [
    "#посчитаем точность и полноту для логистической регрессии\n",
    "predictions_reg = best_model_reg.predict(features_test)\n",
    "precision = precision_score(target_test, predictions_reg)\n",
    "recall = recall_score(target_test, predictions_reg)\n",
    "\n",
    "print('Precision =', precision, 'Recall =', recall)"
   ]
  },
  {
   "cell_type": "markdown",
   "metadata": {},
   "source": [
    "F-мера\n",
    "\n",
    "Понятно что чем выше точность и полнота, тем лучше. F-мера представляет собой гармоническое среднее между точностью и полнотой. Она стремится к нулю, если точность или полнота стремится к нулю. "
   ]
  },
  {
   "cell_type": "code",
   "execution_count": 16,
   "metadata": {},
   "outputs": [
    {
     "name": "stdout",
     "output_type": "stream",
     "text": [
      "F-мера = 0.5581395348837209\n"
     ]
    }
   ],
   "source": [
    "#f-мера для дерева решений\n",
    "f_tree = f1_score(target_test, predictions_tree)\n",
    "print('F-мера =', f_tree)"
   ]
  },
  {
   "cell_type": "code",
   "execution_count": 17,
   "metadata": {},
   "outputs": [
    {
     "name": "stdout",
     "output_type": "stream",
     "text": [
      "F-мера = 0.6287262872628727\n"
     ]
    }
   ],
   "source": [
    "#f-мера для случайного леса\n",
    "f_forest = f1_score(target_test, predictions_forest)\n",
    "print('F-мера =', f_forest)"
   ]
  },
  {
   "cell_type": "code",
   "execution_count": 18,
   "metadata": {},
   "outputs": [
    {
     "name": "stdout",
     "output_type": "stream",
     "text": [
      "F-мера = 0.11881188118811882\n"
     ]
    }
   ],
   "source": [
    "#f-мера для логистической регрессии\n",
    "f_reg = f1_score(target_test, predictions_reg)\n",
    "print('F-мера =', f_reg)"
   ]
  },
  {
   "cell_type": "markdown",
   "metadata": {},
   "source": [
    "**Вывод**\n",
    "\n",
    "F-мера представляет из себя единую оценку адекватности модели, которая складывается из точности и полноты. По полученным значениям можно сказать, что модель случайного леса самая адекватная. Дерево немного отстаёт от леса, а вот регрессия явный аутсайдер."
   ]
  },
  {
   "cell_type": "code",
   "execution_count": 19,
   "metadata": {},
   "outputs": [],
   "source": [
    "#создадим \"глупую\" модель и заполним её единицами\n",
    "dummy_prediction = [1] * len(target_test)"
   ]
  },
  {
   "cell_type": "code",
   "execution_count": 20,
   "metadata": {},
   "outputs": [
    {
     "name": "stdout",
     "output_type": "stream",
     "text": [
      "Accuracy \"глупой\" модели дерева решений: 0.18040435458786935\n",
      "Accuracy лучшей модели дерева решений: 0.7931570762052877\n"
     ]
    }
   ],
   "source": [
    "print('Accuracy \"глупой\" модели дерева решений:', best_model_tree.score(features_test, dummy_prediction))\n",
    "print('Accuracy лучшей модели дерева решений:', best_model_tree.score(features_test, target_test))"
   ]
  },
  {
   "cell_type": "code",
   "execution_count": 21,
   "metadata": {},
   "outputs": [
    {
     "name": "stdout",
     "output_type": "stream",
     "text": [
      "Accuracy \"глупой\" модели случайного леса: 0.28615863141524106\n",
      "Accuracy лучшей модели случайного леса: 0.7869362363919129\n"
     ]
    }
   ],
   "source": [
    "print('Accuracy \"глупой\" модели случайного леса:', best_model_forest.score(features_test, dummy_prediction))\n",
    "print('Accuracy лучшей модели случайного леса:', best_model_forest.score(features_test, target_test))"
   ]
  },
  {
   "cell_type": "code",
   "execution_count": 22,
   "metadata": {},
   "outputs": [
    {
     "name": "stdout",
     "output_type": "stream",
     "text": [
      "Accuracy \"глупой\" модели логистической регрессии: 0.026438569206842923\n",
      "Accuracy лучшей модели логистической регресии: 0.7231726283048211\n"
     ]
    }
   ],
   "source": [
    "print('Accuracy \"глупой\" модели логистической регрессии:', best_model_reg.score(features_test, dummy_prediction))\n",
    "print('Accuracy лучшей модели логистической регресии:', best_model_reg.score(features_test, target_test))"
   ]
  },
  {
   "cell_type": "code",
   "execution_count": 28,
   "metadata": {},
   "outputs": [
    {
     "name": "stdout",
     "output_type": "stream",
     "text": [
      "0.7122861586314152\n"
     ]
    }
   ],
   "source": [
    "dummy_predictions = [0 for i, _ in enumerate(target_test)]\n",
    "print(accuracy_score(target_test, dummy_predictions))"
   ]
  },
  {
   "cell_type": "markdown",
   "metadata": {},
   "source": [
    "**Вывод** \n",
    "\n",
    "По полученным значениям можно сказать, что все модели могут считаться адекватными, поскольку accuracy финальных моделей выше accuracy \"глупых\" моделей."
   ]
  },
  {
   "cell_type": "markdown",
   "metadata": {},
   "source": [
    "## Общий вывод"
   ]
  },
  {
   "cell_type": "markdown",
   "metadata": {},
   "source": [
    "В ходе работы мы:\n",
    "* разбили данные на 3 выборки: обучающая, валидационная, тестовая\n",
    "* создали 3 модели: дерево решений, случайный лес, логистическая регрессия\n",
    "* определили лучшие параметры и гиперпараметры\n",
    "* определили лучшую модель\n",
    "* оценили адекватность моделей\n",
    "\n",
    "Модели обучались на выборке с размером в 1928 объектов. Лучшей моделью стало дерево решений с глубиной 6, критерием entropy и разветвителем best. Слачайный лес также показал хороший результат, а логистическая регрессия явный аутсайдер. Но можно смело сказать, что 2 модели показали хороший результат на тестовой выборке, ибо правильность этих моделей выросла. \n",
    "\n",
    "Самая высокая адекватность оказалась у случайного леса и дерева решений. По правильности и оценки адекватности можно сказать, что дерево решений и случайный лес отлично подойдут для подобной задачи."
   ]
  }
 ],
 "metadata": {
  "ExecuteTimeLog": [
   {
    "duration": 440,
    "start_time": "2022-11-06T21:42:16.186Z"
   },
   {
    "duration": 79,
    "start_time": "2022-11-06T21:42:17.315Z"
   },
   {
    "duration": 19,
    "start_time": "2022-11-06T21:42:53.166Z"
   },
   {
    "duration": 12,
    "start_time": "2022-11-06T21:43:12.208Z"
   },
   {
    "duration": 1065,
    "start_time": "2022-11-08T07:13:53.952Z"
   },
   {
    "duration": 128,
    "start_time": "2022-11-08T07:13:57.656Z"
   },
   {
    "duration": 17,
    "start_time": "2022-11-08T07:13:58.038Z"
   },
   {
    "duration": 12,
    "start_time": "2022-11-08T07:13:59.582Z"
   },
   {
    "duration": 122,
    "start_time": "2022-11-08T11:34:07.818Z"
   },
   {
    "duration": 6,
    "start_time": "2022-11-08T11:34:53.694Z"
   },
   {
    "duration": 11,
    "start_time": "2022-11-08T11:35:12.753Z"
   },
   {
    "duration": 6,
    "start_time": "2022-11-08T11:35:24.954Z"
   },
   {
    "duration": 14,
    "start_time": "2022-11-08T11:35:44.418Z"
   },
   {
    "duration": 12,
    "start_time": "2022-11-08T11:56:26.289Z"
   },
   {
    "duration": 16,
    "start_time": "2022-11-08T11:56:41.628Z"
   },
   {
    "duration": 11,
    "start_time": "2022-11-08T11:56:54.137Z"
   },
   {
    "duration": 10,
    "start_time": "2022-11-08T11:57:17.140Z"
   },
   {
    "duration": 12,
    "start_time": "2022-11-08T11:57:56.800Z"
   },
   {
    "duration": 11,
    "start_time": "2022-11-08T11:58:05.337Z"
   },
   {
    "duration": 16,
    "start_time": "2022-11-08T11:58:28.144Z"
   },
   {
    "duration": 12,
    "start_time": "2022-11-08T11:58:30.783Z"
   },
   {
    "duration": 7,
    "start_time": "2022-11-08T11:59:26.985Z"
   },
   {
    "duration": 11,
    "start_time": "2022-11-08T11:59:33.255Z"
   },
   {
    "duration": 14,
    "start_time": "2022-11-08T11:59:38.735Z"
   },
   {
    "duration": 11,
    "start_time": "2022-11-08T11:59:41.639Z"
   },
   {
    "duration": 11,
    "start_time": "2022-11-08T12:00:52.358Z"
   },
   {
    "duration": 13,
    "start_time": "2022-11-08T12:00:54.600Z"
   },
   {
    "duration": 10,
    "start_time": "2022-11-08T12:00:58.306Z"
   },
   {
    "duration": 13,
    "start_time": "2022-11-08T12:01:04.207Z"
   },
   {
    "duration": 7,
    "start_time": "2022-11-08T12:01:18.597Z"
   },
   {
    "duration": 10,
    "start_time": "2022-11-08T12:01:20.421Z"
   },
   {
    "duration": 7,
    "start_time": "2022-11-08T12:01:22.069Z"
   },
   {
    "duration": 10,
    "start_time": "2022-11-08T12:01:23.773Z"
   },
   {
    "duration": 7,
    "start_time": "2022-11-08T12:01:27.974Z"
   },
   {
    "duration": 8,
    "start_time": "2022-11-08T12:01:30.637Z"
   },
   {
    "duration": 13,
    "start_time": "2022-11-08T12:01:56.063Z"
   },
   {
    "duration": 23,
    "start_time": "2022-11-08T12:02:37.735Z"
   },
   {
    "duration": 13,
    "start_time": "2022-11-08T12:02:43.550Z"
   },
   {
    "duration": 16,
    "start_time": "2022-11-08T12:02:51.028Z"
   },
   {
    "duration": 15,
    "start_time": "2022-11-08T12:02:54.792Z"
   },
   {
    "duration": 13,
    "start_time": "2022-11-08T12:03:12.030Z"
   },
   {
    "duration": 18,
    "start_time": "2022-11-08T12:36:07.068Z"
   },
   {
    "duration": 44,
    "start_time": "2022-11-08T12:36:20.467Z"
   },
   {
    "duration": 30,
    "start_time": "2022-11-08T12:36:23.323Z"
   },
   {
    "duration": 28,
    "start_time": "2022-11-08T12:36:29.088Z"
   },
   {
    "duration": 47,
    "start_time": "2022-11-08T12:36:38.787Z"
   },
   {
    "duration": 10,
    "start_time": "2022-11-08T12:37:24.998Z"
   },
   {
    "duration": 12,
    "start_time": "2022-11-08T12:37:29.443Z"
   },
   {
    "duration": 12,
    "start_time": "2022-11-08T12:37:33.963Z"
   },
   {
    "duration": 12,
    "start_time": "2022-11-08T12:37:38.067Z"
   },
   {
    "duration": 12,
    "start_time": "2022-11-08T12:37:41.546Z"
   },
   {
    "duration": 17,
    "start_time": "2022-11-08T12:37:45.435Z"
   },
   {
    "duration": 49,
    "start_time": "2022-11-08T12:37:51.674Z"
   },
   {
    "duration": 13,
    "start_time": "2022-11-08T12:37:57.386Z"
   },
   {
    "duration": 41,
    "start_time": "2022-11-08T12:38:03.674Z"
   },
   {
    "duration": 55,
    "start_time": "2022-11-08T12:38:07.958Z"
   },
   {
    "duration": 13,
    "start_time": "2022-11-08T12:38:10.799Z"
   },
   {
    "duration": 12,
    "start_time": "2022-11-08T12:38:15.515Z"
   },
   {
    "duration": 12,
    "start_time": "2022-11-08T12:38:25.938Z"
   },
   {
    "duration": 41,
    "start_time": "2022-11-08T12:40:36.707Z"
   },
   {
    "duration": 70,
    "start_time": "2022-11-08T12:41:04.465Z"
   },
   {
    "duration": 60,
    "start_time": "2022-11-08T12:41:17.547Z"
   },
   {
    "duration": 47,
    "start_time": "2022-11-08T12:42:09.827Z"
   },
   {
    "duration": 57,
    "start_time": "2022-11-08T12:42:26.353Z"
   },
   {
    "duration": 53,
    "start_time": "2022-11-08T12:43:01.032Z"
   },
   {
    "duration": 11,
    "start_time": "2022-11-08T12:43:18.520Z"
   },
   {
    "duration": 30,
    "start_time": "2022-11-08T12:43:34.352Z"
   },
   {
    "duration": 39,
    "start_time": "2022-11-08T12:45:26.850Z"
   },
   {
    "duration": 30,
    "start_time": "2022-11-08T12:45:29.430Z"
   },
   {
    "duration": 207,
    "start_time": "2022-11-08T12:55:00.193Z"
   },
   {
    "duration": 225,
    "start_time": "2022-11-08T12:55:04.650Z"
   },
   {
    "duration": 29,
    "start_time": "2022-11-08T12:55:51.577Z"
   },
   {
    "duration": 30,
    "start_time": "2022-11-08T12:56:47.260Z"
   },
   {
    "duration": 223,
    "start_time": "2022-11-08T12:57:23.857Z"
   },
   {
    "duration": 262,
    "start_time": "2022-11-08T12:57:26.514Z"
   },
   {
    "duration": 259,
    "start_time": "2022-11-08T12:58:08.680Z"
   },
   {
    "duration": 218,
    "start_time": "2022-11-08T12:58:26.288Z"
   },
   {
    "duration": 273,
    "start_time": "2022-11-08T12:58:35.456Z"
   },
   {
    "duration": 242,
    "start_time": "2022-11-08T12:58:38.526Z"
   },
   {
    "duration": 14,
    "start_time": "2022-11-08T12:59:59.723Z"
   },
   {
    "duration": 220,
    "start_time": "2022-11-08T13:00:04.100Z"
   },
   {
    "duration": 34,
    "start_time": "2022-11-08T13:00:11.049Z"
   },
   {
    "duration": 38,
    "start_time": "2022-11-08T13:00:19.440Z"
   },
   {
    "duration": 47,
    "start_time": "2022-11-08T13:00:21.568Z"
   },
   {
    "duration": 198,
    "start_time": "2022-11-08T13:40:01.972Z"
   },
   {
    "duration": 22237,
    "start_time": "2022-11-08T13:43:32.674Z"
   },
   {
    "duration": 30,
    "start_time": "2022-11-08T13:44:46.921Z"
   },
   {
    "duration": 42,
    "start_time": "2022-11-08T13:44:51.314Z"
   },
   {
    "duration": 42,
    "start_time": "2022-11-08T13:44:55.881Z"
   },
   {
    "duration": 30,
    "start_time": "2022-11-08T13:45:01.370Z"
   },
   {
    "duration": 16,
    "start_time": "2022-11-08T13:45:08.314Z"
   },
   {
    "duration": 28,
    "start_time": "2022-11-08T13:45:18.473Z"
   },
   {
    "duration": 34,
    "start_time": "2022-11-08T13:45:23.466Z"
   },
   {
    "duration": 32,
    "start_time": "2022-11-08T13:45:29.105Z"
   },
   {
    "duration": 4,
    "start_time": "2022-11-08T13:45:47.064Z"
   },
   {
    "duration": 132,
    "start_time": "2022-11-08T13:46:02.794Z"
   },
   {
    "duration": 90,
    "start_time": "2022-11-08T13:46:15.392Z"
   },
   {
    "duration": 30,
    "start_time": "2022-11-08T13:46:24.296Z"
   },
   {
    "duration": 3,
    "start_time": "2022-11-08T13:46:32.836Z"
   },
   {
    "duration": 22028,
    "start_time": "2022-11-08T13:46:39.088Z"
   },
   {
    "duration": 30,
    "start_time": "2022-11-08T13:47:01.120Z"
   },
   {
    "duration": 294,
    "start_time": "2022-11-08T13:53:36.733Z"
   },
   {
    "duration": 19,
    "start_time": "2022-11-08T13:53:39.748Z"
   },
   {
    "duration": 32,
    "start_time": "2022-11-08T13:58:09.091Z"
   },
   {
    "duration": 30,
    "start_time": "2022-11-08T13:58:21.435Z"
   },
   {
    "duration": 30,
    "start_time": "2022-11-08T13:58:44.754Z"
   },
   {
    "duration": 29,
    "start_time": "2022-11-08T14:00:03.578Z"
   },
   {
    "duration": 39,
    "start_time": "2022-11-08T14:00:06.660Z"
   },
   {
    "duration": 21721,
    "start_time": "2022-11-08T14:00:09.795Z"
   },
   {
    "duration": 43,
    "start_time": "2022-11-08T14:08:29.542Z"
   },
   {
    "duration": 32,
    "start_time": "2022-11-08T14:08:32.373Z"
   },
   {
    "duration": 1106,
    "start_time": "2022-11-08T17:11:56.837Z"
   },
   {
    "duration": 56,
    "start_time": "2022-11-08T17:11:57.945Z"
   },
   {
    "duration": 16,
    "start_time": "2022-11-08T17:11:58.002Z"
   },
   {
    "duration": 10,
    "start_time": "2022-11-08T17:11:58.019Z"
   },
   {
    "duration": 10,
    "start_time": "2022-11-08T17:11:58.031Z"
   },
   {
    "duration": 29,
    "start_time": "2022-11-08T17:11:58.042Z"
   },
   {
    "duration": 25,
    "start_time": "2022-11-08T17:11:58.073Z"
   },
   {
    "duration": 10,
    "start_time": "2022-11-08T17:11:58.099Z"
   },
   {
    "duration": 183,
    "start_time": "2022-11-08T17:11:58.134Z"
   },
   {
    "duration": 4,
    "start_time": "2022-11-08T17:12:01.408Z"
   },
   {
    "duration": 8554,
    "start_time": "2022-11-08T17:12:06.731Z"
   },
   {
    "duration": 91,
    "start_time": "2022-11-08T17:16:06.419Z"
   },
   {
    "duration": 9476,
    "start_time": "2022-11-08T17:17:07.190Z"
   },
   {
    "duration": 1161,
    "start_time": "2022-11-08T17:18:51.388Z"
   },
   {
    "duration": 29,
    "start_time": "2022-11-08T17:19:42.821Z"
   },
   {
    "duration": 1107,
    "start_time": "2022-11-08T17:20:49.086Z"
   },
   {
    "duration": 26,
    "start_time": "2022-11-08T17:23:20.490Z"
   },
   {
    "duration": 8688,
    "start_time": "2022-11-08T17:24:28.345Z"
   },
   {
    "duration": 187,
    "start_time": "2022-11-08T17:26:18.778Z"
   },
   {
    "duration": 178,
    "start_time": "2022-11-08T17:26:28.288Z"
   },
   {
    "duration": 16,
    "start_time": "2022-11-08T17:29:41.710Z"
   },
   {
    "duration": 177,
    "start_time": "2022-11-08T17:30:18.938Z"
   },
   {
    "duration": 177,
    "start_time": "2022-11-08T17:30:22.517Z"
   },
   {
    "duration": 183,
    "start_time": "2022-11-08T17:30:27.828Z"
   },
   {
    "duration": 26,
    "start_time": "2022-11-08T17:30:35.056Z"
   },
   {
    "duration": 201,
    "start_time": "2022-11-08T17:30:46.530Z"
   },
   {
    "duration": 8,
    "start_time": "2022-11-08T17:31:17.748Z"
   },
   {
    "duration": 26,
    "start_time": "2022-11-08T17:32:10.216Z"
   },
   {
    "duration": 8,
    "start_time": "2022-11-08T17:32:55.804Z"
   },
   {
    "duration": 6,
    "start_time": "2022-11-08T17:33:14.961Z"
   },
   {
    "duration": 8,
    "start_time": "2022-11-08T17:33:24.619Z"
   },
   {
    "duration": 8586,
    "start_time": "2022-11-08T17:33:36.093Z"
   },
   {
    "duration": 6,
    "start_time": "2022-11-08T17:33:49.568Z"
   },
   {
    "duration": 184,
    "start_time": "2022-11-08T17:35:45.182Z"
   },
   {
    "duration": 25,
    "start_time": "2022-11-08T17:35:49.893Z"
   },
   {
    "duration": 201,
    "start_time": "2022-11-08T17:35:52.855Z"
   },
   {
    "duration": 8707,
    "start_time": "2022-11-08T17:35:55.867Z"
   },
   {
    "duration": 57,
    "start_time": "2022-11-08T17:37:31.001Z"
   },
   {
    "duration": 156,
    "start_time": "2022-11-08T17:37:40.348Z"
   },
   {
    "duration": 29,
    "start_time": "2022-11-08T17:37:56.860Z"
   },
   {
    "duration": 11,
    "start_time": "2022-11-08T18:00:43.084Z"
   },
   {
    "duration": 34,
    "start_time": "2022-11-08T18:00:47.230Z"
   },
   {
    "duration": 33,
    "start_time": "2022-11-08T18:00:50.967Z"
   },
   {
    "duration": 250,
    "start_time": "2022-11-08T18:00:55.163Z"
   },
   {
    "duration": 12258,
    "start_time": "2022-11-08T18:00:58.574Z"
   },
   {
    "duration": 7,
    "start_time": "2022-11-08T18:01:14.780Z"
   },
   {
    "duration": 9,
    "start_time": "2022-11-08T18:01:15.829Z"
   },
   {
    "duration": 6,
    "start_time": "2022-11-08T18:01:17.284Z"
   },
   {
    "duration": 114,
    "start_time": "2022-11-08T18:03:53.437Z"
   },
   {
    "duration": 156,
    "start_time": "2022-11-08T18:04:12.519Z"
   },
   {
    "duration": 30,
    "start_time": "2022-11-08T18:04:26.464Z"
   },
   {
    "duration": 28,
    "start_time": "2022-11-08T18:05:38.488Z"
   },
   {
    "duration": 28,
    "start_time": "2022-11-08T18:05:44.303Z"
   },
   {
    "duration": 339,
    "start_time": "2022-11-08T18:08:06.086Z"
   },
   {
    "duration": 12754,
    "start_time": "2022-11-08T18:10:21.722Z"
   },
   {
    "duration": 14423,
    "start_time": "2022-11-08T18:11:37.365Z"
   },
   {
    "duration": 672,
    "start_time": "2022-11-08T18:11:54.196Z"
   },
   {
    "duration": 3049,
    "start_time": "2022-11-08T18:12:21.775Z"
   },
   {
    "duration": 1320,
    "start_time": "2022-11-08T18:12:38.190Z"
   },
   {
    "duration": 12128,
    "start_time": "2022-11-08T18:13:09.467Z"
   },
   {
    "duration": 5,
    "start_time": "2022-11-08T18:21:49.587Z"
   },
   {
    "duration": 5,
    "start_time": "2022-11-08T18:21:58.372Z"
   },
   {
    "duration": 5,
    "start_time": "2022-11-08T18:22:42.656Z"
   },
   {
    "duration": 6,
    "start_time": "2022-11-08T18:23:18.479Z"
   },
   {
    "duration": 8,
    "start_time": "2022-11-08T18:23:28.664Z"
   },
   {
    "duration": 12,
    "start_time": "2022-11-08T18:23:47.433Z"
   },
   {
    "duration": 1102,
    "start_time": "2022-11-08T18:29:49.241Z"
   },
   {
    "duration": 3,
    "start_time": "2022-11-08T18:30:55.182Z"
   },
   {
    "duration": 3,
    "start_time": "2022-11-08T18:31:22.120Z"
   },
   {
    "duration": 11,
    "start_time": "2022-11-08T18:32:12.170Z"
   },
   {
    "duration": 2,
    "start_time": "2022-11-08T18:32:23.523Z"
   },
   {
    "duration": 3,
    "start_time": "2022-11-08T18:33:11.379Z"
   },
   {
    "duration": 1203,
    "start_time": "2022-11-08T18:33:14.915Z"
   },
   {
    "duration": 4,
    "start_time": "2022-11-08T18:33:30.920Z"
   },
   {
    "duration": 1265,
    "start_time": "2022-11-08T18:33:46.059Z"
   },
   {
    "duration": 4,
    "start_time": "2022-11-08T18:33:56.059Z"
   },
   {
    "duration": 4,
    "start_time": "2022-11-08T18:34:09.258Z"
   },
   {
    "duration": 4,
    "start_time": "2022-11-08T18:34:49.406Z"
   },
   {
    "duration": 15,
    "start_time": "2022-11-08T20:44:54.181Z"
   },
   {
    "duration": 1145,
    "start_time": "2022-11-08T20:45:02.053Z"
   },
   {
    "duration": 68,
    "start_time": "2022-11-08T20:45:03.200Z"
   },
   {
    "duration": 18,
    "start_time": "2022-11-08T20:45:03.270Z"
   },
   {
    "duration": 11,
    "start_time": "2022-11-08T20:45:03.289Z"
   },
   {
    "duration": 11,
    "start_time": "2022-11-08T20:45:03.302Z"
   },
   {
    "duration": 13591,
    "start_time": "2022-11-08T20:45:37.527Z"
   },
   {
    "duration": 7,
    "start_time": "2022-11-08T20:46:56.985Z"
   },
   {
    "duration": 12455,
    "start_time": "2022-11-08T20:46:57.382Z"
   },
   {
    "duration": 81,
    "start_time": "2022-11-08T20:47:52.277Z"
   },
   {
    "duration": 13377,
    "start_time": "2022-11-08T20:47:52.653Z"
   },
   {
    "duration": 278,
    "start_time": "2022-11-08T20:48:06.032Z"
   },
   {
    "duration": 5,
    "start_time": "2022-11-08T20:48:13.294Z"
   },
   {
    "duration": 12849,
    "start_time": "2022-11-08T20:48:16.848Z"
   },
   {
    "duration": 80,
    "start_time": "2022-11-08T20:48:48.712Z"
   },
   {
    "duration": 86,
    "start_time": "2022-11-08T20:49:02.511Z"
   },
   {
    "duration": 12,
    "start_time": "2022-11-08T20:49:14.051Z"
   },
   {
    "duration": 13609,
    "start_time": "2022-11-08T20:49:15.282Z"
   },
   {
    "duration": 6,
    "start_time": "2022-11-08T20:49:44.767Z"
   },
   {
    "duration": 902,
    "start_time": "2022-11-08T20:49:45.290Z"
   },
   {
    "duration": 97,
    "start_time": "2022-11-08T20:50:01.555Z"
   },
   {
    "duration": 5,
    "start_time": "2022-11-08T20:50:08.100Z"
   },
   {
    "duration": 946,
    "start_time": "2022-11-08T20:50:09.216Z"
   },
   {
    "duration": 6,
    "start_time": "2022-11-08T20:50:20.578Z"
   },
   {
    "duration": 1035,
    "start_time": "2022-11-08T20:50:32.972Z"
   },
   {
    "duration": 6,
    "start_time": "2022-11-08T20:50:45.390Z"
   },
   {
    "duration": 953,
    "start_time": "2022-11-08T20:50:45.805Z"
   },
   {
    "duration": 95,
    "start_time": "2022-11-08T20:52:47.256Z"
   },
   {
    "duration": 7,
    "start_time": "2022-11-08T20:53:20.368Z"
   },
   {
    "duration": 831,
    "start_time": "2022-11-08T20:53:20.798Z"
   },
   {
    "duration": 5,
    "start_time": "2022-11-08T20:56:32.312Z"
   },
   {
    "duration": 885,
    "start_time": "2022-11-08T20:56:32.961Z"
   },
   {
    "duration": 5,
    "start_time": "2022-11-08T21:07:36.023Z"
   },
   {
    "duration": 5504,
    "start_time": "2022-11-08T21:07:36.552Z"
   },
   {
    "duration": 6,
    "start_time": "2022-11-08T21:08:08.551Z"
   },
   {
    "duration": 5593,
    "start_time": "2022-11-08T21:08:08.694Z"
   },
   {
    "duration": 6,
    "start_time": "2022-11-08T21:08:25.085Z"
   },
   {
    "duration": 3417,
    "start_time": "2022-11-08T21:08:25.742Z"
   },
   {
    "duration": 5,
    "start_time": "2022-11-08T21:08:47.177Z"
   },
   {
    "duration": 5778,
    "start_time": "2022-11-08T21:08:47.520Z"
   },
   {
    "duration": 6,
    "start_time": "2022-11-08T21:09:01.399Z"
   },
   {
    "duration": 422,
    "start_time": "2022-11-08T21:09:01.748Z"
   },
   {
    "duration": 7,
    "start_time": "2022-11-08T21:09:12.030Z"
   },
   {
    "duration": 2301,
    "start_time": "2022-11-08T21:09:12.364Z"
   },
   {
    "duration": 5,
    "start_time": "2022-11-08T21:09:27.972Z"
   },
   {
    "duration": 3491,
    "start_time": "2022-11-08T21:09:28.482Z"
   },
   {
    "duration": 7,
    "start_time": "2022-11-08T21:12:38.053Z"
   },
   {
    "duration": 31,
    "start_time": "2022-11-08T21:13:22.332Z"
   },
   {
    "duration": 28,
    "start_time": "2022-11-08T21:13:24.382Z"
   },
   {
    "duration": 4,
    "start_time": "2022-11-08T21:13:25.084Z"
   },
   {
    "duration": 253,
    "start_time": "2022-11-08T21:13:27.002Z"
   },
   {
    "duration": 12063,
    "start_time": "2022-11-08T21:13:28.922Z"
   },
   {
    "duration": 13,
    "start_time": "2022-11-08T21:13:43.651Z"
   },
   {
    "duration": 3220,
    "start_time": "2022-11-08T21:14:20.374Z"
   },
   {
    "duration": 13,
    "start_time": "2022-11-08T21:14:28.738Z"
   },
   {
    "duration": 122,
    "start_time": "2022-11-08T21:14:46.071Z"
   },
   {
    "duration": 3217,
    "start_time": "2022-11-08T21:14:51.386Z"
   },
   {
    "duration": 13,
    "start_time": "2022-11-08T21:14:54.605Z"
   },
   {
    "duration": 12,
    "start_time": "2022-11-08T21:14:57.460Z"
   },
   {
    "duration": 33,
    "start_time": "2022-11-08T21:15:13.092Z"
   },
   {
    "duration": 12,
    "start_time": "2022-11-08T21:15:23.051Z"
   },
   {
    "duration": 106,
    "start_time": "2022-11-08T21:15:27.162Z"
   },
   {
    "duration": 12,
    "start_time": "2022-11-08T21:15:32.054Z"
   },
   {
    "duration": 3265,
    "start_time": "2022-11-08T21:15:35.751Z"
   },
   {
    "duration": 13,
    "start_time": "2022-11-08T21:15:53.724Z"
   },
   {
    "duration": 94,
    "start_time": "2022-11-08T21:15:58.282Z"
   },
   {
    "duration": 100,
    "start_time": "2022-11-08T21:21:21.976Z"
   },
   {
    "duration": 102,
    "start_time": "2022-11-08T21:21:36.161Z"
   },
   {
    "duration": 104,
    "start_time": "2022-11-08T21:21:44.078Z"
   },
   {
    "duration": 95,
    "start_time": "2022-11-08T21:21:51.692Z"
   },
   {
    "duration": 88,
    "start_time": "2022-11-08T21:22:42.572Z"
   },
   {
    "duration": 5,
    "start_time": "2022-11-08T21:22:52.974Z"
   },
   {
    "duration": 3368,
    "start_time": "2022-11-08T21:22:55.588Z"
   },
   {
    "duration": 6,
    "start_time": "2022-11-08T21:23:17.316Z"
   },
   {
    "duration": 3533,
    "start_time": "2022-11-08T21:23:17.923Z"
   },
   {
    "duration": 9,
    "start_time": "2022-11-08T21:23:32.385Z"
   },
   {
    "duration": 3527,
    "start_time": "2022-11-08T21:23:33.036Z"
   },
   {
    "duration": 6,
    "start_time": "2022-11-08T21:23:42.148Z"
   },
   {
    "duration": 3485,
    "start_time": "2022-11-08T21:23:42.514Z"
   },
   {
    "duration": 10,
    "start_time": "2022-11-08T21:26:31.437Z"
   },
   {
    "duration": 3435,
    "start_time": "2022-11-08T21:26:32.092Z"
   },
   {
    "duration": 6,
    "start_time": "2022-11-08T21:29:39.758Z"
   },
   {
    "duration": 3929,
    "start_time": "2022-11-08T21:29:43.667Z"
   },
   {
    "duration": 6,
    "start_time": "2022-11-08T21:30:26.372Z"
   },
   {
    "duration": 4107,
    "start_time": "2022-11-08T21:30:27.925Z"
   },
   {
    "duration": 6,
    "start_time": "2022-11-08T21:30:44.159Z"
   },
   {
    "duration": 6,
    "start_time": "2022-11-08T21:32:45.916Z"
   },
   {
    "duration": 888,
    "start_time": "2022-11-08T21:32:46.523Z"
   },
   {
    "duration": 6,
    "start_time": "2022-11-08T21:33:06.816Z"
   },
   {
    "duration": 3768,
    "start_time": "2022-11-08T21:33:07.416Z"
   },
   {
    "duration": 4038,
    "start_time": "2022-11-08T21:33:58.472Z"
   },
   {
    "duration": 11,
    "start_time": "2022-11-08T21:34:10.409Z"
   },
   {
    "duration": 12,
    "start_time": "2022-11-08T21:34:12.437Z"
   },
   {
    "duration": 12,
    "start_time": "2022-11-08T21:34:14.290Z"
   },
   {
    "duration": 3938,
    "start_time": "2022-11-08T21:35:19.803Z"
   },
   {
    "duration": 10,
    "start_time": "2022-11-08T21:37:05.296Z"
   },
   {
    "duration": 8,
    "start_time": "2022-11-08T21:40:02.447Z"
   },
   {
    "duration": 119,
    "start_time": "2022-11-08T21:40:11.328Z"
   },
   {
    "duration": 100,
    "start_time": "2022-11-08T21:40:15.551Z"
   },
   {
    "duration": 9,
    "start_time": "2022-11-08T21:40:49.494Z"
   },
   {
    "duration": 9,
    "start_time": "2022-11-08T21:41:13.271Z"
   },
   {
    "duration": 11,
    "start_time": "2022-11-08T21:57:30.934Z"
   },
   {
    "duration": 3980,
    "start_time": "2022-11-08T21:57:39.290Z"
   },
   {
    "duration": 6,
    "start_time": "2022-11-08T21:57:54.662Z"
   },
   {
    "duration": 4476,
    "start_time": "2022-11-08T21:57:55.023Z"
   },
   {
    "duration": 6,
    "start_time": "2022-11-08T21:58:02.578Z"
   },
   {
    "duration": 4546,
    "start_time": "2022-11-08T21:58:03.661Z"
   },
   {
    "duration": 7,
    "start_time": "2022-11-08T21:58:29.387Z"
   },
   {
    "duration": 4573,
    "start_time": "2022-11-08T21:58:30.148Z"
   },
   {
    "duration": 7,
    "start_time": "2022-11-08T21:58:44.053Z"
   },
   {
    "duration": 4229,
    "start_time": "2022-11-08T21:58:44.794Z"
   },
   {
    "duration": 7,
    "start_time": "2022-11-08T21:58:50.955Z"
   },
   {
    "duration": 3709,
    "start_time": "2022-11-08T21:58:51.568Z"
   },
   {
    "duration": 9,
    "start_time": "2022-11-08T22:09:30.603Z"
   },
   {
    "duration": 8,
    "start_time": "2022-11-08T22:09:47.368Z"
   },
   {
    "duration": 3711,
    "start_time": "2022-11-08T22:09:58.695Z"
   },
   {
    "duration": 75,
    "start_time": "2022-11-08T22:17:41.231Z"
   },
   {
    "duration": 7,
    "start_time": "2022-11-08T22:17:48.680Z"
   },
   {
    "duration": 7,
    "start_time": "2022-11-08T22:17:51.101Z"
   },
   {
    "duration": 33,
    "start_time": "2022-11-08T22:17:57.600Z"
   },
   {
    "duration": 6,
    "start_time": "2022-11-08T22:19:17.012Z"
   },
   {
    "duration": 21,
    "start_time": "2022-11-08T22:19:19.470Z"
   },
   {
    "duration": 6,
    "start_time": "2022-11-08T22:19:26.535Z"
   },
   {
    "duration": 3863,
    "start_time": "2022-11-08T22:19:28.849Z"
   },
   {
    "duration": 6,
    "start_time": "2022-11-08T22:21:45.330Z"
   },
   {
    "duration": 3727,
    "start_time": "2022-11-08T22:21:48.611Z"
   },
   {
    "duration": 6,
    "start_time": "2022-11-08T22:22:04.465Z"
   },
   {
    "duration": 3807,
    "start_time": "2022-11-08T22:22:07.059Z"
   },
   {
    "duration": 7,
    "start_time": "2022-11-08T22:26:34.169Z"
   },
   {
    "duration": 4712,
    "start_time": "2022-11-08T22:26:35.026Z"
   },
   {
    "duration": 7,
    "start_time": "2022-11-08T22:33:05.880Z"
   },
   {
    "duration": 14679,
    "start_time": "2022-11-08T22:33:08.837Z"
   },
   {
    "duration": 8,
    "start_time": "2022-11-08T22:33:34.895Z"
   },
   {
    "duration": 7,
    "start_time": "2022-11-08T22:34:01.492Z"
   },
   {
    "duration": 0,
    "start_time": "2022-11-08T22:35:36.485Z"
   },
   {
    "duration": 0,
    "start_time": "2022-11-08T22:35:36.486Z"
   },
   {
    "duration": 8,
    "start_time": "2022-11-08T22:35:38.392Z"
   },
   {
    "duration": 14527,
    "start_time": "2022-11-08T22:35:39.264Z"
   },
   {
    "duration": 7,
    "start_time": "2022-11-08T22:35:54.988Z"
   },
   {
    "duration": 4682,
    "start_time": "2022-11-08T22:35:55.771Z"
   },
   {
    "duration": 8,
    "start_time": "2022-11-08T22:36:13.962Z"
   },
   {
    "duration": 5115,
    "start_time": "2022-11-08T22:36:14.371Z"
   },
   {
    "duration": 7,
    "start_time": "2022-11-08T22:36:36.383Z"
   },
   {
    "duration": 8,
    "start_time": "2022-11-08T22:36:45.208Z"
   },
   {
    "duration": 7943,
    "start_time": "2022-11-08T22:36:45.217Z"
   },
   {
    "duration": 7,
    "start_time": "2022-11-08T22:36:53.162Z"
   },
   {
    "duration": 5078,
    "start_time": "2022-11-08T22:36:53.224Z"
   },
   {
    "duration": 5130,
    "start_time": "2022-11-08T22:37:19.655Z"
   },
   {
    "duration": 10,
    "start_time": "2022-11-08T22:45:17.650Z"
   },
   {
    "duration": 5192,
    "start_time": "2022-11-08T22:45:20.005Z"
   },
   {
    "duration": 5250,
    "start_time": "2022-11-08T22:46:15.648Z"
   },
   {
    "duration": 8,
    "start_time": "2022-11-08T23:14:37.274Z"
   },
   {
    "duration": 5238,
    "start_time": "2022-11-08T23:14:41.922Z"
   },
   {
    "duration": 8,
    "start_time": "2022-11-08T23:15:32.164Z"
   },
   {
    "duration": 5237,
    "start_time": "2022-11-08T23:15:48.921Z"
   },
   {
    "duration": 5252,
    "start_time": "2022-11-08T23:15:59.377Z"
   },
   {
    "duration": 5332,
    "start_time": "2022-11-08T23:16:10.274Z"
   },
   {
    "duration": 5509,
    "start_time": "2022-11-08T23:16:28.828Z"
   },
   {
    "duration": 5197,
    "start_time": "2022-11-08T23:24:14.468Z"
   },
   {
    "duration": 5230,
    "start_time": "2022-11-08T23:25:10.569Z"
   },
   {
    "duration": 83,
    "start_time": "2022-11-08T23:37:42.981Z"
   },
   {
    "duration": 288,
    "start_time": "2022-11-08T23:38:04.391Z"
   },
   {
    "duration": 1634,
    "start_time": "2022-11-08T23:39:32.318Z"
   },
   {
    "duration": 3347,
    "start_time": "2022-11-08T23:40:28.893Z"
   },
   {
    "duration": 16,
    "start_time": "2022-11-08T23:41:48.040Z"
   },
   {
    "duration": 11,
    "start_time": "2022-11-08T23:42:48.424Z"
   },
   {
    "duration": 10,
    "start_time": "2022-11-08T23:42:58.707Z"
   },
   {
    "duration": 9,
    "start_time": "2022-11-08T23:43:07.189Z"
   },
   {
    "duration": 23,
    "start_time": "2022-11-08T23:43:11.410Z"
   },
   {
    "duration": 12,
    "start_time": "2022-11-08T23:43:15.472Z"
   },
   {
    "duration": 9,
    "start_time": "2022-11-08T23:43:19.647Z"
   },
   {
    "duration": 3289,
    "start_time": "2022-11-08T23:44:06.682Z"
   },
   {
    "duration": 281,
    "start_time": "2022-11-08T23:44:48.171Z"
   },
   {
    "duration": 1600,
    "start_time": "2022-11-08T23:44:50.466Z"
   },
   {
    "duration": 8,
    "start_time": "2022-11-08T23:46:35.309Z"
   },
   {
    "duration": 3592,
    "start_time": "2022-11-08T23:47:40.123Z"
   },
   {
    "duration": 11,
    "start_time": "2022-11-08T23:47:53.621Z"
   },
   {
    "duration": 4,
    "start_time": "2022-11-08T23:48:23.386Z"
   },
   {
    "duration": 8,
    "start_time": "2022-11-08T23:48:28.346Z"
   },
   {
    "duration": 3358,
    "start_time": "2022-11-08T23:48:37.538Z"
   },
   {
    "duration": 282,
    "start_time": "2022-11-08T23:49:45.547Z"
   },
   {
    "duration": 9,
    "start_time": "2022-11-08T23:49:49.191Z"
   },
   {
    "duration": 1668,
    "start_time": "2022-11-08T23:50:29.546Z"
   },
   {
    "duration": 8,
    "start_time": "2022-11-08T23:51:03.962Z"
   },
   {
    "duration": 3388,
    "start_time": "2022-11-08T23:51:26.976Z"
   },
   {
    "duration": 1626,
    "start_time": "2022-11-08T23:51:33.461Z"
   },
   {
    "duration": 282,
    "start_time": "2022-11-08T23:51:37.163Z"
   },
   {
    "duration": 9,
    "start_time": "2022-11-08T23:51:42.556Z"
   },
   {
    "duration": 12,
    "start_time": "2022-11-08T23:51:54.996Z"
   },
   {
    "duration": 9,
    "start_time": "2022-11-08T23:52:04.979Z"
   },
   {
    "duration": 3430,
    "start_time": "2022-11-08T23:52:49.194Z"
   },
   {
    "duration": 1599,
    "start_time": "2022-11-08T23:53:07.804Z"
   },
   {
    "duration": 277,
    "start_time": "2022-11-08T23:53:14.523Z"
   },
   {
    "duration": 7,
    "start_time": "2022-11-09T00:08:00.635Z"
   },
   {
    "duration": 9,
    "start_time": "2022-11-09T00:08:48.111Z"
   },
   {
    "duration": 11,
    "start_time": "2022-11-09T00:08:56.266Z"
   },
   {
    "duration": 8,
    "start_time": "2022-11-09T00:09:00.152Z"
   },
   {
    "duration": 8,
    "start_time": "2022-11-09T00:13:27.086Z"
   },
   {
    "duration": 9,
    "start_time": "2022-11-09T00:13:31.342Z"
   },
   {
    "duration": 11,
    "start_time": "2022-11-09T00:13:31.853Z"
   },
   {
    "duration": 7,
    "start_time": "2022-11-09T00:13:32.281Z"
   },
   {
    "duration": 5,
    "start_time": "2022-11-09T00:13:33.976Z"
   },
   {
    "duration": 6,
    "start_time": "2022-11-09T00:13:50.595Z"
   },
   {
    "duration": 5,
    "start_time": "2022-11-09T00:14:06.068Z"
   },
   {
    "duration": 8,
    "start_time": "2022-11-09T00:14:56.257Z"
   },
   {
    "duration": 997,
    "start_time": "2022-11-09T15:32:14.277Z"
   },
   {
    "duration": 62,
    "start_time": "2022-11-09T15:32:15.276Z"
   },
   {
    "duration": 19,
    "start_time": "2022-11-09T15:32:15.340Z"
   },
   {
    "duration": 11,
    "start_time": "2022-11-09T15:32:15.362Z"
   },
   {
    "duration": 12,
    "start_time": "2022-11-09T15:32:15.374Z"
   },
   {
    "duration": 9,
    "start_time": "2022-11-09T15:32:15.388Z"
   },
   {
    "duration": 6519,
    "start_time": "2022-11-09T15:32:15.399Z"
   },
   {
    "duration": 5564,
    "start_time": "2022-11-09T15:32:21.920Z"
   },
   {
    "duration": 380,
    "start_time": "2022-11-09T15:32:27.486Z"
   },
   {
    "duration": 2115,
    "start_time": "2022-11-09T15:32:27.868Z"
   },
   {
    "duration": 3164,
    "start_time": "2022-11-09T15:32:29.984Z"
   },
   {
    "duration": 9,
    "start_time": "2022-11-09T15:32:33.149Z"
   },
   {
    "duration": 14,
    "start_time": "2022-11-09T15:32:33.160Z"
   },
   {
    "duration": 10,
    "start_time": "2022-11-09T15:32:33.176Z"
   },
   {
    "duration": 29,
    "start_time": "2022-11-09T15:32:33.188Z"
   },
   {
    "duration": 8,
    "start_time": "2022-11-09T15:32:33.218Z"
   },
   {
    "duration": 7,
    "start_time": "2022-11-09T15:32:33.228Z"
   },
   {
    "duration": 45,
    "start_time": "2022-11-09T16:19:37.159Z"
   },
   {
    "duration": 1085,
    "start_time": "2022-11-09T16:19:40.627Z"
   },
   {
    "duration": 110,
    "start_time": "2022-11-09T16:19:41.714Z"
   },
   {
    "duration": 16,
    "start_time": "2022-11-09T16:19:41.826Z"
   },
   {
    "duration": 10,
    "start_time": "2022-11-09T16:19:41.844Z"
   },
   {
    "duration": 21,
    "start_time": "2022-11-09T16:19:44.526Z"
   },
   {
    "duration": 51,
    "start_time": "2022-11-09T19:07:59.073Z"
   },
   {
    "duration": 1119,
    "start_time": "2022-11-09T19:08:03.072Z"
   },
   {
    "duration": 55,
    "start_time": "2022-11-09T19:08:04.193Z"
   },
   {
    "duration": 27,
    "start_time": "2022-11-09T19:08:04.250Z"
   },
   {
    "duration": 12,
    "start_time": "2022-11-09T19:08:04.279Z"
   },
   {
    "duration": 29,
    "start_time": "2022-11-09T19:08:04.293Z"
   },
   {
    "duration": 10,
    "start_time": "2022-11-09T19:08:07.630Z"
   },
   {
    "duration": 309,
    "start_time": "2022-11-09T19:20:47.243Z"
   },
   {
    "duration": 285,
    "start_time": "2022-11-09T19:21:04.575Z"
   },
   {
    "duration": 1684,
    "start_time": "2022-11-09T19:21:36.791Z"
   },
   {
    "duration": 3680,
    "start_time": "2022-11-09T19:26:13.552Z"
   },
   {
    "duration": 73,
    "start_time": "2022-11-09T19:29:25.709Z"
   },
   {
    "duration": 1776,
    "start_time": "2022-11-09T19:44:03.225Z"
   },
   {
    "duration": 1779,
    "start_time": "2022-11-09T19:44:11.020Z"
   },
   {
    "duration": 62,
    "start_time": "2022-11-09T19:46:33.229Z"
   },
   {
    "duration": 4,
    "start_time": "2022-11-09T19:46:49.267Z"
   },
   {
    "duration": 3,
    "start_time": "2022-11-09T19:47:14.358Z"
   },
   {
    "duration": 4,
    "start_time": "2022-11-09T19:47:16.480Z"
   },
   {
    "duration": 3,
    "start_time": "2022-11-09T19:48:09.498Z"
   },
   {
    "duration": 3,
    "start_time": "2022-11-09T19:48:12.120Z"
   },
   {
    "duration": 1736,
    "start_time": "2022-11-09T19:50:53.643Z"
   },
   {
    "duration": 17,
    "start_time": "2022-11-09T19:51:16.037Z"
   },
   {
    "duration": 1693,
    "start_time": "2022-11-09T19:51:23.421Z"
   },
   {
    "duration": 1746,
    "start_time": "2022-11-09T19:52:09.615Z"
   },
   {
    "duration": 1684,
    "start_time": "2022-11-09T19:55:00.403Z"
   },
   {
    "duration": 6,
    "start_time": "2022-11-09T19:56:56.882Z"
   },
   {
    "duration": 1710,
    "start_time": "2022-11-09T19:58:31.477Z"
   },
   {
    "duration": 79,
    "start_time": "2022-11-09T20:00:48.291Z"
   },
   {
    "duration": 74,
    "start_time": "2022-11-09T20:01:03.130Z"
   },
   {
    "duration": 5,
    "start_time": "2022-11-09T20:01:33.711Z"
   },
   {
    "duration": 318,
    "start_time": "2022-11-09T20:01:53.860Z"
   },
   {
    "duration": 10,
    "start_time": "2022-11-09T20:04:27.709Z"
   },
   {
    "duration": 325,
    "start_time": "2022-11-09T20:04:38.084Z"
   },
   {
    "duration": 290,
    "start_time": "2022-11-09T20:04:44.065Z"
   },
   {
    "duration": 302,
    "start_time": "2022-11-09T20:04:53.293Z"
   },
   {
    "duration": 6,
    "start_time": "2022-11-09T20:05:32.247Z"
   },
   {
    "duration": 318,
    "start_time": "2022-11-09T20:05:32.667Z"
   },
   {
    "duration": 72,
    "start_time": "2022-11-09T20:06:02.302Z"
   },
   {
    "duration": 5,
    "start_time": "2022-11-09T20:06:24.082Z"
   },
   {
    "duration": 281,
    "start_time": "2022-11-09T20:06:27.163Z"
   },
   {
    "duration": 5,
    "start_time": "2022-11-09T20:08:13.579Z"
   },
   {
    "duration": 316,
    "start_time": "2022-11-09T20:08:14.019Z"
   },
   {
    "duration": 295,
    "start_time": "2022-11-09T20:08:47.033Z"
   },
   {
    "duration": 5,
    "start_time": "2022-11-09T20:08:49.003Z"
   },
   {
    "duration": 300,
    "start_time": "2022-11-09T20:08:49.335Z"
   },
   {
    "duration": 330,
    "start_time": "2022-11-09T20:10:01.962Z"
   },
   {
    "duration": 311,
    "start_time": "2022-11-09T20:10:50.569Z"
   },
   {
    "duration": 339,
    "start_time": "2022-11-09T20:11:04.043Z"
   },
   {
    "duration": 7,
    "start_time": "2022-11-09T20:11:05.966Z"
   },
   {
    "duration": 303,
    "start_time": "2022-11-09T20:11:06.132Z"
   },
   {
    "duration": 4,
    "start_time": "2022-11-09T20:12:31.968Z"
   },
   {
    "duration": 342,
    "start_time": "2022-11-09T20:16:43.605Z"
   },
   {
    "duration": 336,
    "start_time": "2022-11-09T20:17:11.320Z"
   },
   {
    "duration": 333,
    "start_time": "2022-11-09T20:17:16.506Z"
   },
   {
    "duration": 10,
    "start_time": "2022-11-09T20:17:54.790Z"
   },
   {
    "duration": 8,
    "start_time": "2022-11-09T20:17:57.558Z"
   },
   {
    "duration": 10,
    "start_time": "2022-11-09T20:17:58.920Z"
   },
   {
    "duration": 9,
    "start_time": "2022-11-09T20:18:00.917Z"
   },
   {
    "duration": 9,
    "start_time": "2022-11-09T20:18:01.757Z"
   },
   {
    "duration": 5,
    "start_time": "2022-11-09T20:18:27.745Z"
   },
   {
    "duration": 287,
    "start_time": "2022-11-09T20:18:29.734Z"
   },
   {
    "duration": 335,
    "start_time": "2022-11-09T20:21:07.957Z"
   },
   {
    "duration": 305,
    "start_time": "2022-11-09T20:22:53.436Z"
   },
   {
    "duration": 350,
    "start_time": "2022-11-09T20:23:44.727Z"
   },
   {
    "duration": 73,
    "start_time": "2022-11-09T20:24:44.150Z"
   },
   {
    "duration": 5,
    "start_time": "2022-11-09T20:24:56.107Z"
   },
   {
    "duration": 1740,
    "start_time": "2022-11-09T20:25:15.779Z"
   },
   {
    "duration": 2382,
    "start_time": "2022-11-09T20:25:57.472Z"
   },
   {
    "duration": 4,
    "start_time": "2022-11-09T20:27:07.303Z"
   },
   {
    "duration": 3540,
    "start_time": "2022-11-09T20:27:18.173Z"
   },
   {
    "duration": 44149,
    "start_time": "2022-11-09T20:27:43.007Z"
   },
   {
    "duration": 426,
    "start_time": "2022-11-09T20:30:17.619Z"
   },
   {
    "duration": 357,
    "start_time": "2022-11-09T20:30:29.719Z"
   },
   {
    "duration": 740,
    "start_time": "2022-11-09T20:37:46.297Z"
   },
   {
    "duration": 4404,
    "start_time": "2022-11-09T20:38:05.437Z"
   },
   {
    "duration": 127378,
    "start_time": "2022-11-09T20:39:00.881Z"
   },
   {
    "duration": 7999,
    "start_time": "2022-11-09T20:42:41.220Z"
   },
   {
    "duration": 18,
    "start_time": "2022-11-09T20:43:41.032Z"
   },
   {
    "duration": 2927,
    "start_time": "2022-11-09T20:43:54.373Z"
   },
   {
    "duration": 174618,
    "start_time": "2022-11-09T20:43:59.442Z"
   },
   {
    "duration": 8,
    "start_time": "2022-11-09T20:46:54.151Z"
   },
   {
    "duration": 6,
    "start_time": "2022-11-09T20:47:05.855Z"
   },
   {
    "duration": 4159,
    "start_time": "2022-11-09T20:47:06.320Z"
   },
   {
    "duration": 8,
    "start_time": "2022-11-09T20:47:22.067Z"
   },
   {
    "duration": 4171,
    "start_time": "2022-11-09T20:47:22.499Z"
   },
   {
    "duration": 6,
    "start_time": "2022-11-09T20:47:28.708Z"
   },
   {
    "duration": 25,
    "start_time": "2022-11-09T20:47:28.721Z"
   },
   {
    "duration": 15,
    "start_time": "2022-11-09T20:47:28.748Z"
   },
   {
    "duration": 29,
    "start_time": "2022-11-09T20:47:28.766Z"
   },
   {
    "duration": 26,
    "start_time": "2022-11-09T20:47:28.797Z"
   },
   {
    "duration": 13,
    "start_time": "2022-11-09T20:47:28.825Z"
   },
   {
    "duration": 33,
    "start_time": "2022-11-09T20:47:28.840Z"
   },
   {
    "duration": 359,
    "start_time": "2022-11-09T20:47:28.879Z"
   },
   {
    "duration": 5,
    "start_time": "2022-11-09T20:47:29.242Z"
   },
   {
    "duration": 1960,
    "start_time": "2022-11-09T20:47:29.253Z"
   },
   {
    "duration": 6,
    "start_time": "2022-11-09T20:47:35.086Z"
   },
   {
    "duration": 3909,
    "start_time": "2022-11-09T20:47:35.473Z"
   },
   {
    "duration": 79141,
    "start_time": "2022-11-09T20:48:09.334Z"
   },
   {
    "duration": 120,
    "start_time": "2022-11-09T20:49:52.633Z"
   },
   {
    "duration": 2128,
    "start_time": "2022-11-09T21:02:04.970Z"
   },
   {
    "duration": 56498,
    "start_time": "2022-11-09T21:02:32.965Z"
   },
   {
    "duration": 381,
    "start_time": "2022-11-09T21:03:32.102Z"
   },
   {
    "duration": 4,
    "start_time": "2022-11-09T21:19:09.298Z"
   },
   {
    "duration": 43,
    "start_time": "2022-11-09T21:19:10.251Z"
   },
   {
    "duration": 4,
    "start_time": "2022-11-09T21:19:16.823Z"
   },
   {
    "duration": 46,
    "start_time": "2022-11-09T21:19:18.088Z"
   },
   {
    "duration": 162,
    "start_time": "2022-11-09T21:19:23.990Z"
   },
   {
    "duration": 4,
    "start_time": "2022-11-09T21:19:33.469Z"
   },
   {
    "duration": 3458,
    "start_time": "2022-11-09T21:19:35.482Z"
   },
   {
    "duration": 933,
    "start_time": "2022-11-10T07:48:22.388Z"
   },
   {
    "duration": 127,
    "start_time": "2022-11-10T07:48:23.323Z"
   },
   {
    "duration": 20,
    "start_time": "2022-11-10T07:48:23.452Z"
   },
   {
    "duration": 11,
    "start_time": "2022-11-10T07:48:23.474Z"
   },
   {
    "duration": 51,
    "start_time": "2022-11-10T07:48:23.487Z"
   },
   {
    "duration": 9,
    "start_time": "2022-11-10T07:48:23.540Z"
   },
   {
    "duration": 15,
    "start_time": "2022-11-10T07:48:23.551Z"
   },
   {
    "duration": 347,
    "start_time": "2022-11-10T07:48:23.568Z"
   },
   {
    "duration": 4,
    "start_time": "2022-11-10T07:48:23.917Z"
   },
   {
    "duration": 1867,
    "start_time": "2022-11-10T07:48:23.923Z"
   },
   {
    "duration": 5,
    "start_time": "2022-11-10T07:48:25.791Z"
   },
   {
    "duration": 3018,
    "start_time": "2022-11-10T07:48:25.797Z"
   },
   {
    "duration": 379,
    "start_time": "2022-11-10T07:48:28.817Z"
   },
   {
    "duration": 2297,
    "start_time": "2022-11-10T07:48:29.197Z"
   },
   {
    "duration": 34587,
    "start_time": "2022-11-10T07:48:31.495Z"
   },
   {
    "duration": 204,
    "start_time": "2022-11-10T07:49:06.085Z"
   },
   {
    "duration": 0,
    "start_time": "2022-11-10T07:49:06.291Z"
   },
   {
    "duration": 0,
    "start_time": "2022-11-10T07:49:06.292Z"
   },
   {
    "duration": 0,
    "start_time": "2022-11-10T07:49:06.293Z"
   },
   {
    "duration": 0,
    "start_time": "2022-11-10T07:49:06.295Z"
   },
   {
    "duration": 0,
    "start_time": "2022-11-10T07:49:06.296Z"
   },
   {
    "duration": 0,
    "start_time": "2022-11-10T07:49:06.297Z"
   },
   {
    "duration": 0,
    "start_time": "2022-11-10T07:49:06.298Z"
   },
   {
    "duration": 0,
    "start_time": "2022-11-10T07:49:06.299Z"
   },
   {
    "duration": 11,
    "start_time": "2022-11-10T07:54:55.360Z"
   },
   {
    "duration": 9,
    "start_time": "2022-11-10T07:58:51.019Z"
   },
   {
    "duration": 8,
    "start_time": "2022-11-10T07:58:55.190Z"
   },
   {
    "duration": 9,
    "start_time": "2022-11-10T07:58:55.657Z"
   },
   {
    "duration": 8,
    "start_time": "2022-11-10T07:58:56.444Z"
   },
   {
    "duration": 705,
    "start_time": "2022-11-10T07:59:01.099Z"
   },
   {
    "duration": 4538,
    "start_time": "2022-11-10T07:59:01.806Z"
   },
   {
    "duration": 59840,
    "start_time": "2022-11-10T07:59:06.345Z"
   },
   {
    "duration": 9,
    "start_time": "2022-11-10T08:03:18.045Z"
   },
   {
    "duration": 4,
    "start_time": "2022-11-10T08:03:27.570Z"
   },
   {
    "duration": 1042,
    "start_time": "2022-11-10T08:11:45.364Z"
   },
   {
    "duration": 127,
    "start_time": "2022-11-10T08:11:46.408Z"
   },
   {
    "duration": 23,
    "start_time": "2022-11-10T08:11:46.538Z"
   },
   {
    "duration": 12,
    "start_time": "2022-11-10T08:11:46.563Z"
   },
   {
    "duration": 57,
    "start_time": "2022-11-10T08:11:46.577Z"
   },
   {
    "duration": 11,
    "start_time": "2022-11-10T08:11:46.638Z"
   },
   {
    "duration": 25,
    "start_time": "2022-11-10T08:11:46.651Z"
   },
   {
    "duration": 325,
    "start_time": "2022-11-10T08:11:46.678Z"
   },
   {
    "duration": 5,
    "start_time": "2022-11-10T08:11:47.004Z"
   },
   {
    "duration": 1755,
    "start_time": "2022-11-10T08:11:47.011Z"
   },
   {
    "duration": 4,
    "start_time": "2022-11-10T08:11:58.227Z"
   },
   {
    "duration": 3565,
    "start_time": "2022-11-10T08:11:59.890Z"
   },
   {
    "duration": 349,
    "start_time": "2022-11-10T08:12:09.899Z"
   },
   {
    "duration": 2138,
    "start_time": "2022-11-10T08:12:10.539Z"
   },
   {
    "duration": 32059,
    "start_time": "2022-11-10T08:12:12.679Z"
   },
   {
    "duration": 115,
    "start_time": "2022-11-10T08:12:56.218Z"
   },
   {
    "duration": 8,
    "start_time": "2022-11-10T08:13:21.666Z"
   },
   {
    "duration": 668,
    "start_time": "2022-11-10T08:15:38.873Z"
   },
   {
    "duration": 4219,
    "start_time": "2022-11-10T08:15:41.865Z"
   },
   {
    "duration": 333,
    "start_time": "2022-11-10T08:29:44.916Z"
   },
   {
    "duration": 1848,
    "start_time": "2022-11-10T08:30:24.827Z"
   },
   {
    "duration": 3968,
    "start_time": "2022-11-10T08:30:54.050Z"
   },
   {
    "duration": 7,
    "start_time": "2022-11-10T08:34:25.287Z"
   },
   {
    "duration": 10,
    "start_time": "2022-11-10T08:34:29.760Z"
   },
   {
    "duration": 12,
    "start_time": "2022-11-10T08:34:31.041Z"
   },
   {
    "duration": 20,
    "start_time": "2022-11-10T08:36:49.191Z"
   },
   {
    "duration": 17,
    "start_time": "2022-11-10T08:37:09.623Z"
   },
   {
    "duration": 14,
    "start_time": "2022-11-10T08:37:18.908Z"
   },
   {
    "duration": 15,
    "start_time": "2022-11-10T08:38:36.773Z"
   },
   {
    "duration": 14,
    "start_time": "2022-11-10T08:38:59.113Z"
   },
   {
    "duration": 13,
    "start_time": "2022-11-10T08:40:30.973Z"
   },
   {
    "duration": 61,
    "start_time": "2022-11-10T08:42:13.853Z"
   },
   {
    "duration": 207,
    "start_time": "2022-11-10T08:43:09.127Z"
   },
   {
    "duration": 3549,
    "start_time": "2022-11-10T08:43:19.652Z"
   },
   {
    "duration": 181,
    "start_time": "2022-11-10T08:43:29.355Z"
   },
   {
    "duration": 59,
    "start_time": "2022-11-10T08:45:24.243Z"
   },
   {
    "duration": 8,
    "start_time": "2022-11-10T08:46:48.353Z"
   },
   {
    "duration": 10,
    "start_time": "2022-11-10T08:47:05.291Z"
   },
   {
    "duration": 9,
    "start_time": "2022-11-10T08:47:06.186Z"
   },
   {
    "duration": 5,
    "start_time": "2022-11-10T08:47:14.771Z"
   },
   {
    "duration": 5,
    "start_time": "2022-11-10T08:47:15.600Z"
   },
   {
    "duration": 5,
    "start_time": "2022-11-10T08:47:16.298Z"
   },
   {
    "duration": 12,
    "start_time": "2022-11-10T09:15:06.484Z"
   },
   {
    "duration": 22,
    "start_time": "2022-11-10T09:15:36.511Z"
   },
   {
    "duration": 11,
    "start_time": "2022-11-10T09:15:58.762Z"
   },
   {
    "duration": 8,
    "start_time": "2022-11-10T09:16:14.151Z"
   },
   {
    "duration": 10,
    "start_time": "2022-11-10T09:19:35.658Z"
   },
   {
    "duration": 15,
    "start_time": "2022-11-10T09:20:18.179Z"
   },
   {
    "duration": 16,
    "start_time": "2022-11-10T09:20:42.208Z"
   },
   {
    "duration": 10,
    "start_time": "2022-11-10T09:21:24.898Z"
   },
   {
    "duration": 10,
    "start_time": "2022-11-10T09:37:26.420Z"
   },
   {
    "duration": 10,
    "start_time": "2022-11-10T09:37:26.897Z"
   },
   {
    "duration": 7,
    "start_time": "2022-11-10T09:37:27.426Z"
   },
   {
    "duration": 5,
    "start_time": "2022-11-10T09:37:29.585Z"
   },
   {
    "duration": 6,
    "start_time": "2022-11-10T09:37:29.989Z"
   },
   {
    "duration": 5,
    "start_time": "2022-11-10T09:37:30.301Z"
   },
   {
    "duration": 1169,
    "start_time": "2022-11-10T17:20:13.025Z"
   },
   {
    "duration": 125,
    "start_time": "2022-11-10T17:20:14.196Z"
   },
   {
    "duration": 25,
    "start_time": "2022-11-10T17:20:14.323Z"
   },
   {
    "duration": 10,
    "start_time": "2022-11-10T17:20:14.351Z"
   },
   {
    "duration": 28,
    "start_time": "2022-11-10T17:20:14.363Z"
   },
   {
    "duration": 9,
    "start_time": "2022-11-10T17:20:14.393Z"
   },
   {
    "duration": 381,
    "start_time": "2022-11-10T17:20:14.404Z"
   },
   {
    "duration": 1839,
    "start_time": "2022-11-10T17:20:14.787Z"
   },
   {
    "duration": 3648,
    "start_time": "2022-11-10T17:20:16.628Z"
   },
   {
    "duration": 15,
    "start_time": "2022-11-10T17:20:20.278Z"
   },
   {
    "duration": 93,
    "start_time": "2022-11-10T17:20:20.295Z"
   },
   {
    "duration": 259,
    "start_time": "2022-11-10T17:20:20.390Z"
   },
   {
    "duration": 99,
    "start_time": "2022-11-10T17:20:20.652Z"
   },
   {
    "duration": 13,
    "start_time": "2022-11-10T17:20:20.754Z"
   },
   {
    "duration": 9,
    "start_time": "2022-11-10T17:20:20.770Z"
   },
   {
    "duration": 20,
    "start_time": "2022-11-10T17:20:20.783Z"
   },
   {
    "duration": 9,
    "start_time": "2022-11-10T17:20:20.805Z"
   },
   {
    "duration": 6,
    "start_time": "2022-11-10T17:20:20.817Z"
   },
   {
    "duration": 22,
    "start_time": "2022-11-10T17:20:20.825Z"
   },
   {
    "duration": 14,
    "start_time": "2022-11-10T17:20:20.850Z"
   },
   {
    "duration": 16,
    "start_time": "2022-11-10T17:20:20.866Z"
   },
   {
    "duration": 9,
    "start_time": "2022-11-10T17:20:20.884Z"
   },
   {
    "duration": 11,
    "start_time": "2022-11-10T17:28:10.843Z"
   },
   {
    "duration": 5,
    "start_time": "2022-11-10T17:28:20.006Z"
   },
   {
    "duration": 121,
    "start_time": "2022-11-10T17:29:08.005Z"
   },
   {
    "duration": 15,
    "start_time": "2022-11-10T17:29:14.690Z"
   },
   {
    "duration": 5,
    "start_time": "2022-11-10T17:29:19.306Z"
   },
   {
    "duration": 5,
    "start_time": "2022-11-10T17:29:23.327Z"
   }
  ],
  "kernelspec": {
   "display_name": "Python 3 (ipykernel)",
   "language": "python",
   "name": "python3"
  },
  "language_info": {
   "codemirror_mode": {
    "name": "ipython",
    "version": 3
   },
   "file_extension": ".py",
   "mimetype": "text/x-python",
   "name": "python",
   "nbconvert_exporter": "python",
   "pygments_lexer": "ipython3",
   "version": "3.9.12"
  },
  "toc": {
   "base_numbering": 1,
   "nav_menu": {},
   "number_sections": true,
   "sideBar": true,
   "skip_h1_title": true,
   "title_cell": "Table of Contents",
   "title_sidebar": "Contents",
   "toc_cell": false,
   "toc_position": {},
   "toc_section_display": true,
   "toc_window_display": false
  }
 },
 "nbformat": 4,
 "nbformat_minor": 2
}
