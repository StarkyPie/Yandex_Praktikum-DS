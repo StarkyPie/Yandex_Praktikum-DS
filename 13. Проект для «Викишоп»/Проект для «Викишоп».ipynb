{
 "cells": [
  {
   "cell_type": "markdown",
   "metadata": {
    "toc": true
   },
   "source": [
    "<h1>Содержание<span class=\"tocSkip\"></span></h1>\n",
    "<div class=\"toc\"><ul class=\"toc-item\"><li><span><a href=\"#Подготовка\" data-toc-modified-id=\"Подготовка-1\"><span class=\"toc-item-num\">1&nbsp;&nbsp;</span>Подготовка</a></span></li><li><span><a href=\"#Обучение\" data-toc-modified-id=\"Обучение-2\"><span class=\"toc-item-num\">2&nbsp;&nbsp;</span>Обучение</a></span><ul class=\"toc-item\"><li><span><a href=\"#Логистическая-регрессия\" data-toc-modified-id=\"Логистическая-регрессия-2.1\"><span class=\"toc-item-num\">2.1&nbsp;&nbsp;</span>Логистическая регрессия</a></span></li><li><span><a href=\"#Дерево-решений\" data-toc-modified-id=\"Дерево-решений-2.2\"><span class=\"toc-item-num\">2.2&nbsp;&nbsp;</span>Дерево решений</a></span></li><li><span><a href=\"#LightGBM\" data-toc-modified-id=\"LightGBM-2.3\"><span class=\"toc-item-num\">2.3&nbsp;&nbsp;</span>LightGBM</a></span></li><li><span><a href=\"#CatBoost-без-GridSearch\" data-toc-modified-id=\"CatBoost-без-GridSearch-2.4\"><span class=\"toc-item-num\">2.4&nbsp;&nbsp;</span>CatBoost без GridSearch</a></span></li></ul></li><li><span><a href=\"#Тестирование\" data-toc-modified-id=\"Тестирование-3\"><span class=\"toc-item-num\">3&nbsp;&nbsp;</span>Тестирование</a></span></li><li><span><a href=\"#Общий-вывод\" data-toc-modified-id=\"Общий-вывод-4\"><span class=\"toc-item-num\">4&nbsp;&nbsp;</span>Общий вывод</a></span></li><li><span><a href=\"#Чек-лист-проверки\" data-toc-modified-id=\"Чек-лист-проверки-5\"><span class=\"toc-item-num\">5&nbsp;&nbsp;</span>Чек-лист проверки</a></span></li></ul></div>"
   ]
  },
  {
   "cell_type": "markdown",
   "metadata": {},
   "source": [
    "# Проект для «Викишоп»"
   ]
  },
  {
   "cell_type": "markdown",
   "metadata": {},
   "source": [
    "Интернет-магазин «Викишоп» запускает новый сервис. Теперь пользователи могут редактировать и дополнять описания товаров, как в вики-сообществах. То есть клиенты предлагают свои правки и комментируют изменения других. Магазину нужен инструмент, который будет искать токсичные комментарии и отправлять их на модерацию. \n",
    "\n",
    "Обучите модель классифицировать комментарии на позитивные и негативные. В вашем распоряжении набор данных с разметкой о токсичности правок.\n",
    "\n",
    "Постройте модель со значением метрики качества *F1* не меньше 0.75. \n",
    "\n",
    "**Цель исследования** - выполнить следующие задачи:\n",
    "\n",
    "1. Загрузить и подготовить данные.\n",
    "2. Обучить разные модели. \n",
    "3. Сделать выводы.\n",
    "\n",
    "**Описание данных**\n",
    "\n",
    "Данные находятся в файле `toxic_comments.csv`. Столбец *text* в нём содержит текст комментария, а *toxic* — целевой признак."
   ]
  },
  {
   "cell_type": "markdown",
   "metadata": {},
   "source": [
    "## Подготовка"
   ]
  },
  {
   "cell_type": "code",
   "execution_count": 1,
   "metadata": {},
   "outputs": [
    {
     "name": "stderr",
     "output_type": "stream",
     "text": [
      "[nltk_data] Downloading package averaged_perceptron_tagger to\n",
      "[nltk_data]     /home/jovyan/nltk_data...\n",
      "[nltk_data]   Package averaged_perceptron_tagger is already up-to-\n",
      "[nltk_data]       date!\n"
     ]
    }
   ],
   "source": [
    "#импортируем необходимые библиотеки\n",
    "import pandas as pd\n",
    "import numpy as np\n",
    "import matplotlib.pyplot as plt\n",
    "import re\n",
    "from pymystem3 import Mystem\n",
    "import nltk \n",
    "from nltk.stem import WordNetLemmatizer\n",
    "from nltk import word_tokenize, pos_tag, pos_tag_sents\n",
    "from nltk.corpus import stopwords as nltk_stopwords\n",
    "nltk.download('averaged_perceptron_tagger')\n",
    "from sklearn.feature_extraction.text import TfidfVectorizer\n",
    "from sklearn.model_selection import train_test_split, cross_val_score, GridSearchCV\n",
    "from sklearn.linear_model import LogisticRegression\n",
    "from sklearn.tree import DecisionTreeClassifier\n",
    "from catboost import CatBoostClassifier\n",
    "from lightgbm import LGBMClassifier\n",
    "from sklearn.metrics import f1_score, precision_score, recall_score, accuracy_score, roc_auc_score, roc_curve\n",
    "from sklearn.pipeline import Pipeline\n",
    "from tqdm.notebook import tqdm\n",
    "tqdm.pandas()"
   ]
  },
  {
   "cell_type": "code",
   "execution_count": 2,
   "metadata": {},
   "outputs": [],
   "source": [
    "#прочитаем файл\n",
    "data = pd.read_csv('/datasets/toxic_comments.csv')"
   ]
  },
  {
   "cell_type": "code",
   "execution_count": 3,
   "metadata": {},
   "outputs": [
    {
     "data": {
      "text/html": [
       "<div>\n",
       "<style scoped>\n",
       "    .dataframe tbody tr th:only-of-type {\n",
       "        vertical-align: middle;\n",
       "    }\n",
       "\n",
       "    .dataframe tbody tr th {\n",
       "        vertical-align: top;\n",
       "    }\n",
       "\n",
       "    .dataframe thead th {\n",
       "        text-align: right;\n",
       "    }\n",
       "</style>\n",
       "<table border=\"1\" class=\"dataframe\">\n",
       "  <thead>\n",
       "    <tr style=\"text-align: right;\">\n",
       "      <th></th>\n",
       "      <th>Unnamed: 0</th>\n",
       "      <th>text</th>\n",
       "      <th>toxic</th>\n",
       "    </tr>\n",
       "  </thead>\n",
       "  <tbody>\n",
       "    <tr>\n",
       "      <th>0</th>\n",
       "      <td>0</td>\n",
       "      <td>Explanation\\nWhy the edits made under my usern...</td>\n",
       "      <td>0</td>\n",
       "    </tr>\n",
       "    <tr>\n",
       "      <th>1</th>\n",
       "      <td>1</td>\n",
       "      <td>D'aww! He matches this background colour I'm s...</td>\n",
       "      <td>0</td>\n",
       "    </tr>\n",
       "    <tr>\n",
       "      <th>2</th>\n",
       "      <td>2</td>\n",
       "      <td>Hey man, I'm really not trying to edit war. It...</td>\n",
       "      <td>0</td>\n",
       "    </tr>\n",
       "    <tr>\n",
       "      <th>3</th>\n",
       "      <td>3</td>\n",
       "      <td>\"\\nMore\\nI can't make any real suggestions on ...</td>\n",
       "      <td>0</td>\n",
       "    </tr>\n",
       "    <tr>\n",
       "      <th>4</th>\n",
       "      <td>4</td>\n",
       "      <td>You, sir, are my hero. Any chance you remember...</td>\n",
       "      <td>0</td>\n",
       "    </tr>\n",
       "  </tbody>\n",
       "</table>\n",
       "</div>"
      ],
      "text/plain": [
       "   Unnamed: 0                                               text  toxic\n",
       "0           0  Explanation\\nWhy the edits made under my usern...      0\n",
       "1           1  D'aww! He matches this background colour I'm s...      0\n",
       "2           2  Hey man, I'm really not trying to edit war. It...      0\n",
       "3           3  \"\\nMore\\nI can't make any real suggestions on ...      0\n",
       "4           4  You, sir, are my hero. Any chance you remember...      0"
      ]
     },
     "execution_count": 3,
     "metadata": {},
     "output_type": "execute_result"
    }
   ],
   "source": [
    "#выведем первые 5 строк таблицы\n",
    "data.head()"
   ]
  },
  {
   "cell_type": "code",
   "execution_count": 4,
   "metadata": {},
   "outputs": [
    {
     "name": "stdout",
     "output_type": "stream",
     "text": [
      "<class 'pandas.core.frame.DataFrame'>\n",
      "RangeIndex: 159292 entries, 0 to 159291\n",
      "Data columns (total 3 columns):\n",
      " #   Column      Non-Null Count   Dtype \n",
      "---  ------      --------------   ----- \n",
      " 0   Unnamed: 0  159292 non-null  int64 \n",
      " 1   text        159292 non-null  object\n",
      " 2   toxic       159292 non-null  int64 \n",
      "dtypes: int64(2), object(1)\n",
      "memory usage: 3.6+ MB\n"
     ]
    }
   ],
   "source": [
    "#выведем общую информацию\n",
    "data.info()"
   ]
  },
  {
   "cell_type": "code",
   "execution_count": 5,
   "metadata": {},
   "outputs": [
    {
     "data": {
      "text/html": [
       "<style  type=\"text/css\" >\n",
       "#T_8efc1_row0_col0,#T_8efc1_row1_col0,#T_8efc1_row2_col0{\n",
       "            background-color:  #3b4cc0;\n",
       "            color:  #f1f1f1;\n",
       "        }</style><table id=\"T_8efc1_\" ><thead>    <tr>        <th class=\"blank level0\" ></th>        <th class=\"col_heading level0 col0\" >0</th>    </tr></thead><tbody>\n",
       "                <tr>\n",
       "                        <th id=\"T_8efc1_level0_row0\" class=\"row_heading level0 row0\" >Unnamed: 0</th>\n",
       "                        <td id=\"T_8efc1_row0_col0\" class=\"data row0 col0\" >0.000000</td>\n",
       "            </tr>\n",
       "            <tr>\n",
       "                        <th id=\"T_8efc1_level0_row1\" class=\"row_heading level0 row1\" >text</th>\n",
       "                        <td id=\"T_8efc1_row1_col0\" class=\"data row1 col0\" >0.000000</td>\n",
       "            </tr>\n",
       "            <tr>\n",
       "                        <th id=\"T_8efc1_level0_row2\" class=\"row_heading level0 row2\" >toxic</th>\n",
       "                        <td id=\"T_8efc1_row2_col0\" class=\"data row2 col0\" >0.000000</td>\n",
       "            </tr>\n",
       "    </tbody></table>"
      ],
      "text/plain": [
       "<pandas.io.formats.style.Styler at 0x7f1a6457d280>"
      ]
     },
     "execution_count": 5,
     "metadata": {},
     "output_type": "execute_result"
    }
   ],
   "source": [
    "#проверим колличество пропусков в %\n",
    "pd.DataFrame(round(data.isna().mean()*100,)).style.background_gradient('coolwarm')"
   ]
  },
  {
   "cell_type": "code",
   "execution_count": 6,
   "metadata": {},
   "outputs": [
    {
     "data": {
      "text/plain": [
       "0"
      ]
     },
     "execution_count": 6,
     "metadata": {},
     "output_type": "execute_result"
    }
   ],
   "source": [
    "#посмотрим на количество дубликатов\n",
    "data.duplicated().sum()"
   ]
  },
  {
   "cell_type": "markdown",
   "metadata": {},
   "source": [
    "Видим некий столбец Unnamed, он просто даёт номер каждому тексту. Он не несёт никакой ценности для обучения моделей, а значит удалим его. "
   ]
  },
  {
   "cell_type": "code",
   "execution_count": 7,
   "metadata": {},
   "outputs": [],
   "source": [
    "data = data.drop('Unnamed: 0', axis=1)"
   ]
  },
  {
   "cell_type": "code",
   "execution_count": 8,
   "metadata": {},
   "outputs": [
    {
     "data": {
      "text/plain": [
       "0    143106\n",
       "1     16186\n",
       "Name: toxic, dtype: int64"
      ]
     },
     "execution_count": 8,
     "metadata": {},
     "output_type": "execute_result"
    }
   ],
   "source": [
    "#посмотрим на количество токсичных комментариев\n",
    "data['toxic'].value_counts()"
   ]
  },
  {
   "cell_type": "code",
   "execution_count": 9,
   "metadata": {},
   "outputs": [
    {
     "data": {
      "image/png": "[encoded data removed]",
      "text/plain": [
       "<Figure size 864x504 with 1 Axes>"
      ]
     },
     "metadata": {
      "needs_background": "light"
     },
     "output_type": "display_data"
    }
   ],
   "source": [
    "#посмотрим на длину токсичных и обычных предложений\n",
    "toxic = data[data['toxic'] == 1]['text'].apply(lambda x: len(x) - len(' '))\n",
    "non_toxic = data[data['toxic'] == 0]['text'].apply(lambda x: len(x) - len(' '))\n",
    "bins1 = np.linspace(0, 450, 70)\n",
    "plt.figure(figsize=(12, 7))\n",
    "plt.hist(toxic, bins=bins1, alpha = 1, label = 'Токсичные комментарии')\n",
    "plt.hist(non_toxic, bins=bins1, alpha = 0.3, label = 'Нетоксичные комментарии')\n",
    "plt.legend()\n",
    "plt.show()"
   ]
  },
  {
   "cell_type": "markdown",
   "metadata": {},
   "source": [
    "Обратим внимание, что длина нормальных комментариев больше, нежели токсичных"
   ]
  },
  {
   "cell_type": "markdown",
   "metadata": {},
   "source": [
    "Выполним лемматизацию текста"
   ]
  },
  {
   "cell_type": "code",
   "execution_count": 10,
   "metadata": {},
   "outputs": [
    {
     "data": {
      "application/vnd.jupyter.widget-view+json": {
       "model_id": "24a26aefb8634d588d135302fe0aaef2",
       "version_major": 2,
       "version_minor": 0
      },
      "text/plain": [
       "  0%|          | 0/159292 [00:00<?, ?it/s]"
      ]
     },
     "metadata": {},
     "output_type": "display_data"
    },
    {
     "data": {
      "text/html": [
       "<div>\n",
       "<style scoped>\n",
       "    .dataframe tbody tr th:only-of-type {\n",
       "        vertical-align: middle;\n",
       "    }\n",
       "\n",
       "    .dataframe tbody tr th {\n",
       "        vertical-align: top;\n",
       "    }\n",
       "\n",
       "    .dataframe thead th {\n",
       "        text-align: right;\n",
       "    }\n",
       "</style>\n",
       "<table border=\"1\" class=\"dataframe\">\n",
       "  <thead>\n",
       "    <tr style=\"text-align: right;\">\n",
       "      <th></th>\n",
       "      <th>text</th>\n",
       "      <th>toxic</th>\n",
       "      <th>lemm_text</th>\n",
       "    </tr>\n",
       "  </thead>\n",
       "  <tbody>\n",
       "    <tr>\n",
       "      <th>0</th>\n",
       "      <td>Explanation\\nWhy the edits made under my usern...</td>\n",
       "      <td>0</td>\n",
       "      <td>explanation why the edit make under my usernam...</td>\n",
       "    </tr>\n",
       "    <tr>\n",
       "      <th>1</th>\n",
       "      <td>D'aww! He matches this background colour I'm s...</td>\n",
       "      <td>0</td>\n",
       "      <td>d aww he match this background colour I m seem...</td>\n",
       "    </tr>\n",
       "    <tr>\n",
       "      <th>2</th>\n",
       "      <td>Hey man, I'm really not trying to edit war. It...</td>\n",
       "      <td>0</td>\n",
       "      <td>hey man I m really not try to edit war it s ju...</td>\n",
       "    </tr>\n",
       "    <tr>\n",
       "      <th>3</th>\n",
       "      <td>\"\\nMore\\nI can't make any real suggestions on ...</td>\n",
       "      <td>0</td>\n",
       "      <td>More I can t make any real suggestion on impro...</td>\n",
       "    </tr>\n",
       "    <tr>\n",
       "      <th>4</th>\n",
       "      <td>You, sir, are my hero. Any chance you remember...</td>\n",
       "      <td>0</td>\n",
       "      <td>you sir be my hero any chance you remember wha...</td>\n",
       "    </tr>\n",
       "  </tbody>\n",
       "</table>\n",
       "</div>"
      ],
      "text/plain": [
       "                                                text  toxic  \\\n",
       "0  Explanation\\nWhy the edits made under my usern...      0   \n",
       "1  D'aww! He matches this background colour I'm s...      0   \n",
       "2  Hey man, I'm really not trying to edit war. It...      0   \n",
       "3  \"\\nMore\\nI can't make any real suggestions on ...      0   \n",
       "4  You, sir, are my hero. Any chance you remember...      0   \n",
       "\n",
       "                                           lemm_text  \n",
       "0  explanation why the edit make under my usernam...  \n",
       "1  d aww he match this background colour I m seem...  \n",
       "2  hey man I m really not try to edit war it s ju...  \n",
       "3  More I can t make any real suggestion on impro...  \n",
       "4  you sir be my hero any chance you remember wha...  "
      ]
     },
     "execution_count": 10,
     "metadata": {},
     "output_type": "execute_result"
    }
   ],
   "source": [
    "import spacy\n",
    "\n",
    "sp = spacy.load('en_core_web_sm')\n",
    "def lemmatize(text):    \n",
    "    clear_text = ' '.join(re.sub(r'[^a-zA-Z]', ' ', text).split())\n",
    "    doc = sp(clear_text)\n",
    "    lemm_text = ' '.join([word.lemma_ for word in doc])\n",
    "    return lemm_text\n",
    "\n",
    "\n",
    "data['lemm_text'] = data['text'].progress_apply(lemmatize)\n",
    "data.head(5)"
   ]
  },
  {
   "cell_type": "markdown",
   "metadata": {},
   "source": [
    "Подготовим признаки и разобьём данные на выборки"
   ]
  },
  {
   "cell_type": "code",
   "execution_count": 11,
   "metadata": {},
   "outputs": [
    {
     "name": "stderr",
     "output_type": "stream",
     "text": [
      "[nltk_data] Downloading package stopwords to /home/jovyan/nltk_data...\n",
      "[nltk_data]   Package stopwords is already up-to-date!\n"
     ]
    }
   ],
   "source": [
    "features = data.drop('toxic', axis=1)\n",
    "target = data['toxic']\n",
    "\n",
    "features_train, features_test, target_train, target_test = train_test_split(\n",
    "    features, target, train_size=0.9, random_state=42)\n",
    "\n",
    "\n",
    "#подготовим стоп-слова\n",
    "nltk.download('stopwords')\n",
    "stopwords = set(nltk_stopwords.words('english'))\n",
    "\n",
    "#создадим счётчик\n",
    "#count_tf_idf = TfidfVectorizer(stop_words=stopwords)\n",
    "\n",
    "#переведём выборки в стандартный для Python формат\n",
    "#features_train = count_tf_idf.fit_transform(features_train['lemm_text'])\n",
    "#features_test = count_tf_idf.transform(features_test['lemm_text'])\n",
    "\n",
    "#display(features_train.shape, features_test.shape)"
   ]
  },
  {
   "cell_type": "markdown",
   "metadata": {},
   "source": [
    "**Вывод**\n",
    "\n",
    "При подготовке данных мы выполнили следующее:\n",
    "\n",
    "* удалили признак, который никак не повлияет на обучение модели\n",
    "* выяснили, что дубликаты и пропуски отсутствуют\n",
    "* узнали длину токсичных и обычных комментариев\n",
    "* выполнили лемматизацию текста\n",
    "* подготовили выборки и стоп-слова\n",
    "\n",
    "Можно приступать к обучению моделей"
   ]
  },
  {
   "cell_type": "markdown",
   "metadata": {},
   "source": [
    "## Обучение"
   ]
  },
  {
   "cell_type": "markdown",
   "metadata": {},
   "source": [
    "Использовать будем следующие модели:\n",
    "* Логистическя регрессия\n",
    "* Дерево решений\n",
    "* LightGBM\n",
    "* Catboost"
   ]
  },
  {
   "cell_type": "markdown",
   "metadata": {},
   "source": [
    "### Логистическая регрессия"
   ]
  },
  {
   "cell_type": "code",
   "execution_count": 12,
   "metadata": {},
   "outputs": [
    {
     "name": "stdout",
     "output_type": "stream",
     "text": [
      "Pipeline(steps=[('vect',\n",
      "                 TfidfVectorizer(stop_words={'a', 'about', 'above', 'after',\n",
      "                                             'again', 'against', 'ain', 'all',\n",
      "                                             'am', 'an', 'and', 'any', 'are',\n",
      "                                             'aren', \"aren't\", 'as', 'at', 'be',\n",
      "                                             'because', 'been', 'before',\n",
      "                                             'being', 'below', 'between',\n",
      "                                             'both', 'but', 'by', 'can',\n",
      "                                             'couldn', \"couldn't\", ...})),\n",
      "                ('lr', LogisticRegression(C=20, solver='liblinear'))])\n",
      "{'lr__C': 20, 'lr__class_weight': None, 'lr__solver': 'liblinear'}\n",
      "F1-мера: 0.775511316457215\n"
     ]
    }
   ],
   "source": [
    "pipe = Pipeline([('vect', TfidfVectorizer(stop_words=stopwords)), ('lr', LogisticRegression())])\n",
    "hyperparams = [{'lr__solver' : ['liblinear'],\n",
    "                'lr__class_weight' : ['balanced', None],\n",
    "                'lr__C' : [1, 10, 20]}]\n",
    "\n",
    "grid_scv = GridSearchCV(pipe, hyperparams, cv=3, scoring='f1')\n",
    "grid_scv.fit(features_train['lemm_text'], target_train)\n",
    "log_best_params = grid_scv.best_params_\n",
    "\n",
    "print(grid_scv.best_estimator_)\n",
    "print(log_best_params)\n",
    "print('F1-мера:', grid_scv.best_score_)"
   ]
  },
  {
   "cell_type": "markdown",
   "metadata": {},
   "source": [
    "### Дерево решений"
   ]
  },
  {
   "cell_type": "code",
   "execution_count": 13,
   "metadata": {},
   "outputs": [
    {
     "name": "stdout",
     "output_type": "stream",
     "text": [
      "Pipeline(steps=[('vect',\n",
      "                 TfidfVectorizer(stop_words={'a', 'about', 'above', 'after',\n",
      "                                             'again', 'against', 'ain', 'all',\n",
      "                                             'am', 'an', 'and', 'any', 'are',\n",
      "                                             'aren', \"aren't\", 'as', 'at', 'be',\n",
      "                                             'because', 'been', 'before',\n",
      "                                             'being', 'below', 'between',\n",
      "                                             'both', 'but', 'by', 'can',\n",
      "                                             'couldn', \"couldn't\", ...})),\n",
      "                ('tr', DecisionTreeClassifier(max_depth=30, random_state=42))])\n",
      "{'tr__class_weight': None, 'tr__max_depth': 30, 'tr__random_state': 42}\n",
      "F1-мера: 0.6867532160023684\n"
     ]
    }
   ],
   "source": [
    "pipe = Pipeline([('vect', TfidfVectorizer(stop_words=stopwords)), ('tr', DecisionTreeClassifier())])\n",
    "hyperparams = [{'tr__max_depth' : [10, 20, 30],\n",
    "                'tr__class_weight' : ['balanced', None],\n",
    "                'tr__random_state' : [42]}]\n",
    "\n",
    "grid_tree = GridSearchCV(pipe, hyperparams, cv=3, scoring='f1')\n",
    "grid_tree.fit(features_train['lemm_text'], target_train)\n",
    "tree_best_params = grid_tree.best_params_\n",
    "\n",
    "print(grid_tree.best_estimator_)\n",
    "print(tree_best_params)\n",
    "print('F1-мера:', grid_tree.best_score_)"
   ]
  },
  {
   "cell_type": "markdown",
   "metadata": {},
   "source": [
    "### LightGBM"
   ]
  },
  {
   "cell_type": "code",
   "execution_count": 18,
   "metadata": {},
   "outputs": [
    {
     "name": "stdout",
     "output_type": "stream",
     "text": [
      "Pipeline(steps=[('vect',\n",
      "                 TfidfVectorizer(stop_words={'a', 'about', 'above', 'after',\n",
      "                                             'again', 'against', 'ain', 'all',\n",
      "                                             'am', 'an', 'and', 'any', 'are',\n",
      "                                             'aren', \"aren't\", 'as', 'at', 'be',\n",
      "                                             'because', 'been', 'before',\n",
      "                                             'being', 'below', 'between',\n",
      "                                             'both', 'but', 'by', 'can',\n",
      "                                             'couldn', \"couldn't\", ...})),\n",
      "                ('lgbm', LGBMClassifier(learning_rate=0.2, num_leaves=50))])\n",
      "{'lgbm__boosting_type': 'gbdt', 'lgbm__class_weight': None, 'lgbm__learning_rate': 0.2, 'lgbm__num_leaves': 50}\n",
      "F1-мера: 0.7734541975787046\n"
     ]
    }
   ],
   "source": [
    "pipe = Pipeline([('vect', TfidfVectorizer(stop_words=stopwords)), ('lgbm', LGBMClassifier())])\n",
    "hyperparams = [{'lgbm__boosting_type' : ['gbdt'],\n",
    "                'lgbm__num_leaves' : [10, 31, 50], \n",
    "                'lgbm__learning_rate' : [0.05, 0.1, 0.2],\n",
    "                'lgbm__class_weight' : ['balanced', None]}]\n",
    "\n",
    "grid_lgbm = GridSearchCV(pipe, hyperparams, cv=3, scoring='f1', n_jobs=-1, verbose=0)\n",
    "grid_lgbm.fit(features_train['lemm_text'], target_train)\n",
    "lgbm_best_params = grid_lgbm.best_params_\n",
    "\n",
    "print(grid_lgbm.best_estimator_)\n",
    "print(lgbm_best_params)\n",
    "print('F1-мера:', grid_lgbm.best_score_)"
   ]
  },
  {
   "cell_type": "markdown",
   "metadata": {},
   "source": [
    "### CatBoost без GridSearch"
   ]
  },
  {
   "cell_type": "code",
   "execution_count": 16,
   "metadata": {
    "scrolled": true
   },
   "outputs": [
    {
     "name": "stderr",
     "output_type": "stream",
     "text": [
      "Custom logger is already specified. Specify more than one logger at same time is not thread safe."
     ]
    },
    {
     "name": "stdout",
     "output_type": "stream",
     "text": [
      "F1: 0.7484363576278487\n"
     ]
    }
   ],
   "source": [
    "pipe = Pipeline([('vect', TfidfVectorizer(stop_words=stopwords)), \n",
    "                 ('cat', CatBoostClassifier(verbose=0, iterations=150))])\n",
    "cat_cv = cross_val_score(pipe, \n",
    "                         features_train['lemm_text'], \n",
    "                         target_train,\n",
    "                         cv=3,\n",
    "                         scoring='f1')\n",
    "val_score = cat_cv.mean()\n",
    "print('F1:', val_score)"
   ]
  },
  {
   "cell_type": "markdown",
   "metadata": {},
   "source": [
    "**Вывод**\n",
    "\n",
    "Обучив модели мы выяснили:\n",
    "* модель LightGBM показала значение F1-меры = 0.77, но скорость выполнения слишком медленная\n",
    "* логистическая регрессия тоже показала значение F1-меры = 0.77, но скорость выполнения гораздо выше\n",
    "* CatBoost с F1-мерой = 0.748 очень близко к пороговому значению в 0.75. Я уверен, что можно спокойно поднять выше, если подбирать гиперпараметры\n",
    "* дерево решений явный аутсайдер\n",
    "* поскольку 2 модели имеют F1-меру выше пороговой, то на них и проведём тестирование"
   ]
  },
  {
   "cell_type": "markdown",
   "metadata": {},
   "source": [
    "## Тестирование"
   ]
  },
  {
   "cell_type": "markdown",
   "metadata": {},
   "source": [
    "Для более подробного результата мы вычислим accuracy, precision, recall, f1-меру, ROC-AUC и построим график"
   ]
  },
  {
   "cell_type": "code",
   "execution_count": 20,
   "metadata": {},
   "outputs": [
    {
     "name": "stdout",
     "output_type": "stream",
     "text": [
      "AUC-ROC модели LightGBM на тестовой выборке: 0.9700943616787276\n",
      "Accuracy модели LightGBM на тестовой выборке: 0.9610169491525423\n",
      "Precision модели LightGBM на тестовой выборке: 0.8806426931905126\n",
      "Recall модели LightGBM на тестовой выборке: 0.7122524752475248\n",
      "F-мера модели LightGBM на тестовой выборке: 0.7875470407115978\n",
      "\n",
      "AUC-ROC модели логистической регрессии на тестовой выборке: 0.9695750680978396\n",
      "Accuracy модели логистической регрессии на тестовой выборке: 0.9614563716258632\n",
      "Precision модели логистической регрессии на тестовой выборке: 0.8806990881458967\n",
      "Recall модели логистической регрессии на тестовой выборке: 0.7172029702970297\n",
      "F-мера модели логистической регрессии на тестовой выборке: 0.7905866302864939\n"
     ]
    },
    {
     "data": {
      "image/png": "[encoded data removed]",
      "text/plain": [
       "<Figure size 720x504 with 1 Axes>"
      ]
     },
     "metadata": {
      "needs_background": "light"
     },
     "output_type": "display_data"
    }
   ],
   "source": [
    "plt.figure(figsize=(10, 7))\n",
    "\n",
    "best_model_lgbm = grid_lgbm.best_estimator_\n",
    "predictions = best_model_lgbm.predict(features_test['lemm_text'])\n",
    "\n",
    "probabilities_valid = best_model_lgbm.predict_proba(features_test['lemm_text'])\n",
    "probabilities_one_valid = probabilities_valid[:, 1]\n",
    "fpr, tpr, thresholds = roc_curve(target_test, probabilities_one_valid)\n",
    "auc_roc = roc_auc_score(target_test, probabilities_one_valid)\n",
    "print('AUC-ROC модели LightGBM на тестовой выборке:', auc_roc)\n",
    "print('Accuracy модели LightGBM на тестовой выборке:', accuracy_score(target_test, predictions))\n",
    "print('Precision модели LightGBM на тестовой выборке:', precision_score(target_test, predictions))\n",
    "print('Recall модели LightGBM на тестовой выборке:', recall_score(target_test, predictions))\n",
    "print('F-мера модели LightGBM на тестовой выборке:', f1_score(target_test, predictions))\n",
    "print()\n",
    "plt.plot(fpr, tpr, label='LightGBM')\n",
    "\n",
    "best_model_log = grid_scv.best_estimator_\n",
    "predictions = best_model_log.predict(features_test['lemm_text'])\n",
    "\n",
    "probabilities_valid = best_model_log.predict_proba(features_test['lemm_text'])\n",
    "probabilities_one_valid = probabilities_valid[:, 1]\n",
    "fpr, tpr, thresholds = roc_curve(target_test, probabilities_one_valid)\n",
    "auc_roc = roc_auc_score(target_test, probabilities_one_valid)\n",
    "print('AUC-ROC модели логистической регрессии на тестовой выборке:', auc_roc)\n",
    "print('Accuracy модели логистической регрессии на тестовой выборке:', accuracy_score(target_test, predictions))\n",
    "print('Precision модели логистической регрессии на тестовой выборке:', precision_score(target_test, predictions))\n",
    "print('Recall модели логистической регрессии на тестовой выборке:', recall_score(target_test, predictions))\n",
    "print('F-мера модели логистической регрессии на тестовой выборке:', f1_score(target_test, predictions))\n",
    "plt.plot(fpr, tpr, label='Логистическая регрессия')\n",
    "\n",
    "plt.plot([0, 1], [0, 1], linestyle='--')\n",
    "plt.xlim([0.0, 1.0])\n",
    "plt.ylim([0.0, 1.0])\n",
    "plt.xlabel('False Positive Rate')\n",
    "plt.ylabel('True Positive Rate')\n",
    "plt.legend(loc='lower right')\n",
    "plt.title('ROC-кривая')\n",
    "plt.show()"
   ]
  },
  {
   "cell_type": "markdown",
   "metadata": {},
   "source": [
    "**Вывод**\n",
    "\n",
    "Можно смело сказать, что модели справились с задачей. \n",
    "\n",
    "* LightGBM выдал F1-меру на тестовой выборке = 0.78 \n",
    "* Логистическая регрессия на тестовой выборке = 0.79\n",
    "* Высокий показатель accuracy и precision говорит нам о том, что модели вполне хорошо находит токсичные комментарии."
   ]
  },
  {
   "cell_type": "markdown",
   "metadata": {},
   "source": [
    "## Общий вывод"
   ]
  },
  {
   "cell_type": "markdown",
   "metadata": {},
   "source": [
    "В ходе работы мы:\n",
    "\n",
    "1. Изучили данные интернет-магазин «Викишоп»\n",
    "2. Просмотрели данные на пропуски и дубликаты\n",
    "3. Изучили длину обычных и токсичных комментариев\n",
    "4. Провели лемматизацию текста\n",
    "5. Подготовили данные и разбили на выборки\n",
    "6. Обучили модели\n",
    "7. Провели тестирование на лучших моделях\n",
    "\n",
    "LightGBM и логистическая регрессия оказались лучшими моделями.  Модели хорошо находит токсичные комментарии, ибо их показатели accuracy и precision довольно высоки. \n",
    "\n",
    "F1-мера LightGBM с кросс-валидацией = 0.77, а на тестовой выборке = 0.78. Скорость выполнения модели очень медленная.\n",
    "\n",
    "F1-мера логистической регрессии с кросс-валидацией = 0.77, а на тестовой выборке = 0.79. Скорость выполнения быстрая.\n",
    "\n",
    "**Можно дать такие рекомендации:**\n",
    "* Если скорость выполнения не важна, то можно остановиться на LightGBM\n",
    "* Если скорость выполнения важна, то выбор падает на логистическую регрессию"
   ]
  }
 ],
 "metadata": {
  "ExecuteTimeLog": [
   {
    "duration": 1707,
    "start_time": "2023-02-20T10:17:33.831Z"
   },
   {
    "duration": 156,
    "start_time": "2023-02-20T10:18:04.220Z"
   },
   {
    "duration": 3463,
    "start_time": "2023-02-20T10:18:20.342Z"
   },
   {
    "duration": 11,
    "start_time": "2023-02-20T10:18:31.834Z"
   },
   {
    "duration": 33,
    "start_time": "2023-02-20T10:18:54.036Z"
   },
   {
    "duration": 10,
    "start_time": "2023-02-20T10:20:34.086Z"
   },
   {
    "duration": 7,
    "start_time": "2023-02-20T10:20:40.115Z"
   },
   {
    "duration": 146,
    "start_time": "2023-02-20T10:20:45.335Z"
   },
   {
    "duration": 250,
    "start_time": "2023-02-20T10:21:00.365Z"
   },
   {
    "duration": 207,
    "start_time": "2023-02-20T10:21:30.553Z"
   },
   {
    "duration": 11,
    "start_time": "2023-02-20T10:24:57.406Z"
   },
   {
    "duration": 186,
    "start_time": "2023-02-20T10:24:59.798Z"
   },
   {
    "duration": 41,
    "start_time": "2023-02-20T10:25:07.808Z"
   },
   {
    "duration": 40,
    "start_time": "2023-02-20T10:28:54.767Z"
   },
   {
    "duration": 293,
    "start_time": "2023-02-20T10:29:15.496Z"
   },
   {
    "duration": 8,
    "start_time": "2023-02-20T10:29:36.828Z"
   },
   {
    "duration": 238,
    "start_time": "2023-02-20T10:54:00.407Z"
   },
   {
    "duration": 6,
    "start_time": "2023-02-20T10:54:18.232Z"
   },
   {
    "duration": 847,
    "start_time": "2023-02-20T10:54:20.941Z"
   },
   {
    "duration": 4,
    "start_time": "2023-02-20T10:54:33.888Z"
   },
   {
    "duration": 1977343,
    "start_time": "2023-02-20T10:54:37.352Z"
   },
   {
    "duration": 1457,
    "start_time": "2023-02-20T12:38:25.943Z"
   },
   {
    "duration": 3175,
    "start_time": "2023-02-20T12:38:27.968Z"
   },
   {
    "duration": 10,
    "start_time": "2023-02-20T12:38:31.145Z"
   },
   {
    "duration": 55,
    "start_time": "2023-02-20T12:38:31.157Z"
   },
   {
    "duration": 189,
    "start_time": "2023-02-20T12:38:31.214Z"
   },
   {
    "duration": 237,
    "start_time": "2023-02-20T12:38:31.405Z"
   },
   {
    "duration": 11,
    "start_time": "2023-02-20T12:38:31.645Z"
   },
   {
    "duration": 29,
    "start_time": "2023-02-20T12:38:31.658Z"
   },
   {
    "duration": 873132,
    "start_time": "2023-02-20T12:38:35.876Z"
   },
   {
    "duration": 7273326,
    "start_time": "2023-02-20T12:53:18.578Z"
   },
   {
    "duration": 2,
    "start_time": "2023-02-20T14:54:56.080Z"
   },
   {
    "duration": 3,
    "start_time": "2023-02-20T14:55:53.471Z"
   },
   {
    "duration": 224,
    "start_time": "2023-02-20T14:57:16.309Z"
   },
   {
    "duration": 4,
    "start_time": "2023-02-20T14:57:28.543Z"
   },
   {
    "duration": 1394,
    "start_time": "2023-02-20T14:57:36.141Z"
   },
   {
    "duration": 5102,
    "start_time": "2023-02-20T14:57:53.190Z"
   },
   {
    "duration": 9,
    "start_time": "2023-02-20T14:58:02.102Z"
   },
   {
    "duration": 156569,
    "start_time": "2023-02-20T14:59:20.978Z"
   },
   {
    "duration": 7,
    "start_time": "2023-02-20T15:02:01.811Z"
   },
   {
    "duration": 104,
    "start_time": "2023-02-20T15:05:14.848Z"
   },
   {
    "duration": 5,
    "start_time": "2023-02-20T15:05:41.775Z"
   },
   {
    "duration": 333,
    "start_time": "2023-02-20T15:05:47.598Z"
   },
   {
    "duration": 12001,
    "start_time": "2023-02-20T15:05:56.668Z"
   },
   {
    "duration": 5,
    "start_time": "2023-02-20T15:07:00.376Z"
   },
   {
    "duration": 11,
    "start_time": "2023-02-20T15:07:05.590Z"
   },
   {
    "duration": 12306,
    "start_time": "2023-02-20T15:09:25.776Z"
   },
   {
    "duration": 31376,
    "start_time": "2023-02-20T15:11:01.306Z"
   },
   {
    "duration": 72,
    "start_time": "2023-02-20T15:15:38.961Z"
   },
   {
    "duration": 67,
    "start_time": "2023-02-20T15:15:51.866Z"
   },
   {
    "duration": 5,
    "start_time": "2023-02-20T15:16:15.686Z"
   },
   {
    "duration": 797,
    "start_time": "2023-02-20T15:16:15.694Z"
   },
   {
    "duration": 11,
    "start_time": "2023-02-20T15:16:16.493Z"
   },
   {
    "duration": 43,
    "start_time": "2023-02-20T15:16:16.506Z"
   },
   {
    "duration": 51,
    "start_time": "2023-02-20T15:16:16.553Z"
   },
   {
    "duration": 246,
    "start_time": "2023-02-20T15:16:16.607Z"
   },
   {
    "duration": 12,
    "start_time": "2023-02-20T15:16:16.856Z"
   },
   {
    "duration": 16,
    "start_time": "2023-02-20T15:16:16.870Z"
   },
   {
    "duration": 11,
    "start_time": "2023-02-20T15:16:16.888Z"
   },
   {
    "duration": 159969,
    "start_time": "2023-02-20T15:16:22.660Z"
   },
   {
    "duration": 7,
    "start_time": "2023-02-20T15:19:19.122Z"
   },
   {
    "duration": 94,
    "start_time": "2023-02-20T15:19:21.177Z"
   },
   {
    "duration": 10665,
    "start_time": "2023-02-20T15:21:17.541Z"
   },
   {
    "duration": 1108918,
    "start_time": "2023-02-20T15:21:54.097Z"
   },
   {
    "duration": 0,
    "start_time": "2023-02-20T15:40:23.016Z"
   },
   {
    "duration": 237293,
    "start_time": "2023-02-20T15:40:52.065Z"
   },
   {
    "duration": 1852787,
    "start_time": "2023-02-20T15:45:03.477Z"
   },
   {
    "duration": 207162,
    "start_time": "2023-02-20T16:17:17.646Z"
   },
   {
    "duration": 23510,
    "start_time": "2023-02-20T16:21:23.311Z"
   },
   {
    "duration": 23521,
    "start_time": "2023-02-20T16:21:56.195Z"
   },
   {
    "duration": 18,
    "start_time": "2023-02-20T16:23:02.012Z"
   },
   {
    "duration": 80004,
    "start_time": "2023-02-20T16:23:12.029Z"
   },
   {
    "duration": 23356,
    "start_time": "2023-02-20T16:24:42.863Z"
   },
   {
    "duration": 20988,
    "start_time": "2023-02-20T16:26:18.454Z"
   },
   {
    "duration": 23053,
    "start_time": "2023-02-20T16:27:55.565Z"
   },
   {
    "duration": 7894894,
    "start_time": "2023-02-20T16:28:57.827Z"
   },
   {
    "duration": 235564,
    "start_time": "2023-02-20T18:54:34.937Z"
   },
   {
    "duration": 228805,
    "start_time": "2023-02-20T18:58:56.402Z"
   },
   {
    "duration": 798,
    "start_time": "2023-02-20T19:04:06.737Z"
   },
   {
    "duration": 1274,
    "start_time": "2023-02-20T19:04:24.558Z"
   },
   {
    "duration": 2111,
    "start_time": "2023-02-20T19:04:30.250Z"
   },
   {
    "duration": 572,
    "start_time": "2023-02-20T19:04:40.196Z"
   },
   {
    "duration": 499,
    "start_time": "2023-02-20T19:05:15.222Z"
   },
   {
    "duration": 449,
    "start_time": "2023-02-20T19:05:45.576Z"
   },
   {
    "duration": 252,
    "start_time": "2023-02-20T19:06:22.494Z"
   },
   {
    "duration": 260,
    "start_time": "2023-02-20T19:06:29.079Z"
   },
   {
    "duration": 281,
    "start_time": "2023-02-20T19:06:34.304Z"
   },
   {
    "duration": 390,
    "start_time": "2023-02-20T19:06:43.948Z"
   },
   {
    "duration": 277,
    "start_time": "2023-02-20T19:06:55.522Z"
   },
   {
    "duration": 256,
    "start_time": "2023-02-20T19:07:01.398Z"
   },
   {
    "duration": 268,
    "start_time": "2023-02-20T19:07:14.550Z"
   },
   {
    "duration": 309,
    "start_time": "2023-02-20T19:07:24.093Z"
   },
   {
    "duration": 443,
    "start_time": "2023-02-20T19:07:54.511Z"
   },
   {
    "duration": 396,
    "start_time": "2023-02-20T19:08:02.574Z"
   },
   {
    "duration": 47,
    "start_time": "2023-02-20T19:08:11.486Z"
   },
   {
    "duration": 476,
    "start_time": "2023-02-20T19:08:18.994Z"
   },
   {
    "duration": 476,
    "start_time": "2023-02-20T19:08:29.938Z"
   },
   {
    "duration": 470,
    "start_time": "2023-02-20T19:09:55.863Z"
   },
   {
    "duration": 853,
    "start_time": "2023-02-20T19:10:00.427Z"
   },
   {
    "duration": 459,
    "start_time": "2023-02-20T19:10:04.889Z"
   },
   {
    "duration": 7624,
    "start_time": "2023-02-20T19:10:40.664Z"
   },
   {
    "duration": 7463,
    "start_time": "2023-02-20T19:11:09.030Z"
   },
   {
    "duration": 11,
    "start_time": "2023-02-20T19:11:39.202Z"
   },
   {
    "duration": 22,
    "start_time": "2023-02-20T19:12:06.751Z"
   },
   {
    "duration": 187169,
    "start_time": "2023-02-20T19:12:13.456Z"
   },
   {
    "duration": 12190,
    "start_time": "2023-02-20T19:19:51.945Z"
   },
   {
    "duration": 7418,
    "start_time": "2023-02-20T20:01:55.144Z"
   },
   {
    "duration": 7896,
    "start_time": "2023-02-20T20:07:14.051Z"
   },
   {
    "duration": 8010,
    "start_time": "2023-02-20T20:07:48.740Z"
   },
   {
    "duration": 7706,
    "start_time": "2023-02-20T20:08:22.628Z"
   },
   {
    "duration": 1851,
    "start_time": "2023-02-21T17:14:36.553Z"
   },
   {
    "duration": 2412,
    "start_time": "2023-02-21T17:27:39.673Z"
   },
   {
    "duration": 12,
    "start_time": "2023-02-21T17:27:42.811Z"
   },
   {
    "duration": 32,
    "start_time": "2023-02-21T17:27:43.487Z"
   },
   {
    "duration": 89,
    "start_time": "2023-02-21T17:27:45.266Z"
   },
   {
    "duration": 236,
    "start_time": "2023-02-21T17:27:45.895Z"
   },
   {
    "duration": 10,
    "start_time": "2023-02-21T17:27:47.896Z"
   },
   {
    "duration": 8,
    "start_time": "2023-02-21T17:27:48.314Z"
   },
   {
    "duration": 493,
    "start_time": "2023-02-21T17:27:53.597Z"
   },
   {
    "duration": 16585,
    "start_time": "2023-02-21T20:58:26.561Z"
   },
   {
    "duration": 1538,
    "start_time": "2023-02-21T21:00:02.238Z"
   },
   {
    "duration": 775,
    "start_time": "2023-02-21T21:01:20.099Z"
   },
   {
    "duration": 358,
    "start_time": "2023-02-21T21:02:44.155Z"
   },
   {
    "duration": 2,
    "start_time": "2023-02-21T21:03:33.801Z"
   },
   {
    "duration": 800,
    "start_time": "2023-02-21T21:03:55.707Z"
   },
   {
    "duration": 833,
    "start_time": "2023-02-21T21:05:18.208Z"
   },
   {
    "duration": 870,
    "start_time": "2023-02-21T21:10:19.527Z"
   },
   {
    "duration": 806,
    "start_time": "2023-02-21T21:18:58.590Z"
   },
   {
    "duration": 893,
    "start_time": "2023-02-21T21:20:43.201Z"
   },
   {
    "duration": 1182,
    "start_time": "2023-02-21T21:21:36.093Z"
   },
   {
    "duration": 771,
    "start_time": "2023-02-21T21:39:15.499Z"
   },
   {
    "duration": 265293,
    "start_time": "2023-02-21T21:40:11.283Z"
   },
   {
    "duration": 2,
    "start_time": "2023-02-21T21:44:45.982Z"
   },
   {
    "duration": 36454,
    "start_time": "2023-02-21T21:50:07.081Z"
   },
   {
    "duration": 138872,
    "start_time": "2023-02-21T21:50:45.262Z"
   },
   {
    "duration": 9908,
    "start_time": "2023-02-21T21:53:16.809Z"
   },
   {
    "duration": 3,
    "start_time": "2023-02-21T21:53:31.252Z"
   },
   {
    "duration": 11709,
    "start_time": "2023-02-21T21:56:08.578Z"
   },
   {
    "duration": 10773,
    "start_time": "2023-02-21T21:56:29.190Z"
   },
   {
    "duration": 82915,
    "start_time": "2023-02-21T21:58:21.606Z"
   },
   {
    "duration": 12,
    "start_time": "2023-02-21T21:59:46.267Z"
   },
   {
    "duration": 82699,
    "start_time": "2023-02-21T22:00:10.905Z"
   },
   {
    "duration": 8,
    "start_time": "2023-02-21T22:01:35.363Z"
   },
   {
    "duration": 353,
    "start_time": "2023-02-21T22:02:33.633Z"
   },
   {
    "duration": 84679,
    "start_time": "2023-02-21T22:08:52.919Z"
   },
   {
    "duration": 5,
    "start_time": "2023-02-21T22:11:22.173Z"
   },
   {
    "duration": 83600,
    "start_time": "2023-02-21T22:11:35.157Z"
   },
   {
    "duration": 625,
    "start_time": "2023-02-21T22:13:26.414Z"
   },
   {
    "duration": 491969,
    "start_time": "2023-02-21T22:13:41.471Z"
   },
   {
    "duration": 37,
    "start_time": "2023-02-21T22:26:03.121Z"
   },
   {
    "duration": 0,
    "start_time": "2023-02-21T22:26:50.395Z"
   },
   {
    "duration": 517,
    "start_time": "2023-02-21T22:27:01.234Z"
   },
   {
    "duration": 43,
    "start_time": "2023-02-21T22:27:10.757Z"
   },
   {
    "duration": 73,
    "start_time": "2023-02-21T22:50:32.633Z"
   },
   {
    "duration": 19,
    "start_time": "2023-02-21T22:50:45.835Z"
   },
   {
    "duration": 35499,
    "start_time": "2023-02-21T22:59:54.988Z"
   },
   {
    "duration": 9,
    "start_time": "2023-02-21T23:00:34.457Z"
   },
   {
    "duration": 30006,
    "start_time": "2023-02-21T23:12:38.716Z"
   },
   {
    "duration": 7,
    "start_time": "2023-02-21T23:13:15.696Z"
   },
   {
    "duration": 4,
    "start_time": "2023-02-21T23:14:56.151Z"
   },
   {
    "duration": 870,
    "start_time": "2023-02-21T23:15:08.101Z"
   },
   {
    "duration": 44189,
    "start_time": "2023-02-21T23:15:26.992Z"
   },
   {
    "duration": 3,
    "start_time": "2023-02-21T23:16:19.549Z"
   },
   {
    "duration": 3,
    "start_time": "2023-02-21T23:16:24.409Z"
   },
   {
    "duration": 3,
    "start_time": "2023-02-21T23:16:45.236Z"
   },
   {
    "duration": 220,
    "start_time": "2023-02-21T23:20:33.011Z"
   },
   {
    "duration": 7,
    "start_time": "2023-02-21T23:24:26.722Z"
   },
   {
    "duration": 527335,
    "start_time": "2023-02-21T23:56:44.374Z"
   },
   {
    "duration": 111069,
    "start_time": "2023-02-22T00:14:06.807Z"
   },
   {
    "duration": 15543,
    "start_time": "2023-02-22T00:16:02.635Z"
   },
   {
    "duration": 5048,
    "start_time": "2023-02-22T00:16:25.856Z"
   },
   {
    "duration": 2281666,
    "start_time": "2023-02-22T00:16:37.573Z"
   },
   {
    "duration": 6525,
    "start_time": "2023-02-22T00:56:51.028Z"
   },
   {
    "duration": 2273,
    "start_time": "2023-02-22T05:28:36.835Z"
   },
   {
    "duration": 3218,
    "start_time": "2023-02-22T05:28:45.193Z"
   },
   {
    "duration": 11,
    "start_time": "2023-02-22T05:28:48.413Z"
   },
   {
    "duration": 32,
    "start_time": "2023-02-22T05:29:00.208Z"
   },
   {
    "duration": 68,
    "start_time": "2023-02-22T05:29:04.264Z"
   },
   {
    "duration": 217,
    "start_time": "2023-02-22T05:29:04.844Z"
   },
   {
    "duration": 10,
    "start_time": "2023-02-22T05:29:05.966Z"
   },
   {
    "duration": 6,
    "start_time": "2023-02-22T05:29:06.455Z"
   },
   {
    "duration": 435,
    "start_time": "2023-02-22T05:29:09.575Z"
   },
   {
    "duration": 2223846,
    "start_time": "2023-02-22T05:29:14.896Z"
   },
   {
    "duration": 6274,
    "start_time": "2023-02-22T06:36:05.248Z"
   },
   {
    "duration": 336,
    "start_time": "2023-02-22T07:21:55.367Z"
   },
   {
    "duration": 24,
    "start_time": "2023-02-22T07:22:55.020Z"
   },
   {
    "duration": 23,
    "start_time": "2023-02-22T07:23:23.426Z"
   },
   {
    "duration": 26,
    "start_time": "2023-02-22T07:23:50.274Z"
   },
   {
    "duration": 25,
    "start_time": "2023-02-22T07:24:28.066Z"
   },
   {
    "duration": 26,
    "start_time": "2023-02-22T07:25:06.785Z"
   },
   {
    "duration": 49,
    "start_time": "2023-02-22T07:26:30.574Z"
   },
   {
    "duration": 41,
    "start_time": "2023-02-22T07:27:03.760Z"
   },
   {
    "duration": 42,
    "start_time": "2023-02-22T07:28:03.905Z"
   },
   {
    "duration": 48,
    "start_time": "2023-02-22T07:28:24.880Z"
   },
   {
    "duration": 19,
    "start_time": "2023-02-22T07:28:45.152Z"
   },
   {
    "duration": 22,
    "start_time": "2023-02-22T07:28:53.256Z"
   },
   {
    "duration": 20,
    "start_time": "2023-02-22T07:29:27.239Z"
   },
   {
    "duration": 20,
    "start_time": "2023-02-22T07:29:37.943Z"
   },
   {
    "duration": 310,
    "start_time": "2023-02-22T07:30:34.957Z"
   },
   {
    "duration": 24,
    "start_time": "2023-02-22T07:32:27.399Z"
   },
   {
    "duration": 29,
    "start_time": "2023-02-22T07:32:35.502Z"
   },
   {
    "duration": 25,
    "start_time": "2023-02-22T07:32:55.502Z"
   },
   {
    "duration": 279,
    "start_time": "2023-02-22T07:33:31.285Z"
   },
   {
    "duration": 264,
    "start_time": "2023-02-22T07:34:12.625Z"
   },
   {
    "duration": 300,
    "start_time": "2023-02-22T07:34:19.938Z"
   },
   {
    "duration": 400,
    "start_time": "2023-02-22T07:34:32.279Z"
   },
   {
    "duration": 398,
    "start_time": "2023-02-22T07:34:44.485Z"
   },
   {
    "duration": 206,
    "start_time": "2023-02-22T07:42:50.757Z"
   },
   {
    "duration": 528,
    "start_time": "2023-02-22T07:43:03.370Z"
   },
   {
    "duration": 4,
    "start_time": "2023-02-22T07:43:24.880Z"
   },
   {
    "duration": 4,
    "start_time": "2023-02-22T07:43:33.264Z"
   },
   {
    "duration": 22,
    "start_time": "2023-02-22T07:45:10.010Z"
   },
   {
    "duration": 13303,
    "start_time": "2023-02-22T07:45:58.224Z"
   },
   {
    "duration": 409306,
    "start_time": "2023-02-22T07:46:16.458Z"
   },
   {
    "duration": 2,
    "start_time": "2023-02-22T07:54:38.848Z"
   },
   {
    "duration": 3,
    "start_time": "2023-02-22T08:11:48.498Z"
   },
   {
    "duration": 4,
    "start_time": "2023-02-22T08:15:20.820Z"
   },
   {
    "duration": 3,
    "start_time": "2023-02-22T08:15:23.526Z"
   },
   {
    "duration": 3,
    "start_time": "2023-02-22T08:15:39.088Z"
   },
   {
    "duration": 3,
    "start_time": "2023-02-22T08:17:42.783Z"
   },
   {
    "duration": 303577,
    "start_time": "2023-02-22T08:17:58.573Z"
   },
   {
    "duration": 45,
    "start_time": "2023-02-22T08:23:02.152Z"
   },
   {
    "duration": 17054441,
    "start_time": "2023-02-22T08:33:35.500Z"
   },
   {
    "duration": 199403,
    "start_time": "2023-02-22T13:18:38.391Z"
   },
   {
    "duration": 110,
    "start_time": "2023-02-22T13:22:22.627Z"
   },
   {
    "duration": 104,
    "start_time": "2023-02-22T13:22:37.698Z"
   },
   {
    "duration": 104,
    "start_time": "2023-02-22T13:22:56.750Z"
   },
   {
    "duration": 5,
    "start_time": "2023-02-22T13:24:27.933Z"
   },
   {
    "duration": 22,
    "start_time": "2023-02-22T13:24:45.629Z"
   },
   {
    "duration": 58268,
    "start_time": "2023-02-22T13:25:53.831Z"
   },
   {
    "duration": 65340,
    "start_time": "2023-02-22T13:26:55.483Z"
   },
   {
    "duration": 150144,
    "start_time": "2023-02-22T13:28:17.526Z"
   },
   {
    "duration": 33612,
    "start_time": "2023-02-22T13:30:51.358Z"
   },
   {
    "duration": 6319,
    "start_time": "2023-02-22T14:02:42.050Z"
   },
   {
    "duration": 46,
    "start_time": "2023-02-22T14:03:45.524Z"
   },
   {
    "duration": 1825,
    "start_time": "2023-02-22T14:05:50.465Z"
   },
   {
    "duration": 3396,
    "start_time": "2023-02-22T14:05:54.870Z"
   },
   {
    "duration": 10,
    "start_time": "2023-02-22T14:05:59.500Z"
   },
   {
    "duration": 33,
    "start_time": "2023-02-22T14:06:01.428Z"
   },
   {
    "duration": 78,
    "start_time": "2023-02-22T14:06:01.850Z"
   },
   {
    "duration": 224,
    "start_time": "2023-02-22T14:06:02.595Z"
   },
   {
    "duration": 10,
    "start_time": "2023-02-22T14:06:04.489Z"
   },
   {
    "duration": 7,
    "start_time": "2023-02-22T14:06:05.029Z"
   },
   {
    "duration": 427,
    "start_time": "2023-02-22T14:06:06.586Z"
   },
   {
    "duration": 2217537,
    "start_time": "2023-02-22T14:06:11.316Z"
   },
   {
    "duration": 91,
    "start_time": "2023-02-22T14:43:19.490Z"
   },
   {
    "duration": 430864,
    "start_time": "2023-02-22T14:43:44.695Z"
   },
   {
    "duration": 292771,
    "start_time": "2023-02-22T14:50:55.561Z"
   },
   {
    "duration": 1680217,
    "start_time": "2023-02-22T14:56:26.601Z"
   },
   {
    "duration": 148194,
    "start_time": "2023-02-22T15:25:17.017Z"
   },
   {
    "duration": 820593,
    "start_time": "2023-02-22T15:29:16.992Z"
   },
   {
    "duration": 40197,
    "start_time": "2023-02-22T15:43:48.677Z"
   },
   {
    "duration": 7890424,
    "start_time": "2023-02-22T15:44:54.230Z"
   },
   {
    "duration": 45,
    "start_time": "2023-02-22T18:03:30.107Z"
   },
   {
    "duration": 6057,
    "start_time": "2023-02-22T18:05:04.763Z"
   }
  ],
  "kernelspec": {
   "display_name": "Python 3 (ipykernel)",
   "language": "python",
   "name": "python3"
  },
  "language_info": {
   "codemirror_mode": {
    "name": "ipython",
    "version": 3
   },
   "file_extension": ".py",
   "mimetype": "text/x-python",
   "name": "python",
   "nbconvert_exporter": "python",
   "pygments_lexer": "ipython3",
   "version": "3.9.12"
  },
  "toc": {
   "base_numbering": 1,
   "nav_menu": {},
   "number_sections": true,
   "sideBar": true,
   "skip_h1_title": true,
   "title_cell": "Содержание",
   "title_sidebar": "Contents",
   "toc_cell": true,
   "toc_position": {
    "height": "calc(100% - 180px)",
    "left": "10px",
    "top": "150px",
    "width": "302.391px"
   },
   "toc_section_display": true,
   "toc_window_display": true
  }
 },
 "nbformat": 4,
 "nbformat_minor": 2
}
