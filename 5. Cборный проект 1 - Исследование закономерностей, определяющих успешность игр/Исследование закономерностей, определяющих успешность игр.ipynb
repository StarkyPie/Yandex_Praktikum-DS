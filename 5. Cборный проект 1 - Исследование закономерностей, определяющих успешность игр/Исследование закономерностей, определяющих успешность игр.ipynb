{
 "cells": [
  {
   "cell_type": "markdown",
   "metadata": {},
   "source": [
    "# Исследование закономерностей, определяющих успешность игр\n",
    "\n",
    "В нашем распоряжении исторические данные о продажах игр, оценки пользователей и экспертов, жанры и платформы - доступные из открытых источников. Нужно выявить определяющие успешность игр закономерности. Наша задача - сделать ставку на потенциально популярный продукт и спланировать рекламные кампании.\n",
    "\n",
    "**Цель исследования** - выполнить следующие задачи:\n",
    "\n",
    "1. Посмотреть, сколько игр выпускалось в разные годы.\n",
    "2. Посмотреть, как менялись продажи по платформам.\n",
    "3. Выбрать данные за актуальный период.\n",
    "4. Узнать какие платформы лидируют по продажам, растут или падают.\n",
    "5. Построить график по глобальным продажам игр в разбивке по платформам.\n",
    "6. Посмотреть, как влияют на продажи внутри одной популярной платформы отзывы пользователей и критиков.\n",
    "7. Соотнести выводы с продажами игр на других платформах.\n",
    "8. Посмотреть на общее распределение игр по жанрам. \n",
    "9. Составить портрет пользователя каждого региона.\n",
    "10. Проверить две гипотезы:\n",
    "                          1) Средние пользовательские рейтинги платформ Xbox One и PC одинаковые.\n",
    "                          2) Средние пользовательские рейтинги жанров Action и Sports разные.\n",
    "\n",
    "**Ход исследования** \n",
    "\n",
    "Данные мы получим из файла  `/datasets/games.csv`. О качестве данных нам ничего не известно. Значит перед исследовательской работой понадбится обзор данных. \n",
    "\n",
    "Проверим общую информацию данных, затем проведём предобработку, чтобы исправить самые критичные ошибки.\n",
    "\n",
    "Исследование пройдёт в четыре этапа:\n",
    " 1. Обзор данных.\n",
    " 2. Предобработка данных.\n",
    " 3. Исследовательский анализ.\n",
    " 4. Проверка гипотез."
   ]
  },
  {
   "cell_type": "markdown",
   "metadata": {},
   "source": [
    "## Откроем файл с данными и изучим общую информацию"
   ]
  },
  {
   "cell_type": "code",
   "execution_count": 1,
   "metadata": {},
   "outputs": [],
   "source": [
    "#импортируем библиоткеи pandas, numpy, matplotlib\n",
    "import pandas as pd\n",
    "import matplotlib.pyplot as plt \n",
    "import numpy as np"
   ]
  },
  {
   "cell_type": "code",
   "execution_count": 2,
   "metadata": {},
   "outputs": [],
   "source": [
    "#прочитаем csv_файл\n",
    "games = pd.read_csv('/datasets/games.csv')"
   ]
  },
  {
   "cell_type": "code",
   "execution_count": 3,
   "metadata": {},
   "outputs": [
    {
     "data": {
      "text/html": [
       "<div>\n",
       "<style scoped>\n",
       "    .dataframe tbody tr th:only-of-type {\n",
       "        vertical-align: middle;\n",
       "    }\n",
       "\n",
       "    .dataframe tbody tr th {\n",
       "        vertical-align: top;\n",
       "    }\n",
       "\n",
       "    .dataframe thead th {\n",
       "        text-align: right;\n",
       "    }\n",
       "</style>\n",
       "<table border=\"1\" class=\"dataframe\">\n",
       "  <thead>\n",
       "    <tr style=\"text-align: right;\">\n",
       "      <th></th>\n",
       "      <th>Name</th>\n",
       "      <th>Platform</th>\n",
       "      <th>Year_of_Release</th>\n",
       "      <th>Genre</th>\n",
       "      <th>NA_sales</th>\n",
       "      <th>EU_sales</th>\n",
       "      <th>JP_sales</th>\n",
       "      <th>Other_sales</th>\n",
       "      <th>Critic_Score</th>\n",
       "      <th>User_Score</th>\n",
       "      <th>Rating</th>\n",
       "    </tr>\n",
       "  </thead>\n",
       "  <tbody>\n",
       "    <tr>\n",
       "      <th>0</th>\n",
       "      <td>Wii Sports</td>\n",
       "      <td>Wii</td>\n",
       "      <td>2006.0</td>\n",
       "      <td>Sports</td>\n",
       "      <td>41.36</td>\n",
       "      <td>28.96</td>\n",
       "      <td>3.77</td>\n",
       "      <td>8.45</td>\n",
       "      <td>76.0</td>\n",
       "      <td>8</td>\n",
       "      <td>E</td>\n",
       "    </tr>\n",
       "    <tr>\n",
       "      <th>1</th>\n",
       "      <td>Super Mario Bros.</td>\n",
       "      <td>NES</td>\n",
       "      <td>1985.0</td>\n",
       "      <td>Platform</td>\n",
       "      <td>29.08</td>\n",
       "      <td>3.58</td>\n",
       "      <td>6.81</td>\n",
       "      <td>0.77</td>\n",
       "      <td>NaN</td>\n",
       "      <td>NaN</td>\n",
       "      <td>NaN</td>\n",
       "    </tr>\n",
       "    <tr>\n",
       "      <th>2</th>\n",
       "      <td>Mario Kart Wii</td>\n",
       "      <td>Wii</td>\n",
       "      <td>2008.0</td>\n",
       "      <td>Racing</td>\n",
       "      <td>15.68</td>\n",
       "      <td>12.76</td>\n",
       "      <td>3.79</td>\n",
       "      <td>3.29</td>\n",
       "      <td>82.0</td>\n",
       "      <td>8.3</td>\n",
       "      <td>E</td>\n",
       "    </tr>\n",
       "    <tr>\n",
       "      <th>3</th>\n",
       "      <td>Wii Sports Resort</td>\n",
       "      <td>Wii</td>\n",
       "      <td>2009.0</td>\n",
       "      <td>Sports</td>\n",
       "      <td>15.61</td>\n",
       "      <td>10.93</td>\n",
       "      <td>3.28</td>\n",
       "      <td>2.95</td>\n",
       "      <td>80.0</td>\n",
       "      <td>8</td>\n",
       "      <td>E</td>\n",
       "    </tr>\n",
       "    <tr>\n",
       "      <th>4</th>\n",
       "      <td>Pokemon Red/Pokemon Blue</td>\n",
       "      <td>GB</td>\n",
       "      <td>1996.0</td>\n",
       "      <td>Role-Playing</td>\n",
       "      <td>11.27</td>\n",
       "      <td>8.89</td>\n",
       "      <td>10.22</td>\n",
       "      <td>1.00</td>\n",
       "      <td>NaN</td>\n",
       "      <td>NaN</td>\n",
       "      <td>NaN</td>\n",
       "    </tr>\n",
       "    <tr>\n",
       "      <th>5</th>\n",
       "      <td>Tetris</td>\n",
       "      <td>GB</td>\n",
       "      <td>1989.0</td>\n",
       "      <td>Puzzle</td>\n",
       "      <td>23.20</td>\n",
       "      <td>2.26</td>\n",
       "      <td>4.22</td>\n",
       "      <td>0.58</td>\n",
       "      <td>NaN</td>\n",
       "      <td>NaN</td>\n",
       "      <td>NaN</td>\n",
       "    </tr>\n",
       "    <tr>\n",
       "      <th>6</th>\n",
       "      <td>New Super Mario Bros.</td>\n",
       "      <td>DS</td>\n",
       "      <td>2006.0</td>\n",
       "      <td>Platform</td>\n",
       "      <td>11.28</td>\n",
       "      <td>9.14</td>\n",
       "      <td>6.50</td>\n",
       "      <td>2.88</td>\n",
       "      <td>89.0</td>\n",
       "      <td>8.5</td>\n",
       "      <td>E</td>\n",
       "    </tr>\n",
       "    <tr>\n",
       "      <th>7</th>\n",
       "      <td>Wii Play</td>\n",
       "      <td>Wii</td>\n",
       "      <td>2006.0</td>\n",
       "      <td>Misc</td>\n",
       "      <td>13.96</td>\n",
       "      <td>9.18</td>\n",
       "      <td>2.93</td>\n",
       "      <td>2.84</td>\n",
       "      <td>58.0</td>\n",
       "      <td>6.6</td>\n",
       "      <td>E</td>\n",
       "    </tr>\n",
       "    <tr>\n",
       "      <th>8</th>\n",
       "      <td>New Super Mario Bros. Wii</td>\n",
       "      <td>Wii</td>\n",
       "      <td>2009.0</td>\n",
       "      <td>Platform</td>\n",
       "      <td>14.44</td>\n",
       "      <td>6.94</td>\n",
       "      <td>4.70</td>\n",
       "      <td>2.24</td>\n",
       "      <td>87.0</td>\n",
       "      <td>8.4</td>\n",
       "      <td>E</td>\n",
       "    </tr>\n",
       "    <tr>\n",
       "      <th>9</th>\n",
       "      <td>Duck Hunt</td>\n",
       "      <td>NES</td>\n",
       "      <td>1984.0</td>\n",
       "      <td>Shooter</td>\n",
       "      <td>26.93</td>\n",
       "      <td>0.63</td>\n",
       "      <td>0.28</td>\n",
       "      <td>0.47</td>\n",
       "      <td>NaN</td>\n",
       "      <td>NaN</td>\n",
       "      <td>NaN</td>\n",
       "    </tr>\n",
       "  </tbody>\n",
       "</table>\n",
       "</div>"
      ],
      "text/plain": [
       "                        Name Platform  Year_of_Release         Genre  \\\n",
       "0                 Wii Sports      Wii           2006.0        Sports   \n",
       "1          Super Mario Bros.      NES           1985.0      Platform   \n",
       "2             Mario Kart Wii      Wii           2008.0        Racing   \n",
       "3          Wii Sports Resort      Wii           2009.0        Sports   \n",
       "4   Pokemon Red/Pokemon Blue       GB           1996.0  Role-Playing   \n",
       "5                     Tetris       GB           1989.0        Puzzle   \n",
       "6      New Super Mario Bros.       DS           2006.0      Platform   \n",
       "7                   Wii Play      Wii           2006.0          Misc   \n",
       "8  New Super Mario Bros. Wii      Wii           2009.0      Platform   \n",
       "9                  Duck Hunt      NES           1984.0       Shooter   \n",
       "\n",
       "   NA_sales  EU_sales  JP_sales  Other_sales  Critic_Score User_Score Rating  \n",
       "0     41.36     28.96      3.77         8.45          76.0          8      E  \n",
       "1     29.08      3.58      6.81         0.77           NaN        NaN    NaN  \n",
       "2     15.68     12.76      3.79         3.29          82.0        8.3      E  \n",
       "3     15.61     10.93      3.28         2.95          80.0          8      E  \n",
       "4     11.27      8.89     10.22         1.00           NaN        NaN    NaN  \n",
       "5     23.20      2.26      4.22         0.58           NaN        NaN    NaN  \n",
       "6     11.28      9.14      6.50         2.88          89.0        8.5      E  \n",
       "7     13.96      9.18      2.93         2.84          58.0        6.6      E  \n",
       "8     14.44      6.94      4.70         2.24          87.0        8.4      E  \n",
       "9     26.93      0.63      0.28         0.47           NaN        NaN    NaN  "
      ]
     },
     "execution_count": 3,
     "metadata": {},
     "output_type": "execute_result"
    }
   ],
   "source": [
    "#выведем первые 10 строк таблицы\n",
    "games.head(10)"
   ]
  },
  {
   "cell_type": "code",
   "execution_count": 4,
   "metadata": {},
   "outputs": [
    {
     "name": "stdout",
     "output_type": "stream",
     "text": [
      "<class 'pandas.core.frame.DataFrame'>\n",
      "RangeIndex: 16715 entries, 0 to 16714\n",
      "Data columns (total 11 columns):\n",
      " #   Column           Non-Null Count  Dtype  \n",
      "---  ------           --------------  -----  \n",
      " 0   Name             16713 non-null  object \n",
      " 1   Platform         16715 non-null  object \n",
      " 2   Year_of_Release  16446 non-null  float64\n",
      " 3   Genre            16713 non-null  object \n",
      " 4   NA_sales         16715 non-null  float64\n",
      " 5   EU_sales         16715 non-null  float64\n",
      " 6   JP_sales         16715 non-null  float64\n",
      " 7   Other_sales      16715 non-null  float64\n",
      " 8   Critic_Score     8137 non-null   float64\n",
      " 9   User_Score       10014 non-null  object \n",
      " 10  Rating           9949 non-null   object \n",
      "dtypes: float64(6), object(5)\n",
      "memory usage: 1.4+ MB\n"
     ]
    }
   ],
   "source": [
    "#выведем основную информацию о таблице методом info()\n",
    "games.info()"
   ]
  },
  {
   "cell_type": "code",
   "execution_count": 5,
   "metadata": {},
   "outputs": [
    {
     "data": {
      "image/png": "[encoded data removed]",
      "text/plain": [
       "<Figure size 720x1080 with 6 Axes>"
      ]
     },
     "metadata": {
      "needs_background": "light"
     },
     "output_type": "display_data"
    }
   ],
   "source": [
    "#построим гистограммы для всех столбцов\n",
    "games.hist(figsize=(10, 15))\n",
    "plt.show();"
   ]
  },
  {
   "cell_type": "markdown",
   "metadata": {},
   "source": [
    "**Выводы**\n",
    "\n",
    "В каждой строке таблицы - данные об играх. Часть колонок описывает игры: название, жанр, платформа выпуска, год выпуска. Другие колонки описывают оценки и продажи: продажи в разных регионах, оценки критиков и игроков, возрастной рейтинг.\n",
    "\n",
    "На первый взгляд кажется, что данных достаточно для исследования и проверки гипотез. Но мы видим следующее: в таблице присутствуют пропуски, названия столбцов не соотвествуют хорошему стилю, некоторым столбцам установлен не тот тип данных. По первичным гистограммам сложно сделать некоторые выводы.\n",
    "\n",
    "Приступим к предобработке данных."
   ]
  },
  {
   "cell_type": "markdown",
   "metadata": {},
   "source": [
    "## Предобработка данных"
   ]
  },
  {
   "cell_type": "markdown",
   "metadata": {},
   "source": [
    "### Приведём к нижнему регистру названия столбцов"
   ]
  },
  {
   "cell_type": "code",
   "execution_count": 6,
   "metadata": {},
   "outputs": [
    {
     "data": {
      "text/plain": [
       "Index(['Name', 'Platform', 'Year_of_Release', 'Genre', 'NA_sales', 'EU_sales',\n",
       "       'JP_sales', 'Other_sales', 'Critic_Score', 'User_Score', 'Rating'],\n",
       "      dtype='object')"
      ]
     },
     "execution_count": 6,
     "metadata": {},
     "output_type": "execute_result"
    }
   ],
   "source": [
    "#посмотрим на названия столбцов\n",
    "games.columns"
   ]
  },
  {
   "cell_type": "code",
   "execution_count": 7,
   "metadata": {},
   "outputs": [],
   "source": [
    "#приведём названия в соответствие с хорошим стилем\n",
    "games.columns = games.columns.str.lower()"
   ]
  },
  {
   "cell_type": "code",
   "execution_count": 8,
   "metadata": {},
   "outputs": [
    {
     "data": {
      "text/plain": [
       "Index(['name', 'platform', 'year_of_release', 'genre', 'na_sales', 'eu_sales',\n",
       "       'jp_sales', 'other_sales', 'critic_score', 'user_score', 'rating'],\n",
       "      dtype='object')"
      ]
     },
     "execution_count": 8,
     "metadata": {},
     "output_type": "execute_result"
    }
   ],
   "source": [
    "#проверим результат\n",
    "games.columns"
   ]
  },
  {
   "cell_type": "markdown",
   "metadata": {},
   "source": [
    "### Найти и изучить пропущенные значения в столбцах"
   ]
  },
  {
   "cell_type": "code",
   "execution_count": 9,
   "metadata": {},
   "outputs": [
    {
     "data": {
      "text/plain": [
       "name                  2\n",
       "platform              0\n",
       "year_of_release     269\n",
       "genre                 2\n",
       "na_sales              0\n",
       "eu_sales              0\n",
       "jp_sales              0\n",
       "other_sales           0\n",
       "critic_score       8578\n",
       "user_score         6701\n",
       "rating             6766\n",
       "dtype: int64"
      ]
     },
     "execution_count": 9,
     "metadata": {},
     "output_type": "execute_result"
    }
   ],
   "source": [
    "#выведем количество пропущенных значений для каждого столбца\n",
    "games.isna().sum()"
   ]
  },
  {
   "cell_type": "code",
   "execution_count": 10,
   "metadata": {},
   "outputs": [
    {
     "data": {
      "text/html": [
       "<style  type=\"text/css\" >\n",
       "#T_7c164_row0_col0,#T_7c164_row1_col0,#T_7c164_row3_col0,#T_7c164_row4_col0,#T_7c164_row5_col0,#T_7c164_row6_col0,#T_7c164_row7_col0{\n",
       "            background-color:  #3b4cc0;\n",
       "            color:  #f1f1f1;\n",
       "        }#T_7c164_row2_col0{\n",
       "            background-color:  #465ecf;\n",
       "            color:  #f1f1f1;\n",
       "        }#T_7c164_row8_col0{\n",
       "            background-color:  #b40426;\n",
       "            color:  #f1f1f1;\n",
       "        }#T_7c164_row9_col0,#T_7c164_row10_col0{\n",
       "            background-color:  #f08b6e;\n",
       "            color:  #000000;\n",
       "        }</style><table id=\"T_7c164_\" ><thead>    <tr>        <th class=\"blank level0\" ></th>        <th class=\"col_heading level0 col0\" >0</th>    </tr></thead><tbody>\n",
       "                <tr>\n",
       "                        <th id=\"T_7c164_level0_row0\" class=\"row_heading level0 row0\" >name</th>\n",
       "                        <td id=\"T_7c164_row0_col0\" class=\"data row0 col0\" >0.000000</td>\n",
       "            </tr>\n",
       "            <tr>\n",
       "                        <th id=\"T_7c164_level0_row1\" class=\"row_heading level0 row1\" >platform</th>\n",
       "                        <td id=\"T_7c164_row1_col0\" class=\"data row1 col0\" >0.000000</td>\n",
       "            </tr>\n",
       "            <tr>\n",
       "                        <th id=\"T_7c164_level0_row2\" class=\"row_heading level0 row2\" >year_of_release</th>\n",
       "                        <td id=\"T_7c164_row2_col0\" class=\"data row2 col0\" >2.000000</td>\n",
       "            </tr>\n",
       "            <tr>\n",
       "                        <th id=\"T_7c164_level0_row3\" class=\"row_heading level0 row3\" >genre</th>\n",
       "                        <td id=\"T_7c164_row3_col0\" class=\"data row3 col0\" >0.000000</td>\n",
       "            </tr>\n",
       "            <tr>\n",
       "                        <th id=\"T_7c164_level0_row4\" class=\"row_heading level0 row4\" >na_sales</th>\n",
       "                        <td id=\"T_7c164_row4_col0\" class=\"data row4 col0\" >0.000000</td>\n",
       "            </tr>\n",
       "            <tr>\n",
       "                        <th id=\"T_7c164_level0_row5\" class=\"row_heading level0 row5\" >eu_sales</th>\n",
       "                        <td id=\"T_7c164_row5_col0\" class=\"data row5 col0\" >0.000000</td>\n",
       "            </tr>\n",
       "            <tr>\n",
       "                        <th id=\"T_7c164_level0_row6\" class=\"row_heading level0 row6\" >jp_sales</th>\n",
       "                        <td id=\"T_7c164_row6_col0\" class=\"data row6 col0\" >0.000000</td>\n",
       "            </tr>\n",
       "            <tr>\n",
       "                        <th id=\"T_7c164_level0_row7\" class=\"row_heading level0 row7\" >other_sales</th>\n",
       "                        <td id=\"T_7c164_row7_col0\" class=\"data row7 col0\" >0.000000</td>\n",
       "            </tr>\n",
       "            <tr>\n",
       "                        <th id=\"T_7c164_level0_row8\" class=\"row_heading level0 row8\" >critic_score</th>\n",
       "                        <td id=\"T_7c164_row8_col0\" class=\"data row8 col0\" >51.000000</td>\n",
       "            </tr>\n",
       "            <tr>\n",
       "                        <th id=\"T_7c164_level0_row9\" class=\"row_heading level0 row9\" >user_score</th>\n",
       "                        <td id=\"T_7c164_row9_col0\" class=\"data row9 col0\" >40.000000</td>\n",
       "            </tr>\n",
       "            <tr>\n",
       "                        <th id=\"T_7c164_level0_row10\" class=\"row_heading level0 row10\" >rating</th>\n",
       "                        <td id=\"T_7c164_row10_col0\" class=\"data row10 col0\" >40.000000</td>\n",
       "            </tr>\n",
       "    </tbody></table>"
      ],
      "text/plain": [
       "<pandas.io.formats.style.Styler at 0x7f9b91841ca0>"
      ]
     },
     "execution_count": 10,
     "metadata": {},
     "output_type": "execute_result"
    }
   ],
   "source": [
    "#проверим колличество пропусков в %\n",
    "pd.DataFrame(round(games.isna().mean()*100,)).style.background_gradient('coolwarm')"
   ]
  },
  {
   "cell_type": "markdown",
   "metadata": {},
   "source": [
    "Поясним, какие значения пропущены и как их можно обработать:\n",
    "\n",
    "* **name** - в столбце всего 2 пропуска, но поскольку узнать их названия никак не можем, то удалим эти пропуски\n",
    "* **year_of_release** - мы можем узнать год релиза, но для этого нужно проверять отдельно каждую игру. Поскольку проверять каждую игру отнимет довольно много времени, а пропусков меньше 2%, то можем смело удалить их, чтобы не терять время\n",
    "* **genre** - в столбце всего 2 пропуска, но поскольку узнать их жанр никак не можем, то удалим эти пропуски\n",
    "* **critic_score** - оставим NaN, т.к. мы никак не можем узнать оценку критиков\n",
    "* **user_score** - оставим NaN, т.к. мы никак не можем узнать оценку игроков\n",
    "* **rating** - поскольку столбец заполнен категориальными значениями, а для выполнения операций отсутствующее значение мешает. Заменим его на пустую строку.\n",
    "\n",
    "Больше всего пропусков у нас в следующих столбцах: оценка критиков и игроков, возрастной рейтинг. Поскольку данные были получены из открытых источников, то можно предположить, что выгрузка производилась из разных мест. Есть вероятность, что часть данных была потеряна из-за технических неисправностей при выгрузке. Ещё есть вероятность, что данные выгружались из мест, в которых хранилась только общая информация об играх, а оценка отсутствовала.\n",
    "\n",
    "Самое главное предположение в том, что в мире очень много сервисов и сайтов, где игроки и критики ставят свои оценки. При выгрузке из разных источников мог просто произойти конфликт данных. Вполне вероятно, что такие спорные места заменили на пустое значение.\n",
    "\n",
    "Возрастной рейтинг появился в 1994 году для Американского и Европейского рынка, а в Японии он появился в 1992 году. До этих дат отсутствие рейтинга понятно. \n",
    "\n",
    "Пропуски в столбце \"год релиза\" могут быть техническими, так и данные могли взять из места, где год не указали."
   ]
  },
  {
   "cell_type": "code",
   "execution_count": 11,
   "metadata": {},
   "outputs": [
    {
     "data": {
      "text/html": [
       "<div>\n",
       "<style scoped>\n",
       "    .dataframe tbody tr th:only-of-type {\n",
       "        vertical-align: middle;\n",
       "    }\n",
       "\n",
       "    .dataframe tbody tr th {\n",
       "        vertical-align: top;\n",
       "    }\n",
       "\n",
       "    .dataframe thead th {\n",
       "        text-align: right;\n",
       "    }\n",
       "</style>\n",
       "<table border=\"1\" class=\"dataframe\">\n",
       "  <thead>\n",
       "    <tr style=\"text-align: right;\">\n",
       "      <th></th>\n",
       "      <th>name</th>\n",
       "      <th>platform</th>\n",
       "      <th>year_of_release</th>\n",
       "      <th>genre</th>\n",
       "      <th>na_sales</th>\n",
       "      <th>eu_sales</th>\n",
       "      <th>jp_sales</th>\n",
       "      <th>other_sales</th>\n",
       "      <th>critic_score</th>\n",
       "      <th>user_score</th>\n",
       "      <th>rating</th>\n",
       "    </tr>\n",
       "  </thead>\n",
       "  <tbody>\n",
       "    <tr>\n",
       "      <th>0</th>\n",
       "      <td>Wii Sports</td>\n",
       "      <td>Wii</td>\n",
       "      <td>2006.0</td>\n",
       "      <td>Sports</td>\n",
       "      <td>41.36</td>\n",
       "      <td>28.96</td>\n",
       "      <td>3.77</td>\n",
       "      <td>8.45</td>\n",
       "      <td>76.0</td>\n",
       "      <td>8</td>\n",
       "      <td>E</td>\n",
       "    </tr>\n",
       "    <tr>\n",
       "      <th>1</th>\n",
       "      <td>Super Mario Bros.</td>\n",
       "      <td>NES</td>\n",
       "      <td>1985.0</td>\n",
       "      <td>Platform</td>\n",
       "      <td>29.08</td>\n",
       "      <td>3.58</td>\n",
       "      <td>6.81</td>\n",
       "      <td>0.77</td>\n",
       "      <td>NaN</td>\n",
       "      <td>NaN</td>\n",
       "      <td></td>\n",
       "    </tr>\n",
       "    <tr>\n",
       "      <th>2</th>\n",
       "      <td>Mario Kart Wii</td>\n",
       "      <td>Wii</td>\n",
       "      <td>2008.0</td>\n",
       "      <td>Racing</td>\n",
       "      <td>15.68</td>\n",
       "      <td>12.76</td>\n",
       "      <td>3.79</td>\n",
       "      <td>3.29</td>\n",
       "      <td>82.0</td>\n",
       "      <td>8.3</td>\n",
       "      <td>E</td>\n",
       "    </tr>\n",
       "    <tr>\n",
       "      <th>3</th>\n",
       "      <td>Wii Sports Resort</td>\n",
       "      <td>Wii</td>\n",
       "      <td>2009.0</td>\n",
       "      <td>Sports</td>\n",
       "      <td>15.61</td>\n",
       "      <td>10.93</td>\n",
       "      <td>3.28</td>\n",
       "      <td>2.95</td>\n",
       "      <td>80.0</td>\n",
       "      <td>8</td>\n",
       "      <td>E</td>\n",
       "    </tr>\n",
       "    <tr>\n",
       "      <th>4</th>\n",
       "      <td>Pokemon Red/Pokemon Blue</td>\n",
       "      <td>GB</td>\n",
       "      <td>1996.0</td>\n",
       "      <td>Role-Playing</td>\n",
       "      <td>11.27</td>\n",
       "      <td>8.89</td>\n",
       "      <td>10.22</td>\n",
       "      <td>1.00</td>\n",
       "      <td>NaN</td>\n",
       "      <td>NaN</td>\n",
       "      <td></td>\n",
       "    </tr>\n",
       "  </tbody>\n",
       "</table>\n",
       "</div>"
      ],
      "text/plain": [
       "                       name platform  year_of_release         genre  na_sales  \\\n",
       "0                Wii Sports      Wii           2006.0        Sports     41.36   \n",
       "1         Super Mario Bros.      NES           1985.0      Platform     29.08   \n",
       "2            Mario Kart Wii      Wii           2008.0        Racing     15.68   \n",
       "3         Wii Sports Resort      Wii           2009.0        Sports     15.61   \n",
       "4  Pokemon Red/Pokemon Blue       GB           1996.0  Role-Playing     11.27   \n",
       "\n",
       "   eu_sales  jp_sales  other_sales  critic_score user_score rating  \n",
       "0     28.96      3.77         8.45          76.0          8      E  \n",
       "1      3.58      6.81         0.77           NaN        NaN         \n",
       "2     12.76      3.79         3.29          82.0        8.3      E  \n",
       "3     10.93      3.28         2.95          80.0          8      E  \n",
       "4      8.89     10.22         1.00           NaN        NaN         "
      ]
     },
     "execution_count": 11,
     "metadata": {},
     "output_type": "execute_result"
    }
   ],
   "source": [
    "#если пропусков меньше 5-10% их лучше сразу удалить, дабы сэкономить время\n",
    "games = games.dropna(subset=['year_of_release', 'name', 'genre']).reset_index(drop=True)\n",
    "\n",
    "#заменим пропуски в возрастном рейтинге на пустую строку \n",
    "games['rating'] = games['rating'].fillna(value='') \n",
    "\n",
    "#проверим результат\n",
    "games.head()"
   ]
  },
  {
   "cell_type": "code",
   "execution_count": 12,
   "metadata": {},
   "outputs": [
    {
     "data": {
      "text/plain": [
       "array(['8', nan, '8.3', '8.5', '6.6', '8.4', '8.6', '7.7', '6.3', '7.4',\n",
       "       '8.2', '9', '7.9', '8.1', '8.7', '7.1', '3.4', '5.3', '4.8', '3.2',\n",
       "       '8.9', '6.4', '7.8', '7.5', '2.6', '7.2', '9.2', '7', '7.3', '4.3',\n",
       "       '7.6', '5.7', '5', '9.1', '6.5', 'tbd', '8.8', '6.9', '9.4', '6.8',\n",
       "       '6.1', '6.7', '5.4', '4', '4.9', '4.5', '9.3', '6.2', '4.2', '6',\n",
       "       '3.7', '4.1', '5.8', '5.6', '5.5', '4.4', '4.6', '5.9', '3.9',\n",
       "       '3.1', '2.9', '5.2', '3.3', '4.7', '5.1', '3.5', '2.5', '1.9', '3',\n",
       "       '2.7', '2.2', '2', '9.5', '2.1', '3.6', '2.8', '1.8', '3.8', '0',\n",
       "       '1.6', '9.6', '2.4', '1.7', '1.1', '0.3', '1.5', '0.7', '1.2',\n",
       "       '2.3', '0.5', '1.3', '0.2', '0.6', '1.4', '0.9', '1', '9.7'],\n",
       "      dtype=object)"
      ]
     },
     "execution_count": 12,
     "metadata": {},
     "output_type": "execute_result"
    }
   ],
   "source": [
    "#проверим значения в рейтинге игроков\n",
    "games['user_score'].unique()"
   ]
  },
  {
   "cell_type": "markdown",
   "metadata": {},
   "source": [
    "Видим аббревиатуру **tbd** (to be determined = будет определено). Оценка игроков появляется не сразу, а когда определённое количество людей поставили свою оценку. Эта аббревиатура можеть быть по следующим причинам:\n",
    "\n",
    "* Игра продалась очень маленьким тиражом и её оценило недостаточное количество игроков.\n",
    "* Игра только вышла и оценка ещё не появилась на момент выгрузки.\n",
    "* Поскольку игры добавляются на сайты/сервисы с оценками вручную, то многие нишевые и старые игры появляются там с сильным запозданием, из-за чего оценки может и не быть.\n",
    "\n",
    "**Важное примечание**\n",
    "\n",
    "Поскольку эти значения мы никак обработать не сможем, то просто заменим их на NaN. Это действие мы произведём на следующем шаге, когда будем изменять тип user_score методом to_numeric. У этого метода есть параметр errors. От значений, принимаемых errors, зависят действия to_numeric при встрече с некорректным значением. Мы будем использовать значение coerce - некорректные значения принудительно заменяются на NaN"
   ]
  },
  {
   "cell_type": "markdown",
   "metadata": {},
   "source": [
    "### Изменение типов данных"
   ]
  },
  {
   "cell_type": "markdown",
   "metadata": {},
   "source": [
    "Столбцы, в которых можно изменить тип данных:\n",
    "\n",
    "* **year_of_release** - поскольку здесь записан только год, а не целая дата, то переведём в целочисленный тип.\n",
    "* **user_score** - переведём в вещественный тип, поскольку пользователи ставят дробную оценку."
   ]
  },
  {
   "cell_type": "code",
   "execution_count": 13,
   "metadata": {},
   "outputs": [],
   "source": [
    "#изменим тип столбца год релиза в целочисленный\n",
    "games['year_of_release'] = games['year_of_release'].astype('int')\n",
    "\n",
    "#изменим тип столбца ретинг пользователей с object на вещественный\n",
    "#также заменим tbd значения на NaN, используя errors='coerce'\n",
    "games['user_score'] = pd.to_numeric(games['user_score'], errors='coerce') "
   ]
  },
  {
   "cell_type": "markdown",
   "metadata": {},
   "source": [
    "### Посчитаем суммарные продажи во всех регионах и запишим их в отдельный столбец"
   ]
  },
  {
   "cell_type": "code",
   "execution_count": 14,
   "metadata": {},
   "outputs": [
    {
     "data": {
      "text/html": [
       "<div>\n",
       "<style scoped>\n",
       "    .dataframe tbody tr th:only-of-type {\n",
       "        vertical-align: middle;\n",
       "    }\n",
       "\n",
       "    .dataframe tbody tr th {\n",
       "        vertical-align: top;\n",
       "    }\n",
       "\n",
       "    .dataframe thead th {\n",
       "        text-align: right;\n",
       "    }\n",
       "</style>\n",
       "<table border=\"1\" class=\"dataframe\">\n",
       "  <thead>\n",
       "    <tr style=\"text-align: right;\">\n",
       "      <th></th>\n",
       "      <th>name</th>\n",
       "      <th>platform</th>\n",
       "      <th>year_of_release</th>\n",
       "      <th>genre</th>\n",
       "      <th>na_sales</th>\n",
       "      <th>eu_sales</th>\n",
       "      <th>jp_sales</th>\n",
       "      <th>other_sales</th>\n",
       "      <th>critic_score</th>\n",
       "      <th>user_score</th>\n",
       "      <th>rating</th>\n",
       "      <th>all_sales</th>\n",
       "    </tr>\n",
       "  </thead>\n",
       "  <tbody>\n",
       "    <tr>\n",
       "      <th>0</th>\n",
       "      <td>Wii Sports</td>\n",
       "      <td>Wii</td>\n",
       "      <td>2006</td>\n",
       "      <td>Sports</td>\n",
       "      <td>41.36</td>\n",
       "      <td>28.96</td>\n",
       "      <td>3.77</td>\n",
       "      <td>8.45</td>\n",
       "      <td>76.0</td>\n",
       "      <td>8.0</td>\n",
       "      <td>E</td>\n",
       "      <td>82.54</td>\n",
       "    </tr>\n",
       "    <tr>\n",
       "      <th>1</th>\n",
       "      <td>Super Mario Bros.</td>\n",
       "      <td>NES</td>\n",
       "      <td>1985</td>\n",
       "      <td>Platform</td>\n",
       "      <td>29.08</td>\n",
       "      <td>3.58</td>\n",
       "      <td>6.81</td>\n",
       "      <td>0.77</td>\n",
       "      <td>NaN</td>\n",
       "      <td>NaN</td>\n",
       "      <td></td>\n",
       "      <td>40.24</td>\n",
       "    </tr>\n",
       "    <tr>\n",
       "      <th>2</th>\n",
       "      <td>Mario Kart Wii</td>\n",
       "      <td>Wii</td>\n",
       "      <td>2008</td>\n",
       "      <td>Racing</td>\n",
       "      <td>15.68</td>\n",
       "      <td>12.76</td>\n",
       "      <td>3.79</td>\n",
       "      <td>3.29</td>\n",
       "      <td>82.0</td>\n",
       "      <td>8.3</td>\n",
       "      <td>E</td>\n",
       "      <td>35.52</td>\n",
       "    </tr>\n",
       "    <tr>\n",
       "      <th>3</th>\n",
       "      <td>Wii Sports Resort</td>\n",
       "      <td>Wii</td>\n",
       "      <td>2009</td>\n",
       "      <td>Sports</td>\n",
       "      <td>15.61</td>\n",
       "      <td>10.93</td>\n",
       "      <td>3.28</td>\n",
       "      <td>2.95</td>\n",
       "      <td>80.0</td>\n",
       "      <td>8.0</td>\n",
       "      <td>E</td>\n",
       "      <td>32.77</td>\n",
       "    </tr>\n",
       "    <tr>\n",
       "      <th>4</th>\n",
       "      <td>Pokemon Red/Pokemon Blue</td>\n",
       "      <td>GB</td>\n",
       "      <td>1996</td>\n",
       "      <td>Role-Playing</td>\n",
       "      <td>11.27</td>\n",
       "      <td>8.89</td>\n",
       "      <td>10.22</td>\n",
       "      <td>1.00</td>\n",
       "      <td>NaN</td>\n",
       "      <td>NaN</td>\n",
       "      <td></td>\n",
       "      <td>31.38</td>\n",
       "    </tr>\n",
       "  </tbody>\n",
       "</table>\n",
       "</div>"
      ],
      "text/plain": [
       "                       name platform  year_of_release         genre  na_sales  \\\n",
       "0                Wii Sports      Wii             2006        Sports     41.36   \n",
       "1         Super Mario Bros.      NES             1985      Platform     29.08   \n",
       "2            Mario Kart Wii      Wii             2008        Racing     15.68   \n",
       "3         Wii Sports Resort      Wii             2009        Sports     15.61   \n",
       "4  Pokemon Red/Pokemon Blue       GB             1996  Role-Playing     11.27   \n",
       "\n",
       "   eu_sales  jp_sales  other_sales  critic_score  user_score rating  all_sales  \n",
       "0     28.96      3.77         8.45          76.0         8.0      E      82.54  \n",
       "1      3.58      6.81         0.77           NaN         NaN             40.24  \n",
       "2     12.76      3.79         3.29          82.0         8.3      E      35.52  \n",
       "3     10.93      3.28         2.95          80.0         8.0      E      32.77  \n",
       "4      8.89     10.22         1.00           NaN         NaN             31.38  "
      ]
     },
     "execution_count": 14,
     "metadata": {},
     "output_type": "execute_result"
    }
   ],
   "source": [
    "#посчитаем суммарные продажи\n",
    "games['all_sales'] = games['na_sales'] + games['eu_sales'] + games['jp_sales'] + games['other_sales']\n",
    "games.head()"
   ]
  },
  {
   "cell_type": "markdown",
   "metadata": {},
   "source": [
    "### Проверим явные и неявные дубликаты, а также аномальные значения"
   ]
  },
  {
   "cell_type": "code",
   "execution_count": 15,
   "metadata": {},
   "outputs": [
    {
     "data": {
      "text/plain": [
       "0"
      ]
     },
     "execution_count": 15,
     "metadata": {},
     "output_type": "execute_result"
    }
   ],
   "source": [
    "#проверим наличие явных дубликатов в таблице\n",
    "games.duplicated().sum()"
   ]
  },
  {
   "cell_type": "markdown",
   "metadata": {},
   "source": [
    "Никаких явных дубликатов в данных не обнаружено.\n",
    "\n",
    "Проверим выбросы в столбцах и поймём, нужно их обрабатывать или нет"
   ]
  },
  {
   "cell_type": "code",
   "execution_count": 16,
   "metadata": {},
   "outputs": [
    {
     "data": {
      "text/html": [
       "<div>\n",
       "<style scoped>\n",
       "    .dataframe tbody tr th:only-of-type {\n",
       "        vertical-align: middle;\n",
       "    }\n",
       "\n",
       "    .dataframe tbody tr th {\n",
       "        vertical-align: top;\n",
       "    }\n",
       "\n",
       "    .dataframe thead th {\n",
       "        text-align: right;\n",
       "    }\n",
       "</style>\n",
       "<table border=\"1\" class=\"dataframe\">\n",
       "  <thead>\n",
       "    <tr style=\"text-align: right;\">\n",
       "      <th></th>\n",
       "      <th>year_of_release</th>\n",
       "      <th>na_sales</th>\n",
       "      <th>eu_sales</th>\n",
       "      <th>jp_sales</th>\n",
       "      <th>other_sales</th>\n",
       "      <th>critic_score</th>\n",
       "      <th>user_score</th>\n",
       "      <th>all_sales</th>\n",
       "    </tr>\n",
       "  </thead>\n",
       "  <tbody>\n",
       "    <tr>\n",
       "      <th>count</th>\n",
       "      <td>16444.000000</td>\n",
       "      <td>16444.000000</td>\n",
       "      <td>16444.000000</td>\n",
       "      <td>16444.000000</td>\n",
       "      <td>16444.000000</td>\n",
       "      <td>7983.000000</td>\n",
       "      <td>7463.000000</td>\n",
       "      <td>16444.000000</td>\n",
       "    </tr>\n",
       "    <tr>\n",
       "      <th>mean</th>\n",
       "      <td>2006.486256</td>\n",
       "      <td>0.264012</td>\n",
       "      <td>0.145930</td>\n",
       "      <td>0.078487</td>\n",
       "      <td>0.047594</td>\n",
       "      <td>68.994363</td>\n",
       "      <td>7.126330</td>\n",
       "      <td>0.536023</td>\n",
       "    </tr>\n",
       "    <tr>\n",
       "      <th>std</th>\n",
       "      <td>5.875525</td>\n",
       "      <td>0.818378</td>\n",
       "      <td>0.506716</td>\n",
       "      <td>0.311100</td>\n",
       "      <td>0.188005</td>\n",
       "      <td>13.920060</td>\n",
       "      <td>1.499447</td>\n",
       "      <td>1.558786</td>\n",
       "    </tr>\n",
       "    <tr>\n",
       "      <th>min</th>\n",
       "      <td>1980.000000</td>\n",
       "      <td>0.000000</td>\n",
       "      <td>0.000000</td>\n",
       "      <td>0.000000</td>\n",
       "      <td>0.000000</td>\n",
       "      <td>13.000000</td>\n",
       "      <td>0.000000</td>\n",
       "      <td>0.000000</td>\n",
       "    </tr>\n",
       "    <tr>\n",
       "      <th>25%</th>\n",
       "      <td>2003.000000</td>\n",
       "      <td>0.000000</td>\n",
       "      <td>0.000000</td>\n",
       "      <td>0.000000</td>\n",
       "      <td>0.000000</td>\n",
       "      <td>60.000000</td>\n",
       "      <td>6.400000</td>\n",
       "      <td>0.060000</td>\n",
       "    </tr>\n",
       "    <tr>\n",
       "      <th>50%</th>\n",
       "      <td>2007.000000</td>\n",
       "      <td>0.080000</td>\n",
       "      <td>0.020000</td>\n",
       "      <td>0.000000</td>\n",
       "      <td>0.010000</td>\n",
       "      <td>71.000000</td>\n",
       "      <td>7.500000</td>\n",
       "      <td>0.170000</td>\n",
       "    </tr>\n",
       "    <tr>\n",
       "      <th>75%</th>\n",
       "      <td>2010.000000</td>\n",
       "      <td>0.240000</td>\n",
       "      <td>0.110000</td>\n",
       "      <td>0.040000</td>\n",
       "      <td>0.030000</td>\n",
       "      <td>79.000000</td>\n",
       "      <td>8.200000</td>\n",
       "      <td>0.470000</td>\n",
       "    </tr>\n",
       "    <tr>\n",
       "      <th>max</th>\n",
       "      <td>2016.000000</td>\n",
       "      <td>41.360000</td>\n",
       "      <td>28.960000</td>\n",
       "      <td>10.220000</td>\n",
       "      <td>10.570000</td>\n",
       "      <td>98.000000</td>\n",
       "      <td>9.700000</td>\n",
       "      <td>82.540000</td>\n",
       "    </tr>\n",
       "  </tbody>\n",
       "</table>\n",
       "</div>"
      ],
      "text/plain": [
       "       year_of_release      na_sales      eu_sales      jp_sales  \\\n",
       "count     16444.000000  16444.000000  16444.000000  16444.000000   \n",
       "mean       2006.486256      0.264012      0.145930      0.078487   \n",
       "std           5.875525      0.818378      0.506716      0.311100   \n",
       "min        1980.000000      0.000000      0.000000      0.000000   \n",
       "25%        2003.000000      0.000000      0.000000      0.000000   \n",
       "50%        2007.000000      0.080000      0.020000      0.000000   \n",
       "75%        2010.000000      0.240000      0.110000      0.040000   \n",
       "max        2016.000000     41.360000     28.960000     10.220000   \n",
       "\n",
       "        other_sales  critic_score   user_score     all_sales  \n",
       "count  16444.000000   7983.000000  7463.000000  16444.000000  \n",
       "mean       0.047594     68.994363     7.126330      0.536023  \n",
       "std        0.188005     13.920060     1.499447      1.558786  \n",
       "min        0.000000     13.000000     0.000000      0.000000  \n",
       "25%        0.000000     60.000000     6.400000      0.060000  \n",
       "50%        0.010000     71.000000     7.500000      0.170000  \n",
       "75%        0.030000     79.000000     8.200000      0.470000  \n",
       "max       10.570000     98.000000     9.700000     82.540000  "
      ]
     },
     "execution_count": 16,
     "metadata": {},
     "output_type": "execute_result"
    }
   ],
   "source": [
    "#оценим данные в таблице методом describe\n",
    "games.describe()"
   ]
  },
  {
   "cell_type": "markdown",
   "metadata": {},
   "source": [
    "По максимальным и минимальным значениям можно сказать, что никаких аномальных данных нету. \n",
    "\n",
    "Просмотрим столбцы, которые ещё не изучили"
   ]
  },
  {
   "cell_type": "code",
   "execution_count": 17,
   "metadata": {},
   "outputs": [
    {
     "data": {
      "text/plain": [
       "array(['Wii', 'NES', 'GB', 'DS', 'X360', 'PS3', 'PS2', 'SNES', 'GBA',\n",
       "       'PS4', '3DS', 'N64', 'PS', 'XB', 'PC', '2600', 'PSP', 'XOne',\n",
       "       'WiiU', 'GC', 'GEN', 'DC', 'PSV', 'SAT', 'SCD', 'WS', 'NG', 'TG16',\n",
       "       '3DO', 'GG', 'PCFX'], dtype=object)"
      ]
     },
     "execution_count": 17,
     "metadata": {},
     "output_type": "execute_result"
    }
   ],
   "source": [
    "#выведем уникальные названия платформ\n",
    "games['platform'].unique()"
   ]
  },
  {
   "cell_type": "code",
   "execution_count": 18,
   "metadata": {},
   "outputs": [
    {
     "data": {
      "text/plain": [
       "array(['Sports', 'Platform', 'Racing', 'Role-Playing', 'Puzzle', 'Misc',\n",
       "       'Shooter', 'Simulation', 'Action', 'Fighting', 'Adventure',\n",
       "       'Strategy'], dtype=object)"
      ]
     },
     "execution_count": 18,
     "metadata": {},
     "output_type": "execute_result"
    }
   ],
   "source": [
    "#выведем уникальные названия жанров\n",
    "games['genre'].unique()"
   ]
  },
  {
   "cell_type": "code",
   "execution_count": 19,
   "metadata": {},
   "outputs": [
    {
     "data": {
      "text/plain": [
       "array(['E', '', 'M', 'T', 'E10+', 'K-A', 'AO', 'EC', 'RP'], dtype=object)"
      ]
     },
     "execution_count": 19,
     "metadata": {},
     "output_type": "execute_result"
    }
   ],
   "source": [
    "#выведем уникальные наименования возрастного рейтинга\n",
    "games['rating'].unique()"
   ]
  },
  {
   "cell_type": "markdown",
   "metadata": {},
   "source": [
    "Можно сделать вывод, что неявные дубликаты отсутствуют в данных."
   ]
  },
  {
   "cell_type": "markdown",
   "metadata": {},
   "source": [
    "**Выводы**\n",
    "\n",
    "Предобработка обнаружила следующие проблемы в данных:\n",
    "- названия столбцов не в нижнем регистре\n",
    "- пропущенные значение\n",
    "- неправильный тип данных\n",
    "\n",
    "Исправленные заголовки помогут упростить работу с таблицей. \n",
    "\n",
    "Обработка пропущенных значений поможет нам провести более точное исследование. В некоторых столбцах мы оставили NaN значения. В исследовании мы увидим, помешают нам пропуски или нет.\n",
    "\n",
    "Изменение типа данных поможет нам провести более точные расчёты.\n",
    "\n",
    "Никаких дубликатов и аномальных значений мы не обнаружили."
   ]
  },
  {
   "cell_type": "code",
   "execution_count": 20,
   "metadata": {},
   "outputs": [
    {
     "name": "stdout",
     "output_type": "stream",
     "text": [
      "<class 'pandas.core.frame.DataFrame'>\n",
      "RangeIndex: 16444 entries, 0 to 16443\n",
      "Data columns (total 12 columns):\n",
      " #   Column           Non-Null Count  Dtype  \n",
      "---  ------           --------------  -----  \n",
      " 0   name             16444 non-null  object \n",
      " 1   platform         16444 non-null  object \n",
      " 2   year_of_release  16444 non-null  int64  \n",
      " 3   genre            16444 non-null  object \n",
      " 4   na_sales         16444 non-null  float64\n",
      " 5   eu_sales         16444 non-null  float64\n",
      " 6   jp_sales         16444 non-null  float64\n",
      " 7   other_sales      16444 non-null  float64\n",
      " 8   critic_score     7983 non-null   float64\n",
      " 9   user_score       7463 non-null   float64\n",
      " 10  rating           16444 non-null  object \n",
      " 11  all_sales        16444 non-null  float64\n",
      "dtypes: float64(7), int64(1), object(4)\n",
      "memory usage: 1.5+ MB\n",
      "None\n",
      "-------------------------\n",
      "name [' Beyblade Burst' ' Fire Emblem Fates' \" Frozen: Olaf's Quest\" ...\n",
      " 'uDraw Studio' 'uDraw Studio: Instant Artist'\n",
      " '¡Shin Chan Flipa en colores!']\n",
      "name : кол-во NaN 0 , процент NaN 0.0 %\n",
      "-------------------------\n",
      "platform ['2600' '3DO' '3DS' 'DC' 'DS' 'GB' 'GBA' 'GC' 'GEN' 'GG' 'N64' 'NES' 'NG'\n",
      " 'PC' 'PCFX' 'PS' 'PS2' 'PS3' 'PS4' 'PSP' 'PSV' 'SAT' 'SCD' 'SNES' 'TG16'\n",
      " 'WS' 'Wii' 'WiiU' 'X360' 'XB' 'XOne']\n",
      "platform : кол-во NaN 0 , процент NaN 0.0 %\n",
      "-------------------------\n",
      "year_of_release [1980 1981 1982 1983 1984 1985 1986 1987 1988 1989 1990 1991 1992 1993\n",
      " 1994 1995 1996 1997 1998 1999 2000 2001 2002 2003 2004 2005 2006 2007\n",
      " 2008 2009 2010 2011 2012 2013 2014 2015 2016]\n",
      "year_of_release : кол-во NaN 0 , процент NaN 0.0 %\n",
      "-------------------------\n",
      "genre ['Action' 'Adventure' 'Fighting' 'Misc' 'Platform' 'Puzzle' 'Racing'\n",
      " 'Role-Playing' 'Shooter' 'Simulation' 'Sports' 'Strategy']\n",
      "genre : кол-во NaN 0 , процент NaN 0.0 %\n",
      "-------------------------\n",
      "critic_score [13. 17. 19. 20. 21. 23. 24. 25. 26. 27. 28. 29. 30. 31. 32. 33. 34. 35.\n",
      " 36. 37. 38. 39. 40. 41. 42. 43. 44. 45. 46. 47. 48. 49. 50. 51. 52. 53.\n",
      " 54. 55. 56. 57. 58. 59. 60. 61. 62. 63. 64. 65. 66. 67. 68. 69. 70. 71.\n",
      " 72. 73. 74. 75. 76. 77. 78. 79. 80. 81. 82. 83. 84. 85. 86. 87. 88. 89.\n",
      " 90. 91. 92. 93. 94. 95. 96. 97. 98. nan]\n",
      "critic_score : кол-во NaN 8461 , процент NaN 51.45 %\n",
      "-------------------------\n",
      "user_score [0.  0.2 0.3 0.5 0.6 0.7 0.9 1.  1.1 1.2 1.3 1.4 1.5 1.6 1.7 1.8 1.9 2.\n",
      " 2.1 2.2 2.3 2.4 2.5 2.6 2.7 2.8 2.9 3.  3.1 3.2 3.3 3.4 3.5 3.6 3.7 3.8\n",
      " 3.9 4.  4.1 4.2 4.3 4.4 4.5 4.6 4.7 4.8 4.9 5.  5.1 5.2 5.3 5.4 5.5 5.6\n",
      " 5.7 5.8 5.9 6.  6.1 6.2 6.3 6.4 6.5 6.6 6.7 6.8 6.9 7.  7.1 7.2 7.3 7.4\n",
      " 7.5 7.6 7.7 7.8 7.9 8.  8.1 8.2 8.3 8.4 8.5 8.6 8.7 8.8 8.9 9.  9.1 9.2\n",
      " 9.3 9.4 9.5 9.6 9.7 nan]\n",
      "user_score : кол-во NaN 8981 , процент NaN 54.62 %\n",
      "-------------------------\n",
      "rating ['' 'AO' 'E' 'E10+' 'EC' 'K-A' 'M' 'RP' 'T']\n",
      "rating : кол-во NaN 0 , процент NaN 0.0 %\n"
     ]
    }
   ],
   "source": [
    "# Комментарий ревьюера\n",
    "# Посмотрим, что у нас осталось\n",
    "temp = games.copy() \n",
    "list_c = ['name', 'platform', 'year_of_release', 'genre', 'critic_score', 'user_score', 'rating']\n",
    "print(temp.info())\n",
    "for col_l in list_c:\n",
    "  print('-'* 25)\n",
    "  print(col_l, temp[col_l].sort_values().unique())\n",
    "  print(col_l,': кол-во NaN',temp[col_l].isna().sum(),\n",
    "        ', процент NaN', round(temp[col_l].isna().sum()/len(temp)*100, 2),'%')"
   ]
  },
  {
   "cell_type": "markdown",
   "metadata": {},
   "source": [
    "## Исследовательский анализ данных"
   ]
  },
  {
   "cell_type": "markdown",
   "metadata": {},
   "source": [
    "### Изучим, сколько игр выпускалось в разные годы"
   ]
  },
  {
   "cell_type": "code",
   "execution_count": 21,
   "metadata": {},
   "outputs": [
    {
     "data": {
      "image/png": "[encoded data removed]",
      "text/plain": [
       "<Figure size 432x288 with 1 Axes>"
      ]
     },
     "metadata": {
      "needs_background": "light"
     },
     "output_type": "display_data"
    }
   ],
   "source": [
    "games.hist('year_of_release', bins=37)\n",
    "plt.ylabel('Кол-во выпущенных игр')\n",
    "plt.show()"
   ]
  },
  {
   "cell_type": "markdown",
   "metadata": {},
   "source": [
    "По гистограмме можно сказать, что игровая индустрия начала сильно развиваться с середины 90-х годов. Больше всего игр было выпущено с 2007 по 2011 год. С 2012 заметен резкий спад. Это связано с тем, что из-за технологического прогресса многие игры перестали выпускаться на устаревшие платформы. "
   ]
  },
  {
   "cell_type": "markdown",
   "metadata": {},
   "source": [
    "### Изучим, как менялись продажи по платформам"
   ]
  },
  {
   "cell_type": "code",
   "execution_count": 22,
   "metadata": {
    "scrolled": false
   },
   "outputs": [
    {
     "data": {
      "image/png": "[encoded data removed]",
      "text/plain": [
       "<Figure size 1080x360 with 1 Axes>"
      ]
     },
     "metadata": {
      "needs_background": "light"
     },
     "output_type": "display_data"
    }
   ],
   "source": [
    "#построим график продаж по платформам за всё время\n",
    "from matplotlib import cm\n",
    "color = cm.inferno_r(np.linspace(.4, .8, 30))\n",
    "\n",
    "a_p = games.groupby('platform')['all_sales'].sum().sort_values(ascending=False)\n",
    "a_p.plot(x='platform', y='all_sales', kind='bar', color=color, figsize=(15, 5), title='Продажи по платформам за всё время')\n",
    "plt.xlabel('Платформа')\n",
    "plt.ylabel('Количество продаж')\n",
    "plt.show()"
   ]
  },
  {
   "cell_type": "markdown",
   "metadata": {},
   "source": [
    "По графику видно, что топ 5 игровых платформ за всё время это PS2, X360, PS3, Wii, DS."
   ]
  },
  {
   "cell_type": "markdown",
   "metadata": {},
   "source": [
    "Поскольку нам нужно сделать ставку на потенциально популярные продукты, то в дальнейшем исследовании будем учитывать данные с 2013 года, ибо в 2013 вышло новое поколение самых популярных платформ. "
   ]
  },
  {
   "cell_type": "markdown",
   "metadata": {},
   "source": [
    "### Изучим, какие платформы лидируют по продажам, растут и падают"
   ]
  },
  {
   "cell_type": "code",
   "execution_count": 23,
   "metadata": {},
   "outputs": [
    {
     "data": {
      "text/html": [
       "<div>\n",
       "<style scoped>\n",
       "    .dataframe tbody tr th:only-of-type {\n",
       "        vertical-align: middle;\n",
       "    }\n",
       "\n",
       "    .dataframe tbody tr th {\n",
       "        vertical-align: top;\n",
       "    }\n",
       "\n",
       "    .dataframe thead th {\n",
       "        text-align: right;\n",
       "    }\n",
       "</style>\n",
       "<table border=\"1\" class=\"dataframe\">\n",
       "  <thead>\n",
       "    <tr style=\"text-align: right;\">\n",
       "      <th>platform</th>\n",
       "      <th>3DS</th>\n",
       "      <th>DS</th>\n",
       "      <th>PC</th>\n",
       "      <th>PS3</th>\n",
       "      <th>PS4</th>\n",
       "      <th>PSP</th>\n",
       "      <th>PSV</th>\n",
       "      <th>Wii</th>\n",
       "      <th>WiiU</th>\n",
       "      <th>X360</th>\n",
       "      <th>XOne</th>\n",
       "    </tr>\n",
       "    <tr>\n",
       "      <th>year_of_release</th>\n",
       "      <th></th>\n",
       "      <th></th>\n",
       "      <th></th>\n",
       "      <th></th>\n",
       "      <th></th>\n",
       "      <th></th>\n",
       "      <th></th>\n",
       "      <th></th>\n",
       "      <th></th>\n",
       "      <th></th>\n",
       "      <th></th>\n",
       "    </tr>\n",
       "  </thead>\n",
       "  <tbody>\n",
       "    <tr>\n",
       "      <th>2012</th>\n",
       "      <td>51.36</td>\n",
       "      <td>11.01</td>\n",
       "      <td>23.22</td>\n",
       "      <td>107.36</td>\n",
       "      <td>NaN</td>\n",
       "      <td>7.69</td>\n",
       "      <td>16.19</td>\n",
       "      <td>21.71</td>\n",
       "      <td>17.56</td>\n",
       "      <td>99.74</td>\n",
       "      <td>NaN</td>\n",
       "    </tr>\n",
       "    <tr>\n",
       "      <th>2013</th>\n",
       "      <td>56.57</td>\n",
       "      <td>1.54</td>\n",
       "      <td>12.38</td>\n",
       "      <td>113.25</td>\n",
       "      <td>25.99</td>\n",
       "      <td>3.14</td>\n",
       "      <td>10.59</td>\n",
       "      <td>8.59</td>\n",
       "      <td>21.65</td>\n",
       "      <td>88.58</td>\n",
       "      <td>18.96</td>\n",
       "    </tr>\n",
       "    <tr>\n",
       "      <th>2014</th>\n",
       "      <td>43.76</td>\n",
       "      <td>NaN</td>\n",
       "      <td>13.28</td>\n",
       "      <td>47.76</td>\n",
       "      <td>100.00</td>\n",
       "      <td>0.24</td>\n",
       "      <td>11.90</td>\n",
       "      <td>3.75</td>\n",
       "      <td>22.03</td>\n",
       "      <td>34.74</td>\n",
       "      <td>54.07</td>\n",
       "    </tr>\n",
       "    <tr>\n",
       "      <th>2015</th>\n",
       "      <td>27.78</td>\n",
       "      <td>NaN</td>\n",
       "      <td>8.52</td>\n",
       "      <td>16.82</td>\n",
       "      <td>118.90</td>\n",
       "      <td>0.12</td>\n",
       "      <td>6.25</td>\n",
       "      <td>1.14</td>\n",
       "      <td>16.35</td>\n",
       "      <td>11.96</td>\n",
       "      <td>60.14</td>\n",
       "    </tr>\n",
       "    <tr>\n",
       "      <th>2016</th>\n",
       "      <td>15.14</td>\n",
       "      <td>NaN</td>\n",
       "      <td>5.25</td>\n",
       "      <td>3.60</td>\n",
       "      <td>69.25</td>\n",
       "      <td>NaN</td>\n",
       "      <td>4.25</td>\n",
       "      <td>0.18</td>\n",
       "      <td>4.60</td>\n",
       "      <td>1.52</td>\n",
       "      <td>26.15</td>\n",
       "    </tr>\n",
       "  </tbody>\n",
       "</table>\n",
       "</div>"
      ],
      "text/plain": [
       "platform           3DS     DS     PC     PS3     PS4   PSP    PSV    Wii  \\\n",
       "year_of_release                                                            \n",
       "2012             51.36  11.01  23.22  107.36     NaN  7.69  16.19  21.71   \n",
       "2013             56.57   1.54  12.38  113.25   25.99  3.14  10.59   8.59   \n",
       "2014             43.76    NaN  13.28   47.76  100.00  0.24  11.90   3.75   \n",
       "2015             27.78    NaN   8.52   16.82  118.90  0.12   6.25   1.14   \n",
       "2016             15.14    NaN   5.25    3.60   69.25   NaN   4.25   0.18   \n",
       "\n",
       "platform          WiiU   X360   XOne  \n",
       "year_of_release                       \n",
       "2012             17.56  99.74    NaN  \n",
       "2013             21.65  88.58  18.96  \n",
       "2014             22.03  34.74  54.07  \n",
       "2015             16.35  11.96  60.14  \n",
       "2016              4.60   1.52  26.15  "
      ]
     },
     "execution_count": 23,
     "metadata": {},
     "output_type": "execute_result"
    }
   ],
   "source": [
    "#сделаем срез с 2012 года и посмотрим на продажи игр по платформам\n",
    "(games\n",
    " .query('year_of_release >= 2012')\n",
    " .pivot_table(index='year_of_release', columns='platform', values='all_sales', aggfunc='sum'))"
   ]
  },
  {
   "cell_type": "markdown",
   "metadata": {},
   "source": [
    "Исходя из полученных данных можно сказать следующее:\n",
    "\n",
    "* PS4, XOne, PC, 3DS, WiiU - самые популярные платформы, на которые нужно ориентироваться. PS4 очень сильно лидирует по продажам.\n",
    "* На PC хоть и заметно, что суммарные продажи падают с каждым годом, но исключать PC не будем, ибо многие игры выходят помимо актуальных консолей ещё и на PC. Просто консоли имеют большую популярность.\n",
    "* 3DS и WiiU хоть и имеет много продаж, но в 2016 был слишком сильный спад. Есть вероятность, что в 2017 этот спад только продолжится.\n",
    "* DS и PSP можно больше не рассматривать, ибо их поддержка прекратилась. Wii также можно не рассматривать.\n",
    "* PS3, X360 не рассматриваем в дальнейшем, ибо являются устаревшим поколением.\n",
    "* PSV с каждым годом всё менее актуальны, скорее всего, в 2017 спад продолжится."
   ]
  },
  {
   "cell_type": "code",
   "execution_count": 24,
   "metadata": {},
   "outputs": [
    {
     "data": {
      "text/html": [
       "<div>\n",
       "<style scoped>\n",
       "    .dataframe tbody tr th:only-of-type {\n",
       "        vertical-align: middle;\n",
       "    }\n",
       "\n",
       "    .dataframe tbody tr th {\n",
       "        vertical-align: top;\n",
       "    }\n",
       "\n",
       "    .dataframe thead th {\n",
       "        text-align: right;\n",
       "    }\n",
       "</style>\n",
       "<table border=\"1\" class=\"dataframe\">\n",
       "  <thead>\n",
       "    <tr style=\"text-align: right;\">\n",
       "      <th></th>\n",
       "      <th>name</th>\n",
       "      <th>platform</th>\n",
       "      <th>year_of_release</th>\n",
       "      <th>genre</th>\n",
       "      <th>na_sales</th>\n",
       "      <th>eu_sales</th>\n",
       "      <th>jp_sales</th>\n",
       "      <th>other_sales</th>\n",
       "      <th>critic_score</th>\n",
       "      <th>user_score</th>\n",
       "      <th>rating</th>\n",
       "      <th>all_sales</th>\n",
       "    </tr>\n",
       "  </thead>\n",
       "  <tbody>\n",
       "    <tr>\n",
       "      <th>16</th>\n",
       "      <td>Grand Theft Auto V</td>\n",
       "      <td>PS3</td>\n",
       "      <td>2013</td>\n",
       "      <td>Action</td>\n",
       "      <td>7.02</td>\n",
       "      <td>9.09</td>\n",
       "      <td>0.98</td>\n",
       "      <td>3.96</td>\n",
       "      <td>97.0</td>\n",
       "      <td>8.2</td>\n",
       "      <td>M</td>\n",
       "      <td>21.05</td>\n",
       "    </tr>\n",
       "    <tr>\n",
       "      <th>23</th>\n",
       "      <td>Grand Theft Auto V</td>\n",
       "      <td>X360</td>\n",
       "      <td>2013</td>\n",
       "      <td>Action</td>\n",
       "      <td>9.66</td>\n",
       "      <td>5.14</td>\n",
       "      <td>0.06</td>\n",
       "      <td>1.41</td>\n",
       "      <td>97.0</td>\n",
       "      <td>8.1</td>\n",
       "      <td>M</td>\n",
       "      <td>16.27</td>\n",
       "    </tr>\n",
       "    <tr>\n",
       "      <th>31</th>\n",
       "      <td>Call of Duty: Black Ops 3</td>\n",
       "      <td>PS4</td>\n",
       "      <td>2015</td>\n",
       "      <td>Shooter</td>\n",
       "      <td>6.03</td>\n",
       "      <td>5.86</td>\n",
       "      <td>0.36</td>\n",
       "      <td>2.38</td>\n",
       "      <td>NaN</td>\n",
       "      <td>NaN</td>\n",
       "      <td></td>\n",
       "      <td>14.63</td>\n",
       "    </tr>\n",
       "    <tr>\n",
       "      <th>33</th>\n",
       "      <td>Pokemon X/Pokemon Y</td>\n",
       "      <td>3DS</td>\n",
       "      <td>2013</td>\n",
       "      <td>Role-Playing</td>\n",
       "      <td>5.28</td>\n",
       "      <td>4.19</td>\n",
       "      <td>4.35</td>\n",
       "      <td>0.78</td>\n",
       "      <td>NaN</td>\n",
       "      <td>NaN</td>\n",
       "      <td></td>\n",
       "      <td>14.60</td>\n",
       "    </tr>\n",
       "    <tr>\n",
       "      <th>34</th>\n",
       "      <td>Call of Duty: Black Ops II</td>\n",
       "      <td>PS3</td>\n",
       "      <td>2012</td>\n",
       "      <td>Shooter</td>\n",
       "      <td>4.99</td>\n",
       "      <td>5.73</td>\n",
       "      <td>0.65</td>\n",
       "      <td>2.42</td>\n",
       "      <td>83.0</td>\n",
       "      <td>5.3</td>\n",
       "      <td>M</td>\n",
       "      <td>13.79</td>\n",
       "    </tr>\n",
       "    <tr>\n",
       "      <th>35</th>\n",
       "      <td>Call of Duty: Black Ops II</td>\n",
       "      <td>X360</td>\n",
       "      <td>2012</td>\n",
       "      <td>Shooter</td>\n",
       "      <td>8.25</td>\n",
       "      <td>4.24</td>\n",
       "      <td>0.07</td>\n",
       "      <td>1.12</td>\n",
       "      <td>83.0</td>\n",
       "      <td>4.8</td>\n",
       "      <td>M</td>\n",
       "      <td>13.68</td>\n",
       "    </tr>\n",
       "    <tr>\n",
       "      <th>42</th>\n",
       "      <td>Grand Theft Auto V</td>\n",
       "      <td>PS4</td>\n",
       "      <td>2014</td>\n",
       "      <td>Action</td>\n",
       "      <td>3.96</td>\n",
       "      <td>6.31</td>\n",
       "      <td>0.38</td>\n",
       "      <td>1.97</td>\n",
       "      <td>97.0</td>\n",
       "      <td>8.3</td>\n",
       "      <td>M</td>\n",
       "      <td>12.62</td>\n",
       "    </tr>\n",
       "    <tr>\n",
       "      <th>47</th>\n",
       "      <td>Pokemon Omega Ruby/Pokemon Alpha Sapphire</td>\n",
       "      <td>3DS</td>\n",
       "      <td>2014</td>\n",
       "      <td>Role-Playing</td>\n",
       "      <td>4.35</td>\n",
       "      <td>3.49</td>\n",
       "      <td>3.10</td>\n",
       "      <td>0.74</td>\n",
       "      <td>NaN</td>\n",
       "      <td>NaN</td>\n",
       "      <td></td>\n",
       "      <td>11.68</td>\n",
       "    </tr>\n",
       "    <tr>\n",
       "      <th>60</th>\n",
       "      <td>Call of Duty: Ghosts</td>\n",
       "      <td>X360</td>\n",
       "      <td>2013</td>\n",
       "      <td>Shooter</td>\n",
       "      <td>6.73</td>\n",
       "      <td>2.56</td>\n",
       "      <td>0.04</td>\n",
       "      <td>0.91</td>\n",
       "      <td>73.0</td>\n",
       "      <td>2.6</td>\n",
       "      <td>M</td>\n",
       "      <td>10.24</td>\n",
       "    </tr>\n",
       "    <tr>\n",
       "      <th>62</th>\n",
       "      <td>New Super Mario Bros. 2</td>\n",
       "      <td>3DS</td>\n",
       "      <td>2012</td>\n",
       "      <td>Platform</td>\n",
       "      <td>3.66</td>\n",
       "      <td>3.14</td>\n",
       "      <td>2.47</td>\n",
       "      <td>0.63</td>\n",
       "      <td>78.0</td>\n",
       "      <td>7.2</td>\n",
       "      <td>E</td>\n",
       "      <td>9.90</td>\n",
       "    </tr>\n",
       "  </tbody>\n",
       "</table>\n",
       "</div>"
      ],
      "text/plain": [
       "                                         name platform  year_of_release  \\\n",
       "16                         Grand Theft Auto V      PS3             2013   \n",
       "23                         Grand Theft Auto V     X360             2013   \n",
       "31                  Call of Duty: Black Ops 3      PS4             2015   \n",
       "33                        Pokemon X/Pokemon Y      3DS             2013   \n",
       "34                 Call of Duty: Black Ops II      PS3             2012   \n",
       "35                 Call of Duty: Black Ops II     X360             2012   \n",
       "42                         Grand Theft Auto V      PS4             2014   \n",
       "47  Pokemon Omega Ruby/Pokemon Alpha Sapphire      3DS             2014   \n",
       "60                       Call of Duty: Ghosts     X360             2013   \n",
       "62                    New Super Mario Bros. 2      3DS             2012   \n",
       "\n",
       "           genre  na_sales  eu_sales  jp_sales  other_sales  critic_score  \\\n",
       "16        Action      7.02      9.09      0.98         3.96          97.0   \n",
       "23        Action      9.66      5.14      0.06         1.41          97.0   \n",
       "31       Shooter      6.03      5.86      0.36         2.38           NaN   \n",
       "33  Role-Playing      5.28      4.19      4.35         0.78           NaN   \n",
       "34       Shooter      4.99      5.73      0.65         2.42          83.0   \n",
       "35       Shooter      8.25      4.24      0.07         1.12          83.0   \n",
       "42        Action      3.96      6.31      0.38         1.97          97.0   \n",
       "47  Role-Playing      4.35      3.49      3.10         0.74           NaN   \n",
       "60       Shooter      6.73      2.56      0.04         0.91          73.0   \n",
       "62      Platform      3.66      3.14      2.47         0.63          78.0   \n",
       "\n",
       "    user_score rating  all_sales  \n",
       "16         8.2      M      21.05  \n",
       "23         8.1      M      16.27  \n",
       "31         NaN             14.63  \n",
       "33         NaN             14.60  \n",
       "34         5.3      M      13.79  \n",
       "35         4.8      M      13.68  \n",
       "42         8.3      M      12.62  \n",
       "47         NaN             11.68  \n",
       "60         2.6      M      10.24  \n",
       "62         7.2      E       9.90  "
      ]
     },
     "execution_count": 24,
     "metadata": {},
     "output_type": "execute_result"
    }
   ],
   "source": [
    "#создадим таблицу за актуальный период\n",
    "actual_games = (games\n",
    "                .query('year_of_release >= 2012 and platform == [\"PS4\", \"XOne\", \"PC\", \"3DS\", \"WiiU\"]'))\n",
    "actual_games.head(10)"
   ]
  },
  {
   "cell_type": "markdown",
   "metadata": {},
   "source": [
    "### Построим график «ящик с усами» по глобальным продажам игр в разбивке по платформам"
   ]
  },
  {
   "cell_type": "code",
   "execution_count": 25,
   "metadata": {
    "scrolled": false
   },
   "outputs": [
    {
     "data": {
      "image/png": "[encoded data removed]",
      "text/plain": [
       "<Figure size 1080x504 with 1 Axes>"
      ]
     },
     "metadata": {
      "needs_background": "light"
     },
     "output_type": "display_data"
    }
   ],
   "source": [
    "#создадим диаграмму размаха глобальных продаж игр по платформам\n",
    "actual_games.boxplot(column='all_sales', by='platform', figsize=(15, 7))\n",
    "plt.xlabel('Платформы')\n",
    "plt.ylabel('Количество проданных игр(млн.)')\n",
    "plt.show()"
   ]
  },
  {
   "cell_type": "markdown",
   "metadata": {},
   "source": [
    "Можно заметить, что большая часть значений у PS4, Xbox one и WiiU ± одинаковая. Выделим PS4 и 3DS, ибо у них есть отдельные игры, которые продаются очень большим тиражом. "
   ]
  },
  {
   "cell_type": "code",
   "execution_count": 26,
   "metadata": {},
   "outputs": [
    {
     "data": {
      "image/png": "[encoded data removed]",
      "text/plain": [
       "<Figure size 1080x504 with 1 Axes>"
      ]
     },
     "metadata": {
      "needs_background": "light"
     },
     "output_type": "display_data"
    }
   ],
   "source": [
    "#создадим ещё одну диаграмму размаха\n",
    "actual_games.boxplot(column='all_sales', by='platform', figsize=(15, 7))\n",
    "plt.ylim(0, 2)\n",
    "plt.xlabel('Платформы')\n",
    "plt.ylabel('Количество проданных игр(млн.)')\n",
    "plt.show()"
   ]
  },
  {
   "cell_type": "markdown",
   "metadata": {},
   "source": [
    "Из диаграммы размахы мы видим, что самыми прибыльными платформами являются PS3, PS4, Wii, WiiU, X360, Xone, ибо их медиана самая большая. Но нужно учесть, что PS3, X360 и Wii уже устаревшие платформы, и для итогового результата они нам не понадобятся"
   ]
  },
  {
   "cell_type": "markdown",
   "metadata": {},
   "source": [
    "### Посмотрим, как влияют на продажи внутри одной популярной платформы отзывы пользователей и критиков"
   ]
  },
  {
   "cell_type": "code",
   "execution_count": 27,
   "metadata": {},
   "outputs": [
    {
     "name": "stdout",
     "output_type": "stream",
     "text": [
      "Коэффициент корреляции между отзывами пользователей и продажами для PS4: -0.031957110204556376\n",
      "Коэффициент корреляции между отзывами критиков и продажами для PS4: 0.406567902061781\n"
     ]
    },
    {
     "data": {
      "image/png": "[encoded data removed]",
      "text/plain": [
       "<Figure size 864x288 with 1 Axes>"
      ]
     },
     "metadata": {
      "needs_background": "light"
     },
     "output_type": "display_data"
    },
    {
     "data": {
      "image/png": "[encoded data removed]",
      "text/plain": [
       "<Figure size 864x288 with 1 Axes>"
      ]
     },
     "metadata": {
      "needs_background": "light"
     },
     "output_type": "display_data"
    }
   ],
   "source": [
    "def display_diag_corr(platform: str):\n",
    "    scores = actual_games.query('platform == @platform')\n",
    "    color = cm.inferno_r(np.linspace(.4, .8, len(scores)))\n",
    "    dictionary = {'user_score': 'пользователей', 'critic_score': 'критиков'}    \n",
    "    for score, name in dictionary.items():\n",
    "        scores.plot(x='all_sales', y=score, kind='scatter', color=color, figsize=(12, 4), alpha=0.5)\n",
    "        plt.xlabel('Количество проданных игр(млн.)')\n",
    "        plt.ylabel(f'Оценки {name}')\n",
    "        \n",
    "        print(f'Коэффициент корреляции между отзывами {name} и продажами для {platform}:'\\\n",
    "        ,scores['all_sales'].corr(scores[score]))\n",
    "    \n",
    "display_diag_corr('PS4') "
   ]
  },
  {
   "cell_type": "markdown",
   "metadata": {},
   "source": [
    "Можно сказать следующее:\n",
    "\n",
    "- Самые частые оценки пользователей от 6 до 8.5\n",
    "- Обычные игроки более придирчивы к играм. Они могут поставить низкие оценки, но игра всё равно продастся большим тиражом.\n",
    "- Отрицательная корреляция близкая к нулю говорит о том, продажи практически никак не связаны с отзывами пользователей.\n",
    "- Самые часты оценки критиков от 60 до 82\n",
    "- Корреляция в 0.40 говорит о наличии слабой связи между отзывами критиков и продажами.\n",
    "\n",
    "Соотнесём выводы с продажами игр на других платформах\n",
    "\n"
   ]
  },
  {
   "cell_type": "code",
   "execution_count": 28,
   "metadata": {},
   "outputs": [
    {
     "name": "stdout",
     "output_type": "stream",
     "text": [
      "Коэффициент корреляции между отзывами пользователей и продажами для XOne: -0.06892505328279412\n",
      "Коэффициент корреляции между отзывами критиков и продажами для XOne: 0.41699832800840175\n"
     ]
    },
    {
     "data": {
      "image/png": "[encoded data removed]",
      "text/plain": [
       "<Figure size 864x288 with 1 Axes>"
      ]
     },
     "metadata": {
      "needs_background": "light"
     },
     "output_type": "display_data"
    },
    {
     "data": {
      "image/png": "[encoded data removed]",
      "text/plain": [
       "<Figure size 864x288 with 1 Axes>"
      ]
     },
     "metadata": {
      "needs_background": "light"
     },
     "output_type": "display_data"
    }
   ],
   "source": [
    "display_diag_corr('XOne') "
   ]
  },
  {
   "cell_type": "code",
   "execution_count": 29,
   "metadata": {},
   "outputs": [
    {
     "name": "stdout",
     "output_type": "stream",
     "text": [
      "Коэффициент корреляции между отзывами пользователей и продажами для PC: -0.12186747630735577\n",
      "Коэффициент корреляции между отзывами критиков и продажами для PC: 0.23724324311567918\n"
     ]
    },
    {
     "data": {
      "image/png": "[encoded data removed]",
      "text/plain": [
       "<Figure size 864x288 with 1 Axes>"
      ]
     },
     "metadata": {
      "needs_background": "light"
     },
     "output_type": "display_data"
    },
    {
     "data": {
      "image/png": "[encoded data removed]",
      "text/plain": [
       "<Figure size 864x288 with 1 Axes>"
      ]
     },
     "metadata": {
      "needs_background": "light"
     },
     "output_type": "display_data"
    }
   ],
   "source": [
    "display_diag_corr('PC') "
   ]
  },
  {
   "cell_type": "code",
   "execution_count": 30,
   "metadata": {},
   "outputs": [
    {
     "name": "stdout",
     "output_type": "stream",
     "text": [
      "Коэффициент корреляции между отзывами пользователей и продажами для WiiU: 0.4002190202148617\n",
      "Коэффициент корреляции между отзывами критиков и продажами для WiiU: 0.3483797601201749\n"
     ]
    },
    {
     "data": {
      "image/png": "[encoded data removed]",
      "text/plain": [
       "<Figure size 864x288 with 1 Axes>"
      ]
     },
     "metadata": {
      "needs_background": "light"
     },
     "output_type": "display_data"
    },
    {
     "data": {
      "image/png": "[encoded data removed]",
      "text/plain": [
       "<Figure size 864x288 with 1 Axes>"
      ]
     },
     "metadata": {
      "needs_background": "light"
     },
     "output_type": "display_data"
    }
   ],
   "source": [
    "display_diag_corr('WiiU')"
   ]
  },
  {
   "cell_type": "code",
   "execution_count": 31,
   "metadata": {},
   "outputs": [
    {
     "name": "stdout",
     "output_type": "stream",
     "text": [
      "Коэффициент корреляции между отзывами пользователей и продажами для 3DS: 0.19758263411038596\n",
      "Коэффициент корреляции между отзывами критиков и продажами для 3DS: 0.32080286953607845\n"
     ]
    },
    {
     "data": {
      "image/png": "[encoded data removed]",
      "text/plain": [
       "<Figure size 864x288 with 1 Axes>"
      ]
     },
     "metadata": {
      "needs_background": "light"
     },
     "output_type": "display_data"
    },
    {
     "data": {
      "image/png": "[encoded data removed]",
      "text/plain": [
       "<Figure size 864x288 with 1 Axes>"
      ]
     },
     "metadata": {
      "needs_background": "light"
     },
     "output_type": "display_data"
    }
   ],
   "source": [
    "display_diag_corr('3DS')"
   ]
  },
  {
   "cell_type": "markdown",
   "metadata": {},
   "source": [
    "Изучив все данные мы видим:\n",
    "\n",
    "* Для всех изученных платформ оценки критиков влияют на продажи.\n",
    "* Сильнее всего оценки игроков имеют влияние на продажи игр для WiiU, следом идёт 3DS.\n",
    "* Для PS4, Xbox One, PC оценки игроков практически не влияют на продажи.\n",
    "* Сильнее всего оценки критиков влияют на продажи игр для PS4 и Xbox One, а меньше всего для PC."
   ]
  },
  {
   "cell_type": "markdown",
   "metadata": {},
   "source": [
    "### Посмотрим на общее распределение игр по жанрам"
   ]
  },
  {
   "cell_type": "code",
   "execution_count": 32,
   "metadata": {},
   "outputs": [
    {
     "data": {
      "image/png": "[encoded data removed]",
      "text/plain": [
       "<Figure size 1080x360 with 1 Axes>"
      ]
     },
     "metadata": {
      "needs_background": "light"
     },
     "output_type": "display_data"
    }
   ],
   "source": [
    "#посмотрим на общее количество выпущенных игр по жанрам\n",
    "actual_games['genre'].hist(bins=30, figsize=(15, 5))\n",
    "plt.show()"
   ]
  },
  {
   "cell_type": "markdown",
   "metadata": {},
   "source": [
    "Самое большое количество выпущенных игр было в жанре экшен. Количество шутеров вышло немного больше, нежели ролевых, спортивных, приключенческих и гоночных игр. Меньше всего выпускалось пазлов.\n",
    "\n",
    "Количество выпущенных игр по жанрам мы узнали, а теперь посмотрим на самые прибыльные жанры."
   ]
  },
  {
   "cell_type": "code",
   "execution_count": 33,
   "metadata": {
    "scrolled": false
   },
   "outputs": [
    {
     "data": {
      "text/html": [
       "<div>\n",
       "<style scoped>\n",
       "    .dataframe tbody tr th:only-of-type {\n",
       "        vertical-align: middle;\n",
       "    }\n",
       "\n",
       "    .dataframe tbody tr th {\n",
       "        vertical-align: top;\n",
       "    }\n",
       "\n",
       "    .dataframe thead th {\n",
       "        text-align: right;\n",
       "    }\n",
       "</style>\n",
       "<table border=\"1\" class=\"dataframe\">\n",
       "  <thead>\n",
       "    <tr style=\"text-align: right;\">\n",
       "      <th></th>\n",
       "      <th>all_sales</th>\n",
       "    </tr>\n",
       "    <tr>\n",
       "      <th>genre</th>\n",
       "      <th></th>\n",
       "    </tr>\n",
       "  </thead>\n",
       "  <tbody>\n",
       "    <tr>\n",
       "      <th>Action</th>\n",
       "      <td>441.12</td>\n",
       "    </tr>\n",
       "    <tr>\n",
       "      <th>Shooter</th>\n",
       "      <td>304.73</td>\n",
       "    </tr>\n",
       "    <tr>\n",
       "      <th>Role-Playing</th>\n",
       "      <td>192.80</td>\n",
       "    </tr>\n",
       "    <tr>\n",
       "      <th>Sports</th>\n",
       "      <td>181.07</td>\n",
       "    </tr>\n",
       "    <tr>\n",
       "      <th>Misc</th>\n",
       "      <td>85.04</td>\n",
       "    </tr>\n",
       "    <tr>\n",
       "      <th>Platform</th>\n",
       "      <td>61.00</td>\n",
       "    </tr>\n",
       "    <tr>\n",
       "      <th>Racing</th>\n",
       "      <td>53.50</td>\n",
       "    </tr>\n",
       "    <tr>\n",
       "      <th>Fighting</th>\n",
       "      <td>44.49</td>\n",
       "    </tr>\n",
       "    <tr>\n",
       "      <th>Simulation</th>\n",
       "      <td>35.12</td>\n",
       "    </tr>\n",
       "    <tr>\n",
       "      <th>Adventure</th>\n",
       "      <td>29.43</td>\n",
       "    </tr>\n",
       "    <tr>\n",
       "      <th>Strategy</th>\n",
       "      <td>13.34</td>\n",
       "    </tr>\n",
       "    <tr>\n",
       "      <th>Puzzle</th>\n",
       "      <td>4.89</td>\n",
       "    </tr>\n",
       "  </tbody>\n",
       "</table>\n",
       "</div>"
      ],
      "text/plain": [
       "              all_sales\n",
       "genre                  \n",
       "Action           441.12\n",
       "Shooter          304.73\n",
       "Role-Playing     192.80\n",
       "Sports           181.07\n",
       "Misc              85.04\n",
       "Platform          61.00\n",
       "Racing            53.50\n",
       "Fighting          44.49\n",
       "Simulation        35.12\n",
       "Adventure         29.43\n",
       "Strategy          13.34\n",
       "Puzzle             4.89"
      ]
     },
     "execution_count": 33,
     "metadata": {},
     "output_type": "execute_result"
    }
   ],
   "source": [
    "#посчитаем общее количество продаж по жанрам\n",
    "a_g = (actual_games\n",
    "       .pivot_table(index='genre', values='all_sales', aggfunc='sum')\n",
    "       .sort_values('all_sales', ascending=False))\n",
    "a_g"
   ]
  },
  {
   "cell_type": "code",
   "execution_count": 34,
   "metadata": {},
   "outputs": [
    {
     "data": {
      "image/png": "[encoded data removed]",
      "text/plain": [
       "<Figure size 1080x360 with 1 Axes>"
      ]
     },
     "metadata": {
      "needs_background": "light"
     },
     "output_type": "display_data"
    }
   ],
   "source": [
    "#построим линейный график для визуализации\n",
    "a_g.plot(style='o-', figsize=(15, 5), color='c', title = 'Продажи по жанрам')\n",
    "plt.xticks(np.arange(len(a_g)), actual_games['genre'].unique())\n",
    "plt.xlabel('Жанр')\n",
    "plt.show()"
   ]
  },
  {
   "cell_type": "markdown",
   "metadata": {},
   "source": [
    "По полученной таблице и графику мы видим:\n",
    "\n",
    "* Самый прибыльный жанр - шутер. Хоть экшен-игры и находятся рядом, но нужно учитывать, что их выпускалось в несколько раз больше. \n",
    "* Ролевые тоже очень популярны и на них стоит обратить внимание.\n",
    "* Спортивные игры тоже не стоит обходить стороной, хоть шутеры и пользуются большей популярностью. Но если будет стоять выбор между шутерами и спортивными, то лучше выбрать шутеры. \n",
    "* Гоночные игры продаются лучше, чем приключенческие"
   ]
  },
  {
   "cell_type": "code",
   "execution_count": 35,
   "metadata": {},
   "outputs": [
    {
     "data": {
      "image/png": "[encoded data removed]",
      "text/plain": [
       "<Figure size 1080x432 with 1 Axes>"
      ]
     },
     "metadata": {
      "needs_background": "light"
     },
     "output_type": "display_data"
    }
   ],
   "source": [
    "#сравним продажи по диаграмме размаха\n",
    "import seaborn as sns\n",
    "plt.figure(figsize=(15, 6))\n",
    "plt.ylim(0,5)\n",
    "sns.boxplot(x='genre', y='all_sales', data=actual_games)\n",
    "plt.show()"
   ]
  },
  {
   "cell_type": "markdown",
   "metadata": {},
   "source": [
    "По диаграмме размаха мы действительно видим, что шутеры являются самым прибыльным жанром, поскольку медиана самая большая из всех. Хуже всех продаются пазлы, приключения и стратегии, они имеют самый маленький размах. "
   ]
  },
  {
   "cell_type": "markdown",
   "metadata": {},
   "source": [
    "**Выводы**\n",
    "\n",
    "* В ходе исследования мы выяснили сколько игр выпускалось в разные годы.\n",
    "* Узнали какие платформы имели больше всего продаж за всё время - PS2, X360, PS3, Wii\n",
    "* Определили, что нам важны данные с 2013 года и только для популярных платформ - PS4, Xbox One, PC, 3DS, WiiU. \n",
    "* Поняли, что отзывы игроков практически не влияют на продажи, а вот отзывы критиков имеют небольшое влияние на продажи.  \n",
    "* Определили самые прибыльные жанры - Shooter, Role-Playing, Action, Sports"
   ]
  },
  {
   "cell_type": "markdown",
   "metadata": {},
   "source": [
    "## Составим портрет пользователя каждого региона (NA, EU, JP)"
   ]
  },
  {
   "cell_type": "markdown",
   "metadata": {},
   "source": [
    "### Самые популярные платформы и жанры (топ 5) в Северной Америке"
   ]
  },
  {
   "cell_type": "code",
   "execution_count": 36,
   "metadata": {},
   "outputs": [
    {
     "data": {
      "image/png": "[encoded data removed]",
      "text/plain": [
       "<Figure size 432x432 with 1 Axes>"
      ]
     },
     "metadata": {},
     "output_type": "display_data"
    }
   ],
   "source": [
    "#самые популярные платформы пользователей в Северной Америке\n",
    "colors = ['lightgreen', 'lightblue', 'pink', 'purple', 'gold']\n",
    "na_region = (actual_games\n",
    "             .groupby('platform')\n",
    "             .agg(na_sales=('na_sales', 'sum'))\n",
    "             .sort_values(by='na_sales', ascending=False)\n",
    "             .head()\n",
    "             .plot(y='na_sales', kind='pie', autopct='%1.1f%%', colors=colors, figsize=(6, 6), legend=False)\n",
    "            )\n",
    "plt.show()"
   ]
  },
  {
   "cell_type": "code",
   "execution_count": 37,
   "metadata": {},
   "outputs": [
    {
     "data": {
      "image/png": "[encoded data removed]",
      "text/plain": [
       "<Figure size 432x432 with 1 Axes>"
      ]
     },
     "metadata": {},
     "output_type": "display_data"
    }
   ],
   "source": [
    "#самые популярные жанры пользователей в Северной Америке\n",
    "colors = ['lightgreen', 'lightblue', 'pink', 'purple', 'gold']\n",
    "na_region = (actual_games\n",
    "             .groupby('genre')\n",
    "             .agg(na_sales=('na_sales', 'sum'))\n",
    "             .sort_values(by='na_sales', ascending=False)\n",
    "             .head()\n",
    "             .plot(y='na_sales', kind='pie', autopct='%1.1f%%', colors=colors, figsize=(6, 6), legend=False)\n",
    "            )\n",
    "plt.show()"
   ]
  },
  {
   "cell_type": "code",
   "execution_count": 38,
   "metadata": {},
   "outputs": [
    {
     "data": {
      "image/png": "[encoded data removed]",
      "text/plain": [
       "<Figure size 432x432 with 1 Axes>"
      ]
     },
     "metadata": {},
     "output_type": "display_data"
    }
   ],
   "source": [
    "#самые популярные игры по возрастному рейтингу в Северной Америке\n",
    "colors = ['lightgreen', 'lightblue', 'pink', 'purple', 'gold']\n",
    "(actual_games\n",
    " .groupby('rating')\n",
    " .agg(na_sales=('na_sales', 'sum'))\n",
    " .sort_values(by='na_sales', ascending=False)\n",
    " .head()\n",
    " .plot(y='na_sales', kind='pie', autopct='%1.1f%%', colors=colors, figsize=(6, 6), legend=False)\n",
    ")\n",
    "plt.show()"
   ]
  },
  {
   "cell_type": "markdown",
   "metadata": {},
   "source": [
    "Выводы по Северной Америке:\n",
    "\n",
    "1. Самые популярные платформы у игроков в Северной Америке - PS4, Xbox One. Причём заметно, что они занимают почти 2/3 всего рынка. Меньше всего доля пользователей на PC (6.1%)\n",
    "2. Самые популярные игры в жанре Action и Shooter\n",
    "3. Игры с рейтингом M (17+ лет) самые популярные (почти 33% продаж). Дальше следуют игры с рейтингом E (6+ лет) с долей в 20.4% продаж. Закрывают игры с рейтингом Е10+ и T (13+ лет), их доли продаж почти равны (12.4% и 11.9%)"
   ]
  },
  {
   "cell_type": "markdown",
   "metadata": {},
   "source": [
    "### Самые популярные платформы и жанры (топ 5) в Европе"
   ]
  },
  {
   "cell_type": "code",
   "execution_count": 39,
   "metadata": {},
   "outputs": [
    {
     "data": {
      "image/png": "[encoded data removed]",
      "text/plain": [
       "<Figure size 432x432 with 1 Axes>"
      ]
     },
     "metadata": {},
     "output_type": "display_data"
    }
   ],
   "source": [
    "#самые популярные платформы пользователей в Европе\n",
    "colors = ['lightgreen', 'lightblue', 'pink', 'purple', 'gold']\n",
    "eu_region = (actual_games\n",
    "             .groupby('platform')\n",
    "             .agg(eu_sales=('eu_sales', 'sum'))\n",
    "             .sort_values(by='eu_sales', ascending=False)\n",
    "             .head()\n",
    "             .plot(y='eu_sales', kind='pie', autopct='%1.1f%%', colors=colors, figsize=(6, 6))\n",
    "            )\n",
    "plt.show()"
   ]
  },
  {
   "cell_type": "code",
   "execution_count": 40,
   "metadata": {},
   "outputs": [
    {
     "data": {
      "image/png": "[encoded data removed]",
      "text/plain": [
       "<Figure size 432x432 with 1 Axes>"
      ]
     },
     "metadata": {},
     "output_type": "display_data"
    }
   ],
   "source": [
    "#самые популярные жанры в Европе\n",
    "colors = ['lightgreen', 'lightblue', 'pink', 'purple', 'gold']\n",
    "eu_region = (actual_games\n",
    "             .groupby('genre')\n",
    "             .agg(eu_sales=('eu_sales', 'sum'))\n",
    "             .sort_values(by='eu_sales', ascending=False)\n",
    "             .head()\n",
    "             .plot(y='eu_sales', kind='pie', autopct='%1.1f%%', colors=colors, figsize=(6, 6), legend=False)\n",
    "            )\n",
    "plt.show()"
   ]
  },
  {
   "cell_type": "code",
   "execution_count": 41,
   "metadata": {},
   "outputs": [
    {
     "data": {
      "image/png": "[encoded data removed]",
      "text/plain": [
       "<Figure size 432x432 with 1 Axes>"
      ]
     },
     "metadata": {},
     "output_type": "display_data"
    }
   ],
   "source": [
    "#самые популярные игры по возрастному рейтингу в Европе\n",
    "colors = ['lightgreen', 'lightblue', 'pink', 'purple', 'gold']\n",
    "eu_region = (actual_games\n",
    "             .groupby('rating')\n",
    "             .agg(eu_sales=('eu_sales', 'sum'))\n",
    "             .sort_values(by='eu_sales', ascending=False)\n",
    "             .head()\n",
    "             .plot(y='eu_sales', kind='pie', autopct='%1.1f%%', colors=colors, figsize=(6, 6), legend=False)\n",
    "            )\n",
    "plt.show()"
   ]
  },
  {
   "cell_type": "markdown",
   "metadata": {},
   "source": [
    "Выводы по Европе:\n",
    "\n",
    "1. Самая популярная платформа у игроков в Европе - PS4. На PS4 приходится почти 50% всех продаж. Меньше всего доля пользователей на WiiU (8.4%)\n",
    "2. Самые популярные игры в жанре Action и Shooter\n",
    "3. Игры с рейтингом M (17+ лет) самые популярные (34% продаж). Дальше следуют игры с рейтингом E (6+ лет) с долей в 22.6% продаж. Закрывают игры с рейтингом Е10+ и T (13+ лет), их доли продаж почти равны (9.6% и 11.6%)"
   ]
  },
  {
   "cell_type": "markdown",
   "metadata": {},
   "source": [
    "### Самые популярные платформы и жанры (топ 5) в Японии"
   ]
  },
  {
   "cell_type": "code",
   "execution_count": 42,
   "metadata": {},
   "outputs": [
    {
     "data": {
      "image/png": "[encoded data removed]",
      "text/plain": [
       "<Figure size 432x432 with 1 Axes>"
      ]
     },
     "metadata": {},
     "output_type": "display_data"
    }
   ],
   "source": [
    "#самые популярные платформы пользователей в Японии\n",
    "colors = ['lightgreen', 'lightblue', 'pink', 'purple', 'gold']\n",
    "jp_region = (actual_games\n",
    "             .groupby('platform')\n",
    "             .agg(jp_sales=('jp_sales', 'sum'))\n",
    "             .sort_values(by='jp_sales', ascending=False)\n",
    "             .head()\n",
    "             .plot(y='jp_sales', kind='pie', autopct='%1.1f%%', colors=colors, figsize=(6, 6))\n",
    "            )\n",
    "plt.show()"
   ]
  },
  {
   "cell_type": "code",
   "execution_count": 43,
   "metadata": {},
   "outputs": [
    {
     "data": {
      "image/png": "[encoded data removed]",
      "text/plain": [
       "<Figure size 432x432 with 1 Axes>"
      ]
     },
     "metadata": {},
     "output_type": "display_data"
    }
   ],
   "source": [
    "#самые популярные жанры в Японии\n",
    "colors = ['lightgreen', 'lightblue', 'pink', 'purple', 'gold']\n",
    "jp_region = (actual_games\n",
    "             .groupby('genre')\n",
    "             .agg(jp_sales=('jp_sales', 'sum'))\n",
    "             .sort_values(by='jp_sales', ascending=False)\n",
    "             .head()\n",
    "             .plot(y='jp_sales', kind='pie', autopct='%1.1f%%', colors=colors, figsize=(6, 6), legend=False)\n",
    "            )\n",
    "plt.show()"
   ]
  },
  {
   "cell_type": "code",
   "execution_count": 44,
   "metadata": {},
   "outputs": [
    {
     "data": {
      "image/png": "[encoded data removed]",
      "text/plain": [
       "<Figure size 432x432 with 1 Axes>"
      ]
     },
     "metadata": {},
     "output_type": "display_data"
    }
   ],
   "source": [
    "#самые популярные игры по возрастному рейтингу в Японии\n",
    "colors = ['lightgreen', 'lightblue', 'pink', 'purple', 'gold']\n",
    "jp_region = (actual_games\n",
    "             .groupby('rating')\n",
    "             .agg(jp_sales=('jp_sales', 'sum'))\n",
    "             .sort_values(by='jp_sales', ascending=False)\n",
    "             .head()\n",
    "             .plot(y='jp_sales', kind='pie', autopct='%1.1f%%', colors=colors, figsize=(6, 6))\n",
    "            )\n",
    "plt.show()"
   ]
  },
  {
   "cell_type": "markdown",
   "metadata": {},
   "source": [
    "Выводы по Японии:\n",
    "\n",
    "1. Самая популярная платформа у игроков в Японии - 3DS. На 3DS приходится 75% всех продаж. Следом идут PS4 и WiiU с 13.6% и 11.1% продаж. На Xbox One приходится всего 0.3% продаж, а PC не представлен вовсе.\n",
    "2. Самые популярные игры в жанре Role-Playing и Action.\n",
    "3. Игры с рейтингом E (6+ лет) самые популярные (20.4% продаж). Дальше следуют игры с рейтингом T (13+ лет) с долей в 8.2% продаж. Закрывают игры с рейтингом Е10+ и M (17+ лет), их доли продаж почти равны (6.3% и 6.1%)\n",
    "\n",
    "Видим, что 59% всех игр не имееют пустой рейтинг, напомним, что пустой рейтинг мы установили, чтобы убрать пропущенные значения. Вполне вероятно, что такой пробел в данных из-за того, что в Японии есть своя классификация по рейтингам, которая не представлена в датасете."
   ]
  },
  {
   "cell_type": "markdown",
   "metadata": {},
   "source": [
    "**Выводы при нацеленности на тот или иной регион**"
   ]
  },
  {
   "cell_type": "markdown",
   "metadata": {},
   "source": [
    "Наблюдаем сильное отличие Японского региона от Европейского региона и Северной Америке.\n",
    "* В Европе и Северной Америке преобладают платформы PS4 и Xbox One, а в Японии очень сильно лидирует 3DS.\n",
    "* В Европе и Северной Америке жанры не сильно отличаются друг от друга по популярности: Action 33% - 31%, Shooter 29% - 28%. Остальные жанры тоже имеют ± одинаковое распределение. А вот в Японии самые популярные игры в жанре Role-Playing (44.6% продаж) и Action (28.3% продаж).\n",
    "* В Европе и Северной Америке преобладают игры с рейтингом M, а в Японии с рейтингом E"
   ]
  },
  {
   "cell_type": "markdown",
   "metadata": {},
   "source": [
    "## Проверим и поясним гипотезы "
   ]
  },
  {
   "cell_type": "markdown",
   "metadata": {},
   "source": [
    "### Проверка гипотезы: средние пользовательские рейтинги платформ Xbox One и PC одинаковые"
   ]
  },
  {
   "cell_type": "markdown",
   "metadata": {},
   "source": [
    "```\n",
    "H_0: Средние пользовательские рейтинги платформы Xbox One = средние пользовательские рейтинги PC`\n",
    "H_a: Средние пользовательские рейтинги платформы Xbox One ≠ средние пользовательские рейтинги PC`\n",
    "alpha = 0.05\n",
    "```\n",
    "Как нулевую гипотезу мы приняли, что пользовательские рейтинги Xbox One и PC равны. Альтернативной будет то, что они не равны, ибо рейтинг может быть меньше или больше."
   ]
  },
  {
   "cell_type": "code",
   "execution_count": 45,
   "metadata": {},
   "outputs": [],
   "source": [
    "from scipy import stats as st"
   ]
  },
  {
   "cell_type": "code",
   "execution_count": 46,
   "metadata": {},
   "outputs": [
    {
     "name": "stdout",
     "output_type": "stream",
     "text": [
      "p-значение: 0.5489537965134912\n",
      "Не получилось отвергнуть нулевую гипотезу\n"
     ]
    }
   ],
   "source": [
    "x_one = actual_games[actual_games['platform'] == 'XOne']['user_score']\n",
    "pc = actual_games[actual_games['platform'] == 'PC']['user_score']\n",
    "\n",
    "#чтобы нам не мешались пропущенные значения, то уберём их для этой проверки\n",
    "pc = pc.dropna()\n",
    "x_one = x_one.dropna()\n",
    "\n",
    "results = st.ttest_ind(x_one, pc, equal_var = False) #поскольку выборки разного размера, то в equal_var укажем False\n",
    "\n",
    "alpha = 0.05\n",
    "\n",
    "print('p-значение:', results.pvalue)\n",
    "\n",
    "if results.pvalue < alpha:\n",
    "    print('Отвергаем нулевую гипотезу')\n",
    "else:\n",
    "    print('Не получилось отвергнуть нулевую гипотезу')"
   ]
  },
  {
   "cell_type": "markdown",
   "metadata": {},
   "source": [
    "Значение p-value показывает: вероятность случайно получить значение при сравнении средних оценок платформ равно почти 55%. Это явно слишком большая вероятность, чтобы делать вывод о значимом различии между рейтингами Xbox One и PC. \n",
    "\n",
    "Нам не удалось отвергнуть нулевую гипотезу"
   ]
  },
  {
   "cell_type": "code",
   "execution_count": 47,
   "metadata": {},
   "outputs": [
    {
     "data": {
      "text/html": [
       "<div>\n",
       "<style scoped>\n",
       "    .dataframe tbody tr th:only-of-type {\n",
       "        vertical-align: middle;\n",
       "    }\n",
       "\n",
       "    .dataframe tbody tr th {\n",
       "        vertical-align: top;\n",
       "    }\n",
       "\n",
       "    .dataframe thead th {\n",
       "        text-align: right;\n",
       "    }\n",
       "</style>\n",
       "<table border=\"1\" class=\"dataframe\">\n",
       "  <thead>\n",
       "    <tr style=\"text-align: right;\">\n",
       "      <th></th>\n",
       "      <th>user_score</th>\n",
       "    </tr>\n",
       "    <tr>\n",
       "      <th>platform</th>\n",
       "      <th></th>\n",
       "    </tr>\n",
       "  </thead>\n",
       "  <tbody>\n",
       "    <tr>\n",
       "      <th>PC</th>\n",
       "      <td>6.428641</td>\n",
       "    </tr>\n",
       "    <tr>\n",
       "      <th>XOne</th>\n",
       "      <td>6.521429</td>\n",
       "    </tr>\n",
       "  </tbody>\n",
       "</table>\n",
       "</div>"
      ],
      "text/plain": [
       "          user_score\n",
       "platform            \n",
       "PC          6.428641\n",
       "XOne        6.521429"
      ]
     },
     "execution_count": 47,
     "metadata": {},
     "output_type": "execute_result"
    }
   ],
   "source": [
    "#просмотрим среднее и проверим значения\n",
    "(actual_games\n",
    " .query('platform == \"XOne\" or platform == \"PC\"')\n",
    " .pivot_table(index='platform', values='user_score'))"
   ]
  },
  {
   "cell_type": "markdown",
   "metadata": {},
   "source": [
    "Оценки двух платформ очень близки по среднему "
   ]
  },
  {
   "cell_type": "markdown",
   "metadata": {},
   "source": [
    "### Проверка гипотезы: средние пользовательские рейтинги жанров Action и Sports разные"
   ]
  },
  {
   "cell_type": "markdown",
   "metadata": {},
   "source": [
    "```\n",
    "H_0: Средние пользовательские рейтинги жанра Action = средние пользовательские рейтинги жанра Sports`\n",
    "H_a: Средние пользовательские рейтинги жанра Action ≠ средние пользовательские рейтинги жанра Sports`\n",
    "alpha = 0.05\n",
    "\n",
    "```\n",
    "Как нулевую гипотезу мы приняли, что пользовательские рейтинги жанра Action и Sports равны. Альтернативной будет то, что они не равны, ибо рейтинг может быть меньше или больше."
   ]
  },
  {
   "cell_type": "code",
   "execution_count": 48,
   "metadata": {},
   "outputs": [
    {
     "name": "stdout",
     "output_type": "stream",
     "text": [
      "p-значение: 4.24307776572644e-20\n",
      "Отвергаем нулевую гипотезу\n"
     ]
    }
   ],
   "source": [
    "action = actual_games[actual_games['genre'] == 'Action']['user_score']\n",
    "sports = actual_games[actual_games['genre'] == 'Sports']['user_score']\n",
    "\n",
    "#чтобы нам не мешались пропущенные значения, то уберём их для этой проверки\n",
    "action = action.dropna()\n",
    "sports = sports.dropna()\n",
    "\n",
    "results = st.ttest_ind(action, sports, equal_var = False) #поскольку выборки разного размера, то в equal_var укажем False\n",
    "\n",
    "alpha = 0.05\n",
    "\n",
    "print('p-значение:', results.pvalue)\n",
    "\n",
    "if results.pvalue < alpha:\n",
    "    print('Отвергаем нулевую гипотезу')\n",
    "else:\n",
    "    print('Не получилось отвергнуть нулевую гипотезу')"
   ]
  },
  {
   "cell_type": "markdown",
   "metadata": {},
   "source": [
    "Значение p-value показывает: что на имеющихся данных, на уровне значимости 5% есть основания отвергнуть нулевую гипотезу о равенстве средних значений пользовательских рейтингов (отзывов) жанров Action и Sports в пользу альтернативной гипотезы.\n",
    "\n",
    "Мы отвергаем нулевую гипотезу"
   ]
  },
  {
   "cell_type": "code",
   "execution_count": 49,
   "metadata": {},
   "outputs": [
    {
     "data": {
      "text/html": [
       "<div>\n",
       "<style scoped>\n",
       "    .dataframe tbody tr th:only-of-type {\n",
       "        vertical-align: middle;\n",
       "    }\n",
       "\n",
       "    .dataframe tbody tr th {\n",
       "        vertical-align: top;\n",
       "    }\n",
       "\n",
       "    .dataframe thead th {\n",
       "        text-align: right;\n",
       "    }\n",
       "</style>\n",
       "<table border=\"1\" class=\"dataframe\">\n",
       "  <thead>\n",
       "    <tr style=\"text-align: right;\">\n",
       "      <th></th>\n",
       "      <th>user_score</th>\n",
       "    </tr>\n",
       "    <tr>\n",
       "      <th>genre</th>\n",
       "      <th></th>\n",
       "    </tr>\n",
       "  </thead>\n",
       "  <tbody>\n",
       "    <tr>\n",
       "      <th>Action</th>\n",
       "      <td>6.825048</td>\n",
       "    </tr>\n",
       "    <tr>\n",
       "      <th>Sports</th>\n",
       "      <td>5.455897</td>\n",
       "    </tr>\n",
       "  </tbody>\n",
       "</table>\n",
       "</div>"
      ],
      "text/plain": [
       "        user_score\n",
       "genre             \n",
       "Action    6.825048\n",
       "Sports    5.455897"
      ]
     },
     "execution_count": 49,
     "metadata": {},
     "output_type": "execute_result"
    }
   ],
   "source": [
    "#просмотрим среднее и проверим значения\n",
    "(actual_games\n",
    " .query('genre == \"Action\" or genre == \"Sports\"')\n",
    " .pivot_table(index='genre', values='user_score'))"
   ]
  },
  {
   "cell_type": "markdown",
   "metadata": {},
   "source": [
    "Видно, что оценки довольно сильно отличаются по среднему."
   ]
  },
  {
   "cell_type": "markdown",
   "metadata": {},
   "source": [
    "**Выводы**\n",
    "\n",
    "Мы проверили две гипотезы:\n",
    "1. Средние пользовательские рейтинги платформ Xbox One и PC одинаковые\n",
    "2. Средние пользовательские рейтинги жанров Action и Sports разные\n",
    "\n",
    "Для проверки обеих гипотез мы использовали метод для проверки равенства среднего двух генеральных совокупностей по взятым из них выборкам. Выбрали этот метод по той причине, что мы должны именно сравнивать средние двух генеральных совокупностей между собой\n",
    "\n",
    "* В первой гипотезе вероятность случайно получить значение при сравнении средних оценок платформ равно почти 55%. Это явно слишком большая вероятность, чтобы делать вывод о значимом различии между рейтингами Xbox One и PC. Гипотезу подтверждаем\n",
    "* Вторая гипотеза. На имеющихся данных, на уровне значимости 5% есть основания отвергнуть нулевую гипотезу о равенстве средних значений пользовательских рейтингов (отзывов) жанров Action и Sports в пользу альтернативной гипотезы. Гипотеза подтверждена"
   ]
  },
  {
   "cell_type": "markdown",
   "metadata": {},
   "source": [
    "## Общий вывод"
   ]
  },
  {
   "cell_type": "markdown",
   "metadata": {},
   "source": [
    "В ходе исследования мы изучили исторические данные о продажах игр, оценки пользователей и экспертов, жанры и платформы - доступные из открытых источников. После изучения общей информации мы приступили к предобработке.\n",
    "\n",
    "На этапе предобработки мы проделали следующее:\n",
    "* привели названия столбцов к одному стилю\n",
    "* избавились от пропусков там, где это было возможно\n",
    "* изменили тип данных на нужный\n",
    "* создали новый столбец с суммарными продажами по всем регионам\n",
    "* проверили на дубликаты и аномалии\n",
    "\n",
    "Во время работы с данными мы выявили следующие интересные особенности и зависимости:\n",
    "* Выявили, что нам необходимы не все данные, а только за определённый период (с 2012 года по текущий) по популярным платформам (PS4, Xbox One, 3DS, WiiU, PC).\n",
    "* Узнали, что топ 5 игровых платформ по продажам за всё время это PS2, X360, PS3, Wii, DS. Явный лидер - PS2 с 1.2 млрд. продаж\n",
    "* Определили, что отзывы игроков практически не влияют на продажи, а вот отзывы критиков имеют небольшое влияние на продажи. \n",
    "* Определили самые прибыльные жанры - Shooter, Role-Playing, Action, Sports.\n",
    "\n",
    "Составили портрет пользователей по регионам и выявили, что Северная Америка очень схожа с Европой, а вот Япония очень сильно отличается от них.\n",
    "\n",
    "Мы проверили две гипотезы и установили:\n",
    "\n",
    "1. Cредние пользовательские рейтинги платформ Xbox One и PC одинаковые\n",
    "\n",
    "Вероятность случайно получить значение при сравнении средних оценок платформ равно почти 55%. Это явно слишком большая вероятность, чтобы делать вывод о значимом различии между рейтингами Xbox One и PC.\n",
    "Первая гипотеза подтвердилась.\n",
    "\n",
    "2. Средние пользовательские рейтинги жанров Action и Sports разные\n",
    "\n",
    "На имеющихся данных, на уровне значимости 5% есть основания отвергнуть нулевую гипотезу о равенстве средних значений пользовательских рейтингов (отзывов) жанров Action и Sports в пользу альтернативной гипотезы.\n",
    "Вторая гипотеза подтвердилась.\n",
    "\n",
    "**ИТОГ**\n",
    "\n",
    "Мы можем сказать, что успех игр зависит от множества параметров: платформа, жанр, оценок, возрастного рейтинга. Можно дать следующие рекомендации, чтобы сделать ставку на потенциально популярный продукт и спланировать рекламные кампании на 2017 год.\n",
    "* Игра должна быть на одной из популярных платформ - PS4, Xbox One, 3DS, WiiU, PC\n",
    "* Быть в одном из популярных жанров - Shooter, Role-Playing, Action, Sports\n",
    "* Иметь возрастной рейтинг M или Е\n",
    "* Иметь хорошие отзывы критиков и игроков\n",
    "\n",
    "Ещё нужно учитывать регион, в котором планируются продажи:\n",
    "\n",
    "* В Европе и Северной Америке преобладают платформы PS4 и Xbox One, а в Японии очень сильно лидирует 3DS.\n",
    "* В Европе и Северной Америке жанры не сильно отличаются друг от друга по популярности: Action 33% - 31%, Shooter 29% - 28%. Остальные жанры тоже имеют ± одинаковое распределение. А вот в Японии самые популярные игры в жанре Role-Playing (44.6% продаж) и Action (28.3% продаж).\n",
    "* В Европе и Северной Америке преобладают игры с рейтингом M, а в Японии с рейтингом E"
   ]
  }
 ],
 "metadata": {
  "ExecuteTimeLog": [
   {
    "duration": 721,
    "start_time": "2022-10-16T11:00:18.545Z"
   },
   {
    "duration": 311,
    "start_time": "2022-10-16T11:01:46.526Z"
   },
   {
    "duration": 18,
    "start_time": "2022-10-16T11:02:16.580Z"
   },
   {
    "duration": 15,
    "start_time": "2022-10-16T11:02:49.396Z"
   },
   {
    "duration": 695,
    "start_time": "2022-10-16T11:03:47.133Z"
   },
   {
    "duration": 827,
    "start_time": "2022-10-16T11:05:02.396Z"
   },
   {
    "duration": 67,
    "start_time": "2022-10-16T11:24:24.975Z"
   },
   {
    "duration": 8,
    "start_time": "2022-10-16T11:24:33.787Z"
   },
   {
    "duration": 16,
    "start_time": "2022-10-16T11:24:44.268Z"
   },
   {
    "duration": 7,
    "start_time": "2022-10-16T11:26:34.537Z"
   },
   {
    "duration": 3,
    "start_time": "2022-10-16T11:26:44.175Z"
   },
   {
    "duration": 7,
    "start_time": "2022-10-16T11:33:34.443Z"
   },
   {
    "duration": 4,
    "start_time": "2022-10-16T11:33:44.428Z"
   },
   {
    "duration": 7,
    "start_time": "2022-10-16T11:33:49.639Z"
   },
   {
    "duration": 7,
    "start_time": "2022-10-16T11:34:11.328Z"
   },
   {
    "duration": 2,
    "start_time": "2022-10-16T11:34:19.712Z"
   },
   {
    "duration": 45,
    "start_time": "2022-10-16T11:34:20.184Z"
   },
   {
    "duration": 15,
    "start_time": "2022-10-16T11:34:20.701Z"
   },
   {
    "duration": 13,
    "start_time": "2022-10-16T11:34:22.701Z"
   },
   {
    "duration": 656,
    "start_time": "2022-10-16T11:34:24.282Z"
   },
   {
    "duration": 8,
    "start_time": "2022-10-16T11:34:28.748Z"
   },
   {
    "duration": 9,
    "start_time": "2022-10-16T11:35:55.659Z"
   },
   {
    "duration": 4,
    "start_time": "2022-10-16T11:35:56.970Z"
   },
   {
    "duration": 7,
    "start_time": "2022-10-16T11:37:53.818Z"
   },
   {
    "duration": 6,
    "start_time": "2022-10-16T11:37:57.907Z"
   },
   {
    "duration": 7,
    "start_time": "2022-10-16T11:38:00.664Z"
   },
   {
    "duration": 8,
    "start_time": "2022-10-16T11:38:17.288Z"
   },
   {
    "duration": 8,
    "start_time": "2022-10-16T11:38:19.588Z"
   },
   {
    "duration": 4,
    "start_time": "2022-10-16T11:38:25.445Z"
   },
   {
    "duration": 3,
    "start_time": "2022-10-16T11:46:43.494Z"
   },
   {
    "duration": 5,
    "start_time": "2022-10-16T11:46:53.788Z"
   },
   {
    "duration": 5,
    "start_time": "2022-10-16T11:48:18.127Z"
   },
   {
    "duration": 5,
    "start_time": "2022-10-16T12:38:46.186Z"
   },
   {
    "duration": 27,
    "start_time": "2022-10-16T12:38:53.220Z"
   },
   {
    "duration": 16,
    "start_time": "2022-10-16T12:39:09.381Z"
   },
   {
    "duration": 16,
    "start_time": "2022-10-16T12:39:54.162Z"
   },
   {
    "duration": 83,
    "start_time": "2022-10-16T12:40:01.797Z"
   },
   {
    "duration": 15,
    "start_time": "2022-10-16T12:40:10.510Z"
   },
   {
    "duration": 8,
    "start_time": "2022-10-16T12:40:34.331Z"
   },
   {
    "duration": 8,
    "start_time": "2022-10-16T12:40:42.307Z"
   },
   {
    "duration": 15,
    "start_time": "2022-10-16T12:40:56.435Z"
   },
   {
    "duration": 13,
    "start_time": "2022-10-16T12:41:51.054Z"
   },
   {
    "duration": 8,
    "start_time": "2022-10-16T12:43:59.452Z"
   },
   {
    "duration": 9,
    "start_time": "2022-10-16T12:44:09.029Z"
   },
   {
    "duration": 11,
    "start_time": "2022-10-16T12:44:54.104Z"
   },
   {
    "duration": 3,
    "start_time": "2022-10-16T12:46:24.455Z"
   },
   {
    "duration": 46,
    "start_time": "2022-10-16T12:46:24.778Z"
   },
   {
    "duration": 16,
    "start_time": "2022-10-16T12:46:25.092Z"
   },
   {
    "duration": 16,
    "start_time": "2022-10-16T12:46:27.041Z"
   },
   {
    "duration": 5,
    "start_time": "2022-10-16T12:46:43.821Z"
   },
   {
    "duration": 3,
    "start_time": "2022-10-16T12:46:44.431Z"
   },
   {
    "duration": 4,
    "start_time": "2022-10-16T12:46:44.843Z"
   },
   {
    "duration": 5,
    "start_time": "2022-10-16T12:47:00.653Z"
   },
   {
    "duration": 10,
    "start_time": "2022-10-16T12:47:03.348Z"
   },
   {
    "duration": 18,
    "start_time": "2022-10-16T12:47:15.502Z"
   },
   {
    "duration": 15,
    "start_time": "2022-10-16T13:07:31.889Z"
   },
   {
    "duration": 9,
    "start_time": "2022-10-16T13:08:58.628Z"
   },
   {
    "duration": 10,
    "start_time": "2022-10-16T13:09:43.200Z"
   },
   {
    "duration": 21,
    "start_time": "2022-10-16T13:11:09.842Z"
   },
   {
    "duration": 6,
    "start_time": "2022-10-16T13:11:19.742Z"
   },
   {
    "duration": 20,
    "start_time": "2022-10-16T13:11:22.411Z"
   },
   {
    "duration": 5,
    "start_time": "2022-10-16T13:11:37.454Z"
   },
   {
    "duration": 20,
    "start_time": "2022-10-16T13:11:41.382Z"
   },
   {
    "duration": 13,
    "start_time": "2022-10-16T13:11:47.701Z"
   },
   {
    "duration": 19,
    "start_time": "2022-10-16T13:11:58.502Z"
   },
   {
    "duration": 5,
    "start_time": "2022-10-16T13:12:05.460Z"
   },
   {
    "duration": 13,
    "start_time": "2022-10-16T13:12:09.146Z"
   },
   {
    "duration": 14,
    "start_time": "2022-10-16T13:12:15.093Z"
   },
   {
    "duration": 21,
    "start_time": "2022-10-16T13:12:19.461Z"
   },
   {
    "duration": 7,
    "start_time": "2022-10-16T13:13:06.108Z"
   },
   {
    "duration": 46,
    "start_time": "2022-10-16T13:13:13.025Z"
   },
   {
    "duration": 14,
    "start_time": "2022-10-16T13:13:32.985Z"
   },
   {
    "duration": 15,
    "start_time": "2022-10-16T13:18:51.573Z"
   },
   {
    "duration": 17,
    "start_time": "2022-10-16T13:19:22.006Z"
   },
   {
    "duration": 6,
    "start_time": "2022-10-16T13:19:36.446Z"
   },
   {
    "duration": 14,
    "start_time": "2022-10-16T13:19:44.653Z"
   },
   {
    "duration": 8,
    "start_time": "2022-10-16T13:19:47.205Z"
   },
   {
    "duration": 14,
    "start_time": "2022-10-16T13:19:48.615Z"
   },
   {
    "duration": 3,
    "start_time": "2022-10-16T13:19:56.684Z"
   },
   {
    "duration": 88,
    "start_time": "2022-10-16T13:19:56.688Z"
   },
   {
    "duration": 15,
    "start_time": "2022-10-16T13:19:56.777Z"
   },
   {
    "duration": 37,
    "start_time": "2022-10-16T13:19:56.793Z"
   },
   {
    "duration": 709,
    "start_time": "2022-10-16T13:19:56.832Z"
   },
   {
    "duration": 9,
    "start_time": "2022-10-16T13:19:57.542Z"
   },
   {
    "duration": 49,
    "start_time": "2022-10-16T13:19:57.552Z"
   },
   {
    "duration": 1371,
    "start_time": "2022-10-16T13:22:03.277Z"
   },
   {
    "duration": 14,
    "start_time": "2022-10-16T13:22:05.407Z"
   },
   {
    "duration": 16,
    "start_time": "2022-10-16T13:22:12.682Z"
   },
   {
    "duration": 15,
    "start_time": "2022-10-16T13:22:14.983Z"
   },
   {
    "duration": 3,
    "start_time": "2022-10-16T13:22:40.151Z"
   },
   {
    "duration": 2,
    "start_time": "2022-10-16T13:23:50.028Z"
   },
   {
    "duration": 52,
    "start_time": "2022-10-16T13:23:50.032Z"
   },
   {
    "duration": 14,
    "start_time": "2022-10-16T13:23:50.086Z"
   },
   {
    "duration": 17,
    "start_time": "2022-10-16T13:23:50.101Z"
   },
   {
    "duration": 630,
    "start_time": "2022-10-16T13:23:50.120Z"
   },
   {
    "duration": 5,
    "start_time": "2022-10-16T13:23:50.752Z"
   },
   {
    "duration": 9,
    "start_time": "2022-10-16T13:23:50.758Z"
   },
   {
    "duration": 18,
    "start_time": "2022-10-16T13:23:50.768Z"
   },
   {
    "duration": 13,
    "start_time": "2022-10-16T13:23:50.787Z"
   },
   {
    "duration": 19,
    "start_time": "2022-10-16T13:23:50.802Z"
   },
   {
    "duration": 9,
    "start_time": "2022-10-16T13:23:59.134Z"
   },
   {
    "duration": 15,
    "start_time": "2022-10-16T13:24:05.711Z"
   },
   {
    "duration": 11,
    "start_time": "2022-10-16T13:24:15.228Z"
   },
   {
    "duration": 3,
    "start_time": "2022-10-16T13:24:39.523Z"
   },
   {
    "duration": 9,
    "start_time": "2022-10-16T13:24:41.689Z"
   },
   {
    "duration": 5,
    "start_time": "2022-10-16T13:24:47.797Z"
   },
   {
    "duration": 3,
    "start_time": "2022-10-16T13:24:55.951Z"
   },
   {
    "duration": 51,
    "start_time": "2022-10-16T13:24:55.956Z"
   },
   {
    "duration": 15,
    "start_time": "2022-10-16T13:24:56.008Z"
   },
   {
    "duration": 24,
    "start_time": "2022-10-16T13:24:56.024Z"
   },
   {
    "duration": 725,
    "start_time": "2022-10-16T13:24:56.050Z"
   },
   {
    "duration": 8,
    "start_time": "2022-10-16T13:24:56.777Z"
   },
   {
    "duration": 16,
    "start_time": "2022-10-16T13:24:56.787Z"
   },
   {
    "duration": 7,
    "start_time": "2022-10-16T13:24:56.804Z"
   },
   {
    "duration": 13,
    "start_time": "2022-10-16T13:24:56.813Z"
   },
   {
    "duration": 14,
    "start_time": "2022-10-16T13:24:56.827Z"
   },
   {
    "duration": 5,
    "start_time": "2022-10-16T13:25:22.457Z"
   },
   {
    "duration": 14,
    "start_time": "2022-10-16T13:25:24.038Z"
   },
   {
    "duration": 14,
    "start_time": "2022-10-16T13:25:26.320Z"
   },
   {
    "duration": 14,
    "start_time": "2022-10-16T13:25:35.086Z"
   },
   {
    "duration": 14,
    "start_time": "2022-10-16T13:25:36.500Z"
   },
   {
    "duration": 15,
    "start_time": "2022-10-16T13:25:45.863Z"
   },
   {
    "duration": 3,
    "start_time": "2022-10-16T13:26:00.132Z"
   },
   {
    "duration": 58,
    "start_time": "2022-10-16T13:26:00.137Z"
   },
   {
    "duration": 19,
    "start_time": "2022-10-16T13:26:00.197Z"
   },
   {
    "duration": 41,
    "start_time": "2022-10-16T13:26:00.218Z"
   },
   {
    "duration": 673,
    "start_time": "2022-10-16T13:26:00.260Z"
   },
   {
    "duration": 4,
    "start_time": "2022-10-16T13:26:00.935Z"
   },
   {
    "duration": 26,
    "start_time": "2022-10-16T13:26:00.940Z"
   },
   {
    "duration": 26,
    "start_time": "2022-10-16T13:26:00.968Z"
   },
   {
    "duration": 30,
    "start_time": "2022-10-16T13:26:00.996Z"
   },
   {
    "duration": 34,
    "start_time": "2022-10-16T13:26:01.028Z"
   },
   {
    "duration": 25,
    "start_time": "2022-10-16T13:28:13.256Z"
   },
   {
    "duration": 22,
    "start_time": "2022-10-16T13:28:42.641Z"
   },
   {
    "duration": 13,
    "start_time": "2022-10-16T13:28:51.327Z"
   },
   {
    "duration": 13,
    "start_time": "2022-10-16T13:28:53.624Z"
   },
   {
    "duration": 6,
    "start_time": "2022-10-16T13:29:02.294Z"
   },
   {
    "duration": 15,
    "start_time": "2022-10-16T13:29:05.480Z"
   },
   {
    "duration": 2,
    "start_time": "2022-10-16T13:29:12.736Z"
   },
   {
    "duration": 55,
    "start_time": "2022-10-16T13:29:12.740Z"
   },
   {
    "duration": 14,
    "start_time": "2022-10-16T13:29:12.797Z"
   },
   {
    "duration": 13,
    "start_time": "2022-10-16T13:29:12.813Z"
   },
   {
    "duration": 717,
    "start_time": "2022-10-16T13:29:12.828Z"
   },
   {
    "duration": 3,
    "start_time": "2022-10-16T13:29:13.547Z"
   },
   {
    "duration": 5,
    "start_time": "2022-10-16T13:29:13.552Z"
   },
   {
    "duration": 8,
    "start_time": "2022-10-16T13:29:13.559Z"
   },
   {
    "duration": 22,
    "start_time": "2022-10-16T13:29:13.568Z"
   },
   {
    "duration": 13,
    "start_time": "2022-10-16T13:29:13.591Z"
   },
   {
    "duration": 7,
    "start_time": "2022-10-16T13:29:24.168Z"
   },
   {
    "duration": 14,
    "start_time": "2022-10-16T13:29:25.974Z"
   },
   {
    "duration": 6,
    "start_time": "2022-10-16T13:29:29.498Z"
   },
   {
    "duration": 5,
    "start_time": "2022-10-16T13:29:32.603Z"
   },
   {
    "duration": 14,
    "start_time": "2022-10-16T13:29:36.311Z"
   },
   {
    "duration": 10,
    "start_time": "2022-10-16T13:29:38.465Z"
   },
   {
    "duration": 19,
    "start_time": "2022-10-16T13:29:53.340Z"
   },
   {
    "duration": 20,
    "start_time": "2022-10-16T13:30:00.440Z"
   },
   {
    "duration": 17,
    "start_time": "2022-10-16T13:30:06.322Z"
   },
   {
    "duration": 14,
    "start_time": "2022-10-16T13:30:11.285Z"
   },
   {
    "duration": 3,
    "start_time": "2022-10-16T13:30:39.175Z"
   },
   {
    "duration": 54,
    "start_time": "2022-10-16T13:30:39.180Z"
   },
   {
    "duration": 15,
    "start_time": "2022-10-16T13:30:39.236Z"
   },
   {
    "duration": 17,
    "start_time": "2022-10-16T13:30:39.252Z"
   },
   {
    "duration": 659,
    "start_time": "2022-10-16T13:30:39.271Z"
   },
   {
    "duration": 3,
    "start_time": "2022-10-16T13:30:39.932Z"
   },
   {
    "duration": 24,
    "start_time": "2022-10-16T13:30:39.937Z"
   },
   {
    "duration": 19,
    "start_time": "2022-10-16T13:30:39.963Z"
   },
   {
    "duration": 44,
    "start_time": "2022-10-16T13:30:39.984Z"
   },
   {
    "duration": 64,
    "start_time": "2022-10-16T13:30:40.029Z"
   },
   {
    "duration": 29,
    "start_time": "2022-10-16T13:30:40.094Z"
   },
   {
    "duration": 22,
    "start_time": "2022-10-16T13:30:43.809Z"
   },
   {
    "duration": 19,
    "start_time": "2022-10-16T13:30:57.750Z"
   },
   {
    "duration": 16,
    "start_time": "2022-10-16T13:31:01.658Z"
   },
   {
    "duration": 2,
    "start_time": "2022-10-16T13:31:10.372Z"
   },
   {
    "duration": 52,
    "start_time": "2022-10-16T13:31:10.376Z"
   },
   {
    "duration": 15,
    "start_time": "2022-10-16T13:31:10.429Z"
   },
   {
    "duration": 26,
    "start_time": "2022-10-16T13:31:10.446Z"
   },
   {
    "duration": 618,
    "start_time": "2022-10-16T13:31:10.474Z"
   },
   {
    "duration": 5,
    "start_time": "2022-10-16T13:31:11.094Z"
   },
   {
    "duration": 6,
    "start_time": "2022-10-16T13:31:11.100Z"
   },
   {
    "duration": 11,
    "start_time": "2022-10-16T13:31:11.108Z"
   },
   {
    "duration": 10,
    "start_time": "2022-10-16T13:31:11.120Z"
   },
   {
    "duration": 19,
    "start_time": "2022-10-16T13:31:11.131Z"
   },
   {
    "duration": 33,
    "start_time": "2022-10-16T13:31:11.152Z"
   },
   {
    "duration": 6,
    "start_time": "2022-10-16T13:31:19.852Z"
   },
   {
    "duration": 23,
    "start_time": "2022-10-16T13:31:20.200Z"
   },
   {
    "duration": 579,
    "start_time": "2022-10-16T13:31:31.215Z"
   },
   {
    "duration": 5,
    "start_time": "2022-10-16T13:31:41.839Z"
   },
   {
    "duration": 16,
    "start_time": "2022-10-16T13:31:44.884Z"
   },
   {
    "duration": 12,
    "start_time": "2022-10-16T13:31:46.884Z"
   },
   {
    "duration": 9,
    "start_time": "2022-10-16T13:31:58.847Z"
   },
   {
    "duration": 4,
    "start_time": "2022-10-16T13:32:05.681Z"
   },
   {
    "duration": 55,
    "start_time": "2022-10-16T13:32:05.686Z"
   },
   {
    "duration": 15,
    "start_time": "2022-10-16T13:32:05.742Z"
   },
   {
    "duration": 18,
    "start_time": "2022-10-16T13:32:05.758Z"
   },
   {
    "duration": 746,
    "start_time": "2022-10-16T13:32:05.778Z"
   },
   {
    "duration": 4,
    "start_time": "2022-10-16T13:32:06.525Z"
   },
   {
    "duration": 6,
    "start_time": "2022-10-16T13:32:06.531Z"
   },
   {
    "duration": 6,
    "start_time": "2022-10-16T13:32:06.539Z"
   },
   {
    "duration": 10,
    "start_time": "2022-10-16T13:32:06.547Z"
   },
   {
    "duration": 29,
    "start_time": "2022-10-16T13:32:06.558Z"
   },
   {
    "duration": 18,
    "start_time": "2022-10-16T13:32:06.589Z"
   },
   {
    "duration": 5,
    "start_time": "2022-10-16T13:32:06.608Z"
   },
   {
    "duration": 9,
    "start_time": "2022-10-16T13:32:08.514Z"
   },
   {
    "duration": 600,
    "start_time": "2022-10-16T13:32:38.221Z"
   },
   {
    "duration": 10,
    "start_time": "2022-10-16T13:32:48.727Z"
   },
   {
    "duration": 3,
    "start_time": "2022-10-16T13:32:51.987Z"
   },
   {
    "duration": 48,
    "start_time": "2022-10-16T13:32:51.991Z"
   },
   {
    "duration": 14,
    "start_time": "2022-10-16T13:32:52.040Z"
   },
   {
    "duration": 25,
    "start_time": "2022-10-16T13:32:52.055Z"
   },
   {
    "duration": 630,
    "start_time": "2022-10-16T13:32:52.082Z"
   },
   {
    "duration": 4,
    "start_time": "2022-10-16T13:32:52.713Z"
   },
   {
    "duration": 6,
    "start_time": "2022-10-16T13:32:52.718Z"
   },
   {
    "duration": 7,
    "start_time": "2022-10-16T13:32:52.726Z"
   },
   {
    "duration": 11,
    "start_time": "2022-10-16T13:32:52.735Z"
   },
   {
    "duration": 17,
    "start_time": "2022-10-16T13:32:52.747Z"
   },
   {
    "duration": 33,
    "start_time": "2022-10-16T13:32:52.766Z"
   },
   {
    "duration": 17,
    "start_time": "2022-10-16T13:32:56.355Z"
   },
   {
    "duration": 10,
    "start_time": "2022-10-16T13:32:59.369Z"
   },
   {
    "duration": 17,
    "start_time": "2022-10-16T13:33:30.538Z"
   },
   {
    "duration": 5,
    "start_time": "2022-10-16T13:33:32.662Z"
   },
   {
    "duration": 32,
    "start_time": "2022-10-16T13:33:35.525Z"
   },
   {
    "duration": 29,
    "start_time": "2022-10-16T13:33:39.263Z"
   },
   {
    "duration": 3,
    "start_time": "2022-10-16T13:33:46.799Z"
   },
   {
    "duration": 49,
    "start_time": "2022-10-16T13:33:46.804Z"
   },
   {
    "duration": 15,
    "start_time": "2022-10-16T13:33:46.855Z"
   },
   {
    "duration": 15,
    "start_time": "2022-10-16T13:33:46.872Z"
   },
   {
    "duration": 708,
    "start_time": "2022-10-16T13:33:46.890Z"
   },
   {
    "duration": 4,
    "start_time": "2022-10-16T13:33:47.599Z"
   },
   {
    "duration": 7,
    "start_time": "2022-10-16T13:33:47.605Z"
   },
   {
    "duration": 7,
    "start_time": "2022-10-16T13:33:47.613Z"
   },
   {
    "duration": 17,
    "start_time": "2022-10-16T13:33:47.621Z"
   },
   {
    "duration": 41,
    "start_time": "2022-10-16T13:33:47.640Z"
   },
   {
    "duration": 21,
    "start_time": "2022-10-16T13:33:47.682Z"
   },
   {
    "duration": 21,
    "start_time": "2022-10-16T13:33:47.704Z"
   },
   {
    "duration": 29,
    "start_time": "2022-10-16T13:33:49.604Z"
   },
   {
    "duration": 28,
    "start_time": "2022-10-16T13:39:08.086Z"
   },
   {
    "duration": 14,
    "start_time": "2022-10-16T13:39:15.520Z"
   },
   {
    "duration": 7,
    "start_time": "2022-10-16T13:39:44.673Z"
   },
   {
    "duration": 579,
    "start_time": "2022-10-16T13:39:49.707Z"
   },
   {
    "duration": 25,
    "start_time": "2022-10-16T13:40:26.711Z"
   },
   {
    "duration": 6,
    "start_time": "2022-10-16T13:42:03.652Z"
   },
   {
    "duration": 7,
    "start_time": "2022-10-16T13:42:18.436Z"
   },
   {
    "duration": 5,
    "start_time": "2022-10-16T13:42:33.468Z"
   },
   {
    "duration": 5,
    "start_time": "2022-10-16T13:43:12.702Z"
   },
   {
    "duration": 6,
    "start_time": "2022-10-16T13:43:30.302Z"
   },
   {
    "duration": 3,
    "start_time": "2022-10-16T13:43:48.774Z"
   },
   {
    "duration": 67,
    "start_time": "2022-10-16T13:43:48.779Z"
   },
   {
    "duration": 14,
    "start_time": "2022-10-16T13:43:48.847Z"
   },
   {
    "duration": 29,
    "start_time": "2022-10-16T13:43:48.863Z"
   },
   {
    "duration": 771,
    "start_time": "2022-10-16T13:43:48.895Z"
   },
   {
    "duration": 3,
    "start_time": "2022-10-16T13:43:49.668Z"
   },
   {
    "duration": 15,
    "start_time": "2022-10-16T13:43:49.673Z"
   },
   {
    "duration": 16,
    "start_time": "2022-10-16T13:43:49.690Z"
   },
   {
    "duration": 14,
    "start_time": "2022-10-16T13:43:49.707Z"
   },
   {
    "duration": 20,
    "start_time": "2022-10-16T13:43:49.722Z"
   },
   {
    "duration": 16,
    "start_time": "2022-10-16T13:43:49.743Z"
   },
   {
    "duration": 5,
    "start_time": "2022-10-16T13:43:51.844Z"
   },
   {
    "duration": 5,
    "start_time": "2022-10-16T13:43:58.252Z"
   },
   {
    "duration": 24,
    "start_time": "2022-10-16T13:44:10.577Z"
   },
   {
    "duration": 5,
    "start_time": "2022-10-16T13:44:15.287Z"
   },
   {
    "duration": 3,
    "start_time": "2022-10-16T13:44:19.853Z"
   },
   {
    "duration": 50,
    "start_time": "2022-10-16T13:44:19.858Z"
   },
   {
    "duration": 17,
    "start_time": "2022-10-16T13:44:19.910Z"
   },
   {
    "duration": 20,
    "start_time": "2022-10-16T13:44:19.929Z"
   },
   {
    "duration": 661,
    "start_time": "2022-10-16T13:44:19.951Z"
   },
   {
    "duration": 4,
    "start_time": "2022-10-16T13:44:20.613Z"
   },
   {
    "duration": 5,
    "start_time": "2022-10-16T13:44:20.618Z"
   },
   {
    "duration": 6,
    "start_time": "2022-10-16T13:44:20.624Z"
   },
   {
    "duration": 10,
    "start_time": "2022-10-16T13:44:20.631Z"
   },
   {
    "duration": 16,
    "start_time": "2022-10-16T13:44:20.642Z"
   },
   {
    "duration": 37,
    "start_time": "2022-10-16T13:44:20.660Z"
   },
   {
    "duration": 5,
    "start_time": "2022-10-16T13:44:20.698Z"
   },
   {
    "duration": 19,
    "start_time": "2022-10-16T13:44:56.522Z"
   },
   {
    "duration": 20,
    "start_time": "2022-10-16T13:45:03.396Z"
   },
   {
    "duration": 5,
    "start_time": "2022-10-16T13:45:08.115Z"
   },
   {
    "duration": 13,
    "start_time": "2022-10-16T13:45:16.287Z"
   },
   {
    "duration": 11,
    "start_time": "2022-10-16T13:45:18.497Z"
   },
   {
    "duration": 22,
    "start_time": "2022-10-16T13:45:32.298Z"
   },
   {
    "duration": 2,
    "start_time": "2022-10-16T13:45:35.225Z"
   },
   {
    "duration": 49,
    "start_time": "2022-10-16T13:45:35.229Z"
   },
   {
    "duration": 16,
    "start_time": "2022-10-16T13:45:35.280Z"
   },
   {
    "duration": 14,
    "start_time": "2022-10-16T13:45:35.297Z"
   },
   {
    "duration": 663,
    "start_time": "2022-10-16T13:45:35.313Z"
   },
   {
    "duration": 4,
    "start_time": "2022-10-16T13:45:35.984Z"
   },
   {
    "duration": 7,
    "start_time": "2022-10-16T13:45:35.989Z"
   },
   {
    "duration": 7,
    "start_time": "2022-10-16T13:45:35.997Z"
   },
   {
    "duration": 10,
    "start_time": "2022-10-16T13:45:36.005Z"
   },
   {
    "duration": 13,
    "start_time": "2022-10-16T13:45:36.017Z"
   },
   {
    "duration": 17,
    "start_time": "2022-10-16T13:45:36.031Z"
   },
   {
    "duration": 4,
    "start_time": "2022-10-16T13:45:36.050Z"
   },
   {
    "duration": 30,
    "start_time": "2022-10-16T13:45:36.055Z"
   },
   {
    "duration": 30,
    "start_time": "2022-10-16T13:45:36.087Z"
   },
   {
    "duration": 22,
    "start_time": "2022-10-16T13:45:43.828Z"
   },
   {
    "duration": 13,
    "start_time": "2022-10-16T13:45:52.712Z"
   },
   {
    "duration": 12,
    "start_time": "2022-10-16T13:45:56.110Z"
   },
   {
    "duration": 859,
    "start_time": "2022-10-16T13:45:56.884Z"
   },
   {
    "duration": 5,
    "start_time": "2022-10-16T13:46:19.871Z"
   },
   {
    "duration": 17,
    "start_time": "2022-10-16T13:46:46.777Z"
   },
   {
    "duration": 74,
    "start_time": "2022-10-16T13:47:04.755Z"
   },
   {
    "duration": 22,
    "start_time": "2022-10-16T13:47:09.181Z"
   },
   {
    "duration": 2,
    "start_time": "2022-10-16T13:47:20.493Z"
   },
   {
    "duration": 52,
    "start_time": "2022-10-16T13:47:20.498Z"
   },
   {
    "duration": 15,
    "start_time": "2022-10-16T13:47:20.551Z"
   },
   {
    "duration": 18,
    "start_time": "2022-10-16T13:47:20.568Z"
   },
   {
    "duration": 632,
    "start_time": "2022-10-16T13:47:20.588Z"
   },
   {
    "duration": 4,
    "start_time": "2022-10-16T13:47:21.222Z"
   },
   {
    "duration": 12,
    "start_time": "2022-10-16T13:47:21.227Z"
   },
   {
    "duration": 12,
    "start_time": "2022-10-16T13:47:21.240Z"
   },
   {
    "duration": 12,
    "start_time": "2022-10-16T13:47:21.253Z"
   },
   {
    "duration": 22,
    "start_time": "2022-10-16T13:47:21.266Z"
   },
   {
    "duration": 23,
    "start_time": "2022-10-16T13:47:22.902Z"
   },
   {
    "duration": 11,
    "start_time": "2022-10-16T13:48:16.754Z"
   },
   {
    "duration": 10,
    "start_time": "2022-10-16T13:48:26.059Z"
   },
   {
    "duration": 3,
    "start_time": "2022-10-16T13:48:28.513Z"
   },
   {
    "duration": 51,
    "start_time": "2022-10-16T13:48:28.517Z"
   },
   {
    "duration": 16,
    "start_time": "2022-10-16T13:48:28.569Z"
   },
   {
    "duration": 14,
    "start_time": "2022-10-16T13:48:28.587Z"
   },
   {
    "duration": 757,
    "start_time": "2022-10-16T13:48:28.602Z"
   },
   {
    "duration": 4,
    "start_time": "2022-10-16T13:48:29.361Z"
   },
   {
    "duration": 15,
    "start_time": "2022-10-16T13:48:29.366Z"
   },
   {
    "duration": 15,
    "start_time": "2022-10-16T13:48:29.382Z"
   },
   {
    "duration": 25,
    "start_time": "2022-10-16T13:48:29.398Z"
   },
   {
    "duration": 21,
    "start_time": "2022-10-16T13:48:29.425Z"
   },
   {
    "duration": 30,
    "start_time": "2022-10-16T13:48:29.448Z"
   },
   {
    "duration": 10,
    "start_time": "2022-10-16T13:48:31.371Z"
   },
   {
    "duration": 22,
    "start_time": "2022-10-16T13:48:39.538Z"
   },
   {
    "duration": 11,
    "start_time": "2022-10-16T13:48:45.660Z"
   },
   {
    "duration": 10,
    "start_time": "2022-10-16T13:48:52.621Z"
   },
   {
    "duration": 12,
    "start_time": "2022-10-16T13:49:08.961Z"
   },
   {
    "duration": 14,
    "start_time": "2022-10-16T13:49:20.670Z"
   },
   {
    "duration": 9,
    "start_time": "2022-10-16T13:49:23.946Z"
   },
   {
    "duration": 11,
    "start_time": "2022-10-16T13:49:28.038Z"
   },
   {
    "duration": 3,
    "start_time": "2022-10-16T13:49:31.506Z"
   },
   {
    "duration": 69,
    "start_time": "2022-10-16T13:49:31.510Z"
   },
   {
    "duration": 14,
    "start_time": "2022-10-16T13:49:31.581Z"
   },
   {
    "duration": 45,
    "start_time": "2022-10-16T13:49:31.596Z"
   },
   {
    "duration": 672,
    "start_time": "2022-10-16T13:49:31.643Z"
   },
   {
    "duration": 4,
    "start_time": "2022-10-16T13:49:32.317Z"
   },
   {
    "duration": 20,
    "start_time": "2022-10-16T13:49:32.323Z"
   },
   {
    "duration": 19,
    "start_time": "2022-10-16T13:49:32.344Z"
   },
   {
    "duration": 36,
    "start_time": "2022-10-16T13:49:32.364Z"
   },
   {
    "duration": 23,
    "start_time": "2022-10-16T13:49:32.402Z"
   },
   {
    "duration": 10,
    "start_time": "2022-10-16T13:49:34.874Z"
   },
   {
    "duration": 18,
    "start_time": "2022-10-16T13:49:53.153Z"
   },
   {
    "duration": 22,
    "start_time": "2022-10-16T13:50:04.309Z"
   },
   {
    "duration": 27,
    "start_time": "2022-10-16T13:51:55.373Z"
   },
   {
    "duration": 21,
    "start_time": "2022-10-16T13:52:14.827Z"
   },
   {
    "duration": 22,
    "start_time": "2022-10-16T13:54:10.563Z"
   },
   {
    "duration": 4,
    "start_time": "2022-10-16T14:03:35.292Z"
   },
   {
    "duration": 24,
    "start_time": "2022-10-16T14:03:40.210Z"
   },
   {
    "duration": 5,
    "start_time": "2022-10-16T14:04:11.066Z"
   },
   {
    "duration": 16,
    "start_time": "2022-10-16T14:04:41.197Z"
   },
   {
    "duration": 4,
    "start_time": "2022-10-16T14:05:57.815Z"
   },
   {
    "duration": 10,
    "start_time": "2022-10-16T14:06:02.437Z"
   },
   {
    "duration": 5,
    "start_time": "2022-10-16T14:06:07.295Z"
   },
   {
    "duration": 30,
    "start_time": "2022-10-16T14:06:07.946Z"
   },
   {
    "duration": 27,
    "start_time": "2022-10-16T14:29:57.308Z"
   },
   {
    "duration": 12,
    "start_time": "2022-10-16T14:30:01.887Z"
   },
   {
    "duration": 11,
    "start_time": "2022-10-16T14:30:11.249Z"
   },
   {
    "duration": 9,
    "start_time": "2022-10-16T14:30:21.144Z"
   },
   {
    "duration": 16,
    "start_time": "2022-10-16T14:33:24.759Z"
   },
   {
    "duration": 771,
    "start_time": "2022-10-16T19:12:35.648Z"
   },
   {
    "duration": 200,
    "start_time": "2022-10-16T19:12:36.422Z"
   },
   {
    "duration": 27,
    "start_time": "2022-10-16T19:12:36.624Z"
   },
   {
    "duration": 20,
    "start_time": "2022-10-16T19:12:36.654Z"
   },
   {
    "duration": 797,
    "start_time": "2022-10-16T19:12:36.675Z"
   },
   {
    "duration": 4,
    "start_time": "2022-10-16T19:12:37.473Z"
   },
   {
    "duration": 6,
    "start_time": "2022-10-16T19:12:37.478Z"
   },
   {
    "duration": 6,
    "start_time": "2022-10-16T19:12:37.494Z"
   },
   {
    "duration": 27,
    "start_time": "2022-10-16T19:12:37.502Z"
   },
   {
    "duration": 48,
    "start_time": "2022-10-16T19:12:39.517Z"
   },
   {
    "duration": 5,
    "start_time": "2022-10-16T19:17:11.485Z"
   },
   {
    "duration": 6,
    "start_time": "2022-10-16T19:23:20.711Z"
   },
   {
    "duration": 35,
    "start_time": "2022-10-16T19:24:16.131Z"
   },
   {
    "duration": 34,
    "start_time": "2022-10-16T19:24:21.525Z"
   },
   {
    "duration": 13,
    "start_time": "2022-10-16T19:26:33.688Z"
   },
   {
    "duration": 4,
    "start_time": "2022-10-16T19:27:14.241Z"
   },
   {
    "duration": 67,
    "start_time": "2022-10-16T19:27:24.909Z"
   },
   {
    "duration": 5,
    "start_time": "2022-10-16T19:27:32.229Z"
   },
   {
    "duration": 2,
    "start_time": "2022-10-16T19:27:37.040Z"
   },
   {
    "duration": 56,
    "start_time": "2022-10-16T19:27:37.045Z"
   },
   {
    "duration": 18,
    "start_time": "2022-10-16T19:27:37.104Z"
   },
   {
    "duration": 16,
    "start_time": "2022-10-16T19:27:37.123Z"
   },
   {
    "duration": 834,
    "start_time": "2022-10-16T19:27:37.141Z"
   },
   {
    "duration": 4,
    "start_time": "2022-10-16T19:27:37.977Z"
   },
   {
    "duration": 14,
    "start_time": "2022-10-16T19:27:37.982Z"
   },
   {
    "duration": 27,
    "start_time": "2022-10-16T19:27:37.997Z"
   },
   {
    "duration": 11,
    "start_time": "2022-10-16T19:27:38.026Z"
   },
   {
    "duration": 24,
    "start_time": "2022-10-16T19:27:38.038Z"
   },
   {
    "duration": 5,
    "start_time": "2022-10-16T19:27:45.056Z"
   },
   {
    "duration": 10,
    "start_time": "2022-10-16T19:27:59.850Z"
   },
   {
    "duration": 13,
    "start_time": "2022-10-16T19:28:24.141Z"
   },
   {
    "duration": 5,
    "start_time": "2022-10-16T19:30:58.258Z"
   },
   {
    "duration": 31,
    "start_time": "2022-10-16T19:30:59.855Z"
   },
   {
    "duration": 21,
    "start_time": "2022-10-16T19:31:12.549Z"
   },
   {
    "duration": 25,
    "start_time": "2022-10-16T19:31:20.135Z"
   },
   {
    "duration": 22,
    "start_time": "2022-10-16T19:31:22.876Z"
   },
   {
    "duration": 2,
    "start_time": "2022-10-16T19:32:20.638Z"
   },
   {
    "duration": 62,
    "start_time": "2022-10-16T19:32:20.642Z"
   },
   {
    "duration": 17,
    "start_time": "2022-10-16T19:32:20.707Z"
   },
   {
    "duration": 23,
    "start_time": "2022-10-16T19:32:20.725Z"
   },
   {
    "duration": 677,
    "start_time": "2022-10-16T19:32:20.750Z"
   },
   {
    "duration": 4,
    "start_time": "2022-10-16T19:32:21.428Z"
   },
   {
    "duration": 6,
    "start_time": "2022-10-16T19:32:21.433Z"
   },
   {
    "duration": 10,
    "start_time": "2022-10-16T19:32:21.441Z"
   },
   {
    "duration": 19,
    "start_time": "2022-10-16T19:32:21.453Z"
   },
   {
    "duration": 20,
    "start_time": "2022-10-16T19:32:21.474Z"
   },
   {
    "duration": 5,
    "start_time": "2022-10-16T19:32:21.496Z"
   },
   {
    "duration": 29,
    "start_time": "2022-10-16T19:32:21.502Z"
   },
   {
    "duration": 23,
    "start_time": "2022-10-16T19:32:21.532Z"
   },
   {
    "duration": 19,
    "start_time": "2022-10-16T19:33:06.327Z"
   },
   {
    "duration": 19,
    "start_time": "2022-10-16T19:33:07.928Z"
   },
   {
    "duration": 6,
    "start_time": "2022-10-16T19:33:09.772Z"
   },
   {
    "duration": 23,
    "start_time": "2022-10-16T19:33:11.095Z"
   },
   {
    "duration": 9,
    "start_time": "2022-10-16T19:36:37.460Z"
   },
   {
    "duration": 65,
    "start_time": "2022-10-16T19:36:37.474Z"
   },
   {
    "duration": 18,
    "start_time": "2022-10-16T19:36:37.541Z"
   },
   {
    "duration": 23,
    "start_time": "2022-10-16T19:36:37.561Z"
   },
   {
    "duration": 755,
    "start_time": "2022-10-16T19:36:37.585Z"
   },
   {
    "duration": 4,
    "start_time": "2022-10-16T19:36:38.343Z"
   },
   {
    "duration": 5,
    "start_time": "2022-10-16T19:36:38.348Z"
   },
   {
    "duration": 8,
    "start_time": "2022-10-16T19:36:38.355Z"
   },
   {
    "duration": 14,
    "start_time": "2022-10-16T19:36:38.364Z"
   },
   {
    "duration": 31,
    "start_time": "2022-10-16T19:36:38.380Z"
   },
   {
    "duration": 8,
    "start_time": "2022-10-16T19:36:38.413Z"
   },
   {
    "duration": 27,
    "start_time": "2022-10-16T19:36:38.423Z"
   },
   {
    "duration": 134,
    "start_time": "2022-10-16T19:36:38.452Z"
   },
   {
    "duration": 748,
    "start_time": "2022-10-16T19:36:47.523Z"
   },
   {
    "duration": 7,
    "start_time": "2022-10-16T19:36:56.193Z"
   },
   {
    "duration": 20,
    "start_time": "2022-10-16T19:36:57.567Z"
   },
   {
    "duration": 38,
    "start_time": "2022-10-16T19:37:11.664Z"
   },
   {
    "duration": 407,
    "start_time": "2022-10-16T19:37:23.016Z"
   },
   {
    "duration": 4,
    "start_time": "2022-10-16T19:37:27.115Z"
   },
   {
    "duration": 51,
    "start_time": "2022-10-16T19:37:27.122Z"
   },
   {
    "duration": 15,
    "start_time": "2022-10-16T19:37:27.174Z"
   },
   {
    "duration": 40,
    "start_time": "2022-10-16T19:37:27.191Z"
   },
   {
    "duration": 736,
    "start_time": "2022-10-16T19:37:27.233Z"
   },
   {
    "duration": 4,
    "start_time": "2022-10-16T19:37:27.971Z"
   },
   {
    "duration": 4,
    "start_time": "2022-10-16T19:37:27.977Z"
   },
   {
    "duration": 5,
    "start_time": "2022-10-16T19:37:28.003Z"
   },
   {
    "duration": 28,
    "start_time": "2022-10-16T19:37:28.010Z"
   },
   {
    "duration": 18,
    "start_time": "2022-10-16T19:37:28.040Z"
   },
   {
    "duration": 5,
    "start_time": "2022-10-16T19:37:28.059Z"
   },
   {
    "duration": 44,
    "start_time": "2022-10-16T19:37:28.066Z"
   },
   {
    "duration": 35,
    "start_time": "2022-10-16T19:37:28.112Z"
   },
   {
    "duration": 21,
    "start_time": "2022-10-16T19:37:29.511Z"
   },
   {
    "duration": 676,
    "start_time": "2022-10-16T19:37:42.436Z"
   },
   {
    "duration": 5,
    "start_time": "2022-10-16T19:38:02.221Z"
   },
   {
    "duration": 20,
    "start_time": "2022-10-16T19:38:03.350Z"
   },
   {
    "duration": 3,
    "start_time": "2022-10-16T19:38:17.218Z"
   },
   {
    "duration": 54,
    "start_time": "2022-10-16T19:38:17.223Z"
   },
   {
    "duration": 17,
    "start_time": "2022-10-16T19:38:17.279Z"
   },
   {
    "duration": 34,
    "start_time": "2022-10-16T19:38:17.302Z"
   },
   {
    "duration": 714,
    "start_time": "2022-10-16T19:38:17.339Z"
   },
   {
    "duration": 5,
    "start_time": "2022-10-16T19:38:18.055Z"
   },
   {
    "duration": 4,
    "start_time": "2022-10-16T19:38:18.062Z"
   },
   {
    "duration": 14,
    "start_time": "2022-10-16T19:38:18.068Z"
   },
   {
    "duration": 17,
    "start_time": "2022-10-16T19:38:18.094Z"
   },
   {
    "duration": 25,
    "start_time": "2022-10-16T19:38:18.117Z"
   },
   {
    "duration": 5,
    "start_time": "2022-10-16T19:38:18.144Z"
   },
   {
    "duration": 28,
    "start_time": "2022-10-16T19:38:18.150Z"
   },
   {
    "duration": 41,
    "start_time": "2022-10-16T19:38:18.181Z"
   },
   {
    "duration": 5,
    "start_time": "2022-10-16T19:38:23.528Z"
   },
   {
    "duration": 20,
    "start_time": "2022-10-16T19:38:24.017Z"
   },
   {
    "duration": 3,
    "start_time": "2022-10-16T19:40:04.690Z"
   },
   {
    "duration": 71,
    "start_time": "2022-10-16T19:40:04.696Z"
   },
   {
    "duration": 15,
    "start_time": "2022-10-16T19:40:04.769Z"
   },
   {
    "duration": 15,
    "start_time": "2022-10-16T19:40:04.786Z"
   },
   {
    "duration": 876,
    "start_time": "2022-10-16T19:40:04.804Z"
   },
   {
    "duration": 4,
    "start_time": "2022-10-16T19:40:05.682Z"
   },
   {
    "duration": 25,
    "start_time": "2022-10-16T19:40:05.695Z"
   },
   {
    "duration": 6,
    "start_time": "2022-10-16T19:40:05.722Z"
   },
   {
    "duration": 16,
    "start_time": "2022-10-16T19:40:05.730Z"
   },
   {
    "duration": 20,
    "start_time": "2022-10-16T19:40:05.747Z"
   },
   {
    "duration": 5,
    "start_time": "2022-10-16T19:40:05.770Z"
   },
   {
    "duration": 41,
    "start_time": "2022-10-16T19:40:05.777Z"
   },
   {
    "duration": 24,
    "start_time": "2022-10-16T19:40:05.821Z"
   },
   {
    "duration": 25,
    "start_time": "2022-10-16T19:40:29.811Z"
   },
   {
    "duration": 3,
    "start_time": "2022-10-16T19:41:02.823Z"
   },
   {
    "duration": 3,
    "start_time": "2022-10-16T19:41:13.763Z"
   },
   {
    "duration": 51,
    "start_time": "2022-10-16T19:41:14.381Z"
   },
   {
    "duration": 24,
    "start_time": "2022-10-16T19:41:17.447Z"
   },
   {
    "duration": 70,
    "start_time": "2022-10-16T19:41:56.569Z"
   },
   {
    "duration": 507,
    "start_time": "2022-10-16T19:42:21.259Z"
   },
   {
    "duration": 471,
    "start_time": "2022-10-16T19:42:46.503Z"
   },
   {
    "duration": 54,
    "start_time": "2022-10-16T19:42:56.671Z"
   },
   {
    "duration": 15,
    "start_time": "2022-10-16T19:42:59.561Z"
   },
   {
    "duration": 374,
    "start_time": "2022-10-16T19:43:03.063Z"
   },
   {
    "duration": 55,
    "start_time": "2022-10-16T19:43:07.920Z"
   },
   {
    "duration": 396,
    "start_time": "2022-10-16T19:43:22.676Z"
   },
   {
    "duration": 59,
    "start_time": "2022-10-16T19:44:16.324Z"
   },
   {
    "duration": 3,
    "start_time": "2022-10-16T19:44:31.850Z"
   },
   {
    "duration": 69,
    "start_time": "2022-10-16T19:44:31.855Z"
   },
   {
    "duration": 14,
    "start_time": "2022-10-16T19:44:31.927Z"
   },
   {
    "duration": 16,
    "start_time": "2022-10-16T19:44:31.942Z"
   },
   {
    "duration": 731,
    "start_time": "2022-10-16T19:44:31.960Z"
   },
   {
    "duration": 27,
    "start_time": "2022-10-16T19:44:32.692Z"
   },
   {
    "duration": 14,
    "start_time": "2022-10-16T19:44:32.723Z"
   },
   {
    "duration": 8,
    "start_time": "2022-10-16T19:44:32.740Z"
   },
   {
    "duration": 15,
    "start_time": "2022-10-16T19:44:32.749Z"
   },
   {
    "duration": 16,
    "start_time": "2022-10-16T19:44:32.766Z"
   },
   {
    "duration": 5,
    "start_time": "2022-10-16T19:44:32.783Z"
   },
   {
    "duration": 43,
    "start_time": "2022-10-16T19:44:32.789Z"
   },
   {
    "duration": 20,
    "start_time": "2022-10-16T19:44:32.833Z"
   },
   {
    "duration": 12,
    "start_time": "2022-10-16T19:44:53.033Z"
   },
   {
    "duration": 62,
    "start_time": "2022-10-16T19:44:55.423Z"
   },
   {
    "duration": 18,
    "start_time": "2022-10-16T19:45:01.732Z"
   },
   {
    "duration": 14,
    "start_time": "2022-10-16T19:45:10.770Z"
   },
   {
    "duration": 3,
    "start_time": "2022-10-16T19:47:36.677Z"
   },
   {
    "duration": 78,
    "start_time": "2022-10-16T19:47:36.681Z"
   },
   {
    "duration": 19,
    "start_time": "2022-10-16T19:47:36.761Z"
   },
   {
    "duration": 40,
    "start_time": "2022-10-16T19:47:36.783Z"
   },
   {
    "duration": 756,
    "start_time": "2022-10-16T19:47:36.824Z"
   },
   {
    "duration": 4,
    "start_time": "2022-10-16T19:47:37.581Z"
   },
   {
    "duration": 7,
    "start_time": "2022-10-16T19:47:37.595Z"
   },
   {
    "duration": 19,
    "start_time": "2022-10-16T19:47:37.609Z"
   },
   {
    "duration": 11,
    "start_time": "2022-10-16T19:47:37.630Z"
   },
   {
    "duration": 14,
    "start_time": "2022-10-16T19:47:37.643Z"
   },
   {
    "duration": 7,
    "start_time": "2022-10-16T19:47:37.659Z"
   },
   {
    "duration": 41,
    "start_time": "2022-10-16T19:47:37.667Z"
   },
   {
    "duration": 26,
    "start_time": "2022-10-16T19:47:37.712Z"
   },
   {
    "duration": 18,
    "start_time": "2022-10-16T19:48:31.394Z"
   },
   {
    "duration": 32,
    "start_time": "2022-10-16T19:49:18.895Z"
   },
   {
    "duration": 8,
    "start_time": "2022-10-16T19:49:21.866Z"
   },
   {
    "duration": 15,
    "start_time": "2022-10-16T19:49:30.810Z"
   },
   {
    "duration": 10,
    "start_time": "2022-10-16T19:50:06.220Z"
   },
   {
    "duration": 105,
    "start_time": "2022-10-16T19:50:43.742Z"
   },
   {
    "duration": 7,
    "start_time": "2022-10-16T19:50:45.539Z"
   },
   {
    "duration": 23,
    "start_time": "2022-10-16T19:50:46.813Z"
   },
   {
    "duration": 13,
    "start_time": "2022-10-16T19:50:51.962Z"
   },
   {
    "duration": 2,
    "start_time": "2022-10-16T19:51:19.128Z"
   },
   {
    "duration": 46,
    "start_time": "2022-10-16T19:51:19.132Z"
   },
   {
    "duration": 14,
    "start_time": "2022-10-16T19:51:19.180Z"
   },
   {
    "duration": 41,
    "start_time": "2022-10-16T19:51:19.198Z"
   },
   {
    "duration": 765,
    "start_time": "2022-10-16T19:51:19.240Z"
   },
   {
    "duration": 6,
    "start_time": "2022-10-16T19:51:20.007Z"
   },
   {
    "duration": 18,
    "start_time": "2022-10-16T19:51:20.015Z"
   },
   {
    "duration": 7,
    "start_time": "2022-10-16T19:51:20.035Z"
   },
   {
    "duration": 14,
    "start_time": "2022-10-16T19:51:20.043Z"
   },
   {
    "duration": 21,
    "start_time": "2022-10-16T19:51:20.059Z"
   },
   {
    "duration": 5,
    "start_time": "2022-10-16T19:51:20.081Z"
   },
   {
    "duration": 41,
    "start_time": "2022-10-16T19:51:20.088Z"
   },
   {
    "duration": 26,
    "start_time": "2022-10-16T19:51:20.132Z"
   },
   {
    "duration": 3,
    "start_time": "2022-10-16T19:51:20.159Z"
   },
   {
    "duration": 21,
    "start_time": "2022-10-16T19:51:21.617Z"
   },
   {
    "duration": 16,
    "start_time": "2022-10-16T19:51:27.515Z"
   },
   {
    "duration": 3,
    "start_time": "2022-10-16T19:52:27.320Z"
   },
   {
    "duration": 63,
    "start_time": "2022-10-16T19:52:27.325Z"
   },
   {
    "duration": 20,
    "start_time": "2022-10-16T19:52:27.390Z"
   },
   {
    "duration": 28,
    "start_time": "2022-10-16T19:52:27.412Z"
   },
   {
    "duration": 738,
    "start_time": "2022-10-16T19:52:27.443Z"
   },
   {
    "duration": 5,
    "start_time": "2022-10-16T19:52:28.182Z"
   },
   {
    "duration": 11,
    "start_time": "2022-10-16T19:52:28.188Z"
   },
   {
    "duration": 6,
    "start_time": "2022-10-16T19:52:28.201Z"
   },
   {
    "duration": 31,
    "start_time": "2022-10-16T19:52:28.208Z"
   },
   {
    "duration": 15,
    "start_time": "2022-10-16T19:52:28.240Z"
   },
   {
    "duration": 5,
    "start_time": "2022-10-16T19:52:28.256Z"
   },
   {
    "duration": 35,
    "start_time": "2022-10-16T19:52:28.263Z"
   },
   {
    "duration": 30,
    "start_time": "2022-10-16T19:52:28.305Z"
   },
   {
    "duration": 5,
    "start_time": "2022-10-16T19:52:29.136Z"
   },
   {
    "duration": 25,
    "start_time": "2022-10-16T19:52:30.375Z"
   },
   {
    "duration": 645,
    "start_time": "2022-10-16T19:52:51.087Z"
   },
   {
    "duration": 657,
    "start_time": "2022-10-16T19:54:16.786Z"
   },
   {
    "duration": 92,
    "start_time": "2022-10-16T19:55:15.155Z"
   },
   {
    "duration": 22,
    "start_time": "2022-10-16T19:55:17.150Z"
   },
   {
    "duration": 23,
    "start_time": "2022-10-16T19:56:52.991Z"
   },
   {
    "duration": 15,
    "start_time": "2022-10-16T20:03:10.973Z"
   },
   {
    "duration": 3,
    "start_time": "2022-10-16T20:10:50.481Z"
   },
   {
    "duration": 64,
    "start_time": "2022-10-16T20:10:50.485Z"
   },
   {
    "duration": 14,
    "start_time": "2022-10-16T20:10:50.551Z"
   },
   {
    "duration": 14,
    "start_time": "2022-10-16T20:10:50.566Z"
   },
   {
    "duration": 721,
    "start_time": "2022-10-16T20:10:50.582Z"
   },
   {
    "duration": 6,
    "start_time": "2022-10-16T20:10:51.309Z"
   },
   {
    "duration": 8,
    "start_time": "2022-10-16T20:10:51.317Z"
   },
   {
    "duration": 9,
    "start_time": "2022-10-16T20:10:51.327Z"
   },
   {
    "duration": 14,
    "start_time": "2022-10-16T20:11:22.129Z"
   },
   {
    "duration": 4,
    "start_time": "2022-10-16T20:15:01.638Z"
   },
   {
    "duration": 28,
    "start_time": "2022-10-16T20:15:52.196Z"
   },
   {
    "duration": 15,
    "start_time": "2022-10-16T20:16:20.800Z"
   },
   {
    "duration": 22,
    "start_time": "2022-10-16T20:16:45.974Z"
   },
   {
    "duration": 14,
    "start_time": "2022-10-16T20:16:55.626Z"
   },
   {
    "duration": 13,
    "start_time": "2022-10-16T20:16:58.893Z"
   },
   {
    "duration": 12,
    "start_time": "2022-10-16T20:17:07.240Z"
   },
   {
    "duration": 19,
    "start_time": "2022-10-16T20:17:40.729Z"
   },
   {
    "duration": 8,
    "start_time": "2022-10-16T20:18:29.709Z"
   },
   {
    "duration": 2,
    "start_time": "2022-10-16T20:18:34.410Z"
   },
   {
    "duration": 50,
    "start_time": "2022-10-16T20:18:34.414Z"
   },
   {
    "duration": 14,
    "start_time": "2022-10-16T20:18:34.466Z"
   },
   {
    "duration": 14,
    "start_time": "2022-10-16T20:18:34.482Z"
   },
   {
    "duration": 632,
    "start_time": "2022-10-16T20:18:34.498Z"
   },
   {
    "duration": 3,
    "start_time": "2022-10-16T20:18:35.132Z"
   },
   {
    "duration": 7,
    "start_time": "2022-10-16T20:18:35.137Z"
   },
   {
    "duration": 5,
    "start_time": "2022-10-16T20:18:35.145Z"
   },
   {
    "duration": 16,
    "start_time": "2022-10-16T20:18:36.990Z"
   },
   {
    "duration": 21,
    "start_time": "2022-10-16T23:24:19.218Z"
   },
   {
    "duration": 9,
    "start_time": "2022-10-16T23:24:28.452Z"
   },
   {
    "duration": 23,
    "start_time": "2022-10-16T23:24:38.379Z"
   },
   {
    "duration": 9,
    "start_time": "2022-10-16T23:27:06.182Z"
   },
   {
    "duration": 4,
    "start_time": "2022-10-16T23:28:12.198Z"
   },
   {
    "duration": 7,
    "start_time": "2022-10-16T23:31:46.568Z"
   },
   {
    "duration": 12,
    "start_time": "2022-10-16T23:31:52.015Z"
   },
   {
    "duration": 6,
    "start_time": "2022-10-16T23:32:29.400Z"
   },
   {
    "duration": 11,
    "start_time": "2022-10-16T23:32:45.267Z"
   },
   {
    "duration": 17,
    "start_time": "2022-10-16T23:33:29.746Z"
   },
   {
    "duration": 9,
    "start_time": "2022-10-16T23:33:54.037Z"
   },
   {
    "duration": 20,
    "start_time": "2022-10-16T23:33:57.880Z"
   },
   {
    "duration": 19,
    "start_time": "2022-10-16T23:34:07.785Z"
   },
   {
    "duration": 6,
    "start_time": "2022-10-16T23:34:35.229Z"
   },
   {
    "duration": 5,
    "start_time": "2022-10-16T23:34:50.685Z"
   },
   {
    "duration": 4,
    "start_time": "2022-10-16T23:34:59.905Z"
   },
   {
    "duration": 5,
    "start_time": "2022-10-16T23:35:11.819Z"
   },
   {
    "duration": 8,
    "start_time": "2022-10-16T23:35:22.023Z"
   },
   {
    "duration": 5,
    "start_time": "2022-10-16T23:35:33.430Z"
   },
   {
    "duration": 5,
    "start_time": "2022-10-16T23:35:42.522Z"
   },
   {
    "duration": 5,
    "start_time": "2022-10-16T23:35:49.022Z"
   },
   {
    "duration": 2375,
    "start_time": "2022-10-16T23:36:03.960Z"
   },
   {
    "duration": 5,
    "start_time": "2022-10-16T23:36:12.575Z"
   },
   {
    "duration": 8,
    "start_time": "2022-10-16T23:36:20.708Z"
   },
   {
    "duration": 12,
    "start_time": "2022-10-16T23:36:26.673Z"
   },
   {
    "duration": 28,
    "start_time": "2022-10-16T23:38:07.183Z"
   },
   {
    "duration": 5,
    "start_time": "2022-10-16T23:43:02.304Z"
   },
   {
    "duration": 11,
    "start_time": "2022-10-16T23:43:06.094Z"
   },
   {
    "duration": 20,
    "start_time": "2022-10-16T23:43:12.894Z"
   },
   {
    "duration": 4,
    "start_time": "2022-10-16T23:45:36.989Z"
   },
   {
    "duration": 5,
    "start_time": "2022-10-16T23:46:05.682Z"
   },
   {
    "duration": 5,
    "start_time": "2022-10-16T23:46:13.993Z"
   },
   {
    "duration": 1156,
    "start_time": "2022-10-16T23:47:53.889Z"
   },
   {
    "duration": 1137,
    "start_time": "2022-10-16T23:47:59.802Z"
   },
   {
    "duration": 4,
    "start_time": "2022-10-16T23:48:08.669Z"
   },
   {
    "duration": 5,
    "start_time": "2022-10-16T23:49:31.564Z"
   },
   {
    "duration": 3,
    "start_time": "2022-10-16T23:50:49.357Z"
   },
   {
    "duration": 49,
    "start_time": "2022-10-16T23:50:49.361Z"
   },
   {
    "duration": 14,
    "start_time": "2022-10-16T23:50:49.412Z"
   },
   {
    "duration": 15,
    "start_time": "2022-10-16T23:50:49.428Z"
   },
   {
    "duration": 668,
    "start_time": "2022-10-16T23:50:49.445Z"
   },
   {
    "duration": 5,
    "start_time": "2022-10-16T23:50:50.115Z"
   },
   {
    "duration": 5,
    "start_time": "2022-10-16T23:50:50.121Z"
   },
   {
    "duration": 6,
    "start_time": "2022-10-16T23:50:50.127Z"
   },
   {
    "duration": 9,
    "start_time": "2022-10-16T23:50:50.135Z"
   },
   {
    "duration": 13,
    "start_time": "2022-10-16T23:50:50.145Z"
   },
   {
    "duration": 39,
    "start_time": "2022-10-16T23:50:50.159Z"
   },
   {
    "duration": 30,
    "start_time": "2022-10-16T23:50:51.999Z"
   },
   {
    "duration": 5,
    "start_time": "2022-10-17T00:08:07.416Z"
   },
   {
    "duration": 21,
    "start_time": "2022-10-17T00:09:02.602Z"
   },
   {
    "duration": 48,
    "start_time": "2022-10-17T13:18:07.878Z"
   },
   {
    "duration": 747,
    "start_time": "2022-10-17T13:18:12.191Z"
   },
   {
    "duration": 69,
    "start_time": "2022-10-17T13:18:12.941Z"
   },
   {
    "duration": 20,
    "start_time": "2022-10-17T13:18:13.011Z"
   },
   {
    "duration": 16,
    "start_time": "2022-10-17T13:18:13.033Z"
   },
   {
    "duration": 703,
    "start_time": "2022-10-17T13:18:13.050Z"
   },
   {
    "duration": 4,
    "start_time": "2022-10-17T13:18:13.755Z"
   },
   {
    "duration": 5,
    "start_time": "2022-10-17T13:18:13.761Z"
   },
   {
    "duration": 9,
    "start_time": "2022-10-17T13:18:13.768Z"
   },
   {
    "duration": 10,
    "start_time": "2022-10-17T13:18:13.778Z"
   },
   {
    "duration": 76,
    "start_time": "2022-10-17T13:18:13.791Z"
   },
   {
    "duration": 27,
    "start_time": "2022-10-17T13:18:13.869Z"
   },
   {
    "duration": 5,
    "start_time": "2022-10-17T13:18:13.898Z"
   },
   {
    "duration": 41,
    "start_time": "2022-10-17T13:18:13.905Z"
   },
   {
    "duration": 9,
    "start_time": "2022-10-17T13:18:13.948Z"
   },
   {
    "duration": 4,
    "start_time": "2022-10-17T13:18:16.005Z"
   },
   {
    "duration": 183,
    "start_time": "2022-10-17T13:22:24.539Z"
   },
   {
    "duration": 128,
    "start_time": "2022-10-17T13:22:32.282Z"
   },
   {
    "duration": 224,
    "start_time": "2022-10-17T13:22:47.107Z"
   },
   {
    "duration": 160,
    "start_time": "2022-10-17T13:22:57.259Z"
   },
   {
    "duration": 165,
    "start_time": "2022-10-17T13:23:05.018Z"
   },
   {
    "duration": 124,
    "start_time": "2022-10-17T13:23:24.282Z"
   },
   {
    "duration": 142,
    "start_time": "2022-10-17T13:23:38.082Z"
   },
   {
    "duration": 157,
    "start_time": "2022-10-17T13:23:49.305Z"
   },
   {
    "duration": 167,
    "start_time": "2022-10-17T13:23:59.810Z"
   },
   {
    "duration": 140,
    "start_time": "2022-10-17T13:25:58.921Z"
   },
   {
    "duration": 172,
    "start_time": "2022-10-17T13:26:53.489Z"
   },
   {
    "duration": 384,
    "start_time": "2022-10-17T13:36:42.916Z"
   },
   {
    "duration": 296,
    "start_time": "2022-10-17T13:36:51.588Z"
   },
   {
    "duration": 285,
    "start_time": "2022-10-17T13:37:14.367Z"
   },
   {
    "duration": 287,
    "start_time": "2022-10-17T13:37:25.814Z"
   },
   {
    "duration": 284,
    "start_time": "2022-10-17T13:37:59.029Z"
   },
   {
    "duration": 81,
    "start_time": "2022-10-17T13:43:12.137Z"
   },
   {
    "duration": 16,
    "start_time": "2022-10-17T13:43:18.712Z"
   },
   {
    "duration": 12,
    "start_time": "2022-10-17T13:43:29.442Z"
   },
   {
    "duration": 425,
    "start_time": "2022-10-17T13:43:56.209Z"
   },
   {
    "duration": 21,
    "start_time": "2022-10-17T13:47:07.295Z"
   },
   {
    "duration": 3,
    "start_time": "2022-10-17T13:48:51.948Z"
   },
   {
    "duration": 54,
    "start_time": "2022-10-17T13:48:51.953Z"
   },
   {
    "duration": 16,
    "start_time": "2022-10-17T13:48:52.009Z"
   },
   {
    "duration": 87,
    "start_time": "2022-10-17T13:48:52.027Z"
   },
   {
    "duration": 751,
    "start_time": "2022-10-17T13:48:52.117Z"
   },
   {
    "duration": 5,
    "start_time": "2022-10-17T13:48:52.870Z"
   },
   {
    "duration": 8,
    "start_time": "2022-10-17T13:48:52.876Z"
   },
   {
    "duration": 7,
    "start_time": "2022-10-17T13:48:52.885Z"
   },
   {
    "duration": 41,
    "start_time": "2022-10-17T13:48:52.893Z"
   },
   {
    "duration": 16,
    "start_time": "2022-10-17T13:48:52.935Z"
   },
   {
    "duration": 23,
    "start_time": "2022-10-17T13:48:52.954Z"
   },
   {
    "duration": 5,
    "start_time": "2022-10-17T13:48:52.979Z"
   },
   {
    "duration": 10,
    "start_time": "2022-10-17T13:48:52.986Z"
   },
   {
    "duration": 46,
    "start_time": "2022-10-17T13:48:52.998Z"
   },
   {
    "duration": 16,
    "start_time": "2022-10-17T13:48:53.046Z"
   },
   {
    "duration": 36,
    "start_time": "2022-10-17T13:48:53.064Z"
   },
   {
    "duration": 5,
    "start_time": "2022-10-17T13:48:53.101Z"
   },
   {
    "duration": 6,
    "start_time": "2022-10-17T13:48:53.133Z"
   },
   {
    "duration": 8,
    "start_time": "2022-10-17T13:48:53.140Z"
   },
   {
    "duration": 320,
    "start_time": "2022-10-17T13:48:53.150Z"
   },
   {
    "duration": 16,
    "start_time": "2022-10-17T13:48:58.161Z"
   },
   {
    "duration": 16,
    "start_time": "2022-10-17T13:49:17.513Z"
   },
   {
    "duration": 160,
    "start_time": "2022-10-17T13:50:06.141Z"
   },
   {
    "duration": 155,
    "start_time": "2022-10-17T13:50:28.285Z"
   },
   {
    "duration": 1093,
    "start_time": "2022-10-17T13:51:07.805Z"
   },
   {
    "duration": 925,
    "start_time": "2022-10-17T13:51:26.893Z"
   },
   {
    "duration": 236,
    "start_time": "2022-10-17T13:52:03.965Z"
   },
   {
    "duration": 14,
    "start_time": "2022-10-17T13:53:04.636Z"
   },
   {
    "duration": 22,
    "start_time": "2022-10-17T13:53:12.427Z"
   },
   {
    "duration": 44,
    "start_time": "2022-10-17T13:54:50.356Z"
   },
   {
    "duration": 209,
    "start_time": "2022-10-17T13:54:54.875Z"
   },
   {
    "duration": 23,
    "start_time": "2022-10-17T13:56:19.242Z"
   },
   {
    "duration": 51,
    "start_time": "2022-10-17T13:56:50.379Z"
   },
   {
    "duration": 191,
    "start_time": "2022-10-17T13:56:54.538Z"
   },
   {
    "duration": 737,
    "start_time": "2022-10-17T14:00:39.905Z"
   },
   {
    "duration": 23,
    "start_time": "2022-10-17T14:01:33.272Z"
   },
   {
    "duration": 651,
    "start_time": "2022-10-17T14:01:45.336Z"
   },
   {
    "duration": 44,
    "start_time": "2022-10-17T22:53:42.895Z"
   },
   {
    "duration": 748,
    "start_time": "2022-10-17T22:53:46.343Z"
   },
   {
    "duration": 73,
    "start_time": "2022-10-17T22:53:47.092Z"
   },
   {
    "duration": 27,
    "start_time": "2022-10-17T22:53:47.166Z"
   },
   {
    "duration": 18,
    "start_time": "2022-10-17T22:53:47.195Z"
   },
   {
    "duration": 682,
    "start_time": "2022-10-17T22:53:47.214Z"
   },
   {
    "duration": 5,
    "start_time": "2022-10-17T22:53:47.898Z"
   },
   {
    "duration": 17,
    "start_time": "2022-10-17T22:53:47.905Z"
   },
   {
    "duration": 4,
    "start_time": "2022-10-17T22:53:47.924Z"
   },
   {
    "duration": 13,
    "start_time": "2022-10-17T22:53:47.929Z"
   },
   {
    "duration": 52,
    "start_time": "2022-10-17T22:53:50.120Z"
   },
   {
    "duration": 48,
    "start_time": "2022-10-17T22:54:48.816Z"
   },
   {
    "duration": 172,
    "start_time": "2022-10-17T22:54:58.399Z"
   },
   {
    "duration": 336,
    "start_time": "2022-10-17T22:55:10.935Z"
   },
   {
    "duration": 328,
    "start_time": "2022-10-17T22:55:30.189Z"
   },
   {
    "duration": 321,
    "start_time": "2022-10-17T22:56:30.609Z"
   },
   {
    "duration": 337,
    "start_time": "2022-10-17T22:56:33.860Z"
   },
   {
    "duration": 717,
    "start_time": "2022-10-17T22:56:46.169Z"
   },
   {
    "duration": 3,
    "start_time": "2022-10-17T22:56:53.709Z"
   },
   {
    "duration": 42,
    "start_time": "2022-10-17T22:56:53.714Z"
   },
   {
    "duration": 15,
    "start_time": "2022-10-17T22:56:53.758Z"
   },
   {
    "duration": 16,
    "start_time": "2022-10-17T22:56:53.774Z"
   },
   {
    "duration": 749,
    "start_time": "2022-10-17T22:56:53.792Z"
   },
   {
    "duration": 4,
    "start_time": "2022-10-17T22:56:54.542Z"
   },
   {
    "duration": 11,
    "start_time": "2022-10-17T22:56:54.547Z"
   },
   {
    "duration": 11,
    "start_time": "2022-10-17T22:56:54.559Z"
   },
   {
    "duration": 14,
    "start_time": "2022-10-17T22:56:54.572Z"
   },
   {
    "duration": 14,
    "start_time": "2022-10-17T22:56:54.587Z"
   },
   {
    "duration": 37,
    "start_time": "2022-10-17T22:56:54.603Z"
   },
   {
    "duration": 5,
    "start_time": "2022-10-17T22:56:54.641Z"
   },
   {
    "duration": 9,
    "start_time": "2022-10-17T22:56:54.647Z"
   },
   {
    "duration": 15,
    "start_time": "2022-10-17T22:56:54.657Z"
   },
   {
    "duration": 13,
    "start_time": "2022-10-17T22:56:54.673Z"
   },
   {
    "duration": 62,
    "start_time": "2022-10-17T22:56:54.687Z"
   },
   {
    "duration": 4,
    "start_time": "2022-10-17T22:56:54.751Z"
   },
   {
    "duration": 7,
    "start_time": "2022-10-17T22:56:54.757Z"
   },
   {
    "duration": 10,
    "start_time": "2022-10-17T22:56:54.765Z"
   },
   {
    "duration": 309,
    "start_time": "2022-10-17T22:56:54.776Z"
   },
   {
    "duration": 168,
    "start_time": "2022-10-17T22:56:57.385Z"
   },
   {
    "duration": 124,
    "start_time": "2022-10-17T22:57:16.375Z"
   },
   {
    "duration": 142,
    "start_time": "2022-10-17T22:59:00.500Z"
   },
   {
    "duration": 182,
    "start_time": "2022-10-17T22:59:31.844Z"
   },
   {
    "duration": 202,
    "start_time": "2022-10-17T23:00:08.747Z"
   },
   {
    "duration": 209,
    "start_time": "2022-10-17T23:00:16.352Z"
   },
   {
    "duration": 233,
    "start_time": "2022-10-17T23:00:21.346Z"
   },
   {
    "duration": 388,
    "start_time": "2022-10-17T23:00:24.852Z"
   },
   {
    "duration": 163,
    "start_time": "2022-10-17T23:00:35.011Z"
   },
   {
    "duration": 15,
    "start_time": "2022-10-17T23:01:32.516Z"
   },
   {
    "duration": 31,
    "start_time": "2022-10-17T23:01:40.477Z"
   },
   {
    "duration": 47,
    "start_time": "2022-10-17T23:01:48.857Z"
   },
   {
    "duration": 17,
    "start_time": "2022-10-17T23:05:03.481Z"
   },
   {
    "duration": 67,
    "start_time": "2022-10-17T23:05:54.389Z"
   },
   {
    "duration": 43,
    "start_time": "2022-10-17T23:07:52.956Z"
   },
   {
    "duration": 694,
    "start_time": "2022-10-17T23:07:58.347Z"
   },
   {
    "duration": 25,
    "start_time": "2022-10-17T23:08:19.061Z"
   },
   {
    "duration": 21,
    "start_time": "2022-10-17T23:08:53.694Z"
   },
   {
    "duration": 1043,
    "start_time": "2022-10-17T23:09:10.458Z"
   },
   {
    "duration": 96,
    "start_time": "2022-10-17T23:09:34.157Z"
   },
   {
    "duration": 58,
    "start_time": "2022-10-17T23:09:39.511Z"
   },
   {
    "duration": 418,
    "start_time": "2022-10-17T23:12:54.104Z"
   },
   {
    "duration": 179,
    "start_time": "2022-10-17T23:13:07.356Z"
   },
   {
    "duration": 16,
    "start_time": "2022-10-17T23:13:31.481Z"
   },
   {
    "duration": 176,
    "start_time": "2022-10-17T23:14:02.201Z"
   },
   {
    "duration": 12,
    "start_time": "2022-10-17T23:16:20.404Z"
   },
   {
    "duration": 13,
    "start_time": "2022-10-17T23:16:34.939Z"
   },
   {
    "duration": 15,
    "start_time": "2022-10-17T23:16:59.311Z"
   },
   {
    "duration": 230,
    "start_time": "2022-10-17T23:17:06.961Z"
   },
   {
    "duration": 223,
    "start_time": "2022-10-17T23:23:07.511Z"
   },
   {
    "duration": 232,
    "start_time": "2022-10-17T23:24:04.664Z"
   },
   {
    "duration": 53,
    "start_time": "2022-10-17T23:24:13.212Z"
   },
   {
    "duration": 333,
    "start_time": "2022-10-17T23:24:28.801Z"
   },
   {
    "duration": 239,
    "start_time": "2022-10-17T23:24:43.213Z"
   },
   {
    "duration": 43,
    "start_time": "2022-10-17T23:28:12.971Z"
   },
   {
    "duration": 47,
    "start_time": "2022-10-17T23:28:15.191Z"
   },
   {
    "duration": 622,
    "start_time": "2022-10-17T23:28:23.287Z"
   },
   {
    "duration": 609,
    "start_time": "2022-10-17T23:28:43.104Z"
   },
   {
    "duration": 129,
    "start_time": "2022-10-17T23:29:04.888Z"
   },
   {
    "duration": 611,
    "start_time": "2022-10-17T23:29:12.117Z"
   },
   {
    "duration": 325,
    "start_time": "2022-10-17T23:29:36.258Z"
   },
   {
    "duration": 19,
    "start_time": "2022-10-17T23:29:45.270Z"
   },
   {
    "duration": 367,
    "start_time": "2022-10-17T23:29:56.375Z"
   },
   {
    "duration": 280,
    "start_time": "2022-10-17T23:30:02.520Z"
   },
   {
    "duration": 260,
    "start_time": "2022-10-17T23:30:13.014Z"
   },
   {
    "duration": 724,
    "start_time": "2022-10-17T23:30:50.181Z"
   },
   {
    "duration": 249,
    "start_time": "2022-10-17T23:30:58.509Z"
   },
   {
    "duration": 14,
    "start_time": "2022-10-17T23:31:24.605Z"
   },
   {
    "duration": 15,
    "start_time": "2022-10-17T23:31:32.738Z"
   },
   {
    "duration": 258,
    "start_time": "2022-10-17T23:31:40.245Z"
   },
   {
    "duration": 619,
    "start_time": "2022-10-17T23:32:25.032Z"
   },
   {
    "duration": 135,
    "start_time": "2022-10-17T23:32:31.253Z"
   },
   {
    "duration": 776,
    "start_time": "2022-10-17T23:32:56.687Z"
   },
   {
    "duration": 16,
    "start_time": "2022-10-17T23:33:14.379Z"
   },
   {
    "duration": 441,
    "start_time": "2022-10-17T23:33:27.728Z"
   },
   {
    "duration": 291,
    "start_time": "2022-10-17T23:33:49.106Z"
   },
   {
    "duration": 26,
    "start_time": "2022-10-17T23:34:30.245Z"
   },
   {
    "duration": 244,
    "start_time": "2022-10-17T23:49:37.789Z"
   },
   {
    "duration": 93,
    "start_time": "2022-10-17T23:49:54.948Z"
   },
   {
    "duration": 17,
    "start_time": "2022-10-17T23:50:37.499Z"
   },
   {
    "duration": 35,
    "start_time": "2022-10-17T23:50:48.977Z"
   },
   {
    "duration": 101,
    "start_time": "2022-10-17T23:51:27.351Z"
   },
   {
    "duration": 83,
    "start_time": "2022-10-17T23:52:32.479Z"
   },
   {
    "duration": 115,
    "start_time": "2022-10-17T23:53:03.522Z"
   },
   {
    "duration": 25,
    "start_time": "2022-10-17T23:53:25.138Z"
   },
   {
    "duration": 31,
    "start_time": "2022-10-17T23:53:46.884Z"
   },
   {
    "duration": 24,
    "start_time": "2022-10-17T23:53:52.796Z"
   },
   {
    "duration": 22,
    "start_time": "2022-10-17T23:53:59.094Z"
   },
   {
    "duration": 23,
    "start_time": "2022-10-17T23:54:11.829Z"
   },
   {
    "duration": 104,
    "start_time": "2022-10-17T23:54:15.119Z"
   },
   {
    "duration": 113,
    "start_time": "2022-10-17T23:56:10.325Z"
   },
   {
    "duration": 97,
    "start_time": "2022-10-17T23:56:23.400Z"
   },
   {
    "duration": 96,
    "start_time": "2022-10-17T23:56:32.958Z"
   },
   {
    "duration": 31,
    "start_time": "2022-10-17T23:57:27.011Z"
   },
   {
    "duration": 12,
    "start_time": "2022-10-17T23:58:25.454Z"
   },
   {
    "duration": 30,
    "start_time": "2022-10-17T23:58:38.288Z"
   },
   {
    "duration": 29,
    "start_time": "2022-10-17T23:58:53.364Z"
   },
   {
    "duration": 22,
    "start_time": "2022-10-17T23:58:59.823Z"
   },
   {
    "duration": 42,
    "start_time": "2022-10-17T23:59:31.088Z"
   },
   {
    "duration": 6,
    "start_time": "2022-10-17T23:59:37.434Z"
   },
   {
    "duration": 25,
    "start_time": "2022-10-17T23:59:48.320Z"
   },
   {
    "duration": 17,
    "start_time": "2022-10-17T23:59:57.866Z"
   },
   {
    "duration": 11,
    "start_time": "2022-10-18T00:00:07.634Z"
   },
   {
    "duration": 22,
    "start_time": "2022-10-18T00:00:20.887Z"
   },
   {
    "duration": 17,
    "start_time": "2022-10-18T00:01:15.774Z"
   },
   {
    "duration": 97,
    "start_time": "2022-10-18T00:01:36.497Z"
   },
   {
    "duration": 11,
    "start_time": "2022-10-18T00:04:09.299Z"
   },
   {
    "duration": 138,
    "start_time": "2022-10-18T00:04:23.191Z"
   },
   {
    "duration": 155,
    "start_time": "2022-10-18T00:04:30.612Z"
   },
   {
    "duration": 281,
    "start_time": "2022-10-18T00:04:42.461Z"
   },
   {
    "duration": 176,
    "start_time": "2022-10-18T00:04:47.437Z"
   },
   {
    "duration": 154,
    "start_time": "2022-10-18T00:04:52.756Z"
   },
   {
    "duration": 163,
    "start_time": "2022-10-18T00:04:58.522Z"
   },
   {
    "duration": 164,
    "start_time": "2022-10-18T00:05:06.692Z"
   },
   {
    "duration": 190,
    "start_time": "2022-10-18T00:05:11.633Z"
   },
   {
    "duration": 167,
    "start_time": "2022-10-18T00:05:42.030Z"
   },
   {
    "duration": 14,
    "start_time": "2022-10-18T00:07:27.306Z"
   },
   {
    "duration": 12,
    "start_time": "2022-10-18T00:07:39.899Z"
   },
   {
    "duration": 14,
    "start_time": "2022-10-18T00:07:59.904Z"
   },
   {
    "duration": 4,
    "start_time": "2022-10-18T00:09:13.909Z"
   },
   {
    "duration": 14,
    "start_time": "2022-10-18T00:09:18.798Z"
   },
   {
    "duration": 16,
    "start_time": "2022-10-18T00:09:41.342Z"
   },
   {
    "duration": 50,
    "start_time": "2022-10-18T05:50:14.064Z"
   },
   {
    "duration": 782,
    "start_time": "2022-10-18T05:50:18.484Z"
   },
   {
    "duration": 64,
    "start_time": "2022-10-18T05:50:19.268Z"
   },
   {
    "duration": 19,
    "start_time": "2022-10-18T05:50:19.333Z"
   },
   {
    "duration": 13,
    "start_time": "2022-10-18T05:50:19.354Z"
   },
   {
    "duration": 652,
    "start_time": "2022-10-18T05:50:19.368Z"
   },
   {
    "duration": 4,
    "start_time": "2022-10-18T05:50:20.022Z"
   },
   {
    "duration": 7,
    "start_time": "2022-10-18T05:50:20.027Z"
   },
   {
    "duration": 13,
    "start_time": "2022-10-18T05:50:20.036Z"
   },
   {
    "duration": 13,
    "start_time": "2022-10-18T05:50:20.050Z"
   },
   {
    "duration": 53,
    "start_time": "2022-10-18T05:50:20.065Z"
   },
   {
    "duration": 20,
    "start_time": "2022-10-18T05:50:20.120Z"
   },
   {
    "duration": 5,
    "start_time": "2022-10-18T05:50:20.141Z"
   },
   {
    "duration": 12,
    "start_time": "2022-10-18T05:50:20.147Z"
   },
   {
    "duration": 13,
    "start_time": "2022-10-18T05:50:20.160Z"
   },
   {
    "duration": 41,
    "start_time": "2022-10-18T05:50:20.175Z"
   },
   {
    "duration": 32,
    "start_time": "2022-10-18T05:50:20.218Z"
   },
   {
    "duration": 5,
    "start_time": "2022-10-18T05:50:20.251Z"
   },
   {
    "duration": 11,
    "start_time": "2022-10-18T05:50:20.257Z"
   },
   {
    "duration": 5,
    "start_time": "2022-10-18T05:50:20.269Z"
   },
   {
    "duration": 318,
    "start_time": "2022-10-18T05:50:20.275Z"
   },
   {
    "duration": 248,
    "start_time": "2022-10-18T05:50:20.594Z"
   },
   {
    "duration": 321,
    "start_time": "2022-10-18T05:50:20.843Z"
   },
   {
    "duration": 21,
    "start_time": "2022-10-18T05:50:21.166Z"
   },
   {
    "duration": 14,
    "start_time": "2022-10-18T05:50:21.189Z"
   },
   {
    "duration": 101,
    "start_time": "2022-10-18T05:50:21.205Z"
   },
   {
    "duration": 167,
    "start_time": "2022-10-18T05:50:21.308Z"
   },
   {
    "duration": 145,
    "start_time": "2022-10-18T05:50:27.670Z"
   },
   {
    "duration": 157,
    "start_time": "2022-10-18T05:52:22.220Z"
   },
   {
    "duration": 147,
    "start_time": "2022-10-18T05:52:29.420Z"
   },
   {
    "duration": 168,
    "start_time": "2022-10-18T05:54:08.219Z"
   },
   {
    "duration": 224,
    "start_time": "2022-10-18T05:54:27.636Z"
   },
   {
    "duration": 53,
    "start_time": "2022-10-18T05:55:25.228Z"
   },
   {
    "duration": 44,
    "start_time": "2022-10-18T05:55:45.738Z"
   },
   {
    "duration": 60,
    "start_time": "2022-10-18T05:55:55.240Z"
   },
   {
    "duration": 10266,
    "start_time": "2022-10-18T05:56:08.730Z"
   },
   {
    "duration": 911,
    "start_time": "2022-10-18T05:58:04.110Z"
   },
   {
    "duration": 682,
    "start_time": "2022-10-18T05:58:17.161Z"
   },
   {
    "duration": 149,
    "start_time": "2022-10-18T05:58:25.249Z"
   },
   {
    "duration": 177,
    "start_time": "2022-10-18T05:59:11.649Z"
   },
   {
    "duration": 156,
    "start_time": "2022-10-18T05:59:26.657Z"
   },
   {
    "duration": 158,
    "start_time": "2022-10-18T06:00:37.801Z"
   },
   {
    "duration": 225,
    "start_time": "2022-10-18T06:00:53.451Z"
   },
   {
    "duration": 13629,
    "start_time": "2022-10-18T06:02:19.375Z"
   },
   {
    "duration": 154,
    "start_time": "2022-10-18T06:02:52.730Z"
   },
   {
    "duration": 10,
    "start_time": "2022-10-18T06:03:00.254Z"
   },
   {
    "duration": 13,
    "start_time": "2022-10-18T06:03:05.440Z"
   },
   {
    "duration": 139,
    "start_time": "2022-10-18T06:03:33.287Z"
   },
   {
    "duration": 44,
    "start_time": "2022-10-18T06:03:56.838Z"
   },
   {
    "duration": 155,
    "start_time": "2022-10-18T06:03:59.190Z"
   },
   {
    "duration": 150,
    "start_time": "2022-10-18T06:06:46.118Z"
   },
   {
    "duration": 155,
    "start_time": "2022-10-18T06:07:14.141Z"
   },
   {
    "duration": 149,
    "start_time": "2022-10-18T06:07:41.941Z"
   },
   {
    "duration": 173,
    "start_time": "2022-10-18T06:08:48.557Z"
   },
   {
    "duration": 173,
    "start_time": "2022-10-18T06:09:17.557Z"
   },
   {
    "duration": 164,
    "start_time": "2022-10-18T06:09:34.647Z"
   },
   {
    "duration": 173,
    "start_time": "2022-10-18T06:10:15.407Z"
   },
   {
    "duration": 8,
    "start_time": "2022-10-18T06:10:54.580Z"
   },
   {
    "duration": 13,
    "start_time": "2022-10-18T06:10:57.940Z"
   },
   {
    "duration": 161,
    "start_time": "2022-10-18T06:10:59.827Z"
   },
   {
    "duration": 159,
    "start_time": "2022-10-18T06:11:43.844Z"
   },
   {
    "duration": 164,
    "start_time": "2022-10-18T06:11:47.619Z"
   },
   {
    "duration": 177,
    "start_time": "2022-10-18T06:22:44.689Z"
   },
   {
    "duration": 164,
    "start_time": "2022-10-18T06:22:57.318Z"
   },
   {
    "duration": 17,
    "start_time": "2022-10-18T07:18:25.076Z"
   },
   {
    "duration": 173,
    "start_time": "2022-10-18T07:18:28.961Z"
   },
   {
    "duration": 13,
    "start_time": "2022-10-18T07:18:39.169Z"
   },
   {
    "duration": 166,
    "start_time": "2022-10-18T07:18:51.833Z"
   },
   {
    "duration": 16,
    "start_time": "2022-10-18T07:19:08.139Z"
   },
   {
    "duration": 160,
    "start_time": "2022-10-18T07:19:10.666Z"
   },
   {
    "duration": 13,
    "start_time": "2022-10-18T07:19:14.042Z"
   },
   {
    "duration": 160,
    "start_time": "2022-10-18T07:19:21.053Z"
   },
   {
    "duration": 108,
    "start_time": "2022-10-18T10:45:07.810Z"
   },
   {
    "duration": 98,
    "start_time": "2022-10-18T10:45:52.521Z"
   },
   {
    "duration": 94,
    "start_time": "2022-10-18T10:46:12.976Z"
   },
   {
    "duration": 93,
    "start_time": "2022-10-18T10:48:47.150Z"
   },
   {
    "duration": 339,
    "start_time": "2022-10-18T10:49:01.543Z"
   },
   {
    "duration": 223,
    "start_time": "2022-10-18T10:52:41.295Z"
   },
   {
    "duration": 218,
    "start_time": "2022-10-18T10:53:05.837Z"
   },
   {
    "duration": 227,
    "start_time": "2022-10-18T10:53:25.564Z"
   },
   {
    "duration": 135,
    "start_time": "2022-10-18T10:53:29.765Z"
   },
   {
    "duration": 105,
    "start_time": "2022-10-18T10:53:39.805Z"
   },
   {
    "duration": 227,
    "start_time": "2022-10-18T10:53:47.349Z"
   },
   {
    "duration": 244,
    "start_time": "2022-10-18T10:54:10.106Z"
   },
   {
    "duration": 128,
    "start_time": "2022-10-18T11:12:18.328Z"
   },
   {
    "duration": 11,
    "start_time": "2022-10-18T11:13:58.051Z"
   },
   {
    "duration": 97,
    "start_time": "2022-10-18T11:14:29.604Z"
   },
   {
    "duration": 149,
    "start_time": "2022-10-18T11:14:47.705Z"
   },
   {
    "duration": 101,
    "start_time": "2022-10-18T11:15:12.729Z"
   },
   {
    "duration": 99,
    "start_time": "2022-10-18T11:15:25.245Z"
   },
   {
    "duration": 106,
    "start_time": "2022-10-18T11:15:33.305Z"
   },
   {
    "duration": 135,
    "start_time": "2022-10-18T11:39:55.959Z"
   },
   {
    "duration": 134,
    "start_time": "2022-10-18T11:40:03.624Z"
   },
   {
    "duration": 145,
    "start_time": "2022-10-18T11:40:51.789Z"
   },
   {
    "duration": 15,
    "start_time": "2022-10-18T11:44:24.409Z"
   },
   {
    "duration": 11,
    "start_time": "2022-10-18T11:45:05.218Z"
   },
   {
    "duration": 4,
    "start_time": "2022-10-18T11:45:08.876Z"
   },
   {
    "duration": 10,
    "start_time": "2022-10-18T11:45:16.925Z"
   },
   {
    "duration": 5,
    "start_time": "2022-10-18T11:45:26.130Z"
   },
   {
    "duration": 7,
    "start_time": "2022-10-18T11:45:31.673Z"
   },
   {
    "duration": 7,
    "start_time": "2022-10-18T11:45:49.597Z"
   },
   {
    "duration": 10,
    "start_time": "2022-10-18T11:46:30.306Z"
   },
   {
    "duration": 145,
    "start_time": "2022-10-18T12:09:55.784Z"
   },
   {
    "duration": 104,
    "start_time": "2022-10-18T12:14:27.935Z"
   },
   {
    "duration": 309,
    "start_time": "2022-10-18T12:14:59.926Z"
   },
   {
    "duration": 106,
    "start_time": "2022-10-18T12:16:27.883Z"
   },
   {
    "duration": 123,
    "start_time": "2022-10-18T12:17:03.213Z"
   },
   {
    "duration": 95,
    "start_time": "2022-10-18T12:17:10.446Z"
   },
   {
    "duration": 93,
    "start_time": "2022-10-18T12:17:47.529Z"
   },
   {
    "duration": 96,
    "start_time": "2022-10-18T12:18:00.073Z"
   },
   {
    "duration": 95,
    "start_time": "2022-10-18T12:18:08.634Z"
   },
   {
    "duration": 241,
    "start_time": "2022-10-18T12:18:23.362Z"
   },
   {
    "duration": 104,
    "start_time": "2022-10-18T12:18:57.786Z"
   },
   {
    "duration": 103,
    "start_time": "2022-10-18T12:19:14.194Z"
   },
   {
    "duration": 158,
    "start_time": "2022-10-18T12:19:22.297Z"
   },
   {
    "duration": 137,
    "start_time": "2022-10-18T12:19:34.767Z"
   },
   {
    "duration": 177,
    "start_time": "2022-10-18T12:23:54.312Z"
   },
   {
    "duration": 335,
    "start_time": "2022-10-18T12:24:06.080Z"
   },
   {
    "duration": 256,
    "start_time": "2022-10-18T12:24:22.455Z"
   },
   {
    "duration": 254,
    "start_time": "2022-10-18T12:24:34.911Z"
   },
   {
    "duration": 155,
    "start_time": "2022-10-18T12:24:57.023Z"
   },
   {
    "duration": 20,
    "start_time": "2022-10-18T12:33:57.499Z"
   },
   {
    "duration": 131,
    "start_time": "2022-10-18T12:42:25.672Z"
   },
   {
    "duration": 216,
    "start_time": "2022-10-18T12:42:34.545Z"
   },
   {
    "duration": 183,
    "start_time": "2022-10-18T12:42:41.461Z"
   },
   {
    "duration": 165,
    "start_time": "2022-10-18T12:42:57.135Z"
   },
   {
    "duration": 177,
    "start_time": "2022-10-18T12:43:05.797Z"
   },
   {
    "duration": 25,
    "start_time": "2022-10-18T12:43:58.133Z"
   },
   {
    "duration": 24,
    "start_time": "2022-10-18T12:44:30.462Z"
   },
   {
    "duration": 26,
    "start_time": "2022-10-18T12:44:58.725Z"
   },
   {
    "duration": 28,
    "start_time": "2022-10-18T12:52:58.979Z"
   },
   {
    "duration": 383,
    "start_time": "2022-10-18T12:53:04.836Z"
   },
   {
    "duration": 150,
    "start_time": "2022-10-18T12:53:09.985Z"
   },
   {
    "duration": 157,
    "start_time": "2022-10-18T12:53:28.681Z"
   },
   {
    "duration": 173,
    "start_time": "2022-10-18T12:53:34.556Z"
   },
   {
    "duration": 13,
    "start_time": "2022-10-18T12:54:44.186Z"
   },
   {
    "duration": 175,
    "start_time": "2022-10-18T12:54:48.537Z"
   },
   {
    "duration": 140,
    "start_time": "2022-10-18T13:00:26.238Z"
   },
   {
    "duration": 155,
    "start_time": "2022-10-18T13:00:53.879Z"
   },
   {
    "duration": 131,
    "start_time": "2022-10-18T13:05:39.627Z"
   },
   {
    "duration": 134,
    "start_time": "2022-10-18T13:07:23.975Z"
   },
   {
    "duration": 163,
    "start_time": "2022-10-18T13:08:29.236Z"
   },
   {
    "duration": 139,
    "start_time": "2022-10-18T13:10:27.547Z"
   },
   {
    "duration": 149,
    "start_time": "2022-10-18T13:10:43.578Z"
   },
   {
    "duration": 138,
    "start_time": "2022-10-18T13:11:16.011Z"
   },
   {
    "duration": 14,
    "start_time": "2022-10-18T13:11:30.403Z"
   },
   {
    "duration": 16,
    "start_time": "2022-10-18T13:11:42.505Z"
   },
   {
    "duration": 145,
    "start_time": "2022-10-18T13:11:49.665Z"
   },
   {
    "duration": 111,
    "start_time": "2022-10-18T13:14:16.912Z"
   },
   {
    "duration": 149,
    "start_time": "2022-10-18T13:14:33.176Z"
   },
   {
    "duration": 292,
    "start_time": "2022-10-18T13:14:56.976Z"
   },
   {
    "duration": 269,
    "start_time": "2022-10-18T13:15:05.972Z"
   },
   {
    "duration": 248,
    "start_time": "2022-10-18T13:16:15.264Z"
   },
   {
    "duration": 256,
    "start_time": "2022-10-18T13:16:25.519Z"
   },
   {
    "duration": 236,
    "start_time": "2022-10-18T13:16:31.351Z"
   },
   {
    "duration": 255,
    "start_time": "2022-10-18T13:16:38.040Z"
   },
   {
    "duration": 243,
    "start_time": "2022-10-18T13:16:48.707Z"
   },
   {
    "duration": 261,
    "start_time": "2022-10-18T13:17:04.807Z"
   },
   {
    "duration": 250,
    "start_time": "2022-10-18T13:17:33.793Z"
   },
   {
    "duration": 496,
    "start_time": "2022-10-18T13:17:45.138Z"
   },
   {
    "duration": 249,
    "start_time": "2022-10-18T13:20:30.998Z"
   },
   {
    "duration": 262,
    "start_time": "2022-10-18T13:20:46.677Z"
   },
   {
    "duration": 246,
    "start_time": "2022-10-18T13:22:12.712Z"
   },
   {
    "duration": 45,
    "start_time": "2022-10-18T13:22:23.789Z"
   },
   {
    "duration": 43,
    "start_time": "2022-10-18T13:22:30.948Z"
   },
   {
    "duration": 43,
    "start_time": "2022-10-18T13:22:39.045Z"
   },
   {
    "duration": 253,
    "start_time": "2022-10-18T13:22:43.270Z"
   },
   {
    "duration": 51,
    "start_time": "2022-10-18T13:22:52.383Z"
   },
   {
    "duration": 53,
    "start_time": "2022-10-18T13:22:56.984Z"
   },
   {
    "duration": 244,
    "start_time": "2022-10-18T13:23:00.083Z"
   },
   {
    "duration": 254,
    "start_time": "2022-10-18T13:23:19.109Z"
   },
   {
    "duration": 270,
    "start_time": "2022-10-18T13:26:42.795Z"
   },
   {
    "duration": 239,
    "start_time": "2022-10-18T13:26:52.347Z"
   },
   {
    "duration": 1208,
    "start_time": "2022-10-18T13:56:01.602Z"
   },
   {
    "duration": 1567,
    "start_time": "2022-10-18T13:56:14.245Z"
   },
   {
    "duration": 249,
    "start_time": "2022-10-18T13:56:22.210Z"
   },
   {
    "duration": 249,
    "start_time": "2022-10-18T14:03:08.874Z"
   },
   {
    "duration": 260,
    "start_time": "2022-10-18T14:03:31.256Z"
   },
   {
    "duration": 256,
    "start_time": "2022-10-18T14:04:12.453Z"
   },
   {
    "duration": 13,
    "start_time": "2022-10-18T14:04:31.650Z"
   },
   {
    "duration": 285,
    "start_time": "2022-10-18T14:05:24.437Z"
   },
   {
    "duration": 246,
    "start_time": "2022-10-18T14:06:21.325Z"
   },
   {
    "duration": 247,
    "start_time": "2022-10-18T14:07:13.455Z"
   },
   {
    "duration": 480,
    "start_time": "2022-10-18T14:08:28.965Z"
   },
   {
    "duration": 3,
    "start_time": "2022-10-18T14:12:16.963Z"
   },
   {
    "duration": 39,
    "start_time": "2022-10-18T14:12:16.968Z"
   },
   {
    "duration": 14,
    "start_time": "2022-10-18T14:12:17.008Z"
   },
   {
    "duration": 15,
    "start_time": "2022-10-18T14:12:17.024Z"
   },
   {
    "duration": 655,
    "start_time": "2022-10-18T14:12:17.041Z"
   },
   {
    "duration": 4,
    "start_time": "2022-10-18T14:12:17.697Z"
   },
   {
    "duration": 10,
    "start_time": "2022-10-18T14:12:17.702Z"
   },
   {
    "duration": 7,
    "start_time": "2022-10-18T14:12:17.713Z"
   },
   {
    "duration": 11,
    "start_time": "2022-10-18T14:12:17.721Z"
   },
   {
    "duration": 13,
    "start_time": "2022-10-18T14:12:17.733Z"
   },
   {
    "duration": 19,
    "start_time": "2022-10-18T14:12:17.748Z"
   },
   {
    "duration": 4,
    "start_time": "2022-10-18T14:12:17.768Z"
   },
   {
    "duration": 39,
    "start_time": "2022-10-18T14:12:17.773Z"
   },
   {
    "duration": 15,
    "start_time": "2022-10-18T14:12:17.813Z"
   },
   {
    "duration": 15,
    "start_time": "2022-10-18T14:12:17.830Z"
   },
   {
    "duration": 28,
    "start_time": "2022-10-18T14:12:17.846Z"
   },
   {
    "duration": 4,
    "start_time": "2022-10-18T14:12:17.875Z"
   },
   {
    "duration": 28,
    "start_time": "2022-10-18T14:12:17.881Z"
   },
   {
    "duration": 4,
    "start_time": "2022-10-18T14:12:17.911Z"
   },
   {
    "duration": 272,
    "start_time": "2022-10-18T14:12:17.916Z"
   },
   {
    "duration": 267,
    "start_time": "2022-10-18T14:12:18.190Z"
   },
   {
    "duration": 278,
    "start_time": "2022-10-18T14:12:18.459Z"
   },
   {
    "duration": 24,
    "start_time": "2022-10-18T14:12:18.738Z"
   },
   {
    "duration": 18,
    "start_time": "2022-10-18T14:12:18.764Z"
   },
   {
    "duration": 169,
    "start_time": "2022-10-18T14:12:18.809Z"
   },
   {
    "duration": 254,
    "start_time": "2022-10-18T14:12:18.980Z"
   },
   {
    "duration": 182,
    "start_time": "2022-10-18T14:12:19.236Z"
   },
   {
    "duration": 13,
    "start_time": "2022-10-18T14:12:19.420Z"
   },
   {
    "duration": 196,
    "start_time": "2022-10-18T14:12:19.435Z"
   },
   {
    "duration": 61,
    "start_time": "2022-10-18T14:19:14.957Z"
   },
   {
    "duration": 81,
    "start_time": "2022-10-18T14:19:41.043Z"
   },
   {
    "duration": 51,
    "start_time": "2022-10-18T14:19:58.217Z"
   },
   {
    "duration": 22,
    "start_time": "2022-10-18T14:22:41.747Z"
   },
   {
    "duration": 18,
    "start_time": "2022-10-18T14:22:58.503Z"
   },
   {
    "duration": 29,
    "start_time": "2022-10-18T14:23:38.158Z"
   },
   {
    "duration": 51,
    "start_time": "2022-10-18T14:24:09.197Z"
   },
   {
    "duration": 163,
    "start_time": "2022-10-18T14:24:23.183Z"
   },
   {
    "duration": 47,
    "start_time": "2022-10-18T14:25:27.141Z"
   },
   {
    "duration": 30,
    "start_time": "2022-10-18T14:26:38.407Z"
   },
   {
    "duration": 19,
    "start_time": "2022-10-18T14:27:03.110Z"
   },
   {
    "duration": 30,
    "start_time": "2022-10-18T14:27:13.756Z"
   },
   {
    "duration": 23,
    "start_time": "2022-10-18T14:27:35.056Z"
   },
   {
    "duration": 18,
    "start_time": "2022-10-18T14:35:22.336Z"
   },
   {
    "duration": 29,
    "start_time": "2022-10-18T14:35:55.864Z"
   },
   {
    "duration": 18,
    "start_time": "2022-10-18T14:36:09.115Z"
   },
   {
    "duration": 47,
    "start_time": "2022-10-18T14:39:00.799Z"
   },
   {
    "duration": 17,
    "start_time": "2022-10-18T14:39:17.952Z"
   },
   {
    "duration": 9,
    "start_time": "2022-10-18T14:44:32.459Z"
   },
   {
    "duration": 47,
    "start_time": "2022-10-18T14:46:05.491Z"
   },
   {
    "duration": 1057,
    "start_time": "2022-10-18T14:46:24.026Z"
   },
   {
    "duration": 790,
    "start_time": "2022-10-18T14:46:41.979Z"
   },
   {
    "duration": 1012,
    "start_time": "2022-10-18T14:46:50.411Z"
   },
   {
    "duration": 11,
    "start_time": "2022-10-18T14:47:17.981Z"
   },
   {
    "duration": 9,
    "start_time": "2022-10-18T14:48:33.022Z"
   },
   {
    "duration": 105,
    "start_time": "2022-10-18T14:48:46.801Z"
   },
   {
    "duration": 7,
    "start_time": "2022-10-18T14:49:29.490Z"
   },
   {
    "duration": 49,
    "start_time": "2022-10-18T14:52:15.952Z"
   },
   {
    "duration": 535,
    "start_time": "2022-10-18T14:52:37.186Z"
   },
   {
    "duration": 51,
    "start_time": "2022-10-18T14:54:41.358Z"
   },
   {
    "duration": 16,
    "start_time": "2022-10-18T14:54:54.664Z"
   },
   {
    "duration": 480,
    "start_time": "2022-10-18T15:02:44.460Z"
   },
   {
    "duration": 262,
    "start_time": "2022-10-18T15:02:56.246Z"
   },
   {
    "duration": 263,
    "start_time": "2022-10-18T15:06:45.961Z"
   },
   {
    "duration": 478,
    "start_time": "2022-10-18T15:07:19.793Z"
   },
   {
    "duration": 491,
    "start_time": "2022-10-18T16:14:28.166Z"
   },
   {
    "duration": 879,
    "start_time": "2022-10-18T16:19:54.233Z"
   },
   {
    "duration": 682,
    "start_time": "2022-10-18T16:20:16.710Z"
   },
   {
    "duration": 852,
    "start_time": "2022-10-18T16:21:24.209Z"
   },
   {
    "duration": 11,
    "start_time": "2022-10-18T16:21:41.555Z"
   },
   {
    "duration": 108,
    "start_time": "2022-10-18T16:21:56.089Z"
   },
   {
    "duration": 114,
    "start_time": "2022-10-18T16:22:03.295Z"
   },
   {
    "duration": 109,
    "start_time": "2022-10-18T16:22:17.728Z"
   },
   {
    "duration": 7,
    "start_time": "2022-10-18T16:22:29.106Z"
   },
   {
    "duration": 7,
    "start_time": "2022-10-18T16:23:02.742Z"
   },
   {
    "duration": 8,
    "start_time": "2022-10-18T16:23:07.408Z"
   },
   {
    "duration": 110,
    "start_time": "2022-10-18T16:23:30.016Z"
   },
   {
    "duration": 227,
    "start_time": "2022-10-18T16:23:44.136Z"
   },
   {
    "duration": 295,
    "start_time": "2022-10-18T16:24:04.458Z"
   },
   {
    "duration": 13,
    "start_time": "2022-10-18T16:27:53.478Z"
   },
   {
    "duration": 237,
    "start_time": "2022-10-18T16:27:58.945Z"
   },
   {
    "duration": 122,
    "start_time": "2022-10-18T16:28:03.028Z"
   },
   {
    "duration": 118,
    "start_time": "2022-10-18T16:29:30.292Z"
   },
   {
    "duration": 228,
    "start_time": "2022-10-18T16:29:38.363Z"
   },
   {
    "duration": 113,
    "start_time": "2022-10-18T16:29:41.949Z"
   },
   {
    "duration": 115,
    "start_time": "2022-10-18T16:29:45.300Z"
   },
   {
    "duration": 249,
    "start_time": "2022-10-18T16:29:48.426Z"
   },
   {
    "duration": 472,
    "start_time": "2022-10-18T16:29:58.512Z"
   },
   {
    "duration": 231,
    "start_time": "2022-10-18T16:30:32.902Z"
   },
   {
    "duration": 67,
    "start_time": "2022-10-18T16:31:09.536Z"
   },
   {
    "duration": 250,
    "start_time": "2022-10-18T16:31:49.537Z"
   },
   {
    "duration": 250,
    "start_time": "2022-10-18T16:32:29.209Z"
   },
   {
    "duration": 182,
    "start_time": "2022-10-18T16:32:52.907Z"
   },
   {
    "duration": 173,
    "start_time": "2022-10-18T16:32:59.945Z"
   },
   {
    "duration": 134,
    "start_time": "2022-10-18T16:33:12.001Z"
   },
   {
    "duration": 165,
    "start_time": "2022-10-18T16:33:24.635Z"
   },
   {
    "duration": 247,
    "start_time": "2022-10-18T16:34:22.056Z"
   },
   {
    "duration": 242,
    "start_time": "2022-10-18T16:35:02.173Z"
   },
   {
    "duration": 250,
    "start_time": "2022-10-18T16:35:55.183Z"
   },
   {
    "duration": 255,
    "start_time": "2022-10-18T16:36:21.329Z"
   },
   {
    "duration": 280,
    "start_time": "2022-10-18T16:37:12.483Z"
   },
   {
    "duration": 274,
    "start_time": "2022-10-18T16:37:18.790Z"
   },
   {
    "duration": 283,
    "start_time": "2022-10-18T16:37:30.297Z"
   },
   {
    "duration": 278,
    "start_time": "2022-10-18T16:37:42.020Z"
   },
   {
    "duration": 306,
    "start_time": "2022-10-18T16:37:59.813Z"
   },
   {
    "duration": 14,
    "start_time": "2022-10-18T16:40:37.979Z"
   },
   {
    "duration": 251,
    "start_time": "2022-10-18T16:40:44.170Z"
   },
   {
    "duration": 122,
    "start_time": "2022-10-18T16:45:02.284Z"
   },
   {
    "duration": 118,
    "start_time": "2022-10-18T16:45:06.317Z"
   },
   {
    "duration": 294,
    "start_time": "2022-10-18T16:45:34.326Z"
   },
   {
    "duration": 249,
    "start_time": "2022-10-18T16:45:36.949Z"
   },
   {
    "duration": 249,
    "start_time": "2022-10-18T16:45:40.454Z"
   },
   {
    "duration": 517,
    "start_time": "2022-10-18T16:47:42.248Z"
   },
   {
    "duration": 268,
    "start_time": "2022-10-18T16:47:57.177Z"
   },
   {
    "duration": 129,
    "start_time": "2022-10-18T16:48:03.248Z"
   },
   {
    "duration": 262,
    "start_time": "2022-10-18T16:48:11.624Z"
   },
   {
    "duration": 246,
    "start_time": "2022-10-18T16:48:47.786Z"
   },
   {
    "duration": 247,
    "start_time": "2022-10-18T16:48:51.538Z"
   },
   {
    "duration": 290,
    "start_time": "2022-10-18T16:48:55.353Z"
   },
   {
    "duration": 270,
    "start_time": "2022-10-18T16:48:59.277Z"
   },
   {
    "duration": 245,
    "start_time": "2022-10-18T16:49:03.796Z"
   },
   {
    "duration": 253,
    "start_time": "2022-10-18T16:49:07.884Z"
   },
   {
    "duration": 278,
    "start_time": "2022-10-18T16:49:13.272Z"
   },
   {
    "duration": 278,
    "start_time": "2022-10-18T16:49:16.368Z"
   },
   {
    "duration": 256,
    "start_time": "2022-10-18T16:49:23.061Z"
   },
   {
    "duration": 242,
    "start_time": "2022-10-18T16:49:29.213Z"
   },
   {
    "duration": 251,
    "start_time": "2022-10-18T16:49:35.392Z"
   },
   {
    "duration": 119,
    "start_time": "2022-10-18T16:51:59.457Z"
   },
   {
    "duration": 122,
    "start_time": "2022-10-18T16:52:12.850Z"
   },
   {
    "duration": 278,
    "start_time": "2022-10-18T16:52:27.150Z"
   },
   {
    "duration": 278,
    "start_time": "2022-10-18T16:52:48.872Z"
   },
   {
    "duration": 301,
    "start_time": "2022-10-18T16:53:13.229Z"
   },
   {
    "duration": 578,
    "start_time": "2022-10-18T16:53:23.017Z"
   },
   {
    "duration": 180,
    "start_time": "2022-10-18T16:54:47.539Z"
   },
   {
    "duration": 172,
    "start_time": "2022-10-18T16:54:53.266Z"
   },
   {
    "duration": 252,
    "start_time": "2022-10-18T16:55:31.713Z"
   },
   {
    "duration": 303,
    "start_time": "2022-10-18T16:55:39.311Z"
   },
   {
    "duration": 279,
    "start_time": "2022-10-18T16:55:52.059Z"
   },
   {
    "duration": 283,
    "start_time": "2022-10-18T16:55:59.380Z"
   },
   {
    "duration": 144,
    "start_time": "2022-10-18T17:21:04.326Z"
   },
   {
    "duration": 288,
    "start_time": "2022-10-18T17:21:29.477Z"
   },
   {
    "duration": 285,
    "start_time": "2022-10-18T17:22:25.105Z"
   },
   {
    "duration": 167,
    "start_time": "2022-10-18T17:31:48.275Z"
   },
   {
    "duration": 172,
    "start_time": "2022-10-18T17:31:56.320Z"
   },
   {
    "duration": 200,
    "start_time": "2022-10-18T17:32:54.301Z"
   },
   {
    "duration": 169,
    "start_time": "2022-10-18T17:33:24.721Z"
   },
   {
    "duration": 306,
    "start_time": "2022-10-18T17:35:18.905Z"
   },
   {
    "duration": 298,
    "start_time": "2022-10-18T17:38:41.512Z"
   },
   {
    "duration": 2,
    "start_time": "2022-10-18T17:47:08.968Z"
   },
   {
    "duration": 54,
    "start_time": "2022-10-18T17:47:08.972Z"
   },
   {
    "duration": 15,
    "start_time": "2022-10-18T17:47:09.028Z"
   },
   {
    "duration": 22,
    "start_time": "2022-10-18T17:47:09.044Z"
   },
   {
    "duration": 616,
    "start_time": "2022-10-18T17:47:09.069Z"
   },
   {
    "duration": 5,
    "start_time": "2022-10-18T17:47:09.688Z"
   },
   {
    "duration": 14,
    "start_time": "2022-10-18T17:47:09.695Z"
   },
   {
    "duration": 14,
    "start_time": "2022-10-18T17:47:09.710Z"
   },
   {
    "duration": 20,
    "start_time": "2022-10-18T17:47:09.725Z"
   },
   {
    "duration": 25,
    "start_time": "2022-10-18T17:47:09.746Z"
   },
   {
    "duration": 22,
    "start_time": "2022-10-18T17:47:09.773Z"
   },
   {
    "duration": 25,
    "start_time": "2022-10-18T17:47:09.797Z"
   },
   {
    "duration": 24,
    "start_time": "2022-10-18T17:47:09.824Z"
   },
   {
    "duration": 17,
    "start_time": "2022-10-18T17:47:09.849Z"
   },
   {
    "duration": 13,
    "start_time": "2022-10-18T17:47:09.867Z"
   },
   {
    "duration": 30,
    "start_time": "2022-10-18T17:47:09.881Z"
   },
   {
    "duration": 5,
    "start_time": "2022-10-18T17:47:09.913Z"
   },
   {
    "duration": 7,
    "start_time": "2022-10-18T17:47:09.919Z"
   },
   {
    "duration": 4,
    "start_time": "2022-10-18T17:47:09.928Z"
   },
   {
    "duration": 578,
    "start_time": "2022-10-18T17:47:09.934Z"
   },
   {
    "duration": 264,
    "start_time": "2022-10-18T17:47:10.513Z"
   },
   {
    "duration": 31,
    "start_time": "2022-10-18T17:47:10.779Z"
   },
   {
    "duration": 19,
    "start_time": "2022-10-18T17:47:10.812Z"
   },
   {
    "duration": 181,
    "start_time": "2022-10-18T17:47:10.833Z"
   },
   {
    "duration": 293,
    "start_time": "2022-10-18T17:47:11.016Z"
   },
   {
    "duration": 296,
    "start_time": "2022-10-18T17:47:11.310Z"
   },
   {
    "duration": 176,
    "start_time": "2022-10-18T17:47:11.608Z"
   },
   {
    "duration": 25,
    "start_time": "2022-10-18T17:47:11.785Z"
   },
   {
    "duration": 175,
    "start_time": "2022-10-18T17:47:11.813Z"
   },
   {
    "duration": 23,
    "start_time": "2022-10-18T17:47:48.063Z"
   },
   {
    "duration": 6,
    "start_time": "2022-10-18T17:52:13.491Z"
   },
   {
    "duration": 22,
    "start_time": "2022-10-18T17:52:22.174Z"
   },
   {
    "duration": 5,
    "start_time": "2022-10-18T17:52:43.433Z"
   },
   {
    "duration": 6,
    "start_time": "2022-10-18T17:52:58.302Z"
   },
   {
    "duration": 4,
    "start_time": "2022-10-18T17:53:34.057Z"
   },
   {
    "duration": 6,
    "start_time": "2022-10-18T17:53:55.594Z"
   },
   {
    "duration": 4,
    "start_time": "2022-10-18T17:54:11.131Z"
   },
   {
    "duration": 4,
    "start_time": "2022-10-18T17:54:32.850Z"
   },
   {
    "duration": 4,
    "start_time": "2022-10-18T17:54:57.256Z"
   },
   {
    "duration": 998,
    "start_time": "2022-10-18T17:55:47.990Z"
   },
   {
    "duration": 6,
    "start_time": "2022-10-18T17:55:56.933Z"
   },
   {
    "duration": 7,
    "start_time": "2022-10-18T17:56:24.634Z"
   },
   {
    "duration": 6,
    "start_time": "2022-10-18T17:56:38.513Z"
   },
   {
    "duration": 5,
    "start_time": "2022-10-18T17:56:48.379Z"
   },
   {
    "duration": 5,
    "start_time": "2022-10-18T17:56:59.193Z"
   },
   {
    "duration": 6,
    "start_time": "2022-10-18T17:57:11.076Z"
   },
   {
    "duration": 7,
    "start_time": "2022-10-18T17:58:19.395Z"
   },
   {
    "duration": 24,
    "start_time": "2022-10-18T17:59:04.984Z"
   },
   {
    "duration": 6,
    "start_time": "2022-10-18T17:59:07.192Z"
   },
   {
    "duration": 21,
    "start_time": "2022-10-18T18:12:00.040Z"
   },
   {
    "duration": 15,
    "start_time": "2022-10-18T18:12:13.176Z"
   },
   {
    "duration": 16,
    "start_time": "2022-10-18T18:12:40.890Z"
   },
   {
    "duration": 17,
    "start_time": "2022-10-18T18:13:04.701Z"
   },
   {
    "duration": 15,
    "start_time": "2022-10-18T18:13:11.346Z"
   },
   {
    "duration": 8,
    "start_time": "2022-10-18T18:13:19.715Z"
   },
   {
    "duration": 8,
    "start_time": "2022-10-18T18:13:23.331Z"
   },
   {
    "duration": 14,
    "start_time": "2022-10-18T18:13:29.157Z"
   },
   {
    "duration": 8,
    "start_time": "2022-10-18T18:13:40.622Z"
   },
   {
    "duration": 15,
    "start_time": "2022-10-18T18:13:48.516Z"
   },
   {
    "duration": 10,
    "start_time": "2022-10-18T18:14:19.961Z"
   },
   {
    "duration": 10,
    "start_time": "2022-10-18T18:14:30.512Z"
   },
   {
    "duration": 11,
    "start_time": "2022-10-18T18:14:44.778Z"
   },
   {
    "duration": 9,
    "start_time": "2022-10-18T18:14:59.415Z"
   },
   {
    "duration": 9,
    "start_time": "2022-10-18T18:15:04.959Z"
   },
   {
    "duration": 10,
    "start_time": "2022-10-18T18:15:14.008Z"
   },
   {
    "duration": 9,
    "start_time": "2022-10-18T18:15:21.038Z"
   },
   {
    "duration": 7,
    "start_time": "2022-10-18T18:15:52.165Z"
   },
   {
    "duration": 12,
    "start_time": "2022-10-18T18:16:16.369Z"
   },
   {
    "duration": 10,
    "start_time": "2022-10-18T18:17:41.005Z"
   },
   {
    "duration": 16,
    "start_time": "2022-10-18T18:18:02.151Z"
   },
   {
    "duration": 12,
    "start_time": "2022-10-18T18:18:14.534Z"
   },
   {
    "duration": 12,
    "start_time": "2022-10-18T18:18:21.800Z"
   },
   {
    "duration": 10,
    "start_time": "2022-10-18T18:20:08.715Z"
   },
   {
    "duration": 9,
    "start_time": "2022-10-18T18:20:18.341Z"
   },
   {
    "duration": 10,
    "start_time": "2022-10-18T18:20:27.283Z"
   },
   {
    "duration": 9,
    "start_time": "2022-10-18T18:21:25.736Z"
   },
   {
    "duration": 9,
    "start_time": "2022-10-18T18:21:33.240Z"
   },
   {
    "duration": 8,
    "start_time": "2022-10-18T18:21:48.248Z"
   },
   {
    "duration": 9,
    "start_time": "2022-10-18T18:21:57.927Z"
   },
   {
    "duration": 9,
    "start_time": "2022-10-18T18:23:35.212Z"
   },
   {
    "duration": 10,
    "start_time": "2022-10-18T18:23:49.801Z"
   },
   {
    "duration": 14,
    "start_time": "2022-10-18T18:23:59.790Z"
   },
   {
    "duration": 13,
    "start_time": "2022-10-18T18:24:31.469Z"
   },
   {
    "duration": 13,
    "start_time": "2022-10-18T18:24:52.595Z"
   },
   {
    "duration": 9,
    "start_time": "2022-10-18T18:24:58.958Z"
   },
   {
    "duration": 126,
    "start_time": "2022-10-18T18:27:01.496Z"
   },
   {
    "duration": 113,
    "start_time": "2022-10-18T18:27:34.821Z"
   },
   {
    "duration": 16,
    "start_time": "2022-10-18T18:28:33.124Z"
   },
   {
    "duration": 375,
    "start_time": "2022-10-18T18:28:49.395Z"
   },
   {
    "duration": 16,
    "start_time": "2022-10-18T18:28:58.093Z"
   },
   {
    "duration": 0,
    "start_time": "2022-10-18T18:30:09.520Z"
   },
   {
    "duration": 9,
    "start_time": "2022-10-18T18:30:57.593Z"
   },
   {
    "duration": 10,
    "start_time": "2022-10-18T18:31:02.042Z"
   },
   {
    "duration": 9,
    "start_time": "2022-10-18T18:31:21.461Z"
   },
   {
    "duration": 14,
    "start_time": "2022-10-18T18:31:38.192Z"
   },
   {
    "duration": 23,
    "start_time": "2022-10-18T18:33:29.423Z"
   },
   {
    "duration": 20,
    "start_time": "2022-10-18T18:36:57.713Z"
   },
   {
    "duration": 170,
    "start_time": "2022-10-18T18:37:04.212Z"
   },
   {
    "duration": 288,
    "start_time": "2022-10-18T18:37:10.124Z"
   },
   {
    "duration": 130,
    "start_time": "2022-10-18T18:37:21.633Z"
   },
   {
    "duration": 20,
    "start_time": "2022-10-18T18:38:07.611Z"
   },
   {
    "duration": 163,
    "start_time": "2022-10-18T18:38:10.265Z"
   },
   {
    "duration": 20,
    "start_time": "2022-10-18T18:38:16.340Z"
   },
   {
    "duration": 167,
    "start_time": "2022-10-18T18:38:18.620Z"
   },
   {
    "duration": 274,
    "start_time": "2022-10-18T18:38:22.290Z"
   },
   {
    "duration": 275,
    "start_time": "2022-10-18T18:38:25.355Z"
   },
   {
    "duration": 74,
    "start_time": "2022-10-18T18:41:23.795Z"
   },
   {
    "duration": 108,
    "start_time": "2022-10-18T18:42:19.921Z"
   },
   {
    "duration": 87,
    "start_time": "2022-10-18T18:42:26.231Z"
   },
   {
    "duration": 79,
    "start_time": "2022-10-18T18:42:32.977Z"
   },
   {
    "duration": 91,
    "start_time": "2022-10-18T18:42:37.909Z"
   },
   {
    "duration": 90,
    "start_time": "2022-10-18T18:42:44.565Z"
   },
   {
    "duration": 93,
    "start_time": "2022-10-18T18:44:27.674Z"
   },
   {
    "duration": 112,
    "start_time": "2022-10-18T18:44:55.998Z"
   },
   {
    "duration": 95,
    "start_time": "2022-10-18T18:45:05.122Z"
   },
   {
    "duration": 99,
    "start_time": "2022-10-18T18:45:08.510Z"
   },
   {
    "duration": 120,
    "start_time": "2022-10-18T18:45:15.534Z"
   },
   {
    "duration": 100,
    "start_time": "2022-10-18T18:45:33.552Z"
   },
   {
    "duration": 91,
    "start_time": "2022-10-18T18:45:43.902Z"
   },
   {
    "duration": 93,
    "start_time": "2022-10-18T18:45:56.311Z"
   },
   {
    "duration": 97,
    "start_time": "2022-10-18T18:47:51.316Z"
   },
   {
    "duration": 94,
    "start_time": "2022-10-18T18:48:01.682Z"
   },
   {
    "duration": 94,
    "start_time": "2022-10-18T18:48:10.059Z"
   },
   {
    "duration": 113,
    "start_time": "2022-10-18T18:48:27.078Z"
   },
   {
    "duration": 102,
    "start_time": "2022-10-18T18:48:52.314Z"
   },
   {
    "duration": 103,
    "start_time": "2022-10-18T18:49:58.555Z"
   },
   {
    "duration": 101,
    "start_time": "2022-10-18T19:57:41.929Z"
   },
   {
    "duration": 182,
    "start_time": "2022-10-18T19:58:09.978Z"
   },
   {
    "duration": 213,
    "start_time": "2022-10-18T19:58:53.208Z"
   },
   {
    "duration": 182,
    "start_time": "2022-10-18T19:59:04.045Z"
   },
   {
    "duration": 184,
    "start_time": "2022-10-18T19:59:22.741Z"
   },
   {
    "duration": 179,
    "start_time": "2022-10-18T20:00:53.092Z"
   },
   {
    "duration": 92,
    "start_time": "2022-10-18T20:01:08.782Z"
   },
   {
    "duration": 90,
    "start_time": "2022-10-18T20:01:14.737Z"
   },
   {
    "duration": 24,
    "start_time": "2022-10-18T20:02:41.319Z"
   },
   {
    "duration": 24,
    "start_time": "2022-10-18T20:02:54.955Z"
   },
   {
    "duration": 167,
    "start_time": "2022-10-18T20:03:00.886Z"
   },
   {
    "duration": 298,
    "start_time": "2022-10-18T20:03:04.516Z"
   },
   {
    "duration": 277,
    "start_time": "2022-10-18T20:03:06.746Z"
   },
   {
    "duration": 116,
    "start_time": "2022-10-18T20:03:09.473Z"
   },
   {
    "duration": 300,
    "start_time": "2022-10-18T20:03:18.420Z"
   },
   {
    "duration": 165,
    "start_time": "2022-10-18T20:03:24.015Z"
   },
   {
    "duration": 13,
    "start_time": "2022-10-18T20:03:51.124Z"
   },
   {
    "duration": 172,
    "start_time": "2022-10-18T20:03:54.736Z"
   },
   {
    "duration": 92,
    "start_time": "2022-10-18T20:04:05.045Z"
   },
   {
    "duration": 92,
    "start_time": "2022-10-18T20:04:21.468Z"
   },
   {
    "duration": 92,
    "start_time": "2022-10-18T20:04:33.491Z"
   },
   {
    "duration": 93,
    "start_time": "2022-10-18T20:04:39.627Z"
   },
   {
    "duration": 111,
    "start_time": "2022-10-18T20:08:57.289Z"
   },
   {
    "duration": 95,
    "start_time": "2022-10-18T20:09:00.541Z"
   },
   {
    "duration": 88,
    "start_time": "2022-10-18T20:09:29.125Z"
   },
   {
    "duration": 94,
    "start_time": "2022-10-18T20:09:50.597Z"
   },
   {
    "duration": 107,
    "start_time": "2022-10-18T20:09:56.163Z"
   },
   {
    "duration": 93,
    "start_time": "2022-10-18T20:10:02.939Z"
   },
   {
    "duration": 91,
    "start_time": "2022-10-18T20:10:07.988Z"
   },
   {
    "duration": 92,
    "start_time": "2022-10-18T20:10:42.473Z"
   },
   {
    "duration": 91,
    "start_time": "2022-10-18T20:10:51.552Z"
   },
   {
    "duration": 933,
    "start_time": "2022-10-18T20:14:16.066Z"
   },
   {
    "duration": 94,
    "start_time": "2022-10-18T20:15:05.317Z"
   },
   {
    "duration": 91,
    "start_time": "2022-10-18T20:16:33.319Z"
   },
   {
    "duration": 667,
    "start_time": "2022-10-18T20:17:40.947Z"
   },
   {
    "duration": 100,
    "start_time": "2022-10-18T20:18:03.181Z"
   },
   {
    "duration": 91,
    "start_time": "2022-10-18T20:18:09.872Z"
   },
   {
    "duration": 709,
    "start_time": "2022-10-18T20:18:53.918Z"
   },
   {
    "duration": 979,
    "start_time": "2022-10-18T20:19:02.452Z"
   },
   {
    "duration": 848,
    "start_time": "2022-10-18T20:19:14.588Z"
   },
   {
    "duration": 5,
    "start_time": "2022-10-18T20:19:48.568Z"
   },
   {
    "duration": 18,
    "start_time": "2022-10-18T20:21:28.955Z"
   },
   {
    "duration": 917,
    "start_time": "2022-10-18T20:21:44.899Z"
   },
   {
    "duration": 13,
    "start_time": "2022-10-18T20:21:58.144Z"
   },
   {
    "duration": 19,
    "start_time": "2022-10-18T20:22:20.142Z"
   },
   {
    "duration": 664,
    "start_time": "2022-10-18T20:22:28.880Z"
   },
   {
    "duration": 173,
    "start_time": "2022-10-18T20:22:42.042Z"
   },
   {
    "duration": 828,
    "start_time": "2022-10-18T20:23:06.376Z"
   },
   {
    "duration": 11,
    "start_time": "2022-10-18T20:23:22.543Z"
   },
   {
    "duration": 10,
    "start_time": "2022-10-18T20:23:52.752Z"
   },
   {
    "duration": 105,
    "start_time": "2022-10-18T20:24:35.323Z"
   },
   {
    "duration": 91,
    "start_time": "2022-10-18T20:24:42.279Z"
   },
   {
    "duration": 97,
    "start_time": "2022-10-18T20:24:51.747Z"
   },
   {
    "duration": 16,
    "start_time": "2022-10-18T20:25:23.259Z"
   },
   {
    "duration": 93,
    "start_time": "2022-10-18T20:25:36.780Z"
   },
   {
    "duration": 24,
    "start_time": "2022-10-18T20:26:24.553Z"
   },
   {
    "duration": 96,
    "start_time": "2022-10-18T20:26:40.273Z"
   },
   {
    "duration": 20,
    "start_time": "2022-10-18T20:26:45.140Z"
   },
   {
    "duration": 101,
    "start_time": "2022-10-18T20:26:50.248Z"
   },
   {
    "duration": 17,
    "start_time": "2022-10-18T20:26:54.098Z"
   },
   {
    "duration": 100,
    "start_time": "2022-10-18T20:27:01.250Z"
   },
   {
    "duration": 15,
    "start_time": "2022-10-18T20:27:49.482Z"
   },
   {
    "duration": 17,
    "start_time": "2022-10-18T20:28:02.245Z"
   },
   {
    "duration": 713,
    "start_time": "2022-10-18T20:28:19.000Z"
   },
   {
    "duration": 170,
    "start_time": "2022-10-18T20:28:33.991Z"
   },
   {
    "duration": 176,
    "start_time": "2022-10-18T20:29:54.192Z"
   },
   {
    "duration": 734,
    "start_time": "2022-10-18T20:29:57.819Z"
   },
   {
    "duration": 765,
    "start_time": "2022-10-18T20:30:48.321Z"
   },
   {
    "duration": 741,
    "start_time": "2022-10-18T20:30:54.861Z"
   },
   {
    "duration": 675,
    "start_time": "2022-10-18T20:31:01.924Z"
   },
   {
    "duration": 171,
    "start_time": "2022-10-18T21:01:43.171Z"
   },
   {
    "duration": 105,
    "start_time": "2022-10-18T21:10:07.768Z"
   },
   {
    "duration": 100,
    "start_time": "2022-10-18T21:10:21.521Z"
   },
   {
    "duration": 107,
    "start_time": "2022-10-18T21:10:37.599Z"
   },
   {
    "duration": 121,
    "start_time": "2022-10-18T21:10:48.548Z"
   },
   {
    "duration": 95,
    "start_time": "2022-10-18T21:11:03.679Z"
   },
   {
    "duration": 94,
    "start_time": "2022-10-18T21:11:22.308Z"
   },
   {
    "duration": 106,
    "start_time": "2022-10-18T21:11:41.727Z"
   },
   {
    "duration": 95,
    "start_time": "2022-10-18T21:11:50.971Z"
   },
   {
    "duration": 99,
    "start_time": "2022-10-18T21:12:04.214Z"
   },
   {
    "duration": 100,
    "start_time": "2022-10-18T21:12:16.949Z"
   },
   {
    "duration": 97,
    "start_time": "2022-10-18T21:12:21.812Z"
   },
   {
    "duration": 1109,
    "start_time": "2022-10-18T21:13:19.658Z"
   },
   {
    "duration": 711,
    "start_time": "2022-10-18T21:13:27.339Z"
   },
   {
    "duration": 874,
    "start_time": "2022-10-18T21:13:33.025Z"
   },
   {
    "duration": 10,
    "start_time": "2022-10-18T21:13:37.101Z"
   },
   {
    "duration": 7,
    "start_time": "2022-10-18T21:13:43.663Z"
   },
   {
    "duration": 10,
    "start_time": "2022-10-18T21:13:56.243Z"
   },
   {
    "duration": 9,
    "start_time": "2022-10-18T21:14:06.542Z"
   },
   {
    "duration": 12,
    "start_time": "2022-10-18T21:14:49.352Z"
   },
   {
    "duration": 12,
    "start_time": "2022-10-18T21:14:57.503Z"
   },
   {
    "duration": 12,
    "start_time": "2022-10-18T21:15:06.989Z"
   },
   {
    "duration": 6,
    "start_time": "2022-10-18T21:15:07.475Z"
   },
   {
    "duration": 4,
    "start_time": "2022-10-18T21:15:13.884Z"
   },
   {
    "duration": 4,
    "start_time": "2022-10-18T21:15:18.639Z"
   },
   {
    "duration": 8,
    "start_time": "2022-10-18T21:15:33.423Z"
   },
   {
    "duration": 9,
    "start_time": "2022-10-18T21:15:44.992Z"
   },
   {
    "duration": 8,
    "start_time": "2022-10-18T21:15:48.718Z"
   },
   {
    "duration": 9,
    "start_time": "2022-10-18T21:18:14.767Z"
   },
   {
    "duration": 8,
    "start_time": "2022-10-18T21:18:23.747Z"
   },
   {
    "duration": 8,
    "start_time": "2022-10-18T21:18:39.280Z"
   },
   {
    "duration": 7,
    "start_time": "2022-10-18T21:18:49.286Z"
   },
   {
    "duration": 9,
    "start_time": "2022-10-18T21:18:54.324Z"
   },
   {
    "duration": 9,
    "start_time": "2022-10-18T21:18:58.318Z"
   },
   {
    "duration": 98,
    "start_time": "2022-10-18T21:19:17.692Z"
   },
   {
    "duration": 175,
    "start_time": "2022-10-18T21:19:19.907Z"
   },
   {
    "duration": 162,
    "start_time": "2022-10-18T21:19:22.138Z"
   },
   {
    "duration": 8,
    "start_time": "2022-10-18T21:19:27.698Z"
   },
   {
    "duration": 8,
    "start_time": "2022-10-18T21:19:38.329Z"
   },
   {
    "duration": 101,
    "start_time": "2022-10-18T21:20:34.885Z"
   },
   {
    "duration": 164,
    "start_time": "2022-10-18T21:20:38.230Z"
   },
   {
    "duration": 165,
    "start_time": "2022-10-18T21:20:41.403Z"
   },
   {
    "duration": 10,
    "start_time": "2022-10-18T21:20:44.784Z"
   },
   {
    "duration": 4,
    "start_time": "2022-10-18T21:29:48.037Z"
   },
   {
    "duration": 7,
    "start_time": "2022-10-18T21:29:56.043Z"
   },
   {
    "duration": 4,
    "start_time": "2022-10-18T21:30:55.898Z"
   },
   {
    "duration": 12,
    "start_time": "2022-10-18T21:31:41.643Z"
   },
   {
    "duration": 3,
    "start_time": "2022-10-18T21:31:55.704Z"
   },
   {
    "duration": 7,
    "start_time": "2022-10-18T21:32:18.985Z"
   },
   {
    "duration": 7,
    "start_time": "2022-10-18T21:32:34.777Z"
   },
   {
    "duration": 6,
    "start_time": "2022-10-18T21:32:59.223Z"
   },
   {
    "duration": 6,
    "start_time": "2022-10-18T21:33:03.184Z"
   },
   {
    "duration": 8,
    "start_time": "2022-10-18T21:33:41.235Z"
   },
   {
    "duration": 7,
    "start_time": "2022-10-18T21:34:09.721Z"
   },
   {
    "duration": 11,
    "start_time": "2022-10-18T21:35:11.521Z"
   },
   {
    "duration": 8,
    "start_time": "2022-10-18T21:35:20.375Z"
   },
   {
    "duration": 6,
    "start_time": "2022-10-18T21:35:43.329Z"
   },
   {
    "duration": 6,
    "start_time": "2022-10-18T21:39:09.970Z"
   },
   {
    "duration": 11,
    "start_time": "2022-10-18T21:39:20.534Z"
   },
   {
    "duration": 16,
    "start_time": "2022-10-18T21:39:28.754Z"
   },
   {
    "duration": 40,
    "start_time": "2022-10-18T21:39:38.580Z"
   },
   {
    "duration": 11,
    "start_time": "2022-10-18T21:39:43.231Z"
   },
   {
    "duration": 12,
    "start_time": "2022-10-18T21:39:47.822Z"
   },
   {
    "duration": 11,
    "start_time": "2022-10-18T21:39:53.923Z"
   },
   {
    "duration": 7,
    "start_time": "2022-10-18T21:40:05.689Z"
   },
   {
    "duration": 7,
    "start_time": "2022-10-18T21:44:02.070Z"
   },
   {
    "duration": 4,
    "start_time": "2022-10-18T21:46:03.877Z"
   },
   {
    "duration": 3,
    "start_time": "2022-10-18T21:48:04.999Z"
   },
   {
    "duration": 3,
    "start_time": "2022-10-18T21:48:11.445Z"
   },
   {
    "duration": 4,
    "start_time": "2022-10-18T21:48:26.506Z"
   },
   {
    "duration": 4,
    "start_time": "2022-10-18T21:48:35.452Z"
   },
   {
    "duration": 7,
    "start_time": "2022-10-18T21:49:19.726Z"
   },
   {
    "duration": 5,
    "start_time": "2022-10-18T21:49:34.188Z"
   },
   {
    "duration": 4,
    "start_time": "2022-10-18T21:49:45.800Z"
   },
   {
    "duration": 4,
    "start_time": "2022-10-18T21:50:01.076Z"
   },
   {
    "duration": 7,
    "start_time": "2022-10-18T21:50:20.804Z"
   },
   {
    "duration": 7,
    "start_time": "2022-10-18T21:50:24.230Z"
   },
   {
    "duration": 6,
    "start_time": "2022-10-18T21:50:30.757Z"
   },
   {
    "duration": 8,
    "start_time": "2022-10-18T21:50:32.429Z"
   },
   {
    "duration": 7,
    "start_time": "2022-10-18T21:50:35.625Z"
   },
   {
    "duration": 7,
    "start_time": "2022-10-18T21:50:37.346Z"
   },
   {
    "duration": 7,
    "start_time": "2022-10-18T21:50:47.059Z"
   },
   {
    "duration": 6,
    "start_time": "2022-10-18T21:51:25.460Z"
   },
   {
    "duration": 6,
    "start_time": "2022-10-18T21:58:27.256Z"
   },
   {
    "duration": 5,
    "start_time": "2022-10-18T21:58:53.632Z"
   },
   {
    "duration": 5,
    "start_time": "2022-10-18T21:59:10.703Z"
   },
   {
    "duration": 5,
    "start_time": "2022-10-18T21:59:16.723Z"
   },
   {
    "duration": 7,
    "start_time": "2022-10-18T21:59:19.154Z"
   },
   {
    "duration": 7,
    "start_time": "2022-10-18T21:59:29.089Z"
   },
   {
    "duration": 2,
    "start_time": "2022-10-18T21:59:43.185Z"
   },
   {
    "duration": 7,
    "start_time": "2022-10-18T21:59:43.583Z"
   },
   {
    "duration": 6,
    "start_time": "2022-10-18T21:59:45.043Z"
   },
   {
    "duration": 3,
    "start_time": "2022-10-18T22:00:00.089Z"
   },
   {
    "duration": 8,
    "start_time": "2022-10-18T22:00:01.314Z"
   },
   {
    "duration": 7,
    "start_time": "2022-10-18T22:00:06.024Z"
   },
   {
    "duration": 7,
    "start_time": "2022-10-18T22:00:14.280Z"
   },
   {
    "duration": 5,
    "start_time": "2022-10-18T22:00:22.525Z"
   },
   {
    "duration": 5,
    "start_time": "2022-10-18T22:00:25.085Z"
   },
   {
    "duration": 5,
    "start_time": "2022-10-18T22:00:29.329Z"
   },
   {
    "duration": 7,
    "start_time": "2022-10-18T22:00:32.509Z"
   },
   {
    "duration": 6,
    "start_time": "2022-10-18T22:00:34.441Z"
   },
   {
    "duration": 9,
    "start_time": "2022-10-18T22:02:01.863Z"
   },
   {
    "duration": 7,
    "start_time": "2022-10-18T22:02:11.011Z"
   },
   {
    "duration": 7,
    "start_time": "2022-10-18T22:02:21.780Z"
   },
   {
    "duration": 5,
    "start_time": "2022-10-18T22:02:24.179Z"
   },
   {
    "duration": 7,
    "start_time": "2022-10-18T22:02:41.963Z"
   },
   {
    "duration": 7,
    "start_time": "2022-10-18T22:02:45.010Z"
   },
   {
    "duration": 5,
    "start_time": "2022-10-18T22:02:45.522Z"
   },
   {
    "duration": 8,
    "start_time": "2022-10-18T22:02:51.349Z"
   },
   {
    "duration": 7,
    "start_time": "2022-10-18T22:03:00.968Z"
   },
   {
    "duration": 6,
    "start_time": "2022-10-18T22:03:03.255Z"
   },
   {
    "duration": 8,
    "start_time": "2022-10-18T22:03:06.107Z"
   },
   {
    "duration": 7,
    "start_time": "2022-10-18T22:03:12.299Z"
   },
   {
    "duration": 8,
    "start_time": "2022-10-18T22:03:27.857Z"
   },
   {
    "duration": 7,
    "start_time": "2022-10-18T22:06:47.326Z"
   },
   {
    "duration": 7,
    "start_time": "2022-10-18T22:06:58.234Z"
   },
   {
    "duration": 7,
    "start_time": "2022-10-18T22:07:44.624Z"
   },
   {
    "duration": 7,
    "start_time": "2022-10-18T22:08:56.543Z"
   },
   {
    "duration": 2,
    "start_time": "2022-10-18T22:08:59.752Z"
   },
   {
    "duration": 47,
    "start_time": "2022-10-18T22:08:59.756Z"
   },
   {
    "duration": 15,
    "start_time": "2022-10-18T22:08:59.805Z"
   },
   {
    "duration": 15,
    "start_time": "2022-10-18T22:08:59.821Z"
   },
   {
    "duration": 621,
    "start_time": "2022-10-18T22:08:59.838Z"
   },
   {
    "duration": 3,
    "start_time": "2022-10-18T22:09:00.461Z"
   },
   {
    "duration": 12,
    "start_time": "2022-10-18T22:09:00.465Z"
   },
   {
    "duration": 11,
    "start_time": "2022-10-18T22:09:00.478Z"
   },
   {
    "duration": 21,
    "start_time": "2022-10-18T22:09:00.491Z"
   },
   {
    "duration": 16,
    "start_time": "2022-10-18T22:09:00.513Z"
   },
   {
    "duration": 41,
    "start_time": "2022-10-18T22:09:00.532Z"
   },
   {
    "duration": 6,
    "start_time": "2022-10-18T22:09:00.575Z"
   },
   {
    "duration": 12,
    "start_time": "2022-10-18T22:09:00.583Z"
   },
   {
    "duration": 20,
    "start_time": "2022-10-18T22:09:00.596Z"
   },
   {
    "duration": 30,
    "start_time": "2022-10-18T22:09:00.618Z"
   },
   {
    "duration": 38,
    "start_time": "2022-10-18T22:09:00.650Z"
   },
   {
    "duration": 4,
    "start_time": "2022-10-18T22:09:00.690Z"
   },
   {
    "duration": 22,
    "start_time": "2022-10-18T22:09:00.696Z"
   },
   {
    "duration": 17,
    "start_time": "2022-10-18T22:09:00.720Z"
   },
   {
    "duration": 284,
    "start_time": "2022-10-18T22:09:00.738Z"
   },
   {
    "duration": 262,
    "start_time": "2022-10-18T22:09:01.024Z"
   },
   {
    "duration": 29,
    "start_time": "2022-10-18T22:09:01.288Z"
   },
   {
    "duration": 18,
    "start_time": "2022-10-18T22:09:01.319Z"
   },
   {
    "duration": 182,
    "start_time": "2022-10-18T22:09:01.339Z"
   },
   {
    "duration": 290,
    "start_time": "2022-10-18T22:09:01.523Z"
   },
   {
    "duration": 283,
    "start_time": "2022-10-18T22:09:01.815Z"
   },
   {
    "duration": 175,
    "start_time": "2022-10-18T22:09:02.100Z"
   },
   {
    "duration": 13,
    "start_time": "2022-10-18T22:09:02.276Z"
   },
   {
    "duration": 180,
    "start_time": "2022-10-18T22:09:02.293Z"
   },
   {
    "duration": 106,
    "start_time": "2022-10-18T22:09:02.475Z"
   },
   {
    "duration": 170,
    "start_time": "2022-10-18T22:09:02.583Z"
   },
   {
    "duration": 167,
    "start_time": "2022-10-18T22:09:02.755Z"
   },
   {
    "duration": 10,
    "start_time": "2022-10-18T22:09:02.924Z"
   },
   {
    "duration": 16,
    "start_time": "2022-10-18T22:09:02.936Z"
   },
   {
    "duration": 2,
    "start_time": "2022-10-18T22:09:02.954Z"
   },
   {
    "duration": 6,
    "start_time": "2022-10-18T22:09:09.545Z"
   },
   {
    "duration": 5,
    "start_time": "2022-10-18T22:09:26.500Z"
   },
   {
    "duration": 2,
    "start_time": "2022-10-18T22:09:32.810Z"
   },
   {
    "duration": 45,
    "start_time": "2022-10-18T22:09:32.815Z"
   },
   {
    "duration": 15,
    "start_time": "2022-10-18T22:09:32.862Z"
   },
   {
    "duration": 13,
    "start_time": "2022-10-18T22:09:32.879Z"
   },
   {
    "duration": 629,
    "start_time": "2022-10-18T22:09:32.910Z"
   },
   {
    "duration": 5,
    "start_time": "2022-10-18T22:09:33.541Z"
   },
   {
    "duration": 5,
    "start_time": "2022-10-18T22:09:33.547Z"
   },
   {
    "duration": 6,
    "start_time": "2022-10-18T22:09:33.553Z"
   },
   {
    "duration": 10,
    "start_time": "2022-10-18T22:09:33.560Z"
   },
   {
    "duration": 39,
    "start_time": "2022-10-18T22:09:33.571Z"
   },
   {
    "duration": 18,
    "start_time": "2022-10-18T22:09:33.612Z"
   },
   {
    "duration": 5,
    "start_time": "2022-10-18T22:09:33.632Z"
   },
   {
    "duration": 11,
    "start_time": "2022-10-18T22:09:33.638Z"
   },
   {
    "duration": 15,
    "start_time": "2022-10-18T22:09:33.651Z"
   },
   {
    "duration": 13,
    "start_time": "2022-10-18T22:09:33.667Z"
   },
   {
    "duration": 51,
    "start_time": "2022-10-18T22:09:33.681Z"
   },
   {
    "duration": 4,
    "start_time": "2022-10-18T22:09:33.733Z"
   },
   {
    "duration": 9,
    "start_time": "2022-10-18T22:09:33.739Z"
   },
   {
    "duration": 5,
    "start_time": "2022-10-18T22:09:33.750Z"
   },
   {
    "duration": 280,
    "start_time": "2022-10-18T22:09:33.756Z"
   },
   {
    "duration": 1316,
    "start_time": "2022-10-18T22:09:34.037Z"
   },
   {
    "duration": 23,
    "start_time": "2022-10-18T22:09:35.355Z"
   },
   {
    "duration": 32,
    "start_time": "2022-10-18T22:09:35.380Z"
   },
   {
    "duration": 169,
    "start_time": "2022-10-18T22:09:35.413Z"
   },
   {
    "duration": 281,
    "start_time": "2022-10-18T22:09:35.584Z"
   },
   {
    "duration": 276,
    "start_time": "2022-10-18T22:09:35.867Z"
   },
   {
    "duration": 183,
    "start_time": "2022-10-18T22:09:36.145Z"
   },
   {
    "duration": 13,
    "start_time": "2022-10-18T22:09:36.329Z"
   },
   {
    "duration": 179,
    "start_time": "2022-10-18T22:09:36.345Z"
   },
   {
    "duration": 110,
    "start_time": "2022-10-18T22:09:36.526Z"
   },
   {
    "duration": 168,
    "start_time": "2022-10-18T22:09:36.637Z"
   },
   {
    "duration": 167,
    "start_time": "2022-10-18T22:09:36.807Z"
   },
   {
    "duration": 9,
    "start_time": "2022-10-18T22:09:36.976Z"
   },
   {
    "duration": 24,
    "start_time": "2022-10-18T22:09:36.987Z"
   },
   {
    "duration": 5,
    "start_time": "2022-10-18T22:09:46.733Z"
   },
   {
    "duration": 6,
    "start_time": "2022-10-18T22:10:01.558Z"
   },
   {
    "duration": 6,
    "start_time": "2022-10-18T22:10:07.679Z"
   },
   {
    "duration": 9,
    "start_time": "2022-10-18T22:11:15.607Z"
   },
   {
    "duration": 3,
    "start_time": "2022-10-18T22:11:20.064Z"
   },
   {
    "duration": 39,
    "start_time": "2022-10-18T22:11:20.069Z"
   },
   {
    "duration": 14,
    "start_time": "2022-10-18T22:11:20.110Z"
   },
   {
    "duration": 13,
    "start_time": "2022-10-18T22:11:20.126Z"
   },
   {
    "duration": 625,
    "start_time": "2022-10-18T22:11:20.141Z"
   },
   {
    "duration": 4,
    "start_time": "2022-10-18T22:11:20.767Z"
   },
   {
    "duration": 5,
    "start_time": "2022-10-18T22:11:20.772Z"
   },
   {
    "duration": 6,
    "start_time": "2022-10-18T22:11:20.778Z"
   },
   {
    "duration": 17,
    "start_time": "2022-10-18T22:11:20.785Z"
   },
   {
    "duration": 15,
    "start_time": "2022-10-18T22:11:20.809Z"
   },
   {
    "duration": 19,
    "start_time": "2022-10-18T22:11:20.827Z"
   },
   {
    "duration": 6,
    "start_time": "2022-10-18T22:11:20.848Z"
   },
   {
    "duration": 32,
    "start_time": "2022-10-18T22:11:20.855Z"
   },
   {
    "duration": 28,
    "start_time": "2022-10-18T22:11:20.888Z"
   },
   {
    "duration": 14,
    "start_time": "2022-10-18T22:11:20.917Z"
   },
   {
    "duration": 45,
    "start_time": "2022-10-18T22:11:20.933Z"
   },
   {
    "duration": 5,
    "start_time": "2022-10-18T22:11:20.980Z"
   },
   {
    "duration": 7,
    "start_time": "2022-10-18T22:11:20.986Z"
   },
   {
    "duration": 5,
    "start_time": "2022-10-18T22:11:20.994Z"
   },
   {
    "duration": 279,
    "start_time": "2022-10-18T22:11:21.000Z"
   },
   {
    "duration": 268,
    "start_time": "2022-10-18T22:11:21.281Z"
   },
   {
    "duration": 22,
    "start_time": "2022-10-18T22:11:21.551Z"
   },
   {
    "duration": 17,
    "start_time": "2022-10-18T22:11:21.575Z"
   },
   {
    "duration": 188,
    "start_time": "2022-10-18T22:11:21.593Z"
   },
   {
    "duration": 282,
    "start_time": "2022-10-18T22:11:21.782Z"
   },
   {
    "duration": 279,
    "start_time": "2022-10-18T22:11:22.066Z"
   },
   {
    "duration": 180,
    "start_time": "2022-10-18T22:11:22.347Z"
   },
   {
    "duration": 13,
    "start_time": "2022-10-18T22:11:22.529Z"
   },
   {
    "duration": 188,
    "start_time": "2022-10-18T22:11:22.545Z"
   },
   {
    "duration": 104,
    "start_time": "2022-10-18T22:11:22.734Z"
   },
   {
    "duration": 174,
    "start_time": "2022-10-18T22:11:22.839Z"
   },
   {
    "duration": 167,
    "start_time": "2022-10-18T22:11:23.014Z"
   },
   {
    "duration": 8,
    "start_time": "2022-10-18T22:11:23.182Z"
   },
   {
    "duration": 10,
    "start_time": "2022-10-18T22:11:26.112Z"
   },
   {
    "duration": 2,
    "start_time": "2022-10-18T22:11:28.581Z"
   },
   {
    "duration": 5,
    "start_time": "2022-10-18T22:11:35.212Z"
   },
   {
    "duration": 5,
    "start_time": "2022-10-18T22:11:40.879Z"
   },
   {
    "duration": 47,
    "start_time": "2022-10-18T22:11:42.273Z"
   },
   {
    "duration": 6,
    "start_time": "2022-10-18T22:11:55.930Z"
   },
   {
    "duration": 5,
    "start_time": "2022-10-18T22:11:58.135Z"
   },
   {
    "duration": 8,
    "start_time": "2022-10-18T22:12:35.059Z"
   },
   {
    "duration": 5,
    "start_time": "2022-10-18T22:13:14.307Z"
   },
   {
    "duration": 6,
    "start_time": "2022-10-18T22:13:24.106Z"
   },
   {
    "duration": 6,
    "start_time": "2022-10-18T22:13:27.333Z"
   },
   {
    "duration": 5,
    "start_time": "2022-10-18T22:14:04.182Z"
   },
   {
    "duration": 7,
    "start_time": "2022-10-18T22:14:14.352Z"
   },
   {
    "duration": 8,
    "start_time": "2022-10-18T22:14:26.161Z"
   },
   {
    "duration": 6,
    "start_time": "2022-10-18T22:14:30.277Z"
   },
   {
    "duration": 5,
    "start_time": "2022-10-18T22:14:38.376Z"
   },
   {
    "duration": 5,
    "start_time": "2022-10-18T22:14:41.677Z"
   },
   {
    "duration": 6,
    "start_time": "2022-10-18T22:14:47.313Z"
   },
   {
    "duration": 5,
    "start_time": "2022-10-18T22:15:08.622Z"
   },
   {
    "duration": 6,
    "start_time": "2022-10-18T22:15:27.672Z"
   },
   {
    "duration": 6,
    "start_time": "2022-10-18T22:15:31.603Z"
   },
   {
    "duration": 5,
    "start_time": "2022-10-18T22:15:36.899Z"
   },
   {
    "duration": 6,
    "start_time": "2022-10-18T22:15:39.767Z"
   },
   {
    "duration": 7,
    "start_time": "2022-10-18T22:15:57.301Z"
   },
   {
    "duration": 8,
    "start_time": "2022-10-18T22:16:13.016Z"
   },
   {
    "duration": 8,
    "start_time": "2022-10-18T22:16:20.672Z"
   },
   {
    "duration": 8,
    "start_time": "2022-10-18T22:16:25.162Z"
   },
   {
    "duration": 7,
    "start_time": "2022-10-18T22:16:38.237Z"
   },
   {
    "duration": 7,
    "start_time": "2022-10-18T22:16:44.132Z"
   },
   {
    "duration": 7,
    "start_time": "2022-10-18T22:17:35.903Z"
   },
   {
    "duration": 8,
    "start_time": "2022-10-18T22:18:02.917Z"
   },
   {
    "duration": 6,
    "start_time": "2022-10-18T22:18:15.275Z"
   },
   {
    "duration": 8,
    "start_time": "2022-10-18T22:19:03.770Z"
   },
   {
    "duration": 14,
    "start_time": "2022-10-18T22:19:37.054Z"
   },
   {
    "duration": 6,
    "start_time": "2022-10-18T22:20:28.477Z"
   },
   {
    "duration": 8,
    "start_time": "2022-10-18T22:22:16.031Z"
   },
   {
    "duration": 7,
    "start_time": "2022-10-18T22:22:19.610Z"
   },
   {
    "duration": 5,
    "start_time": "2022-10-18T22:22:21.373Z"
   },
   {
    "duration": 7,
    "start_time": "2022-10-18T22:22:32.500Z"
   },
   {
    "duration": 7,
    "start_time": "2022-10-18T22:22:43.052Z"
   },
   {
    "duration": 7,
    "start_time": "2022-10-18T22:24:04.323Z"
   },
   {
    "duration": 7,
    "start_time": "2022-10-18T22:26:25.612Z"
   },
   {
    "duration": 3,
    "start_time": "2022-10-18T22:26:44.972Z"
   },
   {
    "duration": 4,
    "start_time": "2022-10-18T22:26:53.233Z"
   },
   {
    "duration": 5,
    "start_time": "2022-10-18T22:27:21.360Z"
   },
   {
    "duration": 7,
    "start_time": "2022-10-18T22:27:38.663Z"
   },
   {
    "duration": 5,
    "start_time": "2022-10-18T22:27:45.490Z"
   },
   {
    "duration": 5,
    "start_time": "2022-10-18T22:27:48.966Z"
   },
   {
    "duration": 7,
    "start_time": "2022-10-18T22:27:51.730Z"
   },
   {
    "duration": 6,
    "start_time": "2022-10-18T22:27:54.305Z"
   },
   {
    "duration": 8,
    "start_time": "2022-10-18T22:27:59.919Z"
   },
   {
    "duration": 9,
    "start_time": "2022-10-18T22:28:04.479Z"
   },
   {
    "duration": 8,
    "start_time": "2022-10-18T22:28:07.943Z"
   },
   {
    "duration": 7,
    "start_time": "2022-10-18T22:28:14.554Z"
   },
   {
    "duration": 8,
    "start_time": "2022-10-18T22:28:18.552Z"
   },
   {
    "duration": 8,
    "start_time": "2022-10-18T22:28:21.776Z"
   },
   {
    "duration": 4,
    "start_time": "2022-10-18T22:28:38.206Z"
   },
   {
    "duration": 4,
    "start_time": "2022-10-18T22:28:43.456Z"
   },
   {
    "duration": 7,
    "start_time": "2022-10-18T22:28:47.233Z"
   },
   {
    "duration": 3,
    "start_time": "2022-10-18T22:28:49.043Z"
   },
   {
    "duration": 4,
    "start_time": "2022-10-18T22:28:50.533Z"
   },
   {
    "duration": 3,
    "start_time": "2022-10-18T22:28:59.001Z"
   },
   {
    "duration": 4,
    "start_time": "2022-10-18T22:29:05.372Z"
   },
   {
    "duration": 3,
    "start_time": "2022-10-18T22:29:09.858Z"
   },
   {
    "duration": 5,
    "start_time": "2022-10-18T22:38:09.200Z"
   },
   {
    "duration": 5,
    "start_time": "2022-10-18T23:13:51.169Z"
   },
   {
    "duration": 8,
    "start_time": "2022-10-18T23:18:13.866Z"
   },
   {
    "duration": 8,
    "start_time": "2022-10-18T23:18:26.768Z"
   },
   {
    "duration": 7,
    "start_time": "2022-10-18T23:18:31.627Z"
   },
   {
    "duration": 7,
    "start_time": "2022-10-18T23:18:43.433Z"
   },
   {
    "duration": 9,
    "start_time": "2022-10-18T23:18:49.705Z"
   },
   {
    "duration": 8,
    "start_time": "2022-10-18T23:19:02.485Z"
   },
   {
    "duration": 5,
    "start_time": "2022-10-18T23:19:05.843Z"
   },
   {
    "duration": 7,
    "start_time": "2022-10-18T23:28:53.697Z"
   },
   {
    "duration": 10,
    "start_time": "2022-10-18T23:31:15.263Z"
   },
   {
    "duration": 6,
    "start_time": "2022-10-18T23:31:18.246Z"
   },
   {
    "duration": 6,
    "start_time": "2022-10-18T23:31:29.080Z"
   },
   {
    "duration": 9,
    "start_time": "2022-10-18T23:31:35.722Z"
   },
   {
    "duration": 11,
    "start_time": "2022-10-18T23:31:41.378Z"
   },
   {
    "duration": 6,
    "start_time": "2022-10-18T23:31:46.048Z"
   },
   {
    "duration": 6,
    "start_time": "2022-10-18T23:32:15.229Z"
   },
   {
    "duration": 5,
    "start_time": "2022-10-18T23:32:17.876Z"
   },
   {
    "duration": 50,
    "start_time": "2022-10-19T05:41:52.157Z"
   },
   {
    "duration": 885,
    "start_time": "2022-10-19T05:41:55.556Z"
   },
   {
    "duration": 86,
    "start_time": "2022-10-19T05:41:56.444Z"
   },
   {
    "duration": 31,
    "start_time": "2022-10-19T05:41:56.537Z"
   },
   {
    "duration": 15,
    "start_time": "2022-10-19T05:41:56.570Z"
   },
   {
    "duration": 809,
    "start_time": "2022-10-19T05:41:56.587Z"
   },
   {
    "duration": 4,
    "start_time": "2022-10-19T05:41:57.398Z"
   },
   {
    "duration": 35,
    "start_time": "2022-10-19T05:41:57.404Z"
   },
   {
    "duration": 15,
    "start_time": "2022-10-19T05:41:57.441Z"
   },
   {
    "duration": 17,
    "start_time": "2022-10-19T05:41:57.458Z"
   },
   {
    "duration": 126,
    "start_time": "2022-10-19T05:41:57.478Z"
   },
   {
    "duration": 34,
    "start_time": "2022-10-19T05:41:57.605Z"
   },
   {
    "duration": 9,
    "start_time": "2022-10-19T05:41:57.642Z"
   },
   {
    "duration": 19,
    "start_time": "2022-10-19T05:41:57.653Z"
   },
   {
    "duration": 44,
    "start_time": "2022-10-19T05:41:57.674Z"
   },
   {
    "duration": 41,
    "start_time": "2022-10-19T05:41:57.720Z"
   },
   {
    "duration": 41,
    "start_time": "2022-10-19T05:41:57.764Z"
   },
   {
    "duration": 7,
    "start_time": "2022-10-19T05:41:57.807Z"
   },
   {
    "duration": 41,
    "start_time": "2022-10-19T05:41:57.816Z"
   },
   {
    "duration": 35,
    "start_time": "2022-10-19T05:41:57.859Z"
   },
   {
    "duration": 352,
    "start_time": "2022-10-19T05:41:57.896Z"
   },
   {
    "duration": 326,
    "start_time": "2022-10-19T05:41:58.250Z"
   },
   {
    "duration": 29,
    "start_time": "2022-10-19T05:41:58.578Z"
   },
   {
    "duration": 26,
    "start_time": "2022-10-19T05:41:58.622Z"
   },
   {
    "duration": 216,
    "start_time": "2022-10-19T05:41:58.651Z"
   },
   {
    "duration": 449,
    "start_time": "2022-10-19T05:41:58.870Z"
   },
   {
    "duration": 348,
    "start_time": "2022-10-19T05:41:59.323Z"
   },
   {
    "duration": 232,
    "start_time": "2022-10-19T05:41:59.673Z"
   },
   {
    "duration": 33,
    "start_time": "2022-10-19T05:41:59.908Z"
   },
   {
    "duration": 302,
    "start_time": "2022-10-19T05:41:59.943Z"
   },
   {
    "duration": 153,
    "start_time": "2022-10-19T05:42:00.247Z"
   },
   {
    "duration": 226,
    "start_time": "2022-10-19T05:42:00.402Z"
   },
   {
    "duration": 209,
    "start_time": "2022-10-19T05:42:00.632Z"
   },
   {
    "duration": 11,
    "start_time": "2022-10-19T05:42:00.843Z"
   },
   {
    "duration": 11,
    "start_time": "2022-10-19T05:42:06.490Z"
   },
   {
    "duration": 233,
    "start_time": "2022-10-19T07:57:05.879Z"
   },
   {
    "duration": 216,
    "start_time": "2022-10-19T07:58:20.479Z"
   },
   {
    "duration": 146,
    "start_time": "2022-10-19T07:58:43.612Z"
   },
   {
    "duration": 240,
    "start_time": "2022-10-19T08:17:34.949Z"
   },
   {
    "duration": 242,
    "start_time": "2022-10-19T08:18:15.943Z"
   },
   {
    "duration": 247,
    "start_time": "2022-10-19T08:18:51.584Z"
   },
   {
    "duration": 350,
    "start_time": "2022-10-19T08:23:59.335Z"
   },
   {
    "duration": 333,
    "start_time": "2022-10-19T08:24:14.175Z"
   },
   {
    "duration": 280,
    "start_time": "2022-10-19T08:24:34.380Z"
   },
   {
    "duration": 329,
    "start_time": "2022-10-19T08:24:43.871Z"
   },
   {
    "duration": 361,
    "start_time": "2022-10-19T08:24:50.396Z"
   },
   {
    "duration": 321,
    "start_time": "2022-10-19T08:24:59.764Z"
   },
   {
    "duration": 380,
    "start_time": "2022-10-19T08:30:55.249Z"
   },
   {
    "duration": 388,
    "start_time": "2022-10-19T08:34:10.017Z"
   },
   {
    "duration": 365,
    "start_time": "2022-10-19T08:34:57.392Z"
   },
   {
    "duration": 474,
    "start_time": "2022-10-19T08:35:51.515Z"
   },
   {
    "duration": 297,
    "start_time": "2022-10-19T08:35:59.336Z"
   },
   {
    "duration": 284,
    "start_time": "2022-10-19T09:03:32.962Z"
   },
   {
    "duration": 249,
    "start_time": "2022-10-19T09:03:47.532Z"
   },
   {
    "duration": 248,
    "start_time": "2022-10-19T09:03:55.491Z"
   },
   {
    "duration": 18,
    "start_time": "2022-10-19T09:04:49.135Z"
   },
   {
    "duration": 15,
    "start_time": "2022-10-19T09:04:57.695Z"
   },
   {
    "duration": 3,
    "start_time": "2022-10-19T09:05:06.641Z"
   },
   {
    "duration": 77,
    "start_time": "2022-10-19T09:05:06.647Z"
   },
   {
    "duration": 43,
    "start_time": "2022-10-19T09:05:06.727Z"
   },
   {
    "duration": 38,
    "start_time": "2022-10-19T09:05:06.772Z"
   },
   {
    "duration": 888,
    "start_time": "2022-10-19T09:05:06.812Z"
   },
   {
    "duration": 5,
    "start_time": "2022-10-19T09:05:07.703Z"
   },
   {
    "duration": 40,
    "start_time": "2022-10-19T09:05:07.710Z"
   },
   {
    "duration": 36,
    "start_time": "2022-10-19T09:05:07.751Z"
   },
   {
    "duration": 94,
    "start_time": "2022-10-19T09:05:07.789Z"
   },
   {
    "duration": 46,
    "start_time": "2022-10-19T09:05:07.886Z"
   },
   {
    "duration": 63,
    "start_time": "2022-10-19T09:05:07.938Z"
   },
   {
    "duration": 43,
    "start_time": "2022-10-19T09:05:08.003Z"
   },
   {
    "duration": 40,
    "start_time": "2022-10-19T09:05:08.048Z"
   },
   {
    "duration": 49,
    "start_time": "2022-10-19T09:05:08.090Z"
   },
   {
    "duration": 47,
    "start_time": "2022-10-19T09:05:08.146Z"
   },
   {
    "duration": 71,
    "start_time": "2022-10-19T09:05:08.195Z"
   },
   {
    "duration": 21,
    "start_time": "2022-10-19T09:05:08.269Z"
   },
   {
    "duration": 61,
    "start_time": "2022-10-19T09:05:08.292Z"
   },
   {
    "duration": 33,
    "start_time": "2022-10-19T09:05:08.356Z"
   },
   {
    "duration": 391,
    "start_time": "2022-10-19T09:05:08.391Z"
   },
   {
    "duration": 573,
    "start_time": "2022-10-19T09:05:08.785Z"
   },
   {
    "duration": 39,
    "start_time": "2022-10-19T09:05:09.361Z"
   },
   {
    "duration": 38,
    "start_time": "2022-10-19T09:05:09.402Z"
   },
   {
    "duration": 251,
    "start_time": "2022-10-19T09:05:09.442Z"
   },
   {
    "duration": 446,
    "start_time": "2022-10-19T09:05:09.696Z"
   },
   {
    "duration": 415,
    "start_time": "2022-10-19T09:05:10.144Z"
   },
   {
    "duration": 250,
    "start_time": "2022-10-19T09:05:10.561Z"
   },
   {
    "duration": 26,
    "start_time": "2022-10-19T09:05:10.813Z"
   },
   {
    "duration": 273,
    "start_time": "2022-10-19T09:05:10.844Z"
   },
   {
    "duration": 344,
    "start_time": "2022-10-19T09:05:11.119Z"
   },
   {
    "duration": 315,
    "start_time": "2022-10-19T09:05:11.465Z"
   },
   {
    "duration": 367,
    "start_time": "2022-10-19T09:05:11.782Z"
   },
   {
    "duration": 11,
    "start_time": "2022-10-19T09:05:12.151Z"
   },
   {
    "duration": 23,
    "start_time": "2022-10-19T09:05:12.164Z"
   },
   {
    "duration": 449,
    "start_time": "2022-10-19T09:05:12.190Z"
   },
   {
    "duration": 47,
    "start_time": "2022-10-19T09:05:15.063Z"
   },
   {
    "duration": 13,
    "start_time": "2022-10-19T09:05:33.441Z"
   },
   {
    "duration": 8,
    "start_time": "2022-10-19T09:05:45.762Z"
   },
   {
    "duration": 12,
    "start_time": "2022-10-19T09:06:09.696Z"
   },
   {
    "duration": 10,
    "start_time": "2022-10-19T09:06:21.401Z"
   },
   {
    "duration": 9,
    "start_time": "2022-10-19T09:06:24.845Z"
   },
   {
    "duration": 15,
    "start_time": "2022-10-19T09:07:03.190Z"
   },
   {
    "duration": 10,
    "start_time": "2022-10-19T09:07:07.369Z"
   },
   {
    "duration": 9,
    "start_time": "2022-10-19T09:07:09.485Z"
   },
   {
    "duration": 19,
    "start_time": "2022-10-19T09:07:20.074Z"
   },
   {
    "duration": 8,
    "start_time": "2022-10-19T09:07:24.773Z"
   },
   {
    "duration": 9,
    "start_time": "2022-10-19T09:07:30.557Z"
   },
   {
    "duration": 8,
    "start_time": "2022-10-19T09:07:34.470Z"
   },
   {
    "duration": 14,
    "start_time": "2022-10-19T09:09:07.939Z"
   },
   {
    "duration": 8,
    "start_time": "2022-10-19T09:09:14.757Z"
   },
   {
    "duration": 14,
    "start_time": "2022-10-19T09:10:18.539Z"
   },
   {
    "duration": 9,
    "start_time": "2022-10-19T09:10:53.038Z"
   },
   {
    "duration": 16,
    "start_time": "2022-10-19T09:13:05.971Z"
   },
   {
    "duration": 9,
    "start_time": "2022-10-19T09:25:58.530Z"
   },
   {
    "duration": 7,
    "start_time": "2022-10-19T09:26:03.753Z"
   },
   {
    "duration": 8,
    "start_time": "2022-10-19T09:33:42.261Z"
   },
   {
    "duration": 232,
    "start_time": "2022-10-19T09:40:30.194Z"
   },
   {
    "duration": 242,
    "start_time": "2022-10-19T09:40:40.489Z"
   },
   {
    "duration": 233,
    "start_time": "2022-10-19T09:42:02.444Z"
   },
   {
    "duration": 13,
    "start_time": "2022-10-19T09:48:58.045Z"
   },
   {
    "duration": 6,
    "start_time": "2022-10-19T09:49:05.576Z"
   },
   {
    "duration": 10,
    "start_time": "2022-10-19T09:50:35.142Z"
   },
   {
    "duration": 6,
    "start_time": "2022-10-19T09:50:37.875Z"
   },
   {
    "duration": 748,
    "start_time": "2022-10-19T09:52:42.143Z"
   },
   {
    "duration": 7,
    "start_time": "2022-10-19T09:53:53.290Z"
   },
   {
    "duration": 7,
    "start_time": "2022-10-19T09:54:45.290Z"
   },
   {
    "duration": 9,
    "start_time": "2022-10-19T09:54:54.068Z"
   },
   {
    "duration": 243,
    "start_time": "2022-10-19T10:26:20.309Z"
   },
   {
    "duration": 301,
    "start_time": "2022-10-19T10:26:27.142Z"
   },
   {
    "duration": 9,
    "start_time": "2022-10-19T10:30:00.361Z"
   },
   {
    "duration": 23,
    "start_time": "2022-10-19T10:37:27.926Z"
   },
   {
    "duration": 215,
    "start_time": "2022-10-19T10:37:33.849Z"
   },
   {
    "duration": 221,
    "start_time": "2022-10-19T10:39:55.619Z"
   },
   {
    "duration": 317,
    "start_time": "2022-10-19T10:41:00.539Z"
   },
   {
    "duration": 144,
    "start_time": "2022-10-19T10:41:05.899Z"
   },
   {
    "duration": 358,
    "start_time": "2022-10-19T10:41:15.348Z"
   },
   {
    "duration": 360,
    "start_time": "2022-10-19T10:43:09.914Z"
   },
   {
    "duration": 195,
    "start_time": "2022-10-19T10:43:45.665Z"
   },
   {
    "duration": 16,
    "start_time": "2022-10-19T10:44:04.041Z"
   },
   {
    "duration": 295,
    "start_time": "2022-10-19T10:44:19.177Z"
   },
   {
    "duration": 16,
    "start_time": "2022-10-19T10:44:44.129Z"
   },
   {
    "duration": 130,
    "start_time": "2022-10-19T10:51:53.510Z"
   },
   {
    "duration": 9,
    "start_time": "2022-10-19T10:52:00.909Z"
   },
   {
    "duration": 10,
    "start_time": "2022-10-19T10:52:07.861Z"
   },
   {
    "duration": 9,
    "start_time": "2022-10-19T10:52:16.173Z"
   },
   {
    "duration": 36,
    "start_time": "2022-10-19T10:52:27.037Z"
   },
   {
    "duration": 35,
    "start_time": "2022-10-19T10:52:37.197Z"
   },
   {
    "duration": 31,
    "start_time": "2022-10-19T10:52:40.406Z"
   },
   {
    "duration": 10,
    "start_time": "2022-10-19T10:52:46.093Z"
   },
   {
    "duration": 22,
    "start_time": "2022-10-19T10:53:01.357Z"
   },
   {
    "duration": 26,
    "start_time": "2022-10-19T10:53:05.940Z"
   },
   {
    "duration": 29,
    "start_time": "2022-10-19T10:53:11.853Z"
   },
   {
    "duration": 28,
    "start_time": "2022-10-19T10:53:19.144Z"
   },
   {
    "duration": 209,
    "start_time": "2022-10-19T10:53:29.364Z"
   },
   {
    "duration": 343,
    "start_time": "2022-10-19T10:53:39.956Z"
   },
   {
    "duration": 138,
    "start_time": "2022-10-19T10:53:48.141Z"
   },
   {
    "duration": 335,
    "start_time": "2022-10-19T10:53:56.269Z"
   },
   {
    "duration": 212,
    "start_time": "2022-10-19T10:54:21.632Z"
   },
   {
    "duration": 22,
    "start_time": "2022-10-19T10:54:31.116Z"
   },
   {
    "duration": 216,
    "start_time": "2022-10-19T10:54:35.091Z"
   },
   {
    "duration": 122,
    "start_time": "2022-10-19T10:54:42.683Z"
   },
   {
    "duration": 8,
    "start_time": "2022-10-19T10:54:56.195Z"
   },
   {
    "duration": 9,
    "start_time": "2022-10-19T10:55:09.886Z"
   },
   {
    "duration": 207,
    "start_time": "2022-10-19T10:57:59.493Z"
   },
   {
    "duration": 135,
    "start_time": "2022-10-19T10:58:11.037Z"
   },
   {
    "duration": 138,
    "start_time": "2022-10-19T11:00:02.604Z"
   },
   {
    "duration": 15,
    "start_time": "2022-10-19T11:00:21.347Z"
   },
   {
    "duration": 131,
    "start_time": "2022-10-19T11:00:41.786Z"
   },
   {
    "duration": 127,
    "start_time": "2022-10-19T11:02:40.625Z"
   },
   {
    "duration": 120,
    "start_time": "2022-10-19T11:03:15.593Z"
   },
   {
    "duration": 211,
    "start_time": "2022-10-19T11:44:07.171Z"
   },
   {
    "duration": 198,
    "start_time": "2022-10-19T11:44:14.818Z"
   },
   {
    "duration": 228,
    "start_time": "2022-10-19T11:45:42.120Z"
   },
   {
    "duration": 137,
    "start_time": "2022-10-19T11:45:54.720Z"
   },
   {
    "duration": 112,
    "start_time": "2022-10-19T11:46:31.251Z"
   },
   {
    "duration": 206,
    "start_time": "2022-10-19T11:51:07.352Z"
   },
   {
    "duration": 212,
    "start_time": "2022-10-19T11:52:09.879Z"
   },
   {
    "duration": 315,
    "start_time": "2022-10-19T11:52:34.570Z"
   },
   {
    "duration": 253,
    "start_time": "2022-10-19T11:59:00.308Z"
   },
   {
    "duration": 10,
    "start_time": "2022-10-19T12:31:12.311Z"
   },
   {
    "duration": 9,
    "start_time": "2022-10-19T12:31:17.196Z"
   },
   {
    "duration": 621,
    "start_time": "2022-10-19T13:21:50.394Z"
   },
   {
    "duration": 39,
    "start_time": "2022-10-19T13:21:51.017Z"
   },
   {
    "duration": 18,
    "start_time": "2022-10-19T13:21:51.058Z"
   },
   {
    "duration": 18,
    "start_time": "2022-10-19T13:21:51.078Z"
   },
   {
    "duration": 666,
    "start_time": "2022-10-19T13:21:51.098Z"
   },
   {
    "duration": 4,
    "start_time": "2022-10-19T13:21:51.765Z"
   },
   {
    "duration": 17,
    "start_time": "2022-10-19T13:21:51.771Z"
   },
   {
    "duration": 31,
    "start_time": "2022-10-19T13:21:51.789Z"
   },
   {
    "duration": 19,
    "start_time": "2022-10-19T13:21:51.822Z"
   },
   {
    "duration": 88,
    "start_time": "2022-10-19T13:21:51.844Z"
   },
   {
    "duration": 21,
    "start_time": "2022-10-19T13:21:51.934Z"
   },
   {
    "duration": 6,
    "start_time": "2022-10-19T13:21:51.956Z"
   },
   {
    "duration": 29,
    "start_time": "2022-10-19T13:21:51.963Z"
   },
   {
    "duration": 48,
    "start_time": "2022-10-19T13:21:51.994Z"
   },
   {
    "duration": 48,
    "start_time": "2022-10-19T13:21:52.044Z"
   },
   {
    "duration": 44,
    "start_time": "2022-10-19T13:21:52.094Z"
   },
   {
    "duration": 5,
    "start_time": "2022-10-19T13:21:52.140Z"
   },
   {
    "duration": 6,
    "start_time": "2022-10-19T13:21:52.147Z"
   },
   {
    "duration": 6,
    "start_time": "2022-10-19T13:21:52.154Z"
   },
   {
    "duration": 357,
    "start_time": "2022-10-19T13:21:52.161Z"
   },
   {
    "duration": 335,
    "start_time": "2022-10-19T13:21:52.520Z"
   },
   {
    "duration": 27,
    "start_time": "2022-10-19T13:21:52.856Z"
   },
   {
    "duration": 34,
    "start_time": "2022-10-19T13:21:52.884Z"
   },
   {
    "duration": 206,
    "start_time": "2022-10-19T13:21:52.920Z"
   },
   {
    "duration": 293,
    "start_time": "2022-10-19T13:21:53.127Z"
   },
   {
    "duration": 316,
    "start_time": "2022-10-19T13:21:53.422Z"
   },
   {
    "duration": 189,
    "start_time": "2022-10-19T13:21:53.739Z"
   },
   {
    "duration": 13,
    "start_time": "2022-10-19T13:21:53.931Z"
   },
   {
    "duration": 185,
    "start_time": "2022-10-19T13:21:53.945Z"
   },
   {
    "duration": 163,
    "start_time": "2022-10-19T13:21:54.132Z"
   },
   {
    "duration": 115,
    "start_time": "2022-10-19T13:21:54.297Z"
   },
   {
    "duration": 104,
    "start_time": "2022-10-19T13:21:54.413Z"
   },
   {
    "duration": 173,
    "start_time": "2022-10-19T13:21:54.518Z"
   },
   {
    "duration": 119,
    "start_time": "2022-10-19T13:21:54.692Z"
   },
   {
    "duration": 115,
    "start_time": "2022-10-19T13:21:54.812Z"
   },
   {
    "duration": 181,
    "start_time": "2022-10-19T13:21:54.930Z"
   },
   {
    "duration": 178,
    "start_time": "2022-10-19T13:21:55.112Z"
   },
   {
    "duration": 181,
    "start_time": "2022-10-19T13:21:55.291Z"
   },
   {
    "duration": 482,
    "start_time": "2022-10-19T13:21:55.474Z"
   },
   {
    "duration": 8,
    "start_time": "2022-10-19T13:21:55.957Z"
   },
   {
    "duration": 9,
    "start_time": "2022-10-19T13:21:55.966Z"
   },
   {
    "duration": 72,
    "start_time": "2022-10-19T13:28:55.746Z"
   },
   {
    "duration": 15,
    "start_time": "2022-10-19T13:51:59.281Z"
   },
   {
    "duration": 9,
    "start_time": "2022-10-19T13:52:03.544Z"
   },
   {
    "duration": 362,
    "start_time": "2022-10-19T13:53:51.551Z"
   },
   {
    "duration": 383,
    "start_time": "2022-10-19T13:54:08.511Z"
   },
   {
    "duration": 410,
    "start_time": "2022-10-19T13:54:23.970Z"
   },
   {
    "duration": 490,
    "start_time": "2022-10-19T13:54:32.630Z"
   },
   {
    "duration": 30,
    "start_time": "2022-10-19T13:56:30.655Z"
   },
   {
    "duration": 310,
    "start_time": "2022-10-19T13:57:54.701Z"
   },
   {
    "duration": 333,
    "start_time": "2022-10-19T13:58:05.765Z"
   },
   {
    "duration": 368,
    "start_time": "2022-10-19T13:58:21.093Z"
   },
   {
    "duration": 884,
    "start_time": "2022-10-19T13:58:42.462Z"
   },
   {
    "duration": 380,
    "start_time": "2022-10-19T13:58:45.549Z"
   },
   {
    "duration": 199,
    "start_time": "2022-10-19T13:59:04.309Z"
   },
   {
    "duration": 267,
    "start_time": "2022-10-19T14:00:23.556Z"
   },
   {
    "duration": 23,
    "start_time": "2022-10-19T14:01:18.075Z"
   },
   {
    "duration": 210,
    "start_time": "2022-10-19T14:01:20.531Z"
   },
   {
    "duration": 20,
    "start_time": "2022-10-19T14:01:27.760Z"
   },
   {
    "duration": 414,
    "start_time": "2022-10-19T14:06:02.762Z"
   },
   {
    "duration": 524,
    "start_time": "2022-10-19T14:08:44.687Z"
   },
   {
    "duration": 282,
    "start_time": "2022-10-19T14:08:52.952Z"
   },
   {
    "duration": 299,
    "start_time": "2022-10-19T14:08:57.800Z"
   },
   {
    "duration": 272,
    "start_time": "2022-10-19T14:09:03.305Z"
   },
   {
    "duration": 283,
    "start_time": "2022-10-19T14:09:11.360Z"
   },
   {
    "duration": 306,
    "start_time": "2022-10-19T14:09:22.351Z"
   },
   {
    "duration": 422,
    "start_time": "2022-10-19T14:09:29.751Z"
   },
   {
    "duration": 293,
    "start_time": "2022-10-19T14:10:03.239Z"
   },
   {
    "duration": 197,
    "start_time": "2022-10-19T14:16:26.925Z"
   },
   {
    "duration": 310,
    "start_time": "2022-10-19T14:28:03.944Z"
   },
   {
    "duration": 145,
    "start_time": "2022-10-19T14:29:19.264Z"
   },
   {
    "duration": 171,
    "start_time": "2022-10-19T14:29:58.111Z"
   },
   {
    "duration": 371,
    "start_time": "2022-10-19T14:30:04.480Z"
   },
   {
    "duration": 291,
    "start_time": "2022-10-19T14:30:32.303Z"
   },
   {
    "duration": 299,
    "start_time": "2022-10-19T14:30:56.047Z"
   },
   {
    "duration": 270,
    "start_time": "2022-10-19T14:31:14.687Z"
   },
   {
    "duration": 274,
    "start_time": "2022-10-19T14:31:24.332Z"
   },
   {
    "duration": 304,
    "start_time": "2022-10-19T14:31:32.608Z"
   },
   {
    "duration": 377,
    "start_time": "2022-10-19T14:31:39.943Z"
   },
   {
    "duration": 130,
    "start_time": "2022-10-19T14:36:31.308Z"
   },
   {
    "duration": 10,
    "start_time": "2022-10-19T14:37:32.965Z"
   },
   {
    "duration": 16,
    "start_time": "2022-10-19T14:42:30.714Z"
   },
   {
    "duration": 15,
    "start_time": "2022-10-19T14:44:03.378Z"
   },
   {
    "duration": 45,
    "start_time": "2022-10-19T14:46:54.616Z"
   },
   {
    "duration": 114,
    "start_time": "2022-10-19T14:55:33.852Z"
   },
   {
    "duration": 323,
    "start_time": "2022-10-19T14:57:20.156Z"
   },
   {
    "duration": 828,
    "start_time": "2022-10-19T16:49:40.631Z"
   },
   {
    "duration": 101,
    "start_time": "2022-10-19T16:49:41.461Z"
   },
   {
    "duration": 22,
    "start_time": "2022-10-19T16:49:41.564Z"
   },
   {
    "duration": 16,
    "start_time": "2022-10-19T16:49:41.588Z"
   },
   {
    "duration": 717,
    "start_time": "2022-10-19T16:49:41.606Z"
   },
   {
    "duration": 9,
    "start_time": "2022-10-19T16:49:42.326Z"
   },
   {
    "duration": 22,
    "start_time": "2022-10-19T16:49:42.343Z"
   },
   {
    "duration": 6,
    "start_time": "2022-10-19T16:49:42.368Z"
   },
   {
    "duration": 15,
    "start_time": "2022-10-19T16:49:42.376Z"
   },
   {
    "duration": 56,
    "start_time": "2022-10-19T16:49:42.393Z"
   },
   {
    "duration": 20,
    "start_time": "2022-10-19T16:49:42.451Z"
   },
   {
    "duration": 5,
    "start_time": "2022-10-19T16:49:42.473Z"
   },
   {
    "duration": 12,
    "start_time": "2022-10-19T16:49:42.479Z"
   },
   {
    "duration": 29,
    "start_time": "2022-10-19T16:49:42.492Z"
   },
   {
    "duration": 30,
    "start_time": "2022-10-19T16:49:42.523Z"
   },
   {
    "duration": 68,
    "start_time": "2022-10-19T16:49:42.555Z"
   },
   {
    "duration": 6,
    "start_time": "2022-10-19T16:49:42.625Z"
   },
   {
    "duration": 14,
    "start_time": "2022-10-19T16:49:42.632Z"
   },
   {
    "duration": 17,
    "start_time": "2022-10-19T16:49:42.648Z"
   },
   {
    "duration": 93,
    "start_time": "2022-10-19T16:49:42.666Z"
   },
   {
    "duration": 241,
    "start_time": "2022-10-19T16:49:42.761Z"
   },
   {
    "duration": 288,
    "start_time": "2022-10-19T16:49:43.004Z"
   },
   {
    "duration": 41,
    "start_time": "2022-10-19T16:49:43.294Z"
   },
   {
    "duration": 17,
    "start_time": "2022-10-19T16:49:43.337Z"
   },
   {
    "duration": 301,
    "start_time": "2022-10-19T16:55:30.202Z"
   },
   {
    "duration": 5,
    "start_time": "2022-10-19T17:03:36.995Z"
   },
   {
    "duration": 128,
    "start_time": "2022-10-19T17:10:43.461Z"
   },
   {
    "duration": 9,
    "start_time": "2022-10-19T17:11:06.577Z"
   },
   {
    "duration": 40,
    "start_time": "2022-10-19T17:11:26.403Z"
   },
   {
    "duration": 31,
    "start_time": "2022-10-19T17:11:57.954Z"
   },
   {
    "duration": 31,
    "start_time": "2022-10-19T17:12:35.781Z"
   },
   {
    "duration": 12,
    "start_time": "2022-10-19T17:14:05.965Z"
   },
   {
    "duration": 33,
    "start_time": "2022-10-19T17:14:20.730Z"
   },
   {
    "duration": 149,
    "start_time": "2022-10-19T17:15:18.592Z"
   },
   {
    "duration": 12,
    "start_time": "2022-10-19T17:17:32.970Z"
   },
   {
    "duration": 16,
    "start_time": "2022-10-19T17:17:43.716Z"
   },
   {
    "duration": 9,
    "start_time": "2022-10-19T17:17:53.684Z"
   },
   {
    "duration": 17,
    "start_time": "2022-10-19T17:18:02.948Z"
   },
   {
    "duration": 19,
    "start_time": "2022-10-19T17:18:10.917Z"
   },
   {
    "duration": 15,
    "start_time": "2022-10-19T17:18:28.960Z"
   },
   {
    "duration": 340,
    "start_time": "2022-10-19T17:26:25.826Z"
   },
   {
    "duration": 340,
    "start_time": "2022-10-19T17:28:34.312Z"
   },
   {
    "duration": 312,
    "start_time": "2022-10-19T17:30:55.578Z"
   },
   {
    "duration": 337,
    "start_time": "2022-10-19T17:33:03.522Z"
   },
   {
    "duration": 320,
    "start_time": "2022-10-19T17:36:58.499Z"
   },
   {
    "duration": 366,
    "start_time": "2022-10-19T17:37:46.400Z"
   },
   {
    "duration": 147,
    "start_time": "2022-10-19T17:38:49.773Z"
   },
   {
    "duration": 301,
    "start_time": "2022-10-19T17:40:05.664Z"
   },
   {
    "duration": 327,
    "start_time": "2022-10-19T17:40:10.892Z"
   },
   {
    "duration": 302,
    "start_time": "2022-10-19T17:40:30.222Z"
   },
   {
    "duration": 318,
    "start_time": "2022-10-19T17:40:57.901Z"
   },
   {
    "duration": 300,
    "start_time": "2022-10-19T17:41:11.984Z"
   },
   {
    "duration": 293,
    "start_time": "2022-10-19T17:42:12.305Z"
   },
   {
    "duration": 220,
    "start_time": "2022-10-19T17:43:10.140Z"
   },
   {
    "duration": 175,
    "start_time": "2022-10-19T17:44:37.272Z"
   },
   {
    "duration": 112,
    "start_time": "2022-10-19T17:45:01.750Z"
   },
   {
    "duration": 617,
    "start_time": "2022-10-20T10:08:35.843Z"
   },
   {
    "duration": 59,
    "start_time": "2022-10-20T10:08:36.462Z"
   },
   {
    "duration": 22,
    "start_time": "2022-10-20T10:08:36.522Z"
   },
   {
    "duration": 16,
    "start_time": "2022-10-20T10:08:36.546Z"
   },
   {
    "duration": 846,
    "start_time": "2022-10-20T10:08:36.564Z"
   },
   {
    "duration": 5,
    "start_time": "2022-10-20T10:08:37.412Z"
   },
   {
    "duration": 6,
    "start_time": "2022-10-20T10:08:37.418Z"
   },
   {
    "duration": 9,
    "start_time": "2022-10-20T10:08:37.425Z"
   },
   {
    "duration": 11,
    "start_time": "2022-10-20T10:08:37.436Z"
   },
   {
    "duration": 71,
    "start_time": "2022-10-20T10:08:37.449Z"
   },
   {
    "duration": 22,
    "start_time": "2022-10-20T10:08:37.522Z"
   },
   {
    "duration": 5,
    "start_time": "2022-10-20T10:08:37.546Z"
   },
   {
    "duration": 19,
    "start_time": "2022-10-20T10:08:37.552Z"
   },
   {
    "duration": 19,
    "start_time": "2022-10-20T10:08:37.596Z"
   },
   {
    "duration": 16,
    "start_time": "2022-10-20T10:08:37.617Z"
   },
   {
    "duration": 36,
    "start_time": "2022-10-20T10:08:37.635Z"
   },
   {
    "duration": 25,
    "start_time": "2022-10-20T10:08:37.673Z"
   },
   {
    "duration": 16,
    "start_time": "2022-10-20T10:08:37.711Z"
   },
   {
    "duration": 7,
    "start_time": "2022-10-20T10:08:37.729Z"
   },
   {
    "duration": 81,
    "start_time": "2022-10-20T10:08:37.737Z"
   },
   {
    "duration": 261,
    "start_time": "2022-10-20T10:08:37.820Z"
   },
   {
    "duration": 310,
    "start_time": "2022-10-20T10:08:38.083Z"
   },
   {
    "duration": 32,
    "start_time": "2022-10-20T10:08:38.395Z"
   },
   {
    "duration": 20,
    "start_time": "2022-10-20T10:08:38.429Z"
   },
   {
    "duration": 301,
    "start_time": "2022-10-20T10:08:38.450Z"
   },
   {
    "duration": 323,
    "start_time": "2022-10-20T10:08:38.752Z"
   },
   {
    "duration": 330,
    "start_time": "2022-10-20T10:08:39.076Z"
   },
   {
    "duration": 316,
    "start_time": "2022-10-20T10:08:39.408Z"
   },
   {
    "duration": 320,
    "start_time": "2022-10-20T10:08:39.726Z"
   },
   {
    "duration": 322,
    "start_time": "2022-10-20T10:08:40.048Z"
   },
   {
    "duration": 382,
    "start_time": "2022-10-20T10:08:40.372Z"
   },
   {
    "duration": 221,
    "start_time": "2022-10-20T10:08:40.756Z"
   },
   {
    "duration": 16,
    "start_time": "2022-10-20T10:08:40.979Z"
   },
   {
    "duration": 183,
    "start_time": "2022-10-20T10:08:40.997Z"
   },
   {
    "duration": 877,
    "start_time": "2022-10-20T10:08:41.182Z"
   },
   {
    "duration": 126,
    "start_time": "2022-10-20T10:08:42.061Z"
   },
   {
    "duration": 124,
    "start_time": "2022-10-20T10:08:42.189Z"
   },
   {
    "duration": 116,
    "start_time": "2022-10-20T10:08:42.315Z"
   },
   {
    "duration": 219,
    "start_time": "2022-10-20T10:08:42.432Z"
   },
   {
    "duration": 149,
    "start_time": "2022-10-20T10:08:42.652Z"
   },
   {
    "duration": 217,
    "start_time": "2022-10-20T10:08:42.807Z"
   },
   {
    "duration": 300,
    "start_time": "2022-10-20T10:08:43.026Z"
   },
   {
    "duration": 134,
    "start_time": "2022-10-20T10:08:43.328Z"
   },
   {
    "duration": 208,
    "start_time": "2022-10-20T10:08:43.464Z"
   },
   {
    "duration": 3,
    "start_time": "2022-10-20T10:08:43.673Z"
   },
   {
    "duration": 26,
    "start_time": "2022-10-20T10:08:43.678Z"
   },
   {
    "duration": 21,
    "start_time": "2022-10-20T10:08:43.711Z"
   },
   {
    "duration": 9,
    "start_time": "2022-10-20T10:08:43.734Z"
   },
   {
    "duration": 18,
    "start_time": "2022-10-20T10:08:43.745Z"
   }
  ],
  "kernelspec": {
   "display_name": "Python 3 (ipykernel)",
   "language": "python",
   "name": "python3"
  },
  "language_info": {
   "codemirror_mode": {
    "name": "ipython",
    "version": 3
   },
   "file_extension": ".py",
   "mimetype": "text/x-python",
   "name": "python",
   "nbconvert_exporter": "python",
   "pygments_lexer": "ipython3",
   "version": "3.9.12"
  },
  "toc": {
   "base_numbering": 1,
   "nav_menu": {},
   "number_sections": true,
   "sideBar": true,
   "skip_h1_title": true,
   "title_cell": "Table of Contents",
   "title_sidebar": "Contents",
   "toc_cell": false,
   "toc_position": {
    "height": "calc(100% - 180px)",
    "left": "10px",
    "top": "150px",
    "width": "233.057px"
   },
   "toc_section_display": true,
   "toc_window_display": true
  }
 },
 "nbformat": 4,
 "nbformat_minor": 2
}
