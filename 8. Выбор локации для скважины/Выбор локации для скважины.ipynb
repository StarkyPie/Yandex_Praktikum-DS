{
 "cells": [
  {
   "cell_type": "markdown",
   "metadata": {},
   "source": [
    "# Выбор локации для скважины"
   ]
  },
  {
   "cell_type": "markdown",
   "metadata": {},
   "source": [
    "Допустим, вы работаете в добывающей компании «ГлавРосГосНефть». Нужно решить, где бурить новую скважину.\n",
    "\n",
    "Вам предоставлены пробы нефти в трёх регионах: в каждом 10 000 месторождений, где измерили качество нефти и объём её запасов. Постройте модель машинного обучения, которая поможет определить регион, где добыча принесёт наибольшую прибыль. Проанализируйте возможную прибыль и риски техникой *Bootstrap.*\n",
    "\n",
    "Шаги для выбора локации:\n",
    "\n",
    "- В избранном регионе ищут месторождения, для каждого определяют значения признаков;\n",
    "- Строят модель и оценивают объём запасов;\n",
    "- Выбирают месторождения с самым высокими оценками значений. Количество месторождений зависит от бюджета компании и стоимости разработки одной скважины;\n",
    "- Прибыль равна суммарной прибыли отобранных месторождений.\n",
    "\n",
    "**Цель исследования** - выполнить следующие задачи:\n",
    "1. Загрузить и подготовить данные.\n",
    "2. Обучить и проверить модель для каждого региона.\n",
    "3. Подготовиться к расчёту прибыли.\n",
    "4. Посчитать риски и прибыль.\n",
    "\n",
    "**Ход исследования**\n",
    "\n",
    "Данные мы получим из файлов `/datasets/geo_data_0.csv`, `/datasets/geo_data_1.csv`, `/datasets/geo_data_2.csv`. О качестве данных нам ничего не известно. Значит перед исследовательской работой понадбится обзор данных. Проверим общую информацию, если понадобится, то проведём предобработку данных, чтобы исправить ошибки.\n",
    "\n",
    "После подготовки данных займёмся построением модели и расчётом прибыли, и рисков.\n",
    "\n",
    "**Важные условия задачи**\n",
    "\n",
    "1. Для обучения модели подходит только линейная регрессия (остальные — недостаточно предсказуемые).\n",
    "2. При разведке региона исследуют 500 точек, из которых с помощью машинного обучения выбирают 200 лучших для разработки.\n",
    "3. Бюджет на разработку скважин в регионе — 10 млрд рублей.\n",
    "4. При нынешних ценах один баррель сырья приносит 450 рублей дохода. Доход с каждой единицы продукта составляет 450 тыс. рублей, поскольку объём указан в тысячах баррелей.\n",
    "5. После оценки рисков нужно оставить лишь те регионы, в которых вероятность убытков меньше 2.5%. Среди них выбирают регион с наибольшей средней прибылью.\n"
   ]
  },
  {
   "cell_type": "markdown",
   "metadata": {},
   "source": [
    "## Загрузка и подготовка данных"
   ]
  },
  {
   "cell_type": "markdown",
   "metadata": {},
   "source": [
    "### Обзор данных"
   ]
  },
  {
   "cell_type": "code",
   "execution_count": 1,
   "metadata": {},
   "outputs": [],
   "source": [
    "#подключим необходимые библиотеки\n",
    "import pandas as pd\n",
    "import matplotlib.pyplot as plt\n",
    "import numpy as np\n",
    "from sklearn.model_selection import train_test_split\n",
    "from sklearn.tree import DecisionTreeRegressor\n",
    "from sklearn.ensemble import RandomForestRegressor\n",
    "from sklearn.linear_model import LinearRegression\n",
    "from sklearn.metrics import mean_squared_error\n",
    "from sklearn.metrics import r2_score\n",
    "from sklearn.metrics import mean_absolute_error\n",
    "from sklearn.preprocessing import StandardScaler "
   ]
  },
  {
   "cell_type": "code",
   "execution_count": 2,
   "metadata": {},
   "outputs": [],
   "source": [
    "#прочитаем 3 csv файла\n",
    "data_geo_0 = pd.read_csv('/datasets/geo_data_0.csv')#, thousands=\",\")\n",
    "data_geo_1 = pd.read_csv('/datasets/geo_data_1.csv')#, thousands=\",\")\n",
    "data_geo_2 = pd.read_csv('/datasets/geo_data_2.csv')#, thousands=\",\")"
   ]
  },
  {
   "cell_type": "code",
   "execution_count": 3,
   "metadata": {},
   "outputs": [
    {
     "data": {
      "text/html": [
       "<div>\n",
       "<style scoped>\n",
       "    .dataframe tbody tr th:only-of-type {\n",
       "        vertical-align: middle;\n",
       "    }\n",
       "\n",
       "    .dataframe tbody tr th {\n",
       "        vertical-align: top;\n",
       "    }\n",
       "\n",
       "    .dataframe thead th {\n",
       "        text-align: right;\n",
       "    }\n",
       "</style>\n",
       "<table border=\"1\" class=\"dataframe\">\n",
       "  <thead>\n",
       "    <tr style=\"text-align: right;\">\n",
       "      <th></th>\n",
       "      <th>id</th>\n",
       "      <th>f0</th>\n",
       "      <th>f1</th>\n",
       "      <th>f2</th>\n",
       "      <th>product</th>\n",
       "    </tr>\n",
       "  </thead>\n",
       "  <tbody>\n",
       "    <tr>\n",
       "      <th>0</th>\n",
       "      <td>txEyH</td>\n",
       "      <td>0.705745</td>\n",
       "      <td>-0.497823</td>\n",
       "      <td>1.221170</td>\n",
       "      <td>105.280062</td>\n",
       "    </tr>\n",
       "    <tr>\n",
       "      <th>1</th>\n",
       "      <td>2acmU</td>\n",
       "      <td>1.334711</td>\n",
       "      <td>-0.340164</td>\n",
       "      <td>4.365080</td>\n",
       "      <td>73.037750</td>\n",
       "    </tr>\n",
       "    <tr>\n",
       "      <th>2</th>\n",
       "      <td>409Wp</td>\n",
       "      <td>1.022732</td>\n",
       "      <td>0.151990</td>\n",
       "      <td>1.419926</td>\n",
       "      <td>85.265647</td>\n",
       "    </tr>\n",
       "    <tr>\n",
       "      <th>3</th>\n",
       "      <td>iJLyR</td>\n",
       "      <td>-0.032172</td>\n",
       "      <td>0.139033</td>\n",
       "      <td>2.978566</td>\n",
       "      <td>168.620776</td>\n",
       "    </tr>\n",
       "    <tr>\n",
       "      <th>4</th>\n",
       "      <td>Xdl7t</td>\n",
       "      <td>1.988431</td>\n",
       "      <td>0.155413</td>\n",
       "      <td>4.751769</td>\n",
       "      <td>154.036647</td>\n",
       "    </tr>\n",
       "  </tbody>\n",
       "</table>\n",
       "</div>"
      ],
      "text/plain": [
       "      id        f0        f1        f2     product\n",
       "0  txEyH  0.705745 -0.497823  1.221170  105.280062\n",
       "1  2acmU  1.334711 -0.340164  4.365080   73.037750\n",
       "2  409Wp  1.022732  0.151990  1.419926   85.265647\n",
       "3  iJLyR -0.032172  0.139033  2.978566  168.620776\n",
       "4  Xdl7t  1.988431  0.155413  4.751769  154.036647"
      ]
     },
     "execution_count": 3,
     "metadata": {},
     "output_type": "execute_result"
    }
   ],
   "source": [
    "#выведем первые 5 строк таблиц\n",
    "data_geo_0.head()"
   ]
  },
  {
   "cell_type": "code",
   "execution_count": 4,
   "metadata": {},
   "outputs": [
    {
     "data": {
      "text/html": [
       "<div>\n",
       "<style scoped>\n",
       "    .dataframe tbody tr th:only-of-type {\n",
       "        vertical-align: middle;\n",
       "    }\n",
       "\n",
       "    .dataframe tbody tr th {\n",
       "        vertical-align: top;\n",
       "    }\n",
       "\n",
       "    .dataframe thead th {\n",
       "        text-align: right;\n",
       "    }\n",
       "</style>\n",
       "<table border=\"1\" class=\"dataframe\">\n",
       "  <thead>\n",
       "    <tr style=\"text-align: right;\">\n",
       "      <th></th>\n",
       "      <th>id</th>\n",
       "      <th>f0</th>\n",
       "      <th>f1</th>\n",
       "      <th>f2</th>\n",
       "      <th>product</th>\n",
       "    </tr>\n",
       "  </thead>\n",
       "  <tbody>\n",
       "    <tr>\n",
       "      <th>0</th>\n",
       "      <td>kBEdx</td>\n",
       "      <td>-15.001348</td>\n",
       "      <td>-8.276000</td>\n",
       "      <td>-0.005876</td>\n",
       "      <td>3.179103</td>\n",
       "    </tr>\n",
       "    <tr>\n",
       "      <th>1</th>\n",
       "      <td>62mP7</td>\n",
       "      <td>14.272088</td>\n",
       "      <td>-3.475083</td>\n",
       "      <td>0.999183</td>\n",
       "      <td>26.953261</td>\n",
       "    </tr>\n",
       "    <tr>\n",
       "      <th>2</th>\n",
       "      <td>vyE1P</td>\n",
       "      <td>6.263187</td>\n",
       "      <td>-5.948386</td>\n",
       "      <td>5.001160</td>\n",
       "      <td>134.766305</td>\n",
       "    </tr>\n",
       "    <tr>\n",
       "      <th>3</th>\n",
       "      <td>KcrkZ</td>\n",
       "      <td>-13.081196</td>\n",
       "      <td>-11.506057</td>\n",
       "      <td>4.999415</td>\n",
       "      <td>137.945408</td>\n",
       "    </tr>\n",
       "    <tr>\n",
       "      <th>4</th>\n",
       "      <td>AHL4O</td>\n",
       "      <td>12.702195</td>\n",
       "      <td>-8.147433</td>\n",
       "      <td>5.004363</td>\n",
       "      <td>134.766305</td>\n",
       "    </tr>\n",
       "  </tbody>\n",
       "</table>\n",
       "</div>"
      ],
      "text/plain": [
       "      id         f0         f1        f2     product\n",
       "0  kBEdx -15.001348  -8.276000 -0.005876    3.179103\n",
       "1  62mP7  14.272088  -3.475083  0.999183   26.953261\n",
       "2  vyE1P   6.263187  -5.948386  5.001160  134.766305\n",
       "3  KcrkZ -13.081196 -11.506057  4.999415  137.945408\n",
       "4  AHL4O  12.702195  -8.147433  5.004363  134.766305"
      ]
     },
     "execution_count": 4,
     "metadata": {},
     "output_type": "execute_result"
    }
   ],
   "source": [
    "data_geo_1.head()"
   ]
  },
  {
   "cell_type": "code",
   "execution_count": 5,
   "metadata": {},
   "outputs": [
    {
     "data": {
      "text/html": [
       "<div>\n",
       "<style scoped>\n",
       "    .dataframe tbody tr th:only-of-type {\n",
       "        vertical-align: middle;\n",
       "    }\n",
       "\n",
       "    .dataframe tbody tr th {\n",
       "        vertical-align: top;\n",
       "    }\n",
       "\n",
       "    .dataframe thead th {\n",
       "        text-align: right;\n",
       "    }\n",
       "</style>\n",
       "<table border=\"1\" class=\"dataframe\">\n",
       "  <thead>\n",
       "    <tr style=\"text-align: right;\">\n",
       "      <th></th>\n",
       "      <th>id</th>\n",
       "      <th>f0</th>\n",
       "      <th>f1</th>\n",
       "      <th>f2</th>\n",
       "      <th>product</th>\n",
       "    </tr>\n",
       "  </thead>\n",
       "  <tbody>\n",
       "    <tr>\n",
       "      <th>0</th>\n",
       "      <td>fwXo0</td>\n",
       "      <td>-1.146987</td>\n",
       "      <td>0.963328</td>\n",
       "      <td>-0.828965</td>\n",
       "      <td>27.758673</td>\n",
       "    </tr>\n",
       "    <tr>\n",
       "      <th>1</th>\n",
       "      <td>WJtFt</td>\n",
       "      <td>0.262778</td>\n",
       "      <td>0.269839</td>\n",
       "      <td>-2.530187</td>\n",
       "      <td>56.069697</td>\n",
       "    </tr>\n",
       "    <tr>\n",
       "      <th>2</th>\n",
       "      <td>ovLUW</td>\n",
       "      <td>0.194587</td>\n",
       "      <td>0.289035</td>\n",
       "      <td>-5.586433</td>\n",
       "      <td>62.871910</td>\n",
       "    </tr>\n",
       "    <tr>\n",
       "      <th>3</th>\n",
       "      <td>q6cA6</td>\n",
       "      <td>2.236060</td>\n",
       "      <td>-0.553760</td>\n",
       "      <td>0.930038</td>\n",
       "      <td>114.572842</td>\n",
       "    </tr>\n",
       "    <tr>\n",
       "      <th>4</th>\n",
       "      <td>WPMUX</td>\n",
       "      <td>-0.515993</td>\n",
       "      <td>1.716266</td>\n",
       "      <td>5.899011</td>\n",
       "      <td>149.600746</td>\n",
       "    </tr>\n",
       "  </tbody>\n",
       "</table>\n",
       "</div>"
      ],
      "text/plain": [
       "      id        f0        f1        f2     product\n",
       "0  fwXo0 -1.146987  0.963328 -0.828965   27.758673\n",
       "1  WJtFt  0.262778  0.269839 -2.530187   56.069697\n",
       "2  ovLUW  0.194587  0.289035 -5.586433   62.871910\n",
       "3  q6cA6  2.236060 -0.553760  0.930038  114.572842\n",
       "4  WPMUX -0.515993  1.716266  5.899011  149.600746"
      ]
     },
     "execution_count": 5,
     "metadata": {},
     "output_type": "execute_result"
    }
   ],
   "source": [
    "data_geo_2.head()"
   ]
  },
  {
   "cell_type": "code",
   "execution_count": 6,
   "metadata": {},
   "outputs": [
    {
     "name": "stdout",
     "output_type": "stream",
     "text": [
      "<class 'pandas.core.frame.DataFrame'>\n",
      "RangeIndex: 100000 entries, 0 to 99999\n",
      "Data columns (total 5 columns):\n",
      " #   Column   Non-Null Count   Dtype  \n",
      "---  ------   --------------   -----  \n",
      " 0   id       100000 non-null  object \n",
      " 1   f0       100000 non-null  float64\n",
      " 2   f1       100000 non-null  float64\n",
      " 3   f2       100000 non-null  float64\n",
      " 4   product  100000 non-null  float64\n",
      "dtypes: float64(4), object(1)\n",
      "memory usage: 3.8+ MB\n"
     ]
    }
   ],
   "source": [
    "#выведем основную информацию о таблицах методом info()\n",
    "data_geo_0.info()"
   ]
  },
  {
   "cell_type": "code",
   "execution_count": 7,
   "metadata": {},
   "outputs": [
    {
     "name": "stdout",
     "output_type": "stream",
     "text": [
      "<class 'pandas.core.frame.DataFrame'>\n",
      "RangeIndex: 100000 entries, 0 to 99999\n",
      "Data columns (total 5 columns):\n",
      " #   Column   Non-Null Count   Dtype  \n",
      "---  ------   --------------   -----  \n",
      " 0   id       100000 non-null  object \n",
      " 1   f0       100000 non-null  float64\n",
      " 2   f1       100000 non-null  float64\n",
      " 3   f2       100000 non-null  float64\n",
      " 4   product  100000 non-null  float64\n",
      "dtypes: float64(4), object(1)\n",
      "memory usage: 3.8+ MB\n"
     ]
    }
   ],
   "source": [
    "data_geo_1.info()"
   ]
  },
  {
   "cell_type": "code",
   "execution_count": 8,
   "metadata": {},
   "outputs": [
    {
     "name": "stdout",
     "output_type": "stream",
     "text": [
      "<class 'pandas.core.frame.DataFrame'>\n",
      "RangeIndex: 100000 entries, 0 to 99999\n",
      "Data columns (total 5 columns):\n",
      " #   Column   Non-Null Count   Dtype  \n",
      "---  ------   --------------   -----  \n",
      " 0   id       100000 non-null  object \n",
      " 1   f0       100000 non-null  float64\n",
      " 2   f1       100000 non-null  float64\n",
      " 3   f2       100000 non-null  float64\n",
      " 4   product  100000 non-null  float64\n",
      "dtypes: float64(4), object(1)\n",
      "memory usage: 3.8+ MB\n"
     ]
    }
   ],
   "source": [
    "data_geo_2.info()"
   ]
  },
  {
   "cell_type": "code",
   "execution_count": 9,
   "metadata": {},
   "outputs": [
    {
     "data": {
      "image/png": "[encoded data removed]",
      "text/plain": [
       "<Figure size 864x360 with 1 Axes>"
      ]
     },
     "metadata": {
      "needs_background": "light"
     },
     "output_type": "display_data"
    }
   ],
   "source": [
    "#построим гистограммы для наших таблиц по объёму запасов в скважине\n",
    "data_geo_0['product'].hist(bins=100, figsize=(12, 5))\n",
    "plt.xlabel('Объём запасов в скважине (тыс. баррелей)')\n",
    "plt.ylabel('Количество скважин')\n",
    "plt.title('Объём запасов по количеству скважин')\n",
    "plt.show()"
   ]
  },
  {
   "cell_type": "code",
   "execution_count": 10,
   "metadata": {},
   "outputs": [
    {
     "data": {
      "image/png": "[encoded data removed]",
      "text/plain": [
       "<Figure size 864x360 with 1 Axes>"
      ]
     },
     "metadata": {
      "needs_background": "light"
     },
     "output_type": "display_data"
    }
   ],
   "source": [
    "data_geo_1['product'].hist(bins=50, figsize=(12, 5))\n",
    "plt.xlabel('Объём запасов в скважине (тыс. баррелей)')\n",
    "plt.ylabel('Количество скважин')\n",
    "plt.title('Объём запасов по количеству скважин')\n",
    "plt.show()"
   ]
  },
  {
   "cell_type": "code",
   "execution_count": 11,
   "metadata": {},
   "outputs": [
    {
     "data": {
      "image/png": "[encoded data removed]",
      "text/plain": [
       "<Figure size 864x360 with 1 Axes>"
      ]
     },
     "metadata": {
      "needs_background": "light"
     },
     "output_type": "display_data"
    }
   ],
   "source": [
    "data_geo_2['product'].hist(bins=100, figsize=(12, 5))\n",
    "plt.xlabel('Объём запасов в скважине (тыс. баррелей)')\n",
    "plt.ylabel('Количество скважин')\n",
    "plt.title('Объём запасов по количеству скважин')\n",
    "plt.show()"
   ]
  },
  {
   "cell_type": "markdown",
   "metadata": {},
   "source": [
    "**Вывод**\n",
    "\n",
    "Каждый объект таблиц - данные геологоразведки региона. Столбцы описывают следующую информацию: уникальный идентификатор скважины, три признака точек, объём запасов в скважине. \n",
    "\n",
    "Мы видим, что в данных отсутствуют пропуски. \n",
    "\n",
    "По гистограммам можно сказать, что распределение объёма запасов по количеству скважин в первом и третьем регионе близко к нормальному. По гистограмме второго региона видно, что данные объёма запасов заполнены странно.\n",
    "\n",
    "По данным можно сделать вывод, что признак product является для нас ключевым. Он количественный, а значит перед нами задача регрессии."
   ]
  },
  {
   "cell_type": "markdown",
   "metadata": {},
   "source": [
    "### Предобработка данных"
   ]
  },
  {
   "cell_type": "markdown",
   "metadata": {},
   "source": [
    "#### Проверка дубликатов"
   ]
  },
  {
   "cell_type": "code",
   "execution_count": 12,
   "metadata": {},
   "outputs": [
    {
     "data": {
      "text/plain": [
       "0"
      ]
     },
     "metadata": {},
     "output_type": "display_data"
    },
    {
     "data": {
      "text/plain": [
       "0"
      ]
     },
     "metadata": {},
     "output_type": "display_data"
    },
    {
     "data": {
      "text/plain": [
       "0"
      ]
     },
     "metadata": {},
     "output_type": "display_data"
    }
   ],
   "source": [
    "#проверим наличие дубликатов\n",
    "display(data_geo_0.duplicated().sum(), data_geo_1.duplicated().sum(), data_geo_2.duplicated().sum())"
   ]
  },
  {
   "cell_type": "markdown",
   "metadata": {},
   "source": [
    "Дубликаты не обнаружены. Проверим уникальные значения признаков"
   ]
  },
  {
   "cell_type": "code",
   "execution_count": 13,
   "metadata": {},
   "outputs": [
    {
     "data": {
      "text/plain": [
       "100000"
      ]
     },
     "metadata": {},
     "output_type": "display_data"
    },
    {
     "data": {
      "text/plain": [
       "100000"
      ]
     },
     "metadata": {},
     "output_type": "display_data"
    },
    {
     "data": {
      "text/plain": [
       "100000"
      ]
     },
     "metadata": {},
     "output_type": "display_data"
    }
   ],
   "source": [
    "#посмотрим кол-во уникальных объектов в таблицах\n",
    "display(data_geo_0.value_counts().count(), data_geo_1.value_counts().count(), data_geo_2.value_counts().count())"
   ]
  },
  {
   "cell_type": "code",
   "execution_count": 14,
   "metadata": {},
   "outputs": [
    {
     "data": {
      "text/plain": [
       "id          99990\n",
       "f0         100000\n",
       "f1         100000\n",
       "f2         100000\n",
       "product    100000\n",
       "dtype: int64"
      ]
     },
     "execution_count": 14,
     "metadata": {},
     "output_type": "execute_result"
    }
   ],
   "source": [
    "# ячейка ревьюера\n",
    "\n",
    "data_geo_0.nunique()"
   ]
  },
  {
   "cell_type": "markdown",
   "metadata": {},
   "source": [
    "Во всех 3х таблицах каждый признак уникален. Соответственно не нужно проводить более глубокую проверку."
   ]
  },
  {
   "cell_type": "markdown",
   "metadata": {},
   "source": [
    "#### Удаление ненужного признака"
   ]
  },
  {
   "cell_type": "markdown",
   "metadata": {},
   "source": [
    "Есть смысл удалить из таблиц признак id. Этот признак никак не повлияет на обучение нашей модели."
   ]
  },
  {
   "cell_type": "code",
   "execution_count": 15,
   "metadata": {},
   "outputs": [],
   "source": [
    "#удалим признак id из таблиц\n",
    "data_geo_0 = data_geo_0.drop(['id'], axis=1)\n",
    "data_geo_1 = data_geo_1.drop(['id'], axis=1)\n",
    "data_geo_2 = data_geo_2.drop(['id'], axis=1)"
   ]
  },
  {
   "cell_type": "markdown",
   "metadata": {},
   "source": [
    "**Вывод**\n",
    "\n",
    "В ходе небольшой предобработки мы выяснили, что в данных дубликаты отсутствуют и все значения признаков уникальны. Ещё мы удалили ненужный столбец id, который никак не повлияет на обучение модели.\n",
    "\n",
    "Можно приступить к обучению модели."
   ]
  },
  {
   "cell_type": "markdown",
   "metadata": {},
   "source": [
    "## Обучение и проверка модели"
   ]
  },
  {
   "cell_type": "markdown",
   "metadata": {},
   "source": [
    "### Разделим данные на выборки и проведём масштабирование признаков"
   ]
  },
  {
   "cell_type": "code",
   "execution_count": 16,
   "metadata": {},
   "outputs": [],
   "source": [
    "#создадим функцию для разделения данных на выборки и масштабирования признаков\n",
    "def split (data, data_target):\n",
    "    pd.options.mode.chained_assignment = None\n",
    "    features = data.drop([data_target], axis=1)\n",
    "    target = data[data_target]\n",
    "    numeric = ['f0', 'f1', 'f2']\n",
    "    \n",
    "    features_train, features_valid, target_train, target_valid = train_test_split(\n",
    "        features, target, train_size=0.75, random_state=42)\n",
    "    \n",
    "    scaler = StandardScaler()\n",
    "    scaler.fit(features_train[numeric])\n",
    "    features_train[numeric] = scaler.transform(features_train[numeric])\n",
    "    features_valid[numeric] = scaler.transform(features_valid[numeric])\n",
    "    \n",
    "    return features_train, features_valid, target_train, target_valid"
   ]
  },
  {
   "cell_type": "code",
   "execution_count": 17,
   "metadata": {},
   "outputs": [],
   "source": [
    "features_train_0, features_valid_0, target_train_0, target_valid_0 = split(data_geo_0, 'product')\n",
    "features_train_1, features_valid_1, target_train_1, target_valid_1 = split(data_geo_1, 'product')\n",
    "features_train_2, features_valid_2, target_train_2, target_valid_2 = split(data_geo_2, 'product')"
   ]
  },
  {
   "cell_type": "code",
   "execution_count": 18,
   "metadata": {},
   "outputs": [
    {
     "name": "stdout",
     "output_type": "stream",
     "text": [
      "Размер обучающей выборки: 75000 \n",
      "Размер валидационной выборки: 25000\n"
     ]
    }
   ],
   "source": [
    "print('Размер обучающей выборки:', features_train_0.shape[0],'\\n'\n",
    "      'Размер валидационной выборки:', features_valid_0.shape[0])"
   ]
  },
  {
   "cell_type": "markdown",
   "metadata": {},
   "source": [
    "Разделили данные на выборки и провели масштабирование признаков. Можно смело приступать к обучению модели."
   ]
  },
  {
   "cell_type": "markdown",
   "metadata": {},
   "source": [
    "### Обучение модели и предсказание"
   ]
  },
  {
   "cell_type": "code",
   "execution_count": 19,
   "metadata": {},
   "outputs": [],
   "source": [
    "#обучим нашу модель и найдём rmse\n",
    "def train_model (features_train, features_valid, target_train, target_valid):\n",
    "    model = LinearRegression()\n",
    "    model.fit(features_train, target_train)\n",
    "    predictions = model.predict(features_valid)\n",
    "    rmse = mean_squared_error(target_valid, predictions)**0.5\n",
    "    \n",
    "    return rmse, predictions"
   ]
  },
  {
   "cell_type": "code",
   "execution_count": 20,
   "metadata": {},
   "outputs": [],
   "source": [
    "#сохраним предсказания и ошибку\n",
    "rmse_0, predictions_0 = train_model(features_train_0, features_valid_0, target_train_0, target_valid_0)\n",
    "rmse_1, predictions_1 = train_model(features_train_1, features_valid_1, target_train_1, target_valid_1)\n",
    "rmse_2, predictions_2 = train_model(features_train_2, features_valid_2, target_train_2, target_valid_2)"
   ]
  },
  {
   "cell_type": "markdown",
   "metadata": {},
   "source": [
    "Посмотрим на среднеквадратичную ошибку в наших таблицах"
   ]
  },
  {
   "cell_type": "code",
   "execution_count": 21,
   "metadata": {},
   "outputs": [
    {
     "name": "stdout",
     "output_type": "stream",
     "text": [
      "RMSE модели первой таблицы: 37.75660035026169\n",
      "RMSE модели второй таблицы: 0.8902801001028846\n",
      "RMSE модели третьей таблицы: 40.145872311342174\n"
     ]
    }
   ],
   "source": [
    "print('RMSE модели первой таблицы:', rmse_0)\n",
    "print('RMSE модели второй таблицы:', rmse_1)\n",
    "print('RMSE модели третьей таблицы:', rmse_2)"
   ]
  },
  {
   "cell_type": "markdown",
   "metadata": {},
   "source": [
    "Теперь посмотрим средний запас предсказанного сырья"
   ]
  },
  {
   "cell_type": "code",
   "execution_count": 22,
   "metadata": {},
   "outputs": [
    {
     "name": "stdout",
     "output_type": "stream",
     "text": [
      "Средний запас предсказанного сырья в первом регионе: 92.39879990657768\n",
      "Средний запас предсказанного сырья в во втором регионе: 68.7128780391376\n",
      "Средний запас предсказанного сырья в третьем регионе: 94.77102387765939\n"
     ]
    }
   ],
   "source": [
    "print('Средний запас предсказанного сырья в первом регионе:', predictions_0.mean())\n",
    "print('Средний запас предсказанного сырья в во втором регионе:', predictions_1.mean())\n",
    "print('Средний запас предсказанного сырья в третьем регионе:', predictions_2.mean())"
   ]
  },
  {
   "cell_type": "markdown",
   "metadata": {},
   "source": [
    "Ради интереса посмотрим на суммарный запас предсказанного сырья и суммарный реальный запас"
   ]
  },
  {
   "cell_type": "code",
   "execution_count": 23,
   "metadata": {},
   "outputs": [
    {
     "name": "stdout",
     "output_type": "stream",
     "text": [
      "Суммарный запас предсказанного сырья в первом регионе: 2309969.997664442\n",
      "Реальный суммарный запас в первом регионе: 2308148.909271097\n",
      "Суммарный запас предсказанного сырья во втором регионе: 1717821.9509784402\n",
      "Реальный суммарный запас во втором регионе: 1718134.5186806861\n",
      "Суммарный запас предсказанного сырья в третьем регионе: 2369275.5969414846\n",
      "Реальный суммарный запас в третьем регионе: 2378774.97679299\n"
     ]
    }
   ],
   "source": [
    "print('Суммарный запас предсказанного сырья в первом регионе:', predictions_0.sum())\n",
    "print('Реальный суммарный запас в первом регионе:', target_valid_0.sum())\n",
    "print('Суммарный запас предсказанного сырья во втором регионе:', predictions_1.sum())\n",
    "print('Реальный суммарный запас во втором регионе:', target_valid_1.sum())\n",
    "print('Суммарный запас предсказанного сырья в третьем регионе:', predictions_2.sum())\n",
    "print('Реальный суммарный запас в третьем регионе:', target_valid_2.sum())"
   ]
  },
  {
   "cell_type": "markdown",
   "metadata": {},
   "source": [
    "Для удобства преобразуем предсказанные и реальные запасы в датафреймы"
   ]
  },
  {
   "cell_type": "code",
   "execution_count": 24,
   "metadata": {},
   "outputs": [],
   "source": [
    "def data_geo(target, pred):\n",
    "    data = {'target' : target, \n",
    "            'prediction' : pred}\n",
    "    dataframe = pd.DataFrame(data, columns=['target', 'prediction'])\n",
    "    return dataframe\n",
    "\n",
    "new_geo_0 = data_geo(target_valid_0, predictions_0)    \n",
    "new_geo_1 = data_geo(target_valid_1, predictions_1)\n",
    "new_geo_2 = data_geo(target_valid_2, predictions_2)"
   ]
  },
  {
   "cell_type": "markdown",
   "metadata": {},
   "source": [
    "**Вывод**\n",
    "\n",
    "По полученным данным можно сказать следующее:\n",
    "1. Лучше всего модель предсказала запасы во втором регионе (RMSE = 0.89), но нужно учитывать, что гистограмма второго региона показала нам, что данные там распределены далеко от нормального.\n",
    "2. В первом и третьем регионе средние предсказанные запасы близки друг к другу (92 и 94). Во втором средние запасы гораздо ниже (68).\n",
    "3. Хоть второй регион имеет самый маленький запас сырья, но в нём самая маленькая ошибка. НО можно предположить, что такая маленькая ошибка из-за странного распределения данных. Изучим далее все регионы, но выбирать будем между 1 и 3."
   ]
  },
  {
   "cell_type": "code",
   "execution_count": 25,
   "metadata": {},
   "outputs": [
    {
     "data": {
      "text/html": [
       "<div>\n",
       "<style scoped>\n",
       "    .dataframe tbody tr th:only-of-type {\n",
       "        vertical-align: middle;\n",
       "    }\n",
       "\n",
       "    .dataframe tbody tr th {\n",
       "        vertical-align: top;\n",
       "    }\n",
       "\n",
       "    .dataframe thead th {\n",
       "        text-align: right;\n",
       "    }\n",
       "</style>\n",
       "<table border=\"1\" class=\"dataframe\">\n",
       "  <thead>\n",
       "    <tr style=\"text-align: right;\">\n",
       "      <th></th>\n",
       "      <th>f0</th>\n",
       "      <th>f1</th>\n",
       "      <th>f2</th>\n",
       "      <th>product</th>\n",
       "    </tr>\n",
       "  </thead>\n",
       "  <tbody>\n",
       "    <tr>\n",
       "      <th>f0</th>\n",
       "      <td>1.000000</td>\n",
       "      <td>0.182287</td>\n",
       "      <td>-0.001777</td>\n",
       "      <td>-0.030491</td>\n",
       "    </tr>\n",
       "    <tr>\n",
       "      <th>f1</th>\n",
       "      <td>0.182287</td>\n",
       "      <td>1.000000</td>\n",
       "      <td>-0.002595</td>\n",
       "      <td>-0.010155</td>\n",
       "    </tr>\n",
       "    <tr>\n",
       "      <th>f2</th>\n",
       "      <td>-0.001777</td>\n",
       "      <td>-0.002595</td>\n",
       "      <td>1.000000</td>\n",
       "      <td>0.999397</td>\n",
       "    </tr>\n",
       "    <tr>\n",
       "      <th>product</th>\n",
       "      <td>-0.030491</td>\n",
       "      <td>-0.010155</td>\n",
       "      <td>0.999397</td>\n",
       "      <td>1.000000</td>\n",
       "    </tr>\n",
       "  </tbody>\n",
       "</table>\n",
       "</div>"
      ],
      "text/plain": [
       "               f0        f1        f2   product\n",
       "f0       1.000000  0.182287 -0.001777 -0.030491\n",
       "f1       0.182287  1.000000 -0.002595 -0.010155\n",
       "f2      -0.001777 -0.002595  1.000000  0.999397\n",
       "product -0.030491 -0.010155  0.999397  1.000000"
      ]
     },
     "execution_count": 25,
     "metadata": {},
     "output_type": "execute_result"
    }
   ],
   "source": [
    "# ячейка ревьюера\n",
    "\n",
    "data_geo_1.corr()"
   ]
  },
  {
   "cell_type": "markdown",
   "metadata": {},
   "source": [
    "## Подготовка к расчёту прибыли"
   ]
  },
  {
   "cell_type": "code",
   "execution_count": 26,
   "metadata": {},
   "outputs": [],
   "source": [
    "#создадим константы для всех ключевых значений\n",
    "budget = 10000000000\n",
    "points = 500\n",
    "best_points = 200\n",
    "barrel_price = 450\n",
    "product_price = 450000"
   ]
  },
  {
   "cell_type": "code",
   "execution_count": 27,
   "metadata": {},
   "outputs": [
    {
     "name": "stdout",
     "output_type": "stream",
     "text": [
      "Цена за бурение одной скважины: 50000000.0\n"
     ]
    }
   ],
   "source": [
    "#цена за бурение одной скважины\n",
    "one_point_price = budget / best_points\n",
    "print('Цена за бурение одной скважины:', one_point_price)"
   ]
  },
  {
   "cell_type": "code",
   "execution_count": 28,
   "metadata": {},
   "outputs": [
    {
     "name": "stdout",
     "output_type": "stream",
     "text": [
      "Объём сырья для безубыточной разработки новой скважины: 111.11111111111111\n"
     ]
    }
   ],
   "source": [
    "#рассчитаем достаточный объём сырья для безубыточной разработки новой скважины\n",
    "target_barrel_point = one_point_price / product_price\n",
    "print('Объём сырья для безубыточной разработки новой скважины:', target_barrel_point)"
   ]
  },
  {
   "cell_type": "code",
   "execution_count": 29,
   "metadata": {},
   "outputs": [
    {
     "name": "stdout",
     "output_type": "stream",
     "text": [
      "Реальный средний запас сырья в первом регионе: 92.50000000000001\n",
      "Реальный средний запас сырья во втором регионе: 68.82500000000002\n",
      "Реальный средний запас сырья в третьем регионе: 95.00000000000004\n"
     ]
    }
   ],
   "source": [
    "print('Реальный средний запас сырья в первом регионе:', data_geo_0['product'].mean())\n",
    "print('Реальный средний запас сырья во втором регионе:', data_geo_1['product'].mean())\n",
    "print('Реальный средний запас сырья в третьем регионе:', data_geo_2['product'].mean())"
   ]
  },
  {
   "cell_type": "code",
   "execution_count": 30,
   "metadata": {
    "scrolled": true
   },
   "outputs": [],
   "source": [
    "#создадим функцию для расчёта прибыли\n",
    "def revenue(target, probabilities, count):\n",
    "    probs_sorted = probabilities.sort_values(ascending=False)\n",
    "    selected = target[probs_sorted.index][:count]\n",
    "    return product_price * selected.sum() - budget"
   ]
  },
  {
   "cell_type": "markdown",
   "metadata": {},
   "source": [
    "**Выводы**\n",
    "\n",
    "Цена за бурение одной скважины составила 50 млн.. Чтобы скважина стала прибыльной, то из неё нужно выработать больше 111 тыс. баррелей. \n",
    "\n",
    "По реальным средним запасам сырья можно предположить, что ни один из регионов не будет прибыльным, но если вернуться к гистограммам в начале, то можно заметить, что довольно из большого кол-ва скважин выработается больше 111 тыс. баррелей. \n",
    "\n",
    "Даже по странным данным второго региона можно увидеть скважины, которые принесут больше 111 тыс. баррелей, но это слишком рискованно. \n",
    "\n",
    "Ещё мы создадли функцию для расчёта прибыли, но она нам пригодится на следующем шаге."
   ]
  },
  {
   "cell_type": "markdown",
   "metadata": {},
   "source": [
    "## Расчёт прибыли и рисков "
   ]
  },
  {
   "cell_type": "code",
   "execution_count": 31,
   "metadata": {},
   "outputs": [],
   "source": [
    "#с помощью техники bootstrap узнаем среднюю прибыль, доверительный интервал 95% и риск убытка \n",
    "state = np.random.RandomState(42)\n",
    "def bootstrap (target, probs):\n",
    "    values = []\n",
    "    count = 0\n",
    "    for i in range(1000):\n",
    "        target_sample = target.sample(n=points, replace=True, random_state=state)\n",
    "        probs_sample = probs[target_sample.index]\n",
    "        profits = revenue(target_sample, probs_sample, best_points)\n",
    "        if profits < 0:\n",
    "            count += 1\n",
    "        values.append(profits)\n",
    "    \n",
    "    values = pd.Series(values)\n",
    "    lower = values.quantile(0.025)\n",
    "    upper = values.quantile(0.975)\n",
    "    mean = values.mean()\n",
    "    risk = count / 1000 * 100\n",
    "    return lower, upper, mean, risk"
   ]
  },
  {
   "cell_type": "code",
   "execution_count": 32,
   "metadata": {
    "scrolled": true
   },
   "outputs": [
    {
     "name": "stdout",
     "output_type": "stream",
     "text": [
      "Первый регион:\n",
      "Средняя прибыль первого региона: 427847560.4625247 \n",
      "95% доверительный интервал: от -97249829.56859529 до 954215192.7088149 \n",
      "Процент риска: 5.5\n"
     ]
    }
   ],
   "source": [
    "lower_0, upper_0, mean_0, risk_0 = bootstrap(new_geo_0['target'], new_geo_0['prediction'])\n",
    "\n",
    "print('Первый регион:' '\\n'\n",
    "      'Средняя прибыль первого региона:', mean_0, '\\n'\n",
    "      '95% доверительный интервал: от', lower_0, 'до', upper_0, '\\n'\n",
    "      'Процент риска:', risk_0)"
   ]
  },
  {
   "cell_type": "code",
   "execution_count": 33,
   "metadata": {},
   "outputs": [
    {
     "name": "stdout",
     "output_type": "stream",
     "text": [
      "Второй регион:\n",
      "Средняя прибыль второго региона: 511530218.1485243 \n",
      "95% доверительный интервал: от 91700564.13644528 до 921455668.3285091 \n",
      "Процент риска: 0.6\n"
     ]
    }
   ],
   "source": [
    "lower_1, upper_1, mean_1, risk_1 = bootstrap(new_geo_1['target'], new_geo_1['prediction'])\n",
    "\n",
    "print('Второй регион:' '\\n'\n",
    "      'Средняя прибыль второго региона:', mean_1, '\\n'\n",
    "      '95% доверительный интервал: от', lower_1, 'до', upper_1, '\\n'\n",
    "      'Процент риска:', risk_1)"
   ]
  },
  {
   "cell_type": "code",
   "execution_count": 34,
   "metadata": {},
   "outputs": [
    {
     "name": "stdout",
     "output_type": "stream",
     "text": [
      "Третий регион:\n",
      "Средняя прибыль третьего региона: 408545681.21493566 \n",
      "95% доверительный интервал: от -120624872.94271684 до 960859440.7253835 \n",
      "Процент риска: 7.5\n"
     ]
    }
   ],
   "source": [
    "lower_2, upper_2, mean_2, risk_2 = bootstrap(new_geo_2['target'], new_geo_2['prediction'])\n",
    "\n",
    "print('Третий регион:' '\\n'\n",
    "      'Средняя прибыль третьего региона:', mean_2, '\\n'\n",
    "      '95% доверительный интервал: от', lower_2, 'до', upper_2, '\\n'\n",
    "      'Процент риска:', risk_2)"
   ]
  },
  {
   "cell_type": "markdown",
   "metadata": {},
   "source": [
    "**Выводы**\n",
    "\n",
    "Мы рассчитали 95% доверительный интервал, среднюю прибыль и риски по каждому региону. Можно сделать следующие выводы:\n",
    "1. Самым хорошим по результатам стал второй регион, но нужно учитывать, что данные были очень странно распределены и средние запасы сырья не очень больше (68.8). Хоть процент риска и указан очень маленьким, но нам нужна скважина, из которой мы точно выкачаем больше 111 тыс. баррелей, а найти такую во втором регионе не очень просто.\n",
    "2. Если выбирать между 1 и 3 регионом, то 3 гарантированно отсеивается, ибо все показатели лучше.\n",
    "3. Поскольку нам нужен регион с процентом риска меньше 2.5%, то 1 и 3 регионы мы не берём. Остаётся только второй, но тут нужно быть осторожными."
   ]
  },
  {
   "cell_type": "markdown",
   "metadata": {},
   "source": [
    "## Общий вывод"
   ]
  },
  {
   "cell_type": "markdown",
   "metadata": {},
   "source": [
    "В ходе работы мы:\n",
    "1. Изучили данные комании «ГлавРосГосНефть».\n",
    "2. Провели небольшую предобработку данных.\n",
    "3. Разбили данные на выборки и провели масштабирование признаков.\n",
    "4. Обучили модели и получили предсказание.\n",
    "5. Подготовили данные к расчёту прибыли.\n",
    "6. Рассчитали прибыль и риски.\n",
    "\n",
    "Нам предоставили данные проб нефти в трёх регионах. Данные были хорошо подготовлены, ибо в них отсутствовали дубликаты и пропуски. В 1 и 3 регионе данные были нормально распределены, а во втором - нет. \n",
    "\n",
    "После обучения модели на каждом регионе мы получили следующие результаты: \n",
    "1. Cреднеквадратичная ошибка первого региона: 37.75660035026169\n",
    "2. Cреднеквадратичная ошибка второго региона: 0.8902801001028846\n",
    "3. Cреднеквадратичная ошибка третьего региона: 40.145872311342174\n",
    "\n",
    "\n",
    "1. Средний запас предсказанного сырья в первом регионе: 92.39879990657768\n",
    "2. Средний запас предсказанного сырья в во втором регионе: 68.7128780391376\n",
    "3. Средний запас предсказанного сырья в третьем регионе: 94.77102387765939\n",
    "\n",
    "Мы выяснили, что цена за бурение одной скважины составила 50 млн.. Чтобы скважина стала прибыльной, то из неё нужно выработать больше 111 тыс. баррелей.\n",
    "\n",
    "После мы рассчитали среднюю прибыль, 95% доверительный результат и риски по регионам. Установили, что 1 и 3 регион нам не подходят, ибо их риски > 2.5%. Во втором регионе риск очень маленький, но это может быть связано со странным распределением данных. \n",
    "\n",
    "**Итог**\n",
    "\n",
    "1 и 3 регион нам не подходят из-за высоких рисков, а во втором данные распределены не нормально. Если компания имеет возможность, то лучше рассмотреть другие регионы, чем выбирать из этих трёх"
   ]
  }
 ],
 "metadata": {
  "ExecuteTimeLog": [
   {
    "duration": 45,
    "start_time": "2022-12-05T13:22:17.591Z"
   },
   {
    "duration": 1509,
    "start_time": "2022-12-05T13:22:19.857Z"
   },
   {
    "duration": 632,
    "start_time": "2022-12-05T13:22:21.368Z"
   },
   {
    "duration": 3,
    "start_time": "2022-12-05T13:23:45.369Z"
   },
   {
    "duration": 20,
    "start_time": "2022-12-05T13:24:00.609Z"
   },
   {
    "duration": 15,
    "start_time": "2022-12-05T13:25:26.136Z"
   },
   {
    "duration": 9,
    "start_time": "2022-12-05T13:25:37.712Z"
   },
   {
    "duration": 9,
    "start_time": "2022-12-05T13:25:46.816Z"
   },
   {
    "duration": 15,
    "start_time": "2022-12-05T13:26:23.133Z"
   },
   {
    "duration": 14,
    "start_time": "2022-12-05T13:27:34.441Z"
   },
   {
    "duration": 14,
    "start_time": "2022-12-05T13:28:10.143Z"
   },
   {
    "duration": 154,
    "start_time": "2022-12-05T13:46:42.558Z"
   },
   {
    "duration": 141,
    "start_time": "2022-12-05T13:46:51.278Z"
   },
   {
    "duration": 260,
    "start_time": "2022-12-05T13:47:52.669Z"
   },
   {
    "duration": 386,
    "start_time": "2022-12-05T13:48:50.440Z"
   },
   {
    "duration": 260,
    "start_time": "2022-12-05T13:48:58.207Z"
   },
   {
    "duration": 247,
    "start_time": "2022-12-05T13:49:27.596Z"
   },
   {
    "duration": 258,
    "start_time": "2022-12-05T13:49:46.468Z"
   },
   {
    "duration": 266,
    "start_time": "2022-12-05T13:51:19.415Z"
   },
   {
    "duration": 270,
    "start_time": "2022-12-05T13:52:00.579Z"
   },
   {
    "duration": 343,
    "start_time": "2022-12-05T13:52:10.707Z"
   },
   {
    "duration": 260,
    "start_time": "2022-12-05T13:52:21.564Z"
   },
   {
    "duration": 204,
    "start_time": "2022-12-05T13:52:41.550Z"
   },
   {
    "duration": 189,
    "start_time": "2022-12-05T13:52:49.714Z"
   },
   {
    "duration": 173,
    "start_time": "2022-12-05T13:52:57.867Z"
   },
   {
    "duration": 204,
    "start_time": "2022-12-05T13:53:06.627Z"
   },
   {
    "duration": 2,
    "start_time": "2022-12-05T15:34:56.365Z"
   },
   {
    "duration": 7,
    "start_time": "2022-12-05T15:35:19.034Z"
   },
   {
    "duration": 43,
    "start_time": "2022-12-05T15:35:31.238Z"
   },
   {
    "duration": 47,
    "start_time": "2022-12-05T15:35:35.263Z"
   },
   {
    "duration": 119,
    "start_time": "2022-12-05T15:35:47.745Z"
   },
   {
    "duration": 154,
    "start_time": "2022-12-05T15:36:09.854Z"
   },
   {
    "duration": 142,
    "start_time": "2022-12-05T15:36:22.740Z"
   },
   {
    "duration": 262,
    "start_time": "2022-12-05T15:40:00.236Z"
   },
   {
    "duration": 287,
    "start_time": "2022-12-05T15:40:07.605Z"
   },
   {
    "duration": 253,
    "start_time": "2022-12-05T15:40:20.149Z"
   },
   {
    "duration": 261,
    "start_time": "2022-12-05T15:40:38.372Z"
   },
   {
    "duration": 245,
    "start_time": "2022-12-05T15:40:54.682Z"
   },
   {
    "duration": 271,
    "start_time": "2022-12-05T15:41:59.765Z"
   },
   {
    "duration": 712,
    "start_time": "2022-12-05T15:42:13.580Z"
   },
   {
    "duration": 784,
    "start_time": "2022-12-05T15:42:27.124Z"
   },
   {
    "duration": 729,
    "start_time": "2022-12-05T15:42:46.568Z"
   },
   {
    "duration": 772,
    "start_time": "2022-12-05T15:42:52.133Z"
   },
   {
    "duration": 728,
    "start_time": "2022-12-05T15:42:59.260Z"
   },
   {
    "duration": 6,
    "start_time": "2022-12-05T15:58:24.803Z"
   },
   {
    "duration": 16,
    "start_time": "2022-12-05T15:59:09.475Z"
   },
   {
    "duration": 4,
    "start_time": "2022-12-05T15:59:20.240Z"
   },
   {
    "duration": 415,
    "start_time": "2022-12-05T15:59:20.246Z"
   },
   {
    "duration": 8,
    "start_time": "2022-12-05T15:59:20.663Z"
   },
   {
    "duration": 17,
    "start_time": "2022-12-05T15:59:20.674Z"
   },
   {
    "duration": 14,
    "start_time": "2022-12-05T15:59:20.692Z"
   },
   {
    "duration": 39,
    "start_time": "2022-12-05T15:59:20.708Z"
   },
   {
    "duration": 15,
    "start_time": "2022-12-05T15:59:20.749Z"
   },
   {
    "duration": 14,
    "start_time": "2022-12-05T15:59:20.766Z"
   },
   {
    "duration": 360,
    "start_time": "2022-12-05T15:59:20.783Z"
   },
   {
    "duration": 206,
    "start_time": "2022-12-05T15:59:21.145Z"
   },
   {
    "duration": 279,
    "start_time": "2022-12-05T15:59:21.353Z"
   },
   {
    "duration": 119,
    "start_time": "2022-12-05T15:59:21.634Z"
   },
   {
    "duration": 697,
    "start_time": "2022-12-05T15:59:21.755Z"
   },
   {
    "duration": 15,
    "start_time": "2022-12-05T15:59:24.555Z"
   },
   {
    "duration": 66,
    "start_time": "2022-12-05T15:59:27.180Z"
   },
   {
    "duration": 349,
    "start_time": "2022-12-05T15:59:29.027Z"
   },
   {
    "duration": 4,
    "start_time": "2022-12-05T16:43:44.749Z"
   },
   {
    "duration": 13,
    "start_time": "2022-12-05T16:44:45.987Z"
   },
   {
    "duration": 4,
    "start_time": "2022-12-05T16:45:08.915Z"
   },
   {
    "duration": 20,
    "start_time": "2022-12-05T16:45:14.499Z"
   },
   {
    "duration": 4,
    "start_time": "2022-12-05T16:45:40.747Z"
   },
   {
    "duration": 48,
    "start_time": "2022-12-05T16:45:45.532Z"
   },
   {
    "duration": 38,
    "start_time": "2022-12-05T16:46:18.019Z"
   },
   {
    "duration": 31,
    "start_time": "2022-12-05T16:46:24.275Z"
   },
   {
    "duration": 31,
    "start_time": "2022-12-05T16:46:29.187Z"
   },
   {
    "duration": 7,
    "start_time": "2022-12-05T16:46:41.991Z"
   },
   {
    "duration": 4,
    "start_time": "2022-12-05T16:46:46.282Z"
   },
   {
    "duration": 8,
    "start_time": "2022-12-05T16:46:46.786Z"
   },
   {
    "duration": 9,
    "start_time": "2022-12-05T16:46:56.156Z"
   },
   {
    "duration": 24,
    "start_time": "2022-12-05T16:47:57.818Z"
   },
   {
    "duration": 65,
    "start_time": "2022-12-05T16:48:08.969Z"
   },
   {
    "duration": 60,
    "start_time": "2022-12-05T16:49:42.721Z"
   },
   {
    "duration": 4,
    "start_time": "2022-12-05T16:50:03.784Z"
   },
   {
    "duration": 38,
    "start_time": "2022-12-05T16:50:23.898Z"
   },
   {
    "duration": 3,
    "start_time": "2022-12-05T16:50:32.913Z"
   },
   {
    "duration": 4,
    "start_time": "2022-12-05T16:51:43.370Z"
   },
   {
    "duration": 4,
    "start_time": "2022-12-05T16:51:49.600Z"
   },
   {
    "duration": 68,
    "start_time": "2022-12-05T17:05:56.897Z"
   },
   {
    "duration": 19,
    "start_time": "2022-12-05T17:06:01.997Z"
   },
   {
    "duration": 15,
    "start_time": "2022-12-05T17:06:46.304Z"
   },
   {
    "duration": 13,
    "start_time": "2022-12-05T17:07:27.256Z"
   },
   {
    "duration": 14,
    "start_time": "2022-12-05T17:08:06.178Z"
   },
   {
    "duration": 11,
    "start_time": "2022-12-05T17:08:39.136Z"
   },
   {
    "duration": 18,
    "start_time": "2022-12-05T17:08:55.093Z"
   },
   {
    "duration": 13,
    "start_time": "2022-12-05T17:08:58.080Z"
   },
   {
    "duration": 3,
    "start_time": "2022-12-05T17:20:36.538Z"
   },
   {
    "duration": 14,
    "start_time": "2022-12-05T17:20:56.125Z"
   },
   {
    "duration": 13,
    "start_time": "2022-12-05T17:21:24.612Z"
   },
   {
    "duration": 13,
    "start_time": "2022-12-05T17:21:27.747Z"
   },
   {
    "duration": 3,
    "start_time": "2022-12-05T17:21:34.829Z"
   },
   {
    "duration": 12,
    "start_time": "2022-12-05T17:21:39.508Z"
   },
   {
    "duration": 43,
    "start_time": "2022-12-05T17:22:01.281Z"
   },
   {
    "duration": 150,
    "start_time": "2022-12-05T17:22:37.473Z"
   },
   {
    "duration": 3,
    "start_time": "2022-12-05T17:22:44.553Z"
   },
   {
    "duration": 4,
    "start_time": "2022-12-05T17:22:55.138Z"
   },
   {
    "duration": 1657,
    "start_time": "2022-12-06T07:30:00.534Z"
   },
   {
    "duration": 606,
    "start_time": "2022-12-06T07:30:02.192Z"
   },
   {
    "duration": 13,
    "start_time": "2022-12-06T07:30:02.800Z"
   },
   {
    "duration": 9,
    "start_time": "2022-12-06T07:30:02.814Z"
   },
   {
    "duration": 20,
    "start_time": "2022-12-06T07:30:02.825Z"
   },
   {
    "duration": 17,
    "start_time": "2022-12-06T07:30:02.847Z"
   },
   {
    "duration": 15,
    "start_time": "2022-12-06T07:30:02.866Z"
   },
   {
    "duration": 15,
    "start_time": "2022-12-06T07:30:02.882Z"
   },
   {
    "duration": 298,
    "start_time": "2022-12-06T07:30:02.898Z"
   },
   {
    "duration": 223,
    "start_time": "2022-12-06T07:30:03.199Z"
   },
   {
    "duration": 360,
    "start_time": "2022-12-06T07:30:03.424Z"
   },
   {
    "duration": 133,
    "start_time": "2022-12-06T07:30:03.785Z"
   },
   {
    "duration": 743,
    "start_time": "2022-12-06T07:30:03.920Z"
   },
   {
    "duration": 11,
    "start_time": "2022-12-06T07:30:04.665Z"
   },
   {
    "duration": 6,
    "start_time": "2022-12-06T07:30:04.678Z"
   },
   {
    "duration": 88,
    "start_time": "2022-12-06T07:30:04.686Z"
   },
   {
    "duration": 4,
    "start_time": "2022-12-06T07:30:04.775Z"
   },
   {
    "duration": 5,
    "start_time": "2022-12-06T07:30:04.780Z"
   },
   {
    "duration": 132,
    "start_time": "2022-12-06T07:30:04.787Z"
   },
   {
    "duration": 95,
    "start_time": "2022-12-06T07:30:04.922Z"
   },
   {
    "duration": 232,
    "start_time": "2022-12-06T10:57:34.170Z"
   },
   {
    "duration": 4,
    "start_time": "2022-12-06T10:57:40.398Z"
   },
   {
    "duration": 402,
    "start_time": "2022-12-06T10:57:40.404Z"
   },
   {
    "duration": 10,
    "start_time": "2022-12-06T10:57:40.808Z"
   },
   {
    "duration": 26,
    "start_time": "2022-12-06T10:57:40.820Z"
   },
   {
    "duration": 13,
    "start_time": "2022-12-06T10:57:40.848Z"
   },
   {
    "duration": 18,
    "start_time": "2022-12-06T10:57:40.863Z"
   },
   {
    "duration": 13,
    "start_time": "2022-12-06T10:57:40.882Z"
   },
   {
    "duration": 23,
    "start_time": "2022-12-06T10:57:40.896Z"
   },
   {
    "duration": 298,
    "start_time": "2022-12-06T10:57:40.923Z"
   },
   {
    "duration": 235,
    "start_time": "2022-12-06T10:57:41.223Z"
   },
   {
    "duration": 296,
    "start_time": "2022-12-06T10:57:41.459Z"
   },
   {
    "duration": 129,
    "start_time": "2022-12-06T10:57:41.756Z"
   },
   {
    "duration": 753,
    "start_time": "2022-12-06T10:57:41.887Z"
   },
   {
    "duration": 9,
    "start_time": "2022-12-06T10:57:42.641Z"
   },
   {
    "duration": 9,
    "start_time": "2022-12-06T10:57:42.651Z"
   },
   {
    "duration": 74,
    "start_time": "2022-12-06T10:57:42.661Z"
   },
   {
    "duration": 4,
    "start_time": "2022-12-06T10:57:42.736Z"
   },
   {
    "duration": 4,
    "start_time": "2022-12-06T10:57:46.145Z"
   },
   {
    "duration": 62,
    "start_time": "2022-12-06T10:57:47.057Z"
   },
   {
    "duration": 3,
    "start_time": "2022-12-06T10:57:49.369Z"
   },
   {
    "duration": 5,
    "start_time": "2022-12-06T10:57:53.016Z"
   },
   {
    "duration": 94,
    "start_time": "2022-12-06T10:57:53.527Z"
   },
   {
    "duration": 4,
    "start_time": "2022-12-06T10:57:55.497Z"
   },
   {
    "duration": 8,
    "start_time": "2022-12-06T10:58:06.229Z"
   },
   {
    "duration": 4,
    "start_time": "2022-12-06T10:58:12.688Z"
   },
   {
    "duration": 6,
    "start_time": "2022-12-06T11:14:35.131Z"
   },
   {
    "duration": 9,
    "start_time": "2022-12-06T11:39:39.173Z"
   },
   {
    "duration": 4,
    "start_time": "2022-12-06T11:39:45.533Z"
   },
   {
    "duration": 4,
    "start_time": "2022-12-06T11:40:51.988Z"
   },
   {
    "duration": 5,
    "start_time": "2022-12-06T11:40:54.435Z"
   },
   {
    "duration": 5,
    "start_time": "2022-12-06T11:40:56.316Z"
   },
   {
    "duration": 6,
    "start_time": "2022-12-06T11:43:49.707Z"
   },
   {
    "duration": 1034,
    "start_time": "2022-12-06T11:44:07.019Z"
   },
   {
    "duration": 11,
    "start_time": "2022-12-06T11:44:16.980Z"
   },
   {
    "duration": 1100,
    "start_time": "2022-12-06T11:44:22.235Z"
   },
   {
    "duration": 5,
    "start_time": "2022-12-06T11:44:30.043Z"
   },
   {
    "duration": 7,
    "start_time": "2022-12-06T11:50:35.512Z"
   },
   {
    "duration": 5,
    "start_time": "2022-12-06T11:50:39.095Z"
   },
   {
    "duration": 8,
    "start_time": "2022-12-06T12:20:26.408Z"
   },
   {
    "duration": 7,
    "start_time": "2022-12-06T12:39:40.609Z"
   },
   {
    "duration": 3,
    "start_time": "2022-12-06T12:48:46.059Z"
   },
   {
    "duration": 4,
    "start_time": "2022-12-06T13:02:12.499Z"
   },
   {
    "duration": 11,
    "start_time": "2022-12-06T13:12:33.065Z"
   },
   {
    "duration": 12,
    "start_time": "2022-12-06T13:18:19.982Z"
   },
   {
    "duration": 7,
    "start_time": "2022-12-06T13:22:38.715Z"
   },
   {
    "duration": 4,
    "start_time": "2022-12-06T13:32:25.214Z"
   },
   {
    "duration": 14,
    "start_time": "2022-12-06T13:34:02.342Z"
   },
   {
    "duration": 6,
    "start_time": "2022-12-06T13:34:31.294Z"
   },
   {
    "duration": 14,
    "start_time": "2022-12-06T13:34:31.782Z"
   },
   {
    "duration": 16,
    "start_time": "2022-12-06T13:35:00.216Z"
   },
   {
    "duration": 6,
    "start_time": "2022-12-06T13:35:39.670Z"
   },
   {
    "duration": 3,
    "start_time": "2022-12-06T13:35:43.797Z"
   },
   {
    "duration": 5,
    "start_time": "2022-12-06T13:35:51.428Z"
   },
   {
    "duration": 3,
    "start_time": "2022-12-06T13:37:29.644Z"
   },
   {
    "duration": 4,
    "start_time": "2022-12-06T13:37:30.686Z"
   },
   {
    "duration": 13,
    "start_time": "2022-12-06T13:37:31.429Z"
   },
   {
    "duration": 22,
    "start_time": "2022-12-06T13:39:02.080Z"
   },
   {
    "duration": 13,
    "start_time": "2022-12-06T13:39:15.773Z"
   },
   {
    "duration": 17,
    "start_time": "2022-12-06T13:39:18.438Z"
   },
   {
    "duration": 13,
    "start_time": "2022-12-06T13:41:48.645Z"
   },
   {
    "duration": 4,
    "start_time": "2022-12-06T13:41:54.468Z"
   },
   {
    "duration": 5,
    "start_time": "2022-12-06T13:42:27.306Z"
   },
   {
    "duration": 13,
    "start_time": "2022-12-06T13:43:11.156Z"
   },
   {
    "duration": 4,
    "start_time": "2022-12-06T13:43:29.255Z"
   },
   {
    "duration": 408,
    "start_time": "2022-12-06T13:43:29.260Z"
   },
   {
    "duration": 9,
    "start_time": "2022-12-06T13:43:29.670Z"
   },
   {
    "duration": 11,
    "start_time": "2022-12-06T13:43:29.680Z"
   },
   {
    "duration": 10,
    "start_time": "2022-12-06T13:43:29.693Z"
   },
   {
    "duration": 20,
    "start_time": "2022-12-06T13:43:29.716Z"
   },
   {
    "duration": 17,
    "start_time": "2022-12-06T13:43:29.738Z"
   },
   {
    "duration": 13,
    "start_time": "2022-12-06T13:43:29.757Z"
   },
   {
    "duration": 310,
    "start_time": "2022-12-06T13:43:29.771Z"
   },
   {
    "duration": 240,
    "start_time": "2022-12-06T13:43:30.083Z"
   },
   {
    "duration": 398,
    "start_time": "2022-12-06T13:43:30.327Z"
   },
   {
    "duration": 140,
    "start_time": "2022-12-06T13:43:30.727Z"
   },
   {
    "duration": 745,
    "start_time": "2022-12-06T13:43:30.869Z"
   },
   {
    "duration": 11,
    "start_time": "2022-12-06T13:43:31.616Z"
   },
   {
    "duration": 17,
    "start_time": "2022-12-06T13:43:31.629Z"
   },
   {
    "duration": 70,
    "start_time": "2022-12-06T13:43:31.648Z"
   },
   {
    "duration": 5,
    "start_time": "2022-12-06T13:43:31.720Z"
   },
   {
    "duration": 26,
    "start_time": "2022-12-06T13:43:31.727Z"
   },
   {
    "duration": 77,
    "start_time": "2022-12-06T13:43:31.754Z"
   },
   {
    "duration": 199,
    "start_time": "2022-12-06T13:43:31.834Z"
   },
   {
    "duration": 15,
    "start_time": "2022-12-06T13:43:32.035Z"
   },
   {
    "duration": 13,
    "start_time": "2022-12-06T13:43:32.052Z"
   },
   {
    "duration": 3,
    "start_time": "2022-12-06T13:43:35.457Z"
   },
   {
    "duration": 15,
    "start_time": "2022-12-06T13:43:36.805Z"
   },
   {
    "duration": 13,
    "start_time": "2022-12-06T13:44:56.897Z"
   },
   {
    "duration": 10,
    "start_time": "2022-12-06T13:45:00.440Z"
   },
   {
    "duration": 8,
    "start_time": "2022-12-06T13:45:08.193Z"
   },
   {
    "duration": 5,
    "start_time": "2022-12-06T13:45:10.959Z"
   },
   {
    "duration": 6,
    "start_time": "2022-12-06T13:45:17.169Z"
   },
   {
    "duration": 8,
    "start_time": "2022-12-06T13:45:27.095Z"
   },
   {
    "duration": 3,
    "start_time": "2022-12-06T13:45:39.592Z"
   },
   {
    "duration": 12,
    "start_time": "2022-12-06T13:45:47.533Z"
   },
   {
    "duration": 13,
    "start_time": "2022-12-06T13:47:34.190Z"
   },
   {
    "duration": 16,
    "start_time": "2022-12-06T13:47:46.694Z"
   },
   {
    "duration": 22,
    "start_time": "2022-12-06T13:48:01.814Z"
   },
   {
    "duration": 5,
    "start_time": "2022-12-06T13:51:00.512Z"
   },
   {
    "duration": 31,
    "start_time": "2022-12-06T13:51:00.908Z"
   },
   {
    "duration": 4,
    "start_time": "2022-12-06T13:51:01.501Z"
   },
   {
    "duration": 3,
    "start_time": "2022-12-06T13:51:04.157Z"
   },
   {
    "duration": 44,
    "start_time": "2022-12-06T13:51:04.591Z"
   },
   {
    "duration": 6,
    "start_time": "2022-12-06T13:51:05.425Z"
   },
   {
    "duration": 5,
    "start_time": "2022-12-06T13:51:07.748Z"
   },
   {
    "duration": 6,
    "start_time": "2022-12-06T13:51:09.229Z"
   },
   {
    "duration": 3,
    "start_time": "2022-12-06T13:51:13.268Z"
   },
   {
    "duration": 18,
    "start_time": "2022-12-06T13:51:13.914Z"
   },
   {
    "duration": 4,
    "start_time": "2022-12-06T13:51:18.197Z"
   },
   {
    "duration": 12,
    "start_time": "2022-12-06T13:51:18.486Z"
   },
   {
    "duration": 3,
    "start_time": "2022-12-06T13:51:33.710Z"
   },
   {
    "duration": 32,
    "start_time": "2022-12-06T13:51:34.412Z"
   },
   {
    "duration": 4,
    "start_time": "2022-12-06T13:51:35.084Z"
   },
   {
    "duration": 3,
    "start_time": "2022-12-06T13:51:44.511Z"
   },
   {
    "duration": 400,
    "start_time": "2022-12-06T13:51:44.859Z"
   },
   {
    "duration": 9,
    "start_time": "2022-12-06T13:51:45.269Z"
   },
   {
    "duration": 14,
    "start_time": "2022-12-06T13:51:47.309Z"
   },
   {
    "duration": 11,
    "start_time": "2022-12-06T13:51:47.591Z"
   },
   {
    "duration": 21,
    "start_time": "2022-12-06T13:51:47.948Z"
   },
   {
    "duration": 14,
    "start_time": "2022-12-06T13:51:50.764Z"
   },
   {
    "duration": 17,
    "start_time": "2022-12-06T13:51:50.927Z"
   },
   {
    "duration": 312,
    "start_time": "2022-12-06T13:51:51.077Z"
   },
   {
    "duration": 250,
    "start_time": "2022-12-06T13:51:51.391Z"
   },
   {
    "duration": 309,
    "start_time": "2022-12-06T13:51:51.643Z"
   },
   {
    "duration": 123,
    "start_time": "2022-12-06T13:51:54.731Z"
   },
   {
    "duration": 839,
    "start_time": "2022-12-06T13:51:55.113Z"
   },
   {
    "duration": 9,
    "start_time": "2022-12-06T13:51:58.253Z"
   },
   {
    "duration": 4,
    "start_time": "2022-12-06T13:52:00.981Z"
   },
   {
    "duration": 25,
    "start_time": "2022-12-06T13:52:01.388Z"
   },
   {
    "duration": 4,
    "start_time": "2022-12-06T13:52:01.877Z"
   },
   {
    "duration": 3,
    "start_time": "2022-12-06T13:52:04.196Z"
   },
   {
    "duration": 89,
    "start_time": "2022-12-06T13:52:04.444Z"
   },
   {
    "duration": 3,
    "start_time": "2022-12-06T13:52:04.940Z"
   },
   {
    "duration": 5,
    "start_time": "2022-12-06T13:52:07.692Z"
   },
   {
    "duration": 6,
    "start_time": "2022-12-06T13:52:08.380Z"
   },
   {
    "duration": 3,
    "start_time": "2022-12-06T13:52:11.269Z"
   },
   {
    "duration": 17,
    "start_time": "2022-12-06T13:52:11.973Z"
   },
   {
    "duration": 1375,
    "start_time": "2022-12-06T13:52:53.590Z"
   },
   {
    "duration": 398,
    "start_time": "2022-12-06T13:52:54.967Z"
   },
   {
    "duration": 13,
    "start_time": "2022-12-06T13:52:55.366Z"
   },
   {
    "duration": 8,
    "start_time": "2022-12-06T13:52:55.380Z"
   },
   {
    "duration": 26,
    "start_time": "2022-12-06T13:52:55.390Z"
   },
   {
    "duration": 19,
    "start_time": "2022-12-06T13:52:55.419Z"
   },
   {
    "duration": 21,
    "start_time": "2022-12-06T13:52:55.439Z"
   },
   {
    "duration": 15,
    "start_time": "2022-12-06T13:52:55.461Z"
   },
   {
    "duration": 340,
    "start_time": "2022-12-06T13:52:55.477Z"
   },
   {
    "duration": 242,
    "start_time": "2022-12-06T13:52:55.821Z"
   },
   {
    "duration": 377,
    "start_time": "2022-12-06T13:52:56.066Z"
   },
   {
    "duration": 188,
    "start_time": "2022-12-06T13:52:56.444Z"
   },
   {
    "duration": 843,
    "start_time": "2022-12-06T13:52:56.634Z"
   },
   {
    "duration": 12,
    "start_time": "2022-12-06T13:52:57.479Z"
   },
   {
    "duration": 7,
    "start_time": "2022-12-06T13:52:57.493Z"
   },
   {
    "duration": 50,
    "start_time": "2022-12-06T13:52:57.501Z"
   },
   {
    "duration": 4,
    "start_time": "2022-12-06T13:52:57.553Z"
   },
   {
    "duration": 4,
    "start_time": "2022-12-06T13:52:57.559Z"
   },
   {
    "duration": 152,
    "start_time": "2022-12-06T13:52:57.565Z"
   },
   {
    "duration": 7,
    "start_time": "2022-12-06T13:52:57.720Z"
   },
   {
    "duration": 113,
    "start_time": "2022-12-06T13:52:57.731Z"
   },
   {
    "duration": 9,
    "start_time": "2022-12-06T13:52:57.846Z"
   },
   {
    "duration": 5,
    "start_time": "2022-12-06T13:52:57.915Z"
   },
   {
    "duration": 146,
    "start_time": "2022-12-06T13:52:57.923Z"
   },
   {
    "duration": 0,
    "start_time": "2022-12-06T13:52:58.071Z"
   },
   {
    "duration": 0,
    "start_time": "2022-12-06T13:52:58.072Z"
   },
   {
    "duration": 13,
    "start_time": "2022-12-06T13:53:04.631Z"
   },
   {
    "duration": 4,
    "start_time": "2022-12-06T13:53:40.845Z"
   },
   {
    "duration": 382,
    "start_time": "2022-12-06T13:53:40.851Z"
   },
   {
    "duration": 10,
    "start_time": "2022-12-06T13:53:41.235Z"
   },
   {
    "duration": 11,
    "start_time": "2022-12-06T13:53:41.246Z"
   },
   {
    "duration": 12,
    "start_time": "2022-12-06T13:53:41.259Z"
   },
   {
    "duration": 21,
    "start_time": "2022-12-06T13:53:41.273Z"
   },
   {
    "duration": 23,
    "start_time": "2022-12-06T13:53:41.295Z"
   },
   {
    "duration": 24,
    "start_time": "2022-12-06T13:53:41.320Z"
   },
   {
    "duration": 299,
    "start_time": "2022-12-06T13:53:41.345Z"
   },
   {
    "duration": 233,
    "start_time": "2022-12-06T13:53:41.646Z"
   },
   {
    "duration": 318,
    "start_time": "2022-12-06T13:53:41.881Z"
   },
   {
    "duration": 122,
    "start_time": "2022-12-06T13:53:42.200Z"
   },
   {
    "duration": 754,
    "start_time": "2022-12-06T13:53:42.324Z"
   },
   {
    "duration": 8,
    "start_time": "2022-12-06T13:53:43.079Z"
   },
   {
    "duration": 10,
    "start_time": "2022-12-06T13:53:43.089Z"
   },
   {
    "duration": 43,
    "start_time": "2022-12-06T13:53:43.101Z"
   },
   {
    "duration": 4,
    "start_time": "2022-12-06T13:53:43.146Z"
   },
   {
    "duration": 3,
    "start_time": "2022-12-06T13:53:46.395Z"
   },
   {
    "duration": 46,
    "start_time": "2022-12-06T13:53:53.187Z"
   },
   {
    "duration": 2,
    "start_time": "2022-12-06T13:53:58.604Z"
   },
   {
    "duration": 14,
    "start_time": "2022-12-06T13:54:00.076Z"
   },
   {
    "duration": 4,
    "start_time": "2022-12-06T13:54:09.650Z"
   },
   {
    "duration": 398,
    "start_time": "2022-12-06T13:54:09.655Z"
   },
   {
    "duration": 10,
    "start_time": "2022-12-06T13:54:10.055Z"
   },
   {
    "duration": 23,
    "start_time": "2022-12-06T13:54:10.067Z"
   },
   {
    "duration": 21,
    "start_time": "2022-12-06T13:54:10.092Z"
   },
   {
    "duration": 32,
    "start_time": "2022-12-06T13:54:10.115Z"
   },
   {
    "duration": 16,
    "start_time": "2022-12-06T13:54:10.149Z"
   },
   {
    "duration": 14,
    "start_time": "2022-12-06T13:54:10.167Z"
   },
   {
    "duration": 317,
    "start_time": "2022-12-06T13:54:10.183Z"
   },
   {
    "duration": 249,
    "start_time": "2022-12-06T13:54:10.501Z"
   },
   {
    "duration": 426,
    "start_time": "2022-12-06T13:54:10.752Z"
   },
   {
    "duration": 130,
    "start_time": "2022-12-06T13:54:11.180Z"
   },
   {
    "duration": 748,
    "start_time": "2022-12-06T13:54:11.311Z"
   },
   {
    "duration": 7,
    "start_time": "2022-12-06T13:54:12.061Z"
   },
   {
    "duration": 22,
    "start_time": "2022-12-06T13:54:12.070Z"
   },
   {
    "duration": 39,
    "start_time": "2022-12-06T13:54:12.094Z"
   },
   {
    "duration": 4,
    "start_time": "2022-12-06T13:54:12.135Z"
   },
   {
    "duration": 13,
    "start_time": "2022-12-06T13:54:15.663Z"
   },
   {
    "duration": 3,
    "start_time": "2022-12-06T13:54:28.636Z"
   },
   {
    "duration": 376,
    "start_time": "2022-12-06T13:54:29.029Z"
   },
   {
    "duration": 9,
    "start_time": "2022-12-06T13:54:29.497Z"
   },
   {
    "duration": 13,
    "start_time": "2022-12-06T13:54:35.829Z"
   },
   {
    "duration": 4,
    "start_time": "2022-12-06T13:55:12.378Z"
   },
   {
    "duration": 416,
    "start_time": "2022-12-06T13:55:12.384Z"
   },
   {
    "duration": 9,
    "start_time": "2022-12-06T13:55:12.802Z"
   },
   {
    "duration": 25,
    "start_time": "2022-12-06T13:55:12.813Z"
   },
   {
    "duration": 15,
    "start_time": "2022-12-06T13:55:12.839Z"
   },
   {
    "duration": 16,
    "start_time": "2022-12-06T13:55:12.855Z"
   },
   {
    "duration": 13,
    "start_time": "2022-12-06T13:55:12.873Z"
   },
   {
    "duration": 13,
    "start_time": "2022-12-06T13:55:12.887Z"
   },
   {
    "duration": 301,
    "start_time": "2022-12-06T13:55:12.902Z"
   },
   {
    "duration": 241,
    "start_time": "2022-12-06T13:55:13.205Z"
   },
   {
    "duration": 316,
    "start_time": "2022-12-06T13:55:13.448Z"
   },
   {
    "duration": 132,
    "start_time": "2022-12-06T13:55:13.766Z"
   },
   {
    "duration": 718,
    "start_time": "2022-12-06T13:55:13.899Z"
   },
   {
    "duration": 11,
    "start_time": "2022-12-06T13:55:14.620Z"
   },
   {
    "duration": 7,
    "start_time": "2022-12-06T13:55:14.633Z"
   },
   {
    "duration": 34,
    "start_time": "2022-12-06T13:55:14.641Z"
   },
   {
    "duration": 3,
    "start_time": "2022-12-06T13:55:14.677Z"
   },
   {
    "duration": 12,
    "start_time": "2022-12-06T13:55:14.682Z"
   },
   {
    "duration": 140,
    "start_time": "2022-12-06T13:55:14.695Z"
   },
   {
    "duration": 6,
    "start_time": "2022-12-06T13:55:14.917Z"
   },
   {
    "duration": 122,
    "start_time": "2022-12-06T13:55:14.925Z"
   },
   {
    "duration": 16,
    "start_time": "2022-12-06T13:55:15.048Z"
   },
   {
    "duration": 10,
    "start_time": "2022-12-06T13:55:15.066Z"
   },
   {
    "duration": 48,
    "start_time": "2022-12-06T13:58:50.041Z"
   },
   {
    "duration": 433,
    "start_time": "2022-12-06T13:59:17.989Z"
   },
   {
    "duration": 9,
    "start_time": "2022-12-06T13:59:20.676Z"
   },
   {
    "duration": 373,
    "start_time": "2022-12-06T13:59:24.232Z"
   },
   {
    "duration": 9,
    "start_time": "2022-12-06T13:59:24.617Z"
   },
   {
    "duration": 9,
    "start_time": "2022-12-06T13:59:25.211Z"
   },
   {
    "duration": 9,
    "start_time": "2022-12-06T13:59:27.491Z"
   },
   {
    "duration": 18,
    "start_time": "2022-12-06T13:59:27.865Z"
   },
   {
    "duration": 15,
    "start_time": "2022-12-06T13:59:28.196Z"
   },
   {
    "duration": 14,
    "start_time": "2022-12-06T13:59:28.529Z"
   },
   {
    "duration": 287,
    "start_time": "2022-12-06T13:59:28.873Z"
   },
   {
    "duration": 232,
    "start_time": "2022-12-06T13:59:29.236Z"
   },
   {
    "duration": 370,
    "start_time": "2022-12-06T13:59:30.138Z"
   },
   {
    "duration": 118,
    "start_time": "2022-12-06T13:59:31.930Z"
   },
   {
    "duration": 693,
    "start_time": "2022-12-06T13:59:32.619Z"
   },
   {
    "duration": 8,
    "start_time": "2022-12-06T13:59:33.825Z"
   },
   {
    "duration": 3,
    "start_time": "2022-12-06T13:59:37.113Z"
   },
   {
    "duration": 25,
    "start_time": "2022-12-06T13:59:39.569Z"
   },
   {
    "duration": 3,
    "start_time": "2022-12-06T13:59:39.874Z"
   },
   {
    "duration": 4,
    "start_time": "2022-12-06T13:59:40.793Z"
   },
   {
    "duration": 327,
    "start_time": "2022-12-06T13:59:42.689Z"
   },
   {
    "duration": 4,
    "start_time": "2022-12-06T13:59:43.274Z"
   },
   {
    "duration": 5,
    "start_time": "2022-12-06T13:59:44.193Z"
   },
   {
    "duration": 7,
    "start_time": "2022-12-06T13:59:46.377Z"
   },
   {
    "duration": 3,
    "start_time": "2022-12-06T13:59:49.213Z"
   },
   {
    "duration": 14,
    "start_time": "2022-12-06T13:59:50.601Z"
   },
   {
    "duration": 14,
    "start_time": "2022-12-06T14:00:09.249Z"
   },
   {
    "duration": 6,
    "start_time": "2022-12-06T14:00:13.859Z"
   },
   {
    "duration": 13,
    "start_time": "2022-12-06T14:00:14.088Z"
   },
   {
    "duration": 5,
    "start_time": "2022-12-06T14:00:41.600Z"
   },
   {
    "duration": 3,
    "start_time": "2022-12-06T14:00:45.647Z"
   },
   {
    "duration": 378,
    "start_time": "2022-12-06T14:00:45.652Z"
   },
   {
    "duration": 9,
    "start_time": "2022-12-06T14:00:46.031Z"
   },
   {
    "duration": 11,
    "start_time": "2022-12-06T14:00:46.043Z"
   },
   {
    "duration": 30,
    "start_time": "2022-12-06T14:00:46.056Z"
   },
   {
    "duration": 82,
    "start_time": "2022-12-06T14:00:46.088Z"
   },
   {
    "duration": 47,
    "start_time": "2022-12-06T14:00:46.171Z"
   },
   {
    "duration": 62,
    "start_time": "2022-12-06T14:00:46.220Z"
   },
   {
    "duration": 347,
    "start_time": "2022-12-06T14:00:46.286Z"
   },
   {
    "duration": 249,
    "start_time": "2022-12-06T14:00:46.634Z"
   },
   {
    "duration": 287,
    "start_time": "2022-12-06T14:00:46.885Z"
   },
   {
    "duration": 124,
    "start_time": "2022-12-06T14:00:47.174Z"
   },
   {
    "duration": 801,
    "start_time": "2022-12-06T14:00:47.300Z"
   },
   {
    "duration": 14,
    "start_time": "2022-12-06T14:00:48.102Z"
   },
   {
    "duration": 6,
    "start_time": "2022-12-06T14:00:48.118Z"
   },
   {
    "duration": 70,
    "start_time": "2022-12-06T14:00:48.126Z"
   },
   {
    "duration": 20,
    "start_time": "2022-12-06T14:00:48.198Z"
   },
   {
    "duration": 17,
    "start_time": "2022-12-06T14:00:48.220Z"
   },
   {
    "duration": 180,
    "start_time": "2022-12-06T14:00:48.239Z"
   },
   {
    "duration": 94,
    "start_time": "2022-12-06T14:00:48.422Z"
   },
   {
    "duration": 110,
    "start_time": "2022-12-06T14:00:48.518Z"
   },
   {
    "duration": 11,
    "start_time": "2022-12-06T14:00:48.629Z"
   },
   {
    "duration": 5,
    "start_time": "2022-12-06T14:00:48.642Z"
   },
   {
    "duration": 13,
    "start_time": "2022-12-06T14:00:52.969Z"
   },
   {
    "duration": 8,
    "start_time": "2022-12-06T14:01:22.192Z"
   },
   {
    "duration": 8,
    "start_time": "2022-12-06T14:01:43.068Z"
   },
   {
    "duration": 4,
    "start_time": "2022-12-06T14:01:58.232Z"
   },
   {
    "duration": 11,
    "start_time": "2022-12-06T14:02:01.697Z"
   },
   {
    "duration": 3,
    "start_time": "2022-12-06T14:02:05.063Z"
   },
   {
    "duration": 379,
    "start_time": "2022-12-06T14:02:05.068Z"
   },
   {
    "duration": 8,
    "start_time": "2022-12-06T14:02:05.450Z"
   },
   {
    "duration": 20,
    "start_time": "2022-12-06T14:02:05.460Z"
   },
   {
    "duration": 23,
    "start_time": "2022-12-06T14:02:05.482Z"
   },
   {
    "duration": 34,
    "start_time": "2022-12-06T14:02:05.506Z"
   },
   {
    "duration": 13,
    "start_time": "2022-12-06T14:02:05.541Z"
   },
   {
    "duration": 15,
    "start_time": "2022-12-06T14:02:05.555Z"
   },
   {
    "duration": 304,
    "start_time": "2022-12-06T14:02:05.571Z"
   },
   {
    "duration": 244,
    "start_time": "2022-12-06T14:02:05.877Z"
   },
   {
    "duration": 397,
    "start_time": "2022-12-06T14:02:06.124Z"
   },
   {
    "duration": 126,
    "start_time": "2022-12-06T14:02:06.523Z"
   },
   {
    "duration": 770,
    "start_time": "2022-12-06T14:02:06.651Z"
   },
   {
    "duration": 10,
    "start_time": "2022-12-06T14:02:07.423Z"
   },
   {
    "duration": 14,
    "start_time": "2022-12-06T14:02:07.434Z"
   },
   {
    "duration": 30,
    "start_time": "2022-12-06T14:02:07.449Z"
   },
   {
    "duration": 4,
    "start_time": "2022-12-06T14:02:07.480Z"
   },
   {
    "duration": 7,
    "start_time": "2022-12-06T14:02:07.485Z"
   },
   {
    "duration": 224,
    "start_time": "2022-12-06T14:02:07.493Z"
   },
   {
    "duration": 98,
    "start_time": "2022-12-06T14:02:07.720Z"
   },
   {
    "duration": 10,
    "start_time": "2022-12-06T14:02:07.820Z"
   },
   {
    "duration": 11,
    "start_time": "2022-12-06T14:02:07.831Z"
   },
   {
    "duration": 11,
    "start_time": "2022-12-06T14:02:10.394Z"
   },
   {
    "duration": 9,
    "start_time": "2022-12-06T14:02:11.120Z"
   },
   {
    "duration": 20,
    "start_time": "2022-12-06T14:02:30.056Z"
   },
   {
    "duration": 70,
    "start_time": "2022-12-06T14:02:35.105Z"
   },
   {
    "duration": 3,
    "start_time": "2022-12-06T14:02:39.659Z"
   },
   {
    "duration": 368,
    "start_time": "2022-12-06T14:02:40.744Z"
   },
   {
    "duration": 374,
    "start_time": "2022-12-06T14:02:56.808Z"
   },
   {
    "duration": 9,
    "start_time": "2022-12-06T14:02:57.512Z"
   },
   {
    "duration": 9,
    "start_time": "2022-12-06T14:02:58.160Z"
   },
   {
    "duration": 9,
    "start_time": "2022-12-06T14:02:58.561Z"
   },
   {
    "duration": 14,
    "start_time": "2022-12-06T14:02:58.808Z"
   },
   {
    "duration": 16,
    "start_time": "2022-12-06T14:02:59.032Z"
   },
   {
    "duration": 15,
    "start_time": "2022-12-06T14:02:59.257Z"
   },
   {
    "duration": 286,
    "start_time": "2022-12-06T14:02:59.448Z"
   },
   {
    "duration": 222,
    "start_time": "2022-12-06T14:02:59.736Z"
   },
   {
    "duration": 292,
    "start_time": "2022-12-06T14:02:59.960Z"
   },
   {
    "duration": 119,
    "start_time": "2022-12-06T14:03:00.467Z"
   },
   {
    "duration": 735,
    "start_time": "2022-12-06T14:03:00.794Z"
   },
   {
    "duration": 12,
    "start_time": "2022-12-06T14:03:01.560Z"
   },
   {
    "duration": 4,
    "start_time": "2022-12-06T14:03:02.661Z"
   },
   {
    "duration": 26,
    "start_time": "2022-12-06T14:03:02.904Z"
   },
   {
    "duration": 3,
    "start_time": "2022-12-06T14:03:03.144Z"
   },
   {
    "duration": 4,
    "start_time": "2022-12-06T14:03:03.769Z"
   },
   {
    "duration": 151,
    "start_time": "2022-12-06T14:03:03.968Z"
   },
   {
    "duration": 4,
    "start_time": "2022-12-06T14:03:04.370Z"
   },
   {
    "duration": 5,
    "start_time": "2022-12-06T14:03:04.768Z"
   },
   {
    "duration": 8,
    "start_time": "2022-12-06T14:03:05.248Z"
   },
   {
    "duration": 2,
    "start_time": "2022-12-06T14:03:05.873Z"
   },
   {
    "duration": 9,
    "start_time": "2022-12-06T14:03:06.120Z"
   },
   {
    "duration": 8,
    "start_time": "2022-12-06T14:03:06.321Z"
   },
   {
    "duration": 12,
    "start_time": "2022-12-06T14:03:07.081Z"
   },
   {
    "duration": 30,
    "start_time": "2022-12-06T14:04:28.668Z"
   },
   {
    "duration": 4,
    "start_time": "2022-12-06T14:04:31.965Z"
   },
   {
    "duration": 388,
    "start_time": "2022-12-06T14:04:31.972Z"
   },
   {
    "duration": 9,
    "start_time": "2022-12-06T14:04:32.362Z"
   },
   {
    "duration": 15,
    "start_time": "2022-12-06T14:04:32.373Z"
   },
   {
    "duration": 14,
    "start_time": "2022-12-06T14:04:32.389Z"
   },
   {
    "duration": 26,
    "start_time": "2022-12-06T14:04:32.405Z"
   },
   {
    "duration": 20,
    "start_time": "2022-12-06T14:04:32.433Z"
   },
   {
    "duration": 16,
    "start_time": "2022-12-06T14:04:32.455Z"
   },
   {
    "duration": 296,
    "start_time": "2022-12-06T14:04:32.474Z"
   },
   {
    "duration": 219,
    "start_time": "2022-12-06T14:04:32.771Z"
   },
   {
    "duration": 375,
    "start_time": "2022-12-06T14:04:32.992Z"
   },
   {
    "duration": 125,
    "start_time": "2022-12-06T14:04:33.368Z"
   },
   {
    "duration": 688,
    "start_time": "2022-12-06T14:04:33.494Z"
   },
   {
    "duration": 9,
    "start_time": "2022-12-06T14:04:34.183Z"
   },
   {
    "duration": 32,
    "start_time": "2022-12-06T14:04:36.928Z"
   },
   {
    "duration": 32,
    "start_time": "2022-12-06T14:04:58.040Z"
   },
   {
    "duration": 30,
    "start_time": "2022-12-06T14:05:04.840Z"
   },
   {
    "duration": 1282,
    "start_time": "2022-12-06T14:05:47.461Z"
   },
   {
    "duration": 415,
    "start_time": "2022-12-06T14:05:48.745Z"
   },
   {
    "duration": 14,
    "start_time": "2022-12-06T14:05:49.162Z"
   },
   {
    "duration": 8,
    "start_time": "2022-12-06T14:05:49.179Z"
   },
   {
    "duration": 15,
    "start_time": "2022-12-06T14:05:49.189Z"
   },
   {
    "duration": 23,
    "start_time": "2022-12-06T14:05:49.205Z"
   },
   {
    "duration": 14,
    "start_time": "2022-12-06T14:05:49.229Z"
   },
   {
    "duration": 14,
    "start_time": "2022-12-06T14:05:49.244Z"
   },
   {
    "duration": 317,
    "start_time": "2022-12-06T14:05:49.259Z"
   },
   {
    "duration": 222,
    "start_time": "2022-12-06T14:05:49.578Z"
   },
   {
    "duration": 385,
    "start_time": "2022-12-06T14:05:49.802Z"
   },
   {
    "duration": 150,
    "start_time": "2022-12-06T14:05:50.189Z"
   },
   {
    "duration": 784,
    "start_time": "2022-12-06T14:05:50.341Z"
   },
   {
    "duration": 12,
    "start_time": "2022-12-06T14:05:51.127Z"
   },
   {
    "duration": 5,
    "start_time": "2022-12-06T14:05:53.062Z"
   },
   {
    "duration": 138,
    "start_time": "2022-12-06T14:05:53.391Z"
   },
   {
    "duration": 3,
    "start_time": "2022-12-06T14:05:55.503Z"
   },
   {
    "duration": 41,
    "start_time": "2022-12-06T14:06:02.311Z"
   },
   {
    "duration": 4,
    "start_time": "2022-12-06T14:06:03.591Z"
   },
   {
    "duration": 3,
    "start_time": "2022-12-06T14:06:06.031Z"
   },
   {
    "duration": 172,
    "start_time": "2022-12-06T14:06:06.446Z"
   },
   {
    "duration": 4,
    "start_time": "2022-12-06T14:06:07.295Z"
   },
   {
    "duration": 4,
    "start_time": "2022-12-06T14:06:10.831Z"
   },
   {
    "duration": 7,
    "start_time": "2022-12-06T14:06:11.736Z"
   },
   {
    "duration": 2,
    "start_time": "2022-12-06T14:06:16.702Z"
   },
   {
    "duration": 9,
    "start_time": "2022-12-06T14:06:17.007Z"
   },
   {
    "duration": 8,
    "start_time": "2022-12-06T14:06:17.320Z"
   },
   {
    "duration": 13,
    "start_time": "2022-12-06T14:06:17.976Z"
   },
   {
    "duration": 3,
    "start_time": "2022-12-06T14:07:42.366Z"
   },
   {
    "duration": 5,
    "start_time": "2022-12-06T14:08:05.814Z"
   },
   {
    "duration": 9,
    "start_time": "2022-12-06T14:08:23.127Z"
   },
   {
    "duration": 9,
    "start_time": "2022-12-06T14:08:33.054Z"
   },
   {
    "duration": 9,
    "start_time": "2022-12-06T14:08:40.423Z"
   },
   {
    "duration": 5,
    "start_time": "2022-12-06T14:08:47.198Z"
   },
   {
    "duration": 9,
    "start_time": "2022-12-06T14:08:47.598Z"
   },
   {
    "duration": 11,
    "start_time": "2022-12-06T14:08:51.127Z"
   },
   {
    "duration": 15,
    "start_time": "2022-12-06T14:08:56.294Z"
   },
   {
    "duration": 9,
    "start_time": "2022-12-06T14:09:49.543Z"
   },
   {
    "duration": 5,
    "start_time": "2022-12-06T14:10:14.560Z"
   },
   {
    "duration": 12,
    "start_time": "2022-12-06T14:10:15.142Z"
   },
   {
    "duration": 7,
    "start_time": "2022-12-06T14:10:31.717Z"
   },
   {
    "duration": 10,
    "start_time": "2022-12-06T14:10:46.653Z"
   },
   {
    "duration": 4,
    "start_time": "2022-12-06T14:11:31.478Z"
   },
   {
    "duration": 6,
    "start_time": "2022-12-06T14:11:50.623Z"
   },
   {
    "duration": 5,
    "start_time": "2022-12-06T14:11:57.381Z"
   },
   {
    "duration": 10,
    "start_time": "2022-12-06T14:12:02.398Z"
   },
   {
    "duration": 8,
    "start_time": "2022-12-06T14:12:03.015Z"
   },
   {
    "duration": 4,
    "start_time": "2022-12-06T14:12:10.461Z"
   },
   {
    "duration": 10,
    "start_time": "2022-12-06T14:12:10.895Z"
   },
   {
    "duration": 4,
    "start_time": "2022-12-06T14:12:13.772Z"
   },
   {
    "duration": 10,
    "start_time": "2022-12-06T14:12:14.047Z"
   },
   {
    "duration": 9,
    "start_time": "2022-12-06T14:12:25.610Z"
   },
   {
    "duration": 9,
    "start_time": "2022-12-06T14:13:37.752Z"
   },
   {
    "duration": 5,
    "start_time": "2022-12-06T14:13:40.832Z"
   },
   {
    "duration": 10,
    "start_time": "2022-12-06T14:13:41.086Z"
   },
   {
    "duration": 12,
    "start_time": "2022-12-06T14:14:27.304Z"
   },
   {
    "duration": 4,
    "start_time": "2022-12-06T14:14:34.332Z"
   },
   {
    "duration": 11,
    "start_time": "2022-12-06T14:14:34.796Z"
   },
   {
    "duration": 13,
    "start_time": "2022-12-06T14:14:40.111Z"
   },
   {
    "duration": 9,
    "start_time": "2022-12-06T14:14:49.564Z"
   },
   {
    "duration": 8,
    "start_time": "2022-12-06T14:14:58.221Z"
   },
   {
    "duration": 3,
    "start_time": "2022-12-06T14:49:19.081Z"
   },
   {
    "duration": 379,
    "start_time": "2022-12-06T14:49:19.086Z"
   },
   {
    "duration": 10,
    "start_time": "2022-12-06T14:49:19.467Z"
   },
   {
    "duration": 13,
    "start_time": "2022-12-06T14:49:19.479Z"
   },
   {
    "duration": 21,
    "start_time": "2022-12-06T14:49:19.495Z"
   },
   {
    "duration": 14,
    "start_time": "2022-12-06T14:49:19.517Z"
   },
   {
    "duration": 13,
    "start_time": "2022-12-06T14:49:19.532Z"
   },
   {
    "duration": 12,
    "start_time": "2022-12-06T14:49:19.547Z"
   },
   {
    "duration": 303,
    "start_time": "2022-12-06T14:49:19.561Z"
   },
   {
    "duration": 236,
    "start_time": "2022-12-06T14:49:19.866Z"
   },
   {
    "duration": 279,
    "start_time": "2022-12-06T14:49:20.106Z"
   },
   {
    "duration": 128,
    "start_time": "2022-12-06T14:49:20.387Z"
   },
   {
    "duration": 688,
    "start_time": "2022-12-06T14:49:20.517Z"
   },
   {
    "duration": 17,
    "start_time": "2022-12-06T14:49:21.206Z"
   },
   {
    "duration": 6,
    "start_time": "2022-12-06T14:49:21.225Z"
   },
   {
    "duration": 27,
    "start_time": "2022-12-06T14:49:21.233Z"
   },
   {
    "duration": 4,
    "start_time": "2022-12-06T14:49:21.261Z"
   },
   {
    "duration": 6,
    "start_time": "2022-12-06T14:49:21.267Z"
   },
   {
    "duration": 148,
    "start_time": "2022-12-06T14:49:21.275Z"
   },
   {
    "duration": 192,
    "start_time": "2022-12-06T14:49:21.425Z"
   },
   {
    "duration": 18,
    "start_time": "2022-12-06T14:49:21.619Z"
   },
   {
    "duration": 10,
    "start_time": "2022-12-06T14:49:21.639Z"
   },
   {
    "duration": 10,
    "start_time": "2022-12-06T14:49:21.651Z"
   },
   {
    "duration": 3,
    "start_time": "2022-12-06T14:52:26.338Z"
   },
   {
    "duration": 5,
    "start_time": "2022-12-06T14:52:26.986Z"
   },
   {
    "duration": 10,
    "start_time": "2022-12-06T14:52:27.391Z"
   },
   {
    "duration": 9,
    "start_time": "2022-12-06T14:52:32.308Z"
   },
   {
    "duration": 9,
    "start_time": "2022-12-06T14:52:47.047Z"
   },
   {
    "duration": 11,
    "start_time": "2022-12-06T14:53:01.823Z"
   },
   {
    "duration": 4,
    "start_time": "2022-12-06T14:53:51.177Z"
   },
   {
    "duration": 71,
    "start_time": "2022-12-06T14:53:52.407Z"
   },
   {
    "duration": 4,
    "start_time": "2022-12-06T14:53:52.710Z"
   },
   {
    "duration": 4,
    "start_time": "2022-12-06T14:53:55.130Z"
   },
   {
    "duration": 138,
    "start_time": "2022-12-06T14:53:55.479Z"
   },
   {
    "duration": 4,
    "start_time": "2022-12-06T14:53:57.399Z"
   },
   {
    "duration": 6,
    "start_time": "2022-12-06T14:53:58.066Z"
   },
   {
    "duration": 7,
    "start_time": "2022-12-06T14:53:59.482Z"
   },
   {
    "duration": 2,
    "start_time": "2022-12-06T14:54:02.029Z"
   },
   {
    "duration": 7,
    "start_time": "2022-12-06T14:54:03.080Z"
   },
   {
    "duration": 10,
    "start_time": "2022-12-06T14:54:03.630Z"
   },
   {
    "duration": 11,
    "start_time": "2022-12-06T14:54:06.506Z"
   },
   {
    "duration": 4,
    "start_time": "2022-12-06T14:54:10.609Z"
   },
   {
    "duration": 21,
    "start_time": "2022-12-06T14:54:11.127Z"
   },
   {
    "duration": 4,
    "start_time": "2022-12-06T14:59:40.942Z"
   },
   {
    "duration": 12,
    "start_time": "2022-12-06T14:59:41.470Z"
   },
   {
    "duration": 12,
    "start_time": "2022-12-06T15:03:54.334Z"
   },
   {
    "duration": 10,
    "start_time": "2022-12-06T15:07:33.828Z"
   },
   {
    "duration": 15,
    "start_time": "2022-12-06T15:07:53.384Z"
   },
   {
    "duration": 6,
    "start_time": "2022-12-06T15:07:57.803Z"
   },
   {
    "duration": 10,
    "start_time": "2022-12-06T15:08:02.539Z"
   },
   {
    "duration": 12,
    "start_time": "2022-12-06T15:08:31.911Z"
   },
   {
    "duration": 12,
    "start_time": "2022-12-06T15:09:09.304Z"
   },
   {
    "duration": 12,
    "start_time": "2022-12-06T15:09:20.948Z"
   },
   {
    "duration": 5,
    "start_time": "2022-12-06T15:11:12.378Z"
   },
   {
    "duration": 14,
    "start_time": "2022-12-06T15:11:12.829Z"
   },
   {
    "duration": 5,
    "start_time": "2022-12-06T15:12:07.528Z"
   },
   {
    "duration": 13,
    "start_time": "2022-12-06T15:12:08.242Z"
   },
   {
    "duration": 14,
    "start_time": "2022-12-06T15:12:11.678Z"
   },
   {
    "duration": 7,
    "start_time": "2022-12-06T15:12:14.121Z"
   },
   {
    "duration": 14,
    "start_time": "2022-12-06T15:12:15.105Z"
   },
   {
    "duration": 18,
    "start_time": "2022-12-06T15:12:16.533Z"
   },
   {
    "duration": 16,
    "start_time": "2022-12-06T15:12:17.929Z"
   },
   {
    "duration": 15,
    "start_time": "2022-12-06T15:12:18.967Z"
   },
   {
    "duration": 11,
    "start_time": "2022-12-06T15:12:34.629Z"
   },
   {
    "duration": 12,
    "start_time": "2022-12-06T15:12:37.350Z"
   },
   {
    "duration": 12,
    "start_time": "2022-12-06T15:12:39.377Z"
   },
   {
    "duration": 12,
    "start_time": "2022-12-06T15:12:40.972Z"
   },
   {
    "duration": 10,
    "start_time": "2022-12-06T15:19:08.445Z"
   },
   {
    "duration": 3,
    "start_time": "2022-12-06T15:20:49.175Z"
   },
   {
    "duration": 6,
    "start_time": "2022-12-06T15:20:49.582Z"
   },
   {
    "duration": 10,
    "start_time": "2022-12-06T15:20:49.974Z"
   },
   {
    "duration": 12,
    "start_time": "2022-12-06T15:20:52.266Z"
   },
   {
    "duration": 10,
    "start_time": "2022-12-06T15:21:38.444Z"
   },
   {
    "duration": 4,
    "start_time": "2022-12-06T15:21:48.383Z"
   },
   {
    "duration": 13,
    "start_time": "2022-12-06T15:21:48.871Z"
   },
   {
    "duration": 3,
    "start_time": "2022-12-06T15:22:19.790Z"
   },
   {
    "duration": 5,
    "start_time": "2022-12-06T15:22:20.800Z"
   },
   {
    "duration": 9,
    "start_time": "2022-12-06T15:22:21.152Z"
   },
   {
    "duration": 10,
    "start_time": "2022-12-06T15:22:22.563Z"
   },
   {
    "duration": 11,
    "start_time": "2022-12-06T15:23:56.236Z"
   },
   {
    "duration": 9,
    "start_time": "2022-12-06T15:24:00.427Z"
   },
   {
    "duration": 4,
    "start_time": "2022-12-06T15:24:04.172Z"
   },
   {
    "duration": 13,
    "start_time": "2022-12-06T15:24:04.794Z"
   },
   {
    "duration": 9,
    "start_time": "2022-12-06T15:25:11.679Z"
   },
   {
    "duration": 5,
    "start_time": "2022-12-06T15:25:58.267Z"
   },
   {
    "duration": 9,
    "start_time": "2022-12-06T15:26:17.427Z"
   },
   {
    "duration": 25,
    "start_time": "2022-12-06T15:26:29.495Z"
   },
   {
    "duration": 10,
    "start_time": "2022-12-06T15:26:59.745Z"
   },
   {
    "duration": 10,
    "start_time": "2022-12-06T15:27:02.727Z"
   },
   {
    "duration": 5,
    "start_time": "2022-12-06T15:27:07.099Z"
   },
   {
    "duration": 12,
    "start_time": "2022-12-06T15:27:07.559Z"
   },
   {
    "duration": 5,
    "start_time": "2022-12-06T15:28:48.833Z"
   },
   {
    "duration": 1698,
    "start_time": "2022-12-06T15:28:49.301Z"
   },
   {
    "duration": 1627,
    "start_time": "2022-12-06T15:29:05.622Z"
   },
   {
    "duration": 7,
    "start_time": "2022-12-06T15:29:16.440Z"
   },
   {
    "duration": 1544,
    "start_time": "2022-12-06T15:29:16.808Z"
   },
   {
    "duration": 1561,
    "start_time": "2022-12-06T15:29:36.017Z"
   },
   {
    "duration": 1654,
    "start_time": "2022-12-06T15:29:44.243Z"
   },
   {
    "duration": 1558,
    "start_time": "2022-12-06T15:30:32.429Z"
   },
   {
    "duration": 1595,
    "start_time": "2022-12-06T15:30:46.972Z"
   },
   {
    "duration": 14,
    "start_time": "2022-12-06T15:30:55.930Z"
   },
   {
    "duration": 1696,
    "start_time": "2022-12-06T15:31:26.163Z"
   },
   {
    "duration": 9,
    "start_time": "2022-12-06T15:31:51.986Z"
   },
   {
    "duration": 9,
    "start_time": "2022-12-06T15:33:01.114Z"
   },
   {
    "duration": 1417,
    "start_time": "2022-12-06T15:33:02.748Z"
   },
   {
    "duration": 5,
    "start_time": "2022-12-06T15:33:10.930Z"
   },
   {
    "duration": 1685,
    "start_time": "2022-12-06T15:33:21.609Z"
   },
   {
    "duration": 1615,
    "start_time": "2022-12-06T15:34:23.144Z"
   },
   {
    "duration": 5,
    "start_time": "2022-12-06T15:34:34.812Z"
   },
   {
    "duration": 1748,
    "start_time": "2022-12-06T15:34:35.299Z"
   },
   {
    "duration": 5,
    "start_time": "2022-12-06T15:34:38.117Z"
   },
   {
    "duration": 420,
    "start_time": "2022-12-06T15:34:38.125Z"
   },
   {
    "duration": 9,
    "start_time": "2022-12-06T15:34:38.546Z"
   },
   {
    "duration": 13,
    "start_time": "2022-12-06T15:34:38.556Z"
   },
   {
    "duration": 11,
    "start_time": "2022-12-06T15:34:38.571Z"
   },
   {
    "duration": 17,
    "start_time": "2022-12-06T15:34:38.583Z"
   },
   {
    "duration": 33,
    "start_time": "2022-12-06T15:34:38.601Z"
   },
   {
    "duration": 12,
    "start_time": "2022-12-06T15:34:38.635Z"
   },
   {
    "duration": 306,
    "start_time": "2022-12-06T15:34:38.649Z"
   },
   {
    "duration": 233,
    "start_time": "2022-12-06T15:34:38.957Z"
   },
   {
    "duration": 397,
    "start_time": "2022-12-06T15:34:39.192Z"
   },
   {
    "duration": 129,
    "start_time": "2022-12-06T15:34:39.590Z"
   },
   {
    "duration": 739,
    "start_time": "2022-12-06T15:34:39.722Z"
   },
   {
    "duration": 7,
    "start_time": "2022-12-06T15:34:40.462Z"
   },
   {
    "duration": 9,
    "start_time": "2022-12-06T15:34:40.470Z"
   },
   {
    "duration": 86,
    "start_time": "2022-12-06T15:34:40.480Z"
   },
   {
    "duration": 4,
    "start_time": "2022-12-06T15:34:40.568Z"
   },
   {
    "duration": 4,
    "start_time": "2022-12-06T15:34:40.574Z"
   },
   {
    "duration": 50,
    "start_time": "2022-12-06T15:34:40.580Z"
   },
   {
    "duration": 186,
    "start_time": "2022-12-06T15:34:40.633Z"
   },
   {
    "duration": 18,
    "start_time": "2022-12-06T15:34:40.821Z"
   },
   {
    "duration": 9,
    "start_time": "2022-12-06T15:34:40.840Z"
   },
   {
    "duration": 3,
    "start_time": "2022-12-06T15:34:40.850Z"
   },
   {
    "duration": 8,
    "start_time": "2022-12-06T15:34:40.854Z"
   },
   {
    "duration": 15,
    "start_time": "2022-12-06T15:34:40.864Z"
   },
   {
    "duration": 10,
    "start_time": "2022-12-06T15:34:40.880Z"
   },
   {
    "duration": 25,
    "start_time": "2022-12-06T15:34:40.892Z"
   },
   {
    "duration": 6,
    "start_time": "2022-12-06T15:34:44.764Z"
   },
   {
    "duration": 1756,
    "start_time": "2022-12-06T15:34:45.294Z"
   },
   {
    "duration": 1695,
    "start_time": "2022-12-06T15:34:58.847Z"
   },
   {
    "duration": 10,
    "start_time": "2022-12-06T15:35:05.440Z"
   },
   {
    "duration": 5,
    "start_time": "2022-12-06T15:35:11.204Z"
   },
   {
    "duration": 1775,
    "start_time": "2022-12-06T15:35:11.648Z"
   },
   {
    "duration": 5,
    "start_time": "2022-12-06T15:35:22.977Z"
   },
   {
    "duration": 1584,
    "start_time": "2022-12-06T15:35:23.302Z"
   },
   {
    "duration": 4,
    "start_time": "2022-12-06T15:35:55.432Z"
   },
   {
    "duration": 4,
    "start_time": "2022-12-06T15:36:02.751Z"
   },
   {
    "duration": 5,
    "start_time": "2022-12-06T15:36:08.528Z"
   },
   {
    "duration": 6,
    "start_time": "2022-12-06T15:36:14.637Z"
   },
   {
    "duration": 2,
    "start_time": "2022-12-06T15:36:29.230Z"
   },
   {
    "duration": 6,
    "start_time": "2022-12-06T15:36:30.893Z"
   },
   {
    "duration": 10,
    "start_time": "2022-12-06T15:36:54.440Z"
   },
   {
    "duration": 5,
    "start_time": "2022-12-06T15:37:15.208Z"
   },
   {
    "duration": 5,
    "start_time": "2022-12-06T15:37:47.388Z"
   },
   {
    "duration": 10,
    "start_time": "2022-12-06T15:38:03.994Z"
   },
   {
    "duration": 4,
    "start_time": "2022-12-06T15:38:21.070Z"
   },
   {
    "duration": 3,
    "start_time": "2022-12-06T15:38:31.607Z"
   },
   {
    "duration": 10,
    "start_time": "2022-12-06T15:39:29.618Z"
   },
   {
    "duration": 13,
    "start_time": "2022-12-06T15:39:35.783Z"
   },
   {
    "duration": 10,
    "start_time": "2022-12-06T15:39:55.235Z"
   },
   {
    "duration": 3,
    "start_time": "2022-12-06T15:40:14.628Z"
   },
   {
    "duration": 5,
    "start_time": "2022-12-06T15:40:21.360Z"
   },
   {
    "duration": 6,
    "start_time": "2022-12-06T15:40:22.126Z"
   },
   {
    "duration": 10,
    "start_time": "2022-12-06T15:40:24.280Z"
   },
   {
    "duration": 10,
    "start_time": "2022-12-06T15:43:37.222Z"
   },
   {
    "duration": 5,
    "start_time": "2022-12-06T15:43:49.006Z"
   },
   {
    "duration": 1699,
    "start_time": "2022-12-06T15:43:52.666Z"
   },
   {
    "duration": 1673,
    "start_time": "2022-12-06T15:44:15.202Z"
   },
   {
    "duration": 1604,
    "start_time": "2022-12-06T15:44:20.245Z"
   },
   {
    "duration": 1888,
    "start_time": "2022-12-06T15:44:42.017Z"
   },
   {
    "duration": 1666,
    "start_time": "2022-12-06T15:44:46.519Z"
   },
   {
    "duration": 4,
    "start_time": "2022-12-06T15:45:11.351Z"
   },
   {
    "duration": 21,
    "start_time": "2022-12-06T15:45:12.408Z"
   },
   {
    "duration": 4,
    "start_time": "2022-12-06T15:45:33.609Z"
   },
   {
    "duration": 1708,
    "start_time": "2022-12-06T15:45:34.290Z"
   },
   {
    "duration": 10,
    "start_time": "2022-12-06T15:46:03.703Z"
   },
   {
    "duration": 10,
    "start_time": "2022-12-06T15:47:42.923Z"
   },
   {
    "duration": 8,
    "start_time": "2022-12-06T15:47:54.202Z"
   },
   {
    "duration": 10,
    "start_time": "2022-12-06T15:47:57.712Z"
   },
   {
    "duration": 5,
    "start_time": "2022-12-06T15:48:13.037Z"
   },
   {
    "duration": 10,
    "start_time": "2022-12-06T15:48:14.080Z"
   },
   {
    "duration": 9,
    "start_time": "2022-12-06T15:48:24.435Z"
   },
   {
    "duration": 4,
    "start_time": "2022-12-06T15:48:37.370Z"
   },
   {
    "duration": 9,
    "start_time": "2022-12-06T15:48:41.854Z"
   },
   {
    "duration": 10,
    "start_time": "2022-12-06T15:48:47.225Z"
   },
   {
    "duration": 10,
    "start_time": "2022-12-06T15:48:47.719Z"
   },
   {
    "duration": 9,
    "start_time": "2022-12-06T15:48:49.696Z"
   },
   {
    "duration": 9,
    "start_time": "2022-12-06T15:49:17.973Z"
   },
   {
    "duration": 2,
    "start_time": "2022-12-06T15:49:35.799Z"
   },
   {
    "duration": 10,
    "start_time": "2022-12-06T15:49:42.731Z"
   },
   {
    "duration": 9,
    "start_time": "2022-12-06T15:49:43.483Z"
   },
   {
    "duration": 9,
    "start_time": "2022-12-06T15:49:50.451Z"
   },
   {
    "duration": 4,
    "start_time": "2022-12-06T15:50:09.202Z"
   },
   {
    "duration": 1262,
    "start_time": "2022-12-06T15:50:09.785Z"
   },
   {
    "duration": 10,
    "start_time": "2022-12-06T15:54:53.794Z"
   },
   {
    "duration": 3,
    "start_time": "2022-12-06T15:57:01.374Z"
   },
   {
    "duration": 10,
    "start_time": "2022-12-06T15:58:03.304Z"
   },
   {
    "duration": 9,
    "start_time": "2022-12-06T15:58:04.186Z"
   },
   {
    "duration": 10,
    "start_time": "2022-12-06T15:58:27.995Z"
   },
   {
    "duration": 3,
    "start_time": "2022-12-06T16:04:40.093Z"
   },
   {
    "duration": 5,
    "start_time": "2022-12-06T16:05:41.275Z"
   },
   {
    "duration": 8,
    "start_time": "2022-12-06T16:05:46.552Z"
   },
   {
    "duration": 15,
    "start_time": "2022-12-06T16:05:55.126Z"
   },
   {
    "duration": 10,
    "start_time": "2022-12-06T16:06:07.902Z"
   },
   {
    "duration": 15,
    "start_time": "2022-12-06T16:07:14.922Z"
   },
   {
    "duration": 15,
    "start_time": "2022-12-06T16:07:49.712Z"
   },
   {
    "duration": 736,
    "start_time": "2022-12-06T16:08:20.910Z"
   },
   {
    "duration": 11,
    "start_time": "2022-12-06T16:08:39.731Z"
   },
   {
    "duration": 6,
    "start_time": "2022-12-06T16:08:44.107Z"
   },
   {
    "duration": 8,
    "start_time": "2022-12-06T16:09:00.372Z"
   },
   {
    "duration": 16,
    "start_time": "2022-12-06T16:09:09.612Z"
   },
   {
    "duration": 22,
    "start_time": "2022-12-06T16:09:24.200Z"
   },
   {
    "duration": 4,
    "start_time": "2022-12-06T16:09:27.402Z"
   },
   {
    "duration": 409,
    "start_time": "2022-12-06T16:09:27.407Z"
   },
   {
    "duration": 13,
    "start_time": "2022-12-06T16:09:27.819Z"
   },
   {
    "duration": 17,
    "start_time": "2022-12-06T16:09:27.835Z"
   },
   {
    "duration": 30,
    "start_time": "2022-12-06T16:09:27.854Z"
   },
   {
    "duration": 14,
    "start_time": "2022-12-06T16:09:27.887Z"
   },
   {
    "duration": 23,
    "start_time": "2022-12-06T16:09:27.903Z"
   },
   {
    "duration": 20,
    "start_time": "2022-12-06T16:09:27.928Z"
   },
   {
    "duration": 323,
    "start_time": "2022-12-06T16:09:27.950Z"
   },
   {
    "duration": 274,
    "start_time": "2022-12-06T16:09:28.274Z"
   },
   {
    "duration": 315,
    "start_time": "2022-12-06T16:09:28.550Z"
   },
   {
    "duration": 138,
    "start_time": "2022-12-06T16:09:28.867Z"
   },
   {
    "duration": 819,
    "start_time": "2022-12-06T16:09:29.006Z"
   },
   {
    "duration": 14,
    "start_time": "2022-12-06T16:09:29.828Z"
   },
   {
    "duration": 7,
    "start_time": "2022-12-06T16:09:29.843Z"
   },
   {
    "duration": 85,
    "start_time": "2022-12-06T16:09:29.851Z"
   },
   {
    "duration": 4,
    "start_time": "2022-12-06T16:09:29.938Z"
   },
   {
    "duration": 6,
    "start_time": "2022-12-06T16:09:29.944Z"
   },
   {
    "duration": 168,
    "start_time": "2022-12-06T16:09:29.952Z"
   },
   {
    "duration": 5,
    "start_time": "2022-12-06T16:09:30.123Z"
   },
   {
    "duration": 137,
    "start_time": "2022-12-06T16:09:30.130Z"
   },
   {
    "duration": 52,
    "start_time": "2022-12-06T16:09:30.269Z"
   },
   {
    "duration": 15,
    "start_time": "2022-12-06T16:09:33.853Z"
   },
   {
    "duration": 10,
    "start_time": "2022-12-06T16:09:43.198Z"
   },
   {
    "duration": 32,
    "start_time": "2022-12-06T16:10:07.834Z"
   },
   {
    "duration": 25,
    "start_time": "2022-12-06T16:10:15.707Z"
   },
   {
    "duration": 11,
    "start_time": "2022-12-06T16:10:19.678Z"
   },
   {
    "duration": 11,
    "start_time": "2022-12-06T16:10:23.230Z"
   },
   {
    "duration": 9,
    "start_time": "2022-12-06T16:10:24.983Z"
   },
   {
    "duration": 4,
    "start_time": "2022-12-06T17:33:50.880Z"
   },
   {
    "duration": 4,
    "start_time": "2022-12-06T17:40:27.159Z"
   },
   {
    "duration": 3,
    "start_time": "2022-12-06T17:40:59.984Z"
   },
   {
    "duration": 4,
    "start_time": "2022-12-06T17:42:32.482Z"
   },
   {
    "duration": 4,
    "start_time": "2022-12-06T17:42:49.103Z"
   },
   {
    "duration": 5,
    "start_time": "2022-12-06T17:43:52.033Z"
   },
   {
    "duration": 1288,
    "start_time": "2022-12-06T17:43:52.598Z"
   },
   {
    "duration": 1250,
    "start_time": "2022-12-06T17:44:26.758Z"
   },
   {
    "duration": 4,
    "start_time": "2022-12-06T17:56:43.986Z"
   },
   {
    "duration": 6,
    "start_time": "2022-12-06T17:57:17.114Z"
   },
   {
    "duration": 5,
    "start_time": "2022-12-06T18:02:30.890Z"
   },
   {
    "duration": 1277,
    "start_time": "2022-12-06T18:02:31.497Z"
   },
   {
    "duration": 5,
    "start_time": "2022-12-06T18:02:38.862Z"
   },
   {
    "duration": 1274,
    "start_time": "2022-12-06T18:02:39.231Z"
   },
   {
    "duration": 5,
    "start_time": "2022-12-06T18:03:03.328Z"
   },
   {
    "duration": 1290,
    "start_time": "2022-12-06T18:03:04.781Z"
   },
   {
    "duration": 5,
    "start_time": "2022-12-06T18:05:40.047Z"
   },
   {
    "duration": 1238,
    "start_time": "2022-12-06T18:05:40.422Z"
   },
   {
    "duration": 5,
    "start_time": "2022-12-06T18:06:33.354Z"
   },
   {
    "duration": 1212,
    "start_time": "2022-12-06T18:06:34.473Z"
   },
   {
    "duration": 1296,
    "start_time": "2022-12-06T18:09:33.378Z"
   },
   {
    "duration": 1326,
    "start_time": "2022-12-06T18:11:22.486Z"
   },
   {
    "duration": 1338,
    "start_time": "2022-12-06T18:11:28.581Z"
   },
   {
    "duration": 1389,
    "start_time": "2022-12-06T18:11:45.843Z"
   },
   {
    "duration": 1380,
    "start_time": "2022-12-06T18:11:51.073Z"
   },
   {
    "duration": 1299,
    "start_time": "2022-12-06T18:13:58.852Z"
   },
   {
    "duration": 1269,
    "start_time": "2022-12-06T18:14:09.414Z"
   },
   {
    "duration": 4,
    "start_time": "2022-12-06T18:14:24.691Z"
   },
   {
    "duration": 1279,
    "start_time": "2022-12-06T18:14:25.071Z"
   },
   {
    "duration": 1258,
    "start_time": "2022-12-06T18:16:07.909Z"
   },
   {
    "duration": 6,
    "start_time": "2022-12-06T18:16:15.389Z"
   },
   {
    "duration": 1293,
    "start_time": "2022-12-06T18:16:17.037Z"
   },
   {
    "duration": 6,
    "start_time": "2022-12-06T18:16:20.052Z"
   },
   {
    "duration": 1237,
    "start_time": "2022-12-06T18:16:20.504Z"
   },
   {
    "duration": 5,
    "start_time": "2022-12-06T18:16:23.859Z"
   },
   {
    "duration": 1317,
    "start_time": "2022-12-06T18:16:24.229Z"
   },
   {
    "duration": 1261,
    "start_time": "2022-12-06T18:16:26.974Z"
   },
   {
    "duration": 1289,
    "start_time": "2022-12-06T18:16:36.156Z"
   },
   {
    "duration": 1320,
    "start_time": "2022-12-06T18:16:41.534Z"
   },
   {
    "duration": 1263,
    "start_time": "2022-12-06T18:16:47.267Z"
   },
   {
    "duration": 1246,
    "start_time": "2022-12-06T18:16:52.939Z"
   },
   {
    "duration": 1314,
    "start_time": "2022-12-06T18:20:00.944Z"
   },
   {
    "duration": 1295,
    "start_time": "2022-12-06T18:20:27.221Z"
   },
   {
    "duration": 1282,
    "start_time": "2022-12-06T18:20:30.837Z"
   },
   {
    "duration": 1252,
    "start_time": "2022-12-06T18:21:09.601Z"
   },
   {
    "duration": 3,
    "start_time": "2022-12-06T18:22:53.891Z"
   },
   {
    "duration": 4,
    "start_time": "2022-12-06T19:01:32.645Z"
   },
   {
    "duration": 7,
    "start_time": "2022-12-06T19:01:34.136Z"
   },
   {
    "duration": 10,
    "start_time": "2022-12-06T19:01:36.620Z"
   },
   {
    "duration": 3,
    "start_time": "2022-12-06T19:01:38.488Z"
   },
   {
    "duration": 3,
    "start_time": "2022-12-06T19:01:38.871Z"
   },
   {
    "duration": 3,
    "start_time": "2022-12-06T19:01:39.364Z"
   },
   {
    "duration": 6,
    "start_time": "2022-12-06T19:01:40.860Z"
   },
   {
    "duration": 4,
    "start_time": "2022-12-06T19:01:42.103Z"
   },
   {
    "duration": 4,
    "start_time": "2022-12-06T19:01:43.796Z"
   },
   {
    "duration": 1315,
    "start_time": "2022-12-06T19:01:45.616Z"
   },
   {
    "duration": 1366,
    "start_time": "2022-12-06T19:01:49.322Z"
   },
   {
    "duration": 1251,
    "start_time": "2022-12-06T19:01:52.849Z"
   },
   {
    "duration": 1354,
    "start_time": "2022-12-06T19:01:56.012Z"
   },
   {
    "duration": 1638,
    "start_time": "2022-12-07T06:30:41.828Z"
   },
   {
    "duration": 1609,
    "start_time": "2022-12-07T06:30:43.467Z"
   },
   {
    "duration": 13,
    "start_time": "2022-12-07T06:30:45.078Z"
   },
   {
    "duration": 13,
    "start_time": "2022-12-07T06:30:45.093Z"
   },
   {
    "duration": 11,
    "start_time": "2022-12-07T06:30:45.107Z"
   },
   {
    "duration": 17,
    "start_time": "2022-12-07T06:30:45.119Z"
   },
   {
    "duration": 13,
    "start_time": "2022-12-07T06:30:45.138Z"
   },
   {
    "duration": 36,
    "start_time": "2022-12-07T06:30:45.152Z"
   },
   {
    "duration": 327,
    "start_time": "2022-12-07T06:30:45.190Z"
   },
   {
    "duration": 232,
    "start_time": "2022-12-07T06:30:45.520Z"
   },
   {
    "duration": 347,
    "start_time": "2022-12-07T06:30:45.753Z"
   },
   {
    "duration": 135,
    "start_time": "2022-12-07T06:30:46.101Z"
   },
   {
    "duration": 718,
    "start_time": "2022-12-07T06:30:46.238Z"
   },
   {
    "duration": 11,
    "start_time": "2022-12-07T06:30:46.957Z"
   },
   {
    "duration": 12,
    "start_time": "2022-12-07T06:30:46.978Z"
   },
   {
    "duration": 78,
    "start_time": "2022-12-07T06:30:46.991Z"
   },
   {
    "duration": 3,
    "start_time": "2022-12-07T06:30:47.071Z"
   },
   {
    "duration": 11,
    "start_time": "2022-12-07T06:30:47.079Z"
   },
   {
    "duration": 187,
    "start_time": "2022-12-07T06:30:47.092Z"
   },
   {
    "duration": 4,
    "start_time": "2022-12-07T06:30:47.281Z"
   },
   {
    "duration": 100,
    "start_time": "2022-12-07T06:30:47.288Z"
   },
   {
    "duration": 6,
    "start_time": "2022-12-07T06:30:47.389Z"
   },
   {
    "duration": 9,
    "start_time": "2022-12-07T06:30:47.396Z"
   },
   {
    "duration": 4,
    "start_time": "2022-12-07T06:30:47.407Z"
   },
   {
    "duration": 7,
    "start_time": "2022-12-07T06:30:47.412Z"
   },
   {
    "duration": 7,
    "start_time": "2022-12-07T06:30:47.420Z"
   },
   {
    "duration": 7,
    "start_time": "2022-12-07T06:30:47.428Z"
   },
   {
    "duration": 3,
    "start_time": "2022-12-07T06:30:47.438Z"
   },
   {
    "duration": 11,
    "start_time": "2022-12-07T06:30:47.443Z"
   },
   {
    "duration": 1298,
    "start_time": "2022-12-07T06:30:47.477Z"
   },
   {
    "duration": 1387,
    "start_time": "2022-12-07T06:30:48.778Z"
   },
   {
    "duration": 1390,
    "start_time": "2022-12-07T06:30:50.167Z"
   },
   {
    "duration": 30,
    "start_time": "2022-12-07T06:31:27.966Z"
   },
   {
    "duration": 17,
    "start_time": "2022-12-07T06:45:31.313Z"
   },
   {
    "duration": 26,
    "start_time": "2022-12-07T06:46:11.454Z"
   },
   {
    "duration": 8,
    "start_time": "2022-12-07T06:49:36.325Z"
   },
   {
    "duration": 1700,
    "start_time": "2022-12-07T06:53:13.438Z"
   },
   {
    "duration": 336,
    "start_time": "2022-12-07T06:53:15.140Z"
   },
   {
    "duration": 13,
    "start_time": "2022-12-07T06:53:15.478Z"
   },
   {
    "duration": 11,
    "start_time": "2022-12-07T06:53:15.493Z"
   },
   {
    "duration": 18,
    "start_time": "2022-12-07T06:53:15.506Z"
   },
   {
    "duration": 24,
    "start_time": "2022-12-07T06:53:15.525Z"
   },
   {
    "duration": 12,
    "start_time": "2022-12-07T06:53:15.551Z"
   },
   {
    "duration": 23,
    "start_time": "2022-12-07T06:53:15.565Z"
   },
   {
    "duration": 317,
    "start_time": "2022-12-07T06:53:15.589Z"
   },
   {
    "duration": 225,
    "start_time": "2022-12-07T06:53:15.908Z"
   },
   {
    "duration": 341,
    "start_time": "2022-12-07T06:53:16.134Z"
   },
   {
    "duration": 130,
    "start_time": "2022-12-07T06:53:16.478Z"
   },
   {
    "duration": 803,
    "start_time": "2022-12-07T06:53:16.609Z"
   },
   {
    "duration": 51,
    "start_time": "2022-12-07T06:53:17.414Z"
   },
   {
    "duration": 19,
    "start_time": "2022-12-07T06:53:17.466Z"
   },
   {
    "duration": 19,
    "start_time": "2022-12-07T06:53:17.487Z"
   },
   {
    "duration": 105,
    "start_time": "2022-12-07T06:53:17.508Z"
   },
   {
    "duration": 4,
    "start_time": "2022-12-07T06:53:17.615Z"
   },
   {
    "duration": 21,
    "start_time": "2022-12-07T06:53:17.620Z"
   },
   {
    "duration": 142,
    "start_time": "2022-12-07T06:53:17.643Z"
   },
   {
    "duration": 5,
    "start_time": "2022-12-07T06:53:17.786Z"
   },
   {
    "duration": 215,
    "start_time": "2022-12-07T06:53:17.792Z"
   },
   {
    "duration": 22,
    "start_time": "2022-12-07T06:53:18.008Z"
   },
   {
    "duration": 28,
    "start_time": "2022-12-07T06:53:18.031Z"
   },
   {
    "duration": 47,
    "start_time": "2022-12-07T06:53:18.061Z"
   },
   {
    "duration": 3,
    "start_time": "2022-12-07T06:53:18.111Z"
   },
   {
    "duration": 29,
    "start_time": "2022-12-07T06:53:18.116Z"
   },
   {
    "duration": 32,
    "start_time": "2022-12-07T06:53:18.149Z"
   },
   {
    "duration": 45,
    "start_time": "2022-12-07T06:53:18.182Z"
   },
   {
    "duration": 29,
    "start_time": "2022-12-07T06:53:18.229Z"
   },
   {
    "duration": 29,
    "start_time": "2022-12-07T06:53:18.259Z"
   },
   {
    "duration": 1396,
    "start_time": "2022-12-07T06:53:18.290Z"
   },
   {
    "duration": 1381,
    "start_time": "2022-12-07T06:53:19.688Z"
   },
   {
    "duration": 1281,
    "start_time": "2022-12-07T06:53:21.071Z"
   }
  ],
  "kernelspec": {
   "display_name": "Python 3 (ipykernel)",
   "language": "python",
   "name": "python3"
  },
  "language_info": {
   "codemirror_mode": {
    "name": "ipython",
    "version": 3
   },
   "file_extension": ".py",
   "mimetype": "text/x-python",
   "name": "python",
   "nbconvert_exporter": "python",
   "pygments_lexer": "ipython3",
   "version": "3.9.12"
  },
  "toc": {
   "base_numbering": 1,
   "nav_menu": {},
   "number_sections": true,
   "sideBar": true,
   "skip_h1_title": true,
   "title_cell": "Table of Contents",
   "title_sidebar": "Contents",
   "toc_cell": false,
   "toc_position": {
    "height": "calc(100% - 180px)",
    "left": "10px",
    "top": "150px",
    "width": "286.068px"
   },
   "toc_section_display": true,
   "toc_window_display": true
  }
 },
 "nbformat": 4,
 "nbformat_minor": 2
}
