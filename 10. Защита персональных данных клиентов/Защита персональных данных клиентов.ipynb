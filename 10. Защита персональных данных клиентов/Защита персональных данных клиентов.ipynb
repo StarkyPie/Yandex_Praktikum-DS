{
 "cells": [
  {
   "cell_type": "markdown",
   "metadata": {
    "toc": true
   },
   "source": [
    "<h1>Содержание<span class=\"tocSkip\"></span></h1>\n",
    "<div class=\"toc\"><ul class=\"toc-item\"><li><span><a href=\"#Загрузка-данных\" data-toc-modified-id=\"Загрузка-данных-1\"><span class=\"toc-item-num\">1&nbsp;&nbsp;</span>Загрузка данных</a></span></li><li><span><a href=\"#Умножение-матриц\" data-toc-modified-id=\"Умножение-матриц-2\"><span class=\"toc-item-num\">2&nbsp;&nbsp;</span>Умножение матриц</a></span></li><li><span><a href=\"#Алгоритм-преобразования\" data-toc-modified-id=\"Алгоритм-преобразования-3\"><span class=\"toc-item-num\">3&nbsp;&nbsp;</span>Алгоритм преобразования</a></span></li><li><span><a href=\"#Проверка-алгоритма\" data-toc-modified-id=\"Проверка-алгоритма-4\"><span class=\"toc-item-num\">4&nbsp;&nbsp;</span>Проверка алгоритма</a></span></li><li><span><a href=\"#Итоговый-вывод\" data-toc-modified-id=\"Итоговый-вывод-5\"><span class=\"toc-item-num\">5&nbsp;&nbsp;</span>Итоговый вывод</a></span></li><li><span><a href=\"#Чек-лист-проверки\" data-toc-modified-id=\"Чек-лист-проверки-6\"><span class=\"toc-item-num\">6&nbsp;&nbsp;</span>Чек-лист проверки</a></span></li></ul></div>"
   ]
  },
  {
   "cell_type": "markdown",
   "metadata": {},
   "source": [
    "# Защита персональных данных клиентов"
   ]
  },
  {
   "cell_type": "markdown",
   "metadata": {},
   "source": [
    "Вам нужно защитить данные клиентов страховой компании «Хоть потоп». Разработайте такой метод преобразования данных, чтобы по ним было сложно восстановить персональную информацию. Обоснуйте корректность его работы.\n",
    "\n",
    "Нужно защитить данные, чтобы при преобразовании качество моделей машинного обучения не ухудшилось. Подбирать наилучшую модель не требуется.\n",
    "\n",
    "**Цель исследования** - выполнить следующие задачи:\n",
    "\n",
    "1. Загрузить и изучить данные.\n",
    "2. Умножение матриц. Ответить на вопрос и обосновать решение.\n",
    "3. Предложить алгоритм преобразования данных.\n",
    "4. Запрограммировать алгоритм.\n",
    "\n",
    "**Ход исследования**\n",
    "\n",
    "Данные находятся в файле `/datasets/insurance.csv`. О качестве данных нам ничего не известно. Значит перед исследовательской работой понадбится просмотреть данные. Проверим общую информацию, если понадобится, то проведём предобработку данных, чтобы исправить ошибки.\n",
    "\n",
    "После изучения данных займёмся умножением матриц и дадим ответ на главный вопрос (Признаки умножают на обратимую матрицу. Изменится ли качество линейной регрессии?). Создадим алгоритм для преобразования и проверим его."
   ]
  },
  {
   "cell_type": "markdown",
   "metadata": {},
   "source": [
    "## Загрузка данных"
   ]
  },
  {
   "cell_type": "code",
   "execution_count": 1,
   "metadata": {},
   "outputs": [],
   "source": [
    "#подключим необходимые библиотеки\n",
    "import pandas as pd\n",
    "import numpy as np\n",
    "from sklearn.model_selection import train_test_split\n",
    "from sklearn.preprocessing import StandardScaler\n",
    "from sklearn.linear_model import LinearRegression\n",
    "from sklearn.metrics import r2_score"
   ]
  },
  {
   "cell_type": "code",
   "execution_count": 2,
   "metadata": {},
   "outputs": [],
   "source": [
    "#прочитаем файл\n",
    "data = pd.read_csv('/datasets/insurance.csv')"
   ]
  },
  {
   "cell_type": "code",
   "execution_count": 3,
   "metadata": {},
   "outputs": [
    {
     "data": {
      "text/html": [
       "<div>\n",
       "<style scoped>\n",
       "    .dataframe tbody tr th:only-of-type {\n",
       "        vertical-align: middle;\n",
       "    }\n",
       "\n",
       "    .dataframe tbody tr th {\n",
       "        vertical-align: top;\n",
       "    }\n",
       "\n",
       "    .dataframe thead th {\n",
       "        text-align: right;\n",
       "    }\n",
       "</style>\n",
       "<table border=\"1\" class=\"dataframe\">\n",
       "  <thead>\n",
       "    <tr style=\"text-align: right;\">\n",
       "      <th></th>\n",
       "      <th>Пол</th>\n",
       "      <th>Возраст</th>\n",
       "      <th>Зарплата</th>\n",
       "      <th>Члены семьи</th>\n",
       "      <th>Страховые выплаты</th>\n",
       "    </tr>\n",
       "  </thead>\n",
       "  <tbody>\n",
       "    <tr>\n",
       "      <th>0</th>\n",
       "      <td>1</td>\n",
       "      <td>41.0</td>\n",
       "      <td>49600.0</td>\n",
       "      <td>1</td>\n",
       "      <td>0</td>\n",
       "    </tr>\n",
       "    <tr>\n",
       "      <th>1</th>\n",
       "      <td>0</td>\n",
       "      <td>46.0</td>\n",
       "      <td>38000.0</td>\n",
       "      <td>1</td>\n",
       "      <td>1</td>\n",
       "    </tr>\n",
       "    <tr>\n",
       "      <th>2</th>\n",
       "      <td>0</td>\n",
       "      <td>29.0</td>\n",
       "      <td>21000.0</td>\n",
       "      <td>0</td>\n",
       "      <td>0</td>\n",
       "    </tr>\n",
       "    <tr>\n",
       "      <th>3</th>\n",
       "      <td>0</td>\n",
       "      <td>21.0</td>\n",
       "      <td>41700.0</td>\n",
       "      <td>2</td>\n",
       "      <td>0</td>\n",
       "    </tr>\n",
       "    <tr>\n",
       "      <th>4</th>\n",
       "      <td>1</td>\n",
       "      <td>28.0</td>\n",
       "      <td>26100.0</td>\n",
       "      <td>0</td>\n",
       "      <td>0</td>\n",
       "    </tr>\n",
       "  </tbody>\n",
       "</table>\n",
       "</div>"
      ],
      "text/plain": [
       "   Пол  Возраст  Зарплата  Члены семьи  Страховые выплаты\n",
       "0    1     41.0   49600.0            1                  0\n",
       "1    0     46.0   38000.0            1                  1\n",
       "2    0     29.0   21000.0            0                  0\n",
       "3    0     21.0   41700.0            2                  0\n",
       "4    1     28.0   26100.0            0                  0"
      ]
     },
     "execution_count": 3,
     "metadata": {},
     "output_type": "execute_result"
    }
   ],
   "source": [
    "#выведем первые 5 строк таблицы\n",
    "data.head()"
   ]
  },
  {
   "cell_type": "code",
   "execution_count": 4,
   "metadata": {},
   "outputs": [
    {
     "name": "stdout",
     "output_type": "stream",
     "text": [
      "<class 'pandas.core.frame.DataFrame'>\n",
      "RangeIndex: 5000 entries, 0 to 4999\n",
      "Data columns (total 5 columns):\n",
      " #   Column             Non-Null Count  Dtype  \n",
      "---  ------             --------------  -----  \n",
      " 0   Пол                5000 non-null   int64  \n",
      " 1   Возраст            5000 non-null   float64\n",
      " 2   Зарплата           5000 non-null   float64\n",
      " 3   Члены семьи        5000 non-null   int64  \n",
      " 4   Страховые выплаты  5000 non-null   int64  \n",
      "dtypes: float64(2), int64(3)\n",
      "memory usage: 195.4 KB\n"
     ]
    }
   ],
   "source": [
    "#выведем общую информацию\n",
    "data.info()"
   ]
  },
  {
   "cell_type": "code",
   "execution_count": 5,
   "metadata": {},
   "outputs": [
    {
     "data": {
      "text/html": [
       "<div>\n",
       "<style scoped>\n",
       "    .dataframe tbody tr th:only-of-type {\n",
       "        vertical-align: middle;\n",
       "    }\n",
       "\n",
       "    .dataframe tbody tr th {\n",
       "        vertical-align: top;\n",
       "    }\n",
       "\n",
       "    .dataframe thead th {\n",
       "        text-align: right;\n",
       "    }\n",
       "</style>\n",
       "<table border=\"1\" class=\"dataframe\">\n",
       "  <thead>\n",
       "    <tr style=\"text-align: right;\">\n",
       "      <th></th>\n",
       "      <th>Пол</th>\n",
       "      <th>Возраст</th>\n",
       "      <th>Зарплата</th>\n",
       "      <th>Члены семьи</th>\n",
       "      <th>Страховые выплаты</th>\n",
       "    </tr>\n",
       "  </thead>\n",
       "  <tbody>\n",
       "    <tr>\n",
       "      <th>count</th>\n",
       "      <td>5000.000000</td>\n",
       "      <td>5000.000000</td>\n",
       "      <td>5000.000000</td>\n",
       "      <td>5000.000000</td>\n",
       "      <td>5000.000000</td>\n",
       "    </tr>\n",
       "    <tr>\n",
       "      <th>mean</th>\n",
       "      <td>0.499000</td>\n",
       "      <td>30.952800</td>\n",
       "      <td>39916.360000</td>\n",
       "      <td>1.194200</td>\n",
       "      <td>0.148000</td>\n",
       "    </tr>\n",
       "    <tr>\n",
       "      <th>std</th>\n",
       "      <td>0.500049</td>\n",
       "      <td>8.440807</td>\n",
       "      <td>9900.083569</td>\n",
       "      <td>1.091387</td>\n",
       "      <td>0.463183</td>\n",
       "    </tr>\n",
       "    <tr>\n",
       "      <th>min</th>\n",
       "      <td>0.000000</td>\n",
       "      <td>18.000000</td>\n",
       "      <td>5300.000000</td>\n",
       "      <td>0.000000</td>\n",
       "      <td>0.000000</td>\n",
       "    </tr>\n",
       "    <tr>\n",
       "      <th>25%</th>\n",
       "      <td>0.000000</td>\n",
       "      <td>24.000000</td>\n",
       "      <td>33300.000000</td>\n",
       "      <td>0.000000</td>\n",
       "      <td>0.000000</td>\n",
       "    </tr>\n",
       "    <tr>\n",
       "      <th>50%</th>\n",
       "      <td>0.000000</td>\n",
       "      <td>30.000000</td>\n",
       "      <td>40200.000000</td>\n",
       "      <td>1.000000</td>\n",
       "      <td>0.000000</td>\n",
       "    </tr>\n",
       "    <tr>\n",
       "      <th>75%</th>\n",
       "      <td>1.000000</td>\n",
       "      <td>37.000000</td>\n",
       "      <td>46600.000000</td>\n",
       "      <td>2.000000</td>\n",
       "      <td>0.000000</td>\n",
       "    </tr>\n",
       "    <tr>\n",
       "      <th>max</th>\n",
       "      <td>1.000000</td>\n",
       "      <td>65.000000</td>\n",
       "      <td>79000.000000</td>\n",
       "      <td>6.000000</td>\n",
       "      <td>5.000000</td>\n",
       "    </tr>\n",
       "  </tbody>\n",
       "</table>\n",
       "</div>"
      ],
      "text/plain": [
       "               Пол      Возраст      Зарплата  Члены семьи  Страховые выплаты\n",
       "count  5000.000000  5000.000000   5000.000000  5000.000000        5000.000000\n",
       "mean      0.499000    30.952800  39916.360000     1.194200           0.148000\n",
       "std       0.500049     8.440807   9900.083569     1.091387           0.463183\n",
       "min       0.000000    18.000000   5300.000000     0.000000           0.000000\n",
       "25%       0.000000    24.000000  33300.000000     0.000000           0.000000\n",
       "50%       0.000000    30.000000  40200.000000     1.000000           0.000000\n",
       "75%       1.000000    37.000000  46600.000000     2.000000           0.000000\n",
       "max       1.000000    65.000000  79000.000000     6.000000           5.000000"
      ]
     },
     "execution_count": 5,
     "metadata": {},
     "output_type": "execute_result"
    }
   ],
   "source": [
    "#оценим данные в таблице методом describe\n",
    "data.describe()"
   ]
  },
  {
   "cell_type": "code",
   "execution_count": 6,
   "metadata": {},
   "outputs": [
    {
     "data": {
      "text/html": [
       "<style  type=\"text/css\" >\n",
       "#T_8e7ec_row0_col0,#T_8e7ec_row1_col0,#T_8e7ec_row2_col0,#T_8e7ec_row3_col0,#T_8e7ec_row4_col0{\n",
       "            background-color:  #3b4cc0;\n",
       "            color:  #f1f1f1;\n",
       "        }</style><table id=\"T_8e7ec_\" ><thead>    <tr>        <th class=\"blank level0\" ></th>        <th class=\"col_heading level0 col0\" >0</th>    </tr></thead><tbody>\n",
       "                <tr>\n",
       "                        <th id=\"T_8e7ec_level0_row0\" class=\"row_heading level0 row0\" >Пол</th>\n",
       "                        <td id=\"T_8e7ec_row0_col0\" class=\"data row0 col0\" >0.000000</td>\n",
       "            </tr>\n",
       "            <tr>\n",
       "                        <th id=\"T_8e7ec_level0_row1\" class=\"row_heading level0 row1\" >Возраст</th>\n",
       "                        <td id=\"T_8e7ec_row1_col0\" class=\"data row1 col0\" >0.000000</td>\n",
       "            </tr>\n",
       "            <tr>\n",
       "                        <th id=\"T_8e7ec_level0_row2\" class=\"row_heading level0 row2\" >Зарплата</th>\n",
       "                        <td id=\"T_8e7ec_row2_col0\" class=\"data row2 col0\" >0.000000</td>\n",
       "            </tr>\n",
       "            <tr>\n",
       "                        <th id=\"T_8e7ec_level0_row3\" class=\"row_heading level0 row3\" >Члены семьи</th>\n",
       "                        <td id=\"T_8e7ec_row3_col0\" class=\"data row3 col0\" >0.000000</td>\n",
       "            </tr>\n",
       "            <tr>\n",
       "                        <th id=\"T_8e7ec_level0_row4\" class=\"row_heading level0 row4\" >Страховые выплаты</th>\n",
       "                        <td id=\"T_8e7ec_row4_col0\" class=\"data row4 col0\" >0.000000</td>\n",
       "            </tr>\n",
       "    </tbody></table>"
      ],
      "text/plain": [
       "<pandas.io.formats.style.Styler at 0x7f3746bd7130>"
      ]
     },
     "execution_count": 6,
     "metadata": {},
     "output_type": "execute_result"
    }
   ],
   "source": [
    "#проверим колличество пропусков в %\n",
    "pd.DataFrame(round(data.isna().mean()*100,)).style.background_gradient('coolwarm')"
   ]
  },
  {
   "cell_type": "code",
   "execution_count": 7,
   "metadata": {},
   "outputs": [
    {
     "data": {
      "text/plain": [
       "Пол                    2\n",
       "Возраст               46\n",
       "Зарплата             524\n",
       "Члены семьи            7\n",
       "Страховые выплаты      6\n",
       "dtype: int64"
      ]
     },
     "execution_count": 7,
     "metadata": {},
     "output_type": "execute_result"
    }
   ],
   "source": [
    "#кол-во уникальных значений в таблице\n",
    "data.nunique()"
   ]
  },
  {
   "cell_type": "code",
   "execution_count": 8,
   "metadata": {},
   "outputs": [
    {
     "data": {
      "text/plain": [
       "153"
      ]
     },
     "execution_count": 8,
     "metadata": {},
     "output_type": "execute_result"
    }
   ],
   "source": [
    "#проверим наличие дубликатов\n",
    "data.duplicated().sum()"
   ]
  },
  {
   "cell_type": "code",
   "execution_count": 9,
   "metadata": {},
   "outputs": [],
   "source": [
    "#удалим дубликаты\n",
    "data = data.drop_duplicates()"
   ]
  },
  {
   "cell_type": "code",
   "execution_count": 10,
   "metadata": {},
   "outputs": [
    {
     "data": {
      "text/plain": [
       "Пол                  int64\n",
       "Возраст              int64\n",
       "Зарплата             int64\n",
       "Члены семьи          int64\n",
       "Страховые выплаты    int64\n",
       "dtype: object"
      ]
     },
     "execution_count": 10,
     "metadata": {},
     "output_type": "execute_result"
    }
   ],
   "source": [
    "#изменим тип столбцов Возраст и Зарплата на int\n",
    "data['Возраст'] = data['Возраст'].astype(int)\n",
    "data['Зарплата'] = data['Зарплата'].astype(int)\n",
    "data.dtypes"
   ]
  },
  {
   "cell_type": "markdown",
   "metadata": {},
   "source": [
    "**Вывод**\n",
    "\n",
    "При изучении данных мы выяснили:\n",
    "\n",
    "1. Каждый объект таблицы - данные о застрахованном лице. Его пол, возраст, зарплата, количество членов в семье и сколько раз получал страховую выплату. \n",
    "2. Пропуски в данных отсутствуют.\n",
    "3. Присутствует небольшое количество дубликатов. Мы их удалили.\n",
    "4. В столбце Возраст и Зарплата для удобства можно изменить тип данных на int.\n",
    "5. Некоторые люди получали выплату по страховке до 5 раз.\n",
    "\n",
    "Можно приступить к умножению матриц."
   ]
  },
  {
   "cell_type": "markdown",
   "metadata": {},
   "source": [
    "## Умножение матриц"
   ]
  },
  {
   "cell_type": "markdown",
   "metadata": {},
   "source": [
    "В этом задании вы можете записывать формулы в *Jupyter Notebook.*\n",
    "\n",
    "Чтобы записать формулу внутри текста, окружите её символами доллара \\\\$; если снаружи —  двойными символами \\\\$\\\\$. Эти формулы записываются на языке вёрстки *LaTeX.* \n",
    "\n",
    "Для примера мы записали формулы линейной регрессии. Можете их скопировать и отредактировать, чтобы решить задачу.\n",
    "\n",
    "Работать в *LaTeX* необязательно."
   ]
  },
  {
   "cell_type": "markdown",
   "metadata": {},
   "source": [
    "Обозначения:\n",
    "\n",
    "- $X$ — матрица признаков (нулевой столбец состоит из единиц)\n",
    "\n",
    "- $y$ — вектор целевого признака\n",
    "\n",
    "- $P$ — матрица, на которую умножаются признаки\n",
    "\n",
    "- $w$ — вектор весов линейной регрессии (нулевой элемент равен сдвигу)"
   ]
  },
  {
   "cell_type": "markdown",
   "metadata": {},
   "source": [
    "Предсказания:\n",
    "\n",
    "$$\n",
    "a = Xw\n",
    "$$\n",
    "\n",
    "Задача обучения:\n",
    "\n",
    "$$\n",
    "w = \\arg\\min_w MSE(Xw, y)\n",
    "$$\n",
    "\n",
    "Формула обучения:\n",
    "\n",
    "$$\n",
    "w = (X^T X)^{-1} X^T y\n",
    "$$"
   ]
  },
  {
   "cell_type": "markdown",
   "metadata": {},
   "source": [
    "**Вопрос**\n",
    "\n",
    "Признаки умножают на обратимую матрицу. Изменится ли качество линейной регрессии? (Её можно обучить заново.)\n",
    "* а) Изменится. Приведите примеры матриц.\n",
    "* б) Не изменится. Укажите, как связаны параметры линейной регрессии в исходной задаче и в преобразованной"
   ]
  },
  {
   "cell_type": "markdown",
   "metadata": {},
   "source": [
    "**Ответ:** не изменится\n",
    "\n",
    "**Обоснование:** \n",
    "\n",
    "1. Возьмём новую матрицу $X1$\n",
    "\n",
    "$X1 = X * P$ ,где $X$ - матрица признаков, $P$ - обратимая матрица\n",
    "\n",
    "2. Подставим $X1$ в формулу $w$ и назовём её $w1$\n",
    "\n",
    "$w1 = ((XP)^T XP)^{-1} (XP)^Ty$\n",
    "\n",
    "3. Раскроем $(XP)^T$ используя свойство транспонированной матрицы $(AB)^T = B^TA^T$\n",
    "\n",
    "$w1 = (P^TX^T XP)^{-1} P^TX^Ty$\n",
    "\n",
    "4. Перегруппируем множители в скобках $(P^TX^T XP)^{-1}$ \n",
    "\n",
    "$w1 = (P^T(X^T X)P)^{-1} P^TX^Ty$\n",
    "\n",
    "5. Раскроем скобки $(P^T(X^T X)P)^{-1}$ используя свойство обратной матрицы $(AB)^{-1} = B^{-1}A^{-1}$\n",
    "\n",
    "$w1 = P^{-1}(X^TX)^{-1}(P^T)^{-1} P^TX^Ty$\n",
    "\n",
    "6. Поскольку $P$ - обратимая матрица, то можно использовать следующее свойство $PP^{-1} = (P^T)^{-1}P^T = E$ ,где $E$ - единичная матрица.\n",
    "\n",
    "$w1 = P^{-1}(X^TX)^{-1}EX^Ty = P^{-1}(X^TX^{-1})X^Ty$\n",
    "\n",
    "7. Можно заметить, что справа от $(P)^{-1}$ мы получили $w$\n",
    "\n",
    "$w1 = P^{-1}(X^TX)^{-1}X^Ty = P^{-1}w$\n",
    "\n",
    "8. Теперь подставим $X1$ и $w1$ в формулу $a$ и назовём её $a1$\n",
    "\n",
    "$a1 = X1w1 = XPP^{-1}w$\n",
    "\n",
    "9. Поскольку $P$ - обратимая матрица, то $PP^{-1} = E$. Получаем следующее\n",
    "\n",
    "$a1 = XEw = Xw = a$\n",
    "\n",
    "10. Из результата видно, что умножение матрицы признаков на обратимую матрицу ничего не изменит."
   ]
  },
  {
   "cell_type": "markdown",
   "metadata": {},
   "source": [
    "**Вывод**\n",
    "\n",
    "Умножение признаков на обратимую матрицу не изменит качество линейно регрессии. Можно приступить к алгоритму преобразования "
   ]
  },
  {
   "cell_type": "markdown",
   "metadata": {},
   "source": [
    "## Алгоритм преобразования"
   ]
  },
  {
   "cell_type": "markdown",
   "metadata": {},
   "source": [
    "**Алгоритм**\n",
    "\n",
    "Для шифрования данных будем умножать матрицу признаков $X$ на обратимую матрицу $P$. \n",
    "\n",
    "Алгоритм будет следующим:\n",
    "\n",
    "1. Создадим матрицу $P$ со случайными числами по нормальному распределению.\n",
    "2. Проверим, что она получилась обратимой. Если нет, повторим генерацию, пока не получим обратимую матрицу. Но вероятность получить необратимую крайне мала.\n",
    "3. Умножим матрицу признаков $X$ на матрицу $P$."
   ]
  },
  {
   "cell_type": "markdown",
   "metadata": {},
   "source": [
    "**Обоснование**\n",
    "\n",
    "Выше мы доказали, что предсказания модели не поменяются при преобразовании. Значит можно сделать вывод, что качество модели тоже не должно измениться. Также мы знаем, что качество модели - это производная от предсказаний, а они у нас одинаковые до и после преобразования, и целевого признака.\n",
    "\n",
    "Проверим наше предположение ниже."
   ]
  },
  {
   "cell_type": "markdown",
   "metadata": {},
   "source": [
    "## Проверка алгоритма"
   ]
  },
  {
   "cell_type": "code",
   "execution_count": 11,
   "metadata": {},
   "outputs": [
    {
     "data": {
      "text/plain": [
       "array([[69, 15,  9, 34],\n",
       "       [60, 28, 59, 58],\n",
       "       [76, 13, 27, 38],\n",
       "       [19, 20, 16, 79]])"
      ]
     },
     "execution_count": 11,
     "metadata": {},
     "output_type": "execute_result"
    }
   ],
   "source": [
    "#создадим случайную квадратную матрицу 4 на 4 (равная количеству признаков)\n",
    "random_matrix = np.random.randint(100, size=(4,4))\n",
    "random_matrix"
   ]
  },
  {
   "cell_type": "code",
   "execution_count": 12,
   "metadata": {},
   "outputs": [
    {
     "data": {
      "text/plain": [
       "array([[ 0.005156  , -0.0061569 ,  0.01450667, -0.00467667],\n",
       "       [ 0.12024464,  0.05469682, -0.14705841, -0.02117106],\n",
       "       [-0.03891104,  0.01174866,  0.02730517, -0.00501321],\n",
       "       [-0.02380102, -0.014746  ,  0.02821087,  0.02015809]])"
      ]
     },
     "execution_count": 12,
     "metadata": {},
     "output_type": "execute_result"
    }
   ],
   "source": [
    "#проверим на обратимость\n",
    "inv_matrix = np.linalg.inv(random_matrix)\n",
    "inv_matrix"
   ]
  },
  {
   "cell_type": "markdown",
   "metadata": {},
   "source": [
    "Проверку на обратимость матрица прошла"
   ]
  },
  {
   "cell_type": "code",
   "execution_count": 13,
   "metadata": {},
   "outputs": [],
   "source": [
    "#подготовим признаки\n",
    "features = data.drop('Страховые выплаты', axis = 1)\n",
    "target = data['Страховые выплаты']"
   ]
  },
  {
   "cell_type": "code",
   "execution_count": 14,
   "metadata": {},
   "outputs": [],
   "source": [
    "#масштабирование\n",
    "scaler = StandardScaler()\n",
    "scaler.fit(features)\n",
    "features = scaler.transform(features)"
   ]
  },
  {
   "cell_type": "code",
   "execution_count": 15,
   "metadata": {},
   "outputs": [
    {
     "data": {
      "text/plain": [
       "array([[ 210.18118663,   56.90615791,  101.69090173,  124.63154938],\n",
       "       [  19.11998881,   28.27914049,   87.04118603,   46.59653989],\n",
       "       [-247.92141475,  -68.17387993,  -91.73177608, -206.27433644],\n",
       "       ...,\n",
       "       [-178.64016788,  -44.6370973 ,  -90.23981204,  -74.79539174],\n",
       "       [ -18.35059357,    8.60269712,  -47.02077955,   74.21281128],\n",
       "       [  49.68463192,    2.28469601,  -13.04975465,    1.49475198]])"
      ]
     },
     "execution_count": 15,
     "metadata": {},
     "output_type": "execute_result"
    }
   ],
   "source": [
    "#посмотрим на шифрованную матрицу\n",
    "cipher_matrix = features @ random_matrix\n",
    "cipher_matrix"
   ]
  },
  {
   "cell_type": "markdown",
   "metadata": {},
   "source": [
    "Можно заметить, что в данных теперь хранится непонятное число.\n",
    "\n",
    "Теперь можно подкрепить теоретическое обоснование практикой, чтобы точно быть уверенными, что мы делаем всё правильно. Рассчитаем $w$ и $a$ по исходным признакам, и $w1$ и $a1$ по преобразованным признакам."
   ]
  },
  {
   "cell_type": "code",
   "execution_count": 16,
   "metadata": {},
   "outputs": [
    {
     "data": {
      "text/plain": [
       "array([ 0.36706966,  0.54004184, -0.05813168, ..., -0.41390424,\n",
       "       -0.34620098, -0.1018115 ])"
      ]
     },
     "metadata": {},
     "output_type": "display_data"
    },
    {
     "data": {
      "text/plain": [
       "array([ 0.36706966,  0.54004184, -0.05813168, ..., -0.41390424,\n",
       "       -0.34620098, -0.1018115 ])"
      ]
     },
     "metadata": {},
     "output_type": "display_data"
    },
    {
     "name": "stdout",
     "output_type": "stream",
     "text": [
      "-1.7982089341866958e-14\n"
     ]
    }
   ],
   "source": [
    "w = np.linalg.inv(features.T.dot(features)).dot(features.T).dot(target)\n",
    "a = features.dot(w)\n",
    "w1 = np.linalg.inv(cipher_matrix.T.dot(cipher_matrix)).dot(cipher_matrix.T).dot(target)\n",
    "a1 = cipher_matrix.dot(w1)\n",
    "\n",
    "display(a, a1)\n",
    "print((a-a1).sum())"
   ]
  },
  {
   "cell_type": "markdown",
   "metadata": {},
   "source": [
    "Исходя из результата можно смело сказать, что $a$ почти равен $a1$, ибо сумма расхождений очень маленькая. Значит результат предсказания не изменится.\n",
    "\n",
    "Приступим к созданию модели."
   ]
  },
  {
   "cell_type": "code",
   "execution_count": 17,
   "metadata": {},
   "outputs": [
    {
     "name": "stdout",
     "output_type": "stream",
     "text": [
      "R2 = 0.4302010046633359\n"
     ]
    }
   ],
   "source": [
    "#создадим модель линейной регрессии и проверим её R2 на исходных данных\n",
    "model = LinearRegression()\n",
    "model.fit(features, target)\n",
    "predictions = model.predict(features)\n",
    "print('R2 =', r2_score(target, predictions))"
   ]
  },
  {
   "cell_type": "code",
   "execution_count": 18,
   "metadata": {},
   "outputs": [
    {
     "name": "stdout",
     "output_type": "stream",
     "text": [
      "R2 = 0.4302010046633359\n"
     ]
    }
   ],
   "source": [
    "#создадим модель линейной регрессии и проверим её R2 на преобразованных данных\n",
    "model = LinearRegression()\n",
    "model.fit(cipher_matrix, target)\n",
    "predictions = model.predict(cipher_matrix)\n",
    "print('R2 =', r2_score(target, predictions))"
   ]
  },
  {
   "cell_type": "markdown",
   "metadata": {},
   "source": [
    "Можно смело сказать, что наш простейший алгоритм преобразования сработал хорошо. Качество регрессии не изменилось. "
   ]
  },
  {
   "cell_type": "markdown",
   "metadata": {},
   "source": [
    "## Итоговый вывод"
   ]
  },
  {
   "cell_type": "markdown",
   "metadata": {},
   "source": [
    "В ходе работы мы:\n",
    "\n",
    "1. Загрузили и изучили данные страховой компании «Хоть потоп».\n",
    "2. Ответили и обосновали вопрос (Признаки умножают на обратимую матрицу. Изменится ли качество линейной регрессии?). Ответ - не изменится\n",
    "3. Предложили простейший алгоритм преобразования и обосновали его.\n",
    "4. Проверили наш алгоритм на модели.\n",
    "\n",
    "**Итог**\n",
    "\n",
    "Нам предоставили 1 файл с данными. Данные были в хорошем состоянии. Им практически не понадобилась предобработка. После изучения данных мы ответили на вопрос по умножению матриц и предложили алгоритм преобразования. После проверки алгоритма на исходных и преобразованных данных можно смело сказать, что алгоритм справился хорошо. Мы защитили данные пользователей и не потеряли при этом качество модели."
   ]
  }
 ],
 "metadata": {
  "ExecuteTimeLog": [
   {
    "duration": 3,
    "start_time": "2023-01-09T14:25:51.901Z"
   },
   {
    "duration": 1512,
    "start_time": "2023-01-09T14:27:34.683Z"
   },
   {
    "duration": 54,
    "start_time": "2023-01-09T14:27:36.197Z"
   },
   {
    "duration": 14,
    "start_time": "2023-01-09T14:27:36.997Z"
   },
   {
    "duration": 14,
    "start_time": "2023-01-09T14:28:03.732Z"
   },
   {
    "duration": 22,
    "start_time": "2023-01-09T14:28:46.620Z"
   },
   {
    "duration": 48,
    "start_time": "2023-01-09T14:29:22.522Z"
   },
   {
    "duration": 9,
    "start_time": "2023-01-09T14:30:52.107Z"
   },
   {
    "duration": 6,
    "start_time": "2023-01-09T14:34:10.635Z"
   },
   {
    "duration": 5,
    "start_time": "2023-01-09T14:34:50.782Z"
   },
   {
    "duration": 6,
    "start_time": "2023-01-09T14:34:55.770Z"
   },
   {
    "duration": 16,
    "start_time": "2023-01-09T14:34:59.939Z"
   },
   {
    "duration": 7,
    "start_time": "2023-01-09T14:35:02.449Z"
   },
   {
    "duration": 5,
    "start_time": "2023-01-09T14:35:05.487Z"
   },
   {
    "duration": 5,
    "start_time": "2023-01-09T14:38:19.572Z"
   },
   {
    "duration": 11,
    "start_time": "2023-01-09T14:38:22.780Z"
   },
   {
    "duration": 107,
    "start_time": "2023-01-09T14:38:41.641Z"
   },
   {
    "duration": 12,
    "start_time": "2023-01-09T14:38:43.663Z"
   },
   {
    "duration": 11,
    "start_time": "2023-01-09T14:38:51.070Z"
   },
   {
    "duration": 7,
    "start_time": "2023-01-09T14:38:54.281Z"
   },
   {
    "duration": 16,
    "start_time": "2023-01-09T14:45:32.669Z"
   },
   {
    "duration": 9,
    "start_time": "2023-01-09T14:45:32.951Z"
   },
   {
    "duration": 4,
    "start_time": "2023-01-09T14:45:39.314Z"
   },
   {
    "duration": 23,
    "start_time": "2023-01-09T14:45:39.991Z"
   },
   {
    "duration": 22,
    "start_time": "2023-01-09T14:45:52.635Z"
   },
   {
    "duration": 1401,
    "start_time": "2023-01-09T14:46:08.427Z"
   },
   {
    "duration": 137,
    "start_time": "2023-01-09T14:46:09.830Z"
   },
   {
    "duration": 18,
    "start_time": "2023-01-09T14:46:19.389Z"
   },
   {
    "duration": 3,
    "start_time": "2023-01-09T14:46:33.519Z"
   },
   {
    "duration": 16,
    "start_time": "2023-01-09T14:46:33.963Z"
   },
   {
    "duration": 15,
    "start_time": "2023-01-09T14:47:12.926Z"
   },
   {
    "duration": 9,
    "start_time": "2023-01-09T14:47:15.353Z"
   },
   {
    "duration": 4,
    "start_time": "2023-01-09T14:47:20.859Z"
   },
   {
    "duration": 15,
    "start_time": "2023-01-09T14:47:23.677Z"
   },
   {
    "duration": 38,
    "start_time": "2023-01-09T14:47:34.777Z"
   },
   {
    "duration": 15,
    "start_time": "2023-01-09T14:47:41.033Z"
   },
   {
    "duration": 29,
    "start_time": "2023-01-09T14:47:44.281Z"
   },
   {
    "duration": 30,
    "start_time": "2023-01-09T14:47:48.578Z"
   },
   {
    "duration": 12,
    "start_time": "2023-01-09T14:47:49.398Z"
   },
   {
    "duration": 14,
    "start_time": "2023-01-09T14:47:50.028Z"
   },
   {
    "duration": 31,
    "start_time": "2023-01-09T14:47:51.949Z"
   },
   {
    "duration": 51,
    "start_time": "2023-01-09T14:47:52.461Z"
   },
   {
    "duration": 9,
    "start_time": "2023-01-09T14:47:54.077Z"
   },
   {
    "duration": 6,
    "start_time": "2023-01-09T14:47:54.889Z"
   },
   {
    "duration": 5,
    "start_time": "2023-01-09T14:47:55.330Z"
   },
   {
    "duration": 8,
    "start_time": "2023-01-09T14:47:55.660Z"
   },
   {
    "duration": 1669,
    "start_time": "2023-01-10T17:31:32.073Z"
   },
   {
    "duration": 105,
    "start_time": "2023-01-10T17:31:33.744Z"
   },
   {
    "duration": 23,
    "start_time": "2023-01-10T17:31:33.851Z"
   },
   {
    "duration": 14,
    "start_time": "2023-01-10T17:31:36.245Z"
   },
   {
    "duration": 21,
    "start_time": "2023-01-10T17:31:37.794Z"
   },
   {
    "duration": 53,
    "start_time": "2023-01-10T17:31:38.050Z"
   },
   {
    "duration": 7,
    "start_time": "2023-01-10T17:31:38.314Z"
   },
   {
    "duration": 6,
    "start_time": "2023-01-10T17:31:39.686Z"
   },
   {
    "duration": 5,
    "start_time": "2023-01-10T17:31:39.896Z"
   },
   {
    "duration": 7,
    "start_time": "2023-01-10T17:31:41.028Z"
   },
   {
    "duration": 1615,
    "start_time": "2023-01-10T21:30:58.448Z"
   },
   {
    "duration": 153,
    "start_time": "2023-01-10T21:31:04.084Z"
   },
   {
    "duration": 15,
    "start_time": "2023-01-10T21:31:04.458Z"
   },
   {
    "duration": 19,
    "start_time": "2023-01-10T21:31:04.967Z"
   },
   {
    "duration": 24,
    "start_time": "2023-01-10T21:31:05.560Z"
   },
   {
    "duration": 47,
    "start_time": "2023-01-10T21:31:05.925Z"
   },
   {
    "duration": 8,
    "start_time": "2023-01-10T21:31:06.231Z"
   },
   {
    "duration": 6,
    "start_time": "2023-01-10T21:31:06.590Z"
   },
   {
    "duration": 5,
    "start_time": "2023-01-10T21:31:06.963Z"
   },
   {
    "duration": 7,
    "start_time": "2023-01-10T21:31:07.253Z"
   },
   {
    "duration": 124,
    "start_time": "2023-01-10T21:42:56.732Z"
   },
   {
    "duration": 916,
    "start_time": "2023-01-10T21:43:10.768Z"
   },
   {
    "duration": 5,
    "start_time": "2023-01-10T21:43:18.805Z"
   },
   {
    "duration": 609,
    "start_time": "2023-01-10T21:43:29.438Z"
   },
   {
    "duration": 6,
    "start_time": "2023-01-10T21:44:11.750Z"
   },
   {
    "duration": 16,
    "start_time": "2023-01-10T21:44:53.493Z"
   },
   {
    "duration": 5,
    "start_time": "2023-01-10T21:45:32.678Z"
   },
   {
    "duration": 5,
    "start_time": "2023-01-10T21:45:34.497Z"
   },
   {
    "duration": 5,
    "start_time": "2023-01-10T21:45:36.585Z"
   },
   {
    "duration": 6,
    "start_time": "2023-01-10T21:45:40.313Z"
   },
   {
    "duration": 5,
    "start_time": "2023-01-10T21:45:42.319Z"
   },
   {
    "duration": 9,
    "start_time": "2023-01-10T21:45:43.954Z"
   },
   {
    "duration": 7,
    "start_time": "2023-01-10T21:45:44.488Z"
   },
   {
    "duration": 6,
    "start_time": "2023-01-10T21:45:49.674Z"
   },
   {
    "duration": 6,
    "start_time": "2023-01-10T21:45:50.517Z"
   },
   {
    "duration": 109,
    "start_time": "2023-01-10T21:48:23.418Z"
   },
   {
    "duration": 6,
    "start_time": "2023-01-10T21:48:27.314Z"
   },
   {
    "duration": 10,
    "start_time": "2023-01-10T21:49:10.439Z"
   },
   {
    "duration": 5,
    "start_time": "2023-01-10T21:54:34.396Z"
   },
   {
    "duration": 5,
    "start_time": "2023-01-10T21:54:50.354Z"
   },
   {
    "duration": 5,
    "start_time": "2023-01-10T21:55:29.724Z"
   },
   {
    "duration": 13,
    "start_time": "2023-01-10T22:14:33.064Z"
   },
   {
    "duration": 11,
    "start_time": "2023-01-10T22:14:49.992Z"
   },
   {
    "duration": 17,
    "start_time": "2023-01-10T22:14:59.684Z"
   },
   {
    "duration": 8,
    "start_time": "2023-01-10T22:15:12.635Z"
   },
   {
    "duration": 5,
    "start_time": "2023-01-10T22:15:19.815Z"
   },
   {
    "duration": 6,
    "start_time": "2023-01-10T22:15:24.630Z"
   },
   {
    "duration": 5,
    "start_time": "2023-01-10T22:15:25.043Z"
   },
   {
    "duration": 5,
    "start_time": "2023-01-10T22:15:27.729Z"
   },
   {
    "duration": 17,
    "start_time": "2023-01-10T22:15:29.472Z"
   },
   {
    "duration": 6,
    "start_time": "2023-01-10T22:15:33.044Z"
   },
   {
    "duration": 6,
    "start_time": "2023-01-10T22:15:33.311Z"
   },
   {
    "duration": 7,
    "start_time": "2023-01-10T22:15:35.308Z"
   },
   {
    "duration": 12,
    "start_time": "2023-01-10T22:15:37.134Z"
   },
   {
    "duration": 5,
    "start_time": "2023-01-10T22:15:40.608Z"
   },
   {
    "duration": 4,
    "start_time": "2023-01-10T22:15:41.144Z"
   },
   {
    "duration": 9,
    "start_time": "2023-01-10T22:15:41.377Z"
   },
   {
    "duration": 5,
    "start_time": "2023-01-10T22:15:41.593Z"
   },
   {
    "duration": 9,
    "start_time": "2023-01-10T22:15:44.177Z"
   },
   {
    "duration": 6,
    "start_time": "2023-01-10T22:15:46.841Z"
   },
   {
    "duration": 6,
    "start_time": "2023-01-10T22:15:47.034Z"
   },
   {
    "duration": 5,
    "start_time": "2023-01-10T22:15:49.723Z"
   },
   {
    "duration": 7,
    "start_time": "2023-01-10T22:15:49.931Z"
   },
   {
    "duration": 6,
    "start_time": "2023-01-10T22:15:50.150Z"
   },
   {
    "duration": 65,
    "start_time": "2023-01-10T22:15:52.028Z"
   },
   {
    "duration": 6,
    "start_time": "2023-01-10T22:16:22.891Z"
   },
   {
    "duration": 8,
    "start_time": "2023-01-10T22:16:24.050Z"
   },
   {
    "duration": 5,
    "start_time": "2023-01-10T22:16:27.549Z"
   },
   {
    "duration": 15,
    "start_time": "2023-01-10T22:16:29.652Z"
   },
   {
    "duration": 6,
    "start_time": "2023-01-10T22:16:33.766Z"
   },
   {
    "duration": 5,
    "start_time": "2023-01-10T22:16:34.162Z"
   },
   {
    "duration": 4,
    "start_time": "2023-01-10T22:16:37.163Z"
   },
   {
    "duration": 9,
    "start_time": "2023-01-10T22:16:37.424Z"
   },
   {
    "duration": 6,
    "start_time": "2023-01-10T22:16:37.689Z"
   },
   {
    "duration": 18,
    "start_time": "2023-01-10T22:16:39.251Z"
   },
   {
    "duration": 5,
    "start_time": "2023-01-10T22:17:02.744Z"
   },
   {
    "duration": 9,
    "start_time": "2023-01-10T22:17:06.005Z"
   },
   {
    "duration": 10,
    "start_time": "2023-01-10T22:17:07.626Z"
   },
   {
    "duration": 10,
    "start_time": "2023-01-10T22:17:09.050Z"
   },
   {
    "duration": 5,
    "start_time": "2023-01-10T22:17:11.653Z"
   },
   {
    "duration": 6,
    "start_time": "2023-01-10T22:17:11.961Z"
   },
   {
    "duration": 4,
    "start_time": "2023-01-10T22:17:13.848Z"
   },
   {
    "duration": 10,
    "start_time": "2023-01-10T22:17:14.047Z"
   },
   {
    "duration": 6,
    "start_time": "2023-01-10T22:17:14.232Z"
   },
   {
    "duration": 14,
    "start_time": "2023-01-10T22:17:16.329Z"
   },
   {
    "duration": 4,
    "start_time": "2023-01-10T22:17:33.481Z"
   },
   {
    "duration": 6,
    "start_time": "2023-01-10T22:17:33.760Z"
   },
   {
    "duration": 4,
    "start_time": "2023-01-10T22:17:36.771Z"
   },
   {
    "duration": 10,
    "start_time": "2023-01-10T22:17:37.031Z"
   },
   {
    "duration": 6,
    "start_time": "2023-01-10T22:17:37.414Z"
   },
   {
    "duration": 13,
    "start_time": "2023-01-10T22:17:39.192Z"
   },
   {
    "duration": 5,
    "start_time": "2023-01-10T22:17:42.133Z"
   },
   {
    "duration": 6,
    "start_time": "2023-01-10T22:17:42.306Z"
   },
   {
    "duration": 5,
    "start_time": "2023-01-10T22:17:47.060Z"
   },
   {
    "duration": 7,
    "start_time": "2023-01-10T22:17:48.565Z"
   },
   {
    "duration": 5,
    "start_time": "2023-01-10T22:17:49.272Z"
   },
   {
    "duration": 8,
    "start_time": "2023-01-10T22:17:49.490Z"
   },
   {
    "duration": 5,
    "start_time": "2023-01-10T22:17:49.804Z"
   },
   {
    "duration": 24,
    "start_time": "2023-01-10T22:17:51.954Z"
   },
   {
    "duration": 12,
    "start_time": "2023-01-10T22:19:26.328Z"
   },
   {
    "duration": 17,
    "start_time": "2023-01-10T22:19:40.603Z"
   },
   {
    "duration": 17,
    "start_time": "2023-01-10T22:27:40.020Z"
   },
   {
    "duration": 10,
    "start_time": "2023-01-10T22:28:36.874Z"
   },
   {
    "duration": 4,
    "start_time": "2023-01-10T22:49:02.060Z"
   },
   {
    "duration": 1078,
    "start_time": "2023-01-10T22:49:13.595Z"
   },
   {
    "duration": 29,
    "start_time": "2023-01-10T22:49:16.460Z"
   },
   {
    "duration": 17,
    "start_time": "2023-01-10T22:49:16.746Z"
   },
   {
    "duration": 12,
    "start_time": "2023-01-10T22:49:17.013Z"
   },
   {
    "duration": 23,
    "start_time": "2023-01-10T22:49:17.285Z"
   },
   {
    "duration": 307,
    "start_time": "2023-01-10T22:49:17.531Z"
   },
   {
    "duration": 7,
    "start_time": "2023-01-10T22:49:17.840Z"
   },
   {
    "duration": 7,
    "start_time": "2023-01-10T22:49:18.027Z"
   },
   {
    "duration": 5,
    "start_time": "2023-01-10T22:49:18.293Z"
   },
   {
    "duration": 6,
    "start_time": "2023-01-10T22:49:18.587Z"
   },
   {
    "duration": 6,
    "start_time": "2023-01-10T22:49:22.000Z"
   },
   {
    "duration": 7,
    "start_time": "2023-01-10T22:49:22.539Z"
   },
   {
    "duration": 5,
    "start_time": "2023-01-10T22:49:24.654Z"
   },
   {
    "duration": 9,
    "start_time": "2023-01-10T22:49:24.973Z"
   },
   {
    "duration": 5,
    "start_time": "2023-01-10T22:49:25.293Z"
   },
   {
    "duration": 47,
    "start_time": "2023-01-10T22:49:27.736Z"
   },
   {
    "duration": 7,
    "start_time": "2023-01-10T22:49:30.149Z"
   },
   {
    "duration": 7,
    "start_time": "2023-01-10T22:49:30.791Z"
   },
   {
    "duration": 7,
    "start_time": "2023-01-10T23:46:03.369Z"
   },
   {
    "duration": 9,
    "start_time": "2023-01-10T23:46:39.357Z"
   },
   {
    "duration": 3,
    "start_time": "2023-01-10T23:46:42.924Z"
   },
   {
    "duration": 101,
    "start_time": "2023-01-10T23:47:04.684Z"
   },
   {
    "duration": 6,
    "start_time": "2023-01-10T23:48:24.415Z"
   },
   {
    "duration": 11,
    "start_time": "2023-01-10T23:48:26.987Z"
   },
   {
    "duration": 9,
    "start_time": "2023-01-10T23:49:13.599Z"
   },
   {
    "duration": 4,
    "start_time": "2023-01-10T23:49:29.750Z"
   },
   {
    "duration": 5,
    "start_time": "2023-01-10T23:49:33.185Z"
   },
   {
    "duration": 5,
    "start_time": "2023-01-10T23:49:38.867Z"
   },
   {
    "duration": 49,
    "start_time": "2023-01-10T23:50:16.030Z"
   },
   {
    "duration": 6,
    "start_time": "2023-01-10T23:50:24.372Z"
   },
   {
    "duration": 9,
    "start_time": "2023-01-10T23:50:56.387Z"
   },
   {
    "duration": 16,
    "start_time": "2023-01-10T23:51:01.183Z"
   },
   {
    "duration": 5,
    "start_time": "2023-01-10T23:51:15.596Z"
   },
   {
    "duration": 16,
    "start_time": "2023-01-10T23:51:17.892Z"
   },
   {
    "duration": 10,
    "start_time": "2023-01-10T23:53:17.060Z"
   },
   {
    "duration": 7,
    "start_time": "2023-01-10T23:53:25.027Z"
   },
   {
    "duration": 18,
    "start_time": "2023-01-10T23:53:27.591Z"
   },
   {
    "duration": 7,
    "start_time": "2023-01-10T23:56:05.535Z"
   },
   {
    "duration": 4,
    "start_time": "2023-01-10T23:56:19.539Z"
   },
   {
    "duration": 8,
    "start_time": "2023-01-10T23:56:24.379Z"
   },
   {
    "duration": 7,
    "start_time": "2023-01-10T23:56:33.410Z"
   },
   {
    "duration": 8,
    "start_time": "2023-01-10T23:56:41.309Z"
   },
   {
    "duration": 13,
    "start_time": "2023-01-10T23:57:11.295Z"
   },
   {
    "duration": 98,
    "start_time": "2023-01-10T23:57:16.354Z"
   },
   {
    "duration": 17,
    "start_time": "2023-01-10T23:57:50.782Z"
   },
   {
    "duration": 7,
    "start_time": "2023-01-10T23:58:08.617Z"
   },
   {
    "duration": 6,
    "start_time": "2023-01-10T23:59:10.981Z"
   },
   {
    "duration": 6,
    "start_time": "2023-01-10T23:59:16.313Z"
   },
   {
    "duration": 6,
    "start_time": "2023-01-10T23:59:19.148Z"
   },
   {
    "duration": 8,
    "start_time": "2023-01-10T23:59:21.157Z"
   },
   {
    "duration": 7,
    "start_time": "2023-01-11T00:00:15.862Z"
   },
   {
    "duration": 15,
    "start_time": "2023-01-11T00:00:30.911Z"
   },
   {
    "duration": 6,
    "start_time": "2023-01-11T00:01:44.659Z"
   },
   {
    "duration": 23,
    "start_time": "2023-01-11T00:01:49.926Z"
   },
   {
    "duration": 9,
    "start_time": "2023-01-11T00:02:05.652Z"
   },
   {
    "duration": 16,
    "start_time": "2023-01-11T00:02:05.913Z"
   },
   {
    "duration": 13,
    "start_time": "2023-01-11T00:02:57.993Z"
   },
   {
    "duration": 15,
    "start_time": "2023-01-11T00:03:12.710Z"
   },
   {
    "duration": 107,
    "start_time": "2023-01-11T00:03:36.947Z"
   },
   {
    "duration": 17,
    "start_time": "2023-01-11T00:03:42.123Z"
   },
   {
    "duration": 121,
    "start_time": "2023-01-11T00:04:02.910Z"
   },
   {
    "duration": 627,
    "start_time": "2023-01-11T00:04:47.573Z"
   },
   {
    "duration": 97,
    "start_time": "2023-01-11T00:05:36.137Z"
   },
   {
    "duration": 12,
    "start_time": "2023-01-11T00:05:50.049Z"
   },
   {
    "duration": 11,
    "start_time": "2023-01-11T00:05:52.307Z"
   },
   {
    "duration": 12,
    "start_time": "2023-01-11T00:05:56.438Z"
   },
   {
    "duration": 10,
    "start_time": "2023-01-11T00:06:57.283Z"
   },
   {
    "duration": 26,
    "start_time": "2023-01-11T00:08:40.958Z"
   },
   {
    "duration": 3,
    "start_time": "2023-01-11T00:10:47.512Z"
   },
   {
    "duration": 12,
    "start_time": "2023-01-11T00:10:51.390Z"
   },
   {
    "duration": 13,
    "start_time": "2023-01-11T00:11:20.172Z"
   },
   {
    "duration": 20,
    "start_time": "2023-01-11T00:11:58.820Z"
   },
   {
    "duration": 17,
    "start_time": "2023-01-11T00:12:04.075Z"
   },
   {
    "duration": 12,
    "start_time": "2023-01-11T00:12:07.299Z"
   },
   {
    "duration": 14,
    "start_time": "2023-01-11T00:12:10.739Z"
   },
   {
    "duration": 12,
    "start_time": "2023-01-11T00:12:11.664Z"
   },
   {
    "duration": 12,
    "start_time": "2023-01-11T00:12:14.873Z"
   },
   {
    "duration": 12,
    "start_time": "2023-01-11T00:12:20.640Z"
   },
   {
    "duration": 21,
    "start_time": "2023-01-11T00:12:23.913Z"
   },
   {
    "duration": 5,
    "start_time": "2023-01-11T00:12:31.014Z"
   },
   {
    "duration": 12,
    "start_time": "2023-01-11T00:12:35.543Z"
   },
   {
    "duration": 13,
    "start_time": "2023-01-11T00:12:38.742Z"
   },
   {
    "duration": 13,
    "start_time": "2023-01-11T00:12:39.432Z"
   },
   {
    "duration": 8,
    "start_time": "2023-01-11T00:12:54.211Z"
   },
   {
    "duration": 13,
    "start_time": "2023-01-11T00:12:57.613Z"
   },
   {
    "duration": 19,
    "start_time": "2023-01-11T00:13:08.698Z"
   },
   {
    "duration": 103,
    "start_time": "2023-01-11T00:14:15.733Z"
   },
   {
    "duration": 86,
    "start_time": "2023-01-11T00:14:20.098Z"
   },
   {
    "duration": 25,
    "start_time": "2023-01-11T00:14:23.881Z"
   },
   {
    "duration": 14,
    "start_time": "2023-01-11T00:14:39.060Z"
   },
   {
    "duration": 96,
    "start_time": "2023-01-11T00:14:43.812Z"
   },
   {
    "duration": 14,
    "start_time": "2023-01-11T00:15:02.749Z"
   },
   {
    "duration": 15,
    "start_time": "2023-01-11T00:15:08.030Z"
   },
   {
    "duration": 17,
    "start_time": "2023-01-11T00:15:10.217Z"
   },
   {
    "duration": 4,
    "start_time": "2023-01-11T00:15:13.758Z"
   },
   {
    "duration": 17,
    "start_time": "2023-01-11T00:15:19.583Z"
   },
   {
    "duration": 17,
    "start_time": "2023-01-11T00:15:21.675Z"
   },
   {
    "duration": 89,
    "start_time": "2023-01-11T00:15:34.206Z"
   },
   {
    "duration": 89,
    "start_time": "2023-01-11T00:15:40.461Z"
   },
   {
    "duration": 14,
    "start_time": "2023-01-11T00:15:48.976Z"
   },
   {
    "duration": 6,
    "start_time": "2023-01-11T00:15:51.744Z"
   },
   {
    "duration": 17,
    "start_time": "2023-01-11T00:15:54.683Z"
   },
   {
    "duration": 149,
    "start_time": "2023-01-11T00:16:56.429Z"
   },
   {
    "duration": 22,
    "start_time": "2023-01-11T00:16:59.301Z"
   },
   {
    "duration": 110,
    "start_time": "2023-01-11T00:17:03.279Z"
   },
   {
    "duration": 19,
    "start_time": "2023-01-11T00:17:05.773Z"
   },
   {
    "duration": 386,
    "start_time": "2023-01-11T00:17:08.803Z"
   },
   {
    "duration": 11,
    "start_time": "2023-01-11T00:17:13.204Z"
   },
   {
    "duration": 7,
    "start_time": "2023-01-11T00:17:19.777Z"
   },
   {
    "duration": 23,
    "start_time": "2023-01-11T00:17:21.944Z"
   },
   {
    "duration": 85,
    "start_time": "2023-01-11T00:17:28.461Z"
   },
   {
    "duration": 317,
    "start_time": "2023-01-11T00:17:34.163Z"
   },
   {
    "duration": 6,
    "start_time": "2023-01-11T00:17:37.590Z"
   },
   {
    "duration": 14,
    "start_time": "2023-01-11T00:18:15.737Z"
   },
   {
    "duration": 105,
    "start_time": "2023-01-11T00:18:19.533Z"
   },
   {
    "duration": 103,
    "start_time": "2023-01-11T00:18:24.841Z"
   },
   {
    "duration": 88,
    "start_time": "2023-01-11T00:18:29.297Z"
   },
   {
    "duration": 16,
    "start_time": "2023-01-11T00:18:33.637Z"
   },
   {
    "duration": 13,
    "start_time": "2023-01-11T00:18:39.533Z"
   },
   {
    "duration": 15,
    "start_time": "2023-01-11T00:18:42.196Z"
   },
   {
    "duration": 6,
    "start_time": "2023-01-11T00:18:49.745Z"
   },
   {
    "duration": 4,
    "start_time": "2023-01-11T00:21:46.965Z"
   },
   {
    "duration": 93,
    "start_time": "2023-01-11T00:22:14.503Z"
   },
   {
    "duration": 6,
    "start_time": "2023-01-11T00:23:52.357Z"
   },
   {
    "duration": 4,
    "start_time": "2023-01-11T00:23:59.719Z"
   },
   {
    "duration": 15,
    "start_time": "2023-01-11T00:24:02.292Z"
   },
   {
    "duration": 81,
    "start_time": "2023-01-11T00:24:15.996Z"
   },
   {
    "duration": 119,
    "start_time": "2023-01-11T00:24:35.777Z"
   },
   {
    "duration": 84,
    "start_time": "2023-01-11T00:24:41.594Z"
   },
   {
    "duration": 6,
    "start_time": "2023-01-11T00:24:49.729Z"
   },
   {
    "duration": 16,
    "start_time": "2023-01-11T00:24:52.557Z"
   },
   {
    "duration": 10,
    "start_time": "2023-01-11T00:29:44.166Z"
   },
   {
    "duration": 6,
    "start_time": "2023-01-11T00:29:49.699Z"
   },
   {
    "duration": 10,
    "start_time": "2023-01-11T00:29:59.884Z"
   },
   {
    "duration": 13,
    "start_time": "2023-01-11T00:30:17.558Z"
   },
   {
    "duration": 5,
    "start_time": "2023-01-11T00:30:26.463Z"
   },
   {
    "duration": 5,
    "start_time": "2023-01-11T00:30:28.770Z"
   },
   {
    "duration": 5,
    "start_time": "2023-01-11T00:30:32.660Z"
   },
   {
    "duration": 5,
    "start_time": "2023-01-11T00:30:32.909Z"
   },
   {
    "duration": 6,
    "start_time": "2023-01-11T00:30:35.490Z"
   },
   {
    "duration": 9,
    "start_time": "2023-01-11T00:30:35.954Z"
   },
   {
    "duration": 5,
    "start_time": "2023-01-11T00:30:36.550Z"
   },
   {
    "duration": 20,
    "start_time": "2023-01-11T00:30:39.073Z"
   },
   {
    "duration": 5,
    "start_time": "2023-01-11T00:30:43.560Z"
   },
   {
    "duration": 1106,
    "start_time": "2023-01-11T00:30:55.066Z"
   },
   {
    "duration": 33,
    "start_time": "2023-01-11T00:30:56.174Z"
   },
   {
    "duration": 22,
    "start_time": "2023-01-11T00:30:56.209Z"
   },
   {
    "duration": 12,
    "start_time": "2023-01-11T00:30:56.234Z"
   },
   {
    "duration": 35,
    "start_time": "2023-01-11T00:30:56.249Z"
   },
   {
    "duration": 378,
    "start_time": "2023-01-11T00:30:56.285Z"
   },
   {
    "duration": 16,
    "start_time": "2023-01-11T00:30:56.665Z"
   },
   {
    "duration": 8,
    "start_time": "2023-01-11T00:30:56.683Z"
   },
   {
    "duration": 7,
    "start_time": "2023-01-11T00:30:56.693Z"
   },
   {
    "duration": 9,
    "start_time": "2023-01-11T00:30:56.702Z"
   },
   {
    "duration": 6,
    "start_time": "2023-01-11T00:31:01.492Z"
   },
   {
    "duration": 6,
    "start_time": "2023-01-11T00:31:02.662Z"
   },
   {
    "duration": 8,
    "start_time": "2023-01-11T00:31:04.910Z"
   },
   {
    "duration": 7,
    "start_time": "2023-01-11T00:31:05.288Z"
   },
   {
    "duration": 7,
    "start_time": "2023-01-11T00:31:05.820Z"
   },
   {
    "duration": 40,
    "start_time": "2023-01-11T00:31:08.851Z"
   },
   {
    "duration": 10,
    "start_time": "2023-01-11T00:31:12.262Z"
   },
   {
    "duration": 10,
    "start_time": "2023-01-11T00:31:14.193Z"
   },
   {
    "duration": 6,
    "start_time": "2023-01-11T00:31:34.325Z"
   },
   {
    "duration": 4,
    "start_time": "2023-01-11T00:39:16.134Z"
   },
   {
    "duration": 4,
    "start_time": "2023-01-11T00:39:18.415Z"
   },
   {
    "duration": 5,
    "start_time": "2023-01-11T00:39:28.513Z"
   },
   {
    "duration": 4,
    "start_time": "2023-01-11T00:39:35.969Z"
   },
   {
    "duration": 5,
    "start_time": "2023-01-11T00:39:41.305Z"
   },
   {
    "duration": 5,
    "start_time": "2023-01-11T00:39:49.627Z"
   },
   {
    "duration": 6,
    "start_time": "2023-01-11T00:39:51.400Z"
   },
   {
    "duration": 6,
    "start_time": "2023-01-11T00:39:53.664Z"
   },
   {
    "duration": 4,
    "start_time": "2023-01-11T00:39:56.263Z"
   },
   {
    "duration": 6,
    "start_time": "2023-01-11T00:40:00.563Z"
   },
   {
    "duration": 4,
    "start_time": "2023-01-11T00:40:03.099Z"
   },
   {
    "duration": 5,
    "start_time": "2023-01-11T00:40:14.617Z"
   },
   {
    "duration": 190,
    "start_time": "2023-01-11T00:40:38.170Z"
   },
   {
    "duration": 95,
    "start_time": "2023-01-11T00:40:47.814Z"
   },
   {
    "duration": 139,
    "start_time": "2023-01-11T00:40:54.976Z"
   },
   {
    "duration": 93,
    "start_time": "2023-01-11T00:41:05.234Z"
   },
   {
    "duration": 5,
    "start_time": "2023-01-11T00:41:10.806Z"
   },
   {
    "duration": 97,
    "start_time": "2023-01-11T00:41:14.216Z"
   },
   {
    "duration": 5,
    "start_time": "2023-01-11T00:41:16.751Z"
   },
   {
    "duration": 95,
    "start_time": "2023-01-11T00:41:17.542Z"
   },
   {
    "duration": 5,
    "start_time": "2023-01-11T00:41:20.365Z"
   },
   {
    "duration": 100,
    "start_time": "2023-01-11T00:41:20.639Z"
   },
   {
    "duration": 112,
    "start_time": "2023-01-11T00:41:24.998Z"
   },
   {
    "duration": 10,
    "start_time": "2023-01-11T00:41:59.468Z"
   },
   {
    "duration": 10,
    "start_time": "2023-01-11T00:42:11.100Z"
   },
   {
    "duration": 10,
    "start_time": "2023-01-11T00:42:14.534Z"
   },
   {
    "duration": 4,
    "start_time": "2023-01-11T00:42:24.345Z"
   },
   {
    "duration": 5,
    "start_time": "2023-01-11T00:42:27.799Z"
   },
   {
    "duration": 5,
    "start_time": "2023-01-11T00:42:35.436Z"
   },
   {
    "duration": 4,
    "start_time": "2023-01-11T00:42:57.266Z"
   },
   {
    "duration": 6,
    "start_time": "2023-01-11T00:42:57.920Z"
   },
   {
    "duration": 6,
    "start_time": "2023-01-11T00:42:58.398Z"
   },
   {
    "duration": 4,
    "start_time": "2023-01-11T00:43:00.819Z"
   },
   {
    "duration": 5,
    "start_time": "2023-01-11T00:43:13.519Z"
   },
   {
    "duration": 5,
    "start_time": "2023-01-11T00:43:22.342Z"
   },
   {
    "duration": 93,
    "start_time": "2023-01-11T00:43:26.381Z"
   },
   {
    "duration": 142,
    "start_time": "2023-01-11T00:43:32.362Z"
   },
   {
    "duration": 5,
    "start_time": "2023-01-11T00:43:42.288Z"
   },
   {
    "duration": 93,
    "start_time": "2023-01-11T00:43:46.498Z"
   },
   {
    "duration": 5,
    "start_time": "2023-01-11T00:43:48.269Z"
   },
   {
    "duration": 3,
    "start_time": "2023-01-11T00:44:56.569Z"
   },
   {
    "duration": 102,
    "start_time": "2023-01-11T00:45:10.109Z"
   },
   {
    "duration": 75,
    "start_time": "2023-01-11T00:45:23.906Z"
   },
   {
    "duration": 12,
    "start_time": "2023-01-11T00:45:24.796Z"
   },
   {
    "duration": 14,
    "start_time": "2023-01-11T00:45:28.304Z"
   },
   {
    "duration": 4,
    "start_time": "2023-01-11T00:45:31.209Z"
   },
   {
    "duration": 89,
    "start_time": "2023-01-11T00:45:33.199Z"
   },
   {
    "duration": 6,
    "start_time": "2023-01-11T00:45:36.500Z"
   },
   {
    "duration": 9,
    "start_time": "2023-01-11T00:45:36.929Z"
   },
   {
    "duration": 9,
    "start_time": "2023-01-11T00:45:38.575Z"
   },
   {
    "duration": 54,
    "start_time": "2023-01-11T00:45:41.233Z"
   },
   {
    "duration": 8,
    "start_time": "2023-01-11T00:45:43.701Z"
   },
   {
    "duration": 9,
    "start_time": "2023-01-11T00:45:44.030Z"
   },
   {
    "duration": 13,
    "start_time": "2023-01-11T00:45:49.043Z"
   },
   {
    "duration": 5,
    "start_time": "2023-01-11T00:46:01.779Z"
   },
   {
    "duration": 9,
    "start_time": "2023-01-11T00:46:02.267Z"
   },
   {
    "duration": 5,
    "start_time": "2023-01-11T00:46:09.920Z"
   },
   {
    "duration": 9,
    "start_time": "2023-01-11T00:46:10.899Z"
   },
   {
    "duration": 4,
    "start_time": "2023-01-11T00:46:11.264Z"
   },
   {
    "duration": 13,
    "start_time": "2023-01-11T00:46:15.973Z"
   },
   {
    "duration": 3,
    "start_time": "2023-01-11T00:46:20.110Z"
   },
   {
    "duration": 40,
    "start_time": "2023-01-11T00:46:20.115Z"
   },
   {
    "duration": 9,
    "start_time": "2023-01-11T00:46:20.157Z"
   },
   {
    "duration": 34,
    "start_time": "2023-01-11T00:46:20.168Z"
   },
   {
    "duration": 37,
    "start_time": "2023-01-11T00:46:20.204Z"
   },
   {
    "duration": 11,
    "start_time": "2023-01-11T00:46:20.243Z"
   },
   {
    "duration": 18,
    "start_time": "2023-01-11T00:46:20.255Z"
   },
   {
    "duration": 55,
    "start_time": "2023-01-11T00:46:20.275Z"
   },
   {
    "duration": 37,
    "start_time": "2023-01-11T00:46:20.332Z"
   },
   {
    "duration": 26,
    "start_time": "2023-01-11T00:46:20.372Z"
   },
   {
    "duration": 17,
    "start_time": "2023-01-11T00:46:20.401Z"
   },
   {
    "duration": 12,
    "start_time": "2023-01-11T00:46:20.420Z"
   },
   {
    "duration": 44,
    "start_time": "2023-01-11T00:46:20.434Z"
   },
   {
    "duration": 10,
    "start_time": "2023-01-11T00:46:20.480Z"
   },
   {
    "duration": 90,
    "start_time": "2023-01-11T00:46:20.492Z"
   },
   {
    "duration": 194,
    "start_time": "2023-01-11T00:46:20.584Z"
   },
   {
    "duration": 20,
    "start_time": "2023-01-11T00:46:20.781Z"
   },
   {
    "duration": 196,
    "start_time": "2023-01-11T00:46:20.803Z"
   },
   {
    "duration": 6,
    "start_time": "2023-01-11T00:46:24.423Z"
   },
   {
    "duration": 12,
    "start_time": "2023-01-11T00:46:24.996Z"
   },
   {
    "duration": 11,
    "start_time": "2023-01-11T00:46:26.070Z"
   },
   {
    "duration": 5,
    "start_time": "2023-01-11T00:46:33.335Z"
   },
   {
    "duration": 5,
    "start_time": "2023-01-11T00:46:49.628Z"
   },
   {
    "duration": 16,
    "start_time": "2023-01-11T00:46:52.876Z"
   },
   {
    "duration": 8,
    "start_time": "2023-01-11T00:46:58.977Z"
   },
   {
    "duration": 7,
    "start_time": "2023-01-11T00:47:02.028Z"
   },
   {
    "duration": 5,
    "start_time": "2023-01-11T00:47:02.460Z"
   },
   {
    "duration": 10,
    "start_time": "2023-01-11T00:47:05.946Z"
   },
   {
    "duration": 2,
    "start_time": "2023-01-11T00:47:12.839Z"
   },
   {
    "duration": 6,
    "start_time": "2023-01-11T00:47:15.996Z"
   },
   {
    "duration": 11,
    "start_time": "2023-01-11T00:49:46.773Z"
   },
   {
    "duration": 6,
    "start_time": "2023-01-11T00:49:49.405Z"
   },
   {
    "duration": 1123,
    "start_time": "2023-01-11T00:50:04.668Z"
   },
   {
    "duration": 35,
    "start_time": "2023-01-11T00:50:05.793Z"
   },
   {
    "duration": 18,
    "start_time": "2023-01-11T00:50:05.831Z"
   },
   {
    "duration": 14,
    "start_time": "2023-01-11T00:50:05.852Z"
   },
   {
    "duration": 36,
    "start_time": "2023-01-11T00:50:05.868Z"
   },
   {
    "duration": 330,
    "start_time": "2023-01-11T00:50:05.907Z"
   },
   {
    "duration": 11,
    "start_time": "2023-01-11T00:50:06.240Z"
   },
   {
    "duration": 25,
    "start_time": "2023-01-11T00:50:06.253Z"
   },
   {
    "duration": 7,
    "start_time": "2023-01-11T00:50:06.281Z"
   },
   {
    "duration": 23,
    "start_time": "2023-01-11T00:50:06.291Z"
   },
   {
    "duration": 20,
    "start_time": "2023-01-11T00:50:06.316Z"
   },
   {
    "duration": 10,
    "start_time": "2023-01-11T00:50:06.338Z"
   },
   {
    "duration": 30,
    "start_time": "2023-01-11T00:50:06.377Z"
   },
   {
    "duration": 80,
    "start_time": "2023-01-11T00:50:06.409Z"
   },
   {
    "duration": 16,
    "start_time": "2023-01-11T00:50:06.491Z"
   },
   {
    "duration": 11,
    "start_time": "2023-01-11T00:50:06.509Z"
   },
   {
    "duration": 181,
    "start_time": "2023-01-11T00:50:06.524Z"
   },
   {
    "duration": 9,
    "start_time": "2023-01-11T00:50:08.793Z"
   },
   {
    "duration": 5,
    "start_time": "2023-01-11T00:50:18.799Z"
   },
   {
    "duration": 68,
    "start_time": "2023-01-11T00:50:18.805Z"
   },
   {
    "duration": 16,
    "start_time": "2023-01-11T00:50:18.875Z"
   },
   {
    "duration": 21,
    "start_time": "2023-01-11T00:50:18.893Z"
   },
   {
    "duration": 51,
    "start_time": "2023-01-11T00:50:18.916Z"
   },
   {
    "duration": 21,
    "start_time": "2023-01-11T00:50:18.969Z"
   },
   {
    "duration": 20,
    "start_time": "2023-01-11T00:50:18.996Z"
   },
   {
    "duration": 31,
    "start_time": "2023-01-11T00:50:19.018Z"
   },
   {
    "duration": 10,
    "start_time": "2023-01-11T00:50:19.051Z"
   },
   {
    "duration": 24,
    "start_time": "2023-01-11T00:50:19.063Z"
   },
   {
    "duration": 30,
    "start_time": "2023-01-11T00:50:19.089Z"
   },
   {
    "duration": 24,
    "start_time": "2023-01-11T00:50:19.121Z"
   },
   {
    "duration": 62,
    "start_time": "2023-01-11T00:50:19.146Z"
   },
   {
    "duration": 3,
    "start_time": "2023-01-11T00:50:23.442Z"
   },
   {
    "duration": 8,
    "start_time": "2023-01-11T00:50:23.647Z"
   },
   {
    "duration": 5,
    "start_time": "2023-01-11T00:50:23.861Z"
   },
   {
    "duration": 19,
    "start_time": "2023-01-11T00:50:26.205Z"
   },
   {
    "duration": 10,
    "start_time": "2023-01-11T00:50:28.610Z"
   },
   {
    "duration": 10,
    "start_time": "2023-01-11T00:50:29.095Z"
   },
   {
    "duration": 1131,
    "start_time": "2023-01-11T19:36:27.774Z"
   },
   {
    "duration": 74,
    "start_time": "2023-01-11T19:36:29.478Z"
   },
   {
    "duration": 22,
    "start_time": "2023-01-11T19:36:29.911Z"
   },
   {
    "duration": 16,
    "start_time": "2023-01-11T19:36:30.368Z"
   },
   {
    "duration": 32,
    "start_time": "2023-01-11T19:36:30.606Z"
   },
   {
    "duration": 528,
    "start_time": "2023-01-11T19:36:30.782Z"
   },
   {
    "duration": 8,
    "start_time": "2023-01-11T19:36:31.312Z"
   },
   {
    "duration": 34,
    "start_time": "2023-01-11T19:36:31.322Z"
   },
   {
    "duration": 49,
    "start_time": "2023-01-11T19:36:31.359Z"
   },
   {
    "duration": 9,
    "start_time": "2023-01-11T19:36:31.722Z"
   },
   {
    "duration": 4,
    "start_time": "2023-01-11T19:36:34.399Z"
   },
   {
    "duration": 10,
    "start_time": "2023-01-11T19:36:34.598Z"
   },
   {
    "duration": 7,
    "start_time": "2023-01-11T19:36:34.977Z"
   },
   {
    "duration": 8,
    "start_time": "2023-01-11T19:36:35.441Z"
   },
   {
    "duration": 5,
    "start_time": "2023-01-11T19:36:35.670Z"
   },
   {
    "duration": 11,
    "start_time": "2023-01-11T19:36:37.939Z"
   },
   {
    "duration": 193,
    "start_time": "2023-01-11T19:36:38.806Z"
   },
   {
    "duration": 8,
    "start_time": "2023-01-11T19:36:39.600Z"
   },
   {
    "duration": 6,
    "start_time": "2023-01-11T19:37:59.013Z"
   },
   {
    "duration": 8,
    "start_time": "2023-01-11T19:37:59.385Z"
   },
   {
    "duration": 5,
    "start_time": "2023-01-11T19:37:59.738Z"
   },
   {
    "duration": 16,
    "start_time": "2023-01-11T19:38:01.767Z"
   },
   {
    "duration": 10,
    "start_time": "2023-01-11T19:38:03.878Z"
   },
   {
    "duration": 10,
    "start_time": "2023-01-11T19:38:04.142Z"
   },
   {
    "duration": 9,
    "start_time": "2023-01-11T19:38:43.860Z"
   },
   {
    "duration": 5,
    "start_time": "2023-01-11T19:39:03.819Z"
   },
   {
    "duration": 5,
    "start_time": "2023-01-11T19:39:12.782Z"
   },
   {
    "duration": 10,
    "start_time": "2023-01-11T19:39:15.585Z"
   },
   {
    "duration": 5,
    "start_time": "2023-01-11T19:41:28.232Z"
   },
   {
    "duration": 119,
    "start_time": "2023-01-11T19:42:04.849Z"
   },
   {
    "duration": 13,
    "start_time": "2023-01-11T19:42:32.491Z"
   },
   {
    "duration": 13,
    "start_time": "2023-01-11T19:42:44.910Z"
   },
   {
    "duration": 13,
    "start_time": "2023-01-11T19:42:46.695Z"
   },
   {
    "duration": 6,
    "start_time": "2023-01-11T19:42:51.081Z"
   },
   {
    "duration": 10,
    "start_time": "2023-01-11T19:42:51.480Z"
   },
   {
    "duration": 6,
    "start_time": "2023-01-11T19:42:51.829Z"
   },
   {
    "duration": 9,
    "start_time": "2023-01-11T19:42:58.055Z"
   },
   {
    "duration": 13,
    "start_time": "2023-01-11T19:43:34.777Z"
   },
   {
    "duration": 5,
    "start_time": "2023-01-11T19:43:38.842Z"
   },
   {
    "duration": 6,
    "start_time": "2023-01-11T19:43:41.983Z"
   },
   {
    "duration": 13,
    "start_time": "2023-01-11T19:43:43.385Z"
   },
   {
    "duration": 12,
    "start_time": "2023-01-11T19:43:50.491Z"
   },
   {
    "duration": 12,
    "start_time": "2023-01-11T19:43:53.929Z"
   },
   {
    "duration": 7,
    "start_time": "2023-01-11T19:43:59.805Z"
   },
   {
    "duration": 9,
    "start_time": "2023-01-11T19:44:00.194Z"
   },
   {
    "duration": 6,
    "start_time": "2023-01-11T19:44:00.432Z"
   },
   {
    "duration": 6,
    "start_time": "2023-01-11T19:44:02.899Z"
   },
   {
    "duration": 10,
    "start_time": "2023-01-11T19:44:04.842Z"
   },
   {
    "duration": 4,
    "start_time": "2023-01-11T19:44:14.376Z"
   },
   {
    "duration": 7,
    "start_time": "2023-01-11T19:44:17.317Z"
   },
   {
    "duration": 9,
    "start_time": "2023-01-11T19:44:19.816Z"
   },
   {
    "duration": 12,
    "start_time": "2023-01-11T19:44:21.934Z"
   },
   {
    "duration": 4,
    "start_time": "2023-01-11T19:44:33.457Z"
   },
   {
    "duration": 37,
    "start_time": "2023-01-11T19:44:33.464Z"
   },
   {
    "duration": 10,
    "start_time": "2023-01-11T19:44:33.504Z"
   },
   {
    "duration": 18,
    "start_time": "2023-01-11T19:44:33.516Z"
   },
   {
    "duration": 35,
    "start_time": "2023-01-11T19:44:33.536Z"
   },
   {
    "duration": 34,
    "start_time": "2023-01-11T19:44:33.573Z"
   },
   {
    "duration": 9,
    "start_time": "2023-01-11T19:44:33.609Z"
   },
   {
    "duration": 6,
    "start_time": "2023-01-11T19:44:33.620Z"
   },
   {
    "duration": 10,
    "start_time": "2023-01-11T19:44:33.629Z"
   },
   {
    "duration": 9,
    "start_time": "2023-01-11T19:44:33.642Z"
   },
   {
    "duration": 5,
    "start_time": "2023-01-11T19:44:33.654Z"
   },
   {
    "duration": 45,
    "start_time": "2023-01-11T19:44:33.661Z"
   },
   {
    "duration": 9,
    "start_time": "2023-01-11T19:44:33.708Z"
   },
   {
    "duration": 89,
    "start_time": "2023-01-11T19:44:33.721Z"
   },
   {
    "duration": 6,
    "start_time": "2023-01-11T19:44:38.785Z"
   },
   {
    "duration": 9,
    "start_time": "2023-01-11T19:44:42.396Z"
   },
   {
    "duration": 12,
    "start_time": "2023-01-11T19:44:44.684Z"
   },
   {
    "duration": 5,
    "start_time": "2023-01-11T19:44:54.405Z"
   },
   {
    "duration": 5,
    "start_time": "2023-01-11T19:44:57.882Z"
   },
   {
    "duration": 14,
    "start_time": "2023-01-11T19:45:01.119Z"
   },
   {
    "duration": 16,
    "start_time": "2023-01-11T19:45:27.499Z"
   },
   {
    "duration": 18,
    "start_time": "2023-01-11T19:45:33.802Z"
   },
   {
    "duration": 19,
    "start_time": "2023-01-11T19:45:52.498Z"
   },
   {
    "duration": 13,
    "start_time": "2023-01-11T19:47:15.593Z"
   },
   {
    "duration": 15,
    "start_time": "2023-01-11T19:47:27.503Z"
   },
   {
    "duration": 16,
    "start_time": "2023-01-11T19:50:47.445Z"
   },
   {
    "duration": 5,
    "start_time": "2023-01-11T19:51:53.130Z"
   },
   {
    "duration": 6,
    "start_time": "2023-01-11T19:51:57.539Z"
   },
   {
    "duration": 19,
    "start_time": "2023-01-11T19:52:02.102Z"
   },
   {
    "duration": 11,
    "start_time": "2023-01-11T19:52:28.987Z"
   },
   {
    "duration": 4,
    "start_time": "2023-01-11T19:52:35.567Z"
   },
   {
    "duration": 10,
    "start_time": "2023-01-11T19:52:37.092Z"
   },
   {
    "duration": 6,
    "start_time": "2023-01-11T19:52:37.455Z"
   },
   {
    "duration": 13,
    "start_time": "2023-01-11T19:52:43.927Z"
   },
   {
    "duration": 10,
    "start_time": "2023-01-11T19:52:51.058Z"
   },
   {
    "duration": 5,
    "start_time": "2023-01-11T19:52:57.687Z"
   },
   {
    "duration": 9,
    "start_time": "2023-01-11T19:52:57.983Z"
   },
   {
    "duration": 6,
    "start_time": "2023-01-11T19:52:58.244Z"
   },
   {
    "duration": 6,
    "start_time": "2023-01-11T19:52:58.529Z"
   },
   {
    "duration": 12,
    "start_time": "2023-01-11T19:52:59.050Z"
   },
   {
    "duration": 4,
    "start_time": "2023-01-11T19:53:09.428Z"
   },
   {
    "duration": 41,
    "start_time": "2023-01-11T19:53:09.435Z"
   },
   {
    "duration": 11,
    "start_time": "2023-01-11T19:53:09.478Z"
   },
   {
    "duration": 25,
    "start_time": "2023-01-11T19:53:09.491Z"
   },
   {
    "duration": 27,
    "start_time": "2023-01-11T19:53:09.518Z"
   },
   {
    "duration": 15,
    "start_time": "2023-01-11T19:53:09.547Z"
   },
   {
    "duration": 34,
    "start_time": "2023-01-11T19:53:09.565Z"
   },
   {
    "duration": 7,
    "start_time": "2023-01-11T19:53:09.601Z"
   },
   {
    "duration": 8,
    "start_time": "2023-01-11T19:53:09.612Z"
   },
   {
    "duration": 9,
    "start_time": "2023-01-11T19:53:09.623Z"
   },
   {
    "duration": 18,
    "start_time": "2023-01-11T19:53:09.635Z"
   },
   {
    "duration": 49,
    "start_time": "2023-01-11T19:53:09.657Z"
   },
   {
    "duration": 87,
    "start_time": "2023-01-11T19:53:09.709Z"
   },
   {
    "duration": 9,
    "start_time": "2023-01-11T19:53:09.798Z"
   },
   {
    "duration": 11,
    "start_time": "2023-01-11T19:53:09.809Z"
   },
   {
    "duration": 6,
    "start_time": "2023-01-11T19:53:09.822Z"
   },
   {
    "duration": 76,
    "start_time": "2023-01-11T19:53:09.829Z"
   },
   {
    "duration": 1050,
    "start_time": "2023-01-11T19:53:23.920Z"
   },
   {
    "duration": 35,
    "start_time": "2023-01-11T19:53:24.973Z"
   },
   {
    "duration": 27,
    "start_time": "2023-01-11T19:53:25.011Z"
   },
   {
    "duration": 18,
    "start_time": "2023-01-11T19:53:25.041Z"
   },
   {
    "duration": 46,
    "start_time": "2023-01-11T19:53:25.061Z"
   },
   {
    "duration": 323,
    "start_time": "2023-01-11T19:53:25.109Z"
   },
   {
    "duration": 9,
    "start_time": "2023-01-11T19:53:25.434Z"
   },
   {
    "duration": 7,
    "start_time": "2023-01-11T19:53:25.445Z"
   },
   {
    "duration": 6,
    "start_time": "2023-01-11T19:53:25.454Z"
   },
   {
    "duration": 36,
    "start_time": "2023-01-11T19:53:25.463Z"
   },
   {
    "duration": 7,
    "start_time": "2023-01-11T19:53:25.501Z"
   },
   {
    "duration": 8,
    "start_time": "2023-01-11T19:53:25.510Z"
   },
   {
    "duration": 78,
    "start_time": "2023-01-11T19:53:25.519Z"
   },
   {
    "duration": 13,
    "start_time": "2023-01-11T19:53:25.600Z"
   },
   {
    "duration": 83,
    "start_time": "2023-01-11T19:53:25.615Z"
   },
   {
    "duration": 8,
    "start_time": "2023-01-11T19:53:25.700Z"
   },
   {
    "duration": 137,
    "start_time": "2023-01-11T19:53:28.530Z"
   },
   {
    "duration": 170,
    "start_time": "2023-01-11T19:53:34.742Z"
   },
   {
    "duration": 15,
    "start_time": "2023-01-11T19:53:35.862Z"
   },
   {
    "duration": 9,
    "start_time": "2023-01-11T19:53:36.542Z"
   },
   {
    "duration": 15,
    "start_time": "2023-01-11T19:53:39.864Z"
   },
   {
    "duration": 5,
    "start_time": "2023-01-11T19:53:43.265Z"
   },
   {
    "duration": 16,
    "start_time": "2023-01-11T19:53:45.754Z"
   },
   {
    "duration": 10,
    "start_time": "2023-01-11T19:53:52.396Z"
   },
   {
    "duration": 12,
    "start_time": "2023-01-11T19:53:54.656Z"
   },
   {
    "duration": 5,
    "start_time": "2023-01-11T19:53:59.527Z"
   },
   {
    "duration": 12,
    "start_time": "2023-01-11T19:54:02.330Z"
   },
   {
    "duration": 16,
    "start_time": "2023-01-11T19:54:18.967Z"
   },
   {
    "duration": 12,
    "start_time": "2023-01-11T19:54:26.042Z"
   },
   {
    "duration": 5,
    "start_time": "2023-01-11T19:54:38.880Z"
   },
   {
    "duration": 12,
    "start_time": "2023-01-11T19:54:40.693Z"
   },
   {
    "duration": 41,
    "start_time": "2023-01-11T19:54:43.869Z"
   },
   {
    "duration": 17,
    "start_time": "2023-01-11T19:54:48.556Z"
   },
   {
    "duration": 5,
    "start_time": "2023-01-11T19:57:15.008Z"
   },
   {
    "duration": 12,
    "start_time": "2023-01-11T19:57:19.938Z"
   },
   {
    "duration": 21,
    "start_time": "2023-01-11T19:57:26.515Z"
   },
   {
    "duration": 25,
    "start_time": "2023-01-11T19:57:45.971Z"
   },
   {
    "duration": 16,
    "start_time": "2023-01-11T19:57:54.289Z"
   },
   {
    "duration": 17,
    "start_time": "2023-01-11T19:58:18.665Z"
   },
   {
    "duration": 8,
    "start_time": "2023-01-11T19:58:26.054Z"
   },
   {
    "duration": 11,
    "start_time": "2023-01-11T19:58:31.856Z"
   },
   {
    "duration": 13,
    "start_time": "2023-01-11T19:58:34.522Z"
   },
   {
    "duration": 6,
    "start_time": "2023-01-11T19:58:51.861Z"
   },
   {
    "duration": 7,
    "start_time": "2023-01-11T19:58:57.625Z"
   },
   {
    "duration": 6,
    "start_time": "2023-01-11T19:59:05.868Z"
   },
   {
    "duration": 10,
    "start_time": "2023-01-11T19:59:13.319Z"
   },
   {
    "duration": 9,
    "start_time": "2023-01-11T19:59:19.634Z"
   },
   {
    "duration": 6,
    "start_time": "2023-01-11T19:59:31.455Z"
   },
   {
    "duration": 14,
    "start_time": "2023-01-11T19:59:37.424Z"
   },
   {
    "duration": 5,
    "start_time": "2023-01-11T19:59:54.656Z"
   },
   {
    "duration": 11,
    "start_time": "2023-01-11T19:59:56.303Z"
   },
   {
    "duration": 19,
    "start_time": "2023-01-11T19:59:56.792Z"
   },
   {
    "duration": 12,
    "start_time": "2023-01-11T19:59:57.443Z"
   },
   {
    "duration": 14,
    "start_time": "2023-01-11T20:00:12.361Z"
   },
   {
    "duration": 15,
    "start_time": "2023-01-11T20:00:14.989Z"
   },
   {
    "duration": 25,
    "start_time": "2023-01-11T20:00:33.666Z"
   },
   {
    "duration": 14,
    "start_time": "2023-01-11T20:00:40.053Z"
   },
   {
    "duration": 19,
    "start_time": "2023-01-11T20:00:49.765Z"
   },
   {
    "duration": 14,
    "start_time": "2023-01-11T20:00:59.505Z"
   },
   {
    "duration": 14,
    "start_time": "2023-01-11T20:01:00.083Z"
   },
   {
    "duration": 4,
    "start_time": "2023-01-11T20:01:17.444Z"
   },
   {
    "duration": 12,
    "start_time": "2023-01-11T20:01:19.312Z"
   },
   {
    "duration": 6,
    "start_time": "2023-01-11T20:01:26.323Z"
   },
   {
    "duration": 7,
    "start_time": "2023-01-11T20:01:28.855Z"
   },
   {
    "duration": 7,
    "start_time": "2023-01-11T20:01:36.718Z"
   },
   {
    "duration": 14,
    "start_time": "2023-01-11T20:01:41.077Z"
   },
   {
    "duration": 11,
    "start_time": "2023-01-11T20:02:48.114Z"
   },
   {
    "duration": 15,
    "start_time": "2023-01-11T20:02:49.752Z"
   },
   {
    "duration": 21,
    "start_time": "2023-01-11T20:02:52.551Z"
   },
   {
    "duration": 9,
    "start_time": "2023-01-11T20:03:03.409Z"
   },
   {
    "duration": 6,
    "start_time": "2023-01-11T20:03:05.949Z"
   },
   {
    "duration": 7,
    "start_time": "2023-01-11T20:03:07.241Z"
   },
   {
    "duration": 18,
    "start_time": "2023-01-11T20:03:09.082Z"
   },
   {
    "duration": 5,
    "start_time": "2023-01-11T20:04:17.706Z"
   },
   {
    "duration": 12,
    "start_time": "2023-01-11T20:04:18.961Z"
   },
   {
    "duration": 19,
    "start_time": "2023-01-11T20:04:21.916Z"
   },
   {
    "duration": 20,
    "start_time": "2023-01-11T20:04:23.763Z"
   },
   {
    "duration": 5,
    "start_time": "2023-01-11T20:04:30.902Z"
   },
   {
    "duration": 6,
    "start_time": "2023-01-11T20:04:33.619Z"
   },
   {
    "duration": 14,
    "start_time": "2023-01-11T20:04:35.579Z"
   },
   {
    "duration": 8,
    "start_time": "2023-01-11T20:04:47.503Z"
   },
   {
    "duration": 21,
    "start_time": "2023-01-11T20:04:48.713Z"
   },
   {
    "duration": 18,
    "start_time": "2023-01-11T20:04:51.093Z"
   },
   {
    "duration": 23,
    "start_time": "2023-01-11T20:05:32.567Z"
   },
   {
    "duration": 5,
    "start_time": "2023-01-11T20:05:43.304Z"
   },
   {
    "duration": 5,
    "start_time": "2023-01-11T20:05:44.613Z"
   },
   {
    "duration": 5,
    "start_time": "2023-01-11T20:05:46.614Z"
   },
   {
    "duration": 9,
    "start_time": "2023-01-11T20:05:48.310Z"
   },
   {
    "duration": 138,
    "start_time": "2023-01-11T20:05:51.276Z"
   },
   {
    "duration": 7,
    "start_time": "2023-01-11T20:05:55.413Z"
   },
   {
    "duration": 8,
    "start_time": "2023-01-11T20:05:55.624Z"
   },
   {
    "duration": 5,
    "start_time": "2023-01-11T20:05:55.855Z"
   },
   {
    "duration": 17,
    "start_time": "2023-01-11T20:05:57.149Z"
   },
   {
    "duration": 1271,
    "start_time": "2023-01-11T20:07:06.791Z"
   },
   {
    "duration": 32,
    "start_time": "2023-01-11T20:07:08.064Z"
   },
   {
    "duration": 20,
    "start_time": "2023-01-11T20:07:08.098Z"
   },
   {
    "duration": 13,
    "start_time": "2023-01-11T20:07:08.121Z"
   },
   {
    "duration": 29,
    "start_time": "2023-01-11T20:07:08.136Z"
   },
   {
    "duration": 330,
    "start_time": "2023-01-11T20:07:08.167Z"
   },
   {
    "duration": 12,
    "start_time": "2023-01-11T20:07:08.499Z"
   },
   {
    "duration": 7,
    "start_time": "2023-01-11T20:07:08.514Z"
   },
   {
    "duration": 8,
    "start_time": "2023-01-11T20:07:08.522Z"
   },
   {
    "duration": 11,
    "start_time": "2023-01-11T20:07:08.534Z"
   },
   {
    "duration": 10,
    "start_time": "2023-01-11T20:07:08.547Z"
   },
   {
    "duration": 42,
    "start_time": "2023-01-11T20:07:08.558Z"
   },
   {
    "duration": 20,
    "start_time": "2023-01-11T20:07:08.604Z"
   },
   {
    "duration": 37,
    "start_time": "2023-01-11T20:07:08.700Z"
   },
   {
    "duration": 6,
    "start_time": "2023-01-11T20:07:10.094Z"
   },
   {
    "duration": 52,
    "start_time": "2023-01-11T20:07:11.850Z"
   },
   {
    "duration": 17,
    "start_time": "2023-01-11T20:07:13.819Z"
   },
   {
    "duration": 14,
    "start_time": "2023-01-11T20:07:14.154Z"
   }
  ],
  "kernelspec": {
   "display_name": "Python 3 (ipykernel)",
   "language": "python",
   "name": "python3"
  },
  "language_info": {
   "codemirror_mode": {
    "name": "ipython",
    "version": 3
   },
   "file_extension": ".py",
   "mimetype": "text/x-python",
   "name": "python",
   "nbconvert_exporter": "python",
   "pygments_lexer": "ipython3",
   "version": "3.9.12"
  },
  "toc": {
   "base_numbering": 1,
   "nav_menu": {},
   "number_sections": true,
   "sideBar": true,
   "skip_h1_title": true,
   "title_cell": "Содержание",
   "title_sidebar": "Contents",
   "toc_cell": true,
   "toc_position": {},
   "toc_section_display": true,
   "toc_window_display": true
  }
 },
 "nbformat": 4,
 "nbformat_minor": 2
}
