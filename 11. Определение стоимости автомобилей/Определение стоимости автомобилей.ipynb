{
 "cells": [
  {
   "cell_type": "markdown",
   "metadata": {},
   "source": [
    "# Определение стоимости автомобилей"
   ]
  },
  {
   "cell_type": "markdown",
   "metadata": {},
   "source": [
    "Сервис по продаже автомобилей с пробегом «Не бит, не крашен» разрабатывает приложение для привлечения новых клиентов. В нём можно быстро узнать рыночную стоимость своего автомобиля. В вашем распоряжении исторические данные: технические характеристики, комплектации и цены автомобилей. Вам нужно построить модель для определения стоимости. \n",
    "\n",
    "Заказчику важны:\n",
    "\n",
    "- качество предсказания;\n",
    "- скорость предсказания;\n",
    "- время обучения.\n",
    "\n",
    "**Цель исследования** - выполнить следующие задачи:\n",
    "\n",
    "1. Загрузить и подготовить данные.\n",
    "2. Подготовить выборки для обучения.\n",
    "3. Обучить разные модели.\n",
    "4. Проанализировать время обучения, время предсказания и качество моделей.\n",
    "5. Выбрать лучшую модель.\n",
    "\n",
    "**Ход исследования**\n",
    "\n",
    "Данные находятся в файле `/datasets/autos.csv`. О качестве данных нам ничего не известно. Значит перед исследовательской работой понадбится просмотреть данные. Проверим общую информацию и проведём предобработку данных, чтобы исправить ошибки.\n",
    "\n",
    "После подготовки данных займёмся обучением моделей. Опираясь на критерии заказчика, выберем лучшую модель и проверим её качество на тестовой выборке."
   ]
  },
  {
   "cell_type": "markdown",
   "metadata": {},
   "source": [
    "## Подготовка данных"
   ]
  },
  {
   "cell_type": "markdown",
   "metadata": {},
   "source": [
    "### Обзор данных"
   ]
  },
  {
   "cell_type": "code",
   "execution_count": 1,
   "metadata": {},
   "outputs": [],
   "source": [
    "#подключим необходимые библиотеки\n",
    "import pandas as pd\n",
    "import numpy as np\n",
    "import matplotlib.pyplot as plt\n",
    "import seaborn as sns\n",
    "from sklearn.model_selection import train_test_split\n",
    "from sklearn.preprocessing import OneHotEncoder\n",
    "#from sklearn.preprocessing import LabelEncoder\n",
    "from sklearn.preprocessing import StandardScaler\n",
    "from sklearn.linear_model import LinearRegression\n",
    "from sklearn.tree import DecisionTreeRegressor\n",
    "from lightgbm import LGBMRegressor\n",
    "from sklearn.metrics import mean_squared_error\n",
    "#from sklearn.model_selection import GridSearchCV\n",
    "#from sklearn.pipeline import make_pipeline"
   ]
  },
  {
   "cell_type": "code",
   "execution_count": 2,
   "metadata": {},
   "outputs": [],
   "source": [
    "#прочитаем файл\n",
    "data = pd.read_csv('/datasets/autos.csv')"
   ]
  },
  {
   "cell_type": "code",
   "execution_count": 3,
   "metadata": {},
   "outputs": [
    {
     "data": {
      "text/html": [
       "<div>\n",
       "<style scoped>\n",
       "    .dataframe tbody tr th:only-of-type {\n",
       "        vertical-align: middle;\n",
       "    }\n",
       "\n",
       "    .dataframe tbody tr th {\n",
       "        vertical-align: top;\n",
       "    }\n",
       "\n",
       "    .dataframe thead th {\n",
       "        text-align: right;\n",
       "    }\n",
       "</style>\n",
       "<table border=\"1\" class=\"dataframe\">\n",
       "  <thead>\n",
       "    <tr style=\"text-align: right;\">\n",
       "      <th></th>\n",
       "      <th>DateCrawled</th>\n",
       "      <th>Price</th>\n",
       "      <th>VehicleType</th>\n",
       "      <th>RegistrationYear</th>\n",
       "      <th>Gearbox</th>\n",
       "      <th>Power</th>\n",
       "      <th>Model</th>\n",
       "      <th>Kilometer</th>\n",
       "      <th>RegistrationMonth</th>\n",
       "      <th>FuelType</th>\n",
       "      <th>Brand</th>\n",
       "      <th>Repaired</th>\n",
       "      <th>DateCreated</th>\n",
       "      <th>NumberOfPictures</th>\n",
       "      <th>PostalCode</th>\n",
       "      <th>LastSeen</th>\n",
       "    </tr>\n",
       "  </thead>\n",
       "  <tbody>\n",
       "    <tr>\n",
       "      <th>0</th>\n",
       "      <td>2016-03-24 11:52:17</td>\n",
       "      <td>480</td>\n",
       "      <td>NaN</td>\n",
       "      <td>1993</td>\n",
       "      <td>manual</td>\n",
       "      <td>0</td>\n",
       "      <td>golf</td>\n",
       "      <td>150000</td>\n",
       "      <td>0</td>\n",
       "      <td>petrol</td>\n",
       "      <td>volkswagen</td>\n",
       "      <td>NaN</td>\n",
       "      <td>2016-03-24 00:00:00</td>\n",
       "      <td>0</td>\n",
       "      <td>70435</td>\n",
       "      <td>2016-04-07 03:16:57</td>\n",
       "    </tr>\n",
       "    <tr>\n",
       "      <th>1</th>\n",
       "      <td>2016-03-24 10:58:45</td>\n",
       "      <td>18300</td>\n",
       "      <td>coupe</td>\n",
       "      <td>2011</td>\n",
       "      <td>manual</td>\n",
       "      <td>190</td>\n",
       "      <td>NaN</td>\n",
       "      <td>125000</td>\n",
       "      <td>5</td>\n",
       "      <td>gasoline</td>\n",
       "      <td>audi</td>\n",
       "      <td>yes</td>\n",
       "      <td>2016-03-24 00:00:00</td>\n",
       "      <td>0</td>\n",
       "      <td>66954</td>\n",
       "      <td>2016-04-07 01:46:50</td>\n",
       "    </tr>\n",
       "    <tr>\n",
       "      <th>2</th>\n",
       "      <td>2016-03-14 12:52:21</td>\n",
       "      <td>9800</td>\n",
       "      <td>suv</td>\n",
       "      <td>2004</td>\n",
       "      <td>auto</td>\n",
       "      <td>163</td>\n",
       "      <td>grand</td>\n",
       "      <td>125000</td>\n",
       "      <td>8</td>\n",
       "      <td>gasoline</td>\n",
       "      <td>jeep</td>\n",
       "      <td>NaN</td>\n",
       "      <td>2016-03-14 00:00:00</td>\n",
       "      <td>0</td>\n",
       "      <td>90480</td>\n",
       "      <td>2016-04-05 12:47:46</td>\n",
       "    </tr>\n",
       "    <tr>\n",
       "      <th>3</th>\n",
       "      <td>2016-03-17 16:54:04</td>\n",
       "      <td>1500</td>\n",
       "      <td>small</td>\n",
       "      <td>2001</td>\n",
       "      <td>manual</td>\n",
       "      <td>75</td>\n",
       "      <td>golf</td>\n",
       "      <td>150000</td>\n",
       "      <td>6</td>\n",
       "      <td>petrol</td>\n",
       "      <td>volkswagen</td>\n",
       "      <td>no</td>\n",
       "      <td>2016-03-17 00:00:00</td>\n",
       "      <td>0</td>\n",
       "      <td>91074</td>\n",
       "      <td>2016-03-17 17:40:17</td>\n",
       "    </tr>\n",
       "    <tr>\n",
       "      <th>4</th>\n",
       "      <td>2016-03-31 17:25:20</td>\n",
       "      <td>3600</td>\n",
       "      <td>small</td>\n",
       "      <td>2008</td>\n",
       "      <td>manual</td>\n",
       "      <td>69</td>\n",
       "      <td>fabia</td>\n",
       "      <td>90000</td>\n",
       "      <td>7</td>\n",
       "      <td>gasoline</td>\n",
       "      <td>skoda</td>\n",
       "      <td>no</td>\n",
       "      <td>2016-03-31 00:00:00</td>\n",
       "      <td>0</td>\n",
       "      <td>60437</td>\n",
       "      <td>2016-04-06 10:17:21</td>\n",
       "    </tr>\n",
       "  </tbody>\n",
       "</table>\n",
       "</div>"
      ],
      "text/plain": [
       "           DateCrawled  Price VehicleType  RegistrationYear Gearbox  Power  \\\n",
       "0  2016-03-24 11:52:17    480         NaN              1993  manual      0   \n",
       "1  2016-03-24 10:58:45  18300       coupe              2011  manual    190   \n",
       "2  2016-03-14 12:52:21   9800         suv              2004    auto    163   \n",
       "3  2016-03-17 16:54:04   1500       small              2001  manual     75   \n",
       "4  2016-03-31 17:25:20   3600       small              2008  manual     69   \n",
       "\n",
       "   Model  Kilometer  RegistrationMonth  FuelType       Brand Repaired  \\\n",
       "0   golf     150000                  0    petrol  volkswagen      NaN   \n",
       "1    NaN     125000                  5  gasoline        audi      yes   \n",
       "2  grand     125000                  8  gasoline        jeep      NaN   \n",
       "3   golf     150000                  6    petrol  volkswagen       no   \n",
       "4  fabia      90000                  7  gasoline       skoda       no   \n",
       "\n",
       "           DateCreated  NumberOfPictures  PostalCode             LastSeen  \n",
       "0  2016-03-24 00:00:00                 0       70435  2016-04-07 03:16:57  \n",
       "1  2016-03-24 00:00:00                 0       66954  2016-04-07 01:46:50  \n",
       "2  2016-03-14 00:00:00                 0       90480  2016-04-05 12:47:46  \n",
       "3  2016-03-17 00:00:00                 0       91074  2016-03-17 17:40:17  \n",
       "4  2016-03-31 00:00:00                 0       60437  2016-04-06 10:17:21  "
      ]
     },
     "execution_count": 3,
     "metadata": {},
     "output_type": "execute_result"
    }
   ],
   "source": [
    "#выведем первые 5 строк таблицы\n",
    "data.head()"
   ]
  },
  {
   "cell_type": "code",
   "execution_count": 4,
   "metadata": {},
   "outputs": [
    {
     "name": "stdout",
     "output_type": "stream",
     "text": [
      "<class 'pandas.core.frame.DataFrame'>\n",
      "RangeIndex: 354369 entries, 0 to 354368\n",
      "Data columns (total 16 columns):\n",
      " #   Column             Non-Null Count   Dtype \n",
      "---  ------             --------------   ----- \n",
      " 0   DateCrawled        354369 non-null  object\n",
      " 1   Price              354369 non-null  int64 \n",
      " 2   VehicleType        316879 non-null  object\n",
      " 3   RegistrationYear   354369 non-null  int64 \n",
      " 4   Gearbox            334536 non-null  object\n",
      " 5   Power              354369 non-null  int64 \n",
      " 6   Model              334664 non-null  object\n",
      " 7   Kilometer          354369 non-null  int64 \n",
      " 8   RegistrationMonth  354369 non-null  int64 \n",
      " 9   FuelType           321474 non-null  object\n",
      " 10  Brand              354369 non-null  object\n",
      " 11  Repaired           283215 non-null  object\n",
      " 12  DateCreated        354369 non-null  object\n",
      " 13  NumberOfPictures   354369 non-null  int64 \n",
      " 14  PostalCode         354369 non-null  int64 \n",
      " 15  LastSeen           354369 non-null  object\n",
      "dtypes: int64(7), object(9)\n",
      "memory usage: 43.3+ MB\n"
     ]
    }
   ],
   "source": [
    "#выведем общую информацию\n",
    "data.info()"
   ]
  },
  {
   "cell_type": "code",
   "execution_count": 5,
   "metadata": {},
   "outputs": [
    {
     "data": {
      "text/html": [
       "<div>\n",
       "<style scoped>\n",
       "    .dataframe tbody tr th:only-of-type {\n",
       "        vertical-align: middle;\n",
       "    }\n",
       "\n",
       "    .dataframe tbody tr th {\n",
       "        vertical-align: top;\n",
       "    }\n",
       "\n",
       "    .dataframe thead th {\n",
       "        text-align: right;\n",
       "    }\n",
       "</style>\n",
       "<table border=\"1\" class=\"dataframe\">\n",
       "  <thead>\n",
       "    <tr style=\"text-align: right;\">\n",
       "      <th></th>\n",
       "      <th>Price</th>\n",
       "      <th>RegistrationYear</th>\n",
       "      <th>Power</th>\n",
       "      <th>Kilometer</th>\n",
       "      <th>RegistrationMonth</th>\n",
       "      <th>NumberOfPictures</th>\n",
       "      <th>PostalCode</th>\n",
       "    </tr>\n",
       "  </thead>\n",
       "  <tbody>\n",
       "    <tr>\n",
       "      <th>count</th>\n",
       "      <td>354369.000000</td>\n",
       "      <td>354369.000000</td>\n",
       "      <td>354369.000000</td>\n",
       "      <td>354369.000000</td>\n",
       "      <td>354369.000000</td>\n",
       "      <td>354369.0</td>\n",
       "      <td>354369.000000</td>\n",
       "    </tr>\n",
       "    <tr>\n",
       "      <th>mean</th>\n",
       "      <td>4416.656776</td>\n",
       "      <td>2004.234448</td>\n",
       "      <td>110.094337</td>\n",
       "      <td>128211.172535</td>\n",
       "      <td>5.714645</td>\n",
       "      <td>0.0</td>\n",
       "      <td>50508.689087</td>\n",
       "    </tr>\n",
       "    <tr>\n",
       "      <th>std</th>\n",
       "      <td>4514.158514</td>\n",
       "      <td>90.227958</td>\n",
       "      <td>189.850405</td>\n",
       "      <td>37905.341530</td>\n",
       "      <td>3.726421</td>\n",
       "      <td>0.0</td>\n",
       "      <td>25783.096248</td>\n",
       "    </tr>\n",
       "    <tr>\n",
       "      <th>min</th>\n",
       "      <td>0.000000</td>\n",
       "      <td>1000.000000</td>\n",
       "      <td>0.000000</td>\n",
       "      <td>5000.000000</td>\n",
       "      <td>0.000000</td>\n",
       "      <td>0.0</td>\n",
       "      <td>1067.000000</td>\n",
       "    </tr>\n",
       "    <tr>\n",
       "      <th>25%</th>\n",
       "      <td>1050.000000</td>\n",
       "      <td>1999.000000</td>\n",
       "      <td>69.000000</td>\n",
       "      <td>125000.000000</td>\n",
       "      <td>3.000000</td>\n",
       "      <td>0.0</td>\n",
       "      <td>30165.000000</td>\n",
       "    </tr>\n",
       "    <tr>\n",
       "      <th>50%</th>\n",
       "      <td>2700.000000</td>\n",
       "      <td>2003.000000</td>\n",
       "      <td>105.000000</td>\n",
       "      <td>150000.000000</td>\n",
       "      <td>6.000000</td>\n",
       "      <td>0.0</td>\n",
       "      <td>49413.000000</td>\n",
       "    </tr>\n",
       "    <tr>\n",
       "      <th>75%</th>\n",
       "      <td>6400.000000</td>\n",
       "      <td>2008.000000</td>\n",
       "      <td>143.000000</td>\n",
       "      <td>150000.000000</td>\n",
       "      <td>9.000000</td>\n",
       "      <td>0.0</td>\n",
       "      <td>71083.000000</td>\n",
       "    </tr>\n",
       "    <tr>\n",
       "      <th>max</th>\n",
       "      <td>20000.000000</td>\n",
       "      <td>9999.000000</td>\n",
       "      <td>20000.000000</td>\n",
       "      <td>150000.000000</td>\n",
       "      <td>12.000000</td>\n",
       "      <td>0.0</td>\n",
       "      <td>99998.000000</td>\n",
       "    </tr>\n",
       "  </tbody>\n",
       "</table>\n",
       "</div>"
      ],
      "text/plain": [
       "               Price  RegistrationYear          Power      Kilometer  \\\n",
       "count  354369.000000     354369.000000  354369.000000  354369.000000   \n",
       "mean     4416.656776       2004.234448     110.094337  128211.172535   \n",
       "std      4514.158514         90.227958     189.850405   37905.341530   \n",
       "min         0.000000       1000.000000       0.000000    5000.000000   \n",
       "25%      1050.000000       1999.000000      69.000000  125000.000000   \n",
       "50%      2700.000000       2003.000000     105.000000  150000.000000   \n",
       "75%      6400.000000       2008.000000     143.000000  150000.000000   \n",
       "max     20000.000000       9999.000000   20000.000000  150000.000000   \n",
       "\n",
       "       RegistrationMonth  NumberOfPictures     PostalCode  \n",
       "count      354369.000000          354369.0  354369.000000  \n",
       "mean            5.714645               0.0   50508.689087  \n",
       "std             3.726421               0.0   25783.096248  \n",
       "min             0.000000               0.0    1067.000000  \n",
       "25%             3.000000               0.0   30165.000000  \n",
       "50%             6.000000               0.0   49413.000000  \n",
       "75%             9.000000               0.0   71083.000000  \n",
       "max            12.000000               0.0   99998.000000  "
      ]
     },
     "execution_count": 5,
     "metadata": {},
     "output_type": "execute_result"
    }
   ],
   "source": [
    "#оценим данные в таблице методом describe\n",
    "data.describe()"
   ]
  },
  {
   "cell_type": "code",
   "execution_count": 6,
   "metadata": {},
   "outputs": [
    {
     "data": {
      "text/html": [
       "<style  type=\"text/css\" >\n",
       "#T_8da21_row0_col0,#T_8da21_row1_col0,#T_8da21_row3_col0,#T_8da21_row5_col0,#T_8da21_row7_col0,#T_8da21_row8_col0,#T_8da21_row10_col0,#T_8da21_row12_col0,#T_8da21_row13_col0,#T_8da21_row14_col0,#T_8da21_row15_col0{\n",
       "            background-color:  #3b4cc0;\n",
       "            color:  #f1f1f1;\n",
       "        }#T_8da21_row2_col0{\n",
       "            background-color:  #e9d5cb;\n",
       "            color:  #000000;\n",
       "        }#T_8da21_row4_col0,#T_8da21_row6_col0{\n",
       "            background-color:  #9ebeff;\n",
       "            color:  #000000;\n",
       "        }#T_8da21_row9_col0{\n",
       "            background-color:  #cfdaea;\n",
       "            color:  #000000;\n",
       "        }#T_8da21_row11_col0{\n",
       "            background-color:  #b40426;\n",
       "            color:  #f1f1f1;\n",
       "        }</style><table id=\"T_8da21_\" ><thead>    <tr>        <th class=\"blank level0\" ></th>        <th class=\"col_heading level0 col0\" >0</th>    </tr></thead><tbody>\n",
       "                <tr>\n",
       "                        <th id=\"T_8da21_level0_row0\" class=\"row_heading level0 row0\" >DateCrawled</th>\n",
       "                        <td id=\"T_8da21_row0_col0\" class=\"data row0 col0\" >0.000000</td>\n",
       "            </tr>\n",
       "            <tr>\n",
       "                        <th id=\"T_8da21_level0_row1\" class=\"row_heading level0 row1\" >Price</th>\n",
       "                        <td id=\"T_8da21_row1_col0\" class=\"data row1 col0\" >0.000000</td>\n",
       "            </tr>\n",
       "            <tr>\n",
       "                        <th id=\"T_8da21_level0_row2\" class=\"row_heading level0 row2\" >VehicleType</th>\n",
       "                        <td id=\"T_8da21_row2_col0\" class=\"data row2 col0\" >11.000000</td>\n",
       "            </tr>\n",
       "            <tr>\n",
       "                        <th id=\"T_8da21_level0_row3\" class=\"row_heading level0 row3\" >RegistrationYear</th>\n",
       "                        <td id=\"T_8da21_row3_col0\" class=\"data row3 col0\" >0.000000</td>\n",
       "            </tr>\n",
       "            <tr>\n",
       "                        <th id=\"T_8da21_level0_row4\" class=\"row_heading level0 row4\" >Gearbox</th>\n",
       "                        <td id=\"T_8da21_row4_col0\" class=\"data row4 col0\" >6.000000</td>\n",
       "            </tr>\n",
       "            <tr>\n",
       "                        <th id=\"T_8da21_level0_row5\" class=\"row_heading level0 row5\" >Power</th>\n",
       "                        <td id=\"T_8da21_row5_col0\" class=\"data row5 col0\" >0.000000</td>\n",
       "            </tr>\n",
       "            <tr>\n",
       "                        <th id=\"T_8da21_level0_row6\" class=\"row_heading level0 row6\" >Model</th>\n",
       "                        <td id=\"T_8da21_row6_col0\" class=\"data row6 col0\" >6.000000</td>\n",
       "            </tr>\n",
       "            <tr>\n",
       "                        <th id=\"T_8da21_level0_row7\" class=\"row_heading level0 row7\" >Kilometer</th>\n",
       "                        <td id=\"T_8da21_row7_col0\" class=\"data row7 col0\" >0.000000</td>\n",
       "            </tr>\n",
       "            <tr>\n",
       "                        <th id=\"T_8da21_level0_row8\" class=\"row_heading level0 row8\" >RegistrationMonth</th>\n",
       "                        <td id=\"T_8da21_row8_col0\" class=\"data row8 col0\" >0.000000</td>\n",
       "            </tr>\n",
       "            <tr>\n",
       "                        <th id=\"T_8da21_level0_row9\" class=\"row_heading level0 row9\" >FuelType</th>\n",
       "                        <td id=\"T_8da21_row9_col0\" class=\"data row9 col0\" >9.000000</td>\n",
       "            </tr>\n",
       "            <tr>\n",
       "                        <th id=\"T_8da21_level0_row10\" class=\"row_heading level0 row10\" >Brand</th>\n",
       "                        <td id=\"T_8da21_row10_col0\" class=\"data row10 col0\" >0.000000</td>\n",
       "            </tr>\n",
       "            <tr>\n",
       "                        <th id=\"T_8da21_level0_row11\" class=\"row_heading level0 row11\" >Repaired</th>\n",
       "                        <td id=\"T_8da21_row11_col0\" class=\"data row11 col0\" >20.000000</td>\n",
       "            </tr>\n",
       "            <tr>\n",
       "                        <th id=\"T_8da21_level0_row12\" class=\"row_heading level0 row12\" >DateCreated</th>\n",
       "                        <td id=\"T_8da21_row12_col0\" class=\"data row12 col0\" >0.000000</td>\n",
       "            </tr>\n",
       "            <tr>\n",
       "                        <th id=\"T_8da21_level0_row13\" class=\"row_heading level0 row13\" >NumberOfPictures</th>\n",
       "                        <td id=\"T_8da21_row13_col0\" class=\"data row13 col0\" >0.000000</td>\n",
       "            </tr>\n",
       "            <tr>\n",
       "                        <th id=\"T_8da21_level0_row14\" class=\"row_heading level0 row14\" >PostalCode</th>\n",
       "                        <td id=\"T_8da21_row14_col0\" class=\"data row14 col0\" >0.000000</td>\n",
       "            </tr>\n",
       "            <tr>\n",
       "                        <th id=\"T_8da21_level0_row15\" class=\"row_heading level0 row15\" >LastSeen</th>\n",
       "                        <td id=\"T_8da21_row15_col0\" class=\"data row15 col0\" >0.000000</td>\n",
       "            </tr>\n",
       "    </tbody></table>"
      ],
      "text/plain": [
       "<pandas.io.formats.style.Styler at 0x7f4af66356a0>"
      ]
     },
     "execution_count": 6,
     "metadata": {},
     "output_type": "execute_result"
    }
   ],
   "source": [
    "#проверим колличество пропусков в %\n",
    "pd.DataFrame(round(data.isna().mean()*100,)).style.background_gradient('coolwarm')"
   ]
  },
  {
   "cell_type": "markdown",
   "metadata": {},
   "source": [
    "**Вывод**\n",
    "\n",
    "В каждой строке таблицы - данные о технических характеристиках, комплектации и ценах автомобилей. Поскольку наши модели должны определять рыночную стоимость автомобиля, то признаки, которые никак не связаны с состоянием автомобиля, можно будет удалить на этапе предобработки. \n",
    "\n",
    "Мы видим, что в 5 столбцах присутствуют пропуски. В некоторых столбцах есть аномальные значения. Этого уже достаточно, чтобы приступить к предобработке данных."
   ]
  },
  {
   "cell_type": "markdown",
   "metadata": {},
   "source": [
    "### Предобработка данных"
   ]
  },
  {
   "cell_type": "code",
   "execution_count": 7,
   "metadata": {},
   "outputs": [
    {
     "name": "stdout",
     "output_type": "stream",
     "text": [
      "<class 'pandas.core.frame.DataFrame'>\n",
      "RangeIndex: 354369 entries, 0 to 354368\n",
      "Data columns (total 11 columns):\n",
      " #   Column             Non-Null Count   Dtype \n",
      "---  ------             --------------   ----- \n",
      " 0   Price              354369 non-null  int64 \n",
      " 1   VehicleType        316879 non-null  object\n",
      " 2   RegistrationYear   354369 non-null  int64 \n",
      " 3   Gearbox            334536 non-null  object\n",
      " 4   Power              354369 non-null  int64 \n",
      " 5   Model              334664 non-null  object\n",
      " 6   Kilometer          354369 non-null  int64 \n",
      " 7   RegistrationMonth  354369 non-null  int64 \n",
      " 8   FuelType           321474 non-null  object\n",
      " 9   Brand              354369 non-null  object\n",
      " 10  Repaired           283215 non-null  object\n",
      "dtypes: int64(5), object(6)\n",
      "memory usage: 29.7+ MB\n"
     ]
    }
   ],
   "source": [
    "#удалим столбцы, которые не понадобятся для обучения моделей\n",
    "data = data.drop(['DateCrawled','DateCreated','NumberOfPictures','PostalCode','LastSeen'], axis=1)\n",
    "data.info()"
   ]
  },
  {
   "cell_type": "code",
   "execution_count": 8,
   "metadata": {},
   "outputs": [
    {
     "data": {
      "text/plain": [
       "27543"
      ]
     },
     "execution_count": 8,
     "metadata": {},
     "output_type": "execute_result"
    }
   ],
   "source": [
    "#посмотрим на количество дубликатов\n",
    "data.duplicated().sum()"
   ]
  },
  {
   "cell_type": "markdown",
   "metadata": {},
   "source": [
    "Пока не будем убирать дубликаты, ибо есть возможность, что в ходе предобработки большая часть и так исчезнет. "
   ]
  },
  {
   "cell_type": "code",
   "execution_count": 9,
   "metadata": {
    "scrolled": true
   },
   "outputs": [
    {
     "name": "stdout",
     "output_type": "stream",
     "text": [
      "-------------------------\n",
      "VehicleType 8\n",
      "VehicleType ['bus' 'convertible' 'coupe' 'other' 'sedan' 'small' 'suv' 'wagon' nan]\n",
      "VehicleType : кол-во NaN 37490 , процент NaN 10.58 %\n",
      "-------------------------\n",
      "Gearbox 2\n",
      "Gearbox ['auto' 'manual' nan]\n",
      "Gearbox : кол-во NaN 19833 , процент NaN 5.6 %\n",
      "-------------------------\n",
      "Model 250\n",
      "Model ['100' '145' '147' '156' '159' '1_reihe' '1er' '200' '2_reihe' '300c'\n",
      " '3_reihe' '3er' '4_reihe' '500' '5_reihe' '5er' '601' '6_reihe' '6er'\n",
      " '7er' '80' '850' '90' '900' '9000' '911' 'a1' 'a2' 'a3' 'a4' 'a5' 'a6'\n",
      " 'a8' 'a_klasse' 'accord' 'agila' 'alhambra' 'almera' 'altea' 'amarok'\n",
      " 'antara' 'arosa' 'astra' 'auris' 'avensis' 'aveo' 'aygo' 'b_klasse'\n",
      " 'b_max' 'beetle' 'berlingo' 'bora' 'boxster' 'bravo' 'c1' 'c2' 'c3' 'c4'\n",
      " 'c5' 'c_klasse' 'c_max' 'c_reihe' 'caddy' 'calibra' 'captiva' 'carisma'\n",
      " 'carnival' 'cayenne' 'cc' 'ceed' 'charade' 'cherokee' 'citigo' 'civic'\n",
      " 'cl' 'clio' 'clk' 'clubman' 'colt' 'combo' 'cooper' 'cordoba' 'corolla'\n",
      " 'corsa' 'cr_reihe' 'croma' 'crossfire' 'cuore' 'cx_reihe' 'defender'\n",
      " 'delta' 'discovery' 'doblo' 'ducato' 'duster' 'e_klasse' 'elefantino'\n",
      " 'eos' 'escort' 'espace' 'exeo' 'fabia' 'fiesta' 'focus' 'forester'\n",
      " 'forfour' 'fortwo' 'fox' 'freelander' 'fusion' 'g_klasse' 'galant'\n",
      " 'galaxy' 'getz' 'gl' 'glk' 'golf' 'grand' 'i3' 'i_reihe' 'ibiza'\n",
      " 'impreza' 'insignia' 'jazz' 'jetta' 'jimny' 'juke' 'justy' 'ka' 'kadett'\n",
      " 'kaefer' 'kalina' 'kalos' 'kangoo' 'kappa' 'kuga' 'laguna' 'lancer'\n",
      " 'lanos' 'legacy' 'leon' 'lodgy' 'logan' 'lupo' 'lybra' 'm_klasse'\n",
      " 'm_reihe' 'materia' 'matiz' 'megane' 'meriva' 'micra' 'mii' 'modus'\n",
      " 'mondeo' 'move' 'musa' 'mustang' 'mx_reihe' 'navara' 'niva' 'note'\n",
      " 'nubira' 'octavia' 'omega' 'one' 'other' 'outlander' 'pajero' 'panda'\n",
      " 'passat' 'phaeton' 'picanto' 'polo' 'primera' 'ptcruiser' 'punto' 'q3'\n",
      " 'q5' 'q7' 'qashqai' 'r19' 'range_rover' 'range_rover_evoque'\n",
      " 'range_rover_sport' 'rangerover' 'rav' 'rio' 'roadster' 'roomster'\n",
      " 'rx_reihe' 's60' 's_klasse' 's_max' 's_type' 'samara' 'sandero' 'santa'\n",
      " 'scenic' 'scirocco' 'seicento' 'serie_1' 'serie_2' 'serie_3' 'sharan'\n",
      " 'signum' 'sirion' 'sl' 'slk' 'sorento' 'spark' 'spider' 'sportage'\n",
      " 'sprinter' 'stilo' 'superb' 'swift' 'terios' 'tigra' 'tiguan' 'toledo'\n",
      " 'touareg' 'touran' 'transit' 'transporter' 'tt' 'tucson' 'twingo' 'up'\n",
      " 'v40' 'v50' 'v60' 'v70' 'v_klasse' 'vectra' 'verso' 'viano' 'vito'\n",
      " 'vivaro' 'voyager' 'wrangler' 'x_reihe' 'x_trail' 'x_type' 'xc_reihe'\n",
      " 'yaris' 'yeti' 'ypsilon' 'z_reihe' 'zafira' nan]\n",
      "Model : кол-во NaN 19705 , процент NaN 5.56 %\n",
      "-------------------------\n",
      "FuelType 7\n",
      "FuelType ['cng' 'electric' 'gasoline' 'hybrid' 'lpg' 'other' 'petrol' nan]\n",
      "FuelType : кол-во NaN 32895 , процент NaN 9.28 %\n",
      "-------------------------\n",
      "Brand 40\n",
      "Brand ['alfa_romeo' 'audi' 'bmw' 'chevrolet' 'chrysler' 'citroen' 'dacia'\n",
      " 'daewoo' 'daihatsu' 'fiat' 'ford' 'honda' 'hyundai' 'jaguar' 'jeep' 'kia'\n",
      " 'lada' 'lancia' 'land_rover' 'mazda' 'mercedes_benz' 'mini' 'mitsubishi'\n",
      " 'nissan' 'opel' 'peugeot' 'porsche' 'renault' 'rover' 'saab' 'seat'\n",
      " 'skoda' 'smart' 'sonstige_autos' 'subaru' 'suzuki' 'toyota' 'trabant'\n",
      " 'volkswagen' 'volvo']\n",
      "Brand : кол-во NaN 0 , процент NaN 0.0 %\n",
      "-------------------------\n",
      "Repaired 2\n",
      "Repaired ['no' 'yes' nan]\n",
      "Repaired : кол-во NaN 71154 , процент NaN 20.08 %\n"
     ]
    }
   ],
   "source": [
    "#посмотрим на уникальные наименования и их количество в категорильных признаках, количество и % пустых строк\n",
    "temp = data.copy() \n",
    "list_c = ['VehicleType', 'Gearbox', 'Model', 'FuelType', 'Brand', 'Repaired']\n",
    "for col_l in list_c:\n",
    "    print('-'* 25)\n",
    "    print(col_l, temp[col_l].sort_values().nunique())\n",
    "    print(col_l, temp[col_l].sort_values().unique())\n",
    "    print(col_l,': кол-во NaN',temp[col_l].isna().sum(),\n",
    "          ', процент NaN', round(temp[col_l].isna().sum()/len(temp)*100, 2),'%')"
   ]
  },
  {
   "cell_type": "code",
   "execution_count": 10,
   "metadata": {},
   "outputs": [
    {
     "data": {
      "text/plain": [
       "0        10772\n",
       "500       5670\n",
       "1500      5394\n",
       "1000      4649\n",
       "1200      4594\n",
       "         ...  \n",
       "13180        1\n",
       "10879        1\n",
       "2683         1\n",
       "634          1\n",
       "8188         1\n",
       "Name: Price, Length: 3731, dtype: int64"
      ]
     },
     "execution_count": 10,
     "metadata": {},
     "output_type": "execute_result"
    }
   ],
   "source": [
    "#посмотрим на значения целевого признака\n",
    "data['Price'].value_counts()"
   ]
  },
  {
   "cell_type": "markdown",
   "metadata": {},
   "source": [
    "Удалим строки, где отсутствует цена, ибо заполнить мы их никак не можем."
   ]
  },
  {
   "cell_type": "code",
   "execution_count": 11,
   "metadata": {},
   "outputs": [
    {
     "data": {
      "image/png": "[encoded data removed]",
      "text/plain": [
       "<Figure size 720x360 with 1 Axes>"
      ]
     },
     "metadata": {
      "needs_background": "light"
     },
     "output_type": "display_data"
    }
   ],
   "source": [
    "#удалим 0 цену и построим распределение\n",
    "data = data.query('Price > 0')\n",
    "data['Price'].hist(bins=75, figsize=(10, 5))\n",
    "plt.show()"
   ]
  },
  {
   "cell_type": "markdown",
   "metadata": {},
   "source": [
    "Избавимся от аномальных значений в следующих столбцах:\n",
    "\n",
    "* RegistrationYear - поставим ограничение от 1900 до 2022 года, ибо значения меньше 1900 и больше 2022 невозможны.\n",
    "* Power - ограничим значение лошадиных сил от 10 до 1200. Значения после 1200 возможны, но слишком редки."
   ]
  },
  {
   "cell_type": "code",
   "execution_count": 12,
   "metadata": {},
   "outputs": [
    {
     "data": {
      "image/png": "[encoded data removed]",
      "text/plain": [
       "<Figure size 1080x360 with 2 Axes>"
      ]
     },
     "metadata": {
      "needs_background": "light"
     },
     "output_type": "display_data"
    }
   ],
   "source": [
    "#ограничим год и л.с., и построим графики\n",
    "data = data.query('1900 < RegistrationYear < 2022 and 10 < Power < 1200')\n",
    "data[['RegistrationYear', 'Power']].hist(bins=50, figsize=(15, 5))\n",
    "plt.show()"
   ]
  },
  {
   "cell_type": "code",
   "execution_count": 13,
   "metadata": {},
   "outputs": [
    {
     "data": {
      "image/png": "[encoded data removed]",
      "text/plain": [
       "<Figure size 504x360 with 1 Axes>"
      ]
     },
     "metadata": {
      "needs_background": "light"
     },
     "output_type": "display_data"
    }
   ],
   "source": [
    "#чуть подробнее глянем на распределение мощности\n",
    "data.boxplot(column='Power', figsize=(7, 5))\n",
    "plt.show()"
   ]
  },
  {
   "cell_type": "markdown",
   "metadata": {},
   "source": [
    "Поясним, какие значения пропущены и как их можно обработать:\n",
    "\n",
    "* VehicleType - заполним пропуски наиболее частой категорией из столбца Brand и Model\n",
    "* Gearbox - пустые значения заменим на manual\n",
    "* Model - заполним пропуски наиболее частой категорией из столбца Brand и RegistrationYear\n",
    "* FuelType - заполним пропуски наиболее частой категорией из столбца Brand и Model\n",
    "* Repaired - заменим на no, так как люди могли просто не заполнять это поле, если машина не чинилась "
   ]
  },
  {
   "cell_type": "code",
   "execution_count": 14,
   "metadata": {},
   "outputs": [],
   "source": [
    "#заменим значения в Repaired и Gearbox\n",
    "data['Repaired'].fillna('no', inplace=True)\n",
    "data['Gearbox'].fillna('manual', inplace=True)"
   ]
  },
  {
   "cell_type": "code",
   "execution_count": 15,
   "metadata": {},
   "outputs": [
    {
     "data": {
      "text/html": [
       "<div>\n",
       "<style scoped>\n",
       "    .dataframe tbody tr th:only-of-type {\n",
       "        vertical-align: middle;\n",
       "    }\n",
       "\n",
       "    .dataframe tbody tr th {\n",
       "        vertical-align: top;\n",
       "    }\n",
       "\n",
       "    .dataframe thead th {\n",
       "        text-align: right;\n",
       "    }\n",
       "</style>\n",
       "<table border=\"1\" class=\"dataframe\">\n",
       "  <thead>\n",
       "    <tr style=\"text-align: right;\">\n",
       "      <th></th>\n",
       "      <th>Brand</th>\n",
       "      <th>Model</th>\n",
       "      <th>RegistrationYear</th>\n",
       "    </tr>\n",
       "  </thead>\n",
       "  <tbody>\n",
       "    <tr>\n",
       "      <th>0</th>\n",
       "      <td>volkswagen</td>\n",
       "      <td>golf</td>\n",
       "      <td>1999</td>\n",
       "    </tr>\n",
       "  </tbody>\n",
       "</table>\n",
       "</div>"
      ],
      "text/plain": [
       "        Brand Model  RegistrationYear\n",
       "0  volkswagen  golf              1999"
      ]
     },
     "execution_count": 15,
     "metadata": {},
     "output_type": "execute_result"
    }
   ],
   "source": [
    "#посмотрим на самые часто встречающиеся категории\n",
    "data[['Brand', 'Model', 'RegistrationYear']].mode()"
   ]
  },
  {
   "cell_type": "code",
   "execution_count": 16,
   "metadata": {},
   "outputs": [],
   "source": [
    "#создадим функцию для замены пропущенных значений\n",
    "def fill_mode(col, col1, col2):\n",
    "        data[col] = data.groupby([col1, col2])[col].transform(\n",
    "            lambda x: x.fillna((x.mode()[0] if not x.mode().empty else \"unknown\")))"
   ]
  },
  {
   "cell_type": "code",
   "execution_count": 17,
   "metadata": {},
   "outputs": [],
   "source": [
    "#заполним пропуски самыми частыми категориями\n",
    "fill_mode('Model', 'Brand', 'RegistrationYear')\n",
    "fill_mode('VehicleType','Brand','Model')\n",
    "fill_mode('FuelType','Brand','Model')\n",
    "\n",
    "#заменим unknown на nan\n",
    "data = data.replace('unknown',np.nan)"
   ]
  },
  {
   "cell_type": "code",
   "execution_count": 18,
   "metadata": {},
   "outputs": [
    {
     "data": {
      "text/html": [
       "<style  type=\"text/css\" >\n",
       "#T_f3d00_row0_col0,#T_f3d00_row1_col0,#T_f3d00_row2_col0,#T_f3d00_row3_col0,#T_f3d00_row4_col0,#T_f3d00_row6_col0,#T_f3d00_row7_col0,#T_f3d00_row8_col0,#T_f3d00_row9_col0,#T_f3d00_row10_col0{\n",
       "            background-color:  #3b4cc0;\n",
       "            color:  #f1f1f1;\n",
       "        }#T_f3d00_row5_col0{\n",
       "            background-color:  #b40426;\n",
       "            color:  #f1f1f1;\n",
       "        }</style><table id=\"T_f3d00_\" ><thead>    <tr>        <th class=\"blank level0\" ></th>        <th class=\"col_heading level0 col0\" >0</th>    </tr></thead><tbody>\n",
       "                <tr>\n",
       "                        <th id=\"T_f3d00_level0_row0\" class=\"row_heading level0 row0\" >Price</th>\n",
       "                        <td id=\"T_f3d00_row0_col0\" class=\"data row0 col0\" >0.000000</td>\n",
       "            </tr>\n",
       "            <tr>\n",
       "                        <th id=\"T_f3d00_level0_row1\" class=\"row_heading level0 row1\" >VehicleType</th>\n",
       "                        <td id=\"T_f3d00_row1_col0\" class=\"data row1 col0\" >0.000000</td>\n",
       "            </tr>\n",
       "            <tr>\n",
       "                        <th id=\"T_f3d00_level0_row2\" class=\"row_heading level0 row2\" >RegistrationYear</th>\n",
       "                        <td id=\"T_f3d00_row2_col0\" class=\"data row2 col0\" >0.000000</td>\n",
       "            </tr>\n",
       "            <tr>\n",
       "                        <th id=\"T_f3d00_level0_row3\" class=\"row_heading level0 row3\" >Gearbox</th>\n",
       "                        <td id=\"T_f3d00_row3_col0\" class=\"data row3 col0\" >0.000000</td>\n",
       "            </tr>\n",
       "            <tr>\n",
       "                        <th id=\"T_f3d00_level0_row4\" class=\"row_heading level0 row4\" >Power</th>\n",
       "                        <td id=\"T_f3d00_row4_col0\" class=\"data row4 col0\" >0.000000</td>\n",
       "            </tr>\n",
       "            <tr>\n",
       "                        <th id=\"T_f3d00_level0_row5\" class=\"row_heading level0 row5\" >Model</th>\n",
       "                        <td id=\"T_f3d00_row5_col0\" class=\"data row5 col0\" >1.000000</td>\n",
       "            </tr>\n",
       "            <tr>\n",
       "                        <th id=\"T_f3d00_level0_row6\" class=\"row_heading level0 row6\" >Kilometer</th>\n",
       "                        <td id=\"T_f3d00_row6_col0\" class=\"data row6 col0\" >0.000000</td>\n",
       "            </tr>\n",
       "            <tr>\n",
       "                        <th id=\"T_f3d00_level0_row7\" class=\"row_heading level0 row7\" >RegistrationMonth</th>\n",
       "                        <td id=\"T_f3d00_row7_col0\" class=\"data row7 col0\" >0.000000</td>\n",
       "            </tr>\n",
       "            <tr>\n",
       "                        <th id=\"T_f3d00_level0_row8\" class=\"row_heading level0 row8\" >FuelType</th>\n",
       "                        <td id=\"T_f3d00_row8_col0\" class=\"data row8 col0\" >0.000000</td>\n",
       "            </tr>\n",
       "            <tr>\n",
       "                        <th id=\"T_f3d00_level0_row9\" class=\"row_heading level0 row9\" >Brand</th>\n",
       "                        <td id=\"T_f3d00_row9_col0\" class=\"data row9 col0\" >0.000000</td>\n",
       "            </tr>\n",
       "            <tr>\n",
       "                        <th id=\"T_f3d00_level0_row10\" class=\"row_heading level0 row10\" >Repaired</th>\n",
       "                        <td id=\"T_f3d00_row10_col0\" class=\"data row10 col0\" >0.000000</td>\n",
       "            </tr>\n",
       "    </tbody></table>"
      ],
      "text/plain": [
       "<pandas.io.formats.style.Styler at 0x7f4af5794070>"
      ]
     },
     "metadata": {},
     "output_type": "display_data"
    },
    {
     "name": "stdout",
     "output_type": "stream",
     "text": [
      "Сумма дубликатов: 28604\n"
     ]
    }
   ],
   "source": [
    "#снова посмотрим на количество пропусков и дубликатов\n",
    "display(pd.DataFrame(round(data.isna().mean()*100,)).style.background_gradient('coolwarm'))\n",
    "print('Сумма дубликатов:', data.duplicated().sum())"
   ]
  },
  {
   "cell_type": "markdown",
   "metadata": {},
   "source": [
    "Видим, что пропусков почти не осталось, а вот дубликаты всё ещё присутствуют, но мы с ними ничего особо не сделаем. Удалим пропуски и дубликаты"
   ]
  },
  {
   "cell_type": "code",
   "execution_count": 19,
   "metadata": {
    "scrolled": true
   },
   "outputs": [
    {
     "name": "stdout",
     "output_type": "stream",
     "text": [
      "<class 'pandas.core.frame.DataFrame'>\n",
      "RangeIndex: 276437 entries, 0 to 276436\n",
      "Data columns (total 11 columns):\n",
      " #   Column             Non-Null Count   Dtype \n",
      "---  ------             --------------   ----- \n",
      " 0   Price              276437 non-null  int64 \n",
      " 1   VehicleType        276437 non-null  object\n",
      " 2   RegistrationYear   276437 non-null  int64 \n",
      " 3   Gearbox            276437 non-null  object\n",
      " 4   Power              276437 non-null  int64 \n",
      " 5   Model              276437 non-null  object\n",
      " 6   Kilometer          276437 non-null  int64 \n",
      " 7   RegistrationMonth  276437 non-null  int64 \n",
      " 8   FuelType           276437 non-null  object\n",
      " 9   Brand              276437 non-null  object\n",
      " 10  Repaired           276437 non-null  object\n",
      "dtypes: int64(5), object(6)\n",
      "memory usage: 23.2+ MB\n"
     ]
    }
   ],
   "source": [
    "#удалим пропуски и дубликаты\n",
    "data = data.dropna()\n",
    "data = data.drop_duplicates(ignore_index=True)\n",
    "data.info()"
   ]
  },
  {
   "cell_type": "markdown",
   "metadata": {},
   "source": [
    "**Выводы**\n",
    "\n",
    "При подготовке данных мы выполнили следующее:\n",
    "\n",
    "* удалили признаки, которые никак не повлияют на обучение моделей\n",
    "* у целевого признака удалили объекты с нулевой ценой\n",
    "* избавились от аномальных значений \n",
    "* заменили значения в двух столбцах\n",
    "* заполнили пропуски наиболее частой категорией в трёх столбцах\n",
    "* удалили оставшиеся пропуски и дубликаты\n",
    "\n",
    "Можно приступать к обучению моделей"
   ]
  },
  {
   "cell_type": "markdown",
   "metadata": {},
   "source": [
    "## Обучение моделей"
   ]
  },
  {
   "cell_type": "markdown",
   "metadata": {},
   "source": [
    "Выберем следующие модели для обучения:\n",
    "* Light GBM\n",
    "* Линейная регрессия\n",
    "* Дерево решений"
   ]
  },
  {
   "cell_type": "markdown",
   "metadata": {},
   "source": [
    "Поскольку Light GBM может нормально работать с категориальными переменными, то скопируем наши данные и не будем их кодировать. Приведём категориальные признаки к формату category и разобьём данные на выборки"
   ]
  },
  {
   "cell_type": "code",
   "execution_count": 20,
   "metadata": {},
   "outputs": [],
   "source": [
    "data_gbm = data.copy()"
   ]
  },
  {
   "cell_type": "code",
   "execution_count": 21,
   "metadata": {},
   "outputs": [],
   "source": [
    "data_gbm[list_c] = data_gbm[list_c].astype('category')"
   ]
  },
  {
   "cell_type": "code",
   "execution_count": 22,
   "metadata": {},
   "outputs": [
    {
     "name": "stdout",
     "output_type": "stream",
     "text": [
      "Размер обучающей выборки: 165862 \n",
      "Размер валидационной выборки: 55287 \n",
      "Размер тестовой выборки: 55288\n"
     ]
    }
   ],
   "source": [
    "#подготовим выборки для Light GMB\n",
    "features_gbm = data_gbm.drop(['Price'], axis=1)\n",
    "target_gbm = data_gbm['Price']\n",
    "\n",
    "features_gbm_train, features_gbm_valid, target_gbm_train, target_gbm_valid = train_test_split(\n",
    "    features_gbm, target_gbm, train_size=0.6, random_state=42)\n",
    "\n",
    "features_gbm_valid, features_gbm_test, target_gbm_valid, target_gbm_test = train_test_split(\n",
    "    features_gbm_valid, target_gbm_valid, test_size=0.5, random_state=42)\n",
    "\n",
    "print('Размер обучающей выборки:', features_gbm_train.shape[0],'\\n'\n",
    "      'Размер валидационной выборки:', features_gbm_valid.shape[0],'\\n'\n",
    "      'Размер тестовой выборки:', features_gbm_test.shape[0])"
   ]
  },
  {
   "cell_type": "markdown",
   "metadata": {},
   "source": [
    "Для данных к остальным моделям применим кодирование и подготовим выборки, а после проведём  масштабирование"
   ]
  },
  {
   "cell_type": "code",
   "execution_count": 23,
   "metadata": {},
   "outputs": [
    {
     "data": {
      "text/html": [
       "<div>\n",
       "<style scoped>\n",
       "    .dataframe tbody tr th:only-of-type {\n",
       "        vertical-align: middle;\n",
       "    }\n",
       "\n",
       "    .dataframe tbody tr th {\n",
       "        vertical-align: top;\n",
       "    }\n",
       "\n",
       "    .dataframe thead th {\n",
       "        text-align: right;\n",
       "    }\n",
       "</style>\n",
       "<table border=\"1\" class=\"dataframe\">\n",
       "  <thead>\n",
       "    <tr style=\"text-align: right;\">\n",
       "      <th></th>\n",
       "      <th>Price</th>\n",
       "      <th>RegistrationYear</th>\n",
       "      <th>Power</th>\n",
       "      <th>Kilometer</th>\n",
       "      <th>RegistrationMonth</th>\n",
       "      <th>VehicleType_convertible</th>\n",
       "      <th>VehicleType_coupe</th>\n",
       "      <th>VehicleType_other</th>\n",
       "      <th>VehicleType_sedan</th>\n",
       "      <th>VehicleType_small</th>\n",
       "      <th>...</th>\n",
       "      <th>Brand_seat</th>\n",
       "      <th>Brand_skoda</th>\n",
       "      <th>Brand_smart</th>\n",
       "      <th>Brand_subaru</th>\n",
       "      <th>Brand_suzuki</th>\n",
       "      <th>Brand_toyota</th>\n",
       "      <th>Brand_trabant</th>\n",
       "      <th>Brand_volkswagen</th>\n",
       "      <th>Brand_volvo</th>\n",
       "      <th>Repaired_yes</th>\n",
       "    </tr>\n",
       "  </thead>\n",
       "  <tbody>\n",
       "    <tr>\n",
       "      <th>0</th>\n",
       "      <td>18300</td>\n",
       "      <td>2011</td>\n",
       "      <td>190</td>\n",
       "      <td>125000</td>\n",
       "      <td>5</td>\n",
       "      <td>0</td>\n",
       "      <td>1</td>\n",
       "      <td>0</td>\n",
       "      <td>0</td>\n",
       "      <td>0</td>\n",
       "      <td>...</td>\n",
       "      <td>0</td>\n",
       "      <td>0</td>\n",
       "      <td>0</td>\n",
       "      <td>0</td>\n",
       "      <td>0</td>\n",
       "      <td>0</td>\n",
       "      <td>0</td>\n",
       "      <td>0</td>\n",
       "      <td>0</td>\n",
       "      <td>1</td>\n",
       "    </tr>\n",
       "    <tr>\n",
       "      <th>1</th>\n",
       "      <td>9800</td>\n",
       "      <td>2004</td>\n",
       "      <td>163</td>\n",
       "      <td>125000</td>\n",
       "      <td>8</td>\n",
       "      <td>0</td>\n",
       "      <td>0</td>\n",
       "      <td>0</td>\n",
       "      <td>0</td>\n",
       "      <td>0</td>\n",
       "      <td>...</td>\n",
       "      <td>0</td>\n",
       "      <td>0</td>\n",
       "      <td>0</td>\n",
       "      <td>0</td>\n",
       "      <td>0</td>\n",
       "      <td>0</td>\n",
       "      <td>0</td>\n",
       "      <td>0</td>\n",
       "      <td>0</td>\n",
       "      <td>0</td>\n",
       "    </tr>\n",
       "    <tr>\n",
       "      <th>2</th>\n",
       "      <td>1500</td>\n",
       "      <td>2001</td>\n",
       "      <td>75</td>\n",
       "      <td>150000</td>\n",
       "      <td>6</td>\n",
       "      <td>0</td>\n",
       "      <td>0</td>\n",
       "      <td>0</td>\n",
       "      <td>0</td>\n",
       "      <td>1</td>\n",
       "      <td>...</td>\n",
       "      <td>0</td>\n",
       "      <td>0</td>\n",
       "      <td>0</td>\n",
       "      <td>0</td>\n",
       "      <td>0</td>\n",
       "      <td>0</td>\n",
       "      <td>0</td>\n",
       "      <td>1</td>\n",
       "      <td>0</td>\n",
       "      <td>0</td>\n",
       "    </tr>\n",
       "    <tr>\n",
       "      <th>3</th>\n",
       "      <td>3600</td>\n",
       "      <td>2008</td>\n",
       "      <td>69</td>\n",
       "      <td>90000</td>\n",
       "      <td>7</td>\n",
       "      <td>0</td>\n",
       "      <td>0</td>\n",
       "      <td>0</td>\n",
       "      <td>0</td>\n",
       "      <td>1</td>\n",
       "      <td>...</td>\n",
       "      <td>0</td>\n",
       "      <td>1</td>\n",
       "      <td>0</td>\n",
       "      <td>0</td>\n",
       "      <td>0</td>\n",
       "      <td>0</td>\n",
       "      <td>0</td>\n",
       "      <td>0</td>\n",
       "      <td>0</td>\n",
       "      <td>0</td>\n",
       "    </tr>\n",
       "    <tr>\n",
       "      <th>4</th>\n",
       "      <td>650</td>\n",
       "      <td>1995</td>\n",
       "      <td>102</td>\n",
       "      <td>150000</td>\n",
       "      <td>10</td>\n",
       "      <td>0</td>\n",
       "      <td>0</td>\n",
       "      <td>0</td>\n",
       "      <td>1</td>\n",
       "      <td>0</td>\n",
       "      <td>...</td>\n",
       "      <td>0</td>\n",
       "      <td>0</td>\n",
       "      <td>0</td>\n",
       "      <td>0</td>\n",
       "      <td>0</td>\n",
       "      <td>0</td>\n",
       "      <td>0</td>\n",
       "      <td>0</td>\n",
       "      <td>0</td>\n",
       "      <td>1</td>\n",
       "    </tr>\n",
       "  </tbody>\n",
       "</table>\n",
       "<p>5 rows × 306 columns</p>\n",
       "</div>"
      ],
      "text/plain": [
       "   Price  RegistrationYear  Power  Kilometer  RegistrationMonth  \\\n",
       "0  18300              2011    190     125000                  5   \n",
       "1   9800              2004    163     125000                  8   \n",
       "2   1500              2001     75     150000                  6   \n",
       "3   3600              2008     69      90000                  7   \n",
       "4    650              1995    102     150000                 10   \n",
       "\n",
       "   VehicleType_convertible  VehicleType_coupe  VehicleType_other  \\\n",
       "0                        0                  1                  0   \n",
       "1                        0                  0                  0   \n",
       "2                        0                  0                  0   \n",
       "3                        0                  0                  0   \n",
       "4                        0                  0                  0   \n",
       "\n",
       "   VehicleType_sedan  VehicleType_small  ...  Brand_seat  Brand_skoda  \\\n",
       "0                  0                  0  ...           0            0   \n",
       "1                  0                  0  ...           0            0   \n",
       "2                  0                  1  ...           0            0   \n",
       "3                  0                  1  ...           0            1   \n",
       "4                  1                  0  ...           0            0   \n",
       "\n",
       "   Brand_smart  Brand_subaru  Brand_suzuki  Brand_toyota  Brand_trabant  \\\n",
       "0            0             0             0             0              0   \n",
       "1            0             0             0             0              0   \n",
       "2            0             0             0             0              0   \n",
       "3            0             0             0             0              0   \n",
       "4            0             0             0             0              0   \n",
       "\n",
       "   Brand_volkswagen  Brand_volvo  Repaired_yes  \n",
       "0                 0            0             1  \n",
       "1                 0            0             0  \n",
       "2                 1            0             0  \n",
       "3                 0            0             0  \n",
       "4                 0            0             1  \n",
       "\n",
       "[5 rows x 306 columns]"
      ]
     },
     "execution_count": 23,
     "metadata": {},
     "output_type": "execute_result"
    }
   ],
   "source": [
    "#проведём кодирование через get_dummies\n",
    "data_dumm = pd.get_dummies(data, drop_first=True)\n",
    "data_dumm.head()"
   ]
  },
  {
   "cell_type": "code",
   "execution_count": 25,
   "metadata": {},
   "outputs": [
    {
     "name": "stdout",
     "output_type": "stream",
     "text": [
      "Размер обучающей выборки: 165862 \n",
      "Размер валидационной выборки: 55287 \n",
      "Размер тестовой выборки: 55288\n"
     ]
    }
   ],
   "source": [
    "#подготовим выборки\n",
    "features = data_dumm.drop(['Price'], axis=1)\n",
    "target = data_dumm['Price']\n",
    "\n",
    "features_train, features_valid, target_train, target_valid = train_test_split(\n",
    "    features, target, train_size=0.6, random_state=42)\n",
    "\n",
    "features_valid, features_test, target_valid, target_test = train_test_split(\n",
    "    features_valid, target_valid, test_size=0.5, random_state=42)\n",
    "\n",
    "print('Размер обучающей выборки:', features_train.shape[0],'\\n'\n",
    "      'Размер валидационной выборки:', features_valid.shape[0],'\\n'\n",
    "      'Размер тестовой выборки:', features_test.shape[0])"
   ]
  },
  {
   "cell_type": "code",
   "execution_count": 26,
   "metadata": {},
   "outputs": [],
   "source": [
    "#выполним масштабирование\n",
    "#убираем предупреждение SettingWithCopy\n",
    "pd.options.mode.chained_assignment = None\n",
    "\n",
    "#в переменную передаём все численные признаки\n",
    "numeric = ['RegistrationYear','Power','Kilometer', 'RegistrationMonth']\n",
    "\n",
    "scaler = StandardScaler()\n",
    "scaler.fit(features_train[numeric])\n",
    "features_train[numeric] = scaler.transform(features_train[numeric])\n",
    "features_valid[numeric] = scaler.transform(features_valid[numeric])\n",
    "features_test[numeric] = scaler.transform(features_test[numeric])"
   ]
  },
  {
   "cell_type": "markdown",
   "metadata": {},
   "source": [
    "Приступим к обучению моделей. Сначала проверим модели без подбора гиперпараметров"
   ]
  },
  {
   "cell_type": "markdown",
   "metadata": {},
   "source": [
    "### Light GBM без подбора гиперпараметров"
   ]
  },
  {
   "cell_type": "code",
   "execution_count": 27,
   "metadata": {
    "scrolled": true
   },
   "outputs": [
    {
     "name": "stderr",
     "output_type": "stream",
     "text": [
      "/opt/conda/lib/python3.9/site-packages/lightgbm/basic.py:2065: UserWarning: Using categorical_feature in Dataset.\n",
      "  _log_warning('Using categorical_feature in Dataset.')\n",
      "/opt/conda/lib/python3.9/site-packages/lightgbm/basic.py:2068: UserWarning: categorical_feature in Dataset is overridden.\n",
      "New categorical_feature is ['Brand', 'FuelType', 'Gearbox', 'Model', 'Repaired', 'VehicleType']\n",
      "  _log_warning('categorical_feature in Dataset is overridden.\\n'\n",
      "/opt/conda/lib/python3.9/site-packages/lightgbm/basic.py:1780: UserWarning: Overriding the parameters from Reference Dataset.\n",
      "  _log_warning('Overriding the parameters from Reference Dataset.')\n",
      "/opt/conda/lib/python3.9/site-packages/lightgbm/basic.py:1513: UserWarning: categorical_column in param dict is overridden.\n",
      "  _log_warning(f'{cat_alias} in param dict is overridden.')\n"
     ]
    },
    {
     "name": "stdout",
     "output_type": "stream",
     "text": [
      "[1]\tvalid_0's rmse: 4283.99\tvalid_0's l2: 1.83525e+07\n",
      "[2]\tvalid_0's rmse: 3988.72\tvalid_0's l2: 1.59099e+07\n",
      "[3]\tvalid_0's rmse: 3729.07\tvalid_0's l2: 1.39059e+07\n",
      "[4]\tvalid_0's rmse: 3503.66\tvalid_0's l2: 1.22756e+07\n",
      "[5]\tvalid_0's rmse: 3301.2\tvalid_0's l2: 1.08979e+07\n",
      "[6]\tvalid_0's rmse: 3117.2\tvalid_0's l2: 9.71691e+06\n",
      "[7]\tvalid_0's rmse: 2949.04\tvalid_0's l2: 8.69681e+06\n",
      "[8]\tvalid_0's rmse: 2808.7\tvalid_0's l2: 7.88878e+06\n",
      "[9]\tvalid_0's rmse: 2678.37\tvalid_0's l2: 7.17369e+06\n",
      "[10]\tvalid_0's rmse: 2564.7\tvalid_0's l2: 6.57769e+06\n",
      "[11]\tvalid_0's rmse: 2467.95\tvalid_0's l2: 6.0908e+06\n",
      "[12]\tvalid_0's rmse: 2379.53\tvalid_0's l2: 5.66218e+06\n",
      "[13]\tvalid_0's rmse: 2304.48\tvalid_0's l2: 5.31062e+06\n",
      "[14]\tvalid_0's rmse: 2236\tvalid_0's l2: 4.9997e+06\n",
      "[15]\tvalid_0's rmse: 2177.59\tvalid_0's l2: 4.74188e+06\n",
      "[16]\tvalid_0's rmse: 2123.95\tvalid_0's l2: 4.51117e+06\n",
      "[17]\tvalid_0's rmse: 2078.91\tvalid_0's l2: 4.32187e+06\n",
      "[18]\tvalid_0's rmse: 2036.18\tvalid_0's l2: 4.14602e+06\n",
      "[19]\tvalid_0's rmse: 2001.34\tvalid_0's l2: 4.00534e+06\n",
      "[20]\tvalid_0's rmse: 1970.68\tvalid_0's l2: 3.88358e+06\n",
      "[21]\tvalid_0's rmse: 1944.21\tvalid_0's l2: 3.77995e+06\n",
      "[22]\tvalid_0's rmse: 1919.48\tvalid_0's l2: 3.68439e+06\n",
      "[23]\tvalid_0's rmse: 1896.84\tvalid_0's l2: 3.59802e+06\n",
      "[24]\tvalid_0's rmse: 1877.15\tvalid_0's l2: 3.52369e+06\n",
      "[25]\tvalid_0's rmse: 1859.12\tvalid_0's l2: 3.45631e+06\n",
      "[26]\tvalid_0's rmse: 1844.74\tvalid_0's l2: 3.40305e+06\n",
      "[27]\tvalid_0's rmse: 1830.44\tvalid_0's l2: 3.3505e+06\n",
      "[28]\tvalid_0's rmse: 1817.03\tvalid_0's l2: 3.30159e+06\n",
      "[29]\tvalid_0's rmse: 1806.25\tvalid_0's l2: 3.26255e+06\n",
      "[30]\tvalid_0's rmse: 1796.2\tvalid_0's l2: 3.22633e+06\n",
      "[31]\tvalid_0's rmse: 1786.2\tvalid_0's l2: 3.1905e+06\n",
      "[32]\tvalid_0's rmse: 1778.74\tvalid_0's l2: 3.16392e+06\n",
      "[33]\tvalid_0's rmse: 1770.51\tvalid_0's l2: 3.13469e+06\n",
      "[34]\tvalid_0's rmse: 1764.46\tvalid_0's l2: 3.11332e+06\n",
      "[35]\tvalid_0's rmse: 1758.25\tvalid_0's l2: 3.09145e+06\n",
      "[36]\tvalid_0's rmse: 1752.68\tvalid_0's l2: 3.07189e+06\n",
      "[37]\tvalid_0's rmse: 1747.56\tvalid_0's l2: 3.05397e+06\n",
      "[38]\tvalid_0's rmse: 1742.79\tvalid_0's l2: 3.03731e+06\n",
      "[39]\tvalid_0's rmse: 1738.7\tvalid_0's l2: 3.02307e+06\n",
      "[40]\tvalid_0's rmse: 1735.07\tvalid_0's l2: 3.01046e+06\n",
      "[41]\tvalid_0's rmse: 1732.28\tvalid_0's l2: 3.00081e+06\n",
      "[42]\tvalid_0's rmse: 1728.29\tvalid_0's l2: 2.98698e+06\n",
      "[43]\tvalid_0's rmse: 1725.47\tvalid_0's l2: 2.97726e+06\n",
      "[44]\tvalid_0's rmse: 1722.88\tvalid_0's l2: 2.96833e+06\n",
      "[45]\tvalid_0's rmse: 1720.37\tvalid_0's l2: 2.95967e+06\n",
      "[46]\tvalid_0's rmse: 1717.93\tvalid_0's l2: 2.95128e+06\n",
      "[47]\tvalid_0's rmse: 1715.98\tvalid_0's l2: 2.9446e+06\n",
      "[48]\tvalid_0's rmse: 1713.72\tvalid_0's l2: 2.93685e+06\n",
      "[49]\tvalid_0's rmse: 1711.69\tvalid_0's l2: 2.92989e+06\n",
      "[50]\tvalid_0's rmse: 1710.06\tvalid_0's l2: 2.92432e+06\n",
      "[51]\tvalid_0's rmse: 1708.12\tvalid_0's l2: 2.91769e+06\n",
      "[52]\tvalid_0's rmse: 1706.65\tvalid_0's l2: 2.91264e+06\n",
      "[53]\tvalid_0's rmse: 1705.66\tvalid_0's l2: 2.90926e+06\n",
      "[54]\tvalid_0's rmse: 1702.95\tvalid_0's l2: 2.90003e+06\n",
      "[55]\tvalid_0's rmse: 1700.46\tvalid_0's l2: 2.89158e+06\n",
      "[56]\tvalid_0's rmse: 1699.64\tvalid_0's l2: 2.88878e+06\n",
      "[57]\tvalid_0's rmse: 1696.93\tvalid_0's l2: 2.87956e+06\n",
      "[58]\tvalid_0's rmse: 1695.9\tvalid_0's l2: 2.87609e+06\n",
      "[59]\tvalid_0's rmse: 1695.07\tvalid_0's l2: 2.87325e+06\n",
      "[60]\tvalid_0's rmse: 1694.08\tvalid_0's l2: 2.8699e+06\n",
      "[61]\tvalid_0's rmse: 1692.58\tvalid_0's l2: 2.86483e+06\n",
      "[62]\tvalid_0's rmse: 1691.56\tvalid_0's l2: 2.86137e+06\n",
      "[63]\tvalid_0's rmse: 1690.56\tvalid_0's l2: 2.85799e+06\n",
      "[64]\tvalid_0's rmse: 1689.54\tvalid_0's l2: 2.85455e+06\n",
      "[65]\tvalid_0's rmse: 1688\tvalid_0's l2: 2.84934e+06\n",
      "[66]\tvalid_0's rmse: 1686.1\tvalid_0's l2: 2.84293e+06\n",
      "[67]\tvalid_0's rmse: 1684.98\tvalid_0's l2: 2.83915e+06\n",
      "[68]\tvalid_0's rmse: 1684.31\tvalid_0's l2: 2.8369e+06\n",
      "[69]\tvalid_0's rmse: 1683.18\tvalid_0's l2: 2.83309e+06\n",
      "[70]\tvalid_0's rmse: 1681.55\tvalid_0's l2: 2.82762e+06\n",
      "[71]\tvalid_0's rmse: 1680.43\tvalid_0's l2: 2.82385e+06\n",
      "[72]\tvalid_0's rmse: 1679.87\tvalid_0's l2: 2.82197e+06\n",
      "[73]\tvalid_0's rmse: 1679.33\tvalid_0's l2: 2.82016e+06\n",
      "[74]\tvalid_0's rmse: 1678.44\tvalid_0's l2: 2.81716e+06\n",
      "[75]\tvalid_0's rmse: 1677.16\tvalid_0's l2: 2.81286e+06\n",
      "[76]\tvalid_0's rmse: 1676.75\tvalid_0's l2: 2.81151e+06\n",
      "[77]\tvalid_0's rmse: 1676.21\tvalid_0's l2: 2.80968e+06\n",
      "[78]\tvalid_0's rmse: 1675.57\tvalid_0's l2: 2.80754e+06\n",
      "[79]\tvalid_0's rmse: 1674.4\tvalid_0's l2: 2.80361e+06\n",
      "[80]\tvalid_0's rmse: 1673.96\tvalid_0's l2: 2.80215e+06\n",
      "[81]\tvalid_0's rmse: 1673.37\tvalid_0's l2: 2.80017e+06\n",
      "[82]\tvalid_0's rmse: 1672.92\tvalid_0's l2: 2.79865e+06\n",
      "[83]\tvalid_0's rmse: 1672.43\tvalid_0's l2: 2.79702e+06\n",
      "[84]\tvalid_0's rmse: 1671.87\tvalid_0's l2: 2.79513e+06\n",
      "[85]\tvalid_0's rmse: 1671.35\tvalid_0's l2: 2.79341e+06\n",
      "[86]\tvalid_0's rmse: 1670.95\tvalid_0's l2: 2.79208e+06\n",
      "[87]\tvalid_0's rmse: 1670.52\tvalid_0's l2: 2.79065e+06\n",
      "[88]\tvalid_0's rmse: 1670.13\tvalid_0's l2: 2.78934e+06\n",
      "[89]\tvalid_0's rmse: 1669.63\tvalid_0's l2: 2.78765e+06\n",
      "[90]\tvalid_0's rmse: 1669.16\tvalid_0's l2: 2.7861e+06\n",
      "[91]\tvalid_0's rmse: 1668.69\tvalid_0's l2: 2.78451e+06\n",
      "[92]\tvalid_0's rmse: 1668.4\tvalid_0's l2: 2.78356e+06\n",
      "[93]\tvalid_0's rmse: 1667.55\tvalid_0's l2: 2.78071e+06\n",
      "[94]\tvalid_0's rmse: 1666.61\tvalid_0's l2: 2.77759e+06\n",
      "[95]\tvalid_0's rmse: 1666.39\tvalid_0's l2: 2.77685e+06\n",
      "[96]\tvalid_0's rmse: 1666\tvalid_0's l2: 2.77555e+06\n",
      "[97]\tvalid_0's rmse: 1665.79\tvalid_0's l2: 2.77484e+06\n",
      "[98]\tvalid_0's rmse: 1665.35\tvalid_0's l2: 2.77338e+06\n",
      "[99]\tvalid_0's rmse: 1665.09\tvalid_0's l2: 2.77253e+06\n",
      "[100]\tvalid_0's rmse: 1664.67\tvalid_0's l2: 2.77114e+06\n",
      "CPU times: user 3min 34s, sys: 1.9 s, total: 3min 36s\n",
      "Wall time: 3min 38s\n"
     ]
    },
    {
     "data": {
      "text/plain": [
       "LGBMRegressor()"
      ]
     },
     "execution_count": 27,
     "metadata": {},
     "output_type": "execute_result"
    }
   ],
   "source": [
    "%%time\n",
    "gbm = LGBMRegressor()\n",
    "gbm.fit(features_gbm_train, target_gbm_train, \n",
    "        eval_set=[(features_gbm_valid, target_gbm_valid)], eval_metric='rmse',\n",
    "        categorical_feature=list_c)"
   ]
  },
  {
   "cell_type": "code",
   "execution_count": 28,
   "metadata": {},
   "outputs": [
    {
     "name": "stdout",
     "output_type": "stream",
     "text": [
      "RMSE: 1664.673962525454\n",
      "CPU times: user 666 ms, sys: 11.1 ms, total: 677 ms\n",
      "Wall time: 673 ms\n"
     ]
    }
   ],
   "source": [
    "%%time\n",
    "predictions = gbm.predict(features_gbm_valid, num_iteration=gbm.best_iteration_)\n",
    "rmse_gbm_raw = np.sqrt(((predictions - target_gbm_valid) ** 2).mean())\n",
    "print('RMSE:', rmse_gbm_raw)"
   ]
  },
  {
   "cell_type": "markdown",
   "metadata": {},
   "source": [
    "### Линейная регрессия без подбора гиперпараметров"
   ]
  },
  {
   "cell_type": "code",
   "execution_count": 29,
   "metadata": {},
   "outputs": [
    {
     "name": "stdout",
     "output_type": "stream",
     "text": [
      "CPU times: user 13.8 s, sys: 26.2 s, total: 40 s\n",
      "Wall time: 40.2 s\n"
     ]
    },
    {
     "data": {
      "text/plain": [
       "LinearRegression()"
      ]
     },
     "execution_count": 29,
     "metadata": {},
     "output_type": "execute_result"
    }
   ],
   "source": [
    "%%time\n",
    "lin = LinearRegression()\n",
    "lin.fit(features_train, target_train)"
   ]
  },
  {
   "cell_type": "code",
   "execution_count": 30,
   "metadata": {},
   "outputs": [
    {
     "name": "stdout",
     "output_type": "stream",
     "text": [
      "RMSE: 2742.645637522012\n",
      "CPU times: user 84.3 ms, sys: 121 ms, total: 206 ms\n",
      "Wall time: 202 ms\n"
     ]
    }
   ],
   "source": [
    "%%time\n",
    "predictions = lin.predict(features_valid)\n",
    "mae_lin = mean_squared_error(target_valid, predictions)**0.5\n",
    "print('RMSE:', mae_lin)"
   ]
  },
  {
   "cell_type": "markdown",
   "metadata": {},
   "source": [
    "**Поскольку у линейной регрессии особо и нету гиперпараметров, которые можно перебирать, то значение RMSE особо и не изменится**"
   ]
  },
  {
   "cell_type": "markdown",
   "metadata": {},
   "source": [
    "### Дерево решений без подбора гиперпараметров"
   ]
  },
  {
   "cell_type": "code",
   "execution_count": 31,
   "metadata": {},
   "outputs": [
    {
     "name": "stdout",
     "output_type": "stream",
     "text": [
      "CPU times: user 5.75 s, sys: 205 ms, total: 5.95 s\n",
      "Wall time: 6.01 s\n"
     ]
    },
    {
     "data": {
      "text/plain": [
       "DecisionTreeRegressor()"
      ]
     },
     "execution_count": 31,
     "metadata": {},
     "output_type": "execute_result"
    }
   ],
   "source": [
    "%%time\n",
    "tree = DecisionTreeRegressor()\n",
    "tree.fit(features_train, target_train)"
   ]
  },
  {
   "cell_type": "code",
   "execution_count": 32,
   "metadata": {},
   "outputs": [
    {
     "name": "stdout",
     "output_type": "stream",
     "text": [
      "RMSE: 2133.268144697835\n",
      "CPU times: user 74.7 ms, sys: 55.5 ms, total: 130 ms\n",
      "Wall time: 132 ms\n"
     ]
    }
   ],
   "source": [
    "%%time\n",
    "predictions = tree.predict(features_valid)\n",
    "rmse_tree_raw = mean_squared_error(target_valid, predictions)**0.5\n",
    "print('RMSE:', rmse_tree_raw)"
   ]
  },
  {
   "cell_type": "markdown",
   "metadata": {},
   "source": [
    "Вывод по моделям без подбора гиперпараметров:\n",
    "\n",
    "* Первое место - LightGBM с RMSE = 1664.67 и временем обучения 218 секунд\n",
    "* Второе место - дерево решений с RMSE = 2133.08 и временем обучения 6.01 секунд\n",
    "* Третье место - линейная регрессия с RMSE = 2742.64 и временем обучения 40.2 секунд\n",
    "\n",
    "Теперь рассмотрим модели с подбором гиперпараметров"
   ]
  },
  {
   "cell_type": "markdown",
   "metadata": {},
   "source": [
    "### LightGBM с подбором гиперпараметров"
   ]
  },
  {
   "cell_type": "code",
   "execution_count": 33,
   "metadata": {
    "scrolled": true
   },
   "outputs": [
    {
     "name": "stdout",
     "output_type": "stream",
     "text": [
      "[LightGBM] [Warning] min_data_in_leaf is set=100, min_child_samples=20 will be ignored. Current value: min_data_in_leaf=100\n"
     ]
    },
    {
     "name": "stderr",
     "output_type": "stream",
     "text": [
      "/opt/conda/lib/python3.9/site-packages/lightgbm/basic.py:1487: UserWarning: categorical_feature keyword has been found in `params` and will be ignored.\n",
      "Please use categorical_feature argument of the Dataset constructor to pass this parameter.\n",
      "  _log_warning(f'{key} keyword has been found in `params` and will be ignored.\\n'\n",
      "/opt/conda/lib/python3.9/site-packages/lightgbm/basic.py:1513: UserWarning: categorical_feature in param dict is overridden.\n",
      "  _log_warning(f'{cat_alias} in param dict is overridden.')\n",
      "/opt/conda/lib/python3.9/site-packages/lightgbm/basic.py:1780: UserWarning: Overriding the parameters from Reference Dataset.\n",
      "  _log_warning('Overriding the parameters from Reference Dataset.')\n",
      "/opt/conda/lib/python3.9/site-packages/lightgbm/basic.py:1513: UserWarning: categorical_column in param dict is overridden.\n",
      "  _log_warning(f'{cat_alias} in param dict is overridden.')\n"
     ]
    },
    {
     "name": "stdout",
     "output_type": "stream",
     "text": [
      "[1]\tvalid_0's rmse: 3398.35\tvalid_0's l2: 1.15488e+07\n",
      "[2]\tvalid_0's rmse: 2680.09\tvalid_0's l2: 7.18286e+06\n",
      "[3]\tvalid_0's rmse: 2260.66\tvalid_0's l2: 5.1106e+06\n",
      "[4]\tvalid_0's rmse: 2015.18\tvalid_0's l2: 4.06095e+06\n",
      "[5]\tvalid_0's rmse: 1880.69\tvalid_0's l2: 3.537e+06\n",
      "[6]\tvalid_0's rmse: 1804.47\tvalid_0's l2: 3.2561e+06\n",
      "[7]\tvalid_0's rmse: 1757.64\tvalid_0's l2: 3.08929e+06\n",
      "[8]\tvalid_0's rmse: 1730.02\tvalid_0's l2: 2.99298e+06\n",
      "[9]\tvalid_0's rmse: 1710.88\tvalid_0's l2: 2.92711e+06\n",
      "[10]\tvalid_0's rmse: 1698.22\tvalid_0's l2: 2.88395e+06\n",
      "[11]\tvalid_0's rmse: 1690.94\tvalid_0's l2: 2.85929e+06\n",
      "[12]\tvalid_0's rmse: 1686.65\tvalid_0's l2: 2.84478e+06\n",
      "[13]\tvalid_0's rmse: 1682.69\tvalid_0's l2: 2.83146e+06\n",
      "[14]\tvalid_0's rmse: 1679.91\tvalid_0's l2: 2.82211e+06\n",
      "[15]\tvalid_0's rmse: 1677.8\tvalid_0's l2: 2.815e+06\n",
      "[16]\tvalid_0's rmse: 1673.66\tvalid_0's l2: 2.80115e+06\n",
      "[17]\tvalid_0's rmse: 1671.51\tvalid_0's l2: 2.79396e+06\n",
      "[18]\tvalid_0's rmse: 1670.68\tvalid_0's l2: 2.79116e+06\n",
      "[19]\tvalid_0's rmse: 1667.39\tvalid_0's l2: 2.7802e+06\n",
      "[20]\tvalid_0's rmse: 1664.01\tvalid_0's l2: 2.76892e+06\n",
      "[21]\tvalid_0's rmse: 1662.98\tvalid_0's l2: 2.76549e+06\n",
      "[22]\tvalid_0's rmse: 1662.03\tvalid_0's l2: 2.76235e+06\n",
      "[23]\tvalid_0's rmse: 1660.6\tvalid_0's l2: 2.7576e+06\n",
      "[24]\tvalid_0's rmse: 1659.43\tvalid_0's l2: 2.75372e+06\n",
      "[25]\tvalid_0's rmse: 1658.57\tvalid_0's l2: 2.75085e+06\n",
      "[26]\tvalid_0's rmse: 1658.44\tvalid_0's l2: 2.75043e+06\n",
      "[27]\tvalid_0's rmse: 1658.07\tvalid_0's l2: 2.7492e+06\n",
      "[28]\tvalid_0's rmse: 1657.49\tvalid_0's l2: 2.74728e+06\n",
      "[29]\tvalid_0's rmse: 1657.54\tvalid_0's l2: 2.74745e+06\n",
      "[30]\tvalid_0's rmse: 1656.17\tvalid_0's l2: 2.74291e+06\n",
      "[31]\tvalid_0's rmse: 1655.53\tvalid_0's l2: 2.74078e+06\n",
      "[32]\tvalid_0's rmse: 1655.42\tvalid_0's l2: 2.74042e+06\n",
      "[33]\tvalid_0's rmse: 1655.63\tvalid_0's l2: 2.74112e+06\n",
      "[34]\tvalid_0's rmse: 1654.3\tvalid_0's l2: 2.7367e+06\n",
      "[35]\tvalid_0's rmse: 1653.2\tvalid_0's l2: 2.73306e+06\n",
      "[36]\tvalid_0's rmse: 1652.37\tvalid_0's l2: 2.73032e+06\n",
      "[37]\tvalid_0's rmse: 1652.21\tvalid_0's l2: 2.72981e+06\n",
      "[38]\tvalid_0's rmse: 1650.5\tvalid_0's l2: 2.72415e+06\n",
      "[39]\tvalid_0's rmse: 1650.06\tvalid_0's l2: 2.7227e+06\n",
      "[40]\tvalid_0's rmse: 1648.89\tvalid_0's l2: 2.71885e+06\n",
      "[41]\tvalid_0's rmse: 1649.2\tvalid_0's l2: 2.71987e+06\n",
      "[42]\tvalid_0's rmse: 1649.15\tvalid_0's l2: 2.71968e+06\n",
      "[43]\tvalid_0's rmse: 1649\tvalid_0's l2: 2.71921e+06\n",
      "[44]\tvalid_0's rmse: 1648.03\tvalid_0's l2: 2.71599e+06\n",
      "[45]\tvalid_0's rmse: 1647.58\tvalid_0's l2: 2.71451e+06\n",
      "[46]\tvalid_0's rmse: 1647.54\tvalid_0's l2: 2.71439e+06\n",
      "[47]\tvalid_0's rmse: 1647.31\tvalid_0's l2: 2.71364e+06\n",
      "[48]\tvalid_0's rmse: 1646.85\tvalid_0's l2: 2.71211e+06\n",
      "[49]\tvalid_0's rmse: 1646.86\tvalid_0's l2: 2.71214e+06\n",
      "[50]\tvalid_0's rmse: 1647.07\tvalid_0's l2: 2.71285e+06\n",
      "[51]\tvalid_0's rmse: 1647.17\tvalid_0's l2: 2.71318e+06\n",
      "[52]\tvalid_0's rmse: 1645.85\tvalid_0's l2: 2.70882e+06\n",
      "[53]\tvalid_0's rmse: 1645.94\tvalid_0's l2: 2.70912e+06\n",
      "[54]\tvalid_0's rmse: 1644.81\tvalid_0's l2: 2.70541e+06\n",
      "[55]\tvalid_0's rmse: 1643.78\tvalid_0's l2: 2.70201e+06\n",
      "[56]\tvalid_0's rmse: 1643.65\tvalid_0's l2: 2.70159e+06\n",
      "[57]\tvalid_0's rmse: 1643.57\tvalid_0's l2: 2.70131e+06\n",
      "[58]\tvalid_0's rmse: 1642.99\tvalid_0's l2: 2.69943e+06\n",
      "[59]\tvalid_0's rmse: 1642.52\tvalid_0's l2: 2.69788e+06\n",
      "[60]\tvalid_0's rmse: 1642.27\tvalid_0's l2: 2.69704e+06\n",
      "[61]\tvalid_0's rmse: 1641.94\tvalid_0's l2: 2.69596e+06\n",
      "[62]\tvalid_0's rmse: 1641.86\tvalid_0's l2: 2.6957e+06\n",
      "[63]\tvalid_0's rmse: 1641.57\tvalid_0's l2: 2.69477e+06\n",
      "[64]\tvalid_0's rmse: 1641.56\tvalid_0's l2: 2.69473e+06\n",
      "[65]\tvalid_0's rmse: 1640.84\tvalid_0's l2: 2.69236e+06\n",
      "[66]\tvalid_0's rmse: 1640.77\tvalid_0's l2: 2.69212e+06\n",
      "[67]\tvalid_0's rmse: 1640.72\tvalid_0's l2: 2.69196e+06\n",
      "[68]\tvalid_0's rmse: 1640.66\tvalid_0's l2: 2.69176e+06\n",
      "[69]\tvalid_0's rmse: 1640.41\tvalid_0's l2: 2.69095e+06\n",
      "[70]\tvalid_0's rmse: 1640.61\tvalid_0's l2: 2.6916e+06\n",
      "[71]\tvalid_0's rmse: 1639.61\tvalid_0's l2: 2.68832e+06\n",
      "[72]\tvalid_0's rmse: 1639.07\tvalid_0's l2: 2.68656e+06\n",
      "[73]\tvalid_0's rmse: 1638.76\tvalid_0's l2: 2.68554e+06\n",
      "[74]\tvalid_0's rmse: 1638.26\tvalid_0's l2: 2.68391e+06\n",
      "[75]\tvalid_0's rmse: 1637.76\tvalid_0's l2: 2.68227e+06\n",
      "[76]\tvalid_0's rmse: 1637.61\tvalid_0's l2: 2.68176e+06\n",
      "[77]\tvalid_0's rmse: 1637.46\tvalid_0's l2: 2.68129e+06\n",
      "[78]\tvalid_0's rmse: 1637.25\tvalid_0's l2: 2.6806e+06\n",
      "[79]\tvalid_0's rmse: 1637.36\tvalid_0's l2: 2.68095e+06\n",
      "[80]\tvalid_0's rmse: 1637.26\tvalid_0's l2: 2.68062e+06\n",
      "[81]\tvalid_0's rmse: 1636.9\tvalid_0's l2: 2.67943e+06\n",
      "[82]\tvalid_0's rmse: 1636.72\tvalid_0's l2: 2.67887e+06\n",
      "[83]\tvalid_0's rmse: 1636.68\tvalid_0's l2: 2.67871e+06\n",
      "[84]\tvalid_0's rmse: 1636.66\tvalid_0's l2: 2.67865e+06\n",
      "[85]\tvalid_0's rmse: 1636.5\tvalid_0's l2: 2.67813e+06\n",
      "[86]\tvalid_0's rmse: 1636.49\tvalid_0's l2: 2.67811e+06\n",
      "[87]\tvalid_0's rmse: 1636.07\tvalid_0's l2: 2.67672e+06\n",
      "[88]\tvalid_0's rmse: 1636.06\tvalid_0's l2: 2.67669e+06\n",
      "[89]\tvalid_0's rmse: 1635.71\tvalid_0's l2: 2.67554e+06\n",
      "[90]\tvalid_0's rmse: 1635.93\tvalid_0's l2: 2.67627e+06\n",
      "[91]\tvalid_0's rmse: 1635.89\tvalid_0's l2: 2.67615e+06\n",
      "[92]\tvalid_0's rmse: 1635.33\tvalid_0's l2: 2.67432e+06\n",
      "[93]\tvalid_0's rmse: 1635.35\tvalid_0's l2: 2.67437e+06\n",
      "[94]\tvalid_0's rmse: 1635.46\tvalid_0's l2: 2.67471e+06\n",
      "[95]\tvalid_0's rmse: 1635.39\tvalid_0's l2: 2.67451e+06\n",
      "[96]\tvalid_0's rmse: 1635.42\tvalid_0's l2: 2.67461e+06\n",
      "[97]\tvalid_0's rmse: 1635.55\tvalid_0's l2: 2.67503e+06\n",
      "[98]\tvalid_0's rmse: 1635.35\tvalid_0's l2: 2.67436e+06\n",
      "[99]\tvalid_0's rmse: 1635.19\tvalid_0's l2: 2.67386e+06\n",
      "[100]\tvalid_0's rmse: 1634.31\tvalid_0's l2: 2.67098e+06\n",
      "CPU times: user 5min 58s, sys: 3.21 s, total: 6min 1s\n",
      "Wall time: 6min 4s\n"
     ]
    },
    {
     "data": {
      "text/plain": [
       "LGBMRegressor(categorical_feature=['VehicleType', 'Gearbox', 'Model',\n",
       "                                   'FuelType', 'Brand', 'Repaired'],\n",
       "              learning_rate=0.35, max_depth=12, min_data_in_leaf=100,\n",
       "              num_leaves=100, random_state=42)"
      ]
     },
     "execution_count": 33,
     "metadata": {},
     "output_type": "execute_result"
    }
   ],
   "source": [
    "%%time\n",
    "gbm = LGBMRegressor(max_depth=12, \n",
    "                    num_leaves=100, \n",
    "                    min_data_in_leaf=100, \n",
    "                    learning_rate=0.35, \n",
    "                    categorical_feature=list_c, \n",
    "                    random_state=42)\n",
    "gbm.fit(features_gbm_train, target_gbm_train, \n",
    "        eval_set=[(features_gbm_valid, target_gbm_valid)], eval_metric='rmse')"
   ]
  },
  {
   "cell_type": "code",
   "execution_count": 34,
   "metadata": {},
   "outputs": [
    {
     "name": "stdout",
     "output_type": "stream",
     "text": [
      "RMSE: 1634.3128564751446\n",
      "CPU times: user 964 ms, sys: 2.89 ms, total: 967 ms\n",
      "Wall time: 989 ms\n"
     ]
    }
   ],
   "source": [
    "%%time\n",
    "predictions = gbm.predict(features_gbm_valid, num_iteration=gbm.best_iteration_)\n",
    "rmse_gbm_final = np.sqrt(((predictions - target_gbm_valid) ** 2).mean())\n",
    "print('RMSE:', rmse_gbm_final)"
   ]
  },
  {
   "cell_type": "markdown",
   "metadata": {},
   "source": [
    "### Дерево решений с подбором гиперпараметров"
   ]
  },
  {
   "cell_type": "code",
   "execution_count": 35,
   "metadata": {},
   "outputs": [
    {
     "name": "stdout",
     "output_type": "stream",
     "text": [
      "CPU times: user 4.24 s, sys: 167 ms, total: 4.41 s\n",
      "Wall time: 4.47 s\n"
     ]
    },
    {
     "data": {
      "text/plain": [
       "DecisionTreeRegressor(max_depth=15, random_state=42)"
      ]
     },
     "execution_count": 35,
     "metadata": {},
     "output_type": "execute_result"
    }
   ],
   "source": [
    "%%time\n",
    "tree = DecisionTreeRegressor(random_state=42, \n",
    "                             max_depth=15, \n",
    "                             splitter='best')\n",
    "tree.fit(features_train, target_train)"
   ]
  },
  {
   "cell_type": "code",
   "execution_count": 36,
   "metadata": {},
   "outputs": [
    {
     "name": "stdout",
     "output_type": "stream",
     "text": [
      "RMSE: 1944.5411423268665\n",
      "CPU times: user 58.2 ms, sys: 56 ms, total: 114 ms\n",
      "Wall time: 115 ms\n"
     ]
    }
   ],
   "source": [
    "%%time\n",
    "predictions = tree.predict(features_valid)\n",
    "rmse_tree_final = mean_squared_error(target_valid, predictions)**0.5\n",
    "print('RMSE:', rmse_tree_final)"
   ]
  },
  {
   "cell_type": "markdown",
   "metadata": {},
   "source": [
    "**Вывод**\n",
    "\n",
    "Мы успешно посмотрели на RMSE моделей с разными гиперпараметрами. Теперь нам нужно проанализировать время обучения, время предсказания и качество моделей."
   ]
  },
  {
   "cell_type": "markdown",
   "metadata": {},
   "source": [
    "## Анализ моделей"
   ]
  },
  {
   "cell_type": "markdown",
   "metadata": {},
   "source": [
    "Создадим таблицу для удобного сравнения моделей"
   ]
  },
  {
   "cell_type": "code",
   "execution_count": 37,
   "metadata": {},
   "outputs": [],
   "source": [
    "learning_time = [218, 364, 6.01, 4.47, 40.2]\n",
    "predicting_time = [0.67, 0.98, 0.13, 0.11, 0.20]\n",
    "rmse = [rmse_gbm_raw, rmse_gbm_final, rmse_tree_raw, rmse_tree_final, rmse_lin]"
   ]
  },
  {
   "cell_type": "code",
   "execution_count": 38,
   "metadata": {},
   "outputs": [
    {
     "data": {
      "text/html": [
       "<div>\n",
       "<style scoped>\n",
       "    .dataframe tbody tr th:only-of-type {\n",
       "        vertical-align: middle;\n",
       "    }\n",
       "\n",
       "    .dataframe tbody tr th {\n",
       "        vertical-align: top;\n",
       "    }\n",
       "\n",
       "    .dataframe thead th {\n",
       "        text-align: right;\n",
       "    }\n",
       "</style>\n",
       "<table border=\"1\" class=\"dataframe\">\n",
       "  <thead>\n",
       "    <tr style=\"text-align: right;\">\n",
       "      <th></th>\n",
       "      <th>lightGBM_raw</th>\n",
       "      <th>lightGBM_final</th>\n",
       "      <th>tree_raw</th>\n",
       "      <th>tree_final</th>\n",
       "      <th>linear_regression</th>\n",
       "    </tr>\n",
       "  </thead>\n",
       "  <tbody>\n",
       "    <tr>\n",
       "      <th>Learning Time</th>\n",
       "      <td>218.00</td>\n",
       "      <td>364.00</td>\n",
       "      <td>6.01</td>\n",
       "      <td>4.47</td>\n",
       "      <td>40.20</td>\n",
       "    </tr>\n",
       "    <tr>\n",
       "      <th>Predicting Time</th>\n",
       "      <td>0.67</td>\n",
       "      <td>0.98</td>\n",
       "      <td>0.13</td>\n",
       "      <td>0.11</td>\n",
       "      <td>0.20</td>\n",
       "    </tr>\n",
       "    <tr>\n",
       "      <th>RMSE</th>\n",
       "      <td>1664.67</td>\n",
       "      <td>1634.31</td>\n",
       "      <td>2133.27</td>\n",
       "      <td>1944.54</td>\n",
       "      <td>2742.65</td>\n",
       "    </tr>\n",
       "  </tbody>\n",
       "</table>\n",
       "</div>"
      ],
      "text/plain": [
       "                 lightGBM_raw  lightGBM_final  tree_raw  tree_final  \\\n",
       "Learning Time          218.00          364.00      6.01        4.47   \n",
       "Predicting Time          0.67            0.98      0.13        0.11   \n",
       "RMSE                  1664.67         1634.31   2133.27     1944.54   \n",
       "\n",
       "                 linear_regression  \n",
       "Learning Time                40.20  \n",
       "Predicting Time               0.20  \n",
       "RMSE                       2742.65  "
      ]
     },
     "execution_count": 38,
     "metadata": {},
     "output_type": "execute_result"
    }
   ],
   "source": [
    "data_final = pd.DataFrame(data=[learning_time, predicting_time, rmse], \n",
    "                          columns=['lightGBM_raw', 'lightGBM_final', 'tree_raw', 'tree_final', 'linear_regression'], \n",
    "                          index=['Learning Time','Predicting Time', 'RMSE']).round(2)\n",
    "data_final"
   ]
  },
  {
   "cell_type": "markdown",
   "metadata": {},
   "source": [
    "Проведём тестирование наилучшей модели"
   ]
  },
  {
   "cell_type": "code",
   "execution_count": 39,
   "metadata": {},
   "outputs": [
    {
     "name": "stderr",
     "output_type": "stream",
     "text": [
      "/opt/conda/lib/python3.9/site-packages/lightgbm/basic.py:1487: UserWarning: categorical_feature keyword has been found in `params` and will be ignored.\n",
      "Please use categorical_feature argument of the Dataset constructor to pass this parameter.\n",
      "  _log_warning(f'{key} keyword has been found in `params` and will be ignored.\\n'\n",
      "/opt/conda/lib/python3.9/site-packages/lightgbm/basic.py:1513: UserWarning: categorical_feature in param dict is overridden.\n",
      "  _log_warning(f'{cat_alias} in param dict is overridden.')\n"
     ]
    },
    {
     "name": "stdout",
     "output_type": "stream",
     "text": [
      "[LightGBM] [Warning] min_data_in_leaf is set=100, min_child_samples=20 will be ignored. Current value: min_data_in_leaf=100\n"
     ]
    },
    {
     "name": "stderr",
     "output_type": "stream",
     "text": [
      "/opt/conda/lib/python3.9/site-packages/lightgbm/basic.py:1780: UserWarning: Overriding the parameters from Reference Dataset.\n",
      "  _log_warning('Overriding the parameters from Reference Dataset.')\n",
      "/opt/conda/lib/python3.9/site-packages/lightgbm/basic.py:1513: UserWarning: categorical_column in param dict is overridden.\n",
      "  _log_warning(f'{cat_alias} in param dict is overridden.')\n"
     ]
    },
    {
     "name": "stdout",
     "output_type": "stream",
     "text": [
      "[1]\tvalid_0's rmse: 3350.91\tvalid_0's l2: 1.12286e+07\n",
      "[2]\tvalid_0's rmse: 2643.32\tvalid_0's l2: 6.98715e+06\n",
      "[3]\tvalid_0's rmse: 2229.55\tvalid_0's l2: 4.97089e+06\n",
      "[4]\tvalid_0's rmse: 1989\tvalid_0's l2: 3.95612e+06\n",
      "[5]\tvalid_0's rmse: 1860.47\tvalid_0's l2: 3.46134e+06\n",
      "[6]\tvalid_0's rmse: 1786.62\tvalid_0's l2: 3.19202e+06\n",
      "[7]\tvalid_0's rmse: 1738.63\tvalid_0's l2: 3.02284e+06\n",
      "[8]\tvalid_0's rmse: 1710\tvalid_0's l2: 2.92409e+06\n",
      "[9]\tvalid_0's rmse: 1692.6\tvalid_0's l2: 2.86488e+06\n",
      "[10]\tvalid_0's rmse: 1679.49\tvalid_0's l2: 2.82067e+06\n",
      "[11]\tvalid_0's rmse: 1670.59\tvalid_0's l2: 2.79089e+06\n",
      "[12]\tvalid_0's rmse: 1666.13\tvalid_0's l2: 2.77598e+06\n",
      "[13]\tvalid_0's rmse: 1661.1\tvalid_0's l2: 2.75924e+06\n",
      "[14]\tvalid_0's rmse: 1657.3\tvalid_0's l2: 2.74663e+06\n",
      "[15]\tvalid_0's rmse: 1654.87\tvalid_0's l2: 2.73859e+06\n",
      "[16]\tvalid_0's rmse: 1652.29\tvalid_0's l2: 2.73008e+06\n",
      "[17]\tvalid_0's rmse: 1649.88\tvalid_0's l2: 2.72209e+06\n",
      "[18]\tvalid_0's rmse: 1648.33\tvalid_0's l2: 2.71701e+06\n",
      "[19]\tvalid_0's rmse: 1645.74\tvalid_0's l2: 2.70846e+06\n",
      "[20]\tvalid_0's rmse: 1642.71\tvalid_0's l2: 2.69849e+06\n",
      "[21]\tvalid_0's rmse: 1641.69\tvalid_0's l2: 2.69513e+06\n",
      "[22]\tvalid_0's rmse: 1639.78\tvalid_0's l2: 2.68888e+06\n",
      "[23]\tvalid_0's rmse: 1638.42\tvalid_0's l2: 2.68443e+06\n",
      "[24]\tvalid_0's rmse: 1637.95\tvalid_0's l2: 2.68288e+06\n",
      "[25]\tvalid_0's rmse: 1636.88\tvalid_0's l2: 2.67938e+06\n",
      "[26]\tvalid_0's rmse: 1636.65\tvalid_0's l2: 2.67863e+06\n",
      "[27]\tvalid_0's rmse: 1635.78\tvalid_0's l2: 2.67578e+06\n",
      "[28]\tvalid_0's rmse: 1634.4\tvalid_0's l2: 2.67126e+06\n",
      "[29]\tvalid_0's rmse: 1634.29\tvalid_0's l2: 2.67092e+06\n",
      "[30]\tvalid_0's rmse: 1631.25\tvalid_0's l2: 2.66097e+06\n",
      "[31]\tvalid_0's rmse: 1630.58\tvalid_0's l2: 2.65879e+06\n",
      "[32]\tvalid_0's rmse: 1630.15\tvalid_0's l2: 2.65738e+06\n",
      "[33]\tvalid_0's rmse: 1629.5\tvalid_0's l2: 2.65527e+06\n",
      "[34]\tvalid_0's rmse: 1628.41\tvalid_0's l2: 2.65173e+06\n",
      "[35]\tvalid_0's rmse: 1627.41\tvalid_0's l2: 2.64846e+06\n",
      "[36]\tvalid_0's rmse: 1626.78\tvalid_0's l2: 2.6464e+06\n",
      "[37]\tvalid_0's rmse: 1625.66\tvalid_0's l2: 2.64277e+06\n",
      "[38]\tvalid_0's rmse: 1624.26\tvalid_0's l2: 2.63822e+06\n",
      "[39]\tvalid_0's rmse: 1623.65\tvalid_0's l2: 2.63625e+06\n",
      "[40]\tvalid_0's rmse: 1622.8\tvalid_0's l2: 2.63347e+06\n",
      "[41]\tvalid_0's rmse: 1623\tvalid_0's l2: 2.63412e+06\n",
      "[42]\tvalid_0's rmse: 1622.66\tvalid_0's l2: 2.63302e+06\n",
      "[43]\tvalid_0's rmse: 1622.51\tvalid_0's l2: 2.63253e+06\n",
      "[44]\tvalid_0's rmse: 1620.98\tvalid_0's l2: 2.62759e+06\n",
      "[45]\tvalid_0's rmse: 1620.36\tvalid_0's l2: 2.62557e+06\n",
      "[46]\tvalid_0's rmse: 1620.01\tvalid_0's l2: 2.62444e+06\n",
      "[47]\tvalid_0's rmse: 1619.61\tvalid_0's l2: 2.62313e+06\n",
      "[48]\tvalid_0's rmse: 1619.21\tvalid_0's l2: 2.62185e+06\n",
      "[49]\tvalid_0's rmse: 1618.82\tvalid_0's l2: 2.62058e+06\n",
      "[50]\tvalid_0's rmse: 1618.71\tvalid_0's l2: 2.62021e+06\n",
      "[51]\tvalid_0's rmse: 1618.38\tvalid_0's l2: 2.61914e+06\n",
      "[52]\tvalid_0's rmse: 1617.26\tvalid_0's l2: 2.61553e+06\n",
      "[53]\tvalid_0's rmse: 1616.89\tvalid_0's l2: 2.61434e+06\n",
      "[54]\tvalid_0's rmse: 1616.43\tvalid_0's l2: 2.61283e+06\n",
      "[55]\tvalid_0's rmse: 1615.91\tvalid_0's l2: 2.61118e+06\n",
      "[56]\tvalid_0's rmse: 1615.71\tvalid_0's l2: 2.61051e+06\n",
      "[57]\tvalid_0's rmse: 1615.09\tvalid_0's l2: 2.60852e+06\n",
      "[58]\tvalid_0's rmse: 1614.7\tvalid_0's l2: 2.60726e+06\n",
      "[59]\tvalid_0's rmse: 1613.3\tvalid_0's l2: 2.60274e+06\n",
      "[60]\tvalid_0's rmse: 1613.08\tvalid_0's l2: 2.60204e+06\n",
      "[61]\tvalid_0's rmse: 1612.61\tvalid_0's l2: 2.6005e+06\n",
      "[62]\tvalid_0's rmse: 1612.56\tvalid_0's l2: 2.60034e+06\n",
      "[63]\tvalid_0's rmse: 1611.87\tvalid_0's l2: 2.59813e+06\n",
      "[64]\tvalid_0's rmse: 1611.63\tvalid_0's l2: 2.59736e+06\n",
      "[65]\tvalid_0's rmse: 1610.48\tvalid_0's l2: 2.59366e+06\n",
      "[66]\tvalid_0's rmse: 1610.31\tvalid_0's l2: 2.59309e+06\n",
      "[67]\tvalid_0's rmse: 1610.19\tvalid_0's l2: 2.5927e+06\n",
      "[68]\tvalid_0's rmse: 1610.09\tvalid_0's l2: 2.59238e+06\n",
      "[69]\tvalid_0's rmse: 1609.98\tvalid_0's l2: 2.59205e+06\n",
      "[70]\tvalid_0's rmse: 1609.63\tvalid_0's l2: 2.59092e+06\n",
      "[71]\tvalid_0's rmse: 1608.59\tvalid_0's l2: 2.58756e+06\n",
      "[72]\tvalid_0's rmse: 1607.83\tvalid_0's l2: 2.58513e+06\n",
      "[73]\tvalid_0's rmse: 1607.84\tvalid_0's l2: 2.58515e+06\n",
      "[74]\tvalid_0's rmse: 1607.67\tvalid_0's l2: 2.58462e+06\n",
      "[75]\tvalid_0's rmse: 1607.45\tvalid_0's l2: 2.58391e+06\n",
      "[76]\tvalid_0's rmse: 1607.49\tvalid_0's l2: 2.58403e+06\n",
      "[77]\tvalid_0's rmse: 1607.17\tvalid_0's l2: 2.583e+06\n",
      "[78]\tvalid_0's rmse: 1607.48\tvalid_0's l2: 2.584e+06\n",
      "[79]\tvalid_0's rmse: 1607.36\tvalid_0's l2: 2.58359e+06\n",
      "[80]\tvalid_0's rmse: 1606.9\tvalid_0's l2: 2.58211e+06\n",
      "[81]\tvalid_0's rmse: 1606.8\tvalid_0's l2: 2.58182e+06\n",
      "[82]\tvalid_0's rmse: 1606.72\tvalid_0's l2: 2.58156e+06\n",
      "[83]\tvalid_0's rmse: 1606.78\tvalid_0's l2: 2.58173e+06\n",
      "[84]\tvalid_0's rmse: 1606.84\tvalid_0's l2: 2.58195e+06\n",
      "[85]\tvalid_0's rmse: 1606.66\tvalid_0's l2: 2.58137e+06\n",
      "[86]\tvalid_0's rmse: 1606.59\tvalid_0's l2: 2.58115e+06\n",
      "[87]\tvalid_0's rmse: 1606.72\tvalid_0's l2: 2.58154e+06\n",
      "[88]\tvalid_0's rmse: 1606.76\tvalid_0's l2: 2.58168e+06\n",
      "[89]\tvalid_0's rmse: 1605.83\tvalid_0's l2: 2.57868e+06\n",
      "[90]\tvalid_0's rmse: 1606.15\tvalid_0's l2: 2.57971e+06\n",
      "[91]\tvalid_0's rmse: 1606.62\tvalid_0's l2: 2.58124e+06\n",
      "[92]\tvalid_0's rmse: 1606.13\tvalid_0's l2: 2.57966e+06\n",
      "[93]\tvalid_0's rmse: 1606.18\tvalid_0's l2: 2.57981e+06\n",
      "[94]\tvalid_0's rmse: 1606.33\tvalid_0's l2: 2.58031e+06\n",
      "[95]\tvalid_0's rmse: 1606.57\tvalid_0's l2: 2.58105e+06\n",
      "[96]\tvalid_0's rmse: 1606.69\tvalid_0's l2: 2.58146e+06\n",
      "[97]\tvalid_0's rmse: 1606.66\tvalid_0's l2: 2.58134e+06\n",
      "[98]\tvalid_0's rmse: 1606.65\tvalid_0's l2: 2.58131e+06\n",
      "[99]\tvalid_0's rmse: 1606.67\tvalid_0's l2: 2.5814e+06\n",
      "[100]\tvalid_0's rmse: 1606.06\tvalid_0's l2: 2.57943e+06\n",
      "CPU times: user 5min 48s, sys: 2.55 s, total: 5min 50s\n",
      "Wall time: 5min 53s\n"
     ]
    },
    {
     "data": {
      "text/plain": [
       "LGBMRegressor(categorical_feature=['VehicleType', 'Gearbox', 'Model',\n",
       "                                   'FuelType', 'Brand', 'Repaired'],\n",
       "              learning_rate=0.35, max_depth=12, min_data_in_leaf=100,\n",
       "              num_leaves=100, random_state=42)"
      ]
     },
     "execution_count": 39,
     "metadata": {},
     "output_type": "execute_result"
    }
   ],
   "source": [
    "%%time\n",
    "gbm = LGBMRegressor(max_depth=12, \n",
    "                    num_leaves=100, \n",
    "                    min_data_in_leaf=100, \n",
    "                    learning_rate=0.35, \n",
    "                    categorical_feature=list_c, \n",
    "                    random_state=42)\n",
    "gbm.fit(features_gbm_train, target_gbm_train, \n",
    "        eval_set=[(features_gbm_test, target_gbm_test)], eval_metric='rmse')"
   ]
  },
  {
   "cell_type": "code",
   "execution_count": 40,
   "metadata": {
    "scrolled": true
   },
   "outputs": [
    {
     "name": "stdout",
     "output_type": "stream",
     "text": [
      "RMSE: 1606.0618452586593\n",
      "CPU times: user 876 ms, sys: 0 ns, total: 876 ms\n",
      "Wall time: 827 ms\n"
     ]
    }
   ],
   "source": [
    "%%time\n",
    "predictions = gbm.predict(features_gbm_test, num_iteration=gbm.best_iteration_)\n",
    "rmse_gbm_final = np.sqrt(((predictions - target_gbm_test) ** 2).mean())\n",
    "print('RMSE:', rmse_gbm_final)"
   ]
  },
  {
   "cell_type": "markdown",
   "metadata": {},
   "source": [
    "Можно смело сказать, что модель справилась с задачей. RMSE на тестовой выборке = 1606.06, что выше значения RMSE на валидационной выборке"
   ]
  },
  {
   "cell_type": "markdown",
   "metadata": {},
   "source": [
    "**Вывод**\n",
    "\n",
    "Исходя из данных можно сделать следующий вывод:\n",
    "\n",
    "* Лучшая модель - LightGBM на тестовой с подбором гиперпараметров RMSE=1606.06. Модель себя показала отлично в обоих случаях (с подбором и без гиперпараметров)\n",
    "* Быстрее всех обучалось дерево решений (за 6.01 секунд без подбора и 4.47 с подбором)\n",
    "* Линейная регрессия показала себя очень плохо в данной задаче. Самый большой RMSE = 2742.65.\n",
    "* Все модели показали быстрое время предсказания, но LightGBM предсказывал на мгновение дольше.\n",
    "* LightGBM даже без подбора даёт отличный результат"
   ]
  },
  {
   "cell_type": "markdown",
   "metadata": {},
   "source": [
    "## Общий вывод"
   ]
  },
  {
   "cell_type": "markdown",
   "metadata": {},
   "source": [
    "В ходе работы мы:\n",
    "\n",
    "1. Изучили данные сервиса «Не бит, не крашен»\n",
    "2. Провели предобработку данных\n",
    "3. Для модели LightGBM скопировали датафрейм без кодирования категориальных признаков\n",
    "4. Для датафрейма к другим моделям мы выполнили кодировку, разбили на выборки и провели масштабирование\n",
    "5. Обучили и проверили модели без подбора гиперпараметров\n",
    "6. Обучили и проверили модели с подбором гиперпараметров\n",
    "7. Проанализировали полученные результаты\n",
    "\n",
    "Нам был предостафлен один файл с данными. Провели предобработку, ибо данные были не в подготовленном виде.\n",
    "\n",
    "После обучения и анализа моделей мы пришли к выводу, что LightGBM показал себя лучше всех в этой задаче: RMSE = 1606.06, время обучения = 353 секунды и время предсказания = 0.82 секунд.\n",
    "\n",
    "**Итог**\n",
    "\n",
    "* LightGBM - лучший показатель RMSE на тестовой выборке = 1606 (с подбором гиперпараметров), но худшее время обучения\n",
    "* Дерево решений - лучшее время обучения 4.47 секунд и второе место по качеству RMSE на валидационной выборке = 1944\n",
    "* Линейная регрессия - явный аутсайдер с RMSE на валидационной выборке = 2742 и временем обучения в 40 секунд\n",
    "* Все модели показали быстрое время предсказания, но вот тут LightGBM занял последннее место со временем в 0.82 секунд.\n",
    "\n",
    "Можно смело утверждать, что для данной задачи модель градиентного бустинга является лучшей. Хоть и время обучения с предсказанием не самые быстрые, но показатель RMSE на голову выше, чем у остальных моделей. \n",
    "\n",
    "Если хочется быстрого решения задачи, то тогда стоит остановиться на дереве решений. "
   ]
  }
 ],
 "metadata": {
  "ExecuteTimeLog": [
   {
    "duration": 1588,
    "start_time": "2023-02-08T14:12:51.553Z"
   },
   {
    "duration": 2932,
    "start_time": "2023-02-08T14:13:20.274Z"
   },
   {
    "duration": 19,
    "start_time": "2023-02-08T14:13:53.158Z"
   },
   {
    "duration": 123,
    "start_time": "2023-02-08T14:14:00.734Z"
   },
   {
    "duration": 101,
    "start_time": "2023-02-08T14:14:13.792Z"
   },
   {
    "duration": 143,
    "start_time": "2023-02-08T14:15:21.800Z"
   },
   {
    "duration": 115,
    "start_time": "2023-02-08T15:15:42.347Z"
   },
   {
    "duration": 34,
    "start_time": "2023-02-08T15:15:48.161Z"
   },
   {
    "duration": 14,
    "start_time": "2023-02-08T15:17:07.025Z"
   },
   {
    "duration": 14,
    "start_time": "2023-02-08T15:17:10.872Z"
   },
   {
    "duration": 858,
    "start_time": "2023-02-08T15:17:19.180Z"
   },
   {
    "duration": 120,
    "start_time": "2023-02-08T15:17:24.252Z"
   },
   {
    "duration": 166,
    "start_time": "2023-02-08T15:26:33.139Z"
   },
   {
    "duration": 1506,
    "start_time": "2023-02-08T15:28:31.241Z"
   },
   {
    "duration": 1533,
    "start_time": "2023-02-08T15:29:15.760Z"
   },
   {
    "duration": 1529,
    "start_time": "2023-02-08T15:30:53.818Z"
   },
   {
    "duration": 1567,
    "start_time": "2023-02-08T15:31:36.647Z"
   },
   {
    "duration": 2878,
    "start_time": "2023-02-08T15:33:09.462Z"
   },
   {
    "duration": 12,
    "start_time": "2023-02-08T15:45:52.521Z"
   },
   {
    "duration": 29,
    "start_time": "2023-02-08T15:48:07.653Z"
   },
   {
    "duration": 52,
    "start_time": "2023-02-08T15:50:30.411Z"
   },
   {
    "duration": 66,
    "start_time": "2023-02-08T15:50:38.584Z"
   },
   {
    "duration": 1490,
    "start_time": "2023-02-08T15:50:43.280Z"
   },
   {
    "duration": 8,
    "start_time": "2023-02-08T15:50:56.064Z"
   },
   {
    "duration": 12,
    "start_time": "2023-02-08T15:51:57.489Z"
   },
   {
    "duration": 1409,
    "start_time": "2023-02-08T15:52:04.711Z"
   },
   {
    "duration": 2853,
    "start_time": "2023-02-08T15:52:10.690Z"
   },
   {
    "duration": 1487,
    "start_time": "2023-02-08T15:52:39.119Z"
   },
   {
    "duration": 1441,
    "start_time": "2023-02-08T15:52:56.619Z"
   },
   {
    "duration": 688,
    "start_time": "2023-02-08T15:53:13.762Z"
   },
   {
    "duration": 731,
    "start_time": "2023-02-08T15:53:36.931Z"
   },
   {
    "duration": 742,
    "start_time": "2023-02-08T15:53:44.411Z"
   },
   {
    "duration": 123,
    "start_time": "2023-02-08T15:53:54.114Z"
   },
   {
    "duration": 1468,
    "start_time": "2023-02-08T15:53:58.975Z"
   },
   {
    "duration": 10,
    "start_time": "2023-02-08T15:54:05.943Z"
   },
   {
    "duration": 73,
    "start_time": "2023-02-08T15:54:17.648Z"
   },
   {
    "duration": 1538,
    "start_time": "2023-02-08T15:54:59.114Z"
   },
   {
    "duration": 41,
    "start_time": "2023-02-08T15:55:14.216Z"
   },
   {
    "duration": 1591,
    "start_time": "2023-02-08T15:55:18.827Z"
   },
   {
    "duration": 1518,
    "start_time": "2023-02-08T15:55:26.579Z"
   },
   {
    "duration": 1655,
    "start_time": "2023-02-08T15:56:16.509Z"
   },
   {
    "duration": 2211,
    "start_time": "2023-02-08T17:17:51.641Z"
   },
   {
    "duration": 1727,
    "start_time": "2023-02-08T17:17:53.862Z"
   },
   {
    "duration": 26,
    "start_time": "2023-02-08T17:17:55.591Z"
   },
   {
    "duration": 286,
    "start_time": "2023-02-08T17:17:55.619Z"
   },
   {
    "duration": 145,
    "start_time": "2023-02-08T17:17:55.912Z"
   },
   {
    "duration": 318,
    "start_time": "2023-02-08T17:17:56.060Z"
   },
   {
    "duration": 204,
    "start_time": "2023-02-08T17:17:56.380Z"
   },
   {
    "duration": 345,
    "start_time": "2023-02-08T17:17:56.587Z"
   },
   {
    "duration": 4486,
    "start_time": "2023-02-08T17:17:58.596Z"
   },
   {
    "duration": 11,
    "start_time": "2023-02-08T17:18:03.086Z"
   },
   {
    "duration": 2223,
    "start_time": "2023-02-08T17:18:07.291Z"
   },
   {
    "duration": 448,
    "start_time": "2023-02-08T17:37:36.790Z"
   },
   {
    "duration": 477,
    "start_time": "2023-02-08T17:37:49.281Z"
   },
   {
    "duration": 420,
    "start_time": "2023-02-08T17:37:53.890Z"
   },
   {
    "duration": 671,
    "start_time": "2023-02-08T17:37:59.589Z"
   },
   {
    "duration": 356,
    "start_time": "2023-02-08T17:38:04.339Z"
   },
   {
    "duration": 37,
    "start_time": "2023-02-08T18:03:29.069Z"
   },
   {
    "duration": 49,
    "start_time": "2023-02-08T18:03:44.312Z"
   },
   {
    "duration": 140,
    "start_time": "2023-02-08T18:03:48.498Z"
   },
   {
    "duration": 192,
    "start_time": "2023-02-08T18:04:11.241Z"
   },
   {
    "duration": 385,
    "start_time": "2023-02-08T18:05:10.853Z"
   },
   {
    "duration": 433,
    "start_time": "2023-02-08T18:05:22.238Z"
   },
   {
    "duration": 899,
    "start_time": "2023-02-08T18:05:48.304Z"
   },
   {
    "duration": 700,
    "start_time": "2023-02-08T18:05:56.310Z"
   },
   {
    "duration": 606,
    "start_time": "2023-02-08T18:06:02.039Z"
   },
   {
    "duration": 524,
    "start_time": "2023-02-08T18:06:24.024Z"
   },
   {
    "duration": 661,
    "start_time": "2023-02-08T18:06:26.748Z"
   },
   {
    "duration": 493,
    "start_time": "2023-02-08T18:06:31.549Z"
   },
   {
    "duration": 542,
    "start_time": "2023-02-08T18:06:34.303Z"
   },
   {
    "duration": 194,
    "start_time": "2023-02-08T18:09:59.824Z"
   },
   {
    "duration": 187,
    "start_time": "2023-02-08T18:10:06.993Z"
   },
   {
    "duration": 201,
    "start_time": "2023-02-08T18:10:17.674Z"
   },
   {
    "duration": 183,
    "start_time": "2023-02-08T18:10:25.938Z"
   },
   {
    "duration": 7,
    "start_time": "2023-02-08T18:13:05.990Z"
   },
   {
    "duration": 32,
    "start_time": "2023-02-08T18:13:08.852Z"
   },
   {
    "duration": 558,
    "start_time": "2023-02-08T18:13:22.984Z"
   },
   {
    "duration": 596,
    "start_time": "2023-02-08T18:13:39.453Z"
   },
   {
    "duration": 546,
    "start_time": "2023-02-08T18:13:46.113Z"
   },
   {
    "duration": 669,
    "start_time": "2023-02-08T18:13:51.300Z"
   },
   {
    "duration": 900,
    "start_time": "2023-02-08T18:34:23.274Z"
   },
   {
    "duration": 860,
    "start_time": "2023-02-08T18:34:33.765Z"
   },
   {
    "duration": 69,
    "start_time": "2023-02-08T20:14:21.644Z"
   },
   {
    "duration": 56,
    "start_time": "2023-02-08T20:14:44.375Z"
   },
   {
    "duration": 814,
    "start_time": "2023-02-08T20:25:13.790Z"
   },
   {
    "duration": 32,
    "start_time": "2023-02-08T20:25:21.044Z"
   },
   {
    "duration": 30,
    "start_time": "2023-02-08T20:26:18.144Z"
   },
   {
    "duration": 5,
    "start_time": "2023-02-08T20:26:52.262Z"
   },
   {
    "duration": 1246,
    "start_time": "2023-02-08T20:26:53.148Z"
   },
   {
    "duration": 23,
    "start_time": "2023-02-08T20:26:54.851Z"
   },
   {
    "duration": 211,
    "start_time": "2023-02-08T20:26:57.589Z"
   },
   {
    "duration": 89,
    "start_time": "2023-02-08T20:26:59.171Z"
   },
   {
    "duration": 158,
    "start_time": "2023-02-08T20:26:59.706Z"
   },
   {
    "duration": 114,
    "start_time": "2023-02-08T20:27:02.683Z"
   },
   {
    "duration": 186,
    "start_time": "2023-02-08T20:27:04.397Z"
   },
   {
    "duration": 3793,
    "start_time": "2023-02-08T20:27:05.378Z"
   },
   {
    "duration": 8,
    "start_time": "2023-02-08T20:27:09.173Z"
   },
   {
    "duration": 280,
    "start_time": "2023-02-08T20:27:09.183Z"
   },
   {
    "duration": 437,
    "start_time": "2023-02-08T20:27:09.470Z"
   },
   {
    "duration": 325,
    "start_time": "2023-02-08T20:27:09.910Z"
   },
   {
    "duration": 24,
    "start_time": "2023-02-08T20:27:14.004Z"
   },
   {
    "duration": 15,
    "start_time": "2023-02-08T20:27:30.260Z"
   },
   {
    "duration": 17,
    "start_time": "2023-02-08T20:27:51.545Z"
   },
   {
    "duration": 15,
    "start_time": "2023-02-08T20:27:56.574Z"
   },
   {
    "duration": 6,
    "start_time": "2023-02-08T20:28:35.889Z"
   },
   {
    "duration": 6,
    "start_time": "2023-02-08T20:28:41.782Z"
   },
   {
    "duration": 6,
    "start_time": "2023-02-08T20:28:44.982Z"
   },
   {
    "duration": 4,
    "start_time": "2023-02-08T20:28:53.673Z"
   },
   {
    "duration": 5,
    "start_time": "2023-02-08T20:28:58.266Z"
   },
   {
    "duration": 67,
    "start_time": "2023-02-08T20:29:49.029Z"
   },
   {
    "duration": 1473,
    "start_time": "2023-02-08T20:30:25.456Z"
   },
   {
    "duration": 51,
    "start_time": "2023-02-08T20:35:21.643Z"
   },
   {
    "duration": 52,
    "start_time": "2023-02-08T20:35:41.902Z"
   },
   {
    "duration": 49,
    "start_time": "2023-02-08T20:35:46.729Z"
   },
   {
    "duration": 40,
    "start_time": "2023-02-08T20:36:03.488Z"
   },
   {
    "duration": 63,
    "start_time": "2023-02-08T20:36:09.733Z"
   },
   {
    "duration": 32,
    "start_time": "2023-02-08T20:36:14.771Z"
   },
   {
    "duration": 38,
    "start_time": "2023-02-08T20:36:29.749Z"
   },
   {
    "duration": 40,
    "start_time": "2023-02-08T20:37:12.545Z"
   },
   {
    "duration": 29,
    "start_time": "2023-02-08T20:37:17.750Z"
   },
   {
    "duration": 1137,
    "start_time": "2023-02-08T20:37:36.289Z"
   },
   {
    "duration": 75,
    "start_time": "2023-02-08T20:48:26.853Z"
   },
   {
    "duration": 171,
    "start_time": "2023-02-08T20:50:01.710Z"
   },
   {
    "duration": 19,
    "start_time": "2023-02-08T20:50:06.448Z"
   },
   {
    "duration": 73,
    "start_time": "2023-02-08T20:50:13.403Z"
   },
   {
    "duration": 9,
    "start_time": "2023-02-08T20:50:30.451Z"
   },
   {
    "duration": 533,
    "start_time": "2023-02-08T21:13:41.482Z"
   },
   {
    "duration": 323,
    "start_time": "2023-02-08T21:13:46.589Z"
   },
   {
    "duration": 56,
    "start_time": "2023-02-08T21:21:41.155Z"
   },
   {
    "duration": 131,
    "start_time": "2023-02-08T21:32:05.838Z"
   },
   {
    "duration": 10,
    "start_time": "2023-02-08T21:32:25.315Z"
   },
   {
    "duration": 6,
    "start_time": "2023-02-08T21:32:32.498Z"
   },
   {
    "duration": 941,
    "start_time": "2023-02-08T21:32:37.089Z"
   },
   {
    "duration": 884,
    "start_time": "2023-02-08T21:32:59.462Z"
   },
   {
    "duration": 736,
    "start_time": "2023-02-08T21:33:01.964Z"
   },
   {
    "duration": 38,
    "start_time": "2023-02-08T21:33:09.843Z"
   },
   {
    "duration": 807,
    "start_time": "2023-02-08T21:33:14.168Z"
   },
   {
    "duration": 35,
    "start_time": "2023-02-08T21:33:18.868Z"
   },
   {
    "duration": 46,
    "start_time": "2023-02-08T21:33:21.453Z"
   },
   {
    "duration": 25,
    "start_time": "2023-02-08T21:33:24.190Z"
   },
   {
    "duration": 40,
    "start_time": "2023-02-08T21:33:27.012Z"
   },
   {
    "duration": 32,
    "start_time": "2023-02-08T21:33:28.828Z"
   },
   {
    "duration": 27,
    "start_time": "2023-02-08T21:33:31.391Z"
   },
   {
    "duration": 68,
    "start_time": "2023-02-08T21:33:33.832Z"
   },
   {
    "duration": 28,
    "start_time": "2023-02-08T21:33:35.764Z"
   },
   {
    "duration": 46,
    "start_time": "2023-02-08T21:34:06.983Z"
   },
   {
    "duration": 43,
    "start_time": "2023-02-08T21:37:56.675Z"
   },
   {
    "duration": 4,
    "start_time": "2023-02-08T21:38:00.006Z"
   },
   {
    "duration": 4,
    "start_time": "2023-02-08T21:38:20.712Z"
   },
   {
    "duration": 93,
    "start_time": "2023-02-08T21:42:35.787Z"
   },
   {
    "duration": 592,
    "start_time": "2023-02-08T21:43:03.241Z"
   },
   {
    "duration": 5,
    "start_time": "2023-02-08T21:44:34.370Z"
   },
   {
    "duration": 1030,
    "start_time": "2023-02-08T21:44:34.377Z"
   },
   {
    "duration": 16,
    "start_time": "2023-02-08T21:44:35.410Z"
   },
   {
    "duration": 203,
    "start_time": "2023-02-08T21:44:35.429Z"
   },
   {
    "duration": 105,
    "start_time": "2023-02-08T21:44:35.634Z"
   },
   {
    "duration": 182,
    "start_time": "2023-02-08T21:44:35.741Z"
   },
   {
    "duration": 141,
    "start_time": "2023-02-08T21:44:35.925Z"
   },
   {
    "duration": 224,
    "start_time": "2023-02-08T21:44:36.070Z"
   },
   {
    "duration": 4543,
    "start_time": "2023-02-08T21:44:36.296Z"
   },
   {
    "duration": 22,
    "start_time": "2023-02-08T21:44:40.841Z"
   },
   {
    "duration": 270,
    "start_time": "2023-02-08T21:44:40.868Z"
   },
   {
    "duration": 568,
    "start_time": "2023-02-08T21:44:41.140Z"
   },
   {
    "duration": 382,
    "start_time": "2023-02-08T21:44:41.711Z"
   },
   {
    "duration": 37,
    "start_time": "2023-02-08T21:44:42.094Z"
   },
   {
    "duration": 75,
    "start_time": "2023-02-08T21:44:42.132Z"
   },
   {
    "duration": 5,
    "start_time": "2023-02-08T21:44:45.098Z"
   },
   {
    "duration": 103,
    "start_time": "2023-02-08T21:44:45.510Z"
   },
   {
    "duration": 614,
    "start_time": "2023-02-08T21:44:47.237Z"
   },
   {
    "duration": 1215,
    "start_time": "2023-02-08T21:46:47.702Z"
   },
   {
    "duration": 103,
    "start_time": "2023-02-08T21:46:55.995Z"
   },
   {
    "duration": 1655,
    "start_time": "2023-02-08T21:47:43.404Z"
   },
   {
    "duration": 147,
    "start_time": "2023-02-08T21:47:47.562Z"
   },
   {
    "duration": 1924,
    "start_time": "2023-02-08T21:48:57.184Z"
   },
   {
    "duration": 84,
    "start_time": "2023-02-08T21:49:00.188Z"
   },
   {
    "duration": 28,
    "start_time": "2023-02-08T21:49:05.351Z"
   },
   {
    "duration": 1919,
    "start_time": "2023-02-08T21:49:43.065Z"
   },
   {
    "duration": 137,
    "start_time": "2023-02-08T21:49:51.576Z"
   },
   {
    "duration": 3,
    "start_time": "2023-02-08T21:50:18.025Z"
   },
   {
    "duration": 3,
    "start_time": "2023-02-08T21:50:28.809Z"
   },
   {
    "duration": 117,
    "start_time": "2023-02-08T21:51:21.206Z"
   },
   {
    "duration": 319,
    "start_time": "2023-02-08T21:51:38.478Z"
   },
   {
    "duration": 310,
    "start_time": "2023-02-08T21:52:31.928Z"
   },
   {
    "duration": 60,
    "start_time": "2023-02-08T21:52:52.082Z"
   },
   {
    "duration": 353,
    "start_time": "2023-02-08T21:52:56.082Z"
   },
   {
    "duration": 326,
    "start_time": "2023-02-08T21:53:10.531Z"
   },
   {
    "duration": 132,
    "start_time": "2023-02-08T21:54:50.580Z"
   },
   {
    "duration": 341,
    "start_time": "2023-02-08T21:55:06.315Z"
   },
   {
    "duration": 431,
    "start_time": "2023-02-08T21:55:12.382Z"
   },
   {
    "duration": 2403,
    "start_time": "2023-02-09T10:16:51.094Z"
   },
   {
    "duration": 4008,
    "start_time": "2023-02-09T10:16:53.500Z"
   },
   {
    "duration": 20,
    "start_time": "2023-02-09T10:16:57.511Z"
   },
   {
    "duration": 217,
    "start_time": "2023-02-09T10:16:57.533Z"
   },
   {
    "duration": 140,
    "start_time": "2023-02-09T10:17:01.810Z"
   },
   {
    "duration": 244,
    "start_time": "2023-02-09T10:17:02.013Z"
   },
   {
    "duration": 231,
    "start_time": "2023-02-09T10:17:02.530Z"
   },
   {
    "duration": 325,
    "start_time": "2023-02-09T10:17:02.763Z"
   },
   {
    "duration": 4884,
    "start_time": "2023-02-09T10:17:03.091Z"
   },
   {
    "duration": 10,
    "start_time": "2023-02-09T10:17:07.978Z"
   },
   {
    "duration": 401,
    "start_time": "2023-02-09T10:17:07.990Z"
   },
   {
    "duration": 557,
    "start_time": "2023-02-09T10:17:08.393Z"
   },
   {
    "duration": 380,
    "start_time": "2023-02-09T10:17:08.953Z"
   },
   {
    "duration": 67,
    "start_time": "2023-02-09T10:17:09.335Z"
   },
   {
    "duration": 79,
    "start_time": "2023-02-09T10:17:09.404Z"
   },
   {
    "duration": 3,
    "start_time": "2023-02-09T10:17:09.485Z"
   },
   {
    "duration": 2040,
    "start_time": "2023-02-09T10:17:09.490Z"
   },
   {
    "duration": 327,
    "start_time": "2023-02-09T10:17:11.533Z"
   },
   {
    "duration": 399,
    "start_time": "2023-02-09T10:17:11.876Z"
   },
   {
    "duration": 10,
    "start_time": "2023-02-09T12:41:28.836Z"
   },
   {
    "duration": 198,
    "start_time": "2023-02-09T12:58:09.691Z"
   },
   {
    "duration": 245,
    "start_time": "2023-02-09T12:59:56.074Z"
   },
   {
    "duration": 42,
    "start_time": "2023-02-09T13:00:04.902Z"
   },
   {
    "duration": 9,
    "start_time": "2023-02-09T13:00:28.800Z"
   },
   {
    "duration": 43,
    "start_time": "2023-02-09T13:04:59.303Z"
   },
   {
    "duration": 69,
    "start_time": "2023-02-09T13:06:10.303Z"
   },
   {
    "duration": 40,
    "start_time": "2023-02-09T13:08:25.590Z"
   },
   {
    "duration": 5,
    "start_time": "2023-02-09T13:48:00.702Z"
   },
   {
    "duration": 663,
    "start_time": "2023-02-09T13:50:33.464Z"
   },
   {
    "duration": 575,
    "start_time": "2023-02-09T13:50:38.366Z"
   },
   {
    "duration": 750,
    "start_time": "2023-02-09T13:50:49.633Z"
   },
   {
    "duration": 856,
    "start_time": "2023-02-09T13:50:59.424Z"
   },
   {
    "duration": 851,
    "start_time": "2023-02-09T13:51:09.128Z"
   },
   {
    "duration": 17,
    "start_time": "2023-02-09T13:52:15.044Z"
   },
   {
    "duration": 12,
    "start_time": "2023-02-09T13:52:31.961Z"
   },
   {
    "duration": 11,
    "start_time": "2023-02-09T13:52:46.975Z"
   },
   {
    "duration": 15,
    "start_time": "2023-02-09T13:53:23.520Z"
   },
   {
    "duration": 694,
    "start_time": "2023-02-09T13:55:07.214Z"
   },
   {
    "duration": 698,
    "start_time": "2023-02-09T13:55:13.294Z"
   },
   {
    "duration": 61,
    "start_time": "2023-02-09T13:55:51.213Z"
   },
   {
    "duration": 2126,
    "start_time": "2023-02-09T13:55:54.798Z"
   },
   {
    "duration": 3391,
    "start_time": "2023-02-09T13:55:56.928Z"
   },
   {
    "duration": 34,
    "start_time": "2023-02-09T13:56:00.321Z"
   },
   {
    "duration": 222,
    "start_time": "2023-02-09T13:56:00.357Z"
   },
   {
    "duration": 125,
    "start_time": "2023-02-09T13:56:00.581Z"
   },
   {
    "duration": 249,
    "start_time": "2023-02-09T13:56:00.708Z"
   },
   {
    "duration": 165,
    "start_time": "2023-02-09T13:56:00.960Z"
   },
   {
    "duration": 237,
    "start_time": "2023-02-09T13:56:01.128Z"
   },
   {
    "duration": 4261,
    "start_time": "2023-02-09T13:56:01.367Z"
   },
   {
    "duration": 21,
    "start_time": "2023-02-09T13:56:05.637Z"
   },
   {
    "duration": 334,
    "start_time": "2023-02-09T13:56:05.659Z"
   },
   {
    "duration": 582,
    "start_time": "2023-02-09T13:56:05.995Z"
   },
   {
    "duration": 380,
    "start_time": "2023-02-09T13:56:06.581Z"
   },
   {
    "duration": 36,
    "start_time": "2023-02-09T13:56:06.963Z"
   },
   {
    "duration": 90,
    "start_time": "2023-02-09T13:56:07.001Z"
   },
   {
    "duration": 5,
    "start_time": "2023-02-09T13:56:07.093Z"
   },
   {
    "duration": 1987,
    "start_time": "2023-02-09T13:56:07.100Z"
   },
   {
    "duration": 315,
    "start_time": "2023-02-09T13:56:09.089Z"
   },
   {
    "duration": 438,
    "start_time": "2023-02-09T13:56:09.406Z"
   },
   {
    "duration": 21,
    "start_time": "2023-02-09T13:56:09.847Z"
   },
   {
    "duration": 181,
    "start_time": "2023-02-09T13:56:09.871Z"
   },
   {
    "duration": 45,
    "start_time": "2023-02-09T13:56:10.055Z"
   },
   {
    "duration": 1952,
    "start_time": "2023-02-09T13:56:27.509Z"
   },
   {
    "duration": 3622,
    "start_time": "2023-02-09T13:56:29.464Z"
   },
   {
    "duration": 27,
    "start_time": "2023-02-09T13:56:33.088Z"
   },
   {
    "duration": 191,
    "start_time": "2023-02-09T13:56:33.117Z"
   },
   {
    "duration": 140,
    "start_time": "2023-02-09T13:56:33.309Z"
   },
   {
    "duration": 264,
    "start_time": "2023-02-09T13:56:33.452Z"
   },
   {
    "duration": 157,
    "start_time": "2023-02-09T13:56:33.721Z"
   },
   {
    "duration": 244,
    "start_time": "2023-02-09T13:56:33.881Z"
   },
   {
    "duration": 4253,
    "start_time": "2023-02-09T13:56:34.127Z"
   },
   {
    "duration": 10,
    "start_time": "2023-02-09T13:56:38.383Z"
   },
   {
    "duration": 330,
    "start_time": "2023-02-09T13:56:38.396Z"
   },
   {
    "duration": 586,
    "start_time": "2023-02-09T13:56:38.728Z"
   },
   {
    "duration": 382,
    "start_time": "2023-02-09T13:56:39.316Z"
   },
   {
    "duration": 52,
    "start_time": "2023-02-09T13:56:39.700Z"
   },
   {
    "duration": 67,
    "start_time": "2023-02-09T13:56:39.758Z"
   },
   {
    "duration": 4,
    "start_time": "2023-02-09T13:56:39.827Z"
   },
   {
    "duration": 2067,
    "start_time": "2023-02-09T13:56:39.833Z"
   },
   {
    "duration": 320,
    "start_time": "2023-02-09T13:56:41.903Z"
   },
   {
    "duration": 479,
    "start_time": "2023-02-09T13:56:42.225Z"
   },
   {
    "duration": 12,
    "start_time": "2023-02-09T13:56:42.707Z"
   },
   {
    "duration": 284,
    "start_time": "2023-02-09T13:56:42.722Z"
   },
   {
    "duration": 67,
    "start_time": "2023-02-09T13:56:43.009Z"
   },
   {
    "duration": 1899,
    "start_time": "2023-02-09T13:57:37.636Z"
   },
   {
    "duration": 3434,
    "start_time": "2023-02-09T13:57:39.537Z"
   },
   {
    "duration": 28,
    "start_time": "2023-02-09T13:57:42.973Z"
   },
   {
    "duration": 263,
    "start_time": "2023-02-09T13:57:43.004Z"
   },
   {
    "duration": 164,
    "start_time": "2023-02-09T13:57:43.269Z"
   },
   {
    "duration": 323,
    "start_time": "2023-02-09T13:57:43.438Z"
   },
   {
    "duration": 163,
    "start_time": "2023-02-09T13:57:43.764Z"
   },
   {
    "duration": 241,
    "start_time": "2023-02-09T13:57:43.929Z"
   },
   {
    "duration": 4210,
    "start_time": "2023-02-09T13:57:44.172Z"
   },
   {
    "duration": 15,
    "start_time": "2023-02-09T13:57:48.386Z"
   },
   {
    "duration": 399,
    "start_time": "2023-02-09T13:57:48.403Z"
   },
   {
    "duration": 547,
    "start_time": "2023-02-09T13:57:48.803Z"
   },
   {
    "duration": 383,
    "start_time": "2023-02-09T13:57:49.355Z"
   },
   {
    "duration": 56,
    "start_time": "2023-02-09T13:57:49.740Z"
   },
   {
    "duration": 103,
    "start_time": "2023-02-09T13:57:49.799Z"
   },
   {
    "duration": 4,
    "start_time": "2023-02-09T13:57:49.904Z"
   },
   {
    "duration": 2044,
    "start_time": "2023-02-09T13:57:49.910Z"
   },
   {
    "duration": 290,
    "start_time": "2023-02-09T13:57:51.956Z"
   },
   {
    "duration": 458,
    "start_time": "2023-02-09T13:57:52.249Z"
   },
   {
    "duration": 12,
    "start_time": "2023-02-09T13:57:52.710Z"
   },
   {
    "duration": 189,
    "start_time": "2023-02-09T13:57:52.740Z"
   },
   {
    "duration": 60,
    "start_time": "2023-02-09T13:57:52.932Z"
   },
   {
    "duration": 1755,
    "start_time": "2023-02-09T13:58:03.436Z"
   },
   {
    "duration": 2055,
    "start_time": "2023-02-09T13:58:37.525Z"
   },
   {
    "duration": 3573,
    "start_time": "2023-02-09T13:58:39.583Z"
   },
   {
    "duration": 23,
    "start_time": "2023-02-09T13:58:43.158Z"
   },
   {
    "duration": 199,
    "start_time": "2023-02-09T13:58:43.184Z"
   },
   {
    "duration": 186,
    "start_time": "2023-02-09T13:58:43.385Z"
   },
   {
    "duration": 306,
    "start_time": "2023-02-09T13:58:43.574Z"
   },
   {
    "duration": 195,
    "start_time": "2023-02-09T13:58:43.883Z"
   },
   {
    "duration": 250,
    "start_time": "2023-02-09T13:58:44.080Z"
   },
   {
    "duration": 4299,
    "start_time": "2023-02-09T13:58:44.332Z"
   },
   {
    "duration": 24,
    "start_time": "2023-02-09T13:58:48.635Z"
   },
   {
    "duration": 346,
    "start_time": "2023-02-09T13:58:48.662Z"
   },
   {
    "duration": 582,
    "start_time": "2023-02-09T13:58:49.010Z"
   },
   {
    "duration": 371,
    "start_time": "2023-02-09T13:58:49.595Z"
   },
   {
    "duration": 33,
    "start_time": "2023-02-09T13:58:49.968Z"
   },
   {
    "duration": 89,
    "start_time": "2023-02-09T13:58:50.003Z"
   },
   {
    "duration": 4,
    "start_time": "2023-02-09T13:58:50.094Z"
   },
   {
    "duration": 2016,
    "start_time": "2023-02-09T13:58:50.100Z"
   },
   {
    "duration": 285,
    "start_time": "2023-02-09T13:58:52.118Z"
   },
   {
    "duration": 625,
    "start_time": "2023-02-09T13:58:52.406Z"
   },
   {
    "duration": 19,
    "start_time": "2023-02-09T13:58:53.034Z"
   },
   {
    "duration": 200,
    "start_time": "2023-02-09T13:58:53.057Z"
   },
   {
    "duration": 75,
    "start_time": "2023-02-09T13:58:53.260Z"
   },
   {
    "duration": 5125,
    "start_time": "2023-02-09T14:00:31.084Z"
   },
   {
    "duration": 4602,
    "start_time": "2023-02-09T14:02:06.948Z"
   },
   {
    "duration": 1504,
    "start_time": "2023-02-09T14:02:26.809Z"
   },
   {
    "duration": 1856,
    "start_time": "2023-02-09T14:02:52.797Z"
   },
   {
    "duration": 483,
    "start_time": "2023-02-09T14:05:07.173Z"
   },
   {
    "duration": 687,
    "start_time": "2023-02-09T14:05:13.665Z"
   },
   {
    "duration": 949,
    "start_time": "2023-02-09T14:05:20.939Z"
   },
   {
    "duration": 80,
    "start_time": "2023-02-09T14:06:09.669Z"
   },
   {
    "duration": 1764,
    "start_time": "2023-02-09T14:06:15.060Z"
   },
   {
    "duration": 3562,
    "start_time": "2023-02-09T14:06:16.827Z"
   },
   {
    "duration": 24,
    "start_time": "2023-02-09T14:06:20.438Z"
   },
   {
    "duration": 415,
    "start_time": "2023-02-09T14:06:20.466Z"
   },
   {
    "duration": 283,
    "start_time": "2023-02-09T14:06:20.884Z"
   },
   {
    "duration": 406,
    "start_time": "2023-02-09T14:06:21.169Z"
   },
   {
    "duration": 145,
    "start_time": "2023-02-09T14:06:21.577Z"
   },
   {
    "duration": 250,
    "start_time": "2023-02-09T14:06:21.724Z"
   },
   {
    "duration": 3976,
    "start_time": "2023-02-09T14:06:21.976Z"
   },
   {
    "duration": 14,
    "start_time": "2023-02-09T14:06:25.958Z"
   },
   {
    "duration": 766,
    "start_time": "2023-02-09T14:06:25.974Z"
   },
   {
    "duration": 1491,
    "start_time": "2023-02-09T14:06:26.742Z"
   },
   {
    "duration": 642,
    "start_time": "2023-02-09T14:06:28.237Z"
   },
   {
    "duration": 92,
    "start_time": "2023-02-09T14:06:28.881Z"
   },
   {
    "duration": 165,
    "start_time": "2023-02-09T14:06:28.974Z"
   },
   {
    "duration": 5,
    "start_time": "2023-02-09T14:06:29.142Z"
   },
   {
    "duration": 2652,
    "start_time": "2023-02-09T14:06:29.151Z"
   },
   {
    "duration": 285,
    "start_time": "2023-02-09T14:06:31.806Z"
   },
   {
    "duration": 395,
    "start_time": "2023-02-09T14:06:32.093Z"
   },
   {
    "duration": 11,
    "start_time": "2023-02-09T14:06:32.490Z"
   },
   {
    "duration": 200,
    "start_time": "2023-02-09T14:06:32.503Z"
   },
   {
    "duration": 78,
    "start_time": "2023-02-09T14:06:32.709Z"
   },
   {
    "duration": 100,
    "start_time": "2023-02-09T14:06:53.285Z"
   },
   {
    "duration": 1916,
    "start_time": "2023-02-09T14:06:57.160Z"
   },
   {
    "duration": 3405,
    "start_time": "2023-02-09T14:06:59.078Z"
   },
   {
    "duration": 25,
    "start_time": "2023-02-09T14:07:02.486Z"
   },
   {
    "duration": 213,
    "start_time": "2023-02-09T14:07:02.513Z"
   },
   {
    "duration": 168,
    "start_time": "2023-02-09T14:07:02.729Z"
   },
   {
    "duration": 249,
    "start_time": "2023-02-09T14:07:02.900Z"
   },
   {
    "duration": 141,
    "start_time": "2023-02-09T14:07:03.161Z"
   },
   {
    "duration": 261,
    "start_time": "2023-02-09T14:07:03.304Z"
   },
   {
    "duration": 4252,
    "start_time": "2023-02-09T14:07:03.567Z"
   },
   {
    "duration": 21,
    "start_time": "2023-02-09T14:07:07.823Z"
   },
   {
    "duration": 494,
    "start_time": "2023-02-09T14:07:07.846Z"
   },
   {
    "duration": 1600,
    "start_time": "2023-02-09T14:07:08.346Z"
   },
   {
    "duration": 792,
    "start_time": "2023-02-09T14:07:09.951Z"
   },
   {
    "duration": 103,
    "start_time": "2023-02-09T14:07:10.746Z"
   },
   {
    "duration": 131,
    "start_time": "2023-02-09T14:07:10.851Z"
   },
   {
    "duration": 65,
    "start_time": "2023-02-09T14:07:10.984Z"
   },
   {
    "duration": 3435,
    "start_time": "2023-02-09T14:07:11.053Z"
   },
   {
    "duration": 300,
    "start_time": "2023-02-09T14:07:14.490Z"
   },
   {
    "duration": 408,
    "start_time": "2023-02-09T14:07:14.792Z"
   },
   {
    "duration": 11,
    "start_time": "2023-02-09T14:07:15.202Z"
   },
   {
    "duration": 205,
    "start_time": "2023-02-09T14:07:15.214Z"
   },
   {
    "duration": 83,
    "start_time": "2023-02-09T14:07:15.422Z"
   },
   {
    "duration": 1403,
    "start_time": "2023-02-09T14:07:34.278Z"
   },
   {
    "duration": 1371,
    "start_time": "2023-02-09T14:08:15.947Z"
   },
   {
    "duration": 1424,
    "start_time": "2023-02-09T14:38:43.365Z"
   },
   {
    "duration": 5,
    "start_time": "2023-02-09T14:38:52.511Z"
   },
   {
    "duration": 3956,
    "start_time": "2023-02-09T14:40:36.069Z"
   },
   {
    "duration": 1850,
    "start_time": "2023-02-09T14:40:46.389Z"
   },
   {
    "duration": 3845,
    "start_time": "2023-02-09T14:40:59.822Z"
   },
   {
    "duration": 1815,
    "start_time": "2023-02-09T14:41:06.006Z"
   },
   {
    "duration": 1949,
    "start_time": "2023-02-09T14:41:37.997Z"
   },
   {
    "duration": 3048,
    "start_time": "2023-02-09T14:41:39.948Z"
   },
   {
    "duration": 19,
    "start_time": "2023-02-09T14:41:42.998Z"
   },
   {
    "duration": 181,
    "start_time": "2023-02-09T14:41:43.021Z"
   },
   {
    "duration": 124,
    "start_time": "2023-02-09T14:41:43.204Z"
   },
   {
    "duration": 226,
    "start_time": "2023-02-09T14:41:43.329Z"
   },
   {
    "duration": 149,
    "start_time": "2023-02-09T14:41:43.558Z"
   },
   {
    "duration": 225,
    "start_time": "2023-02-09T14:41:43.709Z"
   },
   {
    "duration": 3714,
    "start_time": "2023-02-09T14:41:43.936Z"
   },
   {
    "duration": 14,
    "start_time": "2023-02-09T14:41:47.655Z"
   },
   {
    "duration": 337,
    "start_time": "2023-02-09T14:41:47.672Z"
   },
   {
    "duration": 538,
    "start_time": "2023-02-09T14:41:48.011Z"
   },
   {
    "duration": 332,
    "start_time": "2023-02-09T14:41:48.551Z"
   },
   {
    "duration": 53,
    "start_time": "2023-02-09T14:41:48.885Z"
   },
   {
    "duration": 49,
    "start_time": "2023-02-09T14:41:48.939Z"
   },
   {
    "duration": 3,
    "start_time": "2023-02-09T14:41:48.990Z"
   },
   {
    "duration": 1869,
    "start_time": "2023-02-09T14:41:48.995Z"
   },
   {
    "duration": 276,
    "start_time": "2023-02-09T14:41:50.865Z"
   },
   {
    "duration": 395,
    "start_time": "2023-02-09T14:41:51.143Z"
   },
   {
    "duration": 21,
    "start_time": "2023-02-09T14:41:51.540Z"
   },
   {
    "duration": 168,
    "start_time": "2023-02-09T14:41:51.564Z"
   },
   {
    "duration": 40,
    "start_time": "2023-02-09T14:41:51.734Z"
   },
   {
    "duration": 770,
    "start_time": "2023-02-09T14:42:50.620Z"
   },
   {
    "duration": 837,
    "start_time": "2023-02-09T14:42:59.395Z"
   },
   {
    "duration": 1823,
    "start_time": "2023-02-09T14:43:21.516Z"
   },
   {
    "duration": 203,
    "start_time": "2023-02-09T14:44:39.131Z"
   },
   {
    "duration": 337,
    "start_time": "2023-02-09T14:46:06.610Z"
   },
   {
    "duration": 365,
    "start_time": "2023-02-09T14:46:22.145Z"
   },
   {
    "duration": 316,
    "start_time": "2023-02-09T14:46:33.115Z"
   },
   {
    "duration": 730,
    "start_time": "2023-02-09T14:47:14.686Z"
   },
   {
    "duration": 3,
    "start_time": "2023-02-09T14:51:41.136Z"
   },
   {
    "duration": 458,
    "start_time": "2023-02-09T14:52:24.159Z"
   },
   {
    "duration": 507,
    "start_time": "2023-02-09T14:52:51.966Z"
   },
   {
    "duration": 564,
    "start_time": "2023-02-09T14:53:16.262Z"
   },
   {
    "duration": 579,
    "start_time": "2023-02-09T14:53:18.629Z"
   },
   {
    "duration": 91,
    "start_time": "2023-02-09T14:53:41.293Z"
   },
   {
    "duration": 20,
    "start_time": "2023-02-09T14:53:45.262Z"
   },
   {
    "duration": 106,
    "start_time": "2023-02-09T14:53:54.878Z"
   },
   {
    "duration": 117,
    "start_time": "2023-02-09T14:54:02.837Z"
   },
   {
    "duration": 516,
    "start_time": "2023-02-09T14:55:04.501Z"
   },
   {
    "duration": 555,
    "start_time": "2023-02-09T14:55:09.621Z"
   },
   {
    "duration": 1379,
    "start_time": "2023-02-09T14:59:35.354Z"
   },
   {
    "duration": 1863,
    "start_time": "2023-02-09T14:59:41.266Z"
   },
   {
    "duration": 1710,
    "start_time": "2023-02-09T15:00:00.997Z"
   },
   {
    "duration": 1700,
    "start_time": "2023-02-09T15:00:06.659Z"
   },
   {
    "duration": 62,
    "start_time": "2023-02-09T15:01:40.603Z"
   },
   {
    "duration": 1871,
    "start_time": "2023-02-09T15:01:43.400Z"
   },
   {
    "duration": 3317,
    "start_time": "2023-02-09T15:01:45.273Z"
   },
   {
    "duration": 20,
    "start_time": "2023-02-09T15:01:48.591Z"
   },
   {
    "duration": 189,
    "start_time": "2023-02-09T15:01:48.614Z"
   },
   {
    "duration": 121,
    "start_time": "2023-02-09T15:01:48.804Z"
   },
   {
    "duration": 227,
    "start_time": "2023-02-09T15:01:48.928Z"
   },
   {
    "duration": 140,
    "start_time": "2023-02-09T15:01:49.156Z"
   },
   {
    "duration": 257,
    "start_time": "2023-02-09T15:01:49.298Z"
   },
   {
    "duration": 3999,
    "start_time": "2023-02-09T15:01:49.557Z"
   },
   {
    "duration": 9,
    "start_time": "2023-02-09T15:01:53.559Z"
   },
   {
    "duration": 339,
    "start_time": "2023-02-09T15:01:53.570Z"
   },
   {
    "duration": 556,
    "start_time": "2023-02-09T15:01:53.911Z"
   },
   {
    "duration": 348,
    "start_time": "2023-02-09T15:01:54.469Z"
   },
   {
    "duration": 50,
    "start_time": "2023-02-09T15:01:54.819Z"
   },
   {
    "duration": 92,
    "start_time": "2023-02-09T15:01:54.871Z"
   },
   {
    "duration": 17,
    "start_time": "2023-02-09T15:01:54.965Z"
   },
   {
    "duration": 1967,
    "start_time": "2023-02-09T15:01:54.984Z"
   },
   {
    "duration": 258,
    "start_time": "2023-02-09T15:01:56.954Z"
   },
   {
    "duration": 399,
    "start_time": "2023-02-09T15:01:57.214Z"
   },
   {
    "duration": 27,
    "start_time": "2023-02-09T15:01:57.615Z"
   },
   {
    "duration": 186,
    "start_time": "2023-02-09T15:01:57.643Z"
   },
   {
    "duration": 45,
    "start_time": "2023-02-09T15:01:57.831Z"
   },
   {
    "duration": 21,
    "start_time": "2023-02-09T15:01:57.878Z"
   },
   {
    "duration": 5362,
    "start_time": "2023-02-09T15:02:04.161Z"
   },
   {
    "duration": 4093,
    "start_time": "2023-02-09T15:02:24.922Z"
   },
   {
    "duration": 4247,
    "start_time": "2023-02-09T15:02:46.785Z"
   },
   {
    "duration": 4323,
    "start_time": "2023-02-09T15:03:34.866Z"
   },
   {
    "duration": 4127,
    "start_time": "2023-02-09T15:03:42.880Z"
   },
   {
    "duration": 72,
    "start_time": "2023-02-09T15:04:02.395Z"
   },
   {
    "duration": 10,
    "start_time": "2023-02-09T15:04:15.391Z"
   },
   {
    "duration": 1650,
    "start_time": "2023-02-09T15:04:34.215Z"
   },
   {
    "duration": 3186,
    "start_time": "2023-02-09T15:04:35.867Z"
   },
   {
    "duration": 20,
    "start_time": "2023-02-09T15:04:39.055Z"
   },
   {
    "duration": 134,
    "start_time": "2023-02-09T15:04:39.078Z"
   },
   {
    "duration": 108,
    "start_time": "2023-02-09T15:04:39.213Z"
   },
   {
    "duration": 194,
    "start_time": "2023-02-09T15:04:39.323Z"
   },
   {
    "duration": 137,
    "start_time": "2023-02-09T15:04:39.518Z"
   },
   {
    "duration": 212,
    "start_time": "2023-02-09T15:04:39.656Z"
   },
   {
    "duration": 3892,
    "start_time": "2023-02-09T15:04:39.870Z"
   },
   {
    "duration": 10,
    "start_time": "2023-02-09T15:04:43.765Z"
   },
   {
    "duration": 326,
    "start_time": "2023-02-09T15:04:43.776Z"
   },
   {
    "duration": 519,
    "start_time": "2023-02-09T15:04:44.104Z"
   },
   {
    "duration": 361,
    "start_time": "2023-02-09T15:04:44.625Z"
   },
   {
    "duration": 30,
    "start_time": "2023-02-09T15:04:44.988Z"
   },
   {
    "duration": 81,
    "start_time": "2023-02-09T15:04:45.020Z"
   },
   {
    "duration": 5,
    "start_time": "2023-02-09T15:04:45.103Z"
   },
   {
    "duration": 1811,
    "start_time": "2023-02-09T15:04:45.110Z"
   },
   {
    "duration": 268,
    "start_time": "2023-02-09T15:04:46.923Z"
   },
   {
    "duration": 360,
    "start_time": "2023-02-09T15:04:47.193Z"
   },
   {
    "duration": 11,
    "start_time": "2023-02-09T15:04:47.555Z"
   },
   {
    "duration": 158,
    "start_time": "2023-02-09T15:04:47.567Z"
   },
   {
    "duration": 46,
    "start_time": "2023-02-09T15:04:47.726Z"
   },
   {
    "duration": 3,
    "start_time": "2023-02-09T15:04:47.774Z"
   },
   {
    "duration": 4808,
    "start_time": "2023-02-09T15:05:03.548Z"
   },
   {
    "duration": 4099,
    "start_time": "2023-02-09T15:06:27.367Z"
   },
   {
    "duration": 5036,
    "start_time": "2023-02-09T15:08:05.861Z"
   },
   {
    "duration": 699,
    "start_time": "2023-02-09T15:08:44.708Z"
   },
   {
    "duration": 3,
    "start_time": "2023-02-09T15:09:23.985Z"
   },
   {
    "duration": 5087,
    "start_time": "2023-02-09T15:10:23.485Z"
   },
   {
    "duration": 5339,
    "start_time": "2023-02-09T15:10:47.773Z"
   },
   {
    "duration": 4737,
    "start_time": "2023-02-09T15:10:56.646Z"
   },
   {
    "duration": 5240,
    "start_time": "2023-02-09T15:11:42.812Z"
   },
   {
    "duration": 4794,
    "start_time": "2023-02-09T15:11:53.310Z"
   },
   {
    "duration": 5490,
    "start_time": "2023-02-09T15:12:07.868Z"
   },
   {
    "duration": 5006,
    "start_time": "2023-02-09T15:12:14.779Z"
   },
   {
    "duration": 5289,
    "start_time": "2023-02-09T15:12:25.276Z"
   },
   {
    "duration": 4794,
    "start_time": "2023-02-09T15:12:33.956Z"
   },
   {
    "duration": 5490,
    "start_time": "2023-02-09T15:13:14.986Z"
   },
   {
    "duration": 5044,
    "start_time": "2023-02-09T15:13:24.466Z"
   },
   {
    "duration": 5338,
    "start_time": "2023-02-09T15:13:37.028Z"
   },
   {
    "duration": 4825,
    "start_time": "2023-02-09T15:13:49.267Z"
   },
   {
    "duration": 1852,
    "start_time": "2023-02-09T15:14:46.954Z"
   },
   {
    "duration": 3262,
    "start_time": "2023-02-09T15:14:48.808Z"
   },
   {
    "duration": 20,
    "start_time": "2023-02-09T15:14:52.072Z"
   },
   {
    "duration": 177,
    "start_time": "2023-02-09T15:14:52.095Z"
   },
   {
    "duration": 186,
    "start_time": "2023-02-09T15:14:52.274Z"
   },
   {
    "duration": 245,
    "start_time": "2023-02-09T15:14:52.463Z"
   },
   {
    "duration": 174,
    "start_time": "2023-02-09T15:14:52.711Z"
   },
   {
    "duration": 269,
    "start_time": "2023-02-09T15:14:52.887Z"
   },
   {
    "duration": 4075,
    "start_time": "2023-02-09T15:14:53.158Z"
   },
   {
    "duration": 16,
    "start_time": "2023-02-09T15:14:57.245Z"
   },
   {
    "duration": 332,
    "start_time": "2023-02-09T15:14:57.263Z"
   },
   {
    "duration": 568,
    "start_time": "2023-02-09T15:14:57.597Z"
   },
   {
    "duration": 375,
    "start_time": "2023-02-09T15:14:58.170Z"
   },
   {
    "duration": 33,
    "start_time": "2023-02-09T15:14:58.551Z"
   },
   {
    "duration": 69,
    "start_time": "2023-02-09T15:14:58.586Z"
   },
   {
    "duration": 5,
    "start_time": "2023-02-09T15:14:58.657Z"
   },
   {
    "duration": 1850,
    "start_time": "2023-02-09T15:14:58.664Z"
   },
   {
    "duration": 266,
    "start_time": "2023-02-09T15:15:00.516Z"
   },
   {
    "duration": 385,
    "start_time": "2023-02-09T15:15:00.784Z"
   },
   {
    "duration": 11,
    "start_time": "2023-02-09T15:15:01.171Z"
   },
   {
    "duration": 182,
    "start_time": "2023-02-09T15:15:01.183Z"
   },
   {
    "duration": 45,
    "start_time": "2023-02-09T15:15:01.367Z"
   },
   {
    "duration": 5,
    "start_time": "2023-02-09T15:15:01.413Z"
   },
   {
    "duration": 5531,
    "start_time": "2023-02-09T15:16:54.855Z"
   },
   {
    "duration": 5052,
    "start_time": "2023-02-09T15:17:10.856Z"
   },
   {
    "duration": 670,
    "start_time": "2023-02-09T15:27:54.228Z"
   },
   {
    "duration": 3,
    "start_time": "2023-02-09T15:28:04.211Z"
   },
   {
    "duration": 5196,
    "start_time": "2023-02-09T15:31:38.799Z"
   },
   {
    "duration": 5099,
    "start_time": "2023-02-09T15:31:51.365Z"
   },
   {
    "duration": 5109,
    "start_time": "2023-02-09T15:31:59.661Z"
   },
   {
    "duration": 4971,
    "start_time": "2023-02-09T15:32:26.356Z"
   },
   {
    "duration": 6224,
    "start_time": "2023-02-09T15:32:39.677Z"
   },
   {
    "duration": 4888,
    "start_time": "2023-02-09T15:32:58.219Z"
   },
   {
    "duration": 5223,
    "start_time": "2023-02-09T15:33:07.356Z"
   },
   {
    "duration": 5413,
    "start_time": "2023-02-09T15:40:22.395Z"
   },
   {
    "duration": 2505,
    "start_time": "2023-02-09T15:40:54.928Z"
   },
   {
    "duration": 3657,
    "start_time": "2023-02-09T15:40:57.437Z"
   },
   {
    "duration": 33,
    "start_time": "2023-02-09T15:41:01.096Z"
   },
   {
    "duration": 388,
    "start_time": "2023-02-09T15:41:01.132Z"
   },
   {
    "duration": 156,
    "start_time": "2023-02-09T15:41:01.523Z"
   },
   {
    "duration": 344,
    "start_time": "2023-02-09T15:41:01.682Z"
   },
   {
    "duration": 177,
    "start_time": "2023-02-09T15:41:02.028Z"
   },
   {
    "duration": 285,
    "start_time": "2023-02-09T15:41:02.207Z"
   },
   {
    "duration": 5072,
    "start_time": "2023-02-09T15:41:02.494Z"
   },
   {
    "duration": 11,
    "start_time": "2023-02-09T15:41:07.570Z"
   },
   {
    "duration": 417,
    "start_time": "2023-02-09T15:41:07.583Z"
   },
   {
    "duration": 692,
    "start_time": "2023-02-09T15:41:08.002Z"
   },
   {
    "duration": 424,
    "start_time": "2023-02-09T15:41:08.696Z"
   },
   {
    "duration": 60,
    "start_time": "2023-02-09T15:41:09.123Z"
   },
   {
    "duration": 107,
    "start_time": "2023-02-09T15:41:09.187Z"
   },
   {
    "duration": 6,
    "start_time": "2023-02-09T15:41:09.296Z"
   },
   {
    "duration": 2100,
    "start_time": "2023-02-09T15:41:09.305Z"
   },
   {
    "duration": 309,
    "start_time": "2023-02-09T15:41:11.407Z"
   },
   {
    "duration": 440,
    "start_time": "2023-02-09T15:41:11.718Z"
   },
   {
    "duration": 11,
    "start_time": "2023-02-09T15:41:12.166Z"
   },
   {
    "duration": 241,
    "start_time": "2023-02-09T15:41:12.180Z"
   },
   {
    "duration": 67,
    "start_time": "2023-02-09T15:41:12.424Z"
   },
   {
    "duration": 17,
    "start_time": "2023-02-09T15:41:12.493Z"
   },
   {
    "duration": 5237,
    "start_time": "2023-02-09T15:41:36.213Z"
   },
   {
    "duration": 5004,
    "start_time": "2023-02-09T15:42:02.839Z"
   },
   {
    "duration": 5403,
    "start_time": "2023-02-09T15:42:12.409Z"
   },
   {
    "duration": 5124,
    "start_time": "2023-02-09T15:43:18.205Z"
   },
   {
    "duration": 745,
    "start_time": "2023-02-09T15:43:33.509Z"
   },
   {
    "duration": 2,
    "start_time": "2023-02-09T15:43:49.806Z"
   },
   {
    "duration": 4694,
    "start_time": "2023-02-09T15:44:31.829Z"
   },
   {
    "duration": 2185,
    "start_time": "2023-02-09T15:45:07.406Z"
   },
   {
    "duration": 4005,
    "start_time": "2023-02-09T15:45:09.594Z"
   },
   {
    "duration": 24,
    "start_time": "2023-02-09T15:45:13.601Z"
   },
   {
    "duration": 233,
    "start_time": "2023-02-09T15:45:13.628Z"
   },
   {
    "duration": 184,
    "start_time": "2023-02-09T15:45:13.870Z"
   },
   {
    "duration": 260,
    "start_time": "2023-02-09T15:45:14.056Z"
   },
   {
    "duration": 151,
    "start_time": "2023-02-09T15:45:14.318Z"
   },
   {
    "duration": 249,
    "start_time": "2023-02-09T15:45:14.473Z"
   },
   {
    "duration": 4767,
    "start_time": "2023-02-09T15:45:14.725Z"
   },
   {
    "duration": 22,
    "start_time": "2023-02-09T15:45:19.495Z"
   },
   {
    "duration": 362,
    "start_time": "2023-02-09T15:45:19.519Z"
   },
   {
    "duration": 591,
    "start_time": "2023-02-09T15:45:19.883Z"
   },
   {
    "duration": 433,
    "start_time": "2023-02-09T15:45:20.476Z"
   },
   {
    "duration": 61,
    "start_time": "2023-02-09T15:45:20.913Z"
   },
   {
    "duration": 55,
    "start_time": "2023-02-09T15:45:20.976Z"
   },
   {
    "duration": 8,
    "start_time": "2023-02-09T15:45:21.033Z"
   },
   {
    "duration": 2176,
    "start_time": "2023-02-09T15:45:21.050Z"
   },
   {
    "duration": 331,
    "start_time": "2023-02-09T15:45:23.228Z"
   },
   {
    "duration": 450,
    "start_time": "2023-02-09T15:45:23.561Z"
   },
   {
    "duration": 11,
    "start_time": "2023-02-09T15:45:24.013Z"
   },
   {
    "duration": 229,
    "start_time": "2023-02-09T15:45:24.026Z"
   },
   {
    "duration": 44,
    "start_time": "2023-02-09T15:45:24.259Z"
   },
   {
    "duration": 3,
    "start_time": "2023-02-09T15:45:24.306Z"
   },
   {
    "duration": 5015,
    "start_time": "2023-02-09T15:45:47.615Z"
   },
   {
    "duration": 785,
    "start_time": "2023-02-09T15:46:26.005Z"
   },
   {
    "duration": 3,
    "start_time": "2023-02-09T15:46:33.820Z"
   },
   {
    "duration": 1194,
    "start_time": "2023-02-09T15:48:50.881Z"
   },
   {
    "duration": 252,
    "start_time": "2023-02-09T15:53:07.169Z"
   },
   {
    "duration": 66,
    "start_time": "2023-02-09T15:53:27.682Z"
   },
   {
    "duration": 2292,
    "start_time": "2023-02-09T15:53:33.223Z"
   },
   {
    "duration": 4072,
    "start_time": "2023-02-09T15:53:35.517Z"
   },
   {
    "duration": 19,
    "start_time": "2023-02-09T15:53:39.592Z"
   },
   {
    "duration": 202,
    "start_time": "2023-02-09T15:53:39.613Z"
   },
   {
    "duration": 116,
    "start_time": "2023-02-09T15:53:39.817Z"
   },
   {
    "duration": 261,
    "start_time": "2023-02-09T15:53:39.938Z"
   },
   {
    "duration": 216,
    "start_time": "2023-02-09T15:53:40.202Z"
   },
   {
    "duration": 281,
    "start_time": "2023-02-09T15:53:40.420Z"
   },
   {
    "duration": 5117,
    "start_time": "2023-02-09T15:53:40.703Z"
   },
   {
    "duration": 37,
    "start_time": "2023-02-09T15:53:45.823Z"
   },
   {
    "duration": 346,
    "start_time": "2023-02-09T15:53:45.863Z"
   },
   {
    "duration": 593,
    "start_time": "2023-02-09T15:53:46.211Z"
   },
   {
    "duration": 453,
    "start_time": "2023-02-09T15:53:46.806Z"
   },
   {
    "duration": 44,
    "start_time": "2023-02-09T15:53:47.261Z"
   },
   {
    "duration": 77,
    "start_time": "2023-02-09T15:53:47.307Z"
   },
   {
    "duration": 9,
    "start_time": "2023-02-09T15:53:47.385Z"
   },
   {
    "duration": 2128,
    "start_time": "2023-02-09T15:53:47.397Z"
   },
   {
    "duration": 334,
    "start_time": "2023-02-09T15:53:49.527Z"
   },
   {
    "duration": 460,
    "start_time": "2023-02-09T15:53:49.862Z"
   },
   {
    "duration": 17,
    "start_time": "2023-02-09T15:53:50.324Z"
   },
   {
    "duration": 231,
    "start_time": "2023-02-09T15:53:50.343Z"
   },
   {
    "duration": 47,
    "start_time": "2023-02-09T15:53:50.576Z"
   },
   {
    "duration": 4,
    "start_time": "2023-02-09T15:53:50.625Z"
   },
   {
    "duration": 5163,
    "start_time": "2023-02-09T15:53:50.631Z"
   },
   {
    "duration": 1193,
    "start_time": "2023-02-09T15:53:55.812Z"
   },
   {
    "duration": 247,
    "start_time": "2023-02-09T15:53:59.834Z"
   },
   {
    "duration": 2348,
    "start_time": "2023-02-09T15:54:50.669Z"
   },
   {
    "duration": 4010,
    "start_time": "2023-02-09T15:54:53.020Z"
   },
   {
    "duration": 39,
    "start_time": "2023-02-09T15:54:57.034Z"
   },
   {
    "duration": 217,
    "start_time": "2023-02-09T15:54:57.079Z"
   },
   {
    "duration": 128,
    "start_time": "2023-02-09T15:54:57.299Z"
   },
   {
    "duration": 265,
    "start_time": "2023-02-09T15:54:57.428Z"
   },
   {
    "duration": 175,
    "start_time": "2023-02-09T15:54:57.695Z"
   },
   {
    "duration": 288,
    "start_time": "2023-02-09T15:54:57.880Z"
   },
   {
    "duration": 4945,
    "start_time": "2023-02-09T15:54:58.169Z"
   },
   {
    "duration": 10,
    "start_time": "2023-02-09T15:55:03.117Z"
   },
   {
    "duration": 384,
    "start_time": "2023-02-09T15:55:03.129Z"
   },
   {
    "duration": 585,
    "start_time": "2023-02-09T15:55:03.515Z"
   },
   {
    "duration": 427,
    "start_time": "2023-02-09T15:55:04.102Z"
   },
   {
    "duration": 59,
    "start_time": "2023-02-09T15:55:04.543Z"
   },
   {
    "duration": 76,
    "start_time": "2023-02-09T15:55:04.604Z"
   },
   {
    "duration": 5,
    "start_time": "2023-02-09T15:55:04.684Z"
   },
   {
    "duration": 2142,
    "start_time": "2023-02-09T15:55:04.691Z"
   },
   {
    "duration": 325,
    "start_time": "2023-02-09T15:55:06.840Z"
   },
   {
    "duration": 468,
    "start_time": "2023-02-09T15:55:07.171Z"
   },
   {
    "duration": 11,
    "start_time": "2023-02-09T15:55:07.643Z"
   },
   {
    "duration": 207,
    "start_time": "2023-02-09T15:55:07.659Z"
   },
   {
    "duration": 49,
    "start_time": "2023-02-09T15:55:07.868Z"
   },
   {
    "duration": 3,
    "start_time": "2023-02-09T15:55:07.919Z"
   },
   {
    "duration": 5162,
    "start_time": "2023-02-09T15:55:07.923Z"
   },
   {
    "duration": 1224,
    "start_time": "2023-02-09T15:55:13.091Z"
   },
   {
    "duration": 259,
    "start_time": "2023-02-09T15:55:16.763Z"
   },
   {
    "duration": 242,
    "start_time": "2023-02-09T16:05:40.336Z"
   },
   {
    "duration": 521705,
    "start_time": "2023-02-09T16:07:06.472Z"
   },
   {
    "duration": 697,
    "start_time": "2023-02-09T16:16:03.768Z"
   },
   {
    "duration": 2419,
    "start_time": "2023-02-09T16:22:31.083Z"
   },
   {
    "duration": 3929,
    "start_time": "2023-02-09T16:22:33.504Z"
   },
   {
    "duration": 23,
    "start_time": "2023-02-09T16:22:37.435Z"
   },
   {
    "duration": 201,
    "start_time": "2023-02-09T16:22:37.461Z"
   },
   {
    "duration": 113,
    "start_time": "2023-02-09T16:22:37.663Z"
   },
   {
    "duration": 234,
    "start_time": "2023-02-09T16:22:37.778Z"
   },
   {
    "duration": 195,
    "start_time": "2023-02-09T16:22:38.014Z"
   },
   {
    "duration": 295,
    "start_time": "2023-02-09T16:22:38.213Z"
   },
   {
    "duration": 4942,
    "start_time": "2023-02-09T16:22:38.510Z"
   },
   {
    "duration": 15,
    "start_time": "2023-02-09T16:22:43.456Z"
   },
   {
    "duration": 364,
    "start_time": "2023-02-09T16:22:43.475Z"
   },
   {
    "duration": 558,
    "start_time": "2023-02-09T16:22:43.849Z"
   },
   {
    "duration": 420,
    "start_time": "2023-02-09T16:22:44.408Z"
   },
   {
    "duration": 61,
    "start_time": "2023-02-09T16:22:44.830Z"
   },
   {
    "duration": 76,
    "start_time": "2023-02-09T16:22:44.894Z"
   },
   {
    "duration": 8,
    "start_time": "2023-02-09T16:22:44.972Z"
   },
   {
    "duration": 2025,
    "start_time": "2023-02-09T16:22:44.985Z"
   },
   {
    "duration": 353,
    "start_time": "2023-02-09T16:22:47.012Z"
   },
   {
    "duration": 472,
    "start_time": "2023-02-09T16:22:47.370Z"
   },
   {
    "duration": 10,
    "start_time": "2023-02-09T16:22:47.845Z"
   },
   {
    "duration": 195,
    "start_time": "2023-02-09T16:22:47.860Z"
   },
   {
    "duration": 53,
    "start_time": "2023-02-09T16:22:48.057Z"
   },
   {
    "duration": 2,
    "start_time": "2023-02-09T16:22:48.113Z"
   },
   {
    "duration": 5161,
    "start_time": "2023-02-09T16:22:48.117Z"
   },
   {
    "duration": 1168,
    "start_time": "2023-02-09T16:22:53.282Z"
   },
   {
    "duration": 246,
    "start_time": "2023-02-09T16:22:54.459Z"
   },
   {
    "duration": 13086,
    "start_time": "2023-02-09T16:22:54.707Z"
   },
   {
    "duration": 0,
    "start_time": "2023-02-09T16:23:07.795Z"
   },
   {
    "duration": 0,
    "start_time": "2023-02-09T16:23:07.797Z"
   },
   {
    "duration": 2302,
    "start_time": "2023-02-09T16:23:19.925Z"
   },
   {
    "duration": 4095,
    "start_time": "2023-02-09T16:23:22.229Z"
   },
   {
    "duration": 41,
    "start_time": "2023-02-09T16:23:26.327Z"
   },
   {
    "duration": 199,
    "start_time": "2023-02-09T16:23:26.379Z"
   },
   {
    "duration": 122,
    "start_time": "2023-02-09T16:23:26.582Z"
   },
   {
    "duration": 290,
    "start_time": "2023-02-09T16:23:26.706Z"
   },
   {
    "duration": 188,
    "start_time": "2023-02-09T16:23:26.998Z"
   },
   {
    "duration": 283,
    "start_time": "2023-02-09T16:23:27.189Z"
   },
   {
    "duration": 4939,
    "start_time": "2023-02-09T16:23:27.476Z"
   },
   {
    "duration": 32,
    "start_time": "2023-02-09T16:23:32.418Z"
   },
   {
    "duration": 459,
    "start_time": "2023-02-09T16:23:32.452Z"
   },
   {
    "duration": 594,
    "start_time": "2023-02-09T16:23:32.914Z"
   },
   {
    "duration": 418,
    "start_time": "2023-02-09T16:23:33.510Z"
   },
   {
    "duration": 62,
    "start_time": "2023-02-09T16:23:33.930Z"
   },
   {
    "duration": 70,
    "start_time": "2023-02-09T16:23:33.994Z"
   },
   {
    "duration": 4,
    "start_time": "2023-02-09T16:23:34.066Z"
   },
   {
    "duration": 2136,
    "start_time": "2023-02-09T16:23:34.078Z"
   },
   {
    "duration": 347,
    "start_time": "2023-02-09T16:23:36.216Z"
   },
   {
    "duration": 446,
    "start_time": "2023-02-09T16:23:36.569Z"
   },
   {
    "duration": 10,
    "start_time": "2023-02-09T16:23:37.017Z"
   },
   {
    "duration": 213,
    "start_time": "2023-02-09T16:23:37.029Z"
   },
   {
    "duration": 56,
    "start_time": "2023-02-09T16:23:37.251Z"
   },
   {
    "duration": 2,
    "start_time": "2023-02-09T16:23:37.309Z"
   },
   {
    "duration": 5206,
    "start_time": "2023-02-09T16:23:37.313Z"
   },
   {
    "duration": 1354,
    "start_time": "2023-02-09T16:23:42.521Z"
   },
   {
    "duration": 263,
    "start_time": "2023-02-09T16:23:43.877Z"
   },
   {
    "duration": 50,
    "start_time": "2023-02-09T16:24:30.386Z"
   },
   {
    "duration": 2027,
    "start_time": "2023-02-09T16:24:33.488Z"
   },
   {
    "duration": 4413,
    "start_time": "2023-02-09T16:24:35.517Z"
   },
   {
    "duration": 46,
    "start_time": "2023-02-09T16:24:39.932Z"
   },
   {
    "duration": 248,
    "start_time": "2023-02-09T16:24:39.984Z"
   },
   {
    "duration": 126,
    "start_time": "2023-02-09T16:24:40.238Z"
   },
   {
    "duration": 247,
    "start_time": "2023-02-09T16:24:40.366Z"
   },
   {
    "duration": 182,
    "start_time": "2023-02-09T16:24:40.615Z"
   },
   {
    "duration": 285,
    "start_time": "2023-02-09T16:24:40.800Z"
   },
   {
    "duration": 5010,
    "start_time": "2023-02-09T16:24:41.088Z"
   },
   {
    "duration": 10,
    "start_time": "2023-02-09T16:24:46.101Z"
   },
   {
    "duration": 374,
    "start_time": "2023-02-09T16:24:46.112Z"
   },
   {
    "duration": 597,
    "start_time": "2023-02-09T16:24:46.489Z"
   },
   {
    "duration": 468,
    "start_time": "2023-02-09T16:24:47.092Z"
   },
   {
    "duration": 46,
    "start_time": "2023-02-09T16:24:47.564Z"
   },
   {
    "duration": 79,
    "start_time": "2023-02-09T16:24:47.612Z"
   },
   {
    "duration": 9,
    "start_time": "2023-02-09T16:24:47.693Z"
   },
   {
    "duration": 2197,
    "start_time": "2023-02-09T16:24:47.704Z"
   },
   {
    "duration": 332,
    "start_time": "2023-02-09T16:24:49.903Z"
   },
   {
    "duration": 488,
    "start_time": "2023-02-09T16:24:50.242Z"
   },
   {
    "duration": 16,
    "start_time": "2023-02-09T16:24:50.742Z"
   },
   {
    "duration": 243,
    "start_time": "2023-02-09T16:24:50.762Z"
   },
   {
    "duration": 62,
    "start_time": "2023-02-09T16:24:51.007Z"
   },
   {
    "duration": 838,
    "start_time": "2023-02-09T16:24:55.588Z"
   },
   {
    "duration": 2,
    "start_time": "2023-02-09T16:25:55.669Z"
   },
   {
    "duration": 485,
    "start_time": "2023-02-09T16:26:06.989Z"
   },
   {
    "duration": 250,
    "start_time": "2023-02-09T16:26:10.664Z"
   },
   {
    "duration": 89391,
    "start_time": "2023-02-09T16:26:14.879Z"
   },
   {
    "duration": 9373,
    "start_time": "2023-02-09T16:40:29.714Z"
   },
   {
    "duration": 1789,
    "start_time": "2023-02-09T22:26:47.878Z"
   },
   {
    "duration": 3021,
    "start_time": "2023-02-09T22:26:49.669Z"
   },
   {
    "duration": 19,
    "start_time": "2023-02-09T22:26:52.691Z"
   },
   {
    "duration": 139,
    "start_time": "2023-02-09T22:26:52.712Z"
   },
   {
    "duration": 143,
    "start_time": "2023-02-09T22:26:52.855Z"
   },
   {
    "duration": 170,
    "start_time": "2023-02-09T22:26:52.999Z"
   },
   {
    "duration": 127,
    "start_time": "2023-02-09T22:26:53.170Z"
   },
   {
    "duration": 232,
    "start_time": "2023-02-09T22:26:53.299Z"
   },
   {
    "duration": 3635,
    "start_time": "2023-02-09T22:26:53.533Z"
   },
   {
    "duration": 13,
    "start_time": "2023-02-09T22:26:57.170Z"
   },
   {
    "duration": 284,
    "start_time": "2023-02-09T22:26:57.185Z"
   },
   {
    "duration": 511,
    "start_time": "2023-02-09T22:26:57.471Z"
   },
   {
    "duration": 318,
    "start_time": "2023-02-09T22:26:57.983Z"
   },
   {
    "duration": 30,
    "start_time": "2023-02-09T22:26:58.304Z"
   },
   {
    "duration": 62,
    "start_time": "2023-02-09T22:26:58.336Z"
   },
   {
    "duration": 3,
    "start_time": "2023-02-09T22:26:58.400Z"
   },
   {
    "duration": 1809,
    "start_time": "2023-02-09T22:26:58.405Z"
   },
   {
    "duration": 262,
    "start_time": "2023-02-09T22:27:00.216Z"
   },
   {
    "duration": 365,
    "start_time": "2023-02-09T22:27:00.480Z"
   },
   {
    "duration": 11,
    "start_time": "2023-02-09T22:27:00.847Z"
   },
   {
    "duration": 168,
    "start_time": "2023-02-09T22:27:00.860Z"
   },
   {
    "duration": 41,
    "start_time": "2023-02-09T22:27:01.029Z"
   },
   {
    "duration": 591,
    "start_time": "2023-02-09T22:27:01.073Z"
   },
   {
    "duration": 2,
    "start_time": "2023-02-09T22:27:01.666Z"
   },
   {
    "duration": 431,
    "start_time": "2023-02-09T22:27:07.105Z"
   },
   {
    "duration": 43815,
    "start_time": "2023-02-09T22:27:13.336Z"
   },
   {
    "duration": 183,
    "start_time": "2023-02-09T22:28:01.384Z"
   },
   {
    "duration": 6660,
    "start_time": "2023-02-09T22:28:07.864Z"
   },
   {
    "duration": 161,
    "start_time": "2023-02-09T22:28:26.974Z"
   },
   {
    "duration": 74591,
    "start_time": "2023-02-09T22:29:00.882Z"
   },
   {
    "duration": 104385,
    "start_time": "2023-02-09T22:30:20.477Z"
   },
   {
    "duration": 699,
    "start_time": "2023-02-09T22:32:33.677Z"
   },
   {
    "duration": 4,
    "start_time": "2023-02-09T22:48:56.210Z"
   },
   {
    "duration": 544,
    "start_time": "2023-02-09T22:51:45.514Z"
   },
   {
    "duration": 424,
    "start_time": "2023-02-09T22:51:51.193Z"
   },
   {
    "duration": 10,
    "start_time": "2023-02-09T22:52:55.217Z"
   },
   {
    "duration": 4,
    "start_time": "2023-02-09T22:53:30.273Z"
   },
   {
    "duration": 11,
    "start_time": "2023-02-09T22:53:36.336Z"
   },
   {
    "duration": 11,
    "start_time": "2023-02-09T22:53:43.664Z"
   },
   {
    "duration": 3,
    "start_time": "2023-02-09T22:54:52.383Z"
   },
   {
    "duration": 45,
    "start_time": "2023-02-09T22:55:42.885Z"
   },
   {
    "duration": 26,
    "start_time": "2023-02-09T22:56:00.060Z"
   },
   {
    "duration": 29,
    "start_time": "2023-02-09T22:56:04.090Z"
   },
   {
    "duration": 27,
    "start_time": "2023-02-09T22:56:08.331Z"
   },
   {
    "duration": 25,
    "start_time": "2023-02-09T22:56:11.258Z"
   },
   {
    "duration": 333,
    "start_time": "2023-02-09T22:58:06.466Z"
   },
   {
    "duration": 29,
    "start_time": "2023-02-09T22:58:47.660Z"
   },
   {
    "duration": 25,
    "start_time": "2023-02-09T22:59:15.323Z"
   },
   {
    "duration": 26,
    "start_time": "2023-02-09T22:59:19.362Z"
   },
   {
    "duration": 338,
    "start_time": "2023-02-09T23:01:20.375Z"
   },
   {
    "duration": 165,
    "start_time": "2023-02-09T23:01:21.276Z"
   },
   {
    "duration": 163,
    "start_time": "2023-02-09T23:01:26.287Z"
   },
   {
    "duration": 17655,
    "start_time": "2023-02-09T23:01:31.196Z"
   },
   {
    "duration": 3,
    "start_time": "2023-02-09T23:17:32.656Z"
   },
   {
    "duration": 4,
    "start_time": "2023-02-09T23:20:34.698Z"
   },
   {
    "duration": 4,
    "start_time": "2023-02-09T23:21:31.486Z"
   },
   {
    "duration": 5876,
    "start_time": "2023-02-09T23:22:15.885Z"
   },
   {
    "duration": 741,
    "start_time": "2023-02-09T23:22:58.621Z"
   },
   {
    "duration": 10,
    "start_time": "2023-02-09T23:23:58.356Z"
   },
   {
    "duration": 10,
    "start_time": "2023-02-09T23:24:24.793Z"
   },
   {
    "duration": 4,
    "start_time": "2023-02-09T23:24:28.584Z"
   },
   {
    "duration": 5494,
    "start_time": "2023-02-09T23:24:56.858Z"
   },
   {
    "duration": 758,
    "start_time": "2023-02-09T23:25:05.692Z"
   },
   {
    "duration": 7345,
    "start_time": "2023-02-09T23:25:21.714Z"
   },
   {
    "duration": 954,
    "start_time": "2023-02-09T23:25:30.101Z"
   },
   {
    "duration": 5525,
    "start_time": "2023-02-09T23:25:43.831Z"
   },
   {
    "duration": 917,
    "start_time": "2023-02-09T23:25:50.837Z"
   },
   {
    "duration": 211169,
    "start_time": "2023-02-09T23:26:38.188Z"
   },
   {
    "duration": 945,
    "start_time": "2023-02-09T23:30:19.921Z"
   },
   {
    "duration": 6139,
    "start_time": "2023-02-09T23:30:24.328Z"
   },
   {
    "duration": 846,
    "start_time": "2023-02-09T23:30:32.617Z"
   },
   {
    "duration": 145,
    "start_time": "2023-02-09T23:39:41.879Z"
   },
   {
    "duration": 83,
    "start_time": "2023-02-09T23:40:17.542Z"
   },
   {
    "duration": 16436,
    "start_time": "2023-02-09T23:40:24.415Z"
   },
   {
    "duration": 78,
    "start_time": "2023-02-09T23:40:59.196Z"
   },
   {
    "duration": 17237,
    "start_time": "2023-02-09T23:41:06.319Z"
   },
   {
    "duration": 136,
    "start_time": "2023-02-09T23:45:36.314Z"
   },
   {
    "duration": 81,
    "start_time": "2023-02-09T23:45:39.708Z"
   },
   {
    "duration": 79,
    "start_time": "2023-02-09T23:45:51.475Z"
   },
   {
    "duration": 15710,
    "start_time": "2023-02-09T23:45:53.440Z"
   },
   {
    "duration": 197,
    "start_time": "2023-02-09T23:46:09.152Z"
   },
   {
    "duration": 397,
    "start_time": "2023-02-09T23:49:12.236Z"
   },
   {
    "duration": 411,
    "start_time": "2023-02-09T23:49:27.136Z"
   },
   {
    "duration": 405,
    "start_time": "2023-02-09T23:49:31.789Z"
   },
   {
    "duration": 4768,
    "start_time": "2023-02-09T23:49:36.573Z"
   },
   {
    "duration": 122,
    "start_time": "2023-02-09T23:50:15.911Z"
   },
   {
    "duration": 4889,
    "start_time": "2023-02-09T23:50:24.890Z"
   },
   {
    "duration": 128,
    "start_time": "2023-02-09T23:52:06.883Z"
   },
   {
    "duration": 4733,
    "start_time": "2023-02-09T23:52:11.792Z"
   },
   {
    "duration": 94,
    "start_time": "2023-02-09T23:55:38.385Z"
   },
   {
    "duration": 3230,
    "start_time": "2023-02-09T23:55:48.614Z"
   },
   {
    "duration": 118,
    "start_time": "2023-02-09T23:55:58.772Z"
   },
   {
    "duration": 3912,
    "start_time": "2023-02-09T23:56:04.304Z"
   },
   {
    "duration": 119,
    "start_time": "2023-02-09T23:56:09.526Z"
   },
   {
    "duration": 4787,
    "start_time": "2023-02-09T23:56:15.569Z"
   },
   {
    "duration": 129,
    "start_time": "2023-02-09T23:56:21.185Z"
   },
   {
    "duration": 4956,
    "start_time": "2023-02-09T23:56:34.285Z"
   },
   {
    "duration": 120,
    "start_time": "2023-02-09T23:56:40.338Z"
   },
   {
    "duration": 6142,
    "start_time": "2023-02-09T23:56:43.696Z"
   },
   {
    "duration": 122,
    "start_time": "2023-02-09T23:56:52.770Z"
   },
   {
    "duration": 7728,
    "start_time": "2023-02-09T23:56:57.412Z"
   },
   {
    "duration": 122,
    "start_time": "2023-02-09T23:57:06.871Z"
   },
   {
    "duration": 4717,
    "start_time": "2023-02-09T23:57:11.425Z"
   },
   {
    "duration": 128,
    "start_time": "2023-02-09T23:57:16.770Z"
   },
   {
    "duration": 1731,
    "start_time": "2023-02-10T07:23:29.348Z"
   },
   {
    "duration": 4,
    "start_time": "2023-02-10T07:23:37.956Z"
   },
   {
    "duration": 3055,
    "start_time": "2023-02-10T07:23:37.966Z"
   },
   {
    "duration": 17,
    "start_time": "2023-02-10T07:23:41.023Z"
   },
   {
    "duration": 139,
    "start_time": "2023-02-10T07:23:41.042Z"
   },
   {
    "duration": 106,
    "start_time": "2023-02-10T07:23:41.183Z"
   },
   {
    "duration": 202,
    "start_time": "2023-02-10T07:23:41.292Z"
   },
   {
    "duration": 122,
    "start_time": "2023-02-10T07:23:41.496Z"
   },
   {
    "duration": 219,
    "start_time": "2023-02-10T07:23:41.619Z"
   },
   {
    "duration": 3647,
    "start_time": "2023-02-10T07:23:41.840Z"
   },
   {
    "duration": 12,
    "start_time": "2023-02-10T07:23:45.489Z"
   },
   {
    "duration": 278,
    "start_time": "2023-02-10T07:23:45.503Z"
   },
   {
    "duration": 444,
    "start_time": "2023-02-10T07:23:45.783Z"
   },
   {
    "duration": 291,
    "start_time": "2023-02-10T07:23:46.228Z"
   },
   {
    "duration": 28,
    "start_time": "2023-02-10T07:23:46.520Z"
   },
   {
    "duration": 57,
    "start_time": "2023-02-10T07:23:46.550Z"
   },
   {
    "duration": 4,
    "start_time": "2023-02-10T07:23:46.609Z"
   },
   {
    "duration": 1745,
    "start_time": "2023-02-10T07:23:46.614Z"
   },
   {
    "duration": 278,
    "start_time": "2023-02-10T07:23:48.361Z"
   },
   {
    "duration": 328,
    "start_time": "2023-02-10T07:23:48.641Z"
   },
   {
    "duration": 9,
    "start_time": "2023-02-10T07:23:48.971Z"
   },
   {
    "duration": 146,
    "start_time": "2023-02-10T07:23:48.981Z"
   },
   {
    "duration": 44,
    "start_time": "2023-02-10T07:23:49.129Z"
   },
   {
    "duration": 561,
    "start_time": "2023-02-10T07:23:49.176Z"
   },
   {
    "duration": 2,
    "start_time": "2023-02-10T07:23:49.739Z"
   },
   {
    "duration": 421,
    "start_time": "2023-02-10T07:23:49.742Z"
   },
   {
    "duration": 180,
    "start_time": "2023-02-10T07:23:50.167Z"
   },
   {
    "duration": 23121,
    "start_time": "2023-02-10T07:23:50.348Z"
   },
   {
    "duration": 704,
    "start_time": "2023-02-10T07:24:13.470Z"
   },
   {
    "duration": 20003,
    "start_time": "2023-02-10T07:24:14.176Z"
   },
   {
    "duration": 200,
    "start_time": "2023-02-10T07:24:34.268Z"
   },
   {
    "duration": 106,
    "start_time": "2023-02-10T07:26:09.544Z"
   },
   {
    "duration": 4,
    "start_time": "2023-02-10T07:26:18.597Z"
   },
   {
    "duration": 13,
    "start_time": "2023-02-10T07:26:27.076Z"
   },
   {
    "duration": 10,
    "start_time": "2023-02-10T07:26:42.727Z"
   },
   {
    "duration": 9,
    "start_time": "2023-02-10T07:40:46.292Z"
   },
   {
    "duration": 659,
    "start_time": "2023-02-10T08:47:51.715Z"
   },
   {
    "duration": 144,
    "start_time": "2023-02-10T08:48:19.726Z"
   },
   {
    "duration": 81,
    "start_time": "2023-02-10T08:48:52.375Z"
   },
   {
    "duration": 6453,
    "start_time": "2023-02-10T08:48:56.202Z"
   },
   {
    "duration": 159,
    "start_time": "2023-02-10T08:49:02.656Z"
   },
   {
    "duration": 643,
    "start_time": "2023-02-10T08:49:38.145Z"
   },
   {
    "duration": 151,
    "start_time": "2023-02-10T08:50:13.776Z"
   },
   {
    "duration": 4827,
    "start_time": "2023-02-10T08:50:16.380Z"
   },
   {
    "duration": 126,
    "start_time": "2023-02-10T08:50:22.034Z"
   },
   {
    "duration": 4,
    "start_time": "2023-02-10T09:08:51.262Z"
   },
   {
    "duration": 10,
    "start_time": "2023-02-10T09:08:56.979Z"
   },
   {
    "duration": 17,
    "start_time": "2023-02-10T09:09:43.587Z"
   },
   {
    "duration": 15,
    "start_time": "2023-02-10T09:10:11.698Z"
   },
   {
    "duration": 14,
    "start_time": "2023-02-10T09:10:23.985Z"
   },
   {
    "duration": 10,
    "start_time": "2023-02-10T09:10:32.123Z"
   },
   {
    "duration": 5,
    "start_time": "2023-02-10T09:12:29.282Z"
   },
   {
    "duration": 15,
    "start_time": "2023-02-10T09:12:29.924Z"
   },
   {
    "duration": 3,
    "start_time": "2023-02-10T09:12:42.992Z"
   },
   {
    "duration": 11,
    "start_time": "2023-02-10T09:12:54.111Z"
   },
   {
    "duration": 3,
    "start_time": "2023-02-10T09:14:36.232Z"
   },
   {
    "duration": 12,
    "start_time": "2023-02-10T09:14:36.744Z"
   },
   {
    "duration": 15,
    "start_time": "2023-02-10T09:14:41.683Z"
   },
   {
    "duration": 2,
    "start_time": "2023-02-10T09:15:07.535Z"
   },
   {
    "duration": 14,
    "start_time": "2023-02-10T09:15:08.032Z"
   },
   {
    "duration": 10,
    "start_time": "2023-02-10T09:16:04.827Z"
   },
   {
    "duration": 3,
    "start_time": "2023-02-10T09:24:05.688Z"
   },
   {
    "duration": 9,
    "start_time": "2023-02-10T09:24:28.996Z"
   },
   {
    "duration": 13,
    "start_time": "2023-02-10T09:24:48.715Z"
   },
   {
    "duration": 4,
    "start_time": "2023-02-10T09:28:52.774Z"
   },
   {
    "duration": 1690,
    "start_time": "2023-02-10T09:29:03.994Z"
   },
   {
    "duration": 840,
    "start_time": "2023-02-10T09:29:07.819Z"
   },
   {
    "duration": 21,
    "start_time": "2023-02-10T09:29:08.661Z"
   },
   {
    "duration": 149,
    "start_time": "2023-02-10T09:29:08.685Z"
   },
   {
    "duration": 104,
    "start_time": "2023-02-10T09:29:08.836Z"
   },
   {
    "duration": 205,
    "start_time": "2023-02-10T09:29:08.942Z"
   },
   {
    "duration": 138,
    "start_time": "2023-02-10T09:29:09.149Z"
   },
   {
    "duration": 211,
    "start_time": "2023-02-10T09:29:09.289Z"
   },
   {
    "duration": 3541,
    "start_time": "2023-02-10T09:29:09.590Z"
   },
   {
    "duration": 8,
    "start_time": "2023-02-10T09:29:13.133Z"
   },
   {
    "duration": 301,
    "start_time": "2023-02-10T09:29:13.142Z"
   },
   {
    "duration": 549,
    "start_time": "2023-02-10T09:29:13.446Z"
   },
   {
    "duration": 334,
    "start_time": "2023-02-10T09:29:13.997Z"
   },
   {
    "duration": 41,
    "start_time": "2023-02-10T09:29:14.333Z"
   },
   {
    "duration": 53,
    "start_time": "2023-02-10T09:29:14.376Z"
   },
   {
    "duration": 4,
    "start_time": "2023-02-10T09:29:14.431Z"
   },
   {
    "duration": 1994,
    "start_time": "2023-02-10T09:29:14.437Z"
   },
   {
    "duration": 294,
    "start_time": "2023-02-10T09:29:16.433Z"
   },
   {
    "duration": 450,
    "start_time": "2023-02-10T09:29:16.729Z"
   },
   {
    "duration": 11,
    "start_time": "2023-02-10T09:29:17.181Z"
   },
   {
    "duration": 150,
    "start_time": "2023-02-10T09:29:17.193Z"
   },
   {
    "duration": 46,
    "start_time": "2023-02-10T09:29:17.345Z"
   },
   {
    "duration": 564,
    "start_time": "2023-02-10T09:29:17.392Z"
   },
   {
    "duration": 2,
    "start_time": "2023-02-10T09:29:17.957Z"
   },
   {
    "duration": 449,
    "start_time": "2023-02-10T09:29:17.967Z"
   },
   {
    "duration": 191,
    "start_time": "2023-02-10T09:29:18.418Z"
   },
   {
    "duration": 15190,
    "start_time": "2023-02-10T09:29:23.884Z"
   },
   {
    "duration": 703,
    "start_time": "2023-02-10T09:29:48.281Z"
   },
   {
    "duration": 17275,
    "start_time": "2023-02-10T09:29:52.097Z"
   },
   {
    "duration": 130,
    "start_time": "2023-02-10T09:30:12.041Z"
   },
   {
    "duration": 6770,
    "start_time": "2023-02-10T09:30:15.769Z"
   },
   {
    "duration": 166,
    "start_time": "2023-02-10T09:30:25.172Z"
   },
   {
    "duration": 9694,
    "start_time": "2023-02-10T09:31:37.986Z"
   },
   {
    "duration": 1082,
    "start_time": "2023-02-10T09:31:57.299Z"
   },
   {
    "duration": 5164,
    "start_time": "2023-02-10T09:32:08.293Z"
   },
   {
    "duration": 151,
    "start_time": "2023-02-10T09:32:13.459Z"
   },
   {
    "duration": 4,
    "start_time": "2023-02-10T09:57:38.040Z"
   },
   {
    "duration": 13,
    "start_time": "2023-02-10T09:57:38.648Z"
   },
   {
    "duration": 19,
    "start_time": "2023-02-10T09:57:45.536Z"
   },
   {
    "duration": 4,
    "start_time": "2023-02-10T09:58:50.983Z"
   },
   {
    "duration": 14,
    "start_time": "2023-02-10T09:58:51.368Z"
   },
   {
    "duration": 3,
    "start_time": "2023-02-10T10:01:19.394Z"
   },
   {
    "duration": 13,
    "start_time": "2023-02-10T10:01:19.602Z"
   },
   {
    "duration": 2539,
    "start_time": "2023-02-11T13:07:29.351Z"
   },
   {
    "duration": 3458,
    "start_time": "2023-02-11T13:07:31.892Z"
   },
   {
    "duration": 51,
    "start_time": "2023-02-11T13:07:35.363Z"
   },
   {
    "duration": 308,
    "start_time": "2023-02-11T13:07:35.417Z"
   },
   {
    "duration": 141,
    "start_time": "2023-02-11T13:07:35.728Z"
   },
   {
    "duration": 268,
    "start_time": "2023-02-11T13:07:35.876Z"
   },
   {
    "duration": 208,
    "start_time": "2023-02-11T13:07:36.152Z"
   },
   {
    "duration": 291,
    "start_time": "2023-02-11T13:07:36.367Z"
   },
   {
    "duration": 5446,
    "start_time": "2023-02-11T13:07:36.659Z"
   },
   {
    "duration": 19,
    "start_time": "2023-02-11T13:07:42.108Z"
   },
   {
    "duration": 531,
    "start_time": "2023-02-11T13:07:42.131Z"
   },
   {
    "duration": 798,
    "start_time": "2023-02-11T13:07:42.667Z"
   },
   {
    "duration": 449,
    "start_time": "2023-02-11T13:07:43.471Z"
   },
   {
    "duration": 50,
    "start_time": "2023-02-11T13:07:43.928Z"
   },
   {
    "duration": 179,
    "start_time": "2023-02-11T13:07:43.985Z"
   },
   {
    "duration": 43,
    "start_time": "2023-02-11T13:07:44.170Z"
   },
   {
    "duration": 3289,
    "start_time": "2023-02-11T13:07:44.215Z"
   },
   {
    "duration": 477,
    "start_time": "2023-02-11T13:07:47.509Z"
   },
   {
    "duration": 502,
    "start_time": "2023-02-11T13:07:48.004Z"
   },
   {
    "duration": 13,
    "start_time": "2023-02-11T13:07:48.511Z"
   },
   {
    "duration": 308,
    "start_time": "2023-02-11T13:07:48.529Z"
   },
   {
    "duration": 68,
    "start_time": "2023-02-11T13:07:48.844Z"
   },
   {
    "duration": 989,
    "start_time": "2023-02-11T13:07:48.919Z"
   },
   {
    "duration": 4,
    "start_time": "2023-02-11T13:07:49.915Z"
   },
   {
    "duration": 593,
    "start_time": "2023-02-11T13:07:49.926Z"
   },
   {
    "duration": 291,
    "start_time": "2023-02-11T13:07:50.523Z"
   },
   {
    "duration": 579,
    "start_time": "2023-02-11T13:14:39.742Z"
   },
   {
    "duration": 175,
    "start_time": "2023-02-11T13:14:55.844Z"
   },
   {
    "duration": 74,
    "start_time": "2023-02-11T13:16:29.722Z"
   },
   {
    "duration": 4,
    "start_time": "2023-02-11T13:27:53.254Z"
   },
   {
    "duration": 916,
    "start_time": "2023-02-11T13:27:53.260Z"
   },
   {
    "duration": 14,
    "start_time": "2023-02-11T13:27:54.178Z"
   },
   {
    "duration": 140,
    "start_time": "2023-02-11T13:27:54.194Z"
   },
   {
    "duration": 129,
    "start_time": "2023-02-11T13:27:54.337Z"
   },
   {
    "duration": 117,
    "start_time": "2023-02-11T13:27:54.468Z"
   },
   {
    "duration": 128,
    "start_time": "2023-02-11T13:27:54.588Z"
   },
   {
    "duration": 169,
    "start_time": "2023-02-11T13:27:54.719Z"
   },
   {
    "duration": 3102,
    "start_time": "2023-02-11T13:27:54.890Z"
   },
   {
    "duration": 13,
    "start_time": "2023-02-11T13:27:57.995Z"
   },
   {
    "duration": 299,
    "start_time": "2023-02-11T13:27:58.011Z"
   },
   {
    "duration": 424,
    "start_time": "2023-02-11T13:27:58.311Z"
   },
   {
    "duration": 391,
    "start_time": "2023-02-11T13:27:58.738Z"
   },
   {
    "duration": 27,
    "start_time": "2023-02-11T13:27:59.132Z"
   },
   {
    "duration": 45,
    "start_time": "2023-02-11T13:27:59.161Z"
   },
   {
    "duration": 4,
    "start_time": "2023-02-11T13:27:59.228Z"
   },
   {
    "duration": 1800,
    "start_time": "2023-02-11T13:27:59.234Z"
   },
   {
    "duration": 220,
    "start_time": "2023-02-11T13:28:01.036Z"
   },
   {
    "duration": 320,
    "start_time": "2023-02-11T13:28:01.258Z"
   },
   {
    "duration": 12,
    "start_time": "2023-02-11T13:28:01.582Z"
   },
   {
    "duration": 201,
    "start_time": "2023-02-11T13:28:01.597Z"
   },
   {
    "duration": 64,
    "start_time": "2023-02-11T13:28:01.800Z"
   },
   {
    "duration": 747,
    "start_time": "2023-02-11T13:28:01.867Z"
   },
   {
    "duration": 2,
    "start_time": "2023-02-11T13:28:02.616Z"
   },
   {
    "duration": 543,
    "start_time": "2023-02-11T13:28:02.620Z"
   },
   {
    "duration": 1559,
    "start_time": "2023-02-11T13:28:20.259Z"
   },
   {
    "duration": 946,
    "start_time": "2023-02-11T13:28:21.820Z"
   },
   {
    "duration": 21,
    "start_time": "2023-02-11T13:28:22.767Z"
   },
   {
    "duration": 142,
    "start_time": "2023-02-11T13:28:22.790Z"
   },
   {
    "duration": 139,
    "start_time": "2023-02-11T13:28:22.936Z"
   },
   {
    "duration": 189,
    "start_time": "2023-02-11T13:28:23.077Z"
   },
   {
    "duration": 125,
    "start_time": "2023-02-11T13:28:23.268Z"
   },
   {
    "duration": 222,
    "start_time": "2023-02-11T13:28:23.395Z"
   },
   {
    "duration": 3209,
    "start_time": "2023-02-11T13:28:23.619Z"
   },
   {
    "duration": 9,
    "start_time": "2023-02-11T13:28:26.831Z"
   },
   {
    "duration": 313,
    "start_time": "2023-02-11T13:28:26.842Z"
   },
   {
    "duration": 520,
    "start_time": "2023-02-11T13:28:27.157Z"
   },
   {
    "duration": 302,
    "start_time": "2023-02-11T13:28:27.679Z"
   },
   {
    "duration": 27,
    "start_time": "2023-02-11T13:28:27.984Z"
   },
   {
    "duration": 52,
    "start_time": "2023-02-11T13:28:28.013Z"
   },
   {
    "duration": 3,
    "start_time": "2023-02-11T13:28:28.067Z"
   },
   {
    "duration": 1847,
    "start_time": "2023-02-11T13:28:28.072Z"
   },
   {
    "duration": 234,
    "start_time": "2023-02-11T13:28:29.920Z"
   },
   {
    "duration": 395,
    "start_time": "2023-02-11T13:28:30.155Z"
   },
   {
    "duration": 12,
    "start_time": "2023-02-11T13:28:30.553Z"
   },
   {
    "duration": 216,
    "start_time": "2023-02-11T13:28:30.567Z"
   },
   {
    "duration": 59,
    "start_time": "2023-02-11T13:28:30.785Z"
   },
   {
    "duration": 729,
    "start_time": "2023-02-11T13:28:30.845Z"
   },
   {
    "duration": 2,
    "start_time": "2023-02-11T13:28:31.576Z"
   },
   {
    "duration": 544,
    "start_time": "2023-02-11T13:28:31.580Z"
   },
   {
    "duration": 177,
    "start_time": "2023-02-11T13:28:32.126Z"
   },
   {
    "duration": 251997,
    "start_time": "2023-02-11T13:34:44.044Z"
   },
   {
    "duration": 583,
    "start_time": "2023-02-11T13:39:38.555Z"
   },
   {
    "duration": 17343,
    "start_time": "2023-02-11T13:39:42.285Z"
   },
   {
    "duration": 94,
    "start_time": "2023-02-11T13:40:03.438Z"
   },
   {
    "duration": 5562,
    "start_time": "2023-02-11T13:40:07.740Z"
   },
   {
    "duration": 889849,
    "start_time": "2023-02-11T13:40:35.484Z"
   },
   {
    "duration": 905,
    "start_time": "2023-02-11T13:55:25.337Z"
   },
   {
    "duration": 4129,
    "start_time": "2023-02-11T13:55:26.246Z"
   },
   {
    "duration": 131,
    "start_time": "2023-02-11T13:55:30.377Z"
   },
   {
    "duration": 919389,
    "start_time": "2023-02-11T13:55:52.455Z"
   },
   {
    "duration": 834,
    "start_time": "2023-02-11T14:11:57.216Z"
   },
   {
    "duration": 13,
    "start_time": "2023-02-11T14:12:01.322Z"
   },
   {
    "duration": 23,
    "start_time": "2023-02-11T14:12:06.083Z"
   },
   {
    "duration": 21,
    "start_time": "2023-02-11T14:12:45.967Z"
   },
   {
    "duration": 15,
    "start_time": "2023-02-11T14:12:49.475Z"
   },
   {
    "duration": 13,
    "start_time": "2023-02-11T14:12:52.452Z"
   },
   {
    "duration": 14,
    "start_time": "2023-02-11T14:12:54.838Z"
   },
   {
    "duration": 13,
    "start_time": "2023-02-11T14:12:58.209Z"
   },
   {
    "duration": 434,
    "start_time": "2023-02-11T14:15:04.630Z"
   },
   {
    "duration": 435,
    "start_time": "2023-02-11T14:15:07.224Z"
   },
   {
    "duration": 1592,
    "start_time": "2023-02-11T14:18:20.899Z"
   },
   {
    "duration": 935,
    "start_time": "2023-02-11T14:18:22.493Z"
   },
   {
    "duration": 23,
    "start_time": "2023-02-11T14:18:23.432Z"
   },
   {
    "duration": 133,
    "start_time": "2023-02-11T14:18:23.457Z"
   },
   {
    "duration": 122,
    "start_time": "2023-02-11T14:18:23.593Z"
   },
   {
    "duration": 167,
    "start_time": "2023-02-11T14:18:23.717Z"
   },
   {
    "duration": 126,
    "start_time": "2023-02-11T14:18:23.886Z"
   },
   {
    "duration": 228,
    "start_time": "2023-02-11T14:18:24.014Z"
   },
   {
    "duration": 3362,
    "start_time": "2023-02-11T14:18:24.246Z"
   },
   {
    "duration": 20,
    "start_time": "2023-02-11T14:18:27.609Z"
   },
   {
    "duration": 323,
    "start_time": "2023-02-11T14:18:27.631Z"
   },
   {
    "duration": 648,
    "start_time": "2023-02-11T14:18:27.956Z"
   },
   {
    "duration": 334,
    "start_time": "2023-02-11T14:18:28.606Z"
   },
   {
    "duration": 35,
    "start_time": "2023-02-11T14:18:28.944Z"
   },
   {
    "duration": 64,
    "start_time": "2023-02-11T14:18:28.981Z"
   },
   {
    "duration": 5,
    "start_time": "2023-02-11T14:18:29.049Z"
   },
   {
    "duration": 1958,
    "start_time": "2023-02-11T14:18:29.056Z"
   },
   {
    "duration": 273,
    "start_time": "2023-02-11T14:18:31.016Z"
   },
   {
    "duration": 373,
    "start_time": "2023-02-11T14:18:31.291Z"
   },
   {
    "duration": 12,
    "start_time": "2023-02-11T14:18:31.666Z"
   },
   {
    "duration": 189,
    "start_time": "2023-02-11T14:18:31.680Z"
   },
   {
    "duration": 57,
    "start_time": "2023-02-11T14:18:31.870Z"
   },
   {
    "duration": 668,
    "start_time": "2023-02-11T14:18:31.928Z"
   },
   {
    "duration": 3,
    "start_time": "2023-02-11T14:18:32.599Z"
   },
   {
    "duration": 563,
    "start_time": "2023-02-11T14:18:32.604Z"
   },
   {
    "duration": 182,
    "start_time": "2023-02-11T14:18:33.169Z"
   },
   {
    "duration": 100296,
    "start_time": "2023-02-11T14:18:37.544Z"
   },
   {
    "duration": 52,
    "start_time": "2023-02-11T14:20:17.843Z"
   },
   {
    "duration": 1475,
    "start_time": "2023-02-11T14:20:33.938Z"
   },
   {
    "duration": 894,
    "start_time": "2023-02-11T14:20:35.415Z"
   },
   {
    "duration": 26,
    "start_time": "2023-02-11T14:20:36.312Z"
   },
   {
    "duration": 191,
    "start_time": "2023-02-11T14:20:36.341Z"
   },
   {
    "duration": 114,
    "start_time": "2023-02-11T14:20:36.534Z"
   },
   {
    "duration": 161,
    "start_time": "2023-02-11T14:20:36.650Z"
   },
   {
    "duration": 124,
    "start_time": "2023-02-11T14:20:36.813Z"
   },
   {
    "duration": 220,
    "start_time": "2023-02-11T14:20:36.939Z"
   },
   {
    "duration": 3287,
    "start_time": "2023-02-11T14:20:37.161Z"
   },
   {
    "duration": 9,
    "start_time": "2023-02-11T14:20:40.450Z"
   },
   {
    "duration": 319,
    "start_time": "2023-02-11T14:20:40.461Z"
   },
   {
    "duration": 540,
    "start_time": "2023-02-11T14:20:40.782Z"
   },
   {
    "duration": 297,
    "start_time": "2023-02-11T14:20:41.325Z"
   },
   {
    "duration": 27,
    "start_time": "2023-02-11T14:20:41.627Z"
   },
   {
    "duration": 78,
    "start_time": "2023-02-11T14:20:41.656Z"
   },
   {
    "duration": 5,
    "start_time": "2023-02-11T14:20:41.737Z"
   },
   {
    "duration": 1821,
    "start_time": "2023-02-11T14:20:41.743Z"
   },
   {
    "duration": 233,
    "start_time": "2023-02-11T14:20:43.566Z"
   },
   {
    "duration": 327,
    "start_time": "2023-02-11T14:20:43.801Z"
   },
   {
    "duration": 13,
    "start_time": "2023-02-11T14:20:44.130Z"
   },
   {
    "duration": 170,
    "start_time": "2023-02-11T14:20:44.145Z"
   },
   {
    "duration": 56,
    "start_time": "2023-02-11T14:20:44.317Z"
   },
   {
    "duration": 772,
    "start_time": "2023-02-11T14:20:44.375Z"
   },
   {
    "duration": 3,
    "start_time": "2023-02-11T14:20:45.149Z"
   },
   {
    "duration": 531,
    "start_time": "2023-02-11T14:20:45.153Z"
   },
   {
    "duration": 175,
    "start_time": "2023-02-11T14:20:45.686Z"
   },
   {
    "duration": 74550,
    "start_time": "2023-02-11T14:20:56.473Z"
   },
   {
    "duration": 63,
    "start_time": "2023-02-11T14:22:11.025Z"
   },
   {
    "duration": 1448,
    "start_time": "2023-02-11T14:22:23.775Z"
   },
   {
    "duration": 877,
    "start_time": "2023-02-11T14:22:25.225Z"
   },
   {
    "duration": 25,
    "start_time": "2023-02-11T14:22:26.104Z"
   },
   {
    "duration": 138,
    "start_time": "2023-02-11T14:22:26.131Z"
   },
   {
    "duration": 139,
    "start_time": "2023-02-11T14:22:26.271Z"
   },
   {
    "duration": 174,
    "start_time": "2023-02-11T14:22:26.412Z"
   },
   {
    "duration": 123,
    "start_time": "2023-02-11T14:22:26.588Z"
   },
   {
    "duration": 206,
    "start_time": "2023-02-11T14:22:26.714Z"
   },
   {
    "duration": 4683,
    "start_time": "2023-02-11T14:22:26.927Z"
   },
   {
    "duration": 18,
    "start_time": "2023-02-11T14:22:31.613Z"
   },
   {
    "duration": 312,
    "start_time": "2023-02-11T14:22:31.634Z"
   },
   {
    "duration": 586,
    "start_time": "2023-02-11T14:22:31.948Z"
   },
   {
    "duration": 301,
    "start_time": "2023-02-11T14:22:32.536Z"
   },
   {
    "duration": 29,
    "start_time": "2023-02-11T14:22:32.839Z"
   },
   {
    "duration": 58,
    "start_time": "2023-02-11T14:22:32.870Z"
   },
   {
    "duration": 4,
    "start_time": "2023-02-11T14:22:32.930Z"
   },
   {
    "duration": 1763,
    "start_time": "2023-02-11T14:22:32.935Z"
   },
   {
    "duration": 275,
    "start_time": "2023-02-11T14:22:34.701Z"
   },
   {
    "duration": 319,
    "start_time": "2023-02-11T14:22:34.978Z"
   },
   {
    "duration": 11,
    "start_time": "2023-02-11T14:22:35.300Z"
   },
   {
    "duration": 160,
    "start_time": "2023-02-11T14:22:35.314Z"
   },
   {
    "duration": 64,
    "start_time": "2023-02-11T14:22:35.475Z"
   },
   {
    "duration": 752,
    "start_time": "2023-02-11T14:22:35.541Z"
   },
   {
    "duration": 3,
    "start_time": "2023-02-11T14:22:36.295Z"
   },
   {
    "duration": 551,
    "start_time": "2023-02-11T14:22:36.300Z"
   },
   {
    "duration": 187,
    "start_time": "2023-02-11T14:22:36.852Z"
   },
   {
    "duration": 328608,
    "start_time": "2023-02-11T14:22:41.242Z"
   },
   {
    "duration": 616,
    "start_time": "2023-02-11T14:28:09.853Z"
   },
   {
    "duration": 18474,
    "start_time": "2023-02-11T14:28:10.471Z"
   },
   {
    "duration": 199,
    "start_time": "2023-02-11T14:28:29.028Z"
   },
   {
    "duration": 5837,
    "start_time": "2023-02-11T14:28:29.230Z"
   },
   {
    "duration": 143,
    "start_time": "2023-02-11T14:28:35.073Z"
   },
   {
    "duration": 293121,
    "start_time": "2023-02-11T14:28:35.217Z"
   },
   {
    "duration": 895,
    "start_time": "2023-02-11T14:33:28.339Z"
   },
   {
    "duration": 3913,
    "start_time": "2023-02-11T14:33:29.236Z"
   },
   {
    "duration": 113,
    "start_time": "2023-02-11T14:33:33.151Z"
   },
   {
    "duration": 3,
    "start_time": "2023-02-11T14:43:18.508Z"
   },
   {
    "duration": 13,
    "start_time": "2023-02-11T14:43:18.905Z"
   },
   {
    "duration": 3,
    "start_time": "2023-02-11T14:43:30.642Z"
   },
   {
    "duration": 13,
    "start_time": "2023-02-11T14:43:31.062Z"
   },
   {
    "duration": 9029,
    "start_time": "2023-02-11T14:45:04.006Z"
   },
   {
    "duration": 771,
    "start_time": "2023-02-11T14:45:20.283Z"
   },
   {
    "duration": 20884,
    "start_time": "2023-02-11T14:46:42.153Z"
   },
   {
    "duration": 1511,
    "start_time": "2023-02-11T14:47:25.858Z"
   },
   {
    "duration": 938,
    "start_time": "2023-02-11T14:47:27.371Z"
   },
   {
    "duration": 28,
    "start_time": "2023-02-11T14:47:28.311Z"
   },
   {
    "duration": 130,
    "start_time": "2023-02-11T14:47:28.341Z"
   },
   {
    "duration": 114,
    "start_time": "2023-02-11T14:47:28.473Z"
   },
   {
    "duration": 179,
    "start_time": "2023-02-11T14:47:28.588Z"
   },
   {
    "duration": 107,
    "start_time": "2023-02-11T14:47:28.769Z"
   },
   {
    "duration": 204,
    "start_time": "2023-02-11T14:47:28.878Z"
   },
   {
    "duration": 3183,
    "start_time": "2023-02-11T14:47:29.084Z"
   },
   {
    "duration": 9,
    "start_time": "2023-02-11T14:47:32.268Z"
   },
   {
    "duration": 324,
    "start_time": "2023-02-11T14:47:32.279Z"
   },
   {
    "duration": 538,
    "start_time": "2023-02-11T14:47:32.604Z"
   },
   {
    "duration": 316,
    "start_time": "2023-02-11T14:47:33.144Z"
   },
   {
    "duration": 26,
    "start_time": "2023-02-11T14:47:33.463Z"
   },
   {
    "duration": 54,
    "start_time": "2023-02-11T14:47:33.491Z"
   },
   {
    "duration": 4,
    "start_time": "2023-02-11T14:47:33.547Z"
   },
   {
    "duration": 2049,
    "start_time": "2023-02-11T14:47:33.553Z"
   },
   {
    "duration": 202,
    "start_time": "2023-02-11T14:47:35.604Z"
   },
   {
    "duration": 313,
    "start_time": "2023-02-11T14:47:35.808Z"
   },
   {
    "duration": 10,
    "start_time": "2023-02-11T14:47:36.126Z"
   },
   {
    "duration": 147,
    "start_time": "2023-02-11T14:47:36.138Z"
   },
   {
    "duration": 64,
    "start_time": "2023-02-11T14:47:36.287Z"
   },
   {
    "duration": 663,
    "start_time": "2023-02-11T14:47:36.353Z"
   },
   {
    "duration": 3,
    "start_time": "2023-02-11T14:47:37.017Z"
   },
   {
    "duration": 545,
    "start_time": "2023-02-11T14:47:37.022Z"
   },
   {
    "duration": 184,
    "start_time": "2023-02-11T14:47:37.569Z"
   },
   {
    "duration": 76130,
    "start_time": "2023-02-11T14:47:39.511Z"
   },
   {
    "duration": 20307,
    "start_time": "2023-02-11T14:48:59.936Z"
   },
   {
    "duration": 1551,
    "start_time": "2023-02-11T14:49:38.171Z"
   },
   {
    "duration": 1046,
    "start_time": "2023-02-11T14:49:39.725Z"
   },
   {
    "duration": 19,
    "start_time": "2023-02-11T14:49:40.773Z"
   },
   {
    "duration": 141,
    "start_time": "2023-02-11T14:49:40.794Z"
   },
   {
    "duration": 109,
    "start_time": "2023-02-11T14:49:40.938Z"
   },
   {
    "duration": 158,
    "start_time": "2023-02-11T14:49:41.050Z"
   },
   {
    "duration": 120,
    "start_time": "2023-02-11T14:49:41.210Z"
   },
   {
    "duration": 206,
    "start_time": "2023-02-11T14:49:41.333Z"
   },
   {
    "duration": 3070,
    "start_time": "2023-02-11T14:49:41.654Z"
   },
   {
    "duration": 20,
    "start_time": "2023-02-11T14:49:44.725Z"
   },
   {
    "duration": 323,
    "start_time": "2023-02-11T14:49:44.746Z"
   },
   {
    "duration": 531,
    "start_time": "2023-02-11T14:49:45.072Z"
   },
   {
    "duration": 313,
    "start_time": "2023-02-11T14:49:45.605Z"
   },
   {
    "duration": 36,
    "start_time": "2023-02-11T14:49:45.920Z"
   },
   {
    "duration": 45,
    "start_time": "2023-02-11T14:49:45.958Z"
   },
   {
    "duration": 3,
    "start_time": "2023-02-11T14:49:46.473Z"
   },
   {
    "duration": 1675,
    "start_time": "2023-02-11T14:49:47.184Z"
   },
   {
    "duration": 217,
    "start_time": "2023-02-11T14:49:48.861Z"
   },
   {
    "duration": 308,
    "start_time": "2023-02-11T14:49:49.205Z"
   },
   {
    "duration": 11,
    "start_time": "2023-02-11T14:49:54.391Z"
   },
   {
    "duration": 133,
    "start_time": "2023-02-11T14:49:54.751Z"
   },
   {
    "duration": 53,
    "start_time": "2023-02-11T14:49:55.424Z"
   },
   {
    "duration": 739,
    "start_time": "2023-02-11T14:49:57.305Z"
   },
   {
    "duration": 518,
    "start_time": "2023-02-11T14:50:02.479Z"
   },
   {
    "duration": 188,
    "start_time": "2023-02-11T14:50:04.202Z"
   },
   {
    "duration": 61627,
    "start_time": "2023-02-11T14:50:07.525Z"
   },
   {
    "duration": 657,
    "start_time": "2023-02-11T14:51:14.682Z"
   },
   {
    "duration": 29051,
    "start_time": "2023-02-11T14:51:19.694Z"
   },
   {
    "duration": 187,
    "start_time": "2023-02-11T14:51:48.748Z"
   },
   {
    "duration": 5531,
    "start_time": "2023-02-11T14:51:48.939Z"
   },
   {
    "duration": 147,
    "start_time": "2023-02-11T14:51:54.473Z"
   },
   {
    "duration": 462234,
    "start_time": "2023-02-11T14:51:54.622Z"
   },
   {
    "duration": 899,
    "start_time": "2023-02-11T14:59:46.231Z"
   },
   {
    "duration": 4412,
    "start_time": "2023-02-11T14:59:49.613Z"
   },
   {
    "duration": 134,
    "start_time": "2023-02-11T14:59:54.030Z"
   },
   {
    "duration": 3,
    "start_time": "2023-02-11T15:00:00.598Z"
   },
   {
    "duration": 26,
    "start_time": "2023-02-11T15:00:01.031Z"
   },
   {
    "duration": 1524,
    "start_time": "2023-02-11T15:02:33.350Z"
   },
   {
    "duration": 872,
    "start_time": "2023-02-11T15:02:34.876Z"
   },
   {
    "duration": 18,
    "start_time": "2023-02-11T15:02:35.750Z"
   },
   {
    "duration": 132,
    "start_time": "2023-02-11T15:02:35.770Z"
   },
   {
    "duration": 113,
    "start_time": "2023-02-11T15:02:35.904Z"
   },
   {
    "duration": 171,
    "start_time": "2023-02-11T15:02:36.018Z"
   },
   {
    "duration": 126,
    "start_time": "2023-02-11T15:02:36.191Z"
   },
   {
    "duration": 240,
    "start_time": "2023-02-11T15:02:36.319Z"
   },
   {
    "duration": 3438,
    "start_time": "2023-02-11T15:02:36.560Z"
   },
   {
    "duration": 9,
    "start_time": "2023-02-11T15:02:39.999Z"
   },
   {
    "duration": 347,
    "start_time": "2023-02-11T15:02:40.010Z"
   },
   {
    "duration": 559,
    "start_time": "2023-02-11T15:02:40.359Z"
   },
   {
    "duration": 325,
    "start_time": "2023-02-11T15:02:40.920Z"
   },
   {
    "duration": 26,
    "start_time": "2023-02-11T15:02:41.248Z"
   },
   {
    "duration": 60,
    "start_time": "2023-02-11T15:02:41.276Z"
   },
   {
    "duration": 4,
    "start_time": "2023-02-11T15:02:41.342Z"
   },
   {
    "duration": 1807,
    "start_time": "2023-02-11T15:02:41.348Z"
   },
   {
    "duration": 219,
    "start_time": "2023-02-11T15:02:43.157Z"
   },
   {
    "duration": 336,
    "start_time": "2023-02-11T15:02:43.378Z"
   },
   {
    "duration": 29,
    "start_time": "2023-02-11T15:02:43.715Z"
   },
   {
    "duration": 144,
    "start_time": "2023-02-11T15:02:43.755Z"
   },
   {
    "duration": 64,
    "start_time": "2023-02-11T15:02:43.901Z"
   },
   {
    "duration": 656,
    "start_time": "2023-02-11T15:02:43.967Z"
   },
   {
    "duration": 11,
    "start_time": "2023-02-11T15:02:44.625Z"
   },
   {
    "duration": 580,
    "start_time": "2023-02-11T15:02:44.642Z"
   },
   {
    "duration": 179,
    "start_time": "2023-02-11T15:02:45.226Z"
   },
   {
    "duration": 218139,
    "start_time": "2023-02-11T15:02:45.407Z"
   },
   {
    "duration": 686,
    "start_time": "2023-02-11T15:06:23.553Z"
   },
   {
    "duration": 40215,
    "start_time": "2023-02-11T15:06:24.241Z"
   },
   {
    "duration": 208,
    "start_time": "2023-02-11T15:07:04.528Z"
   },
   {
    "duration": 6013,
    "start_time": "2023-02-11T15:07:04.738Z"
   },
   {
    "duration": 136,
    "start_time": "2023-02-11T15:07:10.753Z"
   },
   {
    "duration": 364467,
    "start_time": "2023-02-11T15:07:10.891Z"
   },
   {
    "duration": 998,
    "start_time": "2023-02-11T15:13:15.360Z"
   },
   {
    "duration": 4485,
    "start_time": "2023-02-11T15:13:16.360Z"
   },
   {
    "duration": 119,
    "start_time": "2023-02-11T15:13:20.850Z"
   },
   {
    "duration": 3,
    "start_time": "2023-02-11T15:19:11.883Z"
   },
   {
    "duration": 21,
    "start_time": "2023-02-11T15:19:12.818Z"
   },
   {
    "duration": 353176,
    "start_time": "2023-02-11T15:19:15.478Z"
   },
   {
    "duration": 832,
    "start_time": "2023-02-11T15:25:54.942Z"
   },
   {
    "duration": 1554,
    "start_time": "2023-02-20T12:37:44.811Z"
   }
  ],
  "kernelspec": {
   "display_name": "Python 3 (ipykernel)",
   "language": "python",
   "name": "python3"
  },
  "language_info": {
   "codemirror_mode": {
    "name": "ipython",
    "version": 3
   },
   "file_extension": ".py",
   "mimetype": "text/x-python",
   "name": "python",
   "nbconvert_exporter": "python",
   "pygments_lexer": "ipython3",
   "version": "3.9.12"
  },
  "toc": {
   "base_numbering": 1,
   "nav_menu": {},
   "number_sections": true,
   "sideBar": true,
   "skip_h1_title": true,
   "title_cell": "Table of Contents",
   "title_sidebar": "Contents",
   "toc_cell": false,
   "toc_position": {
    "height": "calc(100% - 180px)",
    "left": "10px",
    "top": "150px",
    "width": "286.075px"
   },
   "toc_section_display": true,
   "toc_window_display": true
  }
 },
 "nbformat": 4,
 "nbformat_minor": 2
}
